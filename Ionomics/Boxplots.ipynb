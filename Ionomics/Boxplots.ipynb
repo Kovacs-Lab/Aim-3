{
 "cells": [
  {
   "cell_type": "code",
   "execution_count": 1,
   "metadata": {},
   "outputs": [
    {
     "name": "stderr",
     "output_type": "stream",
     "text": [
      "Installing package into 'C:/Users/daeda/OneDrive/Documents/R/win-library/3.6'\n",
      "(as 'lib' is unspecified)\n",
      "\n"
     ]
    },
    {
     "name": "stdout",
     "output_type": "stream",
     "text": [
      "package 'viridis' successfully unpacked and MD5 sums checked\n",
      "\n",
      "The downloaded binary packages are in\n",
      "\tC:\\Users\\daeda\\AppData\\Local\\Temp\\Rtmpa2yLUG\\downloaded_packages\n"
     ]
    },
    {
     "name": "stderr",
     "output_type": "stream",
     "text": [
      "Loading required package: viridisLite\n",
      "\n",
      "Installing package into 'C:/Users/daeda/OneDrive/Documents/R/win-library/3.6'\n",
      "(as 'lib' is unspecified)\n",
      "\n"
     ]
    },
    {
     "name": "stdout",
     "output_type": "stream",
     "text": [
      "package 'missMDA' successfully unpacked and MD5 sums checked\n",
      "\n",
      "The downloaded binary packages are in\n",
      "\tC:\\Users\\daeda\\AppData\\Local\\Temp\\Rtmpa2yLUG\\downloaded_packages\n"
     ]
    },
    {
     "name": "stderr",
     "output_type": "stream",
     "text": [
      "Installing package into 'C:/Users/daeda/OneDrive/Documents/R/win-library/3.6'\n",
      "(as 'lib' is unspecified)\n",
      "\n"
     ]
    },
    {
     "name": "stdout",
     "output_type": "stream",
     "text": [
      "package 'factoextra' successfully unpacked and MD5 sums checked\n",
      "\n",
      "The downloaded binary packages are in\n",
      "\tC:\\Users\\daeda\\AppData\\Local\\Temp\\Rtmpa2yLUG\\downloaded_packages\n"
     ]
    },
    {
     "name": "stderr",
     "output_type": "stream",
     "text": [
      "Loading required package: ggplot2\n",
      "\n",
      "Welcome! Want to learn more? See two factoextra-related books at https://goo.gl/ve3WBa\n",
      "\n",
      "Installing package into 'C:/Users/daeda/OneDrive/Documents/R/win-library/3.6'\n",
      "(as 'lib' is unspecified)\n",
      "\n"
     ]
    },
    {
     "name": "stdout",
     "output_type": "stream",
     "text": [
      "package 'MASS' successfully unpacked and MD5 sums checked\n"
     ]
    },
    {
     "name": "stderr",
     "output_type": "stream",
     "text": [
      "Warning message:\n",
      "\"cannot remove prior installation of package 'MASS'\"\n",
      "Warning message in file.copy(savedcopy, lib, recursive = TRUE):\n",
      "\"problem copying C:\\Users\\daeda\\OneDrive\\Documents\\R\\win-library\\3.6\\00LOCK\\MASS\\libs\\x64\\MASS.dll to C:\\Users\\daeda\\OneDrive\\Documents\\R\\win-library\\3.6\\MASS\\libs\\x64\\MASS.dll: Permission denied\"\n",
      "Warning message:\n",
      "\"restored 'MASS'\"\n"
     ]
    },
    {
     "name": "stdout",
     "output_type": "stream",
     "text": [
      "\n",
      "The downloaded binary packages are in\n",
      "\tC:\\Users\\daeda\\AppData\\Local\\Temp\\Rtmpa2yLUG\\downloaded_packages\n"
     ]
    },
    {
     "name": "stderr",
     "output_type": "stream",
     "text": [
      "Installing package into 'C:/Users/daeda/OneDrive/Documents/R/win-library/3.6'\n",
      "(as 'lib' is unspecified)\n",
      "\n"
     ]
    },
    {
     "name": "stdout",
     "output_type": "stream",
     "text": [
      "package 'cowplot' successfully unpacked and MD5 sums checked\n",
      "\n",
      "The downloaded binary packages are in\n",
      "\tC:\\Users\\daeda\\AppData\\Local\\Temp\\Rtmpa2yLUG\\downloaded_packages\n"
     ]
    },
    {
     "name": "stderr",
     "output_type": "stream",
     "text": [
      "\n",
      "********************************************************\n",
      "\n",
      "Note: As of version 1.0.0, cowplot does not change the\n",
      "\n",
      "  default ggplot2 theme anymore. To recover the previous\n",
      "\n",
      "  behavior, execute:\n",
      "  theme_set(theme_cowplot())\n",
      "\n",
      "********************************************************\n",
      "\n",
      "\n",
      "Installing package into 'C:/Users/daeda/OneDrive/Documents/R/win-library/3.6'\n",
      "(as 'lib' is unspecified)\n",
      "\n"
     ]
    },
    {
     "name": "stdout",
     "output_type": "stream",
     "text": [
      "\n",
      "  There is a binary version available but the source version is later:\n",
      "        binary source needs_compilation\n",
      "ggplot2  3.2.1  3.3.0             FALSE\n",
      "\n"
     ]
    },
    {
     "name": "stderr",
     "output_type": "stream",
     "text": [
      "installing the source package 'ggplot2'\n",
      "\n",
      "\n",
      "Installing package into 'C:/Users/daeda/OneDrive/Documents/R/win-library/3.6'\n",
      "(as 'lib' is unspecified)\n",
      "\n"
     ]
    },
    {
     "name": "stdout",
     "output_type": "stream",
     "text": [
      "package 'ggfortify' successfully unpacked and MD5 sums checked\n",
      "\n",
      "The downloaded binary packages are in\n",
      "\tC:\\Users\\daeda\\AppData\\Local\\Temp\\Rtmpa2yLUG\\downloaded_packages\n"
     ]
    },
    {
     "name": "stderr",
     "output_type": "stream",
     "text": [
      "Installing package into 'C:/Users/daeda/OneDrive/Documents/R/win-library/3.6'\n",
      "(as 'lib' is unspecified)\n",
      "\n"
     ]
    },
    {
     "name": "stdout",
     "output_type": "stream",
     "text": [
      "package 'gridExtra' successfully unpacked and MD5 sums checked\n",
      "\n",
      "The downloaded binary packages are in\n",
      "\tC:\\Users\\daeda\\AppData\\Local\\Temp\\Rtmpa2yLUG\\downloaded_packages\n"
     ]
    },
    {
     "name": "stderr",
     "output_type": "stream",
     "text": [
      "Installing package into 'C:/Users/daeda/OneDrive/Documents/R/win-library/3.6'\n",
      "(as 'lib' is unspecified)\n",
      "\n",
      "Warning message:\n",
      "\"package 'pubr' is not available (for R version 3.6.3)\"\n"
     ]
    },
    {
     "ename": "ERROR",
     "evalue": "Error in library(\"pubr\"): there is no package called 'pubr'\n",
     "output_type": "error",
     "traceback": [
      "Error in library(\"pubr\"): there is no package called 'pubr'\nTraceback:\n",
      "1. library(\"pubr\")"
     ]
    }
   ],
   "source": [
    "install.packages(\"viridis\")\n",
    "library(\"viridis\")\n",
    "install.packages(\"missMDA\")\n",
    "library(\"missMDA\")\n",
    "install.packages(\"factoextra\")\n",
    "library(\"factoextra\")\n",
    "install.packages(\"MASS\")\n",
    "library(\"MASS\")\n",
    "install.packages(\"cowplot\")\n",
    "library(\"cowplot\")\n",
    "install.packages(\"ggplot2\")\n",
    "library(\"ggplot2\")\n",
    "install.packages(\"ggfortify\")\n",
    "library(\"ggfortify\")\n",
    "install.packages(\"gridExtra\")\n",
    "library(\"gridExtra\")\n",
    "install.packages(\"pubr\")\n",
    "library(\"pubr\")\n",
    "install.packages(\"ggarrange\")\n",
    "library(\"ggarrange\")"
   ]
  },
  {
   "cell_type": "code",
   "execution_count": 2,
   "metadata": {},
   "outputs": [],
   "source": [
    "#Centers all plot titles\n",
    "theme_update(plot.title = element_text(hjust = 0.5))"
   ]
  },
  {
   "cell_type": "code",
   "execution_count": 3,
   "metadata": {},
   "outputs": [],
   "source": [
    "#Centers all plot subtitles\n",
    "theme_update(plot.subtitle = element_text(hjust = 0.5))"
   ]
  },
  {
   "cell_type": "code",
   "execution_count": 4,
   "metadata": {},
   "outputs": [],
   "source": [
    "Elements <- read.csv(\"New_ionStats.csv\")"
   ]
  },
  {
   "cell_type": "code",
   "execution_count": 40,
   "metadata": {},
   "outputs": [
    {
     "data": {
      "image/png": "[encoded data removed]",
      "text/plain": [
       "plot without title"
      ]
     },
     "metadata": {
      "image/png": {
       "height": 420,
       "width": 420
      },
      "text/plain": {
       "height": 420,
       "width": 420
      }
     },
     "output_type": "display_data"
    }
   ],
   "source": [
    "#boron <- boxplot(B11~Spec_int) # Boxplots for Boron concentrations\n",
    "#boxplot(B11~Spec_int) #boron\n",
    "Elements$Spec_int = as.factor(Elements$Spec_int)\n",
    "boron <- ggplot(Elements, aes(x=Spec_int, y=B11)) + \n",
    "  geom_boxplot() +\n",
    "  labs(\n",
    "    title = \"Boron\",\n",
    "    subtitle = \"Boxplot for Boron Concentrations\",\n",
    "    x = \"Species\" \n",
    "    ) + \n",
    "    scale_x_discrete(labels=c(\"V. aestivalis\", \"V. acerifolia\", \"V. cinerea\", \"V. labrusca\", \"V. palmata\", \"V. riparia\",\n",
    "                              \"V. rupestris\", \"V. riparia\", \"V. riparia x rupestris\")) +\n",
    "    theme(axis.text.x = element_text(face = \"italic\", angle = 45, hjust = 1))\n",
    "boron"
   ]
  },
  {
   "cell_type": "code",
   "execution_count": 39,
   "metadata": {},
   "outputs": [
    {
     "data": {
      "image/png": "[encoded data removed]",
      "text/plain": [
       "plot without title"
      ]
     },
     "metadata": {
      "image/png": {
       "height": 420,
       "width": 420
      },
      "text/plain": {
       "height": 420,
       "width": 420
      }
     },
     "output_type": "display_data"
    }
   ],
   "source": [
    "#sodium <- boxplot(Na23~Spec_int) # Boxplots for sodium concentrations\n",
    "#boxplot(Na23~Spec_int) #sodium\n",
    "sodium <- ggplot(Elements, aes(group=Spec_int, y=Na23)) + \n",
    "  geom_boxplot() +\n",
    "  labs(\n",
    "    title = \"Sodium\",\n",
    "    subtitle = \"Boxplot for Sodium Concentrations\",\n",
    "    x = \"Species\" \n",
    "    )\n",
    "sodium"
   ]
  },
  {
   "cell_type": "code",
   "execution_count": null,
   "metadata": {},
   "outputs": [],
   "source": [
    "#magnesium <- boxplot(Mg26~Spec_int) # Boxplots of magnesium concentraions\n",
    "#boxplot(Mg26~Spec_int) #magnesium\n",
    "magnesium <- ggplot(Elements, aes(group=Spec_int, y=Mg26)) + \n",
    "  geom_boxplot() +\n",
    "  labs(\n",
    "    title = \"Magnesium\",\n",
    "    subtitle = \"Boxplot for Magnesium Concentrations\",\n",
    "    x = \"Species\" \n",
    "    )\n",
    "magnesium"
   ]
  },
  {
   "cell_type": "code",
   "execution_count": null,
   "metadata": {},
   "outputs": [],
   "source": [
    "#aluminum <- boxplot(Al27~Spec_int) # Boxplots of aluminum concentraions\n",
    "#boxplot(Al27~Spec_int) #aluminum\n",
    "aluminum <- ggplot(Elements, aes(group=Spec_int, y=Al27)) + \n",
    "  geom_boxplot() +\n",
    "  labs(\n",
    "    title = \"Aluminum\",\n",
    "    subtitle = \"Boxplot for Aluminum Concentrations\",\n",
    "    x = \"Species\" \n",
    "    )\n",
    "aluminum"
   ]
  },
  {
   "cell_type": "code",
   "execution_count": null,
   "metadata": {},
   "outputs": [],
   "source": [
    "#phosphorus <- boxplot(P31~Spec_int) # Boxplots of phosphorus concentraions\n",
    "#boxplot(P31~Spec_int) #phosphorus\n",
    "phosphorus <- ggplot(Elements, aes(group=Spec_int, y=P31)) + \n",
    "  geom_boxplot() +\n",
    "  labs(\n",
    "    title = \"Phosphorus\",\n",
    "    subtitle = \"Boxplot for Phosphorus Concentrations\",\n",
    "    x = \"Species\" \n",
    "    )\n",
    "phosphorus"
   ]
  },
  {
   "cell_type": "code",
   "execution_count": null,
   "metadata": {},
   "outputs": [],
   "source": [
    "#sulfur <- boxplot(S34~Spec_int) # Boxplots of sulfur concentraions\n",
    "#boxplot(S34~Spec_int) #sulfur\n",
    "sulfur <- ggplot(Elements, aes(group=Spec_int, y=S34)) + \n",
    "  geom_boxplot() +\n",
    "  labs(\n",
    "    title = \"Sulfur\",\n",
    "    subtitle = \"Boxplot for Sulfur Concentrations\",\n",
    "    x = \"Species\" \n",
    "    )\n",
    "sulfur"
   ]
  },
  {
   "cell_type": "code",
   "execution_count": null,
   "metadata": {},
   "outputs": [],
   "source": [
    "#potassium <- boxplot(K39~Spec_int) # Boxplots of potassium concentraions\n",
    "#boxplot(K39~Spec_int) #potassium\n",
    "potassium <- ggplot(Elements, aes(group=Spec_int, y=K39)) + \n",
    "  geom_boxplot() +\n",
    "  labs(\n",
    "    title = \"Potassium\",\n",
    "    subtitle = \"Boxplot for Potassium Concentrations\",\n",
    "    x = \"Species\" \n",
    "    )\n",
    "potassium "
   ]
  },
  {
   "cell_type": "code",
   "execution_count": null,
   "metadata": {},
   "outputs": [],
   "source": [
    "#calcium <- boxplot(=Ca44~=Spec_int) # Boxplots of calcium concentraions\n",
    "#boxplot(=Ca44~=Spec_int) #calcium\n",
    "calcium <- ggplot(Elements, aes(group=Spec_int, y=Ca44)) + \n",
    "  geom_boxplot() +\n",
    "  labs(\n",
    "    title = \"Calcium\",\n",
    "    subtitle = \"Boxplot for Calcium Concentrations\",\n",
    "    x = \"Species\" \n",
    "    )\n",
    "calcium"
   ]
  },
  {
   "cell_type": "code",
   "execution_count": null,
   "metadata": {},
   "outputs": [],
   "source": [
    "#iron <- boxplot(Fe54~Spec_int) # Boxplots of iron concentraions\n",
    "#boxplot(Fe54~Spec_int) #iron\n",
    "iron <- ggplot(Elements, aes(group=Spec_int, y=Fe54)) + \n",
    "  geom_boxplot() +\n",
    "  labs(\n",
    "    title = \"Iron\",\n",
    "    subtitle = \"Boxplot for Iron Concentrations\",\n",
    "    x = \"Species\" \n",
    "    )\n",
    "iron"
   ]
  },
  {
   "cell_type": "code",
   "execution_count": null,
   "metadata": {},
   "outputs": [],
   "source": [
    "#manganese <- boxplot(Mn55~Spec_int) # Boxplots of manganese concentraions\n",
    "#boxplot(Mn55~Spec_int) #manganese\n",
    "manganese <- ggplot(Elements, aes(group=Spec_int, y=Mn55)) + \n",
    "  geom_boxplot() +\n",
    "  labs(\n",
    "    title = \"Manganese\",\n",
    "    subtitle = \"Boxplot for Manganese Concentrations\",\n",
    "    x = \"Species\" \n",
    "    )\n",
    "manganese"
   ]
  },
  {
   "cell_type": "code",
   "execution_count": null,
   "metadata": {},
   "outputs": [],
   "source": [
    "#cobalt <- boxplot(Co59~Spec_int) # Boxplots of cobalt concentraions\n",
    "#boxplot(Co59~Spec_int) #cobalt\n",
    "cobalt <- ggplot(Elements, aes(group=Spec_int, y=Co59)) + \n",
    "  geom_boxplot() +\n",
    "  labs(\n",
    "    title = \"Cobolt\",\n",
    "    subtitle = \"Boxplot for Cobolt Concentrations\",\n",
    "    x = \"Species\" \n",
    "    )\n",
    "cobalt"
   ]
  },
  {
   "cell_type": "code",
   "execution_count": null,
   "metadata": {},
   "outputs": [],
   "source": [
    "#nickel <- boxplot(Ni60~Spec_int) # Boxplots of nickel concentraions\n",
    "#boxplot(Ni60~Spec_int) #nickel\n",
    "nickel <- ggplot(Elements, aes(group=Spec_int, y=Ni60)) + \n",
    "  geom_boxplot() +\n",
    "  labs(\n",
    "    title = \"Nickel\",\n",
    "    subtitle = \"Boxplot for Nickel Concentrations\",\n",
    "    x = \"Species\" \n",
    "    )\n",
    "nickel"
   ]
  },
  {
   "cell_type": "code",
   "execution_count": null,
   "metadata": {},
   "outputs": [],
   "source": [
    "#copper <- boxplot(Cu63~Spec_int) # Boxplots of copper concentraions\n",
    "#boxplot(Cu63~Spec_int) #copper\n",
    "copper <- ggplot(Elements, aes(group=Spec_int, y=Cu63)) + \n",
    "  geom_boxplot() +\n",
    "  labs(\n",
    "    title = \"Copper\",\n",
    "    subtitle = \"Boxplot for Copper Concentrations\",\n",
    "    x = \"Species\" \n",
    "    )\n",
    "copper"
   ]
  },
  {
   "cell_type": "code",
   "execution_count": null,
   "metadata": {},
   "outputs": [],
   "source": [
    "#zinc <- boxplot(Zn66~Spec_int) # Boxplots of zinc concentraions\n",
    "#boxplot(Zn66~ESpec_int) #zinc\n",
    "zinc <- ggplot(Elements, aes(group=Spec_int, y=Zn66)) + \n",
    "  geom_boxplot() +\n",
    "  labs(\n",
    "    title = \"Zinc\",\n",
    "    subtitle = \"Boxplot for Zinc Concentrations\",\n",
    "    x = \"Species\" \n",
    "    )\n",
    "zinc"
   ]
  },
  {
   "cell_type": "code",
   "execution_count": null,
   "metadata": {},
   "outputs": [],
   "source": [
    "#arsenic <- boxplot(As75~Spec_int) # Boxplots of arsenic concentraions\n",
    "#boxplot(As75~Spec_int) #arsenic\n",
    "arsenic <- ggplot(Elements, aes(group=Spec_int, y=As75)) + \n",
    "  geom_boxplot() +\n",
    "  labs(\n",
    "    title = \"Arsenic\",\n",
    "    subtitle = \"Boxplot for Arsenic Concentrations\",\n",
    "    x = \"Species\" \n",
    "    )\n",
    "arsenic"
   ]
  },
  {
   "cell_type": "code",
   "execution_count": null,
   "metadata": {},
   "outputs": [],
   "source": [
    "#rubidium <- boxplot(Rb85~Spec_int) # Boxplots of rubidium concentraions\n",
    "#boxplot(Rb85~Spec_int) #rubidium\n",
    "rubidium <- ggplot(Elements, aes(group=Spec_int, y=Rb85)) + \n",
    "  geom_boxplot() +\n",
    "  labs(\n",
    "    title = \"Rubidium\",\n",
    "    subtitle = \"Boxplot for Rubidium Concentrations\",\n",
    "    x = \"Species\" \n",
    "    )\n",
    "rubidium"
   ]
  },
  {
   "cell_type": "code",
   "execution_count": null,
   "metadata": {},
   "outputs": [],
   "source": [
    "#strontium <- boxplot(Sr88~Spec_int) # Boxplots of strontium concentraions\n",
    "#boxplot(Sr88~Spec_int) #strontium\n",
    "strontium <- ggplot(Elements, aes(group=Spec_int, y=Sr88)) + \n",
    "  geom_boxplot() +\n",
    "  labs(\n",
    "    title = \"Strontium\",\n",
    "    subtitle = \"Boxplot for Strontium Concentrations\",\n",
    "    x = \"Species\" \n",
    "    )\n",
    "strontium"
   ]
  },
  {
   "cell_type": "code",
   "execution_count": null,
   "metadata": {},
   "outputs": [],
   "source": [
    "#molybdenum <- boxplot(Mo98~Spec_int) # Boxplots of molybdenum concentraions\n",
    "#boxplot(Mo98~Spec_int) #molybdenum\n",
    "molybdenum <- ggplot(Elements, aes(group=Spec_int, y=Mo98)) + \n",
    "  geom_boxplot() +\n",
    "  labs(\n",
    "    title = \"Molybdenum\",\n",
    "    subtitle = \"Boxplot for Molybdenum Concentrations\",\n",
    "    x = \"Species\" \n",
    "    )\n",
    "molybdenum"
   ]
  },
  {
   "cell_type": "code",
   "execution_count": null,
   "metadata": {},
   "outputs": [],
   "source": [
    "#cadmium <- boxplot(Cd111~Spec_int) # Boxplots of cadmium concentraions\n",
    "#boxplot(Cd111~Spec_int) #cadmium\n",
    "cadmium <- ggplot(Elements, aes(group=Spec_int, y=Cd111)) + \n",
    "  geom_boxplot() +\n",
    "  labs(\n",
    "    title = \"Cadmium\",\n",
    "    subtitle = \"Boxplot for Cadmium Concentrations\",\n",
    "    x = \"Species\" \n",
    "    )\n",
    "cadmium"
   ]
  },
  {
   "cell_type": "code",
   "execution_count": null,
   "metadata": {},
   "outputs": [],
   "source": [
    "figure <- ggarrange(boron, sodium, magnesium, aluminum, phosphorus, \n",
    "                    sulfur, potassium, calcium, iron, manganese, \n",
    "                    cobalt, nickel, copper, zinc, arsenic, rubidium, \n",
    "                    strontium, molybdenum, cadmium,\n",
    "                                   labels = c(\"Boron\", \"Sodium\", \"Magnesium\", \"Aluminum\",\n",
    "                                              \"Phosphorus\", \"Sulfur\", \"Potassium\",\n",
    "                                              \"Calcium\", \"Iron\", \"Manganese\", \"Cobalt\",\n",
    "                                              \"Nickel\", \"Copper\", \"Zinc\", \"Arsenic\",\n",
    "                                              \"Rubidium\", \"Strontium\", \"Molybdenum\", \n",
    "                                              \"Cadmium\"),\n",
    "                    ncol = 4, nrow = 5)\n",
    "figure  "
   ]
  },
  {
   "cell_type": "code",
   "execution_count": null,
   "metadata": {},
   "outputs": [],
   "source": []
  },
  {
   "cell_type": "code",
   "execution_count": null,
   "metadata": {},
   "outputs": [],
   "source": []
  }
 ],
 "metadata": {
  "kernelspec": {
   "display_name": "R",
   "language": "R",
   "name": "ir"
  },
  "language_info": {
   "codemirror_mode": "r",
   "file_extension": ".r",
   "mimetype": "text/x-r-source",
   "name": "R",
   "pygments_lexer": "r",
   "version": "3.6.3"
  }
 },
 "nbformat": 4,
 "nbformat_minor": 4
}
