{
 "cells": [
  {
   "cell_type": "code",
   "execution_count": 2,
   "metadata": {},
   "outputs": [
    {
     "name": "stderr",
     "output_type": "stream",
     "text": [
      "Installing package into 'C:/Users/daeda/OneDrive/Documents/R/win-library/3.6'\n",
      "(as 'lib' is unspecified)\n",
      "\n",
      "Warning message:\n",
      "\"package 'viridis' is in use and will not be installed\"\n",
      "Installing package into 'C:/Users/daeda/OneDrive/Documents/R/win-library/3.6'\n",
      "(as 'lib' is unspecified)\n",
      "\n",
      "Warning message:\n",
      "\"package 'missMDA' is in use and will not be installed\"\n",
      "Installing package into 'C:/Users/daeda/OneDrive/Documents/R/win-library/3.6'\n",
      "(as 'lib' is unspecified)\n",
      "\n",
      "Warning message:\n",
      "\"package 'factoextra' is in use and will not be installed\"\n",
      "Installing package into 'C:/Users/daeda/OneDrive/Documents/R/win-library/3.6'\n",
      "(as 'lib' is unspecified)\n",
      "\n",
      "Warning message:\n",
      "\"package 'MASS' is in use and will not be installed\"\n",
      "Installing package into 'C:/Users/daeda/OneDrive/Documents/R/win-library/3.6'\n",
      "(as 'lib' is unspecified)\n",
      "\n",
      "Warning message:\n",
      "\"package 'cowplot' is in use and will not be installed\"\n",
      "Installing package into 'C:/Users/daeda/OneDrive/Documents/R/win-library/3.6'\n",
      "(as 'lib' is unspecified)\n",
      "\n"
     ]
    },
    {
     "name": "stdout",
     "output_type": "stream",
     "text": [
      "\n",
      "  There is a binary version available but the source version is later:\n",
      "        binary source needs_compilation\n",
      "ggplot2  3.2.1  3.3.0             FALSE\n",
      "\n"
     ]
    },
    {
     "name": "stderr",
     "output_type": "stream",
     "text": [
      "installing the source package 'ggplot2'\n",
      "\n",
      "\n",
      "Installing package into 'C:/Users/daeda/OneDrive/Documents/R/win-library/3.6'\n",
      "(as 'lib' is unspecified)\n",
      "\n"
     ]
    },
    {
     "name": "stdout",
     "output_type": "stream",
     "text": [
      "package 'ggfortify' successfully unpacked and MD5 sums checked\n",
      "\n",
      "The downloaded binary packages are in\n",
      "\tC:\\Users\\daeda\\AppData\\Local\\Temp\\RtmpQDpUw2\\downloaded_packages\n"
     ]
    },
    {
     "name": "stderr",
     "output_type": "stream",
     "text": [
      "Installing package into 'C:/Users/daeda/OneDrive/Documents/R/win-library/3.6'\n",
      "(as 'lib' is unspecified)\n",
      "\n"
     ]
    },
    {
     "name": "stdout",
     "output_type": "stream",
     "text": [
      "package 'gridExtra' successfully unpacked and MD5 sums checked\n",
      "\n",
      "The downloaded binary packages are in\n",
      "\tC:\\Users\\daeda\\AppData\\Local\\Temp\\RtmpQDpUw2\\downloaded_packages\n"
     ]
    }
   ],
   "source": [
    "install.packages(\"viridis\")\n",
    "library(\"viridis\")\n",
    "install.packages(\"missMDA\")\n",
    "library(\"missMDA\")\n",
    "install.packages(\"factoextra\")\n",
    "library(\"factoextra\")\n",
    "install.packages(\"MASS\")\n",
    "library(\"MASS\")\n",
    "install.packages(\"cowplot\")\n",
    "library(\"cowplot\")\n",
    "install.packages(\"ggplot2\")\n",
    "library(\"ggplot2\")\n",
    "install.packages(\"ggfortify\")\n",
    "library(\"ggfortify\")\n",
    "install.packages(\"gridExtra\")\n",
    "library(\"gridExtra\")"
   ]
  },
  {
   "cell_type": "code",
   "execution_count": 41,
   "metadata": {},
   "outputs": [],
   "source": [
    "#Centers all plot titles\n",
    "theme_update(plot.title = element_text(hjust = 0.5))"
   ]
  },
  {
   "cell_type": "code",
   "execution_count": 42,
   "metadata": {},
   "outputs": [],
   "source": [
    "#Centers all plot subtitles\n",
    "theme_update(plot.subtitle = element_text(hjust = 0.5))"
   ]
  },
  {
   "cell_type": "code",
   "execution_count": 43,
   "metadata": {},
   "outputs": [],
   "source": [
    "Elements <- read.csv(\"New_ionStats.csv\")"
   ]
  },
  {
   "cell_type": "code",
   "execution_count": 65,
   "metadata": {},
   "outputs": [
    {
     "data": {
      "image/png": "[encoded data removed]",
      "text/plain": [
       "plot without title"
      ]
     },
     "metadata": {
      "image/png": {
       "height": 420,
       "width": 420
      },
      "text/plain": {
       "height": 420,
       "width": 420
      }
     },
     "output_type": "display_data"
    }
   ],
   "source": [
    "#boron <- boxplot(B11~Spec_int) # Boxplots for Boron concentrations\n",
    "#boxplot(B11~Spec_int) #boron\n",
    "boron <- ggplot(Elements, aes(group=Spec_int, y=B11)) + \n",
    "  geom_boxplot() +\n",
    "  labs(\n",
    "    title = \"Boron\",\n",
    "    subtitle = \"Boxplots for Boron Concentrations\",\n",
    "    x = \"Species\" \n",
    "    ) \n",
    "boron"
   ]
  },
  {
   "cell_type": "code",
   "execution_count": null,
   "metadata": {},
   "outputs": [],
   "source": [
    "#sodium <- boxplot(Elements$Na23~Elements$Spec_int) # Boxplots for sodium concentrations\n",
    "boxplot(Elements$Na23~Elements$Spec_int) #sodium\n",
    "sodium <- ggplot(Elements, aes(group=Elements$Spec_int, y=Elements$Na23)) + \n",
    "  geom_boxplot()\n",
    "sodium"
   ]
  },
  {
   "cell_type": "code",
   "execution_count": null,
   "metadata": {},
   "outputs": [],
   "source": [
    "#magnesium <- boxplot(Elements$Mg26~Elements$Spec_int) # Boxplots of magnesium concentraions\n",
    "boxplot(Elements$Mg26~Elements$Spec_int) #magnesium\n",
    "magnesium <- ggplot(Elements, aes(group=Elements$Spec_int, y=Elements$Mg26)) + \n",
    "  geom_boxplot()\n",
    "magnesium"
   ]
  },
  {
   "cell_type": "code",
   "execution_count": null,
   "metadata": {},
   "outputs": [],
   "source": [
    "#aluminum <- boxplot(Elements$Al27~Elements$Spec_int) # Boxplots of aluminum concentraions\n",
    "boxplot(Elements$Al27~Elements$Spec_int) #aluminum\n",
    "aluminum <- ggplot(Elements, aes(group=Elements$Spec_int, y=Elements$Al27)) + \n",
    "  geom_boxplot()\n",
    "aluminum"
   ]
  },
  {
   "cell_type": "code",
   "execution_count": null,
   "metadata": {},
   "outputs": [],
   "source": [
    "#phosphorus <- boxplot(Elements$P31~Elements$Spec_int) # Boxplots of phosphorus concentraions\n",
    "boxplot(Elements$P31~Elements$Spec_int) #phosphorus\n",
    "phosphorus <- ggplot(Elements, aes(group=Elements$Spec_int, y=Elements$P31)) + \n",
    "  geom_boxplot()\n",
    "phosphorus"
   ]
  },
  {
   "cell_type": "code",
   "execution_count": null,
   "metadata": {},
   "outputs": [],
   "source": [
    "#sulfur <- boxplot(Elements$S34~Elements$Spec_int) # Boxplots of sulfur concentraions\n",
    "boxplot(Elements$S34~Elements$Spec_int) #sulfur\n",
    "sulfur <- ggplot(Elements, aes(group=Elements$Spec_int, y=Elements$S34)) + \n",
    "  geom_boxplot()\n",
    "sulfur"
   ]
  },
  {
   "cell_type": "code",
   "execution_count": null,
   "metadata": {},
   "outputs": [],
   "source": [
    "#potassium <- boxplot(Elements$K39~Elements$Spec_int) # Boxplots of potassium concentraions\n",
    "boxplot(Elements$K39~Elements$Spec_int) #potassium\n",
    "potassium <- ggplot(Elements, aes(group=Elements$Spec_int, y=Elements$K39)) + \n",
    "  geom_boxplot()\n",
    "potassium "
   ]
  },
  {
   "cell_type": "code",
   "execution_count": null,
   "metadata": {},
   "outputs": [],
   "source": [
    "#calcium <- boxplot(Elements$Ca44~Elements$Spec_int) # Boxplots of calcium concentraions\n",
    "boxplot(Elements$Ca44~Elements$Spec_int) #calcium\n",
    "calcium <- ggplot(Elements, aes(group=Elements$Spec_int, y=Elements$Ca44)) + \n",
    "  geom_boxplot()\n",
    "calcium"
   ]
  },
  {
   "cell_type": "code",
   "execution_count": null,
   "metadata": {},
   "outputs": [],
   "source": [
    "#iron <- boxplot(Elements$Fe54~Elements$Spec_int) # Boxplots of iron concentraions\n",
    "boxplot(Elements$Fe54~Elements$Spec_int) #iron\n",
    "iron <- ggplot(Elements, aes(group=Elements$Spec_int, y=Elements$Fe54)) + \n",
    "  geom_boxplot()\n",
    "iron"
   ]
  },
  {
   "cell_type": "code",
   "execution_count": null,
   "metadata": {},
   "outputs": [],
   "source": [
    "#manganese <- boxplot(Elements$Mn55~Elements$Spec_int) # Boxplots of manganese concentraions\n",
    "boxplot(Elements$Mn55~Elements$Spec_int) #manganese\n",
    "manganese <- ggplot(Elements, aes(group=Elements$Spec_int, y=Elements$Mn55)) + \n",
    "  geom_boxplot()\n",
    "manganese"
   ]
  },
  {
   "cell_type": "code",
   "execution_count": null,
   "metadata": {},
   "outputs": [],
   "source": [
    "#cobalt <- boxplot(Elements$Co59~Elements$Spec_int) # Boxplots of cobalt concentraions\n",
    "boxplot(Elements$Co59~Elements$Spec_int) #cobalt\n",
    "cobalt <- ggplot(Elements, aes(group=Elements$Spec_int, y=Elements$Co59)) + \n",
    "  geom_boxplot()\n",
    "cobalt"
   ]
  },
  {
   "cell_type": "code",
   "execution_count": null,
   "metadata": {},
   "outputs": [],
   "source": [
    "#nickel <- boxplot(Elements$Ni60~Elements$Spec_int) # Boxplots of nickel concentraions\n",
    "boxplot(Elements$Ni60~Elements$Spec_int) #nickel\n",
    "nickel <- ggplot(Elements, aes(group=Elements$Spec_int, y=Elements$Ni60)) + \n",
    "  geom_boxplot()\n",
    "nickel"
   ]
  },
  {
   "cell_type": "code",
   "execution_count": null,
   "metadata": {},
   "outputs": [],
   "source": [
    "#copper <- boxplot(Elements$Cu63~Elements$Spec_int) # Boxplots of copper concentraions\n",
    "boxplot(Elements$Cu63~Elements$Spec_int) #copper\n",
    "copper <- ggplot(Elements, aes(group=Elements$Spec_int, y=Elements$Cu63)) + \n",
    "  geom_boxplot()\n",
    "copper"
   ]
  },
  {
   "cell_type": "code",
   "execution_count": null,
   "metadata": {},
   "outputs": [],
   "source": [
    "#zinc <- boxplot(Elements$Zn66~Elements$Spec_int) # Boxplots of zinc concentraions\n",
    "boxplot(Elements$Zn66~Elements$Spec_int) #zinc\n",
    "zinc <- ggplot(Elements, aes(group=Elements$Spec_int, y=Elements$Zn66)) + \n",
    "  geom_boxplot()\n",
    "zinc"
   ]
  },
  {
   "cell_type": "code",
   "execution_count": null,
   "metadata": {},
   "outputs": [],
   "source": [
    "#arsenic <- boxplot(Elements$As75~Elements$Spec_int) # Boxplots of arsenic concentraions\n",
    "boxplot(Elements$As75~Elements$Spec_int) #arsenic\n",
    "arsenic <- ggplot(Elements, aes(group=Elements$Spec_int, y=Elements$As75)) + \n",
    "  geom_boxplot()\n",
    "arsenic"
   ]
  },
  {
   "cell_type": "code",
   "execution_count": null,
   "metadata": {},
   "outputs": [],
   "source": [
    "#rubidium <- boxplot(Elements$Rb85~Elements$Spec_int) # Boxplots of rubidium concentraions\n",
    "boxplot(Elements$Rb85~Elements$Spec_int) #rubidium\n",
    "rubidium <- ggplot(Elements, aes(group=Elements$Spec_int, y=Elements$Rb85)) + \n",
    "  geom_boxplot()\n",
    "rubidium"
   ]
  },
  {
   "cell_type": "code",
   "execution_count": null,
   "metadata": {},
   "outputs": [],
   "source": [
    "#strontium <- boxplot(Elements$Sr88~Elements$Spec_int) # Boxplots of strontium concentraions\n",
    "boxplot(Elements$Sr88~Elements$Spec_int) #strontium\n",
    "strontium <- ggplot(Elements, aes(group=Elements$Spec_int, y=Elements$Sr88)) + \n",
    "  geom_boxplot()\n",
    "strontium"
   ]
  },
  {
   "cell_type": "code",
   "execution_count": null,
   "metadata": {},
   "outputs": [],
   "source": [
    "#boxplot(Elements$Mo98~Elements$Spec_int) # Boxplots of molybdenum concentraions\n",
    "boxplot(Elements$Mo98~Elements$Spec_int) #molybdenum\n",
    "molybdenum <- ggplot(Elements, aes(group=Elements$Spec_int, y=Elements$Mo98)) + \n",
    "  geom_boxplot()\n",
    "molybdenum"
   ]
  },
  {
   "cell_type": "code",
   "execution_count": null,
   "metadata": {},
   "outputs": [],
   "source": [
    "#cadmium <- boxplot(Elements$Cd111~Elements$Spec_int) # Boxplots of cadmium concentraions\n",
    "boxplot(Elements$Cd111~Elements$Spec_int) #cadmium\n",
    "    ggtitle(\"Cadmium\")+\n",
    "    theme(plot.title = element_text(hjust = 0.5))\n",
    "cadmium <- ggplot(Elements, aes(group=Elements$Spec_int, y=Elements$Cd111)) + \n",
    "  geom_boxplot()\n",
    "cadmium"
   ]
  },
  {
   "cell_type": "code",
   "execution_count": null,
   "metadata": {},
   "outputs": [],
   "source": [
    "figure <- ggarrange(boron, sodium, magnesium, aluminum, phosphorus, \n",
    "                    sulfur, potassium, calcium, iron, manganese, \n",
    "                    cobalt, nickel, copper, zinc, arsenic, rubidium, \n",
    "                    strontium, molybdenum, cadmium,\n",
    "                                   labels = c(\"Boron\", \"Sodium\", \"Magnesium\", \"Aluminum\",\n",
    "                                              \"Phosphorus\", \"Sulfur\", \"Potassium\",\n",
    "                                              \"Calcium\", \"Iron\", \"Manganese\", \"Cobalt\",\n",
    "                                              \"Nickel\", \"Copper\", \"Zinc\", \"Arsenic\",\n",
    "                                              \"Rubidium\", \"Strontium\", \"Molybdenum\", \n",
    "                                              \"Cadmium\"),\n",
    "                    ncol = 4, nrow = 5)\n",
    "figure  "
   ]
  },
  {
   "cell_type": "code",
   "execution_count": null,
   "metadata": {},
   "outputs": [],
   "source": []
  },
  {
   "cell_type": "code",
   "execution_count": null,
   "metadata": {},
   "outputs": [],
   "source": []
  }
 ],
 "metadata": {
  "kernelspec": {
   "display_name": "R",
   "language": "R",
   "name": "ir"
  },
  "language_info": {
   "codemirror_mode": "r",
   "file_extension": ".r",
   "mimetype": "text/x-r-source",
   "name": "R",
   "pygments_lexer": "r",
   "version": "3.6.3"
  }
 },
 "nbformat": 4,
 "nbformat_minor": 4
}
