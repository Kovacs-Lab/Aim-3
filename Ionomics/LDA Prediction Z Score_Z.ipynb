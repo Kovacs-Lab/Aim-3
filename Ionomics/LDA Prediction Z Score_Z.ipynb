{
 "cells": [
  {
   "cell_type": "code",
   "execution_count": 1,
   "metadata": {},
   "outputs": [
    {
     "name": "stderr",
     "output_type": "stream",
     "text": [
      "Installing package into 'C:/Users/2198K/Documents/R/win-library/3.6'\n",
      "(as 'lib' is unspecified)\n",
      "\n"
     ]
    },
    {
     "name": "stdout",
     "output_type": "stream",
     "text": [
      "package 'MASS' successfully unpacked and MD5 sums checked\n"
     ]
    },
    {
     "name": "stderr",
     "output_type": "stream",
     "text": [
      "Warning message:\n",
      "\"cannot remove prior installation of package 'MASS'\"\n",
      "Warning message in file.copy(savedcopy, lib, recursive = TRUE):\n",
      "\"problem copying C:\\Users\\2198K\\Documents\\R\\win-library\\3.6\\00LOCK\\MASS\\libs\\x64\\MASS.dll to C:\\Users\\2198K\\Documents\\R\\win-library\\3.6\\MASS\\libs\\x64\\MASS.dll: Permission denied\"\n",
      "Warning message:\n",
      "\"restored 'MASS'\"\n"
     ]
    },
    {
     "name": "stdout",
     "output_type": "stream",
     "text": [
      "\n",
      "The downloaded binary packages are in\n",
      "\tC:\\Users\\2198K\\AppData\\Local\\Temp\\RtmpUtCIBf\\downloaded_packages\n"
     ]
    },
    {
     "name": "stderr",
     "output_type": "stream",
     "text": [
      "Warning message:\n",
      "\"package 'MASS' was built under R version 3.6.2\"\n",
      "Installing package into 'C:/Users/2198K/Documents/R/win-library/3.6'\n",
      "(as 'lib' is unspecified)\n",
      "\n"
     ]
    },
    {
     "name": "stdout",
     "output_type": "stream",
     "text": [
      "package 'missMDA' successfully unpacked and MD5 sums checked\n",
      "\n",
      "The downloaded binary packages are in\n",
      "\tC:\\Users\\2198K\\AppData\\Local\\Temp\\RtmpUtCIBf\\downloaded_packages\n"
     ]
    },
    {
     "name": "stderr",
     "output_type": "stream",
     "text": [
      "Warning message:\n",
      "\"package 'missMDA' was built under R version 3.6.2\"\n",
      "Installing package into 'C:/Users/2198K/Documents/R/win-library/3.6'\n",
      "(as 'lib' is unspecified)\n",
      "\n"
     ]
    },
    {
     "name": "stdout",
     "output_type": "stream",
     "text": [
      "package 'tidyverse' successfully unpacked and MD5 sums checked\n",
      "\n",
      "The downloaded binary packages are in\n",
      "\tC:\\Users\\2198K\\AppData\\Local\\Temp\\RtmpUtCIBf\\downloaded_packages\n"
     ]
    },
    {
     "name": "stderr",
     "output_type": "stream",
     "text": [
      "Warning message:\n",
      "\"package 'tidyverse' was built under R version 3.6.2\"\n",
      "-- \u001b[1mAttaching packages\u001b[22m --------------------------------------- tidyverse 1.3.0 --\n",
      "\n",
      "\u001b[32mv\u001b[39m \u001b[34mggplot2\u001b[39m 3.2.1     \u001b[32mv\u001b[39m \u001b[34mpurrr  \u001b[39m 0.3.3\n",
      "\u001b[32mv\u001b[39m \u001b[34mtibble \u001b[39m 2.1.3     \u001b[32mv\u001b[39m \u001b[34mdplyr  \u001b[39m 0.8.4\n",
      "\u001b[32mv\u001b[39m \u001b[34mtidyr  \u001b[39m 1.0.2     \u001b[32mv\u001b[39m \u001b[34mstringr\u001b[39m 1.4.0\n",
      "\u001b[32mv\u001b[39m \u001b[34mreadr  \u001b[39m 1.3.1     \u001b[32mv\u001b[39m \u001b[34mforcats\u001b[39m 0.4.0\n",
      "\n",
      "Warning message:\n",
      "\"package 'tidyr' was built under R version 3.6.2\"\n",
      "Warning message:\n",
      "\"package 'readr' was built under R version 3.6.2\"\n",
      "Warning message:\n",
      "\"package 'dplyr' was built under R version 3.6.2\"\n",
      "Warning message:\n",
      "\"package 'forcats' was built under R version 3.6.2\"\n",
      "-- \u001b[1mConflicts\u001b[22m ------------------------------------------ tidyverse_conflicts() --\n",
      "\u001b[31mx\u001b[39m \u001b[34mdplyr\u001b[39m::\u001b[32mfilter()\u001b[39m masks \u001b[34mstats\u001b[39m::filter()\n",
      "\u001b[31mx\u001b[39m \u001b[34mdplyr\u001b[39m::\u001b[32mlag()\u001b[39m    masks \u001b[34mstats\u001b[39m::lag()\n",
      "\u001b[31mx\u001b[39m \u001b[34mdplyr\u001b[39m::\u001b[32mselect()\u001b[39m masks \u001b[34mMASS\u001b[39m::select()\n",
      "\n",
      "Installing package into 'C:/Users/2198K/Documents/R/win-library/3.6'\n",
      "(as 'lib' is unspecified)\n",
      "\n"
     ]
    },
    {
     "name": "stdout",
     "output_type": "stream",
     "text": [
      "package 'caret' successfully unpacked and MD5 sums checked\n"
     ]
    },
    {
     "name": "stderr",
     "output_type": "stream",
     "text": [
      "Warning message:\n",
      "\"cannot remove prior installation of package 'caret'\"\n",
      "Warning message in file.copy(savedcopy, lib, recursive = TRUE):\n",
      "\"problem copying C:\\Users\\2198K\\Documents\\R\\win-library\\3.6\\00LOCK\\caret\\libs\\x64\\caret.dll to C:\\Users\\2198K\\Documents\\R\\win-library\\3.6\\caret\\libs\\x64\\caret.dll: Permission denied\"\n",
      "Warning message:\n",
      "\"restored 'caret'\"\n"
     ]
    },
    {
     "name": "stdout",
     "output_type": "stream",
     "text": [
      "\n",
      "The downloaded binary packages are in\n",
      "\tC:\\Users\\2198K\\AppData\\Local\\Temp\\RtmpUtCIBf\\downloaded_packages\n"
     ]
    },
    {
     "name": "stderr",
     "output_type": "stream",
     "text": [
      "Warning message:\n",
      "\"package 'caret' was built under R version 3.6.2\"\n",
      "Loading required package: lattice\n",
      "\n",
      "\n",
      "Attaching package: 'caret'\n",
      "\n",
      "\n",
      "The following object is masked from 'package:purrr':\n",
      "\n",
      "    lift\n",
      "\n",
      "\n"
     ]
    }
   ],
   "source": [
    "install.packages(\"MASS\")\n",
    "library(\"MASS\")\n",
    "install.packages(\"missMDA\")\n",
    "library(\"missMDA\")\n",
    "install.packages(\"tidyverse\")\n",
    "library(\"tidyverse\")\n",
    "install.packages(\"caret\")\n",
    "library(\"caret\")"
   ]
  },
  {
   "cell_type": "code",
   "execution_count": 3,
   "metadata": {},
   "outputs": [],
   "source": [
    "ionomics <- read.csv('New_ionStats_Z.csv',colClasses =c(\"NULL\",\"NULL\",NA,NA,NA,NA,NA,NA,NA,NA,NA,NA,NA,NA,NA,\n",
    "                                                                    NA,NA,NA,NA,NA,NA,NA))\n",
    "ionomics <- imputePCA(ionomics, method = \"Regularized\")"
   ]
  },
  {
   "cell_type": "code",
   "execution_count": 4,
   "metadata": {},
   "outputs": [],
   "source": [
    "# Split the data into training (80%) and test set (20%)\n",
    "set.seed(123)\n",
    "training.samples <- ionomics$completeObs[,2] %>%\n",
    "  createDataPartition(p = 0.8, list = FALSE)\n",
    "train.data <- ionomics$completeObs[training.samples, ]\n",
    "test.data <- ionomics$completeObs[-training.samples, ]\n",
    "train.data <- unlist(test.data)\n",
    "test.data <- unlist(test.data)\n",
    "train.data <- as.data.frame(train.data)\n",
    "test.data <- as.data.frame(test.data)"
   ]
  },
  {
   "cell_type": "code",
   "execution_count": 5,
   "metadata": {},
   "outputs": [
    {
     "data": {
      "text/html": [
       "0.98780487804878"
      ],
      "text/latex": [
       "0.98780487804878"
      ],
      "text/markdown": [
       "0.98780487804878"
      ],
      "text/plain": [
       "[1] 0.9878049"
      ]
     },
     "metadata": {},
     "output_type": "display_data"
    },
    {
     "data": {
      "text/plain": [
       "Call:\n",
       "lda(Spec_int ~ ., data = train.data)\n",
       "\n",
       "Prior probabilities of groups:\n",
       "         1          2          3          4          5          6          7 \n",
       "0.04878049 0.01219512 0.09756098 0.04878049 0.02439024 0.12195122 0.06097561 \n",
       "         8          9 \n",
       "0.03658537 0.54878049 \n",
       "\n",
       "Group means:\n",
       "         B11        Na23        Mg26        Al27        P31        S34\n",
       "1  0.9252887  2.24808562  1.20480452  0.94131948  0.3282980  0.3090523\n",
       "2  0.8044517 -0.40215018  0.16594867  0.30002823 -0.3629934  0.1341872\n",
       "3  0.7045938  0.54756168  0.53255436  1.08677263  1.2742867  1.5394044\n",
       "4  0.7491258  0.61430507  1.20714124  1.22394796  0.1354277  1.0094879\n",
       "5  0.3323375  0.92633307  0.08479488  0.19332558  1.8223159  0.7094069\n",
       "6  1.2644006  1.19811978 -0.27948334  0.67669318  0.8119436  0.7928098\n",
       "7  1.5678847  0.63640218  0.27439915  0.09316363  0.7341459  0.5712404\n",
       "8  0.4321229  0.07088199 -0.45677704  0.45985760  0.3567910  0.1425658\n",
       "9 -0.8002667 -0.65178531 -0.55696660 -0.66093041 -0.5776478 -0.7150879\n",
       "          K39       Ca44       Fe54       Mn55        Co59       Ni60\n",
       "1 -1.32402661  0.4047043  0.5776541  1.0798854  0.65040825 -0.2016672\n",
       "2 -0.76192546  1.2810274  0.9759906  0.1810409 -0.29341269 -0.3112764\n",
       "3  0.73933052  0.5404692  1.9224202  1.4183376  1.56468133  1.1859361\n",
       "4  0.02597374  0.3006615  0.4986968  1.3967268  1.32322158  0.1378920\n",
       "5  0.06606871 -0.9309108  0.1414115  0.6501457  2.13307849  0.5586814\n",
       "6  0.89738855  0.8074880  0.7446124  0.9762562  0.74247068 -0.1922853\n",
       "7 -0.10311284 -0.1001168  0.2052500  0.7523800  0.47373228 -0.1490863\n",
       "8 -0.49742513 -0.1208983  0.0855243  0.2891330  0.02148464 -0.1675052\n",
       "9 -0.14752623 -0.4721557 -0.7163946 -0.8626205 -0.65970867 -0.2174878\n",
       "        Cu63       Zn66        As75       Rb85       Sr88       Mo98\n",
       "1 -0.1200234  0.8803406  1.20866692 -0.8983738  1.6020771  0.1464194\n",
       "2  0.5710189  0.1355943 -0.51897079 -0.9692918  1.4473740  0.4695295\n",
       "3  2.4641809  1.2484829  0.80822997 -0.6537466  0.7232022  1.8849555\n",
       "4  0.6061246  1.1663634  1.39391190 -0.8879344  0.7548039 -0.5324936\n",
       "5  0.6203936  0.6807229 -0.35715567 -0.5348915 -0.1900920 -0.2653497\n",
       "6 -0.1190334  0.7940443  0.38310694 -0.6849907  0.9196361  0.2554815\n",
       "7  0.4647192  0.6168554 -0.00749632 -0.7791223  0.2089723  0.1529925\n",
       "8  0.3067720  0.2489439  0.01166496 -0.9347543  0.2299403  0.3867801\n",
       "9 -0.5710796 -0.8495474 -0.61731846  0.6714840 -0.7199344 -0.3955180\n",
       "        Cd111\n",
       "1  0.05851729\n",
       "2  0.10289505\n",
       "3  0.13608538\n",
       "4  0.28621448\n",
       "5  0.34855634\n",
       "6 -0.04869072\n",
       "7  0.16252687\n",
       "8  0.36472187\n",
       "9 -0.29845627\n",
       "\n",
       "Coefficients of linear discriminants:\n",
       "              LD1         LD2         LD3         LD4         LD5         LD6\n",
       "B11   -0.44049173  0.32972593  1.21938247 -0.85136315 -0.85138323 -0.09514982\n",
       "Na23   0.61258071  0.15319064 -0.31988322  0.42850409 -0.95555698 -0.16034244\n",
       "Mg26   0.33448158 -0.87435036 -1.27755782  0.34371825  0.03889601  0.71283717\n",
       "Al27  -1.75011410  0.61379257  0.27119045  0.50012773  0.44930775  0.20767342\n",
       "P31   -0.63478188  0.33745110  0.06707002 -0.32086307 -0.37988160  1.02847291\n",
       "S34   -0.38814873  0.86804390  0.55590331 -0.83733220  0.67510385 -0.39352794\n",
       "K39    0.30094995 -0.32147910  0.50365989 -0.11575593  0.35263440  0.25173833\n",
       "Ca44   1.30918182  0.22085869  1.58579335 -0.92357180  1.08243910 -0.23398462\n",
       "Fe54   1.36835991 -0.54880067 -0.10967333  0.65024838  0.04533439 -0.76474857\n",
       "Mn55  -6.32625188 -0.10819209 -0.23842376  0.07644042  1.63162425  0.81371512\n",
       "Co59   1.15401554 -0.35963023  0.22058422 -0.35326703  0.03199458  0.88125660\n",
       "Ni60   3.48308512 -3.46424317  1.29965803 -0.39092175 -3.14266768  0.83393480\n",
       "Cu63  -1.26093426 -2.21328646 -1.16938593 -0.24768674  1.36482028 -0.13836101\n",
       "Zn66  -0.95791036  1.03424693  1.85477096  0.59765814 -0.54765394 -0.53896458\n",
       "As75   0.08627633  0.69860527 -1.49768458  0.77358177  0.88117905  0.02209748\n",
       "Rb85   0.55163512  0.20547589  0.19781983  0.18308539  0.26184103 -0.17708502\n",
       "Sr88  -1.64767068 -0.49137685 -0.76413737  1.60513168 -1.05698802  0.02363765\n",
       "Mo98   1.64966686  0.04190356  0.43101651  0.93748818 -0.99874541 -0.81931446\n",
       "Cd111 -1.64573232  2.09774748 -5.34395635 -6.33941341 -0.86658144 -4.38271656\n",
       "              LD7         LD8\n",
       "B11    1.45848636  0.36079123\n",
       "Na23   0.04586073 -0.41990170\n",
       "Mg26   0.85384957  0.19436626\n",
       "Al27  -0.07328396  0.30565412\n",
       "P31    0.05685441 -0.28901063\n",
       "S34   -0.24137506  0.06430221\n",
       "K39   -0.14056222  0.04740157\n",
       "Ca44  -0.31692609 -0.66226330\n",
       "Fe54  -0.03006961  0.80558345\n",
       "Mn55   0.81459373 -1.26885241\n",
       "Co59  -0.40177375  1.07553099\n",
       "Ni60  -0.46250341 -0.83795506\n",
       "Cu63   1.16829518  0.96003933\n",
       "Zn66  -1.16617819 -0.61739187\n",
       "As75  -0.07150397 -0.98758988\n",
       "Rb85  -0.19397360 -0.06349490\n",
       "Sr88  -0.73587048  1.80216042\n",
       "Mo98  -0.44086178 -1.10672374\n",
       "Cd111 -3.76391010 -1.70250722\n",
       "\n",
       "Proportion of trace:\n",
       "   LD1    LD2    LD3    LD4    LD5    LD6    LD7    LD8 \n",
       "0.8005 0.1027 0.0425 0.0281 0.0117 0.0079 0.0044 0.0022 "
      ]
     },
     "metadata": {},
     "output_type": "display_data"
    }
   ],
   "source": [
    "# Fit the model\n",
    "model <- lda(Spec_int~., data = train.data)\n",
    "# Make predictions\n",
    "predictions <- model %>% predict(test.data)\n",
    "# Model accuracy\n",
    "mean(predictions$class==test.data$Spec_int)\n",
    "model"
   ]
  },
  {
   "cell_type": "code",
   "execution_count": 6,
   "metadata": {},
   "outputs": [
    {
     "data": {
      "image/png": "[encoded data removed]",
      "text/plain": [
       "plot without title"
      ]
     },
     "metadata": {
      "image/png": {
       "height": 420,
       "width": 420
      }
     },
     "output_type": "display_data"
    }
   ],
   "source": [
    "plot(model)"
   ]
  },
  {
   "cell_type": "code",
   "execution_count": 7,
   "metadata": {},
   "outputs": [
    {
     "data": {
      "text/html": [
       "<ol class=list-inline>\n",
       "\t<li>1</li>\n",
       "\t<li>1</li>\n",
       "\t<li>1</li>\n",
       "\t<li>1</li>\n",
       "\t<li>2</li>\n",
       "\t<li>3</li>\n",
       "</ol>\n",
       "\n",
       "<details>\n",
       "\t<summary style=display:list-item;cursor:pointer>\n",
       "\t\t<strong>Levels</strong>:\n",
       "\t</summary>\n",
       "\t<ol class=list-inline>\n",
       "\t\t<li>'1'</li>\n",
       "\t\t<li>'2'</li>\n",
       "\t\t<li>'3'</li>\n",
       "\t\t<li>'4'</li>\n",
       "\t\t<li>'5'</li>\n",
       "\t\t<li>'6'</li>\n",
       "\t\t<li>'7'</li>\n",
       "\t\t<li>'8'</li>\n",
       "\t\t<li>'9'</li>\n",
       "\t</ol>\n",
       "</details>"
      ],
      "text/latex": [
       "\\begin{enumerate*}\n",
       "\\item 1\n",
       "\\item 1\n",
       "\\item 1\n",
       "\\item 1\n",
       "\\item 2\n",
       "\\item 3\n",
       "\\end{enumerate*}\n",
       "\n",
       "\\emph{Levels}: \\begin{enumerate*}\n",
       "\\item '1'\n",
       "\\item '2'\n",
       "\\item '3'\n",
       "\\item '4'\n",
       "\\item '5'\n",
       "\\item '6'\n",
       "\\item '7'\n",
       "\\item '8'\n",
       "\\item '9'\n",
       "\\end{enumerate*}\n"
      ],
      "text/markdown": [
       "1. 1\n",
       "2. 1\n",
       "3. 1\n",
       "4. 1\n",
       "5. 2\n",
       "6. 3\n",
       "\n",
       "\n",
       "\n",
       "**Levels**: 1. '1'\n",
       "2. '2'\n",
       "3. '3'\n",
       "4. '4'\n",
       "5. '5'\n",
       "6. '6'\n",
       "7. '7'\n",
       "8. '8'\n",
       "9. '9'\n",
       "\n",
       "\n"
      ],
      "text/plain": [
       "[1] 1 1 1 1 2 3\n",
       "Levels: 1 2 3 4 5 6 7 8 9"
      ]
     },
     "metadata": {},
     "output_type": "display_data"
    },
    {
     "data": {
      "text/html": [
       "<table>\n",
       "<caption>A matrix: 6 × 9 of type dbl</caption>\n",
       "<thead>\n",
       "\t<tr><th></th><th scope=col>1</th><th scope=col>2</th><th scope=col>3</th><th scope=col>4</th><th scope=col>5</th><th scope=col>6</th><th scope=col>7</th><th scope=col>8</th><th scope=col>9</th></tr>\n",
       "</thead>\n",
       "<tbody>\n",
       "\t<tr><th scope=row>1</th><td>9.999999e-01</td><td>5.629493e-22</td><td>4.743949e-28</td><td>1.018312e-07</td><td>3.809965e-28</td><td>7.383852e-23</td><td>4.593926e-16</td><td>7.163914e-18</td><td>3.841025e-76</td></tr>\n",
       "\t<tr><th scope=row>2</th><td>9.999120e-01</td><td>2.760348e-18</td><td>1.215674e-29</td><td>6.626216e-05</td><td>2.385650e-21</td><td>1.620952e-08</td><td>2.039608e-05</td><td>1.331311e-06</td><td>3.850442e-56</td></tr>\n",
       "\t<tr><th scope=row>3</th><td>1.000000e+00</td><td>3.324024e-21</td><td>1.048822e-31</td><td>6.900047e-20</td><td>7.356382e-32</td><td>2.384451e-14</td><td>4.703166e-17</td><td>3.137894e-21</td><td>3.231235e-69</td></tr>\n",
       "\t<tr><th scope=row>4</th><td>1.000000e+00</td><td>9.678322e-30</td><td>3.133761e-40</td><td>1.306322e-17</td><td>6.791761e-34</td><td>2.288768e-16</td><td>1.166435e-19</td><td>1.192312e-21</td><td>1.997490e-71</td></tr>\n",
       "\t<tr><th scope=row>5</th><td>1.345408e-21</td><td>1.000000e+00</td><td>3.202368e-14</td><td>1.101248e-26</td><td>1.655111e-15</td><td>5.631646e-12</td><td>7.685528e-10</td><td>3.405123e-08</td><td>6.536046e-28</td></tr>\n",
       "\t<tr><th scope=row>6</th><td>1.824769e-34</td><td>4.911537e-24</td><td>1.000000e+00</td><td>4.963562e-29</td><td>3.450740e-13</td><td>1.160555e-25</td><td>6.973736e-22</td><td>6.092814e-30</td><td>1.524043e-45</td></tr>\n",
       "</tbody>\n",
       "</table>\n"
      ],
      "text/latex": [
       "A matrix: 6 × 9 of type dbl\n",
       "\\begin{tabular}{r|lllllllll}\n",
       "  & 1 & 2 & 3 & 4 & 5 & 6 & 7 & 8 & 9\\\\\n",
       "\\hline\n",
       "\t1 & 9.999999e-01 & 5.629493e-22 & 4.743949e-28 & 1.018312e-07 & 3.809965e-28 & 7.383852e-23 & 4.593926e-16 & 7.163914e-18 & 3.841025e-76\\\\\n",
       "\t2 & 9.999120e-01 & 2.760348e-18 & 1.215674e-29 & 6.626216e-05 & 2.385650e-21 & 1.620952e-08 & 2.039608e-05 & 1.331311e-06 & 3.850442e-56\\\\\n",
       "\t3 & 1.000000e+00 & 3.324024e-21 & 1.048822e-31 & 6.900047e-20 & 7.356382e-32 & 2.384451e-14 & 4.703166e-17 & 3.137894e-21 & 3.231235e-69\\\\\n",
       "\t4 & 1.000000e+00 & 9.678322e-30 & 3.133761e-40 & 1.306322e-17 & 6.791761e-34 & 2.288768e-16 & 1.166435e-19 & 1.192312e-21 & 1.997490e-71\\\\\n",
       "\t5 & 1.345408e-21 & 1.000000e+00 & 3.202368e-14 & 1.101248e-26 & 1.655111e-15 & 5.631646e-12 & 7.685528e-10 & 3.405123e-08 & 6.536046e-28\\\\\n",
       "\t6 & 1.824769e-34 & 4.911537e-24 & 1.000000e+00 & 4.963562e-29 & 3.450740e-13 & 1.160555e-25 & 6.973736e-22 & 6.092814e-30 & 1.524043e-45\\\\\n",
       "\\end{tabular}\n"
      ],
      "text/markdown": [
       "\n",
       "A matrix: 6 × 9 of type dbl\n",
       "\n",
       "| <!--/--> | 1 | 2 | 3 | 4 | 5 | 6 | 7 | 8 | 9 |\n",
       "|---|---|---|---|---|---|---|---|---|---|\n",
       "| 1 | 9.999999e-01 | 5.629493e-22 | 4.743949e-28 | 1.018312e-07 | 3.809965e-28 | 7.383852e-23 | 4.593926e-16 | 7.163914e-18 | 3.841025e-76 |\n",
       "| 2 | 9.999120e-01 | 2.760348e-18 | 1.215674e-29 | 6.626216e-05 | 2.385650e-21 | 1.620952e-08 | 2.039608e-05 | 1.331311e-06 | 3.850442e-56 |\n",
       "| 3 | 1.000000e+00 | 3.324024e-21 | 1.048822e-31 | 6.900047e-20 | 7.356382e-32 | 2.384451e-14 | 4.703166e-17 | 3.137894e-21 | 3.231235e-69 |\n",
       "| 4 | 1.000000e+00 | 9.678322e-30 | 3.133761e-40 | 1.306322e-17 | 6.791761e-34 | 2.288768e-16 | 1.166435e-19 | 1.192312e-21 | 1.997490e-71 |\n",
       "| 5 | 1.345408e-21 | 1.000000e+00 | 3.202368e-14 | 1.101248e-26 | 1.655111e-15 | 5.631646e-12 | 7.685528e-10 | 3.405123e-08 | 6.536046e-28 |\n",
       "| 6 | 1.824769e-34 | 4.911537e-24 | 1.000000e+00 | 4.963562e-29 | 3.450740e-13 | 1.160555e-25 | 6.973736e-22 | 6.092814e-30 | 1.524043e-45 |\n",
       "\n"
      ],
      "text/plain": [
       "  1            2            3            4            5            6           \n",
       "1 9.999999e-01 5.629493e-22 4.743949e-28 1.018312e-07 3.809965e-28 7.383852e-23\n",
       "2 9.999120e-01 2.760348e-18 1.215674e-29 6.626216e-05 2.385650e-21 1.620952e-08\n",
       "3 1.000000e+00 3.324024e-21 1.048822e-31 6.900047e-20 7.356382e-32 2.384451e-14\n",
       "4 1.000000e+00 9.678322e-30 3.133761e-40 1.306322e-17 6.791761e-34 2.288768e-16\n",
       "5 1.345408e-21 1.000000e+00 3.202368e-14 1.101248e-26 1.655111e-15 5.631646e-12\n",
       "6 1.824769e-34 4.911537e-24 1.000000e+00 4.963562e-29 3.450740e-13 1.160555e-25\n",
       "  7            8            9           \n",
       "1 4.593926e-16 7.163914e-18 3.841025e-76\n",
       "2 2.039608e-05 1.331311e-06 3.850442e-56\n",
       "3 4.703166e-17 3.137894e-21 3.231235e-69\n",
       "4 1.166435e-19 1.192312e-21 1.997490e-71\n",
       "5 7.685528e-10 3.405123e-08 6.536046e-28\n",
       "6 6.973736e-22 6.092814e-30 1.524043e-45"
      ]
     },
     "metadata": {},
     "output_type": "display_data"
    },
    {
     "data": {
      "text/html": [
       "<table>\n",
       "<caption>A matrix: 3 × 8 of type dbl</caption>\n",
       "<thead>\n",
       "\t<tr><th></th><th scope=col>LD1</th><th scope=col>LD2</th><th scope=col>LD3</th><th scope=col>LD4</th><th scope=col>LD5</th><th scope=col>LD6</th><th scope=col>LD7</th><th scope=col>LD8</th></tr>\n",
       "</thead>\n",
       "<tbody>\n",
       "\t<tr><th scope=row>1</th><td>-11.467475</td><td>0.1106946</td><td>-5.776073</td><td>3.408338</td><td>-1.1450930</td><td>-0.5427773</td><td>0.3262737</td><td> 1.523978</td></tr>\n",
       "\t<tr><th scope=row>2</th><td> -9.401714</td><td>3.5136754</td><td>-3.379468</td><td>1.431524</td><td> 0.5989673</td><td> 0.1619740</td><td>0.7766589</td><td>-2.293703</td></tr>\n",
       "\t<tr><th scope=row>3</th><td>-10.261177</td><td>2.1164758</td><td>-1.681662</td><td>5.695901</td><td>-3.7436820</td><td>-0.4302952</td><td>0.2952680</td><td> 1.603068</td></tr>\n",
       "</tbody>\n",
       "</table>\n"
      ],
      "text/latex": [
       "A matrix: 3 × 8 of type dbl\n",
       "\\begin{tabular}{r|llllllll}\n",
       "  & LD1 & LD2 & LD3 & LD4 & LD5 & LD6 & LD7 & LD8\\\\\n",
       "\\hline\n",
       "\t1 & -11.467475 & 0.1106946 & -5.776073 & 3.408338 & -1.1450930 & -0.5427773 & 0.3262737 &  1.523978\\\\\n",
       "\t2 &  -9.401714 & 3.5136754 & -3.379468 & 1.431524 &  0.5989673 &  0.1619740 & 0.7766589 & -2.293703\\\\\n",
       "\t3 & -10.261177 & 2.1164758 & -1.681662 & 5.695901 & -3.7436820 & -0.4302952 & 0.2952680 &  1.603068\\\\\n",
       "\\end{tabular}\n"
      ],
      "text/markdown": [
       "\n",
       "A matrix: 3 × 8 of type dbl\n",
       "\n",
       "| <!--/--> | LD1 | LD2 | LD3 | LD4 | LD5 | LD6 | LD7 | LD8 |\n",
       "|---|---|---|---|---|---|---|---|---|\n",
       "| 1 | -11.467475 | 0.1106946 | -5.776073 | 3.408338 | -1.1450930 | -0.5427773 | 0.3262737 |  1.523978 |\n",
       "| 2 |  -9.401714 | 3.5136754 | -3.379468 | 1.431524 |  0.5989673 |  0.1619740 | 0.7766589 | -2.293703 |\n",
       "| 3 | -10.261177 | 2.1164758 | -1.681662 | 5.695901 | -3.7436820 | -0.4302952 | 0.2952680 |  1.603068 |\n",
       "\n"
      ],
      "text/plain": [
       "  LD1        LD2       LD3       LD4      LD5        LD6        LD7      \n",
       "1 -11.467475 0.1106946 -5.776073 3.408338 -1.1450930 -0.5427773 0.3262737\n",
       "2  -9.401714 3.5136754 -3.379468 1.431524  0.5989673  0.1619740 0.7766589\n",
       "3 -10.261177 2.1164758 -1.681662 5.695901 -3.7436820 -0.4302952 0.2952680\n",
       "  LD8      \n",
       "1  1.523978\n",
       "2 -2.293703\n",
       "3  1.603068"
      ]
     },
     "metadata": {},
     "output_type": "display_data"
    }
   ],
   "source": [
    "# Predicted classes\n",
    "head(predictions$class, 6)\n",
    "# Predicted probabilities of class memebership.\n",
    "head(predictions$posterior, 6) \n",
    "# Linear discriminants\n",
    "head(predictions$x, 3) "
   ]
  },
  {
   "cell_type": "code",
   "execution_count": null,
   "metadata": {},
   "outputs": [],
   "source": []
  }
 ],
 "metadata": {
  "kernelspec": {
   "display_name": "R",
   "language": "R",
   "name": "ir"
  },
  "language_info": {
   "codemirror_mode": "r",
   "file_extension": ".r",
   "mimetype": "text/x-r-source",
   "name": "R",
   "pygments_lexer": "r",
   "version": "3.6.1"
  }
 },
 "nbformat": 4,
 "nbformat_minor": 4
}
