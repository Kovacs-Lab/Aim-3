{
 "cells": [
  {
   "cell_type": "code",
   "execution_count": 24,
   "metadata": {},
   "outputs": [],
   "source": [
    "data <- read.csv(\"New_ionStats.csv\")"
   ]
  },
  {
   "cell_type": "code",
   "execution_count": 28,
   "metadata": {},
   "outputs": [
    {
     "data": {
      "text/plain": [
       "Call:\n",
       "   manova(cbind(data$B11, data$Na23, data$Mg26, data$Al27, data$P31, \n",
       "    data$S34, data$K39, data$Ca44, data$Fe54, data$Mn55, data$Co59, \n",
       "    data$Ni60, data$Cu63, data$Zn66, data$As75, data$Rb86, data$Sr88, \n",
       "    data$Mo98) ~ data$Spec_int, data = data)\n",
       "\n",
       "Terms:\n",
       "                data$Spec_int Residuals\n",
       "resp 1               200.2904  189.9849\n",
       "resp 2               155.1238  210.8279\n",
       "resp 3                35.0084  369.0316\n",
       "resp 4                 3.8471   51.0425\n",
       "resp 5               216.0500  170.7853\n",
       "resp 6               208.6403  185.4409\n",
       "resp 7               173.6959  215.1258\n",
       "resp 8                99.5538  294.8897\n",
       "resp 9                90.5659  258.1012\n",
       "resp 10              237.8585  150.8671\n",
       "resp 11               12.0742  317.4860\n",
       "resp 12               28.7128  324.8745\n",
       "resp 13              201.4897  188.2391\n",
       "resp 14              226.0499  150.9195\n",
       "resp 15               20.6324   87.0751\n",
       "resp 16                3.6723  385.4272\n",
       "resp 17               68.2873  335.4370\n",
       "Deg. of Freedom             1       407\n",
       "\n",
       "Residual standard errors: 0.6832228 0.7197255 0.952214 0.3541349 0.6477808 0.6750027 0.7270245 0.8512019 0.7963387 0.6088357 0.8832123 0.8934301 0.6800765 0.6089413 0.4625405 0.973137 0.9078379\n",
       "Estimated effects may be unbalanced\n",
       "9 observations deleted due to missingness"
      ]
     },
     "metadata": {},
     "output_type": "display_data"
    }
   ],
   "source": [
    "manova(cbind(data$B11, data$Na23, data$Mg26, data$Al27, data$P31, data$S34, data$K39, data$Ca44, data$Fe54, data$Mn55, data$Co59, data$Ni60,\n",
    "            data$Cu63, data$Zn66, data$As75, data$Rb86, data$Sr88, data$Mo98) ~ data$Spec_int, data = data)"
   ]
  }
 ],
 "metadata": {
  "kernelspec": {
   "display_name": "R",
   "language": "R",
   "name": "ir"
  },
  "language_info": {
   "codemirror_mode": "r",
   "file_extension": ".r",
   "mimetype": "text/x-r-source",
   "name": "R",
   "pygments_lexer": "r",
   "version": "3.6.3"
  }
 },
 "nbformat": 4,
 "nbformat_minor": 4
}
