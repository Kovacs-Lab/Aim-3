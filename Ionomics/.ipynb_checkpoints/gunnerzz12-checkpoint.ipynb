{
 "cells": [
  {
   "cell_type": "code",
   "execution_count": 5,
   "metadata": {},
   "outputs": [],
   "source": [
    "ions <-read.csv(\"geneva_F1_combined_ionomics_raw.csv\")"
   ]
  },
  {
   "cell_type": "code",
   "execution_count": 18,
   "metadata": {},
   "outputs": [],
   "source": [
    "dist(scale(ions),method=\"euclidean\")"
   ]
  },
  {
   "cell_type": "markdown",
   "metadata": {},
   "source": [
    "dist(scale(ions),method=\"euclidean\")"
   ]
  },
  {
   "cell_type": "code",
   "execution_count": 15,
   "metadata": {},
   "outputs": [
    {
     "ename": "ERROR",
     "evalue": "Error in if (is.na(n) || n > 65536L) stop(\"size cannot be NA nor exceed 65536\"): missing value where TRUE/FALSE needed\n",
     "output_type": "error",
     "traceback": [
      "Error in if (is.na(n) || n > 65536L) stop(\"size cannot be NA nor exceed 65536\"): missing value where TRUE/FALSE needed\nTraceback:\n",
      "1. hclust(ions, method = \"ward.D2\")"
     ]
    }
   ],
   "source": [
    "courtney<-hclust(ions,method=\"ward.D2\")"
   ]
  },
  {
   "cell_type": "code",
   "execution_count": 16,
   "metadata": {},
   "outputs": [
    {
     "data": {
      "text/html": [
       "<pre class=language-r><code>function (name, pos = -1L, envir = as.environment(pos), all.names = FALSE, \n",
       "<span style=white-space:pre-wrap>    pattern, sorted = TRUE) </span>\n",
       "{\n",
       "<span style=white-space:pre-wrap>    if (!missing(name)) {</span>\n",
       "<span style=white-space:pre-wrap>        pos &lt;- tryCatch(name, error = function(e) e)</span>\n",
       "<span style=white-space:pre-wrap>        if (inherits(pos, \"error\")) {</span>\n",
       "<span style=white-space:pre-wrap>            name &lt;- substitute(name)</span>\n",
       "<span style=white-space:pre-wrap>            if (!is.character(name)) </span>\n",
       "<span style=white-space:pre-wrap>                name &lt;- deparse(name)</span>\n",
       "<span style=white-space:pre-wrap>            warning(gettextf(\"%s converted to character string\", </span>\n",
       "<span style=white-space:pre-wrap>                sQuote(name)), domain = NA)</span>\n",
       "<span style=white-space:pre-wrap>            pos &lt;- name</span>\n",
       "<span style=white-space:pre-wrap>        }</span>\n",
       "<span style=white-space:pre-wrap>    }</span>\n",
       "<span style=white-space:pre-wrap>    all.names &lt;- .Internal(ls(envir, all.names, sorted))</span>\n",
       "<span style=white-space:pre-wrap>    if (!missing(pattern)) {</span>\n",
       "<span style=white-space:pre-wrap>        if ((ll &lt;- length(grep(\"[\", pattern, fixed = TRUE))) &amp;&amp; </span>\n",
       "<span style=white-space:pre-wrap>            ll != length(grep(\"]\", pattern, fixed = TRUE))) {</span>\n",
       "<span style=white-space:pre-wrap>            if (pattern == \"[\") {</span>\n",
       "<span style=white-space:pre-wrap>                pattern &lt;- \"\\\\[\"</span>\n",
       "<span style=white-space:pre-wrap>                warning(\"replaced regular expression pattern '[' by  '\\\\\\\\['\")</span>\n",
       "<span style=white-space:pre-wrap>            }</span>\n",
       "<span style=white-space:pre-wrap>            else if (length(grep(\"[^\\\\\\\\]\\\\[&lt;-\", pattern))) {</span>\n",
       "<span style=white-space:pre-wrap>                pattern &lt;- sub(\"\\\\[&lt;-\", \"\\\\\\\\\\\\[&lt;-\", pattern)</span>\n",
       "<span style=white-space:pre-wrap>                warning(\"replaced '[&lt;-' by '\\\\\\\\[&lt;-' in regular expression pattern\")</span>\n",
       "<span style=white-space:pre-wrap>            }</span>\n",
       "<span style=white-space:pre-wrap>        }</span>\n",
       "<span style=white-space:pre-wrap>        grep(pattern, all.names, value = TRUE)</span>\n",
       "<span style=white-space:pre-wrap>    }</span>\n",
       "<span style=white-space:pre-wrap>    else all.names</span>\n",
       "}</code></pre>"
      ],
      "text/latex": [
       "\\begin{minted}{r}\n",
       "function (name, pos = -1L, envir = as.environment(pos), all.names = FALSE, \n",
       "    pattern, sorted = TRUE) \n",
       "\\{\n",
       "    if (!missing(name)) \\{\n",
       "        pos <- tryCatch(name, error = function(e) e)\n",
       "        if (inherits(pos, \"error\")) \\{\n",
       "            name <- substitute(name)\n",
       "            if (!is.character(name)) \n",
       "                name <- deparse(name)\n",
       "            warning(gettextf(\"\\%s converted to character string\", \n",
       "                sQuote(name)), domain = NA)\n",
       "            pos <- name\n",
       "        \\}\n",
       "    \\}\n",
       "    all.names <- .Internal(ls(envir, all.names, sorted))\n",
       "    if (!missing(pattern)) \\{\n",
       "        if ((ll <- length(grep(\"{[}\", pattern, fixed = TRUE))) \\&\\& \n",
       "            ll != length(grep(\"{]}\", pattern, fixed = TRUE))) \\{\n",
       "            if (pattern == \"{[}\") \\{\n",
       "                pattern <- \"\\textbackslash{}\\textbackslash{}{[}\"\n",
       "                warning(\"replaced regular expression pattern '{[}' by  '\\textbackslash{}\\textbackslash{}\\textbackslash{}\\textbackslash{}{[}'\")\n",
       "            \\}\n",
       "            else if (length(grep(\"{[}\\textasciicircum{}\\textbackslash{}\\textbackslash{}\\textbackslash{}\\textbackslash{}{]}\\textbackslash{}\\textbackslash{}{[}<-\", pattern))) \\{\n",
       "                pattern <- sub(\"\\textbackslash{}\\textbackslash{}{[}<-\", \"\\textbackslash{}\\textbackslash{}\\textbackslash{}\\textbackslash{}\\textbackslash{}\\textbackslash{}{[}<-\", pattern)\n",
       "                warning(\"replaced '{[}<-' by '\\textbackslash{}\\textbackslash{}\\textbackslash{}\\textbackslash{}{[}<-' in regular expression pattern\")\n",
       "            \\}\n",
       "        \\}\n",
       "        grep(pattern, all.names, value = TRUE)\n",
       "    \\}\n",
       "    else all.names\n",
       "\\}\n",
       "\\end{minted}"
      ],
      "text/markdown": [
       "```r\n",
       "function (name, pos = -1L, envir = as.environment(pos), all.names = FALSE, \n",
       "    pattern, sorted = TRUE) \n",
       "{\n",
       "    if (!missing(name)) {\n",
       "        pos <- tryCatch(name, error = function(e) e)\n",
       "        if (inherits(pos, \"error\")) {\n",
       "            name <- substitute(name)\n",
       "            if (!is.character(name)) \n",
       "                name <- deparse(name)\n",
       "            warning(gettextf(\"%s converted to character string\", \n",
       "                sQuote(name)), domain = NA)\n",
       "            pos <- name\n",
       "        }\n",
       "    }\n",
       "    all.names <- .Internal(ls(envir, all.names, sorted))\n",
       "    if (!missing(pattern)) {\n",
       "        if ((ll <- length(grep(\"[\", pattern, fixed = TRUE))) && \n",
       "            ll != length(grep(\"]\", pattern, fixed = TRUE))) {\n",
       "            if (pattern == \"[\") {\n",
       "                pattern <- \"\\\\[\"\n",
       "                warning(\"replaced regular expression pattern '[' by  '\\\\\\\\['\")\n",
       "            }\n",
       "            else if (length(grep(\"[^\\\\\\\\]\\\\[<-\", pattern))) {\n",
       "                pattern <- sub(\"\\\\[<-\", \"\\\\\\\\\\\\[<-\", pattern)\n",
       "                warning(\"replaced '[<-' by '\\\\\\\\[<-' in regular expression pattern\")\n",
       "            }\n",
       "        }\n",
       "        grep(pattern, all.names, value = TRUE)\n",
       "    }\n",
       "    else all.names\n",
       "}\n",
       "```"
      ],
      "text/plain": [
       "function (name, pos = -1L, envir = as.environment(pos), all.names = FALSE, \n",
       "    pattern, sorted = TRUE) \n",
       "{\n",
       "    if (!missing(name)) {\n",
       "        pos <- tryCatch(name, error = function(e) e)\n",
       "        if (inherits(pos, \"error\")) {\n",
       "            name <- substitute(name)\n",
       "            if (!is.character(name)) \n",
       "                name <- deparse(name)\n",
       "            warning(gettextf(\"%s converted to character string\", \n",
       "                sQuote(name)), domain = NA)\n",
       "            pos <- name\n",
       "        }\n",
       "    }\n",
       "    all.names <- .Internal(ls(envir, all.names, sorted))\n",
       "    if (!missing(pattern)) {\n",
       "        if ((ll <- length(grep(\"[\", pattern, fixed = TRUE))) && \n",
       "            ll != length(grep(\"]\", pattern, fixed = TRUE))) {\n",
       "            if (pattern == \"[\") {\n",
       "                pattern <- \"\\\\[\"\n",
       "                warning(\"replaced regular expression pattern '[' by  '\\\\\\\\['\")\n",
       "            }\n",
       "            else if (length(grep(\"[^\\\\\\\\]\\\\[<-\", pattern))) {\n",
       "                pattern <- sub(\"\\\\[<-\", \"\\\\\\\\\\\\[<-\", pattern)\n",
       "                warning(\"replaced '[<-' by '\\\\\\\\[<-' in regular expression pattern\")\n",
       "            }\n",
       "        }\n",
       "        grep(pattern, all.names, value = TRUE)\n",
       "    }\n",
       "    else all.names\n",
       "}\n",
       "<bytecode: 0x0000000015467218>\n",
       "<environment: namespace:base>"
      ]
     },
     "metadata": {},
     "output_type": "display_data"
    }
   ],
   "source": [
    "ls"
   ]
  },
  {
   "cell_type": "code",
   "execution_count": 17,
   "metadata": {},
   "outputs": [
    {
     "data": {
      "text/html": [
       "<pre class=language-r><code>function (path = \".\", pattern = NULL, all.files = FALSE, full.names = FALSE, \n",
       "<span style=white-space:pre-wrap>    recursive = FALSE, ignore.case = FALSE, include.dirs = FALSE, </span>\n",
       "<span style=white-space:pre-wrap>    no.. = FALSE) </span>\n",
       ".Internal(list.files(path, pattern, all.files, full.names, recursive, \n",
       "<span style=white-space:pre-wrap>    ignore.case, include.dirs, no..))</span></code></pre>"
      ],
      "text/latex": [
       "\\begin{minted}{r}\n",
       "function (path = \".\", pattern = NULL, all.files = FALSE, full.names = FALSE, \n",
       "    recursive = FALSE, ignore.case = FALSE, include.dirs = FALSE, \n",
       "    no.. = FALSE) \n",
       ".Internal(list.files(path, pattern, all.files, full.names, recursive, \n",
       "    ignore.case, include.dirs, no..))\n",
       "\\end{minted}"
      ],
      "text/markdown": [
       "```r\n",
       "function (path = \".\", pattern = NULL, all.files = FALSE, full.names = FALSE, \n",
       "    recursive = FALSE, ignore.case = FALSE, include.dirs = FALSE, \n",
       "    no.. = FALSE) \n",
       ".Internal(list.files(path, pattern, all.files, full.names, recursive, \n",
       "    ignore.case, include.dirs, no..))\n",
       "```"
      ],
      "text/plain": [
       "function (path = \".\", pattern = NULL, all.files = FALSE, full.names = FALSE, \n",
       "    recursive = FALSE, ignore.case = FALSE, include.dirs = FALSE, \n",
       "    no.. = FALSE) \n",
       ".Internal(list.files(path, pattern, all.files, full.names, recursive, \n",
       "    ignore.case, include.dirs, no..))\n",
       "<bytecode: 0x0000000008efc888>\n",
       "<environment: namespace:base>"
      ]
     },
     "metadata": {},
     "output_type": "display_data"
    }
   ],
   "source": [
    "dir"
   ]
  },
  {
   "cell_type": "code",
   "execution_count": null,
   "metadata": {},
   "outputs": [],
   "source": []
  }
 ],
 "metadata": {
  "kernelspec": {
   "display_name": "R",
   "language": "R",
   "name": "ir"
  },
  "language_info": {
   "codemirror_mode": "r",
   "file_extension": ".r",
   "mimetype": "text/x-r-source",
   "name": "R",
   "pygments_lexer": "r",
   "version": "3.6.2"
  }
 },
 "nbformat": 4,
 "nbformat_minor": 4
}
