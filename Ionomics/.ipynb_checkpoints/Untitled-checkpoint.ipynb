{
 "cells": [
  {
   "cell_type": "code",
   "execution_count": 1,
   "metadata": {},
   "outputs": [
    {
     "name": "stderr",
     "output_type": "stream",
     "text": [
      "Installing package into 'C:/Users/daeda/OneDrive/Documents/R/win-library/3.6'\n",
      "(as 'lib' is unspecified)\n",
      "\n"
     ]
    },
    {
     "name": "stdout",
     "output_type": "stream",
     "text": [
      "\n",
      "  There is a binary version available but the source version is later:\n",
      "        binary source needs_compilation\n",
      "ggplot2  3.2.1  3.3.0             FALSE\n",
      "\n"
     ]
    },
    {
     "name": "stderr",
     "output_type": "stream",
     "text": [
      "installing the source package 'ggplot2'\n",
      "\n",
      "\n",
      "Installing package into 'C:/Users/daeda/OneDrive/Documents/R/win-library/3.6'\n",
      "(as 'lib' is unspecified)\n",
      "\n"
     ]
    },
    {
     "name": "stdout",
     "output_type": "stream",
     "text": [
      "package 'gridExtra' successfully unpacked and MD5 sums checked\n",
      "\n",
      "The downloaded binary packages are in\n",
      "\tC:\\Users\\daeda\\AppData\\Local\\Temp\\RtmpWmieRi\\downloaded_packages\n"
     ]
    },
    {
     "name": "stderr",
     "output_type": "stream",
     "text": [
      "Installing package into 'C:/Users/daeda/OneDrive/Documents/R/win-library/3.6'\n",
      "(as 'lib' is unspecified)\n",
      "\n"
     ]
    },
    {
     "name": "stdout",
     "output_type": "stream",
     "text": [
      "\n",
      "  There is a binary version available but the source version is later:\n",
      "      binary source needs_compilation\n",
      "dplyr  0.8.4  0.8.5              TRUE\n",
      "\n"
     ]
    },
    {
     "name": "stderr",
     "output_type": "stream",
     "text": [
      "installing the source package 'dplyr'\n",
      "\n",
      "\n",
      "Warning message in install.packages(\"dplyr\"):\n",
      "\"installation of package 'dplyr' had non-zero exit status\"\n",
      "\n",
      "Attaching package: 'dplyr'\n",
      "\n",
      "\n",
      "The following object is masked from 'package:gridExtra':\n",
      "\n",
      "    combine\n",
      "\n",
      "\n",
      "The following objects are masked from 'package:stats':\n",
      "\n",
      "    filter, lag\n",
      "\n",
      "\n",
      "The following objects are masked from 'package:base':\n",
      "\n",
      "    intersect, setdiff, setequal, union\n",
      "\n",
      "\n",
      "Installing package into 'C:/Users/daeda/OneDrive/Documents/R/win-library/3.6'\n",
      "(as 'lib' is unspecified)\n",
      "\n"
     ]
    },
    {
     "name": "stdout",
     "output_type": "stream",
     "text": [
      "package 'viridis' successfully unpacked and MD5 sums checked\n",
      "\n",
      "The downloaded binary packages are in\n",
      "\tC:\\Users\\daeda\\AppData\\Local\\Temp\\RtmpWmieRi\\downloaded_packages\n"
     ]
    },
    {
     "name": "stderr",
     "output_type": "stream",
     "text": [
      "Loading required package: viridisLite\n",
      "\n"
     ]
    }
   ],
   "source": [
    "install.packages(\"ggplot2\")\n",
    "library(\"ggplot2\")\n",
    "install.packages(\"gridExtra\")\n",
    "library(\"gridExtra\")\n",
    "install.packages(\"dplyr\")\n",
    "library(\"dplyr\")\n",
    "install.packages(\"viridis\")\n",
    "library(\"viridis\")"
   ]
  },
  {
   "cell_type": "code",
   "execution_count": 4,
   "metadata": {},
   "outputs": [],
   "source": [
    "theme_new <- function(base_size = 12,\n",
    "                     base_family = \"\",\n",
    "                     base_line_size = base_size / 170,\n",
    "                     base_rect_size = base_size / 170) {\n",
    "    theme_viridis(base_size = base_size,\n",
    "                 base_family = base_family,\n",
    "                 base_line_size = base_line_size) %+replace%\n",
    "        theme(\n",
    "          plot.title = element_text(\n",
    "            color = color,\n",
    "            face = \"bold\",\n",
    "            hjust = 0),\n",
    "          axis.title = element_text(hjust = 0.5),\n",
    "          plot.title = element_text(hjust = 0.5),\n",
    "          plot.subtitle = element_text(hjust = 0.5)  \n",
    "        )\n",
    "}"
   ]
  },
  {
   "cell_type": "code",
   "execution_count": null,
   "metadata": {},
   "outputs": [],
   "source": []
  }
 ],
 "metadata": {
  "kernelspec": {
   "display_name": "R",
   "language": "R",
   "name": "ir"
  },
  "language_info": {
   "codemirror_mode": "r",
   "file_extension": ".r",
   "mimetype": "text/x-r-source",
   "name": "R",
   "pygments_lexer": "r",
   "version": "3.6.3"
  }
 },
 "nbformat": 4,
 "nbformat_minor": 4
}
