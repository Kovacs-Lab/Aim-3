{
 "cells": [
  {
   "cell_type": "code",
   "execution_count": 138,
   "metadata": {},
   "outputs": [],
   "source": [
    "lmean <- read.csv(\"ldameans.csv\")\n",
    "acerfolia = unlist(lmean[1,])\n",
    "aestivalis = unlist(lmean[2,])\n",
    "cinerea = unlist(lmean[3,])\n",
    "labrusca = unlist(lmean[4,])\n",
    "palmata = unlist(lmean[5,])\n",
    "riparia = unlist(lmean[6,])\n",
    "rupestris = unlist(lmean[7,])\n",
    "vulpina = unlist(lmean[8,])\n",
    "riprup = unlist(lmean[9,])"
   ]
  },
  {
   "cell_type": "code",
   "execution_count": 139,
   "metadata": {},
   "outputs": [
    {
     "data": {
      "text/plain": [
       "Call:\n",
       "   aov(formula = acerfolia ~ aestivalis + cinerea + labrusca + palmata + \n",
       "    riparia + rupestris + vulpina + riprup, data = lmean)\n",
       "\n",
       "Terms:\n",
       "                aestivalis   cinerea  labrusca   palmata   riparia rupestris\n",
       "Sum of Squares   2.3089447 0.0517272 0.1329631 0.0150386 0.9709090 0.0131365\n",
       "Deg. of Freedom          1         1         1         1         1         1\n",
       "                  vulpina    riprup Residuals\n",
       "Sum of Squares  0.0829044 0.0239605 0.5454087\n",
       "Deg. of Freedom         1         1         9\n",
       "\n",
       "Residual standard error: 0.2461726\n",
       "Estimated effects may be unbalanced"
      ]
     },
     "metadata": {},
     "output_type": "display_data"
    },
    {
     "data": {
      "text/plain": [
       "Call:\n",
       "   aov(formula = aestivalis ~ acerfolia + cinerea + labrusca + palmata + \n",
       "    riparia + rupestris + vulpina + riprup, data = lmean)\n",
       "\n",
       "Terms:\n",
       "                acerfolia   cinerea  labrusca   palmata   riparia rupestris\n",
       "Sum of Squares  2.9798800 0.3616890 1.3119770 0.0109915 0.0721381 0.0022533\n",
       "Deg. of Freedom         1         1         1         1         1         1\n",
       "                  vulpina    riprup Residuals\n",
       "Sum of Squares  0.0003932 0.0212009 0.5889255\n",
       "Deg. of Freedom         1         1         9\n",
       "\n",
       "Residual standard error: 0.2558049\n",
       "Estimated effects may be unbalanced"
      ]
     },
     "metadata": {},
     "output_type": "display_data"
    },
    {
     "data": {
      "text/plain": [
       "Call:\n",
       "   aov(formula = cinerea ~ aestivalis + acerfolia + labrusca + palmata + \n",
       "    riparia + rupestris + vulpina + riprup, data = lmean)\n",
       "\n",
       "Terms:\n",
       "                aestivalis acerfolia labrusca  palmata  riparia rupestris\n",
       "Sum of Squares    5.098088  0.215240 0.009439 1.602242 0.187653  1.046538\n",
       "Deg. of Freedom          1         1        1        1        1         1\n",
       "                 vulpina   riprup Residuals\n",
       "Sum of Squares  0.234910 2.773972  1.569899\n",
       "Deg. of Freedom        1        1         9\n",
       "\n",
       "Residual standard error: 0.417652\n",
       "Estimated effects may be unbalanced"
      ]
     },
     "metadata": {},
     "output_type": "display_data"
    },
    {
     "data": {
      "text/plain": [
       "Call:\n",
       "   aov(formula = labrusca ~ aestivalis + cinerea + acerfolia + palmata + \n",
       "    riparia + rupestris + vulpina + riprup, data = lmean)\n",
       "\n",
       "Terms:\n",
       "                aestivalis  cinerea acerfolia  palmata  riparia rupestris\n",
       "Sum of Squares    4.668553 0.000181  0.099064 0.041901 0.058759  0.252060\n",
       "Deg. of Freedom          1        1         1        1        1         1\n",
       "                 vulpina   riprup Residuals\n",
       "Sum of Squares  0.010136 0.498915  0.368578\n",
       "Deg. of Freedom        1        1         9\n",
       "\n",
       "Residual standard error: 0.2023686\n",
       "Estimated effects may be unbalanced"
      ]
     },
     "metadata": {},
     "output_type": "display_data"
    },
    {
     "data": {
      "text/plain": [
       "Call:\n",
       "   aov(formula = palmata ~ aestivalis + cinerea + labrusca + acerfolia + \n",
       "    riparia + rupestris + vulpina + riprup, data = lmean)\n",
       "\n",
       "Terms:\n",
       "                aestivalis   cinerea  labrusca acerfolia   riparia rupestris\n",
       "Sum of Squares    2.369894  5.522391  1.035116  0.192362  1.415714  2.422045\n",
       "Deg. of Freedom          1         1         1         1         1         1\n",
       "                  vulpina    riprup Residuals\n",
       "Sum of Squares   1.262074  3.765835 12.064821\n",
       "Deg. of Freedom         1         1         9\n",
       "\n",
       "Residual standard error: 1.157815\n",
       "Estimated effects may be unbalanced"
      ]
     },
     "metadata": {},
     "output_type": "display_data"
    },
    {
     "data": {
      "text/plain": [
       "Call:\n",
       "   aov(formula = riparia ~ aestivalis + cinerea + labrusca + palmata + \n",
       "    acerfolia + rupestris + vulpina + riprup, data = lmean)\n",
       "\n",
       "Terms:\n",
       "                aestivalis   cinerea  labrusca   palmata acerfolia rupestris\n",
       "Sum of Squares   3.0097987 0.0613122 0.3066288 0.1098829 1.0739669 0.0802253\n",
       "Deg. of Freedom          1         1         1         1         1         1\n",
       "                  vulpina    riprup Residuals\n",
       "Sum of Squares  0.0106819 0.4566401 0.1884932\n",
       "Deg. of Freedom         1         1         9\n",
       "\n",
       "Residual standard error: 0.1447194\n",
       "Estimated effects may be unbalanced"
      ]
     },
     "metadata": {},
     "output_type": "display_data"
    },
    {
     "data": {
      "text/plain": [
       "Call:\n",
       "   aov(formula = rupestris ~ aestivalis + cinerea + labrusca + palmata + \n",
       "    riparia + acerfolia + vulpina + riprup, data = lmean)\n",
       "\n",
       "Terms:\n",
       "                aestivalis  cinerea labrusca  palmata  riparia acerfolia\n",
       "Sum of Squares    3.245592 0.160617 0.028172 0.200448 0.345788  0.013438\n",
       "Deg. of Freedom          1        1        1        1        1         1\n",
       "                 vulpina   riprup Residuals\n",
       "Sum of Squares  0.086647 0.055819  0.524757\n",
       "Deg. of Freedom        1        1         9\n",
       "\n",
       "Residual standard error: 0.241467\n",
       "Estimated effects may be unbalanced"
      ]
     },
     "metadata": {},
     "output_type": "display_data"
    },
    {
     "data": {
      "text/plain": [
       "Call:\n",
       "   aov(formula = vulpina ~ aestivalis + cinerea + labrusca + palmata + \n",
       "    riparia + rupestris + acerfolia + riprup, data = lmean)\n",
       "\n",
       "Terms:\n",
       "                aestivalis  cinerea labrusca  palmata  riparia rupestris\n",
       "Sum of Squares    4.655136 0.524554 0.000388 0.000060 0.759518  0.163591\n",
       "Deg. of Freedom          1        1        1        1        1         1\n",
       "                acerfolia   riprup Residuals\n",
       "Sum of Squares   0.120644 0.316460  0.512098\n",
       "Deg. of Freedom         1        1         9\n",
       "\n",
       "Residual standard error: 0.2385366\n",
       "Estimated effects may be unbalanced"
      ]
     },
     "metadata": {},
     "output_type": "display_data"
    },
    {
     "data": {
      "text/plain": [
       "Call:\n",
       "   aov(formula = riprup ~ aestivalis + cinerea + labrusca + palmata + \n",
       "    riparia + rupestris + vulpina + acerfolia, data = lmean)\n",
       "\n",
       "Terms:\n",
       "                aestivalis   cinerea  labrusca   palmata   riparia rupestris\n",
       "Sum of Squares   3.0677312 0.2786089 0.0059127 0.0012561 0.3603699 0.0128725\n",
       "Deg. of Freedom          1         1         1         1         1         1\n",
       "                  vulpina acerfolia Residuals\n",
       "Sum of Squares  0.0202680 0.0010488 0.0238746\n",
       "Deg. of Freedom         1         1         9\n",
       "\n",
       "Residual standard error: 0.05150473\n",
       "Estimated effects may be unbalanced"
      ]
     },
     "metadata": {},
     "output_type": "display_data"
    }
   ],
   "source": [
    "aov(formula = acerfolia ~ aestivalis + cinerea + labrusca + palmata + \n",
    "    riparia + rupestris + vulpina + riprup, data = lmean)\n",
    "aov(formula = aestivalis ~ acerfolia + cinerea + labrusca + palmata + \n",
    "    riparia + rupestris + vulpina + riprup, data = lmean)\n",
    "aov(formula = cinerea ~ aestivalis + acerfolia + labrusca + palmata + \n",
    "    riparia + rupestris + vulpina + riprup, data = lmean)\n",
    "aov(formula = labrusca ~ aestivalis + cinerea + acerfolia + palmata + \n",
    "    riparia + rupestris + vulpina + riprup, data = lmean)\n",
    "aov(formula = palmata ~ aestivalis + cinerea + labrusca + acerfolia + \n",
    "    riparia + rupestris + vulpina + riprup, data = lmean)\n",
    "aov(formula = riparia ~ aestivalis + cinerea + labrusca + palmata + \n",
    "    acerfolia + rupestris + vulpina + riprup, data = lmean)\n",
    "aov(formula = rupestris ~ aestivalis + cinerea + labrusca + palmata + \n",
    "    riparia + acerfolia + vulpina + riprup, data = lmean)\n",
    "aov(formula = vulpina ~ aestivalis + cinerea + labrusca + palmata + \n",
    "    riparia + rupestris + acerfolia + riprup, data = lmean)\n",
    "aov(formula = riprup ~ aestivalis + cinerea + labrusca + palmata + \n",
    "    riparia + rupestris + vulpina + acerfolia, data = lmean)"
   ]
  }
 ],
 "metadata": {
  "kernelspec": {
   "display_name": "R",
   "language": "R",
   "name": "ir"
  },
  "language_info": {
   "codemirror_mode": "r",
   "file_extension": ".r",
   "mimetype": "text/x-r-source",
   "name": "R",
   "pygments_lexer": "r",
   "version": "3.6.1"
  }
 },
 "nbformat": 4,
 "nbformat_minor": 4
}
