{
 "cells": [
  {
   "cell_type": "code",
   "execution_count": 126,
   "metadata": {},
   "outputs": [
    {
     "name": "stderr",
     "output_type": "stream",
     "text": [
      "Installing package into 'C:/Users/daeda/OneDrive/Documents/R/win-library/3.6'\n",
      "(as 'lib' is unspecified)\n",
      "\n",
      "Warning message:\n",
      "\"package 'viridis' is in use and will not be installed\"\n",
      "Installing package into 'C:/Users/daeda/OneDrive/Documents/R/win-library/3.6'\n",
      "(as 'lib' is unspecified)\n",
      "\n",
      "Warning message:\n",
      "\"package 'missMDA' is in use and will not be installed\"\n",
      "Installing package into 'C:/Users/daeda/OneDrive/Documents/R/win-library/3.6'\n",
      "(as 'lib' is unspecified)\n",
      "\n",
      "Warning message:\n",
      "\"package 'factoextra' is in use and will not be installed\"\n",
      "Installing package into 'C:/Users/daeda/OneDrive/Documents/R/win-library/3.6'\n",
      "(as 'lib' is unspecified)\n",
      "\n",
      "Warning message:\n",
      "\"package 'MASS' is in use and will not be installed\"\n",
      "Installing package into 'C:/Users/daeda/OneDrive/Documents/R/win-library/3.6'\n",
      "(as 'lib' is unspecified)\n",
      "\n",
      "Warning message:\n",
      "\"package 'tidyverse' is in use and will not be installed\"\n",
      "Installing package into 'C:/Users/daeda/OneDrive/Documents/R/win-library/3.6'\n",
      "(as 'lib' is unspecified)\n",
      "\n",
      "Warning message:\n",
      "\"package 'anomalize' is in use and will not be installed\"\n",
      "Installing package into 'C:/Users/daeda/OneDrive/Documents/R/win-library/3.6'\n",
      "(as 'lib' is unspecified)\n",
      "\n",
      "Warning message:\n",
      "\"package 'ggthemes' is in use and will not be installed\"\n",
      "Installing package into 'C:/Users/daeda/OneDrive/Documents/R/win-library/3.6'\n",
      "(as 'lib' is unspecified)\n",
      "\n",
      "Warning message:\n",
      "\"package 'ggbeeswarm' is in use and will not be installed\"\n",
      "Installing package into 'C:/Users/daeda/OneDrive/Documents/R/win-library/3.6'\n",
      "(as 'lib' is unspecified)\n",
      "\n",
      "Warning message:\n",
      "\"package 'reshape' is in use and will not be installed\"\n",
      "Installing package into 'C:/Users/daeda/OneDrive/Documents/R/win-library/3.6'\n",
      "(as 'lib' is unspecified)\n",
      "\n",
      "also installing the dependencies 'e1071', 'classInt', 'labelled', 'combinat', 'questionr', 'klaR', 'AlgDesign'\n",
      "\n",
      "\n"
     ]
    },
    {
     "name": "stdout",
     "output_type": "stream",
     "text": [
      "package 'e1071' successfully unpacked and MD5 sums checked\n",
      "package 'classInt' successfully unpacked and MD5 sums checked\n",
      "package 'labelled' successfully unpacked and MD5 sums checked\n",
      "package 'combinat' successfully unpacked and MD5 sums checked\n",
      "package 'questionr' successfully unpacked and MD5 sums checked\n",
      "package 'klaR' successfully unpacked and MD5 sums checked\n",
      "package 'AlgDesign' successfully unpacked and MD5 sums checked\n",
      "package 'agricolae' successfully unpacked and MD5 sums checked\n",
      "\n",
      "The downloaded binary packages are in\n",
      "\tC:\\Users\\daeda\\AppData\\Local\\Temp\\Rtmpi8MUqv\\downloaded_packages\n"
     ]
    },
    {
     "name": "stderr",
     "output_type": "stream",
     "text": [
      "\n",
      "Attaching package: 'agricolae'\n",
      "\n",
      "\n",
      "The following object is masked from 'package:factoextra':\n",
      "\n",
      "    hcut\n",
      "\n",
      "\n"
     ]
    }
   ],
   "source": [
    "install.packages(\"viridis\")\n",
    "library(\"viridis\")\n",
    "install.packages(\"missMDA\")\n",
    "library(\"missMDA\")\n",
    "install.packages(\"factoextra\")\n",
    "library(\"factoextra\")\n",
    "install.packages(\"MASS\")\n",
    "library(\"MASS\")\n",
    "install.packages(\"tidyverse\")\n",
    "library(\"tidyverse\")\n",
    "install.packages(\"anomalize\")\n",
    "library(\"anomalize\")\n",
    "install.packages(\"ggthemes\")\n",
    "library(\"ggthemes\")\n",
    "install.packages(\"ggbeeswarm\")\n",
    "library(\"ggbeeswarm\")\n",
    "install.packages(\"reshape\")\n",
    "library(\"reshape\")\n",
    "install.packages(\"agricolae\")\n",
    "library(\"agricolae\")"
   ]
  },
  {
   "cell_type": "code",
   "execution_count": 6,
   "metadata": {},
   "outputs": [],
   "source": [
    "ionomics <- read.csv(\"New_ionStats.csv\",header = TRUE,colClasses =c(\"NULL\",\"NULL\",\"NULL\",NA,NA,NA,NA,NA,NA,NA,NA,NA,NA,NA,NA,NA,\n",
    "                                                                    NA,NA,NA,NA,NA,NA) )\n",
    "ionomics <- imputePCA(ionomics, method = \"Regularized\")\n",
    "ionomics <- ionomics$completeObs"
   ]
  },
  {
   "cell_type": "code",
   "execution_count": 7,
   "metadata": {},
   "outputs": [],
   "source": [
    "ionsPCA <- prcomp(ionomics,scale = FALSE)\n",
    "ionsPCAvar <- princomp(ionomics, cor = FALSE,score = TRUE)"
   ]
  },
  {
   "cell_type": "code",
   "execution_count": 8,
   "metadata": {},
   "outputs": [
    {
     "data": {
      "text/html": [
       "<table>\n",
       "<caption>A data.frame: 19 × 3</caption>\n",
       "<thead>\n",
       "\t<tr><th></th><th scope=col>eigenvalue</th><th scope=col>variance.percent</th><th scope=col>cumulative.variance.percent</th></tr>\n",
       "\t<tr><th></th><th scope=col>&lt;dbl&gt;</th><th scope=col>&lt;dbl&gt;</th><th scope=col>&lt;dbl&gt;</th></tr>\n",
       "</thead>\n",
       "<tbody>\n",
       "\t<tr><th scope=row>Dim.1</th><td>4.2863662670</td><td>3.413154e+01</td><td> 34.13154</td></tr>\n",
       "\t<tr><th scope=row>Dim.2</th><td>2.2957921863</td><td>1.828097e+01</td><td> 52.41251</td></tr>\n",
       "\t<tr><th scope=row>Dim.3</th><td>1.3200727499</td><td>1.051150e+01</td><td> 62.92401</td></tr>\n",
       "\t<tr><th scope=row>Dim.4</th><td>0.9091218602</td><td>7.239170e+00</td><td> 70.16318</td></tr>\n",
       "\t<tr><th scope=row>Dim.5</th><td>0.8389626875</td><td>6.680505e+00</td><td> 76.84368</td></tr>\n",
       "\t<tr><th scope=row>Dim.6</th><td>0.7012648841</td><td>5.584043e+00</td><td> 82.42773</td></tr>\n",
       "\t<tr><th scope=row>Dim.7</th><td>0.5119002229</td><td>4.076167e+00</td><td> 86.50389</td></tr>\n",
       "\t<tr><th scope=row>Dim.8</th><td>0.4047144150</td><td>3.222666e+00</td><td> 89.72656</td></tr>\n",
       "\t<tr><th scope=row>Dim.9</th><td>0.3076963790</td><td>2.450129e+00</td><td> 92.17669</td></tr>\n",
       "\t<tr><th scope=row>Dim.10</th><td>0.2620648352</td><td>2.086774e+00</td><td> 94.26346</td></tr>\n",
       "\t<tr><th scope=row>Dim.11</th><td>0.2058962073</td><td>1.639514e+00</td><td> 95.90298</td></tr>\n",
       "\t<tr><th scope=row>Dim.12</th><td>0.1783655080</td><td>1.420292e+00</td><td> 97.32327</td></tr>\n",
       "\t<tr><th scope=row>Dim.13</th><td>0.1208932474</td><td>9.626506e-01</td><td> 98.28592</td></tr>\n",
       "\t<tr><th scope=row>Dim.14</th><td>0.0856154533</td><td>6.817401e-01</td><td> 98.96766</td></tr>\n",
       "\t<tr><th scope=row>Dim.15</th><td>0.0655482047</td><td>5.219483e-01</td><td> 99.48961</td></tr>\n",
       "\t<tr><th scope=row>Dim.16</th><td>0.0612946887</td><td>4.880783e-01</td><td> 99.97769</td></tr>\n",
       "\t<tr><th scope=row>Dim.17</th><td>0.0015314913</td><td>1.219498e-02</td><td> 99.98988</td></tr>\n",
       "\t<tr><th scope=row>Dim.18</th><td>0.0011667301</td><td>9.290456e-03</td><td> 99.99917</td></tr>\n",
       "\t<tr><th scope=row>Dim.19</th><td>0.0001040778</td><td>8.287524e-04</td><td>100.00000</td></tr>\n",
       "</tbody>\n",
       "</table>\n"
      ],
      "text/latex": [
       "A data.frame: 19 × 3\n",
       "\\begin{tabular}{r|lll}\n",
       "  & eigenvalue & variance.percent & cumulative.variance.percent\\\\\n",
       "  & <dbl> & <dbl> & <dbl>\\\\\n",
       "\\hline\n",
       "\tDim.1 & 4.2863662670 & 3.413154e+01 &  34.13154\\\\\n",
       "\tDim.2 & 2.2957921863 & 1.828097e+01 &  52.41251\\\\\n",
       "\tDim.3 & 1.3200727499 & 1.051150e+01 &  62.92401\\\\\n",
       "\tDim.4 & 0.9091218602 & 7.239170e+00 &  70.16318\\\\\n",
       "\tDim.5 & 0.8389626875 & 6.680505e+00 &  76.84368\\\\\n",
       "\tDim.6 & 0.7012648841 & 5.584043e+00 &  82.42773\\\\\n",
       "\tDim.7 & 0.5119002229 & 4.076167e+00 &  86.50389\\\\\n",
       "\tDim.8 & 0.4047144150 & 3.222666e+00 &  89.72656\\\\\n",
       "\tDim.9 & 0.3076963790 & 2.450129e+00 &  92.17669\\\\\n",
       "\tDim.10 & 0.2620648352 & 2.086774e+00 &  94.26346\\\\\n",
       "\tDim.11 & 0.2058962073 & 1.639514e+00 &  95.90298\\\\\n",
       "\tDim.12 & 0.1783655080 & 1.420292e+00 &  97.32327\\\\\n",
       "\tDim.13 & 0.1208932474 & 9.626506e-01 &  98.28592\\\\\n",
       "\tDim.14 & 0.0856154533 & 6.817401e-01 &  98.96766\\\\\n",
       "\tDim.15 & 0.0655482047 & 5.219483e-01 &  99.48961\\\\\n",
       "\tDim.16 & 0.0612946887 & 4.880783e-01 &  99.97769\\\\\n",
       "\tDim.17 & 0.0015314913 & 1.219498e-02 &  99.98988\\\\\n",
       "\tDim.18 & 0.0011667301 & 9.290456e-03 &  99.99917\\\\\n",
       "\tDim.19 & 0.0001040778 & 8.287524e-04 & 100.00000\\\\\n",
       "\\end{tabular}\n"
      ],
      "text/markdown": [
       "\n",
       "A data.frame: 19 × 3\n",
       "\n",
       "| <!--/--> | eigenvalue &lt;dbl&gt; | variance.percent &lt;dbl&gt; | cumulative.variance.percent &lt;dbl&gt; |\n",
       "|---|---|---|---|\n",
       "| Dim.1 | 4.2863662670 | 3.413154e+01 |  34.13154 |\n",
       "| Dim.2 | 2.2957921863 | 1.828097e+01 |  52.41251 |\n",
       "| Dim.3 | 1.3200727499 | 1.051150e+01 |  62.92401 |\n",
       "| Dim.4 | 0.9091218602 | 7.239170e+00 |  70.16318 |\n",
       "| Dim.5 | 0.8389626875 | 6.680505e+00 |  76.84368 |\n",
       "| Dim.6 | 0.7012648841 | 5.584043e+00 |  82.42773 |\n",
       "| Dim.7 | 0.5119002229 | 4.076167e+00 |  86.50389 |\n",
       "| Dim.8 | 0.4047144150 | 3.222666e+00 |  89.72656 |\n",
       "| Dim.9 | 0.3076963790 | 2.450129e+00 |  92.17669 |\n",
       "| Dim.10 | 0.2620648352 | 2.086774e+00 |  94.26346 |\n",
       "| Dim.11 | 0.2058962073 | 1.639514e+00 |  95.90298 |\n",
       "| Dim.12 | 0.1783655080 | 1.420292e+00 |  97.32327 |\n",
       "| Dim.13 | 0.1208932474 | 9.626506e-01 |  98.28592 |\n",
       "| Dim.14 | 0.0856154533 | 6.817401e-01 |  98.96766 |\n",
       "| Dim.15 | 0.0655482047 | 5.219483e-01 |  99.48961 |\n",
       "| Dim.16 | 0.0612946887 | 4.880783e-01 |  99.97769 |\n",
       "| Dim.17 | 0.0015314913 | 1.219498e-02 |  99.98988 |\n",
       "| Dim.18 | 0.0011667301 | 9.290456e-03 |  99.99917 |\n",
       "| Dim.19 | 0.0001040778 | 8.287524e-04 | 100.00000 |\n",
       "\n"
      ],
      "text/plain": [
       "       eigenvalue   variance.percent cumulative.variance.percent\n",
       "Dim.1  4.2863662670 3.413154e+01      34.13154                  \n",
       "Dim.2  2.2957921863 1.828097e+01      52.41251                  \n",
       "Dim.3  1.3200727499 1.051150e+01      62.92401                  \n",
       "Dim.4  0.9091218602 7.239170e+00      70.16318                  \n",
       "Dim.5  0.8389626875 6.680505e+00      76.84368                  \n",
       "Dim.6  0.7012648841 5.584043e+00      82.42773                  \n",
       "Dim.7  0.5119002229 4.076167e+00      86.50389                  \n",
       "Dim.8  0.4047144150 3.222666e+00      89.72656                  \n",
       "Dim.9  0.3076963790 2.450129e+00      92.17669                  \n",
       "Dim.10 0.2620648352 2.086774e+00      94.26346                  \n",
       "Dim.11 0.2058962073 1.639514e+00      95.90298                  \n",
       "Dim.12 0.1783655080 1.420292e+00      97.32327                  \n",
       "Dim.13 0.1208932474 9.626506e-01      98.28592                  \n",
       "Dim.14 0.0856154533 6.817401e-01      98.96766                  \n",
       "Dim.15 0.0655482047 5.219483e-01      99.48961                  \n",
       "Dim.16 0.0612946887 4.880783e-01      99.97769                  \n",
       "Dim.17 0.0015314913 1.219498e-02      99.98988                  \n",
       "Dim.18 0.0011667301 9.290456e-03      99.99917                  \n",
       "Dim.19 0.0001040778 8.287524e-04     100.00000                  "
      ]
     },
     "metadata": {},
     "output_type": "display_data"
    }
   ],
   "source": [
    "eig.val <- get_eigenvalue(ionsPCA)\n",
    "eig.val"
   ]
  },
  {
   "cell_type": "markdown",
   "metadata": {},
   "source": [
    "This shows the different dimensions, or eigenvalues associated with this PCA. The values are ranked from largest to smallest, as a larger value indicates more % variance explained. This also shows us the % variance explained by each dimension (multiply the eigenvalue by 10), as well as the cumulative % variance explained. With only 2 dimensions, we can explain 49% of the variance of 20 dimensions. "
   ]
  },
  {
   "cell_type": "code",
   "execution_count": 9,
   "metadata": {},
   "outputs": [
    {
     "data": {
      "image/png": "[encoded data removed]",
      "text/plain": [
       "plot without title"
      ]
     },
     "metadata": {
      "image/png": {
       "height": 420,
       "width": 420
      },
      "text/plain": {
       "height": 420,
       "width": 420
      }
     },
     "output_type": "display_data"
    }
   ],
   "source": [
    "fviz_eig(ionsPCA, linecolor = \"#FC4E07\",\n",
    "   barcolor = \"#00AFBB\", barfill = \"#00AFBB\")"
   ]
  },
  {
   "cell_type": "code",
   "execution_count": 10,
   "metadata": {},
   "outputs": [
    {
     "data": {
      "text/plain": [
       "Importance of components:\n",
       "                          Comp.1    Comp.2    Comp.3    Comp.4     Comp.5\n",
       "Standard deviation     2.0651976 1.5114134 1.1460826 0.9511040 0.91366774\n",
       "Proportion of Variance 0.3413154 0.1828097 0.1051150 0.0723917 0.06680505\n",
       "Cumulative Proportion  0.3413154 0.5241251 0.6292401 0.7016318 0.76843684\n",
       "                           Comp.6     Comp.7     Comp.8     Comp.9    Comp.10\n",
       "Standard deviation     0.83532988 0.71369003 0.63458720 0.55332229 0.51064766\n",
       "Proportion of Variance 0.05584043 0.04076167 0.03222666 0.02450129 0.02086774\n",
       "Cumulative Proportion  0.82427727 0.86503894 0.89726560 0.92176689 0.94263463\n",
       "                          Comp.11    Comp.12     Comp.13     Comp.14\n",
       "Standard deviation     0.45262771 0.42128152 0.346831066 0.291872414\n",
       "Proportion of Variance 0.01639514 0.01420292 0.009626506 0.006817401\n",
       "Cumulative Proportion  0.95902977 0.97323269 0.982859192 0.989676593\n",
       "                           Comp.15     Comp.16      Comp.17      Comp.18\n",
       "Standard deviation     0.255386167 0.246961009 0.0390368022 3.407236e-02\n",
       "Proportion of Variance 0.005219483 0.004880783 0.0001219498 9.290456e-05\n",
       "Cumulative Proportion  0.994896075 0.999776858 0.9998988079 9.999917e-01\n",
       "                            Comp.19\n",
       "Standard deviation     1.017644e-02\n",
       "Proportion of Variance 8.287524e-06\n",
       "Cumulative Proportion  1.000000e+00"
      ]
     },
     "metadata": {},
     "output_type": "display_data"
    }
   ],
   "source": [
    "summary(ionsPCAvar)"
   ]
  },
  {
   "cell_type": "code",
   "execution_count": 11,
   "metadata": {},
   "outputs": [
    {
     "data": {
      "image/png": "[encoded data removed]",
      "text/plain": [
       "plot without title"
      ]
     },
     "metadata": {
      "image/png": {
       "height": 420,
       "width": 420
      },
      "text/plain": {
       "height": 420,
       "width": 420
      }
     },
     "output_type": "display_data"
    }
   ],
   "source": [
    "fviz_pca_biplot(ionsPCA, repel = FALSE,\n",
    "                col.var = \"#2E9FDF\", # Variables color\n",
    "                col.ind = \"#696969\"  # Individuals color\n",
    "                )"
   ]
  },
  {
   "cell_type": "markdown",
   "metadata": {},
   "source": [
    "* Positively correlated variables are grouped together\n",
    "* Negatively correlated variables are positioned on opposite sides of the plot origin (opposed quadrants).\n",
    "* The distance between variables and the origin measures the quality of the variables on the factor map. Variables that are away from the origin are well represented on the factor map.\n",
    "\n",
    "From [here](http://www.sthda.com/english/articles/31-principal-component-methods-in-r-practical-guide/112-pca-principal-component-analysis-essentials/)"
   ]
  },
  {
   "cell_type": "code",
   "execution_count": 12,
   "metadata": {},
   "outputs": [
    {
     "data": {
      "text/html": [
       "<style>\n",
       ".dl-inline {width: auto; margin:0; padding: 0}\n",
       ".dl-inline>dt, .dl-inline>dd {float: none; width: auto; display: inline-block}\n",
       ".dl-inline>dt::after {content: \":\\0020\"; padding-right: .5ex}\n",
       ".dl-inline>dt:not(:first-of-type) {padding-left: .5ex}\n",
       "</style><dl class=dl-inline><dt>B11</dt><dd>0.248776348701375</dd><dt>Na23</dt><dd>6.74729567775214</dd><dt>Mg26</dt><dd>6.07020651403341</dd><dt>Al27</dt><dd>0.00663394350816599</dd><dt>P31</dt><dd>10.4360947358808</dd><dt>S34</dt><dd>0.00239264248674174</dd><dt>K39</dt><dd>7.67438319261422</dd><dt>Ca44</dt><dd>0.779595069653169</dd><dt>Fe54</dt><dd>0.877687744372654</dd><dt>Mn55</dt><dd>12.0989883079663</dd><dt>Co59</dt><dd>13.3306881151856</dd><dt>Ni60</dt><dd>4.96152102810624</dd><dt>Cu63</dt><dd>13.7762385571863</dd><dt>Zn66</dt><dd>13.1284323580708</dd><dt>As75</dt><dd>0.0195038090154961</dd><dt>Rb85</dt><dd>3.7238069505228</dd><dt>Sr88</dt><dd>0.456037565413706</dd><dt>Mo98</dt><dd>5.29226736222954</dd><dt>Cd111</dt><dd>0.369450077300503</dd></dl>\n"
      ],
      "text/latex": [
       "\\begin{description*}\n",
       "\\item[B11] 0.248776348701375\n",
       "\\item[Na23] 6.74729567775214\n",
       "\\item[Mg26] 6.07020651403341\n",
       "\\item[Al27] 0.00663394350816599\n",
       "\\item[P31] 10.4360947358808\n",
       "\\item[S34] 0.00239264248674174\n",
       "\\item[K39] 7.67438319261422\n",
       "\\item[Ca44] 0.779595069653169\n",
       "\\item[Fe54] 0.877687744372654\n",
       "\\item[Mn55] 12.0989883079663\n",
       "\\item[Co59] 13.3306881151856\n",
       "\\item[Ni60] 4.96152102810624\n",
       "\\item[Cu63] 13.7762385571863\n",
       "\\item[Zn66] 13.1284323580708\n",
       "\\item[As75] 0.0195038090154961\n",
       "\\item[Rb85] 3.7238069505228\n",
       "\\item[Sr88] 0.456037565413706\n",
       "\\item[Mo98] 5.29226736222954\n",
       "\\item[Cd111] 0.369450077300503\n",
       "\\end{description*}\n"
      ],
      "text/markdown": [
       "B11\n",
       ":   0.248776348701375Na23\n",
       ":   6.74729567775214Mg26\n",
       ":   6.07020651403341Al27\n",
       ":   0.00663394350816599P31\n",
       ":   10.4360947358808S34\n",
       ":   0.00239264248674174K39\n",
       ":   7.67438319261422Ca44\n",
       ":   0.779595069653169Fe54\n",
       ":   0.877687744372654Mn55\n",
       ":   12.0989883079663Co59\n",
       ":   13.3306881151856Ni60\n",
       ":   4.96152102810624Cu63\n",
       ":   13.7762385571863Zn66\n",
       ":   13.1284323580708As75\n",
       ":   0.0195038090154961Rb85\n",
       ":   3.7238069505228Sr88\n",
       ":   0.456037565413706Mo98\n",
       ":   5.29226736222954Cd111\n",
       ":   0.369450077300503\n",
       "\n"
      ],
      "text/plain": [
       "         B11         Na23         Mg26         Al27          P31          S34 \n",
       " 0.248776349  6.747295678  6.070206514  0.006633944 10.436094736  0.002392642 \n",
       "         K39         Ca44         Fe54         Mn55         Co59         Ni60 \n",
       " 7.674383193  0.779595070  0.877687744 12.098988308 13.330688115  4.961521028 \n",
       "        Cu63         Zn66         As75         Rb85         Sr88         Mo98 \n",
       "13.776238557 13.128432358  0.019503809  3.723806951  0.456037565  5.292267362 \n",
       "       Cd111 \n",
       " 0.369450077 "
      ]
     },
     "metadata": {},
     "output_type": "display_data"
    },
    {
     "data": {
      "text/html": [
       "<style>\n",
       ".dl-inline {width: auto; margin:0; padding: 0}\n",
       ".dl-inline>dt, .dl-inline>dd {float: none; width: auto; display: inline-block}\n",
       ".dl-inline>dt::after {content: \":\\0020\"; padding-right: .5ex}\n",
       ".dl-inline>dt:not(:first-of-type) {padding-left: .5ex}\n",
       "</style><dl class=dl-inline><dt>B11</dt><dd>0.227528835268299</dd><dt>Na23</dt><dd>3.94106124614715</dd><dt>Mg26</dt><dd>4.50785678342287</dd><dt>Al27</dt><dd>0.000126514600766853</dd><dt>P31</dt><dd>0.447065125479431</dd><dt>S34</dt><dd>0.000714443798679004</dd><dt>K39</dt><dd>5.19455846476661</dd><dt>Ca44</dt><dd>37.2082343090519</dd><dt>Fe54</dt><dd>0.958179980533279</dd><dt>Mn55</dt><dd>0.654091643655139</dd><dt>Co59</dt><dd>0.211729018013799</dd><dt>Ni60</dt><dd>0.739709094519659</dd><dt>Cu63</dt><dd>0.000499551070815385</dd><dt>Zn66</dt><dd>0.0368673597106539</dd><dt>As75</dt><dd>0.00244718421381102</dd><dt>Rb85</dt><dd>8.47461448774992</dd><dt>Sr88</dt><dd>34.2368978005763</dd><dt>Mo98</dt><dd>3.12463827817958</dd><dt>Cd111</dt><dd>0.0331798792412621</dd></dl>\n"
      ],
      "text/latex": [
       "\\begin{description*}\n",
       "\\item[B11] 0.227528835268299\n",
       "\\item[Na23] 3.94106124614715\n",
       "\\item[Mg26] 4.50785678342287\n",
       "\\item[Al27] 0.000126514600766853\n",
       "\\item[P31] 0.447065125479431\n",
       "\\item[S34] 0.000714443798679004\n",
       "\\item[K39] 5.19455846476661\n",
       "\\item[Ca44] 37.2082343090519\n",
       "\\item[Fe54] 0.958179980533279\n",
       "\\item[Mn55] 0.654091643655139\n",
       "\\item[Co59] 0.211729018013799\n",
       "\\item[Ni60] 0.739709094519659\n",
       "\\item[Cu63] 0.000499551070815385\n",
       "\\item[Zn66] 0.0368673597106539\n",
       "\\item[As75] 0.00244718421381102\n",
       "\\item[Rb85] 8.47461448774992\n",
       "\\item[Sr88] 34.2368978005763\n",
       "\\item[Mo98] 3.12463827817958\n",
       "\\item[Cd111] 0.0331798792412621\n",
       "\\end{description*}\n"
      ],
      "text/markdown": [
       "B11\n",
       ":   0.227528835268299Na23\n",
       ":   3.94106124614715Mg26\n",
       ":   4.50785678342287Al27\n",
       ":   0.000126514600766853P31\n",
       ":   0.447065125479431S34\n",
       ":   0.000714443798679004K39\n",
       ":   5.19455846476661Ca44\n",
       ":   37.2082343090519Fe54\n",
       ":   0.958179980533279Mn55\n",
       ":   0.654091643655139Co59\n",
       ":   0.211729018013799Ni60\n",
       ":   0.739709094519659Cu63\n",
       ":   0.000499551070815385Zn66\n",
       ":   0.0368673597106539As75\n",
       ":   0.00244718421381102Rb85\n",
       ":   8.47461448774992Sr88\n",
       ":   34.2368978005763Mo98\n",
       ":   3.12463827817958Cd111\n",
       ":   0.0331798792412621\n",
       "\n"
      ],
      "text/plain": [
       "         B11         Na23         Mg26         Al27          P31          S34 \n",
       "2.275288e-01 3.941061e+00 4.507857e+00 1.265146e-04 4.470651e-01 7.144438e-04 \n",
       "         K39         Ca44         Fe54         Mn55         Co59         Ni60 \n",
       "5.194558e+00 3.720823e+01 9.581800e-01 6.540916e-01 2.117290e-01 7.397091e-01 \n",
       "        Cu63         Zn66         As75         Rb85         Sr88         Mo98 \n",
       "4.995511e-04 3.686736e-02 2.447184e-03 8.474614e+00 3.423690e+01 3.124638e+00 \n",
       "       Cd111 \n",
       "3.317988e-02 "
      ]
     },
     "metadata": {},
     "output_type": "display_data"
    }
   ],
   "source": [
    "pcaVars <- get_pca_var(ionsPCA)\n",
    "pcaVars$contrib[,1]\n",
    "pcaVars$contrib[,2]"
   ]
  },
  {
   "cell_type": "markdown",
   "metadata": {},
   "source": [
    "Basically plotting Ca + Sr vs P + Cu"
   ]
  },
  {
   "cell_type": "code",
   "execution_count": 13,
   "metadata": {},
   "outputs": [
    {
     "data": {
      "text/html": [
       "<table>\n",
       "<caption>A matrix: 19 × 19 of type dbl</caption>\n",
       "<thead>\n",
       "\t<tr><th></th><th scope=col>B11</th><th scope=col>Na23</th><th scope=col>Mg26</th><th scope=col>Al27</th><th scope=col>P31</th><th scope=col>S34</th><th scope=col>K39</th><th scope=col>Ca44</th><th scope=col>Fe54</th><th scope=col>Mn55</th><th scope=col>Co59</th><th scope=col>Ni60</th><th scope=col>Cu63</th><th scope=col>Zn66</th><th scope=col>As75</th><th scope=col>Rb85</th><th scope=col>Sr88</th><th scope=col>Mo98</th><th scope=col>Cd111</th></tr>\n",
       "</thead>\n",
       "<tbody>\n",
       "\t<tr><th scope=row>B11</th><td> 1.00000000</td><td> 0.4309865</td><td>-0.02951813</td><td>0.18435886</td><td>0.02308449</td><td>0.07101123</td><td> 0.1769809</td><td>-0.03485434</td><td>0.20068530</td><td>0.08912558</td><td> 0.088875273</td><td> 0.16109535</td><td>0.13861191</td><td>0.2237912</td><td> 0.22464465</td><td> 0.210702844</td><td>-0.029563380</td><td>0.06745091</td><td>0.090042928</td></tr>\n",
       "\t<tr><th scope=row>Na23</th><td> 0.43098653</td><td> 1.0000000</td><td> 0.12829892</td><td>0.39165867</td><td>0.36003636</td><td>0.22320278</td><td> 0.3704877</td><td>-0.12098001</td><td>0.12840897</td><td>0.33361998</td><td> 0.337493860</td><td> 0.43462231</td><td>0.39602993</td><td>0.4184365</td><td> 0.37591790</td><td> 0.260093042</td><td>-0.108088054</td><td>0.10606067</td><td>0.171606460</td></tr>\n",
       "\t<tr><th scope=row>Mg26</th><td>-0.02951813</td><td> 0.1282989</td><td> 1.00000000</td><td>0.15609677</td><td>0.39153659</td><td>0.29601583</td><td> 0.2690713</td><td> 0.29463245</td><td>0.11015992</td><td>0.21098861</td><td> 0.213238525</td><td> 0.27140102</td><td>0.49524274</td><td>0.3740253</td><td> 0.35424291</td><td> 0.031954320</td><td> 0.323981598</td><td>0.10926659</td><td>0.292026453</td></tr>\n",
       "\t<tr><th scope=row>Al27</th><td> 0.18435886</td><td> 0.3916587</td><td> 0.15609677</td><td>1.00000000</td><td>0.29208769</td><td>0.23205605</td><td> 0.2096926</td><td> 0.02120626</td><td>0.10969226</td><td>0.25513035</td><td> 0.253584537</td><td> 0.27915344</td><td>0.29194371</td><td>0.3120363</td><td> 0.33144517</td><td> 0.214129464</td><td> 0.121094587</td><td>0.14401393</td><td>0.131491096</td></tr>\n",
       "\t<tr><th scope=row>P31</th><td> 0.02308449</td><td> 0.3600364</td><td> 0.39153659</td><td>0.29208769</td><td>1.00000000</td><td>0.52684256</td><td> 0.5589872</td><td> 0.02626569</td><td>0.26595457</td><td>0.31901479</td><td> 0.382506562</td><td> 0.49896976</td><td>0.67976741</td><td>0.3993171</td><td> 0.36268697</td><td> 0.290332708</td><td> 0.013566512</td><td>0.38183242</td><td>0.264627205</td></tr>\n",
       "\t<tr><th scope=row>S34</th><td> 0.07101123</td><td> 0.2232028</td><td> 0.29601583</td><td>0.23205605</td><td>0.52684256</td><td>1.00000000</td><td> 0.2607242</td><td> 0.36901720</td><td>0.45474144</td><td>0.56674135</td><td> 0.489214564</td><td> 0.34214753</td><td>0.45870173</td><td>0.4744151</td><td> 0.32753873</td><td> 0.197357226</td><td> 0.308831226</td><td>0.45145624</td><td>0.251493797</td></tr>\n",
       "\t<tr><th scope=row>K39</th><td> 0.17698091</td><td> 0.3704877</td><td> 0.26907135</td><td>0.20969262</td><td>0.55898717</td><td>0.26072423</td><td> 1.0000000</td><td>-0.13073687</td><td>0.10580413</td><td>0.16972404</td><td> 0.217145970</td><td> 0.43434409</td><td>0.47137189</td><td>0.3419428</td><td> 0.35089305</td><td> 0.346979291</td><td>-0.144855793</td><td>0.17464026</td><td>0.154119840</td></tr>\n",
       "\t<tr><th scope=row>Ca44</th><td>-0.03485434</td><td>-0.1209800</td><td> 0.29463245</td><td>0.02120626</td><td>0.02626569</td><td>0.36901720</td><td>-0.1307369</td><td> 1.00000000</td><td>0.40045798</td><td>0.23446682</td><td> 0.058550633</td><td>-0.05347892</td><td>0.08107438</td><td>0.1924351</td><td>-0.02709307</td><td>-0.273580445</td><td> 0.868185116</td><td>0.26263906</td><td>0.118569370</td></tr>\n",
       "\t<tr><th scope=row>Fe54</th><td> 0.20068530</td><td> 0.1284090</td><td> 0.11015992</td><td>0.10969226</td><td>0.26595457</td><td>0.45474144</td><td> 0.1058041</td><td> 0.40045798</td><td>1.00000000</td><td>0.34775900</td><td> 0.339113446</td><td> 0.22143926</td><td>0.24302801</td><td>0.3276395</td><td> 0.08711381</td><td> 0.094954920</td><td> 0.327814080</td><td>0.33104401</td><td>0.105997670</td></tr>\n",
       "\t<tr><th scope=row>Mn55</th><td> 0.08912558</td><td> 0.3336200</td><td> 0.21098861</td><td>0.25513035</td><td>0.31901479</td><td>0.56674135</td><td> 0.1697240</td><td> 0.23446682</td><td>0.34775900</td><td>1.00000000</td><td> 0.817270318</td><td> 0.50602960</td><td>0.36817017</td><td>0.6601853</td><td> 0.42030630</td><td> 0.135844528</td><td> 0.121235720</td><td>0.25767110</td><td>0.288146609</td></tr>\n",
       "\t<tr><th scope=row>Co59</th><td> 0.08887527</td><td> 0.3374939</td><td> 0.21323853</td><td>0.25358454</td><td>0.38250656</td><td>0.48921456</td><td> 0.2171460</td><td> 0.05855063</td><td>0.33911345</td><td>0.81727032</td><td> 1.000000000</td><td> 0.74874330</td><td>0.40860167</td><td>0.6124470</td><td> 0.46364246</td><td> 0.315489856</td><td>-0.007759198</td><td>0.23558242</td><td>0.309927772</td></tr>\n",
       "\t<tr><th scope=row>Ni60</th><td> 0.16109535</td><td> 0.4346223</td><td> 0.27140102</td><td>0.27915344</td><td>0.49896976</td><td>0.34214753</td><td> 0.4343441</td><td>-0.05347892</td><td>0.22143926</td><td>0.50602960</td><td> 0.748743297</td><td> 1.00000000</td><td>0.53379146</td><td>0.5395069</td><td> 0.45578450</td><td> 0.313689926</td><td>-0.097369282</td><td>0.26654723</td><td>0.333563361</td></tr>\n",
       "\t<tr><th scope=row>Cu63</th><td> 0.13861191</td><td> 0.3960299</td><td> 0.49524274</td><td>0.29194371</td><td>0.67976741</td><td>0.45870173</td><td> 0.4713719</td><td> 0.08107438</td><td>0.24302801</td><td>0.36817017</td><td> 0.408601669</td><td> 0.53379146</td><td>1.00000000</td><td>0.5107237</td><td> 0.42097840</td><td> 0.174906651</td><td> 0.070202093</td><td>0.42567292</td><td>0.394729397</td></tr>\n",
       "\t<tr><th scope=row>Zn66</th><td> 0.22379116</td><td> 0.4184365</td><td> 0.37402528</td><td>0.31203632</td><td>0.39931708</td><td>0.47441513</td><td> 0.3419428</td><td> 0.19243510</td><td>0.32763950</td><td>0.66018528</td><td> 0.612447035</td><td> 0.53950689</td><td>0.51072374</td><td>1.0000000</td><td> 0.58602794</td><td> 0.340270830</td><td> 0.092360298</td><td>0.29410976</td><td>0.396189272</td></tr>\n",
       "\t<tr><th scope=row>As75</th><td> 0.22464465</td><td> 0.3759179</td><td> 0.35424291</td><td>0.33144517</td><td>0.36268697</td><td>0.32753873</td><td> 0.3508931</td><td>-0.02709307</td><td>0.08711381</td><td>0.42030630</td><td> 0.463642458</td><td> 0.45578450</td><td>0.42097840</td><td>0.5860279</td><td> 1.00000000</td><td> 0.326915445</td><td>-0.045911733</td><td>0.06130278</td><td>0.243409582</td></tr>\n",
       "\t<tr><th scope=row>Rb85</th><td> 0.21070284</td><td> 0.2600930</td><td> 0.03195432</td><td>0.21412946</td><td>0.29033271</td><td>0.19735723</td><td> 0.3469793</td><td>-0.27358045</td><td>0.09495492</td><td>0.13584453</td><td> 0.315489856</td><td> 0.31368993</td><td>0.17490665</td><td>0.3402708</td><td> 0.32691544</td><td> 1.000000000</td><td>-0.115125098</td><td>0.06657913</td><td>0.008292661</td></tr>\n",
       "\t<tr><th scope=row>Sr88</th><td>-0.02956338</td><td>-0.1080881</td><td> 0.32398160</td><td>0.12109459</td><td>0.01356651</td><td>0.30883123</td><td>-0.1448558</td><td> 0.86818512</td><td>0.32781408</td><td>0.12123572</td><td>-0.007759198</td><td>-0.09736928</td><td>0.07020209</td><td>0.0923603</td><td>-0.04591173</td><td>-0.115125098</td><td> 1.000000000</td><td>0.22778343</td><td>0.076916714</td></tr>\n",
       "\t<tr><th scope=row>Mo98</th><td> 0.06745091</td><td> 0.1060607</td><td> 0.10926659</td><td>0.14401393</td><td>0.38183242</td><td>0.45145624</td><td> 0.1746403</td><td> 0.26263906</td><td>0.33104401</td><td>0.25767110</td><td> 0.235582420</td><td> 0.26654723</td><td>0.42567292</td><td>0.2941098</td><td> 0.06130278</td><td> 0.066579128</td><td> 0.227783434</td><td>1.00000000</td><td>0.234045272</td></tr>\n",
       "\t<tr><th scope=row>Cd111</th><td> 0.09004293</td><td> 0.1716065</td><td> 0.29202645</td><td>0.13149110</td><td>0.26462721</td><td>0.25149380</td><td> 0.1541198</td><td> 0.11856937</td><td>0.10599767</td><td>0.28814661</td><td> 0.309927772</td><td> 0.33356336</td><td>0.39472940</td><td>0.3961893</td><td> 0.24340958</td><td> 0.008292661</td><td> 0.076916714</td><td>0.23404527</td><td>1.000000000</td></tr>\n",
       "</tbody>\n",
       "</table>\n"
      ],
      "text/latex": [
       "A matrix: 19 × 19 of type dbl\n",
       "\\begin{tabular}{r|lllllllllllllllllll}\n",
       "  & B11 & Na23 & Mg26 & Al27 & P31 & S34 & K39 & Ca44 & Fe54 & Mn55 & Co59 & Ni60 & Cu63 & Zn66 & As75 & Rb85 & Sr88 & Mo98 & Cd111\\\\\n",
       "\\hline\n",
       "\tB11 &  1.00000000 &  0.4309865 & -0.02951813 & 0.18435886 & 0.02308449 & 0.07101123 &  0.1769809 & -0.03485434 & 0.20068530 & 0.08912558 &  0.088875273 &  0.16109535 & 0.13861191 & 0.2237912 &  0.22464465 &  0.210702844 & -0.029563380 & 0.06745091 & 0.090042928\\\\\n",
       "\tNa23 &  0.43098653 &  1.0000000 &  0.12829892 & 0.39165867 & 0.36003636 & 0.22320278 &  0.3704877 & -0.12098001 & 0.12840897 & 0.33361998 &  0.337493860 &  0.43462231 & 0.39602993 & 0.4184365 &  0.37591790 &  0.260093042 & -0.108088054 & 0.10606067 & 0.171606460\\\\\n",
       "\tMg26 & -0.02951813 &  0.1282989 &  1.00000000 & 0.15609677 & 0.39153659 & 0.29601583 &  0.2690713 &  0.29463245 & 0.11015992 & 0.21098861 &  0.213238525 &  0.27140102 & 0.49524274 & 0.3740253 &  0.35424291 &  0.031954320 &  0.323981598 & 0.10926659 & 0.292026453\\\\\n",
       "\tAl27 &  0.18435886 &  0.3916587 &  0.15609677 & 1.00000000 & 0.29208769 & 0.23205605 &  0.2096926 &  0.02120626 & 0.10969226 & 0.25513035 &  0.253584537 &  0.27915344 & 0.29194371 & 0.3120363 &  0.33144517 &  0.214129464 &  0.121094587 & 0.14401393 & 0.131491096\\\\\n",
       "\tP31 &  0.02308449 &  0.3600364 &  0.39153659 & 0.29208769 & 1.00000000 & 0.52684256 &  0.5589872 &  0.02626569 & 0.26595457 & 0.31901479 &  0.382506562 &  0.49896976 & 0.67976741 & 0.3993171 &  0.36268697 &  0.290332708 &  0.013566512 & 0.38183242 & 0.264627205\\\\\n",
       "\tS34 &  0.07101123 &  0.2232028 &  0.29601583 & 0.23205605 & 0.52684256 & 1.00000000 &  0.2607242 &  0.36901720 & 0.45474144 & 0.56674135 &  0.489214564 &  0.34214753 & 0.45870173 & 0.4744151 &  0.32753873 &  0.197357226 &  0.308831226 & 0.45145624 & 0.251493797\\\\\n",
       "\tK39 &  0.17698091 &  0.3704877 &  0.26907135 & 0.20969262 & 0.55898717 & 0.26072423 &  1.0000000 & -0.13073687 & 0.10580413 & 0.16972404 &  0.217145970 &  0.43434409 & 0.47137189 & 0.3419428 &  0.35089305 &  0.346979291 & -0.144855793 & 0.17464026 & 0.154119840\\\\\n",
       "\tCa44 & -0.03485434 & -0.1209800 &  0.29463245 & 0.02120626 & 0.02626569 & 0.36901720 & -0.1307369 &  1.00000000 & 0.40045798 & 0.23446682 &  0.058550633 & -0.05347892 & 0.08107438 & 0.1924351 & -0.02709307 & -0.273580445 &  0.868185116 & 0.26263906 & 0.118569370\\\\\n",
       "\tFe54 &  0.20068530 &  0.1284090 &  0.11015992 & 0.10969226 & 0.26595457 & 0.45474144 &  0.1058041 &  0.40045798 & 1.00000000 & 0.34775900 &  0.339113446 &  0.22143926 & 0.24302801 & 0.3276395 &  0.08711381 &  0.094954920 &  0.327814080 & 0.33104401 & 0.105997670\\\\\n",
       "\tMn55 &  0.08912558 &  0.3336200 &  0.21098861 & 0.25513035 & 0.31901479 & 0.56674135 &  0.1697240 &  0.23446682 & 0.34775900 & 1.00000000 &  0.817270318 &  0.50602960 & 0.36817017 & 0.6601853 &  0.42030630 &  0.135844528 &  0.121235720 & 0.25767110 & 0.288146609\\\\\n",
       "\tCo59 &  0.08887527 &  0.3374939 &  0.21323853 & 0.25358454 & 0.38250656 & 0.48921456 &  0.2171460 &  0.05855063 & 0.33911345 & 0.81727032 &  1.000000000 &  0.74874330 & 0.40860167 & 0.6124470 &  0.46364246 &  0.315489856 & -0.007759198 & 0.23558242 & 0.309927772\\\\\n",
       "\tNi60 &  0.16109535 &  0.4346223 &  0.27140102 & 0.27915344 & 0.49896976 & 0.34214753 &  0.4343441 & -0.05347892 & 0.22143926 & 0.50602960 &  0.748743297 &  1.00000000 & 0.53379146 & 0.5395069 &  0.45578450 &  0.313689926 & -0.097369282 & 0.26654723 & 0.333563361\\\\\n",
       "\tCu63 &  0.13861191 &  0.3960299 &  0.49524274 & 0.29194371 & 0.67976741 & 0.45870173 &  0.4713719 &  0.08107438 & 0.24302801 & 0.36817017 &  0.408601669 &  0.53379146 & 1.00000000 & 0.5107237 &  0.42097840 &  0.174906651 &  0.070202093 & 0.42567292 & 0.394729397\\\\\n",
       "\tZn66 &  0.22379116 &  0.4184365 &  0.37402528 & 0.31203632 & 0.39931708 & 0.47441513 &  0.3419428 &  0.19243510 & 0.32763950 & 0.66018528 &  0.612447035 &  0.53950689 & 0.51072374 & 1.0000000 &  0.58602794 &  0.340270830 &  0.092360298 & 0.29410976 & 0.396189272\\\\\n",
       "\tAs75 &  0.22464465 &  0.3759179 &  0.35424291 & 0.33144517 & 0.36268697 & 0.32753873 &  0.3508931 & -0.02709307 & 0.08711381 & 0.42030630 &  0.463642458 &  0.45578450 & 0.42097840 & 0.5860279 &  1.00000000 &  0.326915445 & -0.045911733 & 0.06130278 & 0.243409582\\\\\n",
       "\tRb85 &  0.21070284 &  0.2600930 &  0.03195432 & 0.21412946 & 0.29033271 & 0.19735723 &  0.3469793 & -0.27358045 & 0.09495492 & 0.13584453 &  0.315489856 &  0.31368993 & 0.17490665 & 0.3402708 &  0.32691544 &  1.000000000 & -0.115125098 & 0.06657913 & 0.008292661\\\\\n",
       "\tSr88 & -0.02956338 & -0.1080881 &  0.32398160 & 0.12109459 & 0.01356651 & 0.30883123 & -0.1448558 &  0.86818512 & 0.32781408 & 0.12123572 & -0.007759198 & -0.09736928 & 0.07020209 & 0.0923603 & -0.04591173 & -0.115125098 &  1.000000000 & 0.22778343 & 0.076916714\\\\\n",
       "\tMo98 &  0.06745091 &  0.1060607 &  0.10926659 & 0.14401393 & 0.38183242 & 0.45145624 &  0.1746403 &  0.26263906 & 0.33104401 & 0.25767110 &  0.235582420 &  0.26654723 & 0.42567292 & 0.2941098 &  0.06130278 &  0.066579128 &  0.227783434 & 1.00000000 & 0.234045272\\\\\n",
       "\tCd111 &  0.09004293 &  0.1716065 &  0.29202645 & 0.13149110 & 0.26462721 & 0.25149380 &  0.1541198 &  0.11856937 & 0.10599767 & 0.28814661 &  0.309927772 &  0.33356336 & 0.39472940 & 0.3961893 &  0.24340958 &  0.008292661 &  0.076916714 & 0.23404527 & 1.000000000\\\\\n",
       "\\end{tabular}\n"
      ],
      "text/markdown": [
       "\n",
       "A matrix: 19 × 19 of type dbl\n",
       "\n",
       "| <!--/--> | B11 | Na23 | Mg26 | Al27 | P31 | S34 | K39 | Ca44 | Fe54 | Mn55 | Co59 | Ni60 | Cu63 | Zn66 | As75 | Rb85 | Sr88 | Mo98 | Cd111 |\n",
       "|---|---|---|---|---|---|---|---|---|---|---|---|---|---|---|---|---|---|---|---|\n",
       "| B11 |  1.00000000 |  0.4309865 | -0.02951813 | 0.18435886 | 0.02308449 | 0.07101123 |  0.1769809 | -0.03485434 | 0.20068530 | 0.08912558 |  0.088875273 |  0.16109535 | 0.13861191 | 0.2237912 |  0.22464465 |  0.210702844 | -0.029563380 | 0.06745091 | 0.090042928 |\n",
       "| Na23 |  0.43098653 |  1.0000000 |  0.12829892 | 0.39165867 | 0.36003636 | 0.22320278 |  0.3704877 | -0.12098001 | 0.12840897 | 0.33361998 |  0.337493860 |  0.43462231 | 0.39602993 | 0.4184365 |  0.37591790 |  0.260093042 | -0.108088054 | 0.10606067 | 0.171606460 |\n",
       "| Mg26 | -0.02951813 |  0.1282989 |  1.00000000 | 0.15609677 | 0.39153659 | 0.29601583 |  0.2690713 |  0.29463245 | 0.11015992 | 0.21098861 |  0.213238525 |  0.27140102 | 0.49524274 | 0.3740253 |  0.35424291 |  0.031954320 |  0.323981598 | 0.10926659 | 0.292026453 |\n",
       "| Al27 |  0.18435886 |  0.3916587 |  0.15609677 | 1.00000000 | 0.29208769 | 0.23205605 |  0.2096926 |  0.02120626 | 0.10969226 | 0.25513035 |  0.253584537 |  0.27915344 | 0.29194371 | 0.3120363 |  0.33144517 |  0.214129464 |  0.121094587 | 0.14401393 | 0.131491096 |\n",
       "| P31 |  0.02308449 |  0.3600364 |  0.39153659 | 0.29208769 | 1.00000000 | 0.52684256 |  0.5589872 |  0.02626569 | 0.26595457 | 0.31901479 |  0.382506562 |  0.49896976 | 0.67976741 | 0.3993171 |  0.36268697 |  0.290332708 |  0.013566512 | 0.38183242 | 0.264627205 |\n",
       "| S34 |  0.07101123 |  0.2232028 |  0.29601583 | 0.23205605 | 0.52684256 | 1.00000000 |  0.2607242 |  0.36901720 | 0.45474144 | 0.56674135 |  0.489214564 |  0.34214753 | 0.45870173 | 0.4744151 |  0.32753873 |  0.197357226 |  0.308831226 | 0.45145624 | 0.251493797 |\n",
       "| K39 |  0.17698091 |  0.3704877 |  0.26907135 | 0.20969262 | 0.55898717 | 0.26072423 |  1.0000000 | -0.13073687 | 0.10580413 | 0.16972404 |  0.217145970 |  0.43434409 | 0.47137189 | 0.3419428 |  0.35089305 |  0.346979291 | -0.144855793 | 0.17464026 | 0.154119840 |\n",
       "| Ca44 | -0.03485434 | -0.1209800 |  0.29463245 | 0.02120626 | 0.02626569 | 0.36901720 | -0.1307369 |  1.00000000 | 0.40045798 | 0.23446682 |  0.058550633 | -0.05347892 | 0.08107438 | 0.1924351 | -0.02709307 | -0.273580445 |  0.868185116 | 0.26263906 | 0.118569370 |\n",
       "| Fe54 |  0.20068530 |  0.1284090 |  0.11015992 | 0.10969226 | 0.26595457 | 0.45474144 |  0.1058041 |  0.40045798 | 1.00000000 | 0.34775900 |  0.339113446 |  0.22143926 | 0.24302801 | 0.3276395 |  0.08711381 |  0.094954920 |  0.327814080 | 0.33104401 | 0.105997670 |\n",
       "| Mn55 |  0.08912558 |  0.3336200 |  0.21098861 | 0.25513035 | 0.31901479 | 0.56674135 |  0.1697240 |  0.23446682 | 0.34775900 | 1.00000000 |  0.817270318 |  0.50602960 | 0.36817017 | 0.6601853 |  0.42030630 |  0.135844528 |  0.121235720 | 0.25767110 | 0.288146609 |\n",
       "| Co59 |  0.08887527 |  0.3374939 |  0.21323853 | 0.25358454 | 0.38250656 | 0.48921456 |  0.2171460 |  0.05855063 | 0.33911345 | 0.81727032 |  1.000000000 |  0.74874330 | 0.40860167 | 0.6124470 |  0.46364246 |  0.315489856 | -0.007759198 | 0.23558242 | 0.309927772 |\n",
       "| Ni60 |  0.16109535 |  0.4346223 |  0.27140102 | 0.27915344 | 0.49896976 | 0.34214753 |  0.4343441 | -0.05347892 | 0.22143926 | 0.50602960 |  0.748743297 |  1.00000000 | 0.53379146 | 0.5395069 |  0.45578450 |  0.313689926 | -0.097369282 | 0.26654723 | 0.333563361 |\n",
       "| Cu63 |  0.13861191 |  0.3960299 |  0.49524274 | 0.29194371 | 0.67976741 | 0.45870173 |  0.4713719 |  0.08107438 | 0.24302801 | 0.36817017 |  0.408601669 |  0.53379146 | 1.00000000 | 0.5107237 |  0.42097840 |  0.174906651 |  0.070202093 | 0.42567292 | 0.394729397 |\n",
       "| Zn66 |  0.22379116 |  0.4184365 |  0.37402528 | 0.31203632 | 0.39931708 | 0.47441513 |  0.3419428 |  0.19243510 | 0.32763950 | 0.66018528 |  0.612447035 |  0.53950689 | 0.51072374 | 1.0000000 |  0.58602794 |  0.340270830 |  0.092360298 | 0.29410976 | 0.396189272 |\n",
       "| As75 |  0.22464465 |  0.3759179 |  0.35424291 | 0.33144517 | 0.36268697 | 0.32753873 |  0.3508931 | -0.02709307 | 0.08711381 | 0.42030630 |  0.463642458 |  0.45578450 | 0.42097840 | 0.5860279 |  1.00000000 |  0.326915445 | -0.045911733 | 0.06130278 | 0.243409582 |\n",
       "| Rb85 |  0.21070284 |  0.2600930 |  0.03195432 | 0.21412946 | 0.29033271 | 0.19735723 |  0.3469793 | -0.27358045 | 0.09495492 | 0.13584453 |  0.315489856 |  0.31368993 | 0.17490665 | 0.3402708 |  0.32691544 |  1.000000000 | -0.115125098 | 0.06657913 | 0.008292661 |\n",
       "| Sr88 | -0.02956338 | -0.1080881 |  0.32398160 | 0.12109459 | 0.01356651 | 0.30883123 | -0.1448558 |  0.86818512 | 0.32781408 | 0.12123572 | -0.007759198 | -0.09736928 | 0.07020209 | 0.0923603 | -0.04591173 | -0.115125098 |  1.000000000 | 0.22778343 | 0.076916714 |\n",
       "| Mo98 |  0.06745091 |  0.1060607 |  0.10926659 | 0.14401393 | 0.38183242 | 0.45145624 |  0.1746403 |  0.26263906 | 0.33104401 | 0.25767110 |  0.235582420 |  0.26654723 | 0.42567292 | 0.2941098 |  0.06130278 |  0.066579128 |  0.227783434 | 1.00000000 | 0.234045272 |\n",
       "| Cd111 |  0.09004293 |  0.1716065 |  0.29202645 | 0.13149110 | 0.26462721 | 0.25149380 |  0.1541198 |  0.11856937 | 0.10599767 | 0.28814661 |  0.309927772 |  0.33356336 | 0.39472940 | 0.3961893 |  0.24340958 |  0.008292661 |  0.076916714 | 0.23404527 | 1.000000000 |\n",
       "\n"
      ],
      "text/plain": [
       "      B11         Na23       Mg26        Al27       P31        S34       \n",
       "B11    1.00000000  0.4309865 -0.02951813 0.18435886 0.02308449 0.07101123\n",
       "Na23   0.43098653  1.0000000  0.12829892 0.39165867 0.36003636 0.22320278\n",
       "Mg26  -0.02951813  0.1282989  1.00000000 0.15609677 0.39153659 0.29601583\n",
       "Al27   0.18435886  0.3916587  0.15609677 1.00000000 0.29208769 0.23205605\n",
       "P31    0.02308449  0.3600364  0.39153659 0.29208769 1.00000000 0.52684256\n",
       "S34    0.07101123  0.2232028  0.29601583 0.23205605 0.52684256 1.00000000\n",
       "K39    0.17698091  0.3704877  0.26907135 0.20969262 0.55898717 0.26072423\n",
       "Ca44  -0.03485434 -0.1209800  0.29463245 0.02120626 0.02626569 0.36901720\n",
       "Fe54   0.20068530  0.1284090  0.11015992 0.10969226 0.26595457 0.45474144\n",
       "Mn55   0.08912558  0.3336200  0.21098861 0.25513035 0.31901479 0.56674135\n",
       "Co59   0.08887527  0.3374939  0.21323853 0.25358454 0.38250656 0.48921456\n",
       "Ni60   0.16109535  0.4346223  0.27140102 0.27915344 0.49896976 0.34214753\n",
       "Cu63   0.13861191  0.3960299  0.49524274 0.29194371 0.67976741 0.45870173\n",
       "Zn66   0.22379116  0.4184365  0.37402528 0.31203632 0.39931708 0.47441513\n",
       "As75   0.22464465  0.3759179  0.35424291 0.33144517 0.36268697 0.32753873\n",
       "Rb85   0.21070284  0.2600930  0.03195432 0.21412946 0.29033271 0.19735723\n",
       "Sr88  -0.02956338 -0.1080881  0.32398160 0.12109459 0.01356651 0.30883123\n",
       "Mo98   0.06745091  0.1060607  0.10926659 0.14401393 0.38183242 0.45145624\n",
       "Cd111  0.09004293  0.1716065  0.29202645 0.13149110 0.26462721 0.25149380\n",
       "      K39        Ca44        Fe54       Mn55       Co59         Ni60       \n",
       "B11    0.1769809 -0.03485434 0.20068530 0.08912558  0.088875273  0.16109535\n",
       "Na23   0.3704877 -0.12098001 0.12840897 0.33361998  0.337493860  0.43462231\n",
       "Mg26   0.2690713  0.29463245 0.11015992 0.21098861  0.213238525  0.27140102\n",
       "Al27   0.2096926  0.02120626 0.10969226 0.25513035  0.253584537  0.27915344\n",
       "P31    0.5589872  0.02626569 0.26595457 0.31901479  0.382506562  0.49896976\n",
       "S34    0.2607242  0.36901720 0.45474144 0.56674135  0.489214564  0.34214753\n",
       "K39    1.0000000 -0.13073687 0.10580413 0.16972404  0.217145970  0.43434409\n",
       "Ca44  -0.1307369  1.00000000 0.40045798 0.23446682  0.058550633 -0.05347892\n",
       "Fe54   0.1058041  0.40045798 1.00000000 0.34775900  0.339113446  0.22143926\n",
       "Mn55   0.1697240  0.23446682 0.34775900 1.00000000  0.817270318  0.50602960\n",
       "Co59   0.2171460  0.05855063 0.33911345 0.81727032  1.000000000  0.74874330\n",
       "Ni60   0.4343441 -0.05347892 0.22143926 0.50602960  0.748743297  1.00000000\n",
       "Cu63   0.4713719  0.08107438 0.24302801 0.36817017  0.408601669  0.53379146\n",
       "Zn66   0.3419428  0.19243510 0.32763950 0.66018528  0.612447035  0.53950689\n",
       "As75   0.3508931 -0.02709307 0.08711381 0.42030630  0.463642458  0.45578450\n",
       "Rb85   0.3469793 -0.27358045 0.09495492 0.13584453  0.315489856  0.31368993\n",
       "Sr88  -0.1448558  0.86818512 0.32781408 0.12123572 -0.007759198 -0.09736928\n",
       "Mo98   0.1746403  0.26263906 0.33104401 0.25767110  0.235582420  0.26654723\n",
       "Cd111  0.1541198  0.11856937 0.10599767 0.28814661  0.309927772  0.33356336\n",
       "      Cu63       Zn66      As75        Rb85         Sr88         Mo98      \n",
       "B11   0.13861191 0.2237912  0.22464465  0.210702844 -0.029563380 0.06745091\n",
       "Na23  0.39602993 0.4184365  0.37591790  0.260093042 -0.108088054 0.10606067\n",
       "Mg26  0.49524274 0.3740253  0.35424291  0.031954320  0.323981598 0.10926659\n",
       "Al27  0.29194371 0.3120363  0.33144517  0.214129464  0.121094587 0.14401393\n",
       "P31   0.67976741 0.3993171  0.36268697  0.290332708  0.013566512 0.38183242\n",
       "S34   0.45870173 0.4744151  0.32753873  0.197357226  0.308831226 0.45145624\n",
       "K39   0.47137189 0.3419428  0.35089305  0.346979291 -0.144855793 0.17464026\n",
       "Ca44  0.08107438 0.1924351 -0.02709307 -0.273580445  0.868185116 0.26263906\n",
       "Fe54  0.24302801 0.3276395  0.08711381  0.094954920  0.327814080 0.33104401\n",
       "Mn55  0.36817017 0.6601853  0.42030630  0.135844528  0.121235720 0.25767110\n",
       "Co59  0.40860167 0.6124470  0.46364246  0.315489856 -0.007759198 0.23558242\n",
       "Ni60  0.53379146 0.5395069  0.45578450  0.313689926 -0.097369282 0.26654723\n",
       "Cu63  1.00000000 0.5107237  0.42097840  0.174906651  0.070202093 0.42567292\n",
       "Zn66  0.51072374 1.0000000  0.58602794  0.340270830  0.092360298 0.29410976\n",
       "As75  0.42097840 0.5860279  1.00000000  0.326915445 -0.045911733 0.06130278\n",
       "Rb85  0.17490665 0.3402708  0.32691544  1.000000000 -0.115125098 0.06657913\n",
       "Sr88  0.07020209 0.0923603 -0.04591173 -0.115125098  1.000000000 0.22778343\n",
       "Mo98  0.42567292 0.2941098  0.06130278  0.066579128  0.227783434 1.00000000\n",
       "Cd111 0.39472940 0.3961893  0.24340958  0.008292661  0.076916714 0.23404527\n",
       "      Cd111      \n",
       "B11   0.090042928\n",
       "Na23  0.171606460\n",
       "Mg26  0.292026453\n",
       "Al27  0.131491096\n",
       "P31   0.264627205\n",
       "S34   0.251493797\n",
       "K39   0.154119840\n",
       "Ca44  0.118569370\n",
       "Fe54  0.105997670\n",
       "Mn55  0.288146609\n",
       "Co59  0.309927772\n",
       "Ni60  0.333563361\n",
       "Cu63  0.394729397\n",
       "Zn66  0.396189272\n",
       "As75  0.243409582\n",
       "Rb85  0.008292661\n",
       "Sr88  0.076916714\n",
       "Mo98  0.234045272\n",
       "Cd111 1.000000000"
      ]
     },
     "metadata": {},
     "output_type": "display_data"
    }
   ],
   "source": [
    "cor(ionomics)"
   ]
  },
  {
   "cell_type": "code",
   "execution_count": 14,
   "metadata": {},
   "outputs": [
    {
     "data": {
      "text/html": [
       "<table>\n",
       "<caption>A matrix: 19 × 19 of type dbl</caption>\n",
       "<thead>\n",
       "\t<tr><th></th><th scope=col>B11</th><th scope=col>Na23</th><th scope=col>Mg26</th><th scope=col>Al27</th><th scope=col>P31</th><th scope=col>S34</th><th scope=col>K39</th><th scope=col>Ca44</th><th scope=col>Fe54</th><th scope=col>Mn55</th><th scope=col>Co59</th><th scope=col>Ni60</th><th scope=col>Cu63</th><th scope=col>Zn66</th><th scope=col>As75</th><th scope=col>Rb85</th><th scope=col>Sr88</th><th scope=col>Mo98</th><th scope=col>Cd111</th></tr>\n",
       "</thead>\n",
       "<tbody>\n",
       "\t<tr><th scope=row>B11</th><td> 0.2210717665</td><td> 0.195408823</td><td>-0.013878915</td><td>0.0037301863</td><td>0.009968334</td><td>0.0005253583</td><td> 0.083213362</td><td>-0.0163879074</td><td>0.044744020</td><td>0.041905303</td><td> 0.041787615</td><td> 0.046904971</td><td>0.064384822</td><td>0.099029848</td><td> 0.0052476328</td><td> 0.099068832</td><td>-0.013900190</td><td>0.031714251</td><td>0.012653586</td></tr>\n",
       "\t<tr><th scope=row>Na23</th><td> 0.1954088232</td><td> 0.929881632</td><td> 0.123719121</td><td>0.0162525477</td><td>0.318856963</td><td>0.0033866891</td><td> 0.357262694</td><td>-0.1166614743</td><td>0.058716748</td><td>0.321710974</td><td> 0.325446574</td><td> 0.259534484</td><td>0.377275111</td><td>0.379751881</td><td> 0.0180097449</td><td> 0.250808686</td><td>-0.104229710</td><td>0.102274700</td><td>0.049458945</td></tr>\n",
       "\t<tr><th scope=row>Mg26</th><td>-0.0138789152</td><td> 0.123719121</td><td> 1.000000009</td><td>0.0067172853</td><td>0.359590371</td><td>0.0046577572</td><td> 0.269071346</td><td> 0.2946324497</td><td>0.052236781</td><td>0.210988607</td><td> 0.213238523</td><td> 0.168066320</td><td>0.489254057</td><td>0.352012029</td><td> 0.0175995635</td><td> 0.031954320</td><td> 0.323981598</td><td>0.109266587</td><td>0.087280972</td></tr>\n",
       "\t<tr><th scope=row>Al27</th><td> 0.0037301863</td><td> 0.016252548</td><td> 0.006717285</td><td>0.0018518241</td><td>0.011543801</td><td>0.0001571284</td><td> 0.009023666</td><td> 0.0009125652</td><td>0.002238353</td><td>0.010978980</td><td> 0.010912459</td><td> 0.007438957</td><td>0.012411244</td><td>0.012637511</td><td> 0.0007086182</td><td> 0.009214596</td><td> 0.005211042</td><td>0.006197327</td><td>0.001691195</td></tr>\n",
       "\t<tr><th scope=row>P31</th><td> 0.0099683336</td><td> 0.318856963</td><td> 0.359590371</td><td>0.0115438011</td><td>0.843473428</td><td>0.0076133967</td><td> 0.513378337</td><td> 0.0241226223</td><td>0.115823304</td><td>0.292985762</td><td> 0.351297118</td><td> 0.283778276</td><td>0.616754546</td><td>0.345151796</td><td> 0.0165488712</td><td> 0.266643912</td><td> 0.012459594</td><td>0.350677982</td><td>0.072638618</td></tr>\n",
       "\t<tr><th scope=row>S34</th><td> 0.0005253583</td><td> 0.003386689</td><td> 0.004657757</td><td>0.0001571284</td><td>0.007613397</td><td>0.0002475847</td><td> 0.004102450</td><td> 0.0058064211</td><td>0.003392964</td><td>0.008917576</td><td> 0.007697705</td><td> 0.003333838</td><td>0.007130313</td><td>0.007025496</td><td> 0.0002560503</td><td> 0.003105381</td><td> 0.004859405</td><td>0.007103585</td><td>0.001182733</td></tr>\n",
       "\t<tr><th scope=row>K39</th><td> 0.0832133618</td><td> 0.357262694</td><td> 0.269071346</td><td>0.0090236662</td><td>0.513378337</td><td>0.0041024501</td><td> 0.999999991</td><td>-0.1307368736</td><td>0.050171307</td><td>0.169724034</td><td> 0.217145966</td><td> 0.268969560</td><td>0.465671853</td><td>0.321817716</td><td> 0.0174331350</td><td> 0.346979294</td><td>-0.144855791</td><td>0.174640257</td><td>0.046063393</td></tr>\n",
       "\t<tr><th scope=row>Ca44</th><td>-0.0163879074</td><td>-0.116661474</td><td> 0.294632450</td><td>0.0009125652</td><td>0.024122622</td><td>0.0058064211</td><td>-0.130736874</td><td> 1.0000000070</td><td>0.189893342</td><td>0.234466821</td><td> 0.058550632</td><td>-0.033117066</td><td>0.080093995</td><td>0.181109333</td><td>-0.0013460430</td><td>-0.273580449</td><td> 0.868185115</td><td>0.262639057</td><td>0.035438056</td></tr>\n",
       "\t<tr><th scope=row>Fe54</th><td> 0.0447440197</td><td> 0.058716748</td><td> 0.052236781</td><td>0.0022383534</td><td>0.115823304</td><td>0.0033929638</td><td> 0.050171307</td><td> 0.1898933423</td><td>0.224856564</td><td>0.164903989</td><td> 0.160804348</td><td> 0.065024442</td><td>0.113848007</td><td>0.146219598</td><td> 0.0020522985</td><td> 0.045026715</td><td> 0.155446299</td><td>0.156977900</td><td>0.015022648</td></tr>\n",
       "\t<tr><th scope=row>Mn55</th><td> 0.0419053027</td><td> 0.321710974</td><td> 0.210988607</td><td>0.0109789798</td><td>0.292985762</td><td>0.0089175757</td><td> 0.169724034</td><td> 0.2344668210</td><td>0.164903989</td><td>0.999999978</td><td> 0.817270298</td><td> 0.313361136</td><td>0.363718091</td><td>0.621330078</td><td> 0.0208817370</td><td> 0.135844528</td><td> 0.121235718</td><td>0.257671096</td><td>0.086121362</td></tr>\n",
       "\t<tr><th scope=row>Co59</th><td> 0.0417876146</td><td> 0.325446574</td><td> 0.213238523</td><td>0.0109124592</td><td>0.351297118</td><td>0.0076977053</td><td> 0.217145966</td><td> 0.0585506320</td><td>0.160804348</td><td>0.817270298</td><td> 0.999999973</td><td> 0.463662701</td><td>0.403660678</td><td>0.576401465</td><td> 0.0230347721</td><td> 0.315489855</td><td>-0.007759198</td><td>0.235582417</td><td>0.092631323</td></tr>\n",
       "\t<tr><th scope=row>Ni60</th><td> 0.0469049709</td><td> 0.259534484</td><td> 0.168066320</td><td>0.0074389574</td><td>0.283778276</td><td>0.0033338384</td><td> 0.268969560</td><td>-0.0331170663</td><td>0.065024442</td><td>0.313361136</td><td> 0.463662701</td><td> 0.383476221</td><td>0.326555614</td><td>0.314429119</td><td> 0.0140226308</td><td> 0.194253922</td><td>-0.060296373</td><td>0.165060593</td><td>0.061736917</td></tr>\n",
       "\t<tr><th scope=row>Cu63</th><td> 0.0643848219</td><td> 0.377275111</td><td> 0.489254057</td><td>0.0124112440</td><td>0.616754546</td><td>0.0071303131</td><td> 0.465671853</td><td> 0.0800939946</td><td>0.113848007</td><td>0.363718091</td><td> 0.403660678</td><td> 0.326555614</td><td>0.975961375</td><td>0.474852695</td><td> 0.0206622140</td><td> 0.172791607</td><td> 0.069353179</td><td>0.420525504</td><td>0.116550238</td></tr>\n",
       "\t<tr><th scope=row>Zn66</th><td> 0.0990298476</td><td> 0.379751881</td><td> 0.352012029</td><td>0.0126375113</td><td>0.345151796</td><td>0.0070254959</td><td> 0.321817716</td><td> 0.1811093327</td><td>0.146219598</td><td>0.621330078</td><td> 0.576401465</td><td> 0.314429119</td><td>0.474852695</td><td>0.885753935</td><td> 0.0274015793</td><td> 0.320244198</td><td> 0.086924434</td><td>0.276799938</td><td>0.111443986</td></tr>\n",
       "\t<tr><th scope=row>As75</th><td> 0.0052476328</td><td> 0.018009745</td><td> 0.017599563</td><td>0.0007086182</td><td>0.016548871</td><td>0.0002560503</td><td> 0.017433135</td><td>-0.0013460430</td><td>0.002052299</td><td>0.020881737</td><td> 0.023034772</td><td> 0.014022631</td><td>0.020662214</td><td>0.027401579</td><td> 0.0024683199</td><td> 0.016241875</td><td>-0.002280995</td><td>0.003045656</td><td>0.003614396</td></tr>\n",
       "\t<tr><th scope=row>Rb85</th><td> 0.0990688320</td><td> 0.250808686</td><td> 0.031954320</td><td>0.0092145962</td><td>0.266643912</td><td>0.0031053814</td><td> 0.346979294</td><td>-0.2735804492</td><td>0.045026715</td><td>0.135844528</td><td> 0.315489855</td><td> 0.194253922</td><td>0.172791607</td><td>0.320244198</td><td> 0.0162418752</td><td> 1.000000022</td><td>-0.115125098</td><td>0.066579129</td><td>0.002478514</td></tr>\n",
       "\t<tr><th scope=row>Sr88</th><td>-0.0139001897</td><td>-0.104229710</td><td> 0.323981598</td><td>0.0052110423</td><td>0.012459594</td><td>0.0048594052</td><td>-0.144855791</td><td> 0.8681851151</td><td>0.155446299</td><td>0.121235718</td><td>-0.007759198</td><td>-0.060296373</td><td>0.069353179</td><td>0.086924434</td><td>-0.0022809954</td><td>-0.115125098</td><td> 0.999999991</td><td>0.227783433</td><td>0.022988895</td></tr>\n",
       "\t<tr><th scope=row>Mo98</th><td> 0.0317142515</td><td> 0.102274700</td><td> 0.109266587</td><td>0.0061973265</td><td>0.350677982</td><td>0.0071035849</td><td> 0.174640257</td><td> 0.2626390566</td><td>0.156977900</td><td>0.257671096</td><td> 0.235582417</td><td> 0.165060593</td><td>0.420525504</td><td>0.276799938</td><td> 0.0030456564</td><td> 0.066579129</td><td> 0.227783433</td><td>1.000000005</td><td>0.069951536</td></tr>\n",
       "\t<tr><th scope=row>Cd111</th><td> 0.0126535861</td><td> 0.049458945</td><td> 0.087280972</td><td>0.0016911947</td><td>0.072638618</td><td>0.0011827326</td><td> 0.046063393</td><td> 0.0354380561</td><td>0.015022648</td><td>0.086121362</td><td> 0.092631323</td><td> 0.061736917</td><td>0.116550238</td><td>0.111443986</td><td> 0.0036143963</td><td> 0.002478514</td><td> 0.022988895</td><td>0.069951536</td><td>0.089329470</td></tr>\n",
       "</tbody>\n",
       "</table>\n"
      ],
      "text/latex": [
       "A matrix: 19 × 19 of type dbl\n",
       "\\begin{tabular}{r|lllllllllllllllllll}\n",
       "  & B11 & Na23 & Mg26 & Al27 & P31 & S34 & K39 & Ca44 & Fe54 & Mn55 & Co59 & Ni60 & Cu63 & Zn66 & As75 & Rb85 & Sr88 & Mo98 & Cd111\\\\\n",
       "\\hline\n",
       "\tB11 &  0.2210717665 &  0.195408823 & -0.013878915 & 0.0037301863 & 0.009968334 & 0.0005253583 &  0.083213362 & -0.0163879074 & 0.044744020 & 0.041905303 &  0.041787615 &  0.046904971 & 0.064384822 & 0.099029848 &  0.0052476328 &  0.099068832 & -0.013900190 & 0.031714251 & 0.012653586\\\\\n",
       "\tNa23 &  0.1954088232 &  0.929881632 &  0.123719121 & 0.0162525477 & 0.318856963 & 0.0033866891 &  0.357262694 & -0.1166614743 & 0.058716748 & 0.321710974 &  0.325446574 &  0.259534484 & 0.377275111 & 0.379751881 &  0.0180097449 &  0.250808686 & -0.104229710 & 0.102274700 & 0.049458945\\\\\n",
       "\tMg26 & -0.0138789152 &  0.123719121 &  1.000000009 & 0.0067172853 & 0.359590371 & 0.0046577572 &  0.269071346 &  0.2946324497 & 0.052236781 & 0.210988607 &  0.213238523 &  0.168066320 & 0.489254057 & 0.352012029 &  0.0175995635 &  0.031954320 &  0.323981598 & 0.109266587 & 0.087280972\\\\\n",
       "\tAl27 &  0.0037301863 &  0.016252548 &  0.006717285 & 0.0018518241 & 0.011543801 & 0.0001571284 &  0.009023666 &  0.0009125652 & 0.002238353 & 0.010978980 &  0.010912459 &  0.007438957 & 0.012411244 & 0.012637511 &  0.0007086182 &  0.009214596 &  0.005211042 & 0.006197327 & 0.001691195\\\\\n",
       "\tP31 &  0.0099683336 &  0.318856963 &  0.359590371 & 0.0115438011 & 0.843473428 & 0.0076133967 &  0.513378337 &  0.0241226223 & 0.115823304 & 0.292985762 &  0.351297118 &  0.283778276 & 0.616754546 & 0.345151796 &  0.0165488712 &  0.266643912 &  0.012459594 & 0.350677982 & 0.072638618\\\\\n",
       "\tS34 &  0.0005253583 &  0.003386689 &  0.004657757 & 0.0001571284 & 0.007613397 & 0.0002475847 &  0.004102450 &  0.0058064211 & 0.003392964 & 0.008917576 &  0.007697705 &  0.003333838 & 0.007130313 & 0.007025496 &  0.0002560503 &  0.003105381 &  0.004859405 & 0.007103585 & 0.001182733\\\\\n",
       "\tK39 &  0.0832133618 &  0.357262694 &  0.269071346 & 0.0090236662 & 0.513378337 & 0.0041024501 &  0.999999991 & -0.1307368736 & 0.050171307 & 0.169724034 &  0.217145966 &  0.268969560 & 0.465671853 & 0.321817716 &  0.0174331350 &  0.346979294 & -0.144855791 & 0.174640257 & 0.046063393\\\\\n",
       "\tCa44 & -0.0163879074 & -0.116661474 &  0.294632450 & 0.0009125652 & 0.024122622 & 0.0058064211 & -0.130736874 &  1.0000000070 & 0.189893342 & 0.234466821 &  0.058550632 & -0.033117066 & 0.080093995 & 0.181109333 & -0.0013460430 & -0.273580449 &  0.868185115 & 0.262639057 & 0.035438056\\\\\n",
       "\tFe54 &  0.0447440197 &  0.058716748 &  0.052236781 & 0.0022383534 & 0.115823304 & 0.0033929638 &  0.050171307 &  0.1898933423 & 0.224856564 & 0.164903989 &  0.160804348 &  0.065024442 & 0.113848007 & 0.146219598 &  0.0020522985 &  0.045026715 &  0.155446299 & 0.156977900 & 0.015022648\\\\\n",
       "\tMn55 &  0.0419053027 &  0.321710974 &  0.210988607 & 0.0109789798 & 0.292985762 & 0.0089175757 &  0.169724034 &  0.2344668210 & 0.164903989 & 0.999999978 &  0.817270298 &  0.313361136 & 0.363718091 & 0.621330078 &  0.0208817370 &  0.135844528 &  0.121235718 & 0.257671096 & 0.086121362\\\\\n",
       "\tCo59 &  0.0417876146 &  0.325446574 &  0.213238523 & 0.0109124592 & 0.351297118 & 0.0076977053 &  0.217145966 &  0.0585506320 & 0.160804348 & 0.817270298 &  0.999999973 &  0.463662701 & 0.403660678 & 0.576401465 &  0.0230347721 &  0.315489855 & -0.007759198 & 0.235582417 & 0.092631323\\\\\n",
       "\tNi60 &  0.0469049709 &  0.259534484 &  0.168066320 & 0.0074389574 & 0.283778276 & 0.0033338384 &  0.268969560 & -0.0331170663 & 0.065024442 & 0.313361136 &  0.463662701 &  0.383476221 & 0.326555614 & 0.314429119 &  0.0140226308 &  0.194253922 & -0.060296373 & 0.165060593 & 0.061736917\\\\\n",
       "\tCu63 &  0.0643848219 &  0.377275111 &  0.489254057 & 0.0124112440 & 0.616754546 & 0.0071303131 &  0.465671853 &  0.0800939946 & 0.113848007 & 0.363718091 &  0.403660678 &  0.326555614 & 0.975961375 & 0.474852695 &  0.0206622140 &  0.172791607 &  0.069353179 & 0.420525504 & 0.116550238\\\\\n",
       "\tZn66 &  0.0990298476 &  0.379751881 &  0.352012029 & 0.0126375113 & 0.345151796 & 0.0070254959 &  0.321817716 &  0.1811093327 & 0.146219598 & 0.621330078 &  0.576401465 &  0.314429119 & 0.474852695 & 0.885753935 &  0.0274015793 &  0.320244198 &  0.086924434 & 0.276799938 & 0.111443986\\\\\n",
       "\tAs75 &  0.0052476328 &  0.018009745 &  0.017599563 & 0.0007086182 & 0.016548871 & 0.0002560503 &  0.017433135 & -0.0013460430 & 0.002052299 & 0.020881737 &  0.023034772 &  0.014022631 & 0.020662214 & 0.027401579 &  0.0024683199 &  0.016241875 & -0.002280995 & 0.003045656 & 0.003614396\\\\\n",
       "\tRb85 &  0.0990688320 &  0.250808686 &  0.031954320 & 0.0092145962 & 0.266643912 & 0.0031053814 &  0.346979294 & -0.2735804492 & 0.045026715 & 0.135844528 &  0.315489855 &  0.194253922 & 0.172791607 & 0.320244198 &  0.0162418752 &  1.000000022 & -0.115125098 & 0.066579129 & 0.002478514\\\\\n",
       "\tSr88 & -0.0139001897 & -0.104229710 &  0.323981598 & 0.0052110423 & 0.012459594 & 0.0048594052 & -0.144855791 &  0.8681851151 & 0.155446299 & 0.121235718 & -0.007759198 & -0.060296373 & 0.069353179 & 0.086924434 & -0.0022809954 & -0.115125098 &  0.999999991 & 0.227783433 & 0.022988895\\\\\n",
       "\tMo98 &  0.0317142515 &  0.102274700 &  0.109266587 & 0.0061973265 & 0.350677982 & 0.0071035849 &  0.174640257 &  0.2626390566 & 0.156977900 & 0.257671096 &  0.235582417 &  0.165060593 & 0.420525504 & 0.276799938 &  0.0030456564 &  0.066579129 &  0.227783433 & 1.000000005 & 0.069951536\\\\\n",
       "\tCd111 &  0.0126535861 &  0.049458945 &  0.087280972 & 0.0016911947 & 0.072638618 & 0.0011827326 &  0.046063393 &  0.0354380561 & 0.015022648 & 0.086121362 &  0.092631323 &  0.061736917 & 0.116550238 & 0.111443986 &  0.0036143963 &  0.002478514 &  0.022988895 & 0.069951536 & 0.089329470\\\\\n",
       "\\end{tabular}\n"
      ],
      "text/markdown": [
       "\n",
       "A matrix: 19 × 19 of type dbl\n",
       "\n",
       "| <!--/--> | B11 | Na23 | Mg26 | Al27 | P31 | S34 | K39 | Ca44 | Fe54 | Mn55 | Co59 | Ni60 | Cu63 | Zn66 | As75 | Rb85 | Sr88 | Mo98 | Cd111 |\n",
       "|---|---|---|---|---|---|---|---|---|---|---|---|---|---|---|---|---|---|---|---|\n",
       "| B11 |  0.2210717665 |  0.195408823 | -0.013878915 | 0.0037301863 | 0.009968334 | 0.0005253583 |  0.083213362 | -0.0163879074 | 0.044744020 | 0.041905303 |  0.041787615 |  0.046904971 | 0.064384822 | 0.099029848 |  0.0052476328 |  0.099068832 | -0.013900190 | 0.031714251 | 0.012653586 |\n",
       "| Na23 |  0.1954088232 |  0.929881632 |  0.123719121 | 0.0162525477 | 0.318856963 | 0.0033866891 |  0.357262694 | -0.1166614743 | 0.058716748 | 0.321710974 |  0.325446574 |  0.259534484 | 0.377275111 | 0.379751881 |  0.0180097449 |  0.250808686 | -0.104229710 | 0.102274700 | 0.049458945 |\n",
       "| Mg26 | -0.0138789152 |  0.123719121 |  1.000000009 | 0.0067172853 | 0.359590371 | 0.0046577572 |  0.269071346 |  0.2946324497 | 0.052236781 | 0.210988607 |  0.213238523 |  0.168066320 | 0.489254057 | 0.352012029 |  0.0175995635 |  0.031954320 |  0.323981598 | 0.109266587 | 0.087280972 |\n",
       "| Al27 |  0.0037301863 |  0.016252548 |  0.006717285 | 0.0018518241 | 0.011543801 | 0.0001571284 |  0.009023666 |  0.0009125652 | 0.002238353 | 0.010978980 |  0.010912459 |  0.007438957 | 0.012411244 | 0.012637511 |  0.0007086182 |  0.009214596 |  0.005211042 | 0.006197327 | 0.001691195 |\n",
       "| P31 |  0.0099683336 |  0.318856963 |  0.359590371 | 0.0115438011 | 0.843473428 | 0.0076133967 |  0.513378337 |  0.0241226223 | 0.115823304 | 0.292985762 |  0.351297118 |  0.283778276 | 0.616754546 | 0.345151796 |  0.0165488712 |  0.266643912 |  0.012459594 | 0.350677982 | 0.072638618 |\n",
       "| S34 |  0.0005253583 |  0.003386689 |  0.004657757 | 0.0001571284 | 0.007613397 | 0.0002475847 |  0.004102450 |  0.0058064211 | 0.003392964 | 0.008917576 |  0.007697705 |  0.003333838 | 0.007130313 | 0.007025496 |  0.0002560503 |  0.003105381 |  0.004859405 | 0.007103585 | 0.001182733 |\n",
       "| K39 |  0.0832133618 |  0.357262694 |  0.269071346 | 0.0090236662 | 0.513378337 | 0.0041024501 |  0.999999991 | -0.1307368736 | 0.050171307 | 0.169724034 |  0.217145966 |  0.268969560 | 0.465671853 | 0.321817716 |  0.0174331350 |  0.346979294 | -0.144855791 | 0.174640257 | 0.046063393 |\n",
       "| Ca44 | -0.0163879074 | -0.116661474 |  0.294632450 | 0.0009125652 | 0.024122622 | 0.0058064211 | -0.130736874 |  1.0000000070 | 0.189893342 | 0.234466821 |  0.058550632 | -0.033117066 | 0.080093995 | 0.181109333 | -0.0013460430 | -0.273580449 |  0.868185115 | 0.262639057 | 0.035438056 |\n",
       "| Fe54 |  0.0447440197 |  0.058716748 |  0.052236781 | 0.0022383534 | 0.115823304 | 0.0033929638 |  0.050171307 |  0.1898933423 | 0.224856564 | 0.164903989 |  0.160804348 |  0.065024442 | 0.113848007 | 0.146219598 |  0.0020522985 |  0.045026715 |  0.155446299 | 0.156977900 | 0.015022648 |\n",
       "| Mn55 |  0.0419053027 |  0.321710974 |  0.210988607 | 0.0109789798 | 0.292985762 | 0.0089175757 |  0.169724034 |  0.2344668210 | 0.164903989 | 0.999999978 |  0.817270298 |  0.313361136 | 0.363718091 | 0.621330078 |  0.0208817370 |  0.135844528 |  0.121235718 | 0.257671096 | 0.086121362 |\n",
       "| Co59 |  0.0417876146 |  0.325446574 |  0.213238523 | 0.0109124592 | 0.351297118 | 0.0076977053 |  0.217145966 |  0.0585506320 | 0.160804348 | 0.817270298 |  0.999999973 |  0.463662701 | 0.403660678 | 0.576401465 |  0.0230347721 |  0.315489855 | -0.007759198 | 0.235582417 | 0.092631323 |\n",
       "| Ni60 |  0.0469049709 |  0.259534484 |  0.168066320 | 0.0074389574 | 0.283778276 | 0.0033338384 |  0.268969560 | -0.0331170663 | 0.065024442 | 0.313361136 |  0.463662701 |  0.383476221 | 0.326555614 | 0.314429119 |  0.0140226308 |  0.194253922 | -0.060296373 | 0.165060593 | 0.061736917 |\n",
       "| Cu63 |  0.0643848219 |  0.377275111 |  0.489254057 | 0.0124112440 | 0.616754546 | 0.0071303131 |  0.465671853 |  0.0800939946 | 0.113848007 | 0.363718091 |  0.403660678 |  0.326555614 | 0.975961375 | 0.474852695 |  0.0206622140 |  0.172791607 |  0.069353179 | 0.420525504 | 0.116550238 |\n",
       "| Zn66 |  0.0990298476 |  0.379751881 |  0.352012029 | 0.0126375113 | 0.345151796 | 0.0070254959 |  0.321817716 |  0.1811093327 | 0.146219598 | 0.621330078 |  0.576401465 |  0.314429119 | 0.474852695 | 0.885753935 |  0.0274015793 |  0.320244198 |  0.086924434 | 0.276799938 | 0.111443986 |\n",
       "| As75 |  0.0052476328 |  0.018009745 |  0.017599563 | 0.0007086182 | 0.016548871 | 0.0002560503 |  0.017433135 | -0.0013460430 | 0.002052299 | 0.020881737 |  0.023034772 |  0.014022631 | 0.020662214 | 0.027401579 |  0.0024683199 |  0.016241875 | -0.002280995 | 0.003045656 | 0.003614396 |\n",
       "| Rb85 |  0.0990688320 |  0.250808686 |  0.031954320 | 0.0092145962 | 0.266643912 | 0.0031053814 |  0.346979294 | -0.2735804492 | 0.045026715 | 0.135844528 |  0.315489855 |  0.194253922 | 0.172791607 | 0.320244198 |  0.0162418752 |  1.000000022 | -0.115125098 | 0.066579129 | 0.002478514 |\n",
       "| Sr88 | -0.0139001897 | -0.104229710 |  0.323981598 | 0.0052110423 | 0.012459594 | 0.0048594052 | -0.144855791 |  0.8681851151 | 0.155446299 | 0.121235718 | -0.007759198 | -0.060296373 | 0.069353179 | 0.086924434 | -0.0022809954 | -0.115125098 |  0.999999991 | 0.227783433 | 0.022988895 |\n",
       "| Mo98 |  0.0317142515 |  0.102274700 |  0.109266587 | 0.0061973265 | 0.350677982 | 0.0071035849 |  0.174640257 |  0.2626390566 | 0.156977900 | 0.257671096 |  0.235582417 |  0.165060593 | 0.420525504 | 0.276799938 |  0.0030456564 |  0.066579129 |  0.227783433 | 1.000000005 | 0.069951536 |\n",
       "| Cd111 |  0.0126535861 |  0.049458945 |  0.087280972 | 0.0016911947 | 0.072638618 | 0.0011827326 |  0.046063393 |  0.0354380561 | 0.015022648 | 0.086121362 |  0.092631323 |  0.061736917 | 0.116550238 | 0.111443986 |  0.0036143963 |  0.002478514 |  0.022988895 | 0.069951536 | 0.089329470 |\n",
       "\n"
      ],
      "text/plain": [
       "      B11           Na23         Mg26         Al27         P31        \n",
       "B11    0.2210717665  0.195408823 -0.013878915 0.0037301863 0.009968334\n",
       "Na23   0.1954088232  0.929881632  0.123719121 0.0162525477 0.318856963\n",
       "Mg26  -0.0138789152  0.123719121  1.000000009 0.0067172853 0.359590371\n",
       "Al27   0.0037301863  0.016252548  0.006717285 0.0018518241 0.011543801\n",
       "P31    0.0099683336  0.318856963  0.359590371 0.0115438011 0.843473428\n",
       "S34    0.0005253583  0.003386689  0.004657757 0.0001571284 0.007613397\n",
       "K39    0.0832133618  0.357262694  0.269071346 0.0090236662 0.513378337\n",
       "Ca44  -0.0163879074 -0.116661474  0.294632450 0.0009125652 0.024122622\n",
       "Fe54   0.0447440197  0.058716748  0.052236781 0.0022383534 0.115823304\n",
       "Mn55   0.0419053027  0.321710974  0.210988607 0.0109789798 0.292985762\n",
       "Co59   0.0417876146  0.325446574  0.213238523 0.0109124592 0.351297118\n",
       "Ni60   0.0469049709  0.259534484  0.168066320 0.0074389574 0.283778276\n",
       "Cu63   0.0643848219  0.377275111  0.489254057 0.0124112440 0.616754546\n",
       "Zn66   0.0990298476  0.379751881  0.352012029 0.0126375113 0.345151796\n",
       "As75   0.0052476328  0.018009745  0.017599563 0.0007086182 0.016548871\n",
       "Rb85   0.0990688320  0.250808686  0.031954320 0.0092145962 0.266643912\n",
       "Sr88  -0.0139001897 -0.104229710  0.323981598 0.0052110423 0.012459594\n",
       "Mo98   0.0317142515  0.102274700  0.109266587 0.0061973265 0.350677982\n",
       "Cd111  0.0126535861  0.049458945  0.087280972 0.0016911947 0.072638618\n",
       "      S34          K39          Ca44          Fe54        Mn55       \n",
       "B11   0.0005253583  0.083213362 -0.0163879074 0.044744020 0.041905303\n",
       "Na23  0.0033866891  0.357262694 -0.1166614743 0.058716748 0.321710974\n",
       "Mg26  0.0046577572  0.269071346  0.2946324497 0.052236781 0.210988607\n",
       "Al27  0.0001571284  0.009023666  0.0009125652 0.002238353 0.010978980\n",
       "P31   0.0076133967  0.513378337  0.0241226223 0.115823304 0.292985762\n",
       "S34   0.0002475847  0.004102450  0.0058064211 0.003392964 0.008917576\n",
       "K39   0.0041024501  0.999999991 -0.1307368736 0.050171307 0.169724034\n",
       "Ca44  0.0058064211 -0.130736874  1.0000000070 0.189893342 0.234466821\n",
       "Fe54  0.0033929638  0.050171307  0.1898933423 0.224856564 0.164903989\n",
       "Mn55  0.0089175757  0.169724034  0.2344668210 0.164903989 0.999999978\n",
       "Co59  0.0076977053  0.217145966  0.0585506320 0.160804348 0.817270298\n",
       "Ni60  0.0033338384  0.268969560 -0.0331170663 0.065024442 0.313361136\n",
       "Cu63  0.0071303131  0.465671853  0.0800939946 0.113848007 0.363718091\n",
       "Zn66  0.0070254959  0.321817716  0.1811093327 0.146219598 0.621330078\n",
       "As75  0.0002560503  0.017433135 -0.0013460430 0.002052299 0.020881737\n",
       "Rb85  0.0031053814  0.346979294 -0.2735804492 0.045026715 0.135844528\n",
       "Sr88  0.0048594052 -0.144855791  0.8681851151 0.155446299 0.121235718\n",
       "Mo98  0.0071035849  0.174640257  0.2626390566 0.156977900 0.257671096\n",
       "Cd111 0.0011827326  0.046063393  0.0354380561 0.015022648 0.086121362\n",
       "      Co59         Ni60         Cu63        Zn66        As75         \n",
       "B11    0.041787615  0.046904971 0.064384822 0.099029848  0.0052476328\n",
       "Na23   0.325446574  0.259534484 0.377275111 0.379751881  0.0180097449\n",
       "Mg26   0.213238523  0.168066320 0.489254057 0.352012029  0.0175995635\n",
       "Al27   0.010912459  0.007438957 0.012411244 0.012637511  0.0007086182\n",
       "P31    0.351297118  0.283778276 0.616754546 0.345151796  0.0165488712\n",
       "S34    0.007697705  0.003333838 0.007130313 0.007025496  0.0002560503\n",
       "K39    0.217145966  0.268969560 0.465671853 0.321817716  0.0174331350\n",
       "Ca44   0.058550632 -0.033117066 0.080093995 0.181109333 -0.0013460430\n",
       "Fe54   0.160804348  0.065024442 0.113848007 0.146219598  0.0020522985\n",
       "Mn55   0.817270298  0.313361136 0.363718091 0.621330078  0.0208817370\n",
       "Co59   0.999999973  0.463662701 0.403660678 0.576401465  0.0230347721\n",
       "Ni60   0.463662701  0.383476221 0.326555614 0.314429119  0.0140226308\n",
       "Cu63   0.403660678  0.326555614 0.975961375 0.474852695  0.0206622140\n",
       "Zn66   0.576401465  0.314429119 0.474852695 0.885753935  0.0274015793\n",
       "As75   0.023034772  0.014022631 0.020662214 0.027401579  0.0024683199\n",
       "Rb85   0.315489855  0.194253922 0.172791607 0.320244198  0.0162418752\n",
       "Sr88  -0.007759198 -0.060296373 0.069353179 0.086924434 -0.0022809954\n",
       "Mo98   0.235582417  0.165060593 0.420525504 0.276799938  0.0030456564\n",
       "Cd111  0.092631323  0.061736917 0.116550238 0.111443986  0.0036143963\n",
       "      Rb85         Sr88         Mo98        Cd111      \n",
       "B11    0.099068832 -0.013900190 0.031714251 0.012653586\n",
       "Na23   0.250808686 -0.104229710 0.102274700 0.049458945\n",
       "Mg26   0.031954320  0.323981598 0.109266587 0.087280972\n",
       "Al27   0.009214596  0.005211042 0.006197327 0.001691195\n",
       "P31    0.266643912  0.012459594 0.350677982 0.072638618\n",
       "S34    0.003105381  0.004859405 0.007103585 0.001182733\n",
       "K39    0.346979294 -0.144855791 0.174640257 0.046063393\n",
       "Ca44  -0.273580449  0.868185115 0.262639057 0.035438056\n",
       "Fe54   0.045026715  0.155446299 0.156977900 0.015022648\n",
       "Mn55   0.135844528  0.121235718 0.257671096 0.086121362\n",
       "Co59   0.315489855 -0.007759198 0.235582417 0.092631323\n",
       "Ni60   0.194253922 -0.060296373 0.165060593 0.061736917\n",
       "Cu63   0.172791607  0.069353179 0.420525504 0.116550238\n",
       "Zn66   0.320244198  0.086924434 0.276799938 0.111443986\n",
       "As75   0.016241875 -0.002280995 0.003045656 0.003614396\n",
       "Rb85   1.000000022 -0.115125098 0.066579129 0.002478514\n",
       "Sr88  -0.115125098  0.999999991 0.227783433 0.022988895\n",
       "Mo98   0.066579129  0.227783433 1.000000005 0.069951536\n",
       "Cd111  0.002478514  0.022988895 0.069951536 0.089329470"
      ]
     },
     "metadata": {},
     "output_type": "display_data"
    }
   ],
   "source": [
    "cov(ionomics)"
   ]
  },
  {
   "cell_type": "markdown",
   "metadata": {},
   "source": [
    "This data lacks a categorical variable, so LDA (discriminante factor analysis), clustering, and anova are all rendered obsolete. We could come up with a categorical variable. Will use species as cat. var. in geneva data when I get there. Kruskill wallace also requires a categorical variable. What are we trying to measure the difference in? If its just ions we can compute the variance for each and just compare them as the scale and distro. are similar. "
   ]
  },
  {
   "cell_type": "code",
   "execution_count": 15,
   "metadata": {},
   "outputs": [
    {
     "name": "stdout",
     "output_type": "stream",
     "text": [
      "[1] 0.9298816\n",
      "[1] 1\n",
      "[1] 0.001851824\n",
      "[1] 0.8434734\n",
      "[1] 0.0002475847\n",
      "[1] 1\n",
      "[1] 1\n",
      "[1] 0.2248566\n",
      "[1] 1\n",
      "[1] 1\n",
      "[1] 0.3834762\n",
      "[1] 0.9759614\n",
      "[1] 0.8857539\n",
      "[1] 0.00246832\n",
      "[1] 1\n",
      "[1] 1\n",
      "[1] 1\n",
      "[1] 0.08932947\n"
     ]
    }
   ],
   "source": [
    "for (i in 2:19) {\n",
    "    print(var(ionomics[,i]))\n",
    "}"
   ]
  },
  {
   "cell_type": "markdown",
   "metadata": {},
   "source": [
    "What does var. =1 mean?"
   ]
  },
  {
   "cell_type": "markdown",
   "metadata": {},
   "source": [
    "The means can act as a fingerprint for the ionome of this dataset. Lets preform an anova on this. "
   ]
  },
  {
   "cell_type": "code",
   "execution_count": 124,
   "metadata": {},
   "outputs": [],
   "source": [
    "ions <- read.csv(\"New_ionStats.csv\",header = TRUE)\n",
    "ionsAOV <- matrix(nrow = 201, ncol = 2)\n",
    "ionsAOV[,1] = ions$Spec_int\n",
    "ionsAOV[,2] = ionsPCA$x[0:201]\n",
    "ionsAOV <- as.data.frame(ionsAOV)"
   ]
  },
  {
   "cell_type": "code",
   "execution_count": 125,
   "metadata": {},
   "outputs": [
    {
     "data": {
      "text/plain": [
       "             Df Sum Sq Mean Sq F value   Pr(>F)    \n",
       "V1            1  109.0  109.02   28.99 2.03e-07 ***\n",
       "Residuals   199  748.3    3.76                     \n",
       "---\n",
       "Signif. codes:  0 '***' 0.001 '**' 0.01 '*' 0.05 '.' 0.1 ' ' 1"
      ]
     },
     "metadata": {},
     "output_type": "display_data"
    },
    {
     "data": {
      "text/plain": [
       "Call:\n",
       "   aov(formula = V2 ~ V1, data = ionsAOV)\n",
       "\n",
       "Terms:\n",
       "                      V1 Residuals\n",
       "Sum of Squares  109.0191  748.2542\n",
       "Deg. of Freedom        1       199\n",
       "\n",
       "Residual standard error: 1.93909\n",
       "Estimated effects may be unbalanced"
      ]
     },
     "metadata": {},
     "output_type": "display_data"
    }
   ],
   "source": [
    "aov <- aov(data = ionsAOV, formula = V2 ~ V1)\n",
    "summary(aov)\n",
    "aov"
   ]
  },
  {
   "cell_type": "code",
   "execution_count": 134,
   "metadata": {},
   "outputs": [
    {
     "name": "stderr",
     "output_type": "stream",
     "text": [
      "Warning message in mean.default(x):\n",
      "\"argument is not numeric or logical: returning NA\"\n"
     ]
    },
    {
     "ename": "ERROR",
     "evalue": "Error in var(x): is.atomic(x) is not TRUE\n",
     "output_type": "error",
     "traceback": [
      "Error in var(x): is.atomic(x) is not TRUE\nTraceback:\n",
      "1. t.test(aov)",
      "2. t.test.default(aov)",
      "3. var(x)",
      "4. stopifnot(is.atomic(x))"
     ]
    }
   ],
   "source": []
  }
 ],
 "metadata": {
  "kernelspec": {
   "display_name": "R",
   "language": "R",
   "name": "ir"
  },
  "language_info": {
   "codemirror_mode": "r",
   "file_extension": ".r",
   "mimetype": "text/x-r-source",
   "name": "R",
   "pygments_lexer": "r",
   "version": "3.6.2"
  }
 },
 "nbformat": 4,
 "nbformat_minor": 4
}
