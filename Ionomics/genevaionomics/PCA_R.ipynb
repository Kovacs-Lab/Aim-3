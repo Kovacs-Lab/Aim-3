{
 "cells": [
  {
   "cell_type": "code",
   "execution_count": 1,
   "metadata": {},
   "outputs": [
    {
     "name": "stderr",
     "output_type": "stream",
     "text": [
      "Installing package into 'C:/Users/2198K/Documents/R/win-library/3.6'\n",
      "(as 'lib' is unspecified)\n",
      "\n"
     ]
    },
    {
     "name": "stdout",
     "output_type": "stream",
     "text": [
      "package 'viridis' successfully unpacked and MD5 sums checked\n",
      "\n",
      "The downloaded binary packages are in\n",
      "\tC:\\Users\\2198K\\AppData\\Local\\Temp\\RtmpA7mMIz\\downloaded_packages\n"
     ]
    },
    {
     "name": "stderr",
     "output_type": "stream",
     "text": [
      "Warning message:\n",
      "\"package 'viridis' was built under R version 3.6.2\"\n",
      "Loading required package: viridisLite\n",
      "\n",
      "Installing package into 'C:/Users/2198K/Documents/R/win-library/3.6'\n",
      "(as 'lib' is unspecified)\n",
      "\n"
     ]
    },
    {
     "name": "stdout",
     "output_type": "stream",
     "text": [
      "package 'missMDA' successfully unpacked and MD5 sums checked\n",
      "\n",
      "The downloaded binary packages are in\n",
      "\tC:\\Users\\2198K\\AppData\\Local\\Temp\\RtmpA7mMIz\\downloaded_packages\n"
     ]
    },
    {
     "name": "stderr",
     "output_type": "stream",
     "text": [
      "Warning message:\n",
      "\"package 'missMDA' was built under R version 3.6.2\"\n",
      "Installing package into 'C:/Users/2198K/Documents/R/win-library/3.6'\n",
      "(as 'lib' is unspecified)\n",
      "\n"
     ]
    },
    {
     "name": "stdout",
     "output_type": "stream",
     "text": [
      "package 'factoextra' successfully unpacked and MD5 sums checked\n",
      "\n",
      "The downloaded binary packages are in\n",
      "\tC:\\Users\\2198K\\AppData\\Local\\Temp\\RtmpA7mMIz\\downloaded_packages\n"
     ]
    },
    {
     "name": "stderr",
     "output_type": "stream",
     "text": [
      "Warning message:\n",
      "\"package 'factoextra' was built under R version 3.6.2\"\n",
      "Loading required package: ggplot2\n",
      "\n",
      "Welcome! Want to learn more? See two factoextra-related books at https://goo.gl/ve3WBa\n",
      "\n",
      "Installing package into 'C:/Users/2198K/Documents/R/win-library/3.6'\n",
      "(as 'lib' is unspecified)\n",
      "\n"
     ]
    },
    {
     "name": "stdout",
     "output_type": "stream",
     "text": [
      "package 'MASS' successfully unpacked and MD5 sums checked\n"
     ]
    },
    {
     "name": "stderr",
     "output_type": "stream",
     "text": [
      "Warning message:\n",
      "\"cannot remove prior installation of package 'MASS'\"\n",
      "Warning message in file.copy(savedcopy, lib, recursive = TRUE):\n",
      "\"problem copying C:\\Users\\2198K\\Documents\\R\\win-library\\3.6\\00LOCK\\MASS\\libs\\x64\\MASS.dll to C:\\Users\\2198K\\Documents\\R\\win-library\\3.6\\MASS\\libs\\x64\\MASS.dll: Permission denied\"\n",
      "Warning message:\n",
      "\"restored 'MASS'\"\n"
     ]
    },
    {
     "name": "stdout",
     "output_type": "stream",
     "text": [
      "\n",
      "The downloaded binary packages are in\n",
      "\tC:\\Users\\2198K\\AppData\\Local\\Temp\\RtmpA7mMIz\\downloaded_packages\n"
     ]
    },
    {
     "name": "stderr",
     "output_type": "stream",
     "text": [
      "Warning message:\n",
      "\"package 'MASS' was built under R version 3.6.2\"\n",
      "Installing package into 'C:/Users/2198K/Documents/R/win-library/3.6'\n",
      "(as 'lib' is unspecified)\n",
      "\n"
     ]
    },
    {
     "name": "stdout",
     "output_type": "stream",
     "text": [
      "package 'tidyverse' successfully unpacked and MD5 sums checked\n",
      "\n",
      "The downloaded binary packages are in\n",
      "\tC:\\Users\\2198K\\AppData\\Local\\Temp\\RtmpA7mMIz\\downloaded_packages\n"
     ]
    },
    {
     "name": "stderr",
     "output_type": "stream",
     "text": [
      "Warning message:\n",
      "\"package 'tidyverse' was built under R version 3.6.2\"\n",
      "-- \u001b[1mAttaching packages\u001b[22m --------------------------------------- tidyverse 1.3.0 --\n",
      "\n",
      "\u001b[32mv\u001b[39m \u001b[34mtibble \u001b[39m 2.1.3     \u001b[32mv\u001b[39m \u001b[34mdplyr  \u001b[39m 0.8.3\n",
      "\u001b[32mv\u001b[39m \u001b[34mtidyr  \u001b[39m 1.0.2     \u001b[32mv\u001b[39m \u001b[34mstringr\u001b[39m 1.4.0\n",
      "\u001b[32mv\u001b[39m \u001b[34mreadr  \u001b[39m 1.3.1     \u001b[32mv\u001b[39m \u001b[34mforcats\u001b[39m 0.4.0\n",
      "\u001b[32mv\u001b[39m \u001b[34mpurrr  \u001b[39m 0.3.3     \n",
      "\n",
      "Warning message:\n",
      "\"package 'tidyr' was built under R version 3.6.2\"\n",
      "Warning message:\n",
      "\"package 'readr' was built under R version 3.6.2\"\n",
      "Warning message:\n",
      "\"package 'dplyr' was built under R version 3.6.2\"\n",
      "Warning message:\n",
      "\"package 'forcats' was built under R version 3.6.2\"\n",
      "-- \u001b[1mConflicts\u001b[22m ------------------------------------------ tidyverse_conflicts() --\n",
      "\u001b[31mx\u001b[39m \u001b[34mdplyr\u001b[39m::\u001b[32mfilter()\u001b[39m masks \u001b[34mstats\u001b[39m::filter()\n",
      "\u001b[31mx\u001b[39m \u001b[34mdplyr\u001b[39m::\u001b[32mlag()\u001b[39m    masks \u001b[34mstats\u001b[39m::lag()\n",
      "\u001b[31mx\u001b[39m \u001b[34mdplyr\u001b[39m::\u001b[32mselect()\u001b[39m masks \u001b[34mMASS\u001b[39m::select()\n",
      "\n",
      "Installing package into 'C:/Users/2198K/Documents/R/win-library/3.6'\n",
      "(as 'lib' is unspecified)\n",
      "\n",
      "also installing the dependencies 'TTR', 'quadprog', 'quantmod', 'fracdiff', 'timeDate', 'tseries', 'urca', 'RcppArmadillo', 'padr', 'xts', 'forecast', 'timetk', 'sweep', 'tibbletime'\n",
      "\n",
      "\n"
     ]
    },
    {
     "name": "stdout",
     "output_type": "stream",
     "text": [
      "\n",
      "  There are binary versions available but the source versions are later:\n",
      "                   binary      source needs_compilation\n",
      "RcppArmadillo 0.9.800.4.0 0.9.850.1.0              TRUE\n",
      "forecast             8.10        8.11              TRUE\n",
      "\n",
      "  Binaries will be installed\n",
      "package 'TTR' successfully unpacked and MD5 sums checked\n",
      "package 'quadprog' successfully unpacked and MD5 sums checked\n",
      "package 'quantmod' successfully unpacked and MD5 sums checked\n",
      "package 'fracdiff' successfully unpacked and MD5 sums checked\n",
      "package 'timeDate' successfully unpacked and MD5 sums checked\n",
      "package 'tseries' successfully unpacked and MD5 sums checked\n",
      "package 'urca' successfully unpacked and MD5 sums checked\n",
      "package 'RcppArmadillo' successfully unpacked and MD5 sums checked\n",
      "package 'padr' successfully unpacked and MD5 sums checked\n",
      "package 'xts' successfully unpacked and MD5 sums checked\n",
      "package 'forecast' successfully unpacked and MD5 sums checked\n",
      "package 'timetk' successfully unpacked and MD5 sums checked\n",
      "package 'sweep' successfully unpacked and MD5 sums checked\n",
      "package 'tibbletime' successfully unpacked and MD5 sums checked\n",
      "package 'anomalize' successfully unpacked and MD5 sums checked\n",
      "\n",
      "The downloaded binary packages are in\n",
      "\tC:\\Users\\2198K\\AppData\\Local\\Temp\\RtmpA7mMIz\\downloaded_packages\n"
     ]
    },
    {
     "name": "stderr",
     "output_type": "stream",
     "text": [
      "Warning message:\n",
      "\"package 'anomalize' was built under R version 3.6.2\"\n",
      "\u001b[30m==\u001b[39m \u001b[30mUse anomalize to improve your Forecasts by 50%!\u001b[39m \u001b[30m=============================\u001b[39m\u001b[34m\n",
      "Business Science offers a 1-hour course - Lab #18: Time Series Anomaly Detection!\n",
      "\u001b[39m\u001b[34m</> Learn more at: https://university.business-science.io/p/learning-labs-pro </>\u001b[39m\n",
      "\n",
      "Installing package into 'C:/Users/2198K/Documents/R/win-library/3.6'\n",
      "(as 'lib' is unspecified)\n",
      "\n"
     ]
    },
    {
     "name": "stdout",
     "output_type": "stream",
     "text": [
      "package 'ggthemes' successfully unpacked and MD5 sums checked\n",
      "\n",
      "The downloaded binary packages are in\n",
      "\tC:\\Users\\2198K\\AppData\\Local\\Temp\\RtmpA7mMIz\\downloaded_packages\n"
     ]
    },
    {
     "name": "stderr",
     "output_type": "stream",
     "text": [
      "Warning message:\n",
      "\"package 'ggthemes' was built under R version 3.6.2\"\n",
      "Installing package into 'C:/Users/2198K/Documents/R/win-library/3.6'\n",
      "(as 'lib' is unspecified)\n",
      "\n",
      "also installing the dependencies 'beeswarm', 'vipor'\n",
      "\n",
      "\n"
     ]
    },
    {
     "name": "stdout",
     "output_type": "stream",
     "text": [
      "package 'beeswarm' successfully unpacked and MD5 sums checked\n",
      "package 'vipor' successfully unpacked and MD5 sums checked\n",
      "package 'ggbeeswarm' successfully unpacked and MD5 sums checked\n",
      "\n",
      "The downloaded binary packages are in\n",
      "\tC:\\Users\\2198K\\AppData\\Local\\Temp\\RtmpA7mMIz\\downloaded_packages\n"
     ]
    },
    {
     "name": "stderr",
     "output_type": "stream",
     "text": [
      "Warning message:\n",
      "\"package 'ggbeeswarm' was built under R version 3.6.2\"\n",
      "Installing package into 'C:/Users/2198K/Documents/R/win-library/3.6'\n",
      "(as 'lib' is unspecified)\n",
      "\n"
     ]
    },
    {
     "name": "stdout",
     "output_type": "stream",
     "text": [
      "package 'reshape' successfully unpacked and MD5 sums checked\n",
      "\n",
      "The downloaded binary packages are in\n",
      "\tC:\\Users\\2198K\\AppData\\Local\\Temp\\RtmpA7mMIz\\downloaded_packages\n"
     ]
    },
    {
     "name": "stderr",
     "output_type": "stream",
     "text": [
      "Warning message:\n",
      "\"package 'reshape' was built under R version 3.6.2\"\n",
      "\n",
      "Attaching package: 'reshape'\n",
      "\n",
      "\n",
      "The following object is masked from 'package:dplyr':\n",
      "\n",
      "    rename\n",
      "\n",
      "\n",
      "The following objects are masked from 'package:tidyr':\n",
      "\n",
      "    expand, smiths\n",
      "\n",
      "\n"
     ]
    }
   ],
   "source": [
    "install.packages(\"viridis\")\n",
    "library(\"viridis\")\n",
    "install.packages(\"missMDA\")\n",
    "library(\"missMDA\")\n",
    "install.packages(\"factoextra\")\n",
    "library(\"factoextra\")\n",
    "install.packages(\"MASS\")\n",
    "library(\"MASS\")\n",
    "install.packages(\"tidyverse\")\n",
    "library(\"tidyverse\")\n",
    "install.packages(\"anomalize\")\n",
    "library(\"anomalize\")\n",
    "install.packages(\"ggthemes\")\n",
    "library(\"ggthemes\")\n",
    "install.packages(\"ggbeeswarm\")\n",
    "library(\"ggbeeswarm\")\n",
    "install.packages(\"reshape\")\n",
    "library(\"reshape\")"
   ]
  },
  {
   "cell_type": "code",
   "execution_count": 2,
   "metadata": {},
   "outputs": [],
   "source": [
    "ionomics <- read.csv(\"New_ionStats.csv\",header = TRUE,colClasses =c(\"NULL\",\"NULL\",NA,NA,NA,NA,NA,NA,NA,NA,NA,NA,NA,NA,NA,\n",
    "                                                                    NA,NA,NA,NA,NA,NA) )\n",
    "ionomics <- imputePCA(ionomics, method = \"Regularized\")"
   ]
  },
  {
   "cell_type": "code",
   "execution_count": 3,
   "metadata": {},
   "outputs": [],
   "source": [
    "ionsPCA <- prcomp(ionomics$completeObs,scale = FALSE)\n",
    "ionsPCAvar <- princomp(ionomics$completeObs, cor = FALSE,score = TRUE)"
   ]
  },
  {
   "cell_type": "code",
   "execution_count": 4,
   "metadata": {},
   "outputs": [
    {
     "data": {
      "text/html": [
       "<table>\n",
       "<caption>A data.frame: 19 × 3</caption>\n",
       "<thead>\n",
       "\t<tr><th></th><th scope=col>eigenvalue</th><th scope=col>variance.percent</th><th scope=col>cumulative.variance.percent</th></tr>\n",
       "\t<tr><th></th><th scope=col>&lt;dbl&gt;</th><th scope=col>&lt;dbl&gt;</th><th scope=col>&lt;dbl&gt;</th></tr>\n",
       "</thead>\n",
       "<tbody>\n",
       "\t<tr><th scope=row>Dim.1</th><td>5.2752459817</td><td>3.324057e+01</td><td> 33.24057</td></tr>\n",
       "\t<tr><th scope=row>Dim.2</th><td>2.5325190217</td><td>1.595800e+01</td><td> 49.19857</td></tr>\n",
       "\t<tr><th scope=row>Dim.3</th><td>2.2306606992</td><td>1.405592e+01</td><td> 63.25449</td></tr>\n",
       "\t<tr><th scope=row>Dim.4</th><td>1.3084785755</td><td>8.245033e+00</td><td> 71.49953</td></tr>\n",
       "\t<tr><th scope=row>Dim.5</th><td>0.9035658064</td><td>5.693582e+00</td><td> 77.19311</td></tr>\n",
       "\t<tr><th scope=row>Dim.6</th><td>0.8267759318</td><td>5.209711e+00</td><td> 82.40282</td></tr>\n",
       "\t<tr><th scope=row>Dim.7</th><td>0.6922196062</td><td>4.361839e+00</td><td> 86.76466</td></tr>\n",
       "\t<tr><th scope=row>Dim.8</th><td>0.4962919336</td><td>3.127253e+00</td><td> 89.89191</td></tr>\n",
       "\t<tr><th scope=row>Dim.9</th><td>0.4018493896</td><td>2.532148e+00</td><td> 92.42406</td></tr>\n",
       "\t<tr><th scope=row>Dim.10</th><td>0.3065517901</td><td>1.931655e+00</td><td> 94.35571</td></tr>\n",
       "\t<tr><th scope=row>Dim.11</th><td>0.2614378924</td><td>1.647382e+00</td><td> 96.00310</td></tr>\n",
       "\t<tr><th scope=row>Dim.12</th><td>0.2048527861</td><td>1.290826e+00</td><td> 97.29392</td></tr>\n",
       "\t<tr><th scope=row>Dim.13</th><td>0.1615033815</td><td>1.017671e+00</td><td> 98.31159</td></tr>\n",
       "\t<tr><th scope=row>Dim.14</th><td>0.1178854862</td><td>7.428243e-01</td><td> 99.05442</td></tr>\n",
       "\t<tr><th scope=row>Dim.15</th><td>0.0851060041</td><td>5.362730e-01</td><td> 99.59069</td></tr>\n",
       "\t<tr><th scope=row>Dim.16</th><td>0.0621570632</td><td>3.916663e-01</td><td> 99.98236</td></tr>\n",
       "\t<tr><th scope=row>Dim.17</th><td>0.0015325233</td><td>9.656792e-03</td><td> 99.99201</td></tr>\n",
       "\t<tr><th scope=row>Dim.18</th><td>0.0011635172</td><td>7.331597e-03</td><td> 99.99934</td></tr>\n",
       "\t<tr><th scope=row>Dim.19</th><td>0.0001040612</td><td>6.557143e-04</td><td>100.00000</td></tr>\n",
       "</tbody>\n",
       "</table>\n"
      ],
      "text/latex": [
       "A data.frame: 19 × 3\n",
       "\\begin{tabular}{r|lll}\n",
       "  & eigenvalue & variance.percent & cumulative.variance.percent\\\\\n",
       "  & <dbl> & <dbl> & <dbl>\\\\\n",
       "\\hline\n",
       "\tDim.1 & 5.2752459817 & 3.324057e+01 &  33.24057\\\\\n",
       "\tDim.2 & 2.5325190217 & 1.595800e+01 &  49.19857\\\\\n",
       "\tDim.3 & 2.2306606992 & 1.405592e+01 &  63.25449\\\\\n",
       "\tDim.4 & 1.3084785755 & 8.245033e+00 &  71.49953\\\\\n",
       "\tDim.5 & 0.9035658064 & 5.693582e+00 &  77.19311\\\\\n",
       "\tDim.6 & 0.8267759318 & 5.209711e+00 &  82.40282\\\\\n",
       "\tDim.7 & 0.6922196062 & 4.361839e+00 &  86.76466\\\\\n",
       "\tDim.8 & 0.4962919336 & 3.127253e+00 &  89.89191\\\\\n",
       "\tDim.9 & 0.4018493896 & 2.532148e+00 &  92.42406\\\\\n",
       "\tDim.10 & 0.3065517901 & 1.931655e+00 &  94.35571\\\\\n",
       "\tDim.11 & 0.2614378924 & 1.647382e+00 &  96.00310\\\\\n",
       "\tDim.12 & 0.2048527861 & 1.290826e+00 &  97.29392\\\\\n",
       "\tDim.13 & 0.1615033815 & 1.017671e+00 &  98.31159\\\\\n",
       "\tDim.14 & 0.1178854862 & 7.428243e-01 &  99.05442\\\\\n",
       "\tDim.15 & 0.0851060041 & 5.362730e-01 &  99.59069\\\\\n",
       "\tDim.16 & 0.0621570632 & 3.916663e-01 &  99.98236\\\\\n",
       "\tDim.17 & 0.0015325233 & 9.656792e-03 &  99.99201\\\\\n",
       "\tDim.18 & 0.0011635172 & 7.331597e-03 &  99.99934\\\\\n",
       "\tDim.19 & 0.0001040612 & 6.557143e-04 & 100.00000\\\\\n",
       "\\end{tabular}\n"
      ],
      "text/markdown": [
       "\n",
       "A data.frame: 19 × 3\n",
       "\n",
       "| <!--/--> | eigenvalue &lt;dbl&gt; | variance.percent &lt;dbl&gt; | cumulative.variance.percent &lt;dbl&gt; |\n",
       "|---|---|---|---|\n",
       "| Dim.1 | 5.2752459817 | 3.324057e+01 |  33.24057 |\n",
       "| Dim.2 | 2.5325190217 | 1.595800e+01 |  49.19857 |\n",
       "| Dim.3 | 2.2306606992 | 1.405592e+01 |  63.25449 |\n",
       "| Dim.4 | 1.3084785755 | 8.245033e+00 |  71.49953 |\n",
       "| Dim.5 | 0.9035658064 | 5.693582e+00 |  77.19311 |\n",
       "| Dim.6 | 0.8267759318 | 5.209711e+00 |  82.40282 |\n",
       "| Dim.7 | 0.6922196062 | 4.361839e+00 |  86.76466 |\n",
       "| Dim.8 | 0.4962919336 | 3.127253e+00 |  89.89191 |\n",
       "| Dim.9 | 0.4018493896 | 2.532148e+00 |  92.42406 |\n",
       "| Dim.10 | 0.3065517901 | 1.931655e+00 |  94.35571 |\n",
       "| Dim.11 | 0.2614378924 | 1.647382e+00 |  96.00310 |\n",
       "| Dim.12 | 0.2048527861 | 1.290826e+00 |  97.29392 |\n",
       "| Dim.13 | 0.1615033815 | 1.017671e+00 |  98.31159 |\n",
       "| Dim.14 | 0.1178854862 | 7.428243e-01 |  99.05442 |\n",
       "| Dim.15 | 0.0851060041 | 5.362730e-01 |  99.59069 |\n",
       "| Dim.16 | 0.0621570632 | 3.916663e-01 |  99.98236 |\n",
       "| Dim.17 | 0.0015325233 | 9.656792e-03 |  99.99201 |\n",
       "| Dim.18 | 0.0011635172 | 7.331597e-03 |  99.99934 |\n",
       "| Dim.19 | 0.0001040612 | 6.557143e-04 | 100.00000 |\n",
       "\n"
      ],
      "text/plain": [
       "       eigenvalue   variance.percent cumulative.variance.percent\n",
       "Dim.1  5.2752459817 3.324057e+01      33.24057                  \n",
       "Dim.2  2.5325190217 1.595800e+01      49.19857                  \n",
       "Dim.3  2.2306606992 1.405592e+01      63.25449                  \n",
       "Dim.4  1.3084785755 8.245033e+00      71.49953                  \n",
       "Dim.5  0.9035658064 5.693582e+00      77.19311                  \n",
       "Dim.6  0.8267759318 5.209711e+00      82.40282                  \n",
       "Dim.7  0.6922196062 4.361839e+00      86.76466                  \n",
       "Dim.8  0.4962919336 3.127253e+00      89.89191                  \n",
       "Dim.9  0.4018493896 2.532148e+00      92.42406                  \n",
       "Dim.10 0.3065517901 1.931655e+00      94.35571                  \n",
       "Dim.11 0.2614378924 1.647382e+00      96.00310                  \n",
       "Dim.12 0.2048527861 1.290826e+00      97.29392                  \n",
       "Dim.13 0.1615033815 1.017671e+00      98.31159                  \n",
       "Dim.14 0.1178854862 7.428243e-01      99.05442                  \n",
       "Dim.15 0.0851060041 5.362730e-01      99.59069                  \n",
       "Dim.16 0.0621570632 3.916663e-01      99.98236                  \n",
       "Dim.17 0.0015325233 9.656792e-03      99.99201                  \n",
       "Dim.18 0.0011635172 7.331597e-03      99.99934                  \n",
       "Dim.19 0.0001040612 6.557143e-04     100.00000                  "
      ]
     },
     "metadata": {},
     "output_type": "display_data"
    }
   ],
   "source": [
    "eig.val <- get_eigenvalue(ionsPCA)\n",
    "eig.val"
   ]
  },
  {
   "cell_type": "markdown",
   "metadata": {},
   "source": [
    "This shows the different dimensions, or eigenvalues associated with this PCA. The values are ranked from largest to smallest, as a larger value indicates more % variance explained. This also shows us the % variance explained by each dimension (multiply the eigenvalue by 10), as well as the cumulative % variance explained. With only 2 dimensions, we can explain 49% of the variance of 20 dimensions. "
   ]
  },
  {
   "cell_type": "code",
   "execution_count": 5,
   "metadata": {},
   "outputs": [
    {
     "data": {
      "image/png": "[encoded data removed]",
      "text/plain": [
       "plot without title"
      ]
     },
     "metadata": {
      "image/png": {
       "height": 420,
       "width": 420
      }
     },
     "output_type": "display_data"
    }
   ],
   "source": [
    "fviz_eig(ionsPCA, linecolor = \"#FC4E07\",\n",
    "   barcolor = \"#00AFBB\", barfill = \"#00AFBB\")"
   ]
  },
  {
   "cell_type": "code",
   "execution_count": 6,
   "metadata": {},
   "outputs": [
    {
     "data": {
      "text/plain": [
       "Importance of components:\n",
       "                          Comp.1    Comp.2    Comp.3     Comp.4     Comp.5\n",
       "Standard deviation     2.2910698 1.5874254 1.4898197 1.14103844 0.94819326\n",
       "Proportion of Variance 0.3324057 0.1595800 0.1405592 0.08245033 0.05693582\n",
       "Cumulative Proportion  0.3324057 0.4919857 0.6325449 0.71499526 0.77193107\n",
       "                           Comp.6     Comp.7     Comp.8     Comp.9    Comp.10\n",
       "Standard deviation     0.90700751 0.82992513 0.70272528 0.63233705 0.55229218\n",
       "Proportion of Variance 0.05209711 0.04361839 0.03127253 0.02532148 0.01931655\n",
       "Cumulative Proportion  0.82402818 0.86764657 0.89891910 0.92424058 0.94355713\n",
       "                          Comp.11    Comp.12    Comp.13     Comp.14    Comp.15\n",
       "Standard deviation     0.51003648 0.45147937 0.40087390 0.342489403 0.29100273\n",
       "Proportion of Variance 0.01647382 0.01290826 0.01017671 0.007428243 0.00536273\n",
       "Cumulative Proportion  0.96003095 0.97293921 0.98311592 0.990544165 0.99590690\n",
       "                           Comp.16      Comp.17      Comp.18      Comp.19\n",
       "Standard deviation     0.248692228 3.904995e-02 3.402541e-02 1.017563e-02\n",
       "Proportion of Variance 0.003916663 9.656792e-05 7.331597e-05 6.557143e-06\n",
       "Cumulative Proportion  0.999823559 9.999201e-01 9.999934e-01 1.000000e+00"
      ]
     },
     "metadata": {},
     "output_type": "display_data"
    }
   ],
   "source": [
    "summary(ionsPCAvar)"
   ]
  },
  {
   "cell_type": "code",
   "execution_count": 7,
   "metadata": {},
   "outputs": [
    {
     "data": {
      "image/png": "[encoded data removed]",
      "text/plain": [
       "plot without title"
      ]
     },
     "metadata": {
      "image/png": {
       "height": 420,
       "width": 420
      }
     },
     "output_type": "display_data"
    }
   ],
   "source": [
    "fviz_pca_biplot(ionsPCA, repel = FALSE,\n",
    "                col.var = \"#2E9FDF\", # Variables color\n",
    "                col.ind = \"#696969\"  # Individuals color\n",
    "                )"
   ]
  },
  {
   "cell_type": "markdown",
   "metadata": {},
   "source": [
    "* Positively correlated variables are grouped together\n",
    "* Negatively correlated variables are positioned on opposite sides of the plot origin (opposed quadrants).\n",
    "* The distance between variables and the origin measures the quality of the variables on the factor map. Variables that are away from the origin are well represented on the factor map.\n",
    "\n",
    "From [here](http://www.sthda.com/english/articles/31-principal-component-methods-in-r-practical-guide/112-pca-principal-component-analysis-essentials/)"
   ]
  },
  {
   "cell_type": "code",
   "execution_count": 8,
   "metadata": {},
   "outputs": [
    {
     "data": {
      "text/html": [
       "<dl class=dl-horizontal>\n",
       "\t<dt>Spec_int</dt>\n",
       "\t\t<dd>35.2145145262826</dd>\n",
       "\t<dt>B11</dt>\n",
       "\t\t<dd>0.0491879695819185</dd>\n",
       "\t<dt>Na23</dt>\n",
       "\t\t<dd>5.3574137761308</dd>\n",
       "\t<dt>Mg26</dt>\n",
       "\t\t<dd>4.97516842996453</dd>\n",
       "\t<dt>Al27</dt>\n",
       "\t\t<dd>0.00486239198338183</dd>\n",
       "\t<dt>P31</dt>\n",
       "\t\t<dd>6.6568992952121</dd>\n",
       "\t<dt>S34</dt>\n",
       "\t\t<dd>0.00149557127635065</dd>\n",
       "\t<dt>K39</dt>\n",
       "\t\t<dd>4.30695533943981</dd>\n",
       "\t<dt>Ca44</dt>\n",
       "\t\t<dd>0.712154693809106</dd>\n",
       "\t<dt>Fe54</dt>\n",
       "\t\t<dd>0.384258480900099</dd>\n",
       "\t<dt>Mn55</dt>\n",
       "\t\t<dd>7.24920974702753</dd>\n",
       "\t<dt>Co59</dt>\n",
       "\t\t<dd>7.81514967707646</dd>\n",
       "\t<dt>Ni60</dt>\n",
       "\t\t<dd>3.32456608604762</dd>\n",
       "\t<dt>Cu63</dt>\n",
       "\t\t<dd>9.88973173430483</dd>\n",
       "\t<dt>Zn66</dt>\n",
       "\t\t<dd>8.3123092291463</dd>\n",
       "\t<dt>As75</dt>\n",
       "\t\t<dd>0.0133370878477363</dd>\n",
       "\t<dt>Rb85</dt>\n",
       "\t\t<dd>1.7466128137545</dd>\n",
       "\t<dt>Sr88</dt>\n",
       "\t\t<dd>0.554611955975679</dd>\n",
       "\t<dt>Mo98</dt>\n",
       "\t\t<dd>3.43156119423862</dd>\n",
       "</dl>\n"
      ],
      "text/latex": [
       "\\begin{description*}\n",
       "\\item[Spec\\textbackslash{}\\_int] 35.2145145262826\n",
       "\\item[B11] 0.0491879695819185\n",
       "\\item[Na23] 5.3574137761308\n",
       "\\item[Mg26] 4.97516842996453\n",
       "\\item[Al27] 0.00486239198338183\n",
       "\\item[P31] 6.6568992952121\n",
       "\\item[S34] 0.00149557127635065\n",
       "\\item[K39] 4.30695533943981\n",
       "\\item[Ca44] 0.712154693809106\n",
       "\\item[Fe54] 0.384258480900099\n",
       "\\item[Mn55] 7.24920974702753\n",
       "\\item[Co59] 7.81514967707646\n",
       "\\item[Ni60] 3.32456608604762\n",
       "\\item[Cu63] 9.88973173430483\n",
       "\\item[Zn66] 8.3123092291463\n",
       "\\item[As75] 0.0133370878477363\n",
       "\\item[Rb85] 1.7466128137545\n",
       "\\item[Sr88] 0.554611955975679\n",
       "\\item[Mo98] 3.43156119423862\n",
       "\\end{description*}\n"
      ],
      "text/markdown": [
       "Spec_int\n",
       ":   35.2145145262826B11\n",
       ":   0.0491879695819185Na23\n",
       ":   5.3574137761308Mg26\n",
       ":   4.97516842996453Al27\n",
       ":   0.00486239198338183P31\n",
       ":   6.6568992952121S34\n",
       ":   0.00149557127635065K39\n",
       ":   4.30695533943981Ca44\n",
       ":   0.712154693809106Fe54\n",
       ":   0.384258480900099Mn55\n",
       ":   7.24920974702753Co59\n",
       ":   7.81514967707646Ni60\n",
       ":   3.32456608604762Cu63\n",
       ":   9.88973173430483Zn66\n",
       ":   8.3123092291463As75\n",
       ":   0.0133370878477363Rb85\n",
       ":   1.7466128137545Sr88\n",
       ":   0.554611955975679Mo98\n",
       ":   3.43156119423862\n",
       "\n"
      ],
      "text/plain": [
       "    Spec_int          B11         Na23         Mg26         Al27          P31 \n",
       "35.214514526  0.049187970  5.357413776  4.975168430  0.004862392  6.656899295 \n",
       "         S34          K39         Ca44         Fe54         Mn55         Co59 \n",
       " 0.001495571  4.306955339  0.712154694  0.384258481  7.249209747  7.815149677 \n",
       "        Ni60         Cu63         Zn66         As75         Rb85         Sr88 \n",
       " 3.324566086  9.889731734  8.312309229  0.013337088  1.746612814  0.554611956 \n",
       "        Mo98 \n",
       " 3.431561194 "
      ]
     },
     "metadata": {},
     "output_type": "display_data"
    },
    {
     "data": {
      "text/html": [
       "<dl class=dl-horizontal>\n",
       "\t<dt>Spec_int</dt>\n",
       "\t\t<dd>48.0665991955962</dd>\n",
       "\t<dt>B11</dt>\n",
       "\t\t<dd>0.798124572269617</dd>\n",
       "\t<dt>Na23</dt>\n",
       "\t\t<dd>2.275479044737</dd>\n",
       "\t<dt>Mg26</dt>\n",
       "\t\t<dd>0.0688467539391763</dd>\n",
       "\t<dt>Al27</dt>\n",
       "\t\t<dd>0.00136152341258273</dd>\n",
       "\t<dt>P31</dt>\n",
       "\t\t<dd>3.89710289910892</dd>\n",
       "\t<dt>S34</dt>\n",
       "\t\t<dd>0.000355764173670003</dd>\n",
       "\t<dt>K39</dt>\n",
       "\t\t<dd>7.21094991003867</dd>\n",
       "\t<dt>Ca44</dt>\n",
       "\t\t<dd>4.54261586639578</dd>\n",
       "\t<dt>Fe54</dt>\n",
       "\t\t<dd>0.263715440160202</dd>\n",
       "\t<dt>Mn55</dt>\n",
       "\t\t<dd>3.86608977872847</dd>\n",
       "\t<dt>Co59</dt>\n",
       "\t\t<dd>6.87644991069325</dd>\n",
       "\t<dt>Ni60</dt>\n",
       "\t\t<dd>2.13577056792396</dd>\n",
       "\t<dt>Cu63</dt>\n",
       "\t\t<dd>2.21118031350213</dd>\n",
       "\t<dt>Zn66</dt>\n",
       "\t\t<dd>4.01371680690575</dd>\n",
       "\t<dt>As75</dt>\n",
       "\t\t<dd>0.00734877904057083</dd>\n",
       "\t<dt>Rb85</dt>\n",
       "\t\t<dd>7.94336347497239</dd>\n",
       "\t<dt>Sr88</dt>\n",
       "\t\t<dd>5.46072575077978</dd>\n",
       "\t<dt>Mo98</dt>\n",
       "\t\t<dd>0.360203647621868</dd>\n",
       "</dl>\n"
      ],
      "text/latex": [
       "\\begin{description*}\n",
       "\\item[Spec\\textbackslash{}\\_int] 48.0665991955962\n",
       "\\item[B11] 0.798124572269617\n",
       "\\item[Na23] 2.275479044737\n",
       "\\item[Mg26] 0.0688467539391763\n",
       "\\item[Al27] 0.00136152341258273\n",
       "\\item[P31] 3.89710289910892\n",
       "\\item[S34] 0.000355764173670003\n",
       "\\item[K39] 7.21094991003867\n",
       "\\item[Ca44] 4.54261586639578\n",
       "\\item[Fe54] 0.263715440160202\n",
       "\\item[Mn55] 3.86608977872847\n",
       "\\item[Co59] 6.87644991069325\n",
       "\\item[Ni60] 2.13577056792396\n",
       "\\item[Cu63] 2.21118031350213\n",
       "\\item[Zn66] 4.01371680690575\n",
       "\\item[As75] 0.00734877904057083\n",
       "\\item[Rb85] 7.94336347497239\n",
       "\\item[Sr88] 5.46072575077978\n",
       "\\item[Mo98] 0.360203647621868\n",
       "\\end{description*}\n"
      ],
      "text/markdown": [
       "Spec_int\n",
       ":   48.0665991955962B11\n",
       ":   0.798124572269617Na23\n",
       ":   2.275479044737Mg26\n",
       ":   0.0688467539391763Al27\n",
       ":   0.00136152341258273P31\n",
       ":   3.89710289910892S34\n",
       ":   0.000355764173670003K39\n",
       ":   7.21094991003867Ca44\n",
       ":   4.54261586639578Fe54\n",
       ":   0.263715440160202Mn55\n",
       ":   3.86608977872847Co59\n",
       ":   6.87644991069325Ni60\n",
       ":   2.13577056792396Cu63\n",
       ":   2.21118031350213Zn66\n",
       ":   4.01371680690575As75\n",
       ":   0.00734877904057083Rb85\n",
       ":   7.94336347497239Sr88\n",
       ":   5.46072575077978Mo98\n",
       ":   0.360203647621868\n",
       "\n"
      ],
      "text/plain": [
       "    Spec_int          B11         Na23         Mg26         Al27          P31 \n",
       "4.806660e+01 7.981246e-01 2.275479e+00 6.884675e-02 1.361523e-03 3.897103e+00 \n",
       "         S34          K39         Ca44         Fe54         Mn55         Co59 \n",
       "3.557642e-04 7.210950e+00 4.542616e+00 2.637154e-01 3.866090e+00 6.876450e+00 \n",
       "        Ni60         Cu63         Zn66         As75         Rb85         Sr88 \n",
       "2.135771e+00 2.211180e+00 4.013717e+00 7.348779e-03 7.943363e+00 5.460726e+00 \n",
       "        Mo98 \n",
       "3.602036e-01 "
      ]
     },
     "metadata": {},
     "output_type": "display_data"
    }
   ],
   "source": [
    "pcaVars <- get_pca_var(ionsPCA)\n",
    "pcaVars$contrib[,1]\n",
    "pcaVars$contrib[,2]"
   ]
  },
  {
   "cell_type": "markdown",
   "metadata": {},
   "source": [
    "Basically plotting Ca + Sr vs P + Cu"
   ]
  },
  {
   "cell_type": "code",
   "execution_count": 9,
   "metadata": {},
   "outputs": [
    {
     "data": {
      "text/html": [
       "<table>\n",
       "<caption>A matrix: 19 × 19 of type dbl</caption>\n",
       "<thead>\n",
       "\t<tr><th></th><th scope=col>Spec_int</th><th scope=col>B11</th><th scope=col>Na23</th><th scope=col>Mg26</th><th scope=col>Al27</th><th scope=col>P31</th><th scope=col>S34</th><th scope=col>K39</th><th scope=col>Ca44</th><th scope=col>Fe54</th><th scope=col>Mn55</th><th scope=col>Co59</th><th scope=col>Ni60</th><th scope=col>Cu63</th><th scope=col>Zn66</th><th scope=col>As75</th><th scope=col>Rb85</th><th scope=col>Sr88</th><th scope=col>Mo98</th></tr>\n",
       "</thead>\n",
       "<tbody>\n",
       "\t<tr><th scope=row>Spec_int</th><td> 1.000000000</td><td> 0.09642291</td><td>-0.3079131</td><td>-0.27107978</td><td>-0.18404446</td><td>-0.24750776</td><td>-0.20391523</td><td>-0.1414772</td><td>-0.09407182</td><td>-0.008432847</td><td>-0.21288143</td><td>-0.217413018</td><td>-0.29978587</td><td>-0.34238826</td><td>-0.27216335</td><td>-0.24265307</td><td>-0.06141108</td><td>-0.110516336</td><td>-0.16570822</td></tr>\n",
       "\t<tr><th scope=row>B11</th><td> 0.096422911</td><td> 1.00000000</td><td> 0.4309633</td><td>-0.02956386</td><td> 0.18411244</td><td> 0.02309360</td><td> 0.07098936</td><td> 0.1769154</td><td>-0.03489512</td><td> 0.200651958</td><td> 0.08907968</td><td> 0.088873189</td><td> 0.16107869</td><td> 0.13858582</td><td> 0.22374272</td><td> 0.22436845</td><td> 0.21076511</td><td>-0.029578613</td><td> 0.06744739</td></tr>\n",
       "\t<tr><th scope=row>Na23</th><td>-0.307913129</td><td> 0.43096333</td><td> 1.0000000</td><td> 0.12907723</td><td> 0.39203376</td><td> 0.36031883</td><td> 0.22366375</td><td> 0.3715863</td><td>-0.12025489</td><td> 0.128802037</td><td> 0.33437873</td><td> 0.337488857</td><td> 0.43484446</td><td> 0.39632920</td><td> 0.41875078</td><td> 0.37648421</td><td> 0.25898240</td><td>-0.107809537</td><td> 0.10611074</td></tr>\n",
       "\t<tr><th scope=row>Mg26</th><td>-0.271079779</td><td>-0.02956386</td><td> 0.1290772</td><td> 1.00000000</td><td> 0.15658144</td><td> 0.39207989</td><td> 0.29646736</td><td> 0.2690713</td><td> 0.29463245</td><td> 0.110408344</td><td> 0.21098861</td><td> 0.213238525</td><td> 0.27194673</td><td> 0.49565575</td><td> 0.37440567</td><td> 0.35479204</td><td> 0.03195432</td><td> 0.323981598</td><td> 0.10926659</td></tr>\n",
       "\t<tr><th scope=row>Al27</th><td>-0.184044465</td><td> 0.18411244</td><td> 0.3920338</td><td> 0.15658144</td><td> 1.00000000</td><td> 0.29222274</td><td> 0.23264476</td><td> 0.2101993</td><td> 0.02223372</td><td> 0.109942065</td><td> 0.25598103</td><td> 0.253666532</td><td> 0.27939645</td><td> 0.29201071</td><td> 0.31237821</td><td> 0.33149371</td><td> 0.21148786</td><td> 0.120568912</td><td> 0.14421044</td></tr>\n",
       "\t<tr><th scope=row>P31</th><td>-0.247507756</td><td> 0.02309360</td><td> 0.3603188</td><td> 0.39207989</td><td> 0.29222274</td><td> 1.00000000</td><td> 0.52713514</td><td> 0.5597728</td><td> 0.02683198</td><td> 0.266266201</td><td> 0.31958279</td><td> 0.382441656</td><td> 0.49919557</td><td> 0.67993136</td><td> 0.39962167</td><td> 0.36279208</td><td> 0.28938941</td><td> 0.013776513</td><td> 0.38178729</td></tr>\n",
       "\t<tr><th scope=row>S34</th><td>-0.203915225</td><td> 0.07098936</td><td> 0.2236638</td><td> 0.29646736</td><td> 0.23264476</td><td> 0.52713514</td><td> 1.00000000</td><td> 0.2614299</td><td> 0.36938557</td><td> 0.454955282</td><td> 0.56711032</td><td> 0.489083190</td><td> 0.34250737</td><td> 0.45900450</td><td> 0.47469580</td><td> 0.32821946</td><td> 0.19655225</td><td> 0.308912810</td><td> 0.45135384</td></tr>\n",
       "\t<tr><th scope=row>K39</th><td>-0.141477213</td><td> 0.17691543</td><td> 0.3715863</td><td> 0.26907135</td><td> 0.21019925</td><td> 0.55977279</td><td> 0.26142993</td><td> 1.0000000</td><td>-0.13073687</td><td> 0.106169355</td><td> 0.16972404</td><td> 0.217145970</td><td> 0.43512304</td><td> 0.47202609</td><td> 0.34253646</td><td> 0.35136071</td><td> 0.34697929</td><td>-0.144855793</td><td> 0.17464026</td></tr>\n",
       "\t<tr><th scope=row>Ca44</th><td>-0.094071821</td><td>-0.03489512</td><td>-0.1202549</td><td> 0.29463245</td><td> 0.02223372</td><td> 0.02683198</td><td> 0.36938557</td><td>-0.1307369</td><td> 1.00000000</td><td> 0.400641298</td><td> 0.23446682</td><td> 0.058550633</td><td>-0.05293287</td><td> 0.08152868</td><td> 0.19280606</td><td>-0.02580560</td><td>-0.27358045</td><td> 0.868185116</td><td> 0.26263906</td></tr>\n",
       "\t<tr><th scope=row>Fe54</th><td>-0.008432847</td><td> 0.20065196</td><td> 0.1288020</td><td> 0.11040834</td><td> 0.10994207</td><td> 0.26626620</td><td> 0.45495528</td><td> 0.1061694</td><td> 0.40064130</td><td> 1.000000000</td><td> 0.34798001</td><td> 0.339083832</td><td> 0.22174352</td><td> 0.24331276</td><td> 0.32787523</td><td> 0.08743444</td><td> 0.09458807</td><td> 0.327859839</td><td> 0.33102341</td></tr>\n",
       "\t<tr><th scope=row>Mn55</th><td>-0.212881428</td><td> 0.08907968</td><td> 0.3343787</td><td> 0.21098861</td><td> 0.25598103</td><td> 0.31958279</td><td> 0.56711032</td><td> 0.1697240</td><td> 0.23446682</td><td> 0.347980014</td><td> 1.00000000</td><td> 0.817270318</td><td> 0.50653384</td><td> 0.36861874</td><td> 0.66050550</td><td> 0.42133567</td><td> 0.13584453</td><td> 0.121235720</td><td> 0.25767110</td></tr>\n",
       "\t<tr><th scope=row>Co59</th><td>-0.217413018</td><td> 0.08887319</td><td> 0.3374889</td><td> 0.21323853</td><td> 0.25366653</td><td> 0.38244166</td><td> 0.48908319</td><td> 0.2171460</td><td> 0.05855063</td><td> 0.339083832</td><td> 0.81727032</td><td> 1.000000000</td><td> 0.74862238</td><td> 0.40853067</td><td> 0.61233187</td><td> 0.46379431</td><td> 0.31548986</td><td>-0.007759198</td><td> 0.23558242</td></tr>\n",
       "\t<tr><th scope=row>Ni60</th><td>-0.299785869</td><td> 0.16107869</td><td> 0.4348445</td><td> 0.27194673</td><td> 0.27939645</td><td> 0.49919557</td><td> 0.34250737</td><td> 0.4351230</td><td>-0.05293287</td><td> 0.221743517</td><td> 0.50653384</td><td> 0.748622385</td><td> 1.00000000</td><td> 0.53400478</td><td> 0.53972427</td><td> 0.45607170</td><td> 0.31281432</td><td>-0.097150238</td><td> 0.26654191</td></tr>\n",
       "\t<tr><th scope=row>Cu63</th><td>-0.342388260</td><td> 0.13858582</td><td> 0.3963292</td><td> 0.49565575</td><td> 0.29201071</td><td> 0.67993136</td><td> 0.45900450</td><td> 0.4720261</td><td> 0.08152868</td><td> 0.243312764</td><td> 0.36861874</td><td> 0.408530674</td><td> 0.53400478</td><td> 1.00000000</td><td> 0.51095373</td><td> 0.42089854</td><td> 0.17414598</td><td> 0.070361775</td><td> 0.42561406</td></tr>\n",
       "\t<tr><th scope=row>Zn66</th><td>-0.272163349</td><td> 0.22374272</td><td> 0.4187508</td><td> 0.37440567</td><td> 0.31237821</td><td> 0.39962167</td><td> 0.47469580</td><td> 0.3425365</td><td> 0.19280606</td><td> 0.327875232</td><td> 0.66050550</td><td> 0.612331872</td><td> 0.53972427</td><td> 0.51095373</td><td> 1.00000000</td><td> 0.58646807</td><td> 0.33956485</td><td> 0.092493820</td><td> 0.29408077</td></tr>\n",
       "\t<tr><th scope=row>As75</th><td>-0.242653072</td><td> 0.22436845</td><td> 0.3764842</td><td> 0.35479204</td><td> 0.33149371</td><td> 0.36279208</td><td> 0.32821946</td><td> 0.3513607</td><td>-0.02580560</td><td> 0.087434441</td><td> 0.42133567</td><td> 0.463794308</td><td> 0.45607170</td><td> 0.42089854</td><td> 0.58646807</td><td> 1.00000000</td><td> 0.32362151</td><td>-0.046642378</td><td> 0.06155310</td></tr>\n",
       "\t<tr><th scope=row>Rb85</th><td>-0.061411082</td><td> 0.21076511</td><td> 0.2589824</td><td> 0.03195432</td><td> 0.21148786</td><td> 0.28938941</td><td> 0.19655225</td><td> 0.3469793</td><td>-0.27358045</td><td> 0.094588070</td><td> 0.13584453</td><td> 0.315489856</td><td> 0.31281432</td><td> 0.17414598</td><td> 0.33956485</td><td> 0.32362151</td><td> 1.00000000</td><td>-0.115125098</td><td> 0.06657913</td></tr>\n",
       "\t<tr><th scope=row>Sr88</th><td>-0.110516336</td><td>-0.02957861</td><td>-0.1078095</td><td> 0.32398160</td><td> 0.12056891</td><td> 0.01377651</td><td> 0.30891281</td><td>-0.1448558</td><td> 0.86818512</td><td> 0.327859839</td><td> 0.12123572</td><td>-0.007759198</td><td>-0.09715024</td><td> 0.07036177</td><td> 0.09249382</td><td>-0.04664238</td><td>-0.11512510</td><td> 1.000000000</td><td> 0.22778343</td></tr>\n",
       "\t<tr><th scope=row>Mo98</th><td>-0.165708219</td><td> 0.06744739</td><td> 0.1061107</td><td> 0.10926659</td><td> 0.14421044</td><td> 0.38178729</td><td> 0.45135384</td><td> 0.1746403</td><td> 0.26263906</td><td> 0.331023414</td><td> 0.25767110</td><td> 0.235582420</td><td> 0.26654191</td><td> 0.42561406</td><td> 0.29408077</td><td> 0.06155310</td><td> 0.06657913</td><td> 0.227783434</td><td> 1.00000000</td></tr>\n",
       "</tbody>\n",
       "</table>\n"
      ],
      "text/latex": [
       "A matrix: 19 × 19 of type dbl\n",
       "\\begin{tabular}{r|lllllllllllllllllll}\n",
       "  & Spec\\_int & B11 & Na23 & Mg26 & Al27 & P31 & S34 & K39 & Ca44 & Fe54 & Mn55 & Co59 & Ni60 & Cu63 & Zn66 & As75 & Rb85 & Sr88 & Mo98\\\\\n",
       "\\hline\n",
       "\tSpec\\_int &  1.000000000 &  0.09642291 & -0.3079131 & -0.27107978 & -0.18404446 & -0.24750776 & -0.20391523 & -0.1414772 & -0.09407182 & -0.008432847 & -0.21288143 & -0.217413018 & -0.29978587 & -0.34238826 & -0.27216335 & -0.24265307 & -0.06141108 & -0.110516336 & -0.16570822\\\\\n",
       "\tB11 &  0.096422911 &  1.00000000 &  0.4309633 & -0.02956386 &  0.18411244 &  0.02309360 &  0.07098936 &  0.1769154 & -0.03489512 &  0.200651958 &  0.08907968 &  0.088873189 &  0.16107869 &  0.13858582 &  0.22374272 &  0.22436845 &  0.21076511 & -0.029578613 &  0.06744739\\\\\n",
       "\tNa23 & -0.307913129 &  0.43096333 &  1.0000000 &  0.12907723 &  0.39203376 &  0.36031883 &  0.22366375 &  0.3715863 & -0.12025489 &  0.128802037 &  0.33437873 &  0.337488857 &  0.43484446 &  0.39632920 &  0.41875078 &  0.37648421 &  0.25898240 & -0.107809537 &  0.10611074\\\\\n",
       "\tMg26 & -0.271079779 & -0.02956386 &  0.1290772 &  1.00000000 &  0.15658144 &  0.39207989 &  0.29646736 &  0.2690713 &  0.29463245 &  0.110408344 &  0.21098861 &  0.213238525 &  0.27194673 &  0.49565575 &  0.37440567 &  0.35479204 &  0.03195432 &  0.323981598 &  0.10926659\\\\\n",
       "\tAl27 & -0.184044465 &  0.18411244 &  0.3920338 &  0.15658144 &  1.00000000 &  0.29222274 &  0.23264476 &  0.2101993 &  0.02223372 &  0.109942065 &  0.25598103 &  0.253666532 &  0.27939645 &  0.29201071 &  0.31237821 &  0.33149371 &  0.21148786 &  0.120568912 &  0.14421044\\\\\n",
       "\tP31 & -0.247507756 &  0.02309360 &  0.3603188 &  0.39207989 &  0.29222274 &  1.00000000 &  0.52713514 &  0.5597728 &  0.02683198 &  0.266266201 &  0.31958279 &  0.382441656 &  0.49919557 &  0.67993136 &  0.39962167 &  0.36279208 &  0.28938941 &  0.013776513 &  0.38178729\\\\\n",
       "\tS34 & -0.203915225 &  0.07098936 &  0.2236638 &  0.29646736 &  0.23264476 &  0.52713514 &  1.00000000 &  0.2614299 &  0.36938557 &  0.454955282 &  0.56711032 &  0.489083190 &  0.34250737 &  0.45900450 &  0.47469580 &  0.32821946 &  0.19655225 &  0.308912810 &  0.45135384\\\\\n",
       "\tK39 & -0.141477213 &  0.17691543 &  0.3715863 &  0.26907135 &  0.21019925 &  0.55977279 &  0.26142993 &  1.0000000 & -0.13073687 &  0.106169355 &  0.16972404 &  0.217145970 &  0.43512304 &  0.47202609 &  0.34253646 &  0.35136071 &  0.34697929 & -0.144855793 &  0.17464026\\\\\n",
       "\tCa44 & -0.094071821 & -0.03489512 & -0.1202549 &  0.29463245 &  0.02223372 &  0.02683198 &  0.36938557 & -0.1307369 &  1.00000000 &  0.400641298 &  0.23446682 &  0.058550633 & -0.05293287 &  0.08152868 &  0.19280606 & -0.02580560 & -0.27358045 &  0.868185116 &  0.26263906\\\\\n",
       "\tFe54 & -0.008432847 &  0.20065196 &  0.1288020 &  0.11040834 &  0.10994207 &  0.26626620 &  0.45495528 &  0.1061694 &  0.40064130 &  1.000000000 &  0.34798001 &  0.339083832 &  0.22174352 &  0.24331276 &  0.32787523 &  0.08743444 &  0.09458807 &  0.327859839 &  0.33102341\\\\\n",
       "\tMn55 & -0.212881428 &  0.08907968 &  0.3343787 &  0.21098861 &  0.25598103 &  0.31958279 &  0.56711032 &  0.1697240 &  0.23446682 &  0.347980014 &  1.00000000 &  0.817270318 &  0.50653384 &  0.36861874 &  0.66050550 &  0.42133567 &  0.13584453 &  0.121235720 &  0.25767110\\\\\n",
       "\tCo59 & -0.217413018 &  0.08887319 &  0.3374889 &  0.21323853 &  0.25366653 &  0.38244166 &  0.48908319 &  0.2171460 &  0.05855063 &  0.339083832 &  0.81727032 &  1.000000000 &  0.74862238 &  0.40853067 &  0.61233187 &  0.46379431 &  0.31548986 & -0.007759198 &  0.23558242\\\\\n",
       "\tNi60 & -0.299785869 &  0.16107869 &  0.4348445 &  0.27194673 &  0.27939645 &  0.49919557 &  0.34250737 &  0.4351230 & -0.05293287 &  0.221743517 &  0.50653384 &  0.748622385 &  1.00000000 &  0.53400478 &  0.53972427 &  0.45607170 &  0.31281432 & -0.097150238 &  0.26654191\\\\\n",
       "\tCu63 & -0.342388260 &  0.13858582 &  0.3963292 &  0.49565575 &  0.29201071 &  0.67993136 &  0.45900450 &  0.4720261 &  0.08152868 &  0.243312764 &  0.36861874 &  0.408530674 &  0.53400478 &  1.00000000 &  0.51095373 &  0.42089854 &  0.17414598 &  0.070361775 &  0.42561406\\\\\n",
       "\tZn66 & -0.272163349 &  0.22374272 &  0.4187508 &  0.37440567 &  0.31237821 &  0.39962167 &  0.47469580 &  0.3425365 &  0.19280606 &  0.327875232 &  0.66050550 &  0.612331872 &  0.53972427 &  0.51095373 &  1.00000000 &  0.58646807 &  0.33956485 &  0.092493820 &  0.29408077\\\\\n",
       "\tAs75 & -0.242653072 &  0.22436845 &  0.3764842 &  0.35479204 &  0.33149371 &  0.36279208 &  0.32821946 &  0.3513607 & -0.02580560 &  0.087434441 &  0.42133567 &  0.463794308 &  0.45607170 &  0.42089854 &  0.58646807 &  1.00000000 &  0.32362151 & -0.046642378 &  0.06155310\\\\\n",
       "\tRb85 & -0.061411082 &  0.21076511 &  0.2589824 &  0.03195432 &  0.21148786 &  0.28938941 &  0.19655225 &  0.3469793 & -0.27358045 &  0.094588070 &  0.13584453 &  0.315489856 &  0.31281432 &  0.17414598 &  0.33956485 &  0.32362151 &  1.00000000 & -0.115125098 &  0.06657913\\\\\n",
       "\tSr88 & -0.110516336 & -0.02957861 & -0.1078095 &  0.32398160 &  0.12056891 &  0.01377651 &  0.30891281 & -0.1448558 &  0.86818512 &  0.327859839 &  0.12123572 & -0.007759198 & -0.09715024 &  0.07036177 &  0.09249382 & -0.04664238 & -0.11512510 &  1.000000000 &  0.22778343\\\\\n",
       "\tMo98 & -0.165708219 &  0.06744739 &  0.1061107 &  0.10926659 &  0.14421044 &  0.38178729 &  0.45135384 &  0.1746403 &  0.26263906 &  0.331023414 &  0.25767110 &  0.235582420 &  0.26654191 &  0.42561406 &  0.29408077 &  0.06155310 &  0.06657913 &  0.227783434 &  1.00000000\\\\\n",
       "\\end{tabular}\n"
      ],
      "text/markdown": [
       "\n",
       "A matrix: 19 × 19 of type dbl\n",
       "\n",
       "| <!--/--> | Spec_int | B11 | Na23 | Mg26 | Al27 | P31 | S34 | K39 | Ca44 | Fe54 | Mn55 | Co59 | Ni60 | Cu63 | Zn66 | As75 | Rb85 | Sr88 | Mo98 |\n",
       "|---|---|---|---|---|---|---|---|---|---|---|---|---|---|---|---|---|---|---|---|\n",
       "| Spec_int |  1.000000000 |  0.09642291 | -0.3079131 | -0.27107978 | -0.18404446 | -0.24750776 | -0.20391523 | -0.1414772 | -0.09407182 | -0.008432847 | -0.21288143 | -0.217413018 | -0.29978587 | -0.34238826 | -0.27216335 | -0.24265307 | -0.06141108 | -0.110516336 | -0.16570822 |\n",
       "| B11 |  0.096422911 |  1.00000000 |  0.4309633 | -0.02956386 |  0.18411244 |  0.02309360 |  0.07098936 |  0.1769154 | -0.03489512 |  0.200651958 |  0.08907968 |  0.088873189 |  0.16107869 |  0.13858582 |  0.22374272 |  0.22436845 |  0.21076511 | -0.029578613 |  0.06744739 |\n",
       "| Na23 | -0.307913129 |  0.43096333 |  1.0000000 |  0.12907723 |  0.39203376 |  0.36031883 |  0.22366375 |  0.3715863 | -0.12025489 |  0.128802037 |  0.33437873 |  0.337488857 |  0.43484446 |  0.39632920 |  0.41875078 |  0.37648421 |  0.25898240 | -0.107809537 |  0.10611074 |\n",
       "| Mg26 | -0.271079779 | -0.02956386 |  0.1290772 |  1.00000000 |  0.15658144 |  0.39207989 |  0.29646736 |  0.2690713 |  0.29463245 |  0.110408344 |  0.21098861 |  0.213238525 |  0.27194673 |  0.49565575 |  0.37440567 |  0.35479204 |  0.03195432 |  0.323981598 |  0.10926659 |\n",
       "| Al27 | -0.184044465 |  0.18411244 |  0.3920338 |  0.15658144 |  1.00000000 |  0.29222274 |  0.23264476 |  0.2101993 |  0.02223372 |  0.109942065 |  0.25598103 |  0.253666532 |  0.27939645 |  0.29201071 |  0.31237821 |  0.33149371 |  0.21148786 |  0.120568912 |  0.14421044 |\n",
       "| P31 | -0.247507756 |  0.02309360 |  0.3603188 |  0.39207989 |  0.29222274 |  1.00000000 |  0.52713514 |  0.5597728 |  0.02683198 |  0.266266201 |  0.31958279 |  0.382441656 |  0.49919557 |  0.67993136 |  0.39962167 |  0.36279208 |  0.28938941 |  0.013776513 |  0.38178729 |\n",
       "| S34 | -0.203915225 |  0.07098936 |  0.2236638 |  0.29646736 |  0.23264476 |  0.52713514 |  1.00000000 |  0.2614299 |  0.36938557 |  0.454955282 |  0.56711032 |  0.489083190 |  0.34250737 |  0.45900450 |  0.47469580 |  0.32821946 |  0.19655225 |  0.308912810 |  0.45135384 |\n",
       "| K39 | -0.141477213 |  0.17691543 |  0.3715863 |  0.26907135 |  0.21019925 |  0.55977279 |  0.26142993 |  1.0000000 | -0.13073687 |  0.106169355 |  0.16972404 |  0.217145970 |  0.43512304 |  0.47202609 |  0.34253646 |  0.35136071 |  0.34697929 | -0.144855793 |  0.17464026 |\n",
       "| Ca44 | -0.094071821 | -0.03489512 | -0.1202549 |  0.29463245 |  0.02223372 |  0.02683198 |  0.36938557 | -0.1307369 |  1.00000000 |  0.400641298 |  0.23446682 |  0.058550633 | -0.05293287 |  0.08152868 |  0.19280606 | -0.02580560 | -0.27358045 |  0.868185116 |  0.26263906 |\n",
       "| Fe54 | -0.008432847 |  0.20065196 |  0.1288020 |  0.11040834 |  0.10994207 |  0.26626620 |  0.45495528 |  0.1061694 |  0.40064130 |  1.000000000 |  0.34798001 |  0.339083832 |  0.22174352 |  0.24331276 |  0.32787523 |  0.08743444 |  0.09458807 |  0.327859839 |  0.33102341 |\n",
       "| Mn55 | -0.212881428 |  0.08907968 |  0.3343787 |  0.21098861 |  0.25598103 |  0.31958279 |  0.56711032 |  0.1697240 |  0.23446682 |  0.347980014 |  1.00000000 |  0.817270318 |  0.50653384 |  0.36861874 |  0.66050550 |  0.42133567 |  0.13584453 |  0.121235720 |  0.25767110 |\n",
       "| Co59 | -0.217413018 |  0.08887319 |  0.3374889 |  0.21323853 |  0.25366653 |  0.38244166 |  0.48908319 |  0.2171460 |  0.05855063 |  0.339083832 |  0.81727032 |  1.000000000 |  0.74862238 |  0.40853067 |  0.61233187 |  0.46379431 |  0.31548986 | -0.007759198 |  0.23558242 |\n",
       "| Ni60 | -0.299785869 |  0.16107869 |  0.4348445 |  0.27194673 |  0.27939645 |  0.49919557 |  0.34250737 |  0.4351230 | -0.05293287 |  0.221743517 |  0.50653384 |  0.748622385 |  1.00000000 |  0.53400478 |  0.53972427 |  0.45607170 |  0.31281432 | -0.097150238 |  0.26654191 |\n",
       "| Cu63 | -0.342388260 |  0.13858582 |  0.3963292 |  0.49565575 |  0.29201071 |  0.67993136 |  0.45900450 |  0.4720261 |  0.08152868 |  0.243312764 |  0.36861874 |  0.408530674 |  0.53400478 |  1.00000000 |  0.51095373 |  0.42089854 |  0.17414598 |  0.070361775 |  0.42561406 |\n",
       "| Zn66 | -0.272163349 |  0.22374272 |  0.4187508 |  0.37440567 |  0.31237821 |  0.39962167 |  0.47469580 |  0.3425365 |  0.19280606 |  0.327875232 |  0.66050550 |  0.612331872 |  0.53972427 |  0.51095373 |  1.00000000 |  0.58646807 |  0.33956485 |  0.092493820 |  0.29408077 |\n",
       "| As75 | -0.242653072 |  0.22436845 |  0.3764842 |  0.35479204 |  0.33149371 |  0.36279208 |  0.32821946 |  0.3513607 | -0.02580560 |  0.087434441 |  0.42133567 |  0.463794308 |  0.45607170 |  0.42089854 |  0.58646807 |  1.00000000 |  0.32362151 | -0.046642378 |  0.06155310 |\n",
       "| Rb85 | -0.061411082 |  0.21076511 |  0.2589824 |  0.03195432 |  0.21148786 |  0.28938941 |  0.19655225 |  0.3469793 | -0.27358045 |  0.094588070 |  0.13584453 |  0.315489856 |  0.31281432 |  0.17414598 |  0.33956485 |  0.32362151 |  1.00000000 | -0.115125098 |  0.06657913 |\n",
       "| Sr88 | -0.110516336 | -0.02957861 | -0.1078095 |  0.32398160 |  0.12056891 |  0.01377651 |  0.30891281 | -0.1448558 |  0.86818512 |  0.327859839 |  0.12123572 | -0.007759198 | -0.09715024 |  0.07036177 |  0.09249382 | -0.04664238 | -0.11512510 |  1.000000000 |  0.22778343 |\n",
       "| Mo98 | -0.165708219 |  0.06744739 |  0.1061107 |  0.10926659 |  0.14421044 |  0.38178729 |  0.45135384 |  0.1746403 |  0.26263906 |  0.331023414 |  0.25767110 |  0.235582420 |  0.26654191 |  0.42561406 |  0.29408077 |  0.06155310 |  0.06657913 |  0.227783434 |  1.00000000 |\n",
       "\n"
      ],
      "text/plain": [
       "         Spec_int     B11         Na23       Mg26        Al27       \n",
       "Spec_int  1.000000000  0.09642291 -0.3079131 -0.27107978 -0.18404446\n",
       "B11       0.096422911  1.00000000  0.4309633 -0.02956386  0.18411244\n",
       "Na23     -0.307913129  0.43096333  1.0000000  0.12907723  0.39203376\n",
       "Mg26     -0.271079779 -0.02956386  0.1290772  1.00000000  0.15658144\n",
       "Al27     -0.184044465  0.18411244  0.3920338  0.15658144  1.00000000\n",
       "P31      -0.247507756  0.02309360  0.3603188  0.39207989  0.29222274\n",
       "S34      -0.203915225  0.07098936  0.2236638  0.29646736  0.23264476\n",
       "K39      -0.141477213  0.17691543  0.3715863  0.26907135  0.21019925\n",
       "Ca44     -0.094071821 -0.03489512 -0.1202549  0.29463245  0.02223372\n",
       "Fe54     -0.008432847  0.20065196  0.1288020  0.11040834  0.10994207\n",
       "Mn55     -0.212881428  0.08907968  0.3343787  0.21098861  0.25598103\n",
       "Co59     -0.217413018  0.08887319  0.3374889  0.21323853  0.25366653\n",
       "Ni60     -0.299785869  0.16107869  0.4348445  0.27194673  0.27939645\n",
       "Cu63     -0.342388260  0.13858582  0.3963292  0.49565575  0.29201071\n",
       "Zn66     -0.272163349  0.22374272  0.4187508  0.37440567  0.31237821\n",
       "As75     -0.242653072  0.22436845  0.3764842  0.35479204  0.33149371\n",
       "Rb85     -0.061411082  0.21076511  0.2589824  0.03195432  0.21148786\n",
       "Sr88     -0.110516336 -0.02957861 -0.1078095  0.32398160  0.12056891\n",
       "Mo98     -0.165708219  0.06744739  0.1061107  0.10926659  0.14421044\n",
       "         P31         S34         K39        Ca44        Fe54        \n",
       "Spec_int -0.24750776 -0.20391523 -0.1414772 -0.09407182 -0.008432847\n",
       "B11       0.02309360  0.07098936  0.1769154 -0.03489512  0.200651958\n",
       "Na23      0.36031883  0.22366375  0.3715863 -0.12025489  0.128802037\n",
       "Mg26      0.39207989  0.29646736  0.2690713  0.29463245  0.110408344\n",
       "Al27      0.29222274  0.23264476  0.2101993  0.02223372  0.109942065\n",
       "P31       1.00000000  0.52713514  0.5597728  0.02683198  0.266266201\n",
       "S34       0.52713514  1.00000000  0.2614299  0.36938557  0.454955282\n",
       "K39       0.55977279  0.26142993  1.0000000 -0.13073687  0.106169355\n",
       "Ca44      0.02683198  0.36938557 -0.1307369  1.00000000  0.400641298\n",
       "Fe54      0.26626620  0.45495528  0.1061694  0.40064130  1.000000000\n",
       "Mn55      0.31958279  0.56711032  0.1697240  0.23446682  0.347980014\n",
       "Co59      0.38244166  0.48908319  0.2171460  0.05855063  0.339083832\n",
       "Ni60      0.49919557  0.34250737  0.4351230 -0.05293287  0.221743517\n",
       "Cu63      0.67993136  0.45900450  0.4720261  0.08152868  0.243312764\n",
       "Zn66      0.39962167  0.47469580  0.3425365  0.19280606  0.327875232\n",
       "As75      0.36279208  0.32821946  0.3513607 -0.02580560  0.087434441\n",
       "Rb85      0.28938941  0.19655225  0.3469793 -0.27358045  0.094588070\n",
       "Sr88      0.01377651  0.30891281 -0.1448558  0.86818512  0.327859839\n",
       "Mo98      0.38178729  0.45135384  0.1746403  0.26263906  0.331023414\n",
       "         Mn55        Co59         Ni60        Cu63        Zn66       \n",
       "Spec_int -0.21288143 -0.217413018 -0.29978587 -0.34238826 -0.27216335\n",
       "B11       0.08907968  0.088873189  0.16107869  0.13858582  0.22374272\n",
       "Na23      0.33437873  0.337488857  0.43484446  0.39632920  0.41875078\n",
       "Mg26      0.21098861  0.213238525  0.27194673  0.49565575  0.37440567\n",
       "Al27      0.25598103  0.253666532  0.27939645  0.29201071  0.31237821\n",
       "P31       0.31958279  0.382441656  0.49919557  0.67993136  0.39962167\n",
       "S34       0.56711032  0.489083190  0.34250737  0.45900450  0.47469580\n",
       "K39       0.16972404  0.217145970  0.43512304  0.47202609  0.34253646\n",
       "Ca44      0.23446682  0.058550633 -0.05293287  0.08152868  0.19280606\n",
       "Fe54      0.34798001  0.339083832  0.22174352  0.24331276  0.32787523\n",
       "Mn55      1.00000000  0.817270318  0.50653384  0.36861874  0.66050550\n",
       "Co59      0.81727032  1.000000000  0.74862238  0.40853067  0.61233187\n",
       "Ni60      0.50653384  0.748622385  1.00000000  0.53400478  0.53972427\n",
       "Cu63      0.36861874  0.408530674  0.53400478  1.00000000  0.51095373\n",
       "Zn66      0.66050550  0.612331872  0.53972427  0.51095373  1.00000000\n",
       "As75      0.42133567  0.463794308  0.45607170  0.42089854  0.58646807\n",
       "Rb85      0.13584453  0.315489856  0.31281432  0.17414598  0.33956485\n",
       "Sr88      0.12123572 -0.007759198 -0.09715024  0.07036177  0.09249382\n",
       "Mo98      0.25767110  0.235582420  0.26654191  0.42561406  0.29408077\n",
       "         As75        Rb85        Sr88         Mo98       \n",
       "Spec_int -0.24265307 -0.06141108 -0.110516336 -0.16570822\n",
       "B11       0.22436845  0.21076511 -0.029578613  0.06744739\n",
       "Na23      0.37648421  0.25898240 -0.107809537  0.10611074\n",
       "Mg26      0.35479204  0.03195432  0.323981598  0.10926659\n",
       "Al27      0.33149371  0.21148786  0.120568912  0.14421044\n",
       "P31       0.36279208  0.28938941  0.013776513  0.38178729\n",
       "S34       0.32821946  0.19655225  0.308912810  0.45135384\n",
       "K39       0.35136071  0.34697929 -0.144855793  0.17464026\n",
       "Ca44     -0.02580560 -0.27358045  0.868185116  0.26263906\n",
       "Fe54      0.08743444  0.09458807  0.327859839  0.33102341\n",
       "Mn55      0.42133567  0.13584453  0.121235720  0.25767110\n",
       "Co59      0.46379431  0.31548986 -0.007759198  0.23558242\n",
       "Ni60      0.45607170  0.31281432 -0.097150238  0.26654191\n",
       "Cu63      0.42089854  0.17414598  0.070361775  0.42561406\n",
       "Zn66      0.58646807  0.33956485  0.092493820  0.29408077\n",
       "As75      1.00000000  0.32362151 -0.046642378  0.06155310\n",
       "Rb85      0.32362151  1.00000000 -0.115125098  0.06657913\n",
       "Sr88     -0.04664238 -0.11512510  1.000000000  0.22778343\n",
       "Mo98      0.06155310  0.06657913  0.227783434  1.00000000"
      ]
     },
     "metadata": {},
     "output_type": "display_data"
    }
   ],
   "source": [
    "cor(ionomics$completeObs)"
   ]
  },
  {
   "cell_type": "code",
   "execution_count": 10,
   "metadata": {},
   "outputs": [
    {
     "data": {
      "text/html": [
       "<table>\n",
       "<caption>A matrix: 19 × 19 of type dbl</caption>\n",
       "<thead>\n",
       "\t<tr><th></th><th scope=col>Spec_int</th><th scope=col>B11</th><th scope=col>Na23</th><th scope=col>Mg26</th><th scope=col>Al27</th><th scope=col>P31</th><th scope=col>S34</th><th scope=col>K39</th><th scope=col>Ca44</th><th scope=col>Fe54</th><th scope=col>Mn55</th><th scope=col>Co59</th><th scope=col>Ni60</th><th scope=col>Cu63</th><th scope=col>Zn66</th><th scope=col>As75</th><th scope=col>Rb85</th><th scope=col>Sr88</th><th scope=col>Mo98</th></tr>\n",
       "</thead>\n",
       "<tbody>\n",
       "\t<tr><th scope=row>Spec_int</th><td> 3.399104478</td><td> 0.0835849560</td><td>-0.547497449</td><td>-0.499780586</td><td>-0.0146024022</td><td>-0.419195973</td><td>-0.0059174537</td><td>-0.260836733</td><td>-0.1734370226</td><td>-0.007373337</td><td>-0.39248225</td><td>-0.400836994</td><td>-0.342334172</td><td>-0.623765357</td><td>-0.472352982</td><td>-0.0222259337</td><td>-0.113221528</td><td>-0.203755214</td><td>-0.305510616</td></tr>\n",
       "\t<tr><th scope=row>B11</th><td> 0.083584956</td><td> 0.2210707310</td><td> 0.195423858</td><td>-0.013900385</td><td> 0.0037253583</td><td> 0.009974780</td><td> 0.0005253659</td><td> 0.083182378</td><td>-0.0164070454</td><td> 0.044742124</td><td> 0.04188362</td><td> 0.041786537</td><td> 0.046909473</td><td> 0.064387944</td><td> 0.099030575</td><td> 0.0052410629</td><td> 0.099097876</td><td>-0.013907319</td><td> 0.031712519</td></tr>\n",
       "\t<tr><th scope=row>Na23</th><td>-0.547497449</td><td> 0.1954238581</td><td> 0.930129187</td><td> 0.124486220</td><td> 0.0162710056</td><td> 0.319230686</td><td> 0.0033952378</td><td> 0.358369744</td><td>-0.1159776757</td><td> 0.058911752</td><td> 0.32248556</td><td> 0.325485067</td><td> 0.259754101</td><td> 0.377700741</td><td> 0.380173662</td><td> 0.0180389129</td><td> 0.249770930</td><td>-0.103974973</td><td> 0.102336597</td></tr>\n",
       "\t<tr><th scope=row>Mg26</th><td>-0.499780586</td><td>-0.0139003845</td><td> 0.124486220</td><td> 1.000000009</td><td> 0.0067384430</td><td> 0.360180839</td><td> 0.0046663773</td><td> 0.269071346</td><td> 0.2946324497</td><td> 0.052361185</td><td> 0.21098861</td><td> 0.213238523</td><td> 0.168438235</td><td> 0.489779138</td><td> 0.352449735</td><td> 0.0176264899</td><td> 0.031954320</td><td> 0.323981598</td><td> 0.109266587</td></tr>\n",
       "\t<tr><th scope=row>Al27</th><td>-0.014602402</td><td> 0.0037253583</td><td> 0.016271006</td><td> 0.006738443</td><td> 0.0018519897</td><td> 0.011552589</td><td> 0.0001575852</td><td> 0.009045872</td><td> 0.0009568226</td><td> 0.002243834</td><td> 0.01101608</td><td> 0.010916476</td><td> 0.007447268</td><td> 0.012417615</td><td> 0.012654785</td><td> 0.0007087394</td><td> 0.009101328</td><td> 0.005188653</td><td> 0.006206060</td></tr>\n",
       "\t<tr><th scope=row>P31</th><td>-0.419195973</td><td> 0.0099747801</td><td> 0.319230686</td><td> 0.360180839</td><td> 0.0115525890</td><td> 0.843902092</td><td> 0.0076220353</td><td> 0.514230479</td><td> 0.0246489704</td><td> 0.116003113</td><td> 0.29358199</td><td> 0.351326748</td><td> 0.284036131</td><td> 0.617207552</td><td> 0.345580975</td><td> 0.0165575392</td><td> 0.265845108</td><td> 0.012655676</td><td> 0.350725627</td></tr>\n",
       "\t<tr><th scope=row>S34</th><td>-0.005917454</td><td> 0.0005253659</td><td> 0.003395238</td><td> 0.004666377</td><td> 0.0001575852</td><td> 0.007622035</td><td> 0.0002477456</td><td> 0.004114890</td><td> 0.0058141051</td><td> 0.003396090</td><td> 0.00892628</td><td> 0.007698138</td><td> 0.003339102</td><td> 0.007139043</td><td> 0.007033526</td><td> 0.0002566606</td><td> 0.003093720</td><td> 0.004862268</td><td> 0.007104280</td></tr>\n",
       "\t<tr><th scope=row>K39</th><td>-0.260836733</td><td> 0.0831823780</td><td> 0.358369744</td><td> 0.269071346</td><td> 0.0090458723</td><td> 0.514230479</td><td> 0.0041148903</td><td> 0.999999991</td><td>-0.1307368736</td><td> 0.050350843</td><td> 0.16972403</td><td> 0.217145966</td><td> 0.269506294</td><td> 0.466429632</td><td> 0.322449398</td><td> 0.0174560172</td><td> 0.346979294</td><td>-0.144855791</td><td> 0.174640257</td></tr>\n",
       "\t<tr><th scope=row>Ca44</th><td>-0.173437023</td><td>-0.0164070454</td><td>-0.115977676</td><td> 0.294632450</td><td> 0.0009568226</td><td> 0.024648970</td><td> 0.0058141051</td><td>-0.130736874</td><td> 1.0000000070</td><td> 0.190004238</td><td> 0.23446682</td><td> 0.058550632</td><td>-0.032785538</td><td> 0.080562057</td><td> 0.181499508</td><td>-0.0012820526</td><td>-0.273580449</td><td> 0.868185115</td><td> 0.262639057</td></tr>\n",
       "\t<tr><th scope=row>Fe54</th><td>-0.007373337</td><td> 0.0447421239</td><td> 0.058911752</td><td> 0.052361185</td><td> 0.0022438341</td><td> 0.116003113</td><td> 0.0033960904</td><td> 0.050350843</td><td> 0.1900042375</td><td> 0.224913302</td><td> 0.16502961</td><td> 0.160810591</td><td> 0.065135138</td><td> 0.114023034</td><td> 0.146376362</td><td> 0.0020600704</td><td> 0.044858417</td><td> 0.155487611</td><td> 0.156987938</td></tr>\n",
       "\t<tr><th scope=row>Mn55</th><td>-0.392482255</td><td> 0.0418836238</td><td> 0.322485560</td><td> 0.210988607</td><td> 0.0110160797</td><td> 0.293581993</td><td> 0.0089262800</td><td> 0.169724034</td><td> 0.2344668210</td><td> 0.165029608</td><td> 0.99999998</td><td> 0.817270298</td><td> 0.313736681</td><td> 0.364248297</td><td> 0.621772056</td><td> 0.0209324558</td><td> 0.135844528</td><td> 0.121235718</td><td> 0.257671096</td></tr>\n",
       "\t<tr><th scope=row>Co59</th><td>-0.400836994</td><td> 0.0417865372</td><td> 0.325485067</td><td> 0.213238523</td><td> 0.0109164757</td><td> 0.351326748</td><td> 0.0076981379</td><td> 0.217145966</td><td> 0.0585506320</td><td> 0.160810591</td><td> 0.81727030</td><td> 0.999999973</td><td> 0.463681364</td><td> 0.403687027</td><td> 0.576423429</td><td> 0.0230418514</td><td> 0.315489855</td><td>-0.007759198</td><td> 0.235582417</td></tr>\n",
       "\t<tr><th scope=row>Ni60</th><td>-0.342334172</td><td> 0.0469094730</td><td> 0.259754101</td><td> 0.168438235</td><td> 0.0074472684</td><td> 0.284036131</td><td> 0.0033391022</td><td> 0.269506294</td><td>-0.0327855380</td><td> 0.065135138</td><td> 0.31373668</td><td> 0.463681364</td><td> 0.383630985</td><td> 0.326830146</td><td> 0.314690441</td><td> 0.0140340146</td><td> 0.193750783</td><td>-0.060172867</td><td> 0.165090602</td></tr>\n",
       "\t<tr><th scope=row>Cu63</th><td>-0.623765357</td><td> 0.0643879435</td><td> 0.377700741</td><td> 0.489779138</td><td> 0.0124176151</td><td> 0.617207552</td><td> 0.0071390434</td><td> 0.466429632</td><td> 0.0805620566</td><td> 0.114023034</td><td> 0.36424830</td><td> 0.403687027</td><td> 0.326830146</td><td> 0.976428074</td><td> 0.475287580</td><td> 0.0206628161</td><td> 0.172081260</td><td> 0.069527548</td><td> 0.420567873</td></tr>\n",
       "\t<tr><th scope=row>Zn66</th><td>-0.472352982</td><td> 0.0990305752</td><td> 0.380173662</td><td> 0.352449735</td><td> 0.0126547855</td><td> 0.345580975</td><td> 0.0070335262</td><td> 0.322449398</td><td> 0.1814995077</td><td> 0.146376362</td><td> 0.62177206</td><td> 0.576423429</td><td> 0.314690441</td><td> 0.475287580</td><td> 0.886154671</td><td> 0.0274278080</td><td> 0.319652055</td><td> 0.087069787</td><td> 0.276835257</td></tr>\n",
       "\t<tr><th scope=row>As75</th><td>-0.022225934</td><td> 0.0052410629</td><td> 0.018038913</td><td> 0.017626490</td><td> 0.0007087394</td><td> 0.016557539</td><td> 0.0002566606</td><td> 0.017456017</td><td>-0.0012820526</td><td> 0.002060070</td><td> 0.02093246</td><td> 0.023041851</td><td> 0.014034015</td><td> 0.020662816</td><td> 0.027427808</td><td> 0.0024682203</td><td> 0.016077901</td><td>-0.002317249</td><td> 0.003058031</td></tr>\n",
       "\t<tr><th scope=row>Rb85</th><td>-0.113221528</td><td> 0.0990978765</td><td> 0.249770930</td><td> 0.031954320</td><td> 0.0091013275</td><td> 0.265845108</td><td> 0.0030937198</td><td> 0.346979294</td><td>-0.2735804492</td><td> 0.044858417</td><td> 0.13584453</td><td> 0.315489855</td><td> 0.193750783</td><td> 0.172081260</td><td> 0.319652055</td><td> 0.0160779009</td><td> 1.000000022</td><td>-0.115125098</td><td> 0.066579129</td></tr>\n",
       "\t<tr><th scope=row>Sr88</th><td>-0.203755214</td><td>-0.0139073192</td><td>-0.103974973</td><td> 0.323981598</td><td> 0.0051886530</td><td> 0.012655676</td><td> 0.0048622678</td><td>-0.144855791</td><td> 0.8681851151</td><td> 0.155487611</td><td> 0.12123572</td><td>-0.007759198</td><td>-0.060172867</td><td> 0.069527548</td><td> 0.087069787</td><td>-0.0023172487</td><td>-0.115125098</td><td> 0.999999991</td><td> 0.227783433</td></tr>\n",
       "\t<tr><th scope=row>Mo98</th><td>-0.305510616</td><td> 0.0317125191</td><td> 0.102336597</td><td> 0.109266587</td><td> 0.0062060601</td><td> 0.350725627</td><td> 0.0071042804</td><td> 0.174640257</td><td> 0.2626390566</td><td> 0.156987938</td><td> 0.25767110</td><td> 0.235582417</td><td> 0.165090602</td><td> 0.420567873</td><td> 0.276835257</td><td> 0.0030580311</td><td> 0.066579129</td><td> 0.227783433</td><td> 1.000000005</td></tr>\n",
       "</tbody>\n",
       "</table>\n"
      ],
      "text/latex": [
       "A matrix: 19 × 19 of type dbl\n",
       "\\begin{tabular}{r|lllllllllllllllllll}\n",
       "  & Spec\\_int & B11 & Na23 & Mg26 & Al27 & P31 & S34 & K39 & Ca44 & Fe54 & Mn55 & Co59 & Ni60 & Cu63 & Zn66 & As75 & Rb85 & Sr88 & Mo98\\\\\n",
       "\\hline\n",
       "\tSpec\\_int &  3.399104478 &  0.0835849560 & -0.547497449 & -0.499780586 & -0.0146024022 & -0.419195973 & -0.0059174537 & -0.260836733 & -0.1734370226 & -0.007373337 & -0.39248225 & -0.400836994 & -0.342334172 & -0.623765357 & -0.472352982 & -0.0222259337 & -0.113221528 & -0.203755214 & -0.305510616\\\\\n",
       "\tB11 &  0.083584956 &  0.2210707310 &  0.195423858 & -0.013900385 &  0.0037253583 &  0.009974780 &  0.0005253659 &  0.083182378 & -0.0164070454 &  0.044742124 &  0.04188362 &  0.041786537 &  0.046909473 &  0.064387944 &  0.099030575 &  0.0052410629 &  0.099097876 & -0.013907319 &  0.031712519\\\\\n",
       "\tNa23 & -0.547497449 &  0.1954238581 &  0.930129187 &  0.124486220 &  0.0162710056 &  0.319230686 &  0.0033952378 &  0.358369744 & -0.1159776757 &  0.058911752 &  0.32248556 &  0.325485067 &  0.259754101 &  0.377700741 &  0.380173662 &  0.0180389129 &  0.249770930 & -0.103974973 &  0.102336597\\\\\n",
       "\tMg26 & -0.499780586 & -0.0139003845 &  0.124486220 &  1.000000009 &  0.0067384430 &  0.360180839 &  0.0046663773 &  0.269071346 &  0.2946324497 &  0.052361185 &  0.21098861 &  0.213238523 &  0.168438235 &  0.489779138 &  0.352449735 &  0.0176264899 &  0.031954320 &  0.323981598 &  0.109266587\\\\\n",
       "\tAl27 & -0.014602402 &  0.0037253583 &  0.016271006 &  0.006738443 &  0.0018519897 &  0.011552589 &  0.0001575852 &  0.009045872 &  0.0009568226 &  0.002243834 &  0.01101608 &  0.010916476 &  0.007447268 &  0.012417615 &  0.012654785 &  0.0007087394 &  0.009101328 &  0.005188653 &  0.006206060\\\\\n",
       "\tP31 & -0.419195973 &  0.0099747801 &  0.319230686 &  0.360180839 &  0.0115525890 &  0.843902092 &  0.0076220353 &  0.514230479 &  0.0246489704 &  0.116003113 &  0.29358199 &  0.351326748 &  0.284036131 &  0.617207552 &  0.345580975 &  0.0165575392 &  0.265845108 &  0.012655676 &  0.350725627\\\\\n",
       "\tS34 & -0.005917454 &  0.0005253659 &  0.003395238 &  0.004666377 &  0.0001575852 &  0.007622035 &  0.0002477456 &  0.004114890 &  0.0058141051 &  0.003396090 &  0.00892628 &  0.007698138 &  0.003339102 &  0.007139043 &  0.007033526 &  0.0002566606 &  0.003093720 &  0.004862268 &  0.007104280\\\\\n",
       "\tK39 & -0.260836733 &  0.0831823780 &  0.358369744 &  0.269071346 &  0.0090458723 &  0.514230479 &  0.0041148903 &  0.999999991 & -0.1307368736 &  0.050350843 &  0.16972403 &  0.217145966 &  0.269506294 &  0.466429632 &  0.322449398 &  0.0174560172 &  0.346979294 & -0.144855791 &  0.174640257\\\\\n",
       "\tCa44 & -0.173437023 & -0.0164070454 & -0.115977676 &  0.294632450 &  0.0009568226 &  0.024648970 &  0.0058141051 & -0.130736874 &  1.0000000070 &  0.190004238 &  0.23446682 &  0.058550632 & -0.032785538 &  0.080562057 &  0.181499508 & -0.0012820526 & -0.273580449 &  0.868185115 &  0.262639057\\\\\n",
       "\tFe54 & -0.007373337 &  0.0447421239 &  0.058911752 &  0.052361185 &  0.0022438341 &  0.116003113 &  0.0033960904 &  0.050350843 &  0.1900042375 &  0.224913302 &  0.16502961 &  0.160810591 &  0.065135138 &  0.114023034 &  0.146376362 &  0.0020600704 &  0.044858417 &  0.155487611 &  0.156987938\\\\\n",
       "\tMn55 & -0.392482255 &  0.0418836238 &  0.322485560 &  0.210988607 &  0.0110160797 &  0.293581993 &  0.0089262800 &  0.169724034 &  0.2344668210 &  0.165029608 &  0.99999998 &  0.817270298 &  0.313736681 &  0.364248297 &  0.621772056 &  0.0209324558 &  0.135844528 &  0.121235718 &  0.257671096\\\\\n",
       "\tCo59 & -0.400836994 &  0.0417865372 &  0.325485067 &  0.213238523 &  0.0109164757 &  0.351326748 &  0.0076981379 &  0.217145966 &  0.0585506320 &  0.160810591 &  0.81727030 &  0.999999973 &  0.463681364 &  0.403687027 &  0.576423429 &  0.0230418514 &  0.315489855 & -0.007759198 &  0.235582417\\\\\n",
       "\tNi60 & -0.342334172 &  0.0469094730 &  0.259754101 &  0.168438235 &  0.0074472684 &  0.284036131 &  0.0033391022 &  0.269506294 & -0.0327855380 &  0.065135138 &  0.31373668 &  0.463681364 &  0.383630985 &  0.326830146 &  0.314690441 &  0.0140340146 &  0.193750783 & -0.060172867 &  0.165090602\\\\\n",
       "\tCu63 & -0.623765357 &  0.0643879435 &  0.377700741 &  0.489779138 &  0.0124176151 &  0.617207552 &  0.0071390434 &  0.466429632 &  0.0805620566 &  0.114023034 &  0.36424830 &  0.403687027 &  0.326830146 &  0.976428074 &  0.475287580 &  0.0206628161 &  0.172081260 &  0.069527548 &  0.420567873\\\\\n",
       "\tZn66 & -0.472352982 &  0.0990305752 &  0.380173662 &  0.352449735 &  0.0126547855 &  0.345580975 &  0.0070335262 &  0.322449398 &  0.1814995077 &  0.146376362 &  0.62177206 &  0.576423429 &  0.314690441 &  0.475287580 &  0.886154671 &  0.0274278080 &  0.319652055 &  0.087069787 &  0.276835257\\\\\n",
       "\tAs75 & -0.022225934 &  0.0052410629 &  0.018038913 &  0.017626490 &  0.0007087394 &  0.016557539 &  0.0002566606 &  0.017456017 & -0.0012820526 &  0.002060070 &  0.02093246 &  0.023041851 &  0.014034015 &  0.020662816 &  0.027427808 &  0.0024682203 &  0.016077901 & -0.002317249 &  0.003058031\\\\\n",
       "\tRb85 & -0.113221528 &  0.0990978765 &  0.249770930 &  0.031954320 &  0.0091013275 &  0.265845108 &  0.0030937198 &  0.346979294 & -0.2735804492 &  0.044858417 &  0.13584453 &  0.315489855 &  0.193750783 &  0.172081260 &  0.319652055 &  0.0160779009 &  1.000000022 & -0.115125098 &  0.066579129\\\\\n",
       "\tSr88 & -0.203755214 & -0.0139073192 & -0.103974973 &  0.323981598 &  0.0051886530 &  0.012655676 &  0.0048622678 & -0.144855791 &  0.8681851151 &  0.155487611 &  0.12123572 & -0.007759198 & -0.060172867 &  0.069527548 &  0.087069787 & -0.0023172487 & -0.115125098 &  0.999999991 &  0.227783433\\\\\n",
       "\tMo98 & -0.305510616 &  0.0317125191 &  0.102336597 &  0.109266587 &  0.0062060601 &  0.350725627 &  0.0071042804 &  0.174640257 &  0.2626390566 &  0.156987938 &  0.25767110 &  0.235582417 &  0.165090602 &  0.420567873 &  0.276835257 &  0.0030580311 &  0.066579129 &  0.227783433 &  1.000000005\\\\\n",
       "\\end{tabular}\n"
      ],
      "text/markdown": [
       "\n",
       "A matrix: 19 × 19 of type dbl\n",
       "\n",
       "| <!--/--> | Spec_int | B11 | Na23 | Mg26 | Al27 | P31 | S34 | K39 | Ca44 | Fe54 | Mn55 | Co59 | Ni60 | Cu63 | Zn66 | As75 | Rb85 | Sr88 | Mo98 |\n",
       "|---|---|---|---|---|---|---|---|---|---|---|---|---|---|---|---|---|---|---|---|\n",
       "| Spec_int |  3.399104478 |  0.0835849560 | -0.547497449 | -0.499780586 | -0.0146024022 | -0.419195973 | -0.0059174537 | -0.260836733 | -0.1734370226 | -0.007373337 | -0.39248225 | -0.400836994 | -0.342334172 | -0.623765357 | -0.472352982 | -0.0222259337 | -0.113221528 | -0.203755214 | -0.305510616 |\n",
       "| B11 |  0.083584956 |  0.2210707310 |  0.195423858 | -0.013900385 |  0.0037253583 |  0.009974780 |  0.0005253659 |  0.083182378 | -0.0164070454 |  0.044742124 |  0.04188362 |  0.041786537 |  0.046909473 |  0.064387944 |  0.099030575 |  0.0052410629 |  0.099097876 | -0.013907319 |  0.031712519 |\n",
       "| Na23 | -0.547497449 |  0.1954238581 |  0.930129187 |  0.124486220 |  0.0162710056 |  0.319230686 |  0.0033952378 |  0.358369744 | -0.1159776757 |  0.058911752 |  0.32248556 |  0.325485067 |  0.259754101 |  0.377700741 |  0.380173662 |  0.0180389129 |  0.249770930 | -0.103974973 |  0.102336597 |\n",
       "| Mg26 | -0.499780586 | -0.0139003845 |  0.124486220 |  1.000000009 |  0.0067384430 |  0.360180839 |  0.0046663773 |  0.269071346 |  0.2946324497 |  0.052361185 |  0.21098861 |  0.213238523 |  0.168438235 |  0.489779138 |  0.352449735 |  0.0176264899 |  0.031954320 |  0.323981598 |  0.109266587 |\n",
       "| Al27 | -0.014602402 |  0.0037253583 |  0.016271006 |  0.006738443 |  0.0018519897 |  0.011552589 |  0.0001575852 |  0.009045872 |  0.0009568226 |  0.002243834 |  0.01101608 |  0.010916476 |  0.007447268 |  0.012417615 |  0.012654785 |  0.0007087394 |  0.009101328 |  0.005188653 |  0.006206060 |\n",
       "| P31 | -0.419195973 |  0.0099747801 |  0.319230686 |  0.360180839 |  0.0115525890 |  0.843902092 |  0.0076220353 |  0.514230479 |  0.0246489704 |  0.116003113 |  0.29358199 |  0.351326748 |  0.284036131 |  0.617207552 |  0.345580975 |  0.0165575392 |  0.265845108 |  0.012655676 |  0.350725627 |\n",
       "| S34 | -0.005917454 |  0.0005253659 |  0.003395238 |  0.004666377 |  0.0001575852 |  0.007622035 |  0.0002477456 |  0.004114890 |  0.0058141051 |  0.003396090 |  0.00892628 |  0.007698138 |  0.003339102 |  0.007139043 |  0.007033526 |  0.0002566606 |  0.003093720 |  0.004862268 |  0.007104280 |\n",
       "| K39 | -0.260836733 |  0.0831823780 |  0.358369744 |  0.269071346 |  0.0090458723 |  0.514230479 |  0.0041148903 |  0.999999991 | -0.1307368736 |  0.050350843 |  0.16972403 |  0.217145966 |  0.269506294 |  0.466429632 |  0.322449398 |  0.0174560172 |  0.346979294 | -0.144855791 |  0.174640257 |\n",
       "| Ca44 | -0.173437023 | -0.0164070454 | -0.115977676 |  0.294632450 |  0.0009568226 |  0.024648970 |  0.0058141051 | -0.130736874 |  1.0000000070 |  0.190004238 |  0.23446682 |  0.058550632 | -0.032785538 |  0.080562057 |  0.181499508 | -0.0012820526 | -0.273580449 |  0.868185115 |  0.262639057 |\n",
       "| Fe54 | -0.007373337 |  0.0447421239 |  0.058911752 |  0.052361185 |  0.0022438341 |  0.116003113 |  0.0033960904 |  0.050350843 |  0.1900042375 |  0.224913302 |  0.16502961 |  0.160810591 |  0.065135138 |  0.114023034 |  0.146376362 |  0.0020600704 |  0.044858417 |  0.155487611 |  0.156987938 |\n",
       "| Mn55 | -0.392482255 |  0.0418836238 |  0.322485560 |  0.210988607 |  0.0110160797 |  0.293581993 |  0.0089262800 |  0.169724034 |  0.2344668210 |  0.165029608 |  0.99999998 |  0.817270298 |  0.313736681 |  0.364248297 |  0.621772056 |  0.0209324558 |  0.135844528 |  0.121235718 |  0.257671096 |\n",
       "| Co59 | -0.400836994 |  0.0417865372 |  0.325485067 |  0.213238523 |  0.0109164757 |  0.351326748 |  0.0076981379 |  0.217145966 |  0.0585506320 |  0.160810591 |  0.81727030 |  0.999999973 |  0.463681364 |  0.403687027 |  0.576423429 |  0.0230418514 |  0.315489855 | -0.007759198 |  0.235582417 |\n",
       "| Ni60 | -0.342334172 |  0.0469094730 |  0.259754101 |  0.168438235 |  0.0074472684 |  0.284036131 |  0.0033391022 |  0.269506294 | -0.0327855380 |  0.065135138 |  0.31373668 |  0.463681364 |  0.383630985 |  0.326830146 |  0.314690441 |  0.0140340146 |  0.193750783 | -0.060172867 |  0.165090602 |\n",
       "| Cu63 | -0.623765357 |  0.0643879435 |  0.377700741 |  0.489779138 |  0.0124176151 |  0.617207552 |  0.0071390434 |  0.466429632 |  0.0805620566 |  0.114023034 |  0.36424830 |  0.403687027 |  0.326830146 |  0.976428074 |  0.475287580 |  0.0206628161 |  0.172081260 |  0.069527548 |  0.420567873 |\n",
       "| Zn66 | -0.472352982 |  0.0990305752 |  0.380173662 |  0.352449735 |  0.0126547855 |  0.345580975 |  0.0070335262 |  0.322449398 |  0.1814995077 |  0.146376362 |  0.62177206 |  0.576423429 |  0.314690441 |  0.475287580 |  0.886154671 |  0.0274278080 |  0.319652055 |  0.087069787 |  0.276835257 |\n",
       "| As75 | -0.022225934 |  0.0052410629 |  0.018038913 |  0.017626490 |  0.0007087394 |  0.016557539 |  0.0002566606 |  0.017456017 | -0.0012820526 |  0.002060070 |  0.02093246 |  0.023041851 |  0.014034015 |  0.020662816 |  0.027427808 |  0.0024682203 |  0.016077901 | -0.002317249 |  0.003058031 |\n",
       "| Rb85 | -0.113221528 |  0.0990978765 |  0.249770930 |  0.031954320 |  0.0091013275 |  0.265845108 |  0.0030937198 |  0.346979294 | -0.2735804492 |  0.044858417 |  0.13584453 |  0.315489855 |  0.193750783 |  0.172081260 |  0.319652055 |  0.0160779009 |  1.000000022 | -0.115125098 |  0.066579129 |\n",
       "| Sr88 | -0.203755214 | -0.0139073192 | -0.103974973 |  0.323981598 |  0.0051886530 |  0.012655676 |  0.0048622678 | -0.144855791 |  0.8681851151 |  0.155487611 |  0.12123572 | -0.007759198 | -0.060172867 |  0.069527548 |  0.087069787 | -0.0023172487 | -0.115125098 |  0.999999991 |  0.227783433 |\n",
       "| Mo98 | -0.305510616 |  0.0317125191 |  0.102336597 |  0.109266587 |  0.0062060601 |  0.350725627 |  0.0071042804 |  0.174640257 |  0.2626390566 |  0.156987938 |  0.25767110 |  0.235582417 |  0.165090602 |  0.420567873 |  0.276835257 |  0.0030580311 |  0.066579129 |  0.227783433 |  1.000000005 |\n",
       "\n"
      ],
      "text/plain": [
       "         Spec_int     B11           Na23         Mg26         Al27         \n",
       "Spec_int  3.399104478  0.0835849560 -0.547497449 -0.499780586 -0.0146024022\n",
       "B11       0.083584956  0.2210707310  0.195423858 -0.013900385  0.0037253583\n",
       "Na23     -0.547497449  0.1954238581  0.930129187  0.124486220  0.0162710056\n",
       "Mg26     -0.499780586 -0.0139003845  0.124486220  1.000000009  0.0067384430\n",
       "Al27     -0.014602402  0.0037253583  0.016271006  0.006738443  0.0018519897\n",
       "P31      -0.419195973  0.0099747801  0.319230686  0.360180839  0.0115525890\n",
       "S34      -0.005917454  0.0005253659  0.003395238  0.004666377  0.0001575852\n",
       "K39      -0.260836733  0.0831823780  0.358369744  0.269071346  0.0090458723\n",
       "Ca44     -0.173437023 -0.0164070454 -0.115977676  0.294632450  0.0009568226\n",
       "Fe54     -0.007373337  0.0447421239  0.058911752  0.052361185  0.0022438341\n",
       "Mn55     -0.392482255  0.0418836238  0.322485560  0.210988607  0.0110160797\n",
       "Co59     -0.400836994  0.0417865372  0.325485067  0.213238523  0.0109164757\n",
       "Ni60     -0.342334172  0.0469094730  0.259754101  0.168438235  0.0074472684\n",
       "Cu63     -0.623765357  0.0643879435  0.377700741  0.489779138  0.0124176151\n",
       "Zn66     -0.472352982  0.0990305752  0.380173662  0.352449735  0.0126547855\n",
       "As75     -0.022225934  0.0052410629  0.018038913  0.017626490  0.0007087394\n",
       "Rb85     -0.113221528  0.0990978765  0.249770930  0.031954320  0.0091013275\n",
       "Sr88     -0.203755214 -0.0139073192 -0.103974973  0.323981598  0.0051886530\n",
       "Mo98     -0.305510616  0.0317125191  0.102336597  0.109266587  0.0062060601\n",
       "         P31          S34           K39          Ca44          Fe54        \n",
       "Spec_int -0.419195973 -0.0059174537 -0.260836733 -0.1734370226 -0.007373337\n",
       "B11       0.009974780  0.0005253659  0.083182378 -0.0164070454  0.044742124\n",
       "Na23      0.319230686  0.0033952378  0.358369744 -0.1159776757  0.058911752\n",
       "Mg26      0.360180839  0.0046663773  0.269071346  0.2946324497  0.052361185\n",
       "Al27      0.011552589  0.0001575852  0.009045872  0.0009568226  0.002243834\n",
       "P31       0.843902092  0.0076220353  0.514230479  0.0246489704  0.116003113\n",
       "S34       0.007622035  0.0002477456  0.004114890  0.0058141051  0.003396090\n",
       "K39       0.514230479  0.0041148903  0.999999991 -0.1307368736  0.050350843\n",
       "Ca44      0.024648970  0.0058141051 -0.130736874  1.0000000070  0.190004238\n",
       "Fe54      0.116003113  0.0033960904  0.050350843  0.1900042375  0.224913302\n",
       "Mn55      0.293581993  0.0089262800  0.169724034  0.2344668210  0.165029608\n",
       "Co59      0.351326748  0.0076981379  0.217145966  0.0585506320  0.160810591\n",
       "Ni60      0.284036131  0.0033391022  0.269506294 -0.0327855380  0.065135138\n",
       "Cu63      0.617207552  0.0071390434  0.466429632  0.0805620566  0.114023034\n",
       "Zn66      0.345580975  0.0070335262  0.322449398  0.1814995077  0.146376362\n",
       "As75      0.016557539  0.0002566606  0.017456017 -0.0012820526  0.002060070\n",
       "Rb85      0.265845108  0.0030937198  0.346979294 -0.2735804492  0.044858417\n",
       "Sr88      0.012655676  0.0048622678 -0.144855791  0.8681851151  0.155487611\n",
       "Mo98      0.350725627  0.0071042804  0.174640257  0.2626390566  0.156987938\n",
       "         Mn55        Co59         Ni60         Cu63         Zn66        \n",
       "Spec_int -0.39248225 -0.400836994 -0.342334172 -0.623765357 -0.472352982\n",
       "B11       0.04188362  0.041786537  0.046909473  0.064387944  0.099030575\n",
       "Na23      0.32248556  0.325485067  0.259754101  0.377700741  0.380173662\n",
       "Mg26      0.21098861  0.213238523  0.168438235  0.489779138  0.352449735\n",
       "Al27      0.01101608  0.010916476  0.007447268  0.012417615  0.012654785\n",
       "P31       0.29358199  0.351326748  0.284036131  0.617207552  0.345580975\n",
       "S34       0.00892628  0.007698138  0.003339102  0.007139043  0.007033526\n",
       "K39       0.16972403  0.217145966  0.269506294  0.466429632  0.322449398\n",
       "Ca44      0.23446682  0.058550632 -0.032785538  0.080562057  0.181499508\n",
       "Fe54      0.16502961  0.160810591  0.065135138  0.114023034  0.146376362\n",
       "Mn55      0.99999998  0.817270298  0.313736681  0.364248297  0.621772056\n",
       "Co59      0.81727030  0.999999973  0.463681364  0.403687027  0.576423429\n",
       "Ni60      0.31373668  0.463681364  0.383630985  0.326830146  0.314690441\n",
       "Cu63      0.36424830  0.403687027  0.326830146  0.976428074  0.475287580\n",
       "Zn66      0.62177206  0.576423429  0.314690441  0.475287580  0.886154671\n",
       "As75      0.02093246  0.023041851  0.014034015  0.020662816  0.027427808\n",
       "Rb85      0.13584453  0.315489855  0.193750783  0.172081260  0.319652055\n",
       "Sr88      0.12123572 -0.007759198 -0.060172867  0.069527548  0.087069787\n",
       "Mo98      0.25767110  0.235582417  0.165090602  0.420567873  0.276835257\n",
       "         As75          Rb85         Sr88         Mo98        \n",
       "Spec_int -0.0222259337 -0.113221528 -0.203755214 -0.305510616\n",
       "B11       0.0052410629  0.099097876 -0.013907319  0.031712519\n",
       "Na23      0.0180389129  0.249770930 -0.103974973  0.102336597\n",
       "Mg26      0.0176264899  0.031954320  0.323981598  0.109266587\n",
       "Al27      0.0007087394  0.009101328  0.005188653  0.006206060\n",
       "P31       0.0165575392  0.265845108  0.012655676  0.350725627\n",
       "S34       0.0002566606  0.003093720  0.004862268  0.007104280\n",
       "K39       0.0174560172  0.346979294 -0.144855791  0.174640257\n",
       "Ca44     -0.0012820526 -0.273580449  0.868185115  0.262639057\n",
       "Fe54      0.0020600704  0.044858417  0.155487611  0.156987938\n",
       "Mn55      0.0209324558  0.135844528  0.121235718  0.257671096\n",
       "Co59      0.0230418514  0.315489855 -0.007759198  0.235582417\n",
       "Ni60      0.0140340146  0.193750783 -0.060172867  0.165090602\n",
       "Cu63      0.0206628161  0.172081260  0.069527548  0.420567873\n",
       "Zn66      0.0274278080  0.319652055  0.087069787  0.276835257\n",
       "As75      0.0024682203  0.016077901 -0.002317249  0.003058031\n",
       "Rb85      0.0160779009  1.000000022 -0.115125098  0.066579129\n",
       "Sr88     -0.0023172487 -0.115125098  0.999999991  0.227783433\n",
       "Mo98      0.0030580311  0.066579129  0.227783433  1.000000005"
      ]
     },
     "metadata": {},
     "output_type": "display_data"
    }
   ],
   "source": [
    "cov(ionomics$completeObs)"
   ]
  },
  {
   "cell_type": "markdown",
   "metadata": {},
   "source": [
    "This data lacks a categorical variable, so LDA (discriminante factor analysis), clustering, and anova are all rendered obsolete. We could come up with a categorical variable. Will use species as cat. var. in geneva data when I get there. Kruskill wallace also requires a categorical variable. What are we trying to measure the difference in? If its just ions we can compute the variance for each and just compare them as the scale and distro. are similar. "
   ]
  },
  {
   "cell_type": "code",
   "execution_count": 11,
   "metadata": {},
   "outputs": [
    {
     "name": "stdout",
     "output_type": "stream",
     "text": [
      "[1] 0.2210707\n",
      "[1] 0.9301292\n",
      "[1] 1\n",
      "[1] 0.00185199\n",
      "[1] 0.8439021\n",
      "[1] 0.0002477456\n",
      "[1] 1\n",
      "[1] 1\n",
      "[1] 0.2249133\n",
      "[1] 1\n",
      "[1] 1\n",
      "[1] 0.383631\n",
      "[1] 0.9764281\n",
      "[1] 0.8861547\n",
      "[1] 0.00246822\n",
      "[1] 1\n",
      "[1] 1\n",
      "[1] 1\n"
     ]
    }
   ],
   "source": [
    "for (i in 2:19) {\n",
    "    print(var(ionomics$completeObs[,i]))\n",
    "}"
   ]
  },
  {
   "cell_type": "markdown",
   "metadata": {},
   "source": [
    "What does var. =1 mean?"
   ]
  },
  {
   "cell_type": "code",
   "execution_count": 12,
   "metadata": {},
   "outputs": [],
   "source": [
    "lda <- lda(grouping = ionomics$completeObs[,1], x = ionomics$completeObs[,2:19])"
   ]
  },
  {
   "cell_type": "markdown",
   "metadata": {},
   "source": [
    "The means can act as a fingerprint for the ionome of this dataset. Lets preform an anova on this. "
   ]
  },
  {
   "cell_type": "code",
   "execution_count": 13,
   "metadata": {},
   "outputs": [
    {
     "data": {
      "text/html": [
       "<table>\n",
       "<caption>A matrix: 8 × 18 of type dbl</caption>\n",
       "<thead>\n",
       "\t<tr><th></th><th scope=col>B11</th><th scope=col>Na23</th><th scope=col>Mg26</th><th scope=col>Al27</th><th scope=col>P31</th><th scope=col>S34</th><th scope=col>K39</th><th scope=col>Ca44</th><th scope=col>Fe54</th><th scope=col>Mn55</th><th scope=col>Co59</th><th scope=col>Ni60</th><th scope=col>Cu63</th><th scope=col>Zn66</th><th scope=col>As75</th><th scope=col>Rb85</th><th scope=col>Sr88</th><th scope=col>Mo98</th></tr>\n",
       "</thead>\n",
       "<tbody>\n",
       "\t<tr><th scope=row>1</th><td>-0.229050928</td><td>-0.06091751</td><td>-0.695502243</td><td>-0.08728364</td><td>-0.53526460</td><td>0.06079159</td><td>-0.7820116</td><td>-0.2647788</td><td>-0.20624750</td><td>-0.2661672</td><td>-0.3671701</td><td>-0.239359040</td><td>-0.75791389</td><td>-0.29828979</td><td>-0.09426449</td><td> 0.41313063</td><td>-0.08363468</td><td>-0.205634228</td></tr>\n",
       "\t<tr><th scope=row>2</th><td>-0.254001333</td><td>-0.05013798</td><td>-0.001718964</td><td>-0.08032166</td><td> 0.08527935</td><td>0.07197670</td><td>-0.3076795</td><td> 0.1608897</td><td>-0.21178564</td><td>-0.1089169</td><td>-0.1377138</td><td>-0.053386469</td><td> 0.28712655</td><td> 0.12550132</td><td>-0.06470929</td><td>-0.32847097</td><td> 0.20244506</td><td>-0.575485713</td></tr>\n",
       "\t<tr><th scope=row>3</th><td> 0.098740909</td><td> 0.91042897</td><td> 0.748484074</td><td>-0.03570808</td><td> 1.27622506</td><td>0.08788726</td><td> 0.8535065</td><td> 0.5417960</td><td> 0.39759998</td><td> 1.1265376</td><td> 1.1120246</td><td> 0.883684637</td><td> 1.67505618</td><td> 1.14568287</td><td>-0.04502819</td><td> 0.39165724</td><td> 0.46389042</td><td> 1.576602170</td></tr>\n",
       "\t<tr><th scope=row>4</th><td>-0.181591578</td><td> 0.25543889</td><td> 0.855494591</td><td>-0.07491637</td><td>-0.02535514</td><td>0.06752715</td><td> 0.1872560</td><td>-0.2101313</td><td>-0.41571769</td><td>-0.1609939</td><td>-0.1512122</td><td> 0.007904723</td><td> 0.24715681</td><td> 0.06098879</td><td>-0.04885676</td><td>-0.37739251</td><td>-0.16708639</td><td>-0.661364298</td></tr>\n",
       "\t<tr><th scope=row>5</th><td>-0.597863058</td><td> 0.17663030</td><td>-0.431020745</td><td>-0.04137531</td><td> 0.85838178</td><td>0.07009565</td><td> 0.2177744</td><td>-0.9875157</td><td>-0.39080975</td><td> 0.8028992</td><td> 2.3159971</td><td> 1.913089700</td><td>-0.31302968</td><td> 0.07900019</td><td>-0.05057997</td><td> 0.38682825</td><td>-0.91774653</td><td>-0.614517904</td></tr>\n",
       "\t<tr><th scope=row>6</th><td>-0.018240356</td><td>-0.26113702</td><td>-0.565014554</td><td>-0.08393230</td><td>-0.35729480</td><td>0.07105793</td><td>-0.1269806</td><td> 0.2364597</td><td> 0.04957302</td><td>-0.2262748</td><td>-0.3047431</td><td>-0.211164880</td><td>-0.67631034</td><td>-0.27012743</td><td>-0.09371025</td><td>-0.07087182</td><td> 0.14581545</td><td>-0.060549786</td></tr>\n",
       "\t<tr><th scope=row>7</th><td>-0.004895985</td><td>-0.44187525</td><td>-0.010065178</td><td>-0.08676093</td><td>-0.11327303</td><td>0.06198476</td><td>-0.3711841</td><td>-0.4654501</td><td>-0.20446417</td><td>-0.4713296</td><td>-0.4647659</td><td>-0.203609791</td><td> 0.01329129</td><td>-0.45736706</td><td>-0.09945000</td><td> 0.28222827</td><td>-0.25857600</td><td>-0.217789078</td></tr>\n",
       "\t<tr><th scope=row>8</th><td> 0.046927246</td><td>-0.24245686</td><td>-0.456962219</td><td>-0.07679110</td><td>-0.11050558</td><td>0.06102744</td><td>-0.2784532</td><td>-0.3980665</td><td>-0.02553860</td><td> 0.2176895</td><td> 0.1488680</td><td>-0.111391548</td><td>-0.05042366</td><td> 0.18559723</td><td>-0.06744532</td><td>-0.34286425</td><td>-0.52391214</td><td>-0.008585152</td></tr>\n",
       "</tbody>\n",
       "</table>\n"
      ],
      "text/latex": [
       "A matrix: 8 × 18 of type dbl\n",
       "\\begin{tabular}{r|llllllllllllllllll}\n",
       "  & B11 & Na23 & Mg26 & Al27 & P31 & S34 & K39 & Ca44 & Fe54 & Mn55 & Co59 & Ni60 & Cu63 & Zn66 & As75 & Rb85 & Sr88 & Mo98\\\\\n",
       "\\hline\n",
       "\t1 & -0.229050928 & -0.06091751 & -0.695502243 & -0.08728364 & -0.53526460 & 0.06079159 & -0.7820116 & -0.2647788 & -0.20624750 & -0.2661672 & -0.3671701 & -0.239359040 & -0.75791389 & -0.29828979 & -0.09426449 &  0.41313063 & -0.08363468 & -0.205634228\\\\\n",
       "\t2 & -0.254001333 & -0.05013798 & -0.001718964 & -0.08032166 &  0.08527935 & 0.07197670 & -0.3076795 &  0.1608897 & -0.21178564 & -0.1089169 & -0.1377138 & -0.053386469 &  0.28712655 &  0.12550132 & -0.06470929 & -0.32847097 &  0.20244506 & -0.575485713\\\\\n",
       "\t3 &  0.098740909 &  0.91042897 &  0.748484074 & -0.03570808 &  1.27622506 & 0.08788726 &  0.8535065 &  0.5417960 &  0.39759998 &  1.1265376 &  1.1120246 &  0.883684637 &  1.67505618 &  1.14568287 & -0.04502819 &  0.39165724 &  0.46389042 &  1.576602170\\\\\n",
       "\t4 & -0.181591578 &  0.25543889 &  0.855494591 & -0.07491637 & -0.02535514 & 0.06752715 &  0.1872560 & -0.2101313 & -0.41571769 & -0.1609939 & -0.1512122 &  0.007904723 &  0.24715681 &  0.06098879 & -0.04885676 & -0.37739251 & -0.16708639 & -0.661364298\\\\\n",
       "\t5 & -0.597863058 &  0.17663030 & -0.431020745 & -0.04137531 &  0.85838178 & 0.07009565 &  0.2177744 & -0.9875157 & -0.39080975 &  0.8028992 &  2.3159971 &  1.913089700 & -0.31302968 &  0.07900019 & -0.05057997 &  0.38682825 & -0.91774653 & -0.614517904\\\\\n",
       "\t6 & -0.018240356 & -0.26113702 & -0.565014554 & -0.08393230 & -0.35729480 & 0.07105793 & -0.1269806 &  0.2364597 &  0.04957302 & -0.2262748 & -0.3047431 & -0.211164880 & -0.67631034 & -0.27012743 & -0.09371025 & -0.07087182 &  0.14581545 & -0.060549786\\\\\n",
       "\t7 & -0.004895985 & -0.44187525 & -0.010065178 & -0.08676093 & -0.11327303 & 0.06198476 & -0.3711841 & -0.4654501 & -0.20446417 & -0.4713296 & -0.4647659 & -0.203609791 &  0.01329129 & -0.45736706 & -0.09945000 &  0.28222827 & -0.25857600 & -0.217789078\\\\\n",
       "\t8 &  0.046927246 & -0.24245686 & -0.456962219 & -0.07679110 & -0.11050558 & 0.06102744 & -0.2784532 & -0.3980665 & -0.02553860 &  0.2176895 &  0.1488680 & -0.111391548 & -0.05042366 &  0.18559723 & -0.06744532 & -0.34286425 & -0.52391214 & -0.008585152\\\\\n",
       "\\end{tabular}\n"
      ],
      "text/markdown": [
       "\n",
       "A matrix: 8 × 18 of type dbl\n",
       "\n",
       "| <!--/--> | B11 | Na23 | Mg26 | Al27 | P31 | S34 | K39 | Ca44 | Fe54 | Mn55 | Co59 | Ni60 | Cu63 | Zn66 | As75 | Rb85 | Sr88 | Mo98 |\n",
       "|---|---|---|---|---|---|---|---|---|---|---|---|---|---|---|---|---|---|---|\n",
       "| 1 | -0.229050928 | -0.06091751 | -0.695502243 | -0.08728364 | -0.53526460 | 0.06079159 | -0.7820116 | -0.2647788 | -0.20624750 | -0.2661672 | -0.3671701 | -0.239359040 | -0.75791389 | -0.29828979 | -0.09426449 |  0.41313063 | -0.08363468 | -0.205634228 |\n",
       "| 2 | -0.254001333 | -0.05013798 | -0.001718964 | -0.08032166 |  0.08527935 | 0.07197670 | -0.3076795 |  0.1608897 | -0.21178564 | -0.1089169 | -0.1377138 | -0.053386469 |  0.28712655 |  0.12550132 | -0.06470929 | -0.32847097 |  0.20244506 | -0.575485713 |\n",
       "| 3 |  0.098740909 |  0.91042897 |  0.748484074 | -0.03570808 |  1.27622506 | 0.08788726 |  0.8535065 |  0.5417960 |  0.39759998 |  1.1265376 |  1.1120246 |  0.883684637 |  1.67505618 |  1.14568287 | -0.04502819 |  0.39165724 |  0.46389042 |  1.576602170 |\n",
       "| 4 | -0.181591578 |  0.25543889 |  0.855494591 | -0.07491637 | -0.02535514 | 0.06752715 |  0.1872560 | -0.2101313 | -0.41571769 | -0.1609939 | -0.1512122 |  0.007904723 |  0.24715681 |  0.06098879 | -0.04885676 | -0.37739251 | -0.16708639 | -0.661364298 |\n",
       "| 5 | -0.597863058 |  0.17663030 | -0.431020745 | -0.04137531 |  0.85838178 | 0.07009565 |  0.2177744 | -0.9875157 | -0.39080975 |  0.8028992 |  2.3159971 |  1.913089700 | -0.31302968 |  0.07900019 | -0.05057997 |  0.38682825 | -0.91774653 | -0.614517904 |\n",
       "| 6 | -0.018240356 | -0.26113702 | -0.565014554 | -0.08393230 | -0.35729480 | 0.07105793 | -0.1269806 |  0.2364597 |  0.04957302 | -0.2262748 | -0.3047431 | -0.211164880 | -0.67631034 | -0.27012743 | -0.09371025 | -0.07087182 |  0.14581545 | -0.060549786 |\n",
       "| 7 | -0.004895985 | -0.44187525 | -0.010065178 | -0.08676093 | -0.11327303 | 0.06198476 | -0.3711841 | -0.4654501 | -0.20446417 | -0.4713296 | -0.4647659 | -0.203609791 |  0.01329129 | -0.45736706 | -0.09945000 |  0.28222827 | -0.25857600 | -0.217789078 |\n",
       "| 8 |  0.046927246 | -0.24245686 | -0.456962219 | -0.07679110 | -0.11050558 | 0.06102744 | -0.2784532 | -0.3980665 | -0.02553860 |  0.2176895 |  0.1488680 | -0.111391548 | -0.05042366 |  0.18559723 | -0.06744532 | -0.34286425 | -0.52391214 | -0.008585152 |\n",
       "\n"
      ],
      "text/plain": [
       "  B11          Na23        Mg26         Al27        P31         S34       \n",
       "1 -0.229050928 -0.06091751 -0.695502243 -0.08728364 -0.53526460 0.06079159\n",
       "2 -0.254001333 -0.05013798 -0.001718964 -0.08032166  0.08527935 0.07197670\n",
       "3  0.098740909  0.91042897  0.748484074 -0.03570808  1.27622506 0.08788726\n",
       "4 -0.181591578  0.25543889  0.855494591 -0.07491637 -0.02535514 0.06752715\n",
       "5 -0.597863058  0.17663030 -0.431020745 -0.04137531  0.85838178 0.07009565\n",
       "6 -0.018240356 -0.26113702 -0.565014554 -0.08393230 -0.35729480 0.07105793\n",
       "7 -0.004895985 -0.44187525 -0.010065178 -0.08676093 -0.11327303 0.06198476\n",
       "8  0.046927246 -0.24245686 -0.456962219 -0.07679110 -0.11050558 0.06102744\n",
       "  K39        Ca44       Fe54        Mn55       Co59       Ni60        \n",
       "1 -0.7820116 -0.2647788 -0.20624750 -0.2661672 -0.3671701 -0.239359040\n",
       "2 -0.3076795  0.1608897 -0.21178564 -0.1089169 -0.1377138 -0.053386469\n",
       "3  0.8535065  0.5417960  0.39759998  1.1265376  1.1120246  0.883684637\n",
       "4  0.1872560 -0.2101313 -0.41571769 -0.1609939 -0.1512122  0.007904723\n",
       "5  0.2177744 -0.9875157 -0.39080975  0.8028992  2.3159971  1.913089700\n",
       "6 -0.1269806  0.2364597  0.04957302 -0.2262748 -0.3047431 -0.211164880\n",
       "7 -0.3711841 -0.4654501 -0.20446417 -0.4713296 -0.4647659 -0.203609791\n",
       "8 -0.2784532 -0.3980665 -0.02553860  0.2176895  0.1488680 -0.111391548\n",
       "  Cu63        Zn66        As75        Rb85        Sr88        Mo98        \n",
       "1 -0.75791389 -0.29828979 -0.09426449  0.41313063 -0.08363468 -0.205634228\n",
       "2  0.28712655  0.12550132 -0.06470929 -0.32847097  0.20244506 -0.575485713\n",
       "3  1.67505618  1.14568287 -0.04502819  0.39165724  0.46389042  1.576602170\n",
       "4  0.24715681  0.06098879 -0.04885676 -0.37739251 -0.16708639 -0.661364298\n",
       "5 -0.31302968  0.07900019 -0.05057997  0.38682825 -0.91774653 -0.614517904\n",
       "6 -0.67631034 -0.27012743 -0.09371025 -0.07087182  0.14581545 -0.060549786\n",
       "7  0.01329129 -0.45736706 -0.09945000  0.28222827 -0.25857600 -0.217789078\n",
       "8 -0.05042366  0.18559723 -0.06744532 -0.34286425 -0.52391214 -0.008585152"
      ]
     },
     "metadata": {},
     "output_type": "display_data"
    }
   ],
   "source": [
    "lda$means"
   ]
  }
 ],
 "metadata": {
  "kernelspec": {
   "display_name": "R",
   "language": "R",
   "name": "ir"
  },
  "language_info": {
   "codemirror_mode": "r",
   "file_extension": ".r",
   "mimetype": "text/x-r-source",
   "name": "R",
   "pygments_lexer": "r",
   "version": "3.6.3"
  }
 },
 "nbformat": 4,
 "nbformat_minor": 4
}
