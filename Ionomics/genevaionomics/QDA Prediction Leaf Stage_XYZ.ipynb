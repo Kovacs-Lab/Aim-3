{
 "cells": [
  {
   "cell_type": "code",
   "execution_count": 1,
   "metadata": {},
   "outputs": [
    {
     "name": "stderr",
     "output_type": "stream",
     "text": [
      "Installing package into 'C:/Users/2198K/Documents/R/win-library/3.6'\n",
      "(as 'lib' is unspecified)\n",
      "\n"
     ]
    },
    {
     "name": "stdout",
     "output_type": "stream",
     "text": [
      "package 'MASS' successfully unpacked and MD5 sums checked\n",
      "\n",
      "The downloaded binary packages are in\n",
      "\tC:\\Users\\2198K\\AppData\\Local\\Temp\\RtmpWmhJHO\\downloaded_packages\n"
     ]
    },
    {
     "name": "stderr",
     "output_type": "stream",
     "text": [
      "Installing package into 'C:/Users/2198K/Documents/R/win-library/3.6'\n",
      "(as 'lib' is unspecified)\n",
      "\n"
     ]
    },
    {
     "name": "stdout",
     "output_type": "stream",
     "text": [
      "package 'missMDA' successfully unpacked and MD5 sums checked\n",
      "\n",
      "The downloaded binary packages are in\n",
      "\tC:\\Users\\2198K\\AppData\\Local\\Temp\\RtmpWmhJHO\\downloaded_packages\n"
     ]
    },
    {
     "name": "stderr",
     "output_type": "stream",
     "text": [
      "Installing package into 'C:/Users/2198K/Documents/R/win-library/3.6'\n",
      "(as 'lib' is unspecified)\n",
      "\n"
     ]
    },
    {
     "name": "stdout",
     "output_type": "stream",
     "text": [
      "package 'tidyverse' successfully unpacked and MD5 sums checked\n",
      "\n",
      "The downloaded binary packages are in\n",
      "\tC:\\Users\\2198K\\AppData\\Local\\Temp\\RtmpWmhJHO\\downloaded_packages\n"
     ]
    },
    {
     "name": "stderr",
     "output_type": "stream",
     "text": [
      "-- \u001b[1mAttaching packages\u001b[22m --------------------------------------- tidyverse 1.3.0 --\n",
      "\n",
      "\u001b[32mv\u001b[39m \u001b[34mggplot2\u001b[39m 3.2.1     \u001b[32mv\u001b[39m \u001b[34mpurrr  \u001b[39m 0.3.3\n",
      "\u001b[32mv\u001b[39m \u001b[34mtibble \u001b[39m 2.1.3     \u001b[32mv\u001b[39m \u001b[34mdplyr  \u001b[39m 0.8.4\n",
      "\u001b[32mv\u001b[39m \u001b[34mtidyr  \u001b[39m 1.0.2     \u001b[32mv\u001b[39m \u001b[34mstringr\u001b[39m 1.4.0\n",
      "\u001b[32mv\u001b[39m \u001b[34mreadr  \u001b[39m 1.3.1     \u001b[32mv\u001b[39m \u001b[34mforcats\u001b[39m 0.4.0\n",
      "\n",
      "-- \u001b[1mConflicts\u001b[22m ------------------------------------------ tidyverse_conflicts() --\n",
      "\u001b[31mx\u001b[39m \u001b[34mdplyr\u001b[39m::\u001b[32mfilter()\u001b[39m masks \u001b[34mstats\u001b[39m::filter()\n",
      "\u001b[31mx\u001b[39m \u001b[34mdplyr\u001b[39m::\u001b[32mlag()\u001b[39m    masks \u001b[34mstats\u001b[39m::lag()\n",
      "\u001b[31mx\u001b[39m \u001b[34mdplyr\u001b[39m::\u001b[32mselect()\u001b[39m masks \u001b[34mMASS\u001b[39m::select()\n",
      "\n",
      "Installing package into 'C:/Users/2198K/Documents/R/win-library/3.6'\n",
      "(as 'lib' is unspecified)\n",
      "\n"
     ]
    },
    {
     "name": "stdout",
     "output_type": "stream",
     "text": [
      "package 'caret' successfully unpacked and MD5 sums checked\n",
      "\n",
      "The downloaded binary packages are in\n",
      "\tC:\\Users\\2198K\\AppData\\Local\\Temp\\RtmpWmhJHO\\downloaded_packages\n"
     ]
    },
    {
     "name": "stderr",
     "output_type": "stream",
     "text": [
      "Loading required package: lattice\n",
      "\n",
      "\n",
      "Attaching package: 'caret'\n",
      "\n",
      "\n",
      "The following object is masked from 'package:purrr':\n",
      "\n",
      "    lift\n",
      "\n",
      "\n",
      "Installing package into 'C:/Users/2198K/Documents/R/win-library/3.6'\n",
      "(as 'lib' is unspecified)\n",
      "\n"
     ]
    },
    {
     "name": "stdout",
     "output_type": "stream",
     "text": [
      "package 'klaR' successfully unpacked and MD5 sums checked\n",
      "\n",
      "The downloaded binary packages are in\n",
      "\tC:\\Users\\2198K\\AppData\\Local\\Temp\\RtmpWmhJHO\\downloaded_packages\n"
     ]
    }
   ],
   "source": [
    "install.packages(\"MASS\")\n",
    "library(\"MASS\")\n",
    "install.packages(\"missMDA\")\n",
    "library(\"missMDA\")\n",
    "install.packages(\"tidyverse\")\n",
    "library(\"tidyverse\")\n",
    "install.packages(\"caret\")\n",
    "library(\"caret\")\n",
    "install.packages(\"klaR\")\n",
    "library(klaR)"
   ]
  },
  {
   "cell_type": "code",
   "execution_count": 2,
   "metadata": {},
   "outputs": [],
   "source": [
    "ionomics <- read.csv('Transformed_ionStats_leafstage_XYZ.csv',colClasses =c(NA,NA,NA,NA,NA,NA,NA,NA,NA,NA,NA,NA,NA,\n",
    "                                                                    NA,NA,NA,NA,NA,NA,NA))\n",
    "ionomics <- imputePCA(ionomics, method = \"Regularized\")"
   ]
  },
  {
   "cell_type": "code",
   "execution_count": 3,
   "metadata": {},
   "outputs": [],
   "source": [
    "# Split the data into training (80%) and test set (20%)\n",
    "set.seed(123)\n",
    "training.samples <- ionomics$completeObs[,2] %>%\n",
    "  createDataPartition(p = 0.8, list = FALSE)\n",
    "train.data <- ionomics$completeObs[training.samples, ]\n",
    "test.data <- ionomics$completeObs[-training.samples, ]\n",
    "train.data <- unlist(test.data)\n",
    "test.data <- unlist(test.data)\n",
    "train.data <- as.data.frame(train.data)\n",
    "test.data <- as.data.frame(test.data)"
   ]
  },
  {
   "cell_type": "code",
   "execution_count": 4,
   "metadata": {},
   "outputs": [
    {
     "data": {
      "text/html": [
       "0.958333333333333"
      ],
      "text/latex": [
       "0.958333333333333"
      ],
      "text/markdown": [
       "0.958333333333333"
      ],
      "text/plain": [
       "[1] 0.9583333"
      ]
     },
     "metadata": {},
     "output_type": "display_data"
    },
    {
     "data": {
      "text/plain": [
       "Call:\n",
       "qda(leaf_stage ~ ., data = train.data)\n",
       "\n",
       "Prior probabilities of groups:\n",
       "   1    2    3 \n",
       "0.35 0.40 0.25 \n",
       "\n",
       "Group means:\n",
       "          B11       Na23          Mg26       Al27        P31           S34\n",
       "1  0.05060135 0.20083233 -0.0002009285 -0.1240311 -0.1733459 -0.2316304996\n",
       "2 -0.13611723 0.01761033  0.1543405478 -0.1037208  0.2582389 -0.0820835837\n",
       "3 -0.17209017 0.07174370  0.0953553143  0.2135610  0.1300769  0.0001524108\n",
       "         K39        Ca44       Fe54        Mn55        Co59        Ni60\n",
       "1 -0.1642376 -0.12025810 -0.1757699  0.02483264  0.05501121  0.06790590\n",
       "2  0.1682897 -0.17724525 -0.0104825 -0.02920705 -0.02840929  0.07810392\n",
       "3 -0.1096391 -0.06454871  0.2841625 -0.12583495 -0.09430467 -0.10653439\n",
       "          Cu63         Zn66        As75       Rb85        Sr88        Mo98\n",
       "1 -0.001413502 -0.101711924 -0.10933563 0.19562261  0.01566258 -0.11769164\n",
       "2  0.229121632 -0.086523985 -0.06103281 0.07067994 -0.12318861  0.05216818\n",
       "3 -0.113310635 -0.007557171  0.23525197 0.01040958  0.08023727  0.38357543\n",
       "        Cd111\n",
       "1  0.01663265\n",
       "2  0.31656671\n",
       "3 -0.08442104"
      ]
     },
     "metadata": {},
     "output_type": "display_data"
    }
   ],
   "source": [
    "# Fit the model\n",
    "model <- qda(leaf_stage~., data = train.data)\n",
    "# Make predictions\n",
    "predictions <- model %>% predict(test.data)\n",
    "# Model accuracy\n",
    "mean(predictions$class==test.data$leaf_stage)\n",
    "model"
   ]
  },
  {
   "cell_type": "code",
   "execution_count": 5,
   "metadata": {},
   "outputs": [
    {
     "ename": "ERROR",
     "evalue": "Error in partimat.default(x, grouping, ...): at least two classes required\n",
     "output_type": "error",
     "traceback": [
      "Error in partimat.default(x, grouping, ...): at least two classes required\nTraceback:\n",
      "1. partimat(leaf_stage ~ ., data = test.data, method = \"qda\", plot.matrix = TRUE, \n .     col.correct = \"green\", col.wrong = \"red\")",
      "2. partimat.formula(leaf_stage ~ ., data = test.data, method = \"qda\", \n .     plot.matrix = TRUE, col.correct = \"green\", col.wrong = \"red\")",
      "3. partimat.default(x, grouping, ...)",
      "4. stop(\"at least two classes required\")"
     ]
    }
   ],
   "source": [
    "partimat(leaf_stage ~ ., data = test.data, method = \"qda\", plot.matrix = TRUE, col.correct='green', col.wrong='red')"
   ]
  },
  {
   "cell_type": "code",
   "execution_count": 6,
   "metadata": {},
   "outputs": [
    {
     "data": {
      "text/html": [
       "<ol class=list-inline>\n",
       "\t<li>1</li>\n",
       "\t<li>1</li>\n",
       "\t<li>1</li>\n",
       "\t<li>1</li>\n",
       "\t<li>1</li>\n",
       "\t<li>1</li>\n",
       "</ol>\n",
       "\n",
       "<details>\n",
       "\t<summary style=display:list-item;cursor:pointer>\n",
       "\t\t<strong>Levels</strong>:\n",
       "\t</summary>\n",
       "\t<ol class=list-inline>\n",
       "\t\t<li>'1'</li>\n",
       "\t\t<li>'2'</li>\n",
       "\t\t<li>'3'</li>\n",
       "\t</ol>\n",
       "</details>"
      ],
      "text/latex": [
       "\\begin{enumerate*}\n",
       "\\item 1\n",
       "\\item 1\n",
       "\\item 1\n",
       "\\item 1\n",
       "\\item 1\n",
       "\\item 1\n",
       "\\end{enumerate*}\n",
       "\n",
       "\\emph{Levels}: \\begin{enumerate*}\n",
       "\\item '1'\n",
       "\\item '2'\n",
       "\\item '3'\n",
       "\\end{enumerate*}\n"
      ],
      "text/markdown": [
       "1. 1\n",
       "2. 1\n",
       "3. 1\n",
       "4. 1\n",
       "5. 1\n",
       "6. 1\n",
       "\n",
       "\n",
       "\n",
       "**Levels**: 1. '1'\n",
       "2. '2'\n",
       "3. '3'\n",
       "\n",
       "\n"
      ],
      "text/plain": [
       "[1] 1 1 1 1 1 1\n",
       "Levels: 1 2 3"
      ]
     },
     "metadata": {},
     "output_type": "display_data"
    },
    {
     "data": {
      "text/html": [
       "<table>\n",
       "<caption>A matrix: 6 × 3 of type dbl</caption>\n",
       "<thead>\n",
       "\t<tr><th></th><th scope=col>1</th><th scope=col>2</th><th scope=col>3</th></tr>\n",
       "</thead>\n",
       "<tbody>\n",
       "\t<tr><th scope=row>1</th><td>1.0000000</td><td>1.909985e-12</td><td> 2.621460e-14</td></tr>\n",
       "\t<tr><th scope=row>2</th><td>0.8001254</td><td>1.998746e-01</td><td>2.685829e-132</td></tr>\n",
       "\t<tr><th scope=row>3</th><td>1.0000000</td><td>2.565947e-11</td><td> 3.372259e-22</td></tr>\n",
       "\t<tr><th scope=row>4</th><td>1.0000000</td><td>3.571936e-37</td><td> 3.462962e-54</td></tr>\n",
       "\t<tr><th scope=row>5</th><td>0.9999997</td><td>7.047061e-08</td><td> 2.184797e-07</td></tr>\n",
       "\t<tr><th scope=row>6</th><td>0.9659914</td><td>1.054478e-03</td><td> 3.295412e-02</td></tr>\n",
       "</tbody>\n",
       "</table>\n"
      ],
      "text/latex": [
       "A matrix: 6 × 3 of type dbl\n",
       "\\begin{tabular}{r|lll}\n",
       "  & 1 & 2 & 3\\\\\n",
       "\\hline\n",
       "\t1 & 1.0000000 & 1.909985e-12 &  2.621460e-14\\\\\n",
       "\t2 & 0.8001254 & 1.998746e-01 & 2.685829e-132\\\\\n",
       "\t3 & 1.0000000 & 2.565947e-11 &  3.372259e-22\\\\\n",
       "\t4 & 1.0000000 & 3.571936e-37 &  3.462962e-54\\\\\n",
       "\t5 & 0.9999997 & 7.047061e-08 &  2.184797e-07\\\\\n",
       "\t6 & 0.9659914 & 1.054478e-03 &  3.295412e-02\\\\\n",
       "\\end{tabular}\n"
      ],
      "text/markdown": [
       "\n",
       "A matrix: 6 × 3 of type dbl\n",
       "\n",
       "| <!--/--> | 1 | 2 | 3 |\n",
       "|---|---|---|---|\n",
       "| 1 | 1.0000000 | 1.909985e-12 |  2.621460e-14 |\n",
       "| 2 | 0.8001254 | 1.998746e-01 | 2.685829e-132 |\n",
       "| 3 | 1.0000000 | 2.565947e-11 |  3.372259e-22 |\n",
       "| 4 | 1.0000000 | 3.571936e-37 |  3.462962e-54 |\n",
       "| 5 | 0.9999997 | 7.047061e-08 |  2.184797e-07 |\n",
       "| 6 | 0.9659914 | 1.054478e-03 |  3.295412e-02 |\n",
       "\n"
      ],
      "text/plain": [
       "  1         2            3            \n",
       "1 1.0000000 1.909985e-12  2.621460e-14\n",
       "2 0.8001254 1.998746e-01 2.685829e-132\n",
       "3 1.0000000 2.565947e-11  3.372259e-22\n",
       "4 1.0000000 3.571936e-37  3.462962e-54\n",
       "5 0.9999997 7.047061e-08  2.184797e-07\n",
       "6 0.9659914 1.054478e-03  3.295412e-02"
      ]
     },
     "metadata": {},
     "output_type": "display_data"
    },
    {
     "data": {
      "text/plain": [
       "NULL"
      ]
     },
     "metadata": {},
     "output_type": "display_data"
    }
   ],
   "source": [
    "# Predicted classes\n",
    "head(predictions$class, 6)\n",
    "# Predicted probabilities of class memebership.\n",
    "head(predictions$posterior, 6) \n",
    "# Linear discriminants\n",
    "head(predictions$x, 3) "
   ]
  }
 ],
 "metadata": {
  "kernelspec": {
   "display_name": "R",
   "language": "R",
   "name": "ir"
  },
  "language_info": {
   "codemirror_mode": "r",
   "file_extension": ".r",
   "mimetype": "text/x-r-source",
   "name": "R",
   "pygments_lexer": "r",
   "version": "3.6.3"
  }
 },
 "nbformat": 4,
 "nbformat_minor": 4
}
