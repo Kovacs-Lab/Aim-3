{
 "cells": [
  {
   "cell_type": "code",
   "execution_count": null,
   "metadata": {},
   "outputs": [],
   "source": [
    "install.packages(\"MASS\")\n",
    "library(\"MASS\")\n",
    "install.packages(\"missMDA\")\n",
    "library(\"missMDA\")\n",
    "install.packages(\"tidyverse\")\n",
    "library(\"tidyverse\")\n",
    "install.packages(\"caret\")\n",
    "library(\"caret\")"
   ]
  },
  {
   "cell_type": "code",
   "execution_count": 3,
   "metadata": {},
   "outputs": [],
   "source": [
    "ionomics <- read.csv('New_ionStats_leafstage_XYZ.csv',colClasses =c(NA,NA,NA,NA,NA,NA,NA,NA,NA,NA,NA,NA,NA,\n",
    "                                                                    NA,NA,NA,NA,NA,NA,NA))\n",
    "ionomics <- imputePCA(ionomics, method = \"Regularized\")"
   ]
  },
  {
   "cell_type": "code",
   "execution_count": 4,
   "metadata": {},
   "outputs": [],
   "source": [
    "# Split the data into training (80%) and test set (20%)\n",
    "set.seed(123)\n",
    "training.samples <- ionomics$completeObs[,2] %>%\n",
    "  createDataPartition(p = 0.8, list = FALSE)\n",
    "train.data <- ionomics$completeObs[training.samples, ]\n",
    "test.data <- ionomics$completeObs[-training.samples, ]\n",
    "train.data <- unlist(test.data)\n",
    "test.data <- unlist(test.data)\n",
    "train.data <- as.data.frame(train.data)\n",
    "test.data <- as.data.frame(test.data)"
   ]
  },
  {
   "cell_type": "code",
   "execution_count": 5,
   "metadata": {},
   "outputs": [
    {
     "data": {
      "text/html": [
       "0.708333333333333"
      ],
      "text/latex": [
       "0.708333333333333"
      ],
      "text/markdown": [
       "0.708333333333333"
      ],
      "text/plain": [
       "[1] 0.7083333"
      ]
     },
     "metadata": {},
     "output_type": "display_data"
    },
    {
     "data": {
      "text/plain": [
       "Call:\n",
       "lda(leaf_stage ~ ., data = train.data)\n",
       "\n",
       "Prior probabilities of groups:\n",
       "        1         2         3 \n",
       "0.3750000 0.3583333 0.2666667 \n",
       "\n",
       "Group means:\n",
       "          B11        Na23        Mg26        Al27        P31        S34\n",
       "1 -0.08181776 -0.01034700 -0.09625995 -0.07151763 0.03159276 0.07036145\n",
       "2 -0.14081044 -0.06052702 -0.04162313 -0.07663815 0.13138746 0.05855851\n",
       "3  0.06135122 -0.04448896  0.25303675  0.40402406 0.02091159 0.18791579\n",
       "          K39       Ca44        Fe54        Mn55        Co59        Ni60\n",
       "1 -0.06115081 -0.1856371 -0.07112096  0.18014038  0.05545256  0.10382352\n",
       "2 -0.03228593 -0.1414462  0.02250076 -0.09200919 -0.04062430  0.08529144\n",
       "3  0.13556761  0.3154704  0.02141986  0.24888098  0.37674262 -0.04348991\n",
       "           Cu63        Zn66        As75       Rb85       Sr88        Mo98\n",
       "1 -0.0082772717 -0.12379191  0.06616653 0.05372112 -0.1367193 -0.12187412\n",
       "2 -0.0002397842 -0.08884673 -0.07738480 0.03395241 -0.0460744  0.09553888\n",
       "3  0.2132365250  0.25089332  0.57552530 0.29937818  0.2232257 -0.19231155\n",
       "        Cd111\n",
       "1  0.07533611\n",
       "2  0.05764898\n",
       "3 -0.02517496\n",
       "\n",
       "Coefficients of linear discriminants:\n",
       "              LD1         LD2\n",
       "B11    0.68559441  0.06487056\n",
       "Na23  -0.04216211  0.24328319\n",
       "Mg26  -0.20204500 -0.26830733\n",
       "Al27   0.47892321 -0.50829768\n",
       "P31    0.08928349 -0.06049348\n",
       "S34   -0.56483604  0.24664811\n",
       "K39    0.38931429 -0.00991291\n",
       "Ca44   1.39481538  0.36587298\n",
       "Fe54  -1.08008315 -0.26462664\n",
       "Mn55  -0.69332776  1.37342645\n",
       "Co59   1.14232942 -1.10666238\n",
       "Ni60  -1.11427581  0.20927456\n",
       "Cu63   0.32673092  0.28885935\n",
       "Zn66   0.70538002 -0.80606851\n",
       "As75   0.49151121  0.91469270\n",
       "Rb85   0.29998309  0.30259455\n",
       "Sr88  -0.58051897 -0.47013789\n",
       "Mo98  -0.42803985 -0.72261848\n",
       "Cd111 -2.14129237  1.24554128\n",
       "\n",
       "Proportion of trace:\n",
       "   LD1    LD2 \n",
       "0.9056 0.0944 "
      ]
     },
     "metadata": {},
     "output_type": "display_data"
    }
   ],
   "source": [
    "# Fit the model\n",
    "model <- lda(leaf_stage~., data = train.data)\n",
    "# Make predictions\n",
    "predictions <- model %>% predict(test.data)\n",
    "# Model accuracy\n",
    "mean(predictions$class==test.data$leaf_stage)\n",
    "model"
   ]
  },
  {
   "cell_type": "code",
   "execution_count": 6,
   "metadata": {},
   "outputs": [
    {
     "data": {
      "image/png": "[encoded data removed]",
      "text/plain": [
       "plot without title"
      ]
     },
     "metadata": {
      "image/png": {
       "height": 420,
       "width": 420
      }
     },
     "output_type": "display_data"
    }
   ],
   "source": [
    "plot(model)"
   ]
  },
  {
   "cell_type": "code",
   "execution_count": 7,
   "metadata": {},
   "outputs": [
    {
     "data": {
      "text/html": [
       "<ol class=list-inline>\n",
       "\t<li>1</li>\n",
       "\t<li>1</li>\n",
       "\t<li>1</li>\n",
       "\t<li>1</li>\n",
       "\t<li>1</li>\n",
       "\t<li>1</li>\n",
       "</ol>\n",
       "\n",
       "<details>\n",
       "\t<summary style=display:list-item;cursor:pointer>\n",
       "\t\t<strong>Levels</strong>:\n",
       "\t</summary>\n",
       "\t<ol class=list-inline>\n",
       "\t\t<li>'1'</li>\n",
       "\t\t<li>'2'</li>\n",
       "\t\t<li>'3'</li>\n",
       "\t</ol>\n",
       "</details>"
      ],
      "text/latex": [
       "\\begin{enumerate*}\n",
       "\\item 1\n",
       "\\item 1\n",
       "\\item 1\n",
       "\\item 1\n",
       "\\item 1\n",
       "\\item 1\n",
       "\\end{enumerate*}\n",
       "\n",
       "\\emph{Levels}: \\begin{enumerate*}\n",
       "\\item '1'\n",
       "\\item '2'\n",
       "\\item '3'\n",
       "\\end{enumerate*}\n"
      ],
      "text/markdown": [
       "1. 1\n",
       "2. 1\n",
       "3. 1\n",
       "4. 1\n",
       "5. 1\n",
       "6. 1\n",
       "\n",
       "\n",
       "\n",
       "**Levels**: 1. '1'\n",
       "2. '2'\n",
       "3. '3'\n",
       "\n",
       "\n"
      ],
      "text/plain": [
       "[1] 1 1 1 1 1 1\n",
       "Levels: 1 2 3"
      ]
     },
     "metadata": {},
     "output_type": "display_data"
    },
    {
     "data": {
      "text/html": [
       "<table>\n",
       "<caption>A matrix: 6 × 3 of type dbl</caption>\n",
       "<thead>\n",
       "\t<tr><th></th><th scope=col>1</th><th scope=col>2</th><th scope=col>3</th></tr>\n",
       "</thead>\n",
       "<tbody>\n",
       "\t<tr><th scope=row>1</th><td>0.5189097</td><td>0.3701478</td><td>0.110942454</td></tr>\n",
       "\t<tr><th scope=row>2</th><td>0.5404215</td><td>0.4522115</td><td>0.007367023</td></tr>\n",
       "\t<tr><th scope=row>3</th><td>0.6036857</td><td>0.3248483</td><td>0.071466010</td></tr>\n",
       "\t<tr><th scope=row>4</th><td>0.5861989</td><td>0.3461346</td><td>0.067666581</td></tr>\n",
       "\t<tr><th scope=row>5</th><td>0.6637769</td><td>0.3000064</td><td>0.036216668</td></tr>\n",
       "\t<tr><th scope=row>6</th><td>0.4439578</td><td>0.4007479</td><td>0.155294256</td></tr>\n",
       "</tbody>\n",
       "</table>\n"
      ],
      "text/latex": [
       "A matrix: 6 × 3 of type dbl\n",
       "\\begin{tabular}{r|lll}\n",
       "  & 1 & 2 & 3\\\\\n",
       "\\hline\n",
       "\t1 & 0.5189097 & 0.3701478 & 0.110942454\\\\\n",
       "\t2 & 0.5404215 & 0.4522115 & 0.007367023\\\\\n",
       "\t3 & 0.6036857 & 0.3248483 & 0.071466010\\\\\n",
       "\t4 & 0.5861989 & 0.3461346 & 0.067666581\\\\\n",
       "\t5 & 0.6637769 & 0.3000064 & 0.036216668\\\\\n",
       "\t6 & 0.4439578 & 0.4007479 & 0.155294256\\\\\n",
       "\\end{tabular}\n"
      ],
      "text/markdown": [
       "\n",
       "A matrix: 6 × 3 of type dbl\n",
       "\n",
       "| <!--/--> | 1 | 2 | 3 |\n",
       "|---|---|---|---|\n",
       "| 1 | 0.5189097 | 0.3701478 | 0.110942454 |\n",
       "| 2 | 0.5404215 | 0.4522115 | 0.007367023 |\n",
       "| 3 | 0.6036857 | 0.3248483 | 0.071466010 |\n",
       "| 4 | 0.5861989 | 0.3461346 | 0.067666581 |\n",
       "| 5 | 0.6637769 | 0.3000064 | 0.036216668 |\n",
       "| 6 | 0.4439578 | 0.4007479 | 0.155294256 |\n",
       "\n"
      ],
      "text/plain": [
       "  1         2         3          \n",
       "1 0.5189097 0.3701478 0.110942454\n",
       "2 0.5404215 0.4522115 0.007367023\n",
       "3 0.6036857 0.3248483 0.071466010\n",
       "4 0.5861989 0.3461346 0.067666581\n",
       "5 0.6637769 0.3000064 0.036216668\n",
       "6 0.4439578 0.4007479 0.155294256"
      ]
     },
     "metadata": {},
     "output_type": "display_data"
    },
    {
     "data": {
      "text/html": [
       "<table>\n",
       "<caption>A matrix: 3 × 2 of type dbl</caption>\n",
       "<thead>\n",
       "\t<tr><th></th><th scope=col>LD1</th><th scope=col>LD2</th></tr>\n",
       "</thead>\n",
       "<tbody>\n",
       "\t<tr><th scope=row>1</th><td>-0.03584283</td><td>0.3270704</td></tr>\n",
       "\t<tr><th scope=row>2</th><td>-1.38030095</td><td>0.3331802</td></tr>\n",
       "\t<tr><th scope=row>3</th><td>-0.24328597</td><td>0.7645269</td></tr>\n",
       "</tbody>\n",
       "</table>\n"
      ],
      "text/latex": [
       "A matrix: 3 × 2 of type dbl\n",
       "\\begin{tabular}{r|ll}\n",
       "  & LD1 & LD2\\\\\n",
       "\\hline\n",
       "\t1 & -0.03584283 & 0.3270704\\\\\n",
       "\t2 & -1.38030095 & 0.3331802\\\\\n",
       "\t3 & -0.24328597 & 0.7645269\\\\\n",
       "\\end{tabular}\n"
      ],
      "text/markdown": [
       "\n",
       "A matrix: 3 × 2 of type dbl\n",
       "\n",
       "| <!--/--> | LD1 | LD2 |\n",
       "|---|---|---|\n",
       "| 1 | -0.03584283 | 0.3270704 |\n",
       "| 2 | -1.38030095 | 0.3331802 |\n",
       "| 3 | -0.24328597 | 0.7645269 |\n",
       "\n"
      ],
      "text/plain": [
       "  LD1         LD2      \n",
       "1 -0.03584283 0.3270704\n",
       "2 -1.38030095 0.3331802\n",
       "3 -0.24328597 0.7645269"
      ]
     },
     "metadata": {},
     "output_type": "display_data"
    }
   ],
   "source": [
    "# Predicted classes\n",
    "head(predictions$class, 6)\n",
    "# Predicted probabilities of class memebership.\n",
    "head(predictions$posterior, 6) \n",
    "# Linear discriminants\n",
    "head(predictions$x, 3) "
   ]
  }
 ],
 "metadata": {
  "kernelspec": {
   "display_name": "R",
   "language": "R",
   "name": "ir"
  },
  "language_info": {
   "codemirror_mode": "r",
   "file_extension": ".r",
   "mimetype": "text/x-r-source",
   "name": "R",
   "pygments_lexer": "r",
   "version": "3.6.1"
  }
 },
 "nbformat": 4,
 "nbformat_minor": 4
}
