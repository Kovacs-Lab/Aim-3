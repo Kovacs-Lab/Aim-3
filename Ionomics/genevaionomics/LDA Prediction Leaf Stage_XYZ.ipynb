{
 "cells": [
  {
   "cell_type": "code",
   "execution_count": 1,
   "metadata": {},
   "outputs": [
    {
     "name": "stderr",
     "output_type": "stream",
     "text": [
      "Installing package into 'C:/Users/2198K/Documents/R/win-library/3.6'\n",
      "(as 'lib' is unspecified)\n",
      "\n"
     ]
    },
    {
     "name": "stdout",
     "output_type": "stream",
     "text": [
      "package 'MASS' successfully unpacked and MD5 sums checked\n",
      "\n",
      "The downloaded binary packages are in\n",
      "\tC:\\Users\\2198K\\AppData\\Local\\Temp\\RtmpUN4vMK\\downloaded_packages\n"
     ]
    },
    {
     "name": "stderr",
     "output_type": "stream",
     "text": [
      "Warning message:\n",
      "\"package 'MASS' was built under R version 3.6.2\"\n",
      "Installing package into 'C:/Users/2198K/Documents/R/win-library/3.6'\n",
      "(as 'lib' is unspecified)\n",
      "\n"
     ]
    },
    {
     "name": "stdout",
     "output_type": "stream",
     "text": [
      "package 'missMDA' successfully unpacked and MD5 sums checked\n",
      "\n",
      "The downloaded binary packages are in\n",
      "\tC:\\Users\\2198K\\AppData\\Local\\Temp\\RtmpUN4vMK\\downloaded_packages\n"
     ]
    },
    {
     "name": "stderr",
     "output_type": "stream",
     "text": [
      "Warning message:\n",
      "\"package 'missMDA' was built under R version 3.6.2\"\n",
      "Installing package into 'C:/Users/2198K/Documents/R/win-library/3.6'\n",
      "(as 'lib' is unspecified)\n",
      "\n"
     ]
    },
    {
     "name": "stdout",
     "output_type": "stream",
     "text": [
      "package 'tidyverse' successfully unpacked and MD5 sums checked\n",
      "\n",
      "The downloaded binary packages are in\n",
      "\tC:\\Users\\2198K\\AppData\\Local\\Temp\\RtmpUN4vMK\\downloaded_packages\n"
     ]
    },
    {
     "name": "stderr",
     "output_type": "stream",
     "text": [
      "Warning message:\n",
      "\"package 'tidyverse' was built under R version 3.6.2\"\n",
      "-- \u001b[1mAttaching packages\u001b[22m --------------------------------------- tidyverse 1.3.0 --\n",
      "\n",
      "\u001b[32mv\u001b[39m \u001b[34mggplot2\u001b[39m 3.2.1     \u001b[32mv\u001b[39m \u001b[34mpurrr  \u001b[39m 0.3.3\n",
      "\u001b[32mv\u001b[39m \u001b[34mtibble \u001b[39m 2.1.3     \u001b[32mv\u001b[39m \u001b[34mdplyr  \u001b[39m 0.8.4\n",
      "\u001b[32mv\u001b[39m \u001b[34mtidyr  \u001b[39m 1.0.2     \u001b[32mv\u001b[39m \u001b[34mstringr\u001b[39m 1.4.0\n",
      "\u001b[32mv\u001b[39m \u001b[34mreadr  \u001b[39m 1.3.1     \u001b[32mv\u001b[39m \u001b[34mforcats\u001b[39m 0.4.0\n",
      "\n",
      "Warning message:\n",
      "\"package 'tidyr' was built under R version 3.6.2\"\n",
      "Warning message:\n",
      "\"package 'readr' was built under R version 3.6.2\"\n",
      "Warning message:\n",
      "\"package 'dplyr' was built under R version 3.6.2\"\n",
      "Warning message:\n",
      "\"package 'forcats' was built under R version 3.6.2\"\n",
      "-- \u001b[1mConflicts\u001b[22m ------------------------------------------ tidyverse_conflicts() --\n",
      "\u001b[31mx\u001b[39m \u001b[34mdplyr\u001b[39m::\u001b[32mfilter()\u001b[39m masks \u001b[34mstats\u001b[39m::filter()\n",
      "\u001b[31mx\u001b[39m \u001b[34mdplyr\u001b[39m::\u001b[32mlag()\u001b[39m    masks \u001b[34mstats\u001b[39m::lag()\n",
      "\u001b[31mx\u001b[39m \u001b[34mdplyr\u001b[39m::\u001b[32mselect()\u001b[39m masks \u001b[34mMASS\u001b[39m::select()\n",
      "\n",
      "Installing package into 'C:/Users/2198K/Documents/R/win-library/3.6'\n",
      "(as 'lib' is unspecified)\n",
      "\n"
     ]
    },
    {
     "name": "stdout",
     "output_type": "stream",
     "text": [
      "package 'caret' successfully unpacked and MD5 sums checked\n",
      "\n",
      "The downloaded binary packages are in\n",
      "\tC:\\Users\\2198K\\AppData\\Local\\Temp\\RtmpUN4vMK\\downloaded_packages\n"
     ]
    },
    {
     "name": "stderr",
     "output_type": "stream",
     "text": [
      "Warning message:\n",
      "\"package 'caret' was built under R version 3.6.2\"\n",
      "Loading required package: lattice\n",
      "\n",
      "\n",
      "Attaching package: 'caret'\n",
      "\n",
      "\n",
      "The following object is masked from 'package:purrr':\n",
      "\n",
      "    lift\n",
      "\n",
      "\n"
     ]
    }
   ],
   "source": [
    "install.packages(\"MASS\")\n",
    "library(\"MASS\")\n",
    "install.packages(\"missMDA\")\n",
    "library(\"missMDA\")\n",
    "install.packages(\"tidyverse\")\n",
    "library(\"tidyverse\")\n",
    "install.packages(\"caret\")\n",
    "library(\"caret\")"
   ]
  },
  {
   "cell_type": "code",
   "execution_count": 2,
   "metadata": {},
   "outputs": [],
   "source": [
    "ionomics <- read.csv('Transformed_ionStats_leafstage_XYZ.csv',colClasses =c(NA,NA,NA,NA,NA,NA,NA,NA,NA,NA,NA,NA,NA,\n",
    "                                                                    NA,NA,NA,NA,NA,NA,NA))\n",
    "ionomics <- imputePCA(ionomics, method = \"Regularized\")"
   ]
  },
  {
   "cell_type": "code",
   "execution_count": 3,
   "metadata": {},
   "outputs": [],
   "source": [
    "# Split the data into training (80%) and test set (20%)\n",
    "set.seed(123)\n",
    "training.samples <- ionomics$completeObs[,2] %>%\n",
    "  createDataPartition(p = 0.8, list = FALSE)\n",
    "train.data <- ionomics$completeObs[training.samples, ]\n",
    "test.data <- ionomics$completeObs[-training.samples, ]\n",
    "train.data <- unlist(test.data)\n",
    "test.data <- unlist(test.data)\n",
    "train.data <- as.data.frame(train.data)\n",
    "test.data <- as.data.frame(test.data)"
   ]
  },
  {
   "cell_type": "code",
   "execution_count": 4,
   "metadata": {},
   "outputs": [
    {
     "data": {
      "text/html": [
       "0.583333333333333"
      ],
      "text/latex": [
       "0.583333333333333"
      ],
      "text/markdown": [
       "0.583333333333333"
      ],
      "text/plain": [
       "[1] 0.5833333"
      ]
     },
     "metadata": {},
     "output_type": "display_data"
    },
    {
     "data": {
      "text/plain": [
       "Call:\n",
       "lda(leaf_stage ~ ., data = train.data)\n",
       "\n",
       "Prior probabilities of groups:\n",
       "   1    2    3 \n",
       "0.35 0.40 0.25 \n",
       "\n",
       "Group means:\n",
       "          B11       Na23          Mg26       Al27        P31           S34\n",
       "1  0.05060135 0.20083233 -0.0002009285 -0.1240311 -0.1733459 -0.2316304996\n",
       "2 -0.13611723 0.01761033  0.1543405478 -0.1037208  0.2582389 -0.0820835837\n",
       "3 -0.17209017 0.07174370  0.0953553143  0.2135610  0.1300769  0.0001524108\n",
       "         K39        Ca44       Fe54        Mn55        Co59        Ni60\n",
       "1 -0.1642376 -0.12025810 -0.1757699  0.02483264  0.05501121  0.06790590\n",
       "2  0.1682897 -0.17724525 -0.0104825 -0.02920705 -0.02840929  0.07810392\n",
       "3 -0.1096391 -0.06454871  0.2841625 -0.12583495 -0.09430467 -0.10653439\n",
       "          Cu63         Zn66        As75       Rb85        Sr88        Mo98\n",
       "1 -0.001413502 -0.101711924 -0.10933563 0.19562261  0.01566258 -0.11769164\n",
       "2  0.229121632 -0.086523985 -0.06103281 0.07067994 -0.12318861  0.05216818\n",
       "3 -0.113310635 -0.007557171  0.23525197 0.01040958  0.08023727  0.38357543\n",
       "        Cd111\n",
       "1  0.01663265\n",
       "2  0.31656671\n",
       "3 -0.08442104\n",
       "\n",
       "Coefficients of linear discriminants:\n",
       "              LD1         LD2\n",
       "B11   -0.07959325  0.25719228\n",
       "Na23  -0.26955776  0.47188473\n",
       "Mg26  -0.01814697 -0.14712294\n",
       "Al27   0.78279791 -0.14242735\n",
       "P31    0.50231150 -0.61178330\n",
       "S34    0.07846510 -0.12257719\n",
       "K39    0.02623880 -0.32840387\n",
       "Ca44  -0.12861986  0.35165370\n",
       "Fe54   0.27257312 -0.10748012\n",
       "Mn55   0.31419548 -0.29982279\n",
       "Co59  -1.01404729  0.27037955\n",
       "Ni60  -0.14181292  0.04469867\n",
       "Cu63  -0.47869241 -0.25376527\n",
       "Zn66   0.08450022  0.55664427\n",
       "As75   1.13777407  0.13136486\n",
       "Rb85  -0.17466668  0.36982826\n",
       "Sr88   0.14186129  0.07153408\n",
       "Mo98   0.51101476  0.24939886\n",
       "Cd111 -0.22663343 -0.65466176\n",
       "\n",
       "Proportion of trace:\n",
       "   LD1    LD2 \n",
       "0.7002 0.2998 "
      ]
     },
     "metadata": {},
     "output_type": "display_data"
    }
   ],
   "source": [
    "# Fit the model\n",
    "model <- lda(leaf_stage~., data = train.data)\n",
    "# Make predictions\n",
    "predictions <- model %>% predict(test.data)\n",
    "# Model accuracy\n",
    "mean(predictions$class==test.data$leaf_stage)\n",
    "model"
   ]
  },
  {
   "cell_type": "code",
   "execution_count": 5,
   "metadata": {},
   "outputs": [
    {
     "data": {
      "image/png": "[encoded data removed]",
      "text/plain": [
       "plot without title"
      ]
     },
     "metadata": {
      "image/png": {
       "height": 420,
       "width": 420
      }
     },
     "output_type": "display_data"
    }
   ],
   "source": [
    "plot(model)"
   ]
  },
  {
   "cell_type": "code",
   "execution_count": 6,
   "metadata": {},
   "outputs": [
    {
     "data": {
      "text/html": [
       "<ol class=list-inline>\n",
       "\t<li>1</li>\n",
       "\t<li>2</li>\n",
       "\t<li>2</li>\n",
       "\t<li>1</li>\n",
       "\t<li>1</li>\n",
       "\t<li>1</li>\n",
       "</ol>\n",
       "\n",
       "<details>\n",
       "\t<summary style=display:list-item;cursor:pointer>\n",
       "\t\t<strong>Levels</strong>:\n",
       "\t</summary>\n",
       "\t<ol class=list-inline>\n",
       "\t\t<li>'1'</li>\n",
       "\t\t<li>'2'</li>\n",
       "\t\t<li>'3'</li>\n",
       "\t</ol>\n",
       "</details>"
      ],
      "text/latex": [
       "\\begin{enumerate*}\n",
       "\\item 1\n",
       "\\item 2\n",
       "\\item 2\n",
       "\\item 1\n",
       "\\item 1\n",
       "\\item 1\n",
       "\\end{enumerate*}\n",
       "\n",
       "\\emph{Levels}: \\begin{enumerate*}\n",
       "\\item '1'\n",
       "\\item '2'\n",
       "\\item '3'\n",
       "\\end{enumerate*}\n"
      ],
      "text/markdown": [
       "1. 1\n",
       "2. 2\n",
       "3. 2\n",
       "4. 1\n",
       "5. 1\n",
       "6. 1\n",
       "\n",
       "\n",
       "\n",
       "**Levels**: 1. '1'\n",
       "2. '2'\n",
       "3. '3'\n",
       "\n",
       "\n"
      ],
      "text/plain": [
       "[1] 1 2 2 1 1 1\n",
       "Levels: 1 2 3"
      ]
     },
     "metadata": {},
     "output_type": "display_data"
    },
    {
     "data": {
      "text/html": [
       "<table>\n",
       "<caption>A matrix: 6 × 3 of type dbl</caption>\n",
       "<thead>\n",
       "\t<tr><th></th><th scope=col>1</th><th scope=col>2</th><th scope=col>3</th></tr>\n",
       "</thead>\n",
       "<tbody>\n",
       "\t<tr><th scope=row>1</th><td>0.6166801</td><td>0.2973571</td><td>0.08596283</td></tr>\n",
       "\t<tr><th scope=row>2</th><td>0.2349174</td><td>0.5812647</td><td>0.18381790</td></tr>\n",
       "\t<tr><th scope=row>3</th><td>0.3142954</td><td>0.5419007</td><td>0.14380386</td></tr>\n",
       "\t<tr><th scope=row>4</th><td>0.5882180</td><td>0.3175627</td><td>0.09421928</td></tr>\n",
       "\t<tr><th scope=row>5</th><td>0.5380031</td><td>0.2991549</td><td>0.16284206</td></tr>\n",
       "\t<tr><th scope=row>6</th><td>0.5461939</td><td>0.3458757</td><td>0.10793032</td></tr>\n",
       "</tbody>\n",
       "</table>\n"
      ],
      "text/latex": [
       "A matrix: 6 × 3 of type dbl\n",
       "\\begin{tabular}{r|lll}\n",
       "  & 1 & 2 & 3\\\\\n",
       "\\hline\n",
       "\t1 & 0.6166801 & 0.2973571 & 0.08596283\\\\\n",
       "\t2 & 0.2349174 & 0.5812647 & 0.18381790\\\\\n",
       "\t3 & 0.3142954 & 0.5419007 & 0.14380386\\\\\n",
       "\t4 & 0.5882180 & 0.3175627 & 0.09421928\\\\\n",
       "\t5 & 0.5380031 & 0.2991549 & 0.16284206\\\\\n",
       "\t6 & 0.5461939 & 0.3458757 & 0.10793032\\\\\n",
       "\\end{tabular}\n"
      ],
      "text/markdown": [
       "\n",
       "A matrix: 6 × 3 of type dbl\n",
       "\n",
       "| <!--/--> | 1 | 2 | 3 |\n",
       "|---|---|---|---|\n",
       "| 1 | 0.6166801 | 0.2973571 | 0.08596283 |\n",
       "| 2 | 0.2349174 | 0.5812647 | 0.18381790 |\n",
       "| 3 | 0.3142954 | 0.5419007 | 0.14380386 |\n",
       "| 4 | 0.5882180 | 0.3175627 | 0.09421928 |\n",
       "| 5 | 0.5380031 | 0.2991549 | 0.16284206 |\n",
       "| 6 | 0.5461939 | 0.3458757 | 0.10793032 |\n",
       "\n"
      ],
      "text/plain": [
       "  1         2         3         \n",
       "1 0.6166801 0.2973571 0.08596283\n",
       "2 0.2349174 0.5812647 0.18381790\n",
       "3 0.3142954 0.5419007 0.14380386\n",
       "4 0.5882180 0.3175627 0.09421928\n",
       "5 0.5380031 0.2991549 0.16284206\n",
       "6 0.5461939 0.3458757 0.10793032"
      ]
     },
     "metadata": {},
     "output_type": "display_data"
    },
    {
     "data": {
      "text/html": [
       "<table>\n",
       "<caption>A matrix: 3 × 2 of type dbl</caption>\n",
       "<thead>\n",
       "\t<tr><th></th><th scope=col>LD1</th><th scope=col>LD2</th></tr>\n",
       "</thead>\n",
       "<tbody>\n",
       "\t<tr><th scope=row>1</th><td>-0.8070166</td><td> 0.7578413</td></tr>\n",
       "\t<tr><th scope=row>2</th><td> 0.1491968</td><td>-0.7175402</td></tr>\n",
       "\t<tr><th scope=row>3</th><td>-0.1717105</td><td>-0.4433280</td></tr>\n",
       "</tbody>\n",
       "</table>\n"
      ],
      "text/latex": [
       "A matrix: 3 × 2 of type dbl\n",
       "\\begin{tabular}{r|ll}\n",
       "  & LD1 & LD2\\\\\n",
       "\\hline\n",
       "\t1 & -0.8070166 &  0.7578413\\\\\n",
       "\t2 &  0.1491968 & -0.7175402\\\\\n",
       "\t3 & -0.1717105 & -0.4433280\\\\\n",
       "\\end{tabular}\n"
      ],
      "text/markdown": [
       "\n",
       "A matrix: 3 × 2 of type dbl\n",
       "\n",
       "| <!--/--> | LD1 | LD2 |\n",
       "|---|---|---|\n",
       "| 1 | -0.8070166 |  0.7578413 |\n",
       "| 2 |  0.1491968 | -0.7175402 |\n",
       "| 3 | -0.1717105 | -0.4433280 |\n",
       "\n"
      ],
      "text/plain": [
       "  LD1        LD2       \n",
       "1 -0.8070166  0.7578413\n",
       "2  0.1491968 -0.7175402\n",
       "3 -0.1717105 -0.4433280"
      ]
     },
     "metadata": {},
     "output_type": "display_data"
    }
   ],
   "source": [
    "# Predicted classes\n",
    "head(predictions$class, 6)\n",
    "# Predicted probabilities of class memebership.\n",
    "head(predictions$posterior, 6) \n",
    "# Linear discriminants\n",
    "head(predictions$x, 3) "
   ]
  }
 ],
 "metadata": {
  "kernelspec": {
   "display_name": "R",
   "language": "R",
   "name": "ir"
  },
  "language_info": {
   "codemirror_mode": "r",
   "file_extension": ".r",
   "mimetype": "text/x-r-source",
   "name": "R",
   "pygments_lexer": "r",
   "version": "3.6.1"
  }
 },
 "nbformat": 4,
 "nbformat_minor": 4
}
