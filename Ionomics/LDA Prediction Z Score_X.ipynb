{
 "cells": [
  {
   "cell_type": "code",
   "execution_count": 2,
   "metadata": {},
   "outputs": [
    {
     "name": "stderr",
     "output_type": "stream",
     "text": [
      "Installing package into 'C:/Users/2198K/Documents/R/win-library/3.6'\n",
      "(as 'lib' is unspecified)\n",
      "\n"
     ]
    },
    {
     "name": "stdout",
     "output_type": "stream",
     "text": [
      "package 'MASS' successfully unpacked and MD5 sums checked\n"
     ]
    },
    {
     "name": "stderr",
     "output_type": "stream",
     "text": [
      "Warning message:\n",
      "\"cannot remove prior installation of package 'MASS'\"\n",
      "Warning message in file.copy(savedcopy, lib, recursive = TRUE):\n",
      "\"problem copying C:\\Users\\2198K\\Documents\\R\\win-library\\3.6\\00LOCK\\MASS\\libs\\x64\\MASS.dll to C:\\Users\\2198K\\Documents\\R\\win-library\\3.6\\MASS\\libs\\x64\\MASS.dll: Permission denied\"\n",
      "Warning message:\n",
      "\"restored 'MASS'\"\n"
     ]
    },
    {
     "name": "stdout",
     "output_type": "stream",
     "text": [
      "\n",
      "The downloaded binary packages are in\n",
      "\tC:\\Users\\2198K\\AppData\\Local\\Temp\\RtmpyIW3Gp\\downloaded_packages\n"
     ]
    },
    {
     "name": "stderr",
     "output_type": "stream",
     "text": [
      "Installing package into 'C:/Users/2198K/Documents/R/win-library/3.6'\n",
      "(as 'lib' is unspecified)\n",
      "\n"
     ]
    },
    {
     "name": "stdout",
     "output_type": "stream",
     "text": [
      "package 'missMDA' successfully unpacked and MD5 sums checked\n",
      "\n",
      "The downloaded binary packages are in\n",
      "\tC:\\Users\\2198K\\AppData\\Local\\Temp\\RtmpyIW3Gp\\downloaded_packages\n"
     ]
    },
    {
     "name": "stderr",
     "output_type": "stream",
     "text": [
      "Installing package into 'C:/Users/2198K/Documents/R/win-library/3.6'\n",
      "(as 'lib' is unspecified)\n",
      "\n"
     ]
    },
    {
     "name": "stdout",
     "output_type": "stream",
     "text": [
      "package 'tidyverse' successfully unpacked and MD5 sums checked\n",
      "\n",
      "The downloaded binary packages are in\n",
      "\tC:\\Users\\2198K\\AppData\\Local\\Temp\\RtmpyIW3Gp\\downloaded_packages\n"
     ]
    },
    {
     "name": "stderr",
     "output_type": "stream",
     "text": [
      "-- \u001b[1mAttaching packages\u001b[22m --------------------------------------- tidyverse 1.3.0 --\n",
      "\n",
      "\u001b[32mv\u001b[39m \u001b[34mggplot2\u001b[39m 3.2.1     \u001b[32mv\u001b[39m \u001b[34mpurrr  \u001b[39m 0.3.3\n",
      "\u001b[32mv\u001b[39m \u001b[34mtibble \u001b[39m 2.1.3     \u001b[32mv\u001b[39m \u001b[34mdplyr  \u001b[39m 0.8.4\n",
      "\u001b[32mv\u001b[39m \u001b[34mtidyr  \u001b[39m 1.0.2     \u001b[32mv\u001b[39m \u001b[34mstringr\u001b[39m 1.4.0\n",
      "\u001b[32mv\u001b[39m \u001b[34mreadr  \u001b[39m 1.3.1     \u001b[32mv\u001b[39m \u001b[34mforcats\u001b[39m 0.4.0\n",
      "\n",
      "-- \u001b[1mConflicts\u001b[22m ------------------------------------------ tidyverse_conflicts() --\n",
      "\u001b[31mx\u001b[39m \u001b[34mdplyr\u001b[39m::\u001b[32mfilter()\u001b[39m masks \u001b[34mstats\u001b[39m::filter()\n",
      "\u001b[31mx\u001b[39m \u001b[34mdplyr\u001b[39m::\u001b[32mlag()\u001b[39m    masks \u001b[34mstats\u001b[39m::lag()\n",
      "\u001b[31mx\u001b[39m \u001b[34mdplyr\u001b[39m::\u001b[32mselect()\u001b[39m masks \u001b[34mMASS\u001b[39m::select()\n",
      "\n",
      "Installing package into 'C:/Users/2198K/Documents/R/win-library/3.6'\n",
      "(as 'lib' is unspecified)\n",
      "\n"
     ]
    },
    {
     "name": "stdout",
     "output_type": "stream",
     "text": [
      "package 'caret' successfully unpacked and MD5 sums checked\n"
     ]
    },
    {
     "name": "stderr",
     "output_type": "stream",
     "text": [
      "Warning message:\n",
      "\"cannot remove prior installation of package 'caret'\"\n",
      "Warning message in file.copy(savedcopy, lib, recursive = TRUE):\n",
      "\"problem copying C:\\Users\\2198K\\Documents\\R\\win-library\\3.6\\00LOCK\\caret\\libs\\x64\\caret.dll to C:\\Users\\2198K\\Documents\\R\\win-library\\3.6\\caret\\libs\\x64\\caret.dll: Permission denied\"\n",
      "Warning message:\n",
      "\"restored 'caret'\"\n"
     ]
    },
    {
     "name": "stdout",
     "output_type": "stream",
     "text": [
      "\n",
      "The downloaded binary packages are in\n",
      "\tC:\\Users\\2198K\\AppData\\Local\\Temp\\RtmpyIW3Gp\\downloaded_packages\n"
     ]
    },
    {
     "name": "stderr",
     "output_type": "stream",
     "text": [
      "Loading required package: lattice\n",
      "\n",
      "\n",
      "Attaching package: 'caret'\n",
      "\n",
      "\n",
      "The following object is masked from 'package:purrr':\n",
      "\n",
      "    lift\n",
      "\n",
      "\n"
     ]
    }
   ],
   "source": [
    "install.packages(\"MASS\")\n",
    "library(\"MASS\")\n",
    "install.packages(\"missMDA\")\n",
    "library(\"missMDA\")\n",
    "install.packages(\"tidyverse\")\n",
    "library(\"tidyverse\")\n",
    "install.packages(\"caret\")\n",
    "library(\"caret\")"
   ]
  },
  {
   "cell_type": "code",
   "execution_count": 3,
   "metadata": {},
   "outputs": [],
   "source": [
    "ionomics <- read.csv('New_ionStats_X.csv',colClasses =c(\"NULL\",\"NULL\",NA,NA,NA,NA,NA,NA,NA,NA,NA,NA,NA,NA,NA,\n",
    "                                                                    NA,NA,NA,NA,NA,NA,NA))\n",
    "ionomics <- imputePCA(ionomics, method = \"Regularized\")"
   ]
  },
  {
   "cell_type": "code",
   "execution_count": 4,
   "metadata": {},
   "outputs": [],
   "source": [
    "# Split the data into training (80%) and test set (20%)\n",
    "set.seed(123)\n",
    "training.samples <- ionomics$completeObs[,2] %>%\n",
    "  createDataPartition(p = 0.8, list = FALSE)\n",
    "train.data <- ionomics$completeObs[training.samples, ]\n",
    "test.data <- ionomics$completeObs[-training.samples, ]\n",
    "train.data <- unlist(test.data)\n",
    "test.data <- unlist(test.data)\n",
    "train.data <- as.data.frame(train.data)\n",
    "test.data <- as.data.frame(test.data)"
   ]
  },
  {
   "cell_type": "code",
   "execution_count": 5,
   "metadata": {},
   "outputs": [
    {
     "data": {
      "text/html": [
       "0.98780487804878"
      ],
      "text/latex": [
       "0.98780487804878"
      ],
      "text/markdown": [
       "0.98780487804878"
      ],
      "text/plain": [
       "[1] 0.9878049"
      ]
     },
     "metadata": {},
     "output_type": "display_data"
    },
    {
     "data": {
      "text/plain": [
       "Call:\n",
       "lda(Spec_int ~ ., data = train.data)\n",
       "\n",
       "Prior probabilities of groups:\n",
       "         1          2          3          4          5          6          7 \n",
       "0.03658537 0.01219512 0.12195122 0.04878049 0.02439024 0.14634146 0.02439024 \n",
       "         8          9 \n",
       "0.01219512 0.57317073 \n",
       "\n",
       "Group means:\n",
       "          B11       Na23       Mg26         Al27        P31        S34\n",
       "1  0.39389008  0.2208170 -0.9656573 -0.037456674  0.7006302 0.05117618\n",
       "2  0.43783218  1.8457756 -0.6793465  0.006846828  0.8580099 0.05290044\n",
       "3  0.12800638  0.7994104 -0.3263909  0.026779521  1.0956113 0.05480008\n",
       "4  0.38194439  1.7181891 -0.2595581 -0.018952241  0.9879687 0.05230165\n",
       "5  0.73137230  1.5282700 -0.1880804 -0.012101003  1.4223461 0.05119243\n",
       "6  0.44563241  0.7081947 -0.7391384 -0.018519482  1.0757576 0.05440924\n",
       "7  0.46349102  1.0969997 -0.5079941 -0.056669016  1.5628422 0.05261174\n",
       "8  0.07152919 -0.1250189 -0.8107084  0.032540310  1.3454869 0.05204405\n",
       "9 -0.34241572 -0.6686841  0.6214751 -0.088495793 -0.8276988 0.04551792\n",
       "         K39       Ca44        Fe54        Mn55        Co59        Ni60\n",
       "1  1.1883380 -1.0912906 -0.06794905  0.34556846 -0.39436900 -0.07662264\n",
       "2  0.7242742 -0.9036006  0.16119912  0.56819922 -0.24723685  0.21482043\n",
       "3  0.8774280 -0.2271427  0.46378550  2.15173906  0.84031987  1.12170351\n",
       "4  1.0447683 -1.0064738  0.11543018  0.19237617 -0.50227194  0.12051912\n",
       "5  0.4047343 -0.5352572  0.28208284  2.74310648  2.27127683  2.49276683\n",
       "6  0.7204541 -0.7367457  0.29338099  0.75965688 -0.01406125 -0.10524731\n",
       "7  1.1034633 -1.0790243  0.05341579  0.03914624 -0.66925307 -0.18223818\n",
       "8  0.2666777 -0.8450763  0.62114870  1.74983728  0.87748694  0.07484825\n",
       "9 -0.8333346  0.8107397 -0.25085553 -0.72684664 -0.14691802 -0.10244780\n",
       "        Cu63       Zn66       As75        Rb85        Sr88       Mo98\n",
       "1 -0.0175931  0.4680636 0.04748074  1.55421730 -0.98543433 -0.0144454\n",
       "2  0.8062584  0.7577752 0.07944673 -0.55410784 -0.85633248 -0.5816097\n",
       "3  2.2631501  1.0182848 0.06923776  0.42847085  0.06707915  2.5617286\n",
       "4  1.4127702  0.5594118 0.06101164 -0.33534991 -0.84889320  0.6247482\n",
       "5  0.6656134  0.6290358 0.07222640 -0.43092778 -0.08422321 -0.4149161\n",
       "6  0.2135719  0.5552271 0.05737398  0.45683388 -0.48705589  0.2611066\n",
       "7  1.1679923  0.3365264 0.05206600  0.08317611 -1.01844552  0.2410577\n",
       "8  1.8947140  0.7707935 0.07064107 -0.53029966 -1.06977153  1.6132309\n",
       "9 -0.7047225 -0.6455411 0.03775495  0.08945511  0.68803379 -0.3071004\n",
       "          Cd111\n",
       "1  0.0641031413\n",
       "2  0.2307692620\n",
       "3  0.1176564145\n",
       "4  0.0725855172\n",
       "5  0.2378248500\n",
       "6  0.0626097105\n",
       "7  0.1582074835\n",
       "8  0.2076069270\n",
       "9 -0.0004217387\n",
       "\n",
       "Coefficients of linear discriminants:\n",
       "               LD1         LD2          LD3         LD4         LD5\n",
       "B11    -0.84298325   1.7023734   2.00401885   0.4827977   0.4727191\n",
       "Na23   -0.03629476  -0.4072970  -1.77297278  -1.9845246   0.4571171\n",
       "Mg26    0.17641999  -0.7709931  -0.51957406   0.2292802  -0.1781461\n",
       "Al27   -1.16230776 -10.2340115  -5.64354780 -13.5388806  12.8534444\n",
       "P31    -0.21313792   3.4037676   2.39426433   0.9057918  -1.2955924\n",
       "S34   -52.90701453  17.6451783 -66.08084384 185.9618119  31.3428866\n",
       "K39    -0.73394769  -1.4830152  -1.31461152  -0.6170987   2.2707627\n",
       "Ca44    1.38327073  -0.5797070   0.03722823   0.5451306   0.6346731\n",
       "Fe54   -0.30825061   1.4263213  -1.86600643   3.3446895  -2.7274925\n",
       "Mn55   -0.51789102  -0.8454033   0.91402207   0.1285132   0.2821313\n",
       "Co59   -0.11935051   0.8872692   1.69120374  -0.6923988   0.3428294\n",
       "Ni60    0.16118838  -0.8229964   0.62584060  -0.9609019   0.7858015\n",
       "Cu63    0.20165937  -1.5451016  -1.56237129  -0.2356115  -0.4218230\n",
       "Zn66   -1.99251508   0.4519988  -0.52110518  -0.1257979   0.7131965\n",
       "As75   -2.15574896   2.2427512  -6.34057698  11.8922952 -10.0502987\n",
       "Rb85    0.25180830   0.3478914   0.21446787   0.3008596   0.1635652\n",
       "Sr88   -1.08197621   0.6407357   0.21164187  -0.9803924   0.2681430\n",
       "Mo98   -0.15787902  -0.8007741   1.06054488   1.1344468  -0.3002152\n",
       "Cd111  -4.17764795  -5.7486814  -1.08933186  -6.8959984 -17.6446906\n",
       "                LD6           LD7           LD8\n",
       "B11     0.141925085    1.00227181   0.561204705\n",
       "Na23    0.515992508   -0.37817238  -0.348105450\n",
       "Mg26    0.044362418   -0.00547317   0.597090652\n",
       "Al27   -5.875804468    3.12367314  12.863109569\n",
       "P31     1.197275609    2.49897410  -0.547634426\n",
       "S34    64.311638472 -199.58204736 -83.456396616\n",
       "K39    -2.604387532    0.14095980  -0.004455171\n",
       "Ca44   -1.711563415   -0.17498403  -0.926776068\n",
       "Fe54    1.602719525   -1.39343844  -1.356369740\n",
       "Mn55   -0.779208670   -0.49716674   0.132631357\n",
       "Co59    0.356963678    0.53533510   0.961792645\n",
       "Ni60    0.795272598    0.47029782  -0.632334542\n",
       "Cu63    0.411732654    0.51744860   0.120993959\n",
       "Zn66    0.780662131   -2.64221598   0.408249501\n",
       "As75   -3.792671872    0.79721457  -2.824389591\n",
       "Rb85   -0.471433248    0.24616993  -0.338876353\n",
       "Sr88    0.735625272   -0.10582477  -0.507053047\n",
       "Mo98    0.001087171    0.50533197   0.007906637\n",
       "Cd111 -20.046231763   -9.60686890  -5.732412012\n",
       "\n",
       "Proportion of trace:\n",
       "   LD1    LD2    LD3    LD4    LD5    LD6    LD7    LD8 \n",
       "0.5952 0.1715 0.1082 0.0745 0.0268 0.0138 0.0079 0.0020 "
      ]
     },
     "metadata": {},
     "output_type": "display_data"
    }
   ],
   "source": [
    "# Fit the model\n",
    "model <- lda(Spec_int~., data = train.data)\n",
    "# Make predictions\n",
    "predictions <- model %>% predict(test.data)\n",
    "# Model accuracy\n",
    "mean(predictions$class==test.data$Spec_int)\n",
    "model"
   ]
  },
  {
   "cell_type": "code",
   "execution_count": 6,
   "metadata": {},
   "outputs": [
    {
     "data": {
      "image/png": "[encoded data removed]",
      "text/plain": [
       "plot without title"
      ]
     },
     "metadata": {
      "image/png": {
       "height": 420,
       "width": 420
      },
      "text/plain": {
       "height": 420,
       "width": 420
      }
     },
     "output_type": "display_data"
    }
   ],
   "source": [
    "plot(model)"
   ]
  },
  {
   "cell_type": "code",
   "execution_count": 7,
   "metadata": {},
   "outputs": [
    {
     "data": {
      "text/html": [
       "<style>\n",
       ".list-inline {list-style: none; margin:0; padding: 0}\n",
       ".list-inline>li {display: inline-block}\n",
       ".list-inline>li:not(:last-child)::after {content: \"\\00b7\"; padding: 0 .5ex}\n",
       "</style>\n",
       "<ol class=list-inline><li>1</li><li>1</li><li>1</li><li>2</li><li>3</li><li>3</li></ol>\n",
       "\n",
       "<details>\n",
       "\t<summary style=display:list-item;cursor:pointer>\n",
       "\t\t<strong>Levels</strong>:\n",
       "\t</summary>\n",
       "\t<style>\n",
       "\t.list-inline {list-style: none; margin:0; padding: 0}\n",
       "\t.list-inline>li {display: inline-block}\n",
       "\t.list-inline>li:not(:last-child)::after {content: \"\\00b7\"; padding: 0 .5ex}\n",
       "\t</style>\n",
       "\t<ol class=list-inline><li>'1'</li><li>'2'</li><li>'3'</li><li>'4'</li><li>'5'</li><li>'6'</li><li>'7'</li><li>'8'</li><li>'9'</li></ol>\n",
       "</details>"
      ],
      "text/latex": [
       "\\begin{enumerate*}\n",
       "\\item 1\n",
       "\\item 1\n",
       "\\item 1\n",
       "\\item 2\n",
       "\\item 3\n",
       "\\item 3\n",
       "\\end{enumerate*}\n",
       "\n",
       "\\emph{Levels}: \\begin{enumerate*}\n",
       "\\item '1'\n",
       "\\item '2'\n",
       "\\item '3'\n",
       "\\item '4'\n",
       "\\item '5'\n",
       "\\item '6'\n",
       "\\item '7'\n",
       "\\item '8'\n",
       "\\item '9'\n",
       "\\end{enumerate*}\n"
      ],
      "text/markdown": [
       "1. 1\n",
       "2. 1\n",
       "3. 1\n",
       "4. 2\n",
       "5. 3\n",
       "6. 3\n",
       "\n",
       "\n",
       "\n",
       "**Levels**: 1. '1'\n",
       "2. '2'\n",
       "3. '3'\n",
       "4. '4'\n",
       "5. '5'\n",
       "6. '6'\n",
       "7. '7'\n",
       "8. '8'\n",
       "9. '9'\n",
       "\n",
       "\n"
      ],
      "text/plain": [
       "[1] 1 1 1 2 3 3\n",
       "Levels: 1 2 3 4 5 6 7 8 9"
      ]
     },
     "metadata": {},
     "output_type": "display_data"
    },
    {
     "data": {
      "text/html": [
       "<table>\n",
       "<caption>A matrix: 6 × 9 of type dbl</caption>\n",
       "<thead>\n",
       "\t<tr><th></th><th scope=col>1</th><th scope=col>2</th><th scope=col>3</th><th scope=col>4</th><th scope=col>5</th><th scope=col>6</th><th scope=col>7</th><th scope=col>8</th><th scope=col>9</th></tr>\n",
       "</thead>\n",
       "<tbody>\n",
       "\t<tr><th scope=row>1</th><td>9.974539e-01</td><td>1.316218e-22</td><td>1.571628e-16</td><td>1.279974e-14</td><td>5.839709e-24</td><td>2.536584e-03</td><td>9.524234e-06</td><td>1.606926e-20</td><td>7.726013e-12</td></tr>\n",
       "\t<tr><th scope=row>2</th><td>9.999891e-01</td><td>2.067760e-16</td><td>1.633558e-10</td><td>1.047995e-10</td><td>1.441708e-22</td><td>1.090134e-05</td><td>9.224862e-11</td><td>3.080936e-21</td><td>2.134702e-10</td></tr>\n",
       "\t<tr><th scope=row>3</th><td>7.536403e-01</td><td>6.478178e-18</td><td>4.582872e-11</td><td>7.793921e-12</td><td>3.748414e-25</td><td>2.463537e-01</td><td>5.955675e-06</td><td>1.343760e-13</td><td>1.123870e-14</td></tr>\n",
       "\t<tr><th scope=row>4</th><td>5.550328e-18</td><td>9.999999e-01</td><td>3.008237e-21</td><td>1.248636e-07</td><td>6.781017e-33</td><td>1.871549e-19</td><td>5.187027e-12</td><td>4.802636e-30</td><td>6.337536e-27</td></tr>\n",
       "\t<tr><th scope=row>5</th><td>1.777342e-16</td><td>4.630319e-29</td><td>1.000000e+00</td><td>8.088847e-22</td><td>3.981471e-20</td><td>4.937011e-17</td><td>3.758741e-25</td><td>4.890221e-18</td><td>5.813297e-30</td></tr>\n",
       "\t<tr><th scope=row>6</th><td>7.786837e-15</td><td>4.849319e-21</td><td>1.000000e+00</td><td>3.463192e-15</td><td>2.990616e-26</td><td>6.577116e-16</td><td>2.609587e-20</td><td>1.685595e-17</td><td>9.395986e-19</td></tr>\n",
       "</tbody>\n",
       "</table>\n"
      ],
      "text/latex": [
       "A matrix: 6 × 9 of type dbl\n",
       "\\begin{tabular}{r|lllllllll}\n",
       "  & 1 & 2 & 3 & 4 & 5 & 6 & 7 & 8 & 9\\\\\n",
       "\\hline\n",
       "\t1 & 9.974539e-01 & 1.316218e-22 & 1.571628e-16 & 1.279974e-14 & 5.839709e-24 & 2.536584e-03 & 9.524234e-06 & 1.606926e-20 & 7.726013e-12\\\\\n",
       "\t2 & 9.999891e-01 & 2.067760e-16 & 1.633558e-10 & 1.047995e-10 & 1.441708e-22 & 1.090134e-05 & 9.224862e-11 & 3.080936e-21 & 2.134702e-10\\\\\n",
       "\t3 & 7.536403e-01 & 6.478178e-18 & 4.582872e-11 & 7.793921e-12 & 3.748414e-25 & 2.463537e-01 & 5.955675e-06 & 1.343760e-13 & 1.123870e-14\\\\\n",
       "\t4 & 5.550328e-18 & 9.999999e-01 & 3.008237e-21 & 1.248636e-07 & 6.781017e-33 & 1.871549e-19 & 5.187027e-12 & 4.802636e-30 & 6.337536e-27\\\\\n",
       "\t5 & 1.777342e-16 & 4.630319e-29 & 1.000000e+00 & 8.088847e-22 & 3.981471e-20 & 4.937011e-17 & 3.758741e-25 & 4.890221e-18 & 5.813297e-30\\\\\n",
       "\t6 & 7.786837e-15 & 4.849319e-21 & 1.000000e+00 & 3.463192e-15 & 2.990616e-26 & 6.577116e-16 & 2.609587e-20 & 1.685595e-17 & 9.395986e-19\\\\\n",
       "\\end{tabular}\n"
      ],
      "text/markdown": [
       "\n",
       "A matrix: 6 × 9 of type dbl\n",
       "\n",
       "| <!--/--> | 1 | 2 | 3 | 4 | 5 | 6 | 7 | 8 | 9 |\n",
       "|---|---|---|---|---|---|---|---|---|---|\n",
       "| 1 | 9.974539e-01 | 1.316218e-22 | 1.571628e-16 | 1.279974e-14 | 5.839709e-24 | 2.536584e-03 | 9.524234e-06 | 1.606926e-20 | 7.726013e-12 |\n",
       "| 2 | 9.999891e-01 | 2.067760e-16 | 1.633558e-10 | 1.047995e-10 | 1.441708e-22 | 1.090134e-05 | 9.224862e-11 | 3.080936e-21 | 2.134702e-10 |\n",
       "| 3 | 7.536403e-01 | 6.478178e-18 | 4.582872e-11 | 7.793921e-12 | 3.748414e-25 | 2.463537e-01 | 5.955675e-06 | 1.343760e-13 | 1.123870e-14 |\n",
       "| 4 | 5.550328e-18 | 9.999999e-01 | 3.008237e-21 | 1.248636e-07 | 6.781017e-33 | 1.871549e-19 | 5.187027e-12 | 4.802636e-30 | 6.337536e-27 |\n",
       "| 5 | 1.777342e-16 | 4.630319e-29 | 1.000000e+00 | 8.088847e-22 | 3.981471e-20 | 4.937011e-17 | 3.758741e-25 | 4.890221e-18 | 5.813297e-30 |\n",
       "| 6 | 7.786837e-15 | 4.849319e-21 | 1.000000e+00 | 3.463192e-15 | 2.990616e-26 | 6.577116e-16 | 2.609587e-20 | 1.685595e-17 | 9.395986e-19 |\n",
       "\n"
      ],
      "text/plain": [
       "  1            2            3            4            5            6           \n",
       "1 9.974539e-01 1.316218e-22 1.571628e-16 1.279974e-14 5.839709e-24 2.536584e-03\n",
       "2 9.999891e-01 2.067760e-16 1.633558e-10 1.047995e-10 1.441708e-22 1.090134e-05\n",
       "3 7.536403e-01 6.478178e-18 4.582872e-11 7.793921e-12 3.748414e-25 2.463537e-01\n",
       "4 5.550328e-18 9.999999e-01 3.008237e-21 1.248636e-07 6.781017e-33 1.871549e-19\n",
       "5 1.777342e-16 4.630319e-29 1.000000e+00 8.088847e-22 3.981471e-20 4.937011e-17\n",
       "6 7.786837e-15 4.849319e-21 1.000000e+00 3.463192e-15 2.990616e-26 6.577116e-16\n",
       "  7            8            9           \n",
       "1 9.524234e-06 1.606926e-20 7.726013e-12\n",
       "2 9.224862e-11 3.080936e-21 2.134702e-10\n",
       "3 5.955675e-06 1.343760e-13 1.123870e-14\n",
       "4 5.187027e-12 4.802636e-30 6.337536e-27\n",
       "5 3.758741e-25 4.890221e-18 5.813297e-30\n",
       "6 2.609587e-20 1.685595e-17 9.395986e-19"
      ]
     },
     "metadata": {},
     "output_type": "display_data"
    },
    {
     "data": {
      "text/html": [
       "<table>\n",
       "<caption>A matrix: 3 × 8 of type dbl</caption>\n",
       "<thead>\n",
       "\t<tr><th></th><th scope=col>LD1</th><th scope=col>LD2</th><th scope=col>LD3</th><th scope=col>LD4</th><th scope=col>LD5</th><th scope=col>LD6</th><th scope=col>LD7</th><th scope=col>LD8</th></tr>\n",
       "</thead>\n",
       "<tbody>\n",
       "\t<tr><th scope=row>1</th><td>-2.602678</td><td>3.3680408</td><td> 0.02975067</td><td> 0.2658698</td><td>1.739812</td><td>-2.561321</td><td> 2.2480723</td><td>-1.2814375</td></tr>\n",
       "\t<tr><th scope=row>2</th><td>-2.713180</td><td>0.8260115</td><td>-0.10277354</td><td>-0.6001660</td><td>3.128374</td><td>-2.499834</td><td>-0.7806866</td><td> 1.5971520</td></tr>\n",
       "\t<tr><th scope=row>3</th><td>-4.300194</td><td>2.4568678</td><td>-0.40197304</td><td> 1.3491917</td><td>1.045790</td><td>-1.894983</td><td>-0.1433069</td><td> 0.8448285</td></tr>\n",
       "</tbody>\n",
       "</table>\n"
      ],
      "text/latex": [
       "A matrix: 3 × 8 of type dbl\n",
       "\\begin{tabular}{r|llllllll}\n",
       "  & LD1 & LD2 & LD3 & LD4 & LD5 & LD6 & LD7 & LD8\\\\\n",
       "\\hline\n",
       "\t1 & -2.602678 & 3.3680408 &  0.02975067 &  0.2658698 & 1.739812 & -2.561321 &  2.2480723 & -1.2814375\\\\\n",
       "\t2 & -2.713180 & 0.8260115 & -0.10277354 & -0.6001660 & 3.128374 & -2.499834 & -0.7806866 &  1.5971520\\\\\n",
       "\t3 & -4.300194 & 2.4568678 & -0.40197304 &  1.3491917 & 1.045790 & -1.894983 & -0.1433069 &  0.8448285\\\\\n",
       "\\end{tabular}\n"
      ],
      "text/markdown": [
       "\n",
       "A matrix: 3 × 8 of type dbl\n",
       "\n",
       "| <!--/--> | LD1 | LD2 | LD3 | LD4 | LD5 | LD6 | LD7 | LD8 |\n",
       "|---|---|---|---|---|---|---|---|---|\n",
       "| 1 | -2.602678 | 3.3680408 |  0.02975067 |  0.2658698 | 1.739812 | -2.561321 |  2.2480723 | -1.2814375 |\n",
       "| 2 | -2.713180 | 0.8260115 | -0.10277354 | -0.6001660 | 3.128374 | -2.499834 | -0.7806866 |  1.5971520 |\n",
       "| 3 | -4.300194 | 2.4568678 | -0.40197304 |  1.3491917 | 1.045790 | -1.894983 | -0.1433069 |  0.8448285 |\n",
       "\n"
      ],
      "text/plain": [
       "  LD1       LD2       LD3         LD4        LD5      LD6       LD7       \n",
       "1 -2.602678 3.3680408  0.02975067  0.2658698 1.739812 -2.561321  2.2480723\n",
       "2 -2.713180 0.8260115 -0.10277354 -0.6001660 3.128374 -2.499834 -0.7806866\n",
       "3 -4.300194 2.4568678 -0.40197304  1.3491917 1.045790 -1.894983 -0.1433069\n",
       "  LD8       \n",
       "1 -1.2814375\n",
       "2  1.5971520\n",
       "3  0.8448285"
      ]
     },
     "metadata": {},
     "output_type": "display_data"
    }
   ],
   "source": [
    "# Predicted classes\n",
    "head(predictions$class, 6)\n",
    "# Predicted probabilities of class memebership.\n",
    "head(predictions$posterior, 6) \n",
    "# Linear discriminants\n",
    "head(predictions$x, 3) "
   ]
  },
  {
   "cell_type": "code",
   "execution_count": 8,
   "metadata": {},
   "outputs": [
    {
     "name": "stdout",
     "output_type": "stream",
     "text": [
      "Confusion Matrix and Statistics\n",
      "\n",
      "         Species\n",
      "Predicted  1  2  3  4  5  6  7  8  9\n",
      "        1  3  0  0  0  0  0  0  0  0\n",
      "        2  0  1  0  0  0  0  0  0  0\n",
      "        3  0  0 10  0  0  0  0  0  0\n",
      "        4  0  0  0  4  0  0  0  0  1\n",
      "        5  0  0  0  0  2  0  0  0  0\n",
      "        6  0  0  0  0  0 12  0  0  0\n",
      "        7  0  0  0  0  0  0  2  0  0\n",
      "        8  0  0  0  0  0  0  0  1  0\n",
      "        9  0  0  0  0  0  0  0  0 46\n",
      "\n",
      "Overall Statistics\n",
      "                                          \n",
      "               Accuracy : 0.9878          \n",
      "                 95% CI : (0.9339, 0.9997)\n",
      "    No Information Rate : 0.5732          \n",
      "    P-Value [Acc > NIR] : < 2.2e-16       \n",
      "                                          \n",
      "                  Kappa : 0.9808          \n",
      "                                          \n",
      " Mcnemar's Test P-Value : NA              \n",
      "\n",
      "Statistics by Class:\n",
      "\n",
      "                     Class: 1 Class: 2 Class: 3 Class: 4 Class: 5 Class: 6\n",
      "Sensitivity           1.00000   1.0000    1.000  1.00000  1.00000   1.0000\n",
      "Specificity           1.00000   1.0000    1.000  0.98718  1.00000   1.0000\n",
      "Pos Pred Value        1.00000   1.0000    1.000  0.80000  1.00000   1.0000\n",
      "Neg Pred Value        1.00000   1.0000    1.000  1.00000  1.00000   1.0000\n",
      "Prevalence            0.03659   0.0122    0.122  0.04878  0.02439   0.1463\n",
      "Detection Rate        0.03659   0.0122    0.122  0.04878  0.02439   0.1463\n",
      "Detection Prevalence  0.03659   0.0122    0.122  0.06098  0.02439   0.1463\n",
      "Balanced Accuracy     1.00000   1.0000    1.000  0.99359  1.00000   1.0000\n",
      "                     Class: 7 Class: 8 Class: 9\n",
      "Sensitivity           1.00000   1.0000   0.9787\n",
      "Specificity           1.00000   1.0000   1.0000\n",
      "Pos Pred Value        1.00000   1.0000   1.0000\n",
      "Neg Pred Value        1.00000   1.0000   0.9722\n",
      "Prevalence            0.02439   0.0122   0.5732\n",
      "Detection Rate        0.02439   0.0122   0.5610\n",
      "Detection Prevalence  0.02439   0.0122   0.5610\n",
      "Balanced Accuracy     1.00000   1.0000   0.9894\n"
     ]
    }
   ],
   "source": [
    "predmodel.test.lda = predict(model, data=test.data)\n",
    "table <- table(Predicted=predmodel.test.lda$class, Species=test.data$Spec_int)\n",
    "print(confusionMatrix(table))"
   ]
  }
 ],
 "metadata": {
  "kernelspec": {
   "display_name": "R",
   "language": "R",
   "name": "ir"
  },
  "language_info": {
   "codemirror_mode": "r",
   "file_extension": ".r",
   "mimetype": "text/x-r-source",
   "name": "R",
   "pygments_lexer": "r",
   "version": "3.6.3"
  }
 },
 "nbformat": 4,
 "nbformat_minor": 4
}
