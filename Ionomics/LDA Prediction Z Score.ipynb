{
 "cells": [
  {
   "cell_type": "code",
   "execution_count": 1,
   "metadata": {},
   "outputs": [
    {
     "name": "stderr",
     "output_type": "stream",
     "text": [
      "Installing package into 'C:/Users/2198K/Documents/R/win-library/3.6'\n",
      "(as 'lib' is unspecified)\n",
      "\n"
     ]
    },
    {
     "name": "stdout",
     "output_type": "stream",
     "text": [
      "package 'MASS' successfully unpacked and MD5 sums checked\n"
     ]
    },
    {
     "name": "stderr",
     "output_type": "stream",
     "text": [
      "Warning message:\n",
      "\"cannot remove prior installation of package 'MASS'\"\n",
      "Warning message in file.copy(savedcopy, lib, recursive = TRUE):\n",
      "\"problem copying C:\\Users\\2198K\\Documents\\R\\win-library\\3.6\\00LOCK\\MASS\\libs\\x64\\MASS.dll to C:\\Users\\2198K\\Documents\\R\\win-library\\3.6\\MASS\\libs\\x64\\MASS.dll: Permission denied\"\n",
      "Warning message:\n",
      "\"restored 'MASS'\"\n"
     ]
    },
    {
     "name": "stdout",
     "output_type": "stream",
     "text": [
      "\n",
      "The downloaded binary packages are in\n",
      "\tC:\\Users\\2198K\\AppData\\Local\\Temp\\RtmpMnuTVu\\downloaded_packages\n"
     ]
    },
    {
     "name": "stderr",
     "output_type": "stream",
     "text": [
      "Installing package into 'C:/Users/2198K/Documents/R/win-library/3.6'\n",
      "(as 'lib' is unspecified)\n",
      "\n"
     ]
    },
    {
     "name": "stdout",
     "output_type": "stream",
     "text": [
      "package 'missMDA' successfully unpacked and MD5 sums checked\n",
      "\n",
      "The downloaded binary packages are in\n",
      "\tC:\\Users\\2198K\\AppData\\Local\\Temp\\RtmpMnuTVu\\downloaded_packages\n"
     ]
    },
    {
     "name": "stderr",
     "output_type": "stream",
     "text": [
      "Installing package into 'C:/Users/2198K/Documents/R/win-library/3.6'\n",
      "(as 'lib' is unspecified)\n",
      "\n"
     ]
    },
    {
     "name": "stdout",
     "output_type": "stream",
     "text": [
      "package 'tidyverse' successfully unpacked and MD5 sums checked\n",
      "\n",
      "The downloaded binary packages are in\n",
      "\tC:\\Users\\2198K\\AppData\\Local\\Temp\\RtmpMnuTVu\\downloaded_packages\n"
     ]
    },
    {
     "name": "stderr",
     "output_type": "stream",
     "text": [
      "-- \u001b[1mAttaching packages\u001b[22m --------------------------------------- tidyverse 1.3.0 --\n",
      "\n",
      "\u001b[32mv\u001b[39m \u001b[34mggplot2\u001b[39m 3.2.1     \u001b[32mv\u001b[39m \u001b[34mpurrr  \u001b[39m 0.3.3\n",
      "\u001b[32mv\u001b[39m \u001b[34mtibble \u001b[39m 2.1.3     \u001b[32mv\u001b[39m \u001b[34mdplyr  \u001b[39m 0.8.4\n",
      "\u001b[32mv\u001b[39m \u001b[34mtidyr  \u001b[39m 1.0.2     \u001b[32mv\u001b[39m \u001b[34mstringr\u001b[39m 1.4.0\n",
      "\u001b[32mv\u001b[39m \u001b[34mreadr  \u001b[39m 1.3.1     \u001b[32mv\u001b[39m \u001b[34mforcats\u001b[39m 0.4.0\n",
      "\n",
      "-- \u001b[1mConflicts\u001b[22m ------------------------------------------ tidyverse_conflicts() --\n",
      "\u001b[31mx\u001b[39m \u001b[34mdplyr\u001b[39m::\u001b[32mfilter()\u001b[39m masks \u001b[34mstats\u001b[39m::filter()\n",
      "\u001b[31mx\u001b[39m \u001b[34mdplyr\u001b[39m::\u001b[32mlag()\u001b[39m    masks \u001b[34mstats\u001b[39m::lag()\n",
      "\u001b[31mx\u001b[39m \u001b[34mdplyr\u001b[39m::\u001b[32mselect()\u001b[39m masks \u001b[34mMASS\u001b[39m::select()\n",
      "\n",
      "Installing package into 'C:/Users/2198K/Documents/R/win-library/3.6'\n",
      "(as 'lib' is unspecified)\n",
      "\n"
     ]
    },
    {
     "name": "stdout",
     "output_type": "stream",
     "text": [
      "package 'caret' successfully unpacked and MD5 sums checked\n"
     ]
    },
    {
     "name": "stderr",
     "output_type": "stream",
     "text": [
      "Warning message:\n",
      "\"cannot remove prior installation of package 'caret'\"\n",
      "Warning message in file.copy(savedcopy, lib, recursive = TRUE):\n",
      "\"problem copying C:\\Users\\2198K\\Documents\\R\\win-library\\3.6\\00LOCK\\caret\\libs\\x64\\caret.dll to C:\\Users\\2198K\\Documents\\R\\win-library\\3.6\\caret\\libs\\x64\\caret.dll: Permission denied\"\n",
      "Warning message:\n",
      "\"restored 'caret'\"\n"
     ]
    },
    {
     "name": "stdout",
     "output_type": "stream",
     "text": [
      "\n",
      "The downloaded binary packages are in\n",
      "\tC:\\Users\\2198K\\AppData\\Local\\Temp\\RtmpMnuTVu\\downloaded_packages\n"
     ]
    },
    {
     "name": "stderr",
     "output_type": "stream",
     "text": [
      "Loading required package: lattice\n",
      "\n",
      "\n",
      "Attaching package: 'caret'\n",
      "\n",
      "\n",
      "The following object is masked from 'package:purrr':\n",
      "\n",
      "    lift\n",
      "\n",
      "\n"
     ]
    }
   ],
   "source": [
    "install.packages(\"MASS\")\n",
    "library(\"MASS\")\n",
    "install.packages(\"missMDA\")\n",
    "library(\"missMDA\")\n",
    "install.packages(\"tidyverse\")\n",
    "library(\"tidyverse\")\n",
    "install.packages(\"caret\")\n",
    "library(\"caret\")"
   ]
  },
  {
   "cell_type": "code",
   "execution_count": 2,
   "metadata": {},
   "outputs": [],
   "source": [
    "ionomics <- read.csv('New_ionStats.csv',colClasses =c(\"NULL\",\"NULL\",NA,NA,NA,NA,NA,NA,NA,NA,NA,NA,NA,NA,NA,\n",
    "                                                                    NA,NA,NA,NA,NA,NA,NA))\n",
    "ionomics <- imputePCA(ionomics, method = \"Regularized\")"
   ]
  },
  {
   "cell_type": "code",
   "execution_count": 3,
   "metadata": {},
   "outputs": [],
   "source": [
    "# Split the data into training (80%) and test set (20%)\n",
    "set.seed(125)\n",
    "training.samples <- ionomics$completeObs[,2] %>%\n",
    "  createDataPartition(p = 0.8, list = FALSE)\n",
    "train.data <- ionomics$completeObs[training.samples, ]\n",
    "test.data <- ionomics$completeObs[-training.samples, ]\n",
    "train.data <- unlist(test.data)\n",
    "test.data <- unlist(test.data)\n",
    "train.data <- as.data.frame(train.data)\n",
    "test.data <- as.data.frame(test.data)"
   ]
  },
  {
   "cell_type": "code",
   "execution_count": 4,
   "metadata": {},
   "outputs": [
    {
     "data": {
      "text/html": [
       "0.975609756097561"
      ],
      "text/latex": [
       "0.975609756097561"
      ],
      "text/markdown": [
       "0.975609756097561"
      ],
      "text/plain": [
       "[1] 0.9756098"
      ]
     },
     "metadata": {},
     "output_type": "display_data"
    },
    {
     "data": {
      "text/plain": [
       "Call:\n",
       "lda(Spec_int ~ ., data = train.data)\n",
       "\n",
       "Prior probabilities of groups:\n",
       "         1          2          3          4          5          6          7 \n",
       "0.04878049 0.01219512 0.03658537 0.08536585 0.01219512 0.18292683 0.09756098 \n",
       "         8          9 \n",
       "0.01219512 0.51219512 \n",
       "\n",
       "Group means:\n",
       "           B11        Na23        Mg26        Al27        P31        S34\n",
       "1  0.419293525  0.43362811 -0.66049923 -0.14862688  0.7578200  0.5808093\n",
       "2  0.806167070  1.75380000  0.30198747 -0.07443720  1.4903948  1.8484311\n",
       "3  2.193139400  1.37732746  0.08622486  0.50612503  2.0612569  1.1259974\n",
       "4  0.803510280  0.72031339  0.37509764  0.02373085  1.0677898  0.7891702\n",
       "5 -0.006453771  0.47296970 -1.17914240  2.84880690  1.8411720  0.9000044\n",
       "6  1.094708215  0.74669889 -1.11741765 -0.07307052  0.5368457  1.0360572\n",
       "7  0.802584947 -0.03085436 -0.68772637 -0.21180245  0.6392604  0.4468761\n",
       "8  1.311630000  0.70814380 -0.29835212  0.02820811  0.2951914  0.4100215\n",
       "9 -0.851022084 -0.51357721  0.38039369 -0.15539713 -0.7239014 -0.6937301\n",
       "         K39       Ca44        Fe54       Mn55        Co59       Ni60\n",
       "1  0.3691066 -0.8896725  0.01221193  0.6087439 -0.38090819 -0.4147981\n",
       "2  1.0091677 -0.2112119  0.92020770  1.5444951  1.18263040  0.7146155\n",
       "3  1.1892652 -0.6056951  1.39030411  2.1426588  1.64968535  2.6168404\n",
       "4  0.9781402 -0.5690203 -0.12160108  0.7832318  0.12874788  0.3737882\n",
       "5  1.3306187 -1.5777113  0.07947225  1.1047058  0.78234650  1.3681765\n",
       "6  0.7153576 -0.6817149  0.80688797  0.7594502 -0.03594649 -0.4298842\n",
       "7  0.2334427 -0.8531673  0.29951698  0.4704463 -0.42378123 -0.4042644\n",
       "8  0.7044564 -1.3949020  1.01092480  1.4423788  0.98749650 -0.1353892\n",
       "9 -0.6489970  0.5357911 -0.53284881 -0.7993202 -0.05665624 -0.1282853\n",
       "         Cu63       Zn66         As75        Rb85        Sr88        Mo98\n",
       "1  0.23593890  0.4074780  0.023398542 -0.56459789 -0.11641048 -0.01066628\n",
       "2  2.50288630  1.1555783  1.174322100 -0.14858484  0.72735410 -0.56521650\n",
       "3  2.41040877  1.7433359  0.270147849 -0.55096272 -0.30069669  2.35316936\n",
       "4  1.20386512  1.2655884  0.571875508 -0.79778053 -0.03081893 -0.66520473\n",
       "5  0.27011340  1.2355323  0.419265146  0.05510178 -0.91448350 -0.05305173\n",
       "6 -0.09525123  0.4930349 -0.003302041 -0.59738989 -0.21477533  0.32136377\n",
       "7  0.67474301  0.2630468  0.010460728 -0.78959238 -0.40158948  0.06087918\n",
       "8  0.83093110  1.2277404  0.513819300 -0.37939647 -1.37643250 -0.61951435\n",
       "9 -0.66972941 -0.7732060 -0.253894487  0.50816263 -0.08717196 -0.38223408\n",
       "        Cd111\n",
       "1  0.44501983\n",
       "2  0.33934130\n",
       "3  0.96586314\n",
       "4  0.65351983\n",
       "5  0.13457929\n",
       "6 -0.02180916\n",
       "7  0.16963566\n",
       "8 -0.07012255\n",
       "9 -0.47993885\n",
       "\n",
       "Coefficients of linear discriminants:\n",
       "              LD1        LD2         LD3         LD4         LD5         LD6\n",
       "B11   -1.41807252  0.6511352  1.11676308  0.24430189  0.09470835  0.28278744\n",
       "Na23   0.15816490 -0.0167420  0.22171560 -0.09915860 -0.07622725 -0.20112530\n",
       "Mg26   0.40497985 -0.3360525  0.05247822 -0.48209308  0.51657108  0.26530066\n",
       "Al27   0.02485152 -2.8377473 -2.20581852  2.92372781 -0.70787294 -0.60720086\n",
       "P31   -1.44373302 -0.4486966  0.32219659  0.57990033 -1.41595330  0.32789195\n",
       "S34    0.98058564  0.6797039 -0.42109907  0.61018172  0.19991201 -0.33945985\n",
       "K39    0.32632207  0.3546143 -0.49065543 -0.40628265  2.46673179 -0.01984505\n",
       "Ca44   1.90329179 -0.9064407  1.26755172 -0.13934547  1.83684121  0.12743781\n",
       "Fe54  -0.81267164  1.3619631  0.90418466 -0.42674535 -0.49380294 -0.69327848\n",
       "Mn55  -1.19010798  0.5416661  0.11024560  0.52819242 -0.01005930 -0.61969413\n",
       "Co59   0.54821948  0.1034627  0.70527373 -0.46948492  0.27658605  0.06959746\n",
       "Ni60  -0.63095392 -2.0867645  0.34576179  0.49010526  0.12975907  0.02640433\n",
       "Cu63  -0.87309254 -1.2724722 -0.19761548 -2.76271117 -0.77356511 -1.32828825\n",
       "Zn66  -0.96728485 -1.7844340 -0.97250025  0.57871591  1.97521204  1.03989402\n",
       "As75   0.68405242  1.6015728 -0.54003190 -0.49488717  0.14354028 -0.48729786\n",
       "Rb85   0.28507214 -0.4919955  0.58675283  0.52188043 -0.72510816 -0.53447788\n",
       "Sr88  -1.08342464  0.6220258 -0.86065407  0.12181881 -1.57780508 -0.40396751\n",
       "Mo98  -1.54742856 -0.2870149  2.26712566  0.54459093  0.14284355  0.55069543\n",
       "Cd111 -0.38466394 -0.1797859 -0.61710710 -0.03857487 -1.62831053  1.84373758\n",
       "               LD7        LD8\n",
       "B11    0.410964650 -1.0156366\n",
       "Na23  -0.661836159  0.2454991\n",
       "Mg26   0.533444648  0.4119211\n",
       "Al27   0.483633520 -0.9321949\n",
       "P31   -0.221114334 -0.1704389\n",
       "S34   -1.041787784 -0.8918983\n",
       "K39    0.003795759  0.1540692\n",
       "Ca44  -0.504993764 -1.1576631\n",
       "Fe54   0.602988161  0.1530873\n",
       "Mn55   0.532811546  2.7485376\n",
       "Co59   0.134067702  0.1090633\n",
       "Ni60  -0.339194762  0.3182700\n",
       "Cu63   0.356650254 -0.9403261\n",
       "Zn66   0.492758823 -0.7412342\n",
       "As75  -0.919259906 -0.3500711\n",
       "Rb85  -0.388915947  0.3537521\n",
       "Sr88  -0.389598667  0.5795423\n",
       "Mo98  -0.395429026 -0.3747237\n",
       "Cd111 -1.107748847  0.6729748\n",
       "\n",
       "Proportion of trace:\n",
       "   LD1    LD2    LD3    LD4    LD5    LD6    LD7    LD8 \n",
       "0.7097 0.1413 0.0744 0.0507 0.0125 0.0056 0.0039 0.0019 "
      ]
     },
     "metadata": {},
     "output_type": "display_data"
    }
   ],
   "source": [
    "# Fit the model\n",
    "model <- lda(Spec_int~., data = train.data)\n",
    "# Make predictions\n",
    "predictions <- model %>% predict(test.data)\n",
    "# Model accuracy\n",
    "mean(predictions$class==test.data$Spec_int)\n",
    "model"
   ]
  },
  {
   "cell_type": "code",
   "execution_count": 5,
   "metadata": {},
   "outputs": [
    {
     "data": {
      "image/png": "[encoded data removed]",
      "text/plain": [
       "plot without title"
      ]
     },
     "metadata": {
      "image/png": {
       "height": 420,
       "width": 420
      },
      "text/plain": {
       "height": 420,
       "width": 420
      }
     },
     "output_type": "display_data"
    }
   ],
   "source": [
    "plot(model)"
   ]
  },
  {
   "cell_type": "code",
   "execution_count": 6,
   "metadata": {},
   "outputs": [
    {
     "data": {
      "text/html": [
       "<style>\n",
       ".list-inline {list-style: none; margin:0; padding: 0}\n",
       ".list-inline>li {display: inline-block}\n",
       ".list-inline>li:not(:last-child)::after {content: \"\\00b7\"; padding: 0 .5ex}\n",
       "</style>\n",
       "<ol class=list-inline><li>1</li><li>7</li><li>1</li><li>1</li><li>2</li><li>3</li></ol>\n",
       "\n",
       "<details>\n",
       "\t<summary style=display:list-item;cursor:pointer>\n",
       "\t\t<strong>Levels</strong>:\n",
       "\t</summary>\n",
       "\t<style>\n",
       "\t.list-inline {list-style: none; margin:0; padding: 0}\n",
       "\t.list-inline>li {display: inline-block}\n",
       "\t.list-inline>li:not(:last-child)::after {content: \"\\00b7\"; padding: 0 .5ex}\n",
       "\t</style>\n",
       "\t<ol class=list-inline><li>'1'</li><li>'2'</li><li>'3'</li><li>'4'</li><li>'5'</li><li>'6'</li><li>'7'</li><li>'8'</li><li>'9'</li></ol>\n",
       "</details>"
      ],
      "text/latex": [
       "\\begin{enumerate*}\n",
       "\\item 1\n",
       "\\item 7\n",
       "\\item 1\n",
       "\\item 1\n",
       "\\item 2\n",
       "\\item 3\n",
       "\\end{enumerate*}\n",
       "\n",
       "\\emph{Levels}: \\begin{enumerate*}\n",
       "\\item '1'\n",
       "\\item '2'\n",
       "\\item '3'\n",
       "\\item '4'\n",
       "\\item '5'\n",
       "\\item '6'\n",
       "\\item '7'\n",
       "\\item '8'\n",
       "\\item '9'\n",
       "\\end{enumerate*}\n"
      ],
      "text/markdown": [
       "1. 1\n",
       "2. 7\n",
       "3. 1\n",
       "4. 1\n",
       "5. 2\n",
       "6. 3\n",
       "\n",
       "\n",
       "\n",
       "**Levels**: 1. '1'\n",
       "2. '2'\n",
       "3. '3'\n",
       "4. '4'\n",
       "5. '5'\n",
       "6. '6'\n",
       "7. '7'\n",
       "8. '8'\n",
       "9. '9'\n",
       "\n",
       "\n"
      ],
      "text/plain": [
       "[1] 1 7 1 1 2 3\n",
       "Levels: 1 2 3 4 5 6 7 8 9"
      ]
     },
     "metadata": {},
     "output_type": "display_data"
    },
    {
     "data": {
      "text/html": [
       "<table>\n",
       "<caption>A matrix: 6 × 9 of type dbl</caption>\n",
       "<thead>\n",
       "\t<tr><th></th><th scope=col>1</th><th scope=col>2</th><th scope=col>3</th><th scope=col>4</th><th scope=col>5</th><th scope=col>6</th><th scope=col>7</th><th scope=col>8</th><th scope=col>9</th></tr>\n",
       "</thead>\n",
       "<tbody>\n",
       "\t<tr><th scope=row>1</th><td>9.993007e-01</td><td>2.899934e-20</td><td>5.835302e-61</td><td>8.991844e-11</td><td>4.611816e-71</td><td>2.266123e-08</td><td>6.993020e-04</td><td>6.024378e-19</td><td> 7.881789e-36</td></tr>\n",
       "\t<tr><th scope=row>2</th><td>2.680330e-02</td><td>4.437143e-07</td><td>2.264090e-78</td><td>3.604609e-04</td><td>4.993273e-76</td><td>4.165752e-08</td><td>9.728357e-01</td><td>8.104444e-08</td><td> 1.164356e-25</td></tr>\n",
       "\t<tr><th scope=row>3</th><td>9.405456e-01</td><td>4.550114e-22</td><td>9.674304e-88</td><td>1.774132e-08</td><td>4.524058e-68</td><td>5.936826e-02</td><td>8.602891e-05</td><td>7.247616e-08</td><td> 3.403249e-16</td></tr>\n",
       "\t<tr><th scope=row>4</th><td>9.406399e-01</td><td>8.132619e-20</td><td>3.910067e-78</td><td>2.503341e-13</td><td>4.883645e-76</td><td>2.838380e-02</td><td>3.097633e-02</td><td>7.453443e-10</td><td> 1.649311e-31</td></tr>\n",
       "\t<tr><th scope=row>5</th><td>1.071233e-15</td><td>1.000000e+00</td><td>1.783991e-66</td><td>1.209371e-10</td><td>4.463382e-93</td><td>6.662719e-22</td><td>3.113163e-11</td><td>6.421720e-15</td><td> 5.517018e-44</td></tr>\n",
       "\t<tr><th scope=row>6</th><td>1.364125e-69</td><td>7.400489e-58</td><td>1.000000e+00</td><td>2.504651e-59</td><td>6.568452e-92</td><td>7.928150e-69</td><td>1.158987e-62</td><td>1.929300e-60</td><td>1.508767e-139</td></tr>\n",
       "</tbody>\n",
       "</table>\n"
      ],
      "text/latex": [
       "A matrix: 6 × 9 of type dbl\n",
       "\\begin{tabular}{r|lllllllll}\n",
       "  & 1 & 2 & 3 & 4 & 5 & 6 & 7 & 8 & 9\\\\\n",
       "\\hline\n",
       "\t1 & 9.993007e-01 & 2.899934e-20 & 5.835302e-61 & 8.991844e-11 & 4.611816e-71 & 2.266123e-08 & 6.993020e-04 & 6.024378e-19 &  7.881789e-36\\\\\n",
       "\t2 & 2.680330e-02 & 4.437143e-07 & 2.264090e-78 & 3.604609e-04 & 4.993273e-76 & 4.165752e-08 & 9.728357e-01 & 8.104444e-08 &  1.164356e-25\\\\\n",
       "\t3 & 9.405456e-01 & 4.550114e-22 & 9.674304e-88 & 1.774132e-08 & 4.524058e-68 & 5.936826e-02 & 8.602891e-05 & 7.247616e-08 &  3.403249e-16\\\\\n",
       "\t4 & 9.406399e-01 & 8.132619e-20 & 3.910067e-78 & 2.503341e-13 & 4.883645e-76 & 2.838380e-02 & 3.097633e-02 & 7.453443e-10 &  1.649311e-31\\\\\n",
       "\t5 & 1.071233e-15 & 1.000000e+00 & 1.783991e-66 & 1.209371e-10 & 4.463382e-93 & 6.662719e-22 & 3.113163e-11 & 6.421720e-15 &  5.517018e-44\\\\\n",
       "\t6 & 1.364125e-69 & 7.400489e-58 & 1.000000e+00 & 2.504651e-59 & 6.568452e-92 & 7.928150e-69 & 1.158987e-62 & 1.929300e-60 & 1.508767e-139\\\\\n",
       "\\end{tabular}\n"
      ],
      "text/markdown": [
       "\n",
       "A matrix: 6 × 9 of type dbl\n",
       "\n",
       "| <!--/--> | 1 | 2 | 3 | 4 | 5 | 6 | 7 | 8 | 9 |\n",
       "|---|---|---|---|---|---|---|---|---|---|\n",
       "| 1 | 9.993007e-01 | 2.899934e-20 | 5.835302e-61 | 8.991844e-11 | 4.611816e-71 | 2.266123e-08 | 6.993020e-04 | 6.024378e-19 |  7.881789e-36 |\n",
       "| 2 | 2.680330e-02 | 4.437143e-07 | 2.264090e-78 | 3.604609e-04 | 4.993273e-76 | 4.165752e-08 | 9.728357e-01 | 8.104444e-08 |  1.164356e-25 |\n",
       "| 3 | 9.405456e-01 | 4.550114e-22 | 9.674304e-88 | 1.774132e-08 | 4.524058e-68 | 5.936826e-02 | 8.602891e-05 | 7.247616e-08 |  3.403249e-16 |\n",
       "| 4 | 9.406399e-01 | 8.132619e-20 | 3.910067e-78 | 2.503341e-13 | 4.883645e-76 | 2.838380e-02 | 3.097633e-02 | 7.453443e-10 |  1.649311e-31 |\n",
       "| 5 | 1.071233e-15 | 1.000000e+00 | 1.783991e-66 | 1.209371e-10 | 4.463382e-93 | 6.662719e-22 | 3.113163e-11 | 6.421720e-15 |  5.517018e-44 |\n",
       "| 6 | 1.364125e-69 | 7.400489e-58 | 1.000000e+00 | 2.504651e-59 | 6.568452e-92 | 7.928150e-69 | 1.158987e-62 | 1.929300e-60 | 1.508767e-139 |\n",
       "\n"
      ],
      "text/plain": [
       "  1            2            3            4            5            6           \n",
       "1 9.993007e-01 2.899934e-20 5.835302e-61 8.991844e-11 4.611816e-71 2.266123e-08\n",
       "2 2.680330e-02 4.437143e-07 2.264090e-78 3.604609e-04 4.993273e-76 4.165752e-08\n",
       "3 9.405456e-01 4.550114e-22 9.674304e-88 1.774132e-08 4.524058e-68 5.936826e-02\n",
       "4 9.406399e-01 8.132619e-20 3.910067e-78 2.503341e-13 4.883645e-76 2.838380e-02\n",
       "5 1.071233e-15 1.000000e+00 1.783991e-66 1.209371e-10 4.463382e-93 6.662719e-22\n",
       "6 1.364125e-69 7.400489e-58 1.000000e+00 2.504651e-59 6.568452e-92 7.928150e-69\n",
       "  7            8            9            \n",
       "1 6.993020e-04 6.024378e-19  7.881789e-36\n",
       "2 9.728357e-01 8.104444e-08  1.164356e-25\n",
       "3 8.602891e-05 7.247616e-08  3.403249e-16\n",
       "4 3.097633e-02 7.453443e-10  1.649311e-31\n",
       "5 3.113163e-11 6.421720e-15  5.517018e-44\n",
       "6 1.158987e-62 1.929300e-60 1.508767e-139"
      ]
     },
     "metadata": {},
     "output_type": "display_data"
    },
    {
     "data": {
      "text/html": [
       "<table>\n",
       "<caption>A matrix: 3 × 8 of type dbl</caption>\n",
       "<thead>\n",
       "\t<tr><th></th><th scope=col>LD1</th><th scope=col>LD2</th><th scope=col>LD3</th><th scope=col>LD4</th><th scope=col>LD5</th><th scope=col>LD6</th><th scope=col>LD7</th><th scope=col>LD8</th></tr>\n",
       "</thead>\n",
       "<tbody>\n",
       "\t<tr><th scope=row>1</th><td>-6.336005</td><td>0.6055758</td><td>-0.9755789</td><td> 0.2638494</td><td>-3.9756137</td><td> 3.6215988</td><td>-2.321319</td><td> 1.1174673</td></tr>\n",
       "\t<tr><th scope=row>2</th><td>-4.311903</td><td>1.1200052</td><td>-2.9792728</td><td>-2.2891527</td><td>-1.9068353</td><td>-1.0475632</td><td> 0.363168</td><td>-0.6978324</td></tr>\n",
       "\t<tr><th scope=row>3</th><td>-2.471741</td><td>1.9452495</td><td>-1.7926237</td><td> 1.9290996</td><td> 0.7638966</td><td> 0.7111862</td><td>-0.526681</td><td> 2.3164866</td></tr>\n",
       "</tbody>\n",
       "</table>\n"
      ],
      "text/latex": [
       "A matrix: 3 × 8 of type dbl\n",
       "\\begin{tabular}{r|llllllll}\n",
       "  & LD1 & LD2 & LD3 & LD4 & LD5 & LD6 & LD7 & LD8\\\\\n",
       "\\hline\n",
       "\t1 & -6.336005 & 0.6055758 & -0.9755789 &  0.2638494 & -3.9756137 &  3.6215988 & -2.321319 &  1.1174673\\\\\n",
       "\t2 & -4.311903 & 1.1200052 & -2.9792728 & -2.2891527 & -1.9068353 & -1.0475632 &  0.363168 & -0.6978324\\\\\n",
       "\t3 & -2.471741 & 1.9452495 & -1.7926237 &  1.9290996 &  0.7638966 &  0.7111862 & -0.526681 &  2.3164866\\\\\n",
       "\\end{tabular}\n"
      ],
      "text/markdown": [
       "\n",
       "A matrix: 3 × 8 of type dbl\n",
       "\n",
       "| <!--/--> | LD1 | LD2 | LD3 | LD4 | LD5 | LD6 | LD7 | LD8 |\n",
       "|---|---|---|---|---|---|---|---|---|\n",
       "| 1 | -6.336005 | 0.6055758 | -0.9755789 |  0.2638494 | -3.9756137 |  3.6215988 | -2.321319 |  1.1174673 |\n",
       "| 2 | -4.311903 | 1.1200052 | -2.9792728 | -2.2891527 | -1.9068353 | -1.0475632 |  0.363168 | -0.6978324 |\n",
       "| 3 | -2.471741 | 1.9452495 | -1.7926237 |  1.9290996 |  0.7638966 |  0.7111862 | -0.526681 |  2.3164866 |\n",
       "\n"
      ],
      "text/plain": [
       "  LD1       LD2       LD3        LD4        LD5        LD6        LD7      \n",
       "1 -6.336005 0.6055758 -0.9755789  0.2638494 -3.9756137  3.6215988 -2.321319\n",
       "2 -4.311903 1.1200052 -2.9792728 -2.2891527 -1.9068353 -1.0475632  0.363168\n",
       "3 -2.471741 1.9452495 -1.7926237  1.9290996  0.7638966  0.7111862 -0.526681\n",
       "  LD8       \n",
       "1  1.1174673\n",
       "2 -0.6978324\n",
       "3  2.3164866"
      ]
     },
     "metadata": {},
     "output_type": "display_data"
    }
   ],
   "source": [
    "# Predicted classes\n",
    "head(predictions$class, 6)\n",
    "# Predicted probabilities of class memebership.\n",
    "head(predictions$posterior, 6) \n",
    "# Linear discriminants\n",
    "head(predictions$x, 3) "
   ]
  },
  {
   "cell_type": "code",
   "execution_count": 10,
   "metadata": {},
   "outputs": [
    {
     "name": "stdout",
     "output_type": "stream",
     "text": [
      "Confusion Matrix and Statistics\n",
      "\n",
      "         Species\n",
      "Predicted  1  2  3  4  5  6  7  8  9\n",
      "        1  3  0  0  0  0  0  1  0  0\n",
      "        2  0  1  0  0  0  0  0  0  0\n",
      "        3  0  0  3  0  0  0  0  0  0\n",
      "        4  0  0  0  7  0  0  0  0  0\n",
      "        5  0  0  0  0  1  0  0  0  0\n",
      "        6  0  0  0  0  0 15  0  0  0\n",
      "        7  1  0  0  0  0  0  7  0  0\n",
      "        8  0  0  0  0  0  0  0  1  0\n",
      "        9  0  0  0  0  0  0  0  0 42\n",
      "\n",
      "Overall Statistics\n",
      "                                         \n",
      "               Accuracy : 0.9756         \n",
      "                 95% CI : (0.9147, 0.997)\n",
      "    No Information Rate : 0.5122         \n",
      "    P-Value [Acc > NIR] : < 2.2e-16      \n",
      "                                         \n",
      "                  Kappa : 0.9643         \n",
      "                                         \n",
      " Mcnemar's Test P-Value : NA             \n",
      "\n",
      "Statistics by Class:\n",
      "\n",
      "                     Class: 1 Class: 2 Class: 3 Class: 4 Class: 5 Class: 6\n",
      "Sensitivity           0.75000   1.0000  1.00000  1.00000   1.0000   1.0000\n",
      "Specificity           0.98718   1.0000  1.00000  1.00000   1.0000   1.0000\n",
      "Pos Pred Value        0.75000   1.0000  1.00000  1.00000   1.0000   1.0000\n",
      "Neg Pred Value        0.98718   1.0000  1.00000  1.00000   1.0000   1.0000\n",
      "Prevalence            0.04878   0.0122  0.03659  0.08537   0.0122   0.1829\n",
      "Detection Rate        0.03659   0.0122  0.03659  0.08537   0.0122   0.1829\n",
      "Detection Prevalence  0.04878   0.0122  0.03659  0.08537   0.0122   0.1829\n",
      "Balanced Accuracy     0.86859   1.0000  1.00000  1.00000   1.0000   1.0000\n",
      "                     Class: 7 Class: 8 Class: 9\n",
      "Sensitivity           0.87500   1.0000   1.0000\n",
      "Specificity           0.98649   1.0000   1.0000\n",
      "Pos Pred Value        0.87500   1.0000   1.0000\n",
      "Neg Pred Value        0.98649   1.0000   1.0000\n",
      "Prevalence            0.09756   0.0122   0.5122\n",
      "Detection Rate        0.08537   0.0122   0.5122\n",
      "Detection Prevalence  0.09756   0.0122   0.5122\n",
      "Balanced Accuracy     0.93074   1.0000   1.0000\n"
     ]
    }
   ],
   "source": [
    "predmodel.test.lda = predict(model, data=test.data)\n",
    "table <- table(Predicted=predmodel.test.lda$class, Species=test.data$Spec_int)\n",
    "print(confusionMatrix(table))"
   ]
  }
 ],
 "metadata": {
  "kernelspec": {
   "display_name": "R",
   "language": "R",
   "name": "ir"
  },
  "language_info": {
   "codemirror_mode": "r",
   "file_extension": ".r",
   "mimetype": "text/x-r-source",
   "name": "R",
   "pygments_lexer": "r",
   "version": "3.6.3"
  }
 },
 "nbformat": 4,
 "nbformat_minor": 4
}
