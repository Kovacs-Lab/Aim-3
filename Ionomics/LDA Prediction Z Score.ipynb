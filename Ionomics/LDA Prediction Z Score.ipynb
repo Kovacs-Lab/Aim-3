{
 "cells": [
  {
   "cell_type": "code",
   "execution_count": 1,
   "metadata": {},
   "outputs": [
    {
     "name": "stderr",
     "output_type": "stream",
     "text": [
      "Installing package into 'C:/Users/2198K/Documents/R/win-library/3.6'\n",
      "(as 'lib' is unspecified)\n",
      "\n"
     ]
    },
    {
     "name": "stdout",
     "output_type": "stream",
     "text": [
      "\n",
      "  There is a binary version available but the source version is later:\n",
      "       binary   source needs_compilation\n",
      "MASS 7.3-51.5 7.3-51.6              TRUE\n",
      "\n",
      "  Binaries will be installed\n",
      "package 'MASS' successfully unpacked and MD5 sums checked\n"
     ]
    },
    {
     "name": "stderr",
     "output_type": "stream",
     "text": [
      "Warning message:\n",
      "\"cannot remove prior installation of package 'MASS'\"\n",
      "Warning message in file.copy(savedcopy, lib, recursive = TRUE):\n",
      "\"problem copying C:\\Users\\2198K\\Documents\\R\\win-library\\3.6\\00LOCK\\MASS\\libs\\x64\\MASS.dll to C:\\Users\\2198K\\Documents\\R\\win-library\\3.6\\MASS\\libs\\x64\\MASS.dll: Permission denied\"\n",
      "Warning message:\n",
      "\"restored 'MASS'\"\n"
     ]
    },
    {
     "name": "stdout",
     "output_type": "stream",
     "text": [
      "\n",
      "The downloaded binary packages are in\n",
      "\tC:\\Users\\2198K\\AppData\\Local\\Temp\\RtmpauPhcs\\downloaded_packages\n"
     ]
    },
    {
     "name": "stderr",
     "output_type": "stream",
     "text": [
      "Installing package into 'C:/Users/2198K/Documents/R/win-library/3.6'\n",
      "(as 'lib' is unspecified)\n",
      "\n"
     ]
    },
    {
     "name": "stdout",
     "output_type": "stream",
     "text": [
      "package 'missMDA' successfully unpacked and MD5 sums checked\n",
      "\n",
      "The downloaded binary packages are in\n",
      "\tC:\\Users\\2198K\\AppData\\Local\\Temp\\RtmpauPhcs\\downloaded_packages\n"
     ]
    },
    {
     "name": "stderr",
     "output_type": "stream",
     "text": [
      "Installing package into 'C:/Users/2198K/Documents/R/win-library/3.6'\n",
      "(as 'lib' is unspecified)\n",
      "\n"
     ]
    },
    {
     "name": "stdout",
     "output_type": "stream",
     "text": [
      "package 'tidyverse' successfully unpacked and MD5 sums checked\n",
      "\n",
      "The downloaded binary packages are in\n",
      "\tC:\\Users\\2198K\\AppData\\Local\\Temp\\RtmpauPhcs\\downloaded_packages\n"
     ]
    },
    {
     "name": "stderr",
     "output_type": "stream",
     "text": [
      "-- \u001b[1mAttaching packages\u001b[22m --------------------------------------- tidyverse 1.3.0 --\n",
      "\n",
      "\u001b[32mv\u001b[39m \u001b[34mggplot2\u001b[39m 3.2.1     \u001b[32mv\u001b[39m \u001b[34mpurrr  \u001b[39m 0.3.3\n",
      "\u001b[32mv\u001b[39m \u001b[34mtibble \u001b[39m 2.1.3     \u001b[32mv\u001b[39m \u001b[34mdplyr  \u001b[39m 0.8.4\n",
      "\u001b[32mv\u001b[39m \u001b[34mtidyr  \u001b[39m 1.0.2     \u001b[32mv\u001b[39m \u001b[34mstringr\u001b[39m 1.4.0\n",
      "\u001b[32mv\u001b[39m \u001b[34mreadr  \u001b[39m 1.3.1     \u001b[32mv\u001b[39m \u001b[34mforcats\u001b[39m 0.4.0\n",
      "\n",
      "-- \u001b[1mConflicts\u001b[22m ------------------------------------------ tidyverse_conflicts() --\n",
      "\u001b[31mx\u001b[39m \u001b[34mdplyr\u001b[39m::\u001b[32mfilter()\u001b[39m masks \u001b[34mstats\u001b[39m::filter()\n",
      "\u001b[31mx\u001b[39m \u001b[34mdplyr\u001b[39m::\u001b[32mlag()\u001b[39m    masks \u001b[34mstats\u001b[39m::lag()\n",
      "\u001b[31mx\u001b[39m \u001b[34mdplyr\u001b[39m::\u001b[32mselect()\u001b[39m masks \u001b[34mMASS\u001b[39m::select()\n",
      "\n",
      "Installing package into 'C:/Users/2198K/Documents/R/win-library/3.6'\n",
      "(as 'lib' is unspecified)\n",
      "\n"
     ]
    },
    {
     "name": "stdout",
     "output_type": "stream",
     "text": [
      "package 'caret' successfully unpacked and MD5 sums checked\n"
     ]
    },
    {
     "name": "stderr",
     "output_type": "stream",
     "text": [
      "Warning message:\n",
      "\"cannot remove prior installation of package 'caret'\"\n",
      "Warning message in file.copy(savedcopy, lib, recursive = TRUE):\n",
      "\"problem copying C:\\Users\\2198K\\Documents\\R\\win-library\\3.6\\00LOCK\\caret\\libs\\x64\\caret.dll to C:\\Users\\2198K\\Documents\\R\\win-library\\3.6\\caret\\libs\\x64\\caret.dll: Permission denied\"\n",
      "Warning message:\n",
      "\"restored 'caret'\"\n"
     ]
    },
    {
     "name": "stdout",
     "output_type": "stream",
     "text": [
      "\n",
      "The downloaded binary packages are in\n",
      "\tC:\\Users\\2198K\\AppData\\Local\\Temp\\RtmpauPhcs\\downloaded_packages\n"
     ]
    },
    {
     "name": "stderr",
     "output_type": "stream",
     "text": [
      "Loading required package: lattice\n",
      "\n",
      "\n",
      "Attaching package: 'caret'\n",
      "\n",
      "\n",
      "The following object is masked from 'package:purrr':\n",
      "\n",
      "    lift\n",
      "\n",
      "\n"
     ]
    }
   ],
   "source": [
    "install.packages(\"MASS\")\n",
    "library(\"MASS\")\n",
    "install.packages(\"missMDA\")\n",
    "library(\"missMDA\")\n",
    "install.packages(\"tidyverse\")\n",
    "library(\"tidyverse\")\n",
    "install.packages(\"caret\")\n",
    "library(\"caret\")"
   ]
  },
  {
   "cell_type": "code",
   "execution_count": 2,
   "metadata": {},
   "outputs": [],
   "source": [
    "ionomics <- read.csv('New_ionStats.csv',colClasses =c(\"NULL\",\"NULL\",NA,NA,NA,NA,NA,NA,NA,NA,NA,NA,NA,NA,NA,\n",
    "                                                                    NA,NA,NA,NA,NA,NA,NA))\n",
    "ionomics <- imputePCA(ionomics, method = \"Regularized\")"
   ]
  },
  {
   "cell_type": "code",
   "execution_count": 3,
   "metadata": {},
   "outputs": [],
   "source": [
    "# Split the data into training (80%) and test set (20%)\n",
    "set.seed(123)\n",
    "training.samples <- ionomics$completeObs[,2] %>%\n",
    "  createDataPartition(p = 0.8, list = FALSE)\n",
    "train.data <- ionomics$completeObs[training.samples, ]\n",
    "test.data <- ionomics$completeObs[-training.samples, ]\n",
    "train.data <- unlist(test.data)\n",
    "test.data <- unlist(test.data)\n",
    "train.data <- as.data.frame(train.data)\n",
    "test.data <- as.data.frame(test.data)"
   ]
  },
  {
   "cell_type": "code",
   "execution_count": 4,
   "metadata": {},
   "outputs": [
    {
     "data": {
      "text/html": [
       "0.975609756097561"
      ],
      "text/latex": [
       "0.975609756097561"
      ],
      "text/markdown": [
       "0.975609756097561"
      ],
      "text/plain": [
       "[1] 0.9756098"
      ]
     },
     "metadata": {},
     "output_type": "display_data"
    },
    {
     "data": {
      "text/plain": [
       "Call:\n",
       "lda(Spec_int ~ ., data = train.data)\n",
       "\n",
       "Prior probabilities of groups:\n",
       "         1          2          3          4          6          7          8 \n",
       "0.03658537 0.02439024 0.09756098 0.06097561 0.14634146 0.07317073 0.01219512 \n",
       "         9 \n",
       "0.54878049 \n",
       "\n",
       "Group means:\n",
       "         B11         Na23       Mg26        Al27         P31        S34\n",
       "1  1.2654346  0.628462377 -0.7298818 -0.15824870  0.15873035  0.4553207\n",
       "2  0.6224360  0.870009816  0.1637802 -0.07227465  1.34705800  1.4730770\n",
       "3  1.1501877  1.560495566  0.5173016  0.40350927  1.99861996  1.8524296\n",
       "4  0.5879879  0.284809660  0.4715818 -0.00970125  0.94701934  0.8964740\n",
       "6  1.1186853  0.435989766 -1.1421121 -0.12961366  0.53600859  0.8841790\n",
       "7  0.7792849 -0.008727842 -0.2770220 -0.11076915  0.76545626  0.5504412\n",
       "8  0.3200617  0.320312800 -1.0476761  0.08140163  0.05124661  1.0835806\n",
       "9 -0.8254546 -0.526656220  0.4803133 -0.15746892 -0.76938705 -0.7118292\n",
       "         K39       Ca44       Fe54       Mn55        Co59        Ni60\n",
       "1 -0.1364458 -0.6264706  0.7307391  0.9297946  0.09027473 -0.30821860\n",
       "2  0.6152157 -0.2501793  0.3561407  0.7709207  0.16207875  0.12546470\n",
       "3  1.7899305 -0.2950587  1.6888205  1.8910697  1.46408129  2.61693975\n",
       "4  0.8706074 -0.6691380 -0.1150952  0.9852850 -0.01810812 -0.08469209\n",
       "6  0.5208443 -0.5921833  0.8391507  0.6978088 -0.30277059 -0.46466582\n",
       "7  0.4679931 -0.7338337  0.4457689  0.8507405 -0.23751760 -0.32355382\n",
       "8  0.6461000 -0.7733082  0.3896148  1.4225535  0.54098340 -0.19178456\n",
       "9 -0.6871714  0.5878957 -0.4928926 -0.8364290 -0.02930541 -0.18421436\n",
       "         Cu63       Zn66        As75       Rb85          Sr88        Mo98\n",
       "1  0.27199291  1.1852688  0.13877258 -0.4237048  0.3850541800  0.05549617\n",
       "2  1.76079895  0.9200710  0.53405993 -0.5737202  0.9158131500 -0.66761337\n",
       "3  2.94355054  2.2004031  0.72747567  0.1300876  0.3915242063  2.18027743\n",
       "4  0.81034624  0.7528997  0.19752718 -0.9974342  0.1432016960 -0.18771088\n",
       "6 -0.09633629  0.6647049 -0.10070371 -0.8093098 -0.0004643686  0.25221204\n",
       "7  1.02726845  0.6693079 -0.36256126 -0.6641412 -0.2828834683 -0.10581618\n",
       "8 -0.16095762  1.6070946 -0.03917922 -1.1445233 -0.1492746300 -0.61310863\n",
       "9 -0.67560448 -0.7523063 -0.22578287  0.4059822 -0.0191957396 -0.40340378\n",
       "       Cd111\n",
       "1  0.2208235\n",
       "2  0.6320442\n",
       "3  0.8873500\n",
       "4  0.5027184\n",
       "6  0.1254879\n",
       "7  0.3489545\n",
       "8  0.6195204\n",
       "9 -0.4787140\n",
       "\n",
       "Coefficients of linear discriminants:\n",
       "              LD1         LD2        LD3         LD4         LD5         LD6\n",
       "B11   -1.94845720 -0.45264783 -1.6151422  0.02279291  0.58607767  1.12548821\n",
       "Na23   0.38035721 -0.23688052  0.0825160 -0.32825880 -0.03718634  0.04665259\n",
       "Mg26  -0.04365047  0.37770659  0.3436411  0.74326311 -0.11256046 -0.22189679\n",
       "Al27  -0.21397727  1.10142842  0.2523972  0.29975144  0.04967743 -0.23829264\n",
       "P31   -1.02676608 -0.69406855 -0.3247736 -0.28064457  0.60920945  0.96695328\n",
       "S34    0.38015132 -0.42419810 -0.3902688 -0.19628319 -0.69457308  0.47701990\n",
       "K39   -0.60381988  0.05845284  0.7384385  1.45766380 -0.86808092  0.62948704\n",
       "Ca44   1.90140965  0.88153371 -0.9252651  1.18344534  0.23415342  0.67556327\n",
       "Fe54  -0.51246642 -0.12210257 -1.1783621  0.49470870  0.62211944 -0.37480447\n",
       "Mn55  -2.70272896  0.45779284  1.0632570  1.43994895  0.37670627 -0.44907269\n",
       "Co59   0.54090839  0.06079812 -0.2353418  0.13751563  0.08924977  0.22482367\n",
       "Ni60   0.27718497  0.81288973  0.6071284 -0.30369670 -0.31247681  0.19525661\n",
       "Cu63  -0.55269852  1.12799948  0.6813185 -0.37825708  1.09651288  0.07052622\n",
       "Zn66   0.28575716 -0.61262146 -0.3837819 -0.86104255 -0.66412235 -1.74333800\n",
       "As75   1.11087382 -0.81390293  0.1683079 -1.65900062 -1.55730657  0.42022723\n",
       "Rb85   1.43804743  0.51812879 -1.0004468 -0.55046047  0.67709228  0.03369381\n",
       "Sr88  -0.80015366 -0.98819727  0.8850037 -1.55887830  0.05620774 -0.06825611\n",
       "Mo98  -0.40594117  1.94587358 -1.3236672  0.25481764 -0.49769460 -0.24133967\n",
       "Cd111 -0.76014201  0.85291251  0.9964468 -0.08175406  0.32078941 -0.53604445\n",
       "              LD7\n",
       "B11   -1.29822442\n",
       "Na23   0.20340855\n",
       "Mg26  -0.78164101\n",
       "Al27  -0.05140865\n",
       "P31   -0.17590684\n",
       "S34    0.91907415\n",
       "K39    0.19149097\n",
       "Ca44   1.30743448\n",
       "Fe54   0.71176806\n",
       "Mn55  -0.03731199\n",
       "Co59  -0.37241033\n",
       "Ni60   0.24419036\n",
       "Cu63   0.20948284\n",
       "Zn66   0.35785177\n",
       "As75  -1.15641617\n",
       "Rb85   0.07871950\n",
       "Sr88  -0.36211469\n",
       "Mo98  -0.86007201\n",
       "Cd111  0.85788167\n",
       "\n",
       "Proportion of trace:\n",
       "   LD1    LD2    LD3    LD4    LD5    LD6    LD7 \n",
       "0.8716 0.0890 0.0238 0.0064 0.0042 0.0030 0.0021 "
      ]
     },
     "metadata": {},
     "output_type": "display_data"
    }
   ],
   "source": [
    "# Fit the model\n",
    "model <- lda(Spec_int~., data = train.data)\n",
    "# Make predictions\n",
    "predictions <- model %>% predict(test.data)\n",
    "# Model accuracy\n",
    "mean(predictions$class==test.data$Spec_int)\n",
    "model"
   ]
  },
  {
   "cell_type": "code",
   "execution_count": 5,
   "metadata": {},
   "outputs": [
    {
     "data": {
      "image/png": "[encoded data removed]",
      "text/plain": [
       "plot without title"
      ]
     },
     "metadata": {
      "image/png": {
       "height": 420,
       "width": 420
      },
      "text/plain": {
       "height": 420,
       "width": 420
      }
     },
     "output_type": "display_data"
    }
   ],
   "source": [
    "plot(model)"
   ]
  },
  {
   "cell_type": "code",
   "execution_count": 6,
   "metadata": {},
   "outputs": [
    {
     "data": {
      "text/html": [
       "<style>\n",
       ".list-inline {list-style: none; margin:0; padding: 0}\n",
       ".list-inline>li {display: inline-block}\n",
       ".list-inline>li:not(:last-child)::after {content: \"\\00b7\"; padding: 0 .5ex}\n",
       "</style>\n",
       "<ol class=list-inline><li>1</li><li>2</li><li>1</li><li>2</li><li>2</li><li>3</li></ol>\n",
       "\n",
       "<details>\n",
       "\t<summary style=display:list-item;cursor:pointer>\n",
       "\t\t<strong>Levels</strong>:\n",
       "\t</summary>\n",
       "\t<style>\n",
       "\t.list-inline {list-style: none; margin:0; padding: 0}\n",
       "\t.list-inline>li {display: inline-block}\n",
       "\t.list-inline>li:not(:last-child)::after {content: \"\\00b7\"; padding: 0 .5ex}\n",
       "\t</style>\n",
       "\t<ol class=list-inline><li>'1'</li><li>'2'</li><li>'3'</li><li>'4'</li><li>'6'</li><li>'7'</li><li>'8'</li><li>'9'</li></ol>\n",
       "</details>"
      ],
      "text/latex": [
       "\\begin{enumerate*}\n",
       "\\item 1\n",
       "\\item 2\n",
       "\\item 1\n",
       "\\item 2\n",
       "\\item 2\n",
       "\\item 3\n",
       "\\end{enumerate*}\n",
       "\n",
       "\\emph{Levels}: \\begin{enumerate*}\n",
       "\\item '1'\n",
       "\\item '2'\n",
       "\\item '3'\n",
       "\\item '4'\n",
       "\\item '6'\n",
       "\\item '7'\n",
       "\\item '8'\n",
       "\\item '9'\n",
       "\\end{enumerate*}\n"
      ],
      "text/markdown": [
       "1. 1\n",
       "2. 2\n",
       "3. 1\n",
       "4. 2\n",
       "5. 2\n",
       "6. 3\n",
       "\n",
       "\n",
       "\n",
       "**Levels**: 1. '1'\n",
       "2. '2'\n",
       "3. '3'\n",
       "4. '4'\n",
       "5. '6'\n",
       "6. '7'\n",
       "7. '8'\n",
       "8. '9'\n",
       "\n",
       "\n"
      ],
      "text/plain": [
       "[1] 1 2 1 2 2 3\n",
       "Levels: 1 2 3 4 6 7 8 9"
      ]
     },
     "metadata": {},
     "output_type": "display_data"
    },
    {
     "data": {
      "text/html": [
       "<table>\n",
       "<caption>A matrix: 6 × 8 of type dbl</caption>\n",
       "<thead>\n",
       "\t<tr><th></th><th scope=col>1</th><th scope=col>2</th><th scope=col>3</th><th scope=col>4</th><th scope=col>6</th><th scope=col>7</th><th scope=col>8</th><th scope=col>9</th></tr>\n",
       "</thead>\n",
       "<tbody>\n",
       "\t<tr><th scope=row>1</th><td>8.660530e-01</td><td>2.780898e-08</td><td>5.529508e-21</td><td>8.405863e-09</td><td>1.335305e-01</td><td>4.164654e-04</td><td>1.126929e-11</td><td>2.462894e-50</td></tr>\n",
       "\t<tr><th scope=row>2</th><td>9.984845e-02</td><td>6.347119e-01</td><td>1.243487e-22</td><td>2.042663e-01</td><td>4.653515e-02</td><td>1.462308e-02</td><td>1.511173e-05</td><td>5.674258e-39</td></tr>\n",
       "\t<tr><th scope=row>3</th><td>9.994287e-01</td><td>2.000817e-14</td><td>3.004003e-28</td><td>6.766431e-14</td><td>5.712700e-04</td><td>5.152563e-10</td><td>1.790633e-11</td><td>1.218165e-47</td></tr>\n",
       "\t<tr><th scope=row>4</th><td>9.659379e-07</td><td>9.981001e-01</td><td>4.089180e-22</td><td>1.860983e-03</td><td>7.310091e-07</td><td>3.721687e-05</td><td>5.511954e-09</td><td>6.168388e-47</td></tr>\n",
       "\t<tr><th scope=row>5</th><td>1.337028e-07</td><td>9.999916e-01</td><td>9.358218e-33</td><td>8.008054e-06</td><td>3.127285e-09</td><td>2.277441e-08</td><td>2.193360e-07</td><td>4.137124e-44</td></tr>\n",
       "\t<tr><th scope=row>6</th><td>2.670657e-23</td><td>2.728595e-27</td><td>1.000000e+00</td><td>1.055884e-19</td><td>1.061368e-22</td><td>8.337425e-16</td><td>1.295096e-29</td><td>8.092816e-75</td></tr>\n",
       "</tbody>\n",
       "</table>\n"
      ],
      "text/latex": [
       "A matrix: 6 × 8 of type dbl\n",
       "\\begin{tabular}{r|llllllll}\n",
       "  & 1 & 2 & 3 & 4 & 6 & 7 & 8 & 9\\\\\n",
       "\\hline\n",
       "\t1 & 8.660530e-01 & 2.780898e-08 & 5.529508e-21 & 8.405863e-09 & 1.335305e-01 & 4.164654e-04 & 1.126929e-11 & 2.462894e-50\\\\\n",
       "\t2 & 9.984845e-02 & 6.347119e-01 & 1.243487e-22 & 2.042663e-01 & 4.653515e-02 & 1.462308e-02 & 1.511173e-05 & 5.674258e-39\\\\\n",
       "\t3 & 9.994287e-01 & 2.000817e-14 & 3.004003e-28 & 6.766431e-14 & 5.712700e-04 & 5.152563e-10 & 1.790633e-11 & 1.218165e-47\\\\\n",
       "\t4 & 9.659379e-07 & 9.981001e-01 & 4.089180e-22 & 1.860983e-03 & 7.310091e-07 & 3.721687e-05 & 5.511954e-09 & 6.168388e-47\\\\\n",
       "\t5 & 1.337028e-07 & 9.999916e-01 & 9.358218e-33 & 8.008054e-06 & 3.127285e-09 & 2.277441e-08 & 2.193360e-07 & 4.137124e-44\\\\\n",
       "\t6 & 2.670657e-23 & 2.728595e-27 & 1.000000e+00 & 1.055884e-19 & 1.061368e-22 & 8.337425e-16 & 1.295096e-29 & 8.092816e-75\\\\\n",
       "\\end{tabular}\n"
      ],
      "text/markdown": [
       "\n",
       "A matrix: 6 × 8 of type dbl\n",
       "\n",
       "| <!--/--> | 1 | 2 | 3 | 4 | 6 | 7 | 8 | 9 |\n",
       "|---|---|---|---|---|---|---|---|---|\n",
       "| 1 | 8.660530e-01 | 2.780898e-08 | 5.529508e-21 | 8.405863e-09 | 1.335305e-01 | 4.164654e-04 | 1.126929e-11 | 2.462894e-50 |\n",
       "| 2 | 9.984845e-02 | 6.347119e-01 | 1.243487e-22 | 2.042663e-01 | 4.653515e-02 | 1.462308e-02 | 1.511173e-05 | 5.674258e-39 |\n",
       "| 3 | 9.994287e-01 | 2.000817e-14 | 3.004003e-28 | 6.766431e-14 | 5.712700e-04 | 5.152563e-10 | 1.790633e-11 | 1.218165e-47 |\n",
       "| 4 | 9.659379e-07 | 9.981001e-01 | 4.089180e-22 | 1.860983e-03 | 7.310091e-07 | 3.721687e-05 | 5.511954e-09 | 6.168388e-47 |\n",
       "| 5 | 1.337028e-07 | 9.999916e-01 | 9.358218e-33 | 8.008054e-06 | 3.127285e-09 | 2.277441e-08 | 2.193360e-07 | 4.137124e-44 |\n",
       "| 6 | 2.670657e-23 | 2.728595e-27 | 1.000000e+00 | 1.055884e-19 | 1.061368e-22 | 8.337425e-16 | 1.295096e-29 | 8.092816e-75 |\n",
       "\n"
      ],
      "text/plain": [
       "  1            2            3            4            6            7           \n",
       "1 8.660530e-01 2.780898e-08 5.529508e-21 8.405863e-09 1.335305e-01 4.164654e-04\n",
       "2 9.984845e-02 6.347119e-01 1.243487e-22 2.042663e-01 4.653515e-02 1.462308e-02\n",
       "3 9.994287e-01 2.000817e-14 3.004003e-28 6.766431e-14 5.712700e-04 5.152563e-10\n",
       "4 9.659379e-07 9.981001e-01 4.089180e-22 1.860983e-03 7.310091e-07 3.721687e-05\n",
       "5 1.337028e-07 9.999916e-01 9.358218e-33 8.008054e-06 3.127285e-09 2.277441e-08\n",
       "6 2.670657e-23 2.728595e-27 1.000000e+00 1.055884e-19 1.061368e-22 8.337425e-16\n",
       "  8            9           \n",
       "1 1.126929e-11 2.462894e-50\n",
       "2 1.511173e-05 5.674258e-39\n",
       "3 1.790633e-11 1.218165e-47\n",
       "4 5.511954e-09 6.168388e-47\n",
       "5 2.193360e-07 4.137124e-44\n",
       "6 1.295096e-29 8.092816e-75"
      ]
     },
     "metadata": {},
     "output_type": "display_data"
    },
    {
     "data": {
      "text/html": [
       "<table>\n",
       "<caption>A matrix: 3 × 7 of type dbl</caption>\n",
       "<thead>\n",
       "\t<tr><th></th><th scope=col>LD1</th><th scope=col>LD2</th><th scope=col>LD3</th><th scope=col>LD4</th><th scope=col>LD5</th><th scope=col>LD6</th><th scope=col>LD7</th></tr>\n",
       "</thead>\n",
       "<tbody>\n",
       "\t<tr><th scope=row>1</th><td>-7.881449</td><td>-2.452022</td><td>-2.121092</td><td>-1.771958</td><td> 1.62476168</td><td>-0.6548339</td><td>-0.6138287</td></tr>\n",
       "\t<tr><th scope=row>2</th><td>-6.345819</td><td>-2.645294</td><td> 1.481254</td><td>-1.509078</td><td> 0.05582749</td><td> 0.5998606</td><td>-0.7194455</td></tr>\n",
       "\t<tr><th scope=row>3</th><td>-6.796615</td><td>-3.164009</td><td>-3.424467</td><td>-2.378990</td><td>-0.40287741</td><td>-3.8178325</td><td>-1.4071885</td></tr>\n",
       "</tbody>\n",
       "</table>\n"
      ],
      "text/latex": [
       "A matrix: 3 × 7 of type dbl\n",
       "\\begin{tabular}{r|lllllll}\n",
       "  & LD1 & LD2 & LD3 & LD4 & LD5 & LD6 & LD7\\\\\n",
       "\\hline\n",
       "\t1 & -7.881449 & -2.452022 & -2.121092 & -1.771958 &  1.62476168 & -0.6548339 & -0.6138287\\\\\n",
       "\t2 & -6.345819 & -2.645294 &  1.481254 & -1.509078 &  0.05582749 &  0.5998606 & -0.7194455\\\\\n",
       "\t3 & -6.796615 & -3.164009 & -3.424467 & -2.378990 & -0.40287741 & -3.8178325 & -1.4071885\\\\\n",
       "\\end{tabular}\n"
      ],
      "text/markdown": [
       "\n",
       "A matrix: 3 × 7 of type dbl\n",
       "\n",
       "| <!--/--> | LD1 | LD2 | LD3 | LD4 | LD5 | LD6 | LD7 |\n",
       "|---|---|---|---|---|---|---|---|\n",
       "| 1 | -7.881449 | -2.452022 | -2.121092 | -1.771958 |  1.62476168 | -0.6548339 | -0.6138287 |\n",
       "| 2 | -6.345819 | -2.645294 |  1.481254 | -1.509078 |  0.05582749 |  0.5998606 | -0.7194455 |\n",
       "| 3 | -6.796615 | -3.164009 | -3.424467 | -2.378990 | -0.40287741 | -3.8178325 | -1.4071885 |\n",
       "\n"
      ],
      "text/plain": [
       "  LD1       LD2       LD3       LD4       LD5         LD6        LD7       \n",
       "1 -7.881449 -2.452022 -2.121092 -1.771958  1.62476168 -0.6548339 -0.6138287\n",
       "2 -6.345819 -2.645294  1.481254 -1.509078  0.05582749  0.5998606 -0.7194455\n",
       "3 -6.796615 -3.164009 -3.424467 -2.378990 -0.40287741 -3.8178325 -1.4071885"
      ]
     },
     "metadata": {},
     "output_type": "display_data"
    }
   ],
   "source": [
    "# Predicted classes\n",
    "head(predictions$class, 6)\n",
    "# Predicted probabilities of class memebership.\n",
    "head(predictions$posterior, 6) \n",
    "# Linear discriminants\n",
    "head(predictions$x, 3) "
   ]
  },
  {
   "cell_type": "code",
   "execution_count": 7,
   "metadata": {},
   "outputs": [
    {
     "data": {
      "text/plain": [
       "         Species\n",
       "Predicted  1  2  3  4  6  7  8  9\n",
       "        1  2  0  0  0  0  0  0  0\n",
       "        2  1  2  0  0  0  0  0  0\n",
       "        3  0  0  8  0  0  0  0  0\n",
       "        4  0  0  0  5  0  0  0  0\n",
       "        6  0  0  0  0 12  1  0  0\n",
       "        7  0  0  0  0  0  5  0  0\n",
       "        8  0  0  0  0  0  0  1  0\n",
       "        9  0  0  0  0  0  0  0 45"
      ]
     },
     "metadata": {},
     "output_type": "display_data"
    }
   ],
   "source": [
    "predmodel.test.lda = predict(model, data=test.data)\n",
    "table(Predicted=predmodel.test.lda$class, Species=test.data$Spec_int)"
   ]
  }
 ],
 "metadata": {
  "kernelspec": {
   "display_name": "R",
   "language": "R",
   "name": "ir"
  },
  "language_info": {
   "codemirror_mode": "r",
   "file_extension": ".r",
   "mimetype": "text/x-r-source",
   "name": "R",
   "pygments_lexer": "r",
   "version": "3.6.3"
  }
 },
 "nbformat": 4,
 "nbformat_minor": 4
}
