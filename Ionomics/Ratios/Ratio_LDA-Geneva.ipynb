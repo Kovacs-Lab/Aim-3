{
 "cells": [
  {
   "cell_type": "code",
   "execution_count": 1,
   "metadata": {},
   "outputs": [
    {
     "name": "stderr",
     "output_type": "stream",
     "text": [
      "Installing package into 'C:/Users/vm1998/Documents/R/win-library/3.6'\n",
      "(as 'lib' is unspecified)\n",
      "\n"
     ]
    },
    {
     "name": "stdout",
     "output_type": "stream",
     "text": [
      "package 'MASS' successfully unpacked and MD5 sums checked\n",
      "\n",
      "The downloaded binary packages are in\n",
      "\tC:\\Users\\vm1998\\AppData\\Local\\Temp\\RtmpSazCnR\\downloaded_packages\n"
     ]
    },
    {
     "name": "stderr",
     "output_type": "stream",
     "text": [
      "Warning message:\n",
      "\"package 'MASS' was built under R version 3.6.3\"\n",
      "Installing package into 'C:/Users/vm1998/Documents/R/win-library/3.6'\n",
      "(as 'lib' is unspecified)\n",
      "\n"
     ]
    },
    {
     "name": "stdout",
     "output_type": "stream",
     "text": [
      "package 'missMDA' successfully unpacked and MD5 sums checked\n",
      "\n",
      "The downloaded binary packages are in\n",
      "\tC:\\Users\\vm1998\\AppData\\Local\\Temp\\RtmpSazCnR\\downloaded_packages\n"
     ]
    },
    {
     "name": "stderr",
     "output_type": "stream",
     "text": [
      "Warning message:\n",
      "\"package 'missMDA' was built under R version 3.6.3\"\n",
      "Installing package into 'C:/Users/vm1998/Documents/R/win-library/3.6'\n",
      "(as 'lib' is unspecified)\n",
      "\n"
     ]
    },
    {
     "name": "stdout",
     "output_type": "stream",
     "text": [
      "package 'tidyverse' successfully unpacked and MD5 sums checked\n",
      "\n",
      "The downloaded binary packages are in\n",
      "\tC:\\Users\\vm1998\\AppData\\Local\\Temp\\RtmpSazCnR\\downloaded_packages\n"
     ]
    },
    {
     "name": "stderr",
     "output_type": "stream",
     "text": [
      "Warning message:\n",
      "\"package 'tidyverse' was built under R version 3.6.3\"\n",
      "-- \u001b[1mAttaching packages\u001b[22m --------------------------------------- tidyverse 1.3.0 --\n",
      "\n",
      "\u001b[32mv\u001b[39m \u001b[34mggplot2\u001b[39m 3.2.1     \u001b[32mv\u001b[39m \u001b[34mpurrr  \u001b[39m 0.3.3\n",
      "\u001b[32mv\u001b[39m \u001b[34mtibble \u001b[39m 2.1.3     \u001b[32mv\u001b[39m \u001b[34mdplyr  \u001b[39m 0.8.4\n",
      "\u001b[32mv\u001b[39m \u001b[34mtidyr  \u001b[39m 1.0.2     \u001b[32mv\u001b[39m \u001b[34mstringr\u001b[39m 1.4.0\n",
      "\u001b[32mv\u001b[39m \u001b[34mreadr  \u001b[39m 1.3.1     \u001b[32mv\u001b[39m \u001b[34mforcats\u001b[39m 0.4.0\n",
      "\n",
      "Warning message:\n",
      "\"package 'ggplot2' was built under R version 3.6.2\"\n",
      "Warning message:\n",
      "\"package 'tibble' was built under R version 3.6.2\"\n",
      "Warning message:\n",
      "\"package 'tidyr' was built under R version 3.6.2\"\n",
      "Warning message:\n",
      "\"package 'readr' was built under R version 3.6.2\"\n",
      "Warning message:\n",
      "\"package 'purrr' was built under R version 3.6.2\"\n",
      "Warning message:\n",
      "\"package 'dplyr' was built under R version 3.6.2\"\n",
      "Warning message:\n",
      "\"package 'stringr' was built under R version 3.6.2\"\n",
      "Warning message:\n",
      "\"package 'forcats' was built under R version 3.6.2\"\n",
      "-- \u001b[1mConflicts\u001b[22m ------------------------------------------ tidyverse_conflicts() --\n",
      "\u001b[31mx\u001b[39m \u001b[34mdplyr\u001b[39m::\u001b[32mfilter()\u001b[39m masks \u001b[34mstats\u001b[39m::filter()\n",
      "\u001b[31mx\u001b[39m \u001b[34mdplyr\u001b[39m::\u001b[32mlag()\u001b[39m    masks \u001b[34mstats\u001b[39m::lag()\n",
      "\u001b[31mx\u001b[39m \u001b[34mdplyr\u001b[39m::\u001b[32mselect()\u001b[39m masks \u001b[34mMASS\u001b[39m::select()\n",
      "\n",
      "Installing package into 'C:/Users/vm1998/Documents/R/win-library/3.6'\n",
      "(as 'lib' is unspecified)\n",
      "\n"
     ]
    },
    {
     "name": "stdout",
     "output_type": "stream",
     "text": [
      "package 'caret' successfully unpacked and MD5 sums checked\n",
      "\n",
      "The downloaded binary packages are in\n",
      "\tC:\\Users\\vm1998\\AppData\\Local\\Temp\\RtmpSazCnR\\downloaded_packages\n"
     ]
    },
    {
     "name": "stderr",
     "output_type": "stream",
     "text": [
      "Warning message:\n",
      "\"package 'caret' was built under R version 3.6.3\"\n",
      "Loading required package: lattice\n",
      "\n",
      "\n",
      "Attaching package: 'caret'\n",
      "\n",
      "\n",
      "The following object is masked from 'package:purrr':\n",
      "\n",
      "    lift\n",
      "\n",
      "\n"
     ]
    }
   ],
   "source": [
    "install.packages(\"MASS\")\n",
    "library(\"MASS\")\n",
    "install.packages(\"missMDA\")\n",
    "library(\"missMDA\")\n",
    "install.packages(\"tidyverse\")\n",
    "library(\"tidyverse\")\n",
    "install.packages(\"caret\")\n",
    "library(\"caret\")"
   ]
  },
  {
   "cell_type": "code",
   "execution_count": 2,
   "metadata": {},
   "outputs": [],
   "source": [
    "ionomics <- read.csv('New_ionStats_Ratio_Geneva.csv',colClasses =c(\"NULL\",\"NULL\",NA,NA,NA,NA,NA,\"NULL\",NA,NA,NA,NA,NA,NA,NA,NA,NA,NA,NA,NA,NA,NA))\n",
    "ionomics <- imputePCA(ionomics, method = \"Regularized\")"
   ]
  },
  {
   "cell_type": "code",
   "execution_count": 3,
   "metadata": {},
   "outputs": [],
   "source": [
    "# Split the data into training (80%) and test set (20%)\n",
    "set.seed(123)\n",
    "training.samples <- ionomics$completeObs[,2] %>%\n",
    "  createDataPartition(p = 0.8, list = FALSE)\n",
    "train.data <- ionomics$completeObs[training.samples, ]\n",
    "test.data <- ionomics$completeObs[-training.samples, ]\n",
    "train.data <- unlist(test.data)\n",
    "test.data <- unlist(test.data)\n",
    "train.data <- as.data.frame(train.data)\n",
    "test.data <- as.data.frame(test.data)"
   ]
  },
  {
   "cell_type": "code",
   "execution_count": 4,
   "metadata": {},
   "outputs": [
    {
     "data": {
      "text/html": [
       "0.95"
      ],
      "text/latex": [
       "0.95"
      ],
      "text/markdown": [
       "0.95"
      ],
      "text/plain": [
       "[1] 0.95"
      ]
     },
     "metadata": {},
     "output_type": "display_data"
    },
    {
     "data": {
      "text/plain": [
       "Call:\n",
       "lda(Spec_int ~ ., data = train.data)\n",
       "\n",
       "Prior probabilities of groups:\n",
       "    1     2     3     4     5     6     7     8 \n",
       "0.100 0.025 0.100 0.200 0.025 0.425 0.100 0.025 \n",
       "\n",
       "Group means:\n",
       "       B11.P31   Na23.P31   Mg26.P31    Al27.P31    S34.P31     K39.P31\n",
       "1  0.003076262 -0.3706845 -0.1004750  0.06245308  0.1731449 -0.59343543\n",
       "2  0.009845849 -0.4924782 -0.2853911  0.06567931  0.3294651  0.06899866\n",
       "3 -0.171510967  0.1842071  0.1805013  0.08553417  0.5116272 -0.04844890\n",
       "4  0.040639082  0.6637454  0.8605287  0.07208679 -0.3486435  0.15169858\n",
       "5 -0.518517600 -0.3129068 -0.7926564  0.06083344 -0.8111581 -1.79021800\n",
       "6  0.136514315 -0.4151636 -0.3121905  0.06592384  0.4964840  0.02791021\n",
       "7 -3.150031009  0.8282051 -0.7391009 -3.47931473 -3.3453171 -1.23358598\n",
       "8  0.211779360 -0.5551523 -0.5409256  0.06618968 -0.9813241 -0.60090876\n",
       "     Ca44.P31    Fe54.P31   Mn55.P31    Co59.P31     Ni60.P31    Cu63.P31\n",
       "1  0.08980176  0.08172802 -0.1415203 -0.06292777 -0.392580893 -0.38786183\n",
       "2 -0.06683859  0.15188345 -0.1975967 -0.11385182 -0.450263230  0.45289850\n",
       "3  0.35774993  0.17934195  0.4615240  0.70154975  0.990165593  1.17951850\n",
       "4 -0.04676158 -0.08810086 -0.1367175 -0.01133881 -0.003471086  0.30264118\n",
       "5  0.14010267 -0.19932976  0.8420247  0.93305140  0.455703230 -1.00986860\n",
       "6  0.59000491  0.25568705  0.3376476  0.27800171 -0.412129953 -0.71575302\n",
       "7 -0.91784792 -3.30483602 -1.3188551 -1.98890039  2.968571914  3.73324437\n",
       "8 -0.16139534  0.02138837  0.2014552  0.14526850 -0.489976820 -0.08934733\n",
       "     Zn66.P31    As75.P31    Rb85.P31     Sr88.P31    Mo98.P31  Cd111.P31\n",
       "1 -0.34296072  0.05597457  0.65365854 -0.122623764 -0.07398221  0.3530630\n",
       "2 -0.41431403  0.06289227 -0.13351029 -0.006919272  0.61996610  0.2962290\n",
       "3  0.13546991  0.06469753  0.09616734  0.468808920  1.40183222  0.5771112\n",
       "4  0.40555877  0.10050971 -0.37621581 -0.087176489 -0.69563739  0.1239578\n",
       "5 -0.53908575  0.07015572 -0.74260604  0.076774070 -0.91911900 -1.0119560\n",
       "6 -0.09037591  0.05830649  0.01180951  0.497912336  0.07257761 -0.3947901\n",
       "7 -0.46334092 -3.47871277 -2.12659530 -1.235959962 -0.74542183  2.2725066\n",
       "8 -0.01817668  0.06255661  0.09562945 -0.553430900 -0.75558070 -0.7041091\n",
       "\n",
       "Coefficients of linear discriminants:\n",
       "                   LD1         LD2          LD3        LD4          LD5\n",
       "B11.P31    -1.87248485 -0.37946734   0.08344349 -2.5679888   2.16212129\n",
       "Na23.P31    0.05966660 -0.76667367  -0.05419279  0.7863171   0.04012160\n",
       "Mg26.P31   -0.05646009 -0.86175363   0.00712390 -0.8573648   0.07693280\n",
       "Al27.P31   38.68062023  3.24991240  12.01430433 -7.2024904   8.40695667\n",
       "S34.P31    -0.04188713  0.28142242   0.10879135  0.5589364  -1.25743061\n",
       "K39.P31    -0.44487506  0.26748128  -0.55406343  0.3489960   1.02427300\n",
       "Ca44.P31   -1.06226083  0.04853791   0.87948388 -2.3630848   0.13362821\n",
       "Fe54.P31   -0.41975396  1.10037524   2.29334348  0.8897481   0.90713889\n",
       "Mn55.P31   -0.89701650 -0.58034313  -0.92547465 -0.9658322   0.36956844\n",
       "Co59.P31    0.26016089  1.11193877  -0.21621161  0.3010023   0.77029580\n",
       "Ni60.P31    6.84418156  0.26145959  -1.17927781 -2.7083921  -0.81472531\n",
       "Cu63.P31   -0.92446200 -0.73167506   1.24252163  0.7696658   1.23515349\n",
       "Zn66.P31    0.49033103 -0.79826108   0.08170310  1.1268905  -0.56071643\n",
       "As75.P31  -31.64222958 -5.10425190 -13.81458499  7.5992854 -11.10222989\n",
       "Rb85.P31    0.28614628  0.05178765   0.72305914 -0.4118933  -1.08300422\n",
       "Sr88.P31    1.02110411  0.30998645  -1.33185264  2.8371362  -0.03115489\n",
       "Mo98.P31    0.44062124  0.33628055   0.45658277  0.4950020   0.73903058\n",
       "Cd111.P31  -0.77451190  0.32618077   0.84182443  0.6132748  -1.56949348\n",
       "                  LD6           LD7\n",
       "B11.P31   -0.57527653   1.170628962\n",
       "Na23.P31  -0.06727777  -0.075966924\n",
       "Mg26.P31   0.82150486   0.091777783\n",
       "Al27.P31   6.80792737  21.909973819\n",
       "S34.P31    1.26341526  -0.187539684\n",
       "K39.P31    0.25525242   0.130852656\n",
       "Ca44.P31  -0.12366496   0.843456490\n",
       "Fe54.P31   1.29417702   0.446547644\n",
       "Mn55.P31  -1.62749926  -0.001426551\n",
       "Co59.P31   0.41895007  -0.916959524\n",
       "Ni60.P31   1.96995556   1.647526729\n",
       "Cu63.P31  -1.75869306  -0.886044086\n",
       "Zn66.P31   0.16110709   1.464506165\n",
       "As75.P31  -8.17712096 -22.499760908\n",
       "Rb85.P31  -0.78175034   0.471681037\n",
       "Sr88.P31  -0.51775986  -1.213041949\n",
       "Mo98.P31  -0.29336129  -0.141878364\n",
       "Cd111.P31  0.21755819  -0.089173651\n",
       "\n",
       "Proportion of trace:\n",
       "   LD1    LD2    LD3    LD4    LD5    LD6    LD7 \n",
       "0.5875 0.1550 0.1204 0.0571 0.0536 0.0199 0.0065 "
      ]
     },
     "metadata": {},
     "output_type": "display_data"
    }
   ],
   "source": [
    "# Fit the model\n",
    "model <- lda(Spec_int~., data = train.data)\n",
    "# Make predictions\n",
    "predictions <- model %>% predict(test.data)\n",
    "# Model accuracy\n",
    "mean(predictions$class==test.data$Spec_int)\n",
    "model"
   ]
  },
  {
   "cell_type": "code",
   "execution_count": 5,
   "metadata": {},
   "outputs": [
    {
     "data": {
      "image/png": "[encoded data removed]",
      "text/plain": [
       "plot without title"
      ]
     },
     "metadata": {
      "image/png": {
       "height": 420,
       "width": 420
      },
      "text/plain": {
       "height": 420,
       "width": 420
      }
     },
     "output_type": "display_data"
    }
   ],
   "source": [
    "plot(model)"
   ]
  },
  {
   "cell_type": "code",
   "execution_count": 6,
   "metadata": {},
   "outputs": [
    {
     "data": {
      "text/html": [
       "<style>\n",
       ".list-inline {list-style: none; margin:0; padding: 0}\n",
       ".list-inline>li {display: inline-block}\n",
       ".list-inline>li:not(:last-child)::after {content: \"\\00b7\"; padding: 0 .5ex}\n",
       "</style>\n",
       "<ol class=list-inline><li>1</li><li>1</li><li>1</li><li>1</li><li>2</li><li>3</li></ol>\n",
       "\n",
       "<details>\n",
       "\t<summary style=display:list-item;cursor:pointer>\n",
       "\t\t<strong>Levels</strong>:\n",
       "\t</summary>\n",
       "\t<style>\n",
       "\t.list-inline {list-style: none; margin:0; padding: 0}\n",
       "\t.list-inline>li {display: inline-block}\n",
       "\t.list-inline>li:not(:last-child)::after {content: \"\\00b7\"; padding: 0 .5ex}\n",
       "\t</style>\n",
       "\t<ol class=list-inline><li>'1'</li><li>'2'</li><li>'3'</li><li>'4'</li><li>'5'</li><li>'6'</li><li>'7'</li><li>'8'</li></ol>\n",
       "</details>"
      ],
      "text/latex": [
       "\\begin{enumerate*}\n",
       "\\item 1\n",
       "\\item 1\n",
       "\\item 1\n",
       "\\item 1\n",
       "\\item 2\n",
       "\\item 3\n",
       "\\end{enumerate*}\n",
       "\n",
       "\\emph{Levels}: \\begin{enumerate*}\n",
       "\\item '1'\n",
       "\\item '2'\n",
       "\\item '3'\n",
       "\\item '4'\n",
       "\\item '5'\n",
       "\\item '6'\n",
       "\\item '7'\n",
       "\\item '8'\n",
       "\\end{enumerate*}\n"
      ],
      "text/markdown": [
       "1. 1\n",
       "2. 1\n",
       "3. 1\n",
       "4. 1\n",
       "5. 2\n",
       "6. 3\n",
       "\n",
       "\n",
       "\n",
       "**Levels**: 1. '1'\n",
       "2. '2'\n",
       "3. '3'\n",
       "4. '4'\n",
       "5. '5'\n",
       "6. '6'\n",
       "7. '7'\n",
       "8. '8'\n",
       "\n",
       "\n"
      ],
      "text/plain": [
       "[1] 1 1 1 1 2 3\n",
       "Levels: 1 2 3 4 5 6 7 8"
      ]
     },
     "metadata": {},
     "output_type": "display_data"
    },
    {
     "data": {
      "text/html": [
       "<table>\n",
       "<caption>A matrix: 6 × 8 of type dbl</caption>\n",
       "<thead>\n",
       "\t<tr><th></th><th scope=col>1</th><th scope=col>2</th><th scope=col>3</th><th scope=col>4</th><th scope=col>5</th><th scope=col>6</th><th scope=col>7</th><th scope=col>8</th></tr>\n",
       "</thead>\n",
       "<tbody>\n",
       "\t<tr><th scope=row>1</th><td>9.998037e-01</td><td>1.449806e-07</td><td>2.991637e-21</td><td>1.056487e-06</td><td>2.064845e-24</td><td>1.905470e-04</td><td>4.589545e-06</td><td>1.567935e-13</td></tr>\n",
       "\t<tr><th scope=row>2</th><td>5.305401e-01</td><td>1.113183e-02</td><td>9.592265e-23</td><td>2.098850e-01</td><td>6.689134e-23</td><td>1.282266e-01</td><td>1.177533e-01</td><td>2.463128e-03</td></tr>\n",
       "\t<tr><th scope=row>3</th><td>9.470053e-01</td><td>3.163099e-06</td><td>3.249928e-18</td><td>4.314228e-06</td><td>4.810308e-24</td><td>4.839862e-02</td><td>4.588145e-03</td><td>4.213779e-07</td></tr>\n",
       "\t<tr><th scope=row>4</th><td>9.980131e-01</td><td>6.668847e-07</td><td>1.105213e-21</td><td>3.982376e-07</td><td>2.715247e-22</td><td>1.968576e-03</td><td>1.726845e-05</td><td>1.853545e-08</td></tr>\n",
       "\t<tr><th scope=row>5</th><td>1.446156e-04</td><td>9.956701e-01</td><td>2.707088e-25</td><td>1.690514e-06</td><td>6.311016e-33</td><td>4.136042e-03</td><td>4.740039e-05</td><td>1.500638e-07</td></tr>\n",
       "\t<tr><th scope=row>6</th><td>1.738826e-13</td><td>2.477606e-20</td><td>9.999999e-01</td><td>4.453761e-11</td><td>9.034676e-08</td><td>3.375749e-12</td><td>2.323297e-15</td><td>2.469629e-22</td></tr>\n",
       "</tbody>\n",
       "</table>\n"
      ],
      "text/latex": [
       "A matrix: 6 × 8 of type dbl\n",
       "\\begin{tabular}{r|llllllll}\n",
       "  & 1 & 2 & 3 & 4 & 5 & 6 & 7 & 8\\\\\n",
       "\\hline\n",
       "\t1 & 9.998037e-01 & 1.449806e-07 & 2.991637e-21 & 1.056487e-06 & 2.064845e-24 & 1.905470e-04 & 4.589545e-06 & 1.567935e-13\\\\\n",
       "\t2 & 5.305401e-01 & 1.113183e-02 & 9.592265e-23 & 2.098850e-01 & 6.689134e-23 & 1.282266e-01 & 1.177533e-01 & 2.463128e-03\\\\\n",
       "\t3 & 9.470053e-01 & 3.163099e-06 & 3.249928e-18 & 4.314228e-06 & 4.810308e-24 & 4.839862e-02 & 4.588145e-03 & 4.213779e-07\\\\\n",
       "\t4 & 9.980131e-01 & 6.668847e-07 & 1.105213e-21 & 3.982376e-07 & 2.715247e-22 & 1.968576e-03 & 1.726845e-05 & 1.853545e-08\\\\\n",
       "\t5 & 1.446156e-04 & 9.956701e-01 & 2.707088e-25 & 1.690514e-06 & 6.311016e-33 & 4.136042e-03 & 4.740039e-05 & 1.500638e-07\\\\\n",
       "\t6 & 1.738826e-13 & 2.477606e-20 & 9.999999e-01 & 4.453761e-11 & 9.034676e-08 & 3.375749e-12 & 2.323297e-15 & 2.469629e-22\\\\\n",
       "\\end{tabular}\n"
      ],
      "text/markdown": [
       "\n",
       "A matrix: 6 × 8 of type dbl\n",
       "\n",
       "| <!--/--> | 1 | 2 | 3 | 4 | 5 | 6 | 7 | 8 |\n",
       "|---|---|---|---|---|---|---|---|---|\n",
       "| 1 | 9.998037e-01 | 1.449806e-07 | 2.991637e-21 | 1.056487e-06 | 2.064845e-24 | 1.905470e-04 | 4.589545e-06 | 1.567935e-13 |\n",
       "| 2 | 5.305401e-01 | 1.113183e-02 | 9.592265e-23 | 2.098850e-01 | 6.689134e-23 | 1.282266e-01 | 1.177533e-01 | 2.463128e-03 |\n",
       "| 3 | 9.470053e-01 | 3.163099e-06 | 3.249928e-18 | 4.314228e-06 | 4.810308e-24 | 4.839862e-02 | 4.588145e-03 | 4.213779e-07 |\n",
       "| 4 | 9.980131e-01 | 6.668847e-07 | 1.105213e-21 | 3.982376e-07 | 2.715247e-22 | 1.968576e-03 | 1.726845e-05 | 1.853545e-08 |\n",
       "| 5 | 1.446156e-04 | 9.956701e-01 | 2.707088e-25 | 1.690514e-06 | 6.311016e-33 | 4.136042e-03 | 4.740039e-05 | 1.500638e-07 |\n",
       "| 6 | 1.738826e-13 | 2.477606e-20 | 9.999999e-01 | 4.453761e-11 | 9.034676e-08 | 3.375749e-12 | 2.323297e-15 | 2.469629e-22 |\n",
       "\n"
      ],
      "text/plain": [
       "  1            2            3            4            5            6           \n",
       "1 9.998037e-01 1.449806e-07 2.991637e-21 1.056487e-06 2.064845e-24 1.905470e-04\n",
       "2 5.305401e-01 1.113183e-02 9.592265e-23 2.098850e-01 6.689134e-23 1.282266e-01\n",
       "3 9.470053e-01 3.163099e-06 3.249928e-18 4.314228e-06 4.810308e-24 4.839862e-02\n",
       "4 9.980131e-01 6.668847e-07 1.105213e-21 3.982376e-07 2.715247e-22 1.968576e-03\n",
       "5 1.446156e-04 9.956701e-01 2.707088e-25 1.690514e-06 6.311016e-33 4.136042e-03\n",
       "6 1.738826e-13 2.477606e-20 9.999999e-01 4.453761e-11 9.034676e-08 3.375749e-12\n",
       "  7            8           \n",
       "1 4.589545e-06 1.567935e-13\n",
       "2 1.177533e-01 2.463128e-03\n",
       "3 4.588145e-03 4.213779e-07\n",
       "4 1.726845e-05 1.853545e-08\n",
       "5 4.740039e-05 1.500638e-07\n",
       "6 2.323297e-15 2.469629e-22"
      ]
     },
     "metadata": {},
     "output_type": "display_data"
    },
    {
     "data": {
      "text/html": [
       "<table>\n",
       "<caption>A matrix: 3 × 7 of type dbl</caption>\n",
       "<thead>\n",
       "\t<tr><th></th><th scope=col>LD1</th><th scope=col>LD2</th><th scope=col>LD3</th><th scope=col>LD4</th><th scope=col>LD5</th><th scope=col>LD6</th><th scope=col>LD7</th></tr>\n",
       "</thead>\n",
       "<tbody>\n",
       "\t<tr><th scope=row>1</th><td>-0.8538641</td><td> 0.6101272</td><td>1.7859495</td><td> 0.4211026</td><td>-3.9958729</td><td> 1.2023928</td><td>-0.3087299</td></tr>\n",
       "\t<tr><th scope=row>2</th><td>-1.9866268</td><td>-1.3015019</td><td>0.8145711</td><td>-0.4605771</td><td>-0.9856992</td><td>-1.1674844</td><td>-1.6735737</td></tr>\n",
       "\t<tr><th scope=row>3</th><td>-0.7645461</td><td> 1.3378855</td><td>2.1957870</td><td>-0.2698596</td><td>-1.3464067</td><td>-0.1051131</td><td> 2.3385902</td></tr>\n",
       "</tbody>\n",
       "</table>\n"
      ],
      "text/latex": [
       "A matrix: 3 × 7 of type dbl\n",
       "\\begin{tabular}{r|lllllll}\n",
       "  & LD1 & LD2 & LD3 & LD4 & LD5 & LD6 & LD7\\\\\n",
       "\\hline\n",
       "\t1 & -0.8538641 &  0.6101272 & 1.7859495 &  0.4211026 & -3.9958729 &  1.2023928 & -0.3087299\\\\\n",
       "\t2 & -1.9866268 & -1.3015019 & 0.8145711 & -0.4605771 & -0.9856992 & -1.1674844 & -1.6735737\\\\\n",
       "\t3 & -0.7645461 &  1.3378855 & 2.1957870 & -0.2698596 & -1.3464067 & -0.1051131 &  2.3385902\\\\\n",
       "\\end{tabular}\n"
      ],
      "text/markdown": [
       "\n",
       "A matrix: 3 × 7 of type dbl\n",
       "\n",
       "| <!--/--> | LD1 | LD2 | LD3 | LD4 | LD5 | LD6 | LD7 |\n",
       "|---|---|---|---|---|---|---|---|\n",
       "| 1 | -0.8538641 |  0.6101272 | 1.7859495 |  0.4211026 | -3.9958729 |  1.2023928 | -0.3087299 |\n",
       "| 2 | -1.9866268 | -1.3015019 | 0.8145711 | -0.4605771 | -0.9856992 | -1.1674844 | -1.6735737 |\n",
       "| 3 | -0.7645461 |  1.3378855 | 2.1957870 | -0.2698596 | -1.3464067 | -0.1051131 |  2.3385902 |\n",
       "\n"
      ],
      "text/plain": [
       "  LD1        LD2        LD3       LD4        LD5        LD6        LD7       \n",
       "1 -0.8538641  0.6101272 1.7859495  0.4211026 -3.9958729  1.2023928 -0.3087299\n",
       "2 -1.9866268 -1.3015019 0.8145711 -0.4605771 -0.9856992 -1.1674844 -1.6735737\n",
       "3 -0.7645461  1.3378855 2.1957870 -0.2698596 -1.3464067 -0.1051131  2.3385902"
      ]
     },
     "metadata": {},
     "output_type": "display_data"
    }
   ],
   "source": [
    "# Predicted classes\n",
    "head(predictions$class, 6)\n",
    "# Predicted probabilities of class memebership.\n",
    "head(predictions$posterior, 6) \n",
    "# Linear discriminants\n",
    "head(predictions$x, 3) "
   ]
  }
 ],
 "metadata": {
  "kernelspec": {
   "display_name": "R",
   "language": "R",
   "name": "ir"
  },
  "language_info": {
   "codemirror_mode": "r",
   "file_extension": ".r",
   "mimetype": "text/x-r-source",
   "name": "R",
   "pygments_lexer": "r",
   "version": "3.6.1"
  }
 },
 "nbformat": 4,
 "nbformat_minor": 4
}
