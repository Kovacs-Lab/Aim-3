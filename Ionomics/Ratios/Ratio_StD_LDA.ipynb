{
 "cells": [
  {
   "cell_type": "code",
   "execution_count": 1,
   "metadata": {},
   "outputs": [
    {
     "name": "stderr",
     "output_type": "stream",
     "text": [
      "Installing package into 'C:/Users/vm1998/Documents/R/win-library/3.6'\n",
      "(as 'lib' is unspecified)\n",
      "\n"
     ]
    },
    {
     "name": "stdout",
     "output_type": "stream",
     "text": [
      "package 'MASS' successfully unpacked and MD5 sums checked\n"
     ]
    },
    {
     "name": "stderr",
     "output_type": "stream",
     "text": [
      "Warning message:\n",
      "\"cannot remove prior installation of package 'MASS'\"\n",
      "Warning message in file.copy(savedcopy, lib, recursive = TRUE):\n",
      "\"problem copying C:\\Users\\vm1998\\Documents\\R\\win-library\\3.6\\00LOCK\\MASS\\libs\\x64\\MASS.dll to C:\\Users\\vm1998\\Documents\\R\\win-library\\3.6\\MASS\\libs\\x64\\MASS.dll: Permission denied\"\n",
      "Warning message:\n",
      "\"restored 'MASS'\"\n"
     ]
    },
    {
     "name": "stdout",
     "output_type": "stream",
     "text": [
      "\n",
      "The downloaded binary packages are in\n",
      "\tC:\\Users\\vm1998\\AppData\\Local\\Temp\\RtmpqGWH3z\\downloaded_packages\n"
     ]
    },
    {
     "name": "stderr",
     "output_type": "stream",
     "text": [
      "Warning message:\n",
      "\"package 'MASS' was built under R version 3.6.2\"\n",
      "Installing package into 'C:/Users/vm1998/Documents/R/win-library/3.6'\n",
      "(as 'lib' is unspecified)\n",
      "\n"
     ]
    },
    {
     "name": "stdout",
     "output_type": "stream",
     "text": [
      "package 'missMDA' successfully unpacked and MD5 sums checked\n",
      "\n",
      "The downloaded binary packages are in\n",
      "\tC:\\Users\\vm1998\\AppData\\Local\\Temp\\RtmpqGWH3z\\downloaded_packages\n"
     ]
    },
    {
     "name": "stderr",
     "output_type": "stream",
     "text": [
      "Warning message:\n",
      "\"package 'missMDA' was built under R version 3.6.2\"\n",
      "Installing package into 'C:/Users/vm1998/Documents/R/win-library/3.6'\n",
      "(as 'lib' is unspecified)\n",
      "\n"
     ]
    },
    {
     "name": "stdout",
     "output_type": "stream",
     "text": [
      "package 'tidyverse' successfully unpacked and MD5 sums checked\n",
      "\n",
      "The downloaded binary packages are in\n",
      "\tC:\\Users\\vm1998\\AppData\\Local\\Temp\\RtmpqGWH3z\\downloaded_packages\n"
     ]
    },
    {
     "name": "stderr",
     "output_type": "stream",
     "text": [
      "Warning message:\n",
      "\"package 'tidyverse' was built under R version 3.6.2\"\n",
      "-- \u001b[1mAttaching packages\u001b[22m --------------------------------------- tidyverse 1.3.0 --\n",
      "\n",
      "\u001b[32mv\u001b[39m \u001b[34mggplot2\u001b[39m 3.2.1     \u001b[32mv\u001b[39m \u001b[34mpurrr  \u001b[39m 0.3.3\n",
      "\u001b[32mv\u001b[39m \u001b[34mtibble \u001b[39m 2.1.3     \u001b[32mv\u001b[39m \u001b[34mdplyr  \u001b[39m 0.8.4\n",
      "\u001b[32mv\u001b[39m \u001b[34mtidyr  \u001b[39m 1.0.2     \u001b[32mv\u001b[39m \u001b[34mstringr\u001b[39m 1.4.0\n",
      "\u001b[32mv\u001b[39m \u001b[34mreadr  \u001b[39m 1.3.1     \u001b[32mv\u001b[39m \u001b[34mforcats\u001b[39m 0.4.0\n",
      "\n",
      "Warning message:\n",
      "\"package 'ggplot2' was built under R version 3.6.2\"\n",
      "Warning message:\n",
      "\"package 'tibble' was built under R version 3.6.2\"\n",
      "Warning message:\n",
      "\"package 'tidyr' was built under R version 3.6.2\"\n",
      "Warning message:\n",
      "\"package 'readr' was built under R version 3.6.2\"\n",
      "Warning message:\n",
      "\"package 'purrr' was built under R version 3.6.2\"\n",
      "Warning message:\n",
      "\"package 'dplyr' was built under R version 3.6.2\"\n",
      "Warning message:\n",
      "\"package 'stringr' was built under R version 3.6.2\"\n",
      "Warning message:\n",
      "\"package 'forcats' was built under R version 3.6.2\"\n",
      "-- \u001b[1mConflicts\u001b[22m ------------------------------------------ tidyverse_conflicts() --\n",
      "\u001b[31mx\u001b[39m \u001b[34mdplyr\u001b[39m::\u001b[32mfilter()\u001b[39m masks \u001b[34mstats\u001b[39m::filter()\n",
      "\u001b[31mx\u001b[39m \u001b[34mdplyr\u001b[39m::\u001b[32mlag()\u001b[39m    masks \u001b[34mstats\u001b[39m::lag()\n",
      "\u001b[31mx\u001b[39m \u001b[34mdplyr\u001b[39m::\u001b[32mselect()\u001b[39m masks \u001b[34mMASS\u001b[39m::select()\n",
      "\n",
      "Installing package into 'C:/Users/vm1998/Documents/R/win-library/3.6'\n",
      "(as 'lib' is unspecified)\n",
      "\n"
     ]
    },
    {
     "name": "stdout",
     "output_type": "stream",
     "text": [
      "package 'caret' successfully unpacked and MD5 sums checked\n"
     ]
    },
    {
     "name": "stderr",
     "output_type": "stream",
     "text": [
      "Warning message:\n",
      "\"cannot remove prior installation of package 'caret'\"\n",
      "Warning message in file.copy(savedcopy, lib, recursive = TRUE):\n",
      "\"problem copying C:\\Users\\vm1998\\Documents\\R\\win-library\\3.6\\00LOCK\\caret\\libs\\x64\\caret.dll to C:\\Users\\vm1998\\Documents\\R\\win-library\\3.6\\caret\\libs\\x64\\caret.dll: Permission denied\"\n",
      "Warning message:\n",
      "\"restored 'caret'\"\n"
     ]
    },
    {
     "name": "stdout",
     "output_type": "stream",
     "text": [
      "\n",
      "The downloaded binary packages are in\n",
      "\tC:\\Users\\vm1998\\AppData\\Local\\Temp\\RtmpqGWH3z\\downloaded_packages\n"
     ]
    },
    {
     "name": "stderr",
     "output_type": "stream",
     "text": [
      "Warning message:\n",
      "\"package 'caret' was built under R version 3.6.2\"\n",
      "Loading required package: lattice\n",
      "\n",
      "\n",
      "Attaching package: 'caret'\n",
      "\n",
      "\n",
      "The following object is masked from 'package:purrr':\n",
      "\n",
      "    lift\n",
      "\n",
      "\n"
     ]
    }
   ],
   "source": [
    "install.packages(\"MASS\")\n",
    "library(\"MASS\")\n",
    "install.packages(\"missMDA\")\n",
    "library(\"missMDA\")\n",
    "install.packages(\"tidyverse\")\n",
    "library(\"tidyverse\")\n",
    "install.packages(\"caret\")\n",
    "library(\"caret\")"
   ]
  },
  {
   "cell_type": "code",
   "execution_count": 37,
   "metadata": {},
   "outputs": [],
   "source": [
    "ionomics <- read.csv('New_ionStats_Ratio.csv',colClasses =c(\"NULL\",\"NULL\",NA,NA,NA,NA,NA,\"NULL\",NA,NA,NA,NA,NA,NA,NA,NA,NA,NA,NA,NA,NA,NA))\n",
    "ionomics <- imputePCA(ionomics, method = \"Regularized\")"
   ]
  },
  {
   "cell_type": "code",
   "execution_count": 41,
   "metadata": {},
   "outputs": [],
   "source": [
    "# Split the data into training (80%) and test set (20%)\n",
    "set.seed(123)\n",
    "training.samples <- ionomics$completeObs[,2] %>%\n",
    "  createDataPartition(p = 0.8, list = FALSE)\n",
    "train.data <- ionomics$completeObs[training.samples, ]\n",
    "test.data <- ionomics$completeObs[-training.samples, ]\n",
    "train.data <- unlist(test.data)\n",
    "test.data <- unlist(test.data)\n",
    "train.data <- as.data.frame(train.data)\n",
    "test.data <- as.data.frame(test.data)"
   ]
  },
  {
   "cell_type": "code",
   "execution_count": 42,
   "metadata": {},
   "outputs": [
    {
     "data": {
      "text/html": [
       "0.963414634146341"
      ],
      "text/latex": [
       "0.963414634146341"
      ],
      "text/markdown": [
       "0.963414634146341"
      ],
      "text/plain": [
       "[1] 0.9634146"
      ]
     },
     "metadata": {},
     "output_type": "display_data"
    },
    {
     "data": {
      "text/plain": [
       "Call:\n",
       "lda(Spec_int ~ ., data = train.data)\n",
       "\n",
       "Prior probabilities of groups:\n",
       "         1          2          3          4          5          6          7 \n",
       "0.04878049 0.01219512 0.10975610 0.07317073 0.01219512 0.13414634 0.06097561 \n",
       "         8          9 \n",
       "0.01219512 0.53658537 \n",
       "\n",
       "Group means:\n",
       "     B11.P31    Na23.P31   Mg26.P31     Al27.P31     S34.P31     K39.P31\n",
       "1  1.3115058  0.96944122 -0.8421972 -0.246823038  0.62271291 -0.16516025\n",
       "2  0.5354909  0.02097961 -0.9562407 -0.238733250  0.34049436 -0.12423932\n",
       "3  0.1743346  1.50706589 -1.0034750  0.066135499 -0.38895137 -0.20964314\n",
       "4  0.3258179  0.33244891 -0.5970364 -0.179092545 -0.19978646  0.24124381\n",
       "5 -0.6238442  0.38962793 -1.2344819 -0.064795606 -1.24713240 -1.31521990\n",
       "6  1.3241850  0.51855429 -0.9267569 -0.215994932  0.67005846  0.08849992\n",
       "7  0.5915438 -0.13261698 -0.7523263 -0.342609768 -0.14605353 -0.62784060\n",
       "8 -0.3255940 -0.01940948 -1.2020301 -0.431930750 -0.65004050 -1.82037900\n",
       "9 -0.6203103 -0.55900218  0.8946141  0.001630492  0.08462369  0.09519272\n",
       "    Ca44.P31    Fe54.P31   Mn55.P31   Co59.P31   Ni60.P31    Cu63.P31\n",
       "1 -0.6959130  0.24818535  1.3391091 -0.1679946 -0.6632328 -0.02489981\n",
       "2 -0.8514345  0.09154351  0.6668811 -0.5668271 -0.7871113  1.20833950\n",
       "3 -1.0199334 -0.20854876  1.2399871 -0.2783726  1.3307663  1.92049473\n",
       "4 -0.9179627 -0.64288231  0.4848332 -0.6621289 -0.5004727  1.08647283\n",
       "5 -1.3375095 -1.14407250  0.3615259 -0.2272973  4.2613020  0.01616883\n",
       "6 -0.3933838  0.76505013  1.2063594 -0.3811266 -0.6548739 -0.04531016\n",
       "7 -0.7363133 -0.28941143  0.5145712 -0.7090800 -0.7820150  0.81467567\n",
       "8 -0.7292478 -0.74873924  1.2129503 -0.6268856 -0.9753856  0.78395486\n",
       "9  0.8292947 -0.01008345 -0.7477051  0.4107957  0.2427885 -0.70836063\n",
       "     Zn66.P31    As75.P31   Rb85.P31    Sr88.P31   Mo98.P31   Cd111.P31\n",
       "1  0.89779924 -0.36438026 -0.2669717 -0.08505782  0.6528293 -0.04256181\n",
       "2  0.32005890 -0.23192443 -0.8517711 -0.60805756  1.0015106  0.19408555\n",
       "3  1.14387503 -0.11178291 -0.7714093 -0.94487767  1.3168359  0.21753353\n",
       "4  0.64485725  0.09703290 -0.8943769 -0.77703240 -1.2158319  0.07554020\n",
       "5 -0.06364425 -0.42796114 -0.6922527 -1.75164990 -0.9942277  0.05956976\n",
       "6  1.01866683 -0.31311695 -0.8462051  0.06655385  0.1913195 -0.06105699\n",
       "7  0.46321910 -0.29412336 -0.8264649 -0.48218957 -0.2133106  0.09563212\n",
       "8  0.41393720 -0.22676852 -1.0382351 -0.34690362  0.1822790 -0.04548221\n",
       "9 -0.66520494 -0.06064755  0.7267298  0.62803648 -0.1624271 -0.25940494\n",
       "\n",
       "Coefficients of linear discriminants:\n",
       "                    LD1         LD2         LD3         LD4         LD5\n",
       "B11.P31   -4.386682e-01  1.58394333 -0.56559652  0.45495999 -0.29991942\n",
       "Na23.P31   2.377737e-02 -0.02410471  0.37748000 -1.09476000  0.39510279\n",
       "Mg26.P31   2.700374e-05  0.12146337  0.73665483 -0.05529735 -0.16808850\n",
       "Al27.P31  -1.246532e+00  0.83947975  0.63869602 -0.71651317 -0.58512631\n",
       "S34.P31    3.915263e-01  0.06316661 -0.27490525  0.41178121 -0.05750636\n",
       "K39.P31    5.456528e-01  0.38510662  0.96280270 -0.17221108  0.93126565\n",
       "Ca44.P31   1.894130e+00 -1.04318546  1.32523818 -0.80684565  1.17513955\n",
       "Fe54.P31   5.223564e-02  0.29665642 -0.06826246 -0.02514784  1.11644627\n",
       "Mn55.P31  -8.270595e-01  0.99611713  0.45888067 -0.67197892 -0.29763472\n",
       "Co59.P31   1.572208e+00  0.87881072  0.89306904 -0.64034426 -0.61347624\n",
       "Ni60.P31  -4.908218e-01 -1.62217022 -1.88705744  0.86290661  0.39974443\n",
       "Cu63.P31  -1.065211e+00 -1.43386151  1.87127586 -0.01651064  0.34491095\n",
       "Zn66.P31  -1.088450e+00 -0.92552859 -0.54322881  0.30917601  0.37733195\n",
       "As75.P31   3.695186e-01 -0.94258877  0.22577883  0.85726588  0.25463917\n",
       "Rb85.P31   2.408826e-01 -0.49688135 -0.34011022 -0.43449213 -0.56461127\n",
       "Sr88.P31  -6.256448e-01  0.53525820 -0.89922014  0.25166033 -0.74793927\n",
       "Mo98.P31  -8.433478e-02 -0.13663732 -0.27338076 -1.19638121 -0.33647754\n",
       "Cd111.P31 -3.633493e-01 -1.08690149  0.19261486  0.17883167 -2.77305857\n",
       "                   LD6         LD7         LD8\n",
       "B11.P31    0.203699678 -0.74175030 -0.54514736\n",
       "Na23.P31  -0.992674204 -0.03824520  0.19489695\n",
       "Mg26.P31  -1.018919105 -0.77368502 -0.25758603\n",
       "Al27.P31  -0.295061488  0.04643270 -0.58422591\n",
       "S34.P31   -0.006958024 -0.21395621  0.19960241\n",
       "K39.P31   -0.194809750 -0.07021850  0.75703539\n",
       "Ca44.P31   1.231413256  0.96533228 -0.44423175\n",
       "Fe54.P31   0.946053516 -0.10638443  0.18296653\n",
       "Mn55.P31  -0.849170082  0.71028566  1.05258792\n",
       "Co59.P31  -0.472458980 -0.31975252  0.19137535\n",
       "Ni60.P31   0.205919517 -0.08009014 -0.06467355\n",
       "Cu63.P31   0.535744704  0.04538614 -0.36402340\n",
       "Zn66.P31   0.152990046  0.26527766 -2.00763924\n",
       "As75.P31   0.120778765  0.56800248  0.82563878\n",
       "Rb85.P31  -0.045448248 -0.04390856 -0.63700023\n",
       "Sr88.P31  -0.541949987  0.13531623  0.10863667\n",
       "Mo98.P31   0.342549321 -0.13755574  0.18000216\n",
       "Cd111.P31  0.907439774 -1.96509529  1.60748014\n",
       "\n",
       "Proportion of trace:\n",
       "   LD1    LD2    LD3    LD4    LD5    LD6    LD7    LD8 \n",
       "0.6977 0.2030 0.0503 0.0338 0.0078 0.0049 0.0017 0.0007 "
      ]
     },
     "metadata": {},
     "output_type": "display_data"
    }
   ],
   "source": [
    "# Fit the model\n",
    "model <- lda(Spec_int~., data = train.data)\n",
    "# Make predictions\n",
    "predictions <- model %>% predict(test.data)\n",
    "# Model accuracy\n",
    "mean(predictions$class==test.data$Spec_int)\n",
    "model"
   ]
  },
  {
   "cell_type": "code",
   "execution_count": 35,
   "metadata": {},
   "outputs": [
    {
     "data": {
      "image/png": "[encoded data removed]",
      "text/plain": [
       "plot without title"
      ]
     },
     "metadata": {
      "image/png": {
       "height": 420,
       "width": 420
      },
      "text/plain": {
       "height": 420,
       "width": 420
      }
     },
     "output_type": "display_data"
    }
   ],
   "source": [
    "plot(model)"
   ]
  },
  {
   "cell_type": "code",
   "execution_count": 36,
   "metadata": {},
   "outputs": [
    {
     "data": {
      "text/html": [
       "<style>\n",
       ".list-inline {list-style: none; margin:0; padding: 0}\n",
       ".list-inline>li {display: inline-block}\n",
       ".list-inline>li:not(:last-child)::after {content: \"\\00b7\"; padding: 0 .5ex}\n",
       "</style>\n",
       "<ol class=list-inline><li>1</li><li>1</li><li>1</li><li>1</li><li>2</li><li>4</li></ol>\n",
       "\n",
       "<details>\n",
       "\t<summary style=display:list-item;cursor:pointer>\n",
       "\t\t<strong>Levels</strong>:\n",
       "\t</summary>\n",
       "\t<style>\n",
       "\t.list-inline {list-style: none; margin:0; padding: 0}\n",
       "\t.list-inline>li {display: inline-block}\n",
       "\t.list-inline>li:not(:last-child)::after {content: \"\\00b7\"; padding: 0 .5ex}\n",
       "\t</style>\n",
       "\t<ol class=list-inline><li>'1'</li><li>'2'</li><li>'3'</li><li>'4'</li><li>'5'</li><li>'6'</li><li>'7'</li><li>'8'</li><li>'9'</li></ol>\n",
       "</details>"
      ],
      "text/latex": [
       "\\begin{enumerate*}\n",
       "\\item 1\n",
       "\\item 1\n",
       "\\item 1\n",
       "\\item 1\n",
       "\\item 2\n",
       "\\item 4\n",
       "\\end{enumerate*}\n",
       "\n",
       "\\emph{Levels}: \\begin{enumerate*}\n",
       "\\item '1'\n",
       "\\item '2'\n",
       "\\item '3'\n",
       "\\item '4'\n",
       "\\item '5'\n",
       "\\item '6'\n",
       "\\item '7'\n",
       "\\item '8'\n",
       "\\item '9'\n",
       "\\end{enumerate*}\n"
      ],
      "text/markdown": [
       "1. 1\n",
       "2. 1\n",
       "3. 1\n",
       "4. 1\n",
       "5. 2\n",
       "6. 4\n",
       "\n",
       "\n",
       "\n",
       "**Levels**: 1. '1'\n",
       "2. '2'\n",
       "3. '3'\n",
       "4. '4'\n",
       "5. '5'\n",
       "6. '6'\n",
       "7. '7'\n",
       "8. '8'\n",
       "9. '9'\n",
       "\n",
       "\n"
      ],
      "text/plain": [
       "[1] 1 1 1 1 2 4\n",
       "Levels: 1 2 3 4 5 6 7 8 9"
      ]
     },
     "metadata": {},
     "output_type": "display_data"
    },
    {
     "data": {
      "text/html": [
       "<table>\n",
       "<caption>A matrix: 6 × 9 of type dbl</caption>\n",
       "<thead>\n",
       "\t<tr><th></th><th scope=col>1</th><th scope=col>2</th><th scope=col>3</th><th scope=col>4</th><th scope=col>5</th><th scope=col>6</th><th scope=col>7</th><th scope=col>8</th><th scope=col>9</th></tr>\n",
       "</thead>\n",
       "<tbody>\n",
       "\t<tr><th scope=row>1</th><td>9.999999e-01</td><td>3.381173e-11</td><td>3.678041e-28</td><td>2.195842e-17</td><td>1.601060e-65</td><td>1.499515e-07</td><td>3.471928e-20</td><td>9.901962e-24</td><td>1.999481e-65</td></tr>\n",
       "\t<tr><th scope=row>2</th><td>9.999965e-01</td><td>2.928734e-25</td><td>1.506281e-25</td><td>1.488553e-16</td><td>9.158050e-71</td><td>3.482455e-06</td><td>1.366801e-15</td><td>2.203494e-20</td><td>5.601474e-89</td></tr>\n",
       "\t<tr><th scope=row>3</th><td>9.999423e-01</td><td>8.432712e-21</td><td>2.168605e-14</td><td>4.005181e-07</td><td>1.995000e-43</td><td>5.725515e-05</td><td>2.507136e-08</td><td>1.188813e-10</td><td>1.472523e-75</td></tr>\n",
       "\t<tr><th scope=row>4</th><td>9.999967e-01</td><td>6.582141e-28</td><td>1.843237e-20</td><td>3.855329e-12</td><td>1.651190e-50</td><td>3.272577e-06</td><td>1.359103e-12</td><td>4.664571e-15</td><td>1.633848e-89</td></tr>\n",
       "\t<tr><th scope=row>5</th><td>4.356598e-20</td><td>1.000000e+00</td><td>3.111192e-23</td><td>6.409877e-13</td><td>3.610008e-63</td><td>1.831875e-18</td><td>3.741569e-20</td><td>1.813410e-24</td><td>4.052670e-39</td></tr>\n",
       "\t<tr><th scope=row>6</th><td>1.378612e-09</td><td>5.320884e-14</td><td>4.093125e-03</td><td>9.949289e-01</td><td>2.259007e-37</td><td>4.380677e-09</td><td>8.255612e-04</td><td>1.524258e-04</td><td>7.114863e-69</td></tr>\n",
       "</tbody>\n",
       "</table>\n"
      ],
      "text/latex": [
       "A matrix: 6 × 9 of type dbl\n",
       "\\begin{tabular}{r|lllllllll}\n",
       "  & 1 & 2 & 3 & 4 & 5 & 6 & 7 & 8 & 9\\\\\n",
       "\\hline\n",
       "\t1 & 9.999999e-01 & 3.381173e-11 & 3.678041e-28 & 2.195842e-17 & 1.601060e-65 & 1.499515e-07 & 3.471928e-20 & 9.901962e-24 & 1.999481e-65\\\\\n",
       "\t2 & 9.999965e-01 & 2.928734e-25 & 1.506281e-25 & 1.488553e-16 & 9.158050e-71 & 3.482455e-06 & 1.366801e-15 & 2.203494e-20 & 5.601474e-89\\\\\n",
       "\t3 & 9.999423e-01 & 8.432712e-21 & 2.168605e-14 & 4.005181e-07 & 1.995000e-43 & 5.725515e-05 & 2.507136e-08 & 1.188813e-10 & 1.472523e-75\\\\\n",
       "\t4 & 9.999967e-01 & 6.582141e-28 & 1.843237e-20 & 3.855329e-12 & 1.651190e-50 & 3.272577e-06 & 1.359103e-12 & 4.664571e-15 & 1.633848e-89\\\\\n",
       "\t5 & 4.356598e-20 & 1.000000e+00 & 3.111192e-23 & 6.409877e-13 & 3.610008e-63 & 1.831875e-18 & 3.741569e-20 & 1.813410e-24 & 4.052670e-39\\\\\n",
       "\t6 & 1.378612e-09 & 5.320884e-14 & 4.093125e-03 & 9.949289e-01 & 2.259007e-37 & 4.380677e-09 & 8.255612e-04 & 1.524258e-04 & 7.114863e-69\\\\\n",
       "\\end{tabular}\n"
      ],
      "text/markdown": [
       "\n",
       "A matrix: 6 × 9 of type dbl\n",
       "\n",
       "| <!--/--> | 1 | 2 | 3 | 4 | 5 | 6 | 7 | 8 | 9 |\n",
       "|---|---|---|---|---|---|---|---|---|---|\n",
       "| 1 | 9.999999e-01 | 3.381173e-11 | 3.678041e-28 | 2.195842e-17 | 1.601060e-65 | 1.499515e-07 | 3.471928e-20 | 9.901962e-24 | 1.999481e-65 |\n",
       "| 2 | 9.999965e-01 | 2.928734e-25 | 1.506281e-25 | 1.488553e-16 | 9.158050e-71 | 3.482455e-06 | 1.366801e-15 | 2.203494e-20 | 5.601474e-89 |\n",
       "| 3 | 9.999423e-01 | 8.432712e-21 | 2.168605e-14 | 4.005181e-07 | 1.995000e-43 | 5.725515e-05 | 2.507136e-08 | 1.188813e-10 | 1.472523e-75 |\n",
       "| 4 | 9.999967e-01 | 6.582141e-28 | 1.843237e-20 | 3.855329e-12 | 1.651190e-50 | 3.272577e-06 | 1.359103e-12 | 4.664571e-15 | 1.633848e-89 |\n",
       "| 5 | 4.356598e-20 | 1.000000e+00 | 3.111192e-23 | 6.409877e-13 | 3.610008e-63 | 1.831875e-18 | 3.741569e-20 | 1.813410e-24 | 4.052670e-39 |\n",
       "| 6 | 1.378612e-09 | 5.320884e-14 | 4.093125e-03 | 9.949289e-01 | 2.259007e-37 | 4.380677e-09 | 8.255612e-04 | 1.524258e-04 | 7.114863e-69 |\n",
       "\n"
      ],
      "text/plain": [
       "  1            2            3            4            5            6           \n",
       "1 9.999999e-01 3.381173e-11 3.678041e-28 2.195842e-17 1.601060e-65 1.499515e-07\n",
       "2 9.999965e-01 2.928734e-25 1.506281e-25 1.488553e-16 9.158050e-71 3.482455e-06\n",
       "3 9.999423e-01 8.432712e-21 2.168605e-14 4.005181e-07 1.995000e-43 5.725515e-05\n",
       "4 9.999967e-01 6.582141e-28 1.843237e-20 3.855329e-12 1.651190e-50 3.272577e-06\n",
       "5 4.356598e-20 1.000000e+00 3.111192e-23 6.409877e-13 3.610008e-63 1.831875e-18\n",
       "6 1.378612e-09 5.320884e-14 4.093125e-03 9.949289e-01 2.259007e-37 4.380677e-09\n",
       "  7            8            9           \n",
       "1 3.471928e-20 9.901962e-24 1.999481e-65\n",
       "2 1.366801e-15 2.203494e-20 5.601474e-89\n",
       "3 2.507136e-08 1.188813e-10 1.472523e-75\n",
       "4 1.359103e-12 4.664571e-15 1.633848e-89\n",
       "5 3.741569e-20 1.813410e-24 4.052670e-39\n",
       "6 8.255612e-04 1.524258e-04 7.114863e-69"
      ]
     },
     "metadata": {},
     "output_type": "display_data"
    },
    {
     "data": {
      "text/html": [
       "<table>\n",
       "<caption>A matrix: 3 × 8 of type dbl</caption>\n",
       "<thead>\n",
       "\t<tr><th></th><th scope=col>LD1</th><th scope=col>LD2</th><th scope=col>LD3</th><th scope=col>LD4</th><th scope=col>LD5</th><th scope=col>LD6</th><th scope=col>LD7</th><th scope=col>LD8</th></tr>\n",
       "</thead>\n",
       "<tbody>\n",
       "\t<tr><th scope=row>1</th><td> -7.960656</td><td>-4.649487</td><td>-4.501052</td><td>4.447313</td><td> 0.9458941</td><td>-0.3835889</td><td>-2.0889879</td><td>-0.80691613</td></tr>\n",
       "\t<tr><th scope=row>2</th><td>-11.272755</td><td>-5.445794</td><td>-3.210159</td><td>2.011788</td><td>-0.6535317</td><td>-0.8423492</td><td> 0.3694238</td><td> 1.93756466</td></tr>\n",
       "\t<tr><th scope=row>3</th><td>-10.415681</td><td>-2.256505</td><td>-1.139273</td><td>1.923521</td><td> 1.5436573</td><td>-2.2657729</td><td> 1.1103498</td><td>-0.03769182</td></tr>\n",
       "</tbody>\n",
       "</table>\n"
      ],
      "text/latex": [
       "A matrix: 3 × 8 of type dbl\n",
       "\\begin{tabular}{r|llllllll}\n",
       "  & LD1 & LD2 & LD3 & LD4 & LD5 & LD6 & LD7 & LD8\\\\\n",
       "\\hline\n",
       "\t1 &  -7.960656 & -4.649487 & -4.501052 & 4.447313 &  0.9458941 & -0.3835889 & -2.0889879 & -0.80691613\\\\\n",
       "\t2 & -11.272755 & -5.445794 & -3.210159 & 2.011788 & -0.6535317 & -0.8423492 &  0.3694238 &  1.93756466\\\\\n",
       "\t3 & -10.415681 & -2.256505 & -1.139273 & 1.923521 &  1.5436573 & -2.2657729 &  1.1103498 & -0.03769182\\\\\n",
       "\\end{tabular}\n"
      ],
      "text/markdown": [
       "\n",
       "A matrix: 3 × 8 of type dbl\n",
       "\n",
       "| <!--/--> | LD1 | LD2 | LD3 | LD4 | LD5 | LD6 | LD7 | LD8 |\n",
       "|---|---|---|---|---|---|---|---|---|\n",
       "| 1 |  -7.960656 | -4.649487 | -4.501052 | 4.447313 |  0.9458941 | -0.3835889 | -2.0889879 | -0.80691613 |\n",
       "| 2 | -11.272755 | -5.445794 | -3.210159 | 2.011788 | -0.6535317 | -0.8423492 |  0.3694238 |  1.93756466 |\n",
       "| 3 | -10.415681 | -2.256505 | -1.139273 | 1.923521 |  1.5436573 | -2.2657729 |  1.1103498 | -0.03769182 |\n",
       "\n"
      ],
      "text/plain": [
       "  LD1        LD2       LD3       LD4      LD5        LD6        LD7       \n",
       "1  -7.960656 -4.649487 -4.501052 4.447313  0.9458941 -0.3835889 -2.0889879\n",
       "2 -11.272755 -5.445794 -3.210159 2.011788 -0.6535317 -0.8423492  0.3694238\n",
       "3 -10.415681 -2.256505 -1.139273 1.923521  1.5436573 -2.2657729  1.1103498\n",
       "  LD8        \n",
       "1 -0.80691613\n",
       "2  1.93756466\n",
       "3 -0.03769182"
      ]
     },
     "metadata": {},
     "output_type": "display_data"
    }
   ],
   "source": [
    "# Predicted classes\n",
    "head(predictions$class, 6)\n",
    "# Predicted probabilities of class memebership.\n",
    "head(predictions$posterior, 6) \n",
    "# Linear discriminants\n",
    "head(predictions$x, 3) "
   ]
  }
 ],
 "metadata": {
  "kernelspec": {
   "display_name": "R",
   "language": "R",
   "name": "ir"
  },
  "language_info": {
   "codemirror_mode": "r",
   "file_extension": ".r",
   "mimetype": "text/x-r-source",
   "name": "R",
   "pygments_lexer": "r",
   "version": "3.6.1"
  }
 },
 "nbformat": 4,
 "nbformat_minor": 4
}
