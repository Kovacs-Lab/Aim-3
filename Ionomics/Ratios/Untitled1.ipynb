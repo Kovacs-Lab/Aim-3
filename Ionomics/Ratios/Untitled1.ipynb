{
 "cells": [
  {
   "cell_type": "code",
   "execution_count": null,
   "metadata": {},
   "outputs": [],
   "source": [
    "# Helper packages\n",
    "library(dplyr)    # for data manipulation\n",
    "library(ggplot2)  # for data visualization\n",
    "\n",
    "# Modeling packages\n",
    "library(mclust)   # for fitting clustering algorithms"
   ]
  },
  {
   "cell_type": "code",
   "execution_count": null,
   "metadata": {},
   "outputs": [],
   "source": [
    "import.csv(\"New_ionStats_Ratio.csv\", Delimiter= ',')"
   ]
  },
  {
   "cell_type": "code",
   "execution_count": null,
   "metadata": {},
   "outputs": [],
   "source": []
  }
 ],
 "metadata": {
  "kernelspec": {
   "display_name": "R",
   "language": "R",
   "name": "ir"
  },
  "language_info": {
   "name": ""
  }
 },
 "nbformat": 4,
 "nbformat_minor": 4
}
