{
 "cells": [
  {
   "cell_type": "code",
   "execution_count": null,
   "metadata": {},
   "outputs": [],
   "source": [
    "####Generalized Procrustes Analysis####\n",
    "install.packages('tidyverse', dependencies=TRUE)\n",
    "install.packages('shapes', dependencies = TRUE)\n",
    "install.packages(\"dplyr\",dependencies=TRUE)\n",
    "library(dplyr)\n",
    "library(tidyverse)\n",
    "library(shapes)"
   ]
  },
  {
   "cell_type": "markdown",
   "metadata": {},
   "source": [
    "## X Leaves ##"
   ]
  },
  {
   "cell_type": "code",
   "execution_count": 6,
   "metadata": {},
   "outputs": [
    {
     "name": "stderr",
     "output_type": "stream",
     "text": [
      "\n",
      "\u001b[36m--\u001b[39m \u001b[1m\u001b[1mColumn specification\u001b[1m\u001b[22m \u001b[36m--------------------------------------------------------\u001b[39m\n",
      "cols(\n",
      "  .default = col_double(),\n",
      "  MO_ID = \u001b[31mcol_character()\u001b[39m,\n",
      "  E_ID = \u001b[31mcol_character()\u001b[39m\n",
      ")\n",
      "\u001b[36mi\u001b[39m Use \u001b[30m\u001b[47m\u001b[30m\u001b[47m`spec()`\u001b[47m\u001b[30m\u001b[49m\u001b[39m for the full column specifications.\n",
      "\n",
      "\n"
     ]
    },
    {
     "data": {
      "text/html": [
       "<style>\n",
       ".list-inline {list-style: none; margin:0; padding: 0}\n",
       ".list-inline>li {display: inline-block}\n",
       ".list-inline>li:not(:last-child)::after {content: \"\\00b7\"; padding: 0 .5ex}\n",
       "</style>\n",
       "<ol class=list-inline><li>21</li><li>2</li><li>249</li></ol>\n"
      ],
      "text/latex": [
       "\\begin{enumerate*}\n",
       "\\item 21\n",
       "\\item 2\n",
       "\\item 249\n",
       "\\end{enumerate*}\n"
      ],
      "text/markdown": [
       "1. 21\n",
       "2. 2\n",
       "3. 249\n",
       "\n",
       "\n"
      ],
      "text/plain": [
       "[1]  21   2 249"
      ]
     },
     "metadata": {},
     "output_type": "display_data"
    },
    {
     "name": "stdout",
     "output_type": "stream",
     "text": [
      "[1] \"To speed up use option distances=FALSE\"\n",
      "[1] \"To speed up use option pcaoutput=FALSE\"\n"
     ]
    },
    {
     "data": {
      "text/html": [
       "<table class=\"dataframe\">\n",
       "<caption>A matrix: 6 × 42 of type dbl</caption>\n",
       "<thead>\n",
       "\t<tr><th scope=col>X1</th><th scope=col>Y1</th><th scope=col>X2</th><th scope=col>Y2</th><th scope=col>X3</th><th scope=col>Y3</th><th scope=col>X4</th><th scope=col>Y4</th><th scope=col>X5</th><th scope=col>Y5</th><th scope=col>...</th><th scope=col>X17</th><th scope=col>Y17</th><th scope=col>X18</th><th scope=col>Y18</th><th scope=col>X19</th><th scope=col>Y19</th><th scope=col>X20</th><th scope=col>Y20</th><th scope=col>X21</th><th scope=col>Y21</th></tr>\n",
       "</thead>\n",
       "<tbody>\n",
       "\t<tr><td>307.1569</td><td>444.9963</td><td>316.8540</td><td>415.7979</td><td>353.2935</td><td>416.6188</td><td>400.6416</td><td>420.2287</td><td>115.89683</td><td>426.7290</td><td>...</td><td>-813.5048</td><td>-384.9679</td><td>-498.2160</td><td> -890.6640</td><td>-329.0384</td><td>-797.1436</td><td> -76.21549</td><td>-1062.3708</td><td>461.2249</td><td>-1347.372</td></tr>\n",
       "\t<tr><td>291.7049</td><td>432.8538</td><td>293.5027</td><td>403.4955</td><td>369.3176</td><td>434.3309</td><td>401.4378</td><td>437.3730</td><td>105.03795</td><td>416.7970</td><td>...</td><td>-798.6789</td><td>-199.4188</td><td>-580.1323</td><td> -992.4480</td><td>-292.0765</td><td>-748.6379</td><td>-163.63066</td><td> -952.3149</td><td>533.1868</td><td>-1585.680</td></tr>\n",
       "\t<tr><td>297.9509</td><td>453.9970</td><td>305.5354</td><td>428.9279</td><td>342.9744</td><td>405.9390</td><td>375.9105</td><td>405.8364</td><td>124.44332</td><td>447.7900</td><td>...</td><td>-775.5157</td><td>-188.6968</td><td>-502.0165</td><td> -941.5985</td><td>-281.4139</td><td>-832.4970</td><td> -59.72274</td><td>-1034.9233</td><td>529.4337</td><td>-1562.369</td></tr>\n",
       "\t<tr><td>304.2895</td><td>453.5845</td><td>309.4727</td><td>424.4522</td><td>352.8262</td><td>414.9965</td><td>380.0206</td><td>426.7559</td><td> 68.14568</td><td>420.0824</td><td>...</td><td>-777.0284</td><td>-162.6686</td><td>-523.0632</td><td> -857.4276</td><td>-328.4414</td><td>-811.3175</td><td>-146.87568</td><td>-1034.0478</td><td>583.8754</td><td>-1597.778</td></tr>\n",
       "\t<tr><td>307.7274</td><td>433.8111</td><td>311.9233</td><td>398.2072</td><td>376.4076</td><td>402.7304</td><td>419.8410</td><td>402.0773</td><td> 64.54992</td><td>438.2790</td><td>...</td><td>-765.0698</td><td>-139.7254</td><td>-491.2715</td><td> -929.7163</td><td>-277.6652</td><td>-711.5173</td><td>-151.28333</td><td> -974.0773</td><td>571.0608</td><td>-1672.316</td></tr>\n",
       "\t<tr><td>295.8218</td><td>449.0383</td><td>301.7108</td><td>414.0412</td><td>383.8780</td><td>431.4702</td><td>437.3726</td><td>423.0117</td><td> 60.99623</td><td>457.6583</td><td>...</td><td>-742.9154</td><td>-118.2467</td><td>-434.5769</td><td>-1007.1584</td><td>-250.6678</td><td>-753.1045</td><td>-227.30636</td><td> -868.7689</td><td>456.0680</td><td>-1652.384</td></tr>\n",
       "</tbody>\n",
       "</table>\n"
      ],
      "text/latex": [
       "A matrix: 6 × 42 of type dbl\n",
       "\\begin{tabular}{lllllllllllllllllllll}\n",
       " X1 & Y1 & X2 & Y2 & X3 & Y3 & X4 & Y4 & X5 & Y5 & ... & X17 & Y17 & X18 & Y18 & X19 & Y19 & X20 & Y20 & X21 & Y21\\\\\n",
       "\\hline\n",
       "\t 307.1569 & 444.9963 & 316.8540 & 415.7979 & 353.2935 & 416.6188 & 400.6416 & 420.2287 & 115.89683 & 426.7290 & ... & -813.5048 & -384.9679 & -498.2160 &  -890.6640 & -329.0384 & -797.1436 &  -76.21549 & -1062.3708 & 461.2249 & -1347.372\\\\\n",
       "\t 291.7049 & 432.8538 & 293.5027 & 403.4955 & 369.3176 & 434.3309 & 401.4378 & 437.3730 & 105.03795 & 416.7970 & ... & -798.6789 & -199.4188 & -580.1323 &  -992.4480 & -292.0765 & -748.6379 & -163.63066 &  -952.3149 & 533.1868 & -1585.680\\\\\n",
       "\t 297.9509 & 453.9970 & 305.5354 & 428.9279 & 342.9744 & 405.9390 & 375.9105 & 405.8364 & 124.44332 & 447.7900 & ... & -775.5157 & -188.6968 & -502.0165 &  -941.5985 & -281.4139 & -832.4970 &  -59.72274 & -1034.9233 & 529.4337 & -1562.369\\\\\n",
       "\t 304.2895 & 453.5845 & 309.4727 & 424.4522 & 352.8262 & 414.9965 & 380.0206 & 426.7559 &  68.14568 & 420.0824 & ... & -777.0284 & -162.6686 & -523.0632 &  -857.4276 & -328.4414 & -811.3175 & -146.87568 & -1034.0478 & 583.8754 & -1597.778\\\\\n",
       "\t 307.7274 & 433.8111 & 311.9233 & 398.2072 & 376.4076 & 402.7304 & 419.8410 & 402.0773 &  64.54992 & 438.2790 & ... & -765.0698 & -139.7254 & -491.2715 &  -929.7163 & -277.6652 & -711.5173 & -151.28333 &  -974.0773 & 571.0608 & -1672.316\\\\\n",
       "\t 295.8218 & 449.0383 & 301.7108 & 414.0412 & 383.8780 & 431.4702 & 437.3726 & 423.0117 &  60.99623 & 457.6583 & ... & -742.9154 & -118.2467 & -434.5769 & -1007.1584 & -250.6678 & -753.1045 & -227.30636 &  -868.7689 & 456.0680 & -1652.384\\\\\n",
       "\\end{tabular}\n"
      ],
      "text/markdown": [
       "\n",
       "A matrix: 6 × 42 of type dbl\n",
       "\n",
       "| X1 | Y1 | X2 | Y2 | X3 | Y3 | X4 | Y4 | X5 | Y5 | ... | X17 | Y17 | X18 | Y18 | X19 | Y19 | X20 | Y20 | X21 | Y21 |\n",
       "|---|---|---|---|---|---|---|---|---|---|---|---|---|---|---|---|---|---|---|---|---|\n",
       "| 307.1569 | 444.9963 | 316.8540 | 415.7979 | 353.2935 | 416.6188 | 400.6416 | 420.2287 | 115.89683 | 426.7290 | ... | -813.5048 | -384.9679 | -498.2160 |  -890.6640 | -329.0384 | -797.1436 |  -76.21549 | -1062.3708 | 461.2249 | -1347.372 |\n",
       "| 291.7049 | 432.8538 | 293.5027 | 403.4955 | 369.3176 | 434.3309 | 401.4378 | 437.3730 | 105.03795 | 416.7970 | ... | -798.6789 | -199.4188 | -580.1323 |  -992.4480 | -292.0765 | -748.6379 | -163.63066 |  -952.3149 | 533.1868 | -1585.680 |\n",
       "| 297.9509 | 453.9970 | 305.5354 | 428.9279 | 342.9744 | 405.9390 | 375.9105 | 405.8364 | 124.44332 | 447.7900 | ... | -775.5157 | -188.6968 | -502.0165 |  -941.5985 | -281.4139 | -832.4970 |  -59.72274 | -1034.9233 | 529.4337 | -1562.369 |\n",
       "| 304.2895 | 453.5845 | 309.4727 | 424.4522 | 352.8262 | 414.9965 | 380.0206 | 426.7559 |  68.14568 | 420.0824 | ... | -777.0284 | -162.6686 | -523.0632 |  -857.4276 | -328.4414 | -811.3175 | -146.87568 | -1034.0478 | 583.8754 | -1597.778 |\n",
       "| 307.7274 | 433.8111 | 311.9233 | 398.2072 | 376.4076 | 402.7304 | 419.8410 | 402.0773 |  64.54992 | 438.2790 | ... | -765.0698 | -139.7254 | -491.2715 |  -929.7163 | -277.6652 | -711.5173 | -151.28333 |  -974.0773 | 571.0608 | -1672.316 |\n",
       "| 295.8218 | 449.0383 | 301.7108 | 414.0412 | 383.8780 | 431.4702 | 437.3726 | 423.0117 |  60.99623 | 457.6583 | ... | -742.9154 | -118.2467 | -434.5769 | -1007.1584 | -250.6678 | -753.1045 | -227.30636 |  -868.7689 | 456.0680 | -1652.384 |\n",
       "\n"
      ],
      "text/plain": [
       "     X1       Y1       X2       Y2       X3       Y3       X4       Y4      \n",
       "[1,] 307.1569 444.9963 316.8540 415.7979 353.2935 416.6188 400.6416 420.2287\n",
       "[2,] 291.7049 432.8538 293.5027 403.4955 369.3176 434.3309 401.4378 437.3730\n",
       "[3,] 297.9509 453.9970 305.5354 428.9279 342.9744 405.9390 375.9105 405.8364\n",
       "[4,] 304.2895 453.5845 309.4727 424.4522 352.8262 414.9965 380.0206 426.7559\n",
       "[5,] 307.7274 433.8111 311.9233 398.2072 376.4076 402.7304 419.8410 402.0773\n",
       "[6,] 295.8218 449.0383 301.7108 414.0412 383.8780 431.4702 437.3726 423.0117\n",
       "     X5        Y5       ... X17       Y17       X18       Y18        X19      \n",
       "[1,] 115.89683 426.7290 ... -813.5048 -384.9679 -498.2160  -890.6640 -329.0384\n",
       "[2,] 105.03795 416.7970 ... -798.6789 -199.4188 -580.1323  -992.4480 -292.0765\n",
       "[3,] 124.44332 447.7900 ... -775.5157 -188.6968 -502.0165  -941.5985 -281.4139\n",
       "[4,]  68.14568 420.0824 ... -777.0284 -162.6686 -523.0632  -857.4276 -328.4414\n",
       "[5,]  64.54992 438.2790 ... -765.0698 -139.7254 -491.2715  -929.7163 -277.6652\n",
       "[6,]  60.99623 457.6583 ... -742.9154 -118.2467 -434.5769 -1007.1584 -250.6678\n",
       "     Y19       X20        Y20        X21      Y21      \n",
       "[1,] -797.1436  -76.21549 -1062.3708 461.2249 -1347.372\n",
       "[2,] -748.6379 -163.63066  -952.3149 533.1868 -1585.680\n",
       "[3,] -832.4970  -59.72274 -1034.9233 529.4337 -1562.369\n",
       "[4,] -811.3175 -146.87568 -1034.0478 583.8754 -1597.778\n",
       "[5,] -711.5173 -151.28333  -974.0773 571.0608 -1672.316\n",
       "[6,] -753.1045 -227.30636  -868.7689 456.0680 -1652.384"
      ]
     },
     "metadata": {},
     "output_type": "display_data"
    },
    {
     "data": {
      "text/html": [
       "<strong>png:</strong> 2"
      ],
      "text/latex": [
       "\\textbf{png:} 2"
      ],
      "text/markdown": [
       "**png:** 2"
      ],
      "text/plain": [
       "png \n",
       "  2 "
      ]
     },
     "metadata": {},
     "output_type": "display_data"
    },
    {
     "data": {
      "text/html": [
       "<strong>png:</strong> 2"
      ],
      "text/latex": [
       "\\textbf{png:} 2"
      ],
      "text/markdown": [
       "**png:** 2"
      ],
      "text/plain": [
       "png \n",
       "  2 "
      ]
     },
     "metadata": {},
     "output_type": "display_data"
    }
   ],
   "source": [
    "####Generalized Procrustes Analysis####\n",
    "library('shapes')\n",
    "library('tidyverse')\n",
    "\n",
    "#Need a version of the landmark file with just the landmarks\n",
    "X_landmarks <- read_csv(\"Veraison_X.csv\")\n",
    "\n",
    "X_landmarks_info <- X_landmarks %>% select(MO_ID, E_ID)\n",
    "X_landmarks <- X_landmarks %>% select(X1:Y21)\n",
    "\n",
    "n_landmarks <- 21\n",
    "n_leaves <- dim(X_landmarks)[1]\n",
    "\n",
    "write.table(as.matrix(X_landmarks), col.names=F, row.names=F, file='X_landmarks_raw.txt')\n",
    "\n",
    "morpho_reformat_gpa <- read.in('X_landmarks_raw.txt', n_landmarks, 2)\n",
    "\n",
    "dim(morpho_reformat_gpa)\n",
    "\n",
    "#fit the GPA\n",
    "GPA <- procGPA(morpho_reformat_gpa, reflect=TRUE)\n",
    "\n",
    "#write to file \n",
    "write.csv(as.matrix(GPA$stdscores), file=\"X_PC_scores.csv\", quote=FALSE)\n",
    "write.csv(as.matrix(GPA$percent), file=\"X_PC_percents\", quote=FALSE)\n",
    "write.csv(as.matrix(GPA$rotated), file=\"X_GPA_rotated.csv\", quote=FALSE)\n",
    "\n",
    "#restructuring of matrix\n",
    "\n",
    "morpho_GPA_rotated_flat <- matrix(nrow=n_leaves, ncol=(n_landmarks*2))\n",
    "\n",
    "morpho_GPA_rotated <- as.matrix(GPA$rotated)\n",
    "for(j in c(1:n_leaves)) {\n",
    "  # extract all coordinates from the original table as blocks of 42 (n_landmarks*2) rows,\n",
    "  # each representing the x coordinates of a leaf, one by one, as calculated from j.\n",
    "  sub.data <- as.matrix(morpho_GPA_rotated[ (1+42*(j-1)):((1+42*(j-1))+41), 1])\n",
    "  sub.data.x <- as.matrix(sub.data[1:n_landmarks,])\n",
    "  sub.data.y <- as.matrix(sub.data[(n_landmarks+1):(n_landmarks*2),])\n",
    "  \n",
    "  # dissect out each x and y coordinate of the landmark data and put it into every other \n",
    "  # column of a single row (for a single leaf) in the overall table\n",
    "  \n",
    "  for (i in 1:n_landmarks){\n",
    "    morpho_GPA_rotated_flat[j,(i*2-1)] <- sub.data.x[i, 1]\n",
    "    morpho_GPA_rotated_flat[j, (i*2)] <- sub.data.y[i, 1]\n",
    "  }\n",
    "}\n",
    "\n",
    "colnames(morpho_GPA_rotated_flat) <- c(\"X1\", \"Y1\", \"X2\", \"Y2\", \"X3\", \"Y3\", \"X4\", \"Y4\", \"X5\", \"Y5\", \"X6\", \"Y6\", \"X7\", \"Y7\", \"X8\", \"Y8\", \"X9\", \"Y9\", \"X10\", \"Y10\", \"X11\", \"Y11\", \"X12\", \"Y12\", \"X13\", \"Y13\", \"X14\", \"Y14\", \"X15\", \"Y15\", \"X16\", \"Y16\", \"X17\", \"Y17\",\"X18\", \"Y18\",\"X19\", \"Y19\",\"X20\", \"Y20\",\"X21\", \"Y21\")\n",
    "\n",
    "head(morpho_GPA_rotated_flat)\n",
    "\n",
    "pdf(\"X_pcs_1_to_3.pdf\",width = 15, height=10)\n",
    "shapepca(GPA, pcno=c(1:3), joinline=c(1,2,3,4,13,21,20,19,18,17,16,15,14,6,1,6,14,5,15,7,2,9,17,8,18,10,3,12,20,11,21,13,4))\n",
    "dev.off()\n",
    "\n",
    "pdf(\"X_pcs_1_to_3_superimposed.pdf\",width = 15, height=10)\n",
    "shapepca(GPA, pcno=c(1:3), joinline=c(1,2,3,4,13,21,20,19,18,17,16,15,14,6,1,6,14,5,15,7,2,9,17,8,18,10,3,12,20,11,21,13,4), type=\"s\")\n",
    "dev.off()\n",
    "\n",
    "#Add info for Procrustes adjusted landmarks\n",
    "\n",
    "X_landmarks_adjusted <- cbind(X_landmarks_info,morpho_GPA_rotated_flat)\n",
    "write.table(X_landmarks_adjusted, \"X_landmarks_adjusted.csv\", sep=\",\", row.names = F, col.names = T)"
   ]
  },
  {
   "cell_type": "markdown",
   "metadata": {},
   "source": [
    "## Y Leaves ##"
   ]
  },
  {
   "cell_type": "code",
   "execution_count": null,
   "metadata": {
    "jupyter": {
     "source_hidden": true
    }
   },
   "outputs": [],
   "source": [
    "####Generalized Procrustes Analysis####\n",
    "library('shapes')\n",
    "library('tidyverse')\n",
    "\n",
    "#Need a version of the landmark file with just the landmarks\n",
    "Y_landmarks <- read_csv(\"Veraison_Y.csv\")\n",
    "\n",
    "Y_landmarks_info <- Y_landmarks %>% select(MO_ID, E_ID)\n",
    "Y_landmarks <- Y_landmarks %>% select(X22:Y42)\n",
    "\n",
    "n_landmarks <- 21\n",
    "n_leaves <- dim(Y_landmarks)[1]\n",
    "\n",
    "write.table(as.matrix(Y_landmarks), col.names=F, row.names=F, file='Y_landmarks_raw.txt')\n",
    "\n",
    "morpho_reformat_gpa <- read.in('Y_landmarks_raw.txt', n_landmarks, 2)\n",
    "\n",
    "dim(morpho_reformat_gpa)\n",
    "\n",
    "#fit the GPA\n",
    "GPA <- procGPA(morpho_reformat_gpa, reflect=TRUE)\n",
    "\n",
    "#write to file \n",
    "write.csv(as.matrix(GPA$stdscores), file=\"Y_PC_scores.csv\", quote=FALSE)\n",
    "write.csv(as.matrix(GPA$percent), file=\"Y_PC_percents\", quote=FALSE)\n",
    "write.csv(as.matrix(GPA$rotated), file=\"Y_GPA_rotated.csv\", quote=FALSE)\n",
    "\n",
    "#restructuring of matrix\n",
    "\n",
    "morpho_GPA_rotated_flat <- matrix(nrow=n_leaves, ncol=(n_landmarks*2))\n",
    "\n",
    "morpho_GPA_rotated <- as.matrix(GPA$rotated)\n",
    "for(j in c(1:n_leaves)) {\n",
    "  # extract all coordinates from the original table as blocks of 42 (n_landmarks*2) rows,\n",
    "  # each representing the x coordinates of a leaf, one by one, as calculated from j.\n",
    "  sub.data <- as.matrix(morpho_GPA_rotated[ (1+42*(j-1)):((1+42*(j-1))+41), 1])\n",
    "  sub.data.x <- as.matrix(sub.data[1:n_landmarks,])\n",
    "  sub.data.y <- as.matrix(sub.data[(n_landmarks+1):(n_landmarks*2),])\n",
    "  \n",
    "  # dissect out each x and y coordinate of the landmark data and put it into every other \n",
    "  # column of a single row (for a single leaf) in the overall table\n",
    "  \n",
    "  for (i in 1:n_landmarks){\n",
    "    morpho_GPA_rotated_flat[j,(i*2-1)] <- sub.data.x[i, 1]\n",
    "    morpho_GPA_rotated_flat[j, (i*2)] <- sub.data.y[i, 1]\n",
    "  }\n",
    "}\n",
    "\n",
    "colnames(morpho_GPA_rotated_flat) <- c(\"X22\", \"Y22\", \"X23\", \"Y23\", \"X24\", \"Y24\", \"X25\", \"Y25\", \"X26\", \"Y26\", \"X27\", \"Y27\", \"X28\", \"Y28\", \"X29\", \"Y29\", \"X30\", \"Y30\", \"X31\", \"Y31\", \"X32\", \"Y32\", \"X33\", \"Y33\", \"X34\", \"Y34\", \"X35\", \"Y35\", \"X36\", \"Y36\", \"X37\", \"Y37\", \"X38\", \"Y38\", \"X39\", \"Y39\", \"X40\", \"Y40\", \"X41\", \"Y41\", \"X42\", \"Y42\")\n",
    "\n",
    "head(morpho_GPA_rotated_flat)\n",
    "\n",
    "pdf(\"Y_pcs_1_to_3.pdf\",width = 15, height=10)\n",
    "shapepca(GPA, pcno=c(1:3), joinline=c(1,2,3,4,13,21,20,19,18,17,16,15,14,6,1,6,14,5,15,7,2,9,17,8,18,10,3,12,20,11,21,13,4))\n",
    "dev.off()\n",
    "\n",
    "pdf(\"Y_pcs_1_to_3_superimposed.pdf\",width = 15, height=10)\n",
    "shapepca(GPA, pcno=c(1:3), joinline=c(1,2,3,4,13,21,20,19,18,17,16,15,14,6,1,6,14,5,15,7,2,9,17,8,18,10,3,12,20,11,21,13,4), type=\"s\")\n",
    "dev.off()\n",
    "\n",
    "#Add info for Procrustes adjusted landmarks\n",
    "\n",
    "Y_landmarks_adjusted <- cbind(Y_landmarks_info,morpho_GPA_rotated_flat)\n",
    "write.table(Y_landmarks_adjusted, \"Y_landmarks_adjusted.csv\", sep=\",\", row.names = F, col.names = T)"
   ]
  },
  {
   "cell_type": "markdown",
   "metadata": {},
   "source": [
    "## Z Leaves ##"
   ]
  },
  {
   "cell_type": "code",
   "execution_count": null,
   "metadata": {
    "jupyter": {
     "source_hidden": true
    }
   },
   "outputs": [],
   "source": [
    "####Generalized Procrustes Analysis####\n",
    "library('shapes')\n",
    "library('tidyverse')\n",
    "\n",
    "#Need a version of the landmark file with just the landmarks\n",
    "Z_landmarks <- read_csv(\"Veraison_Z.csv\")\n",
    "\n",
    "Z_landmarks_info <- Z_landmarks %>% select(MO_ID, E_ID)\n",
    "Z_landmarks <- Z_landmarks %>% select(X43:Y63)\n",
    "\n",
    "n_landmarks <- 21\n",
    "n_leaves <- dim(Z_landmarks)[1]\n",
    "\n",
    "write.table(as.matrix(Z_landmarks), col.names=F, row.names=F, file='Z_landmarks_raw.txt')\n",
    "\n",
    "morpho_reformat_gpa <- read.in('Z_landmarks_raw.txt', n_landmarks, 2)\n",
    "\n",
    "dim(morpho_reformat_gpa)\n",
    "\n",
    "#fit the GPA\n",
    "GPA <- procGPA(morpho_reformat_gpa, reflect=TRUE)\n",
    "\n",
    "#write to file \n",
    "write.csv(as.matrix(GPA$stdscores), file=\"Z_PC_scores.csv\", quote=FALSE)\n",
    "write.csv(as.matrix(GPA$percent), file=\"Z_PC_percents\", quote=FALSE)\n",
    "write.csv(as.matrix(GPA$rotated), file=\"Z_GPA_rotated.csv\", quote=FALSE)\n",
    "\n",
    "#restructuring of matrix\n",
    "\n",
    "morpho_GPA_rotated_flat <- matrix(nrow=n_leaves, ncol=(n_landmarks*2))\n",
    "\n",
    "morpho_GPA_rotated <- as.matrix(GPA$rotated)\n",
    "for(j in c(1:n_leaves)) {\n",
    "  # extract all coordinates from the original table as blocks of 42 (n_landmarks*2) rows,\n",
    "  # each representing the x coordinates of a leaf, one by one, as calculated from j.\n",
    "  sub.data <- as.matrix(morpho_GPA_rotated[ (1+42*(j-1)):((1+42*(j-1))+41), 1])\n",
    "  sub.data.x <- as.matrix(sub.data[1:n_landmarks,])\n",
    "  sub.data.y <- as.matrix(sub.data[(n_landmarks+1):(n_landmarks*2),])\n",
    "  \n",
    "  # dissect out each x and y coordinate of the landmark data and put it into every other \n",
    "  # column of a single row (for a single leaf) in the overall table\n",
    "  \n",
    "  for (i in 1:n_landmarks){\n",
    "    morpho_GPA_rotated_flat[j,(i*2-1)] <- sub.data.x[i, 1]\n",
    "    morpho_GPA_rotated_flat[j, (i*2)] <- sub.data.y[i, 1]\n",
    "  }\n",
    "}\n",
    "\n",
    "colnames(morpho_GPA_rotated_flat) <- c(\"X43\", \"Y43\", \"X44\", \"Y44\", \"X45\", \"Y45\", \"X46\", \"Y46\", \"X47\", \"Y47\", \"X48\", \"Y48\", \"X49\", \"Y49\", \"X50\", \"Y50\", \"X51\", \"Y51\", \"X52\", \"Y52\", \"X53\", \"Y53\", \"X54\", \"Y54\", \"X55\", \"Y55\", \"X56\", \"Y56\", \"X57\", \"Y57\", \"X58\", \"Y58\", \"X59\", \"Y59\", \"X60\", \"Y60\", \"X61\", \"Y61\", \"X62\", \"Y62\", \"X63\", \"Y63\")\n",
    "\n",
    "head(morpho_GPA_rotated_flat)\n",
    "\n",
    "pdf(\"Z_pcs_1_to_3.pdf\",width = 15, height=10)\n",
    "shapepca(GPA, pcno=c(1:3), joinline=c(1,2,3,4,13,21,20,19,18,17,16,15,14,6,1,6,14,5,15,7,2,9,17,8,18,10,3,12,20,11,21,13,4))\n",
    "dev.off()\n",
    "\n",
    "pdf(\"Z_pcs_1_to_3_superimposed.pdf\",width = 15, height=10)\n",
    "shapepca(GPA, pcno=c(1:3), joinline=c(1,2,3,4,13,21,20,19,18,17,16,15,14,6,1,6,14,5,15,7,2,9,17,8,18,10,3,12,20,11,21,13,4), type=\"s\")\n",
    "dev.off()\n",
    "\n",
    "#Add info for Procrustes adjusted landmarks\n",
    "\n",
    "Z_landmarks_adjusted <- cbind(Z_landmarks_info,morpho_GPA_rotated_flat)\n",
    "write.table(Z_landmarks_adjusted, \"Z_landmarks_adjusted.csv\", sep=\",\", row.names = F, col.names = T)"
   ]
  },
  {
   "cell_type": "markdown",
   "metadata": {},
   "source": [
    "## Adjusted Zoe's script for X,Y, and Z leaves: ##"
   ]
  },
  {
   "cell_type": "code",
   "execution_count": null,
   "metadata": {
    "jupyter": {
     "source_hidden": true
    }
   },
   "outputs": [],
   "source": [
    "#Need a version of the landmark file with just the landmarks\n",
    "landmarks <- read.csv(\"July_24_Compiled.csv\")\n",
    "\n",
    "landmarks_info <- landmarks %>% select(Label,ID)\n",
    "landmarks <- landmarks %>% select(X1:Y63)\n",
    "landmarks <- as.factor(landmarks)\n",
    "n_landmarks <- 63\n",
    "n_leaves <- dim(landmarks)[1]\n",
    "\n",
    "write.table(as.matrix(landmarks), col.names=F, row.names=F, file='landmarks_raw.txt')\n",
    "\n",
    "morpho_reformat_gpa <- read.in('landmarks_raw.txt', n_landmarks, 2)\n",
    "\n",
    "dim(morpho_reformat_gpa)\n",
    "\n",
    "#fit the GPA\n",
    "GPA <- procGPA(morpho_reformat_gpa, reflect=TRUE)\n",
    "\n",
    "\n",
    "#write to file \n",
    "write.csv(as.matrix(GPA$stdscores), file=\"PC_scores.csv\", quote=FALSE)\n",
    "write.csv(as.matrix(GPA$percent), file=\"PC_percents\", quote=FALSE)\n",
    "write.csv(as.matrix(GPA$rotated), file=\"GPA_rotated.csv\", quote=FALSE)\n",
    "\n",
    "#restructuring of matrix\n",
    "\n",
    "morpho_GPA_rotated_flat <- matrix(nrow=n_leaves, ncol=(n_landmarks*2))\n",
    "\n",
    "morpho_GPA_rotated <- as.matrix(GPA$rotated)\n",
    "for(j in c(1:n_leaves)) {\n",
    "  # extract all coordinates from the original table as blocks of 42 (n_landmarks*2) rows,\n",
    "  # each representing the x coordinates of a leaf, one by one, as calculated from j.\n",
    "  sub.data <- as.matrix(morpho_GPA_rotated[ (1+126*(j-1)):((1+126*(j-1))+125), 1])\n",
    "  sub.data.x <- as.matrix(sub.data[1:n_landmarks,])\n",
    "  sub.data.y <- as.matrix(sub.data[(n_landmarks+1):(n_landmarks*2),])\n",
    "  \n",
    "  # dissect out each x and y coordinate of the landmark data and put it into every other \n",
    "  # column of a single row (for a single leaf) in the overall table\n",
    "  \n",
    "  for (i in 1:n_landmarks){\n",
    "    morpho_GPA_rotated_flat[j,(i*2-1)] <- sub.data.x[i, 1]\n",
    "    morpho_GPA_rotated_flat[j, (i*2)] <- sub.data.y[i, 1]\n",
    "  }\n",
    "}\n",
    "\n",
    "colnames(morpho_GPA_rotated_flat) <- c(\"X1\", \"Y1\", \"X2\", \"Y2\", \"X3\", \"Y3\", \"X4\", \"Y4\", \"X5\", \"Y5\", \"X6\", \"Y6\", \"X7\", \"Y7\", \"X8\", \"Y8\", \"X9\", \"Y9\", \"X10\", \"Y10\", \"X11\", \"Y11\", \"X12\", \"Y12\", \"X13\", \"Y13\", \"X14\", \"Y14\", \"X15\", \"Y15\", \"X16\", \"Y16\", \"X17\", \"Y17\",\"X18\", \"Y18\",\"X19\", \"Y19\",\"X20\", \"Y20\",\"X21\", \"Y21\",\"X22\", \"Y22\", \"X23\", \"Y23\", \"X24\", \"Y24\", \"X25\", \"Y25\", \"X26\", \"Y26\", \"X27\", \"Y27\", \"X28\", \"Y28\", \"X29\", \"Y29\", \"X30\", \"Y30\", \"X31\", \"Y31\", \"X32\", \"Y32\", \"X33\", \"Y33\", \"X34\", \"Y34\", \"X35\", \"Y35\", \"X36\", \"Y36\", \"X37\", \"Y37\", \"X38\", \"Y38\", \"X39\", \"Y39\", \"X40\", \"Y40\", \"X41\", \"Y41\", \"X42\", \"Y42\", \"X43\", \"Y43\", \"X44\", \"Y44\", \"X45\", \"Y45\", \"X46\", \"Y46\", \"X47\", \"Y47\", \"X48\", \"Y48\", \"X49\", \"Y49\", \"X50\", \"Y50\", \"X51\", \"Y51\", \"X52\", \"Y52\", \"X53\", \"Y53\", \"X54\", \"Y54\", \"X55\", \"Y55\", \"X56\", \"Y56\", \"X57\", \"Y57\", \"X58\", \"Y58\", \"X59\", \"Y59\", \"X60\", \"Y60\", \"X61\", \"Y61\", \"X62\", \"Y62\", \"X63\", \"Y63\")\n",
    "\n",
    "head(morpho_GPA_rotated_flat)\n",
    "\n",
    "pdf(\"pcs_1_to_3.pdf\",width = 15, height=10)\n",
    "shapepca(GPA, pcno=c(1:3), joinline=c(1,2,3,4,13,21,20,19,18,17,16,15,14,6,1,6,14,5,15,7,2,9,17,8,18,10,3,12,20,11,21,13,4))\n",
    "dev.off()\n",
    "\n",
    "pdf(\"pcs_1_to_3_superimposed.pdf\",width = 15, height=10)\n",
    "shapepca(GPA, pcno=c(1:3), joinline=c(1,2,3,4,13,21,20,19,18,17,16,15,14,6,1,6,14,5,15,7,2,9,17,8,18,10,3,12,20,11,21,13,4), tYpe=\"s\")\n",
    "dev.off()\n",
    "\n",
    "#Add info for Procrustes adjusted landmarks\n",
    "\n",
    "landmarks_adjusted <- cbind(landmarks_info,morpho_GPA_rotated_flat)\n",
    "write.table(landmarks_adjusted, \"landmarks_adjusted.csv\", sep=\",\", row.names = F, col.names = T)\n"
   ]
  }
 ],
 "metadata": {
  "kernelspec": {
   "display_name": "R",
   "language": "R",
   "name": "ir"
  },
  "language_info": {
   "codemirror_mode": "r",
   "file_extension": ".r",
   "mimetype": "text/x-r-source",
   "name": "R",
   "pygments_lexer": "r",
   "version": "4.0.5"
  }
 },
 "nbformat": 4,
 "nbformat_minor": 5
}
