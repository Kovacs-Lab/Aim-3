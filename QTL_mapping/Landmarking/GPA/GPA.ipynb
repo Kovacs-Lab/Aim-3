{
 "cells": [
  {
   "cell_type": "code",
   "execution_count": 1,
   "metadata": {},
   "outputs": [
    {
     "data": {
      "text/html": [
       "<dl>\n",
       "\t<dt>$platform</dt>\n",
       "\t\t<dd>'x86_64-w64-mingw32'</dd>\n",
       "\t<dt>$arch</dt>\n",
       "\t\t<dd>'x86_64'</dd>\n",
       "\t<dt>$os</dt>\n",
       "\t\t<dd>'mingw32'</dd>\n",
       "\t<dt>$system</dt>\n",
       "\t\t<dd>'x86_64, mingw32'</dd>\n",
       "\t<dt>$status</dt>\n",
       "\t\t<dd>''</dd>\n",
       "\t<dt>$major</dt>\n",
       "\t\t<dd>'4'</dd>\n",
       "\t<dt>$minor</dt>\n",
       "\t\t<dd>'0.4'</dd>\n",
       "\t<dt>$year</dt>\n",
       "\t\t<dd>'2021'</dd>\n",
       "\t<dt>$month</dt>\n",
       "\t\t<dd>'02'</dd>\n",
       "\t<dt>$day</dt>\n",
       "\t\t<dd>'15'</dd>\n",
       "\t<dt>$`svn rev`</dt>\n",
       "\t\t<dd>'80002'</dd>\n",
       "\t<dt>$language</dt>\n",
       "\t\t<dd>'R'</dd>\n",
       "\t<dt>$version.string</dt>\n",
       "\t\t<dd>'R version 4.0.4 (2021-02-15)'</dd>\n",
       "\t<dt>$nickname</dt>\n",
       "\t\t<dd>'Lost Library Book'</dd>\n",
       "</dl>\n"
      ],
      "text/latex": [
       "\\begin{description}\n",
       "\\item[\\$platform] 'x86\\_64-w64-mingw32'\n",
       "\\item[\\$arch] 'x86\\_64'\n",
       "\\item[\\$os] 'mingw32'\n",
       "\\item[\\$system] 'x86\\_64, mingw32'\n",
       "\\item[\\$status] ''\n",
       "\\item[\\$major] '4'\n",
       "\\item[\\$minor] '0.4'\n",
       "\\item[\\$year] '2021'\n",
       "\\item[\\$month] '02'\n",
       "\\item[\\$day] '15'\n",
       "\\item[\\$`svn rev`] '80002'\n",
       "\\item[\\$language] 'R'\n",
       "\\item[\\$version.string] 'R version 4.0.4 (2021-02-15)'\n",
       "\\item[\\$nickname] 'Lost Library Book'\n",
       "\\end{description}\n"
      ],
      "text/markdown": [
       "$platform\n",
       ":   'x86_64-w64-mingw32'\n",
       "$arch\n",
       ":   'x86_64'\n",
       "$os\n",
       ":   'mingw32'\n",
       "$system\n",
       ":   'x86_64, mingw32'\n",
       "$status\n",
       ":   ''\n",
       "$major\n",
       ":   '4'\n",
       "$minor\n",
       ":   '0.4'\n",
       "$year\n",
       ":   '2021'\n",
       "$month\n",
       ":   '02'\n",
       "$day\n",
       ":   '15'\n",
       "$`svn rev`\n",
       ":   '80002'\n",
       "$language\n",
       ":   'R'\n",
       "$version.string\n",
       ":   'R version 4.0.4 (2021-02-15)'\n",
       "$nickname\n",
       ":   'Lost Library Book'\n",
       "\n",
       "\n"
      ],
      "text/plain": [
       "$platform\n",
       "[1] \"x86_64-w64-mingw32\"\n",
       "\n",
       "$arch\n",
       "[1] \"x86_64\"\n",
       "\n",
       "$os\n",
       "[1] \"mingw32\"\n",
       "\n",
       "$system\n",
       "[1] \"x86_64, mingw32\"\n",
       "\n",
       "$status\n",
       "[1] \"\"\n",
       "\n",
       "$major\n",
       "[1] \"4\"\n",
       "\n",
       "$minor\n",
       "[1] \"0.4\"\n",
       "\n",
       "$year\n",
       "[1] \"2021\"\n",
       "\n",
       "$month\n",
       "[1] \"02\"\n",
       "\n",
       "$day\n",
       "[1] \"15\"\n",
       "\n",
       "$`svn rev`\n",
       "[1] \"80002\"\n",
       "\n",
       "$language\n",
       "[1] \"R\"\n",
       "\n",
       "$version.string\n",
       "[1] \"R version 4.0.4 (2021-02-15)\"\n",
       "\n",
       "$nickname\n",
       "[1] \"Lost Library Book\"\n"
      ]
     },
     "metadata": {},
     "output_type": "display_data"
    }
   ],
   "source": [
    "R.Version()"
   ]
  },
  {
   "cell_type": "code",
   "execution_count": 3,
   "metadata": {},
   "outputs": [
    {
     "name": "stderr",
     "output_type": "stream",
     "text": [
      "Warning message:\n",
      "\"package 'viridis' is in use and will not be installed\"\n",
      "Warning message:\n",
      "\"package 'tidyverse' is in use and will not be installed\"\n",
      "Warning message:\n",
      "\"package 'caret' is in use and will not be installed\"\n",
      "Warning message:\n",
      "\"package 'MASS' is in use and will not be installed\"\n",
      "Warning message:\n",
      "\"package 'ggplot2' is in use and will not be installed\"\n",
      "Warning message:\n",
      "\"package 'dplyr' is in use and will not be installed\"\n",
      "Installing package into 'C:/Users/2198K/Documents/R/win-library/4.0'\n",
      "(as 'lib' is unspecified)\n",
      "\n"
     ]
    },
    {
     "name": "stdout",
     "output_type": "stream",
     "text": [
      "package 'shapes' successfully unpacked and MD5 sums checked\n",
      "\n",
      "The downloaded binary packages are in\n",
      "\tC:\\Users\\2198K\\AppData\\Local\\Temp\\RtmpyEonXU\\downloaded_packages\n"
     ]
    },
    {
     "ename": "ERROR",
     "evalue": "Error: package or namespace load failed for 'shapes' in loadNamespace(i, c(lib.loc, .libPaths()), versionCheck = vI[[i]]):\n namespace 'htmltools' 0.5.0 is already loaded, but >= 0.5.0.9001 is required\n",
     "output_type": "error",
     "traceback": [
      "Error: package or namespace load failed for 'shapes' in loadNamespace(i, c(lib.loc, .libPaths()), versionCheck = vI[[i]]):\n namespace 'htmltools' 0.5.0 is already loaded, but >= 0.5.0.9001 is required\nTraceback:\n",
      "1. library(\"shapes\")",
      "2. tryCatch({\n .     attr(package, \"LibPath\") <- which.lib.loc\n .     ns <- loadNamespace(package, lib.loc)\n .     env <- attachNamespace(ns, pos = pos, deps, exclude, include.only)\n . }, error = function(e) {\n .     P <- if (!is.null(cc <- conditionCall(e))) \n .         paste(\" in\", deparse(cc)[1L])\n .     else \"\"\n .     msg <- gettextf(\"package or namespace load failed for %s%s:\\n %s\", \n .         sQuote(package), P, conditionMessage(e))\n .     if (logical.return) \n .         message(paste(\"Error:\", msg), domain = NA)\n .     else stop(msg, call. = FALSE, domain = NA)\n . })",
      "3. tryCatchList(expr, classes, parentenv, handlers)",
      "4. tryCatchOne(expr, names, parentenv, handlers[[1L]])",
      "5. value[[3L]](cond)",
      "6. stop(msg, call. = FALSE, domain = NA)"
     ]
    }
   ],
   "source": [
    "install.packages('viridis')\n",
    "library('viridis')\n",
    "install.packages('tidyverse')\n",
    "library('tidyverse')\n",
    "install.packages('caret')\n",
    "library('caret')\n",
    "install.packages('MASS')\n",
    "library('MASS')\n",
    "install.packages('ggplot2')\n",
    "library('ggplot2')\n",
    "install.packages(\"dplyr\")\n",
    "library(\"dplyr\")\n",
    "install.packages(\"shapes\",dependencies=TRUE)\n",
    "library(\"shapes\")"
   ]
  },
  {
   "cell_type": "code",
   "execution_count": 4,
   "metadata": {},
   "outputs": [],
   "source": [
    "df <- read.csv(\"Veraison_X.csv\")"
   ]
  },
  {
   "cell_type": "code",
   "execution_count": 5,
   "metadata": {},
   "outputs": [
    {
     "ename": "ERROR",
     "evalue": "Error in read.in(\"GPA.txt\", n_landmarks, 2): could not find function \"read.in\"\n",
     "output_type": "error",
     "traceback": [
      "Error in read.in(\"GPA.txt\", n_landmarks, 2): could not find function \"read.in\"\nTraceback:\n"
     ]
    }
   ],
   "source": [
    "#READIN FUNCTION NOT WORKING\n",
    "n_landmarks <- 21\n",
    "n_leaves <- dim(df$MO_ID)[1]\n",
    "\n",
    "# Apprently we can't be elegant. Write the table, and then call read.in to read it back in. \n",
    "write.table(as.matrix(df), col.names=F, row.names=F, file='GPA.txt')\n",
    "gpa <- read.in('GPA.txt', n_landmarks, 2)\n",
    "\n",
    "# looks right, I guess\n",
    "dim(gpa)\n",
    "\n",
    "# fit the GPA\n",
    "GPA <- procGPA(df, reflect=TRUE)\n",
    "\n",
    "# # write things a la Dan\n",
    "write.csv(as.matrix(GPA$stdscores), file=\"2017_morphology_PC_scores.csv\", quote=FALSE)\n",
    "write.csv(as.matrix(GPA$percent), file=\"2017_morphology_PC_percents\", quote=FALSE)\n",
    "write.csv(as.matrix(GPA$rotated), file=\"2017_morphology_GPA_rotated.csv\", quote=FALSE)"
   ]
  },
  {
   "cell_type": "code",
   "execution_count": 10,
   "metadata": {},
   "outputs": [
    {
     "name": "stderr",
     "output_type": "stream",
     "text": [
      "Installing package into 'C:/Users/2198K/Documents/R/win-library/4.0'\n",
      "(as 'lib' is unspecified)\n",
      "\n"
     ]
    },
    {
     "name": "stdout",
     "output_type": "stream",
     "text": [
      "package 'htmltools' successfully unpacked and MD5 sums checked\n"
     ]
    },
    {
     "name": "stderr",
     "output_type": "stream",
     "text": [
      "Warning message:\n",
      "\"cannot remove prior installation of package 'htmltools'\"\n",
      "Warning message in file.copy(savedcopy, lib, recursive = TRUE):\n",
      "\"problem copying C:\\Users\\2198K\\Documents\\R\\win-library\\4.0\\00LOCK\\htmltools\\libs\\x64\\htmltools.dll to C:\\Users\\2198K\\Documents\\R\\win-library\\4.0\\htmltools\\libs\\x64\\htmltools.dll: Permission denied\"\n",
      "Warning message:\n",
      "\"restored 'htmltools'\"\n"
     ]
    },
    {
     "name": "stdout",
     "output_type": "stream",
     "text": [
      "\n",
      "The downloaded binary packages are in\n",
      "\tC:\\Users\\2198K\\AppData\\Local\\Temp\\RtmpyEonXU\\downloaded_packages\n"
     ]
    }
   ],
   "source": [
    "install.packages(\"htmltools\")"
   ]
  },
  {
   "cell_type": "code",
   "execution_count": 12,
   "metadata": {},
   "outputs": [
    {
     "data": {
      "text/html": [
       "<style>\n",
       ".list-inline {list-style: none; margin:0; padding: 0}\n",
       ".list-inline>li {display: inline-block}\n",
       ".list-inline>li:not(:last-child)::after {content: \"\\00b7\"; padding: 0 .5ex}\n",
       "</style>\n",
       "<ol class=list-inline><li>261</li><li>44</li></ol>\n"
      ],
      "text/latex": [
       "\\begin{enumerate*}\n",
       "\\item 261\n",
       "\\item 44\n",
       "\\end{enumerate*}\n"
      ],
      "text/markdown": [
       "1. 261\n",
       "2. 44\n",
       "\n",
       "\n"
      ],
      "text/plain": [
       "[1] 261  44"
      ]
     },
     "metadata": {},
     "output_type": "display_data"
    },
    {
     "ename": "ERROR",
     "evalue": "Error in procGPA(df, reflect = TRUE): could not find function \"procGPA\"\n",
     "output_type": "error",
     "traceback": [
      "Error in procGPA(df, reflect = TRUE): could not find function \"procGPA\"\nTraceback:\n"
     ]
    }
   ],
   "source": [
    "#TRYING IT WITHOUT READ.IN\n",
    "n_landmarks <- 21\n",
    "n_leaves <- dim(df$MO_ID)[1]\n",
    "dim(df)\n",
    "\n",
    "# fit the GPA\n",
    "GPA <- procGPA(df, reflect=TRUE)\n",
    "\n",
    "# # write things a la Dan\n",
    "write.csv(as.matrix(GPA$stdscores), file=\"2017_morphology_PC_scores.csv\", quote=FALSE)\n",
    "write.csv(as.matrix(GPA$percent), file=\"2017_morphology_PC_percents\", quote=FALSE)\n",
    "write.csv(as.matrix(GPA$rotated), file=\"2017_morphology_GPA_rotated.csv\", quote=FALSE)"
   ]
  },
  {
   "cell_type": "code",
   "execution_count": 23,
   "metadata": {},
   "outputs": [
    {
     "ename": "ERROR",
     "evalue": "Error in as.matrix(GPA$rotated): object 'GPA' not found\n",
     "output_type": "error",
     "traceback": [
      "Error in as.matrix(GPA$rotated): object 'GPA' not found\nTraceback:\n",
      "1. as.matrix(GPA$rotated)"
     ]
    }
   ],
   "source": [
    "# forced restructring of rotated matrix\n",
    "\n",
    "morpho_GPA_rotated_flat <- matrix(nrow=261, ncol=42)\n",
    "\n",
    "morpho_GPA_rotated <- as.matrix(GPA$rotated)\n",
    "for(j in c(1:n_leaves)) {\n",
    "    # extract all coordinates from the original table as blocks of 34 (n_landmarks*2) rows,\n",
    "    # each representing the x coordinates of a leaf, one by one, as calculated from j.\n",
    "    sub.data <- as.matrix(morpho_GPA_rotated[ (1+42*(j-1)):((1+42*(j-1))+41), 1])\n",
    "    sub.data.x <- as.matrix(sub.data[1:n_landmarks,])\n",
    "    sub.data.y <- as.matrix(sub.data[(n_landmarks+1):(n_landmarks*2),])\n",
    "\n",
    "    # dissect out each x and y coordinate of the landmark data and put it into every other \n",
    "    # column of a single row (for a single leaf) in the overall table\n",
    "\n",
    "    for (i in 1:n_landmarks){\n",
    "        morpho_GPA_rotated_flat[j,(i*2-1)] <- sub.data.x[i, 1]\n",
    "        morpho_GPA_rotated_flat[j, (i*2)] <- sub.data.y[i, 1]\n",
    "    }\n",
    "}\n",
    "\n",
    "colnames(morpho_GPA_rotated_flat) <- c(\"x1\", \"y1\", \"x2\", \"y2\", \"x3\", \"y3\", \"x4\", \"y4\", \"x5\", \"y5\", \"x6\", \"y6\", \"x7\", \"y7\", \"x8\", \"y8\", \"x9\", \"y9\", \"x10\", \"y10\", \"x11\", \"y11\", \"x12\", \"y12\", \"x13\", \"y13\", \"x14\", \"y14\", \"x15\", \"y15\", \"x16\", \"y16\", \"x17\", \"y17\")\n",
    "\n",
    "head(morpho_GPA_rotated_flat)"
   ]
  }
 ],
 "metadata": {
  "kernelspec": {
   "display_name": "R",
   "language": "R",
   "name": "ir"
  },
  "language_info": {
   "codemirror_mode": "r",
   "file_extension": ".r",
   "mimetype": "text/x-r-source",
   "name": "R",
   "pygments_lexer": "r",
   "version": "4.0.4"
  }
 },
 "nbformat": 4,
 "nbformat_minor": 4
}
