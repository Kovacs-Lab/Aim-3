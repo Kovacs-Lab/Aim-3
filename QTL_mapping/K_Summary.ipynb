{
 "cells": [
  {
   "cell_type": "markdown",
   "metadata": {},
   "source": [
    "This analysis is in the order of Female then Male"
   ]
  },
  {
   "cell_type": "code",
   "execution_count": 2,
   "metadata": {},
   "outputs": [
    {
     "name": "stderr",
     "output_type": "stream",
     "text": [
      "Installing package into 'C:/Users/daeda/OneDrive/Documents/R/win-library/3.6'\n",
      "(as 'lib' is unspecified)\n",
      "\n"
     ]
    },
    {
     "name": "stdout",
     "output_type": "stream",
     "text": [
      "package 'qtl' successfully unpacked and MD5 sums checked\n"
     ]
    },
    {
     "name": "stderr",
     "output_type": "stream",
     "text": [
      "Warning message:\n",
      "\"cannot remove prior installation of package 'qtl'\"\n",
      "Warning message in file.copy(savedcopy, lib, recursive = TRUE):\n",
      "\"problem copying C:\\Users\\daeda\\OneDrive\\Documents\\R\\win-library\\3.6\\00LOCK\\qtl\\libs\\x64\\qtl.dll to C:\\Users\\daeda\\OneDrive\\Documents\\R\\win-library\\3.6\\qtl\\libs\\x64\\qtl.dll: Permission denied\"\n",
      "Warning message:\n",
      "\"restored 'qtl'\"\n"
     ]
    },
    {
     "name": "stdout",
     "output_type": "stream",
     "text": [
      "\n",
      "The downloaded binary packages are in\n",
      "\tC:\\Users\\daeda\\AppData\\Local\\Temp\\RtmpCQl1Lr\\downloaded_packages\n"
     ]
    },
    {
     "name": "stderr",
     "output_type": "stream",
     "text": [
      "Installing package into 'C:/Users/daeda/OneDrive/Documents/R/win-library/3.6'\n",
      "(as 'lib' is unspecified)\n",
      "\n"
     ]
    },
    {
     "name": "stdout",
     "output_type": "stream",
     "text": [
      "package 'qtlcharts' successfully unpacked and MD5 sums checked\n",
      "\n",
      "The downloaded binary packages are in\n",
      "\tC:\\Users\\daeda\\AppData\\Local\\Temp\\RtmpCQl1Lr\\downloaded_packages\n"
     ]
    },
    {
     "name": "stderr",
     "output_type": "stream",
     "text": [
      "Installing package into 'C:/Users/daeda/OneDrive/Documents/R/win-library/3.6'\n",
      "(as 'lib' is unspecified)\n",
      "\n"
     ]
    },
    {
     "name": "stdout",
     "output_type": "stream",
     "text": [
      "package 'LinkageMapView' successfully unpacked and MD5 sums checked\n",
      "\n",
      "The downloaded binary packages are in\n",
      "\tC:\\Users\\daeda\\AppData\\Local\\Temp\\RtmpCQl1Lr\\downloaded_packages\n"
     ]
    },
    {
     "name": "stderr",
     "output_type": "stream",
     "text": [
      "Installing package into 'C:/Users/daeda/OneDrive/Documents/R/win-library/3.6'\n",
      "(as 'lib' is unspecified)\n",
      "\n"
     ]
    },
    {
     "name": "stdout",
     "output_type": "stream",
     "text": [
      "package 'rcompanion' successfully unpacked and MD5 sums checked\n",
      "\n",
      "The downloaded binary packages are in\n",
      "\tC:\\Users\\daeda\\AppData\\Local\\Temp\\RtmpCQl1Lr\\downloaded_packages\n"
     ]
    },
    {
     "name": "stderr",
     "output_type": "stream",
     "text": [
      "Warning message:\n",
      "\"package 'qtl' was built under R version 3.6.2\"\n",
      "Warning message:\n",
      "\"package 'qtlcharts' was built under R version 3.6.2\"\n",
      "Warning message:\n",
      "\"package 'LinkageMapView' was built under R version 3.6.2\"\n",
      "Warning message:\n",
      "\"package 'rcompanion' was built under R version 3.6.2\"\n"
     ]
    }
   ],
   "source": [
    "install.packages('qtl') #Main package, for analysis\n",
    "install.packages('qtlcharts') #accessory, for displaying graphs\n",
    "install.packages('LinkageMapView') #accessory, for displaying linkage maps\n",
    "install.packages('rcompanion')# for plotNormalHistogram"
   ]
  },
  {
   "cell_type": "code",
   "execution_count": 1,
   "metadata": {},
   "outputs": [
    {
     "name": "stderr",
     "output_type": "stream",
     "text": [
      "Warning message:\n",
      "\"package 'qtl' was built under R version 3.6.2\"\n",
      "Warning message:\n",
      "\"package 'qtlcharts' was built under R version 3.6.2\"\n",
      "Warning message:\n",
      "\"package 'LinkageMapView' was built under R version 3.6.2\"\n",
      "Warning message:\n",
      "\"package 'rcompanion' was built under R version 3.6.2\"\n"
     ]
    }
   ],
   "source": [
    "library(qtl) #load packages\n",
    "library(qtlcharts)\n",
    "library(LinkageMapView)\n",
    "library(rcompanion)"
   ]
  },
  {
   "cell_type": "code",
   "execution_count": 2,
   "metadata": {},
   "outputs": [
    {
     "name": "stdout",
     "output_type": "stream",
     "text": [
      "[1] \"Make sure to input names AS THEY APPEAR on the csv!!\"\n"
     ]
    },
    {
     "name": "stdin",
     "output_type": "stream",
     "text": [
      "Enter file name (Either FemaleMap.csv or MaleMap.csv):  FemaleMap.csv\n",
      "First Genotype (homozygous) (For example ll):  11\n",
      "Second Genotype (heterozygous) (for example lm):  lm\n",
      "Column Number:  24\n"
     ]
    }
   ],
   "source": [
    "#Collecting enviroment variables\n",
    "print(\"Make sure to input names AS THEY APPEAR on the csv!!\") #Just a user warning\n",
    "fileName <- readline(\"Enter file name (Either FemaleMap.csv or MaleMap.csv): \") #Mapping table file\n",
    "genotypeName <- c(readline(\"First Genotype (homozygous) (For example ll): \"),\n",
    "                  readline(\"Second Genotype (heterozygous) (for example lm): \")) #For example \"nn\", \"np\"\n",
    "alleleName <- c(substr(genotypeName[2],1,1) ,substr(genotypeName[2],2,2))\n",
    "naNames <- c(\"NA\",\"--\") #For example \"NA\", \"--\"\n",
    "colNum <- as.numeric(readline(\"Column Number: \")) #Column for pheno of interest"
   ]
  },
  {
   "cell_type": "code",
   "execution_count": 3,
   "metadata": {},
   "outputs": [
    {
     "name": "stderr",
     "output_type": "stream",
     "text": [
      "Warning message in read.cross.csv(dir, file, na.strings, genotypes, estimate.map, :\n",
      "\"The following unexpected genotype codes were treated as missing.\n",
      "    |ll|\n",
      "\"\n"
     ]
    },
    {
     "name": "stdout",
     "output_type": "stream",
     "text": [
      " --Read the following data:\n",
      "\t 294  individuals\n",
      "\t 1100  markers\n",
      "\t 38  phenotypes\n"
     ]
    },
    {
     "name": "stderr",
     "output_type": "stream",
     "text": [
      "Warning message in summary.cross(cross):\n",
      "\"Some markers at the same position on chr 1,2,4,5,7,8,9,10,11,12,13,14,16,17,18,19; use jittermap().\"\n",
      "Warning message in summary.cross(cross):\n",
      "\"Strange genotype pattern on chr 19.\"\n"
     ]
    },
    {
     "name": "stdout",
     "output_type": "stream",
     "text": [
      " --Cross type: bc \n"
     ]
    },
    {
     "data": {
      "image/png": "[encoded data removed]",
      "text/plain": [
       "Plot with title \"Genetic map\""
      ]
     },
     "metadata": {
      "image/png": {
       "height": 420,
       "width": 420
      }
     },
     "output_type": "display_data"
    }
   ],
   "source": [
    "#Map generation\n",
    "Map <- read.cross(format = 'csv',file = fileName \n",
    "                  ,genotypes = genotypeName,\n",
    "                  alleles = alleleName,na.strings = naNames) #generate linkage map\n",
    "Map <- jittermap(Map) #make sure no markers are in the same location\n",
    "Map <- calc.genoprob(Map,step = 1,map.function = \"kosambi\") #associate markers with full genotypes\n",
    "plot.map(Map) #draw linkage map"
   ]
  },
  {
   "cell_type": "code",
   "execution_count": 4,
   "metadata": {},
   "outputs": [
    {
     "data": {
      "image/png": "[encoded data removed]",
      "text/plain": [
       "Plot with title \"\""
      ]
     },
     "metadata": {
      "image/png": {
       "height": 420,
       "width": 420
      }
     },
     "output_type": "display_data"
    }
   ],
   "source": [
    "plotNormalHistogram(Map$pheno[,colNum]) #normal histogram of pheno of interest"
   ]
  },
  {
   "cell_type": "markdown",
   "metadata": {},
   "source": [
    "Outliers exist in this dataset. Will need to be analyized. "
   ]
  },
  {
   "cell_type": "code",
   "execution_count": 5,
   "metadata": {},
   "outputs": [
    {
     "name": "stderr",
     "output_type": "stream",
     "text": [
      "Warning message in checkcovar(cross, pheno.col, addcovar, intcovar, perm.strata, :\n",
      "\"addcovar appears to be over-specified; consider dropping columns.\n",
      "\"\n",
      "Warning message in checkcovar(cross, pheno.col, addcovar, intcovar, perm.strata, :\n",
      "\"addcovar appears to be over-specified; consider dropping columns.\n",
      "\"\n",
      "Warning message in checkcovar(cross, pheno.col, addcovar, intcovar, perm.strata, :\n",
      "\"addcovar appears to be over-specified; consider dropping columns.\n",
      "\"\n",
      "Warning message in checkcovar(cross, pheno.col, addcovar, intcovar, perm.strata, :\n",
      "\"addcovar appears to be over-specified; consider dropping columns.\n",
      "\"\n",
      "Warning message in checkcovar(cross, pheno.col, addcovar, intcovar, perm.strata, :\n",
      "\"addcovar appears to be over-specified; consider dropping columns.\n",
      "\"\n",
      "Warning message in checkcovar(cross, pheno.col, addcovar, intcovar, perm.strata, :\n",
      "\"addcovar appears to be over-specified; consider dropping columns.\n",
      "\"\n",
      "Warning message in checkcovar(cross, pheno.col, addcovar, intcovar, perm.strata, :\n",
      "\"addcovar appears to be over-specified; consider dropping columns.\n",
      "\"\n",
      "Warning message in checkcovar(cross, pheno.col, addcovar, intcovar, perm.strata, :\n",
      "\"addcovar appears to be over-specified; consider dropping columns.\n",
      "\"\n",
      "Warning message in checkcovar(cross, pheno.col, addcovar, intcovar, perm.strata, :\n",
      "\"addcovar appears to be over-specified; consider dropping columns.\n",
      "\"\n",
      "Warning message in checkcovar(cross, pheno.col, addcovar, intcovar, perm.strata, :\n",
      "\"addcovar appears to be over-specified; consider dropping columns.\n",
      "\"\n",
      "Warning message in checkcovar(cross, pheno.col, addcovar, intcovar, perm.strata, :\n",
      "\"addcovar appears to be over-specified; consider dropping columns.\n",
      "\"\n",
      "Warning message in checkcovar(cross, pheno.col, addcovar, intcovar, perm.strata, :\n",
      "\"addcovar appears to be over-specified; consider dropping columns.\n",
      "\"\n",
      "Warning message in checkcovar(cross, pheno.col, addcovar, intcovar, perm.strata, :\n",
      "\"addcovar appears to be over-specified; consider dropping columns.\n",
      "\"\n",
      "Warning message in checkcovar(cross, pheno.col, addcovar, intcovar, perm.strata, :\n",
      "\"addcovar appears to be over-specified; consider dropping columns.\n",
      "\"\n",
      "Warning message in checkcovar(cross, pheno.col, addcovar, intcovar, perm.strata, :\n",
      "\"addcovar appears to be over-specified; consider dropping columns.\n",
      "\"\n",
      "Warning message in checkcovar(cross, pheno.col, addcovar, intcovar, perm.strata, :\n",
      "\"addcovar appears to be over-specified; consider dropping columns.\n",
      "\"\n",
      "Warning message in checkcovar(cross, pheno.col, addcovar, intcovar, perm.strata, :\n",
      "\"addcovar appears to be over-specified; consider dropping columns.\n",
      "\"\n",
      "Warning message in checkcovar(cross, pheno.col, addcovar, intcovar, perm.strata, :\n",
      "\"addcovar appears to be over-specified; consider dropping columns.\n",
      "\"\n",
      "Warning message in checkcovar(cross, pheno.col, addcovar, intcovar, perm.strata, :\n",
      "\"addcovar appears to be over-specified; consider dropping columns.\n",
      "\"\n",
      "Warning message in checkcovar(cross, pheno.col, addcovar, intcovar, perm.strata, :\n",
      "\"addcovar appears to be over-specified; consider dropping columns.\n",
      "\"\n",
      "Warning message in checkcovar(cross, pheno.col, addcovar, intcovar, perm.strata, :\n",
      "\"addcovar appears to be over-specified; consider dropping columns.\n",
      "\"\n",
      "Warning message in checkcovar(cross, pheno.col, addcovar, intcovar, perm.strata, :\n",
      "\"addcovar appears to be over-specified; consider dropping columns.\n",
      "\"\n",
      "Warning message in checkcovar(cross, pheno.col, addcovar, intcovar, perm.strata, :\n",
      "\"addcovar appears to be over-specified; consider dropping columns.\n",
      "\"\n",
      "Warning message in checkcovar(cross, pheno.col, addcovar, intcovar, perm.strata, :\n",
      "\"addcovar appears to be over-specified; consider dropping columns.\n",
      "\"\n",
      "Warning message in checkcovar(cross, pheno.col, addcovar, intcovar, perm.strata, :\n",
      "\"addcovar appears to be over-specified; consider dropping columns.\n",
      "\"\n",
      "Warning message in checkcovar(cross, pheno.col, addcovar, intcovar, perm.strata, :\n",
      "\"addcovar appears to be over-specified; consider dropping columns.\n",
      "\"\n",
      "Warning message in checkcovar(cross, pheno.col, addcovar, intcovar, perm.strata, :\n",
      "\"addcovar appears to be over-specified; consider dropping columns.\n",
      "\"\n",
      "Warning message in checkcovar(cross, pheno.col, addcovar, intcovar, perm.strata, :\n",
      "\"addcovar appears to be over-specified; consider dropping columns.\n",
      "\"\n",
      "Warning message in checkcovar(cross, pheno.col, addcovar, intcovar, perm.strata, :\n",
      "\"addcovar appears to be over-specified; consider dropping columns.\n",
      "\"\n",
      "Warning message in checkcovar(cross, pheno.col, addcovar, intcovar, perm.strata, :\n",
      "\"addcovar appears to be over-specified; consider dropping columns.\n",
      "\"\n",
      "Warning message in checkcovar(cross, pheno.col, addcovar, intcovar, perm.strata, :\n",
      "\"addcovar appears to be over-specified; consider dropping columns.\n",
      "\"\n",
      "Warning message in checkcovar(cross, pheno.col, addcovar, intcovar, perm.strata, :\n",
      "\"addcovar appears to be over-specified; consider dropping columns.\n",
      "\"\n",
      "Warning message in checkcovar(cross, pheno.col, addcovar, intcovar, perm.strata, :\n",
      "\"addcovar appears to be over-specified; consider dropping columns.\n",
      "\"\n",
      "Warning message in checkcovar(cross, pheno.col, addcovar, intcovar, perm.strata, :\n",
      "\"addcovar appears to be over-specified; consider dropping columns.\n",
      "\"\n",
      "Warning message in checkcovar(cross, pheno.col, addcovar, intcovar, perm.strata, :\n",
      "\"addcovar appears to be over-specified; consider dropping columns.\n",
      "\"\n",
      "Warning message in checkcovar(cross, pheno.col, addcovar, intcovar, perm.strata, :\n",
      "\"addcovar appears to be over-specified; consider dropping columns.\n",
      "\"\n",
      "Warning message in checkcovar(cross, pheno.col, addcovar, intcovar, perm.strata, :\n",
      "\"addcovar appears to be over-specified; consider dropping columns.\n",
      "\"\n",
      "Warning message in checkcovar(cross, pheno.col, addcovar, intcovar, perm.strata, :\n",
      "\"addcovar appears to be over-specified; consider dropping columns.\n",
      "\"\n",
      "Warning message in checkcovar(cross, pheno.col, addcovar, intcovar, perm.strata, :\n",
      "\"addcovar appears to be over-specified; consider dropping columns.\n",
      "\"\n",
      "Warning message in checkcovar(cross, pheno.col, addcovar, intcovar, perm.strata, :\n",
      "\"addcovar appears to be over-specified; consider dropping columns.\n",
      "\"\n",
      "Warning message in checkcovar(cross, pheno.col, addcovar, intcovar, perm.strata, :\n",
      "\"addcovar appears to be over-specified; consider dropping columns.\n",
      "\"\n",
      "Warning message in checkcovar(cross, pheno.col, addcovar, intcovar, perm.strata, :\n",
      "\"addcovar appears to be over-specified; consider dropping columns.\n",
      "\"\n",
      "Warning message in checkcovar(cross, pheno.col, addcovar, intcovar, perm.strata, :\n",
      "\"addcovar appears to be over-specified; consider dropping columns.\n",
      "\"\n",
      "Warning message in checkcovar(cross, pheno.col, addcovar, intcovar, perm.strata, :\n",
      "\"addcovar appears to be over-specified; consider dropping columns.\n",
      "\"\n",
      "Warning message in checkcovar(cross, pheno.col, addcovar, intcovar, perm.strata, :\n",
      "\"addcovar appears to be over-specified; consider dropping columns.\n",
      "\"\n",
      "Warning message in checkcovar(cross, pheno.col, addcovar, intcovar, perm.strata, :\n",
      "\"addcovar appears to be over-specified; consider dropping columns.\n",
      "\"\n",
      "Warning message in checkcovar(cross, pheno.col, addcovar, intcovar, perm.strata, :\n",
      "\"addcovar appears to be over-specified; consider dropping columns.\n",
      "\"\n",
      "Warning message in checkcovar(cross, pheno.col, addcovar, intcovar, perm.strata, :\n",
      "\"addcovar appears to be over-specified; consider dropping columns.\n",
      "\"\n",
      "Warning message in checkcovar(cross, pheno.col, addcovar, intcovar, perm.strata, :\n",
      "\"addcovar appears to be over-specified; consider dropping columns.\n",
      "\"\n",
      "Warning message in checkcovar(cross, pheno.col, addcovar, intcovar, perm.strata, :\n",
      "\"addcovar appears to be over-specified; consider dropping columns.\n",
      "\"\n",
      "Warning message in checkcovar(cross, pheno.col, addcovar, intcovar, perm.strata, :\n",
      "\"addcovar appears to be over-specified; consider dropping columns.\n",
      "\"\n",
      "Warning message in checkcovar(cross, pheno.col, addcovar, intcovar, perm.strata, :\n",
      "\"addcovar appears to be over-specified; consider dropping columns.\n",
      "\"\n",
      "Warning message in checkcovar(cross, pheno.col, addcovar, intcovar, perm.strata, :\n",
      "\"addcovar appears to be over-specified; consider dropping columns.\n",
      "\"\n",
      "Warning message in checkcovar(cross, pheno.col, addcovar, intcovar, perm.strata, :\n",
      "\"addcovar appears to be over-specified; consider dropping columns.\n",
      "\"\n",
      "Warning message in checkcovar(cross, pheno.col, addcovar, intcovar, perm.strata, :\n",
      "\"addcovar appears to be over-specified; consider dropping columns.\n",
      "\"\n",
      "Warning message in checkcovar(cross, pheno.col, addcovar, intcovar, perm.strata, :\n",
      "\"addcovar appears to be over-specified; consider dropping columns.\n",
      "\"\n",
      "Warning message in checkcovar(cross, pheno.col, addcovar, intcovar, perm.strata, :\n",
      "\"addcovar appears to be over-specified; consider dropping columns.\n",
      "\"\n",
      "Warning message in checkcovar(cross, pheno.col, addcovar, intcovar, perm.strata, :\n",
      "\"addcovar appears to be over-specified; consider dropping columns.\n",
      "\"\n",
      "Warning message in checkcovar(cross, pheno.col, addcovar, intcovar, perm.strata, :\n",
      "\"addcovar appears to be over-specified; consider dropping columns.\n",
      "\"\n",
      "Warning message in checkcovar(cross, pheno.col, addcovar, intcovar, perm.strata, :\n",
      "\"addcovar appears to be over-specified; consider dropping columns.\n",
      "\"\n",
      "Warning message in checkcovar(cross, pheno.col, addcovar, intcovar, perm.strata, :\n",
      "\"addcovar appears to be over-specified; consider dropping columns.\n",
      "\"\n",
      "Warning message in checkcovar(cross, pheno.col, addcovar, intcovar, perm.strata, :\n",
      "\"addcovar appears to be over-specified; consider dropping columns.\n",
      "\"\n",
      "Warning message in checkcovar(cross, pheno.col, addcovar, intcovar, perm.strata, :\n",
      "\"addcovar appears to be over-specified; consider dropping columns.\n",
      "\"\n",
      "Warning message in checkcovar(cross, pheno.col, addcovar, intcovar, perm.strata, :\n",
      "\"addcovar appears to be over-specified; consider dropping columns.\n",
      "\"\n"
     ]
    },
    {
     "data": {
      "image/png": "[encoded data removed]",
      "text/plain": [
       "Plot with title \"\""
      ]
     },
     "metadata": {
      "image/png": {
       "height": 420,
       "width": 420
      }
     },
     "output_type": "display_data"
    }
   ],
   "source": [
    "#Compute statistically significant values\n",
    "TraitCIM1000 <- cim(Map,pheno.col = colNum,method = \"hk\",\n",
    "                    map.function = \"kosambi\",n.perm = 1000) # Function will take a moment to run, determines LOD value\n",
    "plot(TraitCIM1000,col = 'green') #show distribution of lod scores\n",
    "LOD5 <- summary(TraitCIM1000)[1]"
   ]
  },
  {
   "cell_type": "code",
   "execution_count": 6,
   "metadata": {},
   "outputs": [
    {
     "name": "stdout",
     "output_type": "stream",
     "text": [
      "[1] \"If nothing shows up, the values \\n      are below the LOD5 score\"\n"
     ]
    },
    {
     "data": {
      "text/html": [
       "<table>\n",
       "<caption>A summary.scanone: 19 × 3</caption>\n",
       "<thead>\n",
       "\t<tr><th></th><th scope=col>chr</th><th scope=col>pos</th><th scope=col>lod</th></tr>\n",
       "\t<tr><th></th><th scope=col>&lt;fct&gt;</th><th scope=col>&lt;dbl&gt;</th><th scope=col>&lt;dbl&gt;</th></tr>\n",
       "</thead>\n",
       "<tbody>\n",
       "\t<tr><th scope=row>c1.loc28</th><td>1 </td><td>28.000000</td><td>2.7648650</td></tr>\n",
       "\t<tr><th scope=row>2_3268584</th><td>2 </td><td>31.537010</td><td>0.9807633</td></tr>\n",
       "\t<tr><th scope=row>c3.loc47</th><td>3 </td><td>47.000000</td><td>1.7748087</td></tr>\n",
       "\t<tr><th scope=row>4_4708744</th><td>4 </td><td>16.662018</td><td>1.3726574</td></tr>\n",
       "\t<tr><th scope=row>5_23612814</th><td>5 </td><td>63.580055</td><td>1.3777687</td></tr>\n",
       "\t<tr><th scope=row>c6.loc55</th><td>6 </td><td>55.000000</td><td>1.6605738</td></tr>\n",
       "\t<tr><th scope=row>7_2809369</th><td>7 </td><td> 9.318015</td><td>0.8819157</td></tr>\n",
       "\t<tr><th scope=row>8_19851783</th><td>8 </td><td>69.873052</td><td>2.1542231</td></tr>\n",
       "\t<tr><th scope=row>c9.loc30</th><td>9 </td><td>30.000000</td><td>1.0082952</td></tr>\n",
       "\t<tr><th scope=row>10_10285849</th><td>10</td><td>46.149032</td><td>0.7565369</td></tr>\n",
       "\t<tr><th scope=row>11_3968886</th><td>11</td><td>17.151018</td><td>1.4931885</td></tr>\n",
       "\t<tr><th scope=row>c12.loc62</th><td>12</td><td>62.000000</td><td>1.5624937</td></tr>\n",
       "\t<tr><th scope=row>c13.loc14</th><td>13</td><td>14.000000</td><td>2.6796468</td></tr>\n",
       "\t<tr><th scope=row>18_30394020</th><td>14</td><td>91.276024</td><td>0.5511748</td></tr>\n",
       "\t<tr><th scope=row>15_17988326</th><td>15</td><td>50.814042</td><td>0.7003447</td></tr>\n",
       "\t<tr><th scope=row>16_1969901</th><td>16</td><td> 6.682007</td><td>0.7645154</td></tr>\n",
       "\t<tr><th scope=row>c17.loc5</th><td>17</td><td> 5.000000</td><td>0.4201167</td></tr>\n",
       "\t<tr><th scope=row>18_12964756</th><td>18</td><td>57.291046</td><td>1.3947534</td></tr>\n",
       "\t<tr><th scope=row>19_975503</th><td>19</td><td> 2.182006</td><td>0.8048350</td></tr>\n",
       "</tbody>\n",
       "</table>\n"
      ],
      "text/latex": [
       "A summary.scanone: 19 × 3\n",
       "\\begin{tabular}{r|lll}\n",
       "  & chr & pos & lod\\\\\n",
       "  & <fct> & <dbl> & <dbl>\\\\\n",
       "\\hline\n",
       "\tc1.loc28 & 1  & 28.000000 & 2.7648650\\\\\n",
       "\t2\\_3268584 & 2  & 31.537010 & 0.9807633\\\\\n",
       "\tc3.loc47 & 3  & 47.000000 & 1.7748087\\\\\n",
       "\t4\\_4708744 & 4  & 16.662018 & 1.3726574\\\\\n",
       "\t5\\_23612814 & 5  & 63.580055 & 1.3777687\\\\\n",
       "\tc6.loc55 & 6  & 55.000000 & 1.6605738\\\\\n",
       "\t7\\_2809369 & 7  &  9.318015 & 0.8819157\\\\\n",
       "\t8\\_19851783 & 8  & 69.873052 & 2.1542231\\\\\n",
       "\tc9.loc30 & 9  & 30.000000 & 1.0082952\\\\\n",
       "\t10\\_10285849 & 10 & 46.149032 & 0.7565369\\\\\n",
       "\t11\\_3968886 & 11 & 17.151018 & 1.4931885\\\\\n",
       "\tc12.loc62 & 12 & 62.000000 & 1.5624937\\\\\n",
       "\tc13.loc14 & 13 & 14.000000 & 2.6796468\\\\\n",
       "\t18\\_30394020 & 14 & 91.276024 & 0.5511748\\\\\n",
       "\t15\\_17988326 & 15 & 50.814042 & 0.7003447\\\\\n",
       "\t16\\_1969901 & 16 &  6.682007 & 0.7645154\\\\\n",
       "\tc17.loc5 & 17 &  5.000000 & 0.4201167\\\\\n",
       "\t18\\_12964756 & 18 & 57.291046 & 1.3947534\\\\\n",
       "\t19\\_975503 & 19 &  2.182006 & 0.8048350\\\\\n",
       "\\end{tabular}\n"
      ],
      "text/markdown": [
       "\n",
       "A summary.scanone: 19 × 3\n",
       "\n",
       "| <!--/--> | chr &lt;fct&gt; | pos &lt;dbl&gt; | lod &lt;dbl&gt; |\n",
       "|---|---|---|---|\n",
       "| c1.loc28 | 1  | 28.000000 | 2.7648650 |\n",
       "| 2_3268584 | 2  | 31.537010 | 0.9807633 |\n",
       "| c3.loc47 | 3  | 47.000000 | 1.7748087 |\n",
       "| 4_4708744 | 4  | 16.662018 | 1.3726574 |\n",
       "| 5_23612814 | 5  | 63.580055 | 1.3777687 |\n",
       "| c6.loc55 | 6  | 55.000000 | 1.6605738 |\n",
       "| 7_2809369 | 7  |  9.318015 | 0.8819157 |\n",
       "| 8_19851783 | 8  | 69.873052 | 2.1542231 |\n",
       "| c9.loc30 | 9  | 30.000000 | 1.0082952 |\n",
       "| 10_10285849 | 10 | 46.149032 | 0.7565369 |\n",
       "| 11_3968886 | 11 | 17.151018 | 1.4931885 |\n",
       "| c12.loc62 | 12 | 62.000000 | 1.5624937 |\n",
       "| c13.loc14 | 13 | 14.000000 | 2.6796468 |\n",
       "| 18_30394020 | 14 | 91.276024 | 0.5511748 |\n",
       "| 15_17988326 | 15 | 50.814042 | 0.7003447 |\n",
       "| 16_1969901 | 16 |  6.682007 | 0.7645154 |\n",
       "| c17.loc5 | 17 |  5.000000 | 0.4201167 |\n",
       "| 18_12964756 | 18 | 57.291046 | 1.3947534 |\n",
       "| 19_975503 | 19 |  2.182006 | 0.8048350 |\n",
       "\n"
      ],
      "text/plain": [
       "            chr pos       lod      \n",
       "c1.loc28    1   28.000000 2.7648650\n",
       "2_3268584   2   31.537010 0.9807633\n",
       "c3.loc47    3   47.000000 1.7748087\n",
       "4_4708744   4   16.662018 1.3726574\n",
       "5_23612814  5   63.580055 1.3777687\n",
       "c6.loc55    6   55.000000 1.6605738\n",
       "7_2809369   7    9.318015 0.8819157\n",
       "8_19851783  8   69.873052 2.1542231\n",
       "c9.loc30    9   30.000000 1.0082952\n",
       "10_10285849 10  46.149032 0.7565369\n",
       "11_3968886  11  17.151018 1.4931885\n",
       "c12.loc62   12  62.000000 1.5624937\n",
       "c13.loc14   13  14.000000 2.6796468\n",
       "18_30394020 14  91.276024 0.5511748\n",
       "15_17988326 15  50.814042 0.7003447\n",
       "16_1969901  16   6.682007 0.7645154\n",
       "c17.loc5    17   5.000000 0.4201167\n",
       "18_12964756 18  57.291046 1.3947534\n",
       "19_975503   19   2.182006 0.8048350"
      ]
     },
     "metadata": {},
     "output_type": "display_data"
    },
    {
     "data": {
      "image/png": "[encoded data removed]",
      "text/plain": [
       "plot without title"
      ]
     },
     "metadata": {
      "image/png": {
       "height": 420,
       "width": 420
      }
     },
     "output_type": "display_data"
    }
   ],
   "source": [
    "#Deterime LOD Values\n",
    "TraitCIM<-cim(Map,pheno.col = colNum,method = \"hk\",\n",
    "              map.function = \"kosambi\") #Generate LOD Values\n",
    "plot(TraitCIM) #show LOD graph\n",
    "abline(h = LOD5,col = \"blue\") #overlay statistically significant line\n",
    "print(\"If nothing shows up, the values \n",
    "      are below the LOD5 score\") #warning for no peaks\n",
    "summary(TraitCIM)"
   ]
  },
  {
   "cell_type": "code",
   "execution_count": 7,
   "metadata": {},
   "outputs": [
    {
     "name": "stdout",
     "output_type": "stream",
     "text": [
      "[1] \"Make sure to input names AS THEY APPEAR on the csv!!\"\n"
     ]
    },
    {
     "name": "stdin",
     "output_type": "stream",
     "text": [
      "Enter file name (Either FemaleMap.csv or MaleMap.csv):  MaleMap.csv\n",
      "First Genotype (homozygous) (For example ll):  nn\n",
      "Second Genotype (heterozygous) (for example lm):  np\n",
      "Column Number:  24\n"
     ]
    }
   ],
   "source": [
    "#Collecting enviroment variables\n",
    "print(\"Make sure to input names AS THEY APPEAR on the csv!!\") #Just a user warning\n",
    "fileName <- readline(\"Enter file name (Either FemaleMap.csv or MaleMap.csv): \") #Mapping table file\n",
    "genotypeName <- c(readline(\"First Genotype (homozygous) (For example ll): \"),\n",
    "                  readline(\"Second Genotype (heterozygous) (for example lm): \")) #For example \"nn\", \"np\"\n",
    "alleleName <- c(substr(genotypeName[2],1,1) ,substr(genotypeName[2],2,2))\n",
    "naNames <- c(\"NA\",\"--\") #For example \"NA\", \"--\"\n",
    "colNum <- as.numeric(readline(\"Column Number: \")) #Column for pheno of interest"
   ]
  },
  {
   "cell_type": "code",
   "execution_count": 8,
   "metadata": {},
   "outputs": [
    {
     "name": "stdout",
     "output_type": "stream",
     "text": [
      " --Read the following data:\n",
      "\t 294  individuals\n",
      "\t 1128  markers\n",
      "\t 38  phenotypes\n"
     ]
    },
    {
     "name": "stderr",
     "output_type": "stream",
     "text": [
      "Warning message in summary.cross(cross):\n",
      "\"Some markers at the same position on chr 1,3,4,5,6,7,8,9,10,12,13,14,15,16,17,18,19; use jittermap().\"\n"
     ]
    },
    {
     "name": "stdout",
     "output_type": "stream",
     "text": [
      " --Cross type: bc \n"
     ]
    },
    {
     "data": {
      "image/png": "[encoded data removed]",
      "text/plain": [
       "Plot with title \"Genetic map\""
      ]
     },
     "metadata": {
      "image/png": {
       "height": 420,
       "width": 420
      }
     },
     "output_type": "display_data"
    }
   ],
   "source": [
    "#Map generation\n",
    "Map <- read.cross(format = 'csv',file = fileName \n",
    "                  ,genotypes = genotypeName,\n",
    "                  alleles = alleleName,na.strings = naNames) #generate linkage map\n",
    "Map <- jittermap(Map) #make sure no markers are in the same location\n",
    "Map <- calc.genoprob(Map,step = 1,map.function = \"kosambi\") #associate markers with full genotypes\n",
    "plot.map(Map) #draw linkage map"
   ]
  },
  {
   "cell_type": "code",
   "execution_count": 9,
   "metadata": {},
   "outputs": [
    {
     "data": {
      "image/png": "[encoded data removed]",
      "text/plain": [
       "Plot with title \"\""
      ]
     },
     "metadata": {
      "image/png": {
       "height": 420,
       "width": 420
      }
     },
     "output_type": "display_data"
    }
   ],
   "source": [
    "plotNormalHistogram(Map$pheno[,colNum]) #normal histogram of pheno of interest"
   ]
  },
  {
   "cell_type": "markdown",
   "metadata": {},
   "source": [
    "Outliers exist in this data. "
   ]
  },
  {
   "cell_type": "code",
   "execution_count": 10,
   "metadata": {},
   "outputs": [
    {
     "data": {
      "image/png": "[encoded data removed]",
      "text/plain": [
       "Plot with title \"\""
      ]
     },
     "metadata": {
      "image/png": {
       "height": 420,
       "width": 420
      }
     },
     "output_type": "display_data"
    }
   ],
   "source": [
    "#Compute statistically significant values\n",
    "TraitCIM1000 <- cim(Map,pheno.col = colNum,method = \"hk\",\n",
    "                    map.function = \"kosambi\",n.perm = 1000) # Function will take a moment to run, determines LOD value\n",
    "plot(TraitCIM1000,col = 'green') #show distribution of lod scores\n",
    "LOD5 <- summary(TraitCIM1000)[1]"
   ]
  },
  {
   "cell_type": "code",
   "execution_count": 11,
   "metadata": {},
   "outputs": [
    {
     "name": "stdout",
     "output_type": "stream",
     "text": [
      "[1] \"If nothing shows up, the values \\n      are below the LOD5 score\"\n"
     ]
    },
    {
     "data": {
      "text/html": [
       "<table>\n",
       "<caption>A summary.scanone: 19 × 3</caption>\n",
       "<thead>\n",
       "\t<tr><th></th><th scope=col>chr</th><th scope=col>pos</th><th scope=col>lod</th></tr>\n",
       "\t<tr><th></th><th scope=col>&lt;fct&gt;</th><th scope=col>&lt;dbl&gt;</th><th scope=col>&lt;dbl&gt;</th></tr>\n",
       "</thead>\n",
       "<tbody>\n",
       "\t<tr><th scope=row>13_14783587</th><td>1 </td><td>94.101062</td><td>2.6220998</td></tr>\n",
       "\t<tr><th scope=row>2_4115561</th><td>2 </td><td>18.351006</td><td>0.8432344</td></tr>\n",
       "\t<tr><th scope=row>c3.loc65</th><td>3 </td><td>65.000000</td><td>1.2390756</td></tr>\n",
       "\t<tr><th scope=row>c4.loc45</th><td>4 </td><td>45.000000</td><td>0.8739014</td></tr>\n",
       "\t<tr><th scope=row>5_11718096</th><td>5 </td><td>47.931024</td><td>0.3219489</td></tr>\n",
       "\t<tr><th scope=row>c6.loc58</th><td>6 </td><td>58.000000</td><td>1.3158477</td></tr>\n",
       "\t<tr><th scope=row>c7.loc56</th><td>7 </td><td>56.000000</td><td>1.4851838</td></tr>\n",
       "\t<tr><th scope=row>c8.loc22</th><td>8 </td><td>22.000000</td><td>1.8260225</td></tr>\n",
       "\t<tr><th scope=row>9_1015693</th><td>9 </td><td> 3.051004</td><td>0.7156107</td></tr>\n",
       "\t<tr><th scope=row>c10.loc67</th><td>10</td><td>67.000000</td><td>0.4547876</td></tr>\n",
       "\t<tr><th scope=row>c11.loc14</th><td>11</td><td>14.000000</td><td>0.4151168</td></tr>\n",
       "\t<tr><th scope=row>c12.loc57</th><td>12</td><td>57.000000</td><td>2.7027869</td></tr>\n",
       "\t<tr><th scope=row>c13.loc8</th><td>13</td><td> 8.000000</td><td>2.1078249</td></tr>\n",
       "\t<tr><th scope=row>14_28913313</th><td>14</td><td>89.427080</td><td>0.9360901</td></tr>\n",
       "\t<tr><th scope=row>2_16557277</th><td>15</td><td> 1.332001</td><td>2.3813983</td></tr>\n",
       "\t<tr><th scope=row>c16.loc19</th><td>16</td><td>19.000000</td><td>1.6095733</td></tr>\n",
       "\t<tr><th scope=row>17_12124396</th><td>17</td><td>63.048042</td><td>2.3309185</td></tr>\n",
       "\t<tr><th scope=row>c18.loc19</th><td>18</td><td>19.000000</td><td>0.8615217</td></tr>\n",
       "\t<tr><th scope=row>c19.loc58</th><td>19</td><td>58.000000</td><td>1.4646618</td></tr>\n",
       "</tbody>\n",
       "</table>\n"
      ],
      "text/latex": [
       "A summary.scanone: 19 × 3\n",
       "\\begin{tabular}{r|lll}\n",
       "  & chr & pos & lod\\\\\n",
       "  & <fct> & <dbl> & <dbl>\\\\\n",
       "\\hline\n",
       "\t13\\_14783587 & 1  & 94.101062 & 2.6220998\\\\\n",
       "\t2\\_4115561 & 2  & 18.351006 & 0.8432344\\\\\n",
       "\tc3.loc65 & 3  & 65.000000 & 1.2390756\\\\\n",
       "\tc4.loc45 & 4  & 45.000000 & 0.8739014\\\\\n",
       "\t5\\_11718096 & 5  & 47.931024 & 0.3219489\\\\\n",
       "\tc6.loc58 & 6  & 58.000000 & 1.3158477\\\\\n",
       "\tc7.loc56 & 7  & 56.000000 & 1.4851838\\\\\n",
       "\tc8.loc22 & 8  & 22.000000 & 1.8260225\\\\\n",
       "\t9\\_1015693 & 9  &  3.051004 & 0.7156107\\\\\n",
       "\tc10.loc67 & 10 & 67.000000 & 0.4547876\\\\\n",
       "\tc11.loc14 & 11 & 14.000000 & 0.4151168\\\\\n",
       "\tc12.loc57 & 12 & 57.000000 & 2.7027869\\\\\n",
       "\tc13.loc8 & 13 &  8.000000 & 2.1078249\\\\\n",
       "\t14\\_28913313 & 14 & 89.427080 & 0.9360901\\\\\n",
       "\t2\\_16557277 & 15 &  1.332001 & 2.3813983\\\\\n",
       "\tc16.loc19 & 16 & 19.000000 & 1.6095733\\\\\n",
       "\t17\\_12124396 & 17 & 63.048042 & 2.3309185\\\\\n",
       "\tc18.loc19 & 18 & 19.000000 & 0.8615217\\\\\n",
       "\tc19.loc58 & 19 & 58.000000 & 1.4646618\\\\\n",
       "\\end{tabular}\n"
      ],
      "text/markdown": [
       "\n",
       "A summary.scanone: 19 × 3\n",
       "\n",
       "| <!--/--> | chr &lt;fct&gt; | pos &lt;dbl&gt; | lod &lt;dbl&gt; |\n",
       "|---|---|---|---|\n",
       "| 13_14783587 | 1  | 94.101062 | 2.6220998 |\n",
       "| 2_4115561 | 2  | 18.351006 | 0.8432344 |\n",
       "| c3.loc65 | 3  | 65.000000 | 1.2390756 |\n",
       "| c4.loc45 | 4  | 45.000000 | 0.8739014 |\n",
       "| 5_11718096 | 5  | 47.931024 | 0.3219489 |\n",
       "| c6.loc58 | 6  | 58.000000 | 1.3158477 |\n",
       "| c7.loc56 | 7  | 56.000000 | 1.4851838 |\n",
       "| c8.loc22 | 8  | 22.000000 | 1.8260225 |\n",
       "| 9_1015693 | 9  |  3.051004 | 0.7156107 |\n",
       "| c10.loc67 | 10 | 67.000000 | 0.4547876 |\n",
       "| c11.loc14 | 11 | 14.000000 | 0.4151168 |\n",
       "| c12.loc57 | 12 | 57.000000 | 2.7027869 |\n",
       "| c13.loc8 | 13 |  8.000000 | 2.1078249 |\n",
       "| 14_28913313 | 14 | 89.427080 | 0.9360901 |\n",
       "| 2_16557277 | 15 |  1.332001 | 2.3813983 |\n",
       "| c16.loc19 | 16 | 19.000000 | 1.6095733 |\n",
       "| 17_12124396 | 17 | 63.048042 | 2.3309185 |\n",
       "| c18.loc19 | 18 | 19.000000 | 0.8615217 |\n",
       "| c19.loc58 | 19 | 58.000000 | 1.4646618 |\n",
       "\n"
      ],
      "text/plain": [
       "            chr pos       lod      \n",
       "13_14783587 1   94.101062 2.6220998\n",
       "2_4115561   2   18.351006 0.8432344\n",
       "c3.loc65    3   65.000000 1.2390756\n",
       "c4.loc45    4   45.000000 0.8739014\n",
       "5_11718096  5   47.931024 0.3219489\n",
       "c6.loc58    6   58.000000 1.3158477\n",
       "c7.loc56    7   56.000000 1.4851838\n",
       "c8.loc22    8   22.000000 1.8260225\n",
       "9_1015693   9    3.051004 0.7156107\n",
       "c10.loc67   10  67.000000 0.4547876\n",
       "c11.loc14   11  14.000000 0.4151168\n",
       "c12.loc57   12  57.000000 2.7027869\n",
       "c13.loc8    13   8.000000 2.1078249\n",
       "14_28913313 14  89.427080 0.9360901\n",
       "2_16557277  15   1.332001 2.3813983\n",
       "c16.loc19   16  19.000000 1.6095733\n",
       "17_12124396 17  63.048042 2.3309185\n",
       "c18.loc19   18  19.000000 0.8615217\n",
       "c19.loc58   19  58.000000 1.4646618"
      ]
     },
     "metadata": {},
     "output_type": "display_data"
    },
    {
     "data": {
      "image/png": "[encoded data removed]",
      "text/plain": [
       "plot without title"
      ]
     },
     "metadata": {
      "image/png": {
       "height": 420,
       "width": 420
      }
     },
     "output_type": "display_data"
    }
   ],
   "source": [
    "#Deterime LOD Values\n",
    "TraitCIM<-cim(Map,pheno.col = colNum,method = \"hk\",\n",
    "              map.function = \"kosambi\") #Generate LOD Values\n",
    "plot(TraitCIM) #show LOD graph\n",
    "abline(h = LOD5,col = \"blue\") #overlay statistically significant line\n",
    "print(\"If nothing shows up, the values \n",
    "      are below the LOD5 score\") #warning for no peaks\n",
    "summary(TraitCIM)"
   ]
  }
 ],
 "metadata": {
  "kernelspec": {
   "display_name": "R",
   "language": "R",
   "name": "ir"
  },
  "language_info": {
   "codemirror_mode": "r",
   "file_extension": ".r",
   "mimetype": "text/x-r-source",
   "name": "R",
   "pygments_lexer": "r",
   "version": "3.6.1"
  }
 },
 "nbformat": 4,
 "nbformat_minor": 4
}
