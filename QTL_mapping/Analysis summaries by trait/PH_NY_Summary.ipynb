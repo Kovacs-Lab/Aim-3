{
 "cells": [
  {
   "cell_type": "markdown",
   "metadata": {},
   "source": [
    "This analysis is in the order of Female then Male"
   ]
  },
  {
   "cell_type": "code",
   "execution_count": 1,
   "metadata": {},
   "outputs": [
    {
     "name": "stderr",
     "output_type": "stream",
     "text": [
      "Installing package into 'C:/Users/Courtney/Documents/R/win-library/3.6'\n",
      "(as 'lib' is unspecified)\n",
      "\n"
     ]
    },
    {
     "name": "stdout",
     "output_type": "stream",
     "text": [
      "package 'qtl' successfully unpacked and MD5 sums checked\n"
     ]
    },
    {
     "name": "stderr",
     "output_type": "stream",
     "text": [
      "Warning message:\n",
      "\"cannot remove prior installation of package 'qtl'\"\n",
      "Warning message in file.copy(savedcopy, lib, recursive = TRUE):\n",
      "\"problem copying C:\\Users\\Courtney\\Documents\\R\\win-library\\3.6\\00LOCK\\qtl\\libs\\x64\\qtl.dll to C:\\Users\\Courtney\\Documents\\R\\win-library\\3.6\\qtl\\libs\\x64\\qtl.dll: Permission denied\"\n",
      "Warning message:\n",
      "\"restored 'qtl'\"\n"
     ]
    },
    {
     "name": "stdout",
     "output_type": "stream",
     "text": [
      "\n",
      "The downloaded binary packages are in\n",
      "\tC:\\Users\\Courtney\\AppData\\Local\\Temp\\Rtmp2Dx9AM\\downloaded_packages\n"
     ]
    },
    {
     "name": "stderr",
     "output_type": "stream",
     "text": [
      "Installing package into 'C:/Users/Courtney/Documents/R/win-library/3.6'\n",
      "(as 'lib' is unspecified)\n",
      "\n"
     ]
    },
    {
     "name": "stdout",
     "output_type": "stream",
     "text": [
      "package 'qtlcharts' successfully unpacked and MD5 sums checked\n",
      "\n",
      "The downloaded binary packages are in\n",
      "\tC:\\Users\\Courtney\\AppData\\Local\\Temp\\Rtmp2Dx9AM\\downloaded_packages\n"
     ]
    },
    {
     "name": "stderr",
     "output_type": "stream",
     "text": [
      "Installing package into 'C:/Users/Courtney/Documents/R/win-library/3.6'\n",
      "(as 'lib' is unspecified)\n",
      "\n"
     ]
    },
    {
     "name": "stdout",
     "output_type": "stream",
     "text": [
      "package 'LinkageMapView' successfully unpacked and MD5 sums checked\n",
      "\n",
      "The downloaded binary packages are in\n",
      "\tC:\\Users\\Courtney\\AppData\\Local\\Temp\\Rtmp2Dx9AM\\downloaded_packages\n"
     ]
    },
    {
     "name": "stderr",
     "output_type": "stream",
     "text": [
      "Installing package into 'C:/Users/Courtney/Documents/R/win-library/3.6'\n",
      "(as 'lib' is unspecified)\n",
      "\n"
     ]
    },
    {
     "name": "stdout",
     "output_type": "stream",
     "text": [
      "package 'rcompanion' successfully unpacked and MD5 sums checked\n",
      "\n",
      "The downloaded binary packages are in\n",
      "\tC:\\Users\\Courtney\\AppData\\Local\\Temp\\Rtmp2Dx9AM\\downloaded_packages\n"
     ]
    }
   ],
   "source": [
    "install.packages('qtl') #Main package, for analysis\n",
    "install.packages('qtlcharts') #accessory, for displaying graphs\n",
    "install.packages('LinkageMapView') #accessory, for displaying linkage maps\n",
    "install.packages('rcompanion')# for plotNormalHistogram"
   ]
  },
  {
   "cell_type": "code",
   "execution_count": 2,
   "metadata": {},
   "outputs": [],
   "source": [
    "library(qtl) #load packages\n",
    "library(qtlcharts)\n",
    "library(LinkageMapView)\n",
    "library(rcompanion)"
   ]
  },
  {
   "cell_type": "code",
   "execution_count": 3,
   "metadata": {},
   "outputs": [
    {
     "name": "stdout",
     "output_type": "stream",
     "text": [
      "[1] \"Make sure to input names AS THEY APPEAR on the csv!!\"\n"
     ]
    },
    {
     "name": "stdin",
     "output_type": "stream",
     "text": [
      "Enter file name (Either FemaleMap.csv or MaleMap.csv):  FemaleMap.csv\n",
      "First Genotype (homozygous) (For example ll):  ll\n",
      "Second Genotype (heterozygous) (for example lm):  lm\n",
      "Column Number:  8\n"
     ]
    }
   ],
   "source": [
    "#Collecting enviroment variables\n",
    "print(\"Make sure to input names AS THEY APPEAR on the csv!!\") #Just a user warning\n",
    "fileName <- readline(\"Enter file name (Either FemaleMap.csv or MaleMap.csv): \") #Mapping table file\n",
    "genotypeName <- c(readline(\"First Genotype (homozygous) (For example ll): \"),\n",
    "                  readline(\"Second Genotype (heterozygous) (for example lm): \")) #For example \"nn\", \"np\"\n",
    "alleleName <- c(substr(genotypeName[2],1,1) ,substr(genotypeName[2],2,2))\n",
    "naNames <- c(\"NA\",\"--\") #For example \"NA\", \"--\"\n",
    "colNum <- as.numeric(readline(\"Column Number: \")) #Column for pheno of interest"
   ]
  },
  {
   "cell_type": "code",
   "execution_count": 4,
   "metadata": {},
   "outputs": [
    {
     "name": "stdout",
     "output_type": "stream",
     "text": [
      " --Read the following data:\n",
      "\t 294  individuals\n",
      "\t 1100  markers\n",
      "\t 38  phenotypes\n"
     ]
    },
    {
     "name": "stderr",
     "output_type": "stream",
     "text": [
      "Warning message in summary.cross(cross):\n",
      "\"Some markers at the same position on chr 1,2,4,5,7,8,9,10,11,12,13,14,16,17,18,19; use jittermap().\"\n"
     ]
    },
    {
     "name": "stdout",
     "output_type": "stream",
     "text": [
      " --Cross type: bc \n"
     ]
    },
    {
     "data": {
      "image/png": "[encoded data removed]",
      "text/plain": [
       "Plot with title \"Genetic map\""
      ]
     },
     "metadata": {
      "image/png": {
       "height": 420,
       "width": 420
      },
      "text/plain": {
       "height": 420,
       "width": 420
      }
     },
     "output_type": "display_data"
    }
   ],
   "source": [
    "#Map generation\n",
    "Map <- read.cross(format = 'csv',file = fileName \n",
    "                  ,genotypes = genotypeName,\n",
    "                  alleles = alleleName,na.strings = naNames) #generate linkage map\n",
    "Map <- jittermap(Map) #make sure no markers are in the same location\n",
    "Map <- calc.genoprob(Map,step = 1,map.function = \"kosambi\") #associate markers with full genotypes\n",
    "plot.map(Map) #draw linkage map"
   ]
  },
  {
   "cell_type": "code",
   "execution_count": 5,
   "metadata": {},
   "outputs": [
    {
     "data": {
      "image/png": "[encoded data removed]",
      "text/plain": [
       "Plot with title \"\""
      ]
     },
     "metadata": {
      "image/png": {
       "height": 420,
       "width": 420
      },
      "text/plain": {
       "height": 420,
       "width": 420
      }
     },
     "output_type": "display_data"
    }
   ],
   "source": [
    "plotNormalHistogram(Map$pheno[,colNum]) #normal histogram of pheno of interest"
   ]
  },
  {
   "cell_type": "markdown",
   "metadata": {},
   "source": [
    "Outliers exist in this dataset. Will need to be analyized. "
   ]
  },
  {
   "cell_type": "code",
   "execution_count": 6,
   "metadata": {},
   "outputs": [
    {
     "data": {
      "text/plain": [
       "LOD thresholds (1000 permutations)\n",
       "   [,1]\n",
       "5% 4.21\n",
       "1% 5.55"
      ]
     },
     "metadata": {},
     "output_type": "display_data"
    },
    {
     "data": {
      "image/png": "[encoded data removed]",
      "text/plain": [
       "Plot with title \"\""
      ]
     },
     "metadata": {
      "image/png": {
       "height": 420,
       "width": 420
      },
      "text/plain": {
       "height": 420,
       "width": 420
      }
     },
     "output_type": "display_data"
    }
   ],
   "source": [
    "#Compute statistically significant values\n",
    "TraitCIM1000 <- cim(Map,pheno.col = colNum,method = \"hk\",\n",
    "                    map.function = \"kosambi\",n.perm = 1000) # Function will take a moment to run, determines LOD value\n",
    "plot(TraitCIM1000,col = 'green') #show distribution of lod scores\n",
    "summary(TraitCIM1000,alpha=c(.05,.01))"
   ]
  },
  {
   "cell_type": "code",
   "execution_count": 7,
   "metadata": {},
   "outputs": [
    {
     "name": "stdout",
     "output_type": "stream",
     "text": [
      "[1] \"If nothing shows up, the values \\n      are below the LOD5 score\"\n"
     ]
    },
    {
     "data": {
      "text/html": [
       "<table>\n",
       "<caption>A summary.scanone: 19 × 3</caption>\n",
       "<thead>\n",
       "\t<tr><th></th><th scope=col>chr</th><th scope=col>pos</th><th scope=col>lod</th></tr>\n",
       "\t<tr><th></th><th scope=col>&lt;fct&gt;</th><th scope=col>&lt;dbl&gt;</th><th scope=col>&lt;dbl&gt;</th></tr>\n",
       "</thead>\n",
       "<tbody>\n",
       "\t<tr><th scope=row>1_1388796</th><td>1 </td><td> 7.099008</td><td>0.2908186</td></tr>\n",
       "\t<tr><th scope=row>c2.loc28</th><td>2 </td><td>28.000000</td><td>0.4703003</td></tr>\n",
       "\t<tr><th scope=row>c3.loc23</th><td>3 </td><td>23.000000</td><td>1.0077848</td></tr>\n",
       "\t<tr><th scope=row>4_2581004</th><td>4 </td><td> 8.537008</td><td>1.5986666</td></tr>\n",
       "\t<tr><th scope=row>5_4540238</th><td>5 </td><td>16.704009</td><td>1.0190278</td></tr>\n",
       "\t<tr><th scope=row>c6.loc25</th><td>6 </td><td>25.000000</td><td>0.6517189</td></tr>\n",
       "\t<tr><th scope=row>c7.loc48</th><td>7 </td><td>48.000000</td><td>3.2875108</td></tr>\n",
       "\t<tr><th scope=row>c8.loc42</th><td>8 </td><td>42.000000</td><td>1.2270462</td></tr>\n",
       "\t<tr><th scope=row>c9.loc10</th><td>9 </td><td>10.000000</td><td>0.5459872</td></tr>\n",
       "\t<tr><th scope=row>10_9452744</th><td>10</td><td>45.302031</td><td>0.7257336</td></tr>\n",
       "\t<tr><th scope=row>11_3961147</th><td>11</td><td>17.051017</td><td>0.9377939</td></tr>\n",
       "\t<tr><th scope=row>c12.loc19</th><td>12</td><td>19.000000</td><td>3.5898465</td></tr>\n",
       "\t<tr><th scope=row>13_18428906</th><td>13</td><td>52.060040</td><td>1.2469507</td></tr>\n",
       "\t<tr><th scope=row>c14.loc44</th><td>14</td><td>44.000000</td><td>1.2445785</td></tr>\n",
       "\t<tr><th scope=row>c15.loc42</th><td>15</td><td>42.000000</td><td>1.1323779</td></tr>\n",
       "\t<tr><th scope=row>c16.loc16</th><td>16</td><td>16.000000</td><td>0.6416822</td></tr>\n",
       "\t<tr><th scope=row>c17.loc45</th><td>17</td><td>45.000000</td><td>0.4583274</td></tr>\n",
       "\t<tr><th scope=row>c18.loc13</th><td>18</td><td>13.000000</td><td>1.7140958</td></tr>\n",
       "\t<tr><th scope=row>19_17019728</th><td>19</td><td>50.938063</td><td>0.6897036</td></tr>\n",
       "</tbody>\n",
       "</table>\n"
      ],
      "text/latex": [
       "A summary.scanone: 19 × 3\n",
       "\\begin{tabular}{r|lll}\n",
       "  & chr & pos & lod\\\\\n",
       "  & <fct> & <dbl> & <dbl>\\\\\n",
       "\\hline\n",
       "\t1\\_1388796 & 1  &  7.099008 & 0.2908186\\\\\n",
       "\tc2.loc28 & 2  & 28.000000 & 0.4703003\\\\\n",
       "\tc3.loc23 & 3  & 23.000000 & 1.0077848\\\\\n",
       "\t4\\_2581004 & 4  &  8.537008 & 1.5986666\\\\\n",
       "\t5\\_4540238 & 5  & 16.704009 & 1.0190278\\\\\n",
       "\tc6.loc25 & 6  & 25.000000 & 0.6517189\\\\\n",
       "\tc7.loc48 & 7  & 48.000000 & 3.2875108\\\\\n",
       "\tc8.loc42 & 8  & 42.000000 & 1.2270462\\\\\n",
       "\tc9.loc10 & 9  & 10.000000 & 0.5459872\\\\\n",
       "\t10\\_9452744 & 10 & 45.302031 & 0.7257336\\\\\n",
       "\t11\\_3961147 & 11 & 17.051017 & 0.9377939\\\\\n",
       "\tc12.loc19 & 12 & 19.000000 & 3.5898465\\\\\n",
       "\t13\\_18428906 & 13 & 52.060040 & 1.2469507\\\\\n",
       "\tc14.loc44 & 14 & 44.000000 & 1.2445785\\\\\n",
       "\tc15.loc42 & 15 & 42.000000 & 1.1323779\\\\\n",
       "\tc16.loc16 & 16 & 16.000000 & 0.6416822\\\\\n",
       "\tc17.loc45 & 17 & 45.000000 & 0.4583274\\\\\n",
       "\tc18.loc13 & 18 & 13.000000 & 1.7140958\\\\\n",
       "\t19\\_17019728 & 19 & 50.938063 & 0.6897036\\\\\n",
       "\\end{tabular}\n"
      ],
      "text/markdown": [
       "\n",
       "A summary.scanone: 19 × 3\n",
       "\n",
       "| <!--/--> | chr &lt;fct&gt; | pos &lt;dbl&gt; | lod &lt;dbl&gt; |\n",
       "|---|---|---|---|\n",
       "| 1_1388796 | 1  |  7.099008 | 0.2908186 |\n",
       "| c2.loc28 | 2  | 28.000000 | 0.4703003 |\n",
       "| c3.loc23 | 3  | 23.000000 | 1.0077848 |\n",
       "| 4_2581004 | 4  |  8.537008 | 1.5986666 |\n",
       "| 5_4540238 | 5  | 16.704009 | 1.0190278 |\n",
       "| c6.loc25 | 6  | 25.000000 | 0.6517189 |\n",
       "| c7.loc48 | 7  | 48.000000 | 3.2875108 |\n",
       "| c8.loc42 | 8  | 42.000000 | 1.2270462 |\n",
       "| c9.loc10 | 9  | 10.000000 | 0.5459872 |\n",
       "| 10_9452744 | 10 | 45.302031 | 0.7257336 |\n",
       "| 11_3961147 | 11 | 17.051017 | 0.9377939 |\n",
       "| c12.loc19 | 12 | 19.000000 | 3.5898465 |\n",
       "| 13_18428906 | 13 | 52.060040 | 1.2469507 |\n",
       "| c14.loc44 | 14 | 44.000000 | 1.2445785 |\n",
       "| c15.loc42 | 15 | 42.000000 | 1.1323779 |\n",
       "| c16.loc16 | 16 | 16.000000 | 0.6416822 |\n",
       "| c17.loc45 | 17 | 45.000000 | 0.4583274 |\n",
       "| c18.loc13 | 18 | 13.000000 | 1.7140958 |\n",
       "| 19_17019728 | 19 | 50.938063 | 0.6897036 |\n",
       "\n"
      ],
      "text/plain": [
       "            chr pos       lod      \n",
       "1_1388796   1    7.099008 0.2908186\n",
       "c2.loc28    2   28.000000 0.4703003\n",
       "c3.loc23    3   23.000000 1.0077848\n",
       "4_2581004   4    8.537008 1.5986666\n",
       "5_4540238   5   16.704009 1.0190278\n",
       "c6.loc25    6   25.000000 0.6517189\n",
       "c7.loc48    7   48.000000 3.2875108\n",
       "c8.loc42    8   42.000000 1.2270462\n",
       "c9.loc10    9   10.000000 0.5459872\n",
       "10_9452744  10  45.302031 0.7257336\n",
       "11_3961147  11  17.051017 0.9377939\n",
       "c12.loc19   12  19.000000 3.5898465\n",
       "13_18428906 13  52.060040 1.2469507\n",
       "c14.loc44   14  44.000000 1.2445785\n",
       "c15.loc42   15  42.000000 1.1323779\n",
       "c16.loc16   16  16.000000 0.6416822\n",
       "c17.loc45   17  45.000000 0.4583274\n",
       "c18.loc13   18  13.000000 1.7140958\n",
       "19_17019728 19  50.938063 0.6897036"
      ]
     },
     "metadata": {},
     "output_type": "display_data"
    },
    {
     "data": {
      "image/png": "[encoded data removed]",
      "text/plain": [
       "plot without title"
      ]
     },
     "metadata": {
      "image/png": {
       "height": 420,
       "width": 420
      },
      "text/plain": {
       "height": 420,
       "width": 420
      }
     },
     "output_type": "display_data"
    }
   ],
   "source": [
    "#Deterime LOD Values\n",
    "LOD5 <- summary(TraitCIM1000,alpha=c(.05))\n",
    "TraitCIM<-cim(Map,pheno.col = colNum,method = \"hk\",\n",
    "              map.function = \"kosambi\") #Generate LOD Values\n",
    "plot(TraitCIM) #show LOD graph\n",
    "abline(h = LOD5,col = \"blue\") #overlay statistically significant line\n",
    "print(\"If nothing shows up, the values \n",
    "      are below the LOD5 score\") #warning for no peaks\n",
    "summary(TraitCIM)"
   ]
  },
  {
   "cell_type": "code",
   "execution_count": 8,
   "metadata": {},
   "outputs": [
    {
     "name": "stdin",
     "output_type": "stream",
     "text": [
      "Chromosome?  12\n"
     ]
    },
    {
     "data": {
      "image/png": "[encoded data removed]",
      "text/plain": [
       "plot without title"
      ]
     },
     "metadata": {
      "image/png": {
       "height": 420,
       "width": 420
      },
      "text/plain": {
       "height": 420,
       "width": 420
      }
     },
     "output_type": "display_data"
    }
   ],
   "source": [
    "#Chromosomal Analysis\n",
    "chr <- as.numeric(readline(\"Chromosome? \")) #collect chromosome to look at\n",
    "plot(TraitCIM, chr = chr,xlab = c(\"chr\",chr)) #Plot chr LOD scores\n",
    "abline(h = LOD5, col = \"blue\") #Statistically Significant"
   ]
  },
  {
   "cell_type": "code",
   "execution_count": 9,
   "metadata": {},
   "outputs": [
    {
     "data": {
      "text/html": [
       "<table>\n",
       "<caption>A scanone: 3 × 3</caption>\n",
       "<thead>\n",
       "\t<tr><th></th><th scope=col>chr</th><th scope=col>pos</th><th scope=col>lod</th></tr>\n",
       "\t<tr><th></th><th scope=col>&lt;fct&gt;</th><th scope=col>&lt;dbl&gt;</th><th scope=col>&lt;dbl&gt;</th></tr>\n",
       "</thead>\n",
       "<tbody>\n",
       "\t<tr><th scope=row>12_978329</th><td>12</td><td>14.882</td><td>2.973617919</td></tr>\n",
       "\t<tr><th scope=row>c12.loc19</th><td>12</td><td>19.000</td><td>3.589846472</td></tr>\n",
       "\t<tr><th scope=row>12_2334526</th><td>12</td><td>26.986</td><td>0.005943111</td></tr>\n",
       "</tbody>\n",
       "</table>\n"
      ],
      "text/latex": [
       "A scanone: 3 × 3\n",
       "\\begin{tabular}{r|lll}\n",
       "  & chr & pos & lod\\\\\n",
       "  & <fct> & <dbl> & <dbl>\\\\\n",
       "\\hline\n",
       "\t12\\_978329 & 12 & 14.882 & 2.973617919\\\\\n",
       "\tc12.loc19 & 12 & 19.000 & 3.589846472\\\\\n",
       "\t12\\_2334526 & 12 & 26.986 & 0.005943111\\\\\n",
       "\\end{tabular}\n"
      ],
      "text/markdown": [
       "\n",
       "A scanone: 3 × 3\n",
       "\n",
       "| <!--/--> | chr &lt;fct&gt; | pos &lt;dbl&gt; | lod &lt;dbl&gt; |\n",
       "|---|---|---|---|\n",
       "| 12_978329 | 12 | 14.882 | 2.973617919 |\n",
       "| c12.loc19 | 12 | 19.000 | 3.589846472 |\n",
       "| 12_2334526 | 12 | 26.986 | 0.005943111 |\n",
       "\n"
      ],
      "text/plain": [
       "           chr pos    lod        \n",
       "12_978329  12  14.882 2.973617919\n",
       "c12.loc19  12  19.000 3.589846472\n",
       "12_2334526 12  26.986 0.005943111"
      ]
     },
     "metadata": {},
     "output_type": "display_data"
    },
    {
     "data": {
      "text/html": [
       "<table>\n",
       "<caption>A scanone: 3 × 3</caption>\n",
       "<thead>\n",
       "\t<tr><th></th><th scope=col>chr</th><th scope=col>pos</th><th scope=col>lod</th></tr>\n",
       "\t<tr><th></th><th scope=col>&lt;fct&gt;</th><th scope=col>&lt;dbl&gt;</th><th scope=col>&lt;dbl&gt;</th></tr>\n",
       "</thead>\n",
       "<tbody>\n",
       "\t<tr><th scope=row>15_12434095</th><td>12</td><td> 0.000</td><td>0.176779714</td></tr>\n",
       "\t<tr><th scope=row>c12.loc19</th><td>12</td><td>19.000</td><td>3.589846472</td></tr>\n",
       "\t<tr><th scope=row>12_2334526</th><td>12</td><td>26.986</td><td>0.005943111</td></tr>\n",
       "</tbody>\n",
       "</table>\n"
      ],
      "text/latex": [
       "A scanone: 3 × 3\n",
       "\\begin{tabular}{r|lll}\n",
       "  & chr & pos & lod\\\\\n",
       "  & <fct> & <dbl> & <dbl>\\\\\n",
       "\\hline\n",
       "\t15\\_12434095 & 12 &  0.000 & 0.176779714\\\\\n",
       "\tc12.loc19 & 12 & 19.000 & 3.589846472\\\\\n",
       "\t12\\_2334526 & 12 & 26.986 & 0.005943111\\\\\n",
       "\\end{tabular}\n"
      ],
      "text/markdown": [
       "\n",
       "A scanone: 3 × 3\n",
       "\n",
       "| <!--/--> | chr &lt;fct&gt; | pos &lt;dbl&gt; | lod &lt;dbl&gt; |\n",
       "|---|---|---|---|\n",
       "| 15_12434095 | 12 |  0.000 | 0.176779714 |\n",
       "| c12.loc19 | 12 | 19.000 | 3.589846472 |\n",
       "| 12_2334526 | 12 | 26.986 | 0.005943111 |\n",
       "\n"
      ],
      "text/plain": [
       "            chr pos    lod        \n",
       "15_12434095 12   0.000 0.176779714\n",
       "c12.loc19   12  19.000 3.589846472\n",
       "12_2334526  12  26.986 0.005943111"
      ]
     },
     "metadata": {},
     "output_type": "display_data"
    }
   ],
   "source": [
    "bayesint(TraitCIM, chr = chr, prob=0.95, expandtomarkers=TRUE) #calculate bayesian interval\n",
    "lodint(TraitCIM, chr = chr,expandtomarkers = TRUE ) #calculate LOD Support interval"
   ]
  },
  {
   "cell_type": "code",
   "execution_count": 10,
   "metadata": {},
   "outputs": [
    {
     "name": "stdin",
     "output_type": "stream",
     "text": [
      "Position for analysis:  19\n"
     ]
    },
    {
     "name": "stderr",
     "output_type": "stream",
     "text": [
      "Warning message in getsex(cross):\n",
      "\"125 individuals with missing sex; assuming they're female\"\n",
      "Warning message in fitqtlengine(pheno = pheno, qtl = qtl, covar = covar, formula = formula, :\n",
      "\"Dropping 123 individuals with missing phenotypes.\n",
      "\"\n",
      "Warning message in getsex(cross):\n",
      "\"125 individuals with missing sex; assuming they're female\"\n"
     ]
    },
    {
     "data": {
      "text/plain": [
       "\n",
       "\t\tfitqtl summary\n",
       "\n",
       "Method: Haley-Knott regression \n",
       "Model:  normal phenotype\n",
       "Number of observations : 171 \n",
       "\n",
       "Full model result\n",
       "----------------------------------  \n",
       "Model formula: y ~ Q1 \n",
       "\n",
       "       df        SS        MS      LOD     %var Pvalue(Chi2)    Pvalue(F)\n",
       "Model   1  2.375707 2.3757074 3.312532 8.534579 9.393905e-05 0.0001056953\n",
       "Error 169 25.460550 0.1506541                                            \n",
       "Total 170 27.836257                                                      \n",
       "\n",
       "\n",
       "Estimated effects:\n",
       "-----------------\n",
       "               est       SE      t\n",
       "Intercept  0.22784  0.03025  7.532\n",
       "12@19.0   -0.24148  0.06081 -3.971\n"
      ]
     },
     "metadata": {},
     "output_type": "display_data"
    }
   ],
   "source": [
    "p <- as.numeric(readline(\"Position for analysis: \"))\n",
    "qtl <- makeqtl(Map, chr = chr, pos = p, what=\"prob\") #pulls genotype probabilities\n",
    "fitqtl <- fitqtl(Map, pheno.col=colNum, qtl = qtl, covar=NULL,\n",
    "       method= \"hk\",model=\"normal\",\n",
    "       dropone=TRUE, get.ests=TRUE,run.checks=TRUE,\n",
    "       tol=1e-4, maxit=1000, forceXcovar=FALSE) #sees how well our data fits a given formula \n",
    "          # If you see \"error: object of type 'closure' is not subsettable\", remove \"formula,\" from the fitqtl argument list.\n",
    "summary(fitqtl) #Print results of the analysis"
   ]
  },
  {
   "cell_type": "code",
   "execution_count": 11,
   "metadata": {},
   "outputs": [
    {
     "name": "stdout",
     "output_type": "stream",
     "text": [
      "[1] \"Make sure to input names AS THEY APPEAR on the csv!!\"\n"
     ]
    },
    {
     "name": "stdin",
     "output_type": "stream",
     "text": [
      "Enter file name (Either FemaleMap.csv or MaleMap.csv):  MaleMap.csv\n",
      "First Genotype (homozygous) (For example ll):  nn\n",
      "Second Genotype (heterozygous) (for example lm):  np\n",
      "Column Number:  8\n"
     ]
    }
   ],
   "source": [
    "#Collecting enviroment variables\n",
    "print(\"Make sure to input names AS THEY APPEAR on the csv!!\") #Just a user warning\n",
    "fileName <- readline(\"Enter file name (Either FemaleMap.csv or MaleMap.csv): \") #Mapping table file\n",
    "genotypeName <- c(readline(\"First Genotype (homozygous) (For example ll): \"),\n",
    "                  readline(\"Second Genotype (heterozygous) (for example lm): \")) #For example \"nn\", \"np\"\n",
    "alleleName <- c(substr(genotypeName[2],1,1) ,substr(genotypeName[2],2,2))\n",
    "naNames <- c(\"NA\",\"--\") #For example \"NA\", \"--\"\n",
    "colNum <- as.numeric(readline(\"Column Number: \")) #Column for pheno of interest"
   ]
  },
  {
   "cell_type": "code",
   "execution_count": 12,
   "metadata": {},
   "outputs": [
    {
     "name": "stdout",
     "output_type": "stream",
     "text": [
      " --Read the following data:\n",
      "\t 294  individuals\n",
      "\t 1128  markers\n",
      "\t 38  phenotypes\n"
     ]
    },
    {
     "name": "stderr",
     "output_type": "stream",
     "text": [
      "Warning message in summary.cross(cross):\n",
      "\"Some markers at the same position on chr 1,3,4,5,6,7,8,9,10,12,13,14,15,16,17,18,19; use jittermap().\"\n"
     ]
    },
    {
     "name": "stdout",
     "output_type": "stream",
     "text": [
      " --Cross type: bc \n"
     ]
    },
    {
     "data": {
      "image/png": "[encoded data removed]",
      "text/plain": [
       "Plot with title \"Genetic map\""
      ]
     },
     "metadata": {
      "image/png": {
       "height": 420,
       "width": 420
      },
      "text/plain": {
       "height": 420,
       "width": 420
      }
     },
     "output_type": "display_data"
    }
   ],
   "source": [
    "#Map generation\n",
    "Map <- read.cross(format = 'csv',file = fileName \n",
    "                  ,genotypes = genotypeName,\n",
    "                  alleles = alleleName,na.strings = naNames) #generate linkage map\n",
    "Map <- jittermap(Map) #make sure no markers are in the same location\n",
    "Map <- calc.genoprob(Map,step = 1,map.function = \"kosambi\") #associate markers with full genotypes\n",
    "plot.map(Map) #draw linkage map"
   ]
  },
  {
   "cell_type": "code",
   "execution_count": 13,
   "metadata": {},
   "outputs": [
    {
     "data": {
      "image/png": "[encoded data removed]",
      "text/plain": [
       "Plot with title \"\""
      ]
     },
     "metadata": {
      "image/png": {
       "height": 420,
       "width": 420
      },
      "text/plain": {
       "height": 420,
       "width": 420
      }
     },
     "output_type": "display_data"
    }
   ],
   "source": [
    "plotNormalHistogram(Map$pheno[,colNum]) #normal histogram of pheno of interest"
   ]
  },
  {
   "cell_type": "markdown",
   "metadata": {},
   "source": [
    "Outliers exist in this data. "
   ]
  },
  {
   "cell_type": "code",
   "execution_count": 14,
   "metadata": {},
   "outputs": [
    {
     "data": {
      "text/plain": [
       "LOD thresholds (1000 permutations)\n",
       "   [,1]\n",
       "5% 4.43\n",
       "1% 5.26"
      ]
     },
     "metadata": {},
     "output_type": "display_data"
    },
    {
     "data": {
      "image/png": "[encoded data removed]",
      "text/plain": [
       "Plot with title \"\""
      ]
     },
     "metadata": {
      "image/png": {
       "height": 420,
       "width": 420
      },
      "text/plain": {
       "height": 420,
       "width": 420
      }
     },
     "output_type": "display_data"
    }
   ],
   "source": [
    "#Compute statistically significant values\n",
    "TraitCIM1000 <- cim(Map,pheno.col = colNum,method = \"hk\",\n",
    "                    map.function = \"kosambi\",n.perm = 1000) # Function will take a moment to run, determines LOD value\n",
    "plot(TraitCIM1000,col = 'green') #show distribution of lod scores\n",
    "summary(TraitCIM1000,alpha=c(.05,.01))"
   ]
  },
  {
   "cell_type": "code",
   "execution_count": 15,
   "metadata": {},
   "outputs": [
    {
     "name": "stdout",
     "output_type": "stream",
     "text": [
      "[1] \"If nothing shows up, the values \\n      are below the LOD5 score\"\n"
     ]
    },
    {
     "data": {
      "text/html": [
       "<table>\n",
       "<caption>A summary.scanone: 19 × 3</caption>\n",
       "<thead>\n",
       "\t<tr><th></th><th scope=col>chr</th><th scope=col>pos</th><th scope=col>lod</th></tr>\n",
       "\t<tr><th></th><th scope=col>&lt;fct&gt;</th><th scope=col>&lt;dbl&gt;</th><th scope=col>&lt;dbl&gt;</th></tr>\n",
       "</thead>\n",
       "<tbody>\n",
       "\t<tr><th scope=row>c1.loc25</th><td>1 </td><td> 25.000000</td><td>2.3399050</td></tr>\n",
       "\t<tr><th scope=row>16_17497990</th><td>2 </td><td> 64.641033</td><td>2.5365003</td></tr>\n",
       "\t<tr><th scope=row>3_6056253</th><td>3 </td><td> 33.987037</td><td>0.7167185</td></tr>\n",
       "\t<tr><th scope=row>c4.loc11</th><td>4 </td><td> 11.000000</td><td>0.8473334</td></tr>\n",
       "\t<tr><th scope=row>c5.loc33</th><td>5 </td><td> 33.000000</td><td>0.7783857</td></tr>\n",
       "\t<tr><th scope=row>c6.loc58</th><td>6 </td><td> 58.000000</td><td>0.7374296</td></tr>\n",
       "\t<tr><th scope=row>7_24892902</th><td>7 </td><td>104.727079</td><td>1.4754639</td></tr>\n",
       "\t<tr><th scope=row>c8.loc39</th><td>8 </td><td> 39.000000</td><td>0.6312256</td></tr>\n",
       "\t<tr><th scope=row>9_18487629</th><td>9 </td><td> 54.078036</td><td>1.1764961</td></tr>\n",
       "\t<tr><th scope=row>10_12220756</th><td>10</td><td> 59.854023</td><td>0.5559046</td></tr>\n",
       "\t<tr><th scope=row>c11.loc37</th><td>11</td><td> 37.000000</td><td>0.6905541</td></tr>\n",
       "\t<tr><th scope=row>12_2645369</th><td>12</td><td>  8.436008</td><td>1.8003600</td></tr>\n",
       "\t<tr><th scope=row>c13.loc44</th><td>13</td><td> 44.000000</td><td>1.2070362</td></tr>\n",
       "\t<tr><th scope=row>c14.loc40</th><td>14</td><td> 40.000000</td><td>1.6018934</td></tr>\n",
       "\t<tr><th scope=row>c15.loc49</th><td>15</td><td> 49.000000</td><td>1.4878780</td></tr>\n",
       "\t<tr><th scope=row>c16.loc81</th><td>16</td><td> 81.000000</td><td>1.1472985</td></tr>\n",
       "\t<tr><th scope=row>c17.loc11</th><td>17</td><td> 11.000000</td><td>1.6367794</td></tr>\n",
       "\t<tr><th scope=row>18_10908692</th><td>18</td><td> 47.225024</td><td>1.2493804</td></tr>\n",
       "\t<tr><th scope=row>c19.loc45</th><td>19</td><td> 45.000000</td><td>1.3362603</td></tr>\n",
       "</tbody>\n",
       "</table>\n"
      ],
      "text/latex": [
       "A summary.scanone: 19 × 3\n",
       "\\begin{tabular}{r|lll}\n",
       "  & chr & pos & lod\\\\\n",
       "  & <fct> & <dbl> & <dbl>\\\\\n",
       "\\hline\n",
       "\tc1.loc25 & 1  &  25.000000 & 2.3399050\\\\\n",
       "\t16\\_17497990 & 2  &  64.641033 & 2.5365003\\\\\n",
       "\t3\\_6056253 & 3  &  33.987037 & 0.7167185\\\\\n",
       "\tc4.loc11 & 4  &  11.000000 & 0.8473334\\\\\n",
       "\tc5.loc33 & 5  &  33.000000 & 0.7783857\\\\\n",
       "\tc6.loc58 & 6  &  58.000000 & 0.7374296\\\\\n",
       "\t7\\_24892902 & 7  & 104.727079 & 1.4754639\\\\\n",
       "\tc8.loc39 & 8  &  39.000000 & 0.6312256\\\\\n",
       "\t9\\_18487629 & 9  &  54.078036 & 1.1764961\\\\\n",
       "\t10\\_12220756 & 10 &  59.854023 & 0.5559046\\\\\n",
       "\tc11.loc37 & 11 &  37.000000 & 0.6905541\\\\\n",
       "\t12\\_2645369 & 12 &   8.436008 & 1.8003600\\\\\n",
       "\tc13.loc44 & 13 &  44.000000 & 1.2070362\\\\\n",
       "\tc14.loc40 & 14 &  40.000000 & 1.6018934\\\\\n",
       "\tc15.loc49 & 15 &  49.000000 & 1.4878780\\\\\n",
       "\tc16.loc81 & 16 &  81.000000 & 1.1472985\\\\\n",
       "\tc17.loc11 & 17 &  11.000000 & 1.6367794\\\\\n",
       "\t18\\_10908692 & 18 &  47.225024 & 1.2493804\\\\\n",
       "\tc19.loc45 & 19 &  45.000000 & 1.3362603\\\\\n",
       "\\end{tabular}\n"
      ],
      "text/markdown": [
       "\n",
       "A summary.scanone: 19 × 3\n",
       "\n",
       "| <!--/--> | chr &lt;fct&gt; | pos &lt;dbl&gt; | lod &lt;dbl&gt; |\n",
       "|---|---|---|---|\n",
       "| c1.loc25 | 1  |  25.000000 | 2.3399050 |\n",
       "| 16_17497990 | 2  |  64.641033 | 2.5365003 |\n",
       "| 3_6056253 | 3  |  33.987037 | 0.7167185 |\n",
       "| c4.loc11 | 4  |  11.000000 | 0.8473334 |\n",
       "| c5.loc33 | 5  |  33.000000 | 0.7783857 |\n",
       "| c6.loc58 | 6  |  58.000000 | 0.7374296 |\n",
       "| 7_24892902 | 7  | 104.727079 | 1.4754639 |\n",
       "| c8.loc39 | 8  |  39.000000 | 0.6312256 |\n",
       "| 9_18487629 | 9  |  54.078036 | 1.1764961 |\n",
       "| 10_12220756 | 10 |  59.854023 | 0.5559046 |\n",
       "| c11.loc37 | 11 |  37.000000 | 0.6905541 |\n",
       "| 12_2645369 | 12 |   8.436008 | 1.8003600 |\n",
       "| c13.loc44 | 13 |  44.000000 | 1.2070362 |\n",
       "| c14.loc40 | 14 |  40.000000 | 1.6018934 |\n",
       "| c15.loc49 | 15 |  49.000000 | 1.4878780 |\n",
       "| c16.loc81 | 16 |  81.000000 | 1.1472985 |\n",
       "| c17.loc11 | 17 |  11.000000 | 1.6367794 |\n",
       "| 18_10908692 | 18 |  47.225024 | 1.2493804 |\n",
       "| c19.loc45 | 19 |  45.000000 | 1.3362603 |\n",
       "\n"
      ],
      "text/plain": [
       "            chr pos        lod      \n",
       "c1.loc25    1    25.000000 2.3399050\n",
       "16_17497990 2    64.641033 2.5365003\n",
       "3_6056253   3    33.987037 0.7167185\n",
       "c4.loc11    4    11.000000 0.8473334\n",
       "c5.loc33    5    33.000000 0.7783857\n",
       "c6.loc58    6    58.000000 0.7374296\n",
       "7_24892902  7   104.727079 1.4754639\n",
       "c8.loc39    8    39.000000 0.6312256\n",
       "9_18487629  9    54.078036 1.1764961\n",
       "10_12220756 10   59.854023 0.5559046\n",
       "c11.loc37   11   37.000000 0.6905541\n",
       "12_2645369  12    8.436008 1.8003600\n",
       "c13.loc44   13   44.000000 1.2070362\n",
       "c14.loc40   14   40.000000 1.6018934\n",
       "c15.loc49   15   49.000000 1.4878780\n",
       "c16.loc81   16   81.000000 1.1472985\n",
       "c17.loc11   17   11.000000 1.6367794\n",
       "18_10908692 18   47.225024 1.2493804\n",
       "c19.loc45   19   45.000000 1.3362603"
      ]
     },
     "metadata": {},
     "output_type": "display_data"
    },
    {
     "data": {
      "image/png": "[encoded data removed]",
      "text/plain": [
       "plot without title"
      ]
     },
     "metadata": {
      "image/png": {
       "height": 420,
       "width": 420
      },
      "text/plain": {
       "height": 420,
       "width": 420
      }
     },
     "output_type": "display_data"
    }
   ],
   "source": [
    "#Deterime LOD Values\n",
    "TraitCIM<-cim(Map,pheno.col = colNum,method = \"hk\",\n",
    "              map.function = \"kosambi\") #Generate LOD Values\n",
    "plot(TraitCIM) #show LOD graph\n",
    "abline(h = LOD5,col = \"blue\") #overlay statistically significant line\n",
    "print(\"If nothing shows up, the values \n",
    "      are below the LOD5 score\") #warning for no peaks\n",
    "summary(TraitCIM)"
   ]
  },
  {
   "cell_type": "code",
   "execution_count": 16,
   "metadata": {},
   "outputs": [
    {
     "name": "stdin",
     "output_type": "stream",
     "text": [
      "Chromosome?  2\n"
     ]
    },
    {
     "data": {
      "image/png": "[encoded data removed]",
      "text/plain": [
       "plot without title"
      ]
     },
     "metadata": {
      "image/png": {
       "height": 420,
       "width": 420
      },
      "text/plain": {
       "height": 420,
       "width": 420
      }
     },
     "output_type": "display_data"
    }
   ],
   "source": [
    "#Chromosomal Analysis\n",
    "chr <- as.numeric(readline(\"Chromosome? \")) #collect chromosome to look at\n",
    "plot(TraitCIM, chr = chr,xlab = c(\"chr\",chr)) #Plot chr LOD scores\n",
    "abline(h = LOD5, col = \"blue\") #Statistically Significant"
   ]
  },
  {
   "cell_type": "code",
   "execution_count": 17,
   "metadata": {},
   "outputs": [
    {
     "data": {
      "text/html": [
       "<table>\n",
       "<caption>A scanone: 3 × 3</caption>\n",
       "<thead>\n",
       "\t<tr><th></th><th scope=col>chr</th><th scope=col>pos</th><th scope=col>lod</th></tr>\n",
       "\t<tr><th></th><th scope=col>&lt;fct&gt;</th><th scope=col>&lt;dbl&gt;</th><th scope=col>&lt;dbl&gt;</th></tr>\n",
       "</thead>\n",
       "<tbody>\n",
       "\t<tr><th scope=row>2_681715</th><td>2</td><td> 0.00000</td><td>0.09446733</td></tr>\n",
       "\t<tr><th scope=row>16_17497990</th><td>2</td><td>64.64103</td><td>2.53650034</td></tr>\n",
       "\t<tr><th scope=row>2_17884919</th><td>2</td><td>74.19004</td><td>0.07712834</td></tr>\n",
       "</tbody>\n",
       "</table>\n"
      ],
      "text/latex": [
       "A scanone: 3 × 3\n",
       "\\begin{tabular}{r|lll}\n",
       "  & chr & pos & lod\\\\\n",
       "  & <fct> & <dbl> & <dbl>\\\\\n",
       "\\hline\n",
       "\t2\\_681715 & 2 &  0.00000 & 0.09446733\\\\\n",
       "\t16\\_17497990 & 2 & 64.64103 & 2.53650034\\\\\n",
       "\t2\\_17884919 & 2 & 74.19004 & 0.07712834\\\\\n",
       "\\end{tabular}\n"
      ],
      "text/markdown": [
       "\n",
       "A scanone: 3 × 3\n",
       "\n",
       "| <!--/--> | chr &lt;fct&gt; | pos &lt;dbl&gt; | lod &lt;dbl&gt; |\n",
       "|---|---|---|---|\n",
       "| 2_681715 | 2 |  0.00000 | 0.09446733 |\n",
       "| 16_17497990 | 2 | 64.64103 | 2.53650034 |\n",
       "| 2_17884919 | 2 | 74.19004 | 0.07712834 |\n",
       "\n"
      ],
      "text/plain": [
       "            chr pos      lod       \n",
       "2_681715    2    0.00000 0.09446733\n",
       "16_17497990 2   64.64103 2.53650034\n",
       "2_17884919  2   74.19004 0.07712834"
      ]
     },
     "metadata": {},
     "output_type": "display_data"
    },
    {
     "data": {
      "text/html": [
       "<table>\n",
       "<caption>A scanone: 3 × 3</caption>\n",
       "<thead>\n",
       "\t<tr><th></th><th scope=col>chr</th><th scope=col>pos</th><th scope=col>lod</th></tr>\n",
       "\t<tr><th></th><th scope=col>&lt;fct&gt;</th><th scope=col>&lt;dbl&gt;</th><th scope=col>&lt;dbl&gt;</th></tr>\n",
       "</thead>\n",
       "<tbody>\n",
       "\t<tr><th scope=row>2_15052983</th><td>2</td><td>62.26403</td><td>0.3549666</td></tr>\n",
       "\t<tr><th scope=row>16_17497990</th><td>2</td><td>64.64103</td><td>2.5365003</td></tr>\n",
       "\t<tr><th scope=row>2_17632126</th><td>2</td><td>69.54504</td><td>0.2355335</td></tr>\n",
       "</tbody>\n",
       "</table>\n"
      ],
      "text/latex": [
       "A scanone: 3 × 3\n",
       "\\begin{tabular}{r|lll}\n",
       "  & chr & pos & lod\\\\\n",
       "  & <fct> & <dbl> & <dbl>\\\\\n",
       "\\hline\n",
       "\t2\\_15052983 & 2 & 62.26403 & 0.3549666\\\\\n",
       "\t16\\_17497990 & 2 & 64.64103 & 2.5365003\\\\\n",
       "\t2\\_17632126 & 2 & 69.54504 & 0.2355335\\\\\n",
       "\\end{tabular}\n"
      ],
      "text/markdown": [
       "\n",
       "A scanone: 3 × 3\n",
       "\n",
       "| <!--/--> | chr &lt;fct&gt; | pos &lt;dbl&gt; | lod &lt;dbl&gt; |\n",
       "|---|---|---|---|\n",
       "| 2_15052983 | 2 | 62.26403 | 0.3549666 |\n",
       "| 16_17497990 | 2 | 64.64103 | 2.5365003 |\n",
       "| 2_17632126 | 2 | 69.54504 | 0.2355335 |\n",
       "\n"
      ],
      "text/plain": [
       "            chr pos      lod      \n",
       "2_15052983  2   62.26403 0.3549666\n",
       "16_17497990 2   64.64103 2.5365003\n",
       "2_17632126  2   69.54504 0.2355335"
      ]
     },
     "metadata": {},
     "output_type": "display_data"
    }
   ],
   "source": [
    "bayesint(TraitCIM, chr = chr, prob=0.95, expandtomarkers=TRUE) #calculate bayesian interval\n",
    "lodint(TraitCIM, chr = chr,expandtomarkers = TRUE ) #calculate LOD Support interval"
   ]
  },
  {
   "cell_type": "code",
   "execution_count": 18,
   "metadata": {},
   "outputs": [
    {
     "name": "stdin",
     "output_type": "stream",
     "text": [
      "Position for analysis:  64.64103\n"
     ]
    },
    {
     "name": "stderr",
     "output_type": "stream",
     "text": [
      "Warning message in getsex(cross):\n",
      "\"125 individuals with missing sex; assuming they're female\"\n",
      "Warning message in fitqtlengine(pheno = pheno, qtl = qtl, covar = covar, formula = formula, :\n",
      "\"Dropping 123 individuals with missing phenotypes.\n",
      "\"\n",
      "Warning message in getsex(cross):\n",
      "\"125 individuals with missing sex; assuming they're female\"\n"
     ]
    },
    {
     "data": {
      "text/plain": [
       "\n",
       "\t\tfitqtl summary\n",
       "\n",
       "Method: Haley-Knott regression \n",
       "Model:  normal phenotype\n",
       "Number of observations : 171 \n",
       "\n",
       "Full model result\n",
       "----------------------------------  \n",
       "Model formula: y ~ Q1 \n",
       "\n",
       "       df        SS        MS      LOD     %var Pvalue(Chi2)   Pvalue(F)\n",
       "Model   1  1.457873 1.4578727 1.997506 5.237316  0.002421664 0.002606155\n",
       "Error 169 26.378385 0.1560851                                           \n",
       "Total 170 27.836257                                                     \n",
       "\n",
       "\n",
       "Estimated effects:\n",
       "-----------------\n",
       "               est       SE      t\n",
       "Intercept  0.20188  0.03023  6.679\n",
       "2@64.6    -0.18532  0.06064 -3.056\n"
      ]
     },
     "metadata": {},
     "output_type": "display_data"
    }
   ],
   "source": [
    "p <- as.numeric(readline(\"Position for analysis: \"))\n",
    "qtl <- makeqtl(Map, chr = chr, pos = p, what=\"prob\") #pulls genotype probabilities\n",
    "fitqtl <- fitqtl(Map, pheno.col=colNum, qtl = qtl, covar=NULL,\n",
    "       method= \"hk\",model=\"normal\",\n",
    "       dropone=TRUE, get.ests=TRUE,run.checks=TRUE,\n",
    "       tol=1e-4, maxit=1000, forceXcovar=FALSE) #sees how well our data fits a given formula \n",
    "          # If you see \"error: object of type 'closure' is not subsettable\", remove \"formula,\" from the fitqtl argument list.\n",
    "summary(fitqtl) #Print results of the analysis"
   ]
  },
  {
   "cell_type": "code",
   "execution_count": null,
   "metadata": {},
   "outputs": [],
   "source": []
  }
 ],
 "metadata": {
  "kernelspec": {
   "display_name": "R",
   "language": "R",
   "name": "ir"
  },
  "language_info": {
   "codemirror_mode": "r",
   "file_extension": ".r",
   "mimetype": "text/x-r-source",
   "name": "R",
   "pygments_lexer": "r",
   "version": "3.6.3"
  }
 },
 "nbformat": 4,
 "nbformat_minor": 4
}
