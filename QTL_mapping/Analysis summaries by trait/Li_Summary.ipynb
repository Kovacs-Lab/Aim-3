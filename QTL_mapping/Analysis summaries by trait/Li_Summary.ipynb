{
 "cells": [
  {
   "cell_type": "markdown",
   "metadata": {},
   "source": [
    "This analysis is in the order of Female then Male"
   ]
  },
  {
   "cell_type": "code",
   "execution_count": 1,
   "metadata": {},
   "outputs": [
    {
     "name": "stderr",
     "output_type": "stream",
     "text": [
      "Installing package into 'C:/Users/Courtney/Documents/R/win-library/3.6'\n",
      "(as 'lib' is unspecified)\n",
      "\n"
     ]
    },
    {
     "name": "stdout",
     "output_type": "stream",
     "text": [
      "package 'qtl' successfully unpacked and MD5 sums checked\n"
     ]
    },
    {
     "name": "stderr",
     "output_type": "stream",
     "text": [
      "Warning message:\n",
      "\"cannot remove prior installation of package 'qtl'\"\n",
      "Warning message in file.copy(savedcopy, lib, recursive = TRUE):\n",
      "\"problem copying C:\\Users\\Courtney\\Documents\\R\\win-library\\3.6\\00LOCK\\qtl\\libs\\x64\\qtl.dll to C:\\Users\\Courtney\\Documents\\R\\win-library\\3.6\\qtl\\libs\\x64\\qtl.dll: Permission denied\"\n",
      "Warning message:\n",
      "\"restored 'qtl'\"\n"
     ]
    },
    {
     "name": "stdout",
     "output_type": "stream",
     "text": [
      "\n",
      "The downloaded binary packages are in\n",
      "\tC:\\Users\\Courtney\\AppData\\Local\\Temp\\RtmpMBV2M8\\downloaded_packages\n"
     ]
    },
    {
     "name": "stderr",
     "output_type": "stream",
     "text": [
      "Installing package into 'C:/Users/Courtney/Documents/R/win-library/3.6'\n",
      "(as 'lib' is unspecified)\n",
      "\n"
     ]
    },
    {
     "name": "stdout",
     "output_type": "stream",
     "text": [
      "package 'qtlcharts' successfully unpacked and MD5 sums checked\n",
      "\n",
      "The downloaded binary packages are in\n",
      "\tC:\\Users\\Courtney\\AppData\\Local\\Temp\\RtmpMBV2M8\\downloaded_packages\n"
     ]
    },
    {
     "name": "stderr",
     "output_type": "stream",
     "text": [
      "Installing package into 'C:/Users/Courtney/Documents/R/win-library/3.6'\n",
      "(as 'lib' is unspecified)\n",
      "\n"
     ]
    },
    {
     "name": "stdout",
     "output_type": "stream",
     "text": [
      "package 'LinkageMapView' successfully unpacked and MD5 sums checked\n",
      "\n",
      "The downloaded binary packages are in\n",
      "\tC:\\Users\\Courtney\\AppData\\Local\\Temp\\RtmpMBV2M8\\downloaded_packages\n"
     ]
    },
    {
     "name": "stderr",
     "output_type": "stream",
     "text": [
      "Installing package into 'C:/Users/Courtney/Documents/R/win-library/3.6'\n",
      "(as 'lib' is unspecified)\n",
      "\n"
     ]
    },
    {
     "name": "stdout",
     "output_type": "stream",
     "text": [
      "package 'rcompanion' successfully unpacked and MD5 sums checked\n",
      "\n",
      "The downloaded binary packages are in\n",
      "\tC:\\Users\\Courtney\\AppData\\Local\\Temp\\RtmpMBV2M8\\downloaded_packages\n"
     ]
    }
   ],
   "source": [
    "install.packages('qtl') #Main package, for analysis\n",
    "install.packages('qtlcharts') #accessory, for displaying graphs\n",
    "install.packages('LinkageMapView') #accessory, for displaying linkage maps\n",
    "install.packages('rcompanion')# for plotNormalHistogram"
   ]
  },
  {
   "cell_type": "code",
   "execution_count": 2,
   "metadata": {},
   "outputs": [],
   "source": [
    "library(qtl) #load packages\n",
    "library(qtlcharts)\n",
    "library(LinkageMapView)\n",
    "library(rcompanion)"
   ]
  },
  {
   "cell_type": "code",
   "execution_count": 3,
   "metadata": {},
   "outputs": [
    {
     "name": "stdout",
     "output_type": "stream",
     "text": [
      "[1] \"Make sure to input names AS THEY APPEAR on the csv!!\"\n"
     ]
    },
    {
     "name": "stdin",
     "output_type": "stream",
     "text": [
      "Enter file name (Either FemaleMap.csv or MaleMap.csv):  FemaleMap.csv\n",
      "First Genotype (homozygous) (For example ll):  ll\n",
      "Second Genotype (heterozygous) (for example lm):  lm\n",
      "Column Number:  17\n"
     ]
    }
   ],
   "source": [
    "#Collecting enviroment variables\n",
    "print(\"Make sure to input names AS THEY APPEAR on the csv!!\") #Just a user warning\n",
    "fileName <- readline(\"Enter file name (Either FemaleMap.csv or MaleMap.csv): \") #Mapping table file\n",
    "genotypeName <- c(readline(\"First Genotype (homozygous) (For example ll): \"),\n",
    "                  readline(\"Second Genotype (heterozygous) (for example lm): \")) #For example \"nn\", \"np\"\n",
    "alleleName <- c(substr(genotypeName[2],1,1) ,substr(genotypeName[2],2,2))\n",
    "naNames <- c(\"NA\",\"--\") #For example \"NA\", \"--\"\n",
    "colNum <- as.numeric(readline(\"Column Number: \")) #Column for pheno of interest"
   ]
  },
  {
   "cell_type": "code",
   "execution_count": 4,
   "metadata": {},
   "outputs": [
    {
     "name": "stdout",
     "output_type": "stream",
     "text": [
      " --Read the following data:\n",
      "\t 294  individuals\n",
      "\t 1100  markers\n",
      "\t 38  phenotypes\n"
     ]
    },
    {
     "name": "stderr",
     "output_type": "stream",
     "text": [
      "Warning message in summary.cross(cross):\n",
      "\"Some markers at the same position on chr 1,2,4,5,7,8,9,10,11,12,13,14,16,17,18,19; use jittermap().\"\n"
     ]
    },
    {
     "name": "stdout",
     "output_type": "stream",
     "text": [
      " --Cross type: bc \n"
     ]
    },
    {
     "data": {
      "image/png": "[encoded data removed]",
      "text/plain": [
       "Plot with title \"Genetic map\""
      ]
     },
     "metadata": {
      "image/png": {
       "height": 420,
       "width": 420
      },
      "text/plain": {
       "height": 420,
       "width": 420
      }
     },
     "output_type": "display_data"
    }
   ],
   "source": [
    "#Map generation\n",
    "Map <- read.cross(format = 'csv',file = fileName \n",
    "                  ,genotypes = genotypeName,\n",
    "                  alleles = alleleName,na.strings = naNames) #generate linkage map\n",
    "Map <- jittermap(Map) #make sure no markers are in the same location\n",
    "Map <- calc.genoprob(Map,step = 1,map.function = \"kosambi\") #associate markers with full genotypes\n",
    "plot.map(Map) #draw linkage map"
   ]
  },
  {
   "cell_type": "code",
   "execution_count": 5,
   "metadata": {},
   "outputs": [
    {
     "data": {
      "image/png": "[encoded data removed]",
      "text/plain": [
       "Plot with title \"\""
      ]
     },
     "metadata": {
      "image/png": {
       "height": 420,
       "width": 420
      },
      "text/plain": {
       "height": 420,
       "width": 420
      }
     },
     "output_type": "display_data"
    }
   ],
   "source": [
    "plotNormalHistogram(Map$pheno[,colNum]) #normal histogram of pheno of interest"
   ]
  },
  {
   "cell_type": "markdown",
   "metadata": {},
   "source": [
    "Outliers exist in this dataset. Will need to be analyized. "
   ]
  },
  {
   "cell_type": "code",
   "execution_count": 6,
   "metadata": {},
   "outputs": [
    {
     "data": {
      "image/png": "[encoded data removed]",
      "text/plain": [
       "Plot with title \"\""
      ]
     },
     "metadata": {
      "image/png": {
       "height": 420,
       "width": 420
      },
      "text/plain": {
       "height": 420,
       "width": 420
      }
     },
     "output_type": "display_data"
    }
   ],
   "source": [
    "#Compute statistically significant values\n",
    "TraitCIM1000 <- cim(Map,pheno.col = colNum,method = \"hk\",\n",
    "                    map.function = \"kosambi\",n.perm = 1000) # Function will take a moment to run, determines LOD value\n",
    "plot(TraitCIM1000,col = 'green') #show distribution of lod scores\n",
    "LOD5 <- summary(TraitCIM1000)[1]"
   ]
  },
  {
   "cell_type": "code",
   "execution_count": 7,
   "metadata": {},
   "outputs": [
    {
     "name": "stdout",
     "output_type": "stream",
     "text": [
      "[1] \"If nothing shows up, the values \\n      are below the LOD5 score\"\n"
     ]
    },
    {
     "data": {
      "text/html": [
       "<table>\n",
       "<caption>A summary.scanone: 19 × 3</caption>\n",
       "<thead>\n",
       "\t<tr><th></th><th scope=col>chr</th><th scope=col>pos</th><th scope=col>lod</th></tr>\n",
       "\t<tr><th></th><th scope=col>&lt;fct&gt;</th><th scope=col>&lt;dbl&gt;</th><th scope=col>&lt;dbl&gt;</th></tr>\n",
       "</thead>\n",
       "<tbody>\n",
       "\t<tr><th scope=row>7_7311056</th><td>1 </td><td>33.364022</td><td>1.1074363</td></tr>\n",
       "\t<tr><th scope=row>c2.loc49</th><td>2 </td><td>49.000000</td><td>0.6490184</td></tr>\n",
       "\t<tr><th scope=row>c3.loc42</th><td>3 </td><td>42.000000</td><td>1.0653674</td></tr>\n",
       "\t<tr><th scope=row>4_22218751</th><td>4 </td><td>66.687063</td><td>2.3343087</td></tr>\n",
       "\t<tr><th scope=row>5_2074832</th><td>5 </td><td> 6.431004</td><td>1.0304981</td></tr>\n",
       "\t<tr><th scope=row>6_22050299</th><td>6 </td><td>22.997013</td><td>1.3482035</td></tr>\n",
       "\t<tr><th scope=row>7_23346134</th><td>7 </td><td>75.864089</td><td>0.7376060</td></tr>\n",
       "\t<tr><th scope=row>c8.loc60</th><td>8 </td><td>60.000000</td><td>2.0894535</td></tr>\n",
       "\t<tr><th scope=row>9_13407438</th><td>9 </td><td>50.029053</td><td>1.5387122</td></tr>\n",
       "\t<tr><th scope=row>c10.loc12</th><td>10</td><td>12.000000</td><td>0.5198806</td></tr>\n",
       "\t<tr><th scope=row>c11.loc49</th><td>11</td><td>49.000000</td><td>1.6415491</td></tr>\n",
       "\t<tr><th scope=row>c12.loc56</th><td>12</td><td>56.000000</td><td>1.7060183</td></tr>\n",
       "\t<tr><th scope=row>c13.loc8</th><td>13</td><td> 8.000000</td><td>1.5493668</td></tr>\n",
       "\t<tr><th scope=row>14_788160</th><td>14</td><td> 0.000000</td><td>0.8983971</td></tr>\n",
       "\t<tr><th scope=row>c15.loc1</th><td>15</td><td> 1.000000</td><td>1.8087572</td></tr>\n",
       "\t<tr><th scope=row>16_1261805</th><td>16</td><td> 3.022002</td><td>0.5010210</td></tr>\n",
       "\t<tr><th scope=row>c17.loc4</th><td>17</td><td> 4.000000</td><td>7.7212325</td></tr>\n",
       "\t<tr><th scope=row>c18.loc64</th><td>18</td><td>64.000000</td><td>2.4833450</td></tr>\n",
       "\t<tr><th scope=row>19_24491792</th><td>19</td><td>60.372076</td><td>0.7429942</td></tr>\n",
       "</tbody>\n",
       "</table>\n"
      ],
      "text/latex": [
       "A summary.scanone: 19 × 3\n",
       "\\begin{tabular}{r|lll}\n",
       "  & chr & pos & lod\\\\\n",
       "  & <fct> & <dbl> & <dbl>\\\\\n",
       "\\hline\n",
       "\t7\\_7311056 & 1  & 33.364022 & 1.1074363\\\\\n",
       "\tc2.loc49 & 2  & 49.000000 & 0.6490184\\\\\n",
       "\tc3.loc42 & 3  & 42.000000 & 1.0653674\\\\\n",
       "\t4\\_22218751 & 4  & 66.687063 & 2.3343087\\\\\n",
       "\t5\\_2074832 & 5  &  6.431004 & 1.0304981\\\\\n",
       "\t6\\_22050299 & 6  & 22.997013 & 1.3482035\\\\\n",
       "\t7\\_23346134 & 7  & 75.864089 & 0.7376060\\\\\n",
       "\tc8.loc60 & 8  & 60.000000 & 2.0894535\\\\\n",
       "\t9\\_13407438 & 9  & 50.029053 & 1.5387122\\\\\n",
       "\tc10.loc12 & 10 & 12.000000 & 0.5198806\\\\\n",
       "\tc11.loc49 & 11 & 49.000000 & 1.6415491\\\\\n",
       "\tc12.loc56 & 12 & 56.000000 & 1.7060183\\\\\n",
       "\tc13.loc8 & 13 &  8.000000 & 1.5493668\\\\\n",
       "\t14\\_788160 & 14 &  0.000000 & 0.8983971\\\\\n",
       "\tc15.loc1 & 15 &  1.000000 & 1.8087572\\\\\n",
       "\t16\\_1261805 & 16 &  3.022002 & 0.5010210\\\\\n",
       "\tc17.loc4 & 17 &  4.000000 & 7.7212325\\\\\n",
       "\tc18.loc64 & 18 & 64.000000 & 2.4833450\\\\\n",
       "\t19\\_24491792 & 19 & 60.372076 & 0.7429942\\\\\n",
       "\\end{tabular}\n"
      ],
      "text/markdown": [
       "\n",
       "A summary.scanone: 19 × 3\n",
       "\n",
       "| <!--/--> | chr &lt;fct&gt; | pos &lt;dbl&gt; | lod &lt;dbl&gt; |\n",
       "|---|---|---|---|\n",
       "| 7_7311056 | 1  | 33.364022 | 1.1074363 |\n",
       "| c2.loc49 | 2  | 49.000000 | 0.6490184 |\n",
       "| c3.loc42 | 3  | 42.000000 | 1.0653674 |\n",
       "| 4_22218751 | 4  | 66.687063 | 2.3343087 |\n",
       "| 5_2074832 | 5  |  6.431004 | 1.0304981 |\n",
       "| 6_22050299 | 6  | 22.997013 | 1.3482035 |\n",
       "| 7_23346134 | 7  | 75.864089 | 0.7376060 |\n",
       "| c8.loc60 | 8  | 60.000000 | 2.0894535 |\n",
       "| 9_13407438 | 9  | 50.029053 | 1.5387122 |\n",
       "| c10.loc12 | 10 | 12.000000 | 0.5198806 |\n",
       "| c11.loc49 | 11 | 49.000000 | 1.6415491 |\n",
       "| c12.loc56 | 12 | 56.000000 | 1.7060183 |\n",
       "| c13.loc8 | 13 |  8.000000 | 1.5493668 |\n",
       "| 14_788160 | 14 |  0.000000 | 0.8983971 |\n",
       "| c15.loc1 | 15 |  1.000000 | 1.8087572 |\n",
       "| 16_1261805 | 16 |  3.022002 | 0.5010210 |\n",
       "| c17.loc4 | 17 |  4.000000 | 7.7212325 |\n",
       "| c18.loc64 | 18 | 64.000000 | 2.4833450 |\n",
       "| 19_24491792 | 19 | 60.372076 | 0.7429942 |\n",
       "\n"
      ],
      "text/plain": [
       "            chr pos       lod      \n",
       "7_7311056   1   33.364022 1.1074363\n",
       "c2.loc49    2   49.000000 0.6490184\n",
       "c3.loc42    3   42.000000 1.0653674\n",
       "4_22218751  4   66.687063 2.3343087\n",
       "5_2074832   5    6.431004 1.0304981\n",
       "6_22050299  6   22.997013 1.3482035\n",
       "7_23346134  7   75.864089 0.7376060\n",
       "c8.loc60    8   60.000000 2.0894535\n",
       "9_13407438  9   50.029053 1.5387122\n",
       "c10.loc12   10  12.000000 0.5198806\n",
       "c11.loc49   11  49.000000 1.6415491\n",
       "c12.loc56   12  56.000000 1.7060183\n",
       "c13.loc8    13   8.000000 1.5493668\n",
       "14_788160   14   0.000000 0.8983971\n",
       "c15.loc1    15   1.000000 1.8087572\n",
       "16_1261805  16   3.022002 0.5010210\n",
       "c17.loc4    17   4.000000 7.7212325\n",
       "c18.loc64   18  64.000000 2.4833450\n",
       "19_24491792 19  60.372076 0.7429942"
      ]
     },
     "metadata": {},
     "output_type": "display_data"
    },
    {
     "data": {
      "image/png": "[encoded data removed]",
      "text/plain": [
       "plot without title"
      ]
     },
     "metadata": {
      "image/png": {
       "height": 420,
       "width": 420
      },
      "text/plain": {
       "height": 420,
       "width": 420
      }
     },
     "output_type": "display_data"
    }
   ],
   "source": [
    "#Deterime LOD Values\n",
    "TraitCIM<-cim(Map,pheno.col = colNum,method = \"hk\",\n",
    "              map.function = \"kosambi\") #Generate LOD Values\n",
    "plot(TraitCIM) #show LOD graph\n",
    "abline(h = LOD5,col = \"blue\") #overlay statistically significant line\n",
    "print(\"If nothing shows up, the values \n",
    "      are below the LOD5 score\") #warning for no peaks\n",
    "summary(TraitCIM)"
   ]
  },
  {
   "cell_type": "code",
   "execution_count": 8,
   "metadata": {},
   "outputs": [
    {
     "name": "stdin",
     "output_type": "stream",
     "text": [
      "Chromosome?  17\n"
     ]
    },
    {
     "data": {
      "image/png": "[encoded data removed]",
      "text/plain": [
       "plot without title"
      ]
     },
     "metadata": {
      "image/png": {
       "height": 420,
       "width": 420
      },
      "text/plain": {
       "height": 420,
       "width": 420
      }
     },
     "output_type": "display_data"
    }
   ],
   "source": [
    "#Chromosomal Analysis\n",
    "chr <- as.numeric(readline(\"Chromosome? \")) #collect chromosome to look at\n",
    "plot(TraitCIM, chr = chr,xlab = c(\"chr\",chr)) #Plot chr LOD scores\n",
    "abline(h = LOD5, col = \"blue\") #Statistically Significant"
   ]
  },
  {
   "cell_type": "code",
   "execution_count": 9,
   "metadata": {},
   "outputs": [
    {
     "data": {
      "text/html": [
       "<table>\n",
       "<caption>A scanone: 3 × 3</caption>\n",
       "<thead>\n",
       "\t<tr><th></th><th scope=col>chr</th><th scope=col>pos</th><th scope=col>lod</th></tr>\n",
       "\t<tr><th></th><th scope=col>&lt;fct&gt;</th><th scope=col>&lt;dbl&gt;</th><th scope=col>&lt;dbl&gt;</th></tr>\n",
       "</thead>\n",
       "<tbody>\n",
       "\t<tr><th scope=row>17_1975198</th><td>17</td><td>3.267002</td><td>0.4518478</td></tr>\n",
       "\t<tr><th scope=row>c17.loc4</th><td>17</td><td>4.000000</td><td>7.7212325</td></tr>\n",
       "\t<tr><th scope=row>17_2342835</th><td>17</td><td>4.358003</td><td>0.1524371</td></tr>\n",
       "</tbody>\n",
       "</table>\n"
      ],
      "text/latex": [
       "A scanone: 3 × 3\n",
       "\\begin{tabular}{r|lll}\n",
       "  & chr & pos & lod\\\\\n",
       "  & <fct> & <dbl> & <dbl>\\\\\n",
       "\\hline\n",
       "\t17\\_1975198 & 17 & 3.267002 & 0.4518478\\\\\n",
       "\tc17.loc4 & 17 & 4.000000 & 7.7212325\\\\\n",
       "\t17\\_2342835 & 17 & 4.358003 & 0.1524371\\\\\n",
       "\\end{tabular}\n"
      ],
      "text/markdown": [
       "\n",
       "A scanone: 3 × 3\n",
       "\n",
       "| <!--/--> | chr &lt;fct&gt; | pos &lt;dbl&gt; | lod &lt;dbl&gt; |\n",
       "|---|---|---|---|\n",
       "| 17_1975198 | 17 | 3.267002 | 0.4518478 |\n",
       "| c17.loc4 | 17 | 4.000000 | 7.7212325 |\n",
       "| 17_2342835 | 17 | 4.358003 | 0.1524371 |\n",
       "\n"
      ],
      "text/plain": [
       "           chr pos      lod      \n",
       "17_1975198 17  3.267002 0.4518478\n",
       "c17.loc4   17  4.000000 7.7212325\n",
       "17_2342835 17  4.358003 0.1524371"
      ]
     },
     "metadata": {},
     "output_type": "display_data"
    },
    {
     "data": {
      "text/html": [
       "<table>\n",
       "<caption>A scanone: 3 × 3</caption>\n",
       "<thead>\n",
       "\t<tr><th></th><th scope=col>chr</th><th scope=col>pos</th><th scope=col>lod</th></tr>\n",
       "\t<tr><th></th><th scope=col>&lt;fct&gt;</th><th scope=col>&lt;dbl&gt;</th><th scope=col>&lt;dbl&gt;</th></tr>\n",
       "</thead>\n",
       "<tbody>\n",
       "\t<tr><th scope=row>17_1975198</th><td>17</td><td>3.267002</td><td>0.4518478</td></tr>\n",
       "\t<tr><th scope=row>c17.loc4</th><td>17</td><td>4.000000</td><td>7.7212325</td></tr>\n",
       "\t<tr><th scope=row>17_2342835</th><td>17</td><td>4.358003</td><td>0.1524371</td></tr>\n",
       "</tbody>\n",
       "</table>\n"
      ],
      "text/latex": [
       "A scanone: 3 × 3\n",
       "\\begin{tabular}{r|lll}\n",
       "  & chr & pos & lod\\\\\n",
       "  & <fct> & <dbl> & <dbl>\\\\\n",
       "\\hline\n",
       "\t17\\_1975198 & 17 & 3.267002 & 0.4518478\\\\\n",
       "\tc17.loc4 & 17 & 4.000000 & 7.7212325\\\\\n",
       "\t17\\_2342835 & 17 & 4.358003 & 0.1524371\\\\\n",
       "\\end{tabular}\n"
      ],
      "text/markdown": [
       "\n",
       "A scanone: 3 × 3\n",
       "\n",
       "| <!--/--> | chr &lt;fct&gt; | pos &lt;dbl&gt; | lod &lt;dbl&gt; |\n",
       "|---|---|---|---|\n",
       "| 17_1975198 | 17 | 3.267002 | 0.4518478 |\n",
       "| c17.loc4 | 17 | 4.000000 | 7.7212325 |\n",
       "| 17_2342835 | 17 | 4.358003 | 0.1524371 |\n",
       "\n"
      ],
      "text/plain": [
       "           chr pos      lod      \n",
       "17_1975198 17  3.267002 0.4518478\n",
       "c17.loc4   17  4.000000 7.7212325\n",
       "17_2342835 17  4.358003 0.1524371"
      ]
     },
     "metadata": {},
     "output_type": "display_data"
    }
   ],
   "source": [
    "bayesint(TraitCIM, chr = chr, prob=0.95, expandtomarkers=TRUE) #calculate bayesian interval\n",
    "lodint(TraitCIM, chr = chr,expandtomarkers = TRUE ) #calculate LOD Support interval"
   ]
  },
  {
   "cell_type": "code",
   "execution_count": 10,
   "metadata": {},
   "outputs": [
    {
     "name": "stdin",
     "output_type": "stream",
     "text": [
      "Position for analysis:  4.00000\n"
     ]
    },
    {
     "name": "stderr",
     "output_type": "stream",
     "text": [
      "Warning message in getsex(cross):\n",
      "\"125 individuals with missing sex; assuming they're female\"\n",
      "Warning message in fitqtlengine(pheno = pheno, qtl = qtl, covar = covar, formula = formula, :\n",
      "\"Dropping 127 individuals with missing phenotypes.\n",
      "\"\n",
      "Warning message in getsex(cross):\n",
      "\"125 individuals with missing sex; assuming they're female\"\n"
     ]
    },
    {
     "data": {
      "text/plain": [
       "\n",
       "\t\tfitqtl summary\n",
       "\n",
       "Method: Haley-Knott regression \n",
       "Model:  normal phenotype\n",
       "Number of observations : 167 \n",
       "\n",
       "Full model result\n",
       "----------------------------------  \n",
       "Model formula: y ~ Q1 \n",
       "\n",
       "       df        SS         MS      LOD     %var Pvalue(Chi2)    Pvalue(F)\n",
       "Model   1  33.17847 33.1784692 8.116554 20.05418 9.730808e-10 1.295002e-09\n",
       "Error 165 132.26569  0.8016102                                            \n",
       "Total 166 165.44416                                                       \n",
       "\n",
       "\n",
       "Estimated effects:\n",
       "-----------------\n",
       "               est       SE      t\n",
       "Intercept  0.73709  0.06947 10.610\n",
       "17@4.0    -6.26271  0.97345 -6.433\n"
      ]
     },
     "metadata": {},
     "output_type": "display_data"
    }
   ],
   "source": [
    "p <- as.numeric(readline(\"Position for analysis: \"))\n",
    "qtl <- makeqtl(Map, chr = chr, pos = p, what=\"prob\") #pulls genotype probabilities\n",
    "fitqtl <- fitqtl(Map, pheno.col=colNum, qtl = qtl, covar=NULL,\n",
    "       method= \"hk\",model=\"normal\",\n",
    "       dropone=TRUE, get.ests=TRUE,run.checks=TRUE,\n",
    "       tol=1e-4, maxit=1000, forceXcovar=FALSE) #sees how well our data fits a given formula \n",
    "          # If you see \"error: object of type 'closure' is not subsettable\", remove \"formula,\" from the fitqtl argument list.\n",
    "summary(fitqtl) #Print results of the analysis"
   ]
  },
  {
   "cell_type": "code",
   "execution_count": 10,
   "metadata": {},
   "outputs": [
    {
     "name": "stdout",
     "output_type": "stream",
     "text": [
      "[1] \"Make sure to input names AS THEY APPEAR on the csv!!\"\n"
     ]
    },
    {
     "name": "stdin",
     "output_type": "stream",
     "text": [
      "Enter file name (Either FemaleMap.csv or MaleMap.csv):  MaleMap.csv\n",
      "First Genotype (homozygous) (For example ll):  nn\n",
      "Second Genotype (heterozygous) (for example lm):  np\n",
      "Column Number:  17\n"
     ]
    }
   ],
   "source": [
    "#Collecting enviroment variables\n",
    "print(\"Make sure to input names AS THEY APPEAR on the csv!!\") #Just a user warning\n",
    "fileName <- readline(\"Enter file name (Either FemaleMap.csv or MaleMap.csv): \") #Mapping table file\n",
    "genotypeName <- c(readline(\"First Genotype (homozygous) (For example ll): \"),\n",
    "                  readline(\"Second Genotype (heterozygous) (for example lm): \")) #For example \"nn\", \"np\"\n",
    "alleleName <- c(substr(genotypeName[2],1,1) ,substr(genotypeName[2],2,2))\n",
    "naNames <- c(\"NA\",\"--\") #For example \"NA\", \"--\"\n",
    "colNum <- as.numeric(readline(\"Column Number: \")) #Column for pheno of interest"
   ]
  },
  {
   "cell_type": "code",
   "execution_count": 11,
   "metadata": {},
   "outputs": [
    {
     "name": "stdout",
     "output_type": "stream",
     "text": [
      " --Read the following data:\n",
      "\t 294  individuals\n",
      "\t 1128  markers\n",
      "\t 38  phenotypes\n"
     ]
    },
    {
     "name": "stderr",
     "output_type": "stream",
     "text": [
      "Warning message in summary.cross(cross):\n",
      "\"Some markers at the same position on chr 1,3,4,5,6,7,8,9,10,12,13,14,15,16,17,18,19; use jittermap().\"\n"
     ]
    },
    {
     "name": "stdout",
     "output_type": "stream",
     "text": [
      " --Cross type: bc \n"
     ]
    },
    {
     "data": {
      "image/png": "[encoded data removed]",
      "text/plain": [
       "Plot with title \"Genetic map\""
      ]
     },
     "metadata": {
      "image/png": {
       "height": 420,
       "width": 420
      }
     },
     "output_type": "display_data"
    }
   ],
   "source": [
    "#Map generation\n",
    "Map <- read.cross(format = 'csv',file = fileName \n",
    "                  ,genotypes = genotypeName,\n",
    "                  alleles = alleleName,na.strings = naNames) #generate linkage map\n",
    "Map <- jittermap(Map) #make sure no markers are in the same location\n",
    "Map <- calc.genoprob(Map,step = 1,map.function = \"kosambi\") #associate markers with full genotypes\n",
    "plot.map(Map) #draw linkage map"
   ]
  },
  {
   "cell_type": "code",
   "execution_count": 12,
   "metadata": {},
   "outputs": [
    {
     "data": {
      "image/png": "[encoded data removed]",
      "text/plain": [
       "Plot with title \"\""
      ]
     },
     "metadata": {
      "image/png": {
       "height": 420,
       "width": 420
      }
     },
     "output_type": "display_data"
    }
   ],
   "source": [
    "plotNormalHistogram(Map$pheno[,colNum]) #normal histogram of pheno of interest"
   ]
  },
  {
   "cell_type": "markdown",
   "metadata": {},
   "source": [
    "Outliers exist in this data. "
   ]
  },
  {
   "cell_type": "code",
   "execution_count": null,
   "metadata": {},
   "outputs": [],
   "source": [
    "#Compute statistically significant values\n",
    "TraitCIM1000 <- cim(Map,pheno.col = colNum,method = \"hk\",\n",
    "                    map.function = \"kosambi\",n.perm = 1000) # Function will take a moment to run, determines LOD value\n",
    "plot(TraitCIM1000,col = 'green') #show distribution of lod scores\n",
    "LOD5 <- summary(TraitCIM1000)[1]\n",
    "LOD5"
   ]
  },
  {
   "cell_type": "code",
   "execution_count": 14,
   "metadata": {},
   "outputs": [
    {
     "name": "stdout",
     "output_type": "stream",
     "text": [
      "[1] \"If nothing shows up, the values \\n      are below the LOD5 score\"\n"
     ]
    },
    {
     "data": {
      "text/html": [
       "<table>\n",
       "<caption>A summary.scanone: 19 × 3</caption>\n",
       "<thead>\n",
       "\t<tr><th></th><th scope=col>chr</th><th scope=col>pos</th><th scope=col>lod</th></tr>\n",
       "\t<tr><th></th><th scope=col>&lt;fct&gt;</th><th scope=col>&lt;dbl&gt;</th><th scope=col>&lt;dbl&gt;</th></tr>\n",
       "</thead>\n",
       "<tbody>\n",
       "\t<tr><th scope=row>c1.loc46</th><td>1 </td><td> 46.000000</td><td>2.0146701</td></tr>\n",
       "\t<tr><th scope=row>c2.loc70</th><td>2 </td><td> 70.000000</td><td>1.8786804</td></tr>\n",
       "\t<tr><th scope=row>3_969615</th><td>3 </td><td>  4.718006</td><td>0.8293628</td></tr>\n",
       "\t<tr><th scope=row>12_9215138</th><td>4 </td><td> 44.595031</td><td>1.2872498</td></tr>\n",
       "\t<tr><th scope=row>5_23031683</th><td>5 </td><td> 72.299046</td><td>0.7731940</td></tr>\n",
       "\t<tr><th scope=row>c6.loc16</th><td>6 </td><td> 16.000000</td><td>0.7560138</td></tr>\n",
       "\t<tr><th scope=row>7_18819915</th><td>7 </td><td> 71.089063</td><td>1.4834079</td></tr>\n",
       "\t<tr><th scope=row>8_4284131</th><td>8 </td><td> 19.111008</td><td>3.4281295</td></tr>\n",
       "\t<tr><th scope=row>c9.loc63</th><td>9 </td><td> 63.000000</td><td>0.6000596</td></tr>\n",
       "\t<tr><th scope=row>10_23324430</th><td>10</td><td> 80.366032</td><td>1.0759404</td></tr>\n",
       "\t<tr><th scope=row>c11.loc30</th><td>11</td><td> 30.000000</td><td>0.8809260</td></tr>\n",
       "\t<tr><th scope=row>12_6460434</th><td>12</td><td> 28.106022</td><td>1.1650188</td></tr>\n",
       "\t<tr><th scope=row>c13.loc33</th><td>13</td><td> 33.000000</td><td>1.1202527</td></tr>\n",
       "\t<tr><th scope=row>c14.loc7</th><td>14</td><td>  7.000000</td><td>0.2728340</td></tr>\n",
       "\t<tr><th scope=row>c15.loc11</th><td>15</td><td> 11.000000</td><td>1.5928021</td></tr>\n",
       "\t<tr><th scope=row>c16.loc22</th><td>16</td><td> 22.000000</td><td>3.6779812</td></tr>\n",
       "\t<tr><th scope=row>c17.loc22</th><td>17</td><td> 22.000000</td><td>3.3287270</td></tr>\n",
       "\t<tr><th scope=row>5_4316098</th><td>18</td><td>101.797054</td><td>1.5320743</td></tr>\n",
       "\t<tr><th scope=row>19_2291878</th><td>19</td><td>  7.515007</td><td>1.0192283</td></tr>\n",
       "</tbody>\n",
       "</table>\n"
      ],
      "text/latex": [
       "A summary.scanone: 19 × 3\n",
       "\\begin{tabular}{r|lll}\n",
       "  & chr & pos & lod\\\\\n",
       "  & <fct> & <dbl> & <dbl>\\\\\n",
       "\\hline\n",
       "\tc1.loc46 & 1  &  46.000000 & 2.0146701\\\\\n",
       "\tc2.loc70 & 2  &  70.000000 & 1.8786804\\\\\n",
       "\t3\\_969615 & 3  &   4.718006 & 0.8293628\\\\\n",
       "\t12\\_9215138 & 4  &  44.595031 & 1.2872498\\\\\n",
       "\t5\\_23031683 & 5  &  72.299046 & 0.7731940\\\\\n",
       "\tc6.loc16 & 6  &  16.000000 & 0.7560138\\\\\n",
       "\t7\\_18819915 & 7  &  71.089063 & 1.4834079\\\\\n",
       "\t8\\_4284131 & 8  &  19.111008 & 3.4281295\\\\\n",
       "\tc9.loc63 & 9  &  63.000000 & 0.6000596\\\\\n",
       "\t10\\_23324430 & 10 &  80.366032 & 1.0759404\\\\\n",
       "\tc11.loc30 & 11 &  30.000000 & 0.8809260\\\\\n",
       "\t12\\_6460434 & 12 &  28.106022 & 1.1650188\\\\\n",
       "\tc13.loc33 & 13 &  33.000000 & 1.1202527\\\\\n",
       "\tc14.loc7 & 14 &   7.000000 & 0.2728340\\\\\n",
       "\tc15.loc11 & 15 &  11.000000 & 1.5928021\\\\\n",
       "\tc16.loc22 & 16 &  22.000000 & 3.6779812\\\\\n",
       "\tc17.loc22 & 17 &  22.000000 & 3.3287270\\\\\n",
       "\t5\\_4316098 & 18 & 101.797054 & 1.5320743\\\\\n",
       "\t19\\_2291878 & 19 &   7.515007 & 1.0192283\\\\\n",
       "\\end{tabular}\n"
      ],
      "text/markdown": [
       "\n",
       "A summary.scanone: 19 × 3\n",
       "\n",
       "| <!--/--> | chr &lt;fct&gt; | pos &lt;dbl&gt; | lod &lt;dbl&gt; |\n",
       "|---|---|---|---|\n",
       "| c1.loc46 | 1  |  46.000000 | 2.0146701 |\n",
       "| c2.loc70 | 2  |  70.000000 | 1.8786804 |\n",
       "| 3_969615 | 3  |   4.718006 | 0.8293628 |\n",
       "| 12_9215138 | 4  |  44.595031 | 1.2872498 |\n",
       "| 5_23031683 | 5  |  72.299046 | 0.7731940 |\n",
       "| c6.loc16 | 6  |  16.000000 | 0.7560138 |\n",
       "| 7_18819915 | 7  |  71.089063 | 1.4834079 |\n",
       "| 8_4284131 | 8  |  19.111008 | 3.4281295 |\n",
       "| c9.loc63 | 9  |  63.000000 | 0.6000596 |\n",
       "| 10_23324430 | 10 |  80.366032 | 1.0759404 |\n",
       "| c11.loc30 | 11 |  30.000000 | 0.8809260 |\n",
       "| 12_6460434 | 12 |  28.106022 | 1.1650188 |\n",
       "| c13.loc33 | 13 |  33.000000 | 1.1202527 |\n",
       "| c14.loc7 | 14 |   7.000000 | 0.2728340 |\n",
       "| c15.loc11 | 15 |  11.000000 | 1.5928021 |\n",
       "| c16.loc22 | 16 |  22.000000 | 3.6779812 |\n",
       "| c17.loc22 | 17 |  22.000000 | 3.3287270 |\n",
       "| 5_4316098 | 18 | 101.797054 | 1.5320743 |\n",
       "| 19_2291878 | 19 |   7.515007 | 1.0192283 |\n",
       "\n"
      ],
      "text/plain": [
       "            chr pos        lod      \n",
       "c1.loc46    1    46.000000 2.0146701\n",
       "c2.loc70    2    70.000000 1.8786804\n",
       "3_969615    3     4.718006 0.8293628\n",
       "12_9215138  4    44.595031 1.2872498\n",
       "5_23031683  5    72.299046 0.7731940\n",
       "c6.loc16    6    16.000000 0.7560138\n",
       "7_18819915  7    71.089063 1.4834079\n",
       "8_4284131   8    19.111008 3.4281295\n",
       "c9.loc63    9    63.000000 0.6000596\n",
       "10_23324430 10   80.366032 1.0759404\n",
       "c11.loc30   11   30.000000 0.8809260\n",
       "12_6460434  12   28.106022 1.1650188\n",
       "c13.loc33   13   33.000000 1.1202527\n",
       "c14.loc7    14    7.000000 0.2728340\n",
       "c15.loc11   15   11.000000 1.5928021\n",
       "c16.loc22   16   22.000000 3.6779812\n",
       "c17.loc22   17   22.000000 3.3287270\n",
       "5_4316098   18  101.797054 1.5320743\n",
       "19_2291878  19    7.515007 1.0192283"
      ]
     },
     "metadata": {},
     "output_type": "display_data"
    },
    {
     "data": {
      "image/png": "[encoded data removed]",
      "text/plain": [
       "plot without title"
      ]
     },
     "metadata": {
      "image/png": {
       "height": 420,
       "width": 420
      }
     },
     "output_type": "display_data"
    }
   ],
   "source": [
    "#Deterime LOD Values\n",
    "TraitCIM<-cim(Map,pheno.col = colNum,method = \"hk\",\n",
    "              map.function = \"kosambi\") #Generate LOD Values\n",
    "plot(TraitCIM) #show LOD graph\n",
    "abline(h = LOD5,col = \"blue\") #overlay statistically significant line\n",
    "print(\"If nothing shows up, the values \n",
    "      are below the LOD5 score\") #warning for no peaks\n",
    "summary(TraitCIM)"
   ]
  }
 ],
 "metadata": {
  "kernelspec": {
   "display_name": "R",
   "language": "R",
   "name": "ir"
  },
  "language_info": {
   "codemirror_mode": "r",
   "file_extension": ".r",
   "mimetype": "text/x-r-source",
   "name": "R",
   "pygments_lexer": "r",
   "version": "3.6.3"
  }
 },
 "nbformat": 4,
 "nbformat_minor": 4
}
