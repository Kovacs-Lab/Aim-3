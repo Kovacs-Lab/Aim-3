{
 "cells": [
  {
   "cell_type": "markdown",
   "metadata": {},
   "source": [
    "This analysis is in the order of Female then Male"
   ]
  },
  {
   "cell_type": "code",
   "execution_count": 5,
   "metadata": {},
   "outputs": [
    {
     "name": "stderr",
     "output_type": "stream",
     "text": [
      "Warning message in install.packages(\"qtl\"):\n",
      "\"'lib = \"C:/Program Files/R/R-3.6.1/library\"' is not writable\"\n"
     ]
    },
    {
     "ename": "ERROR",
     "evalue": "Error in install.packages(\"qtl\"): unable to install packages\n",
     "output_type": "error",
     "traceback": [
      "Error in install.packages(\"qtl\"): unable to install packages\nTraceback:\n",
      "1. install.packages(\"qtl\")",
      "2. stop(\"unable to install packages\")"
     ]
    }
   ],
   "source": [
    "install.packages('qtl') #Main package, for analysis\n",
    "install.packages('qtlcharts') #accessory, for displaying graphs\n",
    "install.packages('LinkageMapView') #accessory, for displaying linkage maps\n",
    "install.packages('rcompanion')# for plotNormalHistogram"
   ]
  },
  {
   "cell_type": "code",
   "execution_count": 1,
   "metadata": {},
   "outputs": [
    {
     "name": "stderr",
     "output_type": "stream",
     "text": [
      "Warning message:\n",
      "\"package 'qtl' was built under R version 3.6.2\"\n",
      "Warning message:\n",
      "\"package 'qtlcharts' was built under R version 3.6.2\"\n",
      "Warning message:\n",
      "\"package 'LinkageMapView' was built under R version 3.6.2\"\n",
      "Warning message:\n",
      "\"package 'rcompanion' was built under R version 3.6.2\"\n"
     ]
    }
   ],
   "source": [
    "library(qtl) #load packages\n",
    "library(qtlcharts)\n",
    "library(LinkageMapView)\n",
    "library(rcompanion)"
   ]
  },
  {
   "cell_type": "code",
   "execution_count": 2,
   "metadata": {},
   "outputs": [
    {
     "name": "stdout",
     "output_type": "stream",
     "text": [
      "[1] \"Make sure to input names AS THEY APPEAR on the csv!!\"\n"
     ]
    },
    {
     "name": "stdin",
     "output_type": "stream",
     "text": [
      "Enter file name (Either FemaleMap.csv or MaleMap.csv):  FemaleMap.csv\n",
      "First Genotype (homozygous) (For example ll):  ll\n",
      "Second Genotype (heterozygous) (for example lm):  lm\n",
      "Column Number:  17\n"
     ]
    }
   ],
   "source": [
    "#Collecting enviroment variables\n",
    "print(\"Make sure to input names AS THEY APPEAR on the csv!!\") #Just a user warning\n",
    "fileName <- readline(\"Enter file name (Either FemaleMap.csv or MaleMap.csv): \") #Mapping table file\n",
    "genotypeName <- c(readline(\"First Genotype (homozygous) (For example ll): \"),\n",
    "                  readline(\"Second Genotype (heterozygous) (for example lm): \")) #For example \"nn\", \"np\"\n",
    "alleleName <- c(substr(genotypeName[2],1,1) ,substr(genotypeName[2],2,2))\n",
    "naNames <- c(\"NA\",\"--\") #For example \"NA\", \"--\"\n",
    "colNum <- as.numeric(readline(\"Column Number: \")) #Column for pheno of interest"
   ]
  },
  {
   "cell_type": "code",
   "execution_count": 3,
   "metadata": {},
   "outputs": [
    {
     "name": "stdout",
     "output_type": "stream",
     "text": [
      " --Read the following data:\n",
      "\t 294  individuals\n",
      "\t 1100  markers\n",
      "\t 38  phenotypes\n"
     ]
    },
    {
     "name": "stderr",
     "output_type": "stream",
     "text": [
      "Warning message in summary.cross(cross):\n",
      "\"Some markers at the same position on chr 1,2,4,5,7,8,9,10,11,12,13,14,16,17,18,19; use jittermap().\"\n"
     ]
    },
    {
     "name": "stdout",
     "output_type": "stream",
     "text": [
      " --Cross type: bc \n"
     ]
    },
    {
     "data": {
      "image/png": "[encoded data removed]",
      "text/plain": [
       "Plot with title \"Genetic map\""
      ]
     },
     "metadata": {
      "image/png": {
       "height": 420,
       "width": 420
      }
     },
     "output_type": "display_data"
    }
   ],
   "source": [
    "#Map generation\n",
    "Map <- read.cross(format = 'csv',file = fileName \n",
    "                  ,genotypes = genotypeName,\n",
    "                  alleles = alleleName,na.strings = naNames) #generate linkage map\n",
    "Map <- jittermap(Map) #make sure no markers are in the same location\n",
    "Map <- calc.genoprob(Map,step = 1,map.function = \"kosambi\") #associate markers with full genotypes\n",
    "plot.map(Map) #draw linkage map"
   ]
  },
  {
   "cell_type": "code",
   "execution_count": 4,
   "metadata": {},
   "outputs": [
    {
     "data": {
      "image/png": "[encoded data removed]",
      "text/plain": [
       "Plot with title \"\""
      ]
     },
     "metadata": {
      "image/png": {
       "height": 420,
       "width": 420
      }
     },
     "output_type": "display_data"
    }
   ],
   "source": [
    "plotNormalHistogram(Map$pheno[,colNum]) #normal histogram of pheno of interest"
   ]
  },
  {
   "cell_type": "markdown",
   "metadata": {},
   "source": [
    "Outliers exist in this dataset. Will need to be analyized. "
   ]
  },
  {
   "cell_type": "code",
   "execution_count": 5,
   "metadata": {},
   "outputs": [
    {
     "name": "stderr",
     "output_type": "stream",
     "text": [
      "Warning message in checkcovar(cross, pheno.col, addcovar, intcovar, perm.strata, :\n",
      "\"addcovar appears to be over-specified; consider dropping columns.\n",
      "\"\n",
      "Warning message in checkcovar(cross, pheno.col, addcovar, intcovar, perm.strata, :\n",
      "\"addcovar appears to be over-specified; consider dropping columns.\n",
      "\"\n"
     ]
    },
    {
     "data": {
      "image/png": "[encoded data removed]",
      "text/plain": [
       "Plot with title \"\""
      ]
     },
     "metadata": {
      "image/png": {
       "height": 420,
       "width": 420
      }
     },
     "output_type": "display_data"
    }
   ],
   "source": [
    "#Compute statistically significant values\n",
    "TraitCIM1000 <- cim(Map,pheno.col = colNum,method = \"hk\",\n",
    "                    map.function = \"kosambi\",n.perm = 1000) # Function will take a moment to run, determines LOD value\n",
    "plot(TraitCIM1000,col = 'green') #show distribution of lod scores\n",
    "LOD5 <- summary(TraitCIM1000)[1]"
   ]
  },
  {
   "cell_type": "code",
   "execution_count": 6,
   "metadata": {},
   "outputs": [
    {
     "name": "stdout",
     "output_type": "stream",
     "text": [
      "[1] \"If nothing shows up, the values \\n      are below the LOD5 score\"\n"
     ]
    },
    {
     "data": {
      "text/html": [
       "<table>\n",
       "<caption>A summary.scanone: 19 × 3</caption>\n",
       "<thead>\n",
       "\t<tr><th></th><th scope=col>chr</th><th scope=col>pos</th><th scope=col>lod</th></tr>\n",
       "\t<tr><th></th><th scope=col>&lt;fct&gt;</th><th scope=col>&lt;dbl&gt;</th><th scope=col>&lt;dbl&gt;</th></tr>\n",
       "</thead>\n",
       "<tbody>\n",
       "\t<tr><th scope=row>7_7311056</th><td>1 </td><td>33.364022</td><td>1.0884303</td></tr>\n",
       "\t<tr><th scope=row>2_5186881</th><td>2 </td><td>46.031020</td><td>0.5800625</td></tr>\n",
       "\t<tr><th scope=row>c3.loc7</th><td>3 </td><td> 7.000000</td><td>1.3293246</td></tr>\n",
       "\t<tr><th scope=row>4_19442596</th><td>4 </td><td>53.485049</td><td>2.2129405</td></tr>\n",
       "\t<tr><th scope=row>5_7648545</th><td>5 </td><td>37.038025</td><td>0.6324650</td></tr>\n",
       "\t<tr><th scope=row>6_15944134</th><td>6 </td><td>42.597020</td><td>1.0034409</td></tr>\n",
       "\t<tr><th scope=row>c7.loc8</th><td>7 </td><td> 8.000000</td><td>0.4983146</td></tr>\n",
       "\t<tr><th scope=row>c8.loc60</th><td>8 </td><td>60.000000</td><td>1.4491065</td></tr>\n",
       "\t<tr><th scope=row>9_13407438</th><td>9 </td><td>50.029053</td><td>1.3075162</td></tr>\n",
       "\t<tr><th scope=row>c10.loc40</th><td>10</td><td>40.000000</td><td>0.4721549</td></tr>\n",
       "\t<tr><th scope=row>c11.loc49</th><td>11</td><td>49.000000</td><td>1.5569288</td></tr>\n",
       "\t<tr><th scope=row>c12.loc54</th><td>12</td><td>54.000000</td><td>1.3195872</td></tr>\n",
       "\t<tr><th scope=row>c13.loc8</th><td>13</td><td> 8.000000</td><td>1.8384940</td></tr>\n",
       "\t<tr><th scope=row>14_2427325</th><td>14</td><td>14.074002</td><td>0.7764601</td></tr>\n",
       "\t<tr><th scope=row>c15.loc1</th><td>15</td><td> 1.000000</td><td>1.6712498</td></tr>\n",
       "\t<tr><th scope=row>16_1261805</th><td>16</td><td> 3.022002</td><td>0.5137128</td></tr>\n",
       "\t<tr><th scope=row>c17.loc4</th><td>17</td><td> 4.000000</td><td>6.8700192</td></tr>\n",
       "\t<tr><th scope=row>c18.loc64</th><td>18</td><td>64.000000</td><td>2.1789689</td></tr>\n",
       "\t<tr><th scope=row>c19.loc11</th><td>19</td><td>11.000000</td><td>1.0205388</td></tr>\n",
       "</tbody>\n",
       "</table>\n"
      ],
      "text/latex": [
       "A summary.scanone: 19 × 3\n",
       "\\begin{tabular}{r|lll}\n",
       "  & chr & pos & lod\\\\\n",
       "  & <fct> & <dbl> & <dbl>\\\\\n",
       "\\hline\n",
       "\t7\\_7311056 & 1  & 33.364022 & 1.0884303\\\\\n",
       "\t2\\_5186881 & 2  & 46.031020 & 0.5800625\\\\\n",
       "\tc3.loc7 & 3  &  7.000000 & 1.3293246\\\\\n",
       "\t4\\_19442596 & 4  & 53.485049 & 2.2129405\\\\\n",
       "\t5\\_7648545 & 5  & 37.038025 & 0.6324650\\\\\n",
       "\t6\\_15944134 & 6  & 42.597020 & 1.0034409\\\\\n",
       "\tc7.loc8 & 7  &  8.000000 & 0.4983146\\\\\n",
       "\tc8.loc60 & 8  & 60.000000 & 1.4491065\\\\\n",
       "\t9\\_13407438 & 9  & 50.029053 & 1.3075162\\\\\n",
       "\tc10.loc40 & 10 & 40.000000 & 0.4721549\\\\\n",
       "\tc11.loc49 & 11 & 49.000000 & 1.5569288\\\\\n",
       "\tc12.loc54 & 12 & 54.000000 & 1.3195872\\\\\n",
       "\tc13.loc8 & 13 &  8.000000 & 1.8384940\\\\\n",
       "\t14\\_2427325 & 14 & 14.074002 & 0.7764601\\\\\n",
       "\tc15.loc1 & 15 &  1.000000 & 1.6712498\\\\\n",
       "\t16\\_1261805 & 16 &  3.022002 & 0.5137128\\\\\n",
       "\tc17.loc4 & 17 &  4.000000 & 6.8700192\\\\\n",
       "\tc18.loc64 & 18 & 64.000000 & 2.1789689\\\\\n",
       "\tc19.loc11 & 19 & 11.000000 & 1.0205388\\\\\n",
       "\\end{tabular}\n"
      ],
      "text/markdown": [
       "\n",
       "A summary.scanone: 19 × 3\n",
       "\n",
       "| <!--/--> | chr &lt;fct&gt; | pos &lt;dbl&gt; | lod &lt;dbl&gt; |\n",
       "|---|---|---|---|\n",
       "| 7_7311056 | 1  | 33.364022 | 1.0884303 |\n",
       "| 2_5186881 | 2  | 46.031020 | 0.5800625 |\n",
       "| c3.loc7 | 3  |  7.000000 | 1.3293246 |\n",
       "| 4_19442596 | 4  | 53.485049 | 2.2129405 |\n",
       "| 5_7648545 | 5  | 37.038025 | 0.6324650 |\n",
       "| 6_15944134 | 6  | 42.597020 | 1.0034409 |\n",
       "| c7.loc8 | 7  |  8.000000 | 0.4983146 |\n",
       "| c8.loc60 | 8  | 60.000000 | 1.4491065 |\n",
       "| 9_13407438 | 9  | 50.029053 | 1.3075162 |\n",
       "| c10.loc40 | 10 | 40.000000 | 0.4721549 |\n",
       "| c11.loc49 | 11 | 49.000000 | 1.5569288 |\n",
       "| c12.loc54 | 12 | 54.000000 | 1.3195872 |\n",
       "| c13.loc8 | 13 |  8.000000 | 1.8384940 |\n",
       "| 14_2427325 | 14 | 14.074002 | 0.7764601 |\n",
       "| c15.loc1 | 15 |  1.000000 | 1.6712498 |\n",
       "| 16_1261805 | 16 |  3.022002 | 0.5137128 |\n",
       "| c17.loc4 | 17 |  4.000000 | 6.8700192 |\n",
       "| c18.loc64 | 18 | 64.000000 | 2.1789689 |\n",
       "| c19.loc11 | 19 | 11.000000 | 1.0205388 |\n",
       "\n"
      ],
      "text/plain": [
       "           chr pos       lod      \n",
       "7_7311056  1   33.364022 1.0884303\n",
       "2_5186881  2   46.031020 0.5800625\n",
       "c3.loc7    3    7.000000 1.3293246\n",
       "4_19442596 4   53.485049 2.2129405\n",
       "5_7648545  5   37.038025 0.6324650\n",
       "6_15944134 6   42.597020 1.0034409\n",
       "c7.loc8    7    8.000000 0.4983146\n",
       "c8.loc60   8   60.000000 1.4491065\n",
       "9_13407438 9   50.029053 1.3075162\n",
       "c10.loc40  10  40.000000 0.4721549\n",
       "c11.loc49  11  49.000000 1.5569288\n",
       "c12.loc54  12  54.000000 1.3195872\n",
       "c13.loc8   13   8.000000 1.8384940\n",
       "14_2427325 14  14.074002 0.7764601\n",
       "c15.loc1   15   1.000000 1.6712498\n",
       "16_1261805 16   3.022002 0.5137128\n",
       "c17.loc4   17   4.000000 6.8700192\n",
       "c18.loc64  18  64.000000 2.1789689\n",
       "c19.loc11  19  11.000000 1.0205388"
      ]
     },
     "metadata": {},
     "output_type": "display_data"
    },
    {
     "data": {
      "image/png": "[encoded data removed]",
      "text/plain": [
       "plot without title"
      ]
     },
     "metadata": {
      "image/png": {
       "height": 420,
       "width": 420
      }
     },
     "output_type": "display_data"
    }
   ],
   "source": [
    "#Deterime LOD Values\n",
    "TraitCIM<-cim(Map,pheno.col = colNum,method = \"hk\",\n",
    "              map.function = \"kosambi\") #Generate LOD Values\n",
    "plot(TraitCIM) #show LOD graph\n",
    "abline(h = LOD5,col = \"blue\") #overlay statistically significant line\n",
    "print(\"If nothing shows up, the values \n",
    "      are below the LOD5 score\") #warning for no peaks\n",
    "summary(TraitCIM)"
   ]
  },
  {
   "cell_type": "code",
   "execution_count": 7,
   "metadata": {},
   "outputs": [
    {
     "name": "stdin",
     "output_type": "stream",
     "text": [
      "Chromosome?  17\n",
      "Would you like to investigate \n",
      "                  another chromosome? (Y/N):  N\n"
     ]
    },
    {
     "data": {
      "image/png": "[encoded data removed]",
      "text/plain": [
       "plot without title"
      ]
     },
     "metadata": {
      "image/png": {
       "height": 420,
       "width": 420
      }
     },
     "output_type": "display_data"
    }
   ],
   "source": [
    "#Chromosomal Analysis\n",
    "cont = 'Y' #Run loop on first run through\n",
    "while(cont == 'Y'){\n",
    "  chr <- as.numeric(readline(\"Chromosome? \")) #collect chromosome to look at\n",
    "  plot(TraitCIM, chr = chr) #Plot chr LOD scores\n",
    "  abline(h = LOD5, col = \"blue\") #Statistically Significant\n",
    "  cont = readline(\"Would you like to investigate \n",
    "                  another chromosome? (Y/N): \") #Y if multiple\n",
    "                  #chromosomes are to be investigated\n",
    "}"
   ]
  },
  {
   "cell_type": "code",
   "execution_count": 8,
   "metadata": {},
   "outputs": [
    {
     "data": {
      "text/html": [
       "<table>\n",
       "<caption>A scanone: 3 × 3</caption>\n",
       "<thead>\n",
       "\t<tr><th></th><th scope=col>chr</th><th scope=col>pos</th><th scope=col>lod</th></tr>\n",
       "\t<tr><th></th><th scope=col>&lt;fct&gt;</th><th scope=col>&lt;dbl&gt;</th><th scope=col>&lt;dbl&gt;</th></tr>\n",
       "</thead>\n",
       "<tbody>\n",
       "\t<tr><th scope=row>17_1417093</th><td>17</td><td> 0.00000</td><td>0.002572613</td></tr>\n",
       "\t<tr><th scope=row>c17.loc37</th><td>17</td><td>37.00000</td><td>1.010229910</td></tr>\n",
       "\t<tr><th scope=row>17_10144636</th><td>17</td><td>63.31204</td><td>0.001883870</td></tr>\n",
       "</tbody>\n",
       "</table>\n"
      ],
      "text/latex": [
       "A scanone: 3 × 3\n",
       "\\begin{tabular}{r|lll}\n",
       "  & chr & pos & lod\\\\\n",
       "  & <fct> & <dbl> & <dbl>\\\\\n",
       "\\hline\n",
       "\t17\\_1417093 & 17 &  0.00000 & 0.002572613\\\\\n",
       "\tc17.loc37 & 17 & 37.00000 & 1.010229910\\\\\n",
       "\t17\\_10144636 & 17 & 63.31204 & 0.001883870\\\\\n",
       "\\end{tabular}\n"
      ],
      "text/markdown": [
       "\n",
       "A scanone: 3 × 3\n",
       "\n",
       "| <!--/--> | chr &lt;fct&gt; | pos &lt;dbl&gt; | lod &lt;dbl&gt; |\n",
       "|---|---|---|---|\n",
       "| 17_1417093 | 17 |  0.00000 | 0.002572613 |\n",
       "| c17.loc37 | 17 | 37.00000 | 1.010229910 |\n",
       "| 17_10144636 | 17 | 63.31204 | 0.001883870 |\n",
       "\n"
      ],
      "text/plain": [
       "            chr pos      lod        \n",
       "17_1417093  17   0.00000 0.002572613\n",
       "c17.loc37   17  37.00000 1.010229910\n",
       "17_10144636 17  63.31204 0.001883870"
      ]
     },
     "metadata": {},
     "output_type": "display_data"
    },
    {
     "data": {
      "text/html": [
       "<table>\n",
       "<caption>A scanone: 3 × 3</caption>\n",
       "<thead>\n",
       "\t<tr><th></th><th scope=col>chr</th><th scope=col>pos</th><th scope=col>lod</th></tr>\n",
       "\t<tr><th></th><th scope=col>&lt;fct&gt;</th><th scope=col>&lt;dbl&gt;</th><th scope=col>&lt;dbl&gt;</th></tr>\n",
       "</thead>\n",
       "<tbody>\n",
       "\t<tr><th scope=row>17_1417093</th><td>17</td><td> 0.00000</td><td>0.002572613</td></tr>\n",
       "\t<tr><th scope=row>c17.loc37</th><td>17</td><td>37.00000</td><td>1.010229910</td></tr>\n",
       "\t<tr><th scope=row>17_10144636</th><td>17</td><td>63.31204</td><td>0.001883870</td></tr>\n",
       "</tbody>\n",
       "</table>\n"
      ],
      "text/latex": [
       "A scanone: 3 × 3\n",
       "\\begin{tabular}{r|lll}\n",
       "  & chr & pos & lod\\\\\n",
       "  & <fct> & <dbl> & <dbl>\\\\\n",
       "\\hline\n",
       "\t17\\_1417093 & 17 &  0.00000 & 0.002572613\\\\\n",
       "\tc17.loc37 & 17 & 37.00000 & 1.010229910\\\\\n",
       "\t17\\_10144636 & 17 & 63.31204 & 0.001883870\\\\\n",
       "\\end{tabular}\n"
      ],
      "text/markdown": [
       "\n",
       "A scanone: 3 × 3\n",
       "\n",
       "| <!--/--> | chr &lt;fct&gt; | pos &lt;dbl&gt; | lod &lt;dbl&gt; |\n",
       "|---|---|---|---|\n",
       "| 17_1417093 | 17 |  0.00000 | 0.002572613 |\n",
       "| c17.loc37 | 17 | 37.00000 | 1.010229910 |\n",
       "| 17_10144636 | 17 | 63.31204 | 0.001883870 |\n",
       "\n"
      ],
      "text/plain": [
       "            chr pos      lod        \n",
       "17_1417093  17   0.00000 0.002572613\n",
       "c17.loc37   17  37.00000 1.010229910\n",
       "17_10144636 17  63.31204 0.001883870"
      ]
     },
     "metadata": {},
     "output_type": "display_data"
    }
   ],
   "source": [
    "bay <- scanone(Map, method = 'hk') #scan genome with sQTL model\n",
    "bayesint(bay, chr = chr, prob=0.95, \n",
    "         expandtomarkers=TRUE) #calculate bayesian interval\n",
    "lodint(bay, chr = chr,expandtomarkers = TRUE ) #calculate LOD Support interval"
   ]
  },
  {
   "cell_type": "code",
   "execution_count": 9,
   "metadata": {},
   "outputs": [
    {
     "name": "stdin",
     "output_type": "stream",
     "text": [
      "Position for analysis:  4\n"
     ]
    },
    {
     "name": "stderr",
     "output_type": "stream",
     "text": [
      "Warning message in getsex(cross):\n",
      "\"125 individuals with missing sex; assuming they're female\"\n",
      "Warning message in fitqtlengine(pheno = pheno, qtl = qtl, covar = covar, formula = formula, :\n",
      "\"Dropping 127 individuals with missing phenotypes.\n",
      "\"\n",
      "Warning message in getsex(cross):\n",
      "\"125 individuals with missing sex; assuming they're female\"\n"
     ]
    },
    {
     "data": {
      "text/plain": [
       "\n",
       "\t\tfitqtl summary\n",
       "\n",
       "Method: Haley-Knott regression \n",
       "Model:  normal phenotype\n",
       "Number of observations : 167 \n",
       "\n",
       "Full model result\n",
       "----------------------------------  \n",
       "Model formula: y ~ Q1 \n",
       "\n",
       "       df        SS         MS      LOD     %var Pvalue(Chi2)    Pvalue(F)\n",
       "Model   1  33.17847 33.1784692 8.116554 20.05418 9.730808e-10 1.295002e-09\n",
       "Error 165 132.26569  0.8016102                                            \n",
       "Total 166 165.44416                                                       \n",
       "\n",
       "\n",
       "Estimated effects:\n",
       "-----------------\n",
       "               est       SE      t\n",
       "Intercept  0.73709  0.06947 10.610\n",
       "17@4.0    -6.26271  0.97345 -6.433\n"
      ]
     },
     "metadata": {},
     "output_type": "display_data"
    }
   ],
   "source": [
    "p <- as.numeric(readline(\"Position for analysis: \"))\n",
    "qtl <- makeqtl(Map, chr = chr, pos = p, what=\"prob\") #pulls genotype probabilities\n",
    "fitqtl <- fitqtl(Map, pheno.col=colNum, qtl = qtl, covar=NULL,\n",
    "       method= \"hk\",model=\"normal\",\n",
    "       dropone=TRUE, get.ests=TRUE,run.checks=TRUE,\n",
    "       tol=1e-4, maxit=1000, forceXcovar=FALSE) #sees how well our data fits a given formula \n",
    "          # If you see \"error: object of type 'closure' is not subsettable\", remove \"formula,\" from the fitqtl argument list.\n",
    "summary(fitqtl) #Print results of the analysis"
   ]
  },
  {
   "cell_type": "code",
   "execution_count": 10,
   "metadata": {},
   "outputs": [
    {
     "name": "stdout",
     "output_type": "stream",
     "text": [
      "[1] \"Make sure to input names AS THEY APPEAR on the csv!!\"\n"
     ]
    },
    {
     "name": "stdin",
     "output_type": "stream",
     "text": [
      "Enter file name (Either FemaleMap.csv or MaleMap.csv):  MaleMap.csv\n",
      "First Genotype (homozygous) (For example ll):  nn\n",
      "Second Genotype (heterozygous) (for example lm):  np\n",
      "Column Number:  17\n"
     ]
    }
   ],
   "source": [
    "#Collecting enviroment variables\n",
    "print(\"Make sure to input names AS THEY APPEAR on the csv!!\") #Just a user warning\n",
    "fileName <- readline(\"Enter file name (Either FemaleMap.csv or MaleMap.csv): \") #Mapping table file\n",
    "genotypeName <- c(readline(\"First Genotype (homozygous) (For example ll): \"),\n",
    "                  readline(\"Second Genotype (heterozygous) (for example lm): \")) #For example \"nn\", \"np\"\n",
    "alleleName <- c(substr(genotypeName[2],1,1) ,substr(genotypeName[2],2,2))\n",
    "naNames <- c(\"NA\",\"--\") #For example \"NA\", \"--\"\n",
    "colNum <- as.numeric(readline(\"Column Number: \")) #Column for pheno of interest"
   ]
  },
  {
   "cell_type": "code",
   "execution_count": 11,
   "metadata": {},
   "outputs": [
    {
     "name": "stdout",
     "output_type": "stream",
     "text": [
      " --Read the following data:\n",
      "\t 294  individuals\n",
      "\t 1128  markers\n",
      "\t 38  phenotypes\n"
     ]
    },
    {
     "name": "stderr",
     "output_type": "stream",
     "text": [
      "Warning message in summary.cross(cross):\n",
      "\"Some markers at the same position on chr 1,3,4,5,6,7,8,9,10,12,13,14,15,16,17,18,19; use jittermap().\"\n"
     ]
    },
    {
     "name": "stdout",
     "output_type": "stream",
     "text": [
      " --Cross type: bc \n"
     ]
    },
    {
     "data": {
      "image/png": "[encoded data removed]",
      "text/plain": [
       "Plot with title \"Genetic map\""
      ]
     },
     "metadata": {
      "image/png": {
       "height": 420,
       "width": 420
      }
     },
     "output_type": "display_data"
    }
   ],
   "source": [
    "#Map generation\n",
    "Map <- read.cross(format = 'csv',file = fileName \n",
    "                  ,genotypes = genotypeName,\n",
    "                  alleles = alleleName,na.strings = naNames) #generate linkage map\n",
    "Map <- jittermap(Map) #make sure no markers are in the same location\n",
    "Map <- calc.genoprob(Map,step = 1,map.function = \"kosambi\") #associate markers with full genotypes\n",
    "plot.map(Map) #draw linkage map"
   ]
  },
  {
   "cell_type": "code",
   "execution_count": 12,
   "metadata": {},
   "outputs": [
    {
     "data": {
      "image/png": "[encoded data removed]",
      "text/plain": [
       "Plot with title \"\""
      ]
     },
     "metadata": {
      "image/png": {
       "height": 420,
       "width": 420
      }
     },
     "output_type": "display_data"
    }
   ],
   "source": [
    "plotNormalHistogram(Map$pheno[,colNum]) #normal histogram of pheno of interest"
   ]
  },
  {
   "cell_type": "markdown",
   "metadata": {},
   "source": [
    "Outliers exist in this data. "
   ]
  },
  {
   "cell_type": "code",
   "execution_count": null,
   "metadata": {},
   "outputs": [],
   "source": [
    "#Compute statistically significant values\n",
    "TraitCIM1000 <- cim(Map,pheno.col = colNum,method = \"hk\",\n",
    "                    map.function = \"kosambi\",n.perm = 1000) # Function will take a moment to run, determines LOD value\n",
    "plot(TraitCIM1000,col = 'green') #show distribution of lod scores\n",
    "LOD5 <- summary(TraitCIM1000)[1]\n",
    "LOD5"
   ]
  },
  {
   "cell_type": "code",
   "execution_count": 14,
   "metadata": {},
   "outputs": [
    {
     "name": "stdout",
     "output_type": "stream",
     "text": [
      "[1] \"If nothing shows up, the values \\n      are below the LOD5 score\"\n"
     ]
    },
    {
     "data": {
      "text/html": [
       "<table>\n",
       "<caption>A summary.scanone: 19 × 3</caption>\n",
       "<thead>\n",
       "\t<tr><th></th><th scope=col>chr</th><th scope=col>pos</th><th scope=col>lod</th></tr>\n",
       "\t<tr><th></th><th scope=col>&lt;fct&gt;</th><th scope=col>&lt;dbl&gt;</th><th scope=col>&lt;dbl&gt;</th></tr>\n",
       "</thead>\n",
       "<tbody>\n",
       "\t<tr><th scope=row>c1.loc46</th><td>1 </td><td> 46.000000</td><td>2.0146701</td></tr>\n",
       "\t<tr><th scope=row>c2.loc70</th><td>2 </td><td> 70.000000</td><td>1.8786804</td></tr>\n",
       "\t<tr><th scope=row>3_969615</th><td>3 </td><td>  4.718006</td><td>0.8293628</td></tr>\n",
       "\t<tr><th scope=row>12_9215138</th><td>4 </td><td> 44.595031</td><td>1.2872498</td></tr>\n",
       "\t<tr><th scope=row>5_23031683</th><td>5 </td><td> 72.299046</td><td>0.7731940</td></tr>\n",
       "\t<tr><th scope=row>c6.loc16</th><td>6 </td><td> 16.000000</td><td>0.7560138</td></tr>\n",
       "\t<tr><th scope=row>7_18819915</th><td>7 </td><td> 71.089063</td><td>1.4834079</td></tr>\n",
       "\t<tr><th scope=row>8_4284131</th><td>8 </td><td> 19.111008</td><td>3.4281295</td></tr>\n",
       "\t<tr><th scope=row>c9.loc63</th><td>9 </td><td> 63.000000</td><td>0.6000596</td></tr>\n",
       "\t<tr><th scope=row>10_23324430</th><td>10</td><td> 80.366032</td><td>1.0759404</td></tr>\n",
       "\t<tr><th scope=row>c11.loc30</th><td>11</td><td> 30.000000</td><td>0.8809260</td></tr>\n",
       "\t<tr><th scope=row>12_6460434</th><td>12</td><td> 28.106022</td><td>1.1650188</td></tr>\n",
       "\t<tr><th scope=row>c13.loc33</th><td>13</td><td> 33.000000</td><td>1.1202527</td></tr>\n",
       "\t<tr><th scope=row>c14.loc7</th><td>14</td><td>  7.000000</td><td>0.2728340</td></tr>\n",
       "\t<tr><th scope=row>c15.loc11</th><td>15</td><td> 11.000000</td><td>1.5928021</td></tr>\n",
       "\t<tr><th scope=row>c16.loc22</th><td>16</td><td> 22.000000</td><td>3.6779812</td></tr>\n",
       "\t<tr><th scope=row>c17.loc22</th><td>17</td><td> 22.000000</td><td>3.3287270</td></tr>\n",
       "\t<tr><th scope=row>5_4316098</th><td>18</td><td>101.797054</td><td>1.5320743</td></tr>\n",
       "\t<tr><th scope=row>19_2291878</th><td>19</td><td>  7.515007</td><td>1.0192283</td></tr>\n",
       "</tbody>\n",
       "</table>\n"
      ],
      "text/latex": [
       "A summary.scanone: 19 × 3\n",
       "\\begin{tabular}{r|lll}\n",
       "  & chr & pos & lod\\\\\n",
       "  & <fct> & <dbl> & <dbl>\\\\\n",
       "\\hline\n",
       "\tc1.loc46 & 1  &  46.000000 & 2.0146701\\\\\n",
       "\tc2.loc70 & 2  &  70.000000 & 1.8786804\\\\\n",
       "\t3\\_969615 & 3  &   4.718006 & 0.8293628\\\\\n",
       "\t12\\_9215138 & 4  &  44.595031 & 1.2872498\\\\\n",
       "\t5\\_23031683 & 5  &  72.299046 & 0.7731940\\\\\n",
       "\tc6.loc16 & 6  &  16.000000 & 0.7560138\\\\\n",
       "\t7\\_18819915 & 7  &  71.089063 & 1.4834079\\\\\n",
       "\t8\\_4284131 & 8  &  19.111008 & 3.4281295\\\\\n",
       "\tc9.loc63 & 9  &  63.000000 & 0.6000596\\\\\n",
       "\t10\\_23324430 & 10 &  80.366032 & 1.0759404\\\\\n",
       "\tc11.loc30 & 11 &  30.000000 & 0.8809260\\\\\n",
       "\t12\\_6460434 & 12 &  28.106022 & 1.1650188\\\\\n",
       "\tc13.loc33 & 13 &  33.000000 & 1.1202527\\\\\n",
       "\tc14.loc7 & 14 &   7.000000 & 0.2728340\\\\\n",
       "\tc15.loc11 & 15 &  11.000000 & 1.5928021\\\\\n",
       "\tc16.loc22 & 16 &  22.000000 & 3.6779812\\\\\n",
       "\tc17.loc22 & 17 &  22.000000 & 3.3287270\\\\\n",
       "\t5\\_4316098 & 18 & 101.797054 & 1.5320743\\\\\n",
       "\t19\\_2291878 & 19 &   7.515007 & 1.0192283\\\\\n",
       "\\end{tabular}\n"
      ],
      "text/markdown": [
       "\n",
       "A summary.scanone: 19 × 3\n",
       "\n",
       "| <!--/--> | chr &lt;fct&gt; | pos &lt;dbl&gt; | lod &lt;dbl&gt; |\n",
       "|---|---|---|---|\n",
       "| c1.loc46 | 1  |  46.000000 | 2.0146701 |\n",
       "| c2.loc70 | 2  |  70.000000 | 1.8786804 |\n",
       "| 3_969615 | 3  |   4.718006 | 0.8293628 |\n",
       "| 12_9215138 | 4  |  44.595031 | 1.2872498 |\n",
       "| 5_23031683 | 5  |  72.299046 | 0.7731940 |\n",
       "| c6.loc16 | 6  |  16.000000 | 0.7560138 |\n",
       "| 7_18819915 | 7  |  71.089063 | 1.4834079 |\n",
       "| 8_4284131 | 8  |  19.111008 | 3.4281295 |\n",
       "| c9.loc63 | 9  |  63.000000 | 0.6000596 |\n",
       "| 10_23324430 | 10 |  80.366032 | 1.0759404 |\n",
       "| c11.loc30 | 11 |  30.000000 | 0.8809260 |\n",
       "| 12_6460434 | 12 |  28.106022 | 1.1650188 |\n",
       "| c13.loc33 | 13 |  33.000000 | 1.1202527 |\n",
       "| c14.loc7 | 14 |   7.000000 | 0.2728340 |\n",
       "| c15.loc11 | 15 |  11.000000 | 1.5928021 |\n",
       "| c16.loc22 | 16 |  22.000000 | 3.6779812 |\n",
       "| c17.loc22 | 17 |  22.000000 | 3.3287270 |\n",
       "| 5_4316098 | 18 | 101.797054 | 1.5320743 |\n",
       "| 19_2291878 | 19 |   7.515007 | 1.0192283 |\n",
       "\n"
      ],
      "text/plain": [
       "            chr pos        lod      \n",
       "c1.loc46    1    46.000000 2.0146701\n",
       "c2.loc70    2    70.000000 1.8786804\n",
       "3_969615    3     4.718006 0.8293628\n",
       "12_9215138  4    44.595031 1.2872498\n",
       "5_23031683  5    72.299046 0.7731940\n",
       "c6.loc16    6    16.000000 0.7560138\n",
       "7_18819915  7    71.089063 1.4834079\n",
       "8_4284131   8    19.111008 3.4281295\n",
       "c9.loc63    9    63.000000 0.6000596\n",
       "10_23324430 10   80.366032 1.0759404\n",
       "c11.loc30   11   30.000000 0.8809260\n",
       "12_6460434  12   28.106022 1.1650188\n",
       "c13.loc33   13   33.000000 1.1202527\n",
       "c14.loc7    14    7.000000 0.2728340\n",
       "c15.loc11   15   11.000000 1.5928021\n",
       "c16.loc22   16   22.000000 3.6779812\n",
       "c17.loc22   17   22.000000 3.3287270\n",
       "5_4316098   18  101.797054 1.5320743\n",
       "19_2291878  19    7.515007 1.0192283"
      ]
     },
     "metadata": {},
     "output_type": "display_data"
    },
    {
     "data": {
      "image/png": "[encoded data removed]",
      "text/plain": [
       "plot without title"
      ]
     },
     "metadata": {
      "image/png": {
       "height": 420,
       "width": 420
      }
     },
     "output_type": "display_data"
    }
   ],
   "source": [
    "#Deterime LOD Values\n",
    "TraitCIM<-cim(Map,pheno.col = colNum,method = \"hk\",\n",
    "              map.function = \"kosambi\") #Generate LOD Values\n",
    "plot(TraitCIM) #show LOD graph\n",
    "abline(h = LOD5,col = \"blue\") #overlay statistically significant line\n",
    "print(\"If nothing shows up, the values \n",
    "      are below the LOD5 score\") #warning for no peaks\n",
    "summary(TraitCIM)"
   ]
  }
 ],
 "metadata": {
  "kernelspec": {
   "display_name": "R",
   "language": "R",
   "name": "ir"
  },
  "language_info": {
   "codemirror_mode": "r",
   "file_extension": ".r",
   "mimetype": "text/x-r-source",
   "name": "R",
   "pygments_lexer": "r",
   "version": "3.6.1"
  }
 },
 "nbformat": 4,
 "nbformat_minor": 4
}
