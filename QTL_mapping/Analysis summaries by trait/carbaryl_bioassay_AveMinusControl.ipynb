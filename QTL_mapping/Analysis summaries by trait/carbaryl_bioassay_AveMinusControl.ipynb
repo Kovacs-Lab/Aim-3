{
 "cells": [
  {
   "cell_type": "markdown",
   "metadata": {},
   "source": [
    "This analysis is in the order of Female then Male"
   ]
  },
  {
   "cell_type": "code",
   "execution_count": 1,
   "metadata": {},
   "outputs": [
    {
     "name": "stderr",
     "output_type": "stream",
     "text": [
      "Installing package into 'C:/Users/Courtney/Documents/R/win-library/3.6'\n",
      "(as 'lib' is unspecified)\n",
      "\n"
     ]
    },
    {
     "name": "stdout",
     "output_type": "stream",
     "text": [
      "package 'qtl' successfully unpacked and MD5 sums checked\n",
      "\n",
      "The downloaded binary packages are in\n",
      "\tC:\\Users\\Courtney\\AppData\\Local\\Temp\\RtmpycSy5X\\downloaded_packages\n"
     ]
    },
    {
     "name": "stderr",
     "output_type": "stream",
     "text": [
      "Installing package into 'C:/Users/Courtney/Documents/R/win-library/3.6'\n",
      "(as 'lib' is unspecified)\n",
      "\n"
     ]
    },
    {
     "name": "stdout",
     "output_type": "stream",
     "text": [
      "package 'qtlcharts' successfully unpacked and MD5 sums checked\n",
      "\n",
      "The downloaded binary packages are in\n",
      "\tC:\\Users\\Courtney\\AppData\\Local\\Temp\\RtmpycSy5X\\downloaded_packages\n"
     ]
    },
    {
     "name": "stderr",
     "output_type": "stream",
     "text": [
      "Installing package into 'C:/Users/Courtney/Documents/R/win-library/3.6'\n",
      "(as 'lib' is unspecified)\n",
      "\n"
     ]
    },
    {
     "name": "stdout",
     "output_type": "stream",
     "text": [
      "package 'LinkageMapView' successfully unpacked and MD5 sums checked\n",
      "\n",
      "The downloaded binary packages are in\n",
      "\tC:\\Users\\Courtney\\AppData\\Local\\Temp\\RtmpycSy5X\\downloaded_packages\n"
     ]
    },
    {
     "name": "stderr",
     "output_type": "stream",
     "text": [
      "Installing package into 'C:/Users/Courtney/Documents/R/win-library/3.6'\n",
      "(as 'lib' is unspecified)\n",
      "\n"
     ]
    },
    {
     "name": "stdout",
     "output_type": "stream",
     "text": [
      "\n",
      "  There is a binary version available but the source version is later:\n",
      "           binary source needs_compilation\n",
      "rcompanion  2.4.0  2.4.1             FALSE\n",
      "\n"
     ]
    },
    {
     "name": "stderr",
     "output_type": "stream",
     "text": [
      "installing the source package 'rcompanion'\n",
      "\n",
      "\n"
     ]
    }
   ],
   "source": [
    "install.packages('qtl') #Main package, for analysis\n",
    "install.packages('qtlcharts') #accessory, for displaying graphs\n",
    "install.packages('LinkageMapView') #accessory, for displaying linkage maps\n",
    "install.packages('rcompanion')# for plotNormalHistogram"
   ]
  },
  {
   "cell_type": "code",
   "execution_count": 2,
   "metadata": {},
   "outputs": [],
   "source": [
    "library(qtl) #load packages\n",
    "library(qtlcharts)\n",
    "library(LinkageMapView)\n",
    "library(rcompanion)"
   ]
  },
  {
   "cell_type": "code",
   "execution_count": 3,
   "metadata": {},
   "outputs": [
    {
     "name": "stdout",
     "output_type": "stream",
     "text": [
      "[1] \"Make sure to input names AS THEY APPEAR on the csv!!\"\n"
     ]
    },
    {
     "name": "stdin",
     "output_type": "stream",
     "text": [
      "Enter file name (Either FemaleMap.csv or MaleMap.csv):  FemaleMap_Field2020.csv\n",
      "First Genotype (homozygous) (For example ll):  ll\n",
      "Second Genotype (heterozygous) (for example lm):  lm\n",
      "Column Number:  60\n"
     ]
    }
   ],
   "source": [
    "#Collecting enviroment variables\n",
    "print(\"Make sure to input names AS THEY APPEAR on the csv!!\") #Just a user warning\n",
    "fileName <- readline(\"Enter file name (Either FemaleMap.csv or MaleMap.csv): \") #Mapping table file\n",
    "genotypeName <- c(readline(\"First Genotype (homozygous) (For example ll): \"),\n",
    "                  readline(\"Second Genotype (heterozygous) (for example lm): \")) #For example \"nn\", \"np\"\n",
    "alleleName <- c(substr(genotypeName[2],1,1) ,substr(genotypeName[2],2,2))\n",
    "naNames <- c(\"NA\",\"--\") #For example \"NA\", \"--\"\n",
    "colNum <- as.numeric(readline(\"Column Number: \")) #Column for pheno of interest"
   ]
  },
  {
   "cell_type": "code",
   "execution_count": 4,
   "metadata": {},
   "outputs": [
    {
     "name": "stderr",
     "output_type": "stream",
     "text": [
      "Warning message in FUN(X[[i]], ...):\n",
      "\"The phenotype value \" \"  was interpreted as missing.\"\n"
     ]
    },
    {
     "name": "stdout",
     "output_type": "stream",
     "text": [
      " --Read the following data:\n",
      "\t 296  individuals\n",
      "\t 1100  markers\n",
      "\t 62  phenotypes\n"
     ]
    },
    {
     "name": "stderr",
     "output_type": "stream",
     "text": [
      "Warning message in summary.cross(cross):\n",
      "\"Some markers at the same position on chr 1,2,4,5,7,8,9,10,11,12,13,14,16,17,18,19; use jittermap().\"\n"
     ]
    },
    {
     "name": "stdout",
     "output_type": "stream",
     "text": [
      " --Cross type: bc \n"
     ]
    },
    {
     "data": {
      "image/png": "[encoded data removed]",
      "text/plain": [
       "Plot with title \"Genetic map\""
      ]
     },
     "metadata": {
      "image/png": {
       "height": 420,
       "width": 420
      },
      "text/plain": {
       "height": 420,
       "width": 420
      }
     },
     "output_type": "display_data"
    }
   ],
   "source": [
    "#Map generation\n",
    "Map <- read.cross(format = 'csv',file = fileName \n",
    "                  ,genotypes = genotypeName,\n",
    "                  alleles = alleleName,na.strings = naNames) #generate linkage map\n",
    "Map <- jittermap(Map) #make sure no markers are in the same location\n",
    "Map <- calc.genoprob(Map,step = 1,map.function = \"kosambi\") #associate markers with full genotypes\n",
    "plot.map(Map) #draw linkage map"
   ]
  },
  {
   "cell_type": "code",
   "execution_count": 5,
   "metadata": {},
   "outputs": [
    {
     "data": {
      "image/png": "[encoded data removed]",
      "text/plain": [
       "Plot with title \"\""
      ]
     },
     "metadata": {
      "image/png": {
       "height": 420,
       "width": 420
      },
      "text/plain": {
       "height": 420,
       "width": 420
      }
     },
     "output_type": "display_data"
    }
   ],
   "source": [
    "plotNormalHistogram(Map$pheno[,colNum]) #normal histogram of pheno of interest"
   ]
  },
  {
   "cell_type": "markdown",
   "metadata": {},
   "source": [
    "Outliers exist in this dataset. Will need to be analyized. "
   ]
  },
  {
   "cell_type": "code",
   "execution_count": 6,
   "metadata": {},
   "outputs": [
    {
     "data": {
      "text/plain": [
       "LOD thresholds (1000 permutations)\n",
       "   [,1]\n",
       "5% 4.26\n",
       "1% 5.06"
      ]
     },
     "metadata": {},
     "output_type": "display_data"
    },
    {
     "data": {
      "image/png": "[encoded data removed]",
      "text/plain": [
       "Plot with title \"\""
      ]
     },
     "metadata": {
      "image/png": {
       "height": 420,
       "width": 420
      },
      "text/plain": {
       "height": 420,
       "width": 420
      }
     },
     "output_type": "display_data"
    }
   ],
   "source": [
    "#Compute statistically significant values\n",
    "TraitCIM1000 <- cim(Map,pheno.col = colNum,method = \"hk\",\n",
    "                    map.function = \"kosambi\",n.perm = 1000) # Function will take a moment to run, determines LOD value\n",
    "plot(TraitCIM1000,col = 'green') #show distribution of lod scores\n",
    "summary(TraitCIM1000,alpha=c(.05,.01))"
   ]
  },
  {
   "cell_type": "code",
   "execution_count": 7,
   "metadata": {},
   "outputs": [
    {
     "name": "stdout",
     "output_type": "stream",
     "text": [
      "[1] \"If nothing shows up, the values \\n      are below the LOD5 score\"\n"
     ]
    },
    {
     "data": {
      "text/html": [
       "<table>\n",
       "<caption>A summary.scanone: 19 × 3</caption>\n",
       "<thead>\n",
       "\t<tr><th></th><th scope=col>chr</th><th scope=col>pos</th><th scope=col>lod</th></tr>\n",
       "\t<tr><th></th><th scope=col>&lt;fct&gt;</th><th scope=col>&lt;dbl&gt;</th><th scope=col>&lt;dbl&gt;</th></tr>\n",
       "</thead>\n",
       "<tbody>\n",
       "\t<tr><th scope=row>1_20356240</th><td>1 </td><td>63.787040</td><td> 1.5071916</td></tr>\n",
       "\t<tr><th scope=row>c2.loc33</th><td>2 </td><td>33.000000</td><td> 1.1899303</td></tr>\n",
       "\t<tr><th scope=row>3_5596857</th><td>3 </td><td>31.779026</td><td> 1.8082564</td></tr>\n",
       "\t<tr><th scope=row>4_2873313</th><td>4 </td><td>11.454011</td><td> 1.4344257</td></tr>\n",
       "\t<tr><th scope=row>c5.loc55</th><td>5 </td><td>55.000000</td><td> 1.3742394</td></tr>\n",
       "\t<tr><th scope=row>c6.loc47</th><td>6 </td><td>47.000000</td><td> 1.4479493</td></tr>\n",
       "\t<tr><th scope=row>c7.loc62</th><td>7 </td><td>62.000000</td><td> 1.2289126</td></tr>\n",
       "\t<tr><th scope=row>8_19192553</th><td>8 </td><td>67.910047</td><td> 1.2482323</td></tr>\n",
       "\t<tr><th scope=row>c9.loc3</th><td>9 </td><td> 3.000000</td><td> 0.5354894</td></tr>\n",
       "\t<tr><th scope=row>c10.loc46</th><td>10</td><td>46.000000</td><td> 1.7185785</td></tr>\n",
       "\t<tr><th scope=row>11_17754467</th><td>11</td><td>53.503038</td><td> 1.6740915</td></tr>\n",
       "\t<tr><th scope=row>c12.loc62</th><td>12</td><td>62.000000</td><td> 0.6843698</td></tr>\n",
       "\t<tr><th scope=row>13_604670</th><td>13</td><td> 1.734003</td><td> 0.9090048</td></tr>\n",
       "\t<tr><th scope=row>14_23880342</th><td>14</td><td>51.954017</td><td> 0.6147680</td></tr>\n",
       "\t<tr><th scope=row>c15.loc55</th><td>15</td><td>55.000000</td><td> 1.4200966</td></tr>\n",
       "\t<tr><th scope=row>c16.loc12</th><td>16</td><td>12.000000</td><td>16.9944568</td></tr>\n",
       "\t<tr><th scope=row>9_5597458</th><td>17</td><td>39.159019</td><td> 0.3598514</td></tr>\n",
       "\t<tr><th scope=row>18_33541595</th><td>18</td><td>94.293074</td><td> 0.7645220</td></tr>\n",
       "\t<tr><th scope=row>19_2254967</th><td>19</td><td> 9.044013</td><td> 1.6547055</td></tr>\n",
       "</tbody>\n",
       "</table>\n"
      ],
      "text/latex": [
       "A summary.scanone: 19 × 3\n",
       "\\begin{tabular}{r|lll}\n",
       "  & chr & pos & lod\\\\\n",
       "  & <fct> & <dbl> & <dbl>\\\\\n",
       "\\hline\n",
       "\t1\\_20356240 & 1  & 63.787040 &  1.5071916\\\\\n",
       "\tc2.loc33 & 2  & 33.000000 &  1.1899303\\\\\n",
       "\t3\\_5596857 & 3  & 31.779026 &  1.8082564\\\\\n",
       "\t4\\_2873313 & 4  & 11.454011 &  1.4344257\\\\\n",
       "\tc5.loc55 & 5  & 55.000000 &  1.3742394\\\\\n",
       "\tc6.loc47 & 6  & 47.000000 &  1.4479493\\\\\n",
       "\tc7.loc62 & 7  & 62.000000 &  1.2289126\\\\\n",
       "\t8\\_19192553 & 8  & 67.910047 &  1.2482323\\\\\n",
       "\tc9.loc3 & 9  &  3.000000 &  0.5354894\\\\\n",
       "\tc10.loc46 & 10 & 46.000000 &  1.7185785\\\\\n",
       "\t11\\_17754467 & 11 & 53.503038 &  1.6740915\\\\\n",
       "\tc12.loc62 & 12 & 62.000000 &  0.6843698\\\\\n",
       "\t13\\_604670 & 13 &  1.734003 &  0.9090048\\\\\n",
       "\t14\\_23880342 & 14 & 51.954017 &  0.6147680\\\\\n",
       "\tc15.loc55 & 15 & 55.000000 &  1.4200966\\\\\n",
       "\tc16.loc12 & 16 & 12.000000 & 16.9944568\\\\\n",
       "\t9\\_5597458 & 17 & 39.159019 &  0.3598514\\\\\n",
       "\t18\\_33541595 & 18 & 94.293074 &  0.7645220\\\\\n",
       "\t19\\_2254967 & 19 &  9.044013 &  1.6547055\\\\\n",
       "\\end{tabular}\n"
      ],
      "text/markdown": [
       "\n",
       "A summary.scanone: 19 × 3\n",
       "\n",
       "| <!--/--> | chr &lt;fct&gt; | pos &lt;dbl&gt; | lod &lt;dbl&gt; |\n",
       "|---|---|---|---|\n",
       "| 1_20356240 | 1  | 63.787040 |  1.5071916 |\n",
       "| c2.loc33 | 2  | 33.000000 |  1.1899303 |\n",
       "| 3_5596857 | 3  | 31.779026 |  1.8082564 |\n",
       "| 4_2873313 | 4  | 11.454011 |  1.4344257 |\n",
       "| c5.loc55 | 5  | 55.000000 |  1.3742394 |\n",
       "| c6.loc47 | 6  | 47.000000 |  1.4479493 |\n",
       "| c7.loc62 | 7  | 62.000000 |  1.2289126 |\n",
       "| 8_19192553 | 8  | 67.910047 |  1.2482323 |\n",
       "| c9.loc3 | 9  |  3.000000 |  0.5354894 |\n",
       "| c10.loc46 | 10 | 46.000000 |  1.7185785 |\n",
       "| 11_17754467 | 11 | 53.503038 |  1.6740915 |\n",
       "| c12.loc62 | 12 | 62.000000 |  0.6843698 |\n",
       "| 13_604670 | 13 |  1.734003 |  0.9090048 |\n",
       "| 14_23880342 | 14 | 51.954017 |  0.6147680 |\n",
       "| c15.loc55 | 15 | 55.000000 |  1.4200966 |\n",
       "| c16.loc12 | 16 | 12.000000 | 16.9944568 |\n",
       "| 9_5597458 | 17 | 39.159019 |  0.3598514 |\n",
       "| 18_33541595 | 18 | 94.293074 |  0.7645220 |\n",
       "| 19_2254967 | 19 |  9.044013 |  1.6547055 |\n",
       "\n"
      ],
      "text/plain": [
       "            chr pos       lod       \n",
       "1_20356240  1   63.787040  1.5071916\n",
       "c2.loc33    2   33.000000  1.1899303\n",
       "3_5596857   3   31.779026  1.8082564\n",
       "4_2873313   4   11.454011  1.4344257\n",
       "c5.loc55    5   55.000000  1.3742394\n",
       "c6.loc47    6   47.000000  1.4479493\n",
       "c7.loc62    7   62.000000  1.2289126\n",
       "8_19192553  8   67.910047  1.2482323\n",
       "c9.loc3     9    3.000000  0.5354894\n",
       "c10.loc46   10  46.000000  1.7185785\n",
       "11_17754467 11  53.503038  1.6740915\n",
       "c12.loc62   12  62.000000  0.6843698\n",
       "13_604670   13   1.734003  0.9090048\n",
       "14_23880342 14  51.954017  0.6147680\n",
       "c15.loc55   15  55.000000  1.4200966\n",
       "c16.loc12   16  12.000000 16.9944568\n",
       "9_5597458   17  39.159019  0.3598514\n",
       "18_33541595 18  94.293074  0.7645220\n",
       "19_2254967  19   9.044013  1.6547055"
      ]
     },
     "metadata": {},
     "output_type": "display_data"
    },
    {
     "data": {
      "image/png": "[encoded data removed]",
      "text/plain": [
       "plot without title"
      ]
     },
     "metadata": {
      "image/png": {
       "height": 420,
       "width": 420
      },
      "text/plain": {
       "height": 420,
       "width": 420
      }
     },
     "output_type": "display_data"
    }
   ],
   "source": [
    "#Deterime LOD Values\n",
    "LOD5 <- summary(TraitCIM1000,alpha=c(.05))\n",
    "TraitCIM<-cim(Map,pheno.col = colNum,method = \"hk\",\n",
    "              map.function = \"kosambi\") #Generate LOD Values\n",
    "plot(TraitCIM) #show LOD graph\n",
    "abline(h = LOD5,col = \"blue\") #overlay statistically significant line\n",
    "print(\"If nothing shows up, the values \n",
    "      are below the LOD5 score\") #warning for no peaks\n",
    "summary(TraitCIM)\n",
    "write.csv(TraitCIM,\"CarbarylBioassay_diff_table.csv\")"
   ]
  },
  {
   "cell_type": "code",
   "execution_count": 7,
   "metadata": {},
   "outputs": [
    {
     "name": "stdin",
     "output_type": "stream",
     "text": [
      "Chromosome?  16\n"
     ]
    },
    {
     "data": {
      "image/png": "[encoded data removed]",
      "text/plain": [
       "plot without title"
      ]
     },
     "metadata": {
      "image/png": {
       "height": 420,
       "width": 420
      },
      "text/plain": {
       "height": 420,
       "width": 420
      }
     },
     "output_type": "display_data"
    }
   ],
   "source": [
    "#Chromosomal Analysis\n",
    "chr <- as.numeric(readline(\"Chromosome? \")) #collect chromosome to look at\n",
    "plot(TraitCIM, chr = chr,xlab = c(\"chr\",chr)) #Plot chr LOD scores\n",
    "abline(h = LOD5, col = \"blue\") #Statistically Significant"
   ]
  },
  {
   "cell_type": "code",
   "execution_count": 8,
   "metadata": {},
   "outputs": [
    {
     "data": {
      "text/html": [
       "<table>\n",
       "<caption>A scanone: 3 × 3</caption>\n",
       "<thead>\n",
       "\t<tr><th></th><th scope=col>chr</th><th scope=col>pos</th><th scope=col>lod</th></tr>\n",
       "\t<tr><th></th><th scope=col>&lt;fct&gt;</th><th scope=col>&lt;dbl&gt;</th><th scope=col>&lt;dbl&gt;</th></tr>\n",
       "</thead>\n",
       "<tbody>\n",
       "\t<tr><th scope=row>16_2745439</th><td>16</td><td> 8.433011</td><td>14.71276</td></tr>\n",
       "\t<tr><th scope=row>c16.loc12</th><td>16</td><td>12.000000</td><td>16.27968</td></tr>\n",
       "\t<tr><th scope=row>16_8286852</th><td>16</td><td>15.056019</td><td>15.35475</td></tr>\n",
       "</tbody>\n",
       "</table>\n"
      ],
      "text/latex": [
       "A scanone: 3 × 3\n",
       "\\begin{tabular}{r|lll}\n",
       "  & chr & pos & lod\\\\\n",
       "  & <fct> & <dbl> & <dbl>\\\\\n",
       "\\hline\n",
       "\t16\\_2745439 & 16 &  8.433011 & 14.71276\\\\\n",
       "\tc16.loc12 & 16 & 12.000000 & 16.27968\\\\\n",
       "\t16\\_8286852 & 16 & 15.056019 & 15.35475\\\\\n",
       "\\end{tabular}\n"
      ],
      "text/markdown": [
       "\n",
       "A scanone: 3 × 3\n",
       "\n",
       "| <!--/--> | chr &lt;fct&gt; | pos &lt;dbl&gt; | lod &lt;dbl&gt; |\n",
       "|---|---|---|---|\n",
       "| 16_2745439 | 16 |  8.433011 | 14.71276 |\n",
       "| c16.loc12 | 16 | 12.000000 | 16.27968 |\n",
       "| 16_8286852 | 16 | 15.056019 | 15.35475 |\n",
       "\n"
      ],
      "text/plain": [
       "           chr pos       lod     \n",
       "16_2745439 16   8.433011 14.71276\n",
       "c16.loc12  16  12.000000 16.27968\n",
       "16_8286852 16  15.056019 15.35475"
      ]
     },
     "metadata": {},
     "output_type": "display_data"
    },
    {
     "data": {
      "text/html": [
       "<table>\n",
       "<caption>A scanone: 3 × 3</caption>\n",
       "<thead>\n",
       "\t<tr><th></th><th scope=col>chr</th><th scope=col>pos</th><th scope=col>lod</th></tr>\n",
       "\t<tr><th></th><th scope=col>&lt;fct&gt;</th><th scope=col>&lt;dbl&gt;</th><th scope=col>&lt;dbl&gt;</th></tr>\n",
       "</thead>\n",
       "<tbody>\n",
       "\t<tr><th scope=row>16_2745439</th><td>16</td><td> 8.433011</td><td>14.7127635</td></tr>\n",
       "\t<tr><th scope=row>c16.loc12</th><td>16</td><td>12.000000</td><td>16.2796834</td></tr>\n",
       "\t<tr><th scope=row>16_13270028</th><td>16</td><td>16.266023</td><td> 0.5663206</td></tr>\n",
       "</tbody>\n",
       "</table>\n"
      ],
      "text/latex": [
       "A scanone: 3 × 3\n",
       "\\begin{tabular}{r|lll}\n",
       "  & chr & pos & lod\\\\\n",
       "  & <fct> & <dbl> & <dbl>\\\\\n",
       "\\hline\n",
       "\t16\\_2745439 & 16 &  8.433011 & 14.7127635\\\\\n",
       "\tc16.loc12 & 16 & 12.000000 & 16.2796834\\\\\n",
       "\t16\\_13270028 & 16 & 16.266023 &  0.5663206\\\\\n",
       "\\end{tabular}\n"
      ],
      "text/markdown": [
       "\n",
       "A scanone: 3 × 3\n",
       "\n",
       "| <!--/--> | chr &lt;fct&gt; | pos &lt;dbl&gt; | lod &lt;dbl&gt; |\n",
       "|---|---|---|---|\n",
       "| 16_2745439 | 16 |  8.433011 | 14.7127635 |\n",
       "| c16.loc12 | 16 | 12.000000 | 16.2796834 |\n",
       "| 16_13270028 | 16 | 16.266023 |  0.5663206 |\n",
       "\n"
      ],
      "text/plain": [
       "            chr pos       lod       \n",
       "16_2745439  16   8.433011 14.7127635\n",
       "c16.loc12   16  12.000000 16.2796834\n",
       "16_13270028 16  16.266023  0.5663206"
      ]
     },
     "metadata": {},
     "output_type": "display_data"
    }
   ],
   "source": [
    "bayesint(TraitCIM, chr = chr, prob=0.95, expandtomarkers=TRUE) #calculate bayesian interval\n",
    "lodint(TraitCIM, chr = chr,expandtomarkers = TRUE ) #calculate LOD Support interval"
   ]
  },
  {
   "cell_type": "code",
   "execution_count": 9,
   "metadata": {},
   "outputs": [
    {
     "name": "stdin",
     "output_type": "stream",
     "text": [
      "Position for analysis:  12.000000\n"
     ]
    },
    {
     "name": "stderr",
     "output_type": "stream",
     "text": [
      "Warning message in getsex(cross):\n",
      "\"127 individuals with missing sex; assuming they're female\"\n",
      "Warning message in fitqtlengine(pheno = pheno, qtl = qtl, covar = covar, formula = formula, :\n",
      "\"Dropping 102 individuals with missing phenotypes.\n",
      "\"\n",
      "Warning message in getsex(cross):\n",
      "\"127 individuals with missing sex; assuming they're female\"\n"
     ]
    },
    {
     "data": {
      "text/plain": [
       "\n",
       "\t\tfitqtl summary\n",
       "\n",
       "Method: Haley-Knott regression \n",
       "Model:  normal phenotype\n",
       "Number of observations : 194 \n",
       "\n",
       "Full model result\n",
       "----------------------------------  \n",
       "Model formula: y ~ Q1 \n",
       "\n",
       "       df        SS         MS      LOD   %var Pvalue(Chi2)    Pvalue(F)\n",
       "Model   1  374.2786 374.278595 15.22274 30.327 1.110223e-16 1.110223e-16\n",
       "Error 192  859.8646   4.478461                                          \n",
       "Total 193 1234.1432                                                     \n",
       "\n",
       "\n",
       "Estimated effects:\n",
       "-----------------\n",
       "              est      SE      t\n",
       "Intercept  1.6073  0.1520 10.572\n",
       "16@12.0   -2.8152  0.3079 -9.142\n"
      ]
     },
     "metadata": {},
     "output_type": "display_data"
    }
   ],
   "source": [
    "p <- as.numeric(readline(\"Position for analysis: \"))\n",
    "qtl <- makeqtl(Map, chr = chr, pos = p, what=\"prob\") #pulls genotype probabilities\n",
    "fitqtl <- fitqtl(Map, pheno.col=colNum, qtl = qtl, covar=NULL,\n",
    "       method= \"hk\",model=\"normal\",\n",
    "       dropone=TRUE, get.ests=TRUE,run.checks=TRUE,\n",
    "       tol=1e-4, maxit=1000, forceXcovar=FALSE) #sees how well our data fits a given formula \n",
    "          # If you see \"error: object of type 'closure' is not subsettable\", remove \"formula,\" from the fitqtl argument list.\n",
    "summary(fitqtl) #Print results of the analysis"
   ]
  },
  {
   "cell_type": "code",
   "execution_count": 10,
   "metadata": {},
   "outputs": [
    {
     "name": "stdout",
     "output_type": "stream",
     "text": [
      "[1] \"Make sure to input names AS THEY APPEAR on the csv!!\"\n"
     ]
    },
    {
     "name": "stdin",
     "output_type": "stream",
     "text": [
      "Enter file name (Either FemaleMap.csv or MaleMap.csv):  MaleMap_2021_July14.csv\n",
      "First Genotype (homozygous) (For example ll):  nn\n",
      "Second Genotype (heterozygous) (for example lm):  np\n",
      "Column Number:  60\n"
     ]
    }
   ],
   "source": [
    "#Collecting enviroment variables\n",
    "print(\"Make sure to input names AS THEY APPEAR on the csv!!\") #Just a user warning\n",
    "fileName <- readline(\"Enter file name (Either FemaleMap.csv or MaleMap.csv): \") #Mapping table file\n",
    "genotypeName <- c(readline(\"First Genotype (homozygous) (For example ll): \"),\n",
    "                  readline(\"Second Genotype (heterozygous) (for example lm): \")) #For example \"nn\", \"np\"\n",
    "alleleName <- c(substr(genotypeName[2],1,1) ,substr(genotypeName[2],2,2))\n",
    "naNames <- c(\"NA\",\"--\") #For example \"NA\", \"--\"\n",
    "colNum <- as.numeric(readline(\"Column Number: \")) #Column for pheno of interest"
   ]
  },
  {
   "cell_type": "code",
   "execution_count": 11,
   "metadata": {},
   "outputs": [
    {
     "name": "stdout",
     "output_type": "stream",
     "text": [
      " --Read the following data:\n",
      "\t 294  individuals\n",
      "\t 1128  markers\n",
      "\t 61  phenotypes\n"
     ]
    },
    {
     "name": "stderr",
     "output_type": "stream",
     "text": [
      "Warning message in summary.cross(cross):\n",
      "\"Some markers at the same position on chr 1,3,4,5,6,7,8,9,10,12,13,14,15,16,17,18,19; use jittermap().\"\n"
     ]
    },
    {
     "name": "stdout",
     "output_type": "stream",
     "text": [
      " --Cross type: bc \n"
     ]
    },
    {
     "data": {
      "image/png": "[encoded data removed]",
      "text/plain": [
       "Plot with title \"Genetic map\""
      ]
     },
     "metadata": {
      "image/png": {
       "height": 420,
       "width": 420
      },
      "text/plain": {
       "height": 420,
       "width": 420
      }
     },
     "output_type": "display_data"
    }
   ],
   "source": [
    "#Map generation\n",
    "Map <- read.cross(format = 'csv',file = fileName \n",
    "                  ,genotypes = genotypeName,\n",
    "                  alleles = alleleName,na.strings = naNames) #generate linkage map\n",
    "Map <- jittermap(Map) #make sure no markers are in the same location\n",
    "Map <- calc.genoprob(Map,step = 1,map.function = \"kosambi\") #associate markers with full genotypes\n",
    "plot.map(Map) #draw linkage map"
   ]
  },
  {
   "cell_type": "code",
   "execution_count": 12,
   "metadata": {},
   "outputs": [
    {
     "data": {
      "image/png": "[encoded data removed]",
      "text/plain": [
       "Plot with title \"\""
      ]
     },
     "metadata": {
      "image/png": {
       "height": 420,
       "width": 420
      },
      "text/plain": {
       "height": 420,
       "width": 420
      }
     },
     "output_type": "display_data"
    }
   ],
   "source": [
    "plotNormalHistogram(Map$pheno[,colNum]) #normal histogram of pheno of interest"
   ]
  },
  {
   "cell_type": "markdown",
   "metadata": {},
   "source": [
    "Outliers exist in this data. "
   ]
  },
  {
   "cell_type": "code",
   "execution_count": 13,
   "metadata": {},
   "outputs": [
    {
     "data": {
      "text/plain": [
       "LOD thresholds (1000 permutations)\n",
       "   [,1]\n",
       "5% 4.00\n",
       "1% 4.93"
      ]
     },
     "metadata": {},
     "output_type": "display_data"
    },
    {
     "data": {
      "image/png": "[encoded data removed]",
      "text/plain": [
       "Plot with title \"\""
      ]
     },
     "metadata": {
      "image/png": {
       "height": 420,
       "width": 420
      },
      "text/plain": {
       "height": 420,
       "width": 420
      }
     },
     "output_type": "display_data"
    }
   ],
   "source": [
    "#Compute statistically significant values\n",
    "TraitCIM1000 <- cim(Map,pheno.col = colNum,method = \"hk\",\n",
    "                    map.function = \"kosambi\",n.perm = 1000) # Function will take a moment to run, determines LOD value\n",
    "plot(TraitCIM1000,col = 'green') #show distribution of lod scores\n",
    "summary(TraitCIM1000,alpha=c(.05,.01))"
   ]
  },
  {
   "cell_type": "code",
   "execution_count": 14,
   "metadata": {},
   "outputs": [
    {
     "name": "stdout",
     "output_type": "stream",
     "text": [
      "[1] \"If nothing shows up, the values \\n      are below the LOD5 score\"\n"
     ]
    },
    {
     "data": {
      "text/html": [
       "<table>\n",
       "<caption>A summary.scanone: 19 × 3</caption>\n",
       "<thead>\n",
       "\t<tr><th></th><th scope=col>chr</th><th scope=col>pos</th><th scope=col>lod</th></tr>\n",
       "\t<tr><th></th><th scope=col>&lt;fct&gt;</th><th scope=col>&lt;dbl&gt;</th><th scope=col>&lt;dbl&gt;</th></tr>\n",
       "</thead>\n",
       "<tbody>\n",
       "\t<tr><th scope=row>c1.loc15</th><td>1 </td><td>15.00000</td><td>1.3602165</td></tr>\n",
       "\t<tr><th scope=row>c2.loc29</th><td>2 </td><td>29.00000</td><td>1.4642280</td></tr>\n",
       "\t<tr><th scope=row>c3.loc20</th><td>3 </td><td>20.00000</td><td>1.4879165</td></tr>\n",
       "\t<tr><th scope=row>c4.loc14</th><td>4 </td><td>14.00000</td><td>3.0978233</td></tr>\n",
       "\t<tr><th scope=row>18_30393961</th><td>5 </td><td>21.53601</td><td>1.3885409</td></tr>\n",
       "\t<tr><th scope=row>c6.loc13</th><td>6 </td><td>13.00000</td><td>1.1823672</td></tr>\n",
       "\t<tr><th scope=row>c7.loc91</th><td>7 </td><td>91.00000</td><td>0.4897151</td></tr>\n",
       "\t<tr><th scope=row>c8.loc76</th><td>8 </td><td>76.00000</td><td>0.4969977</td></tr>\n",
       "\t<tr><th scope=row>c9.loc7</th><td>9 </td><td> 7.00000</td><td>0.9446379</td></tr>\n",
       "\t<tr><th scope=row>c10.loc40</th><td>10</td><td>40.00000</td><td>1.2030497</td></tr>\n",
       "\t<tr><th scope=row>c11.loc62</th><td>11</td><td>62.00000</td><td>0.8357781</td></tr>\n",
       "\t<tr><th scope=row>c12.loc38</th><td>12</td><td>38.00000</td><td>1.3859325</td></tr>\n",
       "\t<tr><th scope=row>c13.loc59</th><td>13</td><td>59.00000</td><td>1.1137802</td></tr>\n",
       "\t<tr><th scope=row>c14.loc49</th><td>14</td><td>49.00000</td><td>2.5498856</td></tr>\n",
       "\t<tr><th scope=row>c15.loc77</th><td>15</td><td>77.00000</td><td>1.3009031</td></tr>\n",
       "\t<tr><th scope=row>16_10372933</th><td>16</td><td>75.68904</td><td>0.7505150</td></tr>\n",
       "\t<tr><th scope=row>c17.loc29</th><td>17</td><td>29.00000</td><td>1.5725710</td></tr>\n",
       "\t<tr><th scope=row>c18.loc84</th><td>18</td><td>84.00000</td><td>0.5714804</td></tr>\n",
       "\t<tr><th scope=row>19_6173411</th><td>19</td><td>29.66002</td><td>1.2413554</td></tr>\n",
       "</tbody>\n",
       "</table>\n"
      ],
      "text/latex": [
       "A summary.scanone: 19 × 3\n",
       "\\begin{tabular}{r|lll}\n",
       "  & chr & pos & lod\\\\\n",
       "  & <fct> & <dbl> & <dbl>\\\\\n",
       "\\hline\n",
       "\tc1.loc15 & 1  & 15.00000 & 1.3602165\\\\\n",
       "\tc2.loc29 & 2  & 29.00000 & 1.4642280\\\\\n",
       "\tc3.loc20 & 3  & 20.00000 & 1.4879165\\\\\n",
       "\tc4.loc14 & 4  & 14.00000 & 3.0978233\\\\\n",
       "\t18\\_30393961 & 5  & 21.53601 & 1.3885409\\\\\n",
       "\tc6.loc13 & 6  & 13.00000 & 1.1823672\\\\\n",
       "\tc7.loc91 & 7  & 91.00000 & 0.4897151\\\\\n",
       "\tc8.loc76 & 8  & 76.00000 & 0.4969977\\\\\n",
       "\tc9.loc7 & 9  &  7.00000 & 0.9446379\\\\\n",
       "\tc10.loc40 & 10 & 40.00000 & 1.2030497\\\\\n",
       "\tc11.loc62 & 11 & 62.00000 & 0.8357781\\\\\n",
       "\tc12.loc38 & 12 & 38.00000 & 1.3859325\\\\\n",
       "\tc13.loc59 & 13 & 59.00000 & 1.1137802\\\\\n",
       "\tc14.loc49 & 14 & 49.00000 & 2.5498856\\\\\n",
       "\tc15.loc77 & 15 & 77.00000 & 1.3009031\\\\\n",
       "\t16\\_10372933 & 16 & 75.68904 & 0.7505150\\\\\n",
       "\tc17.loc29 & 17 & 29.00000 & 1.5725710\\\\\n",
       "\tc18.loc84 & 18 & 84.00000 & 0.5714804\\\\\n",
       "\t19\\_6173411 & 19 & 29.66002 & 1.2413554\\\\\n",
       "\\end{tabular}\n"
      ],
      "text/markdown": [
       "\n",
       "A summary.scanone: 19 × 3\n",
       "\n",
       "| <!--/--> | chr &lt;fct&gt; | pos &lt;dbl&gt; | lod &lt;dbl&gt; |\n",
       "|---|---|---|---|\n",
       "| c1.loc15 | 1  | 15.00000 | 1.3602165 |\n",
       "| c2.loc29 | 2  | 29.00000 | 1.4642280 |\n",
       "| c3.loc20 | 3  | 20.00000 | 1.4879165 |\n",
       "| c4.loc14 | 4  | 14.00000 | 3.0978233 |\n",
       "| 18_30393961 | 5  | 21.53601 | 1.3885409 |\n",
       "| c6.loc13 | 6  | 13.00000 | 1.1823672 |\n",
       "| c7.loc91 | 7  | 91.00000 | 0.4897151 |\n",
       "| c8.loc76 | 8  | 76.00000 | 0.4969977 |\n",
       "| c9.loc7 | 9  |  7.00000 | 0.9446379 |\n",
       "| c10.loc40 | 10 | 40.00000 | 1.2030497 |\n",
       "| c11.loc62 | 11 | 62.00000 | 0.8357781 |\n",
       "| c12.loc38 | 12 | 38.00000 | 1.3859325 |\n",
       "| c13.loc59 | 13 | 59.00000 | 1.1137802 |\n",
       "| c14.loc49 | 14 | 49.00000 | 2.5498856 |\n",
       "| c15.loc77 | 15 | 77.00000 | 1.3009031 |\n",
       "| 16_10372933 | 16 | 75.68904 | 0.7505150 |\n",
       "| c17.loc29 | 17 | 29.00000 | 1.5725710 |\n",
       "| c18.loc84 | 18 | 84.00000 | 0.5714804 |\n",
       "| 19_6173411 | 19 | 29.66002 | 1.2413554 |\n",
       "\n"
      ],
      "text/plain": [
       "            chr pos      lod      \n",
       "c1.loc15    1   15.00000 1.3602165\n",
       "c2.loc29    2   29.00000 1.4642280\n",
       "c3.loc20    3   20.00000 1.4879165\n",
       "c4.loc14    4   14.00000 3.0978233\n",
       "18_30393961 5   21.53601 1.3885409\n",
       "c6.loc13    6   13.00000 1.1823672\n",
       "c7.loc91    7   91.00000 0.4897151\n",
       "c8.loc76    8   76.00000 0.4969977\n",
       "c9.loc7     9    7.00000 0.9446379\n",
       "c10.loc40   10  40.00000 1.2030497\n",
       "c11.loc62   11  62.00000 0.8357781\n",
       "c12.loc38   12  38.00000 1.3859325\n",
       "c13.loc59   13  59.00000 1.1137802\n",
       "c14.loc49   14  49.00000 2.5498856\n",
       "c15.loc77   15  77.00000 1.3009031\n",
       "16_10372933 16  75.68904 0.7505150\n",
       "c17.loc29   17  29.00000 1.5725710\n",
       "c18.loc84   18  84.00000 0.5714804\n",
       "19_6173411  19  29.66002 1.2413554"
      ]
     },
     "metadata": {},
     "output_type": "display_data"
    },
    {
     "data": {
      "image/png": "[encoded data removed]",
      "text/plain": [
       "plot without title"
      ]
     },
     "metadata": {
      "image/png": {
       "height": 420,
       "width": 420
      },
      "text/plain": {
       "height": 420,
       "width": 420
      }
     },
     "output_type": "display_data"
    }
   ],
   "source": [
    "#Deterime LOD Values\n",
    "TraitCIM<-cim(Map,pheno.col = colNum,method = \"hk\",\n",
    "              map.function = \"kosambi\") #Generate LOD Values\n",
    "plot(TraitCIM) #show LOD graph\n",
    "abline(h = LOD5,col = \"blue\") #overlay statistically significant line\n",
    "print(\"If nothing shows up, the values \n",
    "      are below the LOD5 score\") #warning for no peaks\n",
    "summary(TraitCIM)"
   ]
  },
  {
   "cell_type": "code",
   "execution_count": 15,
   "metadata": {},
   "outputs": [
    {
     "name": "stdin",
     "output_type": "stream",
     "text": [
      "Chromosome?  4\n"
     ]
    },
    {
     "data": {
      "image/png": "[encoded data removed]",
      "text/plain": [
       "plot without title"
      ]
     },
     "metadata": {
      "image/png": {
       "height": 420,
       "width": 420
      },
      "text/plain": {
       "height": 420,
       "width": 420
      }
     },
     "output_type": "display_data"
    }
   ],
   "source": [
    "#Chromosomal Analysis\n",
    "chr <- as.numeric(readline(\"Chromosome? \")) #collect chromosome to look at\n",
    "plot(TraitCIM, chr = chr,xlab = c(\"chr\",chr)) #Plot chr LOD scores\n",
    "abline(h = LOD5, col = \"blue\") #Statistically Significant"
   ]
  },
  {
   "cell_type": "code",
   "execution_count": 16,
   "metadata": {},
   "outputs": [
    {
     "data": {
      "text/html": [
       "<table>\n",
       "<caption>A scanone: 3 × 3</caption>\n",
       "<thead>\n",
       "\t<tr><th></th><th scope=col>chr</th><th scope=col>pos</th><th scope=col>lod</th></tr>\n",
       "\t<tr><th></th><th scope=col>&lt;fct&gt;</th><th scope=col>&lt;dbl&gt;</th><th scope=col>&lt;dbl&gt;</th></tr>\n",
       "</thead>\n",
       "<tbody>\n",
       "\t<tr><th scope=row>4_2007592</th><td>4</td><td> 7.853008</td><td>0.068615099</td></tr>\n",
       "\t<tr><th scope=row>c4.loc14</th><td>4</td><td>14.000000</td><td>3.097823265</td></tr>\n",
       "\t<tr><th scope=row>4_6046549</th><td>4</td><td>23.432018</td><td>0.001150797</td></tr>\n",
       "</tbody>\n",
       "</table>\n"
      ],
      "text/latex": [
       "A scanone: 3 × 3\n",
       "\\begin{tabular}{r|lll}\n",
       "  & chr & pos & lod\\\\\n",
       "  & <fct> & <dbl> & <dbl>\\\\\n",
       "\\hline\n",
       "\t4\\_2007592 & 4 &  7.853008 & 0.068615099\\\\\n",
       "\tc4.loc14 & 4 & 14.000000 & 3.097823265\\\\\n",
       "\t4\\_6046549 & 4 & 23.432018 & 0.001150797\\\\\n",
       "\\end{tabular}\n"
      ],
      "text/markdown": [
       "\n",
       "A scanone: 3 × 3\n",
       "\n",
       "| <!--/--> | chr &lt;fct&gt; | pos &lt;dbl&gt; | lod &lt;dbl&gt; |\n",
       "|---|---|---|---|\n",
       "| 4_2007592 | 4 |  7.853008 | 0.068615099 |\n",
       "| c4.loc14 | 4 | 14.000000 | 3.097823265 |\n",
       "| 4_6046549 | 4 | 23.432018 | 0.001150797 |\n",
       "\n"
      ],
      "text/plain": [
       "          chr pos       lod        \n",
       "4_2007592 4    7.853008 0.068615099\n",
       "c4.loc14  4   14.000000 3.097823265\n",
       "4_6046549 4   23.432018 0.001150797"
      ]
     },
     "metadata": {},
     "output_type": "display_data"
    },
    {
     "data": {
      "text/html": [
       "<table>\n",
       "<caption>A scanone: 3 × 3</caption>\n",
       "<thead>\n",
       "\t<tr><th></th><th scope=col>chr</th><th scope=col>pos</th><th scope=col>lod</th></tr>\n",
       "\t<tr><th></th><th scope=col>&lt;fct&gt;</th><th scope=col>&lt;dbl&gt;</th><th scope=col>&lt;dbl&gt;</th></tr>\n",
       "</thead>\n",
       "<tbody>\n",
       "\t<tr><th scope=row>4_2007592</th><td>4</td><td> 7.853008</td><td>0.0686151</td></tr>\n",
       "\t<tr><th scope=row>c4.loc14</th><td>4</td><td>14.000000</td><td>3.0978233</td></tr>\n",
       "\t<tr><th scope=row>4_3902010</th><td>4</td><td>15.081015</td><td>1.1312301</td></tr>\n",
       "</tbody>\n",
       "</table>\n"
      ],
      "text/latex": [
       "A scanone: 3 × 3\n",
       "\\begin{tabular}{r|lll}\n",
       "  & chr & pos & lod\\\\\n",
       "  & <fct> & <dbl> & <dbl>\\\\\n",
       "\\hline\n",
       "\t4\\_2007592 & 4 &  7.853008 & 0.0686151\\\\\n",
       "\tc4.loc14 & 4 & 14.000000 & 3.0978233\\\\\n",
       "\t4\\_3902010 & 4 & 15.081015 & 1.1312301\\\\\n",
       "\\end{tabular}\n"
      ],
      "text/markdown": [
       "\n",
       "A scanone: 3 × 3\n",
       "\n",
       "| <!--/--> | chr &lt;fct&gt; | pos &lt;dbl&gt; | lod &lt;dbl&gt; |\n",
       "|---|---|---|---|\n",
       "| 4_2007592 | 4 |  7.853008 | 0.0686151 |\n",
       "| c4.loc14 | 4 | 14.000000 | 3.0978233 |\n",
       "| 4_3902010 | 4 | 15.081015 | 1.1312301 |\n",
       "\n"
      ],
      "text/plain": [
       "          chr pos       lod      \n",
       "4_2007592 4    7.853008 0.0686151\n",
       "c4.loc14  4   14.000000 3.0978233\n",
       "4_3902010 4   15.081015 1.1312301"
      ]
     },
     "metadata": {},
     "output_type": "display_data"
    }
   ],
   "source": [
    "bayesint(TraitCIM, chr = chr, prob=0.95, expandtomarkers=TRUE) #calculate bayesian interval\n",
    "lodint(TraitCIM, chr = chr,expandtomarkers = TRUE ) #calculate LOD Support interval"
   ]
  },
  {
   "cell_type": "code",
   "execution_count": 17,
   "metadata": {},
   "outputs": [
    {
     "name": "stdin",
     "output_type": "stream",
     "text": [
      "Position for analysis:  14.000000\n"
     ]
    },
    {
     "name": "stderr",
     "output_type": "stream",
     "text": [
      "Warning message in getsex(cross):\n",
      "\"125 individuals with missing sex; assuming they're female\"\n",
      "Warning message in fitqtlengine(pheno = pheno, qtl = qtl, covar = covar, formula = formula, :\n",
      "\"Dropping 100 individuals with missing phenotypes.\n",
      "\"\n",
      "Warning message in getsex(cross):\n",
      "\"125 individuals with missing sex; assuming they're female\"\n"
     ]
    },
    {
     "data": {
      "text/plain": [
       "\n",
       "\t\tfitqtl summary\n",
       "\n",
       "Method: Haley-Knott regression \n",
       "Model:  normal phenotype\n",
       "Number of observations : 194 \n",
       "\n",
       "Full model result\n",
       "----------------------------------  \n",
       "Model formula: y ~ Q1 \n",
       "\n",
       "       df         SS        MS      LOD     %var Pvalue(Chi2)    Pvalue(F)\n",
       "Model   1   90.17091 90.170913 3.196155 7.306357 0.0001247932 0.0001379854\n",
       "Error 192 1143.97228  5.958189                                            \n",
       "Total 193 1234.14319                                                      \n",
       "\n",
       "\n",
       "Estimated effects:\n",
       "-----------------\n",
       "              est      SE      t\n",
       "Intercept  1.6067  0.1757  9.145\n",
       "4@14.0    -2.0729  0.5328 -3.890\n"
      ]
     },
     "metadata": {},
     "output_type": "display_data"
    }
   ],
   "source": [
    "p <- as.numeric(readline(\"Position for analysis: \"))\n",
    "qtl <- makeqtl(Map, chr = chr, pos = p, what=\"prob\") #pulls genotype probabilities\n",
    "fitqtl <- fitqtl(Map, pheno.col=colNum, qtl = qtl, covar=NULL,\n",
    "       method= \"hk\",model=\"normal\",\n",
    "       dropone=TRUE, get.ests=TRUE,run.checks=TRUE,\n",
    "       tol=1e-4, maxit=1000, forceXcovar=FALSE) #sees how well our data fits a given formula \n",
    "          # If you see \"error: object of type 'closure' is not subsettable\", remove \"formula,\" from the fitqtl argument list.\n",
    "summary(fitqtl) #Print results of the analysis"
   ]
  },
  {
   "cell_type": "code",
   "execution_count": null,
   "metadata": {},
   "outputs": [],
   "source": []
  }
 ],
 "metadata": {
  "kernelspec": {
   "display_name": "R",
   "language": "R",
   "name": "ir"
  },
  "language_info": {
   "codemirror_mode": "r",
   "file_extension": ".r",
   "mimetype": "text/x-r-source",
   "name": "R",
   "pygments_lexer": "r",
   "version": "3.6.3"
  }
 },
 "nbformat": 4,
 "nbformat_minor": 4
}
