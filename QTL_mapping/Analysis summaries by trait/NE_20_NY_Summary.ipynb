{
 "cells": [
  {
   "cell_type": "markdown",
   "metadata": {},
   "source": [
    "This analysis is in the order of Female then Male"
   ]
  },
  {
   "cell_type": "code",
   "execution_count": 1,
   "metadata": {},
   "outputs": [
    {
     "name": "stderr",
     "output_type": "stream",
     "text": [
      "Installing package into 'C:/Users/Courtney/Documents/R/win-library/3.6'\n",
      "(as 'lib' is unspecified)\n",
      "\n"
     ]
    },
    {
     "name": "stdout",
     "output_type": "stream",
     "text": [
      "package 'qtl' successfully unpacked and MD5 sums checked\n",
      "\n",
      "The downloaded binary packages are in\n",
      "\tC:\\Users\\Courtney\\AppData\\Local\\Temp\\RtmpKOyou1\\downloaded_packages\n"
     ]
    },
    {
     "name": "stderr",
     "output_type": "stream",
     "text": [
      "Installing package into 'C:/Users/Courtney/Documents/R/win-library/3.6'\n",
      "(as 'lib' is unspecified)\n",
      "\n"
     ]
    },
    {
     "name": "stdout",
     "output_type": "stream",
     "text": [
      "package 'qtlcharts' successfully unpacked and MD5 sums checked\n",
      "\n",
      "The downloaded binary packages are in\n",
      "\tC:\\Users\\Courtney\\AppData\\Local\\Temp\\RtmpKOyou1\\downloaded_packages\n"
     ]
    },
    {
     "name": "stderr",
     "output_type": "stream",
     "text": [
      "Installing package into 'C:/Users/Courtney/Documents/R/win-library/3.6'\n",
      "(as 'lib' is unspecified)\n",
      "\n"
     ]
    },
    {
     "name": "stdout",
     "output_type": "stream",
     "text": [
      "package 'LinkageMapView' successfully unpacked and MD5 sums checked\n",
      "\n",
      "The downloaded binary packages are in\n",
      "\tC:\\Users\\Courtney\\AppData\\Local\\Temp\\RtmpKOyou1\\downloaded_packages\n"
     ]
    },
    {
     "name": "stderr",
     "output_type": "stream",
     "text": [
      "Installing package into 'C:/Users/Courtney/Documents/R/win-library/3.6'\n",
      "(as 'lib' is unspecified)\n",
      "\n"
     ]
    },
    {
     "name": "stdout",
     "output_type": "stream",
     "text": [
      "package 'rcompanion' successfully unpacked and MD5 sums checked\n",
      "\n",
      "The downloaded binary packages are in\n",
      "\tC:\\Users\\Courtney\\AppData\\Local\\Temp\\RtmpKOyou1\\downloaded_packages\n"
     ]
    }
   ],
   "source": [
    "install.packages('qtl') #Main package, for analysis\n",
    "install.packages('qtlcharts') #accessory, for displaying graphs\n",
    "install.packages('LinkageMapView') #accessory, for displaying linkage maps\n",
    "install.packages('rcompanion')# for plotNormalHistogram"
   ]
  },
  {
   "cell_type": "code",
   "execution_count": 2,
   "metadata": {},
   "outputs": [],
   "source": [
    "library(qtl) #load packages\n",
    "library(qtlcharts)\n",
    "library(LinkageMapView)\n",
    "library(rcompanion)"
   ]
  },
  {
   "cell_type": "code",
   "execution_count": 20,
   "metadata": {},
   "outputs": [
    {
     "name": "stdout",
     "output_type": "stream",
     "text": [
      "[1] \"Make sure to input names AS THEY APPEAR on the csv!!\"\n"
     ]
    },
    {
     "name": "stdin",
     "output_type": "stream",
     "text": [
      "Enter file name (Either FemaleMap.csv or MaleMap.csv):  FemaleMap.csv\n",
      "First Genotype (homozygous) (For example ll):  ll\n",
      "Second Genotype (heterozygous) (for example lm):  lm\n",
      "Column Number:  44\n"
     ]
    }
   ],
   "source": [
    "#Collecting enviroment variables\n",
    "print(\"Make sure to input names AS THEY APPEAR on the csv!!\") #Just a user warning\n",
    "fileName <- readline(\"Enter file name (Either FemaleMap.csv or MaleMap.csv): \") #Mapping table file\n",
    "genotypeName <- c(readline(\"First Genotype (homozygous) (For example ll): \"),\n",
    "                  readline(\"Second Genotype (heterozygous) (for example lm): \")) #For example \"nn\", \"np\"\n",
    "alleleName <- c(substr(genotypeName[2],1,1) ,substr(genotypeName[2],2,2))\n",
    "naNames <- c(\"NA\",\"--\") #For example \"NA\", \"--\"\n",
    "colNum <- as.numeric(readline(\"Column Number: \")) #Column for pheno of interest"
   ]
  },
  {
   "cell_type": "code",
   "execution_count": 21,
   "metadata": {},
   "outputs": [
    {
     "name": "stdout",
     "output_type": "stream",
     "text": [
      " --Read the following data:\n",
      "\t 294  individuals\n",
      "\t 1100  markers\n",
      "\t 45  phenotypes\n"
     ]
    },
    {
     "name": "stderr",
     "output_type": "stream",
     "text": [
      "Warning message in summary.cross(cross):\n",
      "\"Some markers at the same position on chr 1,2,4,5,7,8,9,10,11,12,13,14,16,17,18,19; use jittermap().\"\n"
     ]
    },
    {
     "name": "stdout",
     "output_type": "stream",
     "text": [
      " --Cross type: bc \n"
     ]
    },
    {
     "data": {
      "image/png": "[encoded data removed]",
      "text/plain": [
       "Plot with title \"Genetic map\""
      ]
     },
     "metadata": {
      "image/png": {
       "height": 420,
       "width": 420
      },
      "text/plain": {
       "height": 420,
       "width": 420
      }
     },
     "output_type": "display_data"
    }
   ],
   "source": [
    "#Map generation\n",
    "Map <- read.cross(format = 'csv',file = fileName \n",
    "                  ,genotypes = genotypeName,\n",
    "                  alleles = alleleName,na.strings = naNames) #generate linkage map\n",
    "Map <- jittermap(Map) #make sure no markers are in the same location\n",
    "Map <- calc.genoprob(Map,step = 1,map.function = \"kosambi\") #associate markers with full genotypes\n",
    "plot.map(Map) #draw linkage map"
   ]
  },
  {
   "cell_type": "code",
   "execution_count": 22,
   "metadata": {},
   "outputs": [
    {
     "data": {
      "image/png": "[encoded data removed]",
      "text/plain": [
       "Plot with title \"\""
      ]
     },
     "metadata": {
      "image/png": {
       "height": 420,
       "width": 420
      },
      "text/plain": {
       "height": 420,
       "width": 420
      }
     },
     "output_type": "display_data"
    }
   ],
   "source": [
    "plotNormalHistogram(Map$pheno[,colNum]) #normal histogram of pheno of interest"
   ]
  },
  {
   "cell_type": "markdown",
   "metadata": {},
   "source": [
    "Outliers exist in this dataset. Will need to be analyized. "
   ]
  },
  {
   "cell_type": "code",
   "execution_count": 23,
   "metadata": {},
   "outputs": [
    {
     "data": {
      "text/plain": [
       "LOD thresholds (1000 permutations)\n",
       "   [,1]\n",
       "5% 4.11\n",
       "1% 5.29"
      ]
     },
     "metadata": {},
     "output_type": "display_data"
    },
    {
     "data": {
      "image/png": "[encoded data removed]",
      "text/plain": [
       "Plot with title \"\""
      ]
     },
     "metadata": {
      "image/png": {
       "height": 420,
       "width": 420
      },
      "text/plain": {
       "height": 420,
       "width": 420
      }
     },
     "output_type": "display_data"
    }
   ],
   "source": [
    "#Compute statistically significant values\n",
    "TraitCIM1000 <- cim(Map,pheno.col = colNum,method = \"hk\",\n",
    "                    map.function = \"kosambi\",n.perm = 1000) # Function will take a moment to run, determines LOD value\n",
    "plot(TraitCIM1000,col = 'green') #show distribution of lod scores\n",
    "summary(TraitCIM1000,alpha=c(.05,.01))"
   ]
  },
  {
   "cell_type": "code",
   "execution_count": 24,
   "metadata": {},
   "outputs": [
    {
     "name": "stdout",
     "output_type": "stream",
     "text": [
      "[1] \"If nothing shows up, the values \\n      are below the LOD5 score\"\n"
     ]
    },
    {
     "data": {
      "text/html": [
       "<table>\n",
       "<caption>A summary.scanone: 19 × 3</caption>\n",
       "<thead>\n",
       "\t<tr><th></th><th scope=col>chr</th><th scope=col>pos</th><th scope=col>lod</th></tr>\n",
       "\t<tr><th></th><th scope=col>&lt;fct&gt;</th><th scope=col>&lt;dbl&gt;</th><th scope=col>&lt;dbl&gt;</th></tr>\n",
       "</thead>\n",
       "<tbody>\n",
       "\t<tr><th scope=row>c1.loc6</th><td>1 </td><td> 6.000000</td><td>0.6970085</td></tr>\n",
       "\t<tr><th scope=row>14_23184626</th><td>2 </td><td>70.071022</td><td>1.4448644</td></tr>\n",
       "\t<tr><th scope=row>3_4201050</th><td>3 </td><td>25.337020</td><td>0.7750523</td></tr>\n",
       "\t<tr><th scope=row>4_2581004</th><td>4 </td><td> 8.537008</td><td>0.9009216</td></tr>\n",
       "\t<tr><th scope=row>5_4631768</th><td>5 </td><td>16.698008</td><td>1.0878579</td></tr>\n",
       "\t<tr><th scope=row>c6.loc51</th><td>6 </td><td>51.000000</td><td>3.7772184</td></tr>\n",
       "\t<tr><th scope=row>7_2244958</th><td>7 </td><td> 7.223012</td><td>0.6521830</td></tr>\n",
       "\t<tr><th scope=row>c8.loc34</th><td>8 </td><td>34.000000</td><td>1.1229071</td></tr>\n",
       "\t<tr><th scope=row>c9.loc21</th><td>9 </td><td>21.000000</td><td>1.4093227</td></tr>\n",
       "\t<tr><th scope=row>17_17189505</th><td>10</td><td> 8.429006</td><td>5.1182117</td></tr>\n",
       "\t<tr><th scope=row>c11.loc28</th><td>11</td><td>28.000000</td><td>0.5935302</td></tr>\n",
       "\t<tr><th scope=row>c12.loc29</th><td>12</td><td>29.000000</td><td>3.1065970</td></tr>\n",
       "\t<tr><th scope=row>13_18428906</th><td>13</td><td>52.060040</td><td>1.6293947</td></tr>\n",
       "\t<tr><th scope=row>c14.loc86</th><td>14</td><td>86.000000</td><td>0.9964058</td></tr>\n",
       "\t<tr><th scope=row>c15.loc8</th><td>15</td><td> 8.000000</td><td>0.5612430</td></tr>\n",
       "\t<tr><th scope=row>16_7987237</th><td>16</td><td>14.755018</td><td>9.8352765</td></tr>\n",
       "\t<tr><th scope=row>17_8072555</th><td>17</td><td>44.343023</td><td>1.5166312</td></tr>\n",
       "\t<tr><th scope=row>c18.loc17</th><td>18</td><td>17.000000</td><td>1.8995296</td></tr>\n",
       "\t<tr><th scope=row>19_7785608</th><td>19</td><td>40.647052</td><td>0.9347615</td></tr>\n",
       "</tbody>\n",
       "</table>\n"
      ],
      "text/latex": [
       "A summary.scanone: 19 × 3\n",
       "\\begin{tabular}{r|lll}\n",
       "  & chr & pos & lod\\\\\n",
       "  & <fct> & <dbl> & <dbl>\\\\\n",
       "\\hline\n",
       "\tc1.loc6 & 1  &  6.000000 & 0.6970085\\\\\n",
       "\t14\\_23184626 & 2  & 70.071022 & 1.4448644\\\\\n",
       "\t3\\_4201050 & 3  & 25.337020 & 0.7750523\\\\\n",
       "\t4\\_2581004 & 4  &  8.537008 & 0.9009216\\\\\n",
       "\t5\\_4631768 & 5  & 16.698008 & 1.0878579\\\\\n",
       "\tc6.loc51 & 6  & 51.000000 & 3.7772184\\\\\n",
       "\t7\\_2244958 & 7  &  7.223012 & 0.6521830\\\\\n",
       "\tc8.loc34 & 8  & 34.000000 & 1.1229071\\\\\n",
       "\tc9.loc21 & 9  & 21.000000 & 1.4093227\\\\\n",
       "\t17\\_17189505 & 10 &  8.429006 & 5.1182117\\\\\n",
       "\tc11.loc28 & 11 & 28.000000 & 0.5935302\\\\\n",
       "\tc12.loc29 & 12 & 29.000000 & 3.1065970\\\\\n",
       "\t13\\_18428906 & 13 & 52.060040 & 1.6293947\\\\\n",
       "\tc14.loc86 & 14 & 86.000000 & 0.9964058\\\\\n",
       "\tc15.loc8 & 15 &  8.000000 & 0.5612430\\\\\n",
       "\t16\\_7987237 & 16 & 14.755018 & 9.8352765\\\\\n",
       "\t17\\_8072555 & 17 & 44.343023 & 1.5166312\\\\\n",
       "\tc18.loc17 & 18 & 17.000000 & 1.8995296\\\\\n",
       "\t19\\_7785608 & 19 & 40.647052 & 0.9347615\\\\\n",
       "\\end{tabular}\n"
      ],
      "text/markdown": [
       "\n",
       "A summary.scanone: 19 × 3\n",
       "\n",
       "| <!--/--> | chr &lt;fct&gt; | pos &lt;dbl&gt; | lod &lt;dbl&gt; |\n",
       "|---|---|---|---|\n",
       "| c1.loc6 | 1  |  6.000000 | 0.6970085 |\n",
       "| 14_23184626 | 2  | 70.071022 | 1.4448644 |\n",
       "| 3_4201050 | 3  | 25.337020 | 0.7750523 |\n",
       "| 4_2581004 | 4  |  8.537008 | 0.9009216 |\n",
       "| 5_4631768 | 5  | 16.698008 | 1.0878579 |\n",
       "| c6.loc51 | 6  | 51.000000 | 3.7772184 |\n",
       "| 7_2244958 | 7  |  7.223012 | 0.6521830 |\n",
       "| c8.loc34 | 8  | 34.000000 | 1.1229071 |\n",
       "| c9.loc21 | 9  | 21.000000 | 1.4093227 |\n",
       "| 17_17189505 | 10 |  8.429006 | 5.1182117 |\n",
       "| c11.loc28 | 11 | 28.000000 | 0.5935302 |\n",
       "| c12.loc29 | 12 | 29.000000 | 3.1065970 |\n",
       "| 13_18428906 | 13 | 52.060040 | 1.6293947 |\n",
       "| c14.loc86 | 14 | 86.000000 | 0.9964058 |\n",
       "| c15.loc8 | 15 |  8.000000 | 0.5612430 |\n",
       "| 16_7987237 | 16 | 14.755018 | 9.8352765 |\n",
       "| 17_8072555 | 17 | 44.343023 | 1.5166312 |\n",
       "| c18.loc17 | 18 | 17.000000 | 1.8995296 |\n",
       "| 19_7785608 | 19 | 40.647052 | 0.9347615 |\n",
       "\n"
      ],
      "text/plain": [
       "            chr pos       lod      \n",
       "c1.loc6     1    6.000000 0.6970085\n",
       "14_23184626 2   70.071022 1.4448644\n",
       "3_4201050   3   25.337020 0.7750523\n",
       "4_2581004   4    8.537008 0.9009216\n",
       "5_4631768   5   16.698008 1.0878579\n",
       "c6.loc51    6   51.000000 3.7772184\n",
       "7_2244958   7    7.223012 0.6521830\n",
       "c8.loc34    8   34.000000 1.1229071\n",
       "c9.loc21    9   21.000000 1.4093227\n",
       "17_17189505 10   8.429006 5.1182117\n",
       "c11.loc28   11  28.000000 0.5935302\n",
       "c12.loc29   12  29.000000 3.1065970\n",
       "13_18428906 13  52.060040 1.6293947\n",
       "c14.loc86   14  86.000000 0.9964058\n",
       "c15.loc8    15   8.000000 0.5612430\n",
       "16_7987237  16  14.755018 9.8352765\n",
       "17_8072555  17  44.343023 1.5166312\n",
       "c18.loc17   18  17.000000 1.8995296\n",
       "19_7785608  19  40.647052 0.9347615"
      ]
     },
     "metadata": {},
     "output_type": "display_data"
    },
    {
     "data": {
      "image/png": "[encoded data removed]",
      "text/plain": [
       "plot without title"
      ]
     },
     "metadata": {
      "image/png": {
       "height": 420,
       "width": 420
      },
      "text/plain": {
       "height": 420,
       "width": 420
      }
     },
     "output_type": "display_data"
    }
   ],
   "source": [
    "#Deterime LOD Values\n",
    "LOD5 <- summary(TraitCIM1000,alpha=c(.05))\n",
    "TraitCIM<-cim(Map,pheno.col = colNum,method = \"hk\",\n",
    "              map.function = \"kosambi\") #Generate LOD Values\n",
    "plot(TraitCIM) #show LOD graph\n",
    "abline(h = LOD5,col = \"blue\") #overlay statistically significant line\n",
    "print(\"If nothing shows up, the values \n",
    "      are below the LOD5 score\") #warning for no peaks\n",
    "summary(TraitCIM)"
   ]
  },
  {
   "cell_type": "code",
   "execution_count": 26,
   "metadata": {},
   "outputs": [
    {
     "name": "stdin",
     "output_type": "stream",
     "text": [
      "Chromosome?  16\n"
     ]
    },
    {
     "data": {
      "image/png": "[encoded data removed]",
      "text/plain": [
       "plot without title"
      ]
     },
     "metadata": {
      "image/png": {
       "height": 420,
       "width": 420
      },
      "text/plain": {
       "height": 420,
       "width": 420
      }
     },
     "output_type": "display_data"
    }
   ],
   "source": [
    "#Chromosomal Analysis\n",
    "chr <- as.numeric(readline(\"Chromosome? \")) #collect chromosome to look at\n",
    "plot(TraitCIM, chr = chr,xlab = c(\"chr\",chr)) #Plot chr LOD scores\n",
    "abline(h = LOD5, col = \"blue\") #Statistically Significant"
   ]
  },
  {
   "cell_type": "code",
   "execution_count": 9,
   "metadata": {},
   "outputs": [
    {
     "data": {
      "text/html": [
       "<table>\n",
       "<caption>A scanone: 3 × 3</caption>\n",
       "<thead>\n",
       "\t<tr><th></th><th scope=col>chr</th><th scope=col>pos</th><th scope=col>lod</th></tr>\n",
       "\t<tr><th></th><th scope=col>&lt;fct&gt;</th><th scope=col>&lt;dbl&gt;</th><th scope=col>&lt;dbl&gt;</th></tr>\n",
       "</thead>\n",
       "<tbody>\n",
       "\t<tr><th scope=row>16_7987236</th><td>16</td><td>14.66002</td><td>9.38463669</td></tr>\n",
       "\t<tr><th scope=row>16_7987237</th><td>16</td><td>14.75502</td><td>9.69433621</td></tr>\n",
       "\t<tr><th scope=row>16_14618393</th><td>16</td><td>21.25103</td><td>0.06771751</td></tr>\n",
       "</tbody>\n",
       "</table>\n"
      ],
      "text/latex": [
       "A scanone: 3 × 3\n",
       "\\begin{tabular}{r|lll}\n",
       "  & chr & pos & lod\\\\\n",
       "  & <fct> & <dbl> & <dbl>\\\\\n",
       "\\hline\n",
       "\t16\\_7987236 & 16 & 14.66002 & 9.38463669\\\\\n",
       "\t16\\_7987237 & 16 & 14.75502 & 9.69433621\\\\\n",
       "\t16\\_14618393 & 16 & 21.25103 & 0.06771751\\\\\n",
       "\\end{tabular}\n"
      ],
      "text/markdown": [
       "\n",
       "A scanone: 3 × 3\n",
       "\n",
       "| <!--/--> | chr &lt;fct&gt; | pos &lt;dbl&gt; | lod &lt;dbl&gt; |\n",
       "|---|---|---|---|\n",
       "| 16_7987236 | 16 | 14.66002 | 9.38463669 |\n",
       "| 16_7987237 | 16 | 14.75502 | 9.69433621 |\n",
       "| 16_14618393 | 16 | 21.25103 | 0.06771751 |\n",
       "\n"
      ],
      "text/plain": [
       "            chr pos      lod       \n",
       "16_7987236  16  14.66002 9.38463669\n",
       "16_7987237  16  14.75502 9.69433621\n",
       "16_14618393 16  21.25103 0.06771751"
      ]
     },
     "metadata": {},
     "output_type": "display_data"
    },
    {
     "data": {
      "text/html": [
       "<table>\n",
       "<caption>A scanone: 3 × 3</caption>\n",
       "<thead>\n",
       "\t<tr><th></th><th scope=col>chr</th><th scope=col>pos</th><th scope=col>lod</th></tr>\n",
       "\t<tr><th></th><th scope=col>&lt;fct&gt;</th><th scope=col>&lt;dbl&gt;</th><th scope=col>&lt;dbl&gt;</th></tr>\n",
       "</thead>\n",
       "<tbody>\n",
       "\t<tr><th scope=row>16_6692998</th><td>16</td><td>14.07701</td><td>0.17341460</td></tr>\n",
       "\t<tr><th scope=row>16_7987237</th><td>16</td><td>14.75502</td><td>9.69433621</td></tr>\n",
       "\t<tr><th scope=row>16_14618393</th><td>16</td><td>21.25103</td><td>0.06771751</td></tr>\n",
       "</tbody>\n",
       "</table>\n"
      ],
      "text/latex": [
       "A scanone: 3 × 3\n",
       "\\begin{tabular}{r|lll}\n",
       "  & chr & pos & lod\\\\\n",
       "  & <fct> & <dbl> & <dbl>\\\\\n",
       "\\hline\n",
       "\t16\\_6692998 & 16 & 14.07701 & 0.17341460\\\\\n",
       "\t16\\_7987237 & 16 & 14.75502 & 9.69433621\\\\\n",
       "\t16\\_14618393 & 16 & 21.25103 & 0.06771751\\\\\n",
       "\\end{tabular}\n"
      ],
      "text/markdown": [
       "\n",
       "A scanone: 3 × 3\n",
       "\n",
       "| <!--/--> | chr &lt;fct&gt; | pos &lt;dbl&gt; | lod &lt;dbl&gt; |\n",
       "|---|---|---|---|\n",
       "| 16_6692998 | 16 | 14.07701 | 0.17341460 |\n",
       "| 16_7987237 | 16 | 14.75502 | 9.69433621 |\n",
       "| 16_14618393 | 16 | 21.25103 | 0.06771751 |\n",
       "\n"
      ],
      "text/plain": [
       "            chr pos      lod       \n",
       "16_6692998  16  14.07701 0.17341460\n",
       "16_7987237  16  14.75502 9.69433621\n",
       "16_14618393 16  21.25103 0.06771751"
      ]
     },
     "metadata": {},
     "output_type": "display_data"
    }
   ],
   "source": [
    "bayesint(TraitCIM, chr = chr, prob=0.95, expandtomarkers=TRUE) #calculate bayesian interval\n",
    "lodint(TraitCIM, chr = chr,expandtomarkers = TRUE ) #calculate LOD Support interval"
   ]
  },
  {
   "cell_type": "code",
   "execution_count": 10,
   "metadata": {},
   "outputs": [
    {
     "name": "stdin",
     "output_type": "stream",
     "text": [
      "Position for analysis:  14.75502\n"
     ]
    },
    {
     "name": "stderr",
     "output_type": "stream",
     "text": [
      "Warning message in getsex(cross):\n",
      "\"125 individuals with missing sex; assuming they're female\"\n",
      "Warning message in fitqtlengine(pheno = pheno, qtl = qtl, covar = covar, formula = formula, :\n",
      "\"Dropping 122 individuals with missing phenotypes.\n",
      "\"\n",
      "Warning message in getsex(cross):\n",
      "\"125 individuals with missing sex; assuming they're female\"\n"
     ]
    },
    {
     "data": {
      "text/plain": [
       "\n",
       "\t\tfitqtl summary\n",
       "\n",
       "Method: Haley-Knott regression \n",
       "Model:  normal phenotype\n",
       "Number of observations : 172 \n",
       "\n",
       "Full model result\n",
       "----------------------------------  \n",
       "Model formula: y ~ Q1 \n",
       "\n",
       "       df       SS        MS     LOD     %var Pvalue(Chi2)    Pvalue(F)\n",
       "Model   1  8.43680 8.4367997 8.53007 20.41831 3.667274e-10 4.907272e-10\n",
       "Error 170 32.88297 0.1934292                                           \n",
       "Total 171 41.31977                                                     \n",
       "\n",
       "\n",
       "Estimated effects:\n",
       "-----------------\n",
       "              est      SE      t\n",
       "Intercept 0.60199 0.03354 17.949\n",
       "16@14.8   0.44532 0.06743  6.604\n"
      ]
     },
     "metadata": {},
     "output_type": "display_data"
    }
   ],
   "source": [
    "p <- as.numeric(readline(\"Position for analysis: \"))\n",
    "qtl <- makeqtl(Map, chr = chr, pos = p, what=\"prob\") #pulls genotype probabilities\n",
    "fitqtl <- fitqtl(Map, pheno.col=colNum, qtl = qtl, covar=NULL,\n",
    "       method= \"hk\",model=\"normal\",\n",
    "       dropone=TRUE, get.ests=TRUE,run.checks=TRUE,\n",
    "       tol=1e-4, maxit=1000, forceXcovar=FALSE) #sees how well our data fits a given formula \n",
    "          # If you see \"error: object of type 'closure' is not subsettable\", remove \"formula,\" from the fitqtl argument list.\n",
    "summary(fitqtl) #Print results of the analysis"
   ]
  },
  {
   "cell_type": "code",
   "execution_count": 11,
   "metadata": {},
   "outputs": [
    {
     "name": "stdout",
     "output_type": "stream",
     "text": [
      "[1] \"Make sure to input names AS THEY APPEAR on the csv!!\"\n"
     ]
    },
    {
     "name": "stdin",
     "output_type": "stream",
     "text": [
      "Enter file name (Either FemaleMap.csv or MaleMap.csv):  MaleMap.csv\n",
      "First Genotype (homozygous) (For example ll):  nn\n",
      "Second Genotype (heterozygous) (for example lm):  np\n",
      "Column Number:  44\n"
     ]
    }
   ],
   "source": [
    "#Collecting enviroment variables\n",
    "print(\"Make sure to input names AS THEY APPEAR on the csv!!\") #Just a user warning\n",
    "fileName <- readline(\"Enter file name (Either FemaleMap.csv or MaleMap.csv): \") #Mapping table file\n",
    "genotypeName <- c(readline(\"First Genotype (homozygous) (For example ll): \"),\n",
    "                  readline(\"Second Genotype (heterozygous) (for example lm): \")) #For example \"nn\", \"np\"\n",
    "alleleName <- c(substr(genotypeName[2],1,1) ,substr(genotypeName[2],2,2))\n",
    "naNames <- c(\"NA\",\"--\") #For example \"NA\", \"--\"\n",
    "colNum <- as.numeric(readline(\"Column Number: \")) #Column for pheno of interest"
   ]
  },
  {
   "cell_type": "code",
   "execution_count": 12,
   "metadata": {},
   "outputs": [
    {
     "name": "stdout",
     "output_type": "stream",
     "text": [
      " --Read the following data:\n",
      "\t 294  individuals\n",
      "\t 1128  markers\n",
      "\t 45  phenotypes\n"
     ]
    },
    {
     "name": "stderr",
     "output_type": "stream",
     "text": [
      "Warning message in summary.cross(cross):\n",
      "\"Some markers at the same position on chr 1,3,4,5,6,7,8,9,10,12,13,14,15,16,17,18,19; use jittermap().\"\n"
     ]
    },
    {
     "name": "stdout",
     "output_type": "stream",
     "text": [
      " --Cross type: bc \n"
     ]
    },
    {
     "data": {
      "image/png": "[encoded data removed]",
      "text/plain": [
       "Plot with title \"Genetic map\""
      ]
     },
     "metadata": {
      "image/png": {
       "height": 420,
       "width": 420
      },
      "text/plain": {
       "height": 420,
       "width": 420
      }
     },
     "output_type": "display_data"
    }
   ],
   "source": [
    "#Map generation\n",
    "Map <- read.cross(format = 'csv',file = fileName \n",
    "                  ,genotypes = genotypeName,\n",
    "                  alleles = alleleName,na.strings = naNames) #generate linkage map\n",
    "Map <- jittermap(Map) #make sure no markers are in the same location\n",
    "Map <- calc.genoprob(Map,step = 1,map.function = \"kosambi\") #associate markers with full genotypes\n",
    "plot.map(Map) #draw linkage map"
   ]
  },
  {
   "cell_type": "code",
   "execution_count": 13,
   "metadata": {},
   "outputs": [
    {
     "data": {
      "image/png": "[encoded data removed]",
      "text/plain": [
       "Plot with title \"\""
      ]
     },
     "metadata": {
      "image/png": {
       "height": 420,
       "width": 420
      },
      "text/plain": {
       "height": 420,
       "width": 420
      }
     },
     "output_type": "display_data"
    }
   ],
   "source": [
    "plotNormalHistogram(Map$pheno[,colNum]) #normal histogram of pheno of interest"
   ]
  },
  {
   "cell_type": "markdown",
   "metadata": {},
   "source": [
    "Outliers exist in this data. "
   ]
  },
  {
   "cell_type": "code",
   "execution_count": 14,
   "metadata": {},
   "outputs": [
    {
     "data": {
      "text/plain": [
       "LOD thresholds (1000 permutations)\n",
       "   [,1]\n",
       "5% 4.19\n",
       "1% 5.19"
      ]
     },
     "metadata": {},
     "output_type": "display_data"
    },
    {
     "data": {
      "image/png": "[encoded data removed]",
      "text/plain": [
       "Plot with title \"\""
      ]
     },
     "metadata": {
      "image/png": {
       "height": 420,
       "width": 420
      },
      "text/plain": {
       "height": 420,
       "width": 420
      }
     },
     "output_type": "display_data"
    }
   ],
   "source": [
    "#Compute statistically significant values\n",
    "TraitCIM1000 <- cim(Map,pheno.col = colNum,method = \"hk\",\n",
    "                    map.function = \"kosambi\",n.perm = 1000) # Function will take a moment to run, determines LOD value\n",
    "plot(TraitCIM1000,col = 'green') #show distribution of lod scores\n",
    "summary(TraitCIM1000,alpha=c(.05,.01))"
   ]
  },
  {
   "cell_type": "code",
   "execution_count": 15,
   "metadata": {},
   "outputs": [
    {
     "name": "stdout",
     "output_type": "stream",
     "text": [
      "[1] \"If nothing shows up, the values \\n      are below the LOD5 score\"\n"
     ]
    },
    {
     "data": {
      "text/html": [
       "<table>\n",
       "<caption>A summary.scanone: 19 × 3</caption>\n",
       "<thead>\n",
       "\t<tr><th></th><th scope=col>chr</th><th scope=col>pos</th><th scope=col>lod</th></tr>\n",
       "\t<tr><th></th><th scope=col>&lt;fct&gt;</th><th scope=col>&lt;dbl&gt;</th><th scope=col>&lt;dbl&gt;</th></tr>\n",
       "</thead>\n",
       "<tbody>\n",
       "\t<tr><th scope=row>1_4197004</th><td>1 </td><td>19.72802</td><td>1.1304106</td></tr>\n",
       "\t<tr><th scope=row>c2.loc21</th><td>2 </td><td>21.00000</td><td>5.1292120</td></tr>\n",
       "\t<tr><th scope=row>c3.loc24</th><td>3 </td><td>24.00000</td><td>2.1635442</td></tr>\n",
       "\t<tr><th scope=row>4_23820188</th><td>4 </td><td>85.26506</td><td>1.8693627</td></tr>\n",
       "\t<tr><th scope=row>c5.loc74</th><td>5 </td><td>74.00000</td><td>1.4771278</td></tr>\n",
       "\t<tr><th scope=row>c6.loc50</th><td>6 </td><td>50.00000</td><td>0.8307974</td></tr>\n",
       "\t<tr><th scope=row>7_18819915</th><td>7 </td><td>71.08906</td><td>1.3017431</td></tr>\n",
       "\t<tr><th scope=row>c8.loc72</th><td>8 </td><td>72.00000</td><td>1.5188724</td></tr>\n",
       "\t<tr><th scope=row>c9.loc24</th><td>9 </td><td>24.00000</td><td>0.5380603</td></tr>\n",
       "\t<tr><th scope=row>10_710185</th><td>10</td><td> 0.00000</td><td>1.1978745</td></tr>\n",
       "\t<tr><th scope=row>c11.loc47</th><td>11</td><td>47.00000</td><td>1.2973463</td></tr>\n",
       "\t<tr><th scope=row>c12.loc34</th><td>12</td><td>34.00000</td><td>0.6007140</td></tr>\n",
       "\t<tr><th scope=row>c13.loc9</th><td>13</td><td> 9.00000</td><td>0.8801122</td></tr>\n",
       "\t<tr><th scope=row>14_21475133</th><td>14</td><td>50.88705</td><td>0.8504316</td></tr>\n",
       "\t<tr><th scope=row>11_11718739</th><td>15</td><td>20.82500</td><td>0.7616341</td></tr>\n",
       "\t<tr><th scope=row>c16.loc58</th><td>16</td><td>58.00000</td><td>1.2212549</td></tr>\n",
       "\t<tr><th scope=row>c17.loc9</th><td>17</td><td> 9.00000</td><td>2.3225341</td></tr>\n",
       "\t<tr><th scope=row>18_6796525</th><td>18</td><td>27.55901</td><td>1.4668047</td></tr>\n",
       "\t<tr><th scope=row>c19.loc53</th><td>19</td><td>53.00000</td><td>1.3092980</td></tr>\n",
       "</tbody>\n",
       "</table>\n"
      ],
      "text/latex": [
       "A summary.scanone: 19 × 3\n",
       "\\begin{tabular}{r|lll}\n",
       "  & chr & pos & lod\\\\\n",
       "  & <fct> & <dbl> & <dbl>\\\\\n",
       "\\hline\n",
       "\t1\\_4197004 & 1  & 19.72802 & 1.1304106\\\\\n",
       "\tc2.loc21 & 2  & 21.00000 & 5.1292120\\\\\n",
       "\tc3.loc24 & 3  & 24.00000 & 2.1635442\\\\\n",
       "\t4\\_23820188 & 4  & 85.26506 & 1.8693627\\\\\n",
       "\tc5.loc74 & 5  & 74.00000 & 1.4771278\\\\\n",
       "\tc6.loc50 & 6  & 50.00000 & 0.8307974\\\\\n",
       "\t7\\_18819915 & 7  & 71.08906 & 1.3017431\\\\\n",
       "\tc8.loc72 & 8  & 72.00000 & 1.5188724\\\\\n",
       "\tc9.loc24 & 9  & 24.00000 & 0.5380603\\\\\n",
       "\t10\\_710185 & 10 &  0.00000 & 1.1978745\\\\\n",
       "\tc11.loc47 & 11 & 47.00000 & 1.2973463\\\\\n",
       "\tc12.loc34 & 12 & 34.00000 & 0.6007140\\\\\n",
       "\tc13.loc9 & 13 &  9.00000 & 0.8801122\\\\\n",
       "\t14\\_21475133 & 14 & 50.88705 & 0.8504316\\\\\n",
       "\t11\\_11718739 & 15 & 20.82500 & 0.7616341\\\\\n",
       "\tc16.loc58 & 16 & 58.00000 & 1.2212549\\\\\n",
       "\tc17.loc9 & 17 &  9.00000 & 2.3225341\\\\\n",
       "\t18\\_6796525 & 18 & 27.55901 & 1.4668047\\\\\n",
       "\tc19.loc53 & 19 & 53.00000 & 1.3092980\\\\\n",
       "\\end{tabular}\n"
      ],
      "text/markdown": [
       "\n",
       "A summary.scanone: 19 × 3\n",
       "\n",
       "| <!--/--> | chr &lt;fct&gt; | pos &lt;dbl&gt; | lod &lt;dbl&gt; |\n",
       "|---|---|---|---|\n",
       "| 1_4197004 | 1  | 19.72802 | 1.1304106 |\n",
       "| c2.loc21 | 2  | 21.00000 | 5.1292120 |\n",
       "| c3.loc24 | 3  | 24.00000 | 2.1635442 |\n",
       "| 4_23820188 | 4  | 85.26506 | 1.8693627 |\n",
       "| c5.loc74 | 5  | 74.00000 | 1.4771278 |\n",
       "| c6.loc50 | 6  | 50.00000 | 0.8307974 |\n",
       "| 7_18819915 | 7  | 71.08906 | 1.3017431 |\n",
       "| c8.loc72 | 8  | 72.00000 | 1.5188724 |\n",
       "| c9.loc24 | 9  | 24.00000 | 0.5380603 |\n",
       "| 10_710185 | 10 |  0.00000 | 1.1978745 |\n",
       "| c11.loc47 | 11 | 47.00000 | 1.2973463 |\n",
       "| c12.loc34 | 12 | 34.00000 | 0.6007140 |\n",
       "| c13.loc9 | 13 |  9.00000 | 0.8801122 |\n",
       "| 14_21475133 | 14 | 50.88705 | 0.8504316 |\n",
       "| 11_11718739 | 15 | 20.82500 | 0.7616341 |\n",
       "| c16.loc58 | 16 | 58.00000 | 1.2212549 |\n",
       "| c17.loc9 | 17 |  9.00000 | 2.3225341 |\n",
       "| 18_6796525 | 18 | 27.55901 | 1.4668047 |\n",
       "| c19.loc53 | 19 | 53.00000 | 1.3092980 |\n",
       "\n"
      ],
      "text/plain": [
       "            chr pos      lod      \n",
       "1_4197004   1   19.72802 1.1304106\n",
       "c2.loc21    2   21.00000 5.1292120\n",
       "c3.loc24    3   24.00000 2.1635442\n",
       "4_23820188  4   85.26506 1.8693627\n",
       "c5.loc74    5   74.00000 1.4771278\n",
       "c6.loc50    6   50.00000 0.8307974\n",
       "7_18819915  7   71.08906 1.3017431\n",
       "c8.loc72    8   72.00000 1.5188724\n",
       "c9.loc24    9   24.00000 0.5380603\n",
       "10_710185   10   0.00000 1.1978745\n",
       "c11.loc47   11  47.00000 1.2973463\n",
       "c12.loc34   12  34.00000 0.6007140\n",
       "c13.loc9    13   9.00000 0.8801122\n",
       "14_21475133 14  50.88705 0.8504316\n",
       "11_11718739 15  20.82500 0.7616341\n",
       "c16.loc58   16  58.00000 1.2212549\n",
       "c17.loc9    17   9.00000 2.3225341\n",
       "18_6796525  18  27.55901 1.4668047\n",
       "c19.loc53   19  53.00000 1.3092980"
      ]
     },
     "metadata": {},
     "output_type": "display_data"
    },
    {
     "data": {
      "image/png": "[encoded data removed]",
      "text/plain": [
       "plot without title"
      ]
     },
     "metadata": {
      "image/png": {
       "height": 420,
       "width": 420
      },
      "text/plain": {
       "height": 420,
       "width": 420
      }
     },
     "output_type": "display_data"
    }
   ],
   "source": [
    "#Deterime LOD Values\n",
    "TraitCIM<-cim(Map,pheno.col = colNum,method = \"hk\",\n",
    "              map.function = \"kosambi\") #Generate LOD Values\n",
    "plot(TraitCIM) #show LOD graph\n",
    "abline(h = LOD5,col = \"blue\") #overlay statistically significant line\n",
    "print(\"If nothing shows up, the values \n",
    "      are below the LOD5 score\") #warning for no peaks\n",
    "summary(TraitCIM)"
   ]
  },
  {
   "cell_type": "code",
   "execution_count": 16,
   "metadata": {},
   "outputs": [
    {
     "name": "stdin",
     "output_type": "stream",
     "text": [
      "Chromosome?  2\n"
     ]
    },
    {
     "data": {
      "image/png": "[encoded data removed]",
      "text/plain": [
       "plot without title"
      ]
     },
     "metadata": {
      "image/png": {
       "height": 420,
       "width": 420
      },
      "text/plain": {
       "height": 420,
       "width": 420
      }
     },
     "output_type": "display_data"
    }
   ],
   "source": [
    "#Chromosomal Analysis\n",
    "chr <- as.numeric(readline(\"Chromosome? \")) #collect chromosome to look at\n",
    "plot(TraitCIM, chr = chr,xlab = c(\"chr\",chr)) #Plot chr LOD scores\n",
    "abline(h = LOD5, col = \"blue\") #Statistically Significant"
   ]
  },
  {
   "cell_type": "code",
   "execution_count": 17,
   "metadata": {},
   "outputs": [
    {
     "data": {
      "text/html": [
       "<table>\n",
       "<caption>A scanone: 3 × 3</caption>\n",
       "<thead>\n",
       "\t<tr><th></th><th scope=col>chr</th><th scope=col>pos</th><th scope=col>lod</th></tr>\n",
       "\t<tr><th></th><th scope=col>&lt;fct&gt;</th><th scope=col>&lt;dbl&gt;</th><th scope=col>&lt;dbl&gt;</th></tr>\n",
       "</thead>\n",
       "<tbody>\n",
       "\t<tr><th scope=row>2_4115561</th><td>2</td><td>18.35101</td><td>3.061330</td></tr>\n",
       "\t<tr><th scope=row>c2.loc21</th><td>2</td><td>21.00000</td><td>5.129212</td></tr>\n",
       "\t<tr><th scope=row>2_4599939</th><td>2</td><td>22.23201</td><td>1.387050</td></tr>\n",
       "</tbody>\n",
       "</table>\n"
      ],
      "text/latex": [
       "A scanone: 3 × 3\n",
       "\\begin{tabular}{r|lll}\n",
       "  & chr & pos & lod\\\\\n",
       "  & <fct> & <dbl> & <dbl>\\\\\n",
       "\\hline\n",
       "\t2\\_4115561 & 2 & 18.35101 & 3.061330\\\\\n",
       "\tc2.loc21 & 2 & 21.00000 & 5.129212\\\\\n",
       "\t2\\_4599939 & 2 & 22.23201 & 1.387050\\\\\n",
       "\\end{tabular}\n"
      ],
      "text/markdown": [
       "\n",
       "A scanone: 3 × 3\n",
       "\n",
       "| <!--/--> | chr &lt;fct&gt; | pos &lt;dbl&gt; | lod &lt;dbl&gt; |\n",
       "|---|---|---|---|\n",
       "| 2_4115561 | 2 | 18.35101 | 3.061330 |\n",
       "| c2.loc21 | 2 | 21.00000 | 5.129212 |\n",
       "| 2_4599939 | 2 | 22.23201 | 1.387050 |\n",
       "\n"
      ],
      "text/plain": [
       "          chr pos      lod     \n",
       "2_4115561 2   18.35101 3.061330\n",
       "c2.loc21  2   21.00000 5.129212\n",
       "2_4599939 2   22.23201 1.387050"
      ]
     },
     "metadata": {},
     "output_type": "display_data"
    },
    {
     "data": {
      "text/html": [
       "<table>\n",
       "<caption>A scanone: 3 × 3</caption>\n",
       "<thead>\n",
       "\t<tr><th></th><th scope=col>chr</th><th scope=col>pos</th><th scope=col>lod</th></tr>\n",
       "\t<tr><th></th><th scope=col>&lt;fct&gt;</th><th scope=col>&lt;dbl&gt;</th><th scope=col>&lt;dbl&gt;</th></tr>\n",
       "</thead>\n",
       "<tbody>\n",
       "\t<tr><th scope=row>2_4115561</th><td>2</td><td>18.35101</td><td>3.061330</td></tr>\n",
       "\t<tr><th scope=row>c2.loc21</th><td>2</td><td>21.00000</td><td>5.129212</td></tr>\n",
       "\t<tr><th scope=row>2_4599939</th><td>2</td><td>22.23201</td><td>1.387050</td></tr>\n",
       "</tbody>\n",
       "</table>\n"
      ],
      "text/latex": [
       "A scanone: 3 × 3\n",
       "\\begin{tabular}{r|lll}\n",
       "  & chr & pos & lod\\\\\n",
       "  & <fct> & <dbl> & <dbl>\\\\\n",
       "\\hline\n",
       "\t2\\_4115561 & 2 & 18.35101 & 3.061330\\\\\n",
       "\tc2.loc21 & 2 & 21.00000 & 5.129212\\\\\n",
       "\t2\\_4599939 & 2 & 22.23201 & 1.387050\\\\\n",
       "\\end{tabular}\n"
      ],
      "text/markdown": [
       "\n",
       "A scanone: 3 × 3\n",
       "\n",
       "| <!--/--> | chr &lt;fct&gt; | pos &lt;dbl&gt; | lod &lt;dbl&gt; |\n",
       "|---|---|---|---|\n",
       "| 2_4115561 | 2 | 18.35101 | 3.061330 |\n",
       "| c2.loc21 | 2 | 21.00000 | 5.129212 |\n",
       "| 2_4599939 | 2 | 22.23201 | 1.387050 |\n",
       "\n"
      ],
      "text/plain": [
       "          chr pos      lod     \n",
       "2_4115561 2   18.35101 3.061330\n",
       "c2.loc21  2   21.00000 5.129212\n",
       "2_4599939 2   22.23201 1.387050"
      ]
     },
     "metadata": {},
     "output_type": "display_data"
    }
   ],
   "source": [
    "bayesint(TraitCIM, chr = chr, prob=0.95, expandtomarkers=TRUE) #calculate bayesian interval\n",
    "lodint(TraitCIM, chr = chr,expandtomarkers = TRUE ) #calculate LOD Support interval"
   ]
  },
  {
   "cell_type": "code",
   "execution_count": 18,
   "metadata": {},
   "outputs": [
    {
     "name": "stdin",
     "output_type": "stream",
     "text": [
      "Position for analysis:  21.00000\n"
     ]
    },
    {
     "name": "stderr",
     "output_type": "stream",
     "text": [
      "Warning message in getsex(cross):\n",
      "\"125 individuals with missing sex; assuming they're female\"\n",
      "Warning message in fitqtlengine(pheno = pheno, qtl = qtl, covar = covar, formula = formula, :\n",
      "\"Dropping 122 individuals with missing phenotypes.\n",
      "\"\n",
      "Warning message in getsex(cross):\n",
      "\"125 individuals with missing sex; assuming they're female\"\n"
     ]
    },
    {
     "data": {
      "text/plain": [
       "\n",
       "\t\tfitqtl summary\n",
       "\n",
       "Method: Haley-Knott regression \n",
       "Model:  normal phenotype\n",
       "Number of observations : 172 \n",
       "\n",
       "Full model result\n",
       "----------------------------------  \n",
       "Model formula: y ~ Q1 \n",
       "\n",
       "       df        SS        MS      LOD     %var Pvalue(Chi2)    Pvalue(F)\n",
       "Model   1  4.635695 4.6356954 4.444508 11.21907 6.064553e-06 7.082219e-06\n",
       "Error 170 36.684072 0.2157887                                            \n",
       "Total 171 41.319767                                                      \n",
       "\n",
       "\n",
       "Estimated effects:\n",
       "-----------------\n",
       "               est       SE      t\n",
       "Intercept  0.59134  0.03546 16.678\n",
       "2@21.0    -0.49302  0.10637 -4.635\n"
      ]
     },
     "metadata": {},
     "output_type": "display_data"
    }
   ],
   "source": [
    "p <- as.numeric(readline(\"Position for analysis: \"))\n",
    "qtl <- makeqtl(Map, chr = chr, pos = p, what=\"prob\") #pulls genotype probabilities\n",
    "fitqtl <- fitqtl(Map, pheno.col=colNum, qtl = qtl, covar=NULL,\n",
    "       method= \"hk\",model=\"normal\",\n",
    "       dropone=TRUE, get.ests=TRUE,run.checks=TRUE,\n",
    "       tol=1e-4, maxit=1000, forceXcovar=FALSE) #sees how well our data fits a given formula \n",
    "          # If you see \"error: object of type 'closure' is not subsettable\", remove \"formula,\" from the fitqtl argument list.\n",
    "summary(fitqtl) #Print results of the analysis"
   ]
  },
  {
   "cell_type": "code",
   "execution_count": null,
   "metadata": {},
   "outputs": [],
   "source": []
  }
 ],
 "metadata": {
  "kernelspec": {
   "display_name": "R",
   "language": "R",
   "name": "ir"
  },
  "language_info": {
   "codemirror_mode": "r",
   "file_extension": ".r",
   "mimetype": "text/x-r-source",
   "name": "R",
   "pygments_lexer": "r",
   "version": "3.6.3"
  }
 },
 "nbformat": 4,
 "nbformat_minor": 4
}
