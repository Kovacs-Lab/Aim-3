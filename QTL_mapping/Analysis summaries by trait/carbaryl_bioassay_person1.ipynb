{
 "cells": [
  {
   "cell_type": "markdown",
   "metadata": {},
   "source": [
    "This analysis is in the order of Female then Male"
   ]
  },
  {
   "cell_type": "code",
   "execution_count": 1,
   "metadata": {},
   "outputs": [
    {
     "name": "stderr",
     "output_type": "stream",
     "text": [
      "Installing package into 'C:/Users/Courtney/Documents/R/win-library/3.6'\n",
      "(as 'lib' is unspecified)\n",
      "\n"
     ]
    },
    {
     "name": "stdout",
     "output_type": "stream",
     "text": [
      "package 'qtl' successfully unpacked and MD5 sums checked\n",
      "\n",
      "The downloaded binary packages are in\n",
      "\tC:\\Users\\Courtney\\AppData\\Local\\Temp\\RtmpiUu1pP\\downloaded_packages\n"
     ]
    },
    {
     "name": "stderr",
     "output_type": "stream",
     "text": [
      "Installing package into 'C:/Users/Courtney/Documents/R/win-library/3.6'\n",
      "(as 'lib' is unspecified)\n",
      "\n"
     ]
    },
    {
     "name": "stdout",
     "output_type": "stream",
     "text": [
      "package 'qtlcharts' successfully unpacked and MD5 sums checked\n",
      "\n",
      "The downloaded binary packages are in\n",
      "\tC:\\Users\\Courtney\\AppData\\Local\\Temp\\RtmpiUu1pP\\downloaded_packages\n"
     ]
    },
    {
     "name": "stderr",
     "output_type": "stream",
     "text": [
      "Installing package into 'C:/Users/Courtney/Documents/R/win-library/3.6'\n",
      "(as 'lib' is unspecified)\n",
      "\n"
     ]
    },
    {
     "name": "stdout",
     "output_type": "stream",
     "text": [
      "package 'LinkageMapView' successfully unpacked and MD5 sums checked\n",
      "\n",
      "The downloaded binary packages are in\n",
      "\tC:\\Users\\Courtney\\AppData\\Local\\Temp\\RtmpiUu1pP\\downloaded_packages\n"
     ]
    },
    {
     "name": "stderr",
     "output_type": "stream",
     "text": [
      "Installing package into 'C:/Users/Courtney/Documents/R/win-library/3.6'\n",
      "(as 'lib' is unspecified)\n",
      "\n"
     ]
    },
    {
     "name": "stdout",
     "output_type": "stream",
     "text": [
      "\n",
      "  There is a binary version available but the source version is later:\n",
      "           binary source needs_compilation\n",
      "rcompanion  2.4.0  2.4.1             FALSE\n",
      "\n"
     ]
    },
    {
     "name": "stderr",
     "output_type": "stream",
     "text": [
      "installing the source package 'rcompanion'\n",
      "\n",
      "\n"
     ]
    }
   ],
   "source": [
    "install.packages('qtl') #Main package, for analysis\n",
    "install.packages('qtlcharts') #accessory, for displaying graphs\n",
    "install.packages('LinkageMapView') #accessory, for displaying linkage maps\n",
    "install.packages('rcompanion')# for plotNormalHistogram"
   ]
  },
  {
   "cell_type": "code",
   "execution_count": 1,
   "metadata": {},
   "outputs": [],
   "source": [
    "library(qtl) #load packages\n",
    "library(qtlcharts)\n",
    "library(LinkageMapView)\n",
    "library(rcompanion)"
   ]
  },
  {
   "cell_type": "code",
   "execution_count": 2,
   "metadata": {},
   "outputs": [
    {
     "name": "stdout",
     "output_type": "stream",
     "text": [
      "[1] \"Make sure to input names AS THEY APPEAR on the csv!!\"\n"
     ]
    },
    {
     "name": "stdin",
     "output_type": "stream",
     "text": [
      "Enter file name (Either FemaleMap.csv or MaleMap.csv):  FemaleMap_Field2020.csv\n",
      "First Genotype (homozygous) (For example ll):  ll\n",
      "Second Genotype (heterozygous) (for example lm):  lm\n",
      "Column Number:  58\n"
     ]
    }
   ],
   "source": [
    "#Collecting enviroment variables\n",
    "print(\"Make sure to input names AS THEY APPEAR on the csv!!\") #Just a user warning\n",
    "fileName <- readline(\"Enter file name (Either FemaleMap.csv or MaleMap.csv): \") #Mapping table file\n",
    "genotypeName <- c(readline(\"First Genotype (homozygous) (For example ll): \"),\n",
    "                  readline(\"Second Genotype (heterozygous) (for example lm): \")) #For example \"nn\", \"np\"\n",
    "alleleName <- c(substr(genotypeName[2],1,1) ,substr(genotypeName[2],2,2))\n",
    "naNames <- c(\"NA\",\"--\") #For example \"NA\", \"--\"\n",
    "colNum <- as.numeric(readline(\"Column Number: \")) #Column for pheno of interest"
   ]
  },
  {
   "cell_type": "code",
   "execution_count": 3,
   "metadata": {},
   "outputs": [
    {
     "name": "stderr",
     "output_type": "stream",
     "text": [
      "Warning message in FUN(X[[i]], ...):\n",
      "\"The phenotype value \" \"  was interpreted as missing.\"\n"
     ]
    },
    {
     "name": "stdout",
     "output_type": "stream",
     "text": [
      " --Read the following data:\n",
      "\t 296  individuals\n",
      "\t 1100  markers\n",
      "\t 61  phenotypes\n"
     ]
    },
    {
     "name": "stderr",
     "output_type": "stream",
     "text": [
      "Warning message in summary.cross(cross):\n",
      "\"Some markers at the same position on chr 1,2,4,5,7,8,9,10,11,12,13,14,16,17,18,19; use jittermap().\"\n"
     ]
    },
    {
     "name": "stdout",
     "output_type": "stream",
     "text": [
      " --Cross type: bc \n"
     ]
    },
    {
     "data": {
      "image/png": "[encoded data removed]",
      "text/plain": [
       "Plot with title \"Genetic map\""
      ]
     },
     "metadata": {
      "image/png": {
       "height": 420,
       "width": 420
      },
      "text/plain": {
       "height": 420,
       "width": 420
      }
     },
     "output_type": "display_data"
    }
   ],
   "source": [
    "#Map generation\n",
    "Map <- read.cross(format = 'csv',file = fileName \n",
    "                  ,genotypes = genotypeName,\n",
    "                  alleles = alleleName,na.strings = naNames) #generate linkage map\n",
    "Map <- jittermap(Map) #make sure no markers are in the same location\n",
    "Map <- calc.genoprob(Map,step = 1,map.function = \"kosambi\") #associate markers with full genotypes\n",
    "plot.map(Map) #draw linkage map"
   ]
  },
  {
   "cell_type": "code",
   "execution_count": 4,
   "metadata": {},
   "outputs": [
    {
     "data": {
      "image/png": "[encoded data removed]",
      "text/plain": [
       "Plot with title \"\""
      ]
     },
     "metadata": {
      "image/png": {
       "height": 420,
       "width": 420
      },
      "text/plain": {
       "height": 420,
       "width": 420
      }
     },
     "output_type": "display_data"
    }
   ],
   "source": [
    "plotNormalHistogram(Map$pheno[,colNum]) #normal histogram of pheno of interest"
   ]
  },
  {
   "cell_type": "markdown",
   "metadata": {},
   "source": [
    "Outliers exist in this dataset. Will need to be analyized. "
   ]
  },
  {
   "cell_type": "code",
   "execution_count": 5,
   "metadata": {},
   "outputs": [
    {
     "data": {
      "text/plain": [
       "LOD thresholds (1000 permutations)\n",
       "   [,1]\n",
       "5% 4.07\n",
       "1% 5.17"
      ]
     },
     "metadata": {},
     "output_type": "display_data"
    },
    {
     "data": {
      "image/png": "[encoded data removed]",
      "text/plain": [
       "Plot with title \"\""
      ]
     },
     "metadata": {
      "image/png": {
       "height": 420,
       "width": 420
      },
      "text/plain": {
       "height": 420,
       "width": 420
      }
     },
     "output_type": "display_data"
    }
   ],
   "source": [
    "#Compute statistically significant values\n",
    "TraitCIM1000 <- cim(Map,pheno.col = colNum,method = \"hk\",\n",
    "                    map.function = \"kosambi\",n.perm = 1000) # Function will take a moment to run, determines LOD value\n",
    "plot(TraitCIM1000,col = 'green') #show distribution of lod scores\n",
    "summary(TraitCIM1000,alpha=c(.05,.01))"
   ]
  },
  {
   "cell_type": "code",
   "execution_count": 6,
   "metadata": {},
   "outputs": [
    {
     "name": "stdout",
     "output_type": "stream",
     "text": [
      "[1] \"If nothing shows up, the values \\n      are below the LOD5 score\"\n"
     ]
    },
    {
     "data": {
      "text/html": [
       "<table>\n",
       "<caption>A summary.scanone: 19 × 3</caption>\n",
       "<thead>\n",
       "\t<tr><th></th><th scope=col>chr</th><th scope=col>pos</th><th scope=col>lod</th></tr>\n",
       "\t<tr><th></th><th scope=col>&lt;fct&gt;</th><th scope=col>&lt;dbl&gt;</th><th scope=col>&lt;dbl&gt;</th></tr>\n",
       "</thead>\n",
       "<tbody>\n",
       "\t<tr><th scope=row>1_19145591</th><td>1 </td><td>61.270035</td><td> 1.5035968</td></tr>\n",
       "\t<tr><th scope=row>c2.loc33</th><td>2 </td><td>33.000000</td><td> 0.8348610</td></tr>\n",
       "\t<tr><th scope=row>3_5596857</th><td>3 </td><td>31.779026</td><td> 2.7843802</td></tr>\n",
       "\t<tr><th scope=row>4_2873313</th><td>4 </td><td>11.454011</td><td> 1.2675396</td></tr>\n",
       "\t<tr><th scope=row>c5.loc55</th><td>5 </td><td>55.000000</td><td> 1.2228623</td></tr>\n",
       "\t<tr><th scope=row>6_14347553</th><td>6 </td><td>46.935030</td><td> 1.7680990</td></tr>\n",
       "\t<tr><th scope=row>c7.loc62</th><td>7 </td><td>62.000000</td><td> 1.1750570</td></tr>\n",
       "\t<tr><th scope=row>c8.loc43</th><td>8 </td><td>43.000000</td><td> 1.3566981</td></tr>\n",
       "\t<tr><th scope=row>c9.loc10</th><td>9 </td><td>10.000000</td><td> 0.7582386</td></tr>\n",
       "\t<tr><th scope=row>c10.loc46</th><td>10</td><td>46.000000</td><td> 0.8987765</td></tr>\n",
       "\t<tr><th scope=row>11_17754467</th><td>11</td><td>53.503038</td><td> 2.3863981</td></tr>\n",
       "\t<tr><th scope=row>12_929948</th><td>12</td><td>15.469002</td><td> 0.4311247</td></tr>\n",
       "\t<tr><th scope=row>13_604670</th><td>13</td><td> 1.734003</td><td> 1.3298758</td></tr>\n",
       "\t<tr><th scope=row>c14.loc58</th><td>14</td><td>58.000000</td><td> 1.0490867</td></tr>\n",
       "\t<tr><th scope=row>15_14731291</th><td>15</td><td>27.287028</td><td> 1.5534766</td></tr>\n",
       "\t<tr><th scope=row>16_6132138</th><td>16</td><td>12.950013</td><td>12.7708737</td></tr>\n",
       "\t<tr><th scope=row>c17.loc36</th><td>17</td><td>36.000000</td><td> 0.7509498</td></tr>\n",
       "\t<tr><th scope=row>18_34196269</th><td>18</td><td>94.924075</td><td> 1.2820120</td></tr>\n",
       "\t<tr><th scope=row>c19.loc32</th><td>19</td><td>32.000000</td><td> 0.8345728</td></tr>\n",
       "</tbody>\n",
       "</table>\n"
      ],
      "text/latex": [
       "A summary.scanone: 19 × 3\n",
       "\\begin{tabular}{r|lll}\n",
       "  & chr & pos & lod\\\\\n",
       "  & <fct> & <dbl> & <dbl>\\\\\n",
       "\\hline\n",
       "\t1\\_19145591 & 1  & 61.270035 &  1.5035968\\\\\n",
       "\tc2.loc33 & 2  & 33.000000 &  0.8348610\\\\\n",
       "\t3\\_5596857 & 3  & 31.779026 &  2.7843802\\\\\n",
       "\t4\\_2873313 & 4  & 11.454011 &  1.2675396\\\\\n",
       "\tc5.loc55 & 5  & 55.000000 &  1.2228623\\\\\n",
       "\t6\\_14347553 & 6  & 46.935030 &  1.7680990\\\\\n",
       "\tc7.loc62 & 7  & 62.000000 &  1.1750570\\\\\n",
       "\tc8.loc43 & 8  & 43.000000 &  1.3566981\\\\\n",
       "\tc9.loc10 & 9  & 10.000000 &  0.7582386\\\\\n",
       "\tc10.loc46 & 10 & 46.000000 &  0.8987765\\\\\n",
       "\t11\\_17754467 & 11 & 53.503038 &  2.3863981\\\\\n",
       "\t12\\_929948 & 12 & 15.469002 &  0.4311247\\\\\n",
       "\t13\\_604670 & 13 &  1.734003 &  1.3298758\\\\\n",
       "\tc14.loc58 & 14 & 58.000000 &  1.0490867\\\\\n",
       "\t15\\_14731291 & 15 & 27.287028 &  1.5534766\\\\\n",
       "\t16\\_6132138 & 16 & 12.950013 & 12.7708737\\\\\n",
       "\tc17.loc36 & 17 & 36.000000 &  0.7509498\\\\\n",
       "\t18\\_34196269 & 18 & 94.924075 &  1.2820120\\\\\n",
       "\tc19.loc32 & 19 & 32.000000 &  0.8345728\\\\\n",
       "\\end{tabular}\n"
      ],
      "text/markdown": [
       "\n",
       "A summary.scanone: 19 × 3\n",
       "\n",
       "| <!--/--> | chr &lt;fct&gt; | pos &lt;dbl&gt; | lod &lt;dbl&gt; |\n",
       "|---|---|---|---|\n",
       "| 1_19145591 | 1  | 61.270035 |  1.5035968 |\n",
       "| c2.loc33 | 2  | 33.000000 |  0.8348610 |\n",
       "| 3_5596857 | 3  | 31.779026 |  2.7843802 |\n",
       "| 4_2873313 | 4  | 11.454011 |  1.2675396 |\n",
       "| c5.loc55 | 5  | 55.000000 |  1.2228623 |\n",
       "| 6_14347553 | 6  | 46.935030 |  1.7680990 |\n",
       "| c7.loc62 | 7  | 62.000000 |  1.1750570 |\n",
       "| c8.loc43 | 8  | 43.000000 |  1.3566981 |\n",
       "| c9.loc10 | 9  | 10.000000 |  0.7582386 |\n",
       "| c10.loc46 | 10 | 46.000000 |  0.8987765 |\n",
       "| 11_17754467 | 11 | 53.503038 |  2.3863981 |\n",
       "| 12_929948 | 12 | 15.469002 |  0.4311247 |\n",
       "| 13_604670 | 13 |  1.734003 |  1.3298758 |\n",
       "| c14.loc58 | 14 | 58.000000 |  1.0490867 |\n",
       "| 15_14731291 | 15 | 27.287028 |  1.5534766 |\n",
       "| 16_6132138 | 16 | 12.950013 | 12.7708737 |\n",
       "| c17.loc36 | 17 | 36.000000 |  0.7509498 |\n",
       "| 18_34196269 | 18 | 94.924075 |  1.2820120 |\n",
       "| c19.loc32 | 19 | 32.000000 |  0.8345728 |\n",
       "\n"
      ],
      "text/plain": [
       "            chr pos       lod       \n",
       "1_19145591  1   61.270035  1.5035968\n",
       "c2.loc33    2   33.000000  0.8348610\n",
       "3_5596857   3   31.779026  2.7843802\n",
       "4_2873313   4   11.454011  1.2675396\n",
       "c5.loc55    5   55.000000  1.2228623\n",
       "6_14347553  6   46.935030  1.7680990\n",
       "c7.loc62    7   62.000000  1.1750570\n",
       "c8.loc43    8   43.000000  1.3566981\n",
       "c9.loc10    9   10.000000  0.7582386\n",
       "c10.loc46   10  46.000000  0.8987765\n",
       "11_17754467 11  53.503038  2.3863981\n",
       "12_929948   12  15.469002  0.4311247\n",
       "13_604670   13   1.734003  1.3298758\n",
       "c14.loc58   14  58.000000  1.0490867\n",
       "15_14731291 15  27.287028  1.5534766\n",
       "16_6132138  16  12.950013 12.7708737\n",
       "c17.loc36   17  36.000000  0.7509498\n",
       "18_34196269 18  94.924075  1.2820120\n",
       "c19.loc32   19  32.000000  0.8345728"
      ]
     },
     "metadata": {},
     "output_type": "display_data"
    },
    {
     "data": {
      "image/png": "[encoded data removed]",
      "text/plain": [
       "plot without title"
      ]
     },
     "metadata": {
      "image/png": {
       "height": 420,
       "width": 420
      },
      "text/plain": {
       "height": 420,
       "width": 420
      }
     },
     "output_type": "display_data"
    }
   ],
   "source": [
    "#Deterime LOD Values\n",
    "LOD5 <- summary(TraitCIM1000,alpha=c(.05))\n",
    "TraitCIM<-cim(Map,pheno.col = colNum,method = \"hk\",\n",
    "              map.function = \"kosambi\") #Generate LOD Values\n",
    "plot(TraitCIM) #show LOD graph\n",
    "abline(h = LOD5,col = \"blue\") #overlay statistically significant line\n",
    "print(\"If nothing shows up, the values \n",
    "      are below the LOD5 score\") #warning for no peaks\n",
    "summary(TraitCIM)\n",
    "write.csv(TraitCIM,\"CarbarylBioassayPerson1_table.csv\")"
   ]
  },
  {
   "cell_type": "code",
   "execution_count": 7,
   "metadata": {},
   "outputs": [
    {
     "name": "stdin",
     "output_type": "stream",
     "text": [
      "Chromosome?  16\n"
     ]
    },
    {
     "data": {
      "image/png": "[encoded data removed]",
      "text/plain": [
       "plot without title"
      ]
     },
     "metadata": {
      "image/png": {
       "height": 420,
       "width": 420
      },
      "text/plain": {
       "height": 420,
       "width": 420
      }
     },
     "output_type": "display_data"
    }
   ],
   "source": [
    "#Chromosomal Analysis\n",
    "chr <- as.numeric(readline(\"Chromosome? \")) #collect chromosome to look at\n",
    "plot(TraitCIM, chr = chr,xlab = c(\"chr\",chr)) #Plot chr LOD scores\n",
    "abline(h = LOD5, col = \"blue\") #Statistically Significant"
   ]
  },
  {
   "cell_type": "code",
   "execution_count": 8,
   "metadata": {},
   "outputs": [
    {
     "data": {
      "text/html": [
       "<table>\n",
       "<caption>A scanone: 3 × 3</caption>\n",
       "<thead>\n",
       "\t<tr><th></th><th scope=col>chr</th><th scope=col>pos</th><th scope=col>lod</th></tr>\n",
       "\t<tr><th></th><th scope=col>&lt;fct&gt;</th><th scope=col>&lt;dbl&gt;</th><th scope=col>&lt;dbl&gt;</th></tr>\n",
       "</thead>\n",
       "<tbody>\n",
       "\t<tr><th scope=row>16_2745439</th><td>16</td><td> 8.433011</td><td> 0.5122053</td></tr>\n",
       "\t<tr><th scope=row>16_6132138</th><td>16</td><td>12.950013</td><td>12.7708737</td></tr>\n",
       "\t<tr><th scope=row>16_8286852</th><td>16</td><td>15.056019</td><td>11.8913223</td></tr>\n",
       "</tbody>\n",
       "</table>\n"
      ],
      "text/latex": [
       "A scanone: 3 × 3\n",
       "\\begin{tabular}{r|lll}\n",
       "  & chr & pos & lod\\\\\n",
       "  & <fct> & <dbl> & <dbl>\\\\\n",
       "\\hline\n",
       "\t16\\_2745439 & 16 &  8.433011 &  0.5122053\\\\\n",
       "\t16\\_6132138 & 16 & 12.950013 & 12.7708737\\\\\n",
       "\t16\\_8286852 & 16 & 15.056019 & 11.8913223\\\\\n",
       "\\end{tabular}\n"
      ],
      "text/markdown": [
       "\n",
       "A scanone: 3 × 3\n",
       "\n",
       "| <!--/--> | chr &lt;fct&gt; | pos &lt;dbl&gt; | lod &lt;dbl&gt; |\n",
       "|---|---|---|---|\n",
       "| 16_2745439 | 16 |  8.433011 |  0.5122053 |\n",
       "| 16_6132138 | 16 | 12.950013 | 12.7708737 |\n",
       "| 16_8286852 | 16 | 15.056019 | 11.8913223 |\n",
       "\n"
      ],
      "text/plain": [
       "           chr pos       lod       \n",
       "16_2745439 16   8.433011  0.5122053\n",
       "16_6132138 16  12.950013 12.7708737\n",
       "16_8286852 16  15.056019 11.8913223"
      ]
     },
     "metadata": {},
     "output_type": "display_data"
    },
    {
     "data": {
      "text/html": [
       "<table>\n",
       "<caption>A scanone: 3 × 3</caption>\n",
       "<thead>\n",
       "\t<tr><th></th><th scope=col>chr</th><th scope=col>pos</th><th scope=col>lod</th></tr>\n",
       "\t<tr><th></th><th scope=col>&lt;fct&gt;</th><th scope=col>&lt;dbl&gt;</th><th scope=col>&lt;dbl&gt;</th></tr>\n",
       "</thead>\n",
       "<tbody>\n",
       "\t<tr><th scope=row>16_2745439</th><td>16</td><td> 8.433011</td><td> 0.5122053</td></tr>\n",
       "\t<tr><th scope=row>16_6132138</th><td>16</td><td>12.950013</td><td>12.7708737</td></tr>\n",
       "\t<tr><th scope=row>16_12991446</th><td>16</td><td>16.277024</td><td>11.1546270</td></tr>\n",
       "</tbody>\n",
       "</table>\n"
      ],
      "text/latex": [
       "A scanone: 3 × 3\n",
       "\\begin{tabular}{r|lll}\n",
       "  & chr & pos & lod\\\\\n",
       "  & <fct> & <dbl> & <dbl>\\\\\n",
       "\\hline\n",
       "\t16\\_2745439 & 16 &  8.433011 &  0.5122053\\\\\n",
       "\t16\\_6132138 & 16 & 12.950013 & 12.7708737\\\\\n",
       "\t16\\_12991446 & 16 & 16.277024 & 11.1546270\\\\\n",
       "\\end{tabular}\n"
      ],
      "text/markdown": [
       "\n",
       "A scanone: 3 × 3\n",
       "\n",
       "| <!--/--> | chr &lt;fct&gt; | pos &lt;dbl&gt; | lod &lt;dbl&gt; |\n",
       "|---|---|---|---|\n",
       "| 16_2745439 | 16 |  8.433011 |  0.5122053 |\n",
       "| 16_6132138 | 16 | 12.950013 | 12.7708737 |\n",
       "| 16_12991446 | 16 | 16.277024 | 11.1546270 |\n",
       "\n"
      ],
      "text/plain": [
       "            chr pos       lod       \n",
       "16_2745439  16   8.433011  0.5122053\n",
       "16_6132138  16  12.950013 12.7708737\n",
       "16_12991446 16  16.277024 11.1546270"
      ]
     },
     "metadata": {},
     "output_type": "display_data"
    }
   ],
   "source": [
    "bayesint(TraitCIM, chr = chr, prob=0.95, expandtomarkers=TRUE) #calculate bayesian interval\n",
    "lodint(TraitCIM, chr = chr,expandtomarkers = TRUE ) #calculate LOD Support interval"
   ]
  },
  {
   "cell_type": "code",
   "execution_count": 9,
   "metadata": {},
   "outputs": [
    {
     "name": "stdin",
     "output_type": "stream",
     "text": [
      "Position for analysis:  12.950013\n"
     ]
    },
    {
     "name": "stderr",
     "output_type": "stream",
     "text": [
      "Warning message in getsex(cross):\n",
      "\"127 individuals with missing sex; assuming they're female\"\n",
      "Warning message in fitqtlengine(pheno = pheno, qtl = qtl, covar = covar, formula = formula, :\n",
      "\"Dropping 102 individuals with missing phenotypes.\n",
      "\"\n",
      "Warning message in getsex(cross):\n",
      "\"127 individuals with missing sex; assuming they're female\"\n"
     ]
    },
    {
     "data": {
      "text/plain": [
       "\n",
       "\t\tfitqtl summary\n",
       "\n",
       "Method: Haley-Knott regression \n",
       "Model:  normal phenotype\n",
       "Number of observations : 194 \n",
       "\n",
       "Full model result\n",
       "----------------------------------  \n",
       "Model formula: y ~ Q1 \n",
       "\n",
       "       df        SS        MS      LOD     %var Pvalue(Chi2)    Pvalue(F)\n",
       "Model   1  249.4713 249.47131 10.68387 22.40085 2.310263e-12 3.187228e-12\n",
       "Error 192  864.1977   4.50103                                            \n",
       "Total 193 1113.6690                                                      \n",
       "\n",
       "\n",
       "Estimated effects:\n",
       "-----------------\n",
       "              est      SE      t\n",
       "Intercept  2.6315  0.1524 17.263\n",
       "16@13.0   -2.2948  0.3082 -7.445\n"
      ]
     },
     "metadata": {},
     "output_type": "display_data"
    }
   ],
   "source": [
    "p <- as.numeric(readline(\"Position for analysis: \"))\n",
    "qtl <- makeqtl(Map, chr = chr, pos = p, what=\"prob\") #pulls genotype probabilities\n",
    "fitqtl <- fitqtl(Map, pheno.col=colNum, qtl = qtl, covar=NULL,\n",
    "       method= \"hk\",model=\"normal\",\n",
    "       dropone=TRUE, get.ests=TRUE,run.checks=TRUE,\n",
    "       tol=1e-4, maxit=1000, forceXcovar=FALSE) #sees how well our data fits a given formula \n",
    "          # If you see \"error: object of type 'closure' is not subsettable\", remove \"formula,\" from the fitqtl argument list.\n",
    "summary(fitqtl) #Print results of the analysis"
   ]
  },
  {
   "cell_type": "code",
   "execution_count": 10,
   "metadata": {},
   "outputs": [
    {
     "name": "stdout",
     "output_type": "stream",
     "text": [
      "[1] \"Make sure to input names AS THEY APPEAR on the csv!!\"\n"
     ]
    },
    {
     "name": "stdin",
     "output_type": "stream",
     "text": [
      "Enter file name (Either FemaleMap.csv or MaleMap.csv):  MaleMap_2021_July14.csv\n",
      "First Genotype (homozygous) (For example ll):  nn\n",
      "Second Genotype (heterozygous) (for example lm):  np\n",
      "Column Number:  58\n"
     ]
    }
   ],
   "source": [
    "#Collecting enviroment variables\n",
    "print(\"Make sure to input names AS THEY APPEAR on the csv!!\") #Just a user warning\n",
    "fileName <- readline(\"Enter file name (Either FemaleMap.csv or MaleMap.csv): \") #Mapping table file\n",
    "genotypeName <- c(readline(\"First Genotype (homozygous) (For example ll): \"),\n",
    "                  readline(\"Second Genotype (heterozygous) (for example lm): \")) #For example \"nn\", \"np\"\n",
    "alleleName <- c(substr(genotypeName[2],1,1) ,substr(genotypeName[2],2,2))\n",
    "naNames <- c(\"NA\",\"--\") #For example \"NA\", \"--\"\n",
    "colNum <- as.numeric(readline(\"Column Number: \")) #Column for pheno of interest"
   ]
  },
  {
   "cell_type": "code",
   "execution_count": 11,
   "metadata": {},
   "outputs": [
    {
     "name": "stdout",
     "output_type": "stream",
     "text": [
      " --Read the following data:\n",
      "\t 294  individuals\n",
      "\t 1128  markers\n",
      "\t 61  phenotypes\n"
     ]
    },
    {
     "name": "stderr",
     "output_type": "stream",
     "text": [
      "Warning message in summary.cross(cross):\n",
      "\"Some markers at the same position on chr 1,3,4,5,6,7,8,9,10,12,13,14,15,16,17,18,19; use jittermap().\"\n"
     ]
    },
    {
     "name": "stdout",
     "output_type": "stream",
     "text": [
      " --Cross type: bc \n"
     ]
    },
    {
     "data": {
      "image/png": "[encoded data removed]",
      "text/plain": [
       "Plot with title \"Genetic map\""
      ]
     },
     "metadata": {
      "image/png": {
       "height": 420,
       "width": 420
      },
      "text/plain": {
       "height": 420,
       "width": 420
      }
     },
     "output_type": "display_data"
    }
   ],
   "source": [
    "#Map generation\n",
    "Map <- read.cross(format = 'csv',file = fileName \n",
    "                  ,genotypes = genotypeName,\n",
    "                  alleles = alleleName,na.strings = naNames) #generate linkage map\n",
    "Map <- jittermap(Map) #make sure no markers are in the same location\n",
    "Map <- calc.genoprob(Map,step = 1,map.function = \"kosambi\") #associate markers with full genotypes\n",
    "plot.map(Map) #draw linkage map"
   ]
  },
  {
   "cell_type": "code",
   "execution_count": 12,
   "metadata": {},
   "outputs": [
    {
     "data": {
      "image/png": "[encoded data removed]",
      "text/plain": [
       "Plot with title \"\""
      ]
     },
     "metadata": {
      "image/png": {
       "height": 420,
       "width": 420
      },
      "text/plain": {
       "height": 420,
       "width": 420
      }
     },
     "output_type": "display_data"
    }
   ],
   "source": [
    "plotNormalHistogram(Map$pheno[,colNum]) #normal histogram of pheno of interest"
   ]
  },
  {
   "cell_type": "markdown",
   "metadata": {},
   "source": [
    "Outliers exist in this data. "
   ]
  },
  {
   "cell_type": "code",
   "execution_count": 13,
   "metadata": {},
   "outputs": [
    {
     "data": {
      "text/plain": [
       "LOD thresholds (1000 permutations)\n",
       "   [,1]\n",
       "5% 4.23\n",
       "1% 5.18"
      ]
     },
     "metadata": {},
     "output_type": "display_data"
    },
    {
     "data": {
      "image/png": "[encoded data removed]",
      "text/plain": [
       "Plot with title \"\""
      ]
     },
     "metadata": {
      "image/png": {
       "height": 420,
       "width": 420
      },
      "text/plain": {
       "height": 420,
       "width": 420
      }
     },
     "output_type": "display_data"
    }
   ],
   "source": [
    "#Compute statistically significant values\n",
    "TraitCIM1000 <- cim(Map,pheno.col = colNum,method = \"hk\",\n",
    "                    map.function = \"kosambi\",n.perm = 1000) # Function will take a moment to run, determines LOD value\n",
    "plot(TraitCIM1000,col = 'green') #show distribution of lod scores\n",
    "summary(TraitCIM1000,alpha=c(.05,.01))"
   ]
  },
  {
   "cell_type": "code",
   "execution_count": 14,
   "metadata": {},
   "outputs": [
    {
     "name": "stdout",
     "output_type": "stream",
     "text": [
      "[1] \"If nothing shows up, the values \\n      are below the LOD5 score\"\n"
     ]
    },
    {
     "data": {
      "text/html": [
       "<table>\n",
       "<caption>A summary.scanone: 19 × 3</caption>\n",
       "<thead>\n",
       "\t<tr><th></th><th scope=col>chr</th><th scope=col>pos</th><th scope=col>lod</th></tr>\n",
       "\t<tr><th></th><th scope=col>&lt;fct&gt;</th><th scope=col>&lt;dbl&gt;</th><th scope=col>&lt;dbl&gt;</th></tr>\n",
       "</thead>\n",
       "<tbody>\n",
       "\t<tr><th scope=row>c1.loc15</th><td>1 </td><td>15.00000</td><td>1.3394420</td></tr>\n",
       "\t<tr><th scope=row>2_681715</th><td>2 </td><td> 0.00000</td><td>1.2325235</td></tr>\n",
       "\t<tr><th scope=row>c3.loc20</th><td>3 </td><td>20.00000</td><td>1.4955538</td></tr>\n",
       "\t<tr><th scope=row>4_3228910</th><td>4 </td><td>13.63601</td><td>4.3679737</td></tr>\n",
       "\t<tr><th scope=row>18_30393961</th><td>5 </td><td>21.53601</td><td>0.8990713</td></tr>\n",
       "\t<tr><th scope=row>c6.loc13</th><td>6 </td><td>13.00000</td><td>0.6658611</td></tr>\n",
       "\t<tr><th scope=row>c7.loc87</th><td>7 </td><td>87.00000</td><td>0.8481358</td></tr>\n",
       "\t<tr><th scope=row>c8.loc88</th><td>8 </td><td>88.00000</td><td>0.6670150</td></tr>\n",
       "\t<tr><th scope=row>9_4635879</th><td>9 </td><td>21.81702</td><td>0.6397659</td></tr>\n",
       "\t<tr><th scope=row>c10.loc40</th><td>10</td><td>40.00000</td><td>0.5077590</td></tr>\n",
       "\t<tr><th scope=row>c11.loc62</th><td>11</td><td>62.00000</td><td>0.9803370</td></tr>\n",
       "\t<tr><th scope=row>c12.loc38</th><td>12</td><td>38.00000</td><td>1.9108332</td></tr>\n",
       "\t<tr><th scope=row>c13.loc59</th><td>13</td><td>59.00000</td><td>1.7683019</td></tr>\n",
       "\t<tr><th scope=row>14_20893101</th><td>14</td><td>47.89605</td><td>3.1029299</td></tr>\n",
       "\t<tr><th scope=row>15_18608924</th><td>15</td><td>80.95104</td><td>1.2810928</td></tr>\n",
       "\t<tr><th scope=row>c16.loc39</th><td>16</td><td>39.00000</td><td>0.9542494</td></tr>\n",
       "\t<tr><th scope=row>c17.loc29</th><td>17</td><td>29.00000</td><td>2.3672203</td></tr>\n",
       "\t<tr><th scope=row>18_10905045</th><td>18</td><td>47.44803</td><td>0.3247410</td></tr>\n",
       "\t<tr><th scope=row>19_6173411</th><td>19</td><td>29.66002</td><td>0.8895518</td></tr>\n",
       "</tbody>\n",
       "</table>\n"
      ],
      "text/latex": [
       "A summary.scanone: 19 × 3\n",
       "\\begin{tabular}{r|lll}\n",
       "  & chr & pos & lod\\\\\n",
       "  & <fct> & <dbl> & <dbl>\\\\\n",
       "\\hline\n",
       "\tc1.loc15 & 1  & 15.00000 & 1.3394420\\\\\n",
       "\t2\\_681715 & 2  &  0.00000 & 1.2325235\\\\\n",
       "\tc3.loc20 & 3  & 20.00000 & 1.4955538\\\\\n",
       "\t4\\_3228910 & 4  & 13.63601 & 4.3679737\\\\\n",
       "\t18\\_30393961 & 5  & 21.53601 & 0.8990713\\\\\n",
       "\tc6.loc13 & 6  & 13.00000 & 0.6658611\\\\\n",
       "\tc7.loc87 & 7  & 87.00000 & 0.8481358\\\\\n",
       "\tc8.loc88 & 8  & 88.00000 & 0.6670150\\\\\n",
       "\t9\\_4635879 & 9  & 21.81702 & 0.6397659\\\\\n",
       "\tc10.loc40 & 10 & 40.00000 & 0.5077590\\\\\n",
       "\tc11.loc62 & 11 & 62.00000 & 0.9803370\\\\\n",
       "\tc12.loc38 & 12 & 38.00000 & 1.9108332\\\\\n",
       "\tc13.loc59 & 13 & 59.00000 & 1.7683019\\\\\n",
       "\t14\\_20893101 & 14 & 47.89605 & 3.1029299\\\\\n",
       "\t15\\_18608924 & 15 & 80.95104 & 1.2810928\\\\\n",
       "\tc16.loc39 & 16 & 39.00000 & 0.9542494\\\\\n",
       "\tc17.loc29 & 17 & 29.00000 & 2.3672203\\\\\n",
       "\t18\\_10905045 & 18 & 47.44803 & 0.3247410\\\\\n",
       "\t19\\_6173411 & 19 & 29.66002 & 0.8895518\\\\\n",
       "\\end{tabular}\n"
      ],
      "text/markdown": [
       "\n",
       "A summary.scanone: 19 × 3\n",
       "\n",
       "| <!--/--> | chr &lt;fct&gt; | pos &lt;dbl&gt; | lod &lt;dbl&gt; |\n",
       "|---|---|---|---|\n",
       "| c1.loc15 | 1  | 15.00000 | 1.3394420 |\n",
       "| 2_681715 | 2  |  0.00000 | 1.2325235 |\n",
       "| c3.loc20 | 3  | 20.00000 | 1.4955538 |\n",
       "| 4_3228910 | 4  | 13.63601 | 4.3679737 |\n",
       "| 18_30393961 | 5  | 21.53601 | 0.8990713 |\n",
       "| c6.loc13 | 6  | 13.00000 | 0.6658611 |\n",
       "| c7.loc87 | 7  | 87.00000 | 0.8481358 |\n",
       "| c8.loc88 | 8  | 88.00000 | 0.6670150 |\n",
       "| 9_4635879 | 9  | 21.81702 | 0.6397659 |\n",
       "| c10.loc40 | 10 | 40.00000 | 0.5077590 |\n",
       "| c11.loc62 | 11 | 62.00000 | 0.9803370 |\n",
       "| c12.loc38 | 12 | 38.00000 | 1.9108332 |\n",
       "| c13.loc59 | 13 | 59.00000 | 1.7683019 |\n",
       "| 14_20893101 | 14 | 47.89605 | 3.1029299 |\n",
       "| 15_18608924 | 15 | 80.95104 | 1.2810928 |\n",
       "| c16.loc39 | 16 | 39.00000 | 0.9542494 |\n",
       "| c17.loc29 | 17 | 29.00000 | 2.3672203 |\n",
       "| 18_10905045 | 18 | 47.44803 | 0.3247410 |\n",
       "| 19_6173411 | 19 | 29.66002 | 0.8895518 |\n",
       "\n"
      ],
      "text/plain": [
       "            chr pos      lod      \n",
       "c1.loc15    1   15.00000 1.3394420\n",
       "2_681715    2    0.00000 1.2325235\n",
       "c3.loc20    3   20.00000 1.4955538\n",
       "4_3228910   4   13.63601 4.3679737\n",
       "18_30393961 5   21.53601 0.8990713\n",
       "c6.loc13    6   13.00000 0.6658611\n",
       "c7.loc87    7   87.00000 0.8481358\n",
       "c8.loc88    8   88.00000 0.6670150\n",
       "9_4635879   9   21.81702 0.6397659\n",
       "c10.loc40   10  40.00000 0.5077590\n",
       "c11.loc62   11  62.00000 0.9803370\n",
       "c12.loc38   12  38.00000 1.9108332\n",
       "c13.loc59   13  59.00000 1.7683019\n",
       "14_20893101 14  47.89605 3.1029299\n",
       "15_18608924 15  80.95104 1.2810928\n",
       "c16.loc39   16  39.00000 0.9542494\n",
       "c17.loc29   17  29.00000 2.3672203\n",
       "18_10905045 18  47.44803 0.3247410\n",
       "19_6173411  19  29.66002 0.8895518"
      ]
     },
     "metadata": {},
     "output_type": "display_data"
    },
    {
     "data": {
      "image/png": "[encoded data removed]",
      "text/plain": [
       "plot without title"
      ]
     },
     "metadata": {
      "image/png": {
       "height": 420,
       "width": 420
      },
      "text/plain": {
       "height": 420,
       "width": 420
      }
     },
     "output_type": "display_data"
    }
   ],
   "source": [
    "#Deterime LOD Values\n",
    "TraitCIM<-cim(Map,pheno.col = colNum,method = \"hk\",\n",
    "              map.function = \"kosambi\") #Generate LOD Values\n",
    "plot(TraitCIM) #show LOD graph\n",
    "abline(h = LOD5,col = \"blue\") #overlay statistically significant line\n",
    "print(\"If nothing shows up, the values \n",
    "      are below the LOD5 score\") #warning for no peaks\n",
    "summary(TraitCIM)"
   ]
  },
  {
   "cell_type": "code",
   "execution_count": 15,
   "metadata": {},
   "outputs": [
    {
     "name": "stdin",
     "output_type": "stream",
     "text": [
      "Chromosome?  4\n"
     ]
    },
    {
     "data": {
      "image/png": "[encoded data removed]",
      "text/plain": [
       "plot without title"
      ]
     },
     "metadata": {
      "image/png": {
       "height": 420,
       "width": 420
      },
      "text/plain": {
       "height": 420,
       "width": 420
      }
     },
     "output_type": "display_data"
    }
   ],
   "source": [
    "#Chromosomal Analysis\n",
    "chr <- as.numeric(readline(\"Chromosome? \")) #collect chromosome to look at\n",
    "plot(TraitCIM, chr = chr,xlab = c(\"chr\",chr)) #Plot chr LOD scores\n",
    "abline(h = LOD5, col = \"blue\") #Statistically Significant"
   ]
  },
  {
   "cell_type": "code",
   "execution_count": 16,
   "metadata": {},
   "outputs": [
    {
     "data": {
      "text/html": [
       "<table>\n",
       "<caption>A scanone: 3 × 3</caption>\n",
       "<thead>\n",
       "\t<tr><th></th><th scope=col>chr</th><th scope=col>pos</th><th scope=col>lod</th></tr>\n",
       "\t<tr><th></th><th scope=col>&lt;fct&gt;</th><th scope=col>&lt;dbl&gt;</th><th scope=col>&lt;dbl&gt;</th></tr>\n",
       "</thead>\n",
       "<tbody>\n",
       "\t<tr><th scope=row>4_2007592</th><td>4</td><td> 7.853008</td><td>0.04140997</td></tr>\n",
       "\t<tr><th scope=row>4_3228910</th><td>4</td><td>13.636012</td><td>4.36797371</td></tr>\n",
       "\t<tr><th scope=row>4_3902010</th><td>4</td><td>15.081015</td><td>2.15958736</td></tr>\n",
       "</tbody>\n",
       "</table>\n"
      ],
      "text/latex": [
       "A scanone: 3 × 3\n",
       "\\begin{tabular}{r|lll}\n",
       "  & chr & pos & lod\\\\\n",
       "  & <fct> & <dbl> & <dbl>\\\\\n",
       "\\hline\n",
       "\t4\\_2007592 & 4 &  7.853008 & 0.04140997\\\\\n",
       "\t4\\_3228910 & 4 & 13.636012 & 4.36797371\\\\\n",
       "\t4\\_3902010 & 4 & 15.081015 & 2.15958736\\\\\n",
       "\\end{tabular}\n"
      ],
      "text/markdown": [
       "\n",
       "A scanone: 3 × 3\n",
       "\n",
       "| <!--/--> | chr &lt;fct&gt; | pos &lt;dbl&gt; | lod &lt;dbl&gt; |\n",
       "|---|---|---|---|\n",
       "| 4_2007592 | 4 |  7.853008 | 0.04140997 |\n",
       "| 4_3228910 | 4 | 13.636012 | 4.36797371 |\n",
       "| 4_3902010 | 4 | 15.081015 | 2.15958736 |\n",
       "\n"
      ],
      "text/plain": [
       "          chr pos       lod       \n",
       "4_2007592 4    7.853008 0.04140997\n",
       "4_3228910 4   13.636012 4.36797371\n",
       "4_3902010 4   15.081015 2.15958736"
      ]
     },
     "metadata": {},
     "output_type": "display_data"
    },
    {
     "data": {
      "text/html": [
       "<table>\n",
       "<caption>A scanone: 3 × 3</caption>\n",
       "<thead>\n",
       "\t<tr><th></th><th scope=col>chr</th><th scope=col>pos</th><th scope=col>lod</th></tr>\n",
       "\t<tr><th></th><th scope=col>&lt;fct&gt;</th><th scope=col>&lt;dbl&gt;</th><th scope=col>&lt;dbl&gt;</th></tr>\n",
       "</thead>\n",
       "<tbody>\n",
       "\t<tr><th scope=row>4_2007592</th><td>4</td><td> 7.853008</td><td>0.04140997</td></tr>\n",
       "\t<tr><th scope=row>4_3228910</th><td>4</td><td>13.636012</td><td>4.36797371</td></tr>\n",
       "\t<tr><th scope=row>4_3902010</th><td>4</td><td>15.081015</td><td>2.15958736</td></tr>\n",
       "</tbody>\n",
       "</table>\n"
      ],
      "text/latex": [
       "A scanone: 3 × 3\n",
       "\\begin{tabular}{r|lll}\n",
       "  & chr & pos & lod\\\\\n",
       "  & <fct> & <dbl> & <dbl>\\\\\n",
       "\\hline\n",
       "\t4\\_2007592 & 4 &  7.853008 & 0.04140997\\\\\n",
       "\t4\\_3228910 & 4 & 13.636012 & 4.36797371\\\\\n",
       "\t4\\_3902010 & 4 & 15.081015 & 2.15958736\\\\\n",
       "\\end{tabular}\n"
      ],
      "text/markdown": [
       "\n",
       "A scanone: 3 × 3\n",
       "\n",
       "| <!--/--> | chr &lt;fct&gt; | pos &lt;dbl&gt; | lod &lt;dbl&gt; |\n",
       "|---|---|---|---|\n",
       "| 4_2007592 | 4 |  7.853008 | 0.04140997 |\n",
       "| 4_3228910 | 4 | 13.636012 | 4.36797371 |\n",
       "| 4_3902010 | 4 | 15.081015 | 2.15958736 |\n",
       "\n"
      ],
      "text/plain": [
       "          chr pos       lod       \n",
       "4_2007592 4    7.853008 0.04140997\n",
       "4_3228910 4   13.636012 4.36797371\n",
       "4_3902010 4   15.081015 2.15958736"
      ]
     },
     "metadata": {},
     "output_type": "display_data"
    }
   ],
   "source": [
    "bayesint(TraitCIM, chr = chr, prob=0.95, expandtomarkers=TRUE) #calculate bayesian interval\n",
    "lodint(TraitCIM, chr = chr,expandtomarkers = TRUE ) #calculate LOD Support interval"
   ]
  },
  {
   "cell_type": "code",
   "execution_count": 17,
   "metadata": {},
   "outputs": [
    {
     "name": "stdin",
     "output_type": "stream",
     "text": [
      "Position for analysis:  13.636012\n"
     ]
    },
    {
     "name": "stderr",
     "output_type": "stream",
     "text": [
      "Warning message in getsex(cross):\n",
      "\"125 individuals with missing sex; assuming they're female\"\n",
      "Warning message in fitqtlengine(pheno = pheno, qtl = qtl, covar = covar, formula = formula, :\n",
      "\"Dropping 100 individuals with missing phenotypes.\n",
      "\"\n",
      "Warning message in getsex(cross):\n",
      "\"125 individuals with missing sex; assuming they're female\"\n"
     ]
    },
    {
     "data": {
      "text/plain": [
       "\n",
       "\t\tfitqtl summary\n",
       "\n",
       "Method: Haley-Knott regression \n",
       "Model:  normal phenotype\n",
       "Number of observations : 194 \n",
       "\n",
       "Full model result\n",
       "----------------------------------  \n",
       "Model formula: y ~ Q1 \n",
       "\n",
       "       df        SS        MS      LOD     %var Pvalue(Chi2)    Pvalue(F)\n",
       "Model   1   91.0091 91.009099 3.591416 8.172006 4.765763e-05 5.331862e-05\n",
       "Error 192 1022.6599  5.326354                                            \n",
       "Total 193 1113.6690                                                      \n",
       "\n",
       "\n",
       "Estimated effects:\n",
       "-----------------\n",
       "              est      SE      t\n",
       "Intercept  2.6442  0.1663 15.904\n",
       "4@13.6    -1.3745  0.3325 -4.134\n"
      ]
     },
     "metadata": {},
     "output_type": "display_data"
    }
   ],
   "source": [
    "p <- as.numeric(readline(\"Position for analysis: \"))\n",
    "qtl <- makeqtl(Map, chr = chr, pos = p, what=\"prob\") #pulls genotype probabilities\n",
    "fitqtl <- fitqtl(Map, pheno.col=colNum, qtl = qtl, covar=NULL,\n",
    "       method= \"hk\",model=\"normal\",\n",
    "       dropone=TRUE, get.ests=TRUE,run.checks=TRUE,\n",
    "       tol=1e-4, maxit=1000, forceXcovar=FALSE) #sees how well our data fits a given formula \n",
    "          # If you see \"error: object of type 'closure' is not subsettable\", remove \"formula,\" from the fitqtl argument list.\n",
    "summary(fitqtl) #Print results of the analysis"
   ]
  },
  {
   "cell_type": "code",
   "execution_count": null,
   "metadata": {},
   "outputs": [],
   "source": []
  }
 ],
 "metadata": {
  "kernelspec": {
   "display_name": "R",
   "language": "R",
   "name": "ir"
  },
  "language_info": {
   "codemirror_mode": "r",
   "file_extension": ".r",
   "mimetype": "text/x-r-source",
   "name": "R",
   "pygments_lexer": "r",
   "version": "3.6.3"
  }
 },
 "nbformat": 4,
 "nbformat_minor": 4
}
