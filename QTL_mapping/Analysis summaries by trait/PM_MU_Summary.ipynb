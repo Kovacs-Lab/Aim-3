{
 "cells": [
  {
   "cell_type": "markdown",
   "metadata": {},
   "source": [
    "This analysis is in the order of Female then Male"
   ]
  },
  {
   "cell_type": "code",
   "execution_count": 1,
   "metadata": {},
   "outputs": [
    {
     "name": "stderr",
     "output_type": "stream",
     "text": [
      "Installing package into 'C:/Users/Courtney/Documents/R/win-library/3.6'\n",
      "(as 'lib' is unspecified)\n",
      "\n"
     ]
    },
    {
     "name": "stdout",
     "output_type": "stream",
     "text": [
      "package 'qtl' successfully unpacked and MD5 sums checked\n"
     ]
    },
    {
     "name": "stderr",
     "output_type": "stream",
     "text": [
      "Warning message:\n",
      "\"cannot remove prior installation of package 'qtl'\"\n",
      "Warning message in file.copy(savedcopy, lib, recursive = TRUE):\n",
      "\"problem copying C:\\Users\\Courtney\\Documents\\R\\win-library\\3.6\\00LOCK\\qtl\\libs\\x64\\qtl.dll to C:\\Users\\Courtney\\Documents\\R\\win-library\\3.6\\qtl\\libs\\x64\\qtl.dll: Permission denied\"\n",
      "Warning message:\n",
      "\"restored 'qtl'\"\n"
     ]
    },
    {
     "name": "stdout",
     "output_type": "stream",
     "text": [
      "\n",
      "The downloaded binary packages are in\n",
      "\tC:\\Users\\Courtney\\AppData\\Local\\Temp\\RtmpIVwu2F\\downloaded_packages\n"
     ]
    },
    {
     "name": "stderr",
     "output_type": "stream",
     "text": [
      "Installing package into 'C:/Users/Courtney/Documents/R/win-library/3.6'\n",
      "(as 'lib' is unspecified)\n",
      "\n"
     ]
    },
    {
     "name": "stdout",
     "output_type": "stream",
     "text": [
      "package 'qtlcharts' successfully unpacked and MD5 sums checked\n",
      "\n",
      "The downloaded binary packages are in\n",
      "\tC:\\Users\\Courtney\\AppData\\Local\\Temp\\RtmpIVwu2F\\downloaded_packages\n"
     ]
    },
    {
     "name": "stderr",
     "output_type": "stream",
     "text": [
      "Installing package into 'C:/Users/Courtney/Documents/R/win-library/3.6'\n",
      "(as 'lib' is unspecified)\n",
      "\n"
     ]
    },
    {
     "name": "stdout",
     "output_type": "stream",
     "text": [
      "package 'LinkageMapView' successfully unpacked and MD5 sums checked\n",
      "\n",
      "The downloaded binary packages are in\n",
      "\tC:\\Users\\Courtney\\AppData\\Local\\Temp\\RtmpIVwu2F\\downloaded_packages\n"
     ]
    },
    {
     "name": "stderr",
     "output_type": "stream",
     "text": [
      "Installing package into 'C:/Users/Courtney/Documents/R/win-library/3.6'\n",
      "(as 'lib' is unspecified)\n",
      "\n"
     ]
    },
    {
     "name": "stdout",
     "output_type": "stream",
     "text": [
      "package 'rcompanion' successfully unpacked and MD5 sums checked\n",
      "\n",
      "The downloaded binary packages are in\n",
      "\tC:\\Users\\Courtney\\AppData\\Local\\Temp\\RtmpIVwu2F\\downloaded_packages\n"
     ]
    }
   ],
   "source": [
    "install.packages('qtl') #Main package, for analysis\n",
    "install.packages('qtlcharts') #accessory, for displaying graphs\n",
    "install.packages('LinkageMapView') #accessory, for displaying linkage maps\n",
    "install.packages('rcompanion')# for plotNormalHistogram"
   ]
  },
  {
   "cell_type": "code",
   "execution_count": 2,
   "metadata": {},
   "outputs": [],
   "source": [
    "library(qtl) #load packages\n",
    "library(qtlcharts)\n",
    "library(LinkageMapView)\n",
    "library(rcompanion)"
   ]
  },
  {
   "cell_type": "code",
   "execution_count": 3,
   "metadata": {},
   "outputs": [
    {
     "name": "stdout",
     "output_type": "stream",
     "text": [
      "[1] \"Make sure to input names AS THEY APPEAR on the csv!!\"\n"
     ]
    },
    {
     "name": "stdin",
     "output_type": "stream",
     "text": [
      "Enter file name (Either FemaleMap.csv or MaleMap.csv):  FemaleMap.csv\n",
      "First Genotype (homozygous) (For example ll):  ll\n",
      "Second Genotype (heterozygous) (for example lm):  lm\n",
      "Column Number:  15\n"
     ]
    }
   ],
   "source": [
    "#Collecting enviroment variables\n",
    "print(\"Make sure to input names AS THEY APPEAR on the csv!!\") #Just a user warning\n",
    "fileName <- readline(\"Enter file name (Either FemaleMap.csv or MaleMap.csv): \") #Mapping table file\n",
    "genotypeName <- c(readline(\"First Genotype (homozygous) (For example ll): \"),\n",
    "                  readline(\"Second Genotype (heterozygous) (for example lm): \")) #For example \"nn\", \"np\"\n",
    "alleleName <- c(substr(genotypeName[2],1,1) ,substr(genotypeName[2],2,2))\n",
    "naNames <- c(\"NA\",\"--\") #For example \"NA\", \"--\"\n",
    "colNum <- as.numeric(readline(\"Column Number: \")) #Column for pheno of interest"
   ]
  },
  {
   "cell_type": "code",
   "execution_count": 4,
   "metadata": {},
   "outputs": [
    {
     "name": "stdout",
     "output_type": "stream",
     "text": [
      " --Read the following data:\n",
      "\t 294  individuals\n",
      "\t 1100  markers\n",
      "\t 38  phenotypes\n"
     ]
    },
    {
     "name": "stderr",
     "output_type": "stream",
     "text": [
      "Warning message in summary.cross(cross):\n",
      "\"Some markers at the same position on chr 1,2,4,5,7,8,9,10,11,12,13,14,16,17,18,19; use jittermap().\"\n"
     ]
    },
    {
     "name": "stdout",
     "output_type": "stream",
     "text": [
      " --Cross type: bc \n"
     ]
    },
    {
     "data": {
      "image/png": "[encoded data removed]",
      "text/plain": [
       "Plot with title \"Genetic map\""
      ]
     },
     "metadata": {
      "image/png": {
       "height": 420,
       "width": 420
      },
      "text/plain": {
       "height": 420,
       "width": 420
      }
     },
     "output_type": "display_data"
    }
   ],
   "source": [
    "#Map generation\n",
    "Map <- read.cross(format = 'csv',file = fileName \n",
    "                  ,genotypes = genotypeName,\n",
    "                  alleles = alleleName,na.strings = naNames) #generate linkage map\n",
    "Map <- jittermap(Map) #make sure no markers are in the same location\n",
    "Map <- calc.genoprob(Map,step = 1,map.function = \"kosambi\") #associate markers with full genotypes\n",
    "plot.map(Map) #draw linkage map"
   ]
  },
  {
   "cell_type": "code",
   "execution_count": 5,
   "metadata": {},
   "outputs": [
    {
     "data": {
      "image/png": "[encoded data removed]",
      "text/plain": [
       "Plot with title \"\""
      ]
     },
     "metadata": {
      "image/png": {
       "height": 420,
       "width": 420
      },
      "text/plain": {
       "height": 420,
       "width": 420
      }
     },
     "output_type": "display_data"
    }
   ],
   "source": [
    "plotNormalHistogram(Map$pheno[,colNum]) #normal histogram of pheno of interest"
   ]
  },
  {
   "cell_type": "markdown",
   "metadata": {},
   "source": [
    "Outliers exist in this dataset. Will need to be analyized. "
   ]
  },
  {
   "cell_type": "code",
   "execution_count": 6,
   "metadata": {},
   "outputs": [
    {
     "data": {
      "text/plain": [
       "LOD thresholds (1000 permutations)\n",
       "   [,1]\n",
       "5% 4.46\n",
       "1% 5.63"
      ]
     },
     "metadata": {},
     "output_type": "display_data"
    },
    {
     "data": {
      "image/png": "[encoded data removed]",
      "text/plain": [
       "Plot with title \"\""
      ]
     },
     "metadata": {
      "image/png": {
       "height": 420,
       "width": 420
      },
      "text/plain": {
       "height": 420,
       "width": 420
      }
     },
     "output_type": "display_data"
    }
   ],
   "source": [
    "#Compute statistically significant values\n",
    "TraitCIM1000 <- cim(Map,pheno.col = colNum,method = \"hk\",\n",
    "                    map.function = \"kosambi\",n.perm = 1000) # Function will take a moment to run, determines LOD value\n",
    "plot(TraitCIM1000,col = 'green') #show distribution of lod scores\n",
    "summary(TraitCIM1000,alpha=c(.05,.01))"
   ]
  },
  {
   "cell_type": "code",
   "execution_count": 7,
   "metadata": {},
   "outputs": [
    {
     "name": "stdout",
     "output_type": "stream",
     "text": [
      "[1] \"If nothing shows up, the values \\n      are below the LOD5 score\"\n"
     ]
    },
    {
     "data": {
      "text/html": [
       "<table>\n",
       "<caption>A summary.scanone: 19 × 3</caption>\n",
       "<thead>\n",
       "\t<tr><th></th><th scope=col>chr</th><th scope=col>pos</th><th scope=col>lod</th></tr>\n",
       "\t<tr><th></th><th scope=col>&lt;fct&gt;</th><th scope=col>&lt;dbl&gt;</th><th scope=col>&lt;dbl&gt;</th></tr>\n",
       "</thead>\n",
       "<tbody>\n",
       "\t<tr><th scope=row>1_465241</th><td>1 </td><td> 0.000000</td><td>0.6382904</td></tr>\n",
       "\t<tr><th scope=row>c2.loc22</th><td>2 </td><td>22.000000</td><td>0.8712047</td></tr>\n",
       "\t<tr><th scope=row>c3.loc37</th><td>3 </td><td>37.000000</td><td>0.5520453</td></tr>\n",
       "\t<tr><th scope=row>c4.loc12</th><td>4 </td><td>12.000000</td><td>0.6502157</td></tr>\n",
       "\t<tr><th scope=row>c5.loc47</th><td>5 </td><td>47.000000</td><td>1.1859702</td></tr>\n",
       "\t<tr><th scope=row>c6.loc52</th><td>6 </td><td>52.000000</td><td>1.5800418</td></tr>\n",
       "\t<tr><th scope=row>7_2682789</th><td>7 </td><td> 8.753014</td><td>1.2698837</td></tr>\n",
       "\t<tr><th scope=row>8_11631412</th><td>8 </td><td>30.698020</td><td>1.6454242</td></tr>\n",
       "\t<tr><th scope=row>9_9890624</th><td>9 </td><td>43.315050</td><td>2.2655777</td></tr>\n",
       "\t<tr><th scope=row>10_16658094</th><td>10</td><td>51.802051</td><td>0.5009600</td></tr>\n",
       "\t<tr><th scope=row>11_19776604</th><td>11</td><td>64.492046</td><td>1.1602671</td></tr>\n",
       "\t<tr><th scope=row>c12.loc66</th><td>12</td><td>66.000000</td><td>0.7189702</td></tr>\n",
       "\t<tr><th scope=row>c13.loc41</th><td>13</td><td>41.000000</td><td>0.7261303</td></tr>\n",
       "\t<tr><th scope=row>14_17769206</th><td>14</td><td>39.075003</td><td>1.2407193</td></tr>\n",
       "\t<tr><th scope=row>15_17643598</th><td>15</td><td>50.158041</td><td>0.8472143</td></tr>\n",
       "\t<tr><th scope=row>c16.loc27</th><td>16</td><td>27.000000</td><td>0.8681045</td></tr>\n",
       "\t<tr><th scope=row>c17.loc45</th><td>17</td><td>45.000000</td><td>0.9007490</td></tr>\n",
       "\t<tr><th scope=row>18_8277038</th><td>18</td><td>35.488032</td><td>2.5336860</td></tr>\n",
       "\t<tr><th scope=row>19_276443</th><td>19</td><td> 0.000000</td><td>0.3294503</td></tr>\n",
       "</tbody>\n",
       "</table>\n"
      ],
      "text/latex": [
       "A summary.scanone: 19 × 3\n",
       "\\begin{tabular}{r|lll}\n",
       "  & chr & pos & lod\\\\\n",
       "  & <fct> & <dbl> & <dbl>\\\\\n",
       "\\hline\n",
       "\t1\\_465241 & 1  &  0.000000 & 0.6382904\\\\\n",
       "\tc2.loc22 & 2  & 22.000000 & 0.8712047\\\\\n",
       "\tc3.loc37 & 3  & 37.000000 & 0.5520453\\\\\n",
       "\tc4.loc12 & 4  & 12.000000 & 0.6502157\\\\\n",
       "\tc5.loc47 & 5  & 47.000000 & 1.1859702\\\\\n",
       "\tc6.loc52 & 6  & 52.000000 & 1.5800418\\\\\n",
       "\t7\\_2682789 & 7  &  8.753014 & 1.2698837\\\\\n",
       "\t8\\_11631412 & 8  & 30.698020 & 1.6454242\\\\\n",
       "\t9\\_9890624 & 9  & 43.315050 & 2.2655777\\\\\n",
       "\t10\\_16658094 & 10 & 51.802051 & 0.5009600\\\\\n",
       "\t11\\_19776604 & 11 & 64.492046 & 1.1602671\\\\\n",
       "\tc12.loc66 & 12 & 66.000000 & 0.7189702\\\\\n",
       "\tc13.loc41 & 13 & 41.000000 & 0.7261303\\\\\n",
       "\t14\\_17769206 & 14 & 39.075003 & 1.2407193\\\\\n",
       "\t15\\_17643598 & 15 & 50.158041 & 0.8472143\\\\\n",
       "\tc16.loc27 & 16 & 27.000000 & 0.8681045\\\\\n",
       "\tc17.loc45 & 17 & 45.000000 & 0.9007490\\\\\n",
       "\t18\\_8277038 & 18 & 35.488032 & 2.5336860\\\\\n",
       "\t19\\_276443 & 19 &  0.000000 & 0.3294503\\\\\n",
       "\\end{tabular}\n"
      ],
      "text/markdown": [
       "\n",
       "A summary.scanone: 19 × 3\n",
       "\n",
       "| <!--/--> | chr &lt;fct&gt; | pos &lt;dbl&gt; | lod &lt;dbl&gt; |\n",
       "|---|---|---|---|\n",
       "| 1_465241 | 1  |  0.000000 | 0.6382904 |\n",
       "| c2.loc22 | 2  | 22.000000 | 0.8712047 |\n",
       "| c3.loc37 | 3  | 37.000000 | 0.5520453 |\n",
       "| c4.loc12 | 4  | 12.000000 | 0.6502157 |\n",
       "| c5.loc47 | 5  | 47.000000 | 1.1859702 |\n",
       "| c6.loc52 | 6  | 52.000000 | 1.5800418 |\n",
       "| 7_2682789 | 7  |  8.753014 | 1.2698837 |\n",
       "| 8_11631412 | 8  | 30.698020 | 1.6454242 |\n",
       "| 9_9890624 | 9  | 43.315050 | 2.2655777 |\n",
       "| 10_16658094 | 10 | 51.802051 | 0.5009600 |\n",
       "| 11_19776604 | 11 | 64.492046 | 1.1602671 |\n",
       "| c12.loc66 | 12 | 66.000000 | 0.7189702 |\n",
       "| c13.loc41 | 13 | 41.000000 | 0.7261303 |\n",
       "| 14_17769206 | 14 | 39.075003 | 1.2407193 |\n",
       "| 15_17643598 | 15 | 50.158041 | 0.8472143 |\n",
       "| c16.loc27 | 16 | 27.000000 | 0.8681045 |\n",
       "| c17.loc45 | 17 | 45.000000 | 0.9007490 |\n",
       "| 18_8277038 | 18 | 35.488032 | 2.5336860 |\n",
       "| 19_276443 | 19 |  0.000000 | 0.3294503 |\n",
       "\n"
      ],
      "text/plain": [
       "            chr pos       lod      \n",
       "1_465241    1    0.000000 0.6382904\n",
       "c2.loc22    2   22.000000 0.8712047\n",
       "c3.loc37    3   37.000000 0.5520453\n",
       "c4.loc12    4   12.000000 0.6502157\n",
       "c5.loc47    5   47.000000 1.1859702\n",
       "c6.loc52    6   52.000000 1.5800418\n",
       "7_2682789   7    8.753014 1.2698837\n",
       "8_11631412  8   30.698020 1.6454242\n",
       "9_9890624   9   43.315050 2.2655777\n",
       "10_16658094 10  51.802051 0.5009600\n",
       "11_19776604 11  64.492046 1.1602671\n",
       "c12.loc66   12  66.000000 0.7189702\n",
       "c13.loc41   13  41.000000 0.7261303\n",
       "14_17769206 14  39.075003 1.2407193\n",
       "15_17643598 15  50.158041 0.8472143\n",
       "c16.loc27   16  27.000000 0.8681045\n",
       "c17.loc45   17  45.000000 0.9007490\n",
       "18_8277038  18  35.488032 2.5336860\n",
       "19_276443   19   0.000000 0.3294503"
      ]
     },
     "metadata": {},
     "output_type": "display_data"
    },
    {
     "data": {
      "image/png": "[encoded data removed]",
      "text/plain": [
       "plot without title"
      ]
     },
     "metadata": {
      "image/png": {
       "height": 420,
       "width": 420
      },
      "text/plain": {
       "height": 420,
       "width": 420
      }
     },
     "output_type": "display_data"
    }
   ],
   "source": [
    "#Deterime LOD Values\n",
    "LOD5 <- summary(TraitCIM1000,alpha=c(.05))\n",
    "TraitCIM<-cim(Map,pheno.col = colNum,method = \"hk\",\n",
    "              map.function = \"kosambi\") #Generate LOD Values\n",
    "plot(TraitCIM) #show LOD graph\n",
    "abline(h = LOD5,col = \"blue\") #overlay statistically significant line\n",
    "print(\"If nothing shows up, the values \n",
    "      are below the LOD5 score\") #warning for no peaks\n",
    "summary(TraitCIM)"
   ]
  },
  {
   "cell_type": "code",
   "execution_count": 8,
   "metadata": {},
   "outputs": [
    {
     "name": "stdin",
     "output_type": "stream",
     "text": [
      "Chromosome?  18\n"
     ]
    },
    {
     "data": {
      "image/png": "[encoded data removed]",
      "text/plain": [
       "plot without title"
      ]
     },
     "metadata": {
      "image/png": {
       "height": 420,
       "width": 420
      },
      "text/plain": {
       "height": 420,
       "width": 420
      }
     },
     "output_type": "display_data"
    }
   ],
   "source": [
    "#Chromosomal Analysis\n",
    "chr <- as.numeric(readline(\"Chromosome? \")) #collect chromosome to look at\n",
    "plot(TraitCIM, chr = chr,xlab = c(\"chr\",chr)) #Plot chr LOD scores\n",
    "abline(h = LOD5, col = \"blue\") #Statistically Significant"
   ]
  },
  {
   "cell_type": "code",
   "execution_count": 9,
   "metadata": {},
   "outputs": [
    {
     "data": {
      "text/html": [
       "<table>\n",
       "<caption>A scanone: 3 × 3</caption>\n",
       "<thead>\n",
       "\t<tr><th></th><th scope=col>chr</th><th scope=col>pos</th><th scope=col>lod</th></tr>\n",
       "\t<tr><th></th><th scope=col>&lt;fct&gt;</th><th scope=col>&lt;dbl&gt;</th><th scope=col>&lt;dbl&gt;</th></tr>\n",
       "</thead>\n",
       "<tbody>\n",
       "\t<tr><th scope=row>18_324293</th><td>18</td><td>  0.00000</td><td>0.29418399</td></tr>\n",
       "\t<tr><th scope=row>18_8277038</th><td>18</td><td> 35.48803</td><td>2.53368596</td></tr>\n",
       "\t<tr><th scope=row>10_20190838</th><td>18</td><td>108.92308</td><td>0.01356065</td></tr>\n",
       "</tbody>\n",
       "</table>\n"
      ],
      "text/latex": [
       "A scanone: 3 × 3\n",
       "\\begin{tabular}{r|lll}\n",
       "  & chr & pos & lod\\\\\n",
       "  & <fct> & <dbl> & <dbl>\\\\\n",
       "\\hline\n",
       "\t18\\_324293 & 18 &   0.00000 & 0.29418399\\\\\n",
       "\t18\\_8277038 & 18 &  35.48803 & 2.53368596\\\\\n",
       "\t10\\_20190838 & 18 & 108.92308 & 0.01356065\\\\\n",
       "\\end{tabular}\n"
      ],
      "text/markdown": [
       "\n",
       "A scanone: 3 × 3\n",
       "\n",
       "| <!--/--> | chr &lt;fct&gt; | pos &lt;dbl&gt; | lod &lt;dbl&gt; |\n",
       "|---|---|---|---|\n",
       "| 18_324293 | 18 |   0.00000 | 0.29418399 |\n",
       "| 18_8277038 | 18 |  35.48803 | 2.53368596 |\n",
       "| 10_20190838 | 18 | 108.92308 | 0.01356065 |\n",
       "\n"
      ],
      "text/plain": [
       "            chr pos       lod       \n",
       "18_324293   18    0.00000 0.29418399\n",
       "18_8277038  18   35.48803 2.53368596\n",
       "10_20190838 18  108.92308 0.01356065"
      ]
     },
     "metadata": {},
     "output_type": "display_data"
    },
    {
     "data": {
      "text/html": [
       "<table>\n",
       "<caption>A scanone: 3 × 3</caption>\n",
       "<thead>\n",
       "\t<tr><th></th><th scope=col>chr</th><th scope=col>pos</th><th scope=col>lod</th></tr>\n",
       "\t<tr><th></th><th scope=col>&lt;fct&gt;</th><th scope=col>&lt;dbl&gt;</th><th scope=col>&lt;dbl&gt;</th></tr>\n",
       "</thead>\n",
       "<tbody>\n",
       "\t<tr><th scope=row>18_6960348</th><td>18</td><td>27.98103</td><td>0.0667240</td></tr>\n",
       "\t<tr><th scope=row>18_8277038</th><td>18</td><td>35.48803</td><td>2.5336860</td></tr>\n",
       "\t<tr><th scope=row>18_10047642</th><td>18</td><td>43.55904</td><td>0.4942835</td></tr>\n",
       "</tbody>\n",
       "</table>\n"
      ],
      "text/latex": [
       "A scanone: 3 × 3\n",
       "\\begin{tabular}{r|lll}\n",
       "  & chr & pos & lod\\\\\n",
       "  & <fct> & <dbl> & <dbl>\\\\\n",
       "\\hline\n",
       "\t18\\_6960348 & 18 & 27.98103 & 0.0667240\\\\\n",
       "\t18\\_8277038 & 18 & 35.48803 & 2.5336860\\\\\n",
       "\t18\\_10047642 & 18 & 43.55904 & 0.4942835\\\\\n",
       "\\end{tabular}\n"
      ],
      "text/markdown": [
       "\n",
       "A scanone: 3 × 3\n",
       "\n",
       "| <!--/--> | chr &lt;fct&gt; | pos &lt;dbl&gt; | lod &lt;dbl&gt; |\n",
       "|---|---|---|---|\n",
       "| 18_6960348 | 18 | 27.98103 | 0.0667240 |\n",
       "| 18_8277038 | 18 | 35.48803 | 2.5336860 |\n",
       "| 18_10047642 | 18 | 43.55904 | 0.4942835 |\n",
       "\n"
      ],
      "text/plain": [
       "            chr pos      lod      \n",
       "18_6960348  18  27.98103 0.0667240\n",
       "18_8277038  18  35.48803 2.5336860\n",
       "18_10047642 18  43.55904 0.4942835"
      ]
     },
     "metadata": {},
     "output_type": "display_data"
    }
   ],
   "source": [
    "bayesint(TraitCIM, chr = chr, prob=0.95, expandtomarkers=TRUE) #calculate bayesian interval\n",
    "lodint(TraitCIM, chr = chr,expandtomarkers = TRUE ) #calculate LOD Support interval"
   ]
  },
  {
   "cell_type": "code",
   "execution_count": 10,
   "metadata": {},
   "outputs": [
    {
     "name": "stdin",
     "output_type": "stream",
     "text": [
      "Position for analysis:  35.48803\n"
     ]
    },
    {
     "name": "stderr",
     "output_type": "stream",
     "text": [
      "Warning message in getsex(cross):\n",
      "\"125 individuals with missing sex; assuming they're female\"\n",
      "Warning message in fitqtlengine(pheno = pheno, qtl = qtl, covar = covar, formula = formula, :\n",
      "\"Dropping 175 individuals with missing phenotypes.\n",
      "\"\n",
      "Warning message in getsex(cross):\n",
      "\"125 individuals with missing sex; assuming they're female\"\n"
     ]
    },
    {
     "data": {
      "text/plain": [
       "\n",
       "\t\tfitqtl summary\n",
       "\n",
       "Method: Haley-Knott regression \n",
       "Model:  normal phenotype\n",
       "Number of observations : 119 \n",
       "\n",
       "Full model result\n",
       "----------------------------------  \n",
       "Model formula: y ~ Q1 \n",
       "\n",
       "       df        SS        MS      LOD     %var Pvalue(Chi2)   Pvalue(F)\n",
       "Model   1  27.04889 27.048889 1.526759 5.737234   0.00801112 0.008699574\n",
       "Error 117 444.41330  3.798404                                           \n",
       "Total 118 471.46218                                                     \n",
       "\n",
       "\n",
       "Estimated effects:\n",
       "-----------------\n",
       "              est      SE      t\n",
       "Intercept  4.9968  0.1806 27.669\n",
       "18@35.5   -0.9789  0.3668 -2.669\n"
      ]
     },
     "metadata": {},
     "output_type": "display_data"
    }
   ],
   "source": [
    "p <- as.numeric(readline(\"Position for analysis: \"))\n",
    "qtl <- makeqtl(Map, chr = chr, pos = p, what=\"prob\") #pulls genotype probabilities\n",
    "fitqtl <- fitqtl(Map, pheno.col=colNum, qtl = qtl, covar=NULL,\n",
    "       method= \"hk\",model=\"normal\",\n",
    "       dropone=TRUE, get.ests=TRUE,run.checks=TRUE,\n",
    "       tol=1e-4, maxit=1000, forceXcovar=FALSE) #sees how well our data fits a given formula \n",
    "          # If you see \"error: object of type 'closure' is not subsettable\", remove \"formula,\" from the fitqtl argument list.\n",
    "summary(fitqtl) #Print results of the analysis"
   ]
  },
  {
   "cell_type": "code",
   "execution_count": 11,
   "metadata": {},
   "outputs": [
    {
     "name": "stdout",
     "output_type": "stream",
     "text": [
      "[1] \"Make sure to input names AS THEY APPEAR on the csv!!\"\n"
     ]
    },
    {
     "name": "stdin",
     "output_type": "stream",
     "text": [
      "Enter file name (Either FemaleMap.csv or MaleMap.csv):  MaleMap.csv\n",
      "First Genotype (homozygous) (For example ll):  nn\n",
      "Second Genotype (heterozygous) (for example lm):  np\n",
      "Column Number:  15\n"
     ]
    }
   ],
   "source": [
    "#Collecting enviroment variables\n",
    "print(\"Make sure to input names AS THEY APPEAR on the csv!!\") #Just a user warning\n",
    "fileName <- readline(\"Enter file name (Either FemaleMap.csv or MaleMap.csv): \") #Mapping table file\n",
    "genotypeName <- c(readline(\"First Genotype (homozygous) (For example ll): \"),\n",
    "                  readline(\"Second Genotype (heterozygous) (for example lm): \")) #For example \"nn\", \"np\"\n",
    "alleleName <- c(substr(genotypeName[2],1,1) ,substr(genotypeName[2],2,2))\n",
    "naNames <- c(\"NA\",\"--\") #For example \"NA\", \"--\"\n",
    "colNum <- as.numeric(readline(\"Column Number: \")) #Column for pheno of interest"
   ]
  },
  {
   "cell_type": "code",
   "execution_count": 12,
   "metadata": {},
   "outputs": [
    {
     "name": "stdout",
     "output_type": "stream",
     "text": [
      " --Read the following data:\n",
      "\t 294  individuals\n",
      "\t 1128  markers\n",
      "\t 38  phenotypes\n"
     ]
    },
    {
     "name": "stderr",
     "output_type": "stream",
     "text": [
      "Warning message in summary.cross(cross):\n",
      "\"Some markers at the same position on chr 1,3,4,5,6,7,8,9,10,12,13,14,15,16,17,18,19; use jittermap().\"\n"
     ]
    },
    {
     "name": "stdout",
     "output_type": "stream",
     "text": [
      " --Cross type: bc \n"
     ]
    },
    {
     "data": {
      "image/png": "[encoded data removed]",
      "text/plain": [
       "Plot with title \"Genetic map\""
      ]
     },
     "metadata": {
      "image/png": {
       "height": 420,
       "width": 420
      },
      "text/plain": {
       "height": 420,
       "width": 420
      }
     },
     "output_type": "display_data"
    }
   ],
   "source": [
    "#Map generation\n",
    "Map <- read.cross(format = 'csv',file = fileName \n",
    "                  ,genotypes = genotypeName,\n",
    "                  alleles = alleleName,na.strings = naNames) #generate linkage map\n",
    "Map <- jittermap(Map) #make sure no markers are in the same location\n",
    "Map <- calc.genoprob(Map,step = 1,map.function = \"kosambi\") #associate markers with full genotypes\n",
    "plot.map(Map) #draw linkage map"
   ]
  },
  {
   "cell_type": "code",
   "execution_count": 13,
   "metadata": {},
   "outputs": [
    {
     "data": {
      "image/png": "[encoded data removed]",
      "text/plain": [
       "Plot with title \"\""
      ]
     },
     "metadata": {
      "image/png": {
       "height": 420,
       "width": 420
      },
      "text/plain": {
       "height": 420,
       "width": 420
      }
     },
     "output_type": "display_data"
    }
   ],
   "source": [
    "plotNormalHistogram(Map$pheno[,colNum]) #normal histogram of pheno of interest"
   ]
  },
  {
   "cell_type": "markdown",
   "metadata": {},
   "source": [
    "Outliers exist in this data. "
   ]
  },
  {
   "cell_type": "code",
   "execution_count": 14,
   "metadata": {},
   "outputs": [
    {
     "data": {
      "text/plain": [
       "LOD thresholds (1000 permutations)\n",
       "   [,1]\n",
       "5% 4.34\n",
       "1% 5.26"
      ]
     },
     "metadata": {},
     "output_type": "display_data"
    },
    {
     "data": {
      "image/png": "[encoded data removed]",
      "text/plain": [
       "Plot with title \"\""
      ]
     },
     "metadata": {
      "image/png": {
       "height": 420,
       "width": 420
      },
      "text/plain": {
       "height": 420,
       "width": 420
      }
     },
     "output_type": "display_data"
    }
   ],
   "source": [
    "#Compute statistically significant values\n",
    "TraitCIM1000 <- cim(Map,pheno.col = colNum,method = \"hk\",\n",
    "                    map.function = \"kosambi\",n.perm = 1000) # Function will take a moment to run, determines LOD value\n",
    "plot(TraitCIM1000,col = 'green') #show distribution of lod scores\n",
    "summary(TraitCIM1000,alpha=c(.05,.01))"
   ]
  },
  {
   "cell_type": "code",
   "execution_count": 15,
   "metadata": {},
   "outputs": [
    {
     "name": "stdout",
     "output_type": "stream",
     "text": [
      "[1] \"If nothing shows up, the values \\n      are below the LOD5 score\"\n"
     ]
    },
    {
     "data": {
      "text/html": [
       "<table>\n",
       "<caption>A summary.scanone: 19 × 3</caption>\n",
       "<thead>\n",
       "\t<tr><th></th><th scope=col>chr</th><th scope=col>pos</th><th scope=col>lod</th></tr>\n",
       "\t<tr><th></th><th scope=col>&lt;fct&gt;</th><th scope=col>&lt;dbl&gt;</th><th scope=col>&lt;dbl&gt;</th></tr>\n",
       "</thead>\n",
       "<tbody>\n",
       "\t<tr><th scope=row>c1.loc78</th><td>1 </td><td>78.000000</td><td>0.8260982</td></tr>\n",
       "\t<tr><th scope=row>c2.loc45</th><td>2 </td><td>45.000000</td><td>0.9157934</td></tr>\n",
       "\t<tr><th scope=row>3_1992053</th><td>3 </td><td> 8.425011</td><td>1.0182886</td></tr>\n",
       "\t<tr><th scope=row>4_16592665</th><td>4 </td><td>48.790039</td><td>1.4778293</td></tr>\n",
       "\t<tr><th scope=row>c5.loc76</th><td>5 </td><td>76.000000</td><td>1.9833601</td></tr>\n",
       "\t<tr><th scope=row>6_2530151</th><td>6 </td><td>10.183010</td><td>0.9426136</td></tr>\n",
       "\t<tr><th scope=row>c7.loc53</th><td>7 </td><td>53.000000</td><td>1.0222167</td></tr>\n",
       "\t<tr><th scope=row>1_5285762</th><td>8 </td><td> 0.000000</td><td>2.1783410</td></tr>\n",
       "\t<tr><th scope=row>c9.loc59</th><td>9 </td><td>59.000000</td><td>0.5496090</td></tr>\n",
       "\t<tr><th scope=row>10_1877004</th><td>10</td><td> 8.341006</td><td>0.5591314</td></tr>\n",
       "\t<tr><th scope=row>11_19614647</th><td>11</td><td>72.667037</td><td>0.7485589</td></tr>\n",
       "\t<tr><th scope=row>12_735858</th><td>12</td><td> 0.000000</td><td>1.6062370</td></tr>\n",
       "\t<tr><th scope=row>c13.loc71</th><td>13</td><td>71.000000</td><td>1.1115309</td></tr>\n",
       "\t<tr><th scope=row>c14.loc32</th><td>14</td><td>32.000000</td><td>1.1992027</td></tr>\n",
       "\t<tr><th scope=row>c15.loc89</th><td>15</td><td>89.000000</td><td>1.0127569</td></tr>\n",
       "\t<tr><th scope=row>c16.loc24</th><td>16</td><td>24.000000</td><td>2.3894933</td></tr>\n",
       "\t<tr><th scope=row>c17.loc41</th><td>17</td><td>41.000000</td><td>0.9551569</td></tr>\n",
       "\t<tr><th scope=row>c18.loc38</th><td>18</td><td>38.000000</td><td>0.8186848</td></tr>\n",
       "\t<tr><th scope=row>c19.loc78</th><td>19</td><td>78.000000</td><td>0.7942866</td></tr>\n",
       "</tbody>\n",
       "</table>\n"
      ],
      "text/latex": [
       "A summary.scanone: 19 × 3\n",
       "\\begin{tabular}{r|lll}\n",
       "  & chr & pos & lod\\\\\n",
       "  & <fct> & <dbl> & <dbl>\\\\\n",
       "\\hline\n",
       "\tc1.loc78 & 1  & 78.000000 & 0.8260982\\\\\n",
       "\tc2.loc45 & 2  & 45.000000 & 0.9157934\\\\\n",
       "\t3\\_1992053 & 3  &  8.425011 & 1.0182886\\\\\n",
       "\t4\\_16592665 & 4  & 48.790039 & 1.4778293\\\\\n",
       "\tc5.loc76 & 5  & 76.000000 & 1.9833601\\\\\n",
       "\t6\\_2530151 & 6  & 10.183010 & 0.9426136\\\\\n",
       "\tc7.loc53 & 7  & 53.000000 & 1.0222167\\\\\n",
       "\t1\\_5285762 & 8  &  0.000000 & 2.1783410\\\\\n",
       "\tc9.loc59 & 9  & 59.000000 & 0.5496090\\\\\n",
       "\t10\\_1877004 & 10 &  8.341006 & 0.5591314\\\\\n",
       "\t11\\_19614647 & 11 & 72.667037 & 0.7485589\\\\\n",
       "\t12\\_735858 & 12 &  0.000000 & 1.6062370\\\\\n",
       "\tc13.loc71 & 13 & 71.000000 & 1.1115309\\\\\n",
       "\tc14.loc32 & 14 & 32.000000 & 1.1992027\\\\\n",
       "\tc15.loc89 & 15 & 89.000000 & 1.0127569\\\\\n",
       "\tc16.loc24 & 16 & 24.000000 & 2.3894933\\\\\n",
       "\tc17.loc41 & 17 & 41.000000 & 0.9551569\\\\\n",
       "\tc18.loc38 & 18 & 38.000000 & 0.8186848\\\\\n",
       "\tc19.loc78 & 19 & 78.000000 & 0.7942866\\\\\n",
       "\\end{tabular}\n"
      ],
      "text/markdown": [
       "\n",
       "A summary.scanone: 19 × 3\n",
       "\n",
       "| <!--/--> | chr &lt;fct&gt; | pos &lt;dbl&gt; | lod &lt;dbl&gt; |\n",
       "|---|---|---|---|\n",
       "| c1.loc78 | 1  | 78.000000 | 0.8260982 |\n",
       "| c2.loc45 | 2  | 45.000000 | 0.9157934 |\n",
       "| 3_1992053 | 3  |  8.425011 | 1.0182886 |\n",
       "| 4_16592665 | 4  | 48.790039 | 1.4778293 |\n",
       "| c5.loc76 | 5  | 76.000000 | 1.9833601 |\n",
       "| 6_2530151 | 6  | 10.183010 | 0.9426136 |\n",
       "| c7.loc53 | 7  | 53.000000 | 1.0222167 |\n",
       "| 1_5285762 | 8  |  0.000000 | 2.1783410 |\n",
       "| c9.loc59 | 9  | 59.000000 | 0.5496090 |\n",
       "| 10_1877004 | 10 |  8.341006 | 0.5591314 |\n",
       "| 11_19614647 | 11 | 72.667037 | 0.7485589 |\n",
       "| 12_735858 | 12 |  0.000000 | 1.6062370 |\n",
       "| c13.loc71 | 13 | 71.000000 | 1.1115309 |\n",
       "| c14.loc32 | 14 | 32.000000 | 1.1992027 |\n",
       "| c15.loc89 | 15 | 89.000000 | 1.0127569 |\n",
       "| c16.loc24 | 16 | 24.000000 | 2.3894933 |\n",
       "| c17.loc41 | 17 | 41.000000 | 0.9551569 |\n",
       "| c18.loc38 | 18 | 38.000000 | 0.8186848 |\n",
       "| c19.loc78 | 19 | 78.000000 | 0.7942866 |\n",
       "\n"
      ],
      "text/plain": [
       "            chr pos       lod      \n",
       "c1.loc78    1   78.000000 0.8260982\n",
       "c2.loc45    2   45.000000 0.9157934\n",
       "3_1992053   3    8.425011 1.0182886\n",
       "4_16592665  4   48.790039 1.4778293\n",
       "c5.loc76    5   76.000000 1.9833601\n",
       "6_2530151   6   10.183010 0.9426136\n",
       "c7.loc53    7   53.000000 1.0222167\n",
       "1_5285762   8    0.000000 2.1783410\n",
       "c9.loc59    9   59.000000 0.5496090\n",
       "10_1877004  10   8.341006 0.5591314\n",
       "11_19614647 11  72.667037 0.7485589\n",
       "12_735858   12   0.000000 1.6062370\n",
       "c13.loc71   13  71.000000 1.1115309\n",
       "c14.loc32   14  32.000000 1.1992027\n",
       "c15.loc89   15  89.000000 1.0127569\n",
       "c16.loc24   16  24.000000 2.3894933\n",
       "c17.loc41   17  41.000000 0.9551569\n",
       "c18.loc38   18  38.000000 0.8186848\n",
       "c19.loc78   19  78.000000 0.7942866"
      ]
     },
     "metadata": {},
     "output_type": "display_data"
    },
    {
     "data": {
      "image/png": "[encoded data removed]",
      "text/plain": [
       "plot without title"
      ]
     },
     "metadata": {
      "image/png": {
       "height": 420,
       "width": 420
      },
      "text/plain": {
       "height": 420,
       "width": 420
      }
     },
     "output_type": "display_data"
    }
   ],
   "source": [
    "#Deterime LOD Values\n",
    "TraitCIM<-cim(Map,pheno.col = colNum,method = \"hk\",\n",
    "              map.function = \"kosambi\") #Generate LOD Values\n",
    "plot(TraitCIM) #show LOD graph\n",
    "abline(h = LOD5,col = \"blue\") #overlay statistically significant line\n",
    "print(\"If nothing shows up, the values \n",
    "      are below the LOD5 score\") #warning for no peaks\n",
    "summary(TraitCIM)"
   ]
  },
  {
   "cell_type": "code",
   "execution_count": 16,
   "metadata": {},
   "outputs": [
    {
     "name": "stdin",
     "output_type": "stream",
     "text": [
      "Chromosome?  16\n"
     ]
    },
    {
     "data": {
      "image/png": "[encoded data removed]",
      "text/plain": [
       "plot without title"
      ]
     },
     "metadata": {
      "image/png": {
       "height": 420,
       "width": 420
      },
      "text/plain": {
       "height": 420,
       "width": 420
      }
     },
     "output_type": "display_data"
    }
   ],
   "source": [
    "#Chromosomal Analysis\n",
    "chr <- as.numeric(readline(\"Chromosome? \")) #collect chromosome to look at\n",
    "plot(TraitCIM, chr = chr,xlab = c(\"chr\",chr)) #Plot chr LOD scores\n",
    "abline(h = LOD5, col = \"blue\") #Statistically Significant"
   ]
  },
  {
   "cell_type": "code",
   "execution_count": 17,
   "metadata": {},
   "outputs": [
    {
     "data": {
      "text/html": [
       "<table>\n",
       "<caption>A scanone: 3 × 3</caption>\n",
       "<thead>\n",
       "\t<tr><th></th><th scope=col>chr</th><th scope=col>pos</th><th scope=col>lod</th></tr>\n",
       "\t<tr><th></th><th scope=col>&lt;fct&gt;</th><th scope=col>&lt;dbl&gt;</th><th scope=col>&lt;dbl&gt;</th></tr>\n",
       "</thead>\n",
       "<tbody>\n",
       "\t<tr><th scope=row>15_12434071</th><td>16</td><td> 0.00000</td><td>0.01014057</td></tr>\n",
       "\t<tr><th scope=row>c16.loc24</th><td>16</td><td>24.00000</td><td>2.38949327</td></tr>\n",
       "\t<tr><th scope=row>16_23321614</th><td>16</td><td>91.41305</td><td>0.14496323</td></tr>\n",
       "</tbody>\n",
       "</table>\n"
      ],
      "text/latex": [
       "A scanone: 3 × 3\n",
       "\\begin{tabular}{r|lll}\n",
       "  & chr & pos & lod\\\\\n",
       "  & <fct> & <dbl> & <dbl>\\\\\n",
       "\\hline\n",
       "\t15\\_12434071 & 16 &  0.00000 & 0.01014057\\\\\n",
       "\tc16.loc24 & 16 & 24.00000 & 2.38949327\\\\\n",
       "\t16\\_23321614 & 16 & 91.41305 & 0.14496323\\\\\n",
       "\\end{tabular}\n"
      ],
      "text/markdown": [
       "\n",
       "A scanone: 3 × 3\n",
       "\n",
       "| <!--/--> | chr &lt;fct&gt; | pos &lt;dbl&gt; | lod &lt;dbl&gt; |\n",
       "|---|---|---|---|\n",
       "| 15_12434071 | 16 |  0.00000 | 0.01014057 |\n",
       "| c16.loc24 | 16 | 24.00000 | 2.38949327 |\n",
       "| 16_23321614 | 16 | 91.41305 | 0.14496323 |\n",
       "\n"
      ],
      "text/plain": [
       "            chr pos      lod       \n",
       "15_12434071 16   0.00000 0.01014057\n",
       "c16.loc24   16  24.00000 2.38949327\n",
       "16_23321614 16  91.41305 0.14496323"
      ]
     },
     "metadata": {},
     "output_type": "display_data"
    },
    {
     "data": {
      "text/html": [
       "<table>\n",
       "<caption>A scanone: 3 × 3</caption>\n",
       "<thead>\n",
       "\t<tr><th></th><th scope=col>chr</th><th scope=col>pos</th><th scope=col>lod</th></tr>\n",
       "\t<tr><th></th><th scope=col>&lt;fct&gt;</th><th scope=col>&lt;dbl&gt;</th><th scope=col>&lt;dbl&gt;</th></tr>\n",
       "</thead>\n",
       "<tbody>\n",
       "\t<tr><th scope=row>16_3022309</th><td>16</td><td>22.06101</td><td>0.2868302</td></tr>\n",
       "\t<tr><th scope=row>c16.loc24</th><td>16</td><td>24.00000</td><td>2.3894933</td></tr>\n",
       "\t<tr><th scope=row>12_11308887</th><td>16</td><td>25.83402</td><td>0.2255542</td></tr>\n",
       "</tbody>\n",
       "</table>\n"
      ],
      "text/latex": [
       "A scanone: 3 × 3\n",
       "\\begin{tabular}{r|lll}\n",
       "  & chr & pos & lod\\\\\n",
       "  & <fct> & <dbl> & <dbl>\\\\\n",
       "\\hline\n",
       "\t16\\_3022309 & 16 & 22.06101 & 0.2868302\\\\\n",
       "\tc16.loc24 & 16 & 24.00000 & 2.3894933\\\\\n",
       "\t12\\_11308887 & 16 & 25.83402 & 0.2255542\\\\\n",
       "\\end{tabular}\n"
      ],
      "text/markdown": [
       "\n",
       "A scanone: 3 × 3\n",
       "\n",
       "| <!--/--> | chr &lt;fct&gt; | pos &lt;dbl&gt; | lod &lt;dbl&gt; |\n",
       "|---|---|---|---|\n",
       "| 16_3022309 | 16 | 22.06101 | 0.2868302 |\n",
       "| c16.loc24 | 16 | 24.00000 | 2.3894933 |\n",
       "| 12_11308887 | 16 | 25.83402 | 0.2255542 |\n",
       "\n"
      ],
      "text/plain": [
       "            chr pos      lod      \n",
       "16_3022309  16  22.06101 0.2868302\n",
       "c16.loc24   16  24.00000 2.3894933\n",
       "12_11308887 16  25.83402 0.2255542"
      ]
     },
     "metadata": {},
     "output_type": "display_data"
    }
   ],
   "source": [
    "bayesint(TraitCIM, chr = chr, prob=0.95, expandtomarkers=TRUE) #calculate bayesian interval\n",
    "lodint(TraitCIM, chr = chr,expandtomarkers = TRUE ) #calculate LOD Support interval"
   ]
  },
  {
   "cell_type": "code",
   "execution_count": 18,
   "metadata": {},
   "outputs": [
    {
     "name": "stdin",
     "output_type": "stream",
     "text": [
      "Position for analysis:  24.00000\n"
     ]
    },
    {
     "name": "stderr",
     "output_type": "stream",
     "text": [
      "Warning message in getsex(cross):\n",
      "\"125 individuals with missing sex; assuming they're female\"\n",
      "Warning message in fitqtlengine(pheno = pheno, qtl = qtl, covar = covar, formula = formula, :\n",
      "\"Dropping 175 individuals with missing phenotypes.\n",
      "\"\n",
      "Warning message in getsex(cross):\n",
      "\"125 individuals with missing sex; assuming they're female\"\n"
     ]
    },
    {
     "data": {
      "text/plain": [
       "\n",
       "\t\tfitqtl summary\n",
       "\n",
       "Method: Haley-Knott regression \n",
       "Model:  normal phenotype\n",
       "Number of observations : 119 \n",
       "\n",
       "Full model result\n",
       "----------------------------------  \n",
       "Model formula: y ~ Q1 \n",
       "\n",
       "       df        SS        MS      LOD     %var Pvalue(Chi2)   Pvalue(F)\n",
       "Model   1  38.40266 38.402660 2.195507 8.145438  0.001474125 0.001653988\n",
       "Error 117 433.05952  3.701363                                           \n",
       "Total 118 471.46218                                                     \n",
       "\n",
       "\n",
       "Estimated effects:\n",
       "-----------------\n",
       "             est     SE      t\n",
       "Intercept 5.1709 0.1793 28.843\n",
       "16@24.0   3.4811 1.0807  3.221\n"
      ]
     },
     "metadata": {},
     "output_type": "display_data"
    }
   ],
   "source": [
    "p <- as.numeric(readline(\"Position for analysis: \"))\n",
    "qtl <- makeqtl(Map, chr = chr, pos = p, what=\"prob\") #pulls genotype probabilities\n",
    "fitqtl <- fitqtl(Map, pheno.col=colNum, qtl = qtl, covar=NULL,\n",
    "       method= \"hk\",model=\"normal\",\n",
    "       dropone=TRUE, get.ests=TRUE,run.checks=TRUE,\n",
    "       tol=1e-4, maxit=1000, forceXcovar=FALSE) #sees how well our data fits a given formula \n",
    "          # If you see \"error: object of type 'closure' is not subsettable\", remove \"formula,\" from the fitqtl argument list.\n",
    "summary(fitqtl) #Print results of the analysis"
   ]
  },
  {
   "cell_type": "code",
   "execution_count": null,
   "metadata": {},
   "outputs": [],
   "source": []
  }
 ],
 "metadata": {
  "kernelspec": {
   "display_name": "R",
   "language": "R",
   "name": "ir"
  },
  "language_info": {
   "codemirror_mode": "r",
   "file_extension": ".r",
   "mimetype": "text/x-r-source",
   "name": "R",
   "pygments_lexer": "r",
   "version": "3.6.3"
  }
 },
 "nbformat": 4,
 "nbformat_minor": 4
}
