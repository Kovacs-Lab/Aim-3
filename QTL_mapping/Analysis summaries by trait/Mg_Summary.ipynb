{
 "cells": [
  {
   "cell_type": "markdown",
   "metadata": {},
   "source": [
    "This analysis is in the order of Female then Male"
   ]
  },
  {
   "cell_type": "code",
   "execution_count": 1,
   "metadata": {},
   "outputs": [
    {
     "name": "stderr",
     "output_type": "stream",
     "text": [
      "Installing package into 'C:/Users/2198K/Documents/R/win-library/3.6'\n",
      "(as 'lib' is unspecified)\n",
      "\n"
     ]
    },
    {
     "name": "stdout",
     "output_type": "stream",
     "text": [
      "package 'qtl' successfully unpacked and MD5 sums checked\n"
     ]
    },
    {
     "name": "stderr",
     "output_type": "stream",
     "text": [
      "Warning message:\n",
      "\"cannot remove prior installation of package 'qtl'\"\n",
      "Warning message in file.copy(savedcopy, lib, recursive = TRUE):\n",
      "\"problem copying C:\\Users\\2198K\\Documents\\R\\win-library\\3.6\\00LOCK\\qtl\\libs\\x64\\qtl.dll to C:\\Users\\2198K\\Documents\\R\\win-library\\3.6\\qtl\\libs\\x64\\qtl.dll: Permission denied\"\n",
      "Warning message:\n",
      "\"restored 'qtl'\"\n"
     ]
    },
    {
     "name": "stdout",
     "output_type": "stream",
     "text": [
      "\n",
      "The downloaded binary packages are in\n",
      "\tC:\\Users\\2198K\\AppData\\Local\\Temp\\RtmpOYs9LT\\downloaded_packages\n"
     ]
    },
    {
     "name": "stderr",
     "output_type": "stream",
     "text": [
      "Installing package into 'C:/Users/2198K/Documents/R/win-library/3.6'\n",
      "(as 'lib' is unspecified)\n",
      "\n"
     ]
    },
    {
     "name": "stdout",
     "output_type": "stream",
     "text": [
      "package 'qtlcharts' successfully unpacked and MD5 sums checked\n",
      "\n",
      "The downloaded binary packages are in\n",
      "\tC:\\Users\\2198K\\AppData\\Local\\Temp\\RtmpOYs9LT\\downloaded_packages\n"
     ]
    },
    {
     "name": "stderr",
     "output_type": "stream",
     "text": [
      "Installing package into 'C:/Users/2198K/Documents/R/win-library/3.6'\n",
      "(as 'lib' is unspecified)\n",
      "\n"
     ]
    },
    {
     "name": "stdout",
     "output_type": "stream",
     "text": [
      "package 'LinkageMapView' successfully unpacked and MD5 sums checked\n",
      "\n",
      "The downloaded binary packages are in\n",
      "\tC:\\Users\\2198K\\AppData\\Local\\Temp\\RtmpOYs9LT\\downloaded_packages\n"
     ]
    },
    {
     "name": "stderr",
     "output_type": "stream",
     "text": [
      "Installing package into 'C:/Users/2198K/Documents/R/win-library/3.6'\n",
      "(as 'lib' is unspecified)\n",
      "\n"
     ]
    },
    {
     "name": "stdout",
     "output_type": "stream",
     "text": [
      "package 'rcompanion' successfully unpacked and MD5 sums checked\n",
      "\n",
      "The downloaded binary packages are in\n",
      "\tC:\\Users\\2198K\\AppData\\Local\\Temp\\RtmpOYs9LT\\downloaded_packages\n"
     ]
    }
   ],
   "source": [
    "install.packages('qtl') #Main package, for analysis\n",
    "install.packages('qtlcharts') #accessory, for displaying graphs\n",
    "install.packages('LinkageMapView') #accessory, for displaying linkage maps\n",
    "install.packages('rcompanion')# for plotNormalHistogram"
   ]
  },
  {
   "cell_type": "code",
   "execution_count": 2,
   "metadata": {},
   "outputs": [
    {
     "name": "stderr",
     "output_type": "stream",
     "text": [
      "Warning message:\n",
      "\"package 'qtl' was built under R version 3.6.2\"\n",
      "Warning message:\n",
      "\"package 'qtlcharts' was built under R version 3.6.2\"\n",
      "Warning message:\n",
      "\"package 'LinkageMapView' was built under R version 3.6.2\"\n",
      "Warning message:\n",
      "\"package 'rcompanion' was built under R version 3.6.2\"\n"
     ]
    }
   ],
   "source": [
    "library(qtl) #load packages\n",
    "library(qtlcharts)\n",
    "library(LinkageMapView)\n",
    "library(rcompanion)"
   ]
  },
  {
   "cell_type": "code",
   "execution_count": 3,
   "metadata": {},
   "outputs": [
    {
     "name": "stdout",
     "output_type": "stream",
     "text": [
      "[1] \"Make sure to input names AS THEY APPEAR on the csv!!\"\n"
     ]
    },
    {
     "name": "stdin",
     "output_type": "stream",
     "text": [
      "Enter file name (Either FemaleMap.csv or MaleMap.csv):  FemaleMap.csv\n",
      "First Genotype (homozygous) (For example ll):  ll\n",
      "Second Genotype (heterozygous) (for example lm):  lm\n",
      "Column Number:  20\n"
     ]
    }
   ],
   "source": [
    "#Collecting enviroment variables\n",
    "print(\"Make sure to input names AS THEY APPEAR on the csv!!\") #Just a user warning\n",
    "fileName <- readline(\"Enter file name (Either FemaleMap.csv or MaleMap.csv): \") #Mapping table file\n",
    "genotypeName <- c(readline(\"First Genotype (homozygous) (For example ll): \"),\n",
    "                  readline(\"Second Genotype (heterozygous) (for example lm): \")) #For example \"nn\", \"np\"\n",
    "alleleName <- c(substr(genotypeName[2],1,1) ,substr(genotypeName[2],2,2))\n",
    "naNames <- c(\"NA\",\"--\") #For example \"NA\", \"--\"\n",
    "colNum <- as.numeric(readline(\"Column Number: \")) #Column for pheno of interest"
   ]
  },
  {
   "cell_type": "code",
   "execution_count": 4,
   "metadata": {},
   "outputs": [
    {
     "name": "stdout",
     "output_type": "stream",
     "text": [
      " --Read the following data:\n",
      "\t 294  individuals\n",
      "\t 1100  markers\n",
      "\t 38  phenotypes\n"
     ]
    },
    {
     "name": "stderr",
     "output_type": "stream",
     "text": [
      "Warning message in summary.cross(cross):\n",
      "\"Some markers at the same position on chr 1,2,4,5,7,8,9,10,11,12,13,14,16,17,18,19; use jittermap().\"\n"
     ]
    },
    {
     "name": "stdout",
     "output_type": "stream",
     "text": [
      " --Cross type: bc \n"
     ]
    },
    {
     "data": {
      "image/png": "[encoded data removed]",
      "text/plain": [
       "Plot with title \"Genetic map\""
      ]
     },
     "metadata": {
      "image/png": {
       "height": 420,
       "width": 420
      }
     },
     "output_type": "display_data"
    }
   ],
   "source": [
    "#Map generation\n",
    "Map <- read.cross(format = 'csv',file = fileName \n",
    "                  ,genotypes = genotypeName,\n",
    "                  alleles = alleleName,na.strings = naNames) #generate linkage map\n",
    "Map <- jittermap(Map) #make sure no markers are in the same location\n",
    "Map <- calc.genoprob(Map,step = 1,map.function = \"kosambi\") #associate markers with full genotypes\n",
    "plot.map(Map) #draw linkage map"
   ]
  },
  {
   "cell_type": "code",
   "execution_count": 5,
   "metadata": {},
   "outputs": [
    {
     "data": {
      "image/png": "[encoded data removed]",
      "text/plain": [
       "Plot with title \"\""
      ]
     },
     "metadata": {
      "image/png": {
       "height": 420,
       "width": 420
      }
     },
     "output_type": "display_data"
    }
   ],
   "source": [
    "plotNormalHistogram(Map$pheno[,colNum]) #normal histogram of pheno of interest"
   ]
  },
  {
   "cell_type": "markdown",
   "metadata": {},
   "source": [
    "Outliers exist in this dataset. Will need to be analyized. "
   ]
  },
  {
   "cell_type": "code",
   "execution_count": 6,
   "metadata": {},
   "outputs": [
    {
     "data": {
      "image/png": "[encoded data removed]",
      "text/plain": [
       "Plot with title \"\""
      ]
     },
     "metadata": {
      "image/png": {
       "height": 420,
       "width": 420
      }
     },
     "output_type": "display_data"
    }
   ],
   "source": [
    "#Compute statistically significant values\n",
    "TraitCIM1000 <- cim(Map,pheno.col = colNum,method = \"hk\",\n",
    "                    map.function = \"kosambi\",n.perm = 1000) # Function will take a moment to run, determines LOD value\n",
    "plot(TraitCIM1000,col = 'green') #show distribution of lod scores\n",
    "LOD5 <- summary(TraitCIM1000)[1]"
   ]
  },
  {
   "cell_type": "code",
   "execution_count": 7,
   "metadata": {},
   "outputs": [
    {
     "name": "stdout",
     "output_type": "stream",
     "text": [
      "[1] \"If nothing shows up, the values \\n      are below the LOD5 score\"\n"
     ]
    },
    {
     "data": {
      "text/html": [
       "<table>\n",
       "<caption>A summary.scanone: 19 × 3</caption>\n",
       "<thead>\n",
       "\t<tr><th></th><th scope=col>chr</th><th scope=col>pos</th><th scope=col>lod</th></tr>\n",
       "\t<tr><th></th><th scope=col>&lt;fct&gt;</th><th scope=col>&lt;dbl&gt;</th><th scope=col>&lt;dbl&gt;</th></tr>\n",
       "</thead>\n",
       "<tbody>\n",
       "\t<tr><th scope=row>1_23828951</th><td>1 </td><td>76.367049</td><td>0.7682875</td></tr>\n",
       "\t<tr><th scope=row>2_3671868</th><td>2 </td><td>34.953014</td><td>0.4903177</td></tr>\n",
       "\t<tr><th scope=row>c3.loc30</th><td>3 </td><td>30.000000</td><td>0.7815186</td></tr>\n",
       "\t<tr><th scope=row>4_21750541</th><td>4 </td><td>65.253062</td><td>0.8840180</td></tr>\n",
       "\t<tr><th scope=row>c5.loc6</th><td>5 </td><td> 6.000000</td><td>0.3631586</td></tr>\n",
       "\t<tr><th scope=row>c6.loc8</th><td>6 </td><td> 8.000000</td><td>1.5137736</td></tr>\n",
       "\t<tr><th scope=row>c7.loc56</th><td>7 </td><td>56.000000</td><td>1.0102283</td></tr>\n",
       "\t<tr><th scope=row>8_20168985</th><td>8 </td><td>72.716056</td><td>2.0658968</td></tr>\n",
       "\t<tr><th scope=row>9_4365902</th><td>9 </td><td>26.075028</td><td>1.1783731</td></tr>\n",
       "\t<tr><th scope=row>c10.loc48</th><td>10</td><td>48.000000</td><td>0.8493932</td></tr>\n",
       "\t<tr><th scope=row>11_17389325</th><td>11</td><td>52.030036</td><td>1.0094375</td></tr>\n",
       "\t<tr><th scope=row>c12.loc44</th><td>12</td><td>44.000000</td><td>1.7929106</td></tr>\n",
       "\t<tr><th scope=row>13_18395415</th><td>13</td><td>52.257041</td><td>0.7143907</td></tr>\n",
       "\t<tr><th scope=row>c14.loc54</th><td>14</td><td>54.000000</td><td>2.0089956</td></tr>\n",
       "\t<tr><th scope=row>c15.loc36</th><td>15</td><td>36.000000</td><td>1.2939632</td></tr>\n",
       "\t<tr><th scope=row>c16.loc64</th><td>16</td><td>64.000000</td><td>1.2619966</td></tr>\n",
       "\t<tr><th scope=row>17_6188116</th><td>17</td><td>30.465016</td><td>0.6118513</td></tr>\n",
       "\t<tr><th scope=row>c18.loc82</th><td>18</td><td>82.000000</td><td>1.4407042</td></tr>\n",
       "\t<tr><th scope=row>19_1647097</th><td>19</td><td> 7.653011</td><td>0.6877371</td></tr>\n",
       "</tbody>\n",
       "</table>\n"
      ],
      "text/latex": [
       "A summary.scanone: 19 × 3\n",
       "\\begin{tabular}{r|lll}\n",
       "  & chr & pos & lod\\\\\n",
       "  & <fct> & <dbl> & <dbl>\\\\\n",
       "\\hline\n",
       "\t1\\_23828951 & 1  & 76.367049 & 0.7682875\\\\\n",
       "\t2\\_3671868 & 2  & 34.953014 & 0.4903177\\\\\n",
       "\tc3.loc30 & 3  & 30.000000 & 0.7815186\\\\\n",
       "\t4\\_21750541 & 4  & 65.253062 & 0.8840180\\\\\n",
       "\tc5.loc6 & 5  &  6.000000 & 0.3631586\\\\\n",
       "\tc6.loc8 & 6  &  8.000000 & 1.5137736\\\\\n",
       "\tc7.loc56 & 7  & 56.000000 & 1.0102283\\\\\n",
       "\t8\\_20168985 & 8  & 72.716056 & 2.0658968\\\\\n",
       "\t9\\_4365902 & 9  & 26.075028 & 1.1783731\\\\\n",
       "\tc10.loc48 & 10 & 48.000000 & 0.8493932\\\\\n",
       "\t11\\_17389325 & 11 & 52.030036 & 1.0094375\\\\\n",
       "\tc12.loc44 & 12 & 44.000000 & 1.7929106\\\\\n",
       "\t13\\_18395415 & 13 & 52.257041 & 0.7143907\\\\\n",
       "\tc14.loc54 & 14 & 54.000000 & 2.0089956\\\\\n",
       "\tc15.loc36 & 15 & 36.000000 & 1.2939632\\\\\n",
       "\tc16.loc64 & 16 & 64.000000 & 1.2619966\\\\\n",
       "\t17\\_6188116 & 17 & 30.465016 & 0.6118513\\\\\n",
       "\tc18.loc82 & 18 & 82.000000 & 1.4407042\\\\\n",
       "\t19\\_1647097 & 19 &  7.653011 & 0.6877371\\\\\n",
       "\\end{tabular}\n"
      ],
      "text/markdown": [
       "\n",
       "A summary.scanone: 19 × 3\n",
       "\n",
       "| <!--/--> | chr &lt;fct&gt; | pos &lt;dbl&gt; | lod &lt;dbl&gt; |\n",
       "|---|---|---|---|\n",
       "| 1_23828951 | 1  | 76.367049 | 0.7682875 |\n",
       "| 2_3671868 | 2  | 34.953014 | 0.4903177 |\n",
       "| c3.loc30 | 3  | 30.000000 | 0.7815186 |\n",
       "| 4_21750541 | 4  | 65.253062 | 0.8840180 |\n",
       "| c5.loc6 | 5  |  6.000000 | 0.3631586 |\n",
       "| c6.loc8 | 6  |  8.000000 | 1.5137736 |\n",
       "| c7.loc56 | 7  | 56.000000 | 1.0102283 |\n",
       "| 8_20168985 | 8  | 72.716056 | 2.0658968 |\n",
       "| 9_4365902 | 9  | 26.075028 | 1.1783731 |\n",
       "| c10.loc48 | 10 | 48.000000 | 0.8493932 |\n",
       "| 11_17389325 | 11 | 52.030036 | 1.0094375 |\n",
       "| c12.loc44 | 12 | 44.000000 | 1.7929106 |\n",
       "| 13_18395415 | 13 | 52.257041 | 0.7143907 |\n",
       "| c14.loc54 | 14 | 54.000000 | 2.0089956 |\n",
       "| c15.loc36 | 15 | 36.000000 | 1.2939632 |\n",
       "| c16.loc64 | 16 | 64.000000 | 1.2619966 |\n",
       "| 17_6188116 | 17 | 30.465016 | 0.6118513 |\n",
       "| c18.loc82 | 18 | 82.000000 | 1.4407042 |\n",
       "| 19_1647097 | 19 |  7.653011 | 0.6877371 |\n",
       "\n"
      ],
      "text/plain": [
       "            chr pos       lod      \n",
       "1_23828951  1   76.367049 0.7682875\n",
       "2_3671868   2   34.953014 0.4903177\n",
       "c3.loc30    3   30.000000 0.7815186\n",
       "4_21750541  4   65.253062 0.8840180\n",
       "c5.loc6     5    6.000000 0.3631586\n",
       "c6.loc8     6    8.000000 1.5137736\n",
       "c7.loc56    7   56.000000 1.0102283\n",
       "8_20168985  8   72.716056 2.0658968\n",
       "9_4365902   9   26.075028 1.1783731\n",
       "c10.loc48   10  48.000000 0.8493932\n",
       "11_17389325 11  52.030036 1.0094375\n",
       "c12.loc44   12  44.000000 1.7929106\n",
       "13_18395415 13  52.257041 0.7143907\n",
       "c14.loc54   14  54.000000 2.0089956\n",
       "c15.loc36   15  36.000000 1.2939632\n",
       "c16.loc64   16  64.000000 1.2619966\n",
       "17_6188116  17  30.465016 0.6118513\n",
       "c18.loc82   18  82.000000 1.4407042\n",
       "19_1647097  19   7.653011 0.6877371"
      ]
     },
     "metadata": {},
     "output_type": "display_data"
    },
    {
     "data": {
      "text/plain": [
       "LOD thresholds (1000 permutations)\n",
       "   [,1]\n",
       "5% 4.18\n",
       "1% 4.92"
      ]
     },
     "metadata": {},
     "output_type": "display_data"
    },
    {
     "data": {
      "image/png": "[encoded data removed]",
      "text/plain": [
       "plot without title"
      ]
     },
     "metadata": {
      "image/png": {
       "height": 420,
       "width": 420
      }
     },
     "output_type": "display_data"
    }
   ],
   "source": [
    "#Deterime LOD Values\n",
    "TraitCIM<-cim(Map,pheno.col = colNum,method = \"hk\",\n",
    "              map.function = \"kosambi\") #Generate LOD Values\n",
    "plot(TraitCIM) #show LOD graph\n",
    "abline(h = LOD5,col = \"blue\") #overlay statistically significant line\n",
    "print(\"If nothing shows up, the values \n",
    "      are below the LOD5 score\") #warning for no peaks\n",
    "summary(TraitCIM)\n",
    "summary(TraitCIM1000,alpha=c(.05,.01))"
   ]
  },
  {
   "cell_type": "code",
   "execution_count": 8,
   "metadata": {},
   "outputs": [
    {
     "name": "stdout",
     "output_type": "stream",
     "text": [
      "[1] \"Make sure to input names AS THEY APPEAR on the csv!!\"\n"
     ]
    },
    {
     "name": "stdin",
     "output_type": "stream",
     "text": [
      "Enter file name (Either FemaleMap.csv or MaleMap.csv):  MaleMap.csv\n",
      "First Genotype (homozygous) (For example ll):  nn\n",
      "Second Genotype (heterozygous) (for example lm):  np\n",
      "Column Number:  20\n"
     ]
    }
   ],
   "source": [
    "#Collecting enviroment variables\n",
    "print(\"Make sure to input names AS THEY APPEAR on the csv!!\") #Just a user warning\n",
    "fileName <- readline(\"Enter file name (Either FemaleMap.csv or MaleMap.csv): \") #Mapping table file\n",
    "genotypeName <- c(readline(\"First Genotype (homozygous) (For example ll): \"),\n",
    "                  readline(\"Second Genotype (heterozygous) (for example lm): \")) #For example \"nn\", \"np\"\n",
    "alleleName <- c(substr(genotypeName[2],1,1) ,substr(genotypeName[2],2,2))\n",
    "naNames <- c(\"NA\",\"--\") #For example \"NA\", \"--\"\n",
    "colNum <- as.numeric(readline(\"Column Number: \")) #Column for pheno of interest"
   ]
  },
  {
   "cell_type": "code",
   "execution_count": 9,
   "metadata": {},
   "outputs": [
    {
     "name": "stdout",
     "output_type": "stream",
     "text": [
      " --Read the following data:\n",
      "\t 294  individuals\n",
      "\t 1128  markers\n",
      "\t 38  phenotypes\n"
     ]
    },
    {
     "name": "stderr",
     "output_type": "stream",
     "text": [
      "Warning message in summary.cross(cross):\n",
      "\"Some markers at the same position on chr 1,3,4,5,6,7,8,9,10,12,13,14,15,16,17,18,19; use jittermap().\"\n"
     ]
    },
    {
     "name": "stdout",
     "output_type": "stream",
     "text": [
      " --Cross type: bc \n"
     ]
    },
    {
     "data": {
      "image/png": "[encoded data removed]",
      "text/plain": [
       "Plot with title \"Genetic map\""
      ]
     },
     "metadata": {
      "image/png": {
       "height": 420,
       "width": 420
      }
     },
     "output_type": "display_data"
    }
   ],
   "source": [
    "#Map generation\n",
    "Map <- read.cross(format = 'csv',file = fileName \n",
    "                  ,genotypes = genotypeName,\n",
    "                  alleles = alleleName,na.strings = naNames) #generate linkage map\n",
    "Map <- jittermap(Map) #make sure no markers are in the same location\n",
    "Map <- calc.genoprob(Map,step = 1,map.function = \"kosambi\") #associate markers with full genotypes\n",
    "plot.map(Map) #draw linkage map"
   ]
  },
  {
   "cell_type": "code",
   "execution_count": 10,
   "metadata": {},
   "outputs": [
    {
     "data": {
      "image/png": "[encoded data removed]",
      "text/plain": [
       "Plot with title \"\""
      ]
     },
     "metadata": {
      "image/png": {
       "height": 420,
       "width": 420
      }
     },
     "output_type": "display_data"
    }
   ],
   "source": [
    "plotNormalHistogram(Map$pheno[,colNum]) #normal histogram of pheno of interest"
   ]
  },
  {
   "cell_type": "markdown",
   "metadata": {},
   "source": [
    "Outliers exist in this data. "
   ]
  },
  {
   "cell_type": "code",
   "execution_count": 11,
   "metadata": {},
   "outputs": [
    {
     "data": {
      "image/png": "[encoded data removed]",
      "text/plain": [
       "Plot with title \"\""
      ]
     },
     "metadata": {
      "image/png": {
       "height": 420,
       "width": 420
      }
     },
     "output_type": "display_data"
    }
   ],
   "source": [
    "#Compute statistically significant values\n",
    "TraitCIM1000 <- cim(Map,pheno.col = colNum,method = \"hk\",\n",
    "                    map.function = \"kosambi\",n.perm = 1000) # Function will take a moment to run, determines LOD value\n",
    "plot(TraitCIM1000,col = 'green') #show distribution of lod scores\n",
    "LOD5 <- summary(TraitCIM1000)[1]"
   ]
  },
  {
   "cell_type": "code",
   "execution_count": 12,
   "metadata": {},
   "outputs": [
    {
     "name": "stdout",
     "output_type": "stream",
     "text": [
      "[1] \"If nothing shows up, the values \\n      are below the LOD5 score\"\n"
     ]
    },
    {
     "data": {
      "text/html": [
       "<table>\n",
       "<caption>A summary.scanone: 19 × 3</caption>\n",
       "<thead>\n",
       "\t<tr><th></th><th scope=col>chr</th><th scope=col>pos</th><th scope=col>lod</th></tr>\n",
       "\t<tr><th></th><th scope=col>&lt;fct&gt;</th><th scope=col>&lt;dbl&gt;</th><th scope=col>&lt;dbl&gt;</th></tr>\n",
       "</thead>\n",
       "<tbody>\n",
       "\t<tr><th scope=row>1_7042562</th><td>1 </td><td>37.769031</td><td>1.0010117</td></tr>\n",
       "\t<tr><th scope=row>c2.loc46</th><td>2 </td><td>46.000000</td><td>0.6364730</td></tr>\n",
       "\t<tr><th scope=row>3_1171786</th><td>3 </td><td> 4.364004</td><td>1.9292652</td></tr>\n",
       "\t<tr><th scope=row>4_23747765</th><td>4 </td><td>84.559057</td><td>1.4515852</td></tr>\n",
       "\t<tr><th scope=row>5_22968587</th><td>5 </td><td>73.381049</td><td>0.4963956</td></tr>\n",
       "\t<tr><th scope=row>c6.loc16</th><td>6 </td><td>16.000000</td><td>2.1767477</td></tr>\n",
       "\t<tr><th scope=row>7_14622444</th><td>7 </td><td>56.320044</td><td>1.5871476</td></tr>\n",
       "\t<tr><th scope=row>c8.loc15</th><td>8 </td><td>15.000000</td><td>3.8332599</td></tr>\n",
       "\t<tr><th scope=row>9_8308769</th><td>9 </td><td>32.045026</td><td>0.9783693</td></tr>\n",
       "\t<tr><th scope=row>c10.loc67</th><td>10</td><td>67.000000</td><td>0.8647560</td></tr>\n",
       "\t<tr><th scope=row>c11.loc14</th><td>11</td><td>14.000000</td><td>1.1024411</td></tr>\n",
       "\t<tr><th scope=row>12_8352093</th><td>12</td><td>35.294031</td><td>1.2273553</td></tr>\n",
       "\t<tr><th scope=row>13_2554407</th><td>13</td><td>10.212010</td><td>0.8142278</td></tr>\n",
       "\t<tr><th scope=row>c14.loc94</th><td>14</td><td>94.000000</td><td>0.6761886</td></tr>\n",
       "\t<tr><th scope=row>c15.loc29</th><td>15</td><td>29.000000</td><td>2.2105795</td></tr>\n",
       "\t<tr><th scope=row>c16.loc22</th><td>16</td><td>22.000000</td><td>1.3329309</td></tr>\n",
       "\t<tr><th scope=row>c17.loc29</th><td>17</td><td>29.000000</td><td>0.4980015</td></tr>\n",
       "\t<tr><th scope=row>c18.loc8</th><td>18</td><td> 8.000000</td><td>1.1908057</td></tr>\n",
       "\t<tr><th scope=row>19_6186424</th><td>19</td><td>29.306021</td><td>1.0538467</td></tr>\n",
       "</tbody>\n",
       "</table>\n"
      ],
      "text/latex": [
       "A summary.scanone: 19 × 3\n",
       "\\begin{tabular}{r|lll}\n",
       "  & chr & pos & lod\\\\\n",
       "  & <fct> & <dbl> & <dbl>\\\\\n",
       "\\hline\n",
       "\t1\\_7042562 & 1  & 37.769031 & 1.0010117\\\\\n",
       "\tc2.loc46 & 2  & 46.000000 & 0.6364730\\\\\n",
       "\t3\\_1171786 & 3  &  4.364004 & 1.9292652\\\\\n",
       "\t4\\_23747765 & 4  & 84.559057 & 1.4515852\\\\\n",
       "\t5\\_22968587 & 5  & 73.381049 & 0.4963956\\\\\n",
       "\tc6.loc16 & 6  & 16.000000 & 2.1767477\\\\\n",
       "\t7\\_14622444 & 7  & 56.320044 & 1.5871476\\\\\n",
       "\tc8.loc15 & 8  & 15.000000 & 3.8332599\\\\\n",
       "\t9\\_8308769 & 9  & 32.045026 & 0.9783693\\\\\n",
       "\tc10.loc67 & 10 & 67.000000 & 0.8647560\\\\\n",
       "\tc11.loc14 & 11 & 14.000000 & 1.1024411\\\\\n",
       "\t12\\_8352093 & 12 & 35.294031 & 1.2273553\\\\\n",
       "\t13\\_2554407 & 13 & 10.212010 & 0.8142278\\\\\n",
       "\tc14.loc94 & 14 & 94.000000 & 0.6761886\\\\\n",
       "\tc15.loc29 & 15 & 29.000000 & 2.2105795\\\\\n",
       "\tc16.loc22 & 16 & 22.000000 & 1.3329309\\\\\n",
       "\tc17.loc29 & 17 & 29.000000 & 0.4980015\\\\\n",
       "\tc18.loc8 & 18 &  8.000000 & 1.1908057\\\\\n",
       "\t19\\_6186424 & 19 & 29.306021 & 1.0538467\\\\\n",
       "\\end{tabular}\n"
      ],
      "text/markdown": [
       "\n",
       "A summary.scanone: 19 × 3\n",
       "\n",
       "| <!--/--> | chr &lt;fct&gt; | pos &lt;dbl&gt; | lod &lt;dbl&gt; |\n",
       "|---|---|---|---|\n",
       "| 1_7042562 | 1  | 37.769031 | 1.0010117 |\n",
       "| c2.loc46 | 2  | 46.000000 | 0.6364730 |\n",
       "| 3_1171786 | 3  |  4.364004 | 1.9292652 |\n",
       "| 4_23747765 | 4  | 84.559057 | 1.4515852 |\n",
       "| 5_22968587 | 5  | 73.381049 | 0.4963956 |\n",
       "| c6.loc16 | 6  | 16.000000 | 2.1767477 |\n",
       "| 7_14622444 | 7  | 56.320044 | 1.5871476 |\n",
       "| c8.loc15 | 8  | 15.000000 | 3.8332599 |\n",
       "| 9_8308769 | 9  | 32.045026 | 0.9783693 |\n",
       "| c10.loc67 | 10 | 67.000000 | 0.8647560 |\n",
       "| c11.loc14 | 11 | 14.000000 | 1.1024411 |\n",
       "| 12_8352093 | 12 | 35.294031 | 1.2273553 |\n",
       "| 13_2554407 | 13 | 10.212010 | 0.8142278 |\n",
       "| c14.loc94 | 14 | 94.000000 | 0.6761886 |\n",
       "| c15.loc29 | 15 | 29.000000 | 2.2105795 |\n",
       "| c16.loc22 | 16 | 22.000000 | 1.3329309 |\n",
       "| c17.loc29 | 17 | 29.000000 | 0.4980015 |\n",
       "| c18.loc8 | 18 |  8.000000 | 1.1908057 |\n",
       "| 19_6186424 | 19 | 29.306021 | 1.0538467 |\n",
       "\n"
      ],
      "text/plain": [
       "           chr pos       lod      \n",
       "1_7042562  1   37.769031 1.0010117\n",
       "c2.loc46   2   46.000000 0.6364730\n",
       "3_1171786  3    4.364004 1.9292652\n",
       "4_23747765 4   84.559057 1.4515852\n",
       "5_22968587 5   73.381049 0.4963956\n",
       "c6.loc16   6   16.000000 2.1767477\n",
       "7_14622444 7   56.320044 1.5871476\n",
       "c8.loc15   8   15.000000 3.8332599\n",
       "9_8308769  9   32.045026 0.9783693\n",
       "c10.loc67  10  67.000000 0.8647560\n",
       "c11.loc14  11  14.000000 1.1024411\n",
       "12_8352093 12  35.294031 1.2273553\n",
       "13_2554407 13  10.212010 0.8142278\n",
       "c14.loc94  14  94.000000 0.6761886\n",
       "c15.loc29  15  29.000000 2.2105795\n",
       "c16.loc22  16  22.000000 1.3329309\n",
       "c17.loc29  17  29.000000 0.4980015\n",
       "c18.loc8   18   8.000000 1.1908057\n",
       "19_6186424 19  29.306021 1.0538467"
      ]
     },
     "metadata": {},
     "output_type": "display_data"
    },
    {
     "data": {
      "text/plain": [
       "LOD thresholds (1000 permutations)\n",
       "   [,1]\n",
       "5% 4.16\n",
       "1% 5.16"
      ]
     },
     "metadata": {},
     "output_type": "display_data"
    },
    {
     "data": {
      "image/png": "[encoded data removed]",
      "text/plain": [
       "plot without title"
      ]
     },
     "metadata": {
      "image/png": {
       "height": 420,
       "width": 420
      }
     },
     "output_type": "display_data"
    }
   ],
   "source": [
    "#Deterime LOD Values\n",
    "TraitCIM<-cim(Map,pheno.col = colNum,method = \"hk\",\n",
    "              map.function = \"kosambi\") #Generate LOD Values\n",
    "plot(TraitCIM) #show LOD graph\n",
    "abline(h = LOD5,col = \"blue\") #overlay statistically significant line\n",
    "print(\"If nothing shows up, the values \n",
    "      are below the LOD5 score\") #warning for no peaks\n",
    "summary(TraitCIM)\n",
    "summary(TraitCIM1000,alpha=c(.05,.01))"
   ]
  },
  {
   "cell_type": "code",
   "execution_count": null,
   "metadata": {},
   "outputs": [],
   "source": []
  }
 ],
 "metadata": {
  "kernelspec": {
   "display_name": "R",
   "language": "R",
   "name": "ir"
  },
  "language_info": {
   "codemirror_mode": "r",
   "file_extension": ".r",
   "mimetype": "text/x-r-source",
   "name": "R",
   "pygments_lexer": "r",
   "version": "3.6.1"
  }
 },
 "nbformat": 4,
 "nbformat_minor": 4
}
