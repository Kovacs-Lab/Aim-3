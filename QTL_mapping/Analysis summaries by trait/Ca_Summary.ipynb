{
 "cells": [
  {
   "cell_type": "markdown",
   "metadata": {},
   "source": [
    "This analysis is in the order of Female then Male"
   ]
  },
  {
   "cell_type": "code",
   "execution_count": 1,
   "metadata": {},
   "outputs": [
    {
     "name": "stderr",
     "output_type": "stream",
     "text": [
      "Installing package into 'C:/Users/2198K/Documents/R/win-library/3.6'\n",
      "(as 'lib' is unspecified)\n",
      "\n"
     ]
    },
    {
     "name": "stdout",
     "output_type": "stream",
     "text": [
      "package 'qtl' successfully unpacked and MD5 sums checked\n"
     ]
    },
    {
     "name": "stderr",
     "output_type": "stream",
     "text": [
      "Warning message:\n",
      "\"cannot remove prior installation of package 'qtl'\"\n",
      "Warning message in file.copy(savedcopy, lib, recursive = TRUE):\n",
      "\"problem copying C:\\Users\\2198K\\Documents\\R\\win-library\\3.6\\00LOCK\\qtl\\libs\\x64\\qtl.dll to C:\\Users\\2198K\\Documents\\R\\win-library\\3.6\\qtl\\libs\\x64\\qtl.dll: Permission denied\"\n",
      "Warning message:\n",
      "\"restored 'qtl'\"\n"
     ]
    },
    {
     "name": "stdout",
     "output_type": "stream",
     "text": [
      "\n",
      "The downloaded binary packages are in\n",
      "\tC:\\Users\\2198K\\AppData\\Local\\Temp\\RtmpuUxdTJ\\downloaded_packages\n"
     ]
    },
    {
     "name": "stderr",
     "output_type": "stream",
     "text": [
      "Installing package into 'C:/Users/2198K/Documents/R/win-library/3.6'\n",
      "(as 'lib' is unspecified)\n",
      "\n"
     ]
    },
    {
     "name": "stdout",
     "output_type": "stream",
     "text": [
      "package 'qtlcharts' successfully unpacked and MD5 sums checked\n",
      "\n",
      "The downloaded binary packages are in\n",
      "\tC:\\Users\\2198K\\AppData\\Local\\Temp\\RtmpuUxdTJ\\downloaded_packages\n"
     ]
    },
    {
     "name": "stderr",
     "output_type": "stream",
     "text": [
      "Installing package into 'C:/Users/2198K/Documents/R/win-library/3.6'\n",
      "(as 'lib' is unspecified)\n",
      "\n"
     ]
    },
    {
     "name": "stdout",
     "output_type": "stream",
     "text": [
      "package 'LinkageMapView' successfully unpacked and MD5 sums checked\n",
      "\n",
      "The downloaded binary packages are in\n",
      "\tC:\\Users\\2198K\\AppData\\Local\\Temp\\RtmpuUxdTJ\\downloaded_packages\n"
     ]
    },
    {
     "name": "stderr",
     "output_type": "stream",
     "text": [
      "Installing package into 'C:/Users/2198K/Documents/R/win-library/3.6'\n",
      "(as 'lib' is unspecified)\n",
      "\n"
     ]
    },
    {
     "name": "stdout",
     "output_type": "stream",
     "text": [
      "package 'rcompanion' successfully unpacked and MD5 sums checked\n",
      "\n",
      "The downloaded binary packages are in\n",
      "\tC:\\Users\\2198K\\AppData\\Local\\Temp\\RtmpuUxdTJ\\downloaded_packages\n"
     ]
    }
   ],
   "source": [
    "install.packages('qtl') #Main package, for analysis\n",
    "install.packages('qtlcharts') #accessory, for displaying graphs\n",
    "install.packages('LinkageMapView') #accessory, for displaying linkage maps\n",
    "install.packages('rcompanion')# for plotNormalHistogram"
   ]
  },
  {
   "cell_type": "code",
   "execution_count": 2,
   "metadata": {},
   "outputs": [
    {
     "name": "stderr",
     "output_type": "stream",
     "text": [
      "Warning message:\n",
      "\"package 'qtl' was built under R version 3.6.2\"\n",
      "Warning message:\n",
      "\"package 'qtlcharts' was built under R version 3.6.2\"\n",
      "Warning message:\n",
      "\"package 'LinkageMapView' was built under R version 3.6.2\"\n",
      "Warning message:\n",
      "\"package 'rcompanion' was built under R version 3.6.2\"\n"
     ]
    }
   ],
   "source": [
    "library(qtl) #load packages\n",
    "library(qtlcharts)\n",
    "library(LinkageMapView)\n",
    "library(rcompanion)"
   ]
  },
  {
   "cell_type": "code",
   "execution_count": 3,
   "metadata": {},
   "outputs": [
    {
     "name": "stdout",
     "output_type": "stream",
     "text": [
      "[1] \"Make sure to input names AS THEY APPEAR on the csv!!\"\n"
     ]
    },
    {
     "name": "stdin",
     "output_type": "stream",
     "text": [
      "Enter file name (Either FemaleMap.csv or MaleMap.csv):  FemaleMap.csv\n",
      "First Genotype (homozygous) (For example ll):  ll\n",
      "Second Genotype (heterozygous) (for example lm):  lm\n",
      "Column Number:  25\n"
     ]
    }
   ],
   "source": [
    "#Collecting enviroment variables\n",
    "print(\"Make sure to input names AS THEY APPEAR on the csv!!\") #Just a user warning\n",
    "fileName <- readline(\"Enter file name (Either FemaleMap.csv or MaleMap.csv): \") #Mapping table file\n",
    "genotypeName <- c(readline(\"First Genotype (homozygous) (For example ll): \"),\n",
    "                  readline(\"Second Genotype (heterozygous) (for example lm): \")) #For example \"nn\", \"np\"\n",
    "alleleName <- c(substr(genotypeName[2],1,1) ,substr(genotypeName[2],2,2))\n",
    "naNames <- c(\"NA\",\"--\") #For example \"NA\", \"--\"\n",
    "colNum <- as.numeric(readline(\"Column Number: \")) #Column for pheno of interest"
   ]
  },
  {
   "cell_type": "code",
   "execution_count": 4,
   "metadata": {},
   "outputs": [
    {
     "name": "stdout",
     "output_type": "stream",
     "text": [
      " --Read the following data:\n",
      "\t 294  individuals\n",
      "\t 1100  markers\n",
      "\t 38  phenotypes\n"
     ]
    },
    {
     "name": "stderr",
     "output_type": "stream",
     "text": [
      "Warning message in summary.cross(cross):\n",
      "\"Some markers at the same position on chr 1,2,4,5,7,8,9,10,11,12,13,14,16,17,18,19; use jittermap().\"\n"
     ]
    },
    {
     "name": "stdout",
     "output_type": "stream",
     "text": [
      " --Cross type: bc \n"
     ]
    },
    {
     "data": {
      "image/png": "[encoded data removed]",
      "text/plain": [
       "Plot with title \"Genetic map\""
      ]
     },
     "metadata": {
      "image/png": {
       "height": 420,
       "width": 420
      }
     },
     "output_type": "display_data"
    }
   ],
   "source": [
    "#Map generation\n",
    "Map <- read.cross(format = 'csv',file = fileName \n",
    "                  ,genotypes = genotypeName,\n",
    "                  alleles = alleleName,na.strings = naNames) #generate linkage map\n",
    "Map <- jittermap(Map) #make sure no markers are in the same location\n",
    "Map <- calc.genoprob(Map,step = 1,map.function = \"kosambi\") #associate markers with full genotypes\n",
    "plot.map(Map) #draw linkage map"
   ]
  },
  {
   "cell_type": "code",
   "execution_count": 5,
   "metadata": {},
   "outputs": [
    {
     "data": {
      "image/png": "[encoded data removed]",
      "text/plain": [
       "Plot with title \"\""
      ]
     },
     "metadata": {
      "image/png": {
       "height": 420,
       "width": 420
      }
     },
     "output_type": "display_data"
    }
   ],
   "source": [
    "plotNormalHistogram(Map$pheno[,colNum]) #normal histogram of pheno of interest"
   ]
  },
  {
   "cell_type": "markdown",
   "metadata": {},
   "source": [
    "Outliers exist in this dataset. Will need to be analyized. "
   ]
  },
  {
   "cell_type": "code",
   "execution_count": 6,
   "metadata": {},
   "outputs": [
    {
     "data": {
      "image/png": "[encoded data removed]",
      "text/plain": [
       "Plot with title \"\""
      ]
     },
     "metadata": {
      "image/png": {
       "height": 420,
       "width": 420
      }
     },
     "output_type": "display_data"
    }
   ],
   "source": [
    "#Compute statistically significant values\n",
    "TraitCIM1000 <- cim(Map,pheno.col = colNum,method = \"hk\",\n",
    "                    map.function = \"kosambi\",n.perm = 1000) # Function will take a moment to run, determines LOD value\n",
    "plot(TraitCIM1000,col = 'green') #show distribution of lod scores\n",
    "LOD5 <- summary(TraitCIM1000)[1]"
   ]
  },
  {
   "cell_type": "code",
   "execution_count": 7,
   "metadata": {},
   "outputs": [
    {
     "name": "stdout",
     "output_type": "stream",
     "text": [
      "[1] \"If nothing shows up, the values \\n      are below the LOD5 score\"\n"
     ]
    },
    {
     "data": {
      "text/html": [
       "<table>\n",
       "<caption>A summary.scanone: 19 × 3</caption>\n",
       "<thead>\n",
       "\t<tr><th></th><th scope=col>chr</th><th scope=col>pos</th><th scope=col>lod</th></tr>\n",
       "\t<tr><th></th><th scope=col>&lt;fct&gt;</th><th scope=col>&lt;dbl&gt;</th><th scope=col>&lt;dbl&gt;</th></tr>\n",
       "</thead>\n",
       "<tbody>\n",
       "\t<tr><th scope=row>1_23828951</th><td>1 </td><td>76.367049</td><td>1.0988298</td></tr>\n",
       "\t<tr><th scope=row>2_3671868</th><td>2 </td><td>34.953014</td><td>1.1954223</td></tr>\n",
       "\t<tr><th scope=row>c3.loc57</th><td>3 </td><td>57.000000</td><td>0.7956287</td></tr>\n",
       "\t<tr><th scope=row>4_2581004</th><td>4 </td><td> 8.537008</td><td>0.7821517</td></tr>\n",
       "\t<tr><th scope=row>5_7648545</th><td>5 </td><td>37.038025</td><td>0.4791604</td></tr>\n",
       "\t<tr><th scope=row>6_15122181</th><td>6 </td><td>45.101025</td><td>1.4600453</td></tr>\n",
       "\t<tr><th scope=row>c7.loc86</th><td>7 </td><td>86.000000</td><td>0.7914431</td></tr>\n",
       "\t<tr><th scope=row>8_22223668</th><td>8 </td><td>78.146065</td><td>2.1057606</td></tr>\n",
       "\t<tr><th scope=row>c9.loc60</th><td>9 </td><td>60.000000</td><td>0.4729644</td></tr>\n",
       "\t<tr><th scope=row>10_10306263</th><td>10</td><td>47.094034</td><td>1.5331840</td></tr>\n",
       "\t<tr><th scope=row>c11.loc61</th><td>11</td><td>61.000000</td><td>0.5989191</td></tr>\n",
       "\t<tr><th scope=row>c12.loc62</th><td>12</td><td>62.000000</td><td>1.7423842</td></tr>\n",
       "\t<tr><th scope=row>13_356900</th><td>13</td><td> 0.245001</td><td>1.6171999</td></tr>\n",
       "\t<tr><th scope=row>14_22894022</th><td>14</td><td>48.668014</td><td>2.8248383</td></tr>\n",
       "\t<tr><th scope=row>c15.loc59</th><td>15</td><td>59.000000</td><td>1.7446941</td></tr>\n",
       "\t<tr><th scope=row>16_1892455</th><td>16</td><td> 5.424004</td><td>0.3793502</td></tr>\n",
       "\t<tr><th scope=row>c17.loc4</th><td>17</td><td> 4.000000</td><td>0.6885147</td></tr>\n",
       "\t<tr><th scope=row>c18.loc2</th><td>18</td><td> 2.000000</td><td>1.2796326</td></tr>\n",
       "\t<tr><th scope=row>19_18512448</th><td>19</td><td>53.440066</td><td>0.6123253</td></tr>\n",
       "</tbody>\n",
       "</table>\n"
      ],
      "text/latex": [
       "A summary.scanone: 19 × 3\n",
       "\\begin{tabular}{r|lll}\n",
       "  & chr & pos & lod\\\\\n",
       "  & <fct> & <dbl> & <dbl>\\\\\n",
       "\\hline\n",
       "\t1\\_23828951 & 1  & 76.367049 & 1.0988298\\\\\n",
       "\t2\\_3671868 & 2  & 34.953014 & 1.1954223\\\\\n",
       "\tc3.loc57 & 3  & 57.000000 & 0.7956287\\\\\n",
       "\t4\\_2581004 & 4  &  8.537008 & 0.7821517\\\\\n",
       "\t5\\_7648545 & 5  & 37.038025 & 0.4791604\\\\\n",
       "\t6\\_15122181 & 6  & 45.101025 & 1.4600453\\\\\n",
       "\tc7.loc86 & 7  & 86.000000 & 0.7914431\\\\\n",
       "\t8\\_22223668 & 8  & 78.146065 & 2.1057606\\\\\n",
       "\tc9.loc60 & 9  & 60.000000 & 0.4729644\\\\\n",
       "\t10\\_10306263 & 10 & 47.094034 & 1.5331840\\\\\n",
       "\tc11.loc61 & 11 & 61.000000 & 0.5989191\\\\\n",
       "\tc12.loc62 & 12 & 62.000000 & 1.7423842\\\\\n",
       "\t13\\_356900 & 13 &  0.245001 & 1.6171999\\\\\n",
       "\t14\\_22894022 & 14 & 48.668014 & 2.8248383\\\\\n",
       "\tc15.loc59 & 15 & 59.000000 & 1.7446941\\\\\n",
       "\t16\\_1892455 & 16 &  5.424004 & 0.3793502\\\\\n",
       "\tc17.loc4 & 17 &  4.000000 & 0.6885147\\\\\n",
       "\tc18.loc2 & 18 &  2.000000 & 1.2796326\\\\\n",
       "\t19\\_18512448 & 19 & 53.440066 & 0.6123253\\\\\n",
       "\\end{tabular}\n"
      ],
      "text/markdown": [
       "\n",
       "A summary.scanone: 19 × 3\n",
       "\n",
       "| <!--/--> | chr &lt;fct&gt; | pos &lt;dbl&gt; | lod &lt;dbl&gt; |\n",
       "|---|---|---|---|\n",
       "| 1_23828951 | 1  | 76.367049 | 1.0988298 |\n",
       "| 2_3671868 | 2  | 34.953014 | 1.1954223 |\n",
       "| c3.loc57 | 3  | 57.000000 | 0.7956287 |\n",
       "| 4_2581004 | 4  |  8.537008 | 0.7821517 |\n",
       "| 5_7648545 | 5  | 37.038025 | 0.4791604 |\n",
       "| 6_15122181 | 6  | 45.101025 | 1.4600453 |\n",
       "| c7.loc86 | 7  | 86.000000 | 0.7914431 |\n",
       "| 8_22223668 | 8  | 78.146065 | 2.1057606 |\n",
       "| c9.loc60 | 9  | 60.000000 | 0.4729644 |\n",
       "| 10_10306263 | 10 | 47.094034 | 1.5331840 |\n",
       "| c11.loc61 | 11 | 61.000000 | 0.5989191 |\n",
       "| c12.loc62 | 12 | 62.000000 | 1.7423842 |\n",
       "| 13_356900 | 13 |  0.245001 | 1.6171999 |\n",
       "| 14_22894022 | 14 | 48.668014 | 2.8248383 |\n",
       "| c15.loc59 | 15 | 59.000000 | 1.7446941 |\n",
       "| 16_1892455 | 16 |  5.424004 | 0.3793502 |\n",
       "| c17.loc4 | 17 |  4.000000 | 0.6885147 |\n",
       "| c18.loc2 | 18 |  2.000000 | 1.2796326 |\n",
       "| 19_18512448 | 19 | 53.440066 | 0.6123253 |\n",
       "\n"
      ],
      "text/plain": [
       "            chr pos       lod      \n",
       "1_23828951  1   76.367049 1.0988298\n",
       "2_3671868   2   34.953014 1.1954223\n",
       "c3.loc57    3   57.000000 0.7956287\n",
       "4_2581004   4    8.537008 0.7821517\n",
       "5_7648545   5   37.038025 0.4791604\n",
       "6_15122181  6   45.101025 1.4600453\n",
       "c7.loc86    7   86.000000 0.7914431\n",
       "8_22223668  8   78.146065 2.1057606\n",
       "c9.loc60    9   60.000000 0.4729644\n",
       "10_10306263 10  47.094034 1.5331840\n",
       "c11.loc61   11  61.000000 0.5989191\n",
       "c12.loc62   12  62.000000 1.7423842\n",
       "13_356900   13   0.245001 1.6171999\n",
       "14_22894022 14  48.668014 2.8248383\n",
       "c15.loc59   15  59.000000 1.7446941\n",
       "16_1892455  16   5.424004 0.3793502\n",
       "c17.loc4    17   4.000000 0.6885147\n",
       "c18.loc2    18   2.000000 1.2796326\n",
       "19_18512448 19  53.440066 0.6123253"
      ]
     },
     "metadata": {},
     "output_type": "display_data"
    },
    {
     "data": {
      "text/plain": [
       "LOD thresholds (1000 permutations)\n",
       "   [,1]\n",
       "5% 4.13\n",
       "1% 5.02"
      ]
     },
     "metadata": {},
     "output_type": "display_data"
    },
    {
     "data": {
      "image/png": "[encoded data removed]",
      "text/plain": [
       "plot without title"
      ]
     },
     "metadata": {
      "image/png": {
       "height": 420,
       "width": 420
      }
     },
     "output_type": "display_data"
    }
   ],
   "source": [
    "#Deterime LOD Values\n",
    "TraitCIM<-cim(Map,pheno.col = colNum,method = \"hk\",\n",
    "              map.function = \"kosambi\") #Generate LOD Values\n",
    "plot(TraitCIM) #show LOD graph\n",
    "abline(h = LOD5,col = \"blue\") #overlay statistically significant line\n",
    "print(\"If nothing shows up, the values \n",
    "      are below the LOD5 score\") #warning for no peaks\n",
    "summary(TraitCIM)\n",
    "summary(TraitCIM1000,alpha=c(.05,.01))"
   ]
  },
  {
   "cell_type": "code",
   "execution_count": 8,
   "metadata": {},
   "outputs": [
    {
     "name": "stdout",
     "output_type": "stream",
     "text": [
      "[1] \"Make sure to input names AS THEY APPEAR on the csv!!\"\n"
     ]
    },
    {
     "name": "stdin",
     "output_type": "stream",
     "text": [
      "Enter file name (Either FemaleMap.csv or MaleMap.csv):  MaleMap.csv\n",
      "First Genotype (homozygous) (For example ll):  nn\n",
      "Second Genotype (heterozygous) (for example lm):  np\n",
      "Column Number:  25\n"
     ]
    }
   ],
   "source": [
    "#Collecting enviroment variables\n",
    "print(\"Make sure to input names AS THEY APPEAR on the csv!!\") #Just a user warning\n",
    "fileName <- readline(\"Enter file name (Either FemaleMap.csv or MaleMap.csv): \") #Mapping table file\n",
    "genotypeName <- c(readline(\"First Genotype (homozygous) (For example ll): \"),\n",
    "                  readline(\"Second Genotype (heterozygous) (for example lm): \")) #For example \"nn\", \"np\"\n",
    "alleleName <- c(substr(genotypeName[2],1,1) ,substr(genotypeName[2],2,2))\n",
    "naNames <- c(\"NA\",\"--\") #For example \"NA\", \"--\"\n",
    "colNum <- as.numeric(readline(\"Column Number: \")) #Column for pheno of interest"
   ]
  },
  {
   "cell_type": "code",
   "execution_count": 9,
   "metadata": {},
   "outputs": [
    {
     "name": "stdout",
     "output_type": "stream",
     "text": [
      " --Read the following data:\n",
      "\t 294  individuals\n",
      "\t 1128  markers\n",
      "\t 38  phenotypes\n"
     ]
    },
    {
     "name": "stderr",
     "output_type": "stream",
     "text": [
      "Warning message in summary.cross(cross):\n",
      "\"Some markers at the same position on chr 1,3,4,5,6,7,8,9,10,12,13,14,15,16,17,18,19; use jittermap().\"\n"
     ]
    },
    {
     "name": "stdout",
     "output_type": "stream",
     "text": [
      " --Cross type: bc \n"
     ]
    },
    {
     "data": {
      "image/png": "[encoded data removed]",
      "text/plain": [
       "Plot with title \"Genetic map\""
      ]
     },
     "metadata": {
      "image/png": {
       "height": 420,
       "width": 420
      }
     },
     "output_type": "display_data"
    }
   ],
   "source": [
    "#Map generation\n",
    "Map <- read.cross(format = 'csv',file = fileName \n",
    "                  ,genotypes = genotypeName,\n",
    "                  alleles = alleleName,na.strings = naNames) #generate linkage map\n",
    "Map <- jittermap(Map) #make sure no markers are in the same location\n",
    "Map <- calc.genoprob(Map,step = 1,map.function = \"kosambi\") #associate markers with full genotypes\n",
    "plot.map(Map) #draw linkage map"
   ]
  },
  {
   "cell_type": "code",
   "execution_count": 12,
   "metadata": {},
   "outputs": [
    {
     "data": {
      "image/png": "[encoded data removed]",
      "text/plain": [
       "Plot with title \"\""
      ]
     },
     "metadata": {
      "image/png": {
       "height": 420,
       "width": 420
      },
      "text/plain": {
       "height": 420,
       "width": 420
      }
     },
     "output_type": "display_data"
    }
   ],
   "source": [
    "plotNormalHistogram(Map$pheno[,colNum]) #normal histogram of pheno of interest"
   ]
  },
  {
   "cell_type": "markdown",
   "metadata": {},
   "source": [
    "Outliers exist in this data. "
   ]
  },
  {
   "cell_type": "code",
   "execution_count": 10,
   "metadata": {},
   "outputs": [
    {
     "data": {
      "image/png": "[encoded data removed]",
      "text/plain": [
       "Plot with title \"\""
      ]
     },
     "metadata": {
      "image/png": {
       "height": 420,
       "width": 420
      }
     },
     "output_type": "display_data"
    }
   ],
   "source": [
    "#Compute statistically significant values\n",
    "TraitCIM1000 <- cim(Map,pheno.col = colNum,method = \"hk\",\n",
    "                    map.function = \"kosambi\",n.perm = 1000) # Function will take a moment to run, determines LOD value\n",
    "plot(TraitCIM1000,col = 'green') #show distribution of lod scores\n",
    "LOD5 <- summary(TraitCIM1000)[1]"
   ]
  },
  {
   "cell_type": "code",
   "execution_count": 11,
   "metadata": {},
   "outputs": [
    {
     "name": "stdout",
     "output_type": "stream",
     "text": [
      "[1] \"If nothing shows up, the values \\n      are below the LOD5 score\"\n"
     ]
    },
    {
     "data": {
      "text/html": [
       "<table>\n",
       "<caption>A summary.scanone: 19 × 3</caption>\n",
       "<thead>\n",
       "\t<tr><th></th><th scope=col>chr</th><th scope=col>pos</th><th scope=col>lod</th></tr>\n",
       "\t<tr><th></th><th scope=col>&lt;fct&gt;</th><th scope=col>&lt;dbl&gt;</th><th scope=col>&lt;dbl&gt;</th></tr>\n",
       "</thead>\n",
       "<tbody>\n",
       "\t<tr><th scope=row>1_6307621</th><td>1 </td><td>33.798026</td><td>1.1957010</td></tr>\n",
       "\t<tr><th scope=row>c2.loc68</th><td>2 </td><td>68.000000</td><td>0.6867771</td></tr>\n",
       "\t<tr><th scope=row>3_6056253</th><td>3 </td><td>33.987037</td><td>1.0799152</td></tr>\n",
       "\t<tr><th scope=row>c4.loc18</th><td>4 </td><td>18.000000</td><td>1.2144334</td></tr>\n",
       "\t<tr><th scope=row>5_262303</th><td>5 </td><td> 0.000000</td><td>1.4618813</td></tr>\n",
       "\t<tr><th scope=row>c6.loc4</th><td>6 </td><td> 4.000000</td><td>1.7128688</td></tr>\n",
       "\t<tr><th scope=row>7_1430460</th><td>7 </td><td> 2.303002</td><td>0.6047394</td></tr>\n",
       "\t<tr><th scope=row>c8.loc61</th><td>8 </td><td>61.000000</td><td>1.0326971</td></tr>\n",
       "\t<tr><th scope=row>c9.loc10</th><td>9 </td><td>10.000000</td><td>1.5465746</td></tr>\n",
       "\t<tr><th scope=row>c10.loc42</th><td>10</td><td>42.000000</td><td>1.1334926</td></tr>\n",
       "\t<tr><th scope=row>c11.loc48</th><td>11</td><td>48.000000</td><td>0.5269532</td></tr>\n",
       "\t<tr><th scope=row>c12.loc23</th><td>12</td><td>23.000000</td><td>1.2680024</td></tr>\n",
       "\t<tr><th scope=row>c13.loc33</th><td>13</td><td>33.000000</td><td>1.0210931</td></tr>\n",
       "\t<tr><th scope=row>14_28913313</th><td>14</td><td>89.427080</td><td>1.2060960</td></tr>\n",
       "\t<tr><th scope=row>2_16557277</th><td>15</td><td> 1.332001</td><td>2.9476968</td></tr>\n",
       "\t<tr><th scope=row>16_17431826</th><td>16</td><td>58.192032</td><td>1.2396025</td></tr>\n",
       "\t<tr><th scope=row>c17.loc29</th><td>17</td><td>29.000000</td><td>0.8230391</td></tr>\n",
       "\t<tr><th scope=row>c18.loc65</th><td>18</td><td>65.000000</td><td>3.3063965</td></tr>\n",
       "\t<tr><th scope=row>19_18306424</th><td>19</td><td>58.359040</td><td>2.3139165</td></tr>\n",
       "</tbody>\n",
       "</table>\n"
      ],
      "text/latex": [
       "A summary.scanone: 19 × 3\n",
       "\\begin{tabular}{r|lll}\n",
       "  & chr & pos & lod\\\\\n",
       "  & <fct> & <dbl> & <dbl>\\\\\n",
       "\\hline\n",
       "\t1\\_6307621 & 1  & 33.798026 & 1.1957010\\\\\n",
       "\tc2.loc68 & 2  & 68.000000 & 0.6867771\\\\\n",
       "\t3\\_6056253 & 3  & 33.987037 & 1.0799152\\\\\n",
       "\tc4.loc18 & 4  & 18.000000 & 1.2144334\\\\\n",
       "\t5\\_262303 & 5  &  0.000000 & 1.4618813\\\\\n",
       "\tc6.loc4 & 6  &  4.000000 & 1.7128688\\\\\n",
       "\t7\\_1430460 & 7  &  2.303002 & 0.6047394\\\\\n",
       "\tc8.loc61 & 8  & 61.000000 & 1.0326971\\\\\n",
       "\tc9.loc10 & 9  & 10.000000 & 1.5465746\\\\\n",
       "\tc10.loc42 & 10 & 42.000000 & 1.1334926\\\\\n",
       "\tc11.loc48 & 11 & 48.000000 & 0.5269532\\\\\n",
       "\tc12.loc23 & 12 & 23.000000 & 1.2680024\\\\\n",
       "\tc13.loc33 & 13 & 33.000000 & 1.0210931\\\\\n",
       "\t14\\_28913313 & 14 & 89.427080 & 1.2060960\\\\\n",
       "\t2\\_16557277 & 15 &  1.332001 & 2.9476968\\\\\n",
       "\t16\\_17431826 & 16 & 58.192032 & 1.2396025\\\\\n",
       "\tc17.loc29 & 17 & 29.000000 & 0.8230391\\\\\n",
       "\tc18.loc65 & 18 & 65.000000 & 3.3063965\\\\\n",
       "\t19\\_18306424 & 19 & 58.359040 & 2.3139165\\\\\n",
       "\\end{tabular}\n"
      ],
      "text/markdown": [
       "\n",
       "A summary.scanone: 19 × 3\n",
       "\n",
       "| <!--/--> | chr &lt;fct&gt; | pos &lt;dbl&gt; | lod &lt;dbl&gt; |\n",
       "|---|---|---|---|\n",
       "| 1_6307621 | 1  | 33.798026 | 1.1957010 |\n",
       "| c2.loc68 | 2  | 68.000000 | 0.6867771 |\n",
       "| 3_6056253 | 3  | 33.987037 | 1.0799152 |\n",
       "| c4.loc18 | 4  | 18.000000 | 1.2144334 |\n",
       "| 5_262303 | 5  |  0.000000 | 1.4618813 |\n",
       "| c6.loc4 | 6  |  4.000000 | 1.7128688 |\n",
       "| 7_1430460 | 7  |  2.303002 | 0.6047394 |\n",
       "| c8.loc61 | 8  | 61.000000 | 1.0326971 |\n",
       "| c9.loc10 | 9  | 10.000000 | 1.5465746 |\n",
       "| c10.loc42 | 10 | 42.000000 | 1.1334926 |\n",
       "| c11.loc48 | 11 | 48.000000 | 0.5269532 |\n",
       "| c12.loc23 | 12 | 23.000000 | 1.2680024 |\n",
       "| c13.loc33 | 13 | 33.000000 | 1.0210931 |\n",
       "| 14_28913313 | 14 | 89.427080 | 1.2060960 |\n",
       "| 2_16557277 | 15 |  1.332001 | 2.9476968 |\n",
       "| 16_17431826 | 16 | 58.192032 | 1.2396025 |\n",
       "| c17.loc29 | 17 | 29.000000 | 0.8230391 |\n",
       "| c18.loc65 | 18 | 65.000000 | 3.3063965 |\n",
       "| 19_18306424 | 19 | 58.359040 | 2.3139165 |\n",
       "\n"
      ],
      "text/plain": [
       "            chr pos       lod      \n",
       "1_6307621   1   33.798026 1.1957010\n",
       "c2.loc68    2   68.000000 0.6867771\n",
       "3_6056253   3   33.987037 1.0799152\n",
       "c4.loc18    4   18.000000 1.2144334\n",
       "5_262303    5    0.000000 1.4618813\n",
       "c6.loc4     6    4.000000 1.7128688\n",
       "7_1430460   7    2.303002 0.6047394\n",
       "c8.loc61    8   61.000000 1.0326971\n",
       "c9.loc10    9   10.000000 1.5465746\n",
       "c10.loc42   10  42.000000 1.1334926\n",
       "c11.loc48   11  48.000000 0.5269532\n",
       "c12.loc23   12  23.000000 1.2680024\n",
       "c13.loc33   13  33.000000 1.0210931\n",
       "14_28913313 14  89.427080 1.2060960\n",
       "2_16557277  15   1.332001 2.9476968\n",
       "16_17431826 16  58.192032 1.2396025\n",
       "c17.loc29   17  29.000000 0.8230391\n",
       "c18.loc65   18  65.000000 3.3063965\n",
       "19_18306424 19  58.359040 2.3139165"
      ]
     },
     "metadata": {},
     "output_type": "display_data"
    },
    {
     "data": {
      "text/plain": [
       "LOD thresholds (1000 permutations)\n",
       "   [,1]\n",
       "5% 4.24\n",
       "1% 5.15"
      ]
     },
     "metadata": {},
     "output_type": "display_data"
    },
    {
     "data": {
      "image/png": "[encoded data removed]",
      "text/plain": [
       "plot without title"
      ]
     },
     "metadata": {
      "image/png": {
       "height": 420,
       "width": 420
      }
     },
     "output_type": "display_data"
    }
   ],
   "source": [
    "#Deterime LOD Values\n",
    "TraitCIM<-cim(Map,pheno.col = colNum,method = \"hk\",\n",
    "              map.function = \"kosambi\") #Generate LOD Values\n",
    "plot(TraitCIM) #show LOD graph\n",
    "abline(h = LOD5,col = \"blue\") #overlay statistically significant line\n",
    "print(\"If nothing shows up, the values \n",
    "      are below the LOD5 score\") #warning for no peaks\n",
    "summary(TraitCIM)\n",
    "summary(TraitCIM1000,alpha=c(.05,.01))"
   ]
  },
  {
   "cell_type": "code",
   "execution_count": null,
   "metadata": {},
   "outputs": [],
   "source": []
  }
 ],
 "metadata": {
  "kernelspec": {
   "display_name": "R",
   "language": "R",
   "name": "ir"
  },
  "language_info": {
   "codemirror_mode": "r",
   "file_extension": ".r",
   "mimetype": "text/x-r-source",
   "name": "R",
   "pygments_lexer": "r",
   "version": "3.6.1"
  }
 },
 "nbformat": 4,
 "nbformat_minor": 4
}
