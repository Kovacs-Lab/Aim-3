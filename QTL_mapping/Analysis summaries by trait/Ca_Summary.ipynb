{
 "cells": [
  {
   "cell_type": "markdown",
   "metadata": {},
   "source": [
    "This analysis is in the order of Female then Male"
   ]
  },
  {
   "cell_type": "code",
   "execution_count": 1,
   "metadata": {},
   "outputs": [
    {
     "name": "stderr",
     "output_type": "stream",
     "text": [
      "Installing package into 'C:/Users/2198K/Documents/R/win-library/3.6'\n",
      "(as 'lib' is unspecified)\n",
      "\n"
     ]
    },
    {
     "name": "stdout",
     "output_type": "stream",
     "text": [
      "package 'qtl' successfully unpacked and MD5 sums checked\n",
      "\n",
      "The downloaded binary packages are in\n",
      "\tC:\\Users\\2198K\\AppData\\Local\\Temp\\RtmpukO5Xk\\downloaded_packages\n"
     ]
    },
    {
     "name": "stderr",
     "output_type": "stream",
     "text": [
      "Installing package into 'C:/Users/2198K/Documents/R/win-library/3.6'\n",
      "(as 'lib' is unspecified)\n",
      "\n"
     ]
    },
    {
     "name": "stdout",
     "output_type": "stream",
     "text": [
      "package 'qtlcharts' successfully unpacked and MD5 sums checked\n",
      "\n",
      "The downloaded binary packages are in\n",
      "\tC:\\Users\\2198K\\AppData\\Local\\Temp\\RtmpukO5Xk\\downloaded_packages\n"
     ]
    },
    {
     "name": "stderr",
     "output_type": "stream",
     "text": [
      "Installing package into 'C:/Users/2198K/Documents/R/win-library/3.6'\n",
      "(as 'lib' is unspecified)\n",
      "\n"
     ]
    },
    {
     "name": "stdout",
     "output_type": "stream",
     "text": [
      "package 'LinkageMapView' successfully unpacked and MD5 sums checked\n",
      "\n",
      "The downloaded binary packages are in\n",
      "\tC:\\Users\\2198K\\AppData\\Local\\Temp\\RtmpukO5Xk\\downloaded_packages\n"
     ]
    },
    {
     "name": "stderr",
     "output_type": "stream",
     "text": [
      "Installing package into 'C:/Users/2198K/Documents/R/win-library/3.6'\n",
      "(as 'lib' is unspecified)\n",
      "\n"
     ]
    },
    {
     "name": "stdout",
     "output_type": "stream",
     "text": [
      "package 'rcompanion' successfully unpacked and MD5 sums checked\n",
      "\n",
      "The downloaded binary packages are in\n",
      "\tC:\\Users\\2198K\\AppData\\Local\\Temp\\RtmpukO5Xk\\downloaded_packages\n"
     ]
    }
   ],
   "source": [
    "install.packages('qtl') #Main package, for analysis\n",
    "install.packages('qtlcharts') #accessory, for displaying graphs\n",
    "install.packages('LinkageMapView') #accessory, for displaying linkage maps\n",
    "install.packages('rcompanion')# for plotNormalHistogram"
   ]
  },
  {
   "cell_type": "code",
   "execution_count": 2,
   "metadata": {},
   "outputs": [
    {
     "name": "stderr",
     "output_type": "stream",
     "text": [
      "Warning message:\n",
      "\"package 'qtl' was built under R version 3.6.2\"\n",
      "Warning message:\n",
      "\"package 'qtlcharts' was built under R version 3.6.2\"\n",
      "Warning message:\n",
      "\"package 'LinkageMapView' was built under R version 3.6.2\"\n",
      "Warning message:\n",
      "\"package 'rcompanion' was built under R version 3.6.2\"\n"
     ]
    }
   ],
   "source": [
    "library(qtl) #load packages\n",
    "library(qtlcharts)\n",
    "library(LinkageMapView)\n",
    "library(rcompanion)"
   ]
  },
  {
   "cell_type": "code",
   "execution_count": 3,
   "metadata": {},
   "outputs": [
    {
     "name": "stdout",
     "output_type": "stream",
     "text": [
      "[1] \"Make sure to input names AS THEY APPEAR on the csv!!\"\n"
     ]
    },
    {
     "name": "stdin",
     "output_type": "stream",
     "text": [
      "Enter file name (Either FemaleMap.csv or MaleMap.csv):  FemaleMap.csv\n",
      "First Genotype (homozygous) (For example ll):  ll\n",
      "Second Genotype (heterozygous) (for example lm):  lm\n",
      "Column Number:  25\n"
     ]
    }
   ],
   "source": [
    "#Collecting enviroment variables\n",
    "print(\"Make sure to input names AS THEY APPEAR on the csv!!\") #Just a user warning\n",
    "fileName <- readline(\"Enter file name (Either FemaleMap.csv or MaleMap.csv): \") #Mapping table file\n",
    "genotypeName <- c(readline(\"First Genotype (homozygous) (For example ll): \"),\n",
    "                  readline(\"Second Genotype (heterozygous) (for example lm): \")) #For example \"nn\", \"np\"\n",
    "alleleName <- c(substr(genotypeName[2],1,1) ,substr(genotypeName[2],2,2))\n",
    "naNames <- c(\"NA\",\"--\") #For example \"NA\", \"--\"\n",
    "colNum <- as.numeric(readline(\"Column Number: \")) #Column for pheno of interest"
   ]
  },
  {
   "cell_type": "code",
   "execution_count": 4,
   "metadata": {},
   "outputs": [
    {
     "name": "stdout",
     "output_type": "stream",
     "text": [
      " --Read the following data:\n",
      "\t 294  individuals\n",
      "\t 1100  markers\n",
      "\t 38  phenotypes\n"
     ]
    },
    {
     "name": "stderr",
     "output_type": "stream",
     "text": [
      "Warning message in summary.cross(cross):\n",
      "\"Some markers at the same position on chr 1,2,4,5,7,8,9,10,11,12,13,14,16,17,18,19; use jittermap().\"\n"
     ]
    },
    {
     "name": "stdout",
     "output_type": "stream",
     "text": [
      " --Cross type: bc \n"
     ]
    },
    {
     "data": {
      "image/png": "[encoded data removed]",
      "text/plain": [
       "Plot with title \"Genetic map\""
      ]
     },
     "metadata": {
      "image/png": {
       "height": 420,
       "width": 420
      }
     },
     "output_type": "display_data"
    }
   ],
   "source": [
    "#Map generation\n",
    "Map <- read.cross(format = 'csv',file = fileName \n",
    "                  ,genotypes = genotypeName,\n",
    "                  alleles = alleleName,na.strings = naNames) #generate linkage map\n",
    "Map <- jittermap(Map) #make sure no markers are in the same location\n",
    "Map <- calc.genoprob(Map,step = 1,map.function = \"kosambi\") #associate markers with full genotypes\n",
    "plot.map(Map) #draw linkage map"
   ]
  },
  {
   "cell_type": "code",
   "execution_count": 5,
   "metadata": {},
   "outputs": [
    {
     "data": {
      "image/png": "[encoded data removed]",
      "text/plain": [
       "Plot with title \"\""
      ]
     },
     "metadata": {
      "image/png": {
       "height": 420,
       "width": 420
      }
     },
     "output_type": "display_data"
    }
   ],
   "source": [
    "plotNormalHistogram(Map$pheno[,colNum]) #normal histogram of pheno of interest"
   ]
  },
  {
   "cell_type": "markdown",
   "metadata": {},
   "source": [
    "Outliers exist in this dataset. Will need to be analyized. "
   ]
  },
  {
   "cell_type": "code",
   "execution_count": 6,
   "metadata": {},
   "outputs": [
    {
     "data": {
      "image/png": "[encoded data removed]",
      "text/plain": [
       "Plot with title \"\""
      ]
     },
     "metadata": {
      "image/png": {
       "height": 420,
       "width": 420
      }
     },
     "output_type": "display_data"
    }
   ],
   "source": [
    "#Compute statistically significant values\n",
    "TraitCIM1000 <- cim(Map,pheno.col = colNum,method = \"hk\",\n",
    "                    map.function = \"kosambi\",n.perm = 1000) # Function will take a moment to run, determines LOD value\n",
    "plot(TraitCIM1000,col = 'green') #show distribution of lod scores\n",
    "LOD5 <- summary(TraitCIM1000)[1]"
   ]
  },
  {
   "cell_type": "code",
   "execution_count": 7,
   "metadata": {},
   "outputs": [
    {
     "name": "stdout",
     "output_type": "stream",
     "text": [
      "[1] \"If nothing shows up, the values \\n      are below the LOD5 score\"\n"
     ]
    },
    {
     "data": {
      "text/html": [
       "<table>\n",
       "<caption>A summary.scanone: 19 × 3</caption>\n",
       "<thead>\n",
       "\t<tr><th></th><th scope=col>chr</th><th scope=col>pos</th><th scope=col>lod</th></tr>\n",
       "\t<tr><th></th><th scope=col>&lt;fct&gt;</th><th scope=col>&lt;dbl&gt;</th><th scope=col>&lt;dbl&gt;</th></tr>\n",
       "</thead>\n",
       "<tbody>\n",
       "\t<tr><th scope=row>1_23828951</th><td>1 </td><td>76.367049</td><td>1.2507884</td></tr>\n",
       "\t<tr><th scope=row>2_3671868</th><td>2 </td><td>34.953014</td><td>1.0420410</td></tr>\n",
       "\t<tr><th scope=row>3_1058124</th><td>3 </td><td> 0.000000</td><td>0.7155357</td></tr>\n",
       "\t<tr><th scope=row>4_2581004</th><td>4 </td><td> 8.537008</td><td>0.5986941</td></tr>\n",
       "\t<tr><th scope=row>c5.loc6</th><td>5 </td><td> 6.000000</td><td>0.4322429</td></tr>\n",
       "\t<tr><th scope=row>c6.loc27</th><td>6 </td><td>27.000000</td><td>1.2978201</td></tr>\n",
       "\t<tr><th scope=row>c7.loc86</th><td>7 </td><td>86.000000</td><td>0.8232758</td></tr>\n",
       "\t<tr><th scope=row>8_22223668</th><td>8 </td><td>78.146065</td><td>1.9456221</td></tr>\n",
       "\t<tr><th scope=row>c9.loc60</th><td>9 </td><td>60.000000</td><td>0.6399115</td></tr>\n",
       "\t<tr><th scope=row>10_10306263</th><td>10</td><td>47.094034</td><td>1.5426594</td></tr>\n",
       "\t<tr><th scope=row>c11.loc61</th><td>11</td><td>61.000000</td><td>0.6795497</td></tr>\n",
       "\t<tr><th scope=row>c12.loc62</th><td>12</td><td>62.000000</td><td>1.8104990</td></tr>\n",
       "\t<tr><th scope=row>c13.loc2</th><td>13</td><td> 2.000000</td><td>1.8587380</td></tr>\n",
       "\t<tr><th scope=row>14_22894022</th><td>14</td><td>48.668014</td><td>2.9147196</td></tr>\n",
       "\t<tr><th scope=row>15_17070863</th><td>15</td><td>46.208038</td><td>1.0794065</td></tr>\n",
       "\t<tr><th scope=row>16_1892455</th><td>16</td><td> 5.424004</td><td>0.3094959</td></tr>\n",
       "\t<tr><th scope=row>c17.loc4</th><td>17</td><td> 4.000000</td><td>0.6899273</td></tr>\n",
       "\t<tr><th scope=row>c18.loc2</th><td>18</td><td> 2.000000</td><td>1.3469917</td></tr>\n",
       "\t<tr><th scope=row>19_18512448</th><td>19</td><td>53.440066</td><td>0.6168145</td></tr>\n",
       "</tbody>\n",
       "</table>\n"
      ],
      "text/latex": [
       "A summary.scanone: 19 × 3\n",
       "\\begin{tabular}{r|lll}\n",
       "  & chr & pos & lod\\\\\n",
       "  & <fct> & <dbl> & <dbl>\\\\\n",
       "\\hline\n",
       "\t1\\_23828951 & 1  & 76.367049 & 1.2507884\\\\\n",
       "\t2\\_3671868 & 2  & 34.953014 & 1.0420410\\\\\n",
       "\t3\\_1058124 & 3  &  0.000000 & 0.7155357\\\\\n",
       "\t4\\_2581004 & 4  &  8.537008 & 0.5986941\\\\\n",
       "\tc5.loc6 & 5  &  6.000000 & 0.4322429\\\\\n",
       "\tc6.loc27 & 6  & 27.000000 & 1.2978201\\\\\n",
       "\tc7.loc86 & 7  & 86.000000 & 0.8232758\\\\\n",
       "\t8\\_22223668 & 8  & 78.146065 & 1.9456221\\\\\n",
       "\tc9.loc60 & 9  & 60.000000 & 0.6399115\\\\\n",
       "\t10\\_10306263 & 10 & 47.094034 & 1.5426594\\\\\n",
       "\tc11.loc61 & 11 & 61.000000 & 0.6795497\\\\\n",
       "\tc12.loc62 & 12 & 62.000000 & 1.8104990\\\\\n",
       "\tc13.loc2 & 13 &  2.000000 & 1.8587380\\\\\n",
       "\t14\\_22894022 & 14 & 48.668014 & 2.9147196\\\\\n",
       "\t15\\_17070863 & 15 & 46.208038 & 1.0794065\\\\\n",
       "\t16\\_1892455 & 16 &  5.424004 & 0.3094959\\\\\n",
       "\tc17.loc4 & 17 &  4.000000 & 0.6899273\\\\\n",
       "\tc18.loc2 & 18 &  2.000000 & 1.3469917\\\\\n",
       "\t19\\_18512448 & 19 & 53.440066 & 0.6168145\\\\\n",
       "\\end{tabular}\n"
      ],
      "text/markdown": [
       "\n",
       "A summary.scanone: 19 × 3\n",
       "\n",
       "| <!--/--> | chr &lt;fct&gt; | pos &lt;dbl&gt; | lod &lt;dbl&gt; |\n",
       "|---|---|---|---|\n",
       "| 1_23828951 | 1  | 76.367049 | 1.2507884 |\n",
       "| 2_3671868 | 2  | 34.953014 | 1.0420410 |\n",
       "| 3_1058124 | 3  |  0.000000 | 0.7155357 |\n",
       "| 4_2581004 | 4  |  8.537008 | 0.5986941 |\n",
       "| c5.loc6 | 5  |  6.000000 | 0.4322429 |\n",
       "| c6.loc27 | 6  | 27.000000 | 1.2978201 |\n",
       "| c7.loc86 | 7  | 86.000000 | 0.8232758 |\n",
       "| 8_22223668 | 8  | 78.146065 | 1.9456221 |\n",
       "| c9.loc60 | 9  | 60.000000 | 0.6399115 |\n",
       "| 10_10306263 | 10 | 47.094034 | 1.5426594 |\n",
       "| c11.loc61 | 11 | 61.000000 | 0.6795497 |\n",
       "| c12.loc62 | 12 | 62.000000 | 1.8104990 |\n",
       "| c13.loc2 | 13 |  2.000000 | 1.8587380 |\n",
       "| 14_22894022 | 14 | 48.668014 | 2.9147196 |\n",
       "| 15_17070863 | 15 | 46.208038 | 1.0794065 |\n",
       "| 16_1892455 | 16 |  5.424004 | 0.3094959 |\n",
       "| c17.loc4 | 17 |  4.000000 | 0.6899273 |\n",
       "| c18.loc2 | 18 |  2.000000 | 1.3469917 |\n",
       "| 19_18512448 | 19 | 53.440066 | 0.6168145 |\n",
       "\n"
      ],
      "text/plain": [
       "            chr pos       lod      \n",
       "1_23828951  1   76.367049 1.2507884\n",
       "2_3671868   2   34.953014 1.0420410\n",
       "3_1058124   3    0.000000 0.7155357\n",
       "4_2581004   4    8.537008 0.5986941\n",
       "c5.loc6     5    6.000000 0.4322429\n",
       "c6.loc27    6   27.000000 1.2978201\n",
       "c7.loc86    7   86.000000 0.8232758\n",
       "8_22223668  8   78.146065 1.9456221\n",
       "c9.loc60    9   60.000000 0.6399115\n",
       "10_10306263 10  47.094034 1.5426594\n",
       "c11.loc61   11  61.000000 0.6795497\n",
       "c12.loc62   12  62.000000 1.8104990\n",
       "c13.loc2    13   2.000000 1.8587380\n",
       "14_22894022 14  48.668014 2.9147196\n",
       "15_17070863 15  46.208038 1.0794065\n",
       "16_1892455  16   5.424004 0.3094959\n",
       "c17.loc4    17   4.000000 0.6899273\n",
       "c18.loc2    18   2.000000 1.3469917\n",
       "19_18512448 19  53.440066 0.6168145"
      ]
     },
     "metadata": {},
     "output_type": "display_data"
    },
    {
     "data": {
      "image/png": "[encoded data removed]",
      "text/plain": [
       "plot without title"
      ]
     },
     "metadata": {
      "image/png": {
       "height": 420,
       "width": 420
      }
     },
     "output_type": "display_data"
    }
   ],
   "source": [
    "#Deterime LOD Values\n",
    "TraitCIM<-cim(Map,pheno.col = colNum,method = \"hk\",\n",
    "              map.function = \"kosambi\") #Generate LOD Values\n",
    "plot(TraitCIM) #show LOD graph\n",
    "abline(h = LOD5,col = \"blue\") #overlay statistically significant line\n",
    "print(\"If nothing shows up, the values \n",
    "      are below the LOD5 score\") #warning for no peaks\n",
    "summary(TraitCIM)"
   ]
  },
  {
   "cell_type": "code",
   "execution_count": 8,
   "metadata": {},
   "outputs": [
    {
     "name": "stdout",
     "output_type": "stream",
     "text": [
      "[1] \"Make sure to input names AS THEY APPEAR on the csv!!\"\n"
     ]
    },
    {
     "name": "stdin",
     "output_type": "stream",
     "text": [
      "Enter file name (Either FemaleMap.csv or MaleMap.csv):  MaleMap.csv\n",
      "First Genotype (homozygous) (For example ll):  nn\n",
      "Second Genotype (heterozygous) (for example lm):  np\n",
      "Column Number:  25\n"
     ]
    }
   ],
   "source": [
    "#Collecting enviroment variables\n",
    "print(\"Make sure to input names AS THEY APPEAR on the csv!!\") #Just a user warning\n",
    "fileName <- readline(\"Enter file name (Either FemaleMap.csv or MaleMap.csv): \") #Mapping table file\n",
    "genotypeName <- c(readline(\"First Genotype (homozygous) (For example ll): \"),\n",
    "                  readline(\"Second Genotype (heterozygous) (for example lm): \")) #For example \"nn\", \"np\"\n",
    "alleleName <- c(substr(genotypeName[2],1,1) ,substr(genotypeName[2],2,2))\n",
    "naNames <- c(\"NA\",\"--\") #For example \"NA\", \"--\"\n",
    "colNum <- as.numeric(readline(\"Column Number: \")) #Column for pheno of interest"
   ]
  },
  {
   "cell_type": "code",
   "execution_count": 9,
   "metadata": {},
   "outputs": [
    {
     "name": "stdout",
     "output_type": "stream",
     "text": [
      " --Read the following data:\n",
      "\t 294  individuals\n",
      "\t 1128  markers\n",
      "\t 38  phenotypes\n"
     ]
    },
    {
     "name": "stderr",
     "output_type": "stream",
     "text": [
      "Warning message in summary.cross(cross):\n",
      "\"Some markers at the same position on chr 1,3,4,5,6,7,8,9,10,12,13,14,15,16,17,18,19; use jittermap().\"\n"
     ]
    },
    {
     "name": "stdout",
     "output_type": "stream",
     "text": [
      " --Cross type: bc \n"
     ]
    },
    {
     "data": {
      "image/png": "[encoded data removed]",
      "text/plain": [
       "Plot with title \"Genetic map\""
      ]
     },
     "metadata": {
      "image/png": {
       "height": 420,
       "width": 420
      }
     },
     "output_type": "display_data"
    }
   ],
   "source": [
    "#Map generation\n",
    "Map <- read.cross(format = 'csv',file = fileName \n",
    "                  ,genotypes = genotypeName,\n",
    "                  alleles = alleleName,na.strings = naNames) #generate linkage map\n",
    "Map <- jittermap(Map) #make sure no markers are in the same location\n",
    "Map <- calc.genoprob(Map,step = 1,map.function = \"kosambi\") #associate markers with full genotypes\n",
    "plot.map(Map) #draw linkage map"
   ]
  },
  {
   "cell_type": "code",
   "execution_count": 10,
   "metadata": {},
   "outputs": [
    {
     "data": {
      "image/png": "[encoded data removed]",
      "text/plain": [
       "Plot with title \"\""
      ]
     },
     "metadata": {
      "image/png": {
       "height": 420,
       "width": 420
      }
     },
     "output_type": "display_data"
    }
   ],
   "source": [
    "plotNormalHistogram(Map$pheno[,colNum]) #normal histogram of pheno of interest"
   ]
  },
  {
   "cell_type": "markdown",
   "metadata": {},
   "source": [
    "Outliers exist in this data. "
   ]
  },
  {
   "cell_type": "code",
   "execution_count": 11,
   "metadata": {},
   "outputs": [
    {
     "data": {
      "image/png": "[encoded data removed]",
      "text/plain": [
       "Plot with title \"\""
      ]
     },
     "metadata": {
      "image/png": {
       "height": 420,
       "width": 420
      }
     },
     "output_type": "display_data"
    }
   ],
   "source": [
    "#Compute statistically significant values\n",
    "TraitCIM1000 <- cim(Map,pheno.col = colNum,method = \"hk\",\n",
    "                    map.function = \"kosambi\",n.perm = 1000) # Function will take a moment to run, determines LOD value\n",
    "plot(TraitCIM1000,col = 'green') #show distribution of lod scores\n",
    "LOD5 <- summary(TraitCIM1000)[1]"
   ]
  },
  {
   "cell_type": "code",
   "execution_count": 12,
   "metadata": {},
   "outputs": [
    {
     "name": "stdout",
     "output_type": "stream",
     "text": [
      "[1] \"If nothing shows up, the values \\n      are below the LOD5 score\"\n"
     ]
    },
    {
     "data": {
      "text/html": [
       "<table>\n",
       "<caption>A summary.scanone: 19 × 3</caption>\n",
       "<thead>\n",
       "\t<tr><th></th><th scope=col>chr</th><th scope=col>pos</th><th scope=col>lod</th></tr>\n",
       "\t<tr><th></th><th scope=col>&lt;fct&gt;</th><th scope=col>&lt;dbl&gt;</th><th scope=col>&lt;dbl&gt;</th></tr>\n",
       "</thead>\n",
       "<tbody>\n",
       "\t<tr><th scope=row>c1.loc88</th><td>1 </td><td>88.000000</td><td>1.0546269</td></tr>\n",
       "\t<tr><th scope=row>c2.loc1</th><td>2 </td><td> 1.000000</td><td>0.9387039</td></tr>\n",
       "\t<tr><th scope=row>c3.loc18</th><td>3 </td><td>18.000000</td><td>0.4006497</td></tr>\n",
       "\t<tr><th scope=row>c4.loc19</th><td>4 </td><td>19.000000</td><td>2.0107598</td></tr>\n",
       "\t<tr><th scope=row>c5.loc74</th><td>5 </td><td>74.000000</td><td>0.7740760</td></tr>\n",
       "\t<tr><th scope=row>c6.loc16</th><td>6 </td><td>16.000000</td><td>1.0233448</td></tr>\n",
       "\t<tr><th scope=row>c7.loc66</th><td>7 </td><td>66.000000</td><td>0.9489321</td></tr>\n",
       "\t<tr><th scope=row>c8.loc17</th><td>8 </td><td>17.000000</td><td>0.5316907</td></tr>\n",
       "\t<tr><th scope=row>9_1015693</th><td>9 </td><td> 3.051004</td><td>0.5432223</td></tr>\n",
       "\t<tr><th scope=row>10_8058787</th><td>10</td><td>42.592017</td><td>0.9492889</td></tr>\n",
       "\t<tr><th scope=row>11_19614647</th><td>11</td><td>72.667037</td><td>0.6880665</td></tr>\n",
       "\t<tr><th scope=row>c12.loc20</th><td>12</td><td>20.000000</td><td>1.0858859</td></tr>\n",
       "\t<tr><th scope=row>13_27090277</th><td>13</td><td>84.752065</td><td>0.8158234</td></tr>\n",
       "\t<tr><th scope=row>c14.loc94</th><td>14</td><td>94.000000</td><td>1.1905482</td></tr>\n",
       "\t<tr><th scope=row>c15.loc1</th><td>15</td><td> 1.000000</td><td>4.8256797</td></tr>\n",
       "\t<tr><th scope=row>c16.loc29</th><td>16</td><td>29.000000</td><td>0.6061679</td></tr>\n",
       "\t<tr><th scope=row>c17.loc30</th><td>17</td><td>30.000000</td><td>0.6016596</td></tr>\n",
       "\t<tr><th scope=row>c18.loc65</th><td>18</td><td>65.000000</td><td>3.2855813</td></tr>\n",
       "\t<tr><th scope=row>19_18306424</th><td>19</td><td>58.359040</td><td>1.0863760</td></tr>\n",
       "</tbody>\n",
       "</table>\n"
      ],
      "text/latex": [
       "A summary.scanone: 19 × 3\n",
       "\\begin{tabular}{r|lll}\n",
       "  & chr & pos & lod\\\\\n",
       "  & <fct> & <dbl> & <dbl>\\\\\n",
       "\\hline\n",
       "\tc1.loc88 & 1  & 88.000000 & 1.0546269\\\\\n",
       "\tc2.loc1 & 2  &  1.000000 & 0.9387039\\\\\n",
       "\tc3.loc18 & 3  & 18.000000 & 0.4006497\\\\\n",
       "\tc4.loc19 & 4  & 19.000000 & 2.0107598\\\\\n",
       "\tc5.loc74 & 5  & 74.000000 & 0.7740760\\\\\n",
       "\tc6.loc16 & 6  & 16.000000 & 1.0233448\\\\\n",
       "\tc7.loc66 & 7  & 66.000000 & 0.9489321\\\\\n",
       "\tc8.loc17 & 8  & 17.000000 & 0.5316907\\\\\n",
       "\t9\\_1015693 & 9  &  3.051004 & 0.5432223\\\\\n",
       "\t10\\_8058787 & 10 & 42.592017 & 0.9492889\\\\\n",
       "\t11\\_19614647 & 11 & 72.667037 & 0.6880665\\\\\n",
       "\tc12.loc20 & 12 & 20.000000 & 1.0858859\\\\\n",
       "\t13\\_27090277 & 13 & 84.752065 & 0.8158234\\\\\n",
       "\tc14.loc94 & 14 & 94.000000 & 1.1905482\\\\\n",
       "\tc15.loc1 & 15 &  1.000000 & 4.8256797\\\\\n",
       "\tc16.loc29 & 16 & 29.000000 & 0.6061679\\\\\n",
       "\tc17.loc30 & 17 & 30.000000 & 0.6016596\\\\\n",
       "\tc18.loc65 & 18 & 65.000000 & 3.2855813\\\\\n",
       "\t19\\_18306424 & 19 & 58.359040 & 1.0863760\\\\\n",
       "\\end{tabular}\n"
      ],
      "text/markdown": [
       "\n",
       "A summary.scanone: 19 × 3\n",
       "\n",
       "| <!--/--> | chr &lt;fct&gt; | pos &lt;dbl&gt; | lod &lt;dbl&gt; |\n",
       "|---|---|---|---|\n",
       "| c1.loc88 | 1  | 88.000000 | 1.0546269 |\n",
       "| c2.loc1 | 2  |  1.000000 | 0.9387039 |\n",
       "| c3.loc18 | 3  | 18.000000 | 0.4006497 |\n",
       "| c4.loc19 | 4  | 19.000000 | 2.0107598 |\n",
       "| c5.loc74 | 5  | 74.000000 | 0.7740760 |\n",
       "| c6.loc16 | 6  | 16.000000 | 1.0233448 |\n",
       "| c7.loc66 | 7  | 66.000000 | 0.9489321 |\n",
       "| c8.loc17 | 8  | 17.000000 | 0.5316907 |\n",
       "| 9_1015693 | 9  |  3.051004 | 0.5432223 |\n",
       "| 10_8058787 | 10 | 42.592017 | 0.9492889 |\n",
       "| 11_19614647 | 11 | 72.667037 | 0.6880665 |\n",
       "| c12.loc20 | 12 | 20.000000 | 1.0858859 |\n",
       "| 13_27090277 | 13 | 84.752065 | 0.8158234 |\n",
       "| c14.loc94 | 14 | 94.000000 | 1.1905482 |\n",
       "| c15.loc1 | 15 |  1.000000 | 4.8256797 |\n",
       "| c16.loc29 | 16 | 29.000000 | 0.6061679 |\n",
       "| c17.loc30 | 17 | 30.000000 | 0.6016596 |\n",
       "| c18.loc65 | 18 | 65.000000 | 3.2855813 |\n",
       "| 19_18306424 | 19 | 58.359040 | 1.0863760 |\n",
       "\n"
      ],
      "text/plain": [
       "            chr pos       lod      \n",
       "c1.loc88    1   88.000000 1.0546269\n",
       "c2.loc1     2    1.000000 0.9387039\n",
       "c3.loc18    3   18.000000 0.4006497\n",
       "c4.loc19    4   19.000000 2.0107598\n",
       "c5.loc74    5   74.000000 0.7740760\n",
       "c6.loc16    6   16.000000 1.0233448\n",
       "c7.loc66    7   66.000000 0.9489321\n",
       "c8.loc17    8   17.000000 0.5316907\n",
       "9_1015693   9    3.051004 0.5432223\n",
       "10_8058787  10  42.592017 0.9492889\n",
       "11_19614647 11  72.667037 0.6880665\n",
       "c12.loc20   12  20.000000 1.0858859\n",
       "13_27090277 13  84.752065 0.8158234\n",
       "c14.loc94   14  94.000000 1.1905482\n",
       "c15.loc1    15   1.000000 4.8256797\n",
       "c16.loc29   16  29.000000 0.6061679\n",
       "c17.loc30   17  30.000000 0.6016596\n",
       "c18.loc65   18  65.000000 3.2855813\n",
       "19_18306424 19  58.359040 1.0863760"
      ]
     },
     "metadata": {},
     "output_type": "display_data"
    },
    {
     "data": {
      "image/png": "[encoded data removed]",
      "text/plain": [
       "plot without title"
      ]
     },
     "metadata": {
      "image/png": {
       "height": 420,
       "width": 420
      }
     },
     "output_type": "display_data"
    }
   ],
   "source": [
    "#Deterime LOD Values\n",
    "TraitCIM<-cim(Map,pheno.col = colNum,method = \"hk\",\n",
    "              map.function = \"kosambi\") #Generate LOD Values\n",
    "plot(TraitCIM) #show LOD graph\n",
    "abline(h = LOD5,col = \"blue\") #overlay statistically significant line\n",
    "print(\"If nothing shows up, the values \n",
    "      are below the LOD5 score\") #warning for no peaks\n",
    "summary(TraitCIM)"
   ]
  },
  {
   "cell_type": "code",
   "execution_count": 13,
   "metadata": {},
   "outputs": [
    {
     "name": "stdin",
     "output_type": "stream",
     "text": [
      "Chromosome?  15\n",
      "Would you like to investigate \n",
      "                  another chromosome? (Y/N):  N\n"
     ]
    },
    {
     "data": {
      "image/png": "[encoded data removed]",
      "text/plain": [
       "plot without title"
      ]
     },
     "metadata": {
      "image/png": {
       "height": 420,
       "width": 420
      }
     },
     "output_type": "display_data"
    }
   ],
   "source": [
    "#Chromosomal Analysis\n",
    "cont = 'Y' #Run loop on first run through\n",
    "while(cont == 'Y'){\n",
    "  chr <- as.numeric(readline(\"Chromosome? \")) #collect chromosome to look at\n",
    "  plot(TraitCIM, chr = chr) #Plot chr LOD scores\n",
    "  abline(h = LOD5, col = \"blue\") #Statistically Significant\n",
    "  cont = readline(\"Would you like to investigate \n",
    "                  another chromosome? (Y/N): \") #Y if multiple\n",
    "                  #chromosomes are to be investigated\n",
    "}"
   ]
  },
  {
   "cell_type": "code",
   "execution_count": 14,
   "metadata": {},
   "outputs": [
    {
     "data": {
      "text/html": [
       "<table>\n",
       "<caption>A scanone: 3 × 3</caption>\n",
       "<thead>\n",
       "\t<tr><th></th><th scope=col>chr</th><th scope=col>pos</th><th scope=col>lod</th></tr>\n",
       "\t<tr><th></th><th scope=col>&lt;fct&gt;</th><th scope=col>&lt;dbl&gt;</th><th scope=col>&lt;dbl&gt;</th></tr>\n",
       "</thead>\n",
       "<tbody>\n",
       "\t<tr><th scope=row>2_16557224</th><td>15</td><td> 0.000000</td><td>1.542344e+00</td></tr>\n",
       "\t<tr><th scope=row>2_16557277</th><td>15</td><td> 1.332001</td><td>2.074231e+00</td></tr>\n",
       "\t<tr><th scope=row>15_19559986</th><td>15</td><td>94.290051</td><td>6.730704e-05</td></tr>\n",
       "</tbody>\n",
       "</table>\n"
      ],
      "text/latex": [
       "A scanone: 3 × 3\n",
       "\\begin{tabular}{r|lll}\n",
       "  & chr & pos & lod\\\\\n",
       "  & <fct> & <dbl> & <dbl>\\\\\n",
       "\\hline\n",
       "\t2\\_16557224 & 15 &  0.000000 & 1.542344e+00\\\\\n",
       "\t2\\_16557277 & 15 &  1.332001 & 2.074231e+00\\\\\n",
       "\t15\\_19559986 & 15 & 94.290051 & 6.730704e-05\\\\\n",
       "\\end{tabular}\n"
      ],
      "text/markdown": [
       "\n",
       "A scanone: 3 × 3\n",
       "\n",
       "| <!--/--> | chr &lt;fct&gt; | pos &lt;dbl&gt; | lod &lt;dbl&gt; |\n",
       "|---|---|---|---|\n",
       "| 2_16557224 | 15 |  0.000000 | 1.542344e+00 |\n",
       "| 2_16557277 | 15 |  1.332001 | 2.074231e+00 |\n",
       "| 15_19559986 | 15 | 94.290051 | 6.730704e-05 |\n",
       "\n"
      ],
      "text/plain": [
       "            chr pos       lod         \n",
       "2_16557224  15   0.000000 1.542344e+00\n",
       "2_16557277  15   1.332001 2.074231e+00\n",
       "15_19559986 15  94.290051 6.730704e-05"
      ]
     },
     "metadata": {},
     "output_type": "display_data"
    },
    {
     "data": {
      "text/html": [
       "<table>\n",
       "<caption>A scanone: 3 × 3</caption>\n",
       "<thead>\n",
       "\t<tr><th></th><th scope=col>chr</th><th scope=col>pos</th><th scope=col>lod</th></tr>\n",
       "\t<tr><th></th><th scope=col>&lt;fct&gt;</th><th scope=col>&lt;dbl&gt;</th><th scope=col>&lt;dbl&gt;</th></tr>\n",
       "</thead>\n",
       "<tbody>\n",
       "\t<tr><th scope=row>2_16557224</th><td>15</td><td> 0.000000</td><td>1.5423441</td></tr>\n",
       "\t<tr><th scope=row>2_16557277</th><td>15</td><td> 1.332001</td><td>2.0742308</td></tr>\n",
       "\t<tr><th scope=row>15_15249593</th><td>15</td><td>65.896029</td><td>0.2428608</td></tr>\n",
       "</tbody>\n",
       "</table>\n"
      ],
      "text/latex": [
       "A scanone: 3 × 3\n",
       "\\begin{tabular}{r|lll}\n",
       "  & chr & pos & lod\\\\\n",
       "  & <fct> & <dbl> & <dbl>\\\\\n",
       "\\hline\n",
       "\t2\\_16557224 & 15 &  0.000000 & 1.5423441\\\\\n",
       "\t2\\_16557277 & 15 &  1.332001 & 2.0742308\\\\\n",
       "\t15\\_15249593 & 15 & 65.896029 & 0.2428608\\\\\n",
       "\\end{tabular}\n"
      ],
      "text/markdown": [
       "\n",
       "A scanone: 3 × 3\n",
       "\n",
       "| <!--/--> | chr &lt;fct&gt; | pos &lt;dbl&gt; | lod &lt;dbl&gt; |\n",
       "|---|---|---|---|\n",
       "| 2_16557224 | 15 |  0.000000 | 1.5423441 |\n",
       "| 2_16557277 | 15 |  1.332001 | 2.0742308 |\n",
       "| 15_15249593 | 15 | 65.896029 | 0.2428608 |\n",
       "\n"
      ],
      "text/plain": [
       "            chr pos       lod      \n",
       "2_16557224  15   0.000000 1.5423441\n",
       "2_16557277  15   1.332001 2.0742308\n",
       "15_15249593 15  65.896029 0.2428608"
      ]
     },
     "metadata": {},
     "output_type": "display_data"
    }
   ],
   "source": [
    "bay <- scanone(Map, method = 'hk') #scan genome with sQTL model\n",
    "bayesint(bay, chr = chr, prob=0.95, \n",
    "         expandtomarkers=TRUE) #calculate bayesian interval\n",
    "lodint(bay, chr = chr,expandtomarkers = TRUE ) #calculate LOD Support interval"
   ]
  },
  {
   "cell_type": "code",
   "execution_count": 24,
   "metadata": {},
   "outputs": [
    {
     "name": "stdin",
     "output_type": "stream",
     "text": [
      "Position for analysis:  1\n"
     ]
    },
    {
     "name": "stderr",
     "output_type": "stream",
     "text": [
      "Warning message in getsex(cross):\n",
      "\"125 individuals with missing sex; assuming they're female\"\n",
      "Warning message in fitqtlengine(pheno = pheno, qtl = qtl, covar = covar, formula = formula, :\n",
      "\"Dropping 127 individuals with missing phenotypes.\n",
      "\"\n",
      "Warning message in getsex(cross):\n",
      "\"125 individuals with missing sex; assuming they're female\"\n"
     ]
    },
    {
     "data": {
      "text/plain": [
       "\n",
       "\t\tfitqtl summary\n",
       "\n",
       "Method: Haley-Knott regression \n",
       "Model:  normal phenotype\n",
       "Number of observations : 167 \n",
       "\n",
       "Full model result\n",
       "----------------------------------  \n",
       "Model formula: y ~ Q1 \n",
       "\n",
       "       df        SS         MS      LOD     %var Pvalue(Chi2)    Pvalue(F)\n",
       "Model   1  12.86662 12.8666235 3.127564 8.263082 0.0001475698 0.0001654462\n",
       "Error 165 142.84553  0.8657305                                            \n",
       "Total 166 155.71216                                                       \n",
       "\n",
       "\n",
       "Estimated effects:\n",
       "-----------------\n",
       "              est      SE      t\n",
       "Intercept 2.35586 0.07222 32.622\n",
       "15@1.0    0.58692 0.15224  3.855\n"
      ]
     },
     "metadata": {},
     "output_type": "display_data"
    }
   ],
   "source": [
    "p <- as.numeric(readline(\"Position for analysis: \"))\n",
    "qtl <- makeqtl(Map, chr = chr, pos = p, what=\"prob\") #pulls genotype probabilities\n",
    "fitqtl <- fitqtl(Map, pheno.col=colNum, qtl = qtl, covar=NULL,\n",
    "       method= \"hk\",model=\"normal\",\n",
    "       dropone=TRUE, get.ests=TRUE,run.checks=TRUE,\n",
    "       tol=1e-4, maxit=1000, forceXcovar=FALSE) #sees how well our data fits a given formula \n",
    "          # If you see \"error: object of type 'closure' is not subsettable\", remove \"formula,\" from the fitqtl argument list.\n",
    "summary(fitqtl) #Print results of the analysis"
   ]
  }
 ],
 "metadata": {
  "kernelspec": {
   "display_name": "R",
   "language": "R",
   "name": "ir"
  },
  "language_info": {
   "codemirror_mode": "r",
   "file_extension": ".r",
   "mimetype": "text/x-r-source",
   "name": "R",
   "pygments_lexer": "r",
   "version": "3.6.1"
  }
 },
 "nbformat": 4,
 "nbformat_minor": 4
}
