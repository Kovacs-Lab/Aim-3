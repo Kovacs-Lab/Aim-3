{
 "cells": [
  {
   "cell_type": "markdown",
   "metadata": {},
   "source": [
    "This analysis is in the order of Female then Male"
   ]
  },
  {
   "cell_type": "code",
   "execution_count": 1,
   "metadata": {},
   "outputs": [
    {
     "name": "stderr",
     "output_type": "stream",
     "text": [
      "Installing package into 'C:/Users/Courtney/Documents/R/win-library/3.6'\n",
      "(as 'lib' is unspecified)\n",
      "\n"
     ]
    },
    {
     "name": "stdout",
     "output_type": "stream",
     "text": [
      "package 'qtl' successfully unpacked and MD5 sums checked\n",
      "\n",
      "The downloaded binary packages are in\n",
      "\tC:\\Users\\Courtney\\AppData\\Local\\Temp\\RtmpktlDDJ\\downloaded_packages\n"
     ]
    },
    {
     "name": "stderr",
     "output_type": "stream",
     "text": [
      "Installing package into 'C:/Users/Courtney/Documents/R/win-library/3.6'\n",
      "(as 'lib' is unspecified)\n",
      "\n"
     ]
    },
    {
     "name": "stdout",
     "output_type": "stream",
     "text": [
      "package 'qtlcharts' successfully unpacked and MD5 sums checked\n",
      "\n",
      "The downloaded binary packages are in\n",
      "\tC:\\Users\\Courtney\\AppData\\Local\\Temp\\RtmpktlDDJ\\downloaded_packages\n"
     ]
    },
    {
     "name": "stderr",
     "output_type": "stream",
     "text": [
      "Installing package into 'C:/Users/Courtney/Documents/R/win-library/3.6'\n",
      "(as 'lib' is unspecified)\n",
      "\n"
     ]
    },
    {
     "name": "stdout",
     "output_type": "stream",
     "text": [
      "package 'LinkageMapView' successfully unpacked and MD5 sums checked\n",
      "\n",
      "The downloaded binary packages are in\n",
      "\tC:\\Users\\Courtney\\AppData\\Local\\Temp\\RtmpktlDDJ\\downloaded_packages\n"
     ]
    },
    {
     "name": "stderr",
     "output_type": "stream",
     "text": [
      "Installing package into 'C:/Users/Courtney/Documents/R/win-library/3.6'\n",
      "(as 'lib' is unspecified)\n",
      "\n"
     ]
    },
    {
     "name": "stdout",
     "output_type": "stream",
     "text": [
      "package 'rcompanion' successfully unpacked and MD5 sums checked\n",
      "\n",
      "The downloaded binary packages are in\n",
      "\tC:\\Users\\Courtney\\AppData\\Local\\Temp\\RtmpktlDDJ\\downloaded_packages\n"
     ]
    }
   ],
   "source": [
    "install.packages('qtl') #Main package, for analysis\n",
    "install.packages('qtlcharts') #accessory, for displaying graphs\n",
    "install.packages('LinkageMapView') #accessory, for displaying linkage maps\n",
    "install.packages('rcompanion')# for plotNormalHistogram"
   ]
  },
  {
   "cell_type": "code",
   "execution_count": 2,
   "metadata": {},
   "outputs": [],
   "source": [
    "library(qtl) #load packages\n",
    "library(qtlcharts)\n",
    "library(LinkageMapView)\n",
    "library(rcompanion)"
   ]
  },
  {
   "cell_type": "code",
   "execution_count": 3,
   "metadata": {},
   "outputs": [
    {
     "name": "stdout",
     "output_type": "stream",
     "text": [
      "[1] \"Make sure to input names AS THEY APPEAR on the csv!!\"\n"
     ]
    },
    {
     "name": "stdin",
     "output_type": "stream",
     "text": [
      "Enter file name (Either FemaleMap.csv or MaleMap.csv):  FemaleMap_DM_Fennel.csv\n",
      "First Genotype (homozygous) (For example ll):  ll\n",
      "Second Genotype (heterozygous) (for example lm):  lm\n",
      "Column Number:  4\n"
     ]
    }
   ],
   "source": [
    "#Collecting enviroment variables\n",
    "print(\"Make sure to input names AS THEY APPEAR on the csv!!\") #Just a user warning\n",
    "fileName <- readline(\"Enter file name (Either FemaleMap.csv or MaleMap.csv): \") #Mapping table file\n",
    "genotypeName <- c(readline(\"First Genotype (homozygous) (For example ll): \"),\n",
    "                  readline(\"Second Genotype (heterozygous) (for example lm): \")) #For example \"nn\", \"np\"\n",
    "alleleName <- c(substr(genotypeName[2],1,1) ,substr(genotypeName[2],2,2))\n",
    "naNames <- c(\"NA\",\"--\") #For example \"NA\", \"--\"\n",
    "colNum <- as.numeric(readline(\"Column Number: \")) #Column for pheno of interest"
   ]
  },
  {
   "cell_type": "code",
   "execution_count": 4,
   "metadata": {},
   "outputs": [
    {
     "name": "stdout",
     "output_type": "stream",
     "text": [
      " --Read the following data:\n",
      "\t 294  individuals\n",
      "\t 1100  markers\n",
      "\t 45  phenotypes\n"
     ]
    },
    {
     "name": "stderr",
     "output_type": "stream",
     "text": [
      "Warning message in summary.cross(cross):\n",
      "\"Some markers at the same position on chr 1,2,4,5,7,8,9,10,11,12,13,14,16,17,18,19; use jittermap().\"\n"
     ]
    },
    {
     "name": "stdout",
     "output_type": "stream",
     "text": [
      " --Cross type: bc \n"
     ]
    },
    {
     "data": {
      "image/png": "[encoded data removed]",
      "text/plain": [
       "Plot with title \"Genetic map\""
      ]
     },
     "metadata": {
      "image/png": {
       "height": 420,
       "width": 420
      },
      "text/plain": {
       "height": 420,
       "width": 420
      }
     },
     "output_type": "display_data"
    }
   ],
   "source": [
    "#Map generation\n",
    "Map <- read.cross(format = 'csv',file = fileName \n",
    "                  ,genotypes = genotypeName,\n",
    "                  alleles = alleleName,na.strings = naNames) #generate linkage map\n",
    "Map <- jittermap(Map) #make sure no markers are in the same location\n",
    "Map <- calc.genoprob(Map,step = 1,map.function = \"kosambi\") #associate markers with full genotypes\n",
    "plot.map(Map) #draw linkage map"
   ]
  },
  {
   "cell_type": "code",
   "execution_count": 5,
   "metadata": {},
   "outputs": [
    {
     "data": {
      "image/png": "[encoded data removed]",
      "text/plain": [
       "Plot with title \"\""
      ]
     },
     "metadata": {
      "image/png": {
       "height": 420,
       "width": 420
      },
      "text/plain": {
       "height": 420,
       "width": 420
      }
     },
     "output_type": "display_data"
    }
   ],
   "source": [
    "plotNormalHistogram(Map$pheno[,colNum]) #normal histogram of pheno of interest"
   ]
  },
  {
   "cell_type": "markdown",
   "metadata": {},
   "source": [
    "Outliers exist in this dataset. Will need to be analyized. "
   ]
  },
  {
   "cell_type": "code",
   "execution_count": 6,
   "metadata": {},
   "outputs": [
    {
     "data": {
      "text/plain": [
       "LOD thresholds (1000 permutations)\n",
       "   [,1]\n",
       "5% 4.33\n",
       "1% 5.16"
      ]
     },
     "metadata": {},
     "output_type": "display_data"
    },
    {
     "data": {
      "image/png": "[encoded data removed]",
      "text/plain": [
       "Plot with title \"\""
      ]
     },
     "metadata": {
      "image/png": {
       "height": 420,
       "width": 420
      },
      "text/plain": {
       "height": 420,
       "width": 420
      }
     },
     "output_type": "display_data"
    }
   ],
   "source": [
    "#Compute statistically significant values\n",
    "TraitCIM1000 <- cim(Map,pheno.col = colNum,method = \"hk\",\n",
    "                    map.function = \"kosambi\",n.perm = 1000) # Function will take a moment to run, determines LOD value\n",
    "plot(TraitCIM1000,col = 'green') #show distribution of lod scores\n",
    "summary(TraitCIM1000,alpha=c(.05,.01))"
   ]
  },
  {
   "cell_type": "code",
   "execution_count": 7,
   "metadata": {},
   "outputs": [
    {
     "name": "stdout",
     "output_type": "stream",
     "text": [
      "[1] \"If nothing shows up, the values \\n      are below the LOD5 score\"\n"
     ]
    },
    {
     "data": {
      "text/html": [
       "<table>\n",
       "<caption>A summary.scanone: 19 × 3</caption>\n",
       "<thead>\n",
       "\t<tr><th></th><th scope=col>chr</th><th scope=col>pos</th><th scope=col>lod</th></tr>\n",
       "\t<tr><th></th><th scope=col>&lt;fct&gt;</th><th scope=col>&lt;dbl&gt;</th><th scope=col>&lt;dbl&gt;</th></tr>\n",
       "</thead>\n",
       "<tbody>\n",
       "\t<tr><th scope=row>1_1388796</th><td>1 </td><td> 7.099008</td><td> 0.3027203</td></tr>\n",
       "\t<tr><th scope=row>2_5186881</th><td>2 </td><td>46.031020</td><td> 0.1684723</td></tr>\n",
       "\t<tr><th scope=row>c3.loc31</th><td>3 </td><td>31.000000</td><td> 0.8201771</td></tr>\n",
       "\t<tr><th scope=row>4_1554457</th><td>4 </td><td> 6.230003</td><td> 0.7254973</td></tr>\n",
       "\t<tr><th scope=row>5_21771573</th><td>5 </td><td>61.534045</td><td> 4.7008564</td></tr>\n",
       "\t<tr><th scope=row>c6.loc52</th><td>6 </td><td>52.000000</td><td> 0.9216402</td></tr>\n",
       "\t<tr><th scope=row>5_15180588</th><td>7 </td><td>42.188046</td><td> 0.6520199</td></tr>\n",
       "\t<tr><th scope=row>8_19508944</th><td>8 </td><td>68.130048</td><td> 1.2212075</td></tr>\n",
       "\t<tr><th scope=row>c9.loc13</th><td>9 </td><td>13.000000</td><td> 2.0056377</td></tr>\n",
       "\t<tr><th scope=row>17_17189484</th><td>10</td><td> 8.281005</td><td>19.5195309</td></tr>\n",
       "\t<tr><th scope=row>c11.loc29</th><td>11</td><td>29.000000</td><td> 0.5764584</td></tr>\n",
       "\t<tr><th scope=row>c12.loc45</th><td>12</td><td>45.000000</td><td> 0.9467805</td></tr>\n",
       "\t<tr><th scope=row>c13.loc34</th><td>13</td><td>34.000000</td><td> 1.0482442</td></tr>\n",
       "\t<tr><th scope=row>c14.loc43</th><td>14</td><td>43.000000</td><td> 0.4662279</td></tr>\n",
       "\t<tr><th scope=row>4_2353337</th><td>15</td><td> 7.420012</td><td> 1.0736451</td></tr>\n",
       "\t<tr><th scope=row>16_22866474</th><td>16</td><td>59.923045</td><td> 1.5257604</td></tr>\n",
       "\t<tr><th scope=row>c17.loc61</th><td>17</td><td>61.000000</td><td> 0.7821216</td></tr>\n",
       "\t<tr><th scope=row>18_6314445</th><td>18</td><td>23.894024</td><td> 1.4422221</td></tr>\n",
       "\t<tr><th scope=row>5_9904142</th><td>19</td><td>55.037070</td><td> 2.0222130</td></tr>\n",
       "</tbody>\n",
       "</table>\n"
      ],
      "text/latex": [
       "A summary.scanone: 19 × 3\n",
       "\\begin{tabular}{r|lll}\n",
       "  & chr & pos & lod\\\\\n",
       "  & <fct> & <dbl> & <dbl>\\\\\n",
       "\\hline\n",
       "\t1\\_1388796 & 1  &  7.099008 &  0.3027203\\\\\n",
       "\t2\\_5186881 & 2  & 46.031020 &  0.1684723\\\\\n",
       "\tc3.loc31 & 3  & 31.000000 &  0.8201771\\\\\n",
       "\t4\\_1554457 & 4  &  6.230003 &  0.7254973\\\\\n",
       "\t5\\_21771573 & 5  & 61.534045 &  4.7008564\\\\\n",
       "\tc6.loc52 & 6  & 52.000000 &  0.9216402\\\\\n",
       "\t5\\_15180588 & 7  & 42.188046 &  0.6520199\\\\\n",
       "\t8\\_19508944 & 8  & 68.130048 &  1.2212075\\\\\n",
       "\tc9.loc13 & 9  & 13.000000 &  2.0056377\\\\\n",
       "\t17\\_17189484 & 10 &  8.281005 & 19.5195309\\\\\n",
       "\tc11.loc29 & 11 & 29.000000 &  0.5764584\\\\\n",
       "\tc12.loc45 & 12 & 45.000000 &  0.9467805\\\\\n",
       "\tc13.loc34 & 13 & 34.000000 &  1.0482442\\\\\n",
       "\tc14.loc43 & 14 & 43.000000 &  0.4662279\\\\\n",
       "\t4\\_2353337 & 15 &  7.420012 &  1.0736451\\\\\n",
       "\t16\\_22866474 & 16 & 59.923045 &  1.5257604\\\\\n",
       "\tc17.loc61 & 17 & 61.000000 &  0.7821216\\\\\n",
       "\t18\\_6314445 & 18 & 23.894024 &  1.4422221\\\\\n",
       "\t5\\_9904142 & 19 & 55.037070 &  2.0222130\\\\\n",
       "\\end{tabular}\n"
      ],
      "text/markdown": [
       "\n",
       "A summary.scanone: 19 × 3\n",
       "\n",
       "| <!--/--> | chr &lt;fct&gt; | pos &lt;dbl&gt; | lod &lt;dbl&gt; |\n",
       "|---|---|---|---|\n",
       "| 1_1388796 | 1  |  7.099008 |  0.3027203 |\n",
       "| 2_5186881 | 2  | 46.031020 |  0.1684723 |\n",
       "| c3.loc31 | 3  | 31.000000 |  0.8201771 |\n",
       "| 4_1554457 | 4  |  6.230003 |  0.7254973 |\n",
       "| 5_21771573 | 5  | 61.534045 |  4.7008564 |\n",
       "| c6.loc52 | 6  | 52.000000 |  0.9216402 |\n",
       "| 5_15180588 | 7  | 42.188046 |  0.6520199 |\n",
       "| 8_19508944 | 8  | 68.130048 |  1.2212075 |\n",
       "| c9.loc13 | 9  | 13.000000 |  2.0056377 |\n",
       "| 17_17189484 | 10 |  8.281005 | 19.5195309 |\n",
       "| c11.loc29 | 11 | 29.000000 |  0.5764584 |\n",
       "| c12.loc45 | 12 | 45.000000 |  0.9467805 |\n",
       "| c13.loc34 | 13 | 34.000000 |  1.0482442 |\n",
       "| c14.loc43 | 14 | 43.000000 |  0.4662279 |\n",
       "| 4_2353337 | 15 |  7.420012 |  1.0736451 |\n",
       "| 16_22866474 | 16 | 59.923045 |  1.5257604 |\n",
       "| c17.loc61 | 17 | 61.000000 |  0.7821216 |\n",
       "| 18_6314445 | 18 | 23.894024 |  1.4422221 |\n",
       "| 5_9904142 | 19 | 55.037070 |  2.0222130 |\n",
       "\n"
      ],
      "text/plain": [
       "            chr pos       lod       \n",
       "1_1388796   1    7.099008  0.3027203\n",
       "2_5186881   2   46.031020  0.1684723\n",
       "c3.loc31    3   31.000000  0.8201771\n",
       "4_1554457   4    6.230003  0.7254973\n",
       "5_21771573  5   61.534045  4.7008564\n",
       "c6.loc52    6   52.000000  0.9216402\n",
       "5_15180588  7   42.188046  0.6520199\n",
       "8_19508944  8   68.130048  1.2212075\n",
       "c9.loc13    9   13.000000  2.0056377\n",
       "17_17189484 10   8.281005 19.5195309\n",
       "c11.loc29   11  29.000000  0.5764584\n",
       "c12.loc45   12  45.000000  0.9467805\n",
       "c13.loc34   13  34.000000  1.0482442\n",
       "c14.loc43   14  43.000000  0.4662279\n",
       "4_2353337   15   7.420012  1.0736451\n",
       "16_22866474 16  59.923045  1.5257604\n",
       "c17.loc61   17  61.000000  0.7821216\n",
       "18_6314445  18  23.894024  1.4422221\n",
       "5_9904142   19  55.037070  2.0222130"
      ]
     },
     "metadata": {},
     "output_type": "display_data"
    },
    {
     "data": {
      "image/png": "[encoded data removed]",
      "text/plain": [
       "plot without title"
      ]
     },
     "metadata": {
      "image/png": {
       "height": 420,
       "width": 420
      },
      "text/plain": {
       "height": 420,
       "width": 420
      }
     },
     "output_type": "display_data"
    }
   ],
   "source": [
    "#Deterime LOD Values\n",
    "LOD5 <- summary(TraitCIM1000,alpha=c(.05))\n",
    "TraitCIM<-cim(Map,pheno.col = colNum,method = \"hk\",\n",
    "              map.function = \"kosambi\") #Generate LOD Values\n",
    "plot(TraitCIM) #show LOD graph\n",
    "abline(h = LOD5,col = \"blue\") #overlay statistically significant line\n",
    "print(\"If nothing shows up, the values \n",
    "      are below the LOD5 score\") #warning for no peaks\n",
    "summary(TraitCIM)\n",
    "write.csv(TraitCIM,\"PHENOTYPE_table.csv\")"
   ]
  },
  {
   "cell_type": "code",
   "execution_count": 8,
   "metadata": {},
   "outputs": [
    {
     "name": "stdin",
     "output_type": "stream",
     "text": [
      "Chromosome?  10\n"
     ]
    },
    {
     "data": {
      "image/png": "[encoded data removed]",
      "text/plain": [
       "plot without title"
      ]
     },
     "metadata": {
      "image/png": {
       "height": 420,
       "width": 420
      },
      "text/plain": {
       "height": 420,
       "width": 420
      }
     },
     "output_type": "display_data"
    }
   ],
   "source": [
    "#Chromosomal Analysis\n",
    "chr <- as.numeric(readline(\"Chromosome? \")) #collect chromosome to look at\n",
    "plot(TraitCIM, chr = chr,xlab = c(\"chr\",chr)) #Plot chr LOD scores\n",
    "abline(h = LOD5, col = \"blue\") #Statistically Significant"
   ]
  },
  {
   "cell_type": "code",
   "execution_count": 9,
   "metadata": {},
   "outputs": [
    {
     "data": {
      "text/html": [
       "<table>\n",
       "<caption>A scanone: 3 × 3</caption>\n",
       "<thead>\n",
       "\t<tr><th></th><th scope=col>chr</th><th scope=col>pos</th><th scope=col>lod</th></tr>\n",
       "\t<tr><th></th><th scope=col>&lt;fct&gt;</th><th scope=col>&lt;dbl&gt;</th><th scope=col>&lt;dbl&gt;</th></tr>\n",
       "</thead>\n",
       "<tbody>\n",
       "\t<tr><th scope=row>17_17189406</th><td>10</td><td>2.459002</td><td> 0.1955022</td></tr>\n",
       "\t<tr><th scope=row>17_17189484</th><td>10</td><td>8.281005</td><td>19.5195309</td></tr>\n",
       "\t<tr><th scope=row>10_2674703</th><td>10</td><td>9.536007</td><td>17.1203795</td></tr>\n",
       "</tbody>\n",
       "</table>\n"
      ],
      "text/latex": [
       "A scanone: 3 × 3\n",
       "\\begin{tabular}{r|lll}\n",
       "  & chr & pos & lod\\\\\n",
       "  & <fct> & <dbl> & <dbl>\\\\\n",
       "\\hline\n",
       "\t17\\_17189406 & 10 & 2.459002 &  0.1955022\\\\\n",
       "\t17\\_17189484 & 10 & 8.281005 & 19.5195309\\\\\n",
       "\t10\\_2674703 & 10 & 9.536007 & 17.1203795\\\\\n",
       "\\end{tabular}\n"
      ],
      "text/markdown": [
       "\n",
       "A scanone: 3 × 3\n",
       "\n",
       "| <!--/--> | chr &lt;fct&gt; | pos &lt;dbl&gt; | lod &lt;dbl&gt; |\n",
       "|---|---|---|---|\n",
       "| 17_17189406 | 10 | 2.459002 |  0.1955022 |\n",
       "| 17_17189484 | 10 | 8.281005 | 19.5195309 |\n",
       "| 10_2674703 | 10 | 9.536007 | 17.1203795 |\n",
       "\n"
      ],
      "text/plain": [
       "            chr pos      lod       \n",
       "17_17189406 10  2.459002  0.1955022\n",
       "17_17189484 10  8.281005 19.5195309\n",
       "10_2674703  10  9.536007 17.1203795"
      ]
     },
     "metadata": {},
     "output_type": "display_data"
    },
    {
     "data": {
      "text/html": [
       "<table>\n",
       "<caption>A scanone: 3 × 3</caption>\n",
       "<thead>\n",
       "\t<tr><th></th><th scope=col>chr</th><th scope=col>pos</th><th scope=col>lod</th></tr>\n",
       "\t<tr><th></th><th scope=col>&lt;fct&gt;</th><th scope=col>&lt;dbl&gt;</th><th scope=col>&lt;dbl&gt;</th></tr>\n",
       "</thead>\n",
       "<tbody>\n",
       "\t<tr><th scope=row>17_17189406</th><td>10</td><td>2.459002</td><td> 0.1955022</td></tr>\n",
       "\t<tr><th scope=row>17_17189484</th><td>10</td><td>8.281005</td><td>19.5195309</td></tr>\n",
       "\t<tr><th scope=row>10_2674703</th><td>10</td><td>9.536007</td><td>17.1203795</td></tr>\n",
       "</tbody>\n",
       "</table>\n"
      ],
      "text/latex": [
       "A scanone: 3 × 3\n",
       "\\begin{tabular}{r|lll}\n",
       "  & chr & pos & lod\\\\\n",
       "  & <fct> & <dbl> & <dbl>\\\\\n",
       "\\hline\n",
       "\t17\\_17189406 & 10 & 2.459002 &  0.1955022\\\\\n",
       "\t17\\_17189484 & 10 & 8.281005 & 19.5195309\\\\\n",
       "\t10\\_2674703 & 10 & 9.536007 & 17.1203795\\\\\n",
       "\\end{tabular}\n"
      ],
      "text/markdown": [
       "\n",
       "A scanone: 3 × 3\n",
       "\n",
       "| <!--/--> | chr &lt;fct&gt; | pos &lt;dbl&gt; | lod &lt;dbl&gt; |\n",
       "|---|---|---|---|\n",
       "| 17_17189406 | 10 | 2.459002 |  0.1955022 |\n",
       "| 17_17189484 | 10 | 8.281005 | 19.5195309 |\n",
       "| 10_2674703 | 10 | 9.536007 | 17.1203795 |\n",
       "\n"
      ],
      "text/plain": [
       "            chr pos      lod       \n",
       "17_17189406 10  2.459002  0.1955022\n",
       "17_17189484 10  8.281005 19.5195309\n",
       "10_2674703  10  9.536007 17.1203795"
      ]
     },
     "metadata": {},
     "output_type": "display_data"
    }
   ],
   "source": [
    "bayesint(TraitCIM, chr = chr, prob=0.95, expandtomarkers=TRUE) #calculate bayesian interval\n",
    "lodint(TraitCIM, chr = chr,expandtomarkers = TRUE ) #calculate LOD Support interval"
   ]
  },
  {
   "cell_type": "code",
   "execution_count": 10,
   "metadata": {},
   "outputs": [
    {
     "name": "stdin",
     "output_type": "stream",
     "text": [
      "Position for analysis:  8.281005\n"
     ]
    },
    {
     "name": "stderr",
     "output_type": "stream",
     "text": [
      "Warning message in getsex(cross):\n",
      "\"125 individuals with missing sex; assuming they're female\"\n",
      "Warning message in fitqtlengine(pheno = pheno, qtl = qtl, covar = covar, formula = formula, :\n",
      "\"Dropping 158 individuals with missing phenotypes.\n",
      "\"\n",
      "Warning message in getsex(cross):\n",
      "\"125 individuals with missing sex; assuming they're female\"\n"
     ]
    },
    {
     "data": {
      "text/plain": [
       "\n",
       "\t\tfitqtl summary\n",
       "\n",
       "Method: Haley-Knott regression \n",
       "Model:  normal phenotype\n",
       "Number of observations : 136 \n",
       "\n",
       "Full model result\n",
       "----------------------------------  \n",
       "Model formula: y ~ Q1 \n",
       "\n",
       "       df        SS         MS      LOD     %var Pvalue(Chi2) Pvalue(F)\n",
       "Model   1  591.3682 591.368201 18.06299 45.75399            0         0\n",
       "Error 134  701.1272   5.232292                                         \n",
       "Total 135 1292.4954                                                    \n",
       "\n",
       "\n",
       "Estimated effects:\n",
       "-----------------\n",
       "              est      SE      t\n",
       "Intercept  6.0912  0.1963  31.02\n",
       "10@8.3    -4.1747  0.3927 -10.63\n"
      ]
     },
     "metadata": {},
     "output_type": "display_data"
    }
   ],
   "source": [
    "p <- as.numeric(readline(\"Position for analysis: \"))\n",
    "qtl <- makeqtl(Map, chr = chr, pos = p, what=\"prob\") #pulls genotype probabilities\n",
    "fitqtl <- fitqtl(Map, pheno.col=colNum, qtl = qtl, covar=NULL,\n",
    "       method= \"hk\",model=\"normal\",\n",
    "       dropone=TRUE, get.ests=TRUE,run.checks=TRUE,\n",
    "       tol=1e-4, maxit=1000, forceXcovar=FALSE) #sees how well our data fits a given formula \n",
    "          # If you see \"error: object of type 'closure' is not subsettable\", remove \"formula,\" from the fitqtl argument list.\n",
    "summary(fitqtl) #Print results of the analysis"
   ]
  },
  {
   "cell_type": "code",
   "execution_count": 11,
   "metadata": {},
   "outputs": [
    {
     "name": "stdout",
     "output_type": "stream",
     "text": [
      "[1] \"Make sure to input names AS THEY APPEAR on the csv!!\"\n"
     ]
    },
    {
     "name": "stdin",
     "output_type": "stream",
     "text": [
      "Enter file name (Either FemaleMap.csv or MaleMap.csv):  MaleMap_DM_Fennel.csv\n",
      "First Genotype (homozygous) (For example ll):  nn\n",
      "Second Genotype (heterozygous) (for example lm):  np\n",
      "Column Number:  4\n"
     ]
    }
   ],
   "source": [
    "#Collecting enviroment variables\n",
    "print(\"Make sure to input names AS THEY APPEAR on the csv!!\") #Just a user warning\n",
    "fileName <- readline(\"Enter file name (Either FemaleMap.csv or MaleMap.csv): \") #Mapping table file\n",
    "genotypeName <- c(readline(\"First Genotype (homozygous) (For example ll): \"),\n",
    "                  readline(\"Second Genotype (heterozygous) (for example lm): \")) #For example \"nn\", \"np\"\n",
    "alleleName <- c(substr(genotypeName[2],1,1) ,substr(genotypeName[2],2,2))\n",
    "naNames <- c(\"NA\",\"--\") #For example \"NA\", \"--\"\n",
    "colNum <- as.numeric(readline(\"Column Number: \")) #Column for pheno of interest"
   ]
  },
  {
   "cell_type": "code",
   "execution_count": 12,
   "metadata": {},
   "outputs": [
    {
     "name": "stdout",
     "output_type": "stream",
     "text": [
      " --Read the following data:\n",
      "\t 294  individuals\n",
      "\t 1128  markers\n",
      "\t 45  phenotypes\n"
     ]
    },
    {
     "name": "stderr",
     "output_type": "stream",
     "text": [
      "Warning message in summary.cross(cross):\n",
      "\"Some markers at the same position on chr 1,3,4,5,6,7,8,9,10,12,13,14,15,16,17,18,19; use jittermap().\"\n"
     ]
    },
    {
     "name": "stdout",
     "output_type": "stream",
     "text": [
      " --Cross type: bc \n"
     ]
    },
    {
     "data": {
      "image/png": "[encoded data removed]",
      "text/plain": [
       "Plot with title \"Genetic map\""
      ]
     },
     "metadata": {
      "image/png": {
       "height": 420,
       "width": 420
      },
      "text/plain": {
       "height": 420,
       "width": 420
      }
     },
     "output_type": "display_data"
    }
   ],
   "source": [
    "#Map generation\n",
    "Map <- read.cross(format = 'csv',file = fileName \n",
    "                  ,genotypes = genotypeName,\n",
    "                  alleles = alleleName,na.strings = naNames) #generate linkage map\n",
    "Map <- jittermap(Map) #make sure no markers are in the same location\n",
    "Map <- calc.genoprob(Map,step = 1,map.function = \"kosambi\") #associate markers with full genotypes\n",
    "plot.map(Map) #draw linkage map"
   ]
  },
  {
   "cell_type": "code",
   "execution_count": 13,
   "metadata": {},
   "outputs": [
    {
     "data": {
      "image/png": "[encoded data removed]",
      "text/plain": [
       "Plot with title \"\""
      ]
     },
     "metadata": {
      "image/png": {
       "height": 420,
       "width": 420
      },
      "text/plain": {
       "height": 420,
       "width": 420
      }
     },
     "output_type": "display_data"
    }
   ],
   "source": [
    "plotNormalHistogram(Map$pheno[,colNum]) #normal histogram of pheno of interest"
   ]
  },
  {
   "cell_type": "markdown",
   "metadata": {},
   "source": [
    "Outliers exist in this data. "
   ]
  },
  {
   "cell_type": "code",
   "execution_count": 14,
   "metadata": {},
   "outputs": [
    {
     "data": {
      "text/plain": [
       "LOD thresholds (1000 permutations)\n",
       "   [,1]\n",
       "5% 4.49\n",
       "1% 5.50"
      ]
     },
     "metadata": {},
     "output_type": "display_data"
    },
    {
     "data": {
      "image/png": "[encoded data removed]",
      "text/plain": [
       "Plot with title \"\""
      ]
     },
     "metadata": {
      "image/png": {
       "height": 420,
       "width": 420
      },
      "text/plain": {
       "height": 420,
       "width": 420
      }
     },
     "output_type": "display_data"
    }
   ],
   "source": [
    "#Compute statistically significant values\n",
    "TraitCIM1000 <- cim(Map,pheno.col = colNum,method = \"hk\",\n",
    "                    map.function = \"kosambi\",n.perm = 1000) # Function will take a moment to run, determines LOD value\n",
    "plot(TraitCIM1000,col = 'green') #show distribution of lod scores\n",
    "summary(TraitCIM1000,alpha=c(.05,.01))"
   ]
  },
  {
   "cell_type": "code",
   "execution_count": 15,
   "metadata": {},
   "outputs": [
    {
     "name": "stdout",
     "output_type": "stream",
     "text": [
      "[1] \"If nothing shows up, the values \\n      are below the LOD5 score\"\n"
     ]
    },
    {
     "data": {
      "text/html": [
       "<table>\n",
       "<caption>A summary.scanone: 19 × 3</caption>\n",
       "<thead>\n",
       "\t<tr><th></th><th scope=col>chr</th><th scope=col>pos</th><th scope=col>lod</th></tr>\n",
       "\t<tr><th></th><th scope=col>&lt;fct&gt;</th><th scope=col>&lt;dbl&gt;</th><th scope=col>&lt;dbl&gt;</th></tr>\n",
       "</thead>\n",
       "<tbody>\n",
       "\t<tr><th scope=row>c1.loc69</th><td>1 </td><td>69.00000</td><td>1.1059118</td></tr>\n",
       "\t<tr><th scope=row>c2.loc14</th><td>2 </td><td>14.00000</td><td>1.3564803</td></tr>\n",
       "\t<tr><th scope=row>16_9895528</th><td>3 </td><td>75.26705</td><td>0.7381968</td></tr>\n",
       "\t<tr><th scope=row>c4.loc61</th><td>4 </td><td>61.00000</td><td>1.6002881</td></tr>\n",
       "\t<tr><th scope=row>c5.loc66</th><td>5 </td><td>66.00000</td><td>1.2925998</td></tr>\n",
       "\t<tr><th scope=row>c6.loc67</th><td>6 </td><td>67.00000</td><td>0.7515925</td></tr>\n",
       "\t<tr><th scope=row>c7.loc56</th><td>7 </td><td>56.00000</td><td>1.6367111</td></tr>\n",
       "\t<tr><th scope=row>c8.loc87</th><td>8 </td><td>87.00000</td><td>0.6669373</td></tr>\n",
       "\t<tr><th scope=row>c9.loc61</th><td>9 </td><td>61.00000</td><td>0.5394129</td></tr>\n",
       "\t<tr><th scope=row>c10.loc6</th><td>10</td><td> 6.00000</td><td>3.5065799</td></tr>\n",
       "\t<tr><th scope=row>c11.loc14</th><td>11</td><td>14.00000</td><td>0.5400208</td></tr>\n",
       "\t<tr><th scope=row>12_22588390</th><td>12</td><td>61.73807</td><td>0.8528854</td></tr>\n",
       "\t<tr><th scope=row>c13.loc21</th><td>13</td><td>21.00000</td><td>0.3070989</td></tr>\n",
       "\t<tr><th scope=row>14_27233177</th><td>14</td><td>48.92605</td><td>0.8383804</td></tr>\n",
       "\t<tr><th scope=row>15_14224942</th><td>15</td><td>58.27702</td><td>1.9684135</td></tr>\n",
       "\t<tr><th scope=row>18_33757550</th><td>16</td><td>64.89503</td><td>1.2949271</td></tr>\n",
       "\t<tr><th scope=row>c17.loc22</th><td>17</td><td>22.00000</td><td>0.3751293</td></tr>\n",
       "\t<tr><th scope=row>c18.loc53</th><td>18</td><td>53.00000</td><td>1.1160979</td></tr>\n",
       "\t<tr><th scope=row>c19.loc48</th><td>19</td><td>48.00000</td><td>1.1424997</td></tr>\n",
       "</tbody>\n",
       "</table>\n"
      ],
      "text/latex": [
       "A summary.scanone: 19 × 3\n",
       "\\begin{tabular}{r|lll}\n",
       "  & chr & pos & lod\\\\\n",
       "  & <fct> & <dbl> & <dbl>\\\\\n",
       "\\hline\n",
       "\tc1.loc69 & 1  & 69.00000 & 1.1059118\\\\\n",
       "\tc2.loc14 & 2  & 14.00000 & 1.3564803\\\\\n",
       "\t16\\_9895528 & 3  & 75.26705 & 0.7381968\\\\\n",
       "\tc4.loc61 & 4  & 61.00000 & 1.6002881\\\\\n",
       "\tc5.loc66 & 5  & 66.00000 & 1.2925998\\\\\n",
       "\tc6.loc67 & 6  & 67.00000 & 0.7515925\\\\\n",
       "\tc7.loc56 & 7  & 56.00000 & 1.6367111\\\\\n",
       "\tc8.loc87 & 8  & 87.00000 & 0.6669373\\\\\n",
       "\tc9.loc61 & 9  & 61.00000 & 0.5394129\\\\\n",
       "\tc10.loc6 & 10 &  6.00000 & 3.5065799\\\\\n",
       "\tc11.loc14 & 11 & 14.00000 & 0.5400208\\\\\n",
       "\t12\\_22588390 & 12 & 61.73807 & 0.8528854\\\\\n",
       "\tc13.loc21 & 13 & 21.00000 & 0.3070989\\\\\n",
       "\t14\\_27233177 & 14 & 48.92605 & 0.8383804\\\\\n",
       "\t15\\_14224942 & 15 & 58.27702 & 1.9684135\\\\\n",
       "\t18\\_33757550 & 16 & 64.89503 & 1.2949271\\\\\n",
       "\tc17.loc22 & 17 & 22.00000 & 0.3751293\\\\\n",
       "\tc18.loc53 & 18 & 53.00000 & 1.1160979\\\\\n",
       "\tc19.loc48 & 19 & 48.00000 & 1.1424997\\\\\n",
       "\\end{tabular}\n"
      ],
      "text/markdown": [
       "\n",
       "A summary.scanone: 19 × 3\n",
       "\n",
       "| <!--/--> | chr &lt;fct&gt; | pos &lt;dbl&gt; | lod &lt;dbl&gt; |\n",
       "|---|---|---|---|\n",
       "| c1.loc69 | 1  | 69.00000 | 1.1059118 |\n",
       "| c2.loc14 | 2  | 14.00000 | 1.3564803 |\n",
       "| 16_9895528 | 3  | 75.26705 | 0.7381968 |\n",
       "| c4.loc61 | 4  | 61.00000 | 1.6002881 |\n",
       "| c5.loc66 | 5  | 66.00000 | 1.2925998 |\n",
       "| c6.loc67 | 6  | 67.00000 | 0.7515925 |\n",
       "| c7.loc56 | 7  | 56.00000 | 1.6367111 |\n",
       "| c8.loc87 | 8  | 87.00000 | 0.6669373 |\n",
       "| c9.loc61 | 9  | 61.00000 | 0.5394129 |\n",
       "| c10.loc6 | 10 |  6.00000 | 3.5065799 |\n",
       "| c11.loc14 | 11 | 14.00000 | 0.5400208 |\n",
       "| 12_22588390 | 12 | 61.73807 | 0.8528854 |\n",
       "| c13.loc21 | 13 | 21.00000 | 0.3070989 |\n",
       "| 14_27233177 | 14 | 48.92605 | 0.8383804 |\n",
       "| 15_14224942 | 15 | 58.27702 | 1.9684135 |\n",
       "| 18_33757550 | 16 | 64.89503 | 1.2949271 |\n",
       "| c17.loc22 | 17 | 22.00000 | 0.3751293 |\n",
       "| c18.loc53 | 18 | 53.00000 | 1.1160979 |\n",
       "| c19.loc48 | 19 | 48.00000 | 1.1424997 |\n",
       "\n"
      ],
      "text/plain": [
       "            chr pos      lod      \n",
       "c1.loc69    1   69.00000 1.1059118\n",
       "c2.loc14    2   14.00000 1.3564803\n",
       "16_9895528  3   75.26705 0.7381968\n",
       "c4.loc61    4   61.00000 1.6002881\n",
       "c5.loc66    5   66.00000 1.2925998\n",
       "c6.loc67    6   67.00000 0.7515925\n",
       "c7.loc56    7   56.00000 1.6367111\n",
       "c8.loc87    8   87.00000 0.6669373\n",
       "c9.loc61    9   61.00000 0.5394129\n",
       "c10.loc6    10   6.00000 3.5065799\n",
       "c11.loc14   11  14.00000 0.5400208\n",
       "12_22588390 12  61.73807 0.8528854\n",
       "c13.loc21   13  21.00000 0.3070989\n",
       "14_27233177 14  48.92605 0.8383804\n",
       "15_14224942 15  58.27702 1.9684135\n",
       "18_33757550 16  64.89503 1.2949271\n",
       "c17.loc22   17  22.00000 0.3751293\n",
       "c18.loc53   18  53.00000 1.1160979\n",
       "c19.loc48   19  48.00000 1.1424997"
      ]
     },
     "metadata": {},
     "output_type": "display_data"
    },
    {
     "data": {
      "image/png": "[encoded data removed]",
      "text/plain": [
       "plot without title"
      ]
     },
     "metadata": {
      "image/png": {
       "height": 420,
       "width": 420
      },
      "text/plain": {
       "height": 420,
       "width": 420
      }
     },
     "output_type": "display_data"
    }
   ],
   "source": [
    "#Deterime LOD Values\n",
    "TraitCIM<-cim(Map,pheno.col = colNum,method = \"hk\",\n",
    "              map.function = \"kosambi\") #Generate LOD Values\n",
    "plot(TraitCIM) #show LOD graph\n",
    "abline(h = LOD5,col = \"blue\") #overlay statistically significant line\n",
    "print(\"If nothing shows up, the values \n",
    "      are below the LOD5 score\") #warning for no peaks\n",
    "summary(TraitCIM)"
   ]
  },
  {
   "cell_type": "code",
   "execution_count": 16,
   "metadata": {},
   "outputs": [
    {
     "name": "stdin",
     "output_type": "stream",
     "text": [
      "Chromosome?  10\n"
     ]
    },
    {
     "data": {
      "image/png": "[encoded data removed]",
      "text/plain": [
       "plot without title"
      ]
     },
     "metadata": {
      "image/png": {
       "height": 420,
       "width": 420
      },
      "text/plain": {
       "height": 420,
       "width": 420
      }
     },
     "output_type": "display_data"
    }
   ],
   "source": [
    "#Chromosomal Analysis\n",
    "chr <- as.numeric(readline(\"Chromosome? \")) #collect chromosome to look at\n",
    "plot(TraitCIM, chr = chr,xlab = c(\"chr\",chr)) #Plot chr LOD scores\n",
    "abline(h = LOD5, col = \"blue\") #Statistically Significant"
   ]
  },
  {
   "cell_type": "code",
   "execution_count": 17,
   "metadata": {},
   "outputs": [
    {
     "data": {
      "text/html": [
       "<table>\n",
       "<caption>A scanone: 3 × 3</caption>\n",
       "<thead>\n",
       "\t<tr><th></th><th scope=col>chr</th><th scope=col>pos</th><th scope=col>lod</th></tr>\n",
       "\t<tr><th></th><th scope=col>&lt;fct&gt;</th><th scope=col>&lt;dbl&gt;</th><th scope=col>&lt;dbl&gt;</th></tr>\n",
       "</thead>\n",
       "<tbody>\n",
       "\t<tr><th scope=row>10_1368821</th><td>10</td><td> 5.836004</td><td>1.914917</td></tr>\n",
       "\t<tr><th scope=row>c10.loc6</th><td>10</td><td> 6.000000</td><td>3.506580</td></tr>\n",
       "\t<tr><th scope=row>10_2868961</th><td>10</td><td>13.270011</td><td>2.497301</td></tr>\n",
       "</tbody>\n",
       "</table>\n"
      ],
      "text/latex": [
       "A scanone: 3 × 3\n",
       "\\begin{tabular}{r|lll}\n",
       "  & chr & pos & lod\\\\\n",
       "  & <fct> & <dbl> & <dbl>\\\\\n",
       "\\hline\n",
       "\t10\\_1368821 & 10 &  5.836004 & 1.914917\\\\\n",
       "\tc10.loc6 & 10 &  6.000000 & 3.506580\\\\\n",
       "\t10\\_2868961 & 10 & 13.270011 & 2.497301\\\\\n",
       "\\end{tabular}\n"
      ],
      "text/markdown": [
       "\n",
       "A scanone: 3 × 3\n",
       "\n",
       "| <!--/--> | chr &lt;fct&gt; | pos &lt;dbl&gt; | lod &lt;dbl&gt; |\n",
       "|---|---|---|---|\n",
       "| 10_1368821 | 10 |  5.836004 | 1.914917 |\n",
       "| c10.loc6 | 10 |  6.000000 | 3.506580 |\n",
       "| 10_2868961 | 10 | 13.270011 | 2.497301 |\n",
       "\n"
      ],
      "text/plain": [
       "           chr pos       lod     \n",
       "10_1368821 10   5.836004 1.914917\n",
       "c10.loc6   10   6.000000 3.506580\n",
       "10_2868961 10  13.270011 2.497301"
      ]
     },
     "metadata": {},
     "output_type": "display_data"
    },
    {
     "data": {
      "text/html": [
       "<table>\n",
       "<caption>A scanone: 3 × 3</caption>\n",
       "<thead>\n",
       "\t<tr><th></th><th scope=col>chr</th><th scope=col>pos</th><th scope=col>lod</th></tr>\n",
       "\t<tr><th></th><th scope=col>&lt;fct&gt;</th><th scope=col>&lt;dbl&gt;</th><th scope=col>&lt;dbl&gt;</th></tr>\n",
       "</thead>\n",
       "<tbody>\n",
       "\t<tr><th scope=row>10_1368821</th><td>10</td><td> 5.836004</td><td>1.91491658</td></tr>\n",
       "\t<tr><th scope=row>c10.loc6</th><td>10</td><td> 6.000000</td><td>3.50657991</td></tr>\n",
       "\t<tr><th scope=row>10_3024940</th><td>10</td><td>15.123012</td><td>0.08928562</td></tr>\n",
       "</tbody>\n",
       "</table>\n"
      ],
      "text/latex": [
       "A scanone: 3 × 3\n",
       "\\begin{tabular}{r|lll}\n",
       "  & chr & pos & lod\\\\\n",
       "  & <fct> & <dbl> & <dbl>\\\\\n",
       "\\hline\n",
       "\t10\\_1368821 & 10 &  5.836004 & 1.91491658\\\\\n",
       "\tc10.loc6 & 10 &  6.000000 & 3.50657991\\\\\n",
       "\t10\\_3024940 & 10 & 15.123012 & 0.08928562\\\\\n",
       "\\end{tabular}\n"
      ],
      "text/markdown": [
       "\n",
       "A scanone: 3 × 3\n",
       "\n",
       "| <!--/--> | chr &lt;fct&gt; | pos &lt;dbl&gt; | lod &lt;dbl&gt; |\n",
       "|---|---|---|---|\n",
       "| 10_1368821 | 10 |  5.836004 | 1.91491658 |\n",
       "| c10.loc6 | 10 |  6.000000 | 3.50657991 |\n",
       "| 10_3024940 | 10 | 15.123012 | 0.08928562 |\n",
       "\n"
      ],
      "text/plain": [
       "           chr pos       lod       \n",
       "10_1368821 10   5.836004 1.91491658\n",
       "c10.loc6   10   6.000000 3.50657991\n",
       "10_3024940 10  15.123012 0.08928562"
      ]
     },
     "metadata": {},
     "output_type": "display_data"
    }
   ],
   "source": [
    "bayesint(TraitCIM, chr = chr, prob=0.95, expandtomarkers=TRUE) #calculate bayesian interval\n",
    "lodint(TraitCIM, chr = chr,expandtomarkers = TRUE ) #calculate LOD Support interval"
   ]
  },
  {
   "cell_type": "code",
   "execution_count": 18,
   "metadata": {},
   "outputs": [
    {
     "name": "stdin",
     "output_type": "stream",
     "text": [
      "Position for analysis:  6\n"
     ]
    },
    {
     "name": "stderr",
     "output_type": "stream",
     "text": [
      "Warning message in getsex(cross):\n",
      "\"125 individuals with missing sex; assuming they're female\"\n",
      "Warning message in fitqtlengine(pheno = pheno, qtl = qtl, covar = covar, formula = formula, :\n",
      "\"Dropping 158 individuals with missing phenotypes.\n",
      "\"\n",
      "Warning message in getsex(cross):\n",
      "\"125 individuals with missing sex; assuming they're female\"\n"
     ]
    },
    {
     "data": {
      "text/plain": [
       "\n",
       "\t\tfitqtl summary\n",
       "\n",
       "Method: Haley-Knott regression \n",
       "Model:  normal phenotype\n",
       "Number of observations : 136 \n",
       "\n",
       "Full model result\n",
       "----------------------------------  \n",
       "Model formula: y ~ Q1 \n",
       "\n",
       "       df        SS       MS      LOD     %var Pvalue(Chi2)    Pvalue(F)\n",
       "Model   1  131.9617 131.9617 3.180444 10.20984 0.0001296762 0.0001495525\n",
       "Error 134 1160.5337   8.6607                                            \n",
       "Total 135 1292.4954                                                     \n",
       "\n",
       "\n",
       "Estimated effects:\n",
       "-----------------\n",
       "              est      SE      t\n",
       "Intercept  5.9819  0.2576 23.225\n",
       "10@6.0    -2.6273  0.6731 -3.903\n"
      ]
     },
     "metadata": {},
     "output_type": "display_data"
    }
   ],
   "source": [
    "p <- as.numeric(readline(\"Position for analysis: \"))\n",
    "qtl <- makeqtl(Map, chr = chr, pos = p, what=\"prob\") #pulls genotype probabilities\n",
    "fitqtl <- fitqtl(Map, pheno.col=colNum, qtl = qtl, covar=NULL,\n",
    "       method= \"hk\",model=\"normal\",\n",
    "       dropone=TRUE, get.ests=TRUE,run.checks=TRUE,\n",
    "       tol=1e-4, maxit=1000, forceXcovar=FALSE) #sees how well our data fits a given formula \n",
    "          # If you see \"error: object of type 'closure' is not subsettable\", remove \"formula,\" from the fitqtl argument list.\n",
    "summary(fitqtl) #Print results of the analysis"
   ]
  },
  {
   "cell_type": "code",
   "execution_count": null,
   "metadata": {},
   "outputs": [],
   "source": []
  }
 ],
 "metadata": {
  "kernelspec": {
   "display_name": "R",
   "language": "R",
   "name": "ir"
  },
  "language_info": {
   "codemirror_mode": "r",
   "file_extension": ".r",
   "mimetype": "text/x-r-source",
   "name": "R",
   "pygments_lexer": "r",
   "version": "3.6.3"
  }
 },
 "nbformat": 4,
 "nbformat_minor": 4
}
