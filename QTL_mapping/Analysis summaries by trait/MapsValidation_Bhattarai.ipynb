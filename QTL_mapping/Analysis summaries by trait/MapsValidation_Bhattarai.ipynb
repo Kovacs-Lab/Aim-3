{
 "cells": [
  {
   "cell_type": "markdown",
   "metadata": {},
   "source": [
    "This analysis is in the order of Female then Male"
   ]
  },
  {
   "cell_type": "code",
   "execution_count": 1,
   "metadata": {},
   "outputs": [
    {
     "name": "stderr",
     "output_type": "stream",
     "text": [
      "Installing package into 'C:/Users/Courtney/Documents/R/win-library/3.6'\n",
      "(as 'lib' is unspecified)\n",
      "\n"
     ]
    },
    {
     "name": "stdout",
     "output_type": "stream",
     "text": [
      "\n",
      "  There is a binary version available but the source version is later:\n",
      "    binary source needs_compilation\n",
      "qtl 1.48-1   1.50              TRUE\n",
      "\n",
      "  Binaries will be installed\n",
      "package 'qtl' successfully unpacked and MD5 sums checked\n",
      "\n",
      "The downloaded binary packages are in\n",
      "\tC:\\Users\\Courtney\\AppData\\Local\\Temp\\Rtmp0USvgj\\downloaded_packages\n"
     ]
    },
    {
     "name": "stderr",
     "output_type": "stream",
     "text": [
      "Installing package into 'C:/Users/Courtney/Documents/R/win-library/3.6'\n",
      "(as 'lib' is unspecified)\n",
      "\n"
     ]
    },
    {
     "name": "stdout",
     "output_type": "stream",
     "text": [
      "\n",
      "  There is a binary version available but the source version is later:\n",
      "           binary source needs_compilation\n",
      "qtlcharts 0.12-10   0.16             FALSE\n",
      "\n"
     ]
    },
    {
     "name": "stderr",
     "output_type": "stream",
     "text": [
      "installing the source package 'qtlcharts'\n",
      "\n",
      "\n",
      "Warning message in install.packages(\"qtlcharts\"):\n",
      "\"installation of package 'qtlcharts' had non-zero exit status\"\n",
      "Installing package into 'C:/Users/Courtney/Documents/R/win-library/3.6'\n",
      "(as 'lib' is unspecified)\n",
      "\n"
     ]
    },
    {
     "name": "stdout",
     "output_type": "stream",
     "text": [
      "package 'LinkageMapView' successfully unpacked and MD5 sums checked\n",
      "\n",
      "The downloaded binary packages are in\n",
      "\tC:\\Users\\Courtney\\AppData\\Local\\Temp\\Rtmp0USvgj\\downloaded_packages\n"
     ]
    },
    {
     "name": "stderr",
     "output_type": "stream",
     "text": [
      "Installing package into 'C:/Users/Courtney/Documents/R/win-library/3.6'\n",
      "(as 'lib' is unspecified)\n",
      "\n",
      "Warning message:\n",
      "\"package 'rcompanion' is not available (for R version 3.6.3)\"\n"
     ]
    }
   ],
   "source": [
    "install.packages('qtl') #Main package, for analysis\n",
    "install.packages('qtlcharts') #accessory, for displaying graphs\n",
    "install.packages('LinkageMapView') #accessory, for displaying linkage maps\n",
    "install.packages('rcompanion')# for plotNormalHistogram"
   ]
  },
  {
   "cell_type": "code",
   "execution_count": 2,
   "metadata": {},
   "outputs": [],
   "source": [
    "library(qtl) #load packages\n",
    "library(qtlcharts)\n",
    "library(LinkageMapView)\n",
    "library(rcompanion)"
   ]
  },
  {
   "cell_type": "code",
   "execution_count": 5,
   "metadata": {},
   "outputs": [
    {
     "name": "stdout",
     "output_type": "stream",
     "text": [
      "[1] \"Make sure to input names AS THEY APPEAR on the csv!!\"\n"
     ]
    },
    {
     "name": "stdin",
     "output_type": "stream",
     "text": [
      "Enter file name (Either FemaleMap.csv or MaleMap.csv):  Supplemental Table 1_Bhattarai_etal.csv\n",
      "First Genotype (homozygous) (For example ll):  ll\n",
      "Second Genotype (heterozygous) (for example lm):  lm\n",
      "Column Number:  3\n"
     ]
    }
   ],
   "source": [
    "#Collecting enviroment variables\n",
    "print(\"Make sure to input names AS THEY APPEAR on the csv!!\") #Just a user warning\n",
    "fileName <- readline(\"Enter file name (Either FemaleMap.csv or MaleMap.csv): \") #Mapping table file\n",
    "genotypeName <- c(readline(\"First Genotype (homozygous) (For example ll): \"),\n",
    "                  readline(\"Second Genotype (heterozygous) (for example lm): \")) #For example \"nn\", \"np\"\n",
    "alleleName <- c(substr(genotypeName[2],1,1) ,substr(genotypeName[2],2,2))\n",
    "naNames <- c(\"NA\",\"--\") #For example \"NA\", \"--\"\n",
    "colNum <- as.numeric(readline(\"Column Number: \")) #Column for pheno of interest, for this analysis it is \"NE\"--interveinal necrosis in NY 2019 due to carbaryl sensitivity."
   ]
  },
  {
   "cell_type": "code",
   "execution_count": 6,
   "metadata": {},
   "outputs": [
    {
     "name": "stdout",
     "output_type": "stream",
     "text": [
      " --Read the following data:\n",
      "\t 294  individuals\n",
      "\t 1177  markers\n",
      "\t 5  phenotypes\n"
     ]
    },
    {
     "name": "stderr",
     "output_type": "stream",
     "text": [
      "Warning message in summary.cross(cross):\n",
      "\"Some markers at the same position on chr 1,4,5,6,7,8,9,10,12,14,16,17,18,19; use jittermap().\"\n"
     ]
    },
    {
     "name": "stdout",
     "output_type": "stream",
     "text": [
      " --Cross type: bc \n"
     ]
    },
    {
     "data": {
      "image/png": "[encoded data removed]",
      "text/plain": [
       "Plot with title \"Genetic map\""
      ]
     },
     "metadata": {
      "image/png": {
       "height": 420,
       "width": 420
      },
      "text/plain": {
       "height": 420,
       "width": 420
      }
     },
     "output_type": "display_data"
    }
   ],
   "source": [
    "#Map generation\n",
    "Map <- read.cross(format = 'csv',file = fileName \n",
    "                  ,genotypes = genotypeName,\n",
    "                  alleles = alleleName,na.strings = naNames) #generate linkage map\n",
    "Map <- jittermap(Map) #make sure no markers are in the same location\n",
    "Map <- calc.genoprob(Map,step = 1,map.function = \"kosambi\") #associate markers with full genotypes\n",
    "plot.map(Map) #draw linkage map"
   ]
  },
  {
   "cell_type": "code",
   "execution_count": 4,
   "metadata": {},
   "outputs": [
    {
     "data": {
      "image/png": "[encoded data removed]",
      "text/plain": [
       "Plot with title \"\""
      ]
     },
     "metadata": {
      "image/png": {
       "height": 420,
       "width": 420
      },
      "text/plain": {
       "height": 420,
       "width": 420
      }
     },
     "output_type": "display_data"
    }
   ],
   "source": [
    "plotNormalHistogram(Map$pheno[,colNum]) #normal histogram of pheno of interest"
   ]
  },
  {
   "cell_type": "markdown",
   "metadata": {},
   "source": [
    "Outliers exist in this dataset. Will need to be analyized. "
   ]
  },
  {
   "cell_type": "code",
   "execution_count": 7,
   "metadata": {},
   "outputs": [
    {
     "data": {
      "text/plain": [
       "LOD thresholds (1000 permutations)\n",
       "   [,1]\n",
       "5% 4.31\n",
       "1% 5.39"
      ]
     },
     "metadata": {},
     "output_type": "display_data"
    },
    {
     "data": {
      "image/png": "[encoded data removed]",
      "text/plain": [
       "Plot with title \"\""
      ]
     },
     "metadata": {
      "image/png": {
       "height": 420,
       "width": 420
      },
      "text/plain": {
       "height": 420,
       "width": 420
      }
     },
     "output_type": "display_data"
    }
   ],
   "source": [
    "#Compute statistically significant values\n",
    "TraitCIM1000 <- cim(Map,pheno.col = colNum,method = \"hk\",\n",
    "                    map.function = \"kosambi\",n.perm = 1000) # Function will take a moment to run, determines LOD value\n",
    "plot(TraitCIM1000,col = 'green') #show distribution of lod scores\n",
    "summary(TraitCIM1000,alpha=c(.05,.01))"
   ]
  },
  {
   "cell_type": "code",
   "execution_count": 8,
   "metadata": {},
   "outputs": [
    {
     "name": "stdout",
     "output_type": "stream",
     "text": [
      "[1] \"If nothing shows up, the values \\n      are below the LOD5 score\"\n"
     ]
    },
    {
     "data": {
      "text/html": [
       "<table>\n",
       "<caption>A summary.scanone: 19 × 3</caption>\n",
       "<thead>\n",
       "\t<tr><th></th><th scope=col>chr</th><th scope=col>pos</th><th scope=col>lod</th></tr>\n",
       "\t<tr><th></th><th scope=col>&lt;fct&gt;</th><th scope=col>&lt;dbl&gt;</th><th scope=col>&lt;dbl&gt;</th></tr>\n",
       "</thead>\n",
       "<tbody>\n",
       "\t<tr><th scope=row>S1_19614222</th><td>1 </td><td>68.925033</td><td> 1.3638236</td></tr>\n",
       "\t<tr><th scope=row>S2_6114707</th><td>2 </td><td>40.486034</td><td> 1.7464190</td></tr>\n",
       "\t<tr><th scope=row>c3.loc43</th><td>3 </td><td>43.000000</td><td> 0.6365365</td></tr>\n",
       "\t<tr><th scope=row>c4.loc29</th><td>4 </td><td>29.000000</td><td> 0.7642214</td></tr>\n",
       "\t<tr><th scope=row>c5.loc27</th><td>5 </td><td>27.000000</td><td> 1.6021266</td></tr>\n",
       "\t<tr><th scope=row>c6.loc2</th><td>6 </td><td> 2.000000</td><td> 0.6284488</td></tr>\n",
       "\t<tr><th scope=row>S7_23670192</th><td>7 </td><td>77.852084</td><td> 1.3409078</td></tr>\n",
       "\t<tr><th scope=row>c8.loc6</th><td>8 </td><td> 6.000000</td><td> 1.4764910</td></tr>\n",
       "\t<tr><th scope=row>c9.loc30</th><td>9 </td><td>30.000000</td><td> 3.0680300</td></tr>\n",
       "\t<tr><th scope=row>S10_15467726</th><td>10</td><td>52.971043</td><td> 0.9979520</td></tr>\n",
       "\t<tr><th scope=row>S11_8491093</th><td>11</td><td>38.858017</td><td> 1.2842888</td></tr>\n",
       "\t<tr><th scope=row>c12.loc55</th><td>12</td><td>55.000000</td><td> 0.6855573</td></tr>\n",
       "\t<tr><th scope=row>S13_18442724</th><td>13</td><td>51.887034</td><td> 0.5725160</td></tr>\n",
       "\t<tr><th scope=row>c14.loc76</th><td>14</td><td>76.000000</td><td> 2.2355577</td></tr>\n",
       "\t<tr><th scope=row>S15_8116244</th><td>15</td><td> 7.769013</td><td> 2.2507694</td></tr>\n",
       "\t<tr><th scope=row>S16_13270028</th><td>16</td><td>18.320029</td><td>37.6269677</td></tr>\n",
       "\t<tr><th scope=row>c17.loc55</th><td>17</td><td>55.000000</td><td> 0.8266853</td></tr>\n",
       "\t<tr><th scope=row>c18.loc64</th><td>18</td><td>64.000000</td><td> 1.9873778</td></tr>\n",
       "\t<tr><th scope=row>S5_12974240</th><td>19</td><td>45.995053</td><td> 1.8053273</td></tr>\n",
       "</tbody>\n",
       "</table>\n"
      ],
      "text/latex": [
       "A summary.scanone: 19 × 3\n",
       "\\begin{tabular}{r|lll}\n",
       "  & chr & pos & lod\\\\\n",
       "  & <fct> & <dbl> & <dbl>\\\\\n",
       "\\hline\n",
       "\tS1\\_19614222 & 1  & 68.925033 &  1.3638236\\\\\n",
       "\tS2\\_6114707 & 2  & 40.486034 &  1.7464190\\\\\n",
       "\tc3.loc43 & 3  & 43.000000 &  0.6365365\\\\\n",
       "\tc4.loc29 & 4  & 29.000000 &  0.7642214\\\\\n",
       "\tc5.loc27 & 5  & 27.000000 &  1.6021266\\\\\n",
       "\tc6.loc2 & 6  &  2.000000 &  0.6284488\\\\\n",
       "\tS7\\_23670192 & 7  & 77.852084 &  1.3409078\\\\\n",
       "\tc8.loc6 & 8  &  6.000000 &  1.4764910\\\\\n",
       "\tc9.loc30 & 9  & 30.000000 &  3.0680300\\\\\n",
       "\tS10\\_15467726 & 10 & 52.971043 &  0.9979520\\\\\n",
       "\tS11\\_8491093 & 11 & 38.858017 &  1.2842888\\\\\n",
       "\tc12.loc55 & 12 & 55.000000 &  0.6855573\\\\\n",
       "\tS13\\_18442724 & 13 & 51.887034 &  0.5725160\\\\\n",
       "\tc14.loc76 & 14 & 76.000000 &  2.2355577\\\\\n",
       "\tS15\\_8116244 & 15 &  7.769013 &  2.2507694\\\\\n",
       "\tS16\\_13270028 & 16 & 18.320029 & 37.6269677\\\\\n",
       "\tc17.loc55 & 17 & 55.000000 &  0.8266853\\\\\n",
       "\tc18.loc64 & 18 & 64.000000 &  1.9873778\\\\\n",
       "\tS5\\_12974240 & 19 & 45.995053 &  1.8053273\\\\\n",
       "\\end{tabular}\n"
      ],
      "text/markdown": [
       "\n",
       "A summary.scanone: 19 × 3\n",
       "\n",
       "| <!--/--> | chr &lt;fct&gt; | pos &lt;dbl&gt; | lod &lt;dbl&gt; |\n",
       "|---|---|---|---|\n",
       "| S1_19614222 | 1  | 68.925033 |  1.3638236 |\n",
       "| S2_6114707 | 2  | 40.486034 |  1.7464190 |\n",
       "| c3.loc43 | 3  | 43.000000 |  0.6365365 |\n",
       "| c4.loc29 | 4  | 29.000000 |  0.7642214 |\n",
       "| c5.loc27 | 5  | 27.000000 |  1.6021266 |\n",
       "| c6.loc2 | 6  |  2.000000 |  0.6284488 |\n",
       "| S7_23670192 | 7  | 77.852084 |  1.3409078 |\n",
       "| c8.loc6 | 8  |  6.000000 |  1.4764910 |\n",
       "| c9.loc30 | 9  | 30.000000 |  3.0680300 |\n",
       "| S10_15467726 | 10 | 52.971043 |  0.9979520 |\n",
       "| S11_8491093 | 11 | 38.858017 |  1.2842888 |\n",
       "| c12.loc55 | 12 | 55.000000 |  0.6855573 |\n",
       "| S13_18442724 | 13 | 51.887034 |  0.5725160 |\n",
       "| c14.loc76 | 14 | 76.000000 |  2.2355577 |\n",
       "| S15_8116244 | 15 |  7.769013 |  2.2507694 |\n",
       "| S16_13270028 | 16 | 18.320029 | 37.6269677 |\n",
       "| c17.loc55 | 17 | 55.000000 |  0.8266853 |\n",
       "| c18.loc64 | 18 | 64.000000 |  1.9873778 |\n",
       "| S5_12974240 | 19 | 45.995053 |  1.8053273 |\n",
       "\n"
      ],
      "text/plain": [
       "             chr pos       lod       \n",
       "S1_19614222  1   68.925033  1.3638236\n",
       "S2_6114707   2   40.486034  1.7464190\n",
       "c3.loc43     3   43.000000  0.6365365\n",
       "c4.loc29     4   29.000000  0.7642214\n",
       "c5.loc27     5   27.000000  1.6021266\n",
       "c6.loc2      6    2.000000  0.6284488\n",
       "S7_23670192  7   77.852084  1.3409078\n",
       "c8.loc6      8    6.000000  1.4764910\n",
       "c9.loc30     9   30.000000  3.0680300\n",
       "S10_15467726 10  52.971043  0.9979520\n",
       "S11_8491093  11  38.858017  1.2842888\n",
       "c12.loc55    12  55.000000  0.6855573\n",
       "S13_18442724 13  51.887034  0.5725160\n",
       "c14.loc76    14  76.000000  2.2355577\n",
       "S15_8116244  15   7.769013  2.2507694\n",
       "S16_13270028 16  18.320029 37.6269677\n",
       "c17.loc55    17  55.000000  0.8266853\n",
       "c18.loc64    18  64.000000  1.9873778\n",
       "S5_12974240  19  45.995053  1.8053273"
      ]
     },
     "metadata": {},
     "output_type": "display_data"
    },
    {
     "data": {
      "image/png": "[encoded data removed]",
      "text/plain": [
       "plot without title"
      ]
     },
     "metadata": {
      "image/png": {
       "height": 420,
       "width": 420
      },
      "text/plain": {
       "height": 420,
       "width": 420
      }
     },
     "output_type": "display_data"
    }
   ],
   "source": [
    "#Deterime LOD Values\n",
    "LOD5 <- summary(TraitCIM1000,alpha=c(.05))\n",
    "TraitCIM<-cim(Map,pheno.col = colNum,method = \"hk\",\n",
    "              map.function = \"kosambi\") #Generate LOD Values\n",
    "plot(TraitCIM) #show LOD graph\n",
    "abline(h = LOD5,col = \"blue\") #overlay statistically significant line\n",
    "print(\"If nothing shows up, the values \n",
    "      are below the LOD5 score\") #warning for no peaks\n",
    "summary(TraitCIM)\n",
    "write.csv(TraitCIM,\"AssailScored_0or1_FemaleTable.csv\")"
   ]
  },
  {
   "cell_type": "code",
   "execution_count": 9,
   "metadata": {},
   "outputs": [
    {
     "name": "stdin",
     "output_type": "stream",
     "text": [
      "Chromosome?  16\n"
     ]
    },
    {
     "data": {
      "image/png": "[encoded data removed]",
      "text/plain": [
       "plot without title"
      ]
     },
     "metadata": {
      "image/png": {
       "height": 420,
       "width": 420
      },
      "text/plain": {
       "height": 420,
       "width": 420
      }
     },
     "output_type": "display_data"
    }
   ],
   "source": [
    "#Chromosomal Analysis\n",
    "chr <- as.numeric(readline(\"Chromosome? \")) #collect chromosome to look at\n",
    "plot(TraitCIM, chr = chr,xlab = c(\"chr\",chr)) #Plot chr LOD scores\n",
    "abline(h = LOD5, col = \"blue\") #Statistically Significant"
   ]
  },
  {
   "cell_type": "code",
   "execution_count": 10,
   "metadata": {},
   "outputs": [
    {
     "data": {
      "text/html": [
       "<table>\n",
       "<caption>A scanone: 3 × 3</caption>\n",
       "<thead>\n",
       "\t<tr><th></th><th scope=col>chr</th><th scope=col>pos</th><th scope=col>lod</th></tr>\n",
       "\t<tr><th></th><th scope=col>&lt;fct&gt;</th><th scope=col>&lt;dbl&gt;</th><th scope=col>&lt;dbl&gt;</th></tr>\n",
       "</thead>\n",
       "<tbody>\n",
       "\t<tr><th scope=row>S16_13270028</th><td>16</td><td>18.32003</td><td>37.62697</td></tr>\n",
       "\t<tr><th scope=row>S16_13270028 </th><td>16</td><td>18.32003</td><td>37.62697</td></tr>\n",
       "\t<tr><th scope=row>S16_12991446</th><td>16</td><td>18.41303</td><td>37.28105</td></tr>\n",
       "</tbody>\n",
       "</table>\n"
      ],
      "text/latex": [
       "A scanone: 3 × 3\n",
       "\\begin{tabular}{r|lll}\n",
       "  & chr & pos & lod\\\\\n",
       "  & <fct> & <dbl> & <dbl>\\\\\n",
       "\\hline\n",
       "\tS16\\_13270028 & 16 & 18.32003 & 37.62697\\\\\n",
       "\tS16\\_13270028  & 16 & 18.32003 & 37.62697\\\\\n",
       "\tS16\\_12991446 & 16 & 18.41303 & 37.28105\\\\\n",
       "\\end{tabular}\n"
      ],
      "text/markdown": [
       "\n",
       "A scanone: 3 × 3\n",
       "\n",
       "| <!--/--> | chr &lt;fct&gt; | pos &lt;dbl&gt; | lod &lt;dbl&gt; |\n",
       "|---|---|---|---|\n",
       "| S16_13270028 | 16 | 18.32003 | 37.62697 |\n",
       "| S16_13270028  | 16 | 18.32003 | 37.62697 |\n",
       "| S16_12991446 | 16 | 18.41303 | 37.28105 |\n",
       "\n"
      ],
      "text/plain": [
       "              chr pos      lod     \n",
       "S16_13270028  16  18.32003 37.62697\n",
       "S16_13270028  16  18.32003 37.62697\n",
       "S16_12991446  16  18.41303 37.28105"
      ]
     },
     "metadata": {},
     "output_type": "display_data"
    },
    {
     "data": {
      "text/html": [
       "<table>\n",
       "<caption>A scanone: 3 × 3</caption>\n",
       "<thead>\n",
       "\t<tr><th></th><th scope=col>chr</th><th scope=col>pos</th><th scope=col>lod</th></tr>\n",
       "\t<tr><th></th><th scope=col>&lt;fct&gt;</th><th scope=col>&lt;dbl&gt;</th><th scope=col>&lt;dbl&gt;</th></tr>\n",
       "</thead>\n",
       "<tbody>\n",
       "\t<tr><th scope=row>S16_8826314</th><td>16</td><td>17.65503</td><td>13.42772</td></tr>\n",
       "\t<tr><th scope=row>S16_13270028</th><td>16</td><td>18.32003</td><td>37.62697</td></tr>\n",
       "\t<tr><th scope=row>S16_12991399</th><td>16</td><td>18.57903</td><td>33.48465</td></tr>\n",
       "</tbody>\n",
       "</table>\n"
      ],
      "text/latex": [
       "A scanone: 3 × 3\n",
       "\\begin{tabular}{r|lll}\n",
       "  & chr & pos & lod\\\\\n",
       "  & <fct> & <dbl> & <dbl>\\\\\n",
       "\\hline\n",
       "\tS16\\_8826314 & 16 & 17.65503 & 13.42772\\\\\n",
       "\tS16\\_13270028 & 16 & 18.32003 & 37.62697\\\\\n",
       "\tS16\\_12991399 & 16 & 18.57903 & 33.48465\\\\\n",
       "\\end{tabular}\n"
      ],
      "text/markdown": [
       "\n",
       "A scanone: 3 × 3\n",
       "\n",
       "| <!--/--> | chr &lt;fct&gt; | pos &lt;dbl&gt; | lod &lt;dbl&gt; |\n",
       "|---|---|---|---|\n",
       "| S16_8826314 | 16 | 17.65503 | 13.42772 |\n",
       "| S16_13270028 | 16 | 18.32003 | 37.62697 |\n",
       "| S16_12991399 | 16 | 18.57903 | 33.48465 |\n",
       "\n"
      ],
      "text/plain": [
       "             chr pos      lod     \n",
       "S16_8826314  16  17.65503 13.42772\n",
       "S16_13270028 16  18.32003 37.62697\n",
       "S16_12991399 16  18.57903 33.48465"
      ]
     },
     "metadata": {},
     "output_type": "display_data"
    }
   ],
   "source": [
    "bayesint(TraitCIM, chr = chr, prob=0.95, expandtomarkers=TRUE) #calculate bayesian interval\n",
    "lodint(TraitCIM, chr = chr,expandtomarkers = TRUE ) #calculate LOD Support interval"
   ]
  },
  {
   "cell_type": "code",
   "execution_count": 11,
   "metadata": {},
   "outputs": [
    {
     "name": "stdin",
     "output_type": "stream",
     "text": [
      "Position for analysis:  18.32003\n"
     ]
    },
    {
     "name": "stderr",
     "output_type": "stream",
     "text": [
      "Warning message in fitqtlengine(pheno = pheno, qtl = qtl, covar = covar, formula = formula, :\n",
      "\"Dropping 124 individuals with missing phenotypes.\n",
      "\"\n"
     ]
    },
    {
     "data": {
      "text/plain": [
       "\n",
       "\t\tfitqtl summary\n",
       "\n",
       "Method: Haley-Knott regression \n",
       "Model:  normal phenotype\n",
       "Number of observations : 170 \n",
       "\n",
       "Full model result\n",
       "----------------------------------  \n",
       "Model formula: y ~ Q1 \n",
       "\n",
       "       df       SS          MS      LOD     %var Pvalue(Chi2) Pvalue(F)\n",
       "Model   1 28.95741 28.95740514 42.26215 68.17281            0         0\n",
       "Error 168 13.51907  0.08047063                                         \n",
       "Total 169 42.47647                                                     \n",
       "\n",
       "\n",
       "Estimated effects:\n",
       "-----------------\n",
       "               est       SE      t\n",
       "Intercept  0.50047  0.02176  23.00\n",
       "16@18.3   -0.84002  0.04428 -18.97\n"
      ]
     },
     "metadata": {},
     "output_type": "display_data"
    }
   ],
   "source": [
    "p <- as.numeric(readline(\"Position for analysis: \"))\n",
    "qtl <- makeqtl(Map, chr = chr, pos = p, what=\"prob\") #pulls genotype probabilities\n",
    "fitqtl <- fitqtl(Map, pheno.col=colNum, qtl = qtl, covar=NULL,\n",
    "       method= \"hk\",model=\"normal\",\n",
    "       dropone=TRUE, get.ests=TRUE,run.checks=TRUE,\n",
    "       tol=1e-4, maxit=1000, forceXcovar=FALSE) #sees how well our data fits a given formula \n",
    "          # If you see \"error: object of type 'closure' is not subsettable\", remove \"formula,\" from the fitqtl argument list.\n",
    "summary(fitqtl) #Print results of the analysis"
   ]
  },
  {
   "cell_type": "code",
   "execution_count": 12,
   "metadata": {},
   "outputs": [
    {
     "name": "stdout",
     "output_type": "stream",
     "text": [
      "[1] \"Make sure to input names AS THEY APPEAR on the csv!!\"\n"
     ]
    },
    {
     "name": "stdin",
     "output_type": "stream",
     "text": [
      "Enter file name (Either FemaleMap.csv or MaleMap.csv):  SupplementalTable_2.xlsx - Vitis riparia map.csv\n",
      "First Genotype (homozygous) (For example ll):  nn\n",
      "Second Genotype (heterozygous) (for example lm):  np\n",
      "Column Number:  2\n"
     ]
    }
   ],
   "source": [
    "#Collecting enviroment variables\n",
    "print(\"Make sure to input names AS THEY APPEAR on the csv!!\") #Just a user warning\n",
    "fileName <- readline(\"Enter file name (Either FemaleMap.csv or MaleMap.csv): \") #Mapping table file\n",
    "genotypeName <- c(readline(\"First Genotype (homozygous) (For example ll): \"),\n",
    "                  readline(\"Second Genotype (heterozygous) (for example lm): \")) #For example \"nn\", \"np\"\n",
    "alleleName <- c(substr(genotypeName[2],1,1) ,substr(genotypeName[2],2,2))\n",
    "naNames <- c(\"NA\",\"--\") #For example \"NA\", \"--\"\n",
    "colNum <- as.numeric(readline(\"Column Number: \")) #Column for pheno of interest, for this analysis it is Sex (flower phenotypes collected by Gaurab at Darr)"
   ]
  },
  {
   "cell_type": "code",
   "execution_count": 13,
   "metadata": {},
   "outputs": [
    {
     "name": "stdout",
     "output_type": "stream",
     "text": [
      " --Read the following data:\n",
      "\t 294  individuals\n",
      "\t 1115  markers\n",
      "\t 5  phenotypes\n"
     ]
    },
    {
     "name": "stderr",
     "output_type": "stream",
     "text": [
      "Warning message in summary.cross(cross):\n",
      "\"Some markers at the same position on chr 1,4,5,7,8,9,10,12,14,15,16,17; use jittermap().\"\n"
     ]
    },
    {
     "name": "stdout",
     "output_type": "stream",
     "text": [
      " --Cross type: bc \n"
     ]
    },
    {
     "data": {
      "image/png": "[encoded data removed]",
      "text/plain": [
       "Plot with title \"Genetic map\""
      ]
     },
     "metadata": {
      "image/png": {
       "height": 420,
       "width": 420
      },
      "text/plain": {
       "height": 420,
       "width": 420
      }
     },
     "output_type": "display_data"
    }
   ],
   "source": [
    "#Map generation\n",
    "Map <- read.cross(format = 'csv',file = fileName \n",
    "                  ,genotypes = genotypeName,\n",
    "                  alleles = alleleName,na.strings = naNames) #generate linkage map\n",
    "Map <- jittermap(Map) #make sure no markers are in the same location\n",
    "Map <- calc.genoprob(Map,step = 1,map.function = \"kosambi\") #associate markers with full genotypes\n",
    "plot.map(Map) #draw linkage map"
   ]
  },
  {
   "cell_type": "code",
   "execution_count": 14,
   "metadata": {},
   "outputs": [
    {
     "data": {
      "image/png": "[encoded data removed]",
      "text/plain": [
       "Plot with title \"\""
      ]
     },
     "metadata": {
      "image/png": {
       "height": 420,
       "width": 420
      },
      "text/plain": {
       "height": 420,
       "width": 420
      }
     },
     "output_type": "display_data"
    }
   ],
   "source": [
    "plotNormalHistogram(Map$pheno[,colNum]) #normal histogram of pheno of interest"
   ]
  },
  {
   "cell_type": "markdown",
   "metadata": {},
   "source": [
    "Outliers exist in this data. "
   ]
  },
  {
   "cell_type": "code",
   "execution_count": 15,
   "metadata": {},
   "outputs": [
    {
     "data": {
      "text/plain": [
       "LOD thresholds (1000 permutations)\n",
       "   [,1]\n",
       "5% 4.16\n",
       "1% 4.82"
      ]
     },
     "metadata": {},
     "output_type": "display_data"
    },
    {
     "data": {
      "image/png": "[encoded data removed]",
      "text/plain": [
       "Plot with title \"\""
      ]
     },
     "metadata": {
      "image/png": {
       "height": 420,
       "width": 420
      },
      "text/plain": {
       "height": 420,
       "width": 420
      }
     },
     "output_type": "display_data"
    }
   ],
   "source": [
    "#Compute statistically significant values\n",
    "TraitCIM1000 <- cim(Map,pheno.col = colNum,method = \"hk\",\n",
    "                    map.function = \"kosambi\",n.perm = 1000) # Function will take a moment to run, determines LOD value\n",
    "plot(TraitCIM1000,col = 'green') #show distribution of lod scores\n",
    "summary(TraitCIM1000,alpha=c(.05,.01))"
   ]
  },
  {
   "cell_type": "code",
   "execution_count": 16,
   "metadata": {},
   "outputs": [
    {
     "name": "stdout",
     "output_type": "stream",
     "text": [
      "[1] \"If nothing shows up, the values \\n      are below the LOD5 score\"\n"
     ]
    },
    {
     "data": {
      "text/html": [
       "<table>\n",
       "<caption>A summary.scanone: 19 × 3</caption>\n",
       "<thead>\n",
       "\t<tr><th></th><th scope=col>chr</th><th scope=col>pos</th><th scope=col>lod</th></tr>\n",
       "\t<tr><th></th><th scope=col>&lt;fct&gt;</th><th scope=col>&lt;dbl&gt;</th><th scope=col>&lt;dbl&gt;</th></tr>\n",
       "</thead>\n",
       "<tbody>\n",
       "\t<tr><th scope=row>c1.loc26</th><td>1 </td><td> 26.000000</td><td> 0.4762771</td></tr>\n",
       "\t<tr><th scope=row>S2_4272907</th><td>2 </td><td> 20.344009</td><td>36.2350451</td></tr>\n",
       "\t<tr><th scope=row>c3.loc68</th><td>3 </td><td> 68.000000</td><td> 0.5998743</td></tr>\n",
       "\t<tr><th scope=row>S4_701098</th><td>4 </td><td>  0.587001</td><td> 1.1902822</td></tr>\n",
       "\t<tr><th scope=row>S5_21614916</th><td>5 </td><td> 72.393043</td><td> 1.1155159</td></tr>\n",
       "\t<tr><th scope=row>c6.loc37</th><td>6 </td><td> 37.000000</td><td> 2.0481794</td></tr>\n",
       "\t<tr><th scope=row>c7.loc110</th><td>7 </td><td>110.000000</td><td> 0.8750979</td></tr>\n",
       "\t<tr><th scope=row>c8.loc82</th><td>8 </td><td> 82.000000</td><td> 1.5697938</td></tr>\n",
       "\t<tr><th scope=row>c9.loc39</th><td>9 </td><td> 39.000000</td><td> 1.5148519</td></tr>\n",
       "\t<tr><th scope=row>S10_12220756</th><td>10</td><td> 59.010021</td><td> 0.6785957</td></tr>\n",
       "\t<tr><th scope=row>c11.loc15</th><td>11</td><td> 15.000000</td><td> 1.4910161</td></tr>\n",
       "\t<tr><th scope=row>c12.loc18</th><td>12</td><td> 18.000000</td><td> 1.0562946</td></tr>\n",
       "\t<tr><th scope=row>c13.loc84</th><td>13</td><td> 84.000000</td><td> 0.8589124</td></tr>\n",
       "\t<tr><th scope=row>c14.loc19</th><td>14</td><td> 19.000000</td><td> 0.8711007</td></tr>\n",
       "\t<tr><th scope=row>c15.loc52</th><td>15</td><td> 52.000000</td><td> 1.5396320</td></tr>\n",
       "\t<tr><th scope=row>c16.loc4</th><td>16</td><td>  4.000000</td><td> 0.4990192</td></tr>\n",
       "\t<tr><th scope=row>S17_427922</th><td>17</td><td>  2.083001</td><td> 1.0367955</td></tr>\n",
       "\t<tr><th scope=row>c18.loc102</th><td>18</td><td>102.000000</td><td> 2.2739505</td></tr>\n",
       "\t<tr><th scope=row>c19.loc4</th><td>19</td><td>  4.000000</td><td> 1.3434800</td></tr>\n",
       "</tbody>\n",
       "</table>\n"
      ],
      "text/latex": [
       "A summary.scanone: 19 × 3\n",
       "\\begin{tabular}{r|lll}\n",
       "  & chr & pos & lod\\\\\n",
       "  & <fct> & <dbl> & <dbl>\\\\\n",
       "\\hline\n",
       "\tc1.loc26 & 1  &  26.000000 &  0.4762771\\\\\n",
       "\tS2\\_4272907 & 2  &  20.344009 & 36.2350451\\\\\n",
       "\tc3.loc68 & 3  &  68.000000 &  0.5998743\\\\\n",
       "\tS4\\_701098 & 4  &   0.587001 &  1.1902822\\\\\n",
       "\tS5\\_21614916 & 5  &  72.393043 &  1.1155159\\\\\n",
       "\tc6.loc37 & 6  &  37.000000 &  2.0481794\\\\\n",
       "\tc7.loc110 & 7  & 110.000000 &  0.8750979\\\\\n",
       "\tc8.loc82 & 8  &  82.000000 &  1.5697938\\\\\n",
       "\tc9.loc39 & 9  &  39.000000 &  1.5148519\\\\\n",
       "\tS10\\_12220756 & 10 &  59.010021 &  0.6785957\\\\\n",
       "\tc11.loc15 & 11 &  15.000000 &  1.4910161\\\\\n",
       "\tc12.loc18 & 12 &  18.000000 &  1.0562946\\\\\n",
       "\tc13.loc84 & 13 &  84.000000 &  0.8589124\\\\\n",
       "\tc14.loc19 & 14 &  19.000000 &  0.8711007\\\\\n",
       "\tc15.loc52 & 15 &  52.000000 &  1.5396320\\\\\n",
       "\tc16.loc4 & 16 &   4.000000 &  0.4990192\\\\\n",
       "\tS17\\_427922 & 17 &   2.083001 &  1.0367955\\\\\n",
       "\tc18.loc102 & 18 & 102.000000 &  2.2739505\\\\\n",
       "\tc19.loc4 & 19 &   4.000000 &  1.3434800\\\\\n",
       "\\end{tabular}\n"
      ],
      "text/markdown": [
       "\n",
       "A summary.scanone: 19 × 3\n",
       "\n",
       "| <!--/--> | chr &lt;fct&gt; | pos &lt;dbl&gt; | lod &lt;dbl&gt; |\n",
       "|---|---|---|---|\n",
       "| c1.loc26 | 1  |  26.000000 |  0.4762771 |\n",
       "| S2_4272907 | 2  |  20.344009 | 36.2350451 |\n",
       "| c3.loc68 | 3  |  68.000000 |  0.5998743 |\n",
       "| S4_701098 | 4  |   0.587001 |  1.1902822 |\n",
       "| S5_21614916 | 5  |  72.393043 |  1.1155159 |\n",
       "| c6.loc37 | 6  |  37.000000 |  2.0481794 |\n",
       "| c7.loc110 | 7  | 110.000000 |  0.8750979 |\n",
       "| c8.loc82 | 8  |  82.000000 |  1.5697938 |\n",
       "| c9.loc39 | 9  |  39.000000 |  1.5148519 |\n",
       "| S10_12220756 | 10 |  59.010021 |  0.6785957 |\n",
       "| c11.loc15 | 11 |  15.000000 |  1.4910161 |\n",
       "| c12.loc18 | 12 |  18.000000 |  1.0562946 |\n",
       "| c13.loc84 | 13 |  84.000000 |  0.8589124 |\n",
       "| c14.loc19 | 14 |  19.000000 |  0.8711007 |\n",
       "| c15.loc52 | 15 |  52.000000 |  1.5396320 |\n",
       "| c16.loc4 | 16 |   4.000000 |  0.4990192 |\n",
       "| S17_427922 | 17 |   2.083001 |  1.0367955 |\n",
       "| c18.loc102 | 18 | 102.000000 |  2.2739505 |\n",
       "| c19.loc4 | 19 |   4.000000 |  1.3434800 |\n",
       "\n"
      ],
      "text/plain": [
       "             chr pos        lod       \n",
       "c1.loc26     1    26.000000  0.4762771\n",
       "S2_4272907   2    20.344009 36.2350451\n",
       "c3.loc68     3    68.000000  0.5998743\n",
       "S4_701098    4     0.587001  1.1902822\n",
       "S5_21614916  5    72.393043  1.1155159\n",
       "c6.loc37     6    37.000000  2.0481794\n",
       "c7.loc110    7   110.000000  0.8750979\n",
       "c8.loc82     8    82.000000  1.5697938\n",
       "c9.loc39     9    39.000000  1.5148519\n",
       "S10_12220756 10   59.010021  0.6785957\n",
       "c11.loc15    11   15.000000  1.4910161\n",
       "c12.loc18    12   18.000000  1.0562946\n",
       "c13.loc84    13   84.000000  0.8589124\n",
       "c14.loc19    14   19.000000  0.8711007\n",
       "c15.loc52    15   52.000000  1.5396320\n",
       "c16.loc4     16    4.000000  0.4990192\n",
       "S17_427922   17    2.083001  1.0367955\n",
       "c18.loc102   18  102.000000  2.2739505\n",
       "c19.loc4     19    4.000000  1.3434800"
      ]
     },
     "metadata": {},
     "output_type": "display_data"
    },
    {
     "data": {
      "image/png": "[encoded data removed]",
      "text/plain": [
       "plot without title"
      ]
     },
     "metadata": {
      "image/png": {
       "height": 420,
       "width": 420
      },
      "text/plain": {
       "height": 420,
       "width": 420
      }
     },
     "output_type": "display_data"
    }
   ],
   "source": [
    "#Deterime LOD Values\n",
    "TraitCIM<-cim(Map,pheno.col = colNum,method = \"hk\",\n",
    "              map.function = \"kosambi\") #Generate LOD Values\n",
    "plot(TraitCIM) #show LOD graph\n",
    "abline(h = LOD5,col = \"blue\") #overlay statistically significant line\n",
    "print(\"If nothing shows up, the values \n",
    "      are below the LOD5 score\") #warning for no peaks\n",
    "summary(TraitCIM)\n",
    "write.csv(TraitCIM,\"AssailScored_0or1_MaleTable.csv\")"
   ]
  },
  {
   "cell_type": "code",
   "execution_count": 17,
   "metadata": {},
   "outputs": [
    {
     "name": "stdin",
     "output_type": "stream",
     "text": [
      "Chromosome?  2\n"
     ]
    },
    {
     "data": {
      "image/png": "[encoded data removed]",
      "text/plain": [
       "plot without title"
      ]
     },
     "metadata": {
      "image/png": {
       "height": 420,
       "width": 420
      },
      "text/plain": {
       "height": 420,
       "width": 420
      }
     },
     "output_type": "display_data"
    }
   ],
   "source": [
    "#Chromosomal Analysis\n",
    "chr <- as.numeric(readline(\"Chromosome? \")) #collect chromosome to look at\n",
    "plot(TraitCIM, chr = chr,xlab = c(\"chr\",chr)) #Plot chr LOD scores\n",
    "abline(h = LOD5, col = \"blue\") #Statistically Significant"
   ]
  },
  {
   "cell_type": "code",
   "execution_count": 18,
   "metadata": {},
   "outputs": [
    {
     "data": {
      "text/html": [
       "<table>\n",
       "<caption>A scanone: 3 × 3</caption>\n",
       "<thead>\n",
       "\t<tr><th></th><th scope=col>chr</th><th scope=col>pos</th><th scope=col>lod</th></tr>\n",
       "\t<tr><th></th><th scope=col>&lt;fct&gt;</th><th scope=col>&lt;dbl&gt;</th><th scope=col>&lt;dbl&gt;</th></tr>\n",
       "</thead>\n",
       "<tbody>\n",
       "\t<tr><th scope=row>S2_4272907</th><td>2</td><td>20.34401</td><td>36.23505</td></tr>\n",
       "\t<tr><th scope=row>S2_4272907 </th><td>2</td><td>20.34401</td><td>36.23505</td></tr>\n",
       "\t<tr><th scope=row>S2_4272907  </th><td>2</td><td>20.34401</td><td>36.23505</td></tr>\n",
       "</tbody>\n",
       "</table>\n"
      ],
      "text/latex": [
       "A scanone: 3 × 3\n",
       "\\begin{tabular}{r|lll}\n",
       "  & chr & pos & lod\\\\\n",
       "  & <fct> & <dbl> & <dbl>\\\\\n",
       "\\hline\n",
       "\tS2\\_4272907 & 2 & 20.34401 & 36.23505\\\\\n",
       "\tS2\\_4272907  & 2 & 20.34401 & 36.23505\\\\\n",
       "\tS2\\_4272907   & 2 & 20.34401 & 36.23505\\\\\n",
       "\\end{tabular}\n"
      ],
      "text/markdown": [
       "\n",
       "A scanone: 3 × 3\n",
       "\n",
       "| <!--/--> | chr &lt;fct&gt; | pos &lt;dbl&gt; | lod &lt;dbl&gt; |\n",
       "|---|---|---|---|\n",
       "| S2_4272907 | 2 | 20.34401 | 36.23505 |\n",
       "| S2_4272907  | 2 | 20.34401 | 36.23505 |\n",
       "| S2_4272907   | 2 | 20.34401 | 36.23505 |\n",
       "\n"
      ],
      "text/plain": [
       "             chr pos      lod     \n",
       "S2_4272907   2   20.34401 36.23505\n",
       "S2_4272907   2   20.34401 36.23505\n",
       "S2_4272907   2   20.34401 36.23505"
      ]
     },
     "metadata": {},
     "output_type": "display_data"
    },
    {
     "data": {
      "text/html": [
       "<table>\n",
       "<caption>A scanone: 3 × 3</caption>\n",
       "<thead>\n",
       "\t<tr><th></th><th scope=col>chr</th><th scope=col>pos</th><th scope=col>lod</th></tr>\n",
       "\t<tr><th></th><th scope=col>&lt;fct&gt;</th><th scope=col>&lt;dbl&gt;</th><th scope=col>&lt;dbl&gt;</th></tr>\n",
       "</thead>\n",
       "<tbody>\n",
       "\t<tr><th scope=row>S2_4272908</th><td>2</td><td>20.06101</td><td>30.691910</td></tr>\n",
       "\t<tr><th scope=row>S2_4272907</th><td>2</td><td>20.34401</td><td>36.235045</td></tr>\n",
       "\t<tr><th scope=row>S2_4599939</th><td>2</td><td>22.25001</td><td> 7.986494</td></tr>\n",
       "</tbody>\n",
       "</table>\n"
      ],
      "text/latex": [
       "A scanone: 3 × 3\n",
       "\\begin{tabular}{r|lll}\n",
       "  & chr & pos & lod\\\\\n",
       "  & <fct> & <dbl> & <dbl>\\\\\n",
       "\\hline\n",
       "\tS2\\_4272908 & 2 & 20.06101 & 30.691910\\\\\n",
       "\tS2\\_4272907 & 2 & 20.34401 & 36.235045\\\\\n",
       "\tS2\\_4599939 & 2 & 22.25001 &  7.986494\\\\\n",
       "\\end{tabular}\n"
      ],
      "text/markdown": [
       "\n",
       "A scanone: 3 × 3\n",
       "\n",
       "| <!--/--> | chr &lt;fct&gt; | pos &lt;dbl&gt; | lod &lt;dbl&gt; |\n",
       "|---|---|---|---|\n",
       "| S2_4272908 | 2 | 20.06101 | 30.691910 |\n",
       "| S2_4272907 | 2 | 20.34401 | 36.235045 |\n",
       "| S2_4599939 | 2 | 22.25001 |  7.986494 |\n",
       "\n"
      ],
      "text/plain": [
       "           chr pos      lod      \n",
       "S2_4272908 2   20.06101 30.691910\n",
       "S2_4272907 2   20.34401 36.235045\n",
       "S2_4599939 2   22.25001  7.986494"
      ]
     },
     "metadata": {},
     "output_type": "display_data"
    }
   ],
   "source": [
    "bayesint(TraitCIM, chr = chr, prob=0.95, expandtomarkers=TRUE) #calculate bayesian interval\n",
    "lodint(TraitCIM, chr = chr,expandtomarkers = TRUE ) #calculate LOD Support interval"
   ]
  },
  {
   "cell_type": "code",
   "execution_count": 20,
   "metadata": {},
   "outputs": [
    {
     "name": "stdin",
     "output_type": "stream",
     "text": [
      "Position for analysis:  20.34401\n"
     ]
    },
    {
     "name": "stderr",
     "output_type": "stream",
     "text": [
      "Warning message in getsex(cross):\n",
      "\"125 individuals with missing sex; assuming they're female\"\n",
      "Warning message in fitqtlengine(pheno = pheno, qtl = qtl, covar = covar, formula = formula, :\n",
      "\"Dropping 125 individuals with missing phenotypes.\n",
      "\"\n",
      "Warning message in getsex(cross):\n",
      "\"125 individuals with missing sex; assuming they're female\"\n"
     ]
    },
    {
     "data": {
      "text/plain": [
       "\n",
       "\t\tfitqtl summary\n",
       "\n",
       "Method: Haley-Knott regression \n",
       "Model:  normal phenotype\n",
       "Number of observations : 169 \n",
       "\n",
       "Full model result\n",
       "----------------------------------  \n",
       "Model formula: y ~ Q1 \n",
       "\n",
       "       df       SS          MS      LOD     %var Pvalue(Chi2) Pvalue(F)\n",
       "Model   1 28.41658 28.41657510 40.97644 67.26052            0         0\n",
       "Error 167 13.83195  0.08282602                                         \n",
       "Total 168 42.24852                                                     \n",
       "\n",
       "\n",
       "Estimated effects:\n",
       "-----------------\n",
       "               est       SE      t\n",
       "Intercept  0.47681  0.02217  21.51\n",
       "2@20.3    -1.12587  0.06078 -18.52\n"
      ]
     },
     "metadata": {},
     "output_type": "display_data"
    }
   ],
   "source": [
    "p <- as.numeric(readline(\"Position for analysis: \"))\n",
    "qtl <- makeqtl(Map, chr = chr, pos = p, what=\"prob\") #pulls genotype probabilities\n",
    "fitqtl <- fitqtl(Map, pheno.col=colNum, qtl = qtl, covar=NULL,\n",
    "       method= \"hk\",model=\"normal\",\n",
    "       dropone=TRUE, get.ests=TRUE,run.checks=TRUE,\n",
    "       tol=1e-4, maxit=1000, forceXcovar=FALSE) #sees how well our data fits a given formula \n",
    "          # If you see \"error: object of type 'closure' is not subsettable\", remove \"formula,\" from the fitqtl argument list.\n",
    "summary(fitqtl) #Print results of the analysis"
   ]
  },
  {
   "cell_type": "code",
   "execution_count": null,
   "metadata": {},
   "outputs": [],
   "source": []
  }
 ],
 "metadata": {
  "kernelspec": {
   "display_name": "R",
   "language": "R",
   "name": "ir"
  },
  "language_info": {
   "codemirror_mode": "r",
   "file_extension": ".r",
   "mimetype": "text/x-r-source",
   "name": "R",
   "pygments_lexer": "r",
   "version": "3.6.3"
  }
 },
 "nbformat": 4,
 "nbformat_minor": 4
}
