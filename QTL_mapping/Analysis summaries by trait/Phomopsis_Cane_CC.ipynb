{
 "cells": [
  {
   "cell_type": "markdown",
   "metadata": {},
   "source": [
    "This analysis is in the order of Female then Male"
   ]
  },
  {
   "cell_type": "code",
   "execution_count": 1,
   "metadata": {},
   "outputs": [
    {
     "name": "stderr",
     "output_type": "stream",
     "text": [
      "Installing package into 'C:/Users/Courtney/Documents/R/win-library/3.6'\n",
      "(as 'lib' is unspecified)\n",
      "\n"
     ]
    },
    {
     "name": "stdout",
     "output_type": "stream",
     "text": [
      "package 'qtl' successfully unpacked and MD5 sums checked\n"
     ]
    },
    {
     "name": "stderr",
     "output_type": "stream",
     "text": [
      "Warning message:\n",
      "\"cannot remove prior installation of package 'qtl'\"\n",
      "Warning message in file.copy(savedcopy, lib, recursive = TRUE):\n",
      "\"problem copying C:\\Users\\Courtney\\Documents\\R\\win-library\\3.6\\00LOCK\\qtl\\libs\\x64\\qtl.dll to C:\\Users\\Courtney\\Documents\\R\\win-library\\3.6\\qtl\\libs\\x64\\qtl.dll: Permission denied\"\n",
      "Warning message:\n",
      "\"restored 'qtl'\"\n"
     ]
    },
    {
     "name": "stdout",
     "output_type": "stream",
     "text": [
      "\n",
      "The downloaded binary packages are in\n",
      "\tC:\\Users\\Courtney\\AppData\\Local\\Temp\\RtmpMXCMBr\\downloaded_packages\n"
     ]
    },
    {
     "name": "stderr",
     "output_type": "stream",
     "text": [
      "Installing package into 'C:/Users/Courtney/Documents/R/win-library/3.6'\n",
      "(as 'lib' is unspecified)\n",
      "\n"
     ]
    },
    {
     "name": "stdout",
     "output_type": "stream",
     "text": [
      "package 'qtlcharts' successfully unpacked and MD5 sums checked\n",
      "\n",
      "The downloaded binary packages are in\n",
      "\tC:\\Users\\Courtney\\AppData\\Local\\Temp\\RtmpMXCMBr\\downloaded_packages\n"
     ]
    },
    {
     "name": "stderr",
     "output_type": "stream",
     "text": [
      "Installing package into 'C:/Users/Courtney/Documents/R/win-library/3.6'\n",
      "(as 'lib' is unspecified)\n",
      "\n"
     ]
    },
    {
     "name": "stdout",
     "output_type": "stream",
     "text": [
      "package 'LinkageMapView' successfully unpacked and MD5 sums checked\n",
      "\n",
      "The downloaded binary packages are in\n",
      "\tC:\\Users\\Courtney\\AppData\\Local\\Temp\\RtmpMXCMBr\\downloaded_packages\n"
     ]
    },
    {
     "name": "stderr",
     "output_type": "stream",
     "text": [
      "Installing package into 'C:/Users/Courtney/Documents/R/win-library/3.6'\n",
      "(as 'lib' is unspecified)\n",
      "\n"
     ]
    },
    {
     "name": "stdout",
     "output_type": "stream",
     "text": [
      "package 'rcompanion' successfully unpacked and MD5 sums checked\n",
      "\n",
      "The downloaded binary packages are in\n",
      "\tC:\\Users\\Courtney\\AppData\\Local\\Temp\\RtmpMXCMBr\\downloaded_packages\n"
     ]
    }
   ],
   "source": [
    "install.packages('qtl') #Main package, for analysis\n",
    "install.packages('qtlcharts') #accessory, for displaying graphs\n",
    "install.packages('LinkageMapView') #accessory, for displaying linkage maps\n",
    "install.packages('rcompanion')# for plotNormalHistogram"
   ]
  },
  {
   "cell_type": "code",
   "execution_count": 2,
   "metadata": {},
   "outputs": [],
   "source": [
    "library(qtl) #load packages\n",
    "library(qtlcharts)\n",
    "library(LinkageMapView)\n",
    "library(rcompanion)"
   ]
  },
  {
   "cell_type": "code",
   "execution_count": 3,
   "metadata": {},
   "outputs": [
    {
     "name": "stdout",
     "output_type": "stream",
     "text": [
      "[1] \"Make sure to input names AS THEY APPEAR on the csv!!\"\n"
     ]
    },
    {
     "name": "stdin",
     "output_type": "stream",
     "text": [
      "Enter file name (Either FemaleMap.csv or MaleMap.csv):  FemaleMap.csv\n",
      "First Genotype (homozygous) (For example ll):  ll\n",
      "Second Genotype (heterozygous) (for example lm):  lm\n",
      "Column Number:  41\n"
     ]
    }
   ],
   "source": [
    "#Collecting enviroment variables\n",
    "print(\"Make sure to input names AS THEY APPEAR on the csv!!\") #Just a user warning\n",
    "fileName <- readline(\"Enter file name (Either FemaleMap.csv or MaleMap.csv): \") #Mapping table file\n",
    "genotypeName <- c(readline(\"First Genotype (homozygous) (For example ll): \"),\n",
    "                  readline(\"Second Genotype (heterozygous) (for example lm): \")) #For example \"nn\", \"np\"\n",
    "alleleName <- c(substr(genotypeName[2],1,1) ,substr(genotypeName[2],2,2))\n",
    "naNames <- c(\"NA\",\"--\") #For example \"NA\", \"--\"\n",
    "colNum <- as.numeric(readline(\"Column Number: \")) #Column for pheno of interest"
   ]
  },
  {
   "cell_type": "code",
   "execution_count": 4,
   "metadata": {},
   "outputs": [
    {
     "name": "stdout",
     "output_type": "stream",
     "text": [
      " --Read the following data:\n",
      "\t 294  individuals\n",
      "\t 1100  markers\n",
      "\t 44  phenotypes\n"
     ]
    },
    {
     "name": "stderr",
     "output_type": "stream",
     "text": [
      "Warning message in summary.cross(cross):\n",
      "\"Some markers at the same position on chr 1,2,4,5,7,8,9,10,11,12,13,14,16,17,18,19; use jittermap().\"\n"
     ]
    },
    {
     "name": "stdout",
     "output_type": "stream",
     "text": [
      " --Cross type: bc \n"
     ]
    },
    {
     "data": {
      "image/png": "[encoded data removed]",
      "text/plain": [
       "Plot with title \"Genetic map\""
      ]
     },
     "metadata": {
      "image/png": {
       "height": 420,
       "width": 420
      },
      "text/plain": {
       "height": 420,
       "width": 420
      }
     },
     "output_type": "display_data"
    }
   ],
   "source": [
    "#Map generation\n",
    "Map <- read.cross(format = 'csv',file = fileName \n",
    "                  ,genotypes = genotypeName,\n",
    "                  alleles = alleleName,na.strings = naNames) #generate linkage map\n",
    "Map <- jittermap(Map) #make sure no markers are in the same location\n",
    "Map <- calc.genoprob(Map,step = 1,map.function = \"kosambi\") #associate markers with full genotypes\n",
    "plot.map(Map) #draw linkage map"
   ]
  },
  {
   "cell_type": "code",
   "execution_count": 5,
   "metadata": {},
   "outputs": [
    {
     "data": {
      "image/png": "[encoded data removed]",
      "text/plain": [
       "Plot with title \"\""
      ]
     },
     "metadata": {
      "image/png": {
       "height": 420,
       "width": 420
      },
      "text/plain": {
       "height": 420,
       "width": 420
      }
     },
     "output_type": "display_data"
    }
   ],
   "source": [
    "plotNormalHistogram(Map$pheno[,colNum]) #normal histogram of pheno of interest"
   ]
  },
  {
   "cell_type": "markdown",
   "metadata": {},
   "source": [
    "Outliers exist in this dataset. Will need to be analyized. "
   ]
  },
  {
   "cell_type": "code",
   "execution_count": 6,
   "metadata": {},
   "outputs": [
    {
     "data": {
      "text/plain": [
       "LOD thresholds (1000 permutations)\n",
       "   [,1]\n",
       "5% 4.00\n",
       "1% 4.75"
      ]
     },
     "metadata": {},
     "output_type": "display_data"
    },
    {
     "data": {
      "image/png": "[encoded data removed]",
      "text/plain": [
       "Plot with title \"\""
      ]
     },
     "metadata": {
      "image/png": {
       "height": 420,
       "width": 420
      },
      "text/plain": {
       "height": 420,
       "width": 420
      }
     },
     "output_type": "display_data"
    }
   ],
   "source": [
    "#Compute statistically significant values\n",
    "TraitCIM1000 <- cim(Map,pheno.col = colNum,method = \"hk\",\n",
    "                    map.function = \"kosambi\",n.perm = 1000) # Function will take a moment to run, determines LOD value\n",
    "plot(TraitCIM1000,col = 'green') #show distribution of lod scores\n",
    "summary(TraitCIM1000,alpha=c(.05,.01))"
   ]
  },
  {
   "cell_type": "code",
   "execution_count": 7,
   "metadata": {},
   "outputs": [
    {
     "name": "stdout",
     "output_type": "stream",
     "text": [
      "[1] \"If nothing shows up, the values \\n      are below the LOD5 score\"\n"
     ]
    },
    {
     "data": {
      "text/html": [
       "<table>\n",
       "<caption>A summary.scanone: 19 × 3</caption>\n",
       "<thead>\n",
       "\t<tr><th></th><th scope=col>chr</th><th scope=col>pos</th><th scope=col>lod</th></tr>\n",
       "\t<tr><th></th><th scope=col>&lt;fct&gt;</th><th scope=col>&lt;dbl&gt;</th><th scope=col>&lt;dbl&gt;</th></tr>\n",
       "</thead>\n",
       "<tbody>\n",
       "\t<tr><th scope=row>c1.loc56</th><td>1 </td><td> 56.00000</td><td>0.8068923</td></tr>\n",
       "\t<tr><th scope=row>c2.loc22</th><td>2 </td><td> 22.00000</td><td>1.0033875</td></tr>\n",
       "\t<tr><th scope=row>c3.loc37</th><td>3 </td><td> 37.00000</td><td>0.8348459</td></tr>\n",
       "\t<tr><th scope=row>c4.loc30</th><td>4 </td><td> 30.00000</td><td>1.1693357</td></tr>\n",
       "\t<tr><th scope=row>5_6441001</th><td>5 </td><td> 28.35202</td><td>1.3985597</td></tr>\n",
       "\t<tr><th scope=row>6_3039125</th><td>6 </td><td> 10.48301</td><td>1.2911855</td></tr>\n",
       "\t<tr><th scope=row>c7.loc8</th><td>7 </td><td>  8.00000</td><td>0.6273237</td></tr>\n",
       "\t<tr><th scope=row>c8.loc18</th><td>8 </td><td> 18.00000</td><td>0.8099176</td></tr>\n",
       "\t<tr><th scope=row>9_22583120</th><td>9 </td><td> 62.00307</td><td>1.1986002</td></tr>\n",
       "\t<tr><th scope=row>17_17189416</th><td>10</td><td>  0.00000</td><td>1.0916974</td></tr>\n",
       "\t<tr><th scope=row>11_19776604</th><td>11</td><td> 64.49205</td><td>1.7123303</td></tr>\n",
       "\t<tr><th scope=row>c12.loc45</th><td>12</td><td> 45.00000</td><td>0.9581413</td></tr>\n",
       "\t<tr><th scope=row>c13.loc8</th><td>13</td><td>  8.00000</td><td>1.3962589</td></tr>\n",
       "\t<tr><th scope=row>c14.loc54</th><td>14</td><td> 54.00000</td><td>1.0649517</td></tr>\n",
       "\t<tr><th scope=row>c15.loc26</th><td>15</td><td> 26.00000</td><td>1.3061665</td></tr>\n",
       "\t<tr><th scope=row>16_22866474</th><td>16</td><td> 59.92305</td><td>2.2599932</td></tr>\n",
       "\t<tr><th scope=row>c17.loc4</th><td>17</td><td>  4.00000</td><td>0.8043548</td></tr>\n",
       "\t<tr><th scope=row>10_20190838</th><td>18</td><td>108.92308</td><td>0.7616703</td></tr>\n",
       "\t<tr><th scope=row>c19.loc41</th><td>19</td><td> 41.00000</td><td>1.0675553</td></tr>\n",
       "</tbody>\n",
       "</table>\n"
      ],
      "text/latex": [
       "A summary.scanone: 19 × 3\n",
       "\\begin{tabular}{r|lll}\n",
       "  & chr & pos & lod\\\\\n",
       "  & <fct> & <dbl> & <dbl>\\\\\n",
       "\\hline\n",
       "\tc1.loc56 & 1  &  56.00000 & 0.8068923\\\\\n",
       "\tc2.loc22 & 2  &  22.00000 & 1.0033875\\\\\n",
       "\tc3.loc37 & 3  &  37.00000 & 0.8348459\\\\\n",
       "\tc4.loc30 & 4  &  30.00000 & 1.1693357\\\\\n",
       "\t5\\_6441001 & 5  &  28.35202 & 1.3985597\\\\\n",
       "\t6\\_3039125 & 6  &  10.48301 & 1.2911855\\\\\n",
       "\tc7.loc8 & 7  &   8.00000 & 0.6273237\\\\\n",
       "\tc8.loc18 & 8  &  18.00000 & 0.8099176\\\\\n",
       "\t9\\_22583120 & 9  &  62.00307 & 1.1986002\\\\\n",
       "\t17\\_17189416 & 10 &   0.00000 & 1.0916974\\\\\n",
       "\t11\\_19776604 & 11 &  64.49205 & 1.7123303\\\\\n",
       "\tc12.loc45 & 12 &  45.00000 & 0.9581413\\\\\n",
       "\tc13.loc8 & 13 &   8.00000 & 1.3962589\\\\\n",
       "\tc14.loc54 & 14 &  54.00000 & 1.0649517\\\\\n",
       "\tc15.loc26 & 15 &  26.00000 & 1.3061665\\\\\n",
       "\t16\\_22866474 & 16 &  59.92305 & 2.2599932\\\\\n",
       "\tc17.loc4 & 17 &   4.00000 & 0.8043548\\\\\n",
       "\t10\\_20190838 & 18 & 108.92308 & 0.7616703\\\\\n",
       "\tc19.loc41 & 19 &  41.00000 & 1.0675553\\\\\n",
       "\\end{tabular}\n"
      ],
      "text/markdown": [
       "\n",
       "A summary.scanone: 19 × 3\n",
       "\n",
       "| <!--/--> | chr &lt;fct&gt; | pos &lt;dbl&gt; | lod &lt;dbl&gt; |\n",
       "|---|---|---|---|\n",
       "| c1.loc56 | 1  |  56.00000 | 0.8068923 |\n",
       "| c2.loc22 | 2  |  22.00000 | 1.0033875 |\n",
       "| c3.loc37 | 3  |  37.00000 | 0.8348459 |\n",
       "| c4.loc30 | 4  |  30.00000 | 1.1693357 |\n",
       "| 5_6441001 | 5  |  28.35202 | 1.3985597 |\n",
       "| 6_3039125 | 6  |  10.48301 | 1.2911855 |\n",
       "| c7.loc8 | 7  |   8.00000 | 0.6273237 |\n",
       "| c8.loc18 | 8  |  18.00000 | 0.8099176 |\n",
       "| 9_22583120 | 9  |  62.00307 | 1.1986002 |\n",
       "| 17_17189416 | 10 |   0.00000 | 1.0916974 |\n",
       "| 11_19776604 | 11 |  64.49205 | 1.7123303 |\n",
       "| c12.loc45 | 12 |  45.00000 | 0.9581413 |\n",
       "| c13.loc8 | 13 |   8.00000 | 1.3962589 |\n",
       "| c14.loc54 | 14 |  54.00000 | 1.0649517 |\n",
       "| c15.loc26 | 15 |  26.00000 | 1.3061665 |\n",
       "| 16_22866474 | 16 |  59.92305 | 2.2599932 |\n",
       "| c17.loc4 | 17 |   4.00000 | 0.8043548 |\n",
       "| 10_20190838 | 18 | 108.92308 | 0.7616703 |\n",
       "| c19.loc41 | 19 |  41.00000 | 1.0675553 |\n",
       "\n"
      ],
      "text/plain": [
       "            chr pos       lod      \n",
       "c1.loc56    1    56.00000 0.8068923\n",
       "c2.loc22    2    22.00000 1.0033875\n",
       "c3.loc37    3    37.00000 0.8348459\n",
       "c4.loc30    4    30.00000 1.1693357\n",
       "5_6441001   5    28.35202 1.3985597\n",
       "6_3039125   6    10.48301 1.2911855\n",
       "c7.loc8     7     8.00000 0.6273237\n",
       "c8.loc18    8    18.00000 0.8099176\n",
       "9_22583120  9    62.00307 1.1986002\n",
       "17_17189416 10    0.00000 1.0916974\n",
       "11_19776604 11   64.49205 1.7123303\n",
       "c12.loc45   12   45.00000 0.9581413\n",
       "c13.loc8    13    8.00000 1.3962589\n",
       "c14.loc54   14   54.00000 1.0649517\n",
       "c15.loc26   15   26.00000 1.3061665\n",
       "16_22866474 16   59.92305 2.2599932\n",
       "c17.loc4    17    4.00000 0.8043548\n",
       "10_20190838 18  108.92308 0.7616703\n",
       "c19.loc41   19   41.00000 1.0675553"
      ]
     },
     "metadata": {},
     "output_type": "display_data"
    },
    {
     "data": {
      "image/png": "[encoded data removed]",
      "text/plain": [
       "plot without title"
      ]
     },
     "metadata": {
      "image/png": {
       "height": 420,
       "width": 420
      },
      "text/plain": {
       "height": 420,
       "width": 420
      }
     },
     "output_type": "display_data"
    }
   ],
   "source": [
    "#Deterime LOD Values\n",
    "LOD5 <- summary(TraitCIM1000,alpha=c(.05))\n",
    "TraitCIM<-cim(Map,pheno.col = colNum,method = \"hk\",\n",
    "              map.function = \"kosambi\") #Generate LOD Values\n",
    "plot(TraitCIM) #show LOD graph\n",
    "abline(h = LOD5,col = \"blue\") #overlay statistically significant line\n",
    "print(\"If nothing shows up, the values \n",
    "      are below the LOD5 score\") #warning for no peaks\n",
    "summary(TraitCIM)"
   ]
  },
  {
   "cell_type": "code",
   "execution_count": 8,
   "metadata": {},
   "outputs": [
    {
     "name": "stdin",
     "output_type": "stream",
     "text": [
      "Chromosome?  16\n"
     ]
    },
    {
     "data": {
      "image/png": "[encoded data removed]",
      "text/plain": [
       "plot without title"
      ]
     },
     "metadata": {
      "image/png": {
       "height": 420,
       "width": 420
      },
      "text/plain": {
       "height": 420,
       "width": 420
      }
     },
     "output_type": "display_data"
    }
   ],
   "source": [
    "#Chromosomal Analysis\n",
    "chr <- as.numeric(readline(\"Chromosome? \")) #collect chromosome to look at\n",
    "plot(TraitCIM, chr = chr,xlab = c(\"chr\",chr)) #Plot chr LOD scores\n",
    "abline(h = LOD5, col = \"blue\") #Statistically Significant"
   ]
  },
  {
   "cell_type": "code",
   "execution_count": 9,
   "metadata": {},
   "outputs": [
    {
     "data": {
      "text/html": [
       "<table>\n",
       "<caption>A scanone: 3 × 3</caption>\n",
       "<thead>\n",
       "\t<tr><th></th><th scope=col>chr</th><th scope=col>pos</th><th scope=col>lod</th></tr>\n",
       "\t<tr><th></th><th scope=col>&lt;fct&gt;</th><th scope=col>&lt;dbl&gt;</th><th scope=col>&lt;dbl&gt;</th></tr>\n",
       "</thead>\n",
       "<tbody>\n",
       "\t<tr><th scope=row>16_455568</th><td>16</td><td> 0.578001</td><td>0.22457041</td></tr>\n",
       "\t<tr><th scope=row>16_22866474</th><td>16</td><td>59.923045</td><td>2.25999319</td></tr>\n",
       "\t<tr><th scope=row>16_22831506</th><td>16</td><td>66.068054</td><td>0.03773051</td></tr>\n",
       "</tbody>\n",
       "</table>\n"
      ],
      "text/latex": [
       "A scanone: 3 × 3\n",
       "\\begin{tabular}{r|lll}\n",
       "  & chr & pos & lod\\\\\n",
       "  & <fct> & <dbl> & <dbl>\\\\\n",
       "\\hline\n",
       "\t16\\_455568 & 16 &  0.578001 & 0.22457041\\\\\n",
       "\t16\\_22866474 & 16 & 59.923045 & 2.25999319\\\\\n",
       "\t16\\_22831506 & 16 & 66.068054 & 0.03773051\\\\\n",
       "\\end{tabular}\n"
      ],
      "text/markdown": [
       "\n",
       "A scanone: 3 × 3\n",
       "\n",
       "| <!--/--> | chr &lt;fct&gt; | pos &lt;dbl&gt; | lod &lt;dbl&gt; |\n",
       "|---|---|---|---|\n",
       "| 16_455568 | 16 |  0.578001 | 0.22457041 |\n",
       "| 16_22866474 | 16 | 59.923045 | 2.25999319 |\n",
       "| 16_22831506 | 16 | 66.068054 | 0.03773051 |\n",
       "\n"
      ],
      "text/plain": [
       "            chr pos       lod       \n",
       "16_455568   16   0.578001 0.22457041\n",
       "16_22866474 16  59.923045 2.25999319\n",
       "16_22831506 16  66.068054 0.03773051"
      ]
     },
     "metadata": {},
     "output_type": "display_data"
    },
    {
     "data": {
      "text/html": [
       "<table>\n",
       "<caption>A scanone: 3 × 3</caption>\n",
       "<thead>\n",
       "\t<tr><th></th><th scope=col>chr</th><th scope=col>pos</th><th scope=col>lod</th></tr>\n",
       "\t<tr><th></th><th scope=col>&lt;fct&gt;</th><th scope=col>&lt;dbl&gt;</th><th scope=col>&lt;dbl&gt;</th></tr>\n",
       "</thead>\n",
       "<tbody>\n",
       "\t<tr><th scope=row>16_22011402</th><td>16</td><td>53.54204</td><td>0.21535068</td></tr>\n",
       "\t<tr><th scope=row>16_22866474</th><td>16</td><td>59.92305</td><td>2.25999319</td></tr>\n",
       "\t<tr><th scope=row>16_22831506</th><td>16</td><td>66.06805</td><td>0.03773051</td></tr>\n",
       "</tbody>\n",
       "</table>\n"
      ],
      "text/latex": [
       "A scanone: 3 × 3\n",
       "\\begin{tabular}{r|lll}\n",
       "  & chr & pos & lod\\\\\n",
       "  & <fct> & <dbl> & <dbl>\\\\\n",
       "\\hline\n",
       "\t16\\_22011402 & 16 & 53.54204 & 0.21535068\\\\\n",
       "\t16\\_22866474 & 16 & 59.92305 & 2.25999319\\\\\n",
       "\t16\\_22831506 & 16 & 66.06805 & 0.03773051\\\\\n",
       "\\end{tabular}\n"
      ],
      "text/markdown": [
       "\n",
       "A scanone: 3 × 3\n",
       "\n",
       "| <!--/--> | chr &lt;fct&gt; | pos &lt;dbl&gt; | lod &lt;dbl&gt; |\n",
       "|---|---|---|---|\n",
       "| 16_22011402 | 16 | 53.54204 | 0.21535068 |\n",
       "| 16_22866474 | 16 | 59.92305 | 2.25999319 |\n",
       "| 16_22831506 | 16 | 66.06805 | 0.03773051 |\n",
       "\n"
      ],
      "text/plain": [
       "            chr pos      lod       \n",
       "16_22011402 16  53.54204 0.21535068\n",
       "16_22866474 16  59.92305 2.25999319\n",
       "16_22831506 16  66.06805 0.03773051"
      ]
     },
     "metadata": {},
     "output_type": "display_data"
    }
   ],
   "source": [
    "bayesint(TraitCIM, chr = chr, prob=0.95, expandtomarkers=TRUE) #calculate bayesian interval\n",
    "lodint(TraitCIM, chr = chr,expandtomarkers = TRUE ) #calculate LOD Support interval"
   ]
  },
  {
   "cell_type": "code",
   "execution_count": 10,
   "metadata": {},
   "outputs": [
    {
     "name": "stdin",
     "output_type": "stream",
     "text": [
      "Position for analysis:  59.92305\n"
     ]
    },
    {
     "name": "stderr",
     "output_type": "stream",
     "text": [
      "Warning message in getsex(cross):\n",
      "\"125 individuals with missing sex; assuming they're female\"\n",
      "Warning message in fitqtlengine(pheno = pheno, qtl = qtl, covar = covar, formula = formula, :\n",
      "\"Dropping 75 individuals with missing phenotypes.\n",
      "\"\n",
      "Warning message in getsex(cross):\n",
      "\"125 individuals with missing sex; assuming they're female\"\n"
     ]
    },
    {
     "data": {
      "text/plain": [
       "\n",
       "\t\tfitqtl summary\n",
       "\n",
       "Method: Haley-Knott regression \n",
       "Model:  normal phenotype\n",
       "Number of observations : 219 \n",
       "\n",
       "Full model result\n",
       "----------------------------------  \n",
       "Model formula: y ~ Q1 \n",
       "\n",
       "       df         SS        MS      LOD     %var Pvalue(Chi2)   Pvalue(F)\n",
       "Model   1   6.060697 6.0606967 2.460939 5.043288 0.0007613996 0.000816294\n",
       "Error 217 114.112819 0.5258655                                           \n",
       "Total 218 120.173516                                                     \n",
       "\n",
       "\n",
       "Estimated effects:\n",
       "-----------------\n",
       "               est       SE      t\n",
       "Intercept  1.92071  0.04913 39.094\n",
       "16@59.9   -0.33580  0.09891 -3.395\n"
      ]
     },
     "metadata": {},
     "output_type": "display_data"
    }
   ],
   "source": [
    "p <- as.numeric(readline(\"Position for analysis: \"))\n",
    "qtl <- makeqtl(Map, chr = chr, pos = p, what=\"prob\") #pulls genotype probabilities\n",
    "fitqtl <- fitqtl(Map, pheno.col=colNum, qtl = qtl, covar=NULL,\n",
    "       method= \"hk\",model=\"normal\",\n",
    "       dropone=TRUE, get.ests=TRUE,run.checks=TRUE,\n",
    "       tol=1e-4, maxit=1000, forceXcovar=FALSE) #sees how well our data fits a given formula \n",
    "          # If you see \"error: object of type 'closure' is not subsettable\", remove \"formula,\" from the fitqtl argument list.\n",
    "summary(fitqtl) #Print results of the analysis"
   ]
  },
  {
   "cell_type": "code",
   "execution_count": 11,
   "metadata": {},
   "outputs": [
    {
     "name": "stdout",
     "output_type": "stream",
     "text": [
      "[1] \"Make sure to input names AS THEY APPEAR on the csv!!\"\n"
     ]
    },
    {
     "name": "stdin",
     "output_type": "stream",
     "text": [
      "Enter file name (Either FemaleMap.csv or MaleMap.csv):  MaleMap.csv\n",
      "First Genotype (homozygous) (For example ll):  nn\n",
      "Second Genotype (heterozygous) (for example lm):  np\n",
      "Column Number:  41\n"
     ]
    }
   ],
   "source": [
    "#Collecting enviroment variables\n",
    "print(\"Make sure to input names AS THEY APPEAR on the csv!!\") #Just a user warning\n",
    "fileName <- readline(\"Enter file name (Either FemaleMap.csv or MaleMap.csv): \") #Mapping table file\n",
    "genotypeName <- c(readline(\"First Genotype (homozygous) (For example ll): \"),\n",
    "                  readline(\"Second Genotype (heterozygous) (for example lm): \")) #For example \"nn\", \"np\"\n",
    "alleleName <- c(substr(genotypeName[2],1,1) ,substr(genotypeName[2],2,2))\n",
    "naNames <- c(\"NA\",\"--\") #For example \"NA\", \"--\"\n",
    "colNum <- as.numeric(readline(\"Column Number: \")) #Column for pheno of interest"
   ]
  },
  {
   "cell_type": "code",
   "execution_count": 12,
   "metadata": {},
   "outputs": [
    {
     "name": "stdout",
     "output_type": "stream",
     "text": [
      " --Read the following data:\n",
      "\t 294  individuals\n",
      "\t 1128  markers\n",
      "\t 44  phenotypes\n"
     ]
    },
    {
     "name": "stderr",
     "output_type": "stream",
     "text": [
      "Warning message in summary.cross(cross):\n",
      "\"Some markers at the same position on chr 1,3,4,5,6,7,8,9,10,12,13,14,15,16,17,18,19; use jittermap().\"\n"
     ]
    },
    {
     "name": "stdout",
     "output_type": "stream",
     "text": [
      " --Cross type: bc \n"
     ]
    },
    {
     "data": {
      "image/png": "[encoded data removed]",
      "text/plain": [
       "Plot with title \"Genetic map\""
      ]
     },
     "metadata": {
      "image/png": {
       "height": 420,
       "width": 420
      },
      "text/plain": {
       "height": 420,
       "width": 420
      }
     },
     "output_type": "display_data"
    }
   ],
   "source": [
    "#Map generation\n",
    "Map <- read.cross(format = 'csv',file = fileName \n",
    "                  ,genotypes = genotypeName,\n",
    "                  alleles = alleleName,na.strings = naNames) #generate linkage map\n",
    "Map <- jittermap(Map) #make sure no markers are in the same location\n",
    "Map <- calc.genoprob(Map,step = 1,map.function = \"kosambi\") #associate markers with full genotypes\n",
    "plot.map(Map) #draw linkage map"
   ]
  },
  {
   "cell_type": "code",
   "execution_count": 13,
   "metadata": {},
   "outputs": [
    {
     "data": {
      "image/png": "[encoded data removed]",
      "text/plain": [
       "Plot with title \"\""
      ]
     },
     "metadata": {
      "image/png": {
       "height": 420,
       "width": 420
      },
      "text/plain": {
       "height": 420,
       "width": 420
      }
     },
     "output_type": "display_data"
    }
   ],
   "source": [
    "plotNormalHistogram(Map$pheno[,colNum]) #normal histogram of pheno of interest"
   ]
  },
  {
   "cell_type": "markdown",
   "metadata": {},
   "source": [
    "Outliers exist in this data. "
   ]
  },
  {
   "cell_type": "code",
   "execution_count": 14,
   "metadata": {},
   "outputs": [
    {
     "data": {
      "text/plain": [
       "LOD thresholds (1000 permutations)\n",
       "   [,1]\n",
       "5% 4.04\n",
       "1% 4.81"
      ]
     },
     "metadata": {},
     "output_type": "display_data"
    },
    {
     "data": {
      "image/png": "[encoded data removed]",
      "text/plain": [
       "Plot with title \"\""
      ]
     },
     "metadata": {
      "image/png": {
       "height": 420,
       "width": 420
      },
      "text/plain": {
       "height": 420,
       "width": 420
      }
     },
     "output_type": "display_data"
    }
   ],
   "source": [
    "#Compute statistically significant values\n",
    "TraitCIM1000 <- cim(Map,pheno.col = colNum,method = \"hk\",\n",
    "                    map.function = \"kosambi\",n.perm = 1000) # Function will take a moment to run, determines LOD value\n",
    "plot(TraitCIM1000,col = 'green') #show distribution of lod scores\n",
    "summary(TraitCIM1000,alpha=c(.05,.01))"
   ]
  },
  {
   "cell_type": "code",
   "execution_count": 15,
   "metadata": {},
   "outputs": [
    {
     "name": "stdout",
     "output_type": "stream",
     "text": [
      "[1] \"If nothing shows up, the values \\n      are below the LOD5 score\"\n"
     ]
    },
    {
     "data": {
      "text/html": [
       "<table>\n",
       "<caption>A summary.scanone: 19 × 3</caption>\n",
       "<thead>\n",
       "\t<tr><th></th><th scope=col>chr</th><th scope=col>pos</th><th scope=col>lod</th></tr>\n",
       "\t<tr><th></th><th scope=col>&lt;fct&gt;</th><th scope=col>&lt;dbl&gt;</th><th scope=col>&lt;dbl&gt;</th></tr>\n",
       "</thead>\n",
       "<tbody>\n",
       "\t<tr><th scope=row>c1.loc44</th><td>1 </td><td>44.000000</td><td>0.8716795</td></tr>\n",
       "\t<tr><th scope=row>c2.loc32</th><td>2 </td><td>32.000000</td><td>1.2469083</td></tr>\n",
       "\t<tr><th scope=row>c3.loc19</th><td>3 </td><td>19.000000</td><td>1.0472975</td></tr>\n",
       "\t<tr><th scope=row>c4.loc5</th><td>4 </td><td> 5.000000</td><td>1.7657562</td></tr>\n",
       "\t<tr><th scope=row>5_24816875</th><td>5 </td><td>80.646053</td><td>1.7555268</td></tr>\n",
       "\t<tr><th scope=row>c6.loc15</th><td>6 </td><td>15.000000</td><td>0.8634566</td></tr>\n",
       "\t<tr><th scope=row>7_350236</th><td>7 </td><td> 0.382001</td><td>2.4487609</td></tr>\n",
       "\t<tr><th scope=row>8_22140676</th><td>8 </td><td>88.766048</td><td>0.9698249</td></tr>\n",
       "\t<tr><th scope=row>9_915836</th><td>9 </td><td> 3.059005</td><td>0.6982285</td></tr>\n",
       "\t<tr><th scope=row>10_12220756</th><td>10</td><td>59.854023</td><td>1.3599498</td></tr>\n",
       "\t<tr><th scope=row>c11.loc2</th><td>11</td><td> 2.000000</td><td>0.3217191</td></tr>\n",
       "\t<tr><th scope=row>c12.loc7</th><td>12</td><td> 7.000000</td><td>0.8295242</td></tr>\n",
       "\t<tr><th scope=row>13_4932176</th><td>13</td><td>25.586024</td><td>0.7780596</td></tr>\n",
       "\t<tr><th scope=row>14_27052967</th><td>14</td><td>79.722066</td><td>1.0443504</td></tr>\n",
       "\t<tr><th scope=row>15_18935198</th><td>15</td><td>82.657042</td><td>1.4495377</td></tr>\n",
       "\t<tr><th scope=row>c16.loc25</th><td>16</td><td>25.000000</td><td>1.1990508</td></tr>\n",
       "\t<tr><th scope=row>c17.loc56</th><td>17</td><td>56.000000</td><td>0.4281889</td></tr>\n",
       "\t<tr><th scope=row>c18.loc52</th><td>18</td><td>52.000000</td><td>1.3927019</td></tr>\n",
       "\t<tr><th scope=row>c19.loc5</th><td>19</td><td> 5.000000</td><td>0.7642629</td></tr>\n",
       "</tbody>\n",
       "</table>\n"
      ],
      "text/latex": [
       "A summary.scanone: 19 × 3\n",
       "\\begin{tabular}{r|lll}\n",
       "  & chr & pos & lod\\\\\n",
       "  & <fct> & <dbl> & <dbl>\\\\\n",
       "\\hline\n",
       "\tc1.loc44 & 1  & 44.000000 & 0.8716795\\\\\n",
       "\tc2.loc32 & 2  & 32.000000 & 1.2469083\\\\\n",
       "\tc3.loc19 & 3  & 19.000000 & 1.0472975\\\\\n",
       "\tc4.loc5 & 4  &  5.000000 & 1.7657562\\\\\n",
       "\t5\\_24816875 & 5  & 80.646053 & 1.7555268\\\\\n",
       "\tc6.loc15 & 6  & 15.000000 & 0.8634566\\\\\n",
       "\t7\\_350236 & 7  &  0.382001 & 2.4487609\\\\\n",
       "\t8\\_22140676 & 8  & 88.766048 & 0.9698249\\\\\n",
       "\t9\\_915836 & 9  &  3.059005 & 0.6982285\\\\\n",
       "\t10\\_12220756 & 10 & 59.854023 & 1.3599498\\\\\n",
       "\tc11.loc2 & 11 &  2.000000 & 0.3217191\\\\\n",
       "\tc12.loc7 & 12 &  7.000000 & 0.8295242\\\\\n",
       "\t13\\_4932176 & 13 & 25.586024 & 0.7780596\\\\\n",
       "\t14\\_27052967 & 14 & 79.722066 & 1.0443504\\\\\n",
       "\t15\\_18935198 & 15 & 82.657042 & 1.4495377\\\\\n",
       "\tc16.loc25 & 16 & 25.000000 & 1.1990508\\\\\n",
       "\tc17.loc56 & 17 & 56.000000 & 0.4281889\\\\\n",
       "\tc18.loc52 & 18 & 52.000000 & 1.3927019\\\\\n",
       "\tc19.loc5 & 19 &  5.000000 & 0.7642629\\\\\n",
       "\\end{tabular}\n"
      ],
      "text/markdown": [
       "\n",
       "A summary.scanone: 19 × 3\n",
       "\n",
       "| <!--/--> | chr &lt;fct&gt; | pos &lt;dbl&gt; | lod &lt;dbl&gt; |\n",
       "|---|---|---|---|\n",
       "| c1.loc44 | 1  | 44.000000 | 0.8716795 |\n",
       "| c2.loc32 | 2  | 32.000000 | 1.2469083 |\n",
       "| c3.loc19 | 3  | 19.000000 | 1.0472975 |\n",
       "| c4.loc5 | 4  |  5.000000 | 1.7657562 |\n",
       "| 5_24816875 | 5  | 80.646053 | 1.7555268 |\n",
       "| c6.loc15 | 6  | 15.000000 | 0.8634566 |\n",
       "| 7_350236 | 7  |  0.382001 | 2.4487609 |\n",
       "| 8_22140676 | 8  | 88.766048 | 0.9698249 |\n",
       "| 9_915836 | 9  |  3.059005 | 0.6982285 |\n",
       "| 10_12220756 | 10 | 59.854023 | 1.3599498 |\n",
       "| c11.loc2 | 11 |  2.000000 | 0.3217191 |\n",
       "| c12.loc7 | 12 |  7.000000 | 0.8295242 |\n",
       "| 13_4932176 | 13 | 25.586024 | 0.7780596 |\n",
       "| 14_27052967 | 14 | 79.722066 | 1.0443504 |\n",
       "| 15_18935198 | 15 | 82.657042 | 1.4495377 |\n",
       "| c16.loc25 | 16 | 25.000000 | 1.1990508 |\n",
       "| c17.loc56 | 17 | 56.000000 | 0.4281889 |\n",
       "| c18.loc52 | 18 | 52.000000 | 1.3927019 |\n",
       "| c19.loc5 | 19 |  5.000000 | 0.7642629 |\n",
       "\n"
      ],
      "text/plain": [
       "            chr pos       lod      \n",
       "c1.loc44    1   44.000000 0.8716795\n",
       "c2.loc32    2   32.000000 1.2469083\n",
       "c3.loc19    3   19.000000 1.0472975\n",
       "c4.loc5     4    5.000000 1.7657562\n",
       "5_24816875  5   80.646053 1.7555268\n",
       "c6.loc15    6   15.000000 0.8634566\n",
       "7_350236    7    0.382001 2.4487609\n",
       "8_22140676  8   88.766048 0.9698249\n",
       "9_915836    9    3.059005 0.6982285\n",
       "10_12220756 10  59.854023 1.3599498\n",
       "c11.loc2    11   2.000000 0.3217191\n",
       "c12.loc7    12   7.000000 0.8295242\n",
       "13_4932176  13  25.586024 0.7780596\n",
       "14_27052967 14  79.722066 1.0443504\n",
       "15_18935198 15  82.657042 1.4495377\n",
       "c16.loc25   16  25.000000 1.1990508\n",
       "c17.loc56   17  56.000000 0.4281889\n",
       "c18.loc52   18  52.000000 1.3927019\n",
       "c19.loc5    19   5.000000 0.7642629"
      ]
     },
     "metadata": {},
     "output_type": "display_data"
    },
    {
     "data": {
      "image/png": "[encoded data removed]",
      "text/plain": [
       "plot without title"
      ]
     },
     "metadata": {
      "image/png": {
       "height": 420,
       "width": 420
      },
      "text/plain": {
       "height": 420,
       "width": 420
      }
     },
     "output_type": "display_data"
    }
   ],
   "source": [
    "#Deterime LOD Values\n",
    "TraitCIM<-cim(Map,pheno.col = colNum,method = \"hk\",\n",
    "              map.function = \"kosambi\") #Generate LOD Values\n",
    "plot(TraitCIM) #show LOD graph\n",
    "abline(h = LOD5,col = \"blue\") #overlay statistically significant line\n",
    "print(\"If nothing shows up, the values \n",
    "      are below the LOD5 score\") #warning for no peaks\n",
    "summary(TraitCIM)"
   ]
  },
  {
   "cell_type": "code",
   "execution_count": 16,
   "metadata": {},
   "outputs": [
    {
     "name": "stdin",
     "output_type": "stream",
     "text": [
      "Chromosome?  7\n"
     ]
    },
    {
     "data": {
      "image/png": "[encoded data removed]",
      "text/plain": [
       "plot without title"
      ]
     },
     "metadata": {
      "image/png": {
       "height": 420,
       "width": 420
      },
      "text/plain": {
       "height": 420,
       "width": 420
      }
     },
     "output_type": "display_data"
    }
   ],
   "source": [
    "#Chromosomal Analysis\n",
    "chr <- as.numeric(readline(\"Chromosome? \")) #collect chromosome to look at\n",
    "plot(TraitCIM, chr = chr,xlab = c(\"chr\",chr)) #Plot chr LOD scores\n",
    "abline(h = LOD5, col = \"blue\") #Statistically Significant"
   ]
  },
  {
   "cell_type": "code",
   "execution_count": 17,
   "metadata": {},
   "outputs": [
    {
     "data": {
      "text/html": [
       "<table>\n",
       "<caption>A scanone: 3 × 3</caption>\n",
       "<thead>\n",
       "\t<tr><th></th><th scope=col>chr</th><th scope=col>pos</th><th scope=col>lod</th></tr>\n",
       "\t<tr><th></th><th scope=col>&lt;fct&gt;</th><th scope=col>&lt;dbl&gt;</th><th scope=col>&lt;dbl&gt;</th></tr>\n",
       "</thead>\n",
       "<tbody>\n",
       "\t<tr><th scope=row>7_227150</th><td>7</td><td>  0.000000</td><td>0.9209724</td></tr>\n",
       "\t<tr><th scope=row>7_350236</th><td>7</td><td>  0.382001</td><td>2.4487609</td></tr>\n",
       "\t<tr><th scope=row>7_27015047</th><td>7</td><td>113.229089</td><td>0.3164949</td></tr>\n",
       "</tbody>\n",
       "</table>\n"
      ],
      "text/latex": [
       "A scanone: 3 × 3\n",
       "\\begin{tabular}{r|lll}\n",
       "  & chr & pos & lod\\\\\n",
       "  & <fct> & <dbl> & <dbl>\\\\\n",
       "\\hline\n",
       "\t7\\_227150 & 7 &   0.000000 & 0.9209724\\\\\n",
       "\t7\\_350236 & 7 &   0.382001 & 2.4487609\\\\\n",
       "\t7\\_27015047 & 7 & 113.229089 & 0.3164949\\\\\n",
       "\\end{tabular}\n"
      ],
      "text/markdown": [
       "\n",
       "A scanone: 3 × 3\n",
       "\n",
       "| <!--/--> | chr &lt;fct&gt; | pos &lt;dbl&gt; | lod &lt;dbl&gt; |\n",
       "|---|---|---|---|\n",
       "| 7_227150 | 7 |   0.000000 | 0.9209724 |\n",
       "| 7_350236 | 7 |   0.382001 | 2.4487609 |\n",
       "| 7_27015047 | 7 | 113.229089 | 0.3164949 |\n",
       "\n"
      ],
      "text/plain": [
       "           chr pos        lod      \n",
       "7_227150   7     0.000000 0.9209724\n",
       "7_350236   7     0.382001 2.4487609\n",
       "7_27015047 7   113.229089 0.3164949"
      ]
     },
     "metadata": {},
     "output_type": "display_data"
    },
    {
     "data": {
      "text/html": [
       "<table>\n",
       "<caption>A scanone: 3 × 3</caption>\n",
       "<thead>\n",
       "\t<tr><th></th><th scope=col>chr</th><th scope=col>pos</th><th scope=col>lod</th></tr>\n",
       "\t<tr><th></th><th scope=col>&lt;fct&gt;</th><th scope=col>&lt;dbl&gt;</th><th scope=col>&lt;dbl&gt;</th></tr>\n",
       "</thead>\n",
       "<tbody>\n",
       "\t<tr><th scope=row>7_227150</th><td>7</td><td>0.000000</td><td>0.9209724</td></tr>\n",
       "\t<tr><th scope=row>7_350236</th><td>7</td><td>0.382001</td><td>2.4487609</td></tr>\n",
       "\t<tr><th scope=row>7_1647439</th><td>7</td><td>7.984011</td><td>0.3490363</td></tr>\n",
       "</tbody>\n",
       "</table>\n"
      ],
      "text/latex": [
       "A scanone: 3 × 3\n",
       "\\begin{tabular}{r|lll}\n",
       "  & chr & pos & lod\\\\\n",
       "  & <fct> & <dbl> & <dbl>\\\\\n",
       "\\hline\n",
       "\t7\\_227150 & 7 & 0.000000 & 0.9209724\\\\\n",
       "\t7\\_350236 & 7 & 0.382001 & 2.4487609\\\\\n",
       "\t7\\_1647439 & 7 & 7.984011 & 0.3490363\\\\\n",
       "\\end{tabular}\n"
      ],
      "text/markdown": [
       "\n",
       "A scanone: 3 × 3\n",
       "\n",
       "| <!--/--> | chr &lt;fct&gt; | pos &lt;dbl&gt; | lod &lt;dbl&gt; |\n",
       "|---|---|---|---|\n",
       "| 7_227150 | 7 | 0.000000 | 0.9209724 |\n",
       "| 7_350236 | 7 | 0.382001 | 2.4487609 |\n",
       "| 7_1647439 | 7 | 7.984011 | 0.3490363 |\n",
       "\n"
      ],
      "text/plain": [
       "          chr pos      lod      \n",
       "7_227150  7   0.000000 0.9209724\n",
       "7_350236  7   0.382001 2.4487609\n",
       "7_1647439 7   7.984011 0.3490363"
      ]
     },
     "metadata": {},
     "output_type": "display_data"
    }
   ],
   "source": [
    "bayesint(TraitCIM, chr = chr, prob=0.95, expandtomarkers=TRUE) #calculate bayesian interval\n",
    "lodint(TraitCIM, chr = chr,expandtomarkers = TRUE ) #calculate LOD Support interval"
   ]
  },
  {
   "cell_type": "code",
   "execution_count": 18,
   "metadata": {},
   "outputs": [
    {
     "name": "stdin",
     "output_type": "stream",
     "text": [
      "Position for analysis:  .38201\n"
     ]
    },
    {
     "name": "stderr",
     "output_type": "stream",
     "text": [
      "Warning message in getsex(cross):\n",
      "\"125 individuals with missing sex; assuming they're female\"\n",
      "Warning message in fitqtlengine(pheno = pheno, qtl = qtl, covar = covar, formula = formula, :\n",
      "\"Dropping 75 individuals with missing phenotypes.\n",
      "\"\n",
      "Warning message in getsex(cross):\n",
      "\"125 individuals with missing sex; assuming they're female\"\n"
     ]
    },
    {
     "data": {
      "text/plain": [
       "\n",
       "\t\tfitqtl summary\n",
       "\n",
       "Method: Haley-Knott regression \n",
       "Model:  normal phenotype\n",
       "Number of observations : 219 \n",
       "\n",
       "Full model result\n",
       "----------------------------------  \n",
       "Model formula: y ~ Q1 \n",
       "\n",
       "       df         SS        MS      LOD     %var Pvalue(Chi2)   Pvalue(F)\n",
       "Model   1   5.770227 5.7702267 2.340043 4.801579  0.001028082 0.001098682\n",
       "Error 217 114.403289 0.5272041                                           \n",
       "Total 218 120.173516                                                     \n",
       "\n",
       "\n",
       "Estimated effects:\n",
       "-----------------\n",
       "              est      SE      t\n",
       "Intercept 1.89297 0.04929 38.402\n",
       "7@0.4     0.33982 0.10272  3.308\n"
      ]
     },
     "metadata": {},
     "output_type": "display_data"
    }
   ],
   "source": [
    "p <- as.numeric(readline(\"Position for analysis: \"))\n",
    "qtl <- makeqtl(Map, chr = chr, pos = p, what=\"prob\") #pulls genotype probabilities\n",
    "fitqtl <- fitqtl(Map, pheno.col=colNum, qtl = qtl, covar=NULL,\n",
    "       method= \"hk\",model=\"normal\",\n",
    "       dropone=TRUE, get.ests=TRUE,run.checks=TRUE,\n",
    "       tol=1e-4, maxit=1000, forceXcovar=FALSE) #sees how well our data fits a given formula \n",
    "          # If you see \"error: object of type 'closure' is not subsettable\", remove \"formula,\" from the fitqtl argument list.\n",
    "summary(fitqtl) #Print results of the analysis"
   ]
  },
  {
   "cell_type": "code",
   "execution_count": null,
   "metadata": {},
   "outputs": [],
   "source": []
  }
 ],
 "metadata": {
  "kernelspec": {
   "display_name": "R",
   "language": "R",
   "name": "ir"
  },
  "language_info": {
   "codemirror_mode": "r",
   "file_extension": ".r",
   "mimetype": "text/x-r-source",
   "name": "R",
   "pygments_lexer": "r",
   "version": "3.6.3"
  }
 },
 "nbformat": 4,
 "nbformat_minor": 4
}
