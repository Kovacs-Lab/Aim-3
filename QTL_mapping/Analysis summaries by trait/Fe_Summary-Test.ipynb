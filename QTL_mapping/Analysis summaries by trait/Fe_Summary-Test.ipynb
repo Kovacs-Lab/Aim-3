{
 "cells": [
  {
   "cell_type": "markdown",
   "metadata": {},
   "source": [
    "This analysis is in the order of Female then Male"
   ]
  },
  {
   "cell_type": "code",
   "execution_count": 1,
   "metadata": {},
   "outputs": [
    {
     "name": "stderr",
     "output_type": "stream",
     "text": [
      "Warning message in install.packages(\"qtl\"):\n",
      "\"'lib = \"C:/Program Files/R/R-3.6.1/library\"' is not writable\"\n"
     ]
    },
    {
     "ename": "ERROR",
     "evalue": "Error in install.packages(\"qtl\"): unable to install packages\n",
     "output_type": "error",
     "traceback": [
      "Error in install.packages(\"qtl\"): unable to install packages\nTraceback:\n",
      "1. install.packages(\"qtl\")",
      "2. stop(\"unable to install packages\")"
     ]
    }
   ],
   "source": [
    "install.packages('qtl') #Main package, for analysis\n",
    "install.packages('qtlcharts') #accessory, for displaying graphs\n",
    "install.packages('LinkageMapView') #accessory, for displaying linkage maps\n",
    "install.packages('rcompanion')# for plotNormalHistogram"
   ]
  },
  {
   "cell_type": "code",
   "execution_count": 1,
   "metadata": {},
   "outputs": [],
   "source": [
    "library(qtl) #load packages\n",
    "library(qtlcharts)\n",
    "library(LinkageMapView)\n",
    "library(rcompanion)"
   ]
  },
  {
   "cell_type": "code",
   "execution_count": 7,
   "metadata": {},
   "outputs": [
    {
     "name": "stdout",
     "output_type": "stream",
     "text": [
      "[1] \"Make sure to input names AS THEY APPEAR on the csv!!\"\n"
     ]
    },
    {
     "name": "stdin",
     "output_type": "stream",
     "text": [
      "Enter file name (Either FemaleMap.csv or MaleMap.csv):  FemaleMap.csv\n",
      "First Genotype (homozygous) (For example ll):  ll\n",
      "Second Genotype (heterozygous) (for example lm):  lm\n",
      "Column Number:  26\n"
     ]
    }
   ],
   "source": [
    "#Collecting enviroment variables\n",
    "print(\"Make sure to input names AS THEY APPEAR on the csv!!\") #Just a user warning\n",
    "fileName <- readline(\"Enter file name (Either FemaleMap.csv or MaleMap.csv): \") #Mapping table file\n",
    "genotypeName <- c(readline(\"First Genotype (homozygous) (For example ll): \"),\n",
    "                  readline(\"Second Genotype (heterozygous) (for example lm): \")) #For example \"nn\", \"np\"\n",
    "alleleName <- c(substr(genotypeName[2],1,1) ,substr(genotypeName[2],2,2))\n",
    "naNames <- c(\"NA\",\"--\") #For example \"NA\", \"--\"\n",
    "colNum <- as.numeric(readline(\"Column Number: \")) #Column for pheno of interest"
   ]
  },
  {
   "cell_type": "code",
   "execution_count": 8,
   "metadata": {},
   "outputs": [
    {
     "name": "stdout",
     "output_type": "stream",
     "text": [
      " --Read the following data:\n",
      "\t 294  individuals\n",
      "\t 1100  markers\n",
      "\t 38  phenotypes\n"
     ]
    },
    {
     "name": "stderr",
     "output_type": "stream",
     "text": [
      "Warning message in summary.cross(cross):\n",
      "\"Some markers at the same position on chr 1,2,4,5,7,8,9,10,11,12,13,14,16,17,18,19; use jittermap().\"\n"
     ]
    },
    {
     "name": "stdout",
     "output_type": "stream",
     "text": [
      " --Cross type: bc \n"
     ]
    },
    {
     "data": {
      "image/png": "[encoded data removed]",
      "text/plain": [
       "Plot with title \"Genetic map\""
      ]
     },
     "metadata": {
      "image/png": {
       "height": 420,
       "width": 420
      },
      "text/plain": {
       "height": 420,
       "width": 420
      }
     },
     "output_type": "display_data"
    }
   ],
   "source": [
    "#Map generation\n",
    "Map <- read.cross(format = 'csv',file = fileName \n",
    "                  ,genotypes = genotypeName,\n",
    "                  alleles = alleleName,na.strings = naNames) #generate linkage map\n",
    "Map <- jittermap(Map) #make sure no markers are in the same location\n",
    "Map <- calc.genoprob(Map,step = 1,map.function = \"kosambi\") #associate markers with full genotypes\n",
    "plot.map(Map) #draw linkage map"
   ]
  },
  {
   "cell_type": "code",
   "execution_count": 9,
   "metadata": {},
   "outputs": [
    {
     "data": {
      "image/png": "[encoded data removed]",
      "text/plain": [
       "Plot with title \"\""
      ]
     },
     "metadata": {
      "image/png": {
       "height": 420,
       "width": 420
      },
      "text/plain": {
       "height": 420,
       "width": 420
      }
     },
     "output_type": "display_data"
    }
   ],
   "source": [
    "plotNormalHistogram(Map$pheno[,colNum]) #normal histogram of pheno of interest"
   ]
  },
  {
   "cell_type": "markdown",
   "metadata": {},
   "source": [
    "Outliers exist in this dataset. Will need to be analyized. "
   ]
  },
  {
   "cell_type": "code",
   "execution_count": 14,
   "metadata": {},
   "outputs": [
    {
     "name": "stderr",
     "output_type": "stream",
     "text": [
      "Warning message in checkcovar(cross, pheno.col, addcovar, intcovar, perm.strata, :\n",
      "\"addcovar appears to be over-specified; consider dropping columns.\n",
      "\"\n",
      "Warning message in checkcovar(cross, pheno.col, addcovar, intcovar, perm.strata, :\n",
      "\"addcovar appears to be over-specified; consider dropping columns.\n",
      "\"\n",
      "Warning message in checkcovar(cross, pheno.col, addcovar, intcovar, perm.strata, :\n",
      "\"addcovar appears to be over-specified; consider dropping columns.\n",
      "\"\n",
      "Warning message in checkcovar(cross, pheno.col, addcovar, intcovar, perm.strata, :\n",
      "\"addcovar appears to be over-specified; consider dropping columns.\n",
      "\"\n",
      "Warning message in checkcovar(cross, pheno.col, addcovar, intcovar, perm.strata, :\n",
      "\"addcovar appears to be over-specified; consider dropping columns.\n",
      "\"\n",
      "Warning message in checkcovar(cross, pheno.col, addcovar, intcovar, perm.strata, :\n",
      "\"addcovar appears to be over-specified; consider dropping columns.\n",
      "\"\n"
     ]
    },
    {
     "data": {
      "image/png": "[encoded data removed]",
      "text/plain": [
       "Plot with title \"\""
      ]
     },
     "metadata": {
      "image/png": {
       "height": 420,
       "width": 420
      },
      "text/plain": {
       "height": 420,
       "width": 420
      }
     },
     "output_type": "display_data"
    }
   ],
   "source": [
    "#Compute statistically significant values\n",
    "TraitCIM1000 <- cim(Map,pheno.col = colNum,method = \"hk\",\n",
    "                    map.function = \"kosambi\",n.perm = 1000) # Function will take a moment to run, determines LOD value\n",
    "plot(TraitCIM1000,col = 'green') #show distribution of lod scores\n",
    "LOD5 <- summary(TraitCIM1000)[1]"
   ]
  },
  {
   "cell_type": "code",
   "execution_count": 13,
   "metadata": {},
   "outputs": [
    {
     "name": "stdout",
     "output_type": "stream",
     "text": [
      "[1] \"If nothing shows up, the values \\n      are below the LOD5 score\"\n"
     ]
    },
    {
     "data": {
      "text/html": [
       "<table>\n",
       "<caption>A summary.scanone: 19 × 3</caption>\n",
       "<thead>\n",
       "\t<tr><th></th><th scope=col>chr</th><th scope=col>pos</th><th scope=col>lod</th></tr>\n",
       "\t<tr><th></th><th scope=col>&lt;fct&gt;</th><th scope=col>&lt;dbl&gt;</th><th scope=col>&lt;dbl&gt;</th></tr>\n",
       "</thead>\n",
       "<tbody>\n",
       "\t<tr><th scope=row>7_7311056</th><td>1 </td><td>33.364022</td><td>0.9168895</td></tr>\n",
       "\t<tr><th scope=row>2_5186881</th><td>2 </td><td>46.031020</td><td>0.3663421</td></tr>\n",
       "\t<tr><th scope=row>c3.loc33</th><td>3 </td><td>33.000000</td><td>1.4682554</td></tr>\n",
       "\t<tr><th scope=row>4_22218751</th><td>4 </td><td>66.687063</td><td>2.3007318</td></tr>\n",
       "\t<tr><th scope=row>5_7648545</th><td>5 </td><td>37.038025</td><td>0.8025015</td></tr>\n",
       "\t<tr><th scope=row>6_17440350</th><td>6 </td><td>42.052019</td><td>1.6766309</td></tr>\n",
       "\t<tr><th scope=row>7_2682789</th><td>7 </td><td> 8.753014</td><td>0.8575902</td></tr>\n",
       "\t<tr><th scope=row>c8.loc60</th><td>8 </td><td>60.000000</td><td>1.2654495</td></tr>\n",
       "\t<tr><th scope=row>9_13407438</th><td>9 </td><td>50.029053</td><td>1.0550213</td></tr>\n",
       "\t<tr><th scope=row>c10.loc14</th><td>10</td><td>14.000000</td><td>0.5531863</td></tr>\n",
       "\t<tr><th scope=row>c11.loc49</th><td>11</td><td>49.000000</td><td>1.7206819</td></tr>\n",
       "\t<tr><th scope=row>c12.loc82</th><td>12</td><td>82.000000</td><td>1.5692375</td></tr>\n",
       "\t<tr><th scope=row>c13.loc8</th><td>13</td><td> 8.000000</td><td>2.2016067</td></tr>\n",
       "\t<tr><th scope=row>14_2427325</th><td>14</td><td>14.074002</td><td>0.7346166</td></tr>\n",
       "\t<tr><th scope=row>15_584182</th><td>15</td><td> 0.000000</td><td>2.6566711</td></tr>\n",
       "\t<tr><th scope=row>c16.loc24</th><td>16</td><td>24.000000</td><td>0.5454164</td></tr>\n",
       "\t<tr><th scope=row>c17.loc4</th><td>17</td><td> 4.000000</td><td>5.9382608</td></tr>\n",
       "\t<tr><th scope=row>c18.loc64</th><td>18</td><td>64.000000</td><td>2.2514462</td></tr>\n",
       "\t<tr><th scope=row>19_24491792</th><td>19</td><td>60.372076</td><td>0.5507481</td></tr>\n",
       "</tbody>\n",
       "</table>\n"
      ],
      "text/latex": [
       "A summary.scanone: 19 × 3\n",
       "\\begin{tabular}{r|lll}\n",
       "  & chr & pos & lod\\\\\n",
       "  & <fct> & <dbl> & <dbl>\\\\\n",
       "\\hline\n",
       "\t7\\_7311056 & 1  & 33.364022 & 0.9168895\\\\\n",
       "\t2\\_5186881 & 2  & 46.031020 & 0.3663421\\\\\n",
       "\tc3.loc33 & 3  & 33.000000 & 1.4682554\\\\\n",
       "\t4\\_22218751 & 4  & 66.687063 & 2.3007318\\\\\n",
       "\t5\\_7648545 & 5  & 37.038025 & 0.8025015\\\\\n",
       "\t6\\_17440350 & 6  & 42.052019 & 1.6766309\\\\\n",
       "\t7\\_2682789 & 7  &  8.753014 & 0.8575902\\\\\n",
       "\tc8.loc60 & 8  & 60.000000 & 1.2654495\\\\\n",
       "\t9\\_13407438 & 9  & 50.029053 & 1.0550213\\\\\n",
       "\tc10.loc14 & 10 & 14.000000 & 0.5531863\\\\\n",
       "\tc11.loc49 & 11 & 49.000000 & 1.7206819\\\\\n",
       "\tc12.loc82 & 12 & 82.000000 & 1.5692375\\\\\n",
       "\tc13.loc8 & 13 &  8.000000 & 2.2016067\\\\\n",
       "\t14\\_2427325 & 14 & 14.074002 & 0.7346166\\\\\n",
       "\t15\\_584182 & 15 &  0.000000 & 2.6566711\\\\\n",
       "\tc16.loc24 & 16 & 24.000000 & 0.5454164\\\\\n",
       "\tc17.loc4 & 17 &  4.000000 & 5.9382608\\\\\n",
       "\tc18.loc64 & 18 & 64.000000 & 2.2514462\\\\\n",
       "\t19\\_24491792 & 19 & 60.372076 & 0.5507481\\\\\n",
       "\\end{tabular}\n"
      ],
      "text/markdown": [
       "\n",
       "A summary.scanone: 19 × 3\n",
       "\n",
       "| <!--/--> | chr &lt;fct&gt; | pos &lt;dbl&gt; | lod &lt;dbl&gt; |\n",
       "|---|---|---|---|\n",
       "| 7_7311056 | 1  | 33.364022 | 0.9168895 |\n",
       "| 2_5186881 | 2  | 46.031020 | 0.3663421 |\n",
       "| c3.loc33 | 3  | 33.000000 | 1.4682554 |\n",
       "| 4_22218751 | 4  | 66.687063 | 2.3007318 |\n",
       "| 5_7648545 | 5  | 37.038025 | 0.8025015 |\n",
       "| 6_17440350 | 6  | 42.052019 | 1.6766309 |\n",
       "| 7_2682789 | 7  |  8.753014 | 0.8575902 |\n",
       "| c8.loc60 | 8  | 60.000000 | 1.2654495 |\n",
       "| 9_13407438 | 9  | 50.029053 | 1.0550213 |\n",
       "| c10.loc14 | 10 | 14.000000 | 0.5531863 |\n",
       "| c11.loc49 | 11 | 49.000000 | 1.7206819 |\n",
       "| c12.loc82 | 12 | 82.000000 | 1.5692375 |\n",
       "| c13.loc8 | 13 |  8.000000 | 2.2016067 |\n",
       "| 14_2427325 | 14 | 14.074002 | 0.7346166 |\n",
       "| 15_584182 | 15 |  0.000000 | 2.6566711 |\n",
       "| c16.loc24 | 16 | 24.000000 | 0.5454164 |\n",
       "| c17.loc4 | 17 |  4.000000 | 5.9382608 |\n",
       "| c18.loc64 | 18 | 64.000000 | 2.2514462 |\n",
       "| 19_24491792 | 19 | 60.372076 | 0.5507481 |\n",
       "\n"
      ],
      "text/plain": [
       "            chr pos       lod      \n",
       "7_7311056   1   33.364022 0.9168895\n",
       "2_5186881   2   46.031020 0.3663421\n",
       "c3.loc33    3   33.000000 1.4682554\n",
       "4_22218751  4   66.687063 2.3007318\n",
       "5_7648545   5   37.038025 0.8025015\n",
       "6_17440350  6   42.052019 1.6766309\n",
       "7_2682789   7    8.753014 0.8575902\n",
       "c8.loc60    8   60.000000 1.2654495\n",
       "9_13407438  9   50.029053 1.0550213\n",
       "c10.loc14   10  14.000000 0.5531863\n",
       "c11.loc49   11  49.000000 1.7206819\n",
       "c12.loc82   12  82.000000 1.5692375\n",
       "c13.loc8    13   8.000000 2.2016067\n",
       "14_2427325  14  14.074002 0.7346166\n",
       "15_584182   15   0.000000 2.6566711\n",
       "c16.loc24   16  24.000000 0.5454164\n",
       "c17.loc4    17   4.000000 5.9382608\n",
       "c18.loc64   18  64.000000 2.2514462\n",
       "19_24491792 19  60.372076 0.5507481"
      ]
     },
     "metadata": {},
     "output_type": "display_data"
    },
    {
     "data": {
      "text/plain": [
       "LOD thresholds (1000 permutations)\n",
       "   [,1]\n",
       "5% 6.08\n",
       "1% 9.43"
      ]
     },
     "metadata": {},
     "output_type": "display_data"
    },
    {
     "data": {
      "image/png": "[encoded data removed]",
      "text/plain": [
       "plot without title"
      ]
     },
     "metadata": {
      "image/png": {
       "height": 420,
       "width": 420
      },
      "text/plain": {
       "height": 420,
       "width": 420
      }
     },
     "output_type": "display_data"
    }
   ],
   "source": [
    "#Deterime LOD Values\n",
    "TraitCIM<-cim(Map,pheno.col = colNum,method = \"hk\",\n",
    "              map.function = \"kosambi\") #Generate LOD Values\n",
    "plot(TraitCIM) #show LOD graph\n",
    "abline(h = LOD5,col = \"blue\") #overlay statistically significant line\n",
    "print(\"If nothing shows up, the values \n",
    "      are below the LOD5 score\") #warning for no peaks\n",
    "summary(TraitCIM)\n",
    "summary(TraitCIM1000,alpha=c(.05,.01))"
   ]
  },
  {
   "cell_type": "code",
   "execution_count": 7,
   "metadata": {},
   "outputs": [
    {
     "name": "stdin",
     "output_type": "stream",
     "text": [
      "Chromosome?  19\n",
      "Would you like to investigate \n",
      "                  another chromosome? (Y/N):  N\n"
     ]
    },
    {
     "data": {
      "image/png": "[encoded data removed]",
      "text/plain": [
       "plot without title"
      ]
     },
     "metadata": {
      "image/png": {
       "height": 420,
       "width": 420
      },
      "text/plain": {
       "height": 420,
       "width": 420
      }
     },
     "output_type": "display_data"
    }
   ],
   "source": [
    "#Chromosomal Analysis\n",
    "cont = 'Y' #Run loop on first run through\n",
    "while(cont == 'Y'){\n",
    "  chr <- as.numeric(readline(\"Chromosome? \")) #collect chromosome to look at\n",
    "  plot(TraitCIM, chr = chr, xlab= chr) #Plot chr LOD scores\n",
    "  abline(h = LOD5, col = \"blue\") #Statistically Significant\n",
    "  cont = readline(\"Would you like to investigate \n",
    "                  another chromosome? (Y/N): \") #Y if multiple\n",
    "                  #chromosomes are to be investigated\n",
    "}"
   ]
  },
  {
   "cell_type": "code",
   "execution_count": 8,
   "metadata": {},
   "outputs": [
    {
     "data": {
      "text/html": [
       "<table>\n",
       "<caption>A scanone: 3 × 3</caption>\n",
       "<thead>\n",
       "\t<tr><th></th><th scope=col>chr</th><th scope=col>pos</th><th scope=col>lod</th></tr>\n",
       "\t<tr><th></th><th scope=col>&lt;fct&gt;</th><th scope=col>&lt;dbl&gt;</th><th scope=col>&lt;dbl&gt;</th></tr>\n",
       "</thead>\n",
       "<tbody>\n",
       "\t<tr><th scope=row>19_276443</th><td>19</td><td> 0.00000</td><td>0.3141722</td></tr>\n",
       "\t<tr><th scope=row>19_23864743</th><td>19</td><td>59.92908</td><td>2.2836045</td></tr>\n",
       "\t<tr><th scope=row>15_6360233</th><td>19</td><td>61.47008</td><td>1.1145153</td></tr>\n",
       "</tbody>\n",
       "</table>\n"
      ],
      "text/latex": [
       "A scanone: 3 × 3\n",
       "\\begin{tabular}{r|lll}\n",
       "  & chr & pos & lod\\\\\n",
       "  & <fct> & <dbl> & <dbl>\\\\\n",
       "\\hline\n",
       "\t19\\_276443 & 19 &  0.00000 & 0.3141722\\\\\n",
       "\t19\\_23864743 & 19 & 59.92908 & 2.2836045\\\\\n",
       "\t15\\_6360233 & 19 & 61.47008 & 1.1145153\\\\\n",
       "\\end{tabular}\n"
      ],
      "text/markdown": [
       "\n",
       "A scanone: 3 × 3\n",
       "\n",
       "| <!--/--> | chr &lt;fct&gt; | pos &lt;dbl&gt; | lod &lt;dbl&gt; |\n",
       "|---|---|---|---|\n",
       "| 19_276443 | 19 |  0.00000 | 0.3141722 |\n",
       "| 19_23864743 | 19 | 59.92908 | 2.2836045 |\n",
       "| 15_6360233 | 19 | 61.47008 | 1.1145153 |\n",
       "\n"
      ],
      "text/plain": [
       "            chr pos      lod      \n",
       "19_276443   19   0.00000 0.3141722\n",
       "19_23864743 19  59.92908 2.2836045\n",
       "15_6360233  19  61.47008 1.1145153"
      ]
     },
     "metadata": {},
     "output_type": "display_data"
    },
    {
     "data": {
      "text/html": [
       "<table>\n",
       "<caption>A scanone: 3 × 3</caption>\n",
       "<thead>\n",
       "\t<tr><th></th><th scope=col>chr</th><th scope=col>pos</th><th scope=col>lod</th></tr>\n",
       "\t<tr><th></th><th scope=col>&lt;fct&gt;</th><th scope=col>&lt;dbl&gt;</th><th scope=col>&lt;dbl&gt;</th></tr>\n",
       "</thead>\n",
       "<tbody>\n",
       "\t<tr><th scope=row>c19.loc51</th><td>19</td><td>51.00000</td><td>0.1856489</td></tr>\n",
       "\t<tr><th scope=row>19_23864743</th><td>19</td><td>59.92908</td><td>2.2836045</td></tr>\n",
       "\t<tr><th scope=row>15_6360233</th><td>19</td><td>61.47008</td><td>1.1145153</td></tr>\n",
       "</tbody>\n",
       "</table>\n"
      ],
      "text/latex": [
       "A scanone: 3 × 3\n",
       "\\begin{tabular}{r|lll}\n",
       "  & chr & pos & lod\\\\\n",
       "  & <fct> & <dbl> & <dbl>\\\\\n",
       "\\hline\n",
       "\tc19.loc51 & 19 & 51.00000 & 0.1856489\\\\\n",
       "\t19\\_23864743 & 19 & 59.92908 & 2.2836045\\\\\n",
       "\t15\\_6360233 & 19 & 61.47008 & 1.1145153\\\\\n",
       "\\end{tabular}\n"
      ],
      "text/markdown": [
       "\n",
       "A scanone: 3 × 3\n",
       "\n",
       "| <!--/--> | chr &lt;fct&gt; | pos &lt;dbl&gt; | lod &lt;dbl&gt; |\n",
       "|---|---|---|---|\n",
       "| c19.loc51 | 19 | 51.00000 | 0.1856489 |\n",
       "| 19_23864743 | 19 | 59.92908 | 2.2836045 |\n",
       "| 15_6360233 | 19 | 61.47008 | 1.1145153 |\n",
       "\n"
      ],
      "text/plain": [
       "            chr pos      lod      \n",
       "c19.loc51   19  51.00000 0.1856489\n",
       "19_23864743 19  59.92908 2.2836045\n",
       "15_6360233  19  61.47008 1.1145153"
      ]
     },
     "metadata": {},
     "output_type": "display_data"
    }
   ],
   "source": [
    "#change to chromosome of interest below:\n",
    "bayesint(TraitCIM, chr = 19) #calculate bayesian interval\n",
    "lodint(TraitCIM, chr = 19) #calculate LOD Support interval"
   ]
  },
  {
   "cell_type": "code",
   "execution_count": 9,
   "metadata": {},
   "outputs": [
    {
     "name": "stdin",
     "output_type": "stream",
     "text": [
      "Position for analysis:  59.92\n"
     ]
    },
    {
     "name": "stderr",
     "output_type": "stream",
     "text": [
      "Warning message in getsex(cross):\n",
      "\"125 individuals with missing sex; assuming they're female\"\n",
      "Warning message in fitqtlengine(pheno = pheno, qtl = qtl, covar = covar, formula = formula, :\n",
      "\"Dropping 127 individuals with missing phenotypes.\n",
      "\"\n",
      "Warning message in getsex(cross):\n",
      "\"125 individuals with missing sex; assuming they're female\"\n"
     ]
    },
    {
     "data": {
      "text/plain": [
       "\n",
       "\t\tfitqtl summary\n",
       "\n",
       "Method: Haley-Knott regression \n",
       "Model:  normal phenotype\n",
       "Number of observations : 167 \n",
       "\n",
       "Full model result\n",
       "----------------------------------  \n",
       "Model formula: y ~ Q1 \n",
       "\n",
       "       df         SS        MS      LOD     %var Pvalue(Chi2)   Pvalue(F)\n",
       "Model   1   7.276387 7.2763870 1.609957 4.342489   0.00647137 0.006882988\n",
       "Error 165 160.286184 0.9714314                                           \n",
       "Total 166 167.562571                                                     \n",
       "\n",
       "\n",
       "Estimated effects:\n",
       "-----------------\n",
       "              est      SE      t\n",
       "Intercept 4.40361 0.07639 57.648\n",
       "19@59.9   0.42061 0.15368  2.737\n"
      ]
     },
     "metadata": {},
     "output_type": "display_data"
    }
   ],
   "source": [
    "p <- as.numeric(readline(\"Position for analysis: \"))\n",
    "qtl <- makeqtl(Map, chr = chr, pos = p, what=\"prob\") #pulls genotype probabilities\n",
    "fitqtl <- fitqtl(Map, pheno.col=colNum, qtl = qtl, covar=NULL,\n",
    "       method= \"hk\",model=\"normal\",\n",
    "       dropone=TRUE, get.ests=TRUE,run.checks=TRUE,\n",
    "       tol=1e-4, maxit=1000, forceXcovar=FALSE) #sees how well our data fits a given formula \n",
    "          # If you see \"error: object of type 'closure' is not subsettable\", remove \"formula,\" from the fitqtl argument list.\n",
    "summary(fitqtl) #Print results of the analysis"
   ]
  },
  {
   "cell_type": "code",
   "execution_count": 10,
   "metadata": {},
   "outputs": [
    {
     "name": "stdout",
     "output_type": "stream",
     "text": [
      "[1] \"Make sure to input names AS THEY APPEAR on the csv!!\"\n"
     ]
    },
    {
     "name": "stdin",
     "output_type": "stream",
     "text": [
      "Enter file name (Either FemaleMap.csv or MaleMap.csv):  MaleMap.csv\n",
      "First Genotype (homozygous) (For example ll):  nn\n",
      "Second Genotype (heterozygous) (for example lm):  np\n",
      "Column Number:  30\n"
     ]
    }
   ],
   "source": [
    "#Collecting enviroment variables\n",
    "print(\"Make sure to input names AS THEY APPEAR on the csv!!\") #Just a user warning\n",
    "fileName <- readline(\"Enter file name (Either FemaleMap.csv or MaleMap.csv): \") #Mapping table file\n",
    "genotypeName <- c(readline(\"First Genotype (homozygous) (For example ll): \"),\n",
    "                  readline(\"Second Genotype (heterozygous) (for example lm): \")) #For example \"nn\", \"np\"\n",
    "alleleName <- c(substr(genotypeName[2],1,1) ,substr(genotypeName[2],2,2))\n",
    "naNames <- c(\"NA\",\"--\") #For example \"NA\", \"--\"\n",
    "colNum <- as.numeric(readline(\"Column Number: \")) #Column for pheno of interest"
   ]
  },
  {
   "cell_type": "code",
   "execution_count": 11,
   "metadata": {},
   "outputs": [
    {
     "name": "stdout",
     "output_type": "stream",
     "text": [
      " --Read the following data:\n",
      "\t 294  individuals\n",
      "\t 1128  markers\n",
      "\t 38  phenotypes\n"
     ]
    },
    {
     "name": "stderr",
     "output_type": "stream",
     "text": [
      "Warning message in summary.cross(cross):\n",
      "\"Some markers at the same position on chr 1,3,4,5,6,7,8,9,10,12,13,14,15,16,17,18,19; use jittermap().\"\n"
     ]
    },
    {
     "name": "stdout",
     "output_type": "stream",
     "text": [
      " --Cross type: bc \n"
     ]
    },
    {
     "data": {
      "image/png": "[encoded data removed]",
      "text/plain": [
       "Plot with title \"Genetic map\""
      ]
     },
     "metadata": {
      "image/png": {
       "height": 420,
       "width": 420
      },
      "text/plain": {
       "height": 420,
       "width": 420
      }
     },
     "output_type": "display_data"
    }
   ],
   "source": [
    "#Map generation\n",
    "Map <- read.cross(format = 'csv',file = fileName \n",
    "                  ,genotypes = genotypeName,\n",
    "                  alleles = alleleName,na.strings = naNames) #generate linkage map\n",
    "Map <- jittermap(Map) #make sure no markers are in the same location\n",
    "Map <- calc.genoprob(Map,step = 1,map.function = \"kosambi\") #associate markers with full genotypes\n",
    "plot.map(Map) #draw linkage map"
   ]
  },
  {
   "cell_type": "code",
   "execution_count": 12,
   "metadata": {},
   "outputs": [
    {
     "data": {
      "image/png": "[encoded data removed]",
      "text/plain": [
       "Plot with title \"\""
      ]
     },
     "metadata": {
      "image/png": {
       "height": 420,
       "width": 420
      },
      "text/plain": {
       "height": 420,
       "width": 420
      }
     },
     "output_type": "display_data"
    }
   ],
   "source": [
    "plotNormalHistogram(Map$pheno[,colNum]) #normal histogram of pheno of interest"
   ]
  },
  {
   "cell_type": "markdown",
   "metadata": {},
   "source": [
    "Outliers exist in this data. "
   ]
  },
  {
   "cell_type": "code",
   "execution_count": 13,
   "metadata": {},
   "outputs": [
    {
     "data": {
      "image/png": "[encoded data removed]",
      "text/plain": [
       "Plot with title \"\""
      ]
     },
     "metadata": {
      "image/png": {
       "height": 420,
       "width": 420
      },
      "text/plain": {
       "height": 420,
       "width": 420
      }
     },
     "output_type": "display_data"
    }
   ],
   "source": [
    "#Compute statistically significant values\n",
    "TraitCIM1000 <- cim(Map,pheno.col = colNum,method = \"hk\",\n",
    "                    map.function = \"kosambi\",n.perm = 1000) # Function will take a moment to run, determines LOD value\n",
    "plot(TraitCIM1000,col = 'green') #show distribution of lod scores\n",
    "LOD5 <- summary(TraitCIM1000)[1]"
   ]
  },
  {
   "cell_type": "code",
   "execution_count": 14,
   "metadata": {},
   "outputs": [
    {
     "name": "stdout",
     "output_type": "stream",
     "text": [
      "[1] \"If nothing shows up, the values \\n      are below the LOD5 score\"\n"
     ]
    },
    {
     "data": {
      "text/html": [
       "<table>\n",
       "<caption>A summary.scanone: 19 × 3</caption>\n",
       "<thead>\n",
       "\t<tr><th></th><th scope=col>chr</th><th scope=col>pos</th><th scope=col>lod</th></tr>\n",
       "\t<tr><th></th><th scope=col>&lt;fct&gt;</th><th scope=col>&lt;dbl&gt;</th><th scope=col>&lt;dbl&gt;</th></tr>\n",
       "</thead>\n",
       "<tbody>\n",
       "\t<tr><th scope=row>13_14783587</th><td>1 </td><td>94.10106</td><td>3.0243688</td></tr>\n",
       "\t<tr><th scope=row>2_4272908</th><td>2 </td><td>20.03701</td><td>1.4691876</td></tr>\n",
       "\t<tr><th scope=row>c3.loc49</th><td>3 </td><td>49.00000</td><td>1.6584431</td></tr>\n",
       "\t<tr><th scope=row>4_7599187</th><td>4 </td><td>35.68002</td><td>0.3384791</td></tr>\n",
       "\t<tr><th scope=row>18_30393961</th><td>5 </td><td>21.53601</td><td>1.9761381</td></tr>\n",
       "\t<tr><th scope=row>c6.loc58</th><td>6 </td><td>58.00000</td><td>2.9800243</td></tr>\n",
       "\t<tr><th scope=row>c7.loc56</th><td>7 </td><td>56.00000</td><td>2.3160516</td></tr>\n",
       "\t<tr><th scope=row>c8.loc62</th><td>8 </td><td>62.00000</td><td>0.6221349</td></tr>\n",
       "\t<tr><th scope=row>c9.loc56</th><td>9 </td><td>56.00000</td><td>0.2436523</td></tr>\n",
       "\t<tr><th scope=row>c10.loc40</th><td>10</td><td>40.00000</td><td>1.5202504</td></tr>\n",
       "\t<tr><th scope=row>c11.loc73</th><td>11</td><td>73.00000</td><td>1.3092715</td></tr>\n",
       "\t<tr><th scope=row>c12.loc57</th><td>12</td><td>57.00000</td><td>1.8552915</td></tr>\n",
       "\t<tr><th scope=row>c13.loc54</th><td>13</td><td>54.00000</td><td>2.7975914</td></tr>\n",
       "\t<tr><th scope=row>14_29564069</th><td>14</td><td>92.58608</td><td>1.4418321</td></tr>\n",
       "\t<tr><th scope=row>c15.loc35</th><td>15</td><td>35.00000</td><td>0.8958626</td></tr>\n",
       "\t<tr><th scope=row>c16.loc20</th><td>16</td><td>20.00000</td><td>1.0334263</td></tr>\n",
       "\t<tr><th scope=row>c17.loc57</th><td>17</td><td>57.00000</td><td>1.2741827</td></tr>\n",
       "\t<tr><th scope=row>c18.loc64</th><td>18</td><td>64.00000</td><td>0.8271093</td></tr>\n",
       "\t<tr><th scope=row>c19.loc2</th><td>19</td><td> 2.00000</td><td>0.8951529</td></tr>\n",
       "</tbody>\n",
       "</table>\n"
      ],
      "text/latex": [
       "A summary.scanone: 19 × 3\n",
       "\\begin{tabular}{r|lll}\n",
       "  & chr & pos & lod\\\\\n",
       "  & <fct> & <dbl> & <dbl>\\\\\n",
       "\\hline\n",
       "\t13\\_14783587 & 1  & 94.10106 & 3.0243688\\\\\n",
       "\t2\\_4272908 & 2  & 20.03701 & 1.4691876\\\\\n",
       "\tc3.loc49 & 3  & 49.00000 & 1.6584431\\\\\n",
       "\t4\\_7599187 & 4  & 35.68002 & 0.3384791\\\\\n",
       "\t18\\_30393961 & 5  & 21.53601 & 1.9761381\\\\\n",
       "\tc6.loc58 & 6  & 58.00000 & 2.9800243\\\\\n",
       "\tc7.loc56 & 7  & 56.00000 & 2.3160516\\\\\n",
       "\tc8.loc62 & 8  & 62.00000 & 0.6221349\\\\\n",
       "\tc9.loc56 & 9  & 56.00000 & 0.2436523\\\\\n",
       "\tc10.loc40 & 10 & 40.00000 & 1.5202504\\\\\n",
       "\tc11.loc73 & 11 & 73.00000 & 1.3092715\\\\\n",
       "\tc12.loc57 & 12 & 57.00000 & 1.8552915\\\\\n",
       "\tc13.loc54 & 13 & 54.00000 & 2.7975914\\\\\n",
       "\t14\\_29564069 & 14 & 92.58608 & 1.4418321\\\\\n",
       "\tc15.loc35 & 15 & 35.00000 & 0.8958626\\\\\n",
       "\tc16.loc20 & 16 & 20.00000 & 1.0334263\\\\\n",
       "\tc17.loc57 & 17 & 57.00000 & 1.2741827\\\\\n",
       "\tc18.loc64 & 18 & 64.00000 & 0.8271093\\\\\n",
       "\tc19.loc2 & 19 &  2.00000 & 0.8951529\\\\\n",
       "\\end{tabular}\n"
      ],
      "text/markdown": [
       "\n",
       "A summary.scanone: 19 × 3\n",
       "\n",
       "| <!--/--> | chr &lt;fct&gt; | pos &lt;dbl&gt; | lod &lt;dbl&gt; |\n",
       "|---|---|---|---|\n",
       "| 13_14783587 | 1  | 94.10106 | 3.0243688 |\n",
       "| 2_4272908 | 2  | 20.03701 | 1.4691876 |\n",
       "| c3.loc49 | 3  | 49.00000 | 1.6584431 |\n",
       "| 4_7599187 | 4  | 35.68002 | 0.3384791 |\n",
       "| 18_30393961 | 5  | 21.53601 | 1.9761381 |\n",
       "| c6.loc58 | 6  | 58.00000 | 2.9800243 |\n",
       "| c7.loc56 | 7  | 56.00000 | 2.3160516 |\n",
       "| c8.loc62 | 8  | 62.00000 | 0.6221349 |\n",
       "| c9.loc56 | 9  | 56.00000 | 0.2436523 |\n",
       "| c10.loc40 | 10 | 40.00000 | 1.5202504 |\n",
       "| c11.loc73 | 11 | 73.00000 | 1.3092715 |\n",
       "| c12.loc57 | 12 | 57.00000 | 1.8552915 |\n",
       "| c13.loc54 | 13 | 54.00000 | 2.7975914 |\n",
       "| 14_29564069 | 14 | 92.58608 | 1.4418321 |\n",
       "| c15.loc35 | 15 | 35.00000 | 0.8958626 |\n",
       "| c16.loc20 | 16 | 20.00000 | 1.0334263 |\n",
       "| c17.loc57 | 17 | 57.00000 | 1.2741827 |\n",
       "| c18.loc64 | 18 | 64.00000 | 0.8271093 |\n",
       "| c19.loc2 | 19 |  2.00000 | 0.8951529 |\n",
       "\n"
      ],
      "text/plain": [
       "            chr pos      lod      \n",
       "13_14783587 1   94.10106 3.0243688\n",
       "2_4272908   2   20.03701 1.4691876\n",
       "c3.loc49    3   49.00000 1.6584431\n",
       "4_7599187   4   35.68002 0.3384791\n",
       "18_30393961 5   21.53601 1.9761381\n",
       "c6.loc58    6   58.00000 2.9800243\n",
       "c7.loc56    7   56.00000 2.3160516\n",
       "c8.loc62    8   62.00000 0.6221349\n",
       "c9.loc56    9   56.00000 0.2436523\n",
       "c10.loc40   10  40.00000 1.5202504\n",
       "c11.loc73   11  73.00000 1.3092715\n",
       "c12.loc57   12  57.00000 1.8552915\n",
       "c13.loc54   13  54.00000 2.7975914\n",
       "14_29564069 14  92.58608 1.4418321\n",
       "c15.loc35   15  35.00000 0.8958626\n",
       "c16.loc20   16  20.00000 1.0334263\n",
       "c17.loc57   17  57.00000 1.2741827\n",
       "c18.loc64   18  64.00000 0.8271093\n",
       "c19.loc2    19   2.00000 0.8951529"
      ]
     },
     "metadata": {},
     "output_type": "display_data"
    },
    {
     "data": {
      "text/plain": [
       "LOD thresholds (1000 permutations)\n",
       "   [,1]\n",
       "5% 4.15\n",
       "1% 4.95"
      ]
     },
     "metadata": {},
     "output_type": "display_data"
    },
    {
     "data": {
      "image/png": "[encoded data removed]",
      "text/plain": [
       "plot without title"
      ]
     },
     "metadata": {
      "image/png": {
       "height": 420,
       "width": 420
      },
      "text/plain": {
       "height": 420,
       "width": 420
      }
     },
     "output_type": "display_data"
    }
   ],
   "source": [
    "#Deterime LOD Values\n",
    "TraitCIM<-cim(Map,pheno.col = colNum,method = \"hk\",\n",
    "              map.function = \"kosambi\") #Generate LOD Values\n",
    "plot(TraitCIM) #show LOD graph\n",
    "abline(h = LOD5,col = \"blue\") #overlay statistically significant line\n",
    "print(\"If nothing shows up, the values \n",
    "      are below the LOD5 score\") #warning for no peaks\n",
    "summary(TraitCIM)\n",
    "summary(TraitCIM1000,alpha=c(.05,.01))"
   ]
  },
  {
   "cell_type": "code",
   "execution_count": 15,
   "metadata": {},
   "outputs": [
    {
     "name": "stdin",
     "output_type": "stream",
     "text": [
      "Chromosome?  1\n",
      "Would you like to investigate \n",
      "                  another chromosome? (Y/N):  N\n"
     ]
    },
    {
     "data": {
      "image/png": "[encoded data removed]",
      "text/plain": [
       "plot without title"
      ]
     },
     "metadata": {
      "image/png": {
       "height": 420,
       "width": 420
      },
      "text/plain": {
       "height": 420,
       "width": 420
      }
     },
     "output_type": "display_data"
    }
   ],
   "source": [
    "#Chromosomal Analysis\n",
    "cont = 'Y' #Run loop on first run through\n",
    "while(cont == 'Y'){\n",
    "  chr <- as.numeric(readline(\"Chromosome? \")) #collect chromosome to look at\n",
    "  plot(TraitCIM, chr = chr, xlab=chr) #Plot chr LOD scores\n",
    "  abline(h = LOD5, col = \"blue\") #Statistically Significant\n",
    "  cont = readline(\"Would you like to investigate \n",
    "                  another chromosome? (Y/N): \") #Y if multiple\n",
    "                  #chromosomes are to be investigated\n",
    "}"
   ]
  },
  {
   "cell_type": "code",
   "execution_count": null,
   "metadata": {},
   "outputs": [],
   "source": []
  }
 ],
 "metadata": {
  "kernelspec": {
   "display_name": "R",
   "language": "R",
   "name": "ir"
  },
  "language_info": {
   "codemirror_mode": "r",
   "file_extension": ".r",
   "mimetype": "text/x-r-source",
   "name": "R",
   "pygments_lexer": "r",
   "version": "3.6.3"
  }
 },
 "nbformat": 4,
 "nbformat_minor": 4
}
