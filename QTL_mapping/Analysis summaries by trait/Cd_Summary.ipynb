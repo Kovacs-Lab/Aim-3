{
 "cells": [
  {
   "cell_type": "markdown",
   "metadata": {},
   "source": [
    "This analysis is in the order of Female then Male"
   ]
  },
  {
   "cell_type": "code",
   "execution_count": 1,
   "metadata": {},
   "outputs": [
    {
     "name": "stderr",
     "output_type": "stream",
     "text": [
      "Installing package into 'C:/Users/daeda/OneDrive/Documents/R/win-library/3.6'\n",
      "(as 'lib' is unspecified)\n",
      "\n"
     ]
    },
    {
     "name": "stdout",
     "output_type": "stream",
     "text": [
      "package 'qtl' successfully unpacked and MD5 sums checked\n"
     ]
    },
    {
     "name": "stderr",
     "output_type": "stream",
     "text": [
      "Warning message:\n",
      "\"cannot remove prior installation of package 'qtl'\"\n",
      "Warning message in file.copy(savedcopy, lib, recursive = TRUE):\n",
      "\"problem copying C:\\Users\\daeda\\OneDrive\\Documents\\R\\win-library\\3.6\\00LOCK\\qtl\\libs\\x64\\qtl.dll to C:\\Users\\daeda\\OneDrive\\Documents\\R\\win-library\\3.6\\qtl\\libs\\x64\\qtl.dll: Permission denied\"\n",
      "Warning message:\n",
      "\"restored 'qtl'\"\n"
     ]
    },
    {
     "name": "stdout",
     "output_type": "stream",
     "text": [
      "\n",
      "The downloaded binary packages are in\n",
      "\tC:\\Users\\daeda\\AppData\\Local\\Temp\\RtmpkH2dRv\\downloaded_packages\n"
     ]
    },
    {
     "name": "stderr",
     "output_type": "stream",
     "text": [
      "Installing package into 'C:/Users/daeda/OneDrive/Documents/R/win-library/3.6'\n",
      "(as 'lib' is unspecified)\n",
      "\n"
     ]
    },
    {
     "name": "stdout",
     "output_type": "stream",
     "text": [
      "package 'qtlcharts' successfully unpacked and MD5 sums checked\n",
      "\n",
      "The downloaded binary packages are in\n",
      "\tC:\\Users\\daeda\\AppData\\Local\\Temp\\RtmpkH2dRv\\downloaded_packages\n"
     ]
    },
    {
     "name": "stderr",
     "output_type": "stream",
     "text": [
      "Installing package into 'C:/Users/daeda/OneDrive/Documents/R/win-library/3.6'\n",
      "(as 'lib' is unspecified)\n",
      "\n"
     ]
    },
    {
     "name": "stdout",
     "output_type": "stream",
     "text": [
      "package 'LinkageMapView' successfully unpacked and MD5 sums checked\n",
      "\n",
      "The downloaded binary packages are in\n",
      "\tC:\\Users\\daeda\\AppData\\Local\\Temp\\RtmpkH2dRv\\downloaded_packages\n"
     ]
    },
    {
     "name": "stderr",
     "output_type": "stream",
     "text": [
      "Installing package into 'C:/Users/daeda/OneDrive/Documents/R/win-library/3.6'\n",
      "(as 'lib' is unspecified)\n",
      "\n"
     ]
    },
    {
     "name": "stdout",
     "output_type": "stream",
     "text": [
      "package 'rcompanion' successfully unpacked and MD5 sums checked\n",
      "\n",
      "The downloaded binary packages are in\n",
      "\tC:\\Users\\daeda\\AppData\\Local\\Temp\\RtmpkH2dRv\\downloaded_packages\n"
     ]
    },
    {
     "name": "stderr",
     "output_type": "stream",
     "text": [
      "Warning message:\n",
      "\"package 'qtl' was built under R version 3.6.2\"\n",
      "Warning message:\n",
      "\"package 'qtlcharts' was built under R version 3.6.2\"\n",
      "Warning message:\n",
      "\"package 'LinkageMapView' was built under R version 3.6.2\"\n",
      "Warning message:\n",
      "\"package 'rcompanion' was built under R version 3.6.2\"\n"
     ]
    }
   ],
   "source": [
    "install.packages('qtl') #Main package, for analysis\n",
    "install.packages('qtlcharts') #accessory, for displaying graphs\n",
    "install.packages('LinkageMapView') #accessory, for displaying linkage maps\n",
    "install.packages('rcompanion')# for plotNormalHistogram\n",
    "library(qtl) #load packages\n",
    "library(qtlcharts)\n",
    "library(LinkageMapView)\n",
    "library(rcompanion)"
   ]
  },
  {
   "cell_type": "code",
   "execution_count": 2,
   "metadata": {},
   "outputs": [
    {
     "name": "stdout",
     "output_type": "stream",
     "text": [
      "[1] \"Make sure to input names AS THEY APPEAR on the csv!!\"\n"
     ]
    },
    {
     "name": "stdin",
     "output_type": "stream",
     "text": [
      "Enter file name (Either FemaleMap.csv or MaleMap.csv):  FemaleMap.csv\n",
      "First Genotype (homozygous) (For example ll):  ll\n",
      "Second Genotype (heterozygous) (for example lm):  lm\n",
      "Column Number:  36\n"
     ]
    }
   ],
   "source": [
    "#Collecting enviroment variables\n",
    "print(\"Make sure to input names AS THEY APPEAR on the csv!!\") #Just a user warning\n",
    "fileName <- readline(\"Enter file name (Either FemaleMap.csv or MaleMap.csv): \") #Mapping table file\n",
    "genotypeName <- c(readline(\"First Genotype (homozygous) (For example ll): \"),\n",
    "                  readline(\"Second Genotype (heterozygous) (for example lm): \")) #For example \"nn\", \"np\"\n",
    "alleleName <- c(substr(genotypeName[2],1,1) ,substr(genotypeName[2],2,2))\n",
    "naNames <- c(\"NA\",\"--\") #For example \"NA\", \"--\"\n",
    "colNum <- as.numeric(readline(\"Column Number: \")) #Column for pheno of interest"
   ]
  },
  {
   "cell_type": "code",
   "execution_count": 3,
   "metadata": {},
   "outputs": [
    {
     "name": "stdout",
     "output_type": "stream",
     "text": [
      " --Read the following data:\n",
      "\t 294  individuals\n",
      "\t 1100  markers\n",
      "\t 38  phenotypes\n"
     ]
    },
    {
     "name": "stderr",
     "output_type": "stream",
     "text": [
      "Warning message in summary.cross(cross):\n",
      "\"Some markers at the same position on chr 1,2,4,5,7,8,9,10,11,12,13,14,16,17,18,19; use jittermap().\"\n"
     ]
    },
    {
     "name": "stdout",
     "output_type": "stream",
     "text": [
      " --Cross type: bc \n"
     ]
    },
    {
     "data": {
      "image/png": "[encoded data removed]",
      "text/plain": [
       "Plot with title \"Genetic map\""
      ]
     },
     "metadata": {
      "image/png": {
       "height": 420,
       "width": 420
      },
      "text/plain": {
       "height": 420,
       "width": 420
      }
     },
     "output_type": "display_data"
    }
   ],
   "source": [
    "#Map generation\n",
    "Map <- read.cross(format = 'csv',file = fileName \n",
    "                  ,genotypes = genotypeName,\n",
    "                  alleles = alleleName,na.strings = naNames) #generate linkage map\n",
    "Map <- jittermap(Map) #make sure no markers are in the same location\n",
    "Map <- calc.genoprob(Map,step = 1,map.function = \"kosambi\") #associate markers with full genotypes\n",
    "plot.map(Map) #draw linkage map"
   ]
  },
  {
   "cell_type": "code",
   "execution_count": 4,
   "metadata": {},
   "outputs": [
    {
     "data": {
      "image/png": "[encoded data removed]",
      "text/plain": [
       "Plot with title \"\""
      ]
     },
     "metadata": {
      "image/png": {
       "height": 420,
       "width": 420
      },
      "text/plain": {
       "height": 420,
       "width": 420
      }
     },
     "output_type": "display_data"
    }
   ],
   "source": [
    "plotNormalHistogram(Map$pheno[,colNum]) #normal histogram of pheno of interest"
   ]
  },
  {
   "cell_type": "code",
   "execution_count": 5,
   "metadata": {},
   "outputs": [
    {
     "data": {
      "image/png": "[encoded data removed]",
      "text/plain": [
       "Plot with title \"\""
      ]
     },
     "metadata": {
      "image/png": {
       "height": 420,
       "width": 420
      },
      "text/plain": {
       "height": 420,
       "width": 420
      }
     },
     "output_type": "display_data"
    }
   ],
   "source": [
    "#Compute statistically significant values\n",
    "TraitCIM1000 <- cim(Map,pheno.col = colNum,method = \"hk\",\n",
    "                    map.function = \"kosambi\",n.perm = 1000) # Function will take a moment to run, determines LOD value\n",
    "plot(TraitCIM1000,col = 'green') #show distribution of lod scores\n",
    "LOD5 <- summary(TraitCIM1000)[1]"
   ]
  },
  {
   "cell_type": "code",
   "execution_count": 6,
   "metadata": {},
   "outputs": [
    {
     "name": "stdout",
     "output_type": "stream",
     "text": [
      "[1] \"If nothing shows up, the values \\n      are below the LOD5 score\"\n"
     ]
    },
    {
     "data": {
      "text/html": [
       "<table>\n",
       "<caption>A summary.scanone: 19 × 3</caption>\n",
       "<thead>\n",
       "\t<tr><th></th><th scope=col>chr</th><th scope=col>pos</th><th scope=col>lod</th></tr>\n",
       "\t<tr><th></th><th scope=col>&lt;fct&gt;</th><th scope=col>&lt;dbl&gt;</th><th scope=col>&lt;dbl&gt;</th></tr>\n",
       "</thead>\n",
       "<tbody>\n",
       "\t<tr><th scope=row>1_19614222</th><td>1 </td><td> 64.750041</td><td>1.0225644</td></tr>\n",
       "\t<tr><th scope=row>c2.loc31</th><td>2 </td><td> 31.000000</td><td>0.4170217</td></tr>\n",
       "\t<tr><th scope=row>3_2108599</th><td>3 </td><td>  7.569010</td><td>1.3754942</td></tr>\n",
       "\t<tr><th scope=row>c4.loc48</th><td>4 </td><td> 48.000000</td><td>0.9365132</td></tr>\n",
       "\t<tr><th scope=row>c5.loc49</th><td>5 </td><td> 49.000000</td><td>1.1227236</td></tr>\n",
       "\t<tr><th scope=row>6_2687012</th><td>6 </td><td>  9.130006</td><td>0.9106733</td></tr>\n",
       "\t<tr><th scope=row>c7.loc83</th><td>7 </td><td> 83.000000</td><td>0.9024863</td></tr>\n",
       "\t<tr><th scope=row>c8.loc24</th><td>8 </td><td> 24.000000</td><td>0.8275362</td></tr>\n",
       "\t<tr><th scope=row>c9.loc36</th><td>9 </td><td> 36.000000</td><td>0.8853277</td></tr>\n",
       "\t<tr><th scope=row>10_10285849</th><td>10</td><td> 46.149032</td><td>1.4881412</td></tr>\n",
       "\t<tr><th scope=row>11_11180265</th><td>11</td><td> 43.715027</td><td>1.1198741</td></tr>\n",
       "\t<tr><th scope=row>c12.loc4</th><td>12</td><td>  4.000000</td><td>0.7446721</td></tr>\n",
       "\t<tr><th scope=row>13_19655621</th><td>13</td><td> 51.060033</td><td>0.9836546</td></tr>\n",
       "\t<tr><th scope=row>c14.loc37</th><td>14</td><td> 37.000000</td><td>1.1788244</td></tr>\n",
       "\t<tr><th scope=row>15_11421756</th><td>15</td><td> 11.743023</td><td>1.5271179</td></tr>\n",
       "\t<tr><th scope=row>c16.loc8</th><td>16</td><td>  8.000000</td><td>0.6870437</td></tr>\n",
       "\t<tr><th scope=row>c17.loc4</th><td>17</td><td>  4.000000</td><td>1.2007647</td></tr>\n",
       "\t<tr><th scope=row>10_20190838</th><td>18</td><td>108.923077</td><td>0.9161473</td></tr>\n",
       "\t<tr><th scope=row>c19.loc50</th><td>19</td><td> 50.000000</td><td>0.4189986</td></tr>\n",
       "</tbody>\n",
       "</table>\n"
      ],
      "text/latex": [
       "A summary.scanone: 19 × 3\n",
       "\\begin{tabular}{r|lll}\n",
       "  & chr & pos & lod\\\\\n",
       "  & <fct> & <dbl> & <dbl>\\\\\n",
       "\\hline\n",
       "\t1\\_19614222 & 1  &  64.750041 & 1.0225644\\\\\n",
       "\tc2.loc31 & 2  &  31.000000 & 0.4170217\\\\\n",
       "\t3\\_2108599 & 3  &   7.569010 & 1.3754942\\\\\n",
       "\tc4.loc48 & 4  &  48.000000 & 0.9365132\\\\\n",
       "\tc5.loc49 & 5  &  49.000000 & 1.1227236\\\\\n",
       "\t6\\_2687012 & 6  &   9.130006 & 0.9106733\\\\\n",
       "\tc7.loc83 & 7  &  83.000000 & 0.9024863\\\\\n",
       "\tc8.loc24 & 8  &  24.000000 & 0.8275362\\\\\n",
       "\tc9.loc36 & 9  &  36.000000 & 0.8853277\\\\\n",
       "\t10\\_10285849 & 10 &  46.149032 & 1.4881412\\\\\n",
       "\t11\\_11180265 & 11 &  43.715027 & 1.1198741\\\\\n",
       "\tc12.loc4 & 12 &   4.000000 & 0.7446721\\\\\n",
       "\t13\\_19655621 & 13 &  51.060033 & 0.9836546\\\\\n",
       "\tc14.loc37 & 14 &  37.000000 & 1.1788244\\\\\n",
       "\t15\\_11421756 & 15 &  11.743023 & 1.5271179\\\\\n",
       "\tc16.loc8 & 16 &   8.000000 & 0.6870437\\\\\n",
       "\tc17.loc4 & 17 &   4.000000 & 1.2007647\\\\\n",
       "\t10\\_20190838 & 18 & 108.923077 & 0.9161473\\\\\n",
       "\tc19.loc50 & 19 &  50.000000 & 0.4189986\\\\\n",
       "\\end{tabular}\n"
      ],
      "text/markdown": [
       "\n",
       "A summary.scanone: 19 × 3\n",
       "\n",
       "| <!--/--> | chr &lt;fct&gt; | pos &lt;dbl&gt; | lod &lt;dbl&gt; |\n",
       "|---|---|---|---|\n",
       "| 1_19614222 | 1  |  64.750041 | 1.0225644 |\n",
       "| c2.loc31 | 2  |  31.000000 | 0.4170217 |\n",
       "| 3_2108599 | 3  |   7.569010 | 1.3754942 |\n",
       "| c4.loc48 | 4  |  48.000000 | 0.9365132 |\n",
       "| c5.loc49 | 5  |  49.000000 | 1.1227236 |\n",
       "| 6_2687012 | 6  |   9.130006 | 0.9106733 |\n",
       "| c7.loc83 | 7  |  83.000000 | 0.9024863 |\n",
       "| c8.loc24 | 8  |  24.000000 | 0.8275362 |\n",
       "| c9.loc36 | 9  |  36.000000 | 0.8853277 |\n",
       "| 10_10285849 | 10 |  46.149032 | 1.4881412 |\n",
       "| 11_11180265 | 11 |  43.715027 | 1.1198741 |\n",
       "| c12.loc4 | 12 |   4.000000 | 0.7446721 |\n",
       "| 13_19655621 | 13 |  51.060033 | 0.9836546 |\n",
       "| c14.loc37 | 14 |  37.000000 | 1.1788244 |\n",
       "| 15_11421756 | 15 |  11.743023 | 1.5271179 |\n",
       "| c16.loc8 | 16 |   8.000000 | 0.6870437 |\n",
       "| c17.loc4 | 17 |   4.000000 | 1.2007647 |\n",
       "| 10_20190838 | 18 | 108.923077 | 0.9161473 |\n",
       "| c19.loc50 | 19 |  50.000000 | 0.4189986 |\n",
       "\n"
      ],
      "text/plain": [
       "            chr pos        lod      \n",
       "1_19614222  1    64.750041 1.0225644\n",
       "c2.loc31    2    31.000000 0.4170217\n",
       "3_2108599   3     7.569010 1.3754942\n",
       "c4.loc48    4    48.000000 0.9365132\n",
       "c5.loc49    5    49.000000 1.1227236\n",
       "6_2687012   6     9.130006 0.9106733\n",
       "c7.loc83    7    83.000000 0.9024863\n",
       "c8.loc24    8    24.000000 0.8275362\n",
       "c9.loc36    9    36.000000 0.8853277\n",
       "10_10285849 10   46.149032 1.4881412\n",
       "11_11180265 11   43.715027 1.1198741\n",
       "c12.loc4    12    4.000000 0.7446721\n",
       "13_19655621 13   51.060033 0.9836546\n",
       "c14.loc37   14   37.000000 1.1788244\n",
       "15_11421756 15   11.743023 1.5271179\n",
       "c16.loc8    16    8.000000 0.6870437\n",
       "c17.loc4    17    4.000000 1.2007647\n",
       "10_20190838 18  108.923077 0.9161473\n",
       "c19.loc50   19   50.000000 0.4189986"
      ]
     },
     "metadata": {},
     "output_type": "display_data"
    },
    {
     "data": {
      "image/png": "[encoded data removed]",
      "text/plain": [
       "plot without title"
      ]
     },
     "metadata": {
      "image/png": {
       "height": 420,
       "width": 420
      },
      "text/plain": {
       "height": 420,
       "width": 420
      }
     },
     "output_type": "display_data"
    }
   ],
   "source": [
    "#Deterime LOD Values\n",
    "TraitCIM<-cim(Map,pheno.col = colNum,method = \"hk\",\n",
    "              map.function = \"kosambi\") #Generate LOD Values\n",
    "plot(TraitCIM) #show LOD graph\n",
    "abline(h = LOD5,col = \"blue\") #overlay statistically significant line\n",
    "print(\"If nothing shows up, the values \n",
    "      are below the LOD5 score\") #warning for no peaks\n",
    "summary(TraitCIM)"
   ]
  },
  {
   "cell_type": "code",
   "execution_count": 7,
   "metadata": {},
   "outputs": [
    {
     "name": "stdout",
     "output_type": "stream",
     "text": [
      "[1] \"Make sure to input names AS THEY APPEAR on the csv!!\"\n"
     ]
    },
    {
     "name": "stdin",
     "output_type": "stream",
     "text": [
      "Enter file name (Either FemaleMap.csv or MaleMap.csv):  MaleMap.csv\n",
      "First Genotype (homozygous) (For example ll):  nn\n",
      "Second Genotype (heterozygous) (for example lm):  np\n",
      "Column Number:  36\n"
     ]
    }
   ],
   "source": [
    "#Collecting enviroment variables\n",
    "print(\"Make sure to input names AS THEY APPEAR on the csv!!\") #Just a user warning\n",
    "fileName <- readline(\"Enter file name (Either FemaleMap.csv or MaleMap.csv): \") #Mapping table file\n",
    "genotypeName <- c(readline(\"First Genotype (homozygous) (For example ll): \"),\n",
    "                  readline(\"Second Genotype (heterozygous) (for example lm): \")) #For example \"nn\", \"np\"\n",
    "alleleName <- c(substr(genotypeName[2],1,1) ,substr(genotypeName[2],2,2))\n",
    "naNames <- c(\"NA\",\"--\") #For example \"NA\", \"--\"\n",
    "colNum <- as.numeric(readline(\"Column Number: \")) #Column for pheno of interest"
   ]
  },
  {
   "cell_type": "code",
   "execution_count": 8,
   "metadata": {},
   "outputs": [
    {
     "name": "stdout",
     "output_type": "stream",
     "text": [
      " --Read the following data:\n",
      "\t 294  individuals\n",
      "\t 1128  markers\n",
      "\t 38  phenotypes\n"
     ]
    },
    {
     "name": "stderr",
     "output_type": "stream",
     "text": [
      "Warning message in summary.cross(cross):\n",
      "\"Some markers at the same position on chr 1,3,4,5,6,7,8,9,10,12,13,14,15,16,17,18,19; use jittermap().\"\n"
     ]
    },
    {
     "name": "stdout",
     "output_type": "stream",
     "text": [
      " --Cross type: bc \n"
     ]
    },
    {
     "data": {
      "image/png": "[encoded data removed]",
      "text/plain": [
       "Plot with title \"Genetic map\""
      ]
     },
     "metadata": {
      "image/png": {
       "height": 420,
       "width": 420
      },
      "text/plain": {
       "height": 420,
       "width": 420
      }
     },
     "output_type": "display_data"
    }
   ],
   "source": [
    "#Map generation\n",
    "Map <- read.cross(format = 'csv',file = fileName \n",
    "                  ,genotypes = genotypeName,\n",
    "                  alleles = alleleName,na.strings = naNames) #generate linkage map\n",
    "Map <- jittermap(Map) #make sure no markers are in the same location\n",
    "Map <- calc.genoprob(Map,step = 1,map.function = \"kosambi\") #associate markers with full genotypes\n",
    "plot.map(Map) #draw linkage map"
   ]
  },
  {
   "cell_type": "code",
   "execution_count": 9,
   "metadata": {},
   "outputs": [
    {
     "data": {
      "image/png": "[encoded data removed]",
      "text/plain": [
       "Plot with title \"\""
      ]
     },
     "metadata": {
      "image/png": {
       "height": 420,
       "width": 420
      },
      "text/plain": {
       "height": 420,
       "width": 420
      }
     },
     "output_type": "display_data"
    }
   ],
   "source": [
    "plotNormalHistogram(Map$pheno[,colNum]) #normal histogram of pheno of interest"
   ]
  },
  {
   "cell_type": "code",
   "execution_count": 10,
   "metadata": {},
   "outputs": [
    {
     "data": {
      "image/png": "[encoded data removed]",
      "text/plain": [
       "Plot with title \"\""
      ]
     },
     "metadata": {
      "image/png": {
       "height": 420,
       "width": 420
      },
      "text/plain": {
       "height": 420,
       "width": 420
      }
     },
     "output_type": "display_data"
    }
   ],
   "source": [
    "#Compute statistically significant values\n",
    "TraitCIM1000 <- cim(Map,pheno.col = colNum,method = \"hk\",\n",
    "                    map.function = \"kosambi\",n.perm = 1000) # Function will take a moment to run, determines LOD value\n",
    "plot(TraitCIM1000,col = 'green') #show distribution of lod scores\n",
    "LOD5 <- summary(TraitCIM1000)[1]"
   ]
  },
  {
   "cell_type": "code",
   "execution_count": 13,
   "metadata": {},
   "outputs": [
    {
     "name": "stdout",
     "output_type": "stream",
     "text": [
      "[1] \"If nothing shows up, the values \\n      are below the LOD5 score\"\n"
     ]
    },
    {
     "data": {
      "text/html": [
       "<table>\n",
       "<caption>A summary.scanone: 19 × 3</caption>\n",
       "<thead>\n",
       "\t<tr><th></th><th scope=col>chr</th><th scope=col>pos</th><th scope=col>lod</th></tr>\n",
       "\t<tr><th></th><th scope=col>&lt;fct&gt;</th><th scope=col>&lt;dbl&gt;</th><th scope=col>&lt;dbl&gt;</th></tr>\n",
       "</thead>\n",
       "<tbody>\n",
       "\t<tr><th scope=row>c1.loc90</th><td>1 </td><td>90.00000</td><td>1.6434566</td></tr>\n",
       "\t<tr><th scope=row>c2.loc65</th><td>2 </td><td>65.00000</td><td>0.7192862</td></tr>\n",
       "\t<tr><th scope=row>3_5885144</th><td>3 </td><td>33.26003</td><td>0.8513043</td></tr>\n",
       "\t<tr><th scope=row>c4.loc25</th><td>4 </td><td>25.00000</td><td>0.9411099</td></tr>\n",
       "\t<tr><th scope=row>5_22919343</th><td>5 </td><td>72.23404</td><td>0.8960676</td></tr>\n",
       "\t<tr><th scope=row>c6.loc13</th><td>6 </td><td>13.00000</td><td>1.9776277</td></tr>\n",
       "\t<tr><th scope=row>c7.loc87</th><td>7 </td><td>87.00000</td><td>1.6283398</td></tr>\n",
       "\t<tr><th scope=row>c8.loc39</th><td>8 </td><td>39.00000</td><td>0.8170436</td></tr>\n",
       "\t<tr><th scope=row>c9.loc44</th><td>9 </td><td>44.00000</td><td>1.1352203</td></tr>\n",
       "\t<tr><th scope=row>10_3024940</th><td>10</td><td>15.12301</td><td>1.3445873</td></tr>\n",
       "\t<tr><th scope=row>c11.loc8</th><td>11</td><td> 8.00000</td><td>0.9781051</td></tr>\n",
       "\t<tr><th scope=row>c12.loc27</th><td>12</td><td>27.00000</td><td>0.7089952</td></tr>\n",
       "\t<tr><th scope=row>c13.loc62</th><td>13</td><td>62.00000</td><td>1.2344274</td></tr>\n",
       "\t<tr><th scope=row>14_17377883</th><td>14</td><td>36.67605</td><td>0.7994610</td></tr>\n",
       "\t<tr><th scope=row>15_16026481</th><td>15</td><td>68.77903</td><td>2.7914700</td></tr>\n",
       "\t<tr><th scope=row>c16.loc82</th><td>16</td><td>82.00000</td><td>1.2566740</td></tr>\n",
       "\t<tr><th scope=row>c17.loc65</th><td>17</td><td>65.00000</td><td>0.8884448</td></tr>\n",
       "\t<tr><th scope=row>c18.loc85</th><td>18</td><td>85.00000</td><td>1.0910857</td></tr>\n",
       "\t<tr><th scope=row>c19.loc2</th><td>19</td><td> 2.00000</td><td>1.2943715</td></tr>\n",
       "</tbody>\n",
       "</table>\n"
      ],
      "text/latex": [
       "A summary.scanone: 19 × 3\n",
       "\\begin{tabular}{r|lll}\n",
       "  & chr & pos & lod\\\\\n",
       "  & <fct> & <dbl> & <dbl>\\\\\n",
       "\\hline\n",
       "\tc1.loc90 & 1  & 90.00000 & 1.6434566\\\\\n",
       "\tc2.loc65 & 2  & 65.00000 & 0.7192862\\\\\n",
       "\t3\\_5885144 & 3  & 33.26003 & 0.8513043\\\\\n",
       "\tc4.loc25 & 4  & 25.00000 & 0.9411099\\\\\n",
       "\t5\\_22919343 & 5  & 72.23404 & 0.8960676\\\\\n",
       "\tc6.loc13 & 6  & 13.00000 & 1.9776277\\\\\n",
       "\tc7.loc87 & 7  & 87.00000 & 1.6283398\\\\\n",
       "\tc8.loc39 & 8  & 39.00000 & 0.8170436\\\\\n",
       "\tc9.loc44 & 9  & 44.00000 & 1.1352203\\\\\n",
       "\t10\\_3024940 & 10 & 15.12301 & 1.3445873\\\\\n",
       "\tc11.loc8 & 11 &  8.00000 & 0.9781051\\\\\n",
       "\tc12.loc27 & 12 & 27.00000 & 0.7089952\\\\\n",
       "\tc13.loc62 & 13 & 62.00000 & 1.2344274\\\\\n",
       "\t14\\_17377883 & 14 & 36.67605 & 0.7994610\\\\\n",
       "\t15\\_16026481 & 15 & 68.77903 & 2.7914700\\\\\n",
       "\tc16.loc82 & 16 & 82.00000 & 1.2566740\\\\\n",
       "\tc17.loc65 & 17 & 65.00000 & 0.8884448\\\\\n",
       "\tc18.loc85 & 18 & 85.00000 & 1.0910857\\\\\n",
       "\tc19.loc2 & 19 &  2.00000 & 1.2943715\\\\\n",
       "\\end{tabular}\n"
      ],
      "text/markdown": [
       "\n",
       "A summary.scanone: 19 × 3\n",
       "\n",
       "| <!--/--> | chr &lt;fct&gt; | pos &lt;dbl&gt; | lod &lt;dbl&gt; |\n",
       "|---|---|---|---|\n",
       "| c1.loc90 | 1  | 90.00000 | 1.6434566 |\n",
       "| c2.loc65 | 2  | 65.00000 | 0.7192862 |\n",
       "| 3_5885144 | 3  | 33.26003 | 0.8513043 |\n",
       "| c4.loc25 | 4  | 25.00000 | 0.9411099 |\n",
       "| 5_22919343 | 5  | 72.23404 | 0.8960676 |\n",
       "| c6.loc13 | 6  | 13.00000 | 1.9776277 |\n",
       "| c7.loc87 | 7  | 87.00000 | 1.6283398 |\n",
       "| c8.loc39 | 8  | 39.00000 | 0.8170436 |\n",
       "| c9.loc44 | 9  | 44.00000 | 1.1352203 |\n",
       "| 10_3024940 | 10 | 15.12301 | 1.3445873 |\n",
       "| c11.loc8 | 11 |  8.00000 | 0.9781051 |\n",
       "| c12.loc27 | 12 | 27.00000 | 0.7089952 |\n",
       "| c13.loc62 | 13 | 62.00000 | 1.2344274 |\n",
       "| 14_17377883 | 14 | 36.67605 | 0.7994610 |\n",
       "| 15_16026481 | 15 | 68.77903 | 2.7914700 |\n",
       "| c16.loc82 | 16 | 82.00000 | 1.2566740 |\n",
       "| c17.loc65 | 17 | 65.00000 | 0.8884448 |\n",
       "| c18.loc85 | 18 | 85.00000 | 1.0910857 |\n",
       "| c19.loc2 | 19 |  2.00000 | 1.2943715 |\n",
       "\n"
      ],
      "text/plain": [
       "            chr pos      lod      \n",
       "c1.loc90    1   90.00000 1.6434566\n",
       "c2.loc65    2   65.00000 0.7192862\n",
       "3_5885144   3   33.26003 0.8513043\n",
       "c4.loc25    4   25.00000 0.9411099\n",
       "5_22919343  5   72.23404 0.8960676\n",
       "c6.loc13    6   13.00000 1.9776277\n",
       "c7.loc87    7   87.00000 1.6283398\n",
       "c8.loc39    8   39.00000 0.8170436\n",
       "c9.loc44    9   44.00000 1.1352203\n",
       "10_3024940  10  15.12301 1.3445873\n",
       "c11.loc8    11   8.00000 0.9781051\n",
       "c12.loc27   12  27.00000 0.7089952\n",
       "c13.loc62   13  62.00000 1.2344274\n",
       "14_17377883 14  36.67605 0.7994610\n",
       "15_16026481 15  68.77903 2.7914700\n",
       "c16.loc82   16  82.00000 1.2566740\n",
       "c17.loc65   17  65.00000 0.8884448\n",
       "c18.loc85   18  85.00000 1.0910857\n",
       "c19.loc2    19   2.00000 1.2943715"
      ]
     },
     "metadata": {},
     "output_type": "display_data"
    },
    {
     "data": {
      "image/png": "[encoded data removed]",
      "text/plain": [
       "plot without title"
      ]
     },
     "metadata": {
      "image/png": {
       "height": 420,
       "width": 420
      },
      "text/plain": {
       "height": 420,
       "width": 420
      }
     },
     "output_type": "display_data"
    }
   ],
   "source": [
    "#Deterime LOD Values\n",
    "TraitCIM<-cim(Map,pheno.col = colNum,method = \"hk\",\n",
    "              map.function = \"kosambi\") #Generate LOD Values\n",
    "plot(TraitCIM) #show LOD graph\n",
    "abline(h = LOD5,col = \"blue\") #overlay statistically significant line\n",
    "print(\"If nothing shows up, the values \n",
    "      are below the LOD5 score\") #warning for no peaks\n",
    "summary(TraitCIM)"
   ]
  }
 ],
 "metadata": {
  "kernelspec": {
   "display_name": "R",
   "language": "R",
   "name": "ir"
  },
  "language_info": {
   "codemirror_mode": "r",
   "file_extension": ".r",
   "mimetype": "text/x-r-source",
   "name": "R",
   "pygments_lexer": "r",
   "version": "3.6.1"
  }
 },
 "nbformat": 4,
 "nbformat_minor": 4
}
