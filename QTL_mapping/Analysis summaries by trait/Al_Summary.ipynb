{
 "cells": [
  {
   "cell_type": "markdown",
   "metadata": {},
   "source": [
    "This analysis is in the order of Female then Male"
   ]
  },
  {
   "cell_type": "code",
   "execution_count": 1,
   "metadata": {},
   "outputs": [
    {
     "name": "stderr",
     "output_type": "stream",
     "text": [
      "Installing package into 'C:/Users/Courtney/Documents/R/win-library/3.6'\n",
      "(as 'lib' is unspecified)\n",
      "\n"
     ]
    },
    {
     "name": "stdout",
     "output_type": "stream",
     "text": [
      "package 'qtl' successfully unpacked and MD5 sums checked\n"
     ]
    },
    {
     "name": "stderr",
     "output_type": "stream",
     "text": [
      "Warning message:\n",
      "\"cannot remove prior installation of package 'qtl'\"\n",
      "Warning message in file.copy(savedcopy, lib, recursive = TRUE):\n",
      "\"problem copying C:\\Users\\Courtney\\Documents\\R\\win-library\\3.6\\00LOCK\\qtl\\libs\\x64\\qtl.dll to C:\\Users\\Courtney\\Documents\\R\\win-library\\3.6\\qtl\\libs\\x64\\qtl.dll: Permission denied\"\n",
      "Warning message:\n",
      "\"restored 'qtl'\"\n"
     ]
    },
    {
     "name": "stdout",
     "output_type": "stream",
     "text": [
      "\n",
      "The downloaded binary packages are in\n",
      "\tC:\\Users\\Courtney\\AppData\\Local\\Temp\\RtmpsVhQvD\\downloaded_packages\n"
     ]
    },
    {
     "name": "stderr",
     "output_type": "stream",
     "text": [
      "Installing package into 'C:/Users/Courtney/Documents/R/win-library/3.6'\n",
      "(as 'lib' is unspecified)\n",
      "\n"
     ]
    },
    {
     "name": "stdout",
     "output_type": "stream",
     "text": [
      "package 'qtlcharts' successfully unpacked and MD5 sums checked\n",
      "\n",
      "The downloaded binary packages are in\n",
      "\tC:\\Users\\Courtney\\AppData\\Local\\Temp\\RtmpsVhQvD\\downloaded_packages\n"
     ]
    },
    {
     "name": "stderr",
     "output_type": "stream",
     "text": [
      "Installing package into 'C:/Users/Courtney/Documents/R/win-library/3.6'\n",
      "(as 'lib' is unspecified)\n",
      "\n"
     ]
    },
    {
     "name": "stdout",
     "output_type": "stream",
     "text": [
      "package 'LinkageMapView' successfully unpacked and MD5 sums checked\n",
      "\n",
      "The downloaded binary packages are in\n",
      "\tC:\\Users\\Courtney\\AppData\\Local\\Temp\\RtmpsVhQvD\\downloaded_packages\n"
     ]
    },
    {
     "name": "stderr",
     "output_type": "stream",
     "text": [
      "Installing package into 'C:/Users/Courtney/Documents/R/win-library/3.6'\n",
      "(as 'lib' is unspecified)\n",
      "\n"
     ]
    },
    {
     "name": "stdout",
     "output_type": "stream",
     "text": [
      "package 'rcompanion' successfully unpacked and MD5 sums checked\n",
      "\n",
      "The downloaded binary packages are in\n",
      "\tC:\\Users\\Courtney\\AppData\\Local\\Temp\\RtmpsVhQvD\\downloaded_packages\n"
     ]
    }
   ],
   "source": [
    "install.packages('qtl') #Main package, for analysis\n",
    "install.packages('qtlcharts') #accessory, for displaying graphs\n",
    "install.packages('LinkageMapView') #accessory, for displaying linkage maps\n",
    "install.packages('rcompanion')# for plotNormalHistogram"
   ]
  },
  {
   "cell_type": "code",
   "execution_count": 12,
   "metadata": {},
   "outputs": [],
   "source": [
    "library(qtl) #load packages\n",
    "library(qtlcharts)\n",
    "library(LinkageMapView)\n",
    "library(rcompanion)"
   ]
  },
  {
   "cell_type": "code",
   "execution_count": 13,
   "metadata": {},
   "outputs": [
    {
     "name": "stdout",
     "output_type": "stream",
     "text": [
      "[1] \"Make sure to input names AS THEY APPEAR on the csv!!\"\n"
     ]
    },
    {
     "name": "stdin",
     "output_type": "stream",
     "text": [
      "Enter file name (Either FemaleMap.csv or MaleMap.csv):  FemaleMap.csv\n",
      "First Genotype (homozygous) (For example ll):  ll\n",
      "Second Genotype (heterozygous) (for example lm):  lm\n",
      "Column Number:  21\n"
     ]
    }
   ],
   "source": [
    "#Collecting enviroment variables\n",
    "print(\"Make sure to input names AS THEY APPEAR on the csv!!\") #Just a user warning\n",
    "fileName <- readline(\"Enter file name (Either FemaleMap.csv or MaleMap.csv): \") #Mapping table file\n",
    "genotypeName <- c(readline(\"First Genotype (homozygous) (For example ll): \"),\n",
    "                  readline(\"Second Genotype (heterozygous) (for example lm): \")) #For example \"nn\", \"np\"\n",
    "alleleName <- c(substr(genotypeName[2],1,1) ,substr(genotypeName[2],2,2))\n",
    "naNames <- c(\"NA\",\"--\") #For example \"NA\", \"--\"\n",
    "colNum <- as.numeric(readline(\"Column Number: \")) #Column for pheno of interest"
   ]
  },
  {
   "cell_type": "code",
   "execution_count": 14,
   "metadata": {},
   "outputs": [
    {
     "name": "stdout",
     "output_type": "stream",
     "text": [
      " --Read the following data:\n",
      "\t 294  individuals\n",
      "\t 1100  markers\n",
      "\t 38  phenotypes\n"
     ]
    },
    {
     "name": "stderr",
     "output_type": "stream",
     "text": [
      "Warning message in summary.cross(cross):\n",
      "\"Some markers at the same position on chr 1,2,4,5,7,8,9,10,11,12,13,14,16,17,18,19; use jittermap().\"\n"
     ]
    },
    {
     "name": "stdout",
     "output_type": "stream",
     "text": [
      " --Cross type: bc \n"
     ]
    },
    {
     "data": {
      "image/png": "[encoded data removed]",
      "text/plain": [
       "Plot with title \"Genetic map\""
      ]
     },
     "metadata": {
      "image/png": {
       "height": 420,
       "width": 420
      },
      "text/plain": {
       "height": 420,
       "width": 420
      }
     },
     "output_type": "display_data"
    }
   ],
   "source": [
    "#Map generation\n",
    "Map <- read.cross(format = 'csv',file = fileName \n",
    "                  ,genotypes = genotypeName,\n",
    "                  alleles = alleleName,na.strings = naNames) #generate linkage map\n",
    "Map <- jittermap(Map) #make sure no markers are in the same location\n",
    "Map <- calc.genoprob(Map,step = 1,map.function = \"kosambi\") #associate markers with full genotypes\n",
    "plot.map(Map) #draw linkage map"
   ]
  },
  {
   "cell_type": "code",
   "execution_count": 15,
   "metadata": {},
   "outputs": [
    {
     "data": {
      "image/png": "[encoded data removed]",
      "text/plain": [
       "Plot with title \"\""
      ]
     },
     "metadata": {
      "image/png": {
       "height": 420,
       "width": 420
      },
      "text/plain": {
       "height": 420,
       "width": 420
      }
     },
     "output_type": "display_data"
    }
   ],
   "source": [
    "plotNormalHistogram(Map$pheno[,colNum]) #normal histogram of pheno of interest"
   ]
  },
  {
   "cell_type": "markdown",
   "metadata": {},
   "source": [
    "Outliers exist in this dataset. Will need to be analyized. "
   ]
  },
  {
   "cell_type": "code",
   "execution_count": 16,
   "metadata": {},
   "outputs": [
    {
     "name": "stderr",
     "output_type": "stream",
     "text": [
      "Warning message in checkcovar(cross, pheno.col, addcovar, intcovar, perm.strata, :\n",
      "\"addcovar appears to be over-specified; consider dropping columns.\n",
      "\"\n",
      "Warning message in checkcovar(cross, pheno.col, addcovar, intcovar, perm.strata, :\n",
      "\"addcovar appears to be over-specified; consider dropping columns.\n",
      "\"\n",
      "Warning message in checkcovar(cross, pheno.col, addcovar, intcovar, perm.strata, :\n",
      "\"addcovar appears to be over-specified; consider dropping columns.\n",
      "\"\n",
      "Warning message in checkcovar(cross, pheno.col, addcovar, intcovar, perm.strata, :\n",
      "\"addcovar appears to be over-specified; consider dropping columns.\n",
      "\"\n",
      "Warning message in checkcovar(cross, pheno.col, addcovar, intcovar, perm.strata, :\n",
      "\"addcovar appears to be over-specified; consider dropping columns.\n",
      "\"\n",
      "Warning message in checkcovar(cross, pheno.col, addcovar, intcovar, perm.strata, :\n",
      "\"addcovar appears to be over-specified; consider dropping columns.\n",
      "\"\n",
      "Warning message in checkcovar(cross, pheno.col, addcovar, intcovar, perm.strata, :\n",
      "\"addcovar appears to be over-specified; consider dropping columns.\n",
      "\"\n",
      "Warning message in checkcovar(cross, pheno.col, addcovar, intcovar, perm.strata, :\n",
      "\"addcovar appears to be over-specified; consider dropping columns.\n",
      "\"\n",
      "Warning message in checkcovar(cross, pheno.col, addcovar, intcovar, perm.strata, :\n",
      "\"addcovar appears to be over-specified; consider dropping columns.\n",
      "\"\n",
      "Warning message in checkcovar(cross, pheno.col, addcovar, intcovar, perm.strata, :\n",
      "\"addcovar appears to be over-specified; consider dropping columns.\n",
      "\"\n"
     ]
    },
    {
     "data": {
      "image/png": "[encoded data removed]",
      "text/plain": [
       "Plot with title \"\""
      ]
     },
     "metadata": {
      "image/png": {
       "height": 420,
       "width": 420
      },
      "text/plain": {
       "height": 420,
       "width": 420
      }
     },
     "output_type": "display_data"
    }
   ],
   "source": [
    "#Compute statistically significant values\n",
    "TraitCIM1000 <- cim(Map,pheno.col = colNum,method = \"hk\",\n",
    "                    map.function = \"kosambi\",n.perm = 1000) # Function will take a moment to run, determines LOD value\n",
    "plot(TraitCIM1000,col = 'green') #show distribution of lod scores\n",
    "LOD5 <- summary(TraitCIM1000)[1]"
   ]
  },
  {
   "cell_type": "code",
   "execution_count": 17,
   "metadata": {},
   "outputs": [
    {
     "name": "stdout",
     "output_type": "stream",
     "text": [
      "[1] \"If nothing shows up, the values \\n      are below the LOD5 score\"\n"
     ]
    },
    {
     "data": {
      "text/html": [
       "<table>\n",
       "<caption>A summary.scanone: 19 × 3</caption>\n",
       "<thead>\n",
       "\t<tr><th></th><th scope=col>chr</th><th scope=col>pos</th><th scope=col>lod</th></tr>\n",
       "\t<tr><th></th><th scope=col>&lt;fct&gt;</th><th scope=col>&lt;dbl&gt;</th><th scope=col>&lt;dbl&gt;</th></tr>\n",
       "</thead>\n",
       "<tbody>\n",
       "\t<tr><th scope=row>7_7311056</th><td>1 </td><td>33.364022</td><td>0.7541122</td></tr>\n",
       "\t<tr><th scope=row>c2.loc48</th><td>2 </td><td>48.000000</td><td>0.3821707</td></tr>\n",
       "\t<tr><th scope=row>c3.loc32</th><td>3 </td><td>32.000000</td><td>0.9500168</td></tr>\n",
       "\t<tr><th scope=row>4_21750541</th><td>4 </td><td>65.253062</td><td>2.4076683</td></tr>\n",
       "\t<tr><th scope=row>5_2074832</th><td>5 </td><td> 6.431004</td><td>1.1149931</td></tr>\n",
       "\t<tr><th scope=row>6_17440350</th><td>6 </td><td>42.052019</td><td>1.3795023</td></tr>\n",
       "\t<tr><th scope=row>7_2682789</th><td>7 </td><td> 8.753014</td><td>0.6808505</td></tr>\n",
       "\t<tr><th scope=row>c8.loc60</th><td>8 </td><td>60.000000</td><td>1.4690249</td></tr>\n",
       "\t<tr><th scope=row>9_13407438</th><td>9 </td><td>50.029053</td><td>1.1929107</td></tr>\n",
       "\t<tr><th scope=row>c10.loc40</th><td>10</td><td>40.000000</td><td>0.5641618</td></tr>\n",
       "\t<tr><th scope=row>c11.loc49</th><td>11</td><td>49.000000</td><td>1.6253868</td></tr>\n",
       "\t<tr><th scope=row>c12.loc56</th><td>12</td><td>56.000000</td><td>1.1971183</td></tr>\n",
       "\t<tr><th scope=row>c13.loc8</th><td>13</td><td> 8.000000</td><td>2.0872375</td></tr>\n",
       "\t<tr><th scope=row>14_788160</th><td>14</td><td> 0.000000</td><td>1.0069630</td></tr>\n",
       "\t<tr><th scope=row>c15.loc1</th><td>15</td><td> 1.000000</td><td>1.8271637</td></tr>\n",
       "\t<tr><th scope=row>16_1261805</th><td>16</td><td> 3.022002</td><td>0.5013409</td></tr>\n",
       "\t<tr><th scope=row>c17.loc4</th><td>17</td><td> 4.000000</td><td>6.0932347</td></tr>\n",
       "\t<tr><th scope=row>c18.loc65</th><td>18</td><td>65.000000</td><td>2.8167714</td></tr>\n",
       "\t<tr><th scope=row>19_24491792</th><td>19</td><td>60.372076</td><td>0.6610561</td></tr>\n",
       "</tbody>\n",
       "</table>\n"
      ],
      "text/latex": [
       "A summary.scanone: 19 × 3\n",
       "\\begin{tabular}{r|lll}\n",
       "  & chr & pos & lod\\\\\n",
       "  & <fct> & <dbl> & <dbl>\\\\\n",
       "\\hline\n",
       "\t7\\_7311056 & 1  & 33.364022 & 0.7541122\\\\\n",
       "\tc2.loc48 & 2  & 48.000000 & 0.3821707\\\\\n",
       "\tc3.loc32 & 3  & 32.000000 & 0.9500168\\\\\n",
       "\t4\\_21750541 & 4  & 65.253062 & 2.4076683\\\\\n",
       "\t5\\_2074832 & 5  &  6.431004 & 1.1149931\\\\\n",
       "\t6\\_17440350 & 6  & 42.052019 & 1.3795023\\\\\n",
       "\t7\\_2682789 & 7  &  8.753014 & 0.6808505\\\\\n",
       "\tc8.loc60 & 8  & 60.000000 & 1.4690249\\\\\n",
       "\t9\\_13407438 & 9  & 50.029053 & 1.1929107\\\\\n",
       "\tc10.loc40 & 10 & 40.000000 & 0.5641618\\\\\n",
       "\tc11.loc49 & 11 & 49.000000 & 1.6253868\\\\\n",
       "\tc12.loc56 & 12 & 56.000000 & 1.1971183\\\\\n",
       "\tc13.loc8 & 13 &  8.000000 & 2.0872375\\\\\n",
       "\t14\\_788160 & 14 &  0.000000 & 1.0069630\\\\\n",
       "\tc15.loc1 & 15 &  1.000000 & 1.8271637\\\\\n",
       "\t16\\_1261805 & 16 &  3.022002 & 0.5013409\\\\\n",
       "\tc17.loc4 & 17 &  4.000000 & 6.0932347\\\\\n",
       "\tc18.loc65 & 18 & 65.000000 & 2.8167714\\\\\n",
       "\t19\\_24491792 & 19 & 60.372076 & 0.6610561\\\\\n",
       "\\end{tabular}\n"
      ],
      "text/markdown": [
       "\n",
       "A summary.scanone: 19 × 3\n",
       "\n",
       "| <!--/--> | chr &lt;fct&gt; | pos &lt;dbl&gt; | lod &lt;dbl&gt; |\n",
       "|---|---|---|---|\n",
       "| 7_7311056 | 1  | 33.364022 | 0.7541122 |\n",
       "| c2.loc48 | 2  | 48.000000 | 0.3821707 |\n",
       "| c3.loc32 | 3  | 32.000000 | 0.9500168 |\n",
       "| 4_21750541 | 4  | 65.253062 | 2.4076683 |\n",
       "| 5_2074832 | 5  |  6.431004 | 1.1149931 |\n",
       "| 6_17440350 | 6  | 42.052019 | 1.3795023 |\n",
       "| 7_2682789 | 7  |  8.753014 | 0.6808505 |\n",
       "| c8.loc60 | 8  | 60.000000 | 1.4690249 |\n",
       "| 9_13407438 | 9  | 50.029053 | 1.1929107 |\n",
       "| c10.loc40 | 10 | 40.000000 | 0.5641618 |\n",
       "| c11.loc49 | 11 | 49.000000 | 1.6253868 |\n",
       "| c12.loc56 | 12 | 56.000000 | 1.1971183 |\n",
       "| c13.loc8 | 13 |  8.000000 | 2.0872375 |\n",
       "| 14_788160 | 14 |  0.000000 | 1.0069630 |\n",
       "| c15.loc1 | 15 |  1.000000 | 1.8271637 |\n",
       "| 16_1261805 | 16 |  3.022002 | 0.5013409 |\n",
       "| c17.loc4 | 17 |  4.000000 | 6.0932347 |\n",
       "| c18.loc65 | 18 | 65.000000 | 2.8167714 |\n",
       "| 19_24491792 | 19 | 60.372076 | 0.6610561 |\n",
       "\n"
      ],
      "text/plain": [
       "            chr pos       lod      \n",
       "7_7311056   1   33.364022 0.7541122\n",
       "c2.loc48    2   48.000000 0.3821707\n",
       "c3.loc32    3   32.000000 0.9500168\n",
       "4_21750541  4   65.253062 2.4076683\n",
       "5_2074832   5    6.431004 1.1149931\n",
       "6_17440350  6   42.052019 1.3795023\n",
       "7_2682789   7    8.753014 0.6808505\n",
       "c8.loc60    8   60.000000 1.4690249\n",
       "9_13407438  9   50.029053 1.1929107\n",
       "c10.loc40   10  40.000000 0.5641618\n",
       "c11.loc49   11  49.000000 1.6253868\n",
       "c12.loc56   12  56.000000 1.1971183\n",
       "c13.loc8    13   8.000000 2.0872375\n",
       "14_788160   14   0.000000 1.0069630\n",
       "c15.loc1    15   1.000000 1.8271637\n",
       "16_1261805  16   3.022002 0.5013409\n",
       "c17.loc4    17   4.000000 6.0932347\n",
       "c18.loc65   18  65.000000 2.8167714\n",
       "19_24491792 19  60.372076 0.6610561"
      ]
     },
     "metadata": {},
     "output_type": "display_data"
    },
    {
     "data": {
      "text/plain": [
       "LOD thresholds (1000 permutations)\n",
       "   [,1]\n",
       "5% 6.38\n",
       "1% 9.94"
      ]
     },
     "metadata": {},
     "output_type": "display_data"
    },
    {
     "data": {
      "image/png": "[encoded data removed]",
      "text/plain": [
       "plot without title"
      ]
     },
     "metadata": {
      "image/png": {
       "height": 420,
       "width": 420
      },
      "text/plain": {
       "height": 420,
       "width": 420
      }
     },
     "output_type": "display_data"
    }
   ],
   "source": [
    "#Deterime LOD Values\n",
    "TraitCIM<-cim(Map,pheno.col = colNum,method = \"hk\",\n",
    "              map.function = \"kosambi\") #Generate LOD Values\n",
    "plot(TraitCIM) #show LOD graph\n",
    "abline(h = LOD5,col = \"blue\") #overlay statistically significant line\n",
    "print(\"If nothing shows up, the values \n",
    "      are below the LOD5 score\") #warning for no peaks\n",
    "summary(TraitCIM)\n",
    "summary(TraitCIM1000,alpha=c(.05,.01))"
   ]
  },
  {
   "cell_type": "code",
   "execution_count": 8,
   "metadata": {},
   "outputs": [
    {
     "name": "stdin",
     "output_type": "stream",
     "text": [
      "Chromosome?  17\n"
     ]
    },
    {
     "data": {
      "image/png": "[encoded data removed]",
      "text/plain": [
       "plot without title"
      ]
     },
     "metadata": {
      "image/png": {
       "height": 420,
       "width": 420
      },
      "text/plain": {
       "height": 420,
       "width": 420
      }
     },
     "output_type": "display_data"
    }
   ],
   "source": [
    "#Chromosomal Analysis\n",
    "chr <- as.numeric(readline(\"Chromosome? \")) #collect chromosome to look at\n",
    "plot(TraitCIM, chr = chr,xlab = c(\"chr\",chr)) #Plot chr LOD scores\n",
    "abline(h = LOD5, col = \"blue\") #Statistically Significant"
   ]
  },
  {
   "cell_type": "code",
   "execution_count": 9,
   "metadata": {},
   "outputs": [
    {
     "data": {
      "text/html": [
       "<table>\n",
       "<caption>A scanone: 3 × 3</caption>\n",
       "<thead>\n",
       "\t<tr><th></th><th scope=col>chr</th><th scope=col>pos</th><th scope=col>lod</th></tr>\n",
       "\t<tr><th></th><th scope=col>&lt;fct&gt;</th><th scope=col>&lt;dbl&gt;</th><th scope=col>&lt;dbl&gt;</th></tr>\n",
       "</thead>\n",
       "<tbody>\n",
       "\t<tr><th scope=row>17_1975198</th><td>17</td><td>3.267002</td><td>0.59823581</td></tr>\n",
       "\t<tr><th scope=row>c17.loc4</th><td>17</td><td>4.000000</td><td>6.29854897</td></tr>\n",
       "\t<tr><th scope=row>17_2342835</th><td>17</td><td>4.358003</td><td>0.04869467</td></tr>\n",
       "</tbody>\n",
       "</table>\n"
      ],
      "text/latex": [
       "A scanone: 3 × 3\n",
       "\\begin{tabular}{r|lll}\n",
       "  & chr & pos & lod\\\\\n",
       "  & <fct> & <dbl> & <dbl>\\\\\n",
       "\\hline\n",
       "\t17\\_1975198 & 17 & 3.267002 & 0.59823581\\\\\n",
       "\tc17.loc4 & 17 & 4.000000 & 6.29854897\\\\\n",
       "\t17\\_2342835 & 17 & 4.358003 & 0.04869467\\\\\n",
       "\\end{tabular}\n"
      ],
      "text/markdown": [
       "\n",
       "A scanone: 3 × 3\n",
       "\n",
       "| <!--/--> | chr &lt;fct&gt; | pos &lt;dbl&gt; | lod &lt;dbl&gt; |\n",
       "|---|---|---|---|\n",
       "| 17_1975198 | 17 | 3.267002 | 0.59823581 |\n",
       "| c17.loc4 | 17 | 4.000000 | 6.29854897 |\n",
       "| 17_2342835 | 17 | 4.358003 | 0.04869467 |\n",
       "\n"
      ],
      "text/plain": [
       "           chr pos      lod       \n",
       "17_1975198 17  3.267002 0.59823581\n",
       "c17.loc4   17  4.000000 6.29854897\n",
       "17_2342835 17  4.358003 0.04869467"
      ]
     },
     "metadata": {},
     "output_type": "display_data"
    },
    {
     "data": {
      "text/html": [
       "<table>\n",
       "<caption>A scanone: 3 × 3</caption>\n",
       "<thead>\n",
       "\t<tr><th></th><th scope=col>chr</th><th scope=col>pos</th><th scope=col>lod</th></tr>\n",
       "\t<tr><th></th><th scope=col>&lt;fct&gt;</th><th scope=col>&lt;dbl&gt;</th><th scope=col>&lt;dbl&gt;</th></tr>\n",
       "</thead>\n",
       "<tbody>\n",
       "\t<tr><th scope=row>17_1975198</th><td>17</td><td>3.267002</td><td>0.59823581</td></tr>\n",
       "\t<tr><th scope=row>c17.loc4</th><td>17</td><td>4.000000</td><td>6.29854897</td></tr>\n",
       "\t<tr><th scope=row>17_2342835</th><td>17</td><td>4.358003</td><td>0.04869467</td></tr>\n",
       "</tbody>\n",
       "</table>\n"
      ],
      "text/latex": [
       "A scanone: 3 × 3\n",
       "\\begin{tabular}{r|lll}\n",
       "  & chr & pos & lod\\\\\n",
       "  & <fct> & <dbl> & <dbl>\\\\\n",
       "\\hline\n",
       "\t17\\_1975198 & 17 & 3.267002 & 0.59823581\\\\\n",
       "\tc17.loc4 & 17 & 4.000000 & 6.29854897\\\\\n",
       "\t17\\_2342835 & 17 & 4.358003 & 0.04869467\\\\\n",
       "\\end{tabular}\n"
      ],
      "text/markdown": [
       "\n",
       "A scanone: 3 × 3\n",
       "\n",
       "| <!--/--> | chr &lt;fct&gt; | pos &lt;dbl&gt; | lod &lt;dbl&gt; |\n",
       "|---|---|---|---|\n",
       "| 17_1975198 | 17 | 3.267002 | 0.59823581 |\n",
       "| c17.loc4 | 17 | 4.000000 | 6.29854897 |\n",
       "| 17_2342835 | 17 | 4.358003 | 0.04869467 |\n",
       "\n"
      ],
      "text/plain": [
       "           chr pos      lod       \n",
       "17_1975198 17  3.267002 0.59823581\n",
       "c17.loc4   17  4.000000 6.29854897\n",
       "17_2342835 17  4.358003 0.04869467"
      ]
     },
     "metadata": {},
     "output_type": "display_data"
    }
   ],
   "source": [
    "bayesint(TraitCIM, chr = chr, prob=0.95, expandtomarkers=TRUE) #calculate bayesian interval\n",
    "lodint(TraitCIM, chr = chr,expandtomarkers = TRUE ) #calculate LOD Support interval"
   ]
  },
  {
   "cell_type": "code",
   "execution_count": 10,
   "metadata": {},
   "outputs": [
    {
     "name": "stdin",
     "output_type": "stream",
     "text": [
      "Position for analysis:  4.00000\n"
     ]
    },
    {
     "name": "stderr",
     "output_type": "stream",
     "text": [
      "Warning message in getsex(cross):\n",
      "\"125 individuals with missing sex; assuming they're female\"\n",
      "Warning message in fitqtlengine(pheno = pheno, qtl = qtl, covar = covar, formula = formula, :\n",
      "\"Dropping 127 individuals with missing phenotypes.\n",
      "\"\n",
      "Warning message in getsex(cross):\n",
      "\"125 individuals with missing sex; assuming they're female\"\n"
     ]
    },
    {
     "data": {
      "text/plain": [
       "\n",
       "\t\tfitqtl summary\n",
       "\n",
       "Method: Haley-Knott regression \n",
       "Model:  normal phenotype\n",
       "Number of observations : 167 \n",
       "\n",
       "Full model result\n",
       "----------------------------------  \n",
       "Model formula: y ~ Q1 \n",
       "\n",
       "       df        SS         MS      LOD     %var Pvalue(Chi2)    Pvalue(F)\n",
       "Model   1  30.32324 30.3232373 7.379301 18.41222 5.559747e-09 7.214544e-09\n",
       "Error 165 134.36762  0.8143492                                            \n",
       "Total 166 164.69086                                                       \n",
       "\n",
       "\n",
       "Estimated effects:\n",
       "-----------------\n",
       "               est       SE      t\n",
       "Intercept  0.52947  0.07002  7.562\n",
       "17@4.0    -5.98717  0.98116 -6.102\n"
      ]
     },
     "metadata": {},
     "output_type": "display_data"
    }
   ],
   "source": [
    "p <- as.numeric(readline(\"Position for analysis: \"))\n",
    "qtl <- makeqtl(Map, chr = chr, pos = p, what=\"prob\") #pulls genotype probabilities\n",
    "fitqtl <- fitqtl(Map, pheno.col=colNum, qtl = qtl, covar=NULL,\n",
    "       method= \"hk\",model=\"normal\",\n",
    "       dropone=TRUE, get.ests=TRUE,run.checks=TRUE,\n",
    "       tol=1e-4, maxit=1000, forceXcovar=FALSE) #sees how well our data fits a given formula \n",
    "          # If you see \"error: object of type 'closure' is not subsettable\", remove \"formula,\" from the fitqtl argument list.\n",
    "summary(fitqtl) #Print results of the analysis"
   ]
  },
  {
   "cell_type": "code",
   "execution_count": 34,
   "metadata": {},
   "outputs": [
    {
     "name": "stdout",
     "output_type": "stream",
     "text": [
      "[1] \"Make sure to input names AS THEY APPEAR on the csv!!\"\n"
     ]
    },
    {
     "name": "stdin",
     "output_type": "stream",
     "text": [
      "Enter file name (Either FemaleMap.csv or MaleMap.csv):  MaleMap.csv\n",
      "First Genotype (homozygous) (For example ll):  nn\n",
      "Second Genotype (heterozygous) (for example lm):  np\n",
      "Column Number:  21\n"
     ]
    }
   ],
   "source": [
    "#Collecting enviroment variables\n",
    "print(\"Make sure to input names AS THEY APPEAR on the csv!!\") #Just a user warning\n",
    "fileName <- readline(\"Enter file name (Either FemaleMap.csv or MaleMap.csv): \") #Mapping table file\n",
    "genotypeName <- c(readline(\"First Genotype (homozygous) (For example ll): \"),\n",
    "                  readline(\"Second Genotype (heterozygous) (for example lm): \")) #For example \"nn\", \"np\"\n",
    "alleleName <- c(substr(genotypeName[2],1,1) ,substr(genotypeName[2],2,2))\n",
    "naNames <- c(\"NA\",\"--\") #For example \"NA\", \"--\"\n",
    "colNum <- as.numeric(readline(\"Column Number: \")) #Column for pheno of interest"
   ]
  },
  {
   "cell_type": "code",
   "execution_count": 35,
   "metadata": {},
   "outputs": [
    {
     "name": "stdout",
     "output_type": "stream",
     "text": [
      " --Read the following data:\n",
      "\t 294  individuals\n",
      "\t 1128  markers\n",
      "\t 38  phenotypes\n"
     ]
    },
    {
     "name": "stderr",
     "output_type": "stream",
     "text": [
      "Warning message in summary.cross(cross):\n",
      "\"Some markers at the same position on chr 1,3,4,5,6,7,8,9,10,12,13,14,15,16,17,18,19; use jittermap().\"\n"
     ]
    },
    {
     "name": "stdout",
     "output_type": "stream",
     "text": [
      " --Cross type: bc \n"
     ]
    },
    {
     "data": {
      "image/png": "[encoded data removed]",
      "text/plain": [
       "Plot with title \"Genetic map\""
      ]
     },
     "metadata": {
      "image/png": {
       "height": 420,
       "width": 420
      },
      "text/plain": {
       "height": 420,
       "width": 420
      }
     },
     "output_type": "display_data"
    }
   ],
   "source": [
    "#Map generation\n",
    "Map <- read.cross(format = 'csv',file = fileName \n",
    "                  ,genotypes = genotypeName,\n",
    "                  alleles = alleleName,na.strings = naNames) #generate linkage map\n",
    "Map <- jittermap(Map) #make sure no markers are in the same location\n",
    "Map <- calc.genoprob(Map,step = 1,map.function = \"kosambi\") #associate markers with full genotypes\n",
    "plot.map(Map) #draw linkage map"
   ]
  },
  {
   "cell_type": "code",
   "execution_count": 36,
   "metadata": {},
   "outputs": [
    {
     "data": {
      "image/png": "[encoded data removed]",
      "text/plain": [
       "Plot with title \"\""
      ]
     },
     "metadata": {
      "image/png": {
       "height": 420,
       "width": 420
      },
      "text/plain": {
       "height": 420,
       "width": 420
      }
     },
     "output_type": "display_data"
    }
   ],
   "source": [
    "plotNormalHistogram(Map$pheno[,colNum]) #normal histogram of pheno of interest"
   ]
  },
  {
   "cell_type": "markdown",
   "metadata": {},
   "source": [
    "Outliers exist in this data. "
   ]
  },
  {
   "cell_type": "code",
   "execution_count": 37,
   "metadata": {},
   "outputs": [
    {
     "name": "stderr",
     "output_type": "stream",
     "text": [
      "Warning message in checkcovar(cross, pheno.col, addcovar, intcovar, perm.strata, :\n",
      "\"addcovar appears to be over-specified; consider dropping columns.\n",
      "\"\n",
      "Warning message in checkcovar(cross, pheno.col, addcovar, intcovar, perm.strata, :\n",
      "\"addcovar appears to be over-specified; consider dropping columns.\n",
      "\"\n",
      "Warning message in checkcovar(cross, pheno.col, addcovar, intcovar, perm.strata, :\n",
      "\"addcovar appears to be over-specified; consider dropping columns.\n",
      "\"\n",
      "Warning message in checkcovar(cross, pheno.col, addcovar, intcovar, perm.strata, :\n",
      "\"addcovar appears to be over-specified; consider dropping columns.\n",
      "\"\n"
     ]
    },
    {
     "data": {
      "image/png": "[encoded data removed]",
      "text/plain": [
       "Plot with title \"\""
      ]
     },
     "metadata": {
      "image/png": {
       "height": 420,
       "width": 420
      },
      "text/plain": {
       "height": 420,
       "width": 420
      }
     },
     "output_type": "display_data"
    }
   ],
   "source": [
    "#Compute statistically significant values\n",
    "TraitCIM1000 <- cim(Map,pheno.col = colNum,method = \"hk\",\n",
    "                    map.function = \"kosambi\",n.perm = 1000) # Function will take a moment to run, determines LOD value\n",
    "plot(TraitCIM1000,col = 'green') #show distribution of lod scores\n",
    "LOD5 <- summary(TraitCIM1000)[1]"
   ]
  },
  {
   "cell_type": "code",
   "execution_count": 38,
   "metadata": {},
   "outputs": [
    {
     "name": "stdout",
     "output_type": "stream",
     "text": [
      "[1] \"If nothing shows up, the values \\n      are below the LOD5 score\"\n"
     ]
    },
    {
     "data": {
      "text/html": [
       "<table>\n",
       "<caption>A summary.scanone: 19 × 3</caption>\n",
       "<thead>\n",
       "\t<tr><th></th><th scope=col>chr</th><th scope=col>pos</th><th scope=col>lod</th></tr>\n",
       "\t<tr><th></th><th scope=col>&lt;fct&gt;</th><th scope=col>&lt;dbl&gt;</th><th scope=col>&lt;dbl&gt;</th></tr>\n",
       "</thead>\n",
       "<tbody>\n",
       "\t<tr><th scope=row>c1.loc39</th><td>1 </td><td> 39.000000</td><td>1.8398948</td></tr>\n",
       "\t<tr><th scope=row>2_17017117</th><td>2 </td><td> 67.249034</td><td>1.8706455</td></tr>\n",
       "\t<tr><th scope=row>3_969615</th><td>3 </td><td>  4.718006</td><td>1.1503656</td></tr>\n",
       "\t<tr><th scope=row>c4.loc53</th><td>4 </td><td> 53.000000</td><td>1.1225662</td></tr>\n",
       "\t<tr><th scope=row>5_23031683</th><td>5 </td><td> 72.299046</td><td>1.0537561</td></tr>\n",
       "\t<tr><th scope=row>c6.loc16</th><td>6 </td><td> 16.000000</td><td>0.6574418</td></tr>\n",
       "\t<tr><th scope=row>c7.loc51</th><td>7 </td><td> 51.000000</td><td>1.0325740</td></tr>\n",
       "\t<tr><th scope=row>c8.loc19</th><td>8 </td><td> 19.000000</td><td>4.1023224</td></tr>\n",
       "\t<tr><th scope=row>9_4309236</th><td>9 </td><td> 18.987014</td><td>0.5979394</td></tr>\n",
       "\t<tr><th scope=row>c10.loc5</th><td>10</td><td>  5.000000</td><td>1.2771691</td></tr>\n",
       "\t<tr><th scope=row>c11.loc55</th><td>11</td><td> 55.000000</td><td>1.1947710</td></tr>\n",
       "\t<tr><th scope=row>c12.loc20</th><td>12</td><td> 20.000000</td><td>1.2897265</td></tr>\n",
       "\t<tr><th scope=row>13_16846519</th><td>13</td><td> 63.799045</td><td>0.6286025</td></tr>\n",
       "\t<tr><th scope=row>c14.loc53</th><td>14</td><td> 53.000000</td><td>0.3560223</td></tr>\n",
       "\t<tr><th scope=row>c15.loc11</th><td>15</td><td> 11.000000</td><td>1.4616207</td></tr>\n",
       "\t<tr><th scope=row>c16.loc22</th><td>16</td><td> 22.000000</td><td>3.4973174</td></tr>\n",
       "\t<tr><th scope=row>c17.loc22</th><td>17</td><td> 22.000000</td><td>1.9582301</td></tr>\n",
       "\t<tr><th scope=row>18_32516169</th><td>18</td><td>124.381074</td><td>1.8142899</td></tr>\n",
       "\t<tr><th scope=row>19_2291878</th><td>19</td><td>  7.515007</td><td>0.3914538</td></tr>\n",
       "</tbody>\n",
       "</table>\n"
      ],
      "text/latex": [
       "A summary.scanone: 19 × 3\n",
       "\\begin{tabular}{r|lll}\n",
       "  & chr & pos & lod\\\\\n",
       "  & <fct> & <dbl> & <dbl>\\\\\n",
       "\\hline\n",
       "\tc1.loc39 & 1  &  39.000000 & 1.8398948\\\\\n",
       "\t2\\_17017117 & 2  &  67.249034 & 1.8706455\\\\\n",
       "\t3\\_969615 & 3  &   4.718006 & 1.1503656\\\\\n",
       "\tc4.loc53 & 4  &  53.000000 & 1.1225662\\\\\n",
       "\t5\\_23031683 & 5  &  72.299046 & 1.0537561\\\\\n",
       "\tc6.loc16 & 6  &  16.000000 & 0.6574418\\\\\n",
       "\tc7.loc51 & 7  &  51.000000 & 1.0325740\\\\\n",
       "\tc8.loc19 & 8  &  19.000000 & 4.1023224\\\\\n",
       "\t9\\_4309236 & 9  &  18.987014 & 0.5979394\\\\\n",
       "\tc10.loc5 & 10 &   5.000000 & 1.2771691\\\\\n",
       "\tc11.loc55 & 11 &  55.000000 & 1.1947710\\\\\n",
       "\tc12.loc20 & 12 &  20.000000 & 1.2897265\\\\\n",
       "\t13\\_16846519 & 13 &  63.799045 & 0.6286025\\\\\n",
       "\tc14.loc53 & 14 &  53.000000 & 0.3560223\\\\\n",
       "\tc15.loc11 & 15 &  11.000000 & 1.4616207\\\\\n",
       "\tc16.loc22 & 16 &  22.000000 & 3.4973174\\\\\n",
       "\tc17.loc22 & 17 &  22.000000 & 1.9582301\\\\\n",
       "\t18\\_32516169 & 18 & 124.381074 & 1.8142899\\\\\n",
       "\t19\\_2291878 & 19 &   7.515007 & 0.3914538\\\\\n",
       "\\end{tabular}\n"
      ],
      "text/markdown": [
       "\n",
       "A summary.scanone: 19 × 3\n",
       "\n",
       "| <!--/--> | chr &lt;fct&gt; | pos &lt;dbl&gt; | lod &lt;dbl&gt; |\n",
       "|---|---|---|---|\n",
       "| c1.loc39 | 1  |  39.000000 | 1.8398948 |\n",
       "| 2_17017117 | 2  |  67.249034 | 1.8706455 |\n",
       "| 3_969615 | 3  |   4.718006 | 1.1503656 |\n",
       "| c4.loc53 | 4  |  53.000000 | 1.1225662 |\n",
       "| 5_23031683 | 5  |  72.299046 | 1.0537561 |\n",
       "| c6.loc16 | 6  |  16.000000 | 0.6574418 |\n",
       "| c7.loc51 | 7  |  51.000000 | 1.0325740 |\n",
       "| c8.loc19 | 8  |  19.000000 | 4.1023224 |\n",
       "| 9_4309236 | 9  |  18.987014 | 0.5979394 |\n",
       "| c10.loc5 | 10 |   5.000000 | 1.2771691 |\n",
       "| c11.loc55 | 11 |  55.000000 | 1.1947710 |\n",
       "| c12.loc20 | 12 |  20.000000 | 1.2897265 |\n",
       "| 13_16846519 | 13 |  63.799045 | 0.6286025 |\n",
       "| c14.loc53 | 14 |  53.000000 | 0.3560223 |\n",
       "| c15.loc11 | 15 |  11.000000 | 1.4616207 |\n",
       "| c16.loc22 | 16 |  22.000000 | 3.4973174 |\n",
       "| c17.loc22 | 17 |  22.000000 | 1.9582301 |\n",
       "| 18_32516169 | 18 | 124.381074 | 1.8142899 |\n",
       "| 19_2291878 | 19 |   7.515007 | 0.3914538 |\n",
       "\n"
      ],
      "text/plain": [
       "            chr pos        lod      \n",
       "c1.loc39    1    39.000000 1.8398948\n",
       "2_17017117  2    67.249034 1.8706455\n",
       "3_969615    3     4.718006 1.1503656\n",
       "c4.loc53    4    53.000000 1.1225662\n",
       "5_23031683  5    72.299046 1.0537561\n",
       "c6.loc16    6    16.000000 0.6574418\n",
       "c7.loc51    7    51.000000 1.0325740\n",
       "c8.loc19    8    19.000000 4.1023224\n",
       "9_4309236   9    18.987014 0.5979394\n",
       "c10.loc5    10    5.000000 1.2771691\n",
       "c11.loc55   11   55.000000 1.1947710\n",
       "c12.loc20   12   20.000000 1.2897265\n",
       "13_16846519 13   63.799045 0.6286025\n",
       "c14.loc53   14   53.000000 0.3560223\n",
       "c15.loc11   15   11.000000 1.4616207\n",
       "c16.loc22   16   22.000000 3.4973174\n",
       "c17.loc22   17   22.000000 1.9582301\n",
       "18_32516169 18  124.381074 1.8142899\n",
       "19_2291878  19    7.515007 0.3914538"
      ]
     },
     "metadata": {},
     "output_type": "display_data"
    },
    {
     "data": {
      "text/plain": [
       "LOD thresholds (1000 permutations)\n",
       "   [,1]\n",
       "5% 6.17\n",
       "1% 8.54"
      ]
     },
     "metadata": {},
     "output_type": "display_data"
    },
    {
     "data": {
      "image/png": "[encoded data removed]",
      "text/plain": [
       "plot without title"
      ]
     },
     "metadata": {
      "image/png": {
       "height": 420,
       "width": 420
      },
      "text/plain": {
       "height": 420,
       "width": 420
      }
     },
     "output_type": "display_data"
    }
   ],
   "source": [
    "#Deterime LOD Values\n",
    "TraitCIM<-cim(Map,pheno.col = colNum,method = \"hk\",\n",
    "              map.function = \"kosambi\") #Generate LOD Values\n",
    "plot(TraitCIM) #show LOD graph\n",
    "abline(h = LOD5,col = \"blue\") #overlay statistically significant line\n",
    "print(\"If nothing shows up, the values \n",
    "      are below the LOD5 score\") #warning for no peaks\n",
    "summary(TraitCIM)\n",
    "summary(TraitCIM1000,alpha=c(.05,.01))"
   ]
  },
  {
   "cell_type": "code",
   "execution_count": 40,
   "metadata": {},
   "outputs": [
    {
     "name": "stdin",
     "output_type": "stream",
     "text": [
      "Chromosome?  8\n",
      "Would you like to investigate \n",
      "                  another chromosome? (Y/N):  N\n"
     ]
    },
    {
     "data": {
      "image/png": "[encoded data removed]",
      "text/plain": [
       "plot without title"
      ]
     },
     "metadata": {
      "image/png": {
       "height": 420,
       "width": 420
      },
      "text/plain": {
       "height": 420,
       "width": 420
      }
     },
     "output_type": "display_data"
    }
   ],
   "source": [
    "#Chromosomal Analysis\n",
    "cont = 'Y' #Run loop on first run through\n",
    "while(cont == 'Y'){\n",
    "  chr <- as.numeric(readline(\"Chromosome? \")) #collect chromosome to look at\n",
    "  plot(TraitCIM, chr = chr, xlab=chr) #Plot chr LOD scores\n",
    "  abline(h = LOD5, col = \"blue\") #Statistically Significant\n",
    "  cont = readline(\"Would you like to investigate \n",
    "                  another chromosome? (Y/N): \") #Y if multiple\n",
    "                  #chromosomes are to be investigated\n",
    "}"
   ]
  },
  {
   "cell_type": "code",
   "execution_count": null,
   "metadata": {},
   "outputs": [],
   "source": []
  }
 ],
 "metadata": {
  "kernelspec": {
   "display_name": "R",
   "language": "R",
   "name": "ir"
  },
  "language_info": {
   "codemirror_mode": "r",
   "file_extension": ".r",
   "mimetype": "text/x-r-source",
   "name": "R",
   "pygments_lexer": "r",
   "version": "3.6.3"
  }
 },
 "nbformat": 4,
 "nbformat_minor": 4
}
