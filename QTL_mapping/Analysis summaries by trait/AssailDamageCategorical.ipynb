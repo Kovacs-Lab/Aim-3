{
 "cells": [
  {
   "cell_type": "markdown",
   "metadata": {},
   "source": [
    "This analysis is in the order of Female then Male"
   ]
  },
  {
   "cell_type": "code",
   "execution_count": 1,
   "metadata": {},
   "outputs": [
    {
     "name": "stderr",
     "output_type": "stream",
     "text": [
      "Installing package into 'C:/Users/Courtney/Documents/R/win-library/3.6'\n",
      "(as 'lib' is unspecified)\n",
      "\n"
     ]
    },
    {
     "name": "stdout",
     "output_type": "stream",
     "text": [
      "package 'qtl' successfully unpacked and MD5 sums checked\n",
      "\n",
      "The downloaded binary packages are in\n",
      "\tC:\\Users\\Courtney\\AppData\\Local\\Temp\\RtmpiUu1pP\\downloaded_packages\n"
     ]
    },
    {
     "name": "stderr",
     "output_type": "stream",
     "text": [
      "Installing package into 'C:/Users/Courtney/Documents/R/win-library/3.6'\n",
      "(as 'lib' is unspecified)\n",
      "\n"
     ]
    },
    {
     "name": "stdout",
     "output_type": "stream",
     "text": [
      "package 'qtlcharts' successfully unpacked and MD5 sums checked\n",
      "\n",
      "The downloaded binary packages are in\n",
      "\tC:\\Users\\Courtney\\AppData\\Local\\Temp\\RtmpiUu1pP\\downloaded_packages\n"
     ]
    },
    {
     "name": "stderr",
     "output_type": "stream",
     "text": [
      "Installing package into 'C:/Users/Courtney/Documents/R/win-library/3.6'\n",
      "(as 'lib' is unspecified)\n",
      "\n"
     ]
    },
    {
     "name": "stdout",
     "output_type": "stream",
     "text": [
      "package 'LinkageMapView' successfully unpacked and MD5 sums checked\n",
      "\n",
      "The downloaded binary packages are in\n",
      "\tC:\\Users\\Courtney\\AppData\\Local\\Temp\\RtmpiUu1pP\\downloaded_packages\n"
     ]
    },
    {
     "name": "stderr",
     "output_type": "stream",
     "text": [
      "Installing package into 'C:/Users/Courtney/Documents/R/win-library/3.6'\n",
      "(as 'lib' is unspecified)\n",
      "\n"
     ]
    },
    {
     "name": "stdout",
     "output_type": "stream",
     "text": [
      "\n",
      "  There is a binary version available but the source version is later:\n",
      "           binary source needs_compilation\n",
      "rcompanion  2.4.0  2.4.1             FALSE\n",
      "\n"
     ]
    },
    {
     "name": "stderr",
     "output_type": "stream",
     "text": [
      "installing the source package 'rcompanion'\n",
      "\n",
      "\n"
     ]
    }
   ],
   "source": [
    "install.packages('qtl') #Main package, for analysis\n",
    "install.packages('qtlcharts') #accessory, for displaying graphs\n",
    "install.packages('LinkageMapView') #accessory, for displaying linkage maps\n",
    "install.packages('rcompanion')# for plotNormalHistogram"
   ]
  },
  {
   "cell_type": "code",
   "execution_count": 1,
   "metadata": {},
   "outputs": [],
   "source": [
    "library(qtl) #load packages\n",
    "library(qtlcharts)\n",
    "library(LinkageMapView)\n",
    "library(rcompanion)"
   ]
  },
  {
   "cell_type": "code",
   "execution_count": 2,
   "metadata": {},
   "outputs": [
    {
     "name": "stdout",
     "output_type": "stream",
     "text": [
      "[1] \"Make sure to input names AS THEY APPEAR on the csv!!\"\n"
     ]
    },
    {
     "name": "stdin",
     "output_type": "stream",
     "text": [
      "Enter file name (Either FemaleMap.csv or MaleMap.csv):  FemaleMap_2021_July20.csv\n",
      "First Genotype (homozygous) (For example ll):  ll\n",
      "Second Genotype (heterozygous) (for example lm):  lm\n",
      "Column Number:  63\n"
     ]
    }
   ],
   "source": [
    "#Collecting enviroment variables\n",
    "print(\"Make sure to input names AS THEY APPEAR on the csv!!\") #Just a user warning\n",
    "fileName <- readline(\"Enter file name (Either FemaleMap.csv or MaleMap.csv): \") #Mapping table file\n",
    "genotypeName <- c(readline(\"First Genotype (homozygous) (For example ll): \"),\n",
    "                  readline(\"Second Genotype (heterozygous) (for example lm): \")) #For example \"nn\", \"np\"\n",
    "alleleName <- c(substr(genotypeName[2],1,1) ,substr(genotypeName[2],2,2))\n",
    "naNames <- c(\"NA\",\"--\") #For example \"NA\", \"--\"\n",
    "colNum <- as.numeric(readline(\"Column Number: \")) #Column for pheno of interest"
   ]
  },
  {
   "cell_type": "code",
   "execution_count": 3,
   "metadata": {},
   "outputs": [
    {
     "name": "stderr",
     "output_type": "stream",
     "text": [
      "Warning message in FUN(X[[i]], ...):\n",
      "\"The phenotype value \" \"  was interpreted as missing.\"\n"
     ]
    },
    {
     "name": "stdout",
     "output_type": "stream",
     "text": [
      " --Read the following data:\n",
      "\t 294  individuals\n",
      "\t 1100  markers\n",
      "\t 64  phenotypes\n"
     ]
    },
    {
     "name": "stderr",
     "output_type": "stream",
     "text": [
      "Warning message in summary.cross(cross):\n",
      "\"Some markers at the same position on chr 1,2,4,5,7,8,9,10,11,12,13,14,16,17,18,19; use jittermap().\"\n"
     ]
    },
    {
     "name": "stdout",
     "output_type": "stream",
     "text": [
      " --Cross type: bc \n"
     ]
    },
    {
     "data": {
      "image/png": "[encoded data removed]",
      "text/plain": [
       "Plot with title \"Genetic map\""
      ]
     },
     "metadata": {
      "image/png": {
       "height": 420,
       "width": 420
      },
      "text/plain": {
       "height": 420,
       "width": 420
      }
     },
     "output_type": "display_data"
    }
   ],
   "source": [
    "#Map generation\n",
    "Map <- read.cross(format = 'csv',file = fileName \n",
    "                  ,genotypes = genotypeName,\n",
    "                  alleles = alleleName,na.strings = naNames) #generate linkage map\n",
    "Map <- jittermap(Map) #make sure no markers are in the same location\n",
    "Map <- calc.genoprob(Map,step = 1,map.function = \"kosambi\") #associate markers with full genotypes\n",
    "plot.map(Map) #draw linkage map"
   ]
  },
  {
   "cell_type": "code",
   "execution_count": 4,
   "metadata": {},
   "outputs": [
    {
     "data": {
      "image/png": "[encoded data removed]",
      "text/plain": [
       "Plot with title \"\""
      ]
     },
     "metadata": {
      "image/png": {
       "height": 420,
       "width": 420
      },
      "text/plain": {
       "height": 420,
       "width": 420
      }
     },
     "output_type": "display_data"
    }
   ],
   "source": [
    "plotNormalHistogram(Map$pheno[,colNum]) #normal histogram of pheno of interest"
   ]
  },
  {
   "cell_type": "markdown",
   "metadata": {},
   "source": [
    "Outliers exist in this dataset. Will need to be analyized. "
   ]
  },
  {
   "cell_type": "code",
   "execution_count": 5,
   "metadata": {},
   "outputs": [
    {
     "data": {
      "text/plain": [
       "LOD thresholds (1000 permutations)\n",
       "   [,1]\n",
       "5% 4.07\n",
       "1% 4.78"
      ]
     },
     "metadata": {},
     "output_type": "display_data"
    },
    {
     "data": {
      "image/png": "[encoded data removed]",
      "text/plain": [
       "Plot with title \"\""
      ]
     },
     "metadata": {
      "image/png": {
       "height": 420,
       "width": 420
      },
      "text/plain": {
       "height": 420,
       "width": 420
      }
     },
     "output_type": "display_data"
    }
   ],
   "source": [
    "#Compute statistically significant values\n",
    "TraitCIM1000 <- cim(Map,pheno.col = colNum,method = \"hk\",\n",
    "                    map.function = \"kosambi\",n.perm = 1000) # Function will take a moment to run, determines LOD value\n",
    "plot(TraitCIM1000,col = 'green') #show distribution of lod scores\n",
    "summary(TraitCIM1000,alpha=c(.05,.01))"
   ]
  },
  {
   "cell_type": "code",
   "execution_count": 6,
   "metadata": {},
   "outputs": [
    {
     "name": "stdout",
     "output_type": "stream",
     "text": [
      "[1] \"If nothing shows up, the values \\n      are below the LOD5 score\"\n"
     ]
    },
    {
     "data": {
      "text/html": [
       "<table>\n",
       "<caption>A summary.scanone: 19 × 3</caption>\n",
       "<thead>\n",
       "\t<tr><th></th><th scope=col>chr</th><th scope=col>pos</th><th scope=col>lod</th></tr>\n",
       "\t<tr><th></th><th scope=col>&lt;fct&gt;</th><th scope=col>&lt;dbl&gt;</th><th scope=col>&lt;dbl&gt;</th></tr>\n",
       "</thead>\n",
       "<tbody>\n",
       "\t<tr><th scope=row>1_19145591</th><td>1 </td><td>61.270035</td><td> 0.7084546</td></tr>\n",
       "\t<tr><th scope=row>c2.loc31</th><td>2 </td><td>31.000000</td><td> 0.6900885</td></tr>\n",
       "\t<tr><th scope=row>c3.loc62</th><td>3 </td><td>62.000000</td><td> 1.1145873</td></tr>\n",
       "\t<tr><th scope=row>4_2940289</th><td>4 </td><td>11.906014</td><td> 1.1632090</td></tr>\n",
       "\t<tr><th scope=row>5_6915516</th><td>5 </td><td>32.347022</td><td> 1.9379540</td></tr>\n",
       "\t<tr><th scope=row>c6.loc48</th><td>6 </td><td>48.000000</td><td> 1.1221648</td></tr>\n",
       "\t<tr><th scope=row>7_24726492</th><td>7 </td><td>82.084101</td><td> 1.1255921</td></tr>\n",
       "\t<tr><th scope=row>c8.loc54</th><td>8 </td><td>54.000000</td><td> 0.9808004</td></tr>\n",
       "\t<tr><th scope=row>9_1518031</th><td>9 </td><td> 6.415006</td><td> 0.4033927</td></tr>\n",
       "\t<tr><th scope=row>17_17189505</th><td>10</td><td> 8.429006</td><td>10.7743726</td></tr>\n",
       "\t<tr><th scope=row>11_19921290</th><td>11</td><td>64.492045</td><td> 0.8904718</td></tr>\n",
       "\t<tr><th scope=row>c12.loc62</th><td>12</td><td>62.000000</td><td> 0.5925981</td></tr>\n",
       "\t<tr><th scope=row>c13.loc36</th><td>13</td><td>36.000000</td><td> 4.1802453</td></tr>\n",
       "\t<tr><th scope=row>c14.loc61</th><td>14</td><td>61.000000</td><td> 0.6347272</td></tr>\n",
       "\t<tr><th scope=row>15_11136572</th><td>15</td><td>11.487022</td><td> 1.9398184</td></tr>\n",
       "\t<tr><th scope=row>12_9628169</th><td>16</td><td>13.671014</td><td> 1.0331610</td></tr>\n",
       "\t<tr><th scope=row>c17.loc16</th><td>17</td><td>16.000000</td><td> 1.2245238</td></tr>\n",
       "\t<tr><th scope=row>c18.loc61</th><td>18</td><td>61.000000</td><td> 1.6845062</td></tr>\n",
       "\t<tr><th scope=row>19_276443</th><td>19</td><td> 0.000000</td><td> 0.7610679</td></tr>\n",
       "</tbody>\n",
       "</table>\n"
      ],
      "text/latex": [
       "A summary.scanone: 19 × 3\n",
       "\\begin{tabular}{r|lll}\n",
       "  & chr & pos & lod\\\\\n",
       "  & <fct> & <dbl> & <dbl>\\\\\n",
       "\\hline\n",
       "\t1\\_19145591 & 1  & 61.270035 &  0.7084546\\\\\n",
       "\tc2.loc31 & 2  & 31.000000 &  0.6900885\\\\\n",
       "\tc3.loc62 & 3  & 62.000000 &  1.1145873\\\\\n",
       "\t4\\_2940289 & 4  & 11.906014 &  1.1632090\\\\\n",
       "\t5\\_6915516 & 5  & 32.347022 &  1.9379540\\\\\n",
       "\tc6.loc48 & 6  & 48.000000 &  1.1221648\\\\\n",
       "\t7\\_24726492 & 7  & 82.084101 &  1.1255921\\\\\n",
       "\tc8.loc54 & 8  & 54.000000 &  0.9808004\\\\\n",
       "\t9\\_1518031 & 9  &  6.415006 &  0.4033927\\\\\n",
       "\t17\\_17189505 & 10 &  8.429006 & 10.7743726\\\\\n",
       "\t11\\_19921290 & 11 & 64.492045 &  0.8904718\\\\\n",
       "\tc12.loc62 & 12 & 62.000000 &  0.5925981\\\\\n",
       "\tc13.loc36 & 13 & 36.000000 &  4.1802453\\\\\n",
       "\tc14.loc61 & 14 & 61.000000 &  0.6347272\\\\\n",
       "\t15\\_11136572 & 15 & 11.487022 &  1.9398184\\\\\n",
       "\t12\\_9628169 & 16 & 13.671014 &  1.0331610\\\\\n",
       "\tc17.loc16 & 17 & 16.000000 &  1.2245238\\\\\n",
       "\tc18.loc61 & 18 & 61.000000 &  1.6845062\\\\\n",
       "\t19\\_276443 & 19 &  0.000000 &  0.7610679\\\\\n",
       "\\end{tabular}\n"
      ],
      "text/markdown": [
       "\n",
       "A summary.scanone: 19 × 3\n",
       "\n",
       "| <!--/--> | chr &lt;fct&gt; | pos &lt;dbl&gt; | lod &lt;dbl&gt; |\n",
       "|---|---|---|---|\n",
       "| 1_19145591 | 1  | 61.270035 |  0.7084546 |\n",
       "| c2.loc31 | 2  | 31.000000 |  0.6900885 |\n",
       "| c3.loc62 | 3  | 62.000000 |  1.1145873 |\n",
       "| 4_2940289 | 4  | 11.906014 |  1.1632090 |\n",
       "| 5_6915516 | 5  | 32.347022 |  1.9379540 |\n",
       "| c6.loc48 | 6  | 48.000000 |  1.1221648 |\n",
       "| 7_24726492 | 7  | 82.084101 |  1.1255921 |\n",
       "| c8.loc54 | 8  | 54.000000 |  0.9808004 |\n",
       "| 9_1518031 | 9  |  6.415006 |  0.4033927 |\n",
       "| 17_17189505 | 10 |  8.429006 | 10.7743726 |\n",
       "| 11_19921290 | 11 | 64.492045 |  0.8904718 |\n",
       "| c12.loc62 | 12 | 62.000000 |  0.5925981 |\n",
       "| c13.loc36 | 13 | 36.000000 |  4.1802453 |\n",
       "| c14.loc61 | 14 | 61.000000 |  0.6347272 |\n",
       "| 15_11136572 | 15 | 11.487022 |  1.9398184 |\n",
       "| 12_9628169 | 16 | 13.671014 |  1.0331610 |\n",
       "| c17.loc16 | 17 | 16.000000 |  1.2245238 |\n",
       "| c18.loc61 | 18 | 61.000000 |  1.6845062 |\n",
       "| 19_276443 | 19 |  0.000000 |  0.7610679 |\n",
       "\n"
      ],
      "text/plain": [
       "            chr pos       lod       \n",
       "1_19145591  1   61.270035  0.7084546\n",
       "c2.loc31    2   31.000000  0.6900885\n",
       "c3.loc62    3   62.000000  1.1145873\n",
       "4_2940289   4   11.906014  1.1632090\n",
       "5_6915516   5   32.347022  1.9379540\n",
       "c6.loc48    6   48.000000  1.1221648\n",
       "7_24726492  7   82.084101  1.1255921\n",
       "c8.loc54    8   54.000000  0.9808004\n",
       "9_1518031   9    6.415006  0.4033927\n",
       "17_17189505 10   8.429006 10.7743726\n",
       "11_19921290 11  64.492045  0.8904718\n",
       "c12.loc62   12  62.000000  0.5925981\n",
       "c13.loc36   13  36.000000  4.1802453\n",
       "c14.loc61   14  61.000000  0.6347272\n",
       "15_11136572 15  11.487022  1.9398184\n",
       "12_9628169  16  13.671014  1.0331610\n",
       "c17.loc16   17  16.000000  1.2245238\n",
       "c18.loc61   18  61.000000  1.6845062\n",
       "19_276443   19   0.000000  0.7610679"
      ]
     },
     "metadata": {},
     "output_type": "display_data"
    },
    {
     "data": {
      "image/png": "[encoded data removed]",
      "text/plain": [
       "plot without title"
      ]
     },
     "metadata": {
      "image/png": {
       "height": 420,
       "width": 420
      },
      "text/plain": {
       "height": 420,
       "width": 420
      }
     },
     "output_type": "display_data"
    }
   ],
   "source": [
    "#Deterime LOD Values\n",
    "LOD5 <- summary(TraitCIM1000,alpha=c(.05))\n",
    "TraitCIM<-cim(Map,pheno.col = colNum,method = \"hk\",\n",
    "              map.function = \"kosambi\") #Generate LOD Values\n",
    "plot(TraitCIM) #show LOD graph\n",
    "abline(h = LOD5,col = \"blue\") #overlay statistically significant line\n",
    "print(\"If nothing shows up, the values \n",
    "      are below the LOD5 score\") #warning for no peaks\n",
    "summary(TraitCIM)\n",
    "write.csv(TraitCIM,\"AssailScored_0or1_FemaleTable.csv\")"
   ]
  },
  {
   "cell_type": "code",
   "execution_count": 7,
   "metadata": {},
   "outputs": [
    {
     "name": "stdin",
     "output_type": "stream",
     "text": [
      "Chromosome?  10\n"
     ]
    },
    {
     "data": {
      "image/png": "[encoded data removed]",
      "text/plain": [
       "plot without title"
      ]
     },
     "metadata": {
      "image/png": {
       "height": 420,
       "width": 420
      },
      "text/plain": {
       "height": 420,
       "width": 420
      }
     },
     "output_type": "display_data"
    }
   ],
   "source": [
    "#Chromosomal Analysis\n",
    "chr <- as.numeric(readline(\"Chromosome? \")) #collect chromosome to look at\n",
    "plot(TraitCIM, chr = chr,xlab = c(\"chr\",chr)) #Plot chr LOD scores\n",
    "abline(h = LOD5, col = \"blue\") #Statistically Significant"
   ]
  },
  {
   "cell_type": "code",
   "execution_count": 8,
   "metadata": {},
   "outputs": [
    {
     "data": {
      "text/html": [
       "<table>\n",
       "<caption>A scanone: 3 × 3</caption>\n",
       "<thead>\n",
       "\t<tr><th></th><th scope=col>chr</th><th scope=col>pos</th><th scope=col>lod</th></tr>\n",
       "\t<tr><th></th><th scope=col>&lt;fct&gt;</th><th scope=col>&lt;dbl&gt;</th><th scope=col>&lt;dbl&gt;</th></tr>\n",
       "</thead>\n",
       "<tbody>\n",
       "\t<tr><th scope=row>17_17189406</th><td>10</td><td>2.459002</td><td> 0.1953031</td></tr>\n",
       "\t<tr><th scope=row>17_17189505</th><td>10</td><td>8.429006</td><td>10.7743726</td></tr>\n",
       "\t<tr><th scope=row>10_2674703</th><td>10</td><td>9.536007</td><td> 9.8969205</td></tr>\n",
       "</tbody>\n",
       "</table>\n"
      ],
      "text/latex": [
       "A scanone: 3 × 3\n",
       "\\begin{tabular}{r|lll}\n",
       "  & chr & pos & lod\\\\\n",
       "  & <fct> & <dbl> & <dbl>\\\\\n",
       "\\hline\n",
       "\t17\\_17189406 & 10 & 2.459002 &  0.1953031\\\\\n",
       "\t17\\_17189505 & 10 & 8.429006 & 10.7743726\\\\\n",
       "\t10\\_2674703 & 10 & 9.536007 &  9.8969205\\\\\n",
       "\\end{tabular}\n"
      ],
      "text/markdown": [
       "\n",
       "A scanone: 3 × 3\n",
       "\n",
       "| <!--/--> | chr &lt;fct&gt; | pos &lt;dbl&gt; | lod &lt;dbl&gt; |\n",
       "|---|---|---|---|\n",
       "| 17_17189406 | 10 | 2.459002 |  0.1953031 |\n",
       "| 17_17189505 | 10 | 8.429006 | 10.7743726 |\n",
       "| 10_2674703 | 10 | 9.536007 |  9.8969205 |\n",
       "\n"
      ],
      "text/plain": [
       "            chr pos      lod       \n",
       "17_17189406 10  2.459002  0.1953031\n",
       "17_17189505 10  8.429006 10.7743726\n",
       "10_2674703  10  9.536007  9.8969205"
      ]
     },
     "metadata": {},
     "output_type": "display_data"
    },
    {
     "data": {
      "text/html": [
       "<table>\n",
       "<caption>A scanone: 3 × 3</caption>\n",
       "<thead>\n",
       "\t<tr><th></th><th scope=col>chr</th><th scope=col>pos</th><th scope=col>lod</th></tr>\n",
       "\t<tr><th></th><th scope=col>&lt;fct&gt;</th><th scope=col>&lt;dbl&gt;</th><th scope=col>&lt;dbl&gt;</th></tr>\n",
       "</thead>\n",
       "<tbody>\n",
       "\t<tr><th scope=row>17_17189406</th><td>10</td><td> 2.459002</td><td> 0.1953031</td></tr>\n",
       "\t<tr><th scope=row>17_17189505</th><td>10</td><td> 8.429006</td><td>10.7743726</td></tr>\n",
       "\t<tr><th scope=row>10_3167847</th><td>10</td><td>10.890008</td><td> 7.7206422</td></tr>\n",
       "</tbody>\n",
       "</table>\n"
      ],
      "text/latex": [
       "A scanone: 3 × 3\n",
       "\\begin{tabular}{r|lll}\n",
       "  & chr & pos & lod\\\\\n",
       "  & <fct> & <dbl> & <dbl>\\\\\n",
       "\\hline\n",
       "\t17\\_17189406 & 10 &  2.459002 &  0.1953031\\\\\n",
       "\t17\\_17189505 & 10 &  8.429006 & 10.7743726\\\\\n",
       "\t10\\_3167847 & 10 & 10.890008 &  7.7206422\\\\\n",
       "\\end{tabular}\n"
      ],
      "text/markdown": [
       "\n",
       "A scanone: 3 × 3\n",
       "\n",
       "| <!--/--> | chr &lt;fct&gt; | pos &lt;dbl&gt; | lod &lt;dbl&gt; |\n",
       "|---|---|---|---|\n",
       "| 17_17189406 | 10 |  2.459002 |  0.1953031 |\n",
       "| 17_17189505 | 10 |  8.429006 | 10.7743726 |\n",
       "| 10_3167847 | 10 | 10.890008 |  7.7206422 |\n",
       "\n"
      ],
      "text/plain": [
       "            chr pos       lod       \n",
       "17_17189406 10   2.459002  0.1953031\n",
       "17_17189505 10   8.429006 10.7743726\n",
       "10_3167847  10  10.890008  7.7206422"
      ]
     },
     "metadata": {},
     "output_type": "display_data"
    }
   ],
   "source": [
    "bayesint(TraitCIM, chr = chr, prob=0.95, expandtomarkers=TRUE) #calculate bayesian interval\n",
    "lodint(TraitCIM, chr = chr,expandtomarkers = TRUE ) #calculate LOD Support interval"
   ]
  },
  {
   "cell_type": "code",
   "execution_count": 9,
   "metadata": {},
   "outputs": [
    {
     "name": "stdin",
     "output_type": "stream",
     "text": [
      "Position for analysis:  8.429006\n"
     ]
    },
    {
     "name": "stderr",
     "output_type": "stream",
     "text": [
      "Warning message in getsex(cross):\n",
      "\"125 individuals with missing sex; assuming they're female\"\n",
      "Warning message in fitqtlengine(pheno = pheno, qtl = qtl, covar = covar, formula = formula, :\n",
      "\"Dropping 124 individuals with missing phenotypes.\n",
      "\"\n",
      "Warning message in getsex(cross):\n",
      "\"125 individuals with missing sex; assuming they're female\"\n"
     ]
    },
    {
     "data": {
      "text/plain": [
       "\n",
       "\t\tfitqtl summary\n",
       "\n",
       "Method: Haley-Knott regression \n",
       "Model:  normal phenotype\n",
       "Number of observations : 170 \n",
       "\n",
       "Full model result\n",
       "----------------------------------  \n",
       "Model formula: y ~ Q1 \n",
       "\n",
       "       df        SS        MS      LOD     %var Pvalue(Chi2)    Pvalue(F)\n",
       "Model   1  6.791488 6.7914879 9.091271 21.82932 9.770507e-11 1.336868e-10\n",
       "Error 168 24.320277 0.1447636                                            \n",
       "Total 169 31.111765                                                      \n",
       "\n",
       "\n",
       "Estimated effects:\n",
       "-----------------\n",
       "               est       SE      t\n",
       "Intercept  0.74468  0.02925 25.456\n",
       "10@8.4    -0.40076  0.05851 -6.849\n"
      ]
     },
     "metadata": {},
     "output_type": "display_data"
    }
   ],
   "source": [
    "p <- as.numeric(readline(\"Position for analysis: \"))\n",
    "qtl <- makeqtl(Map, chr = chr, pos = p, what=\"prob\") #pulls genotype probabilities\n",
    "fitqtl <- fitqtl(Map, pheno.col=colNum, qtl = qtl, covar=NULL,\n",
    "       method= \"hk\",model=\"normal\",\n",
    "       dropone=TRUE, get.ests=TRUE,run.checks=TRUE,\n",
    "       tol=1e-4, maxit=1000, forceXcovar=FALSE) #sees how well our data fits a given formula \n",
    "          # If you see \"error: object of type 'closure' is not subsettable\", remove \"formula,\" from the fitqtl argument list.\n",
    "summary(fitqtl) #Print results of the analysis"
   ]
  },
  {
   "cell_type": "code",
   "execution_count": 10,
   "metadata": {},
   "outputs": [
    {
     "name": "stdout",
     "output_type": "stream",
     "text": [
      "[1] \"Make sure to input names AS THEY APPEAR on the csv!!\"\n"
     ]
    },
    {
     "name": "stdin",
     "output_type": "stream",
     "text": [
      "Enter file name (Either FemaleMap.csv or MaleMap.csv):  MaleMap_2021_July20.csv\n",
      "First Genotype (homozygous) (For example ll):  nn\n",
      "Second Genotype (heterozygous) (for example lm):  np\n",
      "Column Number:  63\n"
     ]
    }
   ],
   "source": [
    "#Collecting enviroment variables\n",
    "print(\"Make sure to input names AS THEY APPEAR on the csv!!\") #Just a user warning\n",
    "fileName <- readline(\"Enter file name (Either FemaleMap.csv or MaleMap.csv): \") #Mapping table file\n",
    "genotypeName <- c(readline(\"First Genotype (homozygous) (For example ll): \"),\n",
    "                  readline(\"Second Genotype (heterozygous) (for example lm): \")) #For example \"nn\", \"np\"\n",
    "alleleName <- c(substr(genotypeName[2],1,1) ,substr(genotypeName[2],2,2))\n",
    "naNames <- c(\"NA\",\"--\") #For example \"NA\", \"--\"\n",
    "colNum <- as.numeric(readline(\"Column Number: \")) #Column for pheno of interest"
   ]
  },
  {
   "cell_type": "code",
   "execution_count": 11,
   "metadata": {},
   "outputs": [
    {
     "name": "stderr",
     "output_type": "stream",
     "text": [
      "Warning message in FUN(X[[i]], ...):\n",
      "\"The phenotype value \" \"  was interpreted as missing.\"\n"
     ]
    },
    {
     "name": "stdout",
     "output_type": "stream",
     "text": [
      " --Read the following data:\n",
      "\t 294  individuals\n",
      "\t 1128  markers\n",
      "\t 64  phenotypes\n"
     ]
    },
    {
     "name": "stderr",
     "output_type": "stream",
     "text": [
      "Warning message in summary.cross(cross):\n",
      "\"Some markers at the same position on chr 1,3,4,5,6,7,8,9,10,12,13,14,15,16,17,18,19; use jittermap().\"\n"
     ]
    },
    {
     "name": "stdout",
     "output_type": "stream",
     "text": [
      " --Cross type: bc \n"
     ]
    },
    {
     "data": {
      "image/png": "[encoded data removed]",
      "text/plain": [
       "Plot with title \"Genetic map\""
      ]
     },
     "metadata": {
      "image/png": {
       "height": 420,
       "width": 420
      },
      "text/plain": {
       "height": 420,
       "width": 420
      }
     },
     "output_type": "display_data"
    }
   ],
   "source": [
    "#Map generation\n",
    "Map <- read.cross(format = 'csv',file = fileName \n",
    "                  ,genotypes = genotypeName,\n",
    "                  alleles = alleleName,na.strings = naNames) #generate linkage map\n",
    "Map <- jittermap(Map) #make sure no markers are in the same location\n",
    "Map <- calc.genoprob(Map,step = 1,map.function = \"kosambi\") #associate markers with full genotypes\n",
    "plot.map(Map) #draw linkage map"
   ]
  },
  {
   "cell_type": "code",
   "execution_count": 12,
   "metadata": {},
   "outputs": [
    {
     "data": {
      "image/png": "[encoded data removed]",
      "text/plain": [
       "Plot with title \"\""
      ]
     },
     "metadata": {
      "image/png": {
       "height": 420,
       "width": 420
      },
      "text/plain": {
       "height": 420,
       "width": 420
      }
     },
     "output_type": "display_data"
    }
   ],
   "source": [
    "plotNormalHistogram(Map$pheno[,colNum]) #normal histogram of pheno of interest"
   ]
  },
  {
   "cell_type": "markdown",
   "metadata": {},
   "source": [
    "Outliers exist in this data. "
   ]
  },
  {
   "cell_type": "code",
   "execution_count": 13,
   "metadata": {},
   "outputs": [
    {
     "data": {
      "text/plain": [
       "LOD thresholds (1000 permutations)\n",
       "   [,1]\n",
       "5% 4.21\n",
       "1% 5.26"
      ]
     },
     "metadata": {},
     "output_type": "display_data"
    },
    {
     "data": {
      "image/png": "[encoded data removed]",
      "text/plain": [
       "Plot with title \"\""
      ]
     },
     "metadata": {
      "image/png": {
       "height": 420,
       "width": 420
      },
      "text/plain": {
       "height": 420,
       "width": 420
      }
     },
     "output_type": "display_data"
    }
   ],
   "source": [
    "#Compute statistically significant values\n",
    "TraitCIM1000 <- cim(Map,pheno.col = colNum,method = \"hk\",\n",
    "                    map.function = \"kosambi\",n.perm = 1000) # Function will take a moment to run, determines LOD value\n",
    "plot(TraitCIM1000,col = 'green') #show distribution of lod scores\n",
    "summary(TraitCIM1000,alpha=c(.05,.01))"
   ]
  },
  {
   "cell_type": "code",
   "execution_count": 14,
   "metadata": {},
   "outputs": [
    {
     "name": "stdout",
     "output_type": "stream",
     "text": [
      "[1] \"If nothing shows up, the values \\n      are below the LOD5 score\"\n"
     ]
    },
    {
     "data": {
      "text/html": [
       "<table>\n",
       "<caption>A summary.scanone: 19 × 3</caption>\n",
       "<thead>\n",
       "\t<tr><th></th><th scope=col>chr</th><th scope=col>pos</th><th scope=col>lod</th></tr>\n",
       "\t<tr><th></th><th scope=col>&lt;fct&gt;</th><th scope=col>&lt;dbl&gt;</th><th scope=col>&lt;dbl&gt;</th></tr>\n",
       "</thead>\n",
       "<tbody>\n",
       "\t<tr><th scope=row>c1.loc78</th><td>1 </td><td> 78.000000</td><td> 1.0598501</td></tr>\n",
       "\t<tr><th scope=row>c2.loc14</th><td>2 </td><td> 14.000000</td><td> 0.5476367</td></tr>\n",
       "\t<tr><th scope=row>3_5884897</th><td>3 </td><td> 33.699036</td><td> 1.0872797</td></tr>\n",
       "\t<tr><th scope=row>c4.loc19</th><td>4 </td><td> 19.000000</td><td> 1.0708378</td></tr>\n",
       "\t<tr><th scope=row>c5.loc73</th><td>5 </td><td> 73.000000</td><td> 0.9865807</td></tr>\n",
       "\t<tr><th scope=row>c6.loc13</th><td>6 </td><td> 13.000000</td><td> 1.4256948</td></tr>\n",
       "\t<tr><th scope=row>2_16557788</th><td>7 </td><td> 60.331048</td><td> 2.6346857</td></tr>\n",
       "\t<tr><th scope=row>c8.loc87</th><td>8 </td><td> 87.000000</td><td> 1.3209279</td></tr>\n",
       "\t<tr><th scope=row>9_915836</th><td>9 </td><td>  3.059005</td><td> 0.6400426</td></tr>\n",
       "\t<tr><th scope=row>10_1362190</th><td>10</td><td>  6.033005</td><td>13.7778473</td></tr>\n",
       "\t<tr><th scope=row>c11.loc32</th><td>11</td><td> 32.000000</td><td> 0.3091130</td></tr>\n",
       "\t<tr><th scope=row>12_21424847</th><td>12</td><td> 55.189063</td><td> 0.6129188</td></tr>\n",
       "\t<tr><th scope=row>c13.loc34</th><td>13</td><td> 34.000000</td><td> 1.0923492</td></tr>\n",
       "\t<tr><th scope=row>14_130433</th><td>14</td><td>  0.000000</td><td> 2.0028078</td></tr>\n",
       "\t<tr><th scope=row>c15.loc83</th><td>15</td><td> 83.000000</td><td> 1.5277288</td></tr>\n",
       "\t<tr><th scope=row>18_33757550</th><td>16</td><td> 64.895035</td><td> 1.3809903</td></tr>\n",
       "\t<tr><th scope=row>c17.loc39</th><td>17</td><td> 39.000000</td><td> 0.4229559</td></tr>\n",
       "\t<tr><th scope=row>c18.loc100</th><td>18</td><td>100.000000</td><td> 1.1743476</td></tr>\n",
       "\t<tr><th scope=row>c19.loc4</th><td>19</td><td>  4.000000</td><td> 1.7841412</td></tr>\n",
       "</tbody>\n",
       "</table>\n"
      ],
      "text/latex": [
       "A summary.scanone: 19 × 3\n",
       "\\begin{tabular}{r|lll}\n",
       "  & chr & pos & lod\\\\\n",
       "  & <fct> & <dbl> & <dbl>\\\\\n",
       "\\hline\n",
       "\tc1.loc78 & 1  &  78.000000 &  1.0598501\\\\\n",
       "\tc2.loc14 & 2  &  14.000000 &  0.5476367\\\\\n",
       "\t3\\_5884897 & 3  &  33.699036 &  1.0872797\\\\\n",
       "\tc4.loc19 & 4  &  19.000000 &  1.0708378\\\\\n",
       "\tc5.loc73 & 5  &  73.000000 &  0.9865807\\\\\n",
       "\tc6.loc13 & 6  &  13.000000 &  1.4256948\\\\\n",
       "\t2\\_16557788 & 7  &  60.331048 &  2.6346857\\\\\n",
       "\tc8.loc87 & 8  &  87.000000 &  1.3209279\\\\\n",
       "\t9\\_915836 & 9  &   3.059005 &  0.6400426\\\\\n",
       "\t10\\_1362190 & 10 &   6.033005 & 13.7778473\\\\\n",
       "\tc11.loc32 & 11 &  32.000000 &  0.3091130\\\\\n",
       "\t12\\_21424847 & 12 &  55.189063 &  0.6129188\\\\\n",
       "\tc13.loc34 & 13 &  34.000000 &  1.0923492\\\\\n",
       "\t14\\_130433 & 14 &   0.000000 &  2.0028078\\\\\n",
       "\tc15.loc83 & 15 &  83.000000 &  1.5277288\\\\\n",
       "\t18\\_33757550 & 16 &  64.895035 &  1.3809903\\\\\n",
       "\tc17.loc39 & 17 &  39.000000 &  0.4229559\\\\\n",
       "\tc18.loc100 & 18 & 100.000000 &  1.1743476\\\\\n",
       "\tc19.loc4 & 19 &   4.000000 &  1.7841412\\\\\n",
       "\\end{tabular}\n"
      ],
      "text/markdown": [
       "\n",
       "A summary.scanone: 19 × 3\n",
       "\n",
       "| <!--/--> | chr &lt;fct&gt; | pos &lt;dbl&gt; | lod &lt;dbl&gt; |\n",
       "|---|---|---|---|\n",
       "| c1.loc78 | 1  |  78.000000 |  1.0598501 |\n",
       "| c2.loc14 | 2  |  14.000000 |  0.5476367 |\n",
       "| 3_5884897 | 3  |  33.699036 |  1.0872797 |\n",
       "| c4.loc19 | 4  |  19.000000 |  1.0708378 |\n",
       "| c5.loc73 | 5  |  73.000000 |  0.9865807 |\n",
       "| c6.loc13 | 6  |  13.000000 |  1.4256948 |\n",
       "| 2_16557788 | 7  |  60.331048 |  2.6346857 |\n",
       "| c8.loc87 | 8  |  87.000000 |  1.3209279 |\n",
       "| 9_915836 | 9  |   3.059005 |  0.6400426 |\n",
       "| 10_1362190 | 10 |   6.033005 | 13.7778473 |\n",
       "| c11.loc32 | 11 |  32.000000 |  0.3091130 |\n",
       "| 12_21424847 | 12 |  55.189063 |  0.6129188 |\n",
       "| c13.loc34 | 13 |  34.000000 |  1.0923492 |\n",
       "| 14_130433 | 14 |   0.000000 |  2.0028078 |\n",
       "| c15.loc83 | 15 |  83.000000 |  1.5277288 |\n",
       "| 18_33757550 | 16 |  64.895035 |  1.3809903 |\n",
       "| c17.loc39 | 17 |  39.000000 |  0.4229559 |\n",
       "| c18.loc100 | 18 | 100.000000 |  1.1743476 |\n",
       "| c19.loc4 | 19 |   4.000000 |  1.7841412 |\n",
       "\n"
      ],
      "text/plain": [
       "            chr pos        lod       \n",
       "c1.loc78    1    78.000000  1.0598501\n",
       "c2.loc14    2    14.000000  0.5476367\n",
       "3_5884897   3    33.699036  1.0872797\n",
       "c4.loc19    4    19.000000  1.0708378\n",
       "c5.loc73    5    73.000000  0.9865807\n",
       "c6.loc13    6    13.000000  1.4256948\n",
       "2_16557788  7    60.331048  2.6346857\n",
       "c8.loc87    8    87.000000  1.3209279\n",
       "9_915836    9     3.059005  0.6400426\n",
       "10_1362190  10    6.033005 13.7778473\n",
       "c11.loc32   11   32.000000  0.3091130\n",
       "12_21424847 12   55.189063  0.6129188\n",
       "c13.loc34   13   34.000000  1.0923492\n",
       "14_130433   14    0.000000  2.0028078\n",
       "c15.loc83   15   83.000000  1.5277288\n",
       "18_33757550 16   64.895035  1.3809903\n",
       "c17.loc39   17   39.000000  0.4229559\n",
       "c18.loc100  18  100.000000  1.1743476\n",
       "c19.loc4    19    4.000000  1.7841412"
      ]
     },
     "metadata": {},
     "output_type": "display_data"
    },
    {
     "data": {
      "image/png": "[encoded data removed]",
      "text/plain": [
       "plot without title"
      ]
     },
     "metadata": {
      "image/png": {
       "height": 420,
       "width": 420
      },
      "text/plain": {
       "height": 420,
       "width": 420
      }
     },
     "output_type": "display_data"
    }
   ],
   "source": [
    "#Deterime LOD Values\n",
    "TraitCIM<-cim(Map,pheno.col = colNum,method = \"hk\",\n",
    "              map.function = \"kosambi\") #Generate LOD Values\n",
    "plot(TraitCIM) #show LOD graph\n",
    "abline(h = LOD5,col = \"blue\") #overlay statistically significant line\n",
    "print(\"If nothing shows up, the values \n",
    "      are below the LOD5 score\") #warning for no peaks\n",
    "summary(TraitCIM)\n",
    "write.csv(TraitCIM,\"AssailScored_0or1_MaleTable.csv\")"
   ]
  },
  {
   "cell_type": "code",
   "execution_count": 15,
   "metadata": {},
   "outputs": [
    {
     "name": "stdin",
     "output_type": "stream",
     "text": [
      "Chromosome?  10\n"
     ]
    },
    {
     "data": {
      "image/png": "[encoded data removed]",
      "text/plain": [
       "plot without title"
      ]
     },
     "metadata": {
      "image/png": {
       "height": 420,
       "width": 420
      },
      "text/plain": {
       "height": 420,
       "width": 420
      }
     },
     "output_type": "display_data"
    }
   ],
   "source": [
    "#Chromosomal Analysis\n",
    "chr <- as.numeric(readline(\"Chromosome? \")) #collect chromosome to look at\n",
    "plot(TraitCIM, chr = chr,xlab = c(\"chr\",chr)) #Plot chr LOD scores\n",
    "abline(h = LOD5, col = \"blue\") #Statistically Significant"
   ]
  },
  {
   "cell_type": "code",
   "execution_count": 16,
   "metadata": {},
   "outputs": [
    {
     "data": {
      "text/html": [
       "<table>\n",
       "<caption>A scanone: 3 × 3</caption>\n",
       "<thead>\n",
       "\t<tr><th></th><th scope=col>chr</th><th scope=col>pos</th><th scope=col>lod</th></tr>\n",
       "\t<tr><th></th><th scope=col>&lt;fct&gt;</th><th scope=col>&lt;dbl&gt;</th><th scope=col>&lt;dbl&gt;</th></tr>\n",
       "</thead>\n",
       "<tbody>\n",
       "\t<tr><th scope=row>10_1368821</th><td>10</td><td> 5.836004</td><td> 7.409712</td></tr>\n",
       "\t<tr><th scope=row>10_1362190</th><td>10</td><td> 6.033005</td><td>13.777847</td></tr>\n",
       "\t<tr><th scope=row>10_2470297</th><td>10</td><td>11.541010</td><td>11.623762</td></tr>\n",
       "</tbody>\n",
       "</table>\n"
      ],
      "text/latex": [
       "A scanone: 3 × 3\n",
       "\\begin{tabular}{r|lll}\n",
       "  & chr & pos & lod\\\\\n",
       "  & <fct> & <dbl> & <dbl>\\\\\n",
       "\\hline\n",
       "\t10\\_1368821 & 10 &  5.836004 &  7.409712\\\\\n",
       "\t10\\_1362190 & 10 &  6.033005 & 13.777847\\\\\n",
       "\t10\\_2470297 & 10 & 11.541010 & 11.623762\\\\\n",
       "\\end{tabular}\n"
      ],
      "text/markdown": [
       "\n",
       "A scanone: 3 × 3\n",
       "\n",
       "| <!--/--> | chr &lt;fct&gt; | pos &lt;dbl&gt; | lod &lt;dbl&gt; |\n",
       "|---|---|---|---|\n",
       "| 10_1368821 | 10 |  5.836004 |  7.409712 |\n",
       "| 10_1362190 | 10 |  6.033005 | 13.777847 |\n",
       "| 10_2470297 | 10 | 11.541010 | 11.623762 |\n",
       "\n"
      ],
      "text/plain": [
       "           chr pos       lod      \n",
       "10_1368821 10   5.836004  7.409712\n",
       "10_1362190 10   6.033005 13.777847\n",
       "10_2470297 10  11.541010 11.623762"
      ]
     },
     "metadata": {},
     "output_type": "display_data"
    },
    {
     "data": {
      "text/html": [
       "<table>\n",
       "<caption>A scanone: 3 × 3</caption>\n",
       "<thead>\n",
       "\t<tr><th></th><th scope=col>chr</th><th scope=col>pos</th><th scope=col>lod</th></tr>\n",
       "\t<tr><th></th><th scope=col>&lt;fct&gt;</th><th scope=col>&lt;dbl&gt;</th><th scope=col>&lt;dbl&gt;</th></tr>\n",
       "</thead>\n",
       "<tbody>\n",
       "\t<tr><th scope=row>10_1368821</th><td>10</td><td> 5.836004</td><td> 7.409712</td></tr>\n",
       "\t<tr><th scope=row>10_1362190</th><td>10</td><td> 6.033005</td><td>13.777847</td></tr>\n",
       "\t<tr><th scope=row>10_2470297</th><td>10</td><td>11.541010</td><td>11.623762</td></tr>\n",
       "</tbody>\n",
       "</table>\n"
      ],
      "text/latex": [
       "A scanone: 3 × 3\n",
       "\\begin{tabular}{r|lll}\n",
       "  & chr & pos & lod\\\\\n",
       "  & <fct> & <dbl> & <dbl>\\\\\n",
       "\\hline\n",
       "\t10\\_1368821 & 10 &  5.836004 &  7.409712\\\\\n",
       "\t10\\_1362190 & 10 &  6.033005 & 13.777847\\\\\n",
       "\t10\\_2470297 & 10 & 11.541010 & 11.623762\\\\\n",
       "\\end{tabular}\n"
      ],
      "text/markdown": [
       "\n",
       "A scanone: 3 × 3\n",
       "\n",
       "| <!--/--> | chr &lt;fct&gt; | pos &lt;dbl&gt; | lod &lt;dbl&gt; |\n",
       "|---|---|---|---|\n",
       "| 10_1368821 | 10 |  5.836004 |  7.409712 |\n",
       "| 10_1362190 | 10 |  6.033005 | 13.777847 |\n",
       "| 10_2470297 | 10 | 11.541010 | 11.623762 |\n",
       "\n"
      ],
      "text/plain": [
       "           chr pos       lod      \n",
       "10_1368821 10   5.836004  7.409712\n",
       "10_1362190 10   6.033005 13.777847\n",
       "10_2470297 10  11.541010 11.623762"
      ]
     },
     "metadata": {},
     "output_type": "display_data"
    }
   ],
   "source": [
    "bayesint(TraitCIM, chr = chr, prob=0.95, expandtomarkers=TRUE) #calculate bayesian interval\n",
    "lodint(TraitCIM, chr = chr,expandtomarkers = TRUE ) #calculate LOD Support interval"
   ]
  },
  {
   "cell_type": "code",
   "execution_count": null,
   "metadata": {},
   "outputs": [],
   "source": [
    "p <- as.numeric(readline(\"Position for analysis: \"))\n",
    "qtl <- makeqtl(Map, chr = chr, pos = p, what=\"prob\") #pulls genotype probabilities\n",
    "fitqtl <- fitqtl(Map, pheno.col=colNum, qtl = qtl, covar=NULL,\n",
    "       method= \"hk\",model=\"normal\",\n",
    "       dropone=TRUE, get.ests=TRUE,run.checks=TRUE,\n",
    "       tol=1e-4, maxit=1000, forceXcovar=FALSE) #sees how well our data fits a given formula \n",
    "          # If you see \"error: object of type 'closure' is not subsettable\", remove \"formula,\" from the fitqtl argument list.\n",
    "summary(fitqtl) #Print results of the analysis"
   ]
  },
  {
   "cell_type": "code",
   "execution_count": null,
   "metadata": {},
   "outputs": [],
   "source": []
  }
 ],
 "metadata": {
  "kernelspec": {
   "display_name": "R",
   "language": "R",
   "name": "ir"
  },
  "language_info": {
   "codemirror_mode": "r",
   "file_extension": ".r",
   "mimetype": "text/x-r-source",
   "name": "R",
   "pygments_lexer": "r",
   "version": "3.6.3"
  }
 },
 "nbformat": 4,
 "nbformat_minor": 4
}
