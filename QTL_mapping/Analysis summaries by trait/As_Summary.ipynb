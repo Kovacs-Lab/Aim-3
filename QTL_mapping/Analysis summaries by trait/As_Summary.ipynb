{
 "cells": [
  {
   "cell_type": "markdown",
   "metadata": {},
   "source": [
    "This analysis is in the order of Female then Male"
   ]
  },
  {
   "cell_type": "code",
   "execution_count": 1,
   "metadata": {},
   "outputs": [
    {
     "name": "stderr",
     "output_type": "stream",
     "text": [
      "Installing package into 'C:/Users/thapa/OneDrive/Documents/R/win-library/3.6'\n",
      "(as 'lib' is unspecified)\n",
      "\n"
     ]
    },
    {
     "name": "stdout",
     "output_type": "stream",
     "text": [
      "package 'qtl' successfully unpacked and MD5 sums checked\n",
      "\n",
      "The downloaded binary packages are in\n",
      "\tC:\\Users\\thapa\\AppData\\Local\\Temp\\Rtmpw34JNS\\downloaded_packages\n"
     ]
    },
    {
     "name": "stderr",
     "output_type": "stream",
     "text": [
      "Installing package into 'C:/Users/thapa/OneDrive/Documents/R/win-library/3.6'\n",
      "(as 'lib' is unspecified)\n",
      "\n"
     ]
    },
    {
     "name": "stdout",
     "output_type": "stream",
     "text": [
      "package 'qtlcharts' successfully unpacked and MD5 sums checked\n",
      "\n",
      "The downloaded binary packages are in\n",
      "\tC:\\Users\\thapa\\AppData\\Local\\Temp\\Rtmpw34JNS\\downloaded_packages\n"
     ]
    },
    {
     "name": "stderr",
     "output_type": "stream",
     "text": [
      "Installing package into 'C:/Users/thapa/OneDrive/Documents/R/win-library/3.6'\n",
      "(as 'lib' is unspecified)\n",
      "\n"
     ]
    },
    {
     "name": "stdout",
     "output_type": "stream",
     "text": [
      "package 'LinkageMapView' successfully unpacked and MD5 sums checked\n",
      "\n",
      "The downloaded binary packages are in\n",
      "\tC:\\Users\\thapa\\AppData\\Local\\Temp\\Rtmpw34JNS\\downloaded_packages\n"
     ]
    },
    {
     "name": "stderr",
     "output_type": "stream",
     "text": [
      "Installing package into 'C:/Users/thapa/OneDrive/Documents/R/win-library/3.6'\n",
      "(as 'lib' is unspecified)\n",
      "\n"
     ]
    },
    {
     "name": "stdout",
     "output_type": "stream",
     "text": [
      "package 'rcompanion' successfully unpacked and MD5 sums checked\n",
      "\n",
      "The downloaded binary packages are in\n",
      "\tC:\\Users\\thapa\\AppData\\Local\\Temp\\Rtmpw34JNS\\downloaded_packages\n"
     ]
    }
   ],
   "source": [
    "install.packages('qtl') #Main package, for analysis\n",
    "install.packages('qtlcharts') #accessory, for displaying graphs\n",
    "install.packages('LinkageMapView') #accessory, for displaying linkage maps\n",
    "install.packages('rcompanion')# for plotNormalHistogram"
   ]
  },
  {
   "cell_type": "code",
   "execution_count": 1,
   "metadata": {},
   "outputs": [],
   "source": [
    "library(qtl) #load packages\n",
    "library(qtlcharts)\n",
    "library(LinkageMapView)\n",
    "library(rcompanion)"
   ]
  },
  {
   "cell_type": "code",
   "execution_count": 2,
   "metadata": {},
   "outputs": [
    {
     "name": "stdout",
     "output_type": "stream",
     "text": [
      "[1] \"Make sure to input names AS THEY APPEAR on the csv!!\"\n"
     ]
    },
    {
     "name": "stdin",
     "output_type": "stream",
     "text": [
      "Enter file name (Either FemaleMap.csv or MaleMap.csv):  FemaleMap.csv\n",
      "First Genotype (homozygous) (For example ll):  ll\n",
      "Second Genotype (heterozygous) (for example lm):  lm\n",
      "Column Number:  32\n"
     ]
    }
   ],
   "source": [
    "#Collecting enviroment variables\n",
    "print(\"Make sure to input names AS THEY APPEAR on the csv!!\") #Just a user warning\n",
    "fileName <- readline(\"Enter file name (Either FemaleMap.csv or MaleMap.csv): \") #Mapping table file\n",
    "genotypeName <- c(readline(\"First Genotype (homozygous) (For example ll): \"),\n",
    "                  readline(\"Second Genotype (heterozygous) (for example lm): \")) #For example \"nn\", \"np\"\n",
    "alleleName <- c(substr(genotypeName[2],1,1) ,substr(genotypeName[2],2,2))\n",
    "naNames <- c(\"NA\",\"--\") #For example \"NA\", \"--\"\n",
    "colNum <- as.numeric(readline(\"Column Number: \")) #Column for pheno of interest"
   ]
  },
  {
   "cell_type": "code",
   "execution_count": 3,
   "metadata": {},
   "outputs": [
    {
     "name": "stdout",
     "output_type": "stream",
     "text": [
      " --Read the following data:\n",
      "\t 294  individuals\n",
      "\t 1100  markers\n",
      "\t 38  phenotypes\n"
     ]
    },
    {
     "name": "stderr",
     "output_type": "stream",
     "text": [
      "Warning message in summary.cross(cross):\n",
      "\"Some markers at the same position on chr 1,2,4,5,7,8,9,10,11,12,13,14,16,17,18,19; use jittermap().\"\n"
     ]
    },
    {
     "name": "stdout",
     "output_type": "stream",
     "text": [
      " --Cross type: bc \n"
     ]
    },
    {
     "data": {
      "image/png": "[encoded data removed]",
      "text/plain": [
       "Plot with title \"Genetic map\""
      ]
     },
     "metadata": {
      "image/png": {
       "height": 420,
       "width": 420
      },
      "text/plain": {
       "height": 420,
       "width": 420
      }
     },
     "output_type": "display_data"
    }
   ],
   "source": [
    "#Map generation\n",
    "Map <- read.cross(format = 'csv',file = fileName \n",
    "                  ,genotypes = genotypeName,\n",
    "                  alleles = alleleName,na.strings = naNames) #generate linkage map\n",
    "Map <- jittermap(Map) #make sure no markers are in the same location\n",
    "Map <- calc.genoprob(Map,step = 1,map.function = \"kosambi\") #associate markers with full genotypes\n",
    "plot.map(Map) #draw linkage map"
   ]
  },
  {
   "cell_type": "code",
   "execution_count": 4,
   "metadata": {},
   "outputs": [
    {
     "data": {
      "image/png": "[encoded data removed]",
      "text/plain": [
       "Plot with title \"\""
      ]
     },
     "metadata": {
      "image/png": {
       "height": 420,
       "width": 420
      },
      "text/plain": {
       "height": 420,
       "width": 420
      }
     },
     "output_type": "display_data"
    }
   ],
   "source": [
    "plotNormalHistogram(Map$pheno[,colNum]) #normal histogram of pheno of interest"
   ]
  },
  {
   "cell_type": "markdown",
   "metadata": {},
   "source": [
    "Outliers exist in this dataset. Will need to be analyized. "
   ]
  },
  {
   "cell_type": "code",
   "execution_count": 5,
   "metadata": {},
   "outputs": [
    {
     "data": {
      "text/plain": [
       "LOD thresholds (1000 permutations)\n",
       "   [,1]\n",
       "5% 4.40\n",
       "1% 5.46"
      ]
     },
     "metadata": {},
     "output_type": "display_data"
    },
    {
     "data": {
      "image/png": "[encoded data removed]",
      "text/plain": [
       "Plot with title \"\""
      ]
     },
     "metadata": {
      "image/png": {
       "height": 420,
       "width": 420
      },
      "text/plain": {
       "height": 420,
       "width": 420
      }
     },
     "output_type": "display_data"
    }
   ],
   "source": [
    "#Compute statistically significant values\n",
    "TraitCIM1000 <- cim(Map,pheno.col = colNum,method = \"hk\",\n",
    "                    map.function = \"kosambi\",n.perm = 1000) # Function will take a moment to run, determines LOD value\n",
    "plot(TraitCIM1000,col = 'green') #show distribution of lod scores\n",
    "LOD5 <- summary(TraitCIM1000)\n",
    "summary(TraitCIM1000,alpha=c(.05,.01))"
   ]
  },
  {
   "cell_type": "code",
   "execution_count": 6,
   "metadata": {},
   "outputs": [
    {
     "name": "stdout",
     "output_type": "stream",
     "text": [
      "[1] \"If nothing shows up, the values \\n      are below the LOD5 score\"\n"
     ]
    },
    {
     "data": {
      "text/html": [
       "<table>\n",
       "<caption>A summary.scanone: 19 × 3</caption>\n",
       "<thead>\n",
       "\t<tr><th></th><th scope=col>chr</th><th scope=col>pos</th><th scope=col>lod</th></tr>\n",
       "\t<tr><th></th><th scope=col>&lt;fct&gt;</th><th scope=col>&lt;dbl&gt;</th><th scope=col>&lt;dbl&gt;</th></tr>\n",
       "</thead>\n",
       "<tbody>\n",
       "\t<tr><th scope=row>c1.loc23</th><td>1 </td><td>23.000000</td><td>0.7205319</td></tr>\n",
       "\t<tr><th scope=row>2_2363256</th><td>2 </td><td>27.104006</td><td>0.1882183</td></tr>\n",
       "\t<tr><th scope=row>c3.loc42</th><td>3 </td><td>42.000000</td><td>1.6821409</td></tr>\n",
       "\t<tr><th scope=row>c4.loc31</th><td>4 </td><td>31.000000</td><td>0.9019964</td></tr>\n",
       "\t<tr><th scope=row>c5.loc41</th><td>5 </td><td>41.000000</td><td>2.1674126</td></tr>\n",
       "\t<tr><th scope=row>6_20918375</th><td>6 </td><td>26.142015</td><td>1.6506760</td></tr>\n",
       "\t<tr><th scope=row>c7.loc50</th><td>7 </td><td>50.000000</td><td>0.6098202</td></tr>\n",
       "\t<tr><th scope=row>16_11684819</th><td>8 </td><td> 9.696007</td><td>1.7214024</td></tr>\n",
       "\t<tr><th scope=row>9_19305720</th><td>9 </td><td>54.241067</td><td>0.4033571</td></tr>\n",
       "\t<tr><th scope=row>c10.loc41</th><td>10</td><td>41.000000</td><td>0.4226234</td></tr>\n",
       "\t<tr><th scope=row>c11.loc49</th><td>11</td><td>49.000000</td><td>1.5362559</td></tr>\n",
       "\t<tr><th scope=row>c12.loc80</th><td>12</td><td>80.000000</td><td>1.4664909</td></tr>\n",
       "\t<tr><th scope=row>c13.loc9</th><td>13</td><td> 9.000000</td><td>1.0587042</td></tr>\n",
       "\t<tr><th scope=row>c14.loc54</th><td>14</td><td>54.000000</td><td>0.1639897</td></tr>\n",
       "\t<tr><th scope=row>15_584182</th><td>15</td><td> 0.000000</td><td>1.2974331</td></tr>\n",
       "\t<tr><th scope=row>c16.loc14</th><td>16</td><td>14.000000</td><td>0.6913931</td></tr>\n",
       "\t<tr><th scope=row>c17.loc4</th><td>17</td><td> 4.000000</td><td>3.0112696</td></tr>\n",
       "\t<tr><th scope=row>c18.loc64</th><td>18</td><td>64.000000</td><td>1.1703535</td></tr>\n",
       "\t<tr><th scope=row>c19.loc23</th><td>19</td><td>23.000000</td><td>0.5688586</td></tr>\n",
       "</tbody>\n",
       "</table>\n"
      ],
      "text/latex": [
       "A summary.scanone: 19 × 3\n",
       "\\begin{tabular}{r|lll}\n",
       "  & chr & pos & lod\\\\\n",
       "  & <fct> & <dbl> & <dbl>\\\\\n",
       "\\hline\n",
       "\tc1.loc23 & 1  & 23.000000 & 0.7205319\\\\\n",
       "\t2\\_2363256 & 2  & 27.104006 & 0.1882183\\\\\n",
       "\tc3.loc42 & 3  & 42.000000 & 1.6821409\\\\\n",
       "\tc4.loc31 & 4  & 31.000000 & 0.9019964\\\\\n",
       "\tc5.loc41 & 5  & 41.000000 & 2.1674126\\\\\n",
       "\t6\\_20918375 & 6  & 26.142015 & 1.6506760\\\\\n",
       "\tc7.loc50 & 7  & 50.000000 & 0.6098202\\\\\n",
       "\t16\\_11684819 & 8  &  9.696007 & 1.7214024\\\\\n",
       "\t9\\_19305720 & 9  & 54.241067 & 0.4033571\\\\\n",
       "\tc10.loc41 & 10 & 41.000000 & 0.4226234\\\\\n",
       "\tc11.loc49 & 11 & 49.000000 & 1.5362559\\\\\n",
       "\tc12.loc80 & 12 & 80.000000 & 1.4664909\\\\\n",
       "\tc13.loc9 & 13 &  9.000000 & 1.0587042\\\\\n",
       "\tc14.loc54 & 14 & 54.000000 & 0.1639897\\\\\n",
       "\t15\\_584182 & 15 &  0.000000 & 1.2974331\\\\\n",
       "\tc16.loc14 & 16 & 14.000000 & 0.6913931\\\\\n",
       "\tc17.loc4 & 17 &  4.000000 & 3.0112696\\\\\n",
       "\tc18.loc64 & 18 & 64.000000 & 1.1703535\\\\\n",
       "\tc19.loc23 & 19 & 23.000000 & 0.5688586\\\\\n",
       "\\end{tabular}\n"
      ],
      "text/markdown": [
       "\n",
       "A summary.scanone: 19 × 3\n",
       "\n",
       "| <!--/--> | chr &lt;fct&gt; | pos &lt;dbl&gt; | lod &lt;dbl&gt; |\n",
       "|---|---|---|---|\n",
       "| c1.loc23 | 1  | 23.000000 | 0.7205319 |\n",
       "| 2_2363256 | 2  | 27.104006 | 0.1882183 |\n",
       "| c3.loc42 | 3  | 42.000000 | 1.6821409 |\n",
       "| c4.loc31 | 4  | 31.000000 | 0.9019964 |\n",
       "| c5.loc41 | 5  | 41.000000 | 2.1674126 |\n",
       "| 6_20918375 | 6  | 26.142015 | 1.6506760 |\n",
       "| c7.loc50 | 7  | 50.000000 | 0.6098202 |\n",
       "| 16_11684819 | 8  |  9.696007 | 1.7214024 |\n",
       "| 9_19305720 | 9  | 54.241067 | 0.4033571 |\n",
       "| c10.loc41 | 10 | 41.000000 | 0.4226234 |\n",
       "| c11.loc49 | 11 | 49.000000 | 1.5362559 |\n",
       "| c12.loc80 | 12 | 80.000000 | 1.4664909 |\n",
       "| c13.loc9 | 13 |  9.000000 | 1.0587042 |\n",
       "| c14.loc54 | 14 | 54.000000 | 0.1639897 |\n",
       "| 15_584182 | 15 |  0.000000 | 1.2974331 |\n",
       "| c16.loc14 | 16 | 14.000000 | 0.6913931 |\n",
       "| c17.loc4 | 17 |  4.000000 | 3.0112696 |\n",
       "| c18.loc64 | 18 | 64.000000 | 1.1703535 |\n",
       "| c19.loc23 | 19 | 23.000000 | 0.5688586 |\n",
       "\n"
      ],
      "text/plain": [
       "            chr pos       lod      \n",
       "c1.loc23    1   23.000000 0.7205319\n",
       "2_2363256   2   27.104006 0.1882183\n",
       "c3.loc42    3   42.000000 1.6821409\n",
       "c4.loc31    4   31.000000 0.9019964\n",
       "c5.loc41    5   41.000000 2.1674126\n",
       "6_20918375  6   26.142015 1.6506760\n",
       "c7.loc50    7   50.000000 0.6098202\n",
       "16_11684819 8    9.696007 1.7214024\n",
       "9_19305720  9   54.241067 0.4033571\n",
       "c10.loc41   10  41.000000 0.4226234\n",
       "c11.loc49   11  49.000000 1.5362559\n",
       "c12.loc80   12  80.000000 1.4664909\n",
       "c13.loc9    13   9.000000 1.0587042\n",
       "c14.loc54   14  54.000000 0.1639897\n",
       "15_584182   15   0.000000 1.2974331\n",
       "c16.loc14   16  14.000000 0.6913931\n",
       "c17.loc4    17   4.000000 3.0112696\n",
       "c18.loc64   18  64.000000 1.1703535\n",
       "c19.loc23   19  23.000000 0.5688586"
      ]
     },
     "metadata": {},
     "output_type": "display_data"
    },
    {
     "data": {
      "image/png": "[encoded data removed]",
      "text/plain": [
       "plot without title"
      ]
     },
     "metadata": {
      "image/png": {
       "height": 420,
       "width": 420
      },
      "text/plain": {
       "height": 420,
       "width": 420
      }
     },
     "output_type": "display_data"
    }
   ],
   "source": [
    "#Deterime LOD Values\n",
    "TraitCIM<-cim(Map,pheno.col = colNum,method = \"hk\",\n",
    "              map.function = \"kosambi\") #Generate LOD Values\n",
    "plot(TraitCIM) #show LOD graph\n",
    "abline(h = LOD5,col = \"blue\") #overlay statistically significant line\n",
    "print(\"If nothing shows up, the values \n",
    "      are below the LOD5 score\") #warning for no peaks\n",
    "summary(TraitCIM)"
   ]
  },
  {
   "cell_type": "code",
   "execution_count": 7,
   "metadata": {},
   "outputs": [
    {
     "name": "stdin",
     "output_type": "stream",
     "text": [
      "Chromosome?  17\n",
      "Would you like to investigate \n",
      "                  another chromosome? (Y/N):  N\n"
     ]
    },
    {
     "data": {
      "image/png": "[encoded data removed]",
      "text/plain": [
       "plot without title"
      ]
     },
     "metadata": {
      "image/png": {
       "height": 420,
       "width": 420
      },
      "text/plain": {
       "height": 420,
       "width": 420
      }
     },
     "output_type": "display_data"
    }
   ],
   "source": [
    "#Chromosomal Analysis\n",
    "cont = 'Y' #Run loop on first run through\n",
    "while(cont == 'Y'){\n",
    "  chr <- as.numeric(readline(\"Chromosome? \")) #collect chromosome to look at\n",
    "  plot(TraitCIM, chr = chr) #Plot chr LOD scores\n",
    "  abline(h = LOD5, col = \"blue\") #Statistically Significant\n",
    "  cont = readline(\"Would you like to investigate \n",
    "                  another chromosome? (Y/N): \") #Y if multiple\n",
    "                  #chromosomes are to be investigated\n",
    "}"
   ]
  },
  {
   "cell_type": "code",
   "execution_count": 8,
   "metadata": {},
   "outputs": [
    {
     "data": {
      "text/html": [
       "17"
      ],
      "text/latex": [
       "17"
      ],
      "text/markdown": [
       "17"
      ],
      "text/plain": [
       "[1] 17"
      ]
     },
     "metadata": {},
     "output_type": "display_data"
    },
    {
     "data": {
      "text/html": [
       "<table>\n",
       "<caption>A scanone: 3 × 3</caption>\n",
       "<thead>\n",
       "\t<tr><th></th><th scope=col>chr</th><th scope=col>pos</th><th scope=col>lod</th></tr>\n",
       "\t<tr><th></th><th scope=col>&lt;fct&gt;</th><th scope=col>&lt;dbl&gt;</th><th scope=col>&lt;dbl&gt;</th></tr>\n",
       "</thead>\n",
       "<tbody>\n",
       "\t<tr><th scope=row>17_1438660</th><td>17</td><td> 0.736001</td><td>0.07336955</td></tr>\n",
       "\t<tr><th scope=row>c17.loc4</th><td>17</td><td> 4.000000</td><td>3.01126962</td></tr>\n",
       "\t<tr><th scope=row>17_10144597</th><td>17</td><td>62.705042</td><td>0.01742488</td></tr>\n",
       "</tbody>\n",
       "</table>\n"
      ],
      "text/latex": [
       "A scanone: 3 × 3\n",
       "\\begin{tabular}{r|lll}\n",
       "  & chr & pos & lod\\\\\n",
       "  & <fct> & <dbl> & <dbl>\\\\\n",
       "\\hline\n",
       "\t17\\_1438660 & 17 &  0.736001 & 0.07336955\\\\\n",
       "\tc17.loc4 & 17 &  4.000000 & 3.01126962\\\\\n",
       "\t17\\_10144597 & 17 & 62.705042 & 0.01742488\\\\\n",
       "\\end{tabular}\n"
      ],
      "text/markdown": [
       "\n",
       "A scanone: 3 × 3\n",
       "\n",
       "| <!--/--> | chr &lt;fct&gt; | pos &lt;dbl&gt; | lod &lt;dbl&gt; |\n",
       "|---|---|---|---|\n",
       "| 17_1438660 | 17 |  0.736001 | 0.07336955 |\n",
       "| c17.loc4 | 17 |  4.000000 | 3.01126962 |\n",
       "| 17_10144597 | 17 | 62.705042 | 0.01742488 |\n",
       "\n"
      ],
      "text/plain": [
       "            chr pos       lod       \n",
       "17_1438660  17   0.736001 0.07336955\n",
       "c17.loc4    17   4.000000 3.01126962\n",
       "17_10144597 17  62.705042 0.01742488"
      ]
     },
     "metadata": {},
     "output_type": "display_data"
    },
    {
     "data": {
      "text/html": [
       "<table>\n",
       "<caption>A scanone: 3 × 3</caption>\n",
       "<thead>\n",
       "\t<tr><th></th><th scope=col>chr</th><th scope=col>pos</th><th scope=col>lod</th></tr>\n",
       "\t<tr><th></th><th scope=col>&lt;fct&gt;</th><th scope=col>&lt;dbl&gt;</th><th scope=col>&lt;dbl&gt;</th></tr>\n",
       "</thead>\n",
       "<tbody>\n",
       "\t<tr><th scope=row>17_1975198</th><td>17</td><td>3.267002</td><td>0.04454998</td></tr>\n",
       "\t<tr><th scope=row>c17.loc4</th><td>17</td><td>4.000000</td><td>3.01126962</td></tr>\n",
       "\t<tr><th scope=row>17_2342835</th><td>17</td><td>4.358003</td><td>0.18541267</td></tr>\n",
       "</tbody>\n",
       "</table>\n"
      ],
      "text/latex": [
       "A scanone: 3 × 3\n",
       "\\begin{tabular}{r|lll}\n",
       "  & chr & pos & lod\\\\\n",
       "  & <fct> & <dbl> & <dbl>\\\\\n",
       "\\hline\n",
       "\t17\\_1975198 & 17 & 3.267002 & 0.04454998\\\\\n",
       "\tc17.loc4 & 17 & 4.000000 & 3.01126962\\\\\n",
       "\t17\\_2342835 & 17 & 4.358003 & 0.18541267\\\\\n",
       "\\end{tabular}\n"
      ],
      "text/markdown": [
       "\n",
       "A scanone: 3 × 3\n",
       "\n",
       "| <!--/--> | chr &lt;fct&gt; | pos &lt;dbl&gt; | lod &lt;dbl&gt; |\n",
       "|---|---|---|---|\n",
       "| 17_1975198 | 17 | 3.267002 | 0.04454998 |\n",
       "| c17.loc4 | 17 | 4.000000 | 3.01126962 |\n",
       "| 17_2342835 | 17 | 4.358003 | 0.18541267 |\n",
       "\n"
      ],
      "text/plain": [
       "           chr pos      lod       \n",
       "17_1975198 17  3.267002 0.04454998\n",
       "c17.loc4   17  4.000000 3.01126962\n",
       "17_2342835 17  4.358003 0.18541267"
      ]
     },
     "metadata": {},
     "output_type": "display_data"
    }
   ],
   "source": [
    "chr\n",
    "bayesint(TraitCIM, chr = chr, prob=0.95, \n",
    "         expandtomarkers=TRUE) #calculate bayesian interval\n",
    "lodint(TraitCIM, chr = chr,expandtomarkers = TRUE ) #calculate LOD Support interval"
   ]
  },
  {
   "cell_type": "code",
   "execution_count": 9,
   "metadata": {},
   "outputs": [
    {
     "name": "stdin",
     "output_type": "stream",
     "text": [
      "Position for analysis:  4\n"
     ]
    },
    {
     "name": "stderr",
     "output_type": "stream",
     "text": [
      "Warning message in getsex(cross):\n",
      "\"125 individuals with missing sex; assuming they're female\"\n",
      "Warning message in fitqtlengine(pheno = pheno, qtl = qtl, covar = covar, formula = formula, :\n",
      "\"Dropping 127 individuals with missing phenotypes.\n",
      "\"\n",
      "Warning message in getsex(cross):\n",
      "\"125 individuals with missing sex; assuming they're female\"\n"
     ]
    },
    {
     "data": {
      "text/plain": [
       "\n",
       "\t\tfitqtl summary\n",
       "\n",
       "Method: Haley-Knott regression \n",
       "Model:  normal phenotype\n",
       "Number of observations : 167 \n",
       "\n",
       "Full model result\n",
       "----------------------------------  \n",
       "Model formula: y ~ Q1 \n",
       "\n",
       "       df        SS         MS      LOD     %var Pvalue(Chi2)    Pvalue(F)\n",
       "Model   1  16.23708 16.2370800 3.439766 9.049479 6.890399e-05 7.808838e-05\n",
       "Error 165 163.18850  0.9890212                                            \n",
       "Total 166 179.42558                                                       \n",
       "\n",
       "\n",
       "Estimated effects:\n",
       "-----------------\n",
       "               est       SE      t\n",
       "Intercept  0.99852  0.07717 12.940\n",
       "17@4.0    -4.38115  1.08128 -4.052\n"
      ]
     },
     "metadata": {},
     "output_type": "display_data"
    }
   ],
   "source": [
    "\n",
    "p <- as.numeric(readline(\"Position for analysis: \"))\n",
    "qtl <- makeqtl(Map, chr = chr, pos = p, what=\"prob\") #pulls genotype probabilities\n",
    "fitqtl <- fitqtl(Map, pheno.col=colNum, qtl = qtl, covar=NULL,\n",
    "       method= \"hk\",model=\"normal\",\n",
    "       dropone=TRUE, get.ests=TRUE,run.checks=TRUE,\n",
    "       tol=1e-4, maxit=1000, forceXcovar=FALSE) #sees how well our data fits a given formula \n",
    "          # If you see \"error: object of type 'closure' is not subsettable\", remove \"formula,\" from the fitqtl argument list.\n",
    "summary(fitqtl) #Print results of the analysis"
   ]
  },
  {
   "cell_type": "code",
   "execution_count": 10,
   "metadata": {},
   "outputs": [
    {
     "name": "stdout",
     "output_type": "stream",
     "text": [
      "[1] \"Make sure to input names AS THEY APPEAR on the csv!!\"\n"
     ]
    },
    {
     "name": "stdin",
     "output_type": "stream",
     "text": [
      "Enter file name (Either FemaleMap.csv or MaleMap.csv):  MaleMap.csv\n",
      "First Genotype (homozygous) (For example ll):  nn\n",
      "Second Genotype (heterozygous) (for example lm):  np\n",
      "Column Number:  32\n"
     ]
    }
   ],
   "source": [
    "## Collecting enviroment variables\n",
    "print(\"Make sure to input names AS THEY APPEAR on the csv!!\") #Just a user warning\n",
    "fileName <- readline(\"Enter file name (Either FemaleMap.csv or MaleMap.csv): \") #Mapping table file\n",
    "genotypeName <- c(readline(\"First Genotype (homozygous) (For example ll): \"),\n",
    "                  readline(\"Second Genotype (heterozygous) (for example lm): \")) #For example \"nn\", \"np\"\n",
    "alleleName <- c(substr(genotypeName[2],1,1) ,substr(genotypeName[2],2,2))\n",
    "naNames <- c(\"NA\",\"--\") #For example \"NA\", \"--\"\n",
    "colNum <- as.numeric(readline(\"Column Number: \")) #Column for pheno of interest"
   ]
  },
  {
   "cell_type": "code",
   "execution_count": 11,
   "metadata": {},
   "outputs": [
    {
     "name": "stdout",
     "output_type": "stream",
     "text": [
      " --Read the following data:\n",
      "\t 294  individuals\n",
      "\t 1128  markers\n",
      "\t 38  phenotypes\n"
     ]
    },
    {
     "name": "stderr",
     "output_type": "stream",
     "text": [
      "Warning message in summary.cross(cross):\n",
      "\"Some markers at the same position on chr 1,3,4,5,6,7,8,9,10,12,13,14,15,16,17,18,19; use jittermap().\"\n"
     ]
    },
    {
     "name": "stdout",
     "output_type": "stream",
     "text": [
      " --Cross type: bc \n"
     ]
    },
    {
     "data": {
      "image/png": "[encoded data removed]",
      "text/plain": [
       "Plot with title \"Genetic map\""
      ]
     },
     "metadata": {
      "image/png": {
       "height": 420,
       "width": 420
      },
      "text/plain": {
       "height": 420,
       "width": 420
      }
     },
     "output_type": "display_data"
    }
   ],
   "source": [
    "#Map generation\n",
    "Map <- read.cross(format = 'csv',file = fileName \n",
    "                  ,genotypes = genotypeName,\n",
    "                  alleles = alleleName,na.strings = naNames) #generate linkage map\n",
    "Map <- jittermap(Map) #make sure no markers are in the same location\n",
    "Map <- calc.genoprob(Map,step = 1,map.function = \"kosambi\") #associate markers with full genotypes\n",
    "plot.map(Map) #draw linkage map"
   ]
  },
  {
   "cell_type": "code",
   "execution_count": 13,
   "metadata": {},
   "outputs": [
    {
     "data": {
      "image/png": "[encoded data removed]",
      "text/plain": [
       "Plot with title \"\""
      ]
     },
     "metadata": {
      "image/png": {
       "height": 420,
       "width": 420
      },
      "text/plain": {
       "height": 420,
       "width": 420
      }
     },
     "output_type": "display_data"
    }
   ],
   "source": [
    "plotNormalHistogram(Map$pheno[,colNum]) #normal histogram of pheno of interest"
   ]
  },
  {
   "cell_type": "markdown",
   "metadata": {},
   "source": [
    "Outliers exist in this data. "
   ]
  },
  {
   "cell_type": "code",
   "execution_count": 14,
   "metadata": {},
   "outputs": [
    {
     "data": {
      "image/png": "[encoded data removed]",
      "text/plain": [
       "Plot with title \"\""
      ]
     },
     "metadata": {
      "image/png": {
       "height": 420,
       "width": 420
      },
      "text/plain": {
       "height": 420,
       "width": 420
      }
     },
     "output_type": "display_data"
    }
   ],
   "source": [
    "#Compute statistically significant values\n",
    "TraitCIM1000 <- cim(Map,pheno.col = colNum,method = \"hk\",\n",
    "                    map.function = \"kosambi\",n.perm = 1000) # Function will take a moment to run, determines LOD value\n",
    "plot(TraitCIM1000,col = 'green') #show distribution of lod scores\n",
    "LOD5 <- summary(TraitCIM1000)[1]"
   ]
  },
  {
   "cell_type": "code",
   "execution_count": 15,
   "metadata": {},
   "outputs": [
    {
     "name": "stdout",
     "output_type": "stream",
     "text": [
      "[1] \"If nothing shows up, the values \\n      are below the LOD5 score\"\n"
     ]
    },
    {
     "data": {
      "text/html": [
       "<table>\n",
       "<caption>A summary.scanone: 19 × 3</caption>\n",
       "<thead>\n",
       "\t<tr><th></th><th scope=col>chr</th><th scope=col>pos</th><th scope=col>lod</th></tr>\n",
       "\t<tr><th></th><th scope=col>&lt;fct&gt;</th><th scope=col>&lt;dbl&gt;</th><th scope=col>&lt;dbl&gt;</th></tr>\n",
       "</thead>\n",
       "<tbody>\n",
       "\t<tr><th scope=row>1_9388557</th><td>1 </td><td>47.90804</td><td>1.2094359</td></tr>\n",
       "\t<tr><th scope=row>c2.loc67</th><td>2 </td><td>67.00000</td><td>2.8567837</td></tr>\n",
       "\t<tr><th scope=row>c3.loc67</th><td>3 </td><td>67.00000</td><td>0.5016165</td></tr>\n",
       "\t<tr><th scope=row>4_16145098</th><td>4 </td><td>48.52204</td><td>2.2912004</td></tr>\n",
       "\t<tr><th scope=row>18_30393961</th><td>5 </td><td>21.53601</td><td>2.0717737</td></tr>\n",
       "\t<tr><th scope=row>6_20445306</th><td>6 </td><td>76.89705</td><td>0.9429669</td></tr>\n",
       "\t<tr><th scope=row>c7.loc71</th><td>7 </td><td>71.00000</td><td>2.6132385</td></tr>\n",
       "\t<tr><th scope=row>c8.loc19</th><td>8 </td><td>19.00000</td><td>1.6186314</td></tr>\n",
       "\t<tr><th scope=row>9_11038736</th><td>9 </td><td>37.92903</td><td>0.8520252</td></tr>\n",
       "\t<tr><th scope=row>c10.loc39</th><td>10</td><td>39.00000</td><td>0.7520226</td></tr>\n",
       "\t<tr><th scope=row>11_10005713</th><td>11</td><td>38.79302</td><td>1.0500930</td></tr>\n",
       "\t<tr><th scope=row>c12.loc24</th><td>12</td><td>24.00000</td><td>0.6101894</td></tr>\n",
       "\t<tr><th scope=row>c13.loc34</th><td>13</td><td>34.00000</td><td>1.1545628</td></tr>\n",
       "\t<tr><th scope=row>14_20893124</th><td>14</td><td>46.78405</td><td>0.5432338</td></tr>\n",
       "\t<tr><th scope=row>c15.loc73</th><td>15</td><td>73.00000</td><td>1.3407835</td></tr>\n",
       "\t<tr><th scope=row>16_23326135</th><td>16</td><td>90.43905</td><td>0.6135411</td></tr>\n",
       "\t<tr><th scope=row>c17.loc25</th><td>17</td><td>25.00000</td><td>0.8225275</td></tr>\n",
       "\t<tr><th scope=row>18_8536420</th><td>18</td><td>37.89902</td><td>1.4512245</td></tr>\n",
       "\t<tr><th scope=row>19_16872865</th><td>19</td><td>54.90804</td><td>1.8603965</td></tr>\n",
       "</tbody>\n",
       "</table>\n"
      ],
      "text/latex": [
       "A summary.scanone: 19 × 3\n",
       "\\begin{tabular}{r|lll}\n",
       "  & chr & pos & lod\\\\\n",
       "  & <fct> & <dbl> & <dbl>\\\\\n",
       "\\hline\n",
       "\t1\\_9388557 & 1  & 47.90804 & 1.2094359\\\\\n",
       "\tc2.loc67 & 2  & 67.00000 & 2.8567837\\\\\n",
       "\tc3.loc67 & 3  & 67.00000 & 0.5016165\\\\\n",
       "\t4\\_16145098 & 4  & 48.52204 & 2.2912004\\\\\n",
       "\t18\\_30393961 & 5  & 21.53601 & 2.0717737\\\\\n",
       "\t6\\_20445306 & 6  & 76.89705 & 0.9429669\\\\\n",
       "\tc7.loc71 & 7  & 71.00000 & 2.6132385\\\\\n",
       "\tc8.loc19 & 8  & 19.00000 & 1.6186314\\\\\n",
       "\t9\\_11038736 & 9  & 37.92903 & 0.8520252\\\\\n",
       "\tc10.loc39 & 10 & 39.00000 & 0.7520226\\\\\n",
       "\t11\\_10005713 & 11 & 38.79302 & 1.0500930\\\\\n",
       "\tc12.loc24 & 12 & 24.00000 & 0.6101894\\\\\n",
       "\tc13.loc34 & 13 & 34.00000 & 1.1545628\\\\\n",
       "\t14\\_20893124 & 14 & 46.78405 & 0.5432338\\\\\n",
       "\tc15.loc73 & 15 & 73.00000 & 1.3407835\\\\\n",
       "\t16\\_23326135 & 16 & 90.43905 & 0.6135411\\\\\n",
       "\tc17.loc25 & 17 & 25.00000 & 0.8225275\\\\\n",
       "\t18\\_8536420 & 18 & 37.89902 & 1.4512245\\\\\n",
       "\t19\\_16872865 & 19 & 54.90804 & 1.8603965\\\\\n",
       "\\end{tabular}\n"
      ],
      "text/markdown": [
       "\n",
       "A summary.scanone: 19 × 3\n",
       "\n",
       "| <!--/--> | chr &lt;fct&gt; | pos &lt;dbl&gt; | lod &lt;dbl&gt; |\n",
       "|---|---|---|---|\n",
       "| 1_9388557 | 1  | 47.90804 | 1.2094359 |\n",
       "| c2.loc67 | 2  | 67.00000 | 2.8567837 |\n",
       "| c3.loc67 | 3  | 67.00000 | 0.5016165 |\n",
       "| 4_16145098 | 4  | 48.52204 | 2.2912004 |\n",
       "| 18_30393961 | 5  | 21.53601 | 2.0717737 |\n",
       "| 6_20445306 | 6  | 76.89705 | 0.9429669 |\n",
       "| c7.loc71 | 7  | 71.00000 | 2.6132385 |\n",
       "| c8.loc19 | 8  | 19.00000 | 1.6186314 |\n",
       "| 9_11038736 | 9  | 37.92903 | 0.8520252 |\n",
       "| c10.loc39 | 10 | 39.00000 | 0.7520226 |\n",
       "| 11_10005713 | 11 | 38.79302 | 1.0500930 |\n",
       "| c12.loc24 | 12 | 24.00000 | 0.6101894 |\n",
       "| c13.loc34 | 13 | 34.00000 | 1.1545628 |\n",
       "| 14_20893124 | 14 | 46.78405 | 0.5432338 |\n",
       "| c15.loc73 | 15 | 73.00000 | 1.3407835 |\n",
       "| 16_23326135 | 16 | 90.43905 | 0.6135411 |\n",
       "| c17.loc25 | 17 | 25.00000 | 0.8225275 |\n",
       "| 18_8536420 | 18 | 37.89902 | 1.4512245 |\n",
       "| 19_16872865 | 19 | 54.90804 | 1.8603965 |\n",
       "\n"
      ],
      "text/plain": [
       "            chr pos      lod      \n",
       "1_9388557   1   47.90804 1.2094359\n",
       "c2.loc67    2   67.00000 2.8567837\n",
       "c3.loc67    3   67.00000 0.5016165\n",
       "4_16145098  4   48.52204 2.2912004\n",
       "18_30393961 5   21.53601 2.0717737\n",
       "6_20445306  6   76.89705 0.9429669\n",
       "c7.loc71    7   71.00000 2.6132385\n",
       "c8.loc19    8   19.00000 1.6186314\n",
       "9_11038736  9   37.92903 0.8520252\n",
       "c10.loc39   10  39.00000 0.7520226\n",
       "11_10005713 11  38.79302 1.0500930\n",
       "c12.loc24   12  24.00000 0.6101894\n",
       "c13.loc34   13  34.00000 1.1545628\n",
       "14_20893124 14  46.78405 0.5432338\n",
       "c15.loc73   15  73.00000 1.3407835\n",
       "16_23326135 16  90.43905 0.6135411\n",
       "c17.loc25   17  25.00000 0.8225275\n",
       "18_8536420  18  37.89902 1.4512245\n",
       "19_16872865 19  54.90804 1.8603965"
      ]
     },
     "metadata": {},
     "output_type": "display_data"
    },
    {
     "data": {
      "image/png": "[encoded data removed]",
      "text/plain": [
       "plot without title"
      ]
     },
     "metadata": {
      "image/png": {
       "height": 420,
       "width": 420
      },
      "text/plain": {
       "height": 420,
       "width": 420
      }
     },
     "output_type": "display_data"
    }
   ],
   "source": [
    "#Deterime LOD Values\n",
    "TraitCIM<-cim(Map,pheno.col = colNum,method = \"hk\",\n",
    "              map.function = \"kosambi\") #Generate LOD Values\n",
    "plot(TraitCIM) #show LOD graph\n",
    "abline(h = LOD5,col = \"blue\") #overlay statistically significant line\n",
    "print(\"If nothing shows up, the values \n",
    "      are below the LOD5 score\") #warning for no peaks\n",
    "summary(TraitCIM)"
   ]
  },
  {
   "cell_type": "code",
   "execution_count": null,
   "metadata": {},
   "outputs": [],
   "source": []
  }
 ],
 "metadata": {
  "kernelspec": {
   "display_name": "R",
   "language": "R",
   "name": "ir"
  },
  "language_info": {
   "codemirror_mode": "r",
   "file_extension": ".r",
   "mimetype": "text/x-r-source",
   "name": "R",
   "pygments_lexer": "r",
   "version": "3.6.2"
  }
 },
 "nbformat": 4,
 "nbformat_minor": 4
}
