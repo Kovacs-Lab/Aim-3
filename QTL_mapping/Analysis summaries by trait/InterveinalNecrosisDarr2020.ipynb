{
 "cells": [
  {
   "cell_type": "markdown",
   "metadata": {},
   "source": [
    "This analysis is in the order of Female then Male"
   ]
  },
  {
   "cell_type": "code",
   "execution_count": 1,
   "metadata": {},
   "outputs": [
    {
     "name": "stderr",
     "output_type": "stream",
     "text": [
      "Installing package into 'C:/Users/Courtney/Documents/R/win-library/3.6'\n",
      "(as 'lib' is unspecified)\n",
      "\n"
     ]
    },
    {
     "name": "stdout",
     "output_type": "stream",
     "text": [
      "package 'qtl' successfully unpacked and MD5 sums checked\n",
      "\n",
      "The downloaded binary packages are in\n",
      "\tC:\\Users\\Courtney\\AppData\\Local\\Temp\\RtmpiUu1pP\\downloaded_packages\n"
     ]
    },
    {
     "name": "stderr",
     "output_type": "stream",
     "text": [
      "Installing package into 'C:/Users/Courtney/Documents/R/win-library/3.6'\n",
      "(as 'lib' is unspecified)\n",
      "\n"
     ]
    },
    {
     "name": "stdout",
     "output_type": "stream",
     "text": [
      "package 'qtlcharts' successfully unpacked and MD5 sums checked\n",
      "\n",
      "The downloaded binary packages are in\n",
      "\tC:\\Users\\Courtney\\AppData\\Local\\Temp\\RtmpiUu1pP\\downloaded_packages\n"
     ]
    },
    {
     "name": "stderr",
     "output_type": "stream",
     "text": [
      "Installing package into 'C:/Users/Courtney/Documents/R/win-library/3.6'\n",
      "(as 'lib' is unspecified)\n",
      "\n"
     ]
    },
    {
     "name": "stdout",
     "output_type": "stream",
     "text": [
      "package 'LinkageMapView' successfully unpacked and MD5 sums checked\n",
      "\n",
      "The downloaded binary packages are in\n",
      "\tC:\\Users\\Courtney\\AppData\\Local\\Temp\\RtmpiUu1pP\\downloaded_packages\n"
     ]
    },
    {
     "name": "stderr",
     "output_type": "stream",
     "text": [
      "Installing package into 'C:/Users/Courtney/Documents/R/win-library/3.6'\n",
      "(as 'lib' is unspecified)\n",
      "\n"
     ]
    },
    {
     "name": "stdout",
     "output_type": "stream",
     "text": [
      "\n",
      "  There is a binary version available but the source version is later:\n",
      "           binary source needs_compilation\n",
      "rcompanion  2.4.0  2.4.1             FALSE\n",
      "\n"
     ]
    },
    {
     "name": "stderr",
     "output_type": "stream",
     "text": [
      "installing the source package 'rcompanion'\n",
      "\n",
      "\n"
     ]
    }
   ],
   "source": [
    "install.packages('qtl') #Main package, for analysis\n",
    "install.packages('qtlcharts') #accessory, for displaying graphs\n",
    "install.packages('LinkageMapView') #accessory, for displaying linkage maps\n",
    "install.packages('rcompanion')# for plotNormalHistogram"
   ]
  },
  {
   "cell_type": "code",
   "execution_count": 1,
   "metadata": {},
   "outputs": [],
   "source": [
    "library(qtl) #load packages\n",
    "library(qtlcharts)\n",
    "library(LinkageMapView)\n",
    "library(rcompanion)"
   ]
  },
  {
   "cell_type": "code",
   "execution_count": 2,
   "metadata": {},
   "outputs": [
    {
     "name": "stdout",
     "output_type": "stream",
     "text": [
      "[1] \"Make sure to input names AS THEY APPEAR on the csv!!\"\n"
     ]
    },
    {
     "name": "stdin",
     "output_type": "stream",
     "text": [
      "Enter file name (Either FemaleMap.csv or MaleMap.csv):  FemaleMap_Field2020.csv\n",
      "First Genotype (homozygous) (For example ll):  ll\n",
      "Second Genotype (heterozygous) (for example lm):  lm\n",
      "Column Number:  48\n"
     ]
    }
   ],
   "source": [
    "#Collecting enviroment variables\n",
    "print(\"Make sure to input names AS THEY APPEAR on the csv!!\") #Just a user warning\n",
    "fileName <- readline(\"Enter file name (Either FemaleMap.csv or MaleMap.csv): \") #Mapping table file\n",
    "genotypeName <- c(readline(\"First Genotype (homozygous) (For example ll): \"),\n",
    "                  readline(\"Second Genotype (heterozygous) (for example lm): \")) #For example \"nn\", \"np\"\n",
    "alleleName <- c(substr(genotypeName[2],1,1) ,substr(genotypeName[2],2,2))\n",
    "naNames <- c(\"NA\",\"--\") #For example \"NA\", \"--\"\n",
    "colNum <- as.numeric(readline(\"Column Number: \")) #Column for pheno of interest"
   ]
  },
  {
   "cell_type": "code",
   "execution_count": 3,
   "metadata": {},
   "outputs": [
    {
     "name": "stderr",
     "output_type": "stream",
     "text": [
      "Warning message in FUN(X[[i]], ...):\n",
      "\"The phenotype value \" \"  was interpreted as missing.\"\n"
     ]
    },
    {
     "name": "stdout",
     "output_type": "stream",
     "text": [
      " --Read the following data:\n",
      "\t 296  individuals\n",
      "\t 1100  markers\n",
      "\t 62  phenotypes\n"
     ]
    },
    {
     "name": "stderr",
     "output_type": "stream",
     "text": [
      "Warning message in summary.cross(cross):\n",
      "\"Some markers at the same position on chr 1,2,4,5,7,8,9,10,11,12,13,14,16,17,18,19; use jittermap().\"\n"
     ]
    },
    {
     "name": "stdout",
     "output_type": "stream",
     "text": [
      " --Cross type: bc \n"
     ]
    },
    {
     "data": {
      "image/png": "[encoded data removed]",
      "text/plain": [
       "Plot with title \"Genetic map\""
      ]
     },
     "metadata": {
      "image/png": {
       "height": 420,
       "width": 420
      },
      "text/plain": {
       "height": 420,
       "width": 420
      }
     },
     "output_type": "display_data"
    }
   ],
   "source": [
    "#Map generation\n",
    "Map <- read.cross(format = 'csv',file = fileName \n",
    "                  ,genotypes = genotypeName,\n",
    "                  alleles = alleleName,na.strings = naNames) #generate linkage map\n",
    "Map <- jittermap(Map) #make sure no markers are in the same location\n",
    "Map <- calc.genoprob(Map,step = 1,map.function = \"kosambi\") #associate markers with full genotypes\n",
    "plot.map(Map) #draw linkage map"
   ]
  },
  {
   "cell_type": "code",
   "execution_count": 4,
   "metadata": {},
   "outputs": [
    {
     "data": {
      "image/png": "[encoded data removed]",
      "text/plain": [
       "Plot with title \"\""
      ]
     },
     "metadata": {
      "image/png": {
       "height": 420,
       "width": 420
      },
      "text/plain": {
       "height": 420,
       "width": 420
      }
     },
     "output_type": "display_data"
    }
   ],
   "source": [
    "plotNormalHistogram(Map$pheno[,colNum]) #normal histogram of pheno of interest"
   ]
  },
  {
   "cell_type": "markdown",
   "metadata": {},
   "source": [
    "Outliers exist in this dataset. Will need to be analyized. "
   ]
  },
  {
   "cell_type": "code",
   "execution_count": 5,
   "metadata": {},
   "outputs": [
    {
     "data": {
      "text/plain": [
       "LOD thresholds (1000 permutations)\n",
       "   [,1]\n",
       "5% 4.20\n",
       "1% 5.01"
      ]
     },
     "metadata": {},
     "output_type": "display_data"
    },
    {
     "data": {
      "image/png": "[encoded data removed]",
      "text/plain": [
       "Plot with title \"\""
      ]
     },
     "metadata": {
      "image/png": {
       "height": 420,
       "width": 420
      },
      "text/plain": {
       "height": 420,
       "width": 420
      }
     },
     "output_type": "display_data"
    }
   ],
   "source": [
    "#Compute statistically significant values\n",
    "TraitCIM1000 <- cim(Map,pheno.col = colNum,method = \"hk\",\n",
    "                    map.function = \"kosambi\",n.perm = 1000) # Function will take a moment to run, determines LOD value\n",
    "plot(TraitCIM1000,col = 'green') #show distribution of lod scores\n",
    "summary(TraitCIM1000,alpha=c(.05,.01))"
   ]
  },
  {
   "cell_type": "code",
   "execution_count": 6,
   "metadata": {},
   "outputs": [
    {
     "name": "stdout",
     "output_type": "stream",
     "text": [
      "[1] \"If nothing shows up, the values \\n      are below the LOD5 score\"\n"
     ]
    },
    {
     "data": {
      "text/html": [
       "<table>\n",
       "<caption>A summary.scanone: 19 × 3</caption>\n",
       "<thead>\n",
       "\t<tr><th></th><th scope=col>chr</th><th scope=col>pos</th><th scope=col>lod</th></tr>\n",
       "\t<tr><th></th><th scope=col>&lt;fct&gt;</th><th scope=col>&lt;dbl&gt;</th><th scope=col>&lt;dbl&gt;</th></tr>\n",
       "</thead>\n",
       "<tbody>\n",
       "\t<tr><th scope=row>1_20779520</th><td>1 </td><td>67.817046</td><td>0.5032497</td></tr>\n",
       "\t<tr><th scope=row>c2.loc32</th><td>2 </td><td>32.000000</td><td>0.4326209</td></tr>\n",
       "\t<tr><th scope=row>c3.loc6</th><td>3 </td><td> 6.000000</td><td>0.7201693</td></tr>\n",
       "\t<tr><th scope=row>4_936532</th><td>4 </td><td> 4.541001</td><td>1.7866788</td></tr>\n",
       "\t<tr><th scope=row>c5.loc55</th><td>5 </td><td>55.000000</td><td>0.6082582</td></tr>\n",
       "\t<tr><th scope=row>c6.loc51</th><td>6 </td><td>51.000000</td><td>1.4649664</td></tr>\n",
       "\t<tr><th scope=row>c7.loc59</th><td>7 </td><td>59.000000</td><td>1.1172326</td></tr>\n",
       "\t<tr><th scope=row>c8.loc71</th><td>8 </td><td>71.000000</td><td>0.8198822</td></tr>\n",
       "\t<tr><th scope=row>9_1900860</th><td>9 </td><td> 7.764009</td><td>1.0880875</td></tr>\n",
       "\t<tr><th scope=row>c10.loc44</th><td>10</td><td>44.000000</td><td>0.9856430</td></tr>\n",
       "\t<tr><th scope=row>11_13317200</th><td>11</td><td>47.688032</td><td>1.4266670</td></tr>\n",
       "\t<tr><th scope=row>c12.loc67</th><td>12</td><td>67.000000</td><td>1.3087078</td></tr>\n",
       "\t<tr><th scope=row>13_9501435</th><td>13</td><td>44.994028</td><td>1.6086236</td></tr>\n",
       "\t<tr><th scope=row>c14.loc83</th><td>14</td><td>83.000000</td><td>0.8567827</td></tr>\n",
       "\t<tr><th scope=row>15_16029159</th><td>15</td><td>36.631035</td><td>1.2629741</td></tr>\n",
       "\t<tr><th scope=row>16_12991446</th><td>16</td><td>16.277024</td><td>7.3553166</td></tr>\n",
       "\t<tr><th scope=row>17_8072555</th><td>17</td><td>44.343023</td><td>0.8436286</td></tr>\n",
       "\t<tr><th scope=row>c18.loc30</th><td>18</td><td>30.000000</td><td>1.7416214</td></tr>\n",
       "\t<tr><th scope=row>c19.loc13</th><td>19</td><td>13.000000</td><td>0.3327895</td></tr>\n",
       "</tbody>\n",
       "</table>\n"
      ],
      "text/latex": [
       "A summary.scanone: 19 × 3\n",
       "\\begin{tabular}{r|lll}\n",
       "  & chr & pos & lod\\\\\n",
       "  & <fct> & <dbl> & <dbl>\\\\\n",
       "\\hline\n",
       "\t1\\_20779520 & 1  & 67.817046 & 0.5032497\\\\\n",
       "\tc2.loc32 & 2  & 32.000000 & 0.4326209\\\\\n",
       "\tc3.loc6 & 3  &  6.000000 & 0.7201693\\\\\n",
       "\t4\\_936532 & 4  &  4.541001 & 1.7866788\\\\\n",
       "\tc5.loc55 & 5  & 55.000000 & 0.6082582\\\\\n",
       "\tc6.loc51 & 6  & 51.000000 & 1.4649664\\\\\n",
       "\tc7.loc59 & 7  & 59.000000 & 1.1172326\\\\\n",
       "\tc8.loc71 & 8  & 71.000000 & 0.8198822\\\\\n",
       "\t9\\_1900860 & 9  &  7.764009 & 1.0880875\\\\\n",
       "\tc10.loc44 & 10 & 44.000000 & 0.9856430\\\\\n",
       "\t11\\_13317200 & 11 & 47.688032 & 1.4266670\\\\\n",
       "\tc12.loc67 & 12 & 67.000000 & 1.3087078\\\\\n",
       "\t13\\_9501435 & 13 & 44.994028 & 1.6086236\\\\\n",
       "\tc14.loc83 & 14 & 83.000000 & 0.8567827\\\\\n",
       "\t15\\_16029159 & 15 & 36.631035 & 1.2629741\\\\\n",
       "\t16\\_12991446 & 16 & 16.277024 & 7.3553166\\\\\n",
       "\t17\\_8072555 & 17 & 44.343023 & 0.8436286\\\\\n",
       "\tc18.loc30 & 18 & 30.000000 & 1.7416214\\\\\n",
       "\tc19.loc13 & 19 & 13.000000 & 0.3327895\\\\\n",
       "\\end{tabular}\n"
      ],
      "text/markdown": [
       "\n",
       "A summary.scanone: 19 × 3\n",
       "\n",
       "| <!--/--> | chr &lt;fct&gt; | pos &lt;dbl&gt; | lod &lt;dbl&gt; |\n",
       "|---|---|---|---|\n",
       "| 1_20779520 | 1  | 67.817046 | 0.5032497 |\n",
       "| c2.loc32 | 2  | 32.000000 | 0.4326209 |\n",
       "| c3.loc6 | 3  |  6.000000 | 0.7201693 |\n",
       "| 4_936532 | 4  |  4.541001 | 1.7866788 |\n",
       "| c5.loc55 | 5  | 55.000000 | 0.6082582 |\n",
       "| c6.loc51 | 6  | 51.000000 | 1.4649664 |\n",
       "| c7.loc59 | 7  | 59.000000 | 1.1172326 |\n",
       "| c8.loc71 | 8  | 71.000000 | 0.8198822 |\n",
       "| 9_1900860 | 9  |  7.764009 | 1.0880875 |\n",
       "| c10.loc44 | 10 | 44.000000 | 0.9856430 |\n",
       "| 11_13317200 | 11 | 47.688032 | 1.4266670 |\n",
       "| c12.loc67 | 12 | 67.000000 | 1.3087078 |\n",
       "| 13_9501435 | 13 | 44.994028 | 1.6086236 |\n",
       "| c14.loc83 | 14 | 83.000000 | 0.8567827 |\n",
       "| 15_16029159 | 15 | 36.631035 | 1.2629741 |\n",
       "| 16_12991446 | 16 | 16.277024 | 7.3553166 |\n",
       "| 17_8072555 | 17 | 44.343023 | 0.8436286 |\n",
       "| c18.loc30 | 18 | 30.000000 | 1.7416214 |\n",
       "| c19.loc13 | 19 | 13.000000 | 0.3327895 |\n",
       "\n"
      ],
      "text/plain": [
       "            chr pos       lod      \n",
       "1_20779520  1   67.817046 0.5032497\n",
       "c2.loc32    2   32.000000 0.4326209\n",
       "c3.loc6     3    6.000000 0.7201693\n",
       "4_936532    4    4.541001 1.7866788\n",
       "c5.loc55    5   55.000000 0.6082582\n",
       "c6.loc51    6   51.000000 1.4649664\n",
       "c7.loc59    7   59.000000 1.1172326\n",
       "c8.loc71    8   71.000000 0.8198822\n",
       "9_1900860   9    7.764009 1.0880875\n",
       "c10.loc44   10  44.000000 0.9856430\n",
       "11_13317200 11  47.688032 1.4266670\n",
       "c12.loc67   12  67.000000 1.3087078\n",
       "13_9501435  13  44.994028 1.6086236\n",
       "c14.loc83   14  83.000000 0.8567827\n",
       "15_16029159 15  36.631035 1.2629741\n",
       "16_12991446 16  16.277024 7.3553166\n",
       "17_8072555  17  44.343023 0.8436286\n",
       "c18.loc30   18  30.000000 1.7416214\n",
       "c19.loc13   19  13.000000 0.3327895"
      ]
     },
     "metadata": {},
     "output_type": "display_data"
    },
    {
     "data": {
      "image/png": "[encoded data removed]",
      "text/plain": [
       "plot without title"
      ]
     },
     "metadata": {
      "image/png": {
       "height": 420,
       "width": 420
      },
      "text/plain": {
       "height": 420,
       "width": 420
      }
     },
     "output_type": "display_data"
    }
   ],
   "source": [
    "#Deterime LOD Values\n",
    "LOD5 <- summary(TraitCIM1000,alpha=c(.05))\n",
    "TraitCIM<-cim(Map,pheno.col = colNum,method = \"hk\",\n",
    "              map.function = \"kosambi\") #Generate LOD Values\n",
    "plot(TraitCIM) #show LOD graph\n",
    "abline(h = LOD5,col = \"blue\") #overlay statistically significant line\n",
    "print(\"If nothing shows up, the values \n",
    "      are below the LOD5 score\") #warning for no peaks\n",
    "summary(TraitCIM)\n",
    "write.csv(TraitCIM,\"InterveinalNecrosisDarr2020_table.csv\")"
   ]
  },
  {
   "cell_type": "code",
   "execution_count": 7,
   "metadata": {},
   "outputs": [
    {
     "name": "stdin",
     "output_type": "stream",
     "text": [
      "Chromosome?  16\n"
     ]
    },
    {
     "data": {
      "image/png": "[encoded data removed]",
      "text/plain": [
       "plot without title"
      ]
     },
     "metadata": {
      "image/png": {
       "height": 420,
       "width": 420
      },
      "text/plain": {
       "height": 420,
       "width": 420
      }
     },
     "output_type": "display_data"
    }
   ],
   "source": [
    "#Chromosomal Analysis\n",
    "chr <- as.numeric(readline(\"Chromosome? \")) #collect chromosome to look at\n",
    "plot(TraitCIM, chr = chr,xlab = c(\"chr\",chr)) #Plot chr LOD scores\n",
    "abline(h = LOD5, col = \"blue\") #Statistically Significant"
   ]
  },
  {
   "cell_type": "code",
   "execution_count": 8,
   "metadata": {},
   "outputs": [
    {
     "data": {
      "text/html": [
       "<table>\n",
       "<caption>A scanone: 3 × 3</caption>\n",
       "<thead>\n",
       "\t<tr><th></th><th scope=col>chr</th><th scope=col>pos</th><th scope=col>lod</th></tr>\n",
       "\t<tr><th></th><th scope=col>&lt;fct&gt;</th><th scope=col>&lt;dbl&gt;</th><th scope=col>&lt;dbl&gt;</th></tr>\n",
       "</thead>\n",
       "<tbody>\n",
       "\t<tr><th scope=row>16_7987236</th><td>16</td><td>14.66002</td><td>6.844894</td></tr>\n",
       "\t<tr><th scope=row>16_12991446</th><td>16</td><td>16.27702</td><td>7.355317</td></tr>\n",
       "\t<tr><th scope=row>16_14618393</th><td>16</td><td>21.25103</td><td>5.527624</td></tr>\n",
       "</tbody>\n",
       "</table>\n"
      ],
      "text/latex": [
       "A scanone: 3 × 3\n",
       "\\begin{tabular}{r|lll}\n",
       "  & chr & pos & lod\\\\\n",
       "  & <fct> & <dbl> & <dbl>\\\\\n",
       "\\hline\n",
       "\t16\\_7987236 & 16 & 14.66002 & 6.844894\\\\\n",
       "\t16\\_12991446 & 16 & 16.27702 & 7.355317\\\\\n",
       "\t16\\_14618393 & 16 & 21.25103 & 5.527624\\\\\n",
       "\\end{tabular}\n"
      ],
      "text/markdown": [
       "\n",
       "A scanone: 3 × 3\n",
       "\n",
       "| <!--/--> | chr &lt;fct&gt; | pos &lt;dbl&gt; | lod &lt;dbl&gt; |\n",
       "|---|---|---|---|\n",
       "| 16_7987236 | 16 | 14.66002 | 6.844894 |\n",
       "| 16_12991446 | 16 | 16.27702 | 7.355317 |\n",
       "| 16_14618393 | 16 | 21.25103 | 5.527624 |\n",
       "\n"
      ],
      "text/plain": [
       "            chr pos      lod     \n",
       "16_7987236  16  14.66002 6.844894\n",
       "16_12991446 16  16.27702 7.355317\n",
       "16_14618393 16  21.25103 5.527624"
      ]
     },
     "metadata": {},
     "output_type": "display_data"
    },
    {
     "data": {
      "text/html": [
       "<table>\n",
       "<caption>A scanone: 3 × 3</caption>\n",
       "<thead>\n",
       "\t<tr><th></th><th scope=col>chr</th><th scope=col>pos</th><th scope=col>lod</th></tr>\n",
       "\t<tr><th></th><th scope=col>&lt;fct&gt;</th><th scope=col>&lt;dbl&gt;</th><th scope=col>&lt;dbl&gt;</th></tr>\n",
       "</thead>\n",
       "<tbody>\n",
       "\t<tr><th scope=row>16_6692998</th><td>16</td><td>14.07701</td><td>0.01388336</td></tr>\n",
       "\t<tr><th scope=row>16_12991446</th><td>16</td><td>16.27702</td><td>7.35531658</td></tr>\n",
       "\t<tr><th scope=row>16_14618393</th><td>16</td><td>21.25103</td><td>5.52762418</td></tr>\n",
       "</tbody>\n",
       "</table>\n"
      ],
      "text/latex": [
       "A scanone: 3 × 3\n",
       "\\begin{tabular}{r|lll}\n",
       "  & chr & pos & lod\\\\\n",
       "  & <fct> & <dbl> & <dbl>\\\\\n",
       "\\hline\n",
       "\t16\\_6692998 & 16 & 14.07701 & 0.01388336\\\\\n",
       "\t16\\_12991446 & 16 & 16.27702 & 7.35531658\\\\\n",
       "\t16\\_14618393 & 16 & 21.25103 & 5.52762418\\\\\n",
       "\\end{tabular}\n"
      ],
      "text/markdown": [
       "\n",
       "A scanone: 3 × 3\n",
       "\n",
       "| <!--/--> | chr &lt;fct&gt; | pos &lt;dbl&gt; | lod &lt;dbl&gt; |\n",
       "|---|---|---|---|\n",
       "| 16_6692998 | 16 | 14.07701 | 0.01388336 |\n",
       "| 16_12991446 | 16 | 16.27702 | 7.35531658 |\n",
       "| 16_14618393 | 16 | 21.25103 | 5.52762418 |\n",
       "\n"
      ],
      "text/plain": [
       "            chr pos      lod       \n",
       "16_6692998  16  14.07701 0.01388336\n",
       "16_12991446 16  16.27702 7.35531658\n",
       "16_14618393 16  21.25103 5.52762418"
      ]
     },
     "metadata": {},
     "output_type": "display_data"
    }
   ],
   "source": [
    "bayesint(TraitCIM, chr = chr, prob=0.95, expandtomarkers=TRUE) #calculate bayesian interval\n",
    "lodint(TraitCIM, chr = chr,expandtomarkers = TRUE ) #calculate LOD Support interval"
   ]
  },
  {
   "cell_type": "code",
   "execution_count": 9,
   "metadata": {},
   "outputs": [
    {
     "name": "stdin",
     "output_type": "stream",
     "text": [
      "Position for analysis:  16.27702\n"
     ]
    },
    {
     "name": "stderr",
     "output_type": "stream",
     "text": [
      "Warning message in getsex(cross):\n",
      "\"127 individuals with missing sex; assuming they're female\"\n",
      "Warning message in fitqtlengine(pheno = pheno, qtl = qtl, covar = covar, formula = formula, :\n",
      "\"Dropping 88 individuals with missing phenotypes.\n",
      "\"\n",
      "Warning message in getsex(cross):\n",
      "\"127 individuals with missing sex; assuming they're female\"\n"
     ]
    },
    {
     "data": {
      "text/plain": [
       "\n",
       "\t\tfitqtl summary\n",
       "\n",
       "Method: Haley-Knott regression \n",
       "Model:  normal phenotype\n",
       "Number of observations : 208 \n",
       "\n",
       "Full model result\n",
       "----------------------------------  \n",
       "Model formula: y ~ Q1 \n",
       "\n",
       "       df        SS        MS      LOD     %var Pvalue(Chi2)    Pvalue(F)\n",
       "Model   1  7.386822 7.3868222 8.317747 16.81947 6.051849e-10 7.656402e-10\n",
       "Error 206 36.531447 0.1773371                                            \n",
       "Total 207 43.918269                                                      \n",
       "\n",
       "\n",
       "Estimated effects:\n",
       "-----------------\n",
       "               est       SE      t\n",
       "Intercept  0.70255  0.02921 24.051\n",
       "16@16.3   -0.37706  0.05842 -6.454\n"
      ]
     },
     "metadata": {},
     "output_type": "display_data"
    }
   ],
   "source": [
    "p <- as.numeric(readline(\"Position for analysis: \"))\n",
    "qtl <- makeqtl(Map, chr = chr, pos = p, what=\"prob\") #pulls genotype probabilities\n",
    "fitqtl <- fitqtl(Map, pheno.col=colNum, qtl = qtl, covar=NULL,\n",
    "       method= \"hk\",model=\"normal\",\n",
    "       dropone=TRUE, get.ests=TRUE,run.checks=TRUE,\n",
    "       tol=1e-4, maxit=1000, forceXcovar=FALSE) #sees how well our data fits a given formula \n",
    "          # If you see \"error: object of type 'closure' is not subsettable\", remove \"formula,\" from the fitqtl argument list.\n",
    "summary(fitqtl) #Print results of the analysis"
   ]
  },
  {
   "cell_type": "code",
   "execution_count": 10,
   "metadata": {},
   "outputs": [
    {
     "name": "stdout",
     "output_type": "stream",
     "text": [
      "[1] \"Make sure to input names AS THEY APPEAR on the csv!!\"\n"
     ]
    },
    {
     "name": "stdin",
     "output_type": "stream",
     "text": [
      "Enter file name (Either FemaleMap.csv or MaleMap.csv):  MaleMap_Field2020.csv\n",
      "First Genotype (homozygous) (For example ll):  nn\n",
      "Second Genotype (heterozygous) (for example lm):  np\n",
      "Column Number:  48\n"
     ]
    }
   ],
   "source": [
    "#Collecting enviroment variables\n",
    "print(\"Make sure to input names AS THEY APPEAR on the csv!!\") #Just a user warning\n",
    "fileName <- readline(\"Enter file name (Either FemaleMap.csv or MaleMap.csv): \") #Mapping table file\n",
    "genotypeName <- c(readline(\"First Genotype (homozygous) (For example ll): \"),\n",
    "                  readline(\"Second Genotype (heterozygous) (for example lm): \")) #For example \"nn\", \"np\"\n",
    "alleleName <- c(substr(genotypeName[2],1,1) ,substr(genotypeName[2],2,2))\n",
    "naNames <- c(\"NA\",\"--\") #For example \"NA\", \"--\"\n",
    "colNum <- as.numeric(readline(\"Column Number: \")) #Column for pheno of interest"
   ]
  },
  {
   "cell_type": "code",
   "execution_count": 11,
   "metadata": {},
   "outputs": [
    {
     "name": "stderr",
     "output_type": "stream",
     "text": [
      "Warning message in FUN(X[[i]], ...):\n",
      "\"The phenotype value \" \"  was interpreted as missing.\"\n"
     ]
    },
    {
     "name": "stdout",
     "output_type": "stream",
     "text": [
      " --Read the following data:\n",
      "\t 294  individuals\n",
      "\t 1128  markers\n",
      "\t 56  phenotypes\n"
     ]
    },
    {
     "name": "stderr",
     "output_type": "stream",
     "text": [
      "Warning message in summary.cross(cross):\n",
      "\"Some markers at the same position on chr 1,3,4,5,6,7,8,9,10,12,13,14,15,16,17,18,19; use jittermap().\"\n"
     ]
    },
    {
     "name": "stdout",
     "output_type": "stream",
     "text": [
      " --Cross type: bc \n"
     ]
    },
    {
     "data": {
      "image/png": "[encoded data removed]",
      "text/plain": [
       "Plot with title \"Genetic map\""
      ]
     },
     "metadata": {
      "image/png": {
       "height": 420,
       "width": 420
      },
      "text/plain": {
       "height": 420,
       "width": 420
      }
     },
     "output_type": "display_data"
    }
   ],
   "source": [
    "#Map generation\n",
    "Map <- read.cross(format = 'csv',file = fileName \n",
    "                  ,genotypes = genotypeName,\n",
    "                  alleles = alleleName,na.strings = naNames) #generate linkage map\n",
    "Map <- jittermap(Map) #make sure no markers are in the same location\n",
    "Map <- calc.genoprob(Map,step = 1,map.function = \"kosambi\") #associate markers with full genotypes\n",
    "plot.map(Map) #draw linkage map"
   ]
  },
  {
   "cell_type": "code",
   "execution_count": 12,
   "metadata": {},
   "outputs": [
    {
     "data": {
      "image/png": "[encoded data removed]",
      "text/plain": [
       "Plot with title \"\""
      ]
     },
     "metadata": {
      "image/png": {
       "height": 420,
       "width": 420
      },
      "text/plain": {
       "height": 420,
       "width": 420
      }
     },
     "output_type": "display_data"
    }
   ],
   "source": [
    "plotNormalHistogram(Map$pheno[,colNum]) #normal histogram of pheno of interest"
   ]
  },
  {
   "cell_type": "markdown",
   "metadata": {},
   "source": [
    "Outliers exist in this data. "
   ]
  },
  {
   "cell_type": "code",
   "execution_count": 13,
   "metadata": {},
   "outputs": [
    {
     "data": {
      "text/plain": [
       "LOD thresholds (1000 permutations)\n",
       "   [,1]\n",
       "5% 3.83\n",
       "1% 4.69"
      ]
     },
     "metadata": {},
     "output_type": "display_data"
    },
    {
     "data": {
      "image/png": "[encoded data removed]",
      "text/plain": [
       "Plot with title \"\""
      ]
     },
     "metadata": {
      "image/png": {
       "height": 420,
       "width": 420
      },
      "text/plain": {
       "height": 420,
       "width": 420
      }
     },
     "output_type": "display_data"
    }
   ],
   "source": [
    "#Compute statistically significant values\n",
    "TraitCIM1000 <- cim(Map,pheno.col = colNum,method = \"hk\",\n",
    "                    map.function = \"kosambi\",n.perm = 1000) # Function will take a moment to run, determines LOD value\n",
    "plot(TraitCIM1000,col = 'green') #show distribution of lod scores\n",
    "summary(TraitCIM1000,alpha=c(.05,.01))"
   ]
  },
  {
   "cell_type": "code",
   "execution_count": 14,
   "metadata": {},
   "outputs": [
    {
     "name": "stdout",
     "output_type": "stream",
     "text": [
      "[1] \"If nothing shows up, the values \\n      are below the LOD5 score\"\n"
     ]
    },
    {
     "data": {
      "text/html": [
       "<table>\n",
       "<caption>A summary.scanone: 19 × 3</caption>\n",
       "<thead>\n",
       "\t<tr><th></th><th scope=col>chr</th><th scope=col>pos</th><th scope=col>lod</th></tr>\n",
       "\t<tr><th></th><th scope=col>&lt;fct&gt;</th><th scope=col>&lt;dbl&gt;</th><th scope=col>&lt;dbl&gt;</th></tr>\n",
       "</thead>\n",
       "<tbody>\n",
       "\t<tr><th scope=row>c1.loc15</th><td>1 </td><td>15.000000</td><td>1.2645881</td></tr>\n",
       "\t<tr><th scope=row>c2.loc65</th><td>2 </td><td>65.000000</td><td>2.3326610</td></tr>\n",
       "\t<tr><th scope=row>c3.loc20</th><td>3 </td><td>20.000000</td><td>0.5493905</td></tr>\n",
       "\t<tr><th scope=row>c4.loc5</th><td>4 </td><td> 5.000000</td><td>1.6074560</td></tr>\n",
       "\t<tr><th scope=row>c5.loc69</th><td>5 </td><td>69.000000</td><td>0.6755526</td></tr>\n",
       "\t<tr><th scope=row>c6.loc58</th><td>6 </td><td>58.000000</td><td>0.7276911</td></tr>\n",
       "\t<tr><th scope=row>c7.loc72</th><td>7 </td><td>72.000000</td><td>1.5463791</td></tr>\n",
       "\t<tr><th scope=row>c8.loc22</th><td>8 </td><td>22.000000</td><td>1.9083667</td></tr>\n",
       "\t<tr><th scope=row>9_5640646</th><td>9 </td><td>24.768017</td><td>2.8446359</td></tr>\n",
       "\t<tr><th scope=row>10_8058787</th><td>10</td><td>42.592017</td><td>0.9291962</td></tr>\n",
       "\t<tr><th scope=row>c11.loc36</th><td>11</td><td>36.000000</td><td>0.6771285</td></tr>\n",
       "\t<tr><th scope=row>c12.loc23</th><td>12</td><td>23.000000</td><td>2.2011335</td></tr>\n",
       "\t<tr><th scope=row>13_15188487</th><td>13</td><td>59.316038</td><td>1.1388118</td></tr>\n",
       "\t<tr><th scope=row>14_6003433</th><td>14</td><td>19.049026</td><td>0.9138207</td></tr>\n",
       "\t<tr><th scope=row>15_16026481</th><td>15</td><td>68.779032</td><td>2.5090362</td></tr>\n",
       "\t<tr><th scope=row>c16.loc72</th><td>16</td><td>72.000000</td><td>0.9971405</td></tr>\n",
       "\t<tr><th scope=row>c17.loc11</th><td>17</td><td>11.000000</td><td>2.1686854</td></tr>\n",
       "\t<tr><th scope=row>7_17086479</th><td>18</td><td>98.144052</td><td>1.1942979</td></tr>\n",
       "\t<tr><th scope=row>19_1680257</th><td>19</td><td> 4.979002</td><td>1.6653254</td></tr>\n",
       "</tbody>\n",
       "</table>\n"
      ],
      "text/latex": [
       "A summary.scanone: 19 × 3\n",
       "\\begin{tabular}{r|lll}\n",
       "  & chr & pos & lod\\\\\n",
       "  & <fct> & <dbl> & <dbl>\\\\\n",
       "\\hline\n",
       "\tc1.loc15 & 1  & 15.000000 & 1.2645881\\\\\n",
       "\tc2.loc65 & 2  & 65.000000 & 2.3326610\\\\\n",
       "\tc3.loc20 & 3  & 20.000000 & 0.5493905\\\\\n",
       "\tc4.loc5 & 4  &  5.000000 & 1.6074560\\\\\n",
       "\tc5.loc69 & 5  & 69.000000 & 0.6755526\\\\\n",
       "\tc6.loc58 & 6  & 58.000000 & 0.7276911\\\\\n",
       "\tc7.loc72 & 7  & 72.000000 & 1.5463791\\\\\n",
       "\tc8.loc22 & 8  & 22.000000 & 1.9083667\\\\\n",
       "\t9\\_5640646 & 9  & 24.768017 & 2.8446359\\\\\n",
       "\t10\\_8058787 & 10 & 42.592017 & 0.9291962\\\\\n",
       "\tc11.loc36 & 11 & 36.000000 & 0.6771285\\\\\n",
       "\tc12.loc23 & 12 & 23.000000 & 2.2011335\\\\\n",
       "\t13\\_15188487 & 13 & 59.316038 & 1.1388118\\\\\n",
       "\t14\\_6003433 & 14 & 19.049026 & 0.9138207\\\\\n",
       "\t15\\_16026481 & 15 & 68.779032 & 2.5090362\\\\\n",
       "\tc16.loc72 & 16 & 72.000000 & 0.9971405\\\\\n",
       "\tc17.loc11 & 17 & 11.000000 & 2.1686854\\\\\n",
       "\t7\\_17086479 & 18 & 98.144052 & 1.1942979\\\\\n",
       "\t19\\_1680257 & 19 &  4.979002 & 1.6653254\\\\\n",
       "\\end{tabular}\n"
      ],
      "text/markdown": [
       "\n",
       "A summary.scanone: 19 × 3\n",
       "\n",
       "| <!--/--> | chr &lt;fct&gt; | pos &lt;dbl&gt; | lod &lt;dbl&gt; |\n",
       "|---|---|---|---|\n",
       "| c1.loc15 | 1  | 15.000000 | 1.2645881 |\n",
       "| c2.loc65 | 2  | 65.000000 | 2.3326610 |\n",
       "| c3.loc20 | 3  | 20.000000 | 0.5493905 |\n",
       "| c4.loc5 | 4  |  5.000000 | 1.6074560 |\n",
       "| c5.loc69 | 5  | 69.000000 | 0.6755526 |\n",
       "| c6.loc58 | 6  | 58.000000 | 0.7276911 |\n",
       "| c7.loc72 | 7  | 72.000000 | 1.5463791 |\n",
       "| c8.loc22 | 8  | 22.000000 | 1.9083667 |\n",
       "| 9_5640646 | 9  | 24.768017 | 2.8446359 |\n",
       "| 10_8058787 | 10 | 42.592017 | 0.9291962 |\n",
       "| c11.loc36 | 11 | 36.000000 | 0.6771285 |\n",
       "| c12.loc23 | 12 | 23.000000 | 2.2011335 |\n",
       "| 13_15188487 | 13 | 59.316038 | 1.1388118 |\n",
       "| 14_6003433 | 14 | 19.049026 | 0.9138207 |\n",
       "| 15_16026481 | 15 | 68.779032 | 2.5090362 |\n",
       "| c16.loc72 | 16 | 72.000000 | 0.9971405 |\n",
       "| c17.loc11 | 17 | 11.000000 | 2.1686854 |\n",
       "| 7_17086479 | 18 | 98.144052 | 1.1942979 |\n",
       "| 19_1680257 | 19 |  4.979002 | 1.6653254 |\n",
       "\n"
      ],
      "text/plain": [
       "            chr pos       lod      \n",
       "c1.loc15    1   15.000000 1.2645881\n",
       "c2.loc65    2   65.000000 2.3326610\n",
       "c3.loc20    3   20.000000 0.5493905\n",
       "c4.loc5     4    5.000000 1.6074560\n",
       "c5.loc69    5   69.000000 0.6755526\n",
       "c6.loc58    6   58.000000 0.7276911\n",
       "c7.loc72    7   72.000000 1.5463791\n",
       "c8.loc22    8   22.000000 1.9083667\n",
       "9_5640646   9   24.768017 2.8446359\n",
       "10_8058787  10  42.592017 0.9291962\n",
       "c11.loc36   11  36.000000 0.6771285\n",
       "c12.loc23   12  23.000000 2.2011335\n",
       "13_15188487 13  59.316038 1.1388118\n",
       "14_6003433  14  19.049026 0.9138207\n",
       "15_16026481 15  68.779032 2.5090362\n",
       "c16.loc72   16  72.000000 0.9971405\n",
       "c17.loc11   17  11.000000 2.1686854\n",
       "7_17086479  18  98.144052 1.1942979\n",
       "19_1680257  19   4.979002 1.6653254"
      ]
     },
     "metadata": {},
     "output_type": "display_data"
    },
    {
     "data": {
      "image/png": "[encoded data removed]",
      "text/plain": [
       "plot without title"
      ]
     },
     "metadata": {
      "image/png": {
       "height": 420,
       "width": 420
      },
      "text/plain": {
       "height": 420,
       "width": 420
      }
     },
     "output_type": "display_data"
    }
   ],
   "source": [
    "#Deterime LOD Values\n",
    "TraitCIM<-cim(Map,pheno.col = colNum,method = \"hk\",\n",
    "              map.function = \"kosambi\") #Generate LOD Values\n",
    "plot(TraitCIM) #show LOD graph\n",
    "abline(h = LOD5,col = \"blue\") #overlay statistically significant line\n",
    "print(\"If nothing shows up, the values \n",
    "      are below the LOD5 score\") #warning for no peaks\n",
    "summary(TraitCIM)"
   ]
  },
  {
   "cell_type": "code",
   "execution_count": 15,
   "metadata": {},
   "outputs": [
    {
     "name": "stdin",
     "output_type": "stream",
     "text": [
      "Chromosome?  4\n"
     ]
    },
    {
     "data": {
      "image/png": "[encoded data removed]",
      "text/plain": [
       "plot without title"
      ]
     },
     "metadata": {
      "image/png": {
       "height": 420,
       "width": 420
      },
      "text/plain": {
       "height": 420,
       "width": 420
      }
     },
     "output_type": "display_data"
    }
   ],
   "source": [
    "#Chromosomal Analysis\n",
    "chr <- as.numeric(readline(\"Chromosome? \")) #collect chromosome to look at\n",
    "plot(TraitCIM, chr = chr,xlab = c(\"chr\",chr)) #Plot chr LOD scores\n",
    "abline(h = LOD5, col = \"blue\") #Statistically Significant"
   ]
  },
  {
   "cell_type": "code",
   "execution_count": 16,
   "metadata": {},
   "outputs": [
    {
     "data": {
      "text/html": [
       "<table>\n",
       "<caption>A scanone: 3 × 3</caption>\n",
       "<thead>\n",
       "\t<tr><th></th><th scope=col>chr</th><th scope=col>pos</th><th scope=col>lod</th></tr>\n",
       "\t<tr><th></th><th scope=col>&lt;fct&gt;</th><th scope=col>&lt;dbl&gt;</th><th scope=col>&lt;dbl&gt;</th></tr>\n",
       "</thead>\n",
       "<tbody>\n",
       "\t<tr><th scope=row>4_453789</th><td>4</td><td> 0.00000</td><td>0.1441796</td></tr>\n",
       "\t<tr><th scope=row>c4.loc5</th><td>4</td><td> 5.00000</td><td>1.6074560</td></tr>\n",
       "\t<tr><th scope=row>4_24561501</th><td>4</td><td>88.51606</td><td>0.2657214</td></tr>\n",
       "</tbody>\n",
       "</table>\n"
      ],
      "text/latex": [
       "A scanone: 3 × 3\n",
       "\\begin{tabular}{r|lll}\n",
       "  & chr & pos & lod\\\\\n",
       "  & <fct> & <dbl> & <dbl>\\\\\n",
       "\\hline\n",
       "\t4\\_453789 & 4 &  0.00000 & 0.1441796\\\\\n",
       "\tc4.loc5 & 4 &  5.00000 & 1.6074560\\\\\n",
       "\t4\\_24561501 & 4 & 88.51606 & 0.2657214\\\\\n",
       "\\end{tabular}\n"
      ],
      "text/markdown": [
       "\n",
       "A scanone: 3 × 3\n",
       "\n",
       "| <!--/--> | chr &lt;fct&gt; | pos &lt;dbl&gt; | lod &lt;dbl&gt; |\n",
       "|---|---|---|---|\n",
       "| 4_453789 | 4 |  0.00000 | 0.1441796 |\n",
       "| c4.loc5 | 4 |  5.00000 | 1.6074560 |\n",
       "| 4_24561501 | 4 | 88.51606 | 0.2657214 |\n",
       "\n"
      ],
      "text/plain": [
       "           chr pos      lod      \n",
       "4_453789   4    0.00000 0.1441796\n",
       "c4.loc5    4    5.00000 1.6074560\n",
       "4_24561501 4   88.51606 0.2657214"
      ]
     },
     "metadata": {},
     "output_type": "display_data"
    },
    {
     "data": {
      "text/html": [
       "<table>\n",
       "<caption>A scanone: 3 × 3</caption>\n",
       "<thead>\n",
       "\t<tr><th></th><th scope=col>chr</th><th scope=col>pos</th><th scope=col>lod</th></tr>\n",
       "\t<tr><th></th><th scope=col>&lt;fct&gt;</th><th scope=col>&lt;dbl&gt;</th><th scope=col>&lt;dbl&gt;</th></tr>\n",
       "</thead>\n",
       "<tbody>\n",
       "\t<tr><th scope=row>4_453789</th><td>4</td><td> 0.00000</td><td>0.1441796</td></tr>\n",
       "\t<tr><th scope=row>c4.loc5</th><td>4</td><td> 5.00000</td><td>1.6074560</td></tr>\n",
       "\t<tr><th scope=row>4_24561501</th><td>4</td><td>88.51606</td><td>0.2657214</td></tr>\n",
       "</tbody>\n",
       "</table>\n"
      ],
      "text/latex": [
       "A scanone: 3 × 3\n",
       "\\begin{tabular}{r|lll}\n",
       "  & chr & pos & lod\\\\\n",
       "  & <fct> & <dbl> & <dbl>\\\\\n",
       "\\hline\n",
       "\t4\\_453789 & 4 &  0.00000 & 0.1441796\\\\\n",
       "\tc4.loc5 & 4 &  5.00000 & 1.6074560\\\\\n",
       "\t4\\_24561501 & 4 & 88.51606 & 0.2657214\\\\\n",
       "\\end{tabular}\n"
      ],
      "text/markdown": [
       "\n",
       "A scanone: 3 × 3\n",
       "\n",
       "| <!--/--> | chr &lt;fct&gt; | pos &lt;dbl&gt; | lod &lt;dbl&gt; |\n",
       "|---|---|---|---|\n",
       "| 4_453789 | 4 |  0.00000 | 0.1441796 |\n",
       "| c4.loc5 | 4 |  5.00000 | 1.6074560 |\n",
       "| 4_24561501 | 4 | 88.51606 | 0.2657214 |\n",
       "\n"
      ],
      "text/plain": [
       "           chr pos      lod      \n",
       "4_453789   4    0.00000 0.1441796\n",
       "c4.loc5    4    5.00000 1.6074560\n",
       "4_24561501 4   88.51606 0.2657214"
      ]
     },
     "metadata": {},
     "output_type": "display_data"
    }
   ],
   "source": [
    "bayesint(TraitCIM, chr = chr, prob=0.95, expandtomarkers=TRUE) #calculate bayesian interval\n",
    "lodint(TraitCIM, chr = chr,expandtomarkers = TRUE ) #calculate LOD Support interval"
   ]
  },
  {
   "cell_type": "code",
   "execution_count": 17,
   "metadata": {},
   "outputs": [
    {
     "name": "stdin",
     "output_type": "stream",
     "text": [
      "Position for analysis:  5.00000\n"
     ]
    },
    {
     "name": "stderr",
     "output_type": "stream",
     "text": [
      "Warning message in getsex(cross):\n",
      "\"125 individuals with missing sex; assuming they're female\"\n",
      "Warning message in fitqtlengine(pheno = pheno, qtl = qtl, covar = covar, formula = formula, :\n",
      "\"Dropping 86 individuals with missing phenotypes.\n",
      "\"\n",
      "Warning message in getsex(cross):\n",
      "\"125 individuals with missing sex; assuming they're female\"\n"
     ]
    },
    {
     "data": {
      "text/plain": [
       "\n",
       "\t\tfitqtl summary\n",
       "\n",
       "Method: Haley-Knott regression \n",
       "Model:  normal phenotype\n",
       "Number of observations : 208 \n",
       "\n",
       "Full model result\n",
       "----------------------------------  \n",
       "Model formula: y ~ Q1 \n",
       "\n",
       "       df        SS        MS      LOD     %var Pvalue(Chi2) Pvalue(F)\n",
       "Model   1  1.083168 1.0831685 1.127924 2.466328   0.02266131 0.0234901\n",
       "Error 206 42.835101 0.2079374                                         \n",
       "Total 207 43.918269                                                   \n",
       "\n",
       "\n",
       "Estimated effects:\n",
       "-----------------\n",
       "              est      SE      t\n",
       "Intercept 0.69496 0.03163 21.970\n",
       "4@5.0     0.53895 0.23614  2.282\n"
      ]
     },
     "metadata": {},
     "output_type": "display_data"
    }
   ],
   "source": [
    "p <- as.numeric(readline(\"Position for analysis: \"))\n",
    "qtl <- makeqtl(Map, chr = chr, pos = p, what=\"prob\") #pulls genotype probabilities\n",
    "fitqtl <- fitqtl(Map, pheno.col=colNum, qtl = qtl, covar=NULL,\n",
    "       method= \"hk\",model=\"normal\",\n",
    "       dropone=TRUE, get.ests=TRUE,run.checks=TRUE,\n",
    "       tol=1e-4, maxit=1000, forceXcovar=FALSE) #sees how well our data fits a given formula \n",
    "          # If you see \"error: object of type 'closure' is not subsettable\", remove \"formula,\" from the fitqtl argument list.\n",
    "summary(fitqtl) #Print results of the analysis"
   ]
  },
  {
   "cell_type": "code",
   "execution_count": null,
   "metadata": {},
   "outputs": [],
   "source": []
  }
 ],
 "metadata": {
  "kernelspec": {
   "display_name": "R",
   "language": "R",
   "name": "ir"
  },
  "language_info": {
   "codemirror_mode": "r",
   "file_extension": ".r",
   "mimetype": "text/x-r-source",
   "name": "R",
   "pygments_lexer": "r",
   "version": "3.6.3"
  }
 },
 "nbformat": 4,
 "nbformat_minor": 4
}
