{
 "cells": [
  {
   "cell_type": "markdown",
   "metadata": {},
   "source": [
    "This analysis is in the order of Female then Male"
   ]
  },
  {
   "cell_type": "code",
   "execution_count": 1,
   "metadata": {},
   "outputs": [
    {
     "name": "stderr",
     "output_type": "stream",
     "text": [
      "Warning message in install.packages(\"qtl\"):\n",
      "\"'lib = \"C:/Program Files/R/R-3.6.1/library\"' is not writable\"\n"
     ]
    },
    {
     "ename": "ERROR",
     "evalue": "Error in install.packages(\"qtl\"): unable to install packages\n",
     "output_type": "error",
     "traceback": [
      "Error in install.packages(\"qtl\"): unable to install packages\nTraceback:\n",
      "1. install.packages(\"qtl\")",
      "2. stop(\"unable to install packages\")"
     ]
    }
   ],
   "source": [
    "install.packages('qtl') #Main package, for analysis\n",
    "install.packages('qtlcharts') #accessory, for displaying graphs\n",
    "install.packages('LinkageMapView') #accessory, for displaying linkage maps\n",
    "install.packages('rcompanion')# for plotNormalHistogram"
   ]
  },
  {
   "cell_type": "code",
   "execution_count": 4,
   "metadata": {},
   "outputs": [],
   "source": [
    "library(qtl) #load packages\n",
    "library(qtlcharts)\n",
    "library(LinkageMapView)\n",
    "library(rcompanion)"
   ]
  },
  {
   "cell_type": "code",
   "execution_count": 5,
   "metadata": {},
   "outputs": [
    {
     "name": "stdout",
     "output_type": "stream",
     "text": [
      "[1] \"Make sure to input names AS THEY APPEAR on the csv!!\"\n"
     ]
    },
    {
     "name": "stdin",
     "output_type": "stream",
     "text": [
      "Enter file name (Either FemaleMap.csv or MaleMap.csv):  FemaleMap.csv\n",
      "First Genotype (homozygous) (For example ll):  ll\n",
      "Second Genotype (heterozygous) (for example lm):  lm\n",
      "Column Number:  26\n"
     ]
    }
   ],
   "source": [
    "#Collecting enviroment variables\n",
    "print(\"Make sure to input names AS THEY APPEAR on the csv!!\") #Just a user warning\n",
    "fileName <- readline(\"Enter file name (Either FemaleMap.csv or MaleMap.csv): \") #Mapping table file\n",
    "genotypeName <- c(readline(\"First Genotype (homozygous) (For example ll): \"),\n",
    "                  readline(\"Second Genotype (heterozygous) (for example lm): \")) #For example \"nn\", \"np\"\n",
    "alleleName <- c(substr(genotypeName[2],1,1) ,substr(genotypeName[2],2,2))\n",
    "naNames <- c(\"NA\",\"--\") #For example \"NA\", \"--\"\n",
    "colNum <- as.numeric(readline(\"Column Number: \")) #Column for pheno of interest"
   ]
  },
  {
   "cell_type": "code",
   "execution_count": 9,
   "metadata": {},
   "outputs": [
    {
     "name": "stdout",
     "output_type": "stream",
     "text": [
      " --Read the following data:\n",
      "\t 294  individuals\n",
      "\t 1100  markers\n",
      "\t 38  phenotypes\n"
     ]
    },
    {
     "name": "stderr",
     "output_type": "stream",
     "text": [
      "Warning message in summary.cross(cross):\n",
      "\"Some markers at the same position on chr 1,2,4,5,7,8,9,10,11,12,13,14,16,17,18,19; use jittermap().\"\n"
     ]
    },
    {
     "name": "stdout",
     "output_type": "stream",
     "text": [
      " --Cross type: bc \n"
     ]
    },
    {
     "data": {
      "image/png": "[encoded data removed]",
      "text/plain": [
       "Plot with title \"Genetic map\""
      ]
     },
     "metadata": {
      "image/png": {
       "height": 420,
       "width": 420
      }
     },
     "output_type": "display_data"
    }
   ],
   "source": [
    "#Map generation\n",
    "Map <- read.cross(format = 'csv',file = fileName \n",
    "                  ,genotypes = genotypeName,\n",
    "                  alleles = alleleName,na.strings = naNames) #generate linkage map\n",
    "Map <- jittermap(Map) #make sure no markers are in the same location\n",
    "Map <- calc.genoprob(Map,step = 1,map.function = \"kosambi\") #associate markers with full genotypes\n",
    "plot.map(Map) #draw linkage map"
   ]
  },
  {
   "cell_type": "code",
   "execution_count": 10,
   "metadata": {},
   "outputs": [
    {
     "data": {
      "image/png": "[encoded data removed]",
      "text/plain": [
       "Plot with title \"\""
      ]
     },
     "metadata": {
      "image/png": {
       "height": 420,
       "width": 420
      }
     },
     "output_type": "display_data"
    }
   ],
   "source": [
    "plotNormalHistogram(Map$pheno[,colNum]) #normal histogram of pheno of interest"
   ]
  },
  {
   "cell_type": "markdown",
   "metadata": {},
   "source": [
    "Outliers exist in this dataset. Will need to be analyized. "
   ]
  },
  {
   "cell_type": "code",
   "execution_count": 13,
   "metadata": {},
   "outputs": [
    {
     "name": "stderr",
     "output_type": "stream",
     "text": [
      "Warning message in checkcovar(cross, pheno.col, addcovar, intcovar, perm.strata, :\n",
      "\"addcovar appears to be over-specified; consider dropping columns.\n",
      "\"\n",
      "Warning message in checkcovar(cross, pheno.col, addcovar, intcovar, perm.strata, :\n",
      "\"addcovar appears to be over-specified; consider dropping columns.\n",
      "\"\n"
     ]
    },
    {
     "data": {
      "image/png": "[encoded data removed]",
      "text/plain": [
       "Plot with title \"\""
      ]
     },
     "metadata": {
      "image/png": {
       "height": 420,
       "width": 420
      }
     },
     "output_type": "display_data"
    }
   ],
   "source": [
    "#Compute statistically significant values\n",
    "TraitCIM1000 <- cim(Map,pheno.col = colNum,method = \"hk\",\n",
    "                    map.function = \"kosambi\",n.perm = 1000) # Function will take a moment to run, determines LOD value\n",
    "plot(TraitCIM1000,col = 'green') #show distribution of lod scores\n",
    "LOD5 <- summary(TraitCIM1000)[1]"
   ]
  },
  {
   "cell_type": "code",
   "execution_count": 19,
   "metadata": {},
   "outputs": [
    {
     "name": "stdout",
     "output_type": "stream",
     "text": [
      "[1] \"If nothing shows up, the values \\n      are below the LOD5 score\"\n"
     ]
    },
    {
     "data": {
      "text/html": [
       "<table>\n",
       "<caption>A summary.scanone: 19 × 3</caption>\n",
       "<thead>\n",
       "\t<tr><th></th><th scope=col>chr</th><th scope=col>pos</th><th scope=col>lod</th></tr>\n",
       "\t<tr><th></th><th scope=col>&lt;fct&gt;</th><th scope=col>&lt;dbl&gt;</th><th scope=col>&lt;dbl&gt;</th></tr>\n",
       "</thead>\n",
       "<tbody>\n",
       "\t<tr><th scope=row>7_7311056</th><td>1 </td><td>33.364022</td><td>0.8624361</td></tr>\n",
       "\t<tr><th scope=row>2_5186881</th><td>2 </td><td>46.031020</td><td>0.3818972</td></tr>\n",
       "\t<tr><th scope=row>c3.loc33</th><td>3 </td><td>33.000000</td><td>1.4071037</td></tr>\n",
       "\t<tr><th scope=row>4_22218751</th><td>4 </td><td>66.687063</td><td>2.3584653</td></tr>\n",
       "\t<tr><th scope=row>5_6661247</th><td>5 </td><td>30.912021</td><td>0.7757162</td></tr>\n",
       "\t<tr><th scope=row>6_17440350</th><td>6 </td><td>42.052019</td><td>1.6766309</td></tr>\n",
       "\t<tr><th scope=row>7_2682789</th><td>7 </td><td> 8.753014</td><td>0.9239060</td></tr>\n",
       "\t<tr><th scope=row>c8.loc60</th><td>8 </td><td>60.000000</td><td>1.2518009</td></tr>\n",
       "\t<tr><th scope=row>9_13407438</th><td>9 </td><td>50.029053</td><td>0.9659148</td></tr>\n",
       "\t<tr><th scope=row>c10.loc14</th><td>10</td><td>14.000000</td><td>0.6050523</td></tr>\n",
       "\t<tr><th scope=row>c11.loc49</th><td>11</td><td>49.000000</td><td>1.7057710</td></tr>\n",
       "\t<tr><th scope=row>c12.loc56</th><td>12</td><td>56.000000</td><td>1.5803202</td></tr>\n",
       "\t<tr><th scope=row>c13.loc8</th><td>13</td><td> 8.000000</td><td>2.2466960</td></tr>\n",
       "\t<tr><th scope=row>14_2427325</th><td>14</td><td>14.074002</td><td>0.7412040</td></tr>\n",
       "\t<tr><th scope=row>15_584182</th><td>15</td><td> 0.000000</td><td>2.6095710</td></tr>\n",
       "\t<tr><th scope=row>c16.loc24</th><td>16</td><td>24.000000</td><td>0.5179283</td></tr>\n",
       "\t<tr><th scope=row>c17.loc4</th><td>17</td><td> 4.000000</td><td>5.9777576</td></tr>\n",
       "\t<tr><th scope=row>c18.loc64</th><td>18</td><td>64.000000</td><td>2.3319044</td></tr>\n",
       "\t<tr><th scope=row>19_24491792</th><td>19</td><td>60.372076</td><td>0.5398007</td></tr>\n",
       "</tbody>\n",
       "</table>\n"
      ],
      "text/latex": [
       "A summary.scanone: 19 × 3\n",
       "\\begin{tabular}{r|lll}\n",
       "  & chr & pos & lod\\\\\n",
       "  & <fct> & <dbl> & <dbl>\\\\\n",
       "\\hline\n",
       "\t7\\_7311056 & 1  & 33.364022 & 0.8624361\\\\\n",
       "\t2\\_5186881 & 2  & 46.031020 & 0.3818972\\\\\n",
       "\tc3.loc33 & 3  & 33.000000 & 1.4071037\\\\\n",
       "\t4\\_22218751 & 4  & 66.687063 & 2.3584653\\\\\n",
       "\t5\\_6661247 & 5  & 30.912021 & 0.7757162\\\\\n",
       "\t6\\_17440350 & 6  & 42.052019 & 1.6766309\\\\\n",
       "\t7\\_2682789 & 7  &  8.753014 & 0.9239060\\\\\n",
       "\tc8.loc60 & 8  & 60.000000 & 1.2518009\\\\\n",
       "\t9\\_13407438 & 9  & 50.029053 & 0.9659148\\\\\n",
       "\tc10.loc14 & 10 & 14.000000 & 0.6050523\\\\\n",
       "\tc11.loc49 & 11 & 49.000000 & 1.7057710\\\\\n",
       "\tc12.loc56 & 12 & 56.000000 & 1.5803202\\\\\n",
       "\tc13.loc8 & 13 &  8.000000 & 2.2466960\\\\\n",
       "\t14\\_2427325 & 14 & 14.074002 & 0.7412040\\\\\n",
       "\t15\\_584182 & 15 &  0.000000 & 2.6095710\\\\\n",
       "\tc16.loc24 & 16 & 24.000000 & 0.5179283\\\\\n",
       "\tc17.loc4 & 17 &  4.000000 & 5.9777576\\\\\n",
       "\tc18.loc64 & 18 & 64.000000 & 2.3319044\\\\\n",
       "\t19\\_24491792 & 19 & 60.372076 & 0.5398007\\\\\n",
       "\\end{tabular}\n"
      ],
      "text/markdown": [
       "\n",
       "A summary.scanone: 19 × 3\n",
       "\n",
       "| <!--/--> | chr &lt;fct&gt; | pos &lt;dbl&gt; | lod &lt;dbl&gt; |\n",
       "|---|---|---|---|\n",
       "| 7_7311056 | 1  | 33.364022 | 0.8624361 |\n",
       "| 2_5186881 | 2  | 46.031020 | 0.3818972 |\n",
       "| c3.loc33 | 3  | 33.000000 | 1.4071037 |\n",
       "| 4_22218751 | 4  | 66.687063 | 2.3584653 |\n",
       "| 5_6661247 | 5  | 30.912021 | 0.7757162 |\n",
       "| 6_17440350 | 6  | 42.052019 | 1.6766309 |\n",
       "| 7_2682789 | 7  |  8.753014 | 0.9239060 |\n",
       "| c8.loc60 | 8  | 60.000000 | 1.2518009 |\n",
       "| 9_13407438 | 9  | 50.029053 | 0.9659148 |\n",
       "| c10.loc14 | 10 | 14.000000 | 0.6050523 |\n",
       "| c11.loc49 | 11 | 49.000000 | 1.7057710 |\n",
       "| c12.loc56 | 12 | 56.000000 | 1.5803202 |\n",
       "| c13.loc8 | 13 |  8.000000 | 2.2466960 |\n",
       "| 14_2427325 | 14 | 14.074002 | 0.7412040 |\n",
       "| 15_584182 | 15 |  0.000000 | 2.6095710 |\n",
       "| c16.loc24 | 16 | 24.000000 | 0.5179283 |\n",
       "| c17.loc4 | 17 |  4.000000 | 5.9777576 |\n",
       "| c18.loc64 | 18 | 64.000000 | 2.3319044 |\n",
       "| 19_24491792 | 19 | 60.372076 | 0.5398007 |\n",
       "\n"
      ],
      "text/plain": [
       "            chr pos       lod      \n",
       "7_7311056   1   33.364022 0.8624361\n",
       "2_5186881   2   46.031020 0.3818972\n",
       "c3.loc33    3   33.000000 1.4071037\n",
       "4_22218751  4   66.687063 2.3584653\n",
       "5_6661247   5   30.912021 0.7757162\n",
       "6_17440350  6   42.052019 1.6766309\n",
       "7_2682789   7    8.753014 0.9239060\n",
       "c8.loc60    8   60.000000 1.2518009\n",
       "9_13407438  9   50.029053 0.9659148\n",
       "c10.loc14   10  14.000000 0.6050523\n",
       "c11.loc49   11  49.000000 1.7057710\n",
       "c12.loc56   12  56.000000 1.5803202\n",
       "c13.loc8    13   8.000000 2.2466960\n",
       "14_2427325  14  14.074002 0.7412040\n",
       "15_584182   15   0.000000 2.6095710\n",
       "c16.loc24   16  24.000000 0.5179283\n",
       "c17.loc4    17   4.000000 5.9777576\n",
       "c18.loc64   18  64.000000 2.3319044\n",
       "19_24491792 19  60.372076 0.5398007"
      ]
     },
     "metadata": {},
     "output_type": "display_data"
    },
    {
     "data": {
      "image/png": "[encoded data removed]",
      "text/plain": [
       "plot without title"
      ]
     },
     "metadata": {
      "image/png": {
       "height": 420,
       "width": 420
      }
     },
     "output_type": "display_data"
    }
   ],
   "source": [
    "#Deterime LOD Values\n",
    "TraitCIM<-cim(Map,pheno.col = colNum,method = \"hk\",\n",
    "              map.function = \"kosambi\") #Generate LOD Values\n",
    "plot(TraitCIM) #show LOD graph\n",
    "abline(h = LOD5,col = \"blue\") #overlay statistically significant line\n",
    "print(\"If nothing shows up, the values \n",
    "      are below the LOD5 score\") #warning for no peaks\n",
    "summary(TraitCIM)"
   ]
  },
  {
   "cell_type": "code",
   "execution_count": 20,
   "metadata": {},
   "outputs": [
    {
     "name": "stdin",
     "output_type": "stream",
     "text": [
      "Chromosome?  17\n",
      "Would you like to investigate \n",
      "                  another chromosome? (Y/N):  y\n"
     ]
    },
    {
     "data": {
      "image/png": "[encoded data removed]",
      "text/plain": [
       "plot without title"
      ]
     },
     "metadata": {
      "image/png": {
       "height": 420,
       "width": 420
      }
     },
     "output_type": "display_data"
    }
   ],
   "source": [
    "#Chromosomal Analysis\n",
    "cont = 'Y' #Run loop on first run through\n",
    "while(cont == 'Y'){\n",
    "  chr <- as.numeric(readline(\"Chromosome? \")) #collect chromosome to look at\n",
    "  plot(TraitCIM, chr = chr) #Plot chr LOD scores\n",
    "  abline(h = LOD5, col = \"blue\") #Statistically Significant\n",
    "  cont = readline(\"Would you like to investigate \n",
    "                  another chromosome? (Y/N): \") #Y if multiple\n",
    "                  #chromosomes are to be investigated\n",
    "}"
   ]
  },
  {
   "cell_type": "code",
   "execution_count": 24,
   "metadata": {},
   "outputs": [
    {
     "data": {
      "text/html": [
       "<table>\n",
       "<caption>A scanone: 3 × 3</caption>\n",
       "<thead>\n",
       "\t<tr><th></th><th scope=col>chr</th><th scope=col>pos</th><th scope=col>lod</th></tr>\n",
       "\t<tr><th></th><th scope=col>&lt;fct&gt;</th><th scope=col>&lt;dbl&gt;</th><th scope=col>&lt;dbl&gt;</th></tr>\n",
       "</thead>\n",
       "<tbody>\n",
       "\t<tr><th scope=row>17_1417093</th><td>17</td><td> 0.00000</td><td>0.002572613</td></tr>\n",
       "\t<tr><th scope=row>c17.loc37</th><td>17</td><td>37.00000</td><td>1.010229910</td></tr>\n",
       "\t<tr><th scope=row>17_10144636</th><td>17</td><td>63.31204</td><td>0.001883870</td></tr>\n",
       "</tbody>\n",
       "</table>\n"
      ],
      "text/latex": [
       "A scanone: 3 × 3\n",
       "\\begin{tabular}{r|lll}\n",
       "  & chr & pos & lod\\\\\n",
       "  & <fct> & <dbl> & <dbl>\\\\\n",
       "\\hline\n",
       "\t17\\_1417093 & 17 &  0.00000 & 0.002572613\\\\\n",
       "\tc17.loc37 & 17 & 37.00000 & 1.010229910\\\\\n",
       "\t17\\_10144636 & 17 & 63.31204 & 0.001883870\\\\\n",
       "\\end{tabular}\n"
      ],
      "text/markdown": [
       "\n",
       "A scanone: 3 × 3\n",
       "\n",
       "| <!--/--> | chr &lt;fct&gt; | pos &lt;dbl&gt; | lod &lt;dbl&gt; |\n",
       "|---|---|---|---|\n",
       "| 17_1417093 | 17 |  0.00000 | 0.002572613 |\n",
       "| c17.loc37 | 17 | 37.00000 | 1.010229910 |\n",
       "| 17_10144636 | 17 | 63.31204 | 0.001883870 |\n",
       "\n"
      ],
      "text/plain": [
       "            chr pos      lod        \n",
       "17_1417093  17   0.00000 0.002572613\n",
       "c17.loc37   17  37.00000 1.010229910\n",
       "17_10144636 17  63.31204 0.001883870"
      ]
     },
     "metadata": {},
     "output_type": "display_data"
    },
    {
     "data": {
      "text/html": [
       "<table>\n",
       "<caption>A scanone: 3 × 3</caption>\n",
       "<thead>\n",
       "\t<tr><th></th><th scope=col>chr</th><th scope=col>pos</th><th scope=col>lod</th></tr>\n",
       "\t<tr><th></th><th scope=col>&lt;fct&gt;</th><th scope=col>&lt;dbl&gt;</th><th scope=col>&lt;dbl&gt;</th></tr>\n",
       "</thead>\n",
       "<tbody>\n",
       "\t<tr><th scope=row>17_1417093</th><td>17</td><td> 0.00000</td><td>0.002572613</td></tr>\n",
       "\t<tr><th scope=row>c17.loc37</th><td>17</td><td>37.00000</td><td>1.010229910</td></tr>\n",
       "\t<tr><th scope=row>17_10144636</th><td>17</td><td>63.31204</td><td>0.001883870</td></tr>\n",
       "</tbody>\n",
       "</table>\n"
      ],
      "text/latex": [
       "A scanone: 3 × 3\n",
       "\\begin{tabular}{r|lll}\n",
       "  & chr & pos & lod\\\\\n",
       "  & <fct> & <dbl> & <dbl>\\\\\n",
       "\\hline\n",
       "\t17\\_1417093 & 17 &  0.00000 & 0.002572613\\\\\n",
       "\tc17.loc37 & 17 & 37.00000 & 1.010229910\\\\\n",
       "\t17\\_10144636 & 17 & 63.31204 & 0.001883870\\\\\n",
       "\\end{tabular}\n"
      ],
      "text/markdown": [
       "\n",
       "A scanone: 3 × 3\n",
       "\n",
       "| <!--/--> | chr &lt;fct&gt; | pos &lt;dbl&gt; | lod &lt;dbl&gt; |\n",
       "|---|---|---|---|\n",
       "| 17_1417093 | 17 |  0.00000 | 0.002572613 |\n",
       "| c17.loc37 | 17 | 37.00000 | 1.010229910 |\n",
       "| 17_10144636 | 17 | 63.31204 | 0.001883870 |\n",
       "\n"
      ],
      "text/plain": [
       "            chr pos      lod        \n",
       "17_1417093  17   0.00000 0.002572613\n",
       "c17.loc37   17  37.00000 1.010229910\n",
       "17_10144636 17  63.31204 0.001883870"
      ]
     },
     "metadata": {},
     "output_type": "display_data"
    }
   ],
   "source": [
    "bay <- scanone(Map, method = 'hk') #scan genome with sQTL model\n",
    "bayesint(bay, chr = chr, prob=0.95, \n",
    "         expandtomarkers=TRUE) #calculate bayesian interval\n",
    "lodint(bay, chr = chr,expandtomarkers = TRUE ) #calculate LOD Support interval"
   ]
  },
  {
   "cell_type": "code",
   "execution_count": 36,
   "metadata": {},
   "outputs": [
    {
     "name": "stdin",
     "output_type": "stream",
     "text": [
      "Position for analysis:  31\n"
     ]
    },
    {
     "name": "stderr",
     "output_type": "stream",
     "text": [
      "Warning message in getsex(cross):\n",
      "\"125 individuals with missing sex; assuming they're female\"\n",
      "Warning message in fitqtlengine(pheno = pheno, qtl = qtl, covar = covar, formula = formula, :\n",
      "\"Dropping 127 individuals with missing phenotypes.\n",
      "\"\n",
      "Warning message in getsex(cross):\n",
      "\"125 individuals with missing sex; assuming they're female\"\n"
     ]
    },
    {
     "data": {
      "text/plain": [
       "\n",
       "\t\tfitqtl summary\n",
       "\n",
       "Method: Haley-Knott regression \n",
       "Model:  normal phenotype\n",
       "Number of observations : 167 \n",
       "\n",
       "Full model result\n",
       "----------------------------------  \n",
       "Model formula: y ~ Q1 \n",
       "\n",
       "       df        SS         MS      LOD    %var Pvalue(Chi2)    Pvalue(F)\n",
       "Model   1  17.73632 17.7363229 4.239014 11.0321 9.947993e-06 1.158899e-05\n",
       "Error 165 143.03389  0.8668721                                           \n",
       "Total 166 160.77022                                                      \n",
       "\n",
       "\n",
       "Estimated effects:\n",
       "-----------------\n",
       "               est       SE      t\n",
       "Intercept  1.35296  0.07226 18.724\n",
       "8@31.0    -3.50042  0.77387 -4.523\n"
      ]
     },
     "metadata": {},
     "output_type": "display_data"
    }
   ],
   "source": [
    "p <- as.numeric(readline(\"Position for analysis: \"))\n",
    "qtl <- makeqtl(Map, chr = chr, pos = p, what=\"prob\") #pulls genotype probabilities\n",
    "fitqtl <- fitqtl(Map, pheno.col=colNum, qtl = qtl, covar=NULL,\n",
    "       method= \"hk\",model=\"normal\",\n",
    "       dropone=TRUE, get.ests=TRUE,run.checks=TRUE,\n",
    "       tol=1e-4, maxit=1000, forceXcovar=FALSE) #sees how well our data fits a given formula \n",
    "          # If you see \"error: object of type 'closure' is not subsettable\", remove \"formula,\" from the fitqtl argument list.\n",
    "summary(fitqtl) #Print results of the analysis"
   ]
  },
  {
   "cell_type": "code",
   "execution_count": 4,
   "metadata": {},
   "outputs": [
    {
     "name": "stdout",
     "output_type": "stream",
     "text": [
      "[1] \"Make sure to input names AS THEY APPEAR on the csv!!\"\n"
     ]
    },
    {
     "name": "stdin",
     "output_type": "stream",
     "text": [
      "Enter file name (Either FemaleMap.csv or MaleMap.csv):  MaleMap.csv\n",
      "First Genotype (homozygous) (For example ll):  nn\n",
      "Second Genotype (heterozygous) (for example lm):  np\n",
      "Column Number:  29\n"
     ]
    }
   ],
   "source": [
    "#Collecting enviroment variables\n",
    "print(\"Make sure to input names AS THEY APPEAR on the csv!!\") #Just a user warning\n",
    "fileName <- readline(\"Enter file name (Either FemaleMap.csv or MaleMap.csv): \") #Mapping table file\n",
    "genotypeName <- c(readline(\"First Genotype (homozygous) (For example ll): \"),\n",
    "                  readline(\"Second Genotype (heterozygous) (for example lm): \")) #For example \"nn\", \"np\"\n",
    "alleleName <- c(substr(genotypeName[2],1,1) ,substr(genotypeName[2],2,2))\n",
    "naNames <- c(\"NA\",\"--\") #For example \"NA\", \"--\"\n",
    "colNum <- as.numeric(readline(\"Column Number: \")) #Column for pheno of interest"
   ]
  },
  {
   "cell_type": "code",
   "execution_count": 5,
   "metadata": {},
   "outputs": [
    {
     "name": "stdout",
     "output_type": "stream",
     "text": [
      " --Read the following data:\n",
      "\t 294  individuals\n",
      "\t 1128  markers\n",
      "\t 38  phenotypes\n"
     ]
    },
    {
     "name": "stderr",
     "output_type": "stream",
     "text": [
      "Warning message in summary.cross(cross):\n",
      "\"Some markers at the same position on chr 1,3,4,5,6,7,8,9,10,12,13,14,15,16,17,18,19; use jittermap().\"\n"
     ]
    },
    {
     "name": "stdout",
     "output_type": "stream",
     "text": [
      " --Cross type: bc \n"
     ]
    },
    {
     "data": {
      "image/png": "[encoded data removed]",
      "text/plain": [
       "Plot with title \"Genetic map\""
      ]
     },
     "metadata": {
      "image/png": {
       "height": 420,
       "width": 420
      },
      "text/plain": {
       "height": 420,
       "width": 420
      }
     },
     "output_type": "display_data"
    }
   ],
   "source": [
    "#Map generation\n",
    "Map <- read.cross(format = 'csv',file = fileName \n",
    "                  ,genotypes = genotypeName,\n",
    "                  alleles = alleleName,na.strings = naNames) #generate linkage map\n",
    "Map <- jittermap(Map) #make sure no markers are in the same location\n",
    "Map <- calc.genoprob(Map,step = 1,map.function = \"kosambi\") #associate markers with full genotypes\n",
    "plot.map(Map) #draw linkage map"
   ]
  },
  {
   "cell_type": "code",
   "execution_count": 6,
   "metadata": {},
   "outputs": [
    {
     "data": {
      "image/png": "[encoded data removed]",
      "text/plain": [
       "Plot with title \"\""
      ]
     },
     "metadata": {
      "image/png": {
       "height": 420,
       "width": 420
      },
      "text/plain": {
       "height": 420,
       "width": 420
      }
     },
     "output_type": "display_data"
    }
   ],
   "source": [
    "plotNormalHistogram(Map$pheno[,colNum]) #normal histogram of pheno of interest"
   ]
  },
  {
   "cell_type": "markdown",
   "metadata": {},
   "source": [
    "Outliers exist in this data. "
   ]
  },
  {
   "cell_type": "code",
   "execution_count": 7,
   "metadata": {},
   "outputs": [
    {
     "data": {
      "image/png": "[encoded data removed]",
      "text/plain": [
       "Plot with title \"\""
      ]
     },
     "metadata": {
      "image/png": {
       "height": 420,
       "width": 420
      },
      "text/plain": {
       "height": 420,
       "width": 420
      }
     },
     "output_type": "display_data"
    }
   ],
   "source": [
    "#Compute statistically significant values\n",
    "TraitCIM1000 <- cim(Map,pheno.col = colNum,method = \"hk\",\n",
    "                    map.function = \"kosambi\",n.perm = 1000) # Function will take a moment to run, determines LOD value\n",
    "plot(TraitCIM1000,col = 'green') #show distribution of lod scores\n",
    "LOD5 <- summary(TraitCIM1000)[1]"
   ]
  },
  {
   "cell_type": "code",
   "execution_count": 8,
   "metadata": {},
   "outputs": [
    {
     "name": "stdout",
     "output_type": "stream",
     "text": [
      "[1] \"If nothing shows up, the values \\n      are below the LOD5 score\"\n"
     ]
    },
    {
     "data": {
      "text/html": [
       "<table>\n",
       "<caption>A summary.scanone: 19 × 3</caption>\n",
       "<thead>\n",
       "\t<tr><th></th><th scope=col>chr</th><th scope=col>pos</th><th scope=col>lod</th></tr>\n",
       "\t<tr><th></th><th scope=col>&lt;fct&gt;</th><th scope=col>&lt;dbl&gt;</th><th scope=col>&lt;dbl&gt;</th></tr>\n",
       "</thead>\n",
       "<tbody>\n",
       "\t<tr><th scope=row>1_6912064</th><td>1 </td><td> 36.67603</td><td>0.9000904</td></tr>\n",
       "\t<tr><th scope=row>c2.loc68</th><td>2 </td><td> 68.00000</td><td>0.9856979</td></tr>\n",
       "\t<tr><th scope=row>c3.loc66</th><td>3 </td><td> 66.00000</td><td>0.6956193</td></tr>\n",
       "\t<tr><th scope=row>c4.loc44</th><td>4 </td><td> 44.00000</td><td>2.2191516</td></tr>\n",
       "\t<tr><th scope=row>5_20828642</th><td>5 </td><td> 65.22304</td><td>0.2071230</td></tr>\n",
       "\t<tr><th scope=row>c6.loc16</th><td>6 </td><td> 16.00000</td><td>0.7972189</td></tr>\n",
       "\t<tr><th scope=row>c7.loc106</th><td>7 </td><td>106.00000</td><td>0.8758886</td></tr>\n",
       "\t<tr><th scope=row>8_21195687</th><td>8 </td><td> 84.31204</td><td>1.9984150</td></tr>\n",
       "\t<tr><th scope=row>c9.loc30</th><td>9 </td><td> 30.00000</td><td>0.8543805</td></tr>\n",
       "\t<tr><th scope=row>c10.loc12</th><td>10</td><td> 12.00000</td><td>0.5727525</td></tr>\n",
       "\t<tr><th scope=row>c11.loc46</th><td>11</td><td> 46.00000</td><td>0.4668395</td></tr>\n",
       "\t<tr><th scope=row>c12.loc28</th><td>12</td><td> 28.00000</td><td>1.6431932</td></tr>\n",
       "\t<tr><th scope=row>c13.loc73</th><td>13</td><td> 73.00000</td><td>1.0489967</td></tr>\n",
       "\t<tr><th scope=row>14_16487533</th><td>14</td><td> 35.47904</td><td>1.5894039</td></tr>\n",
       "\t<tr><th scope=row>c15.loc9</th><td>15</td><td>  9.00000</td><td>1.1751828</td></tr>\n",
       "\t<tr><th scope=row>c16.loc22</th><td>16</td><td> 22.00000</td><td>1.3159715</td></tr>\n",
       "\t<tr><th scope=row>c17.loc14</th><td>17</td><td> 14.00000</td><td>1.6035240</td></tr>\n",
       "\t<tr><th scope=row>5_4316098</th><td>18</td><td>101.79705</td><td>1.4389890</td></tr>\n",
       "\t<tr><th scope=row>c19.loc44</th><td>19</td><td> 44.00000</td><td>1.6287205</td></tr>\n",
       "</tbody>\n",
       "</table>\n"
      ],
      "text/latex": [
       "A summary.scanone: 19 × 3\n",
       "\\begin{tabular}{r|lll}\n",
       "  & chr & pos & lod\\\\\n",
       "  & <fct> & <dbl> & <dbl>\\\\\n",
       "\\hline\n",
       "\t1\\_6912064 & 1  &  36.67603 & 0.9000904\\\\\n",
       "\tc2.loc68 & 2  &  68.00000 & 0.9856979\\\\\n",
       "\tc3.loc66 & 3  &  66.00000 & 0.6956193\\\\\n",
       "\tc4.loc44 & 4  &  44.00000 & 2.2191516\\\\\n",
       "\t5\\_20828642 & 5  &  65.22304 & 0.2071230\\\\\n",
       "\tc6.loc16 & 6  &  16.00000 & 0.7972189\\\\\n",
       "\tc7.loc106 & 7  & 106.00000 & 0.8758886\\\\\n",
       "\t8\\_21195687 & 8  &  84.31204 & 1.9984150\\\\\n",
       "\tc9.loc30 & 9  &  30.00000 & 0.8543805\\\\\n",
       "\tc10.loc12 & 10 &  12.00000 & 0.5727525\\\\\n",
       "\tc11.loc46 & 11 &  46.00000 & 0.4668395\\\\\n",
       "\tc12.loc28 & 12 &  28.00000 & 1.6431932\\\\\n",
       "\tc13.loc73 & 13 &  73.00000 & 1.0489967\\\\\n",
       "\t14\\_16487533 & 14 &  35.47904 & 1.5894039\\\\\n",
       "\tc15.loc9 & 15 &   9.00000 & 1.1751828\\\\\n",
       "\tc16.loc22 & 16 &  22.00000 & 1.3159715\\\\\n",
       "\tc17.loc14 & 17 &  14.00000 & 1.6035240\\\\\n",
       "\t5\\_4316098 & 18 & 101.79705 & 1.4389890\\\\\n",
       "\tc19.loc44 & 19 &  44.00000 & 1.6287205\\\\\n",
       "\\end{tabular}\n"
      ],
      "text/markdown": [
       "\n",
       "A summary.scanone: 19 × 3\n",
       "\n",
       "| <!--/--> | chr &lt;fct&gt; | pos &lt;dbl&gt; | lod &lt;dbl&gt; |\n",
       "|---|---|---|---|\n",
       "| 1_6912064 | 1  |  36.67603 | 0.9000904 |\n",
       "| c2.loc68 | 2  |  68.00000 | 0.9856979 |\n",
       "| c3.loc66 | 3  |  66.00000 | 0.6956193 |\n",
       "| c4.loc44 | 4  |  44.00000 | 2.2191516 |\n",
       "| 5_20828642 | 5  |  65.22304 | 0.2071230 |\n",
       "| c6.loc16 | 6  |  16.00000 | 0.7972189 |\n",
       "| c7.loc106 | 7  | 106.00000 | 0.8758886 |\n",
       "| 8_21195687 | 8  |  84.31204 | 1.9984150 |\n",
       "| c9.loc30 | 9  |  30.00000 | 0.8543805 |\n",
       "| c10.loc12 | 10 |  12.00000 | 0.5727525 |\n",
       "| c11.loc46 | 11 |  46.00000 | 0.4668395 |\n",
       "| c12.loc28 | 12 |  28.00000 | 1.6431932 |\n",
       "| c13.loc73 | 13 |  73.00000 | 1.0489967 |\n",
       "| 14_16487533 | 14 |  35.47904 | 1.5894039 |\n",
       "| c15.loc9 | 15 |   9.00000 | 1.1751828 |\n",
       "| c16.loc22 | 16 |  22.00000 | 1.3159715 |\n",
       "| c17.loc14 | 17 |  14.00000 | 1.6035240 |\n",
       "| 5_4316098 | 18 | 101.79705 | 1.4389890 |\n",
       "| c19.loc44 | 19 |  44.00000 | 1.6287205 |\n",
       "\n"
      ],
      "text/plain": [
       "            chr pos       lod      \n",
       "1_6912064   1    36.67603 0.9000904\n",
       "c2.loc68    2    68.00000 0.9856979\n",
       "c3.loc66    3    66.00000 0.6956193\n",
       "c4.loc44    4    44.00000 2.2191516\n",
       "5_20828642  5    65.22304 0.2071230\n",
       "c6.loc16    6    16.00000 0.7972189\n",
       "c7.loc106   7   106.00000 0.8758886\n",
       "8_21195687  8    84.31204 1.9984150\n",
       "c9.loc30    9    30.00000 0.8543805\n",
       "c10.loc12   10   12.00000 0.5727525\n",
       "c11.loc46   11   46.00000 0.4668395\n",
       "c12.loc28   12   28.00000 1.6431932\n",
       "c13.loc73   13   73.00000 1.0489967\n",
       "14_16487533 14   35.47904 1.5894039\n",
       "c15.loc9    15    9.00000 1.1751828\n",
       "c16.loc22   16   22.00000 1.3159715\n",
       "c17.loc14   17   14.00000 1.6035240\n",
       "5_4316098   18  101.79705 1.4389890\n",
       "c19.loc44   19   44.00000 1.6287205"
      ]
     },
     "metadata": {},
     "output_type": "display_data"
    },
    {
     "data": {
      "image/png": "[encoded data removed]",
      "text/plain": [
       "plot without title"
      ]
     },
     "metadata": {
      "image/png": {
       "height": 420,
       "width": 420
      },
      "text/plain": {
       "height": 420,
       "width": 420
      }
     },
     "output_type": "display_data"
    }
   ],
   "source": [
    "#Deterime LOD Values\n",
    "TraitCIM<-cim(Map,pheno.col = colNum,method = \"hk\",\n",
    "              map.function = \"kosambi\") #Generate LOD Values\n",
    "plot(TraitCIM) #show LOD graph\n",
    "abline(h = LOD5,col = \"blue\") #overlay statistically significant line\n",
    "print(\"If nothing shows up, the values \n",
    "      are below the LOD5 score\") #warning for no peaks\n",
    "summary(TraitCIM)"
   ]
  }
 ],
 "metadata": {
  "kernelspec": {
   "display_name": "R",
   "language": "R",
   "name": "ir"
  },
  "language_info": {
   "codemirror_mode": "r",
   "file_extension": ".r",
   "mimetype": "text/x-r-source",
   "name": "R",
   "pygments_lexer": "r",
   "version": "3.6.1"
  }
 },
 "nbformat": 4,
 "nbformat_minor": 4
}
