{
 "cells": [
  {
   "cell_type": "markdown",
   "metadata": {},
   "source": [
    "This analysis is in the order of Female then Male"
   ]
  },
  {
   "cell_type": "code",
   "execution_count": 1,
   "metadata": {},
   "outputs": [
    {
     "name": "stderr",
     "output_type": "stream",
     "text": [
      "Warning message in install.packages(\"qtl\"):\n",
      "\"'lib = \"C:/Program Files/R/R-3.6.1/library\"' is not writable\"\n"
     ]
    },
    {
     "ename": "ERROR",
     "evalue": "Error in install.packages(\"qtl\"): unable to install packages\n",
     "output_type": "error",
     "traceback": [
      "Error in install.packages(\"qtl\"): unable to install packages\nTraceback:\n",
      "1. install.packages(\"qtl\")",
      "2. stop(\"unable to install packages\")"
     ]
    }
   ],
   "source": [
    "install.packages('qtl') #Main package, for analysis\n",
    "install.packages('qtlcharts') #accessory, for displaying graphs\n",
    "install.packages('LinkageMapView') #accessory, for displaying linkage maps\n",
    "install.packages('rcompanion')# for plotNormalHistogram"
   ]
  },
  {
   "cell_type": "code",
   "execution_count": 2,
   "metadata": {},
   "outputs": [],
   "source": [
    "library(qtl) #load packages\n",
    "library(qtlcharts)\n",
    "library(LinkageMapView)\n",
    "library(rcompanion)"
   ]
  },
  {
   "cell_type": "code",
   "execution_count": 3,
   "metadata": {},
   "outputs": [
    {
     "name": "stdout",
     "output_type": "stream",
     "text": [
      "[1] \"Make sure to input names AS THEY APPEAR on the csv!!\"\n"
     ]
    },
    {
     "name": "stdin",
     "output_type": "stream",
     "text": [
      "Enter file name (Either FemaleMap.csv or MaleMap.csv):  FemaleMap.csv\n",
      "First Genotype (homozygous) (For example ll):  ll\n",
      "Second Genotype (heterozygous) (for example lm):  lm\n",
      "Column Number:  26\n"
     ]
    }
   ],
   "source": [
    "#Collecting enviroment variables\n",
    "print(\"Make sure to input names AS THEY APPEAR on the csv!!\") #Just a user warning\n",
    "fileName <- readline(\"Enter file name (Either FemaleMap.csv or MaleMap.csv): \") #Mapping table file\n",
    "genotypeName <- c(readline(\"First Genotype (homozygous) (For example ll): \"),\n",
    "                  readline(\"Second Genotype (heterozygous) (for example lm): \")) #For example \"nn\", \"np\"\n",
    "alleleName <- c(substr(genotypeName[2],1,1) ,substr(genotypeName[2],2,2))\n",
    "naNames <- c(\"NA\",\"--\") #For example \"NA\", \"--\"\n",
    "colNum <- as.numeric(readline(\"Column Number: \")) #Column for pheno of interest"
   ]
  },
  {
   "cell_type": "code",
   "execution_count": 4,
   "metadata": {},
   "outputs": [
    {
     "name": "stdout",
     "output_type": "stream",
     "text": [
      " --Read the following data:\n",
      "\t 294  individuals\n",
      "\t 1100  markers\n",
      "\t 38  phenotypes\n"
     ]
    },
    {
     "name": "stderr",
     "output_type": "stream",
     "text": [
      "Warning message in summary.cross(cross):\n",
      "\"Some markers at the same position on chr 1,2,4,5,7,8,9,10,11,12,13,14,16,17,18,19; use jittermap().\"\n"
     ]
    },
    {
     "name": "stdout",
     "output_type": "stream",
     "text": [
      " --Cross type: bc \n"
     ]
    },
    {
     "data": {
      "image/png": "[encoded data removed]",
      "text/plain": [
       "Plot with title \"Genetic map\""
      ]
     },
     "metadata": {
      "image/png": {
       "height": 420,
       "width": 420
      },
      "text/plain": {
       "height": 420,
       "width": 420
      }
     },
     "output_type": "display_data"
    }
   ],
   "source": [
    "#Map generation\n",
    "Map <- read.cross(format = 'csv',file = fileName \n",
    "                  ,genotypes = genotypeName,\n",
    "                  alleles = alleleName,na.strings = naNames) #generate linkage map\n",
    "Map <- jittermap(Map) #make sure no markers are in the same location\n",
    "Map <- calc.genoprob(Map,step = 1,map.function = \"kosambi\") #associate markers with full genotypes\n",
    "plot.map(Map) #draw linkage map"
   ]
  },
  {
   "cell_type": "code",
   "execution_count": 5,
   "metadata": {},
   "outputs": [
    {
     "data": {
      "image/png": "[encoded data removed]",
      "text/plain": [
       "Plot with title \"\""
      ]
     },
     "metadata": {
      "image/png": {
       "height": 420,
       "width": 420
      },
      "text/plain": {
       "height": 420,
       "width": 420
      }
     },
     "output_type": "display_data"
    }
   ],
   "source": [
    "plotNormalHistogram(Map$pheno[,colNum]) #normal histogram of pheno of interest"
   ]
  },
  {
   "cell_type": "markdown",
   "metadata": {},
   "source": [
    "Outliers exist in this dataset. Will need to be analyized. "
   ]
  },
  {
   "cell_type": "code",
   "execution_count": 6,
   "metadata": {},
   "outputs": [
    {
     "name": "stderr",
     "output_type": "stream",
     "text": [
      "Warning message in checkcovar(cross, pheno.col, addcovar, intcovar, perm.strata, :\n",
      "\"addcovar appears to be over-specified; consider dropping columns.\n",
      "\"\n",
      "Warning message in checkcovar(cross, pheno.col, addcovar, intcovar, perm.strata, :\n",
      "\"addcovar appears to be over-specified; consider dropping columns.\n",
      "\"\n",
      "Warning message in checkcovar(cross, pheno.col, addcovar, intcovar, perm.strata, :\n",
      "\"addcovar appears to be over-specified; consider dropping columns.\n",
      "\"\n",
      "Warning message in checkcovar(cross, pheno.col, addcovar, intcovar, perm.strata, :\n",
      "\"addcovar appears to be over-specified; consider dropping columns.\n",
      "\"\n"
     ]
    },
    {
     "data": {
      "image/png": "[encoded data removed]",
      "text/plain": [
       "Plot with title \"\""
      ]
     },
     "metadata": {
      "image/png": {
       "height": 420,
       "width": 420
      },
      "text/plain": {
       "height": 420,
       "width": 420
      }
     },
     "output_type": "display_data"
    }
   ],
   "source": [
    "#Compute statistically significant values\n",
    "TraitCIM1000 <- cim(Map,pheno.col = colNum,method = \"hk\",\n",
    "                    map.function = \"kosambi\",n.perm = 1000) # Function will take a moment to run, determines LOD value\n",
    "plot(TraitCIM1000,col = 'green') #show distribution of lod scores\n",
    "LOD5 <- summary(TraitCIM1000)[1]"
   ]
  },
  {
   "cell_type": "code",
   "execution_count": 8,
   "metadata": {},
   "outputs": [
    {
     "name": "stdout",
     "output_type": "stream",
     "text": [
      "[1] \"If nothing shows up, the values \\n      are below the LOD5 score\"\n"
     ]
    },
    {
     "data": {
      "text/html": [
       "<table>\n",
       "<caption>A summary.scanone: 19 × 3</caption>\n",
       "<thead>\n",
       "\t<tr><th></th><th scope=col>chr</th><th scope=col>pos</th><th scope=col>lod</th></tr>\n",
       "\t<tr><th></th><th scope=col>&lt;fct&gt;</th><th scope=col>&lt;dbl&gt;</th><th scope=col>&lt;dbl&gt;</th></tr>\n",
       "</thead>\n",
       "<tbody>\n",
       "\t<tr><th scope=row>7_7311056</th><td>1 </td><td>33.364022</td><td>0.7270676</td></tr>\n",
       "\t<tr><th scope=row>2_5186881</th><td>2 </td><td>46.031020</td><td>0.4261576</td></tr>\n",
       "\t<tr><th scope=row>3_5645733</th><td>3 </td><td>33.148028</td><td>1.3317243</td></tr>\n",
       "\t<tr><th scope=row>4_18994424</th><td>4 </td><td>53.096048</td><td>2.4247609</td></tr>\n",
       "\t<tr><th scope=row>5_7648545</th><td>5 </td><td>37.038025</td><td>0.6370630</td></tr>\n",
       "\t<tr><th scope=row>6_17440350</th><td>6 </td><td>42.052019</td><td>1.4508202</td></tr>\n",
       "\t<tr><th scope=row>c7.loc45</th><td>7 </td><td>45.000000</td><td>0.7235008</td></tr>\n",
       "\t<tr><th scope=row>c8.loc60</th><td>8 </td><td>60.000000</td><td>1.6585663</td></tr>\n",
       "\t<tr><th scope=row>9_13407438</th><td>9 </td><td>50.029053</td><td>1.1919125</td></tr>\n",
       "\t<tr><th scope=row>10_4125692</th><td>10</td><td>14.624011</td><td>0.6238581</td></tr>\n",
       "\t<tr><th scope=row>c11.loc54</th><td>11</td><td>54.000000</td><td>1.5897226</td></tr>\n",
       "\t<tr><th scope=row>c12.loc83</th><td>12</td><td>83.000000</td><td>1.3414370</td></tr>\n",
       "\t<tr><th scope=row>c13.loc8</th><td>13</td><td> 8.000000</td><td>1.8397266</td></tr>\n",
       "\t<tr><th scope=row>14_2427325</th><td>14</td><td>14.074002</td><td>0.9840402</td></tr>\n",
       "\t<tr><th scope=row>15_584182</th><td>15</td><td> 0.000000</td><td>3.2198635</td></tr>\n",
       "\t<tr><th scope=row>16_1261805</th><td>16</td><td> 3.022002</td><td>0.4668452</td></tr>\n",
       "\t<tr><th scope=row>c17.loc4</th><td>17</td><td> 4.000000</td><td>5.6041739</td></tr>\n",
       "\t<tr><th scope=row>c18.loc65</th><td>18</td><td>65.000000</td><td>2.4044111</td></tr>\n",
       "\t<tr><th scope=row>19_6943573</th><td>19</td><td>36.134045</td><td>0.5545851</td></tr>\n",
       "</tbody>\n",
       "</table>\n"
      ],
      "text/latex": [
       "A summary.scanone: 19 × 3\n",
       "\\begin{tabular}{r|lll}\n",
       "  & chr & pos & lod\\\\\n",
       "  & <fct> & <dbl> & <dbl>\\\\\n",
       "\\hline\n",
       "\t7\\_7311056 & 1  & 33.364022 & 0.7270676\\\\\n",
       "\t2\\_5186881 & 2  & 46.031020 & 0.4261576\\\\\n",
       "\t3\\_5645733 & 3  & 33.148028 & 1.3317243\\\\\n",
       "\t4\\_18994424 & 4  & 53.096048 & 2.4247609\\\\\n",
       "\t5\\_7648545 & 5  & 37.038025 & 0.6370630\\\\\n",
       "\t6\\_17440350 & 6  & 42.052019 & 1.4508202\\\\\n",
       "\tc7.loc45 & 7  & 45.000000 & 0.7235008\\\\\n",
       "\tc8.loc60 & 8  & 60.000000 & 1.6585663\\\\\n",
       "\t9\\_13407438 & 9  & 50.029053 & 1.1919125\\\\\n",
       "\t10\\_4125692 & 10 & 14.624011 & 0.6238581\\\\\n",
       "\tc11.loc54 & 11 & 54.000000 & 1.5897226\\\\\n",
       "\tc12.loc83 & 12 & 83.000000 & 1.3414370\\\\\n",
       "\tc13.loc8 & 13 &  8.000000 & 1.8397266\\\\\n",
       "\t14\\_2427325 & 14 & 14.074002 & 0.9840402\\\\\n",
       "\t15\\_584182 & 15 &  0.000000 & 3.2198635\\\\\n",
       "\t16\\_1261805 & 16 &  3.022002 & 0.4668452\\\\\n",
       "\tc17.loc4 & 17 &  4.000000 & 5.6041739\\\\\n",
       "\tc18.loc65 & 18 & 65.000000 & 2.4044111\\\\\n",
       "\t19\\_6943573 & 19 & 36.134045 & 0.5545851\\\\\n",
       "\\end{tabular}\n"
      ],
      "text/markdown": [
       "\n",
       "A summary.scanone: 19 × 3\n",
       "\n",
       "| <!--/--> | chr &lt;fct&gt; | pos &lt;dbl&gt; | lod &lt;dbl&gt; |\n",
       "|---|---|---|---|\n",
       "| 7_7311056 | 1  | 33.364022 | 0.7270676 |\n",
       "| 2_5186881 | 2  | 46.031020 | 0.4261576 |\n",
       "| 3_5645733 | 3  | 33.148028 | 1.3317243 |\n",
       "| 4_18994424 | 4  | 53.096048 | 2.4247609 |\n",
       "| 5_7648545 | 5  | 37.038025 | 0.6370630 |\n",
       "| 6_17440350 | 6  | 42.052019 | 1.4508202 |\n",
       "| c7.loc45 | 7  | 45.000000 | 0.7235008 |\n",
       "| c8.loc60 | 8  | 60.000000 | 1.6585663 |\n",
       "| 9_13407438 | 9  | 50.029053 | 1.1919125 |\n",
       "| 10_4125692 | 10 | 14.624011 | 0.6238581 |\n",
       "| c11.loc54 | 11 | 54.000000 | 1.5897226 |\n",
       "| c12.loc83 | 12 | 83.000000 | 1.3414370 |\n",
       "| c13.loc8 | 13 |  8.000000 | 1.8397266 |\n",
       "| 14_2427325 | 14 | 14.074002 | 0.9840402 |\n",
       "| 15_584182 | 15 |  0.000000 | 3.2198635 |\n",
       "| 16_1261805 | 16 |  3.022002 | 0.4668452 |\n",
       "| c17.loc4 | 17 |  4.000000 | 5.6041739 |\n",
       "| c18.loc65 | 18 | 65.000000 | 2.4044111 |\n",
       "| 19_6943573 | 19 | 36.134045 | 0.5545851 |\n",
       "\n"
      ],
      "text/plain": [
       "           chr pos       lod      \n",
       "7_7311056  1   33.364022 0.7270676\n",
       "2_5186881  2   46.031020 0.4261576\n",
       "3_5645733  3   33.148028 1.3317243\n",
       "4_18994424 4   53.096048 2.4247609\n",
       "5_7648545  5   37.038025 0.6370630\n",
       "6_17440350 6   42.052019 1.4508202\n",
       "c7.loc45   7   45.000000 0.7235008\n",
       "c8.loc60   8   60.000000 1.6585663\n",
       "9_13407438 9   50.029053 1.1919125\n",
       "10_4125692 10  14.624011 0.6238581\n",
       "c11.loc54  11  54.000000 1.5897226\n",
       "c12.loc83  12  83.000000 1.3414370\n",
       "c13.loc8   13   8.000000 1.8397266\n",
       "14_2427325 14  14.074002 0.9840402\n",
       "15_584182  15   0.000000 3.2198635\n",
       "16_1261805 16   3.022002 0.4668452\n",
       "c17.loc4   17   4.000000 5.6041739\n",
       "c18.loc65  18  65.000000 2.4044111\n",
       "19_6943573 19  36.134045 0.5545851"
      ]
     },
     "metadata": {},
     "output_type": "display_data"
    },
    {
     "data": {
      "image/png": "[encoded data removed]",
      "text/plain": [
       "plot without title"
      ]
     },
     "metadata": {
      "image/png": {
       "height": 420,
       "width": 420
      },
      "text/plain": {
       "height": 420,
       "width": 420
      }
     },
     "output_type": "display_data"
    }
   ],
   "source": [
    "#Deterime LOD Values\n",
    "TraitCIM<-cim(Map,pheno.col = colNum,method = \"hk\",\n",
    "              map.function = \"kosambi\") #Generate LOD Values\n",
    "plot(TraitCIM) #show LOD graph\n",
    "abline(h = LOD5,col = \"blue\") #overlay statistically significant line\n",
    "print(\"If nothing shows up, the values \n",
    "      are below the LOD5 score\") #warning for no peaks\n",
    "summary(TraitCIM)"
   ]
  },
  {
   "cell_type": "code",
   "execution_count": 20,
   "metadata": {},
   "outputs": [
    {
     "name": "stdin",
     "output_type": "stream",
     "text": [
      "Chromosome?  17\n",
      "Would you like to investigate \n",
      "                  another chromosome? (Y/N):  y\n"
     ]
    },
    {
     "data": {
      "image/png": "[encoded data removed]",
      "text/plain": [
       "plot without title"
      ]
     },
     "metadata": {
      "image/png": {
       "height": 420,
       "width": 420
      }
     },
     "output_type": "display_data"
    }
   ],
   "source": [
    "#Chromosomal Analysis\n",
    "cont = 'Y' #Run loop on first run through\n",
    "while(cont == 'Y'){\n",
    "  chr <- as.numeric(readline(\"Chromosome? \")) #collect chromosome to look at\n",
    "  plot(TraitCIM, chr = chr) #Plot chr LOD scores\n",
    "  abline(h = LOD5, col = \"blue\") #Statistically Significant\n",
    "  cont = readline(\"Would you like to investigate \n",
    "                  another chromosome? (Y/N): \") #Y if multiple\n",
    "                  #chromosomes are to be investigated\n",
    "}"
   ]
  },
  {
   "cell_type": "code",
   "execution_count": 24,
   "metadata": {},
   "outputs": [
    {
     "data": {
      "text/html": [
       "<table>\n",
       "<caption>A scanone: 3 × 3</caption>\n",
       "<thead>\n",
       "\t<tr><th></th><th scope=col>chr</th><th scope=col>pos</th><th scope=col>lod</th></tr>\n",
       "\t<tr><th></th><th scope=col>&lt;fct&gt;</th><th scope=col>&lt;dbl&gt;</th><th scope=col>&lt;dbl&gt;</th></tr>\n",
       "</thead>\n",
       "<tbody>\n",
       "\t<tr><th scope=row>17_1417093</th><td>17</td><td> 0.00000</td><td>0.002572613</td></tr>\n",
       "\t<tr><th scope=row>c17.loc37</th><td>17</td><td>37.00000</td><td>1.010229910</td></tr>\n",
       "\t<tr><th scope=row>17_10144636</th><td>17</td><td>63.31204</td><td>0.001883870</td></tr>\n",
       "</tbody>\n",
       "</table>\n"
      ],
      "text/latex": [
       "A scanone: 3 × 3\n",
       "\\begin{tabular}{r|lll}\n",
       "  & chr & pos & lod\\\\\n",
       "  & <fct> & <dbl> & <dbl>\\\\\n",
       "\\hline\n",
       "\t17\\_1417093 & 17 &  0.00000 & 0.002572613\\\\\n",
       "\tc17.loc37 & 17 & 37.00000 & 1.010229910\\\\\n",
       "\t17\\_10144636 & 17 & 63.31204 & 0.001883870\\\\\n",
       "\\end{tabular}\n"
      ],
      "text/markdown": [
       "\n",
       "A scanone: 3 × 3\n",
       "\n",
       "| <!--/--> | chr &lt;fct&gt; | pos &lt;dbl&gt; | lod &lt;dbl&gt; |\n",
       "|---|---|---|---|\n",
       "| 17_1417093 | 17 |  0.00000 | 0.002572613 |\n",
       "| c17.loc37 | 17 | 37.00000 | 1.010229910 |\n",
       "| 17_10144636 | 17 | 63.31204 | 0.001883870 |\n",
       "\n"
      ],
      "text/plain": [
       "            chr pos      lod        \n",
       "17_1417093  17   0.00000 0.002572613\n",
       "c17.loc37   17  37.00000 1.010229910\n",
       "17_10144636 17  63.31204 0.001883870"
      ]
     },
     "metadata": {},
     "output_type": "display_data"
    },
    {
     "data": {
      "text/html": [
       "<table>\n",
       "<caption>A scanone: 3 × 3</caption>\n",
       "<thead>\n",
       "\t<tr><th></th><th scope=col>chr</th><th scope=col>pos</th><th scope=col>lod</th></tr>\n",
       "\t<tr><th></th><th scope=col>&lt;fct&gt;</th><th scope=col>&lt;dbl&gt;</th><th scope=col>&lt;dbl&gt;</th></tr>\n",
       "</thead>\n",
       "<tbody>\n",
       "\t<tr><th scope=row>17_1417093</th><td>17</td><td> 0.00000</td><td>0.002572613</td></tr>\n",
       "\t<tr><th scope=row>c17.loc37</th><td>17</td><td>37.00000</td><td>1.010229910</td></tr>\n",
       "\t<tr><th scope=row>17_10144636</th><td>17</td><td>63.31204</td><td>0.001883870</td></tr>\n",
       "</tbody>\n",
       "</table>\n"
      ],
      "text/latex": [
       "A scanone: 3 × 3\n",
       "\\begin{tabular}{r|lll}\n",
       "  & chr & pos & lod\\\\\n",
       "  & <fct> & <dbl> & <dbl>\\\\\n",
       "\\hline\n",
       "\t17\\_1417093 & 17 &  0.00000 & 0.002572613\\\\\n",
       "\tc17.loc37 & 17 & 37.00000 & 1.010229910\\\\\n",
       "\t17\\_10144636 & 17 & 63.31204 & 0.001883870\\\\\n",
       "\\end{tabular}\n"
      ],
      "text/markdown": [
       "\n",
       "A scanone: 3 × 3\n",
       "\n",
       "| <!--/--> | chr &lt;fct&gt; | pos &lt;dbl&gt; | lod &lt;dbl&gt; |\n",
       "|---|---|---|---|\n",
       "| 17_1417093 | 17 |  0.00000 | 0.002572613 |\n",
       "| c17.loc37 | 17 | 37.00000 | 1.010229910 |\n",
       "| 17_10144636 | 17 | 63.31204 | 0.001883870 |\n",
       "\n"
      ],
      "text/plain": [
       "            chr pos      lod        \n",
       "17_1417093  17   0.00000 0.002572613\n",
       "c17.loc37   17  37.00000 1.010229910\n",
       "17_10144636 17  63.31204 0.001883870"
      ]
     },
     "metadata": {},
     "output_type": "display_data"
    }
   ],
   "source": [
    "bay <- scanone(Map, method = 'hk') #scan genome with sQTL model\n",
    "bayesint(bay, chr = chr, prob=0.95, \n",
    "         expandtomarkers=TRUE) #calculate bayesian interval\n",
    "lodint(bay, chr = chr,expandtomarkers = TRUE ) #calculate LOD Support interval"
   ]
  },
  {
   "cell_type": "code",
   "execution_count": 36,
   "metadata": {},
   "outputs": [
    {
     "name": "stdin",
     "output_type": "stream",
     "text": [
      "Position for analysis:  31\n"
     ]
    },
    {
     "name": "stderr",
     "output_type": "stream",
     "text": [
      "Warning message in getsex(cross):\n",
      "\"125 individuals with missing sex; assuming they're female\"\n",
      "Warning message in fitqtlengine(pheno = pheno, qtl = qtl, covar = covar, formula = formula, :\n",
      "\"Dropping 127 individuals with missing phenotypes.\n",
      "\"\n",
      "Warning message in getsex(cross):\n",
      "\"125 individuals with missing sex; assuming they're female\"\n"
     ]
    },
    {
     "data": {
      "text/plain": [
       "\n",
       "\t\tfitqtl summary\n",
       "\n",
       "Method: Haley-Knott regression \n",
       "Model:  normal phenotype\n",
       "Number of observations : 167 \n",
       "\n",
       "Full model result\n",
       "----------------------------------  \n",
       "Model formula: y ~ Q1 \n",
       "\n",
       "       df        SS         MS      LOD    %var Pvalue(Chi2)    Pvalue(F)\n",
       "Model   1  17.73632 17.7363229 4.239014 11.0321 9.947993e-06 1.158899e-05\n",
       "Error 165 143.03389  0.8668721                                           \n",
       "Total 166 160.77022                                                      \n",
       "\n",
       "\n",
       "Estimated effects:\n",
       "-----------------\n",
       "               est       SE      t\n",
       "Intercept  1.35296  0.07226 18.724\n",
       "8@31.0    -3.50042  0.77387 -4.523\n"
      ]
     },
     "metadata": {},
     "output_type": "display_data"
    }
   ],
   "source": [
    "p <- as.numeric(readline(\"Position for analysis: \"))\n",
    "qtl <- makeqtl(Map, chr = chr, pos = p, what=\"prob\") #pulls genotype probabilities\n",
    "fitqtl <- fitqtl(Map, pheno.col=colNum, qtl = qtl, covar=NULL,\n",
    "       method= \"hk\",model=\"normal\",\n",
    "       dropone=TRUE, get.ests=TRUE,run.checks=TRUE,\n",
    "       tol=1e-4, maxit=1000, forceXcovar=FALSE) #sees how well our data fits a given formula \n",
    "          # If you see \"error: object of type 'closure' is not subsettable\", remove \"formula,\" from the fitqtl argument list.\n",
    "summary(fitqtl) #Print results of the analysis"
   ]
  },
  {
   "cell_type": "code",
   "execution_count": 2,
   "metadata": {},
   "outputs": [
    {
     "name": "stdout",
     "output_type": "stream",
     "text": [
      "[1] \"Make sure to input names AS THEY APPEAR on the csv!!\"\n"
     ]
    },
    {
     "name": "stdin",
     "output_type": "stream",
     "text": [
      "Enter file name (Either FemaleMap.csv or MaleMap.csv):  MaleMap.csv\n",
      "First Genotype (homozygous) (For example ll):  nn\n",
      "Second Genotype (heterozygous) (for example lm):  np\n",
      "Column Number:  26\n"
     ]
    }
   ],
   "source": [
    "#Collecting enviroment variables\n",
    "print(\"Make sure to input names AS THEY APPEAR on the csv!!\") #Just a user warning\n",
    "fileName <- readline(\"Enter file name (Either FemaleMap.csv or MaleMap.csv): \") #Mapping table file\n",
    "genotypeName <- c(readline(\"First Genotype (homozygous) (For example ll): \"),\n",
    "                  readline(\"Second Genotype (heterozygous) (for example lm): \")) #For example \"nn\", \"np\"\n",
    "alleleName <- c(substr(genotypeName[2],1,1) ,substr(genotypeName[2],2,2))\n",
    "naNames <- c(\"NA\",\"--\") #For example \"NA\", \"--\"\n",
    "colNum <- as.numeric(readline(\"Column Number: \")) #Column for pheno of interest"
   ]
  },
  {
   "cell_type": "code",
   "execution_count": 6,
   "metadata": {},
   "outputs": [
    {
     "name": "stdout",
     "output_type": "stream",
     "text": [
      " --Read the following data:\n",
      "\t 294  individuals\n",
      "\t 1128  markers\n",
      "\t 38  phenotypes\n"
     ]
    },
    {
     "name": "stderr",
     "output_type": "stream",
     "text": [
      "Warning message in summary.cross(cross):\n",
      "\"Some markers at the same position on chr 1,3,4,5,6,7,8,9,10,12,13,14,15,16,17,18,19; use jittermap().\"\n"
     ]
    },
    {
     "name": "stdout",
     "output_type": "stream",
     "text": [
      " --Cross type: bc \n"
     ]
    },
    {
     "data": {
      "image/png": "[encoded data removed]",
      "text/plain": [
       "Plot with title \"Genetic map\""
      ]
     },
     "metadata": {
      "image/png": {
       "height": 420,
       "width": 420
      }
     },
     "output_type": "display_data"
    }
   ],
   "source": [
    "#Map generation\n",
    "Map <- read.cross(format = 'csv',file = fileName \n",
    "                  ,genotypes = genotypeName,\n",
    "                  alleles = alleleName,na.strings = naNames) #generate linkage map\n",
    "Map <- jittermap(Map) #make sure no markers are in the same location\n",
    "Map <- calc.genoprob(Map,step = 1,map.function = \"kosambi\") #associate markers with full genotypes\n",
    "plot.map(Map) #draw linkage map"
   ]
  },
  {
   "cell_type": "code",
   "execution_count": 7,
   "metadata": {},
   "outputs": [
    {
     "data": {
      "image/png": "[encoded data removed]",
      "text/plain": [
       "Plot with title \"\""
      ]
     },
     "metadata": {
      "image/png": {
       "height": 420,
       "width": 420
      }
     },
     "output_type": "display_data"
    }
   ],
   "source": [
    "plotNormalHistogram(Map$pheno[,colNum]) #normal histogram of pheno of interest"
   ]
  },
  {
   "cell_type": "markdown",
   "metadata": {},
   "source": [
    "Outliers exist in this data. "
   ]
  },
  {
   "cell_type": "code",
   "execution_count": 10,
   "metadata": {},
   "outputs": [
    {
     "data": {
      "image/png": "[encoded data removed]",
      "text/plain": [
       "Plot with title \"\""
      ]
     },
     "metadata": {
      "image/png": {
       "height": 420,
       "width": 420
      }
     },
     "output_type": "display_data"
    }
   ],
   "source": [
    "#Compute statistically significant values\n",
    "TraitCIM1000 <- cim(Map,pheno.col = colNum,method = \"hk\",\n",
    "                    map.function = \"kosambi\",n.perm = 1000) # Function will take a moment to run, determines LOD value\n",
    "plot(TraitCIM1000,col = 'green') #show distribution of lod scores\n",
    "LOD5 <- summary(TraitCIM1000)[1]"
   ]
  },
  {
   "cell_type": "code",
   "execution_count": 16,
   "metadata": {},
   "outputs": [
    {
     "name": "stdout",
     "output_type": "stream",
     "text": [
      "[1] \"If nothing shows up, the values \\n      are below the LOD5 score\"\n"
     ]
    },
    {
     "data": {
      "text/html": [
       "<table>\n",
       "<caption>A summary.scanone: 19 × 3</caption>\n",
       "<thead>\n",
       "\t<tr><th></th><th scope=col>chr</th><th scope=col>pos</th><th scope=col>lod</th></tr>\n",
       "\t<tr><th></th><th scope=col>&lt;fct&gt;</th><th scope=col>&lt;dbl&gt;</th><th scope=col>&lt;dbl&gt;</th></tr>\n",
       "</thead>\n",
       "<tbody>\n",
       "\t<tr><th scope=row>c1.loc43</th><td>1 </td><td>43.000000</td><td>1.5259605</td></tr>\n",
       "\t<tr><th scope=row>2_17714063</th><td>2 </td><td>69.930038</td><td>2.5901685</td></tr>\n",
       "\t<tr><th scope=row>3_969615</th><td>3 </td><td> 4.718006</td><td>0.9846573</td></tr>\n",
       "\t<tr><th scope=row>c4.loc49</th><td>4 </td><td>49.000000</td><td>1.7918876</td></tr>\n",
       "\t<tr><th scope=row>5_23031683</th><td>5 </td><td>72.299046</td><td>0.8958245</td></tr>\n",
       "\t<tr><th scope=row>c6.loc61</th><td>6 </td><td>61.000000</td><td>0.4454546</td></tr>\n",
       "\t<tr><th scope=row>7_18819915</th><td>7 </td><td>71.089063</td><td>1.0700179</td></tr>\n",
       "\t<tr><th scope=row>c8.loc19</th><td>8 </td><td>19.000000</td><td>3.4264991</td></tr>\n",
       "\t<tr><th scope=row>c9.loc63</th><td>9 </td><td>63.000000</td><td>0.5001685</td></tr>\n",
       "\t<tr><th scope=row>c10.loc4</th><td>10</td><td> 4.000000</td><td>0.9026945</td></tr>\n",
       "\t<tr><th scope=row>11_2056861</th><td>11</td><td> 5.416005</td><td>1.0072624</td></tr>\n",
       "\t<tr><th scope=row>c12.loc20</th><td>12</td><td>20.000000</td><td>2.3392609</td></tr>\n",
       "\t<tr><th scope=row>13_28874179</th><td>13</td><td>90.722072</td><td>0.7384553</td></tr>\n",
       "\t<tr><th scope=row>14_1675170</th><td>14</td><td> 7.644006</td><td>0.5921671</td></tr>\n",
       "\t<tr><th scope=row>c15.loc11</th><td>15</td><td>11.000000</td><td>0.7120497</td></tr>\n",
       "\t<tr><th scope=row>c16.loc22</th><td>16</td><td>22.000000</td><td>2.3871154</td></tr>\n",
       "\t<tr><th scope=row>c17.loc22</th><td>17</td><td>22.000000</td><td>1.3581646</td></tr>\n",
       "\t<tr><th scope=row>c18.loc17</th><td>18</td><td>17.000000</td><td>1.3760013</td></tr>\n",
       "\t<tr><th scope=row>c19.loc43</th><td>19</td><td>43.000000</td><td>0.6921593</td></tr>\n",
       "</tbody>\n",
       "</table>\n"
      ],
      "text/latex": [
       "A summary.scanone: 19 × 3\n",
       "\\begin{tabular}{r|lll}\n",
       "  & chr & pos & lod\\\\\n",
       "  & <fct> & <dbl> & <dbl>\\\\\n",
       "\\hline\n",
       "\tc1.loc43 & 1  & 43.000000 & 1.5259605\\\\\n",
       "\t2\\_17714063 & 2  & 69.930038 & 2.5901685\\\\\n",
       "\t3\\_969615 & 3  &  4.718006 & 0.9846573\\\\\n",
       "\tc4.loc49 & 4  & 49.000000 & 1.7918876\\\\\n",
       "\t5\\_23031683 & 5  & 72.299046 & 0.8958245\\\\\n",
       "\tc6.loc61 & 6  & 61.000000 & 0.4454546\\\\\n",
       "\t7\\_18819915 & 7  & 71.089063 & 1.0700179\\\\\n",
       "\tc8.loc19 & 8  & 19.000000 & 3.4264991\\\\\n",
       "\tc9.loc63 & 9  & 63.000000 & 0.5001685\\\\\n",
       "\tc10.loc4 & 10 &  4.000000 & 0.9026945\\\\\n",
       "\t11\\_2056861 & 11 &  5.416005 & 1.0072624\\\\\n",
       "\tc12.loc20 & 12 & 20.000000 & 2.3392609\\\\\n",
       "\t13\\_28874179 & 13 & 90.722072 & 0.7384553\\\\\n",
       "\t14\\_1675170 & 14 &  7.644006 & 0.5921671\\\\\n",
       "\tc15.loc11 & 15 & 11.000000 & 0.7120497\\\\\n",
       "\tc16.loc22 & 16 & 22.000000 & 2.3871154\\\\\n",
       "\tc17.loc22 & 17 & 22.000000 & 1.3581646\\\\\n",
       "\tc18.loc17 & 18 & 17.000000 & 1.3760013\\\\\n",
       "\tc19.loc43 & 19 & 43.000000 & 0.6921593\\\\\n",
       "\\end{tabular}\n"
      ],
      "text/markdown": [
       "\n",
       "A summary.scanone: 19 × 3\n",
       "\n",
       "| <!--/--> | chr &lt;fct&gt; | pos &lt;dbl&gt; | lod &lt;dbl&gt; |\n",
       "|---|---|---|---|\n",
       "| c1.loc43 | 1  | 43.000000 | 1.5259605 |\n",
       "| 2_17714063 | 2  | 69.930038 | 2.5901685 |\n",
       "| 3_969615 | 3  |  4.718006 | 0.9846573 |\n",
       "| c4.loc49 | 4  | 49.000000 | 1.7918876 |\n",
       "| 5_23031683 | 5  | 72.299046 | 0.8958245 |\n",
       "| c6.loc61 | 6  | 61.000000 | 0.4454546 |\n",
       "| 7_18819915 | 7  | 71.089063 | 1.0700179 |\n",
       "| c8.loc19 | 8  | 19.000000 | 3.4264991 |\n",
       "| c9.loc63 | 9  | 63.000000 | 0.5001685 |\n",
       "| c10.loc4 | 10 |  4.000000 | 0.9026945 |\n",
       "| 11_2056861 | 11 |  5.416005 | 1.0072624 |\n",
       "| c12.loc20 | 12 | 20.000000 | 2.3392609 |\n",
       "| 13_28874179 | 13 | 90.722072 | 0.7384553 |\n",
       "| 14_1675170 | 14 |  7.644006 | 0.5921671 |\n",
       "| c15.loc11 | 15 | 11.000000 | 0.7120497 |\n",
       "| c16.loc22 | 16 | 22.000000 | 2.3871154 |\n",
       "| c17.loc22 | 17 | 22.000000 | 1.3581646 |\n",
       "| c18.loc17 | 18 | 17.000000 | 1.3760013 |\n",
       "| c19.loc43 | 19 | 43.000000 | 0.6921593 |\n",
       "\n"
      ],
      "text/plain": [
       "            chr pos       lod      \n",
       "c1.loc43    1   43.000000 1.5259605\n",
       "2_17714063  2   69.930038 2.5901685\n",
       "3_969615    3    4.718006 0.9846573\n",
       "c4.loc49    4   49.000000 1.7918876\n",
       "5_23031683  5   72.299046 0.8958245\n",
       "c6.loc61    6   61.000000 0.4454546\n",
       "7_18819915  7   71.089063 1.0700179\n",
       "c8.loc19    8   19.000000 3.4264991\n",
       "c9.loc63    9   63.000000 0.5001685\n",
       "c10.loc4    10   4.000000 0.9026945\n",
       "11_2056861  11   5.416005 1.0072624\n",
       "c12.loc20   12  20.000000 2.3392609\n",
       "13_28874179 13  90.722072 0.7384553\n",
       "14_1675170  14   7.644006 0.5921671\n",
       "c15.loc11   15  11.000000 0.7120497\n",
       "c16.loc22   16  22.000000 2.3871154\n",
       "c17.loc22   17  22.000000 1.3581646\n",
       "c18.loc17   18  17.000000 1.3760013\n",
       "c19.loc43   19  43.000000 0.6921593"
      ]
     },
     "metadata": {},
     "output_type": "display_data"
    },
    {
     "data": {
      "image/png": "[encoded data removed]",
      "text/plain": [
       "plot without title"
      ]
     },
     "metadata": {
      "image/png": {
       "height": 420,
       "width": 420
      }
     },
     "output_type": "display_data"
    }
   ],
   "source": [
    "#Deterime LOD Values\n",
    "TraitCIM<-cim(Map,pheno.col = colNum,method = \"hk\",\n",
    "              map.function = \"kosambi\") #Generate LOD Values\n",
    "plot(TraitCIM) #show LOD graph\n",
    "abline(h = LOD5,col = \"blue\") #overlay statistically significant line\n",
    "print(\"If nothing shows up, the values \n",
    "      are below the LOD5 score\") #warning for no peaks\n",
    "summary(TraitCIM)"
   ]
  }
 ],
 "metadata": {
  "kernelspec": {
   "display_name": "R",
   "language": "R",
   "name": "ir"
  },
  "language_info": {
   "codemirror_mode": "r",
   "file_extension": ".r",
   "mimetype": "text/x-r-source",
   "name": "R",
   "pygments_lexer": "r",
   "version": "3.6.3"
  }
 },
 "nbformat": 4,
 "nbformat_minor": 4
}
