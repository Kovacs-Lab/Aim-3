{
 "cells": [
  {
   "cell_type": "markdown",
   "metadata": {},
   "source": [
    "This analysis is in the order of Female then Male"
   ]
  },
  {
   "cell_type": "code",
   "execution_count": 1,
   "metadata": {},
   "outputs": [
    {
     "name": "stderr",
     "output_type": "stream",
     "text": [
      "Installing package into 'C:/Users/vm1998/Documents/R/win-library/3.6'\n",
      "(as 'lib' is unspecified)\n",
      "\n"
     ]
    },
    {
     "name": "stdout",
     "output_type": "stream",
     "text": [
      "package 'qtl' successfully unpacked and MD5 sums checked\n",
      "\n",
      "The downloaded binary packages are in\n",
      "\tC:\\Users\\vm1998\\AppData\\Local\\Temp\\RtmpmElbDp\\downloaded_packages\n"
     ]
    },
    {
     "name": "stderr",
     "output_type": "stream",
     "text": [
      "Installing package into 'C:/Users/vm1998/Documents/R/win-library/3.6'\n",
      "(as 'lib' is unspecified)\n",
      "\n"
     ]
    },
    {
     "name": "stdout",
     "output_type": "stream",
     "text": [
      "package 'qtlcharts' successfully unpacked and MD5 sums checked\n",
      "\n",
      "The downloaded binary packages are in\n",
      "\tC:\\Users\\vm1998\\AppData\\Local\\Temp\\RtmpmElbDp\\downloaded_packages\n"
     ]
    },
    {
     "name": "stderr",
     "output_type": "stream",
     "text": [
      "Installing package into 'C:/Users/vm1998/Documents/R/win-library/3.6'\n",
      "(as 'lib' is unspecified)\n",
      "\n"
     ]
    },
    {
     "name": "stdout",
     "output_type": "stream",
     "text": [
      "package 'LinkageMapView' successfully unpacked and MD5 sums checked\n",
      "\n",
      "The downloaded binary packages are in\n",
      "\tC:\\Users\\vm1998\\AppData\\Local\\Temp\\RtmpmElbDp\\downloaded_packages\n"
     ]
    },
    {
     "name": "stderr",
     "output_type": "stream",
     "text": [
      "Installing package into 'C:/Users/vm1998/Documents/R/win-library/3.6'\n",
      "(as 'lib' is unspecified)\n",
      "\n"
     ]
    },
    {
     "name": "stdout",
     "output_type": "stream",
     "text": [
      "package 'rcompanion' successfully unpacked and MD5 sums checked\n",
      "\n",
      "The downloaded binary packages are in\n",
      "\tC:\\Users\\vm1998\\AppData\\Local\\Temp\\RtmpmElbDp\\downloaded_packages\n"
     ]
    }
   ],
   "source": [
    "install.packages('qtl') #Main package, for analysis\n",
    "install.packages('qtlcharts') #accessory, for displaying graphs\n",
    "install.packages('LinkageMapView') #accessory, for displaying linkage maps\n",
    "install.packages('rcompanion')# for plotNormalHistogram"
   ]
  },
  {
   "cell_type": "code",
   "execution_count": 2,
   "metadata": {},
   "outputs": [
    {
     "name": "stderr",
     "output_type": "stream",
     "text": [
      "Warning message:\n",
      "\"package 'qtl' was built under R version 3.6.2\"\n",
      "Warning message:\n",
      "\"package 'qtlcharts' was built under R version 3.6.2\"\n",
      "Warning message:\n",
      "\"package 'LinkageMapView' was built under R version 3.6.2\"\n",
      "Warning message:\n",
      "\"package 'rcompanion' was built under R version 3.6.2\"\n"
     ]
    }
   ],
   "source": [
    "library(qtl) #load packages\n",
    "library(qtlcharts)\n",
    "library(LinkageMapView)\n",
    "library(rcompanion)"
   ]
  },
  {
   "cell_type": "code",
   "execution_count": 3,
   "metadata": {},
   "outputs": [
    {
     "name": "stdout",
     "output_type": "stream",
     "text": [
      "[1] \"Make sure to input names AS THEY APPEAR on the csv!!\"\n"
     ]
    },
    {
     "name": "stdin",
     "output_type": "stream",
     "text": [
      "Enter file name (Either FemaleMap.csv or MaleMap.csv):  FemaleMap.csv\n",
      "First Genotype (homozygous) (For example ll):  ll\n",
      "Second Genotype (heterozygous) (for example lm):  lm\n",
      "Column Number:  2\n"
     ]
    }
   ],
   "source": [
    "#Collecting enviroment variables\n",
    "print(\"Make sure to input names AS THEY APPEAR on the csv!!\") #Just a user warning\n",
    "fileName <- readline(\"Enter file name (Either FemaleMap.csv or MaleMap.csv): \") #Mapping table file\n",
    "genotypeName <- c(readline(\"First Genotype (homozygous) (For example ll): \"),\n",
    "                  readline(\"Second Genotype (heterozygous) (for example lm): \")) #For example \"nn\", \"np\"\n",
    "alleleName <- c(substr(genotypeName[2],1,1) ,substr(genotypeName[2],2,2))\n",
    "naNames <- c(\"NA\",\"--\") #For example \"NA\", \"--\"\n",
    "colNum <- as.numeric(readline(\"Column Number: \")) #Column for pheno of interest"
   ]
  },
  {
   "cell_type": "code",
   "execution_count": 4,
   "metadata": {},
   "outputs": [
    {
     "name": "stdout",
     "output_type": "stream",
     "text": [
      " --Read the following data:\n",
      "\t 294  individuals\n",
      "\t 1100  markers\n",
      "\t 38  phenotypes\n"
     ]
    },
    {
     "name": "stderr",
     "output_type": "stream",
     "text": [
      "Warning message in summary.cross(cross):\n",
      "\"Some markers at the same position on chr 1,2,4,5,7,8,9,10,11,12,13,14,16,17,18,19; use jittermap().\"\n"
     ]
    },
    {
     "name": "stdout",
     "output_type": "stream",
     "text": [
      " --Cross type: bc \n"
     ]
    },
    {
     "data": {
      "image/png": "[encoded data removed]",
      "text/plain": [
       "Plot with title \"Genetic map\""
      ]
     },
     "metadata": {
      "image/png": {
       "height": 420,
       "width": 420
      },
      "text/plain": {
       "height": 420,
       "width": 420
      }
     },
     "output_type": "display_data"
    }
   ],
   "source": [
    "#Map generation\n",
    "Map <- read.cross(format = 'csv',file = fileName \n",
    "                  ,genotypes = genotypeName,\n",
    "                  alleles = alleleName,na.strings = naNames) #generate linkage map\n",
    "Map <- jittermap(Map) #make sure no markers are in the same location\n",
    "Map <- calc.genoprob(Map,step = 1,map.function = \"kosambi\") #associate markers with full genotypes\n",
    "plot.map(Map) #draw linkage map"
   ]
  },
  {
   "cell_type": "code",
   "execution_count": 5,
   "metadata": {},
   "outputs": [
    {
     "data": {
      "image/png": "[encoded data removed]",
      "text/plain": [
       "Plot with title \"\""
      ]
     },
     "metadata": {
      "image/png": {
       "height": 420,
       "width": 420
      },
      "text/plain": {
       "height": 420,
       "width": 420
      }
     },
     "output_type": "display_data"
    }
   ],
   "source": [
    "plotNormalHistogram(Map$pheno[,colNum]) #normal histogram of pheno of interest"
   ]
  },
  {
   "cell_type": "markdown",
   "metadata": {},
   "source": [
    "Outliers exist in this dataset. Will need to be analyized. "
   ]
  },
  {
   "cell_type": "code",
   "execution_count": 8,
   "metadata": {},
   "outputs": [
    {
     "data": {
      "text/plain": [
       "LOD thresholds (1000 permutations)\n",
       "   [,1]\n",
       "5% 4.14\n",
       "1% 4.95"
      ]
     },
     "metadata": {},
     "output_type": "display_data"
    },
    {
     "data": {
      "image/png": "[encoded data removed]",
      "text/plain": [
       "Plot with title \"\""
      ]
     },
     "metadata": {
      "image/png": {
       "height": 420,
       "width": 420
      },
      "text/plain": {
       "height": 420,
       "width": 420
      }
     },
     "output_type": "display_data"
    }
   ],
   "source": [
    "#Compute statistically significant values\n",
    "TraitCIM1000 <- cim(Map,pheno.col = colNum,method = \"hk\",\n",
    "                    map.function = \"kosambi\",n.perm = 1000) # Function will take a moment to run, determines LOD value\n",
    "plot(TraitCIM1000,col = 'green') #show distribution of lod scores\n",
    "summary(TraitCIM1000,alpha=c(.05,.01))"
   ]
  },
  {
   "cell_type": "code",
   "execution_count": 10,
   "metadata": {},
   "outputs": [
    {
     "name": "stdout",
     "output_type": "stream",
     "text": [
      "[1] \"If nothing shows up, the values \\n      are below the LOD5 score\"\n"
     ]
    },
    {
     "data": {
      "text/html": [
       "<table>\n",
       "<caption>A summary.scanone: 19 × 3</caption>\n",
       "<thead>\n",
       "\t<tr><th></th><th scope=col>chr</th><th scope=col>pos</th><th scope=col>lod</th></tr>\n",
       "\t<tr><th></th><th scope=col>&lt;fct&gt;</th><th scope=col>&lt;dbl&gt;</th><th scope=col>&lt;dbl&gt;</th></tr>\n",
       "</thead>\n",
       "<tbody>\n",
       "\t<tr><th scope=row>1_19145591</th><td>1 </td><td>61.270035</td><td>0.5289424</td></tr>\n",
       "\t<tr><th scope=row>14_23184626</th><td>2 </td><td>70.071022</td><td>0.2800554</td></tr>\n",
       "\t<tr><th scope=row>c3.loc57</th><td>3 </td><td>57.000000</td><td>0.6870209</td></tr>\n",
       "\t<tr><th scope=row>c4.loc66</th><td>4 </td><td>66.000000</td><td>0.8338283</td></tr>\n",
       "\t<tr><th scope=row>5_6915516</th><td>5 </td><td>32.347022</td><td>0.6816584</td></tr>\n",
       "\t<tr><th scope=row>6_14058724</th><td>6 </td><td>54.061036</td><td>0.8442043</td></tr>\n",
       "\t<tr><th scope=row>7_15778116</th><td>7 </td><td>47.389059</td><td>1.8595497</td></tr>\n",
       "\t<tr><th scope=row>8_11018236</th><td>8 </td><td>26.848017</td><td>1.8428800</td></tr>\n",
       "\t<tr><th scope=row>c9.loc29</th><td>9 </td><td>29.000000</td><td>1.0397497</td></tr>\n",
       "\t<tr><th scope=row>10_18476283</th><td>10</td><td>61.544070</td><td>0.4595816</td></tr>\n",
       "\t<tr><th scope=row>c11.loc65</th><td>11</td><td>65.000000</td><td>0.9515058</td></tr>\n",
       "\t<tr><th scope=row>c12.loc66</th><td>12</td><td>66.000000</td><td>1.3076661</td></tr>\n",
       "\t<tr><th scope=row>13_604670</th><td>13</td><td> 1.734003</td><td>0.8447731</td></tr>\n",
       "\t<tr><th scope=row>c14.loc52</th><td>14</td><td>52.000000</td><td>1.2052341</td></tr>\n",
       "\t<tr><th scope=row>15_19735466</th><td>15</td><td>65.515055</td><td>0.3407896</td></tr>\n",
       "\t<tr><th scope=row>c16.loc65</th><td>16</td><td>65.000000</td><td>0.7683255</td></tr>\n",
       "\t<tr><th scope=row>c17.loc8</th><td>17</td><td> 8.000000</td><td>0.9538307</td></tr>\n",
       "\t<tr><th scope=row>c18.loc17</th><td>18</td><td>17.000000</td><td>2.9822276</td></tr>\n",
       "\t<tr><th scope=row>c19.loc2</th><td>19</td><td> 2.000000</td><td>0.8676132</td></tr>\n",
       "</tbody>\n",
       "</table>\n"
      ],
      "text/latex": [
       "A summary.scanone: 19 × 3\n",
       "\\begin{tabular}{r|lll}\n",
       "  & chr & pos & lod\\\\\n",
       "  & <fct> & <dbl> & <dbl>\\\\\n",
       "\\hline\n",
       "\t1\\_19145591 & 1  & 61.270035 & 0.5289424\\\\\n",
       "\t14\\_23184626 & 2  & 70.071022 & 0.2800554\\\\\n",
       "\tc3.loc57 & 3  & 57.000000 & 0.6870209\\\\\n",
       "\tc4.loc66 & 4  & 66.000000 & 0.8338283\\\\\n",
       "\t5\\_6915516 & 5  & 32.347022 & 0.6816584\\\\\n",
       "\t6\\_14058724 & 6  & 54.061036 & 0.8442043\\\\\n",
       "\t7\\_15778116 & 7  & 47.389059 & 1.8595497\\\\\n",
       "\t8\\_11018236 & 8  & 26.848017 & 1.8428800\\\\\n",
       "\tc9.loc29 & 9  & 29.000000 & 1.0397497\\\\\n",
       "\t10\\_18476283 & 10 & 61.544070 & 0.4595816\\\\\n",
       "\tc11.loc65 & 11 & 65.000000 & 0.9515058\\\\\n",
       "\tc12.loc66 & 12 & 66.000000 & 1.3076661\\\\\n",
       "\t13\\_604670 & 13 &  1.734003 & 0.8447731\\\\\n",
       "\tc14.loc52 & 14 & 52.000000 & 1.2052341\\\\\n",
       "\t15\\_19735466 & 15 & 65.515055 & 0.3407896\\\\\n",
       "\tc16.loc65 & 16 & 65.000000 & 0.7683255\\\\\n",
       "\tc17.loc8 & 17 &  8.000000 & 0.9538307\\\\\n",
       "\tc18.loc17 & 18 & 17.000000 & 2.9822276\\\\\n",
       "\tc19.loc2 & 19 &  2.000000 & 0.8676132\\\\\n",
       "\\end{tabular}\n"
      ],
      "text/markdown": [
       "\n",
       "A summary.scanone: 19 × 3\n",
       "\n",
       "| <!--/--> | chr &lt;fct&gt; | pos &lt;dbl&gt; | lod &lt;dbl&gt; |\n",
       "|---|---|---|---|\n",
       "| 1_19145591 | 1  | 61.270035 | 0.5289424 |\n",
       "| 14_23184626 | 2  | 70.071022 | 0.2800554 |\n",
       "| c3.loc57 | 3  | 57.000000 | 0.6870209 |\n",
       "| c4.loc66 | 4  | 66.000000 | 0.8338283 |\n",
       "| 5_6915516 | 5  | 32.347022 | 0.6816584 |\n",
       "| 6_14058724 | 6  | 54.061036 | 0.8442043 |\n",
       "| 7_15778116 | 7  | 47.389059 | 1.8595497 |\n",
       "| 8_11018236 | 8  | 26.848017 | 1.8428800 |\n",
       "| c9.loc29 | 9  | 29.000000 | 1.0397497 |\n",
       "| 10_18476283 | 10 | 61.544070 | 0.4595816 |\n",
       "| c11.loc65 | 11 | 65.000000 | 0.9515058 |\n",
       "| c12.loc66 | 12 | 66.000000 | 1.3076661 |\n",
       "| 13_604670 | 13 |  1.734003 | 0.8447731 |\n",
       "| c14.loc52 | 14 | 52.000000 | 1.2052341 |\n",
       "| 15_19735466 | 15 | 65.515055 | 0.3407896 |\n",
       "| c16.loc65 | 16 | 65.000000 | 0.7683255 |\n",
       "| c17.loc8 | 17 |  8.000000 | 0.9538307 |\n",
       "| c18.loc17 | 18 | 17.000000 | 2.9822276 |\n",
       "| c19.loc2 | 19 |  2.000000 | 0.8676132 |\n",
       "\n"
      ],
      "text/plain": [
       "            chr pos       lod      \n",
       "1_19145591  1   61.270035 0.5289424\n",
       "14_23184626 2   70.071022 0.2800554\n",
       "c3.loc57    3   57.000000 0.6870209\n",
       "c4.loc66    4   66.000000 0.8338283\n",
       "5_6915516   5   32.347022 0.6816584\n",
       "6_14058724  6   54.061036 0.8442043\n",
       "7_15778116  7   47.389059 1.8595497\n",
       "8_11018236  8   26.848017 1.8428800\n",
       "c9.loc29    9   29.000000 1.0397497\n",
       "10_18476283 10  61.544070 0.4595816\n",
       "c11.loc65   11  65.000000 0.9515058\n",
       "c12.loc66   12  66.000000 1.3076661\n",
       "13_604670   13   1.734003 0.8447731\n",
       "c14.loc52   14  52.000000 1.2052341\n",
       "15_19735466 15  65.515055 0.3407896\n",
       "c16.loc65   16  65.000000 0.7683255\n",
       "c17.loc8    17   8.000000 0.9538307\n",
       "c18.loc17   18  17.000000 2.9822276\n",
       "c19.loc2    19   2.000000 0.8676132"
      ]
     },
     "metadata": {},
     "output_type": "display_data"
    },
    {
     "data": {
      "image/png": "[encoded data removed]",
      "text/plain": [
       "plot without title"
      ]
     },
     "metadata": {
      "image/png": {
       "height": 420,
       "width": 420
      },
      "text/plain": {
       "height": 420,
       "width": 420
      }
     },
     "output_type": "display_data"
    }
   ],
   "source": [
    "#Deterime LOD Values\n",
    "LOD5 <- summary(TraitCIM1000,alpha=c(.05))\n",
    "TraitCIM<-cim(Map,pheno.col = colNum,method = \"hk\",\n",
    "              map.function = \"kosambi\") #Generate LOD Values\n",
    "plot(TraitCIM) #show LOD graph\n",
    "abline(h = LOD5,col = \"blue\") #overlay statistically significant line\n",
    "print(\"If nothing shows up, the values \n",
    "      are below the LOD5 score\") #warning for no peaks\n",
    "summary(TraitCIM)"
   ]
  },
  {
   "cell_type": "code",
   "execution_count": 11,
   "metadata": {},
   "outputs": [
    {
     "name": "stdin",
     "output_type": "stream",
     "text": [
      "Chromosome?  18\n"
     ]
    },
    {
     "data": {
      "image/png": "[encoded data removed]",
      "text/plain": [
       "plot without title"
      ]
     },
     "metadata": {
      "image/png": {
       "height": 420,
       "width": 420
      },
      "text/plain": {
       "height": 420,
       "width": 420
      }
     },
     "output_type": "display_data"
    }
   ],
   "source": [
    "#Chromosomal Analysis\n",
    "chr <- as.numeric(readline(\"Chromosome? \")) #collect chromosome to look at\n",
    "plot(TraitCIM, chr = chr,xlab = c(\"chr\",chr)) #Plot chr LOD scores\n",
    "abline(h = LOD5, col = \"blue\") #Statistically Significant"
   ]
  },
  {
   "cell_type": "code",
   "execution_count": 12,
   "metadata": {},
   "outputs": [
    {
     "data": {
      "text/html": [
       "<table>\n",
       "<caption>A scanone: 3 × 3</caption>\n",
       "<thead>\n",
       "\t<tr><th></th><th scope=col>chr</th><th scope=col>pos</th><th scope=col>lod</th></tr>\n",
       "\t<tr><th></th><th scope=col>&lt;fct&gt;</th><th scope=col>&lt;dbl&gt;</th><th scope=col>&lt;dbl&gt;</th></tr>\n",
       "</thead>\n",
       "<tbody>\n",
       "\t<tr><th scope=row>18_579797</th><td>18</td><td>  1.714001</td><td>0.01860237</td></tr>\n",
       "\t<tr><th scope=row>c18.loc17</th><td>18</td><td> 17.000000</td><td>2.98222757</td></tr>\n",
       "\t<tr><th scope=row>10_20190838</th><td>18</td><td>108.923077</td><td>0.17351796</td></tr>\n",
       "</tbody>\n",
       "</table>\n"
      ],
      "text/latex": [
       "A scanone: 3 × 3\n",
       "\\begin{tabular}{r|lll}\n",
       "  & chr & pos & lod\\\\\n",
       "  & <fct> & <dbl> & <dbl>\\\\\n",
       "\\hline\n",
       "\t18\\_579797 & 18 &   1.714001 & 0.01860237\\\\\n",
       "\tc18.loc17 & 18 &  17.000000 & 2.98222757\\\\\n",
       "\t10\\_20190838 & 18 & 108.923077 & 0.17351796\\\\\n",
       "\\end{tabular}\n"
      ],
      "text/markdown": [
       "\n",
       "A scanone: 3 × 3\n",
       "\n",
       "| <!--/--> | chr &lt;fct&gt; | pos &lt;dbl&gt; | lod &lt;dbl&gt; |\n",
       "|---|---|---|---|\n",
       "| 18_579797 | 18 |   1.714001 | 0.01860237 |\n",
       "| c18.loc17 | 18 |  17.000000 | 2.98222757 |\n",
       "| 10_20190838 | 18 | 108.923077 | 0.17351796 |\n",
       "\n"
      ],
      "text/plain": [
       "            chr pos        lod       \n",
       "18_579797   18    1.714001 0.01860237\n",
       "c18.loc17   18   17.000000 2.98222757\n",
       "10_20190838 18  108.923077 0.17351796"
      ]
     },
     "metadata": {},
     "output_type": "display_data"
    },
    {
     "data": {
      "text/html": [
       "<table>\n",
       "<caption>A scanone: 3 × 3</caption>\n",
       "<thead>\n",
       "\t<tr><th></th><th scope=col>chr</th><th scope=col>pos</th><th scope=col>lod</th></tr>\n",
       "\t<tr><th></th><th scope=col>&lt;fct&gt;</th><th scope=col>&lt;dbl&gt;</th><th scope=col>&lt;dbl&gt;</th></tr>\n",
       "</thead>\n",
       "<tbody>\n",
       "\t<tr><th scope=row>18_2451204</th><td>18</td><td> 8.90401</td><td>0.18491518</td></tr>\n",
       "\t<tr><th scope=row>c18.loc17</th><td>18</td><td>17.00000</td><td>2.98222757</td></tr>\n",
       "\t<tr><th scope=row>18_4242136</th><td>18</td><td>18.95402</td><td>0.00015443</td></tr>\n",
       "</tbody>\n",
       "</table>\n"
      ],
      "text/latex": [
       "A scanone: 3 × 3\n",
       "\\begin{tabular}{r|lll}\n",
       "  & chr & pos & lod\\\\\n",
       "  & <fct> & <dbl> & <dbl>\\\\\n",
       "\\hline\n",
       "\t18\\_2451204 & 18 &  8.90401 & 0.18491518\\\\\n",
       "\tc18.loc17 & 18 & 17.00000 & 2.98222757\\\\\n",
       "\t18\\_4242136 & 18 & 18.95402 & 0.00015443\\\\\n",
       "\\end{tabular}\n"
      ],
      "text/markdown": [
       "\n",
       "A scanone: 3 × 3\n",
       "\n",
       "| <!--/--> | chr &lt;fct&gt; | pos &lt;dbl&gt; | lod &lt;dbl&gt; |\n",
       "|---|---|---|---|\n",
       "| 18_2451204 | 18 |  8.90401 | 0.18491518 |\n",
       "| c18.loc17 | 18 | 17.00000 | 2.98222757 |\n",
       "| 18_4242136 | 18 | 18.95402 | 0.00015443 |\n",
       "\n"
      ],
      "text/plain": [
       "           chr pos      lod       \n",
       "18_2451204 18   8.90401 0.18491518\n",
       "c18.loc17  18  17.00000 2.98222757\n",
       "18_4242136 18  18.95402 0.00015443"
      ]
     },
     "metadata": {},
     "output_type": "display_data"
    }
   ],
   "source": [
    "bayesint(TraitCIM, chr = chr, prob=0.95, expandtomarkers=TRUE) #calculate bayesian interval\n",
    "lodint(TraitCIM, chr = chr,expandtomarkers = TRUE ) #calculate LOD Support interval"
   ]
  },
  {
   "cell_type": "code",
   "execution_count": 13,
   "metadata": {},
   "outputs": [
    {
     "name": "stdin",
     "output_type": "stream",
     "text": [
      "Position for analysis:  17\n"
     ]
    },
    {
     "name": "stderr",
     "output_type": "stream",
     "text": [
      "Warning message in getsex(cross):\n",
      "\"125 individuals with missing sex; assuming they're female\"\n",
      "Warning message in fitqtlengine(pheno = pheno, qtl = qtl, covar = covar, formula = formula, :\n",
      "\"Dropping 125 individuals with missing phenotypes.\n",
      "\"\n",
      "Warning message in getsex(cross):\n",
      "\"125 individuals with missing sex; assuming they're female\"\n"
     ]
    },
    {
     "data": {
      "text/plain": [
       "\n",
       "\t\tfitqtl summary\n",
       "\n",
       "Method: Haley-Knott regression \n",
       "Model:  normal phenotype\n",
       "Number of observations : 169 \n",
       "\n",
       "Full model result\n",
       "----------------------------------  \n",
       "Model formula: y ~ Q1 \n",
       "\n",
       "       df        SS        MS      LOD     %var Pvalue(Chi2)    Pvalue(F)\n",
       "Model   1  3.063546 3.0635464 2.762469 7.251251 0.0003614487 0.0003996685\n",
       "Error 167 39.184974 0.2346406                                            \n",
       "Total 168 42.248521                                                      \n",
       "\n",
       "\n",
       "Estimated effects:\n",
       "-----------------\n",
       "              est      SE      t\n",
       "Intercept 0.49731 0.03726 13.347\n",
       "18@17.0   0.91044 0.25196  3.613\n"
      ]
     },
     "metadata": {},
     "output_type": "display_data"
    }
   ],
   "source": [
    "p <- as.numeric(readline(\"Position for analysis: \"))\n",
    "qtl <- makeqtl(Map, chr = chr, pos = p, what=\"prob\") #pulls genotype probabilities\n",
    "fitqtl <- fitqtl(Map, pheno.col=colNum, qtl = qtl, covar=NULL,\n",
    "       method= \"hk\",model=\"normal\",\n",
    "       dropone=TRUE, get.ests=TRUE,run.checks=TRUE,\n",
    "       tol=1e-4, maxit=1000, forceXcovar=FALSE) #sees how well our data fits a given formula \n",
    "          # If you see \"error: object of type 'closure' is not subsettable\", remove \"formula,\" from the fitqtl argument list.\n",
    "summary(fitqtl) #Print results of the analysis"
   ]
  },
  {
   "cell_type": "code",
   "execution_count": 14,
   "metadata": {},
   "outputs": [
    {
     "name": "stdout",
     "output_type": "stream",
     "text": [
      "[1] \"Make sure to input names AS THEY APPEAR on the csv!!\"\n"
     ]
    },
    {
     "name": "stdin",
     "output_type": "stream",
     "text": [
      "Enter file name (Either FemaleMap.csv or MaleMap.csv):  MaleMap.csv\n",
      "First Genotype (homozygous) (For example ll):  nn\n",
      "Second Genotype (heterozygous) (for example lm):  np\n",
      "Column Number:  2\n"
     ]
    }
   ],
   "source": [
    "#Collecting enviroment variables\n",
    "print(\"Make sure to input names AS THEY APPEAR on the csv!!\") #Just a user warning\n",
    "fileName <- readline(\"Enter file name (Either FemaleMap.csv or MaleMap.csv): \") #Mapping table file\n",
    "genotypeName <- c(readline(\"First Genotype (homozygous) (For example ll): \"),\n",
    "                  readline(\"Second Genotype (heterozygous) (for example lm): \")) #For example \"nn\", \"np\"\n",
    "alleleName <- c(substr(genotypeName[2],1,1) ,substr(genotypeName[2],2,2))\n",
    "naNames <- c(\"NA\",\"--\") #For example \"NA\", \"--\"\n",
    "colNum <- as.numeric(readline(\"Column Number: \")) #Column for pheno of interest"
   ]
  },
  {
   "cell_type": "code",
   "execution_count": 15,
   "metadata": {},
   "outputs": [
    {
     "name": "stdout",
     "output_type": "stream",
     "text": [
      " --Read the following data:\n",
      "\t 294  individuals\n",
      "\t 1128  markers\n",
      "\t 38  phenotypes\n"
     ]
    },
    {
     "name": "stderr",
     "output_type": "stream",
     "text": [
      "Warning message in summary.cross(cross):\n",
      "\"Some markers at the same position on chr 1,3,4,5,6,7,8,9,10,12,13,14,15,16,17,18,19; use jittermap().\"\n"
     ]
    },
    {
     "name": "stdout",
     "output_type": "stream",
     "text": [
      " --Cross type: bc \n"
     ]
    },
    {
     "data": {
      "image/png": "[encoded data removed]",
      "text/plain": [
       "Plot with title \"Genetic map\""
      ]
     },
     "metadata": {
      "image/png": {
       "height": 420,
       "width": 420
      },
      "text/plain": {
       "height": 420,
       "width": 420
      }
     },
     "output_type": "display_data"
    }
   ],
   "source": [
    "#Map generation\n",
    "Map <- read.cross(format = 'csv',file = fileName \n",
    "                  ,genotypes = genotypeName,\n",
    "                  alleles = alleleName,na.strings = naNames) #generate linkage map\n",
    "Map <- jittermap(Map) #make sure no markers are in the same location\n",
    "Map <- calc.genoprob(Map,step = 1,map.function = \"kosambi\") #associate markers with full genotypes\n",
    "plot.map(Map) #draw linkage map"
   ]
  },
  {
   "cell_type": "code",
   "execution_count": 16,
   "metadata": {},
   "outputs": [
    {
     "data": {
      "image/png": "[encoded data removed]",
      "text/plain": [
       "Plot with title \"\""
      ]
     },
     "metadata": {
      "image/png": {
       "height": 420,
       "width": 420
      },
      "text/plain": {
       "height": 420,
       "width": 420
      }
     },
     "output_type": "display_data"
    }
   ],
   "source": [
    "plotNormalHistogram(Map$pheno[,colNum]) #normal histogram of pheno of interest"
   ]
  },
  {
   "cell_type": "markdown",
   "metadata": {},
   "source": [
    "Outliers exist in this data. "
   ]
  },
  {
   "cell_type": "code",
   "execution_count": 18,
   "metadata": {},
   "outputs": [
    {
     "data": {
      "text/plain": [
       "LOD thresholds (1000 permutations)\n",
       "   [,1]\n",
       "5% 4.10\n",
       "1% 5.09"
      ]
     },
     "metadata": {},
     "output_type": "display_data"
    },
    {
     "data": {
      "image/png": "[encoded data removed]",
      "text/plain": [
       "Plot with title \"\""
      ]
     },
     "metadata": {
      "image/png": {
       "height": 420,
       "width": 420
      },
      "text/plain": {
       "height": 420,
       "width": 420
      }
     },
     "output_type": "display_data"
    }
   ],
   "source": [
    "#Compute statistically significant values\n",
    "TraitCIM1000 <- cim(Map,pheno.col = colNum,method = \"hk\",\n",
    "                    map.function = \"kosambi\",n.perm = 1000) # Function will take a moment to run, determines LOD value\n",
    "plot(TraitCIM1000,col = 'green') #show distribution of lod scores\n",
    "summary(TraitCIM1000,alpha=c(.05,.01))"
   ]
  },
  {
   "cell_type": "code",
   "execution_count": 19,
   "metadata": {},
   "outputs": [
    {
     "name": "stdout",
     "output_type": "stream",
     "text": [
      "[1] \"If nothing shows up, the values \\n      are below the LOD5 score\"\n"
     ]
    },
    {
     "data": {
      "text/html": [
       "<table>\n",
       "<caption>A summary.scanone: 19 × 3</caption>\n",
       "<thead>\n",
       "\t<tr><th></th><th scope=col>chr</th><th scope=col>pos</th><th scope=col>lod</th></tr>\n",
       "\t<tr><th></th><th scope=col>&lt;fct&gt;</th><th scope=col>&lt;dbl&gt;</th><th scope=col>&lt;dbl&gt;</th></tr>\n",
       "</thead>\n",
       "<tbody>\n",
       "\t<tr><th scope=row>c1.loc25</th><td>1 </td><td> 25.000000</td><td> 1.0629946</td></tr>\n",
       "\t<tr><th scope=row>2_4350083</th><td>2 </td><td> 20.051008</td><td>47.4029010</td></tr>\n",
       "\t<tr><th scope=row>c3.loc68</th><td>3 </td><td> 68.000000</td><td> 0.8149524</td></tr>\n",
       "\t<tr><th scope=row>4_16592665</th><td>4 </td><td> 48.790039</td><td> 0.8623521</td></tr>\n",
       "\t<tr><th scope=row>c5.loc75</th><td>5 </td><td> 75.000000</td><td> 0.5699347</td></tr>\n",
       "\t<tr><th scope=row>c6.loc37</th><td>6 </td><td> 37.000000</td><td> 2.1147762</td></tr>\n",
       "\t<tr><th scope=row>c7.loc104</th><td>7 </td><td>104.000000</td><td> 1.0906365</td></tr>\n",
       "\t<tr><th scope=row>c8.loc81</th><td>8 </td><td> 81.000000</td><td> 2.1598895</td></tr>\n",
       "\t<tr><th scope=row>c9.loc35</th><td>9 </td><td> 35.000000</td><td> 1.1915945</td></tr>\n",
       "\t<tr><th scope=row>c10.loc40</th><td>10</td><td> 40.000000</td><td> 1.9391805</td></tr>\n",
       "\t<tr><th scope=row>c11.loc37</th><td>11</td><td> 37.000000</td><td> 1.4241856</td></tr>\n",
       "\t<tr><th scope=row>c12.loc57</th><td>12</td><td> 57.000000</td><td> 1.7603325</td></tr>\n",
       "\t<tr><th scope=row>c13.loc83</th><td>13</td><td> 83.000000</td><td> 0.8603767</td></tr>\n",
       "\t<tr><th scope=row>c14.loc81</th><td>14</td><td> 81.000000</td><td> 1.0355550</td></tr>\n",
       "\t<tr><th scope=row>c15.loc35</th><td>15</td><td> 35.000000</td><td> 0.5926419</td></tr>\n",
       "\t<tr><th scope=row>c16.loc81</th><td>16</td><td> 81.000000</td><td> 0.5869880</td></tr>\n",
       "\t<tr><th scope=row>17_679913</th><td>17</td><td>  2.954002</td><td> 0.5785001</td></tr>\n",
       "\t<tr><th scope=row>c18.loc101</th><td>18</td><td>101.000000</td><td> 0.3436512</td></tr>\n",
       "\t<tr><th scope=row>c19.loc78</th><td>19</td><td> 78.000000</td><td> 1.6978022</td></tr>\n",
       "</tbody>\n",
       "</table>\n"
      ],
      "text/latex": [
       "A summary.scanone: 19 × 3\n",
       "\\begin{tabular}{r|lll}\n",
       "  & chr & pos & lod\\\\\n",
       "  & <fct> & <dbl> & <dbl>\\\\\n",
       "\\hline\n",
       "\tc1.loc25 & 1  &  25.000000 &  1.0629946\\\\\n",
       "\t2\\_4350083 & 2  &  20.051008 & 47.4029010\\\\\n",
       "\tc3.loc68 & 3  &  68.000000 &  0.8149524\\\\\n",
       "\t4\\_16592665 & 4  &  48.790039 &  0.8623521\\\\\n",
       "\tc5.loc75 & 5  &  75.000000 &  0.5699347\\\\\n",
       "\tc6.loc37 & 6  &  37.000000 &  2.1147762\\\\\n",
       "\tc7.loc104 & 7  & 104.000000 &  1.0906365\\\\\n",
       "\tc8.loc81 & 8  &  81.000000 &  2.1598895\\\\\n",
       "\tc9.loc35 & 9  &  35.000000 &  1.1915945\\\\\n",
       "\tc10.loc40 & 10 &  40.000000 &  1.9391805\\\\\n",
       "\tc11.loc37 & 11 &  37.000000 &  1.4241856\\\\\n",
       "\tc12.loc57 & 12 &  57.000000 &  1.7603325\\\\\n",
       "\tc13.loc83 & 13 &  83.000000 &  0.8603767\\\\\n",
       "\tc14.loc81 & 14 &  81.000000 &  1.0355550\\\\\n",
       "\tc15.loc35 & 15 &  35.000000 &  0.5926419\\\\\n",
       "\tc16.loc81 & 16 &  81.000000 &  0.5869880\\\\\n",
       "\t17\\_679913 & 17 &   2.954002 &  0.5785001\\\\\n",
       "\tc18.loc101 & 18 & 101.000000 &  0.3436512\\\\\n",
       "\tc19.loc78 & 19 &  78.000000 &  1.6978022\\\\\n",
       "\\end{tabular}\n"
      ],
      "text/markdown": [
       "\n",
       "A summary.scanone: 19 × 3\n",
       "\n",
       "| <!--/--> | chr &lt;fct&gt; | pos &lt;dbl&gt; | lod &lt;dbl&gt; |\n",
       "|---|---|---|---|\n",
       "| c1.loc25 | 1  |  25.000000 |  1.0629946 |\n",
       "| 2_4350083 | 2  |  20.051008 | 47.4029010 |\n",
       "| c3.loc68 | 3  |  68.000000 |  0.8149524 |\n",
       "| 4_16592665 | 4  |  48.790039 |  0.8623521 |\n",
       "| c5.loc75 | 5  |  75.000000 |  0.5699347 |\n",
       "| c6.loc37 | 6  |  37.000000 |  2.1147762 |\n",
       "| c7.loc104 | 7  | 104.000000 |  1.0906365 |\n",
       "| c8.loc81 | 8  |  81.000000 |  2.1598895 |\n",
       "| c9.loc35 | 9  |  35.000000 |  1.1915945 |\n",
       "| c10.loc40 | 10 |  40.000000 |  1.9391805 |\n",
       "| c11.loc37 | 11 |  37.000000 |  1.4241856 |\n",
       "| c12.loc57 | 12 |  57.000000 |  1.7603325 |\n",
       "| c13.loc83 | 13 |  83.000000 |  0.8603767 |\n",
       "| c14.loc81 | 14 |  81.000000 |  1.0355550 |\n",
       "| c15.loc35 | 15 |  35.000000 |  0.5926419 |\n",
       "| c16.loc81 | 16 |  81.000000 |  0.5869880 |\n",
       "| 17_679913 | 17 |   2.954002 |  0.5785001 |\n",
       "| c18.loc101 | 18 | 101.000000 |  0.3436512 |\n",
       "| c19.loc78 | 19 |  78.000000 |  1.6978022 |\n",
       "\n"
      ],
      "text/plain": [
       "           chr pos        lod       \n",
       "c1.loc25   1    25.000000  1.0629946\n",
       "2_4350083  2    20.051008 47.4029010\n",
       "c3.loc68   3    68.000000  0.8149524\n",
       "4_16592665 4    48.790039  0.8623521\n",
       "c5.loc75   5    75.000000  0.5699347\n",
       "c6.loc37   6    37.000000  2.1147762\n",
       "c7.loc104  7   104.000000  1.0906365\n",
       "c8.loc81   8    81.000000  2.1598895\n",
       "c9.loc35   9    35.000000  1.1915945\n",
       "c10.loc40  10   40.000000  1.9391805\n",
       "c11.loc37  11   37.000000  1.4241856\n",
       "c12.loc57  12   57.000000  1.7603325\n",
       "c13.loc83  13   83.000000  0.8603767\n",
       "c14.loc81  14   81.000000  1.0355550\n",
       "c15.loc35  15   35.000000  0.5926419\n",
       "c16.loc81  16   81.000000  0.5869880\n",
       "17_679913  17    2.954002  0.5785001\n",
       "c18.loc101 18  101.000000  0.3436512\n",
       "c19.loc78  19   78.000000  1.6978022"
      ]
     },
     "metadata": {},
     "output_type": "display_data"
    },
    {
     "data": {
      "image/png": "[encoded data removed]",
      "text/plain": [
       "plot without title"
      ]
     },
     "metadata": {
      "image/png": {
       "height": 420,
       "width": 420
      },
      "text/plain": {
       "height": 420,
       "width": 420
      }
     },
     "output_type": "display_data"
    }
   ],
   "source": [
    "#Deterime LOD Values\n",
    "TraitCIM<-cim(Map,pheno.col = colNum,method = \"hk\",\n",
    "              map.function = \"kosambi\") #Generate LOD Values\n",
    "plot(TraitCIM) #show LOD graph\n",
    "abline(h = LOD5,col = \"blue\") #overlay statistically significant line\n",
    "print(\"If nothing shows up, the values \n",
    "      are below the LOD5 score\") #warning for no peaks\n",
    "summary(TraitCIM)"
   ]
  },
  {
   "cell_type": "code",
   "execution_count": 20,
   "metadata": {},
   "outputs": [
    {
     "name": "stdin",
     "output_type": "stream",
     "text": [
      "Chromosome?  2\n"
     ]
    },
    {
     "data": {
      "image/png": "[encoded data removed]",
      "text/plain": [
       "plot without title"
      ]
     },
     "metadata": {
      "image/png": {
       "height": 420,
       "width": 420
      },
      "text/plain": {
       "height": 420,
       "width": 420
      }
     },
     "output_type": "display_data"
    }
   ],
   "source": [
    "#Chromosomal Analysis\n",
    "chr <- as.numeric(readline(\"Chromosome? \")) #collect chromosome to look at\n",
    "plot(TraitCIM, chr = chr,xlab = c(\"chr\",chr)) #Plot chr LOD scores\n",
    "abline(h = LOD5, col = \"blue\") #Statistically Significant"
   ]
  },
  {
   "cell_type": "code",
   "execution_count": 21,
   "metadata": {},
   "outputs": [
    {
     "data": {
      "text/html": [
       "<table>\n",
       "<caption>A scanone: 3 × 3</caption>\n",
       "<thead>\n",
       "\t<tr><th></th><th scope=col>chr</th><th scope=col>pos</th><th scope=col>lod</th></tr>\n",
       "\t<tr><th></th><th scope=col>&lt;fct&gt;</th><th scope=col>&lt;dbl&gt;</th><th scope=col>&lt;dbl&gt;</th></tr>\n",
       "</thead>\n",
       "<tbody>\n",
       "\t<tr><th scope=row>2_4350083</th><td>2</td><td>20.05101</td><td>47.40290</td></tr>\n",
       "\t<tr><th scope=row>2_4350083 </th><td>2</td><td>20.05101</td><td>47.40290</td></tr>\n",
       "\t<tr><th scope=row>2_4272907</th><td>2</td><td>20.32301</td><td>47.26973</td></tr>\n",
       "</tbody>\n",
       "</table>\n"
      ],
      "text/latex": [
       "A scanone: 3 × 3\n",
       "\\begin{tabular}{r|lll}\n",
       "  & chr & pos & lod\\\\\n",
       "  & <fct> & <dbl> & <dbl>\\\\\n",
       "\\hline\n",
       "\t2\\_4350083 & 2 & 20.05101 & 47.40290\\\\\n",
       "\t2\\_4350083  & 2 & 20.05101 & 47.40290\\\\\n",
       "\t2\\_4272907 & 2 & 20.32301 & 47.26973\\\\\n",
       "\\end{tabular}\n"
      ],
      "text/markdown": [
       "\n",
       "A scanone: 3 × 3\n",
       "\n",
       "| <!--/--> | chr &lt;fct&gt; | pos &lt;dbl&gt; | lod &lt;dbl&gt; |\n",
       "|---|---|---|---|\n",
       "| 2_4350083 | 2 | 20.05101 | 47.40290 |\n",
       "| 2_4350083  | 2 | 20.05101 | 47.40290 |\n",
       "| 2_4272907 | 2 | 20.32301 | 47.26973 |\n",
       "\n"
      ],
      "text/plain": [
       "           chr pos      lod     \n",
       "2_4350083  2   20.05101 47.40290\n",
       "2_4350083  2   20.05101 47.40290\n",
       "2_4272907  2   20.32301 47.26973"
      ]
     },
     "metadata": {},
     "output_type": "display_data"
    },
    {
     "data": {
      "text/html": [
       "<table>\n",
       "<caption>A scanone: 3 × 3</caption>\n",
       "<thead>\n",
       "\t<tr><th></th><th scope=col>chr</th><th scope=col>pos</th><th scope=col>lod</th></tr>\n",
       "\t<tr><th></th><th scope=col>&lt;fct&gt;</th><th scope=col>&lt;dbl&gt;</th><th scope=col>&lt;dbl&gt;</th></tr>\n",
       "</thead>\n",
       "<tbody>\n",
       "\t<tr><th scope=row>2_4272908</th><td>2</td><td>20.03701</td><td>33.56616076</td></tr>\n",
       "\t<tr><th scope=row>2_4350083</th><td>2</td><td>20.05101</td><td>47.40290100</td></tr>\n",
       "\t<tr><th scope=row>2_4599939</th><td>2</td><td>22.23201</td><td> 0.03190735</td></tr>\n",
       "</tbody>\n",
       "</table>\n"
      ],
      "text/latex": [
       "A scanone: 3 × 3\n",
       "\\begin{tabular}{r|lll}\n",
       "  & chr & pos & lod\\\\\n",
       "  & <fct> & <dbl> & <dbl>\\\\\n",
       "\\hline\n",
       "\t2\\_4272908 & 2 & 20.03701 & 33.56616076\\\\\n",
       "\t2\\_4350083 & 2 & 20.05101 & 47.40290100\\\\\n",
       "\t2\\_4599939 & 2 & 22.23201 &  0.03190735\\\\\n",
       "\\end{tabular}\n"
      ],
      "text/markdown": [
       "\n",
       "A scanone: 3 × 3\n",
       "\n",
       "| <!--/--> | chr &lt;fct&gt; | pos &lt;dbl&gt; | lod &lt;dbl&gt; |\n",
       "|---|---|---|---|\n",
       "| 2_4272908 | 2 | 20.03701 | 33.56616076 |\n",
       "| 2_4350083 | 2 | 20.05101 | 47.40290100 |\n",
       "| 2_4599939 | 2 | 22.23201 |  0.03190735 |\n",
       "\n"
      ],
      "text/plain": [
       "          chr pos      lod        \n",
       "2_4272908 2   20.03701 33.56616076\n",
       "2_4350083 2   20.05101 47.40290100\n",
       "2_4599939 2   22.23201  0.03190735"
      ]
     },
     "metadata": {},
     "output_type": "display_data"
    }
   ],
   "source": [
    "bayesint(TraitCIM, chr = chr, prob=0.95, expandtomarkers=TRUE) #calculate bayesian interval\n",
    "lodint(TraitCIM, chr = chr,expandtomarkers = TRUE ) #calculate LOD Support interval"
   ]
  },
  {
   "cell_type": "code",
   "execution_count": 22,
   "metadata": {},
   "outputs": [
    {
     "name": "stdin",
     "output_type": "stream",
     "text": [
      "Position for analysis:  20.05101\n"
     ]
    },
    {
     "name": "stderr",
     "output_type": "stream",
     "text": [
      "Warning message in getsex(cross):\n",
      "\"125 individuals with missing sex; assuming they're female\"\n",
      "Warning message in fitqtlengine(pheno = pheno, qtl = qtl, covar = covar, formula = formula, :\n",
      "\"Dropping 125 individuals with missing phenotypes.\n",
      "\"\n",
      "Warning message in getsex(cross):\n",
      "\"125 individuals with missing sex; assuming they're female\"\n"
     ]
    },
    {
     "data": {
      "text/plain": [
       "\n",
       "\t\tfitqtl summary\n",
       "\n",
       "Method: Haley-Knott regression \n",
       "Model:  normal phenotype\n",
       "Number of observations : 169 \n",
       "\n",
       "Full model result\n",
       "----------------------------------  \n",
       "Model formula: y ~ Q1 \n",
       "\n",
       "       df       SS          MS      LOD     %var Pvalue(Chi2) Pvalue(F)\n",
       "Model   1 30.37814 30.37814139 46.58881 71.90344            0         0\n",
       "Error 167 11.87038  0.07108012                                         \n",
       "Total 168 42.24852                                                     \n",
       "\n",
       "\n",
       "Estimated effects:\n",
       "-----------------\n",
       "               est       SE      t\n",
       "Intercept  0.46327  0.02057  22.52\n",
       "2@20.1    -0.86069  0.04163 -20.67\n"
      ]
     },
     "metadata": {},
     "output_type": "display_data"
    }
   ],
   "source": [
    "p <- as.numeric(readline(\"Position for analysis: \"))\n",
    "qtl <- makeqtl(Map, chr = chr, pos = p, what=\"prob\") #pulls genotype probabilities\n",
    "fitqtl <- fitqtl(Map, pheno.col=colNum, qtl = qtl, covar=NULL,\n",
    "       method= \"hk\",model=\"normal\",\n",
    "       dropone=TRUE, get.ests=TRUE,run.checks=TRUE,\n",
    "       tol=1e-4, maxit=1000, forceXcovar=FALSE) #sees how well our data fits a given formula \n",
    "          # If you see \"error: object of type 'closure' is not subsettable\", remove \"formula,\" from the fitqtl argument list.\n",
    "summary(fitqtl) #Print results of the analysis"
   ]
  }
 ],
 "metadata": {
  "kernelspec": {
   "display_name": "R",
   "language": "R",
   "name": "ir"
  },
  "language_info": {
   "codemirror_mode": "r",
   "file_extension": ".r",
   "mimetype": "text/x-r-source",
   "name": "R",
   "pygments_lexer": "r",
   "version": "3.6.1"
  }
 },
 "nbformat": 4,
 "nbformat_minor": 4
}
