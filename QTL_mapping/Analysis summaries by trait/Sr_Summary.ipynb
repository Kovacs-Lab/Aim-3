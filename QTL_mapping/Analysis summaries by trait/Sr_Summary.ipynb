{
 "cells": [
  {
   "cell_type": "markdown",
   "metadata": {},
   "source": [
    "This analysis is in the order of Female then Male"
   ]
  },
  {
   "cell_type": "code",
   "execution_count": 1,
   "metadata": {},
   "outputs": [
    {
     "name": "stderr",
     "output_type": "stream",
     "text": [
      "Warning message in install.packages(\"qtl\"):\n",
      "\"'lib = \"C:/Program Files/R/R-3.6.1/library\"' is not writable\"\n"
     ]
    },
    {
     "ename": "ERROR",
     "evalue": "Error in install.packages(\"qtl\"): unable to install packages\n",
     "output_type": "error",
     "traceback": [
      "Error in install.packages(\"qtl\"): unable to install packages\nTraceback:\n",
      "1. install.packages(\"qtl\")",
      "2. stop(\"unable to install packages\")"
     ]
    }
   ],
   "source": [
    "install.packages('qtl') #Main package, for analysis\n",
    "install.packages('qtlcharts') #accessory, for displaying graphs\n",
    "install.packages('LinkageMapView') #accessory, for displaying linkage maps\n",
    "install.packages('rcompanion')# for plotNormalHistogram"
   ]
  },
  {
   "cell_type": "code",
   "execution_count": 1,
   "metadata": {},
   "outputs": [
    {
     "name": "stderr",
     "output_type": "stream",
     "text": [
      "Warning message:\n",
      "\"package 'rcompanion' was built under R version 3.6.2\"\n"
     ]
    }
   ],
   "source": [
    "library(qtl) #load packages\n",
    "library(qtlcharts)\n",
    "library(LinkageMapView)\n",
    "library(rcompanion)"
   ]
  },
  {
   "cell_type": "code",
   "execution_count": 2,
   "metadata": {},
   "outputs": [
    {
     "name": "stdout",
     "output_type": "stream",
     "text": [
      "[1] \"Make sure to input names AS THEY APPEAR on the csv!!\"\n"
     ]
    },
    {
     "name": "stdin",
     "output_type": "stream",
     "text": [
      "Enter file name (Either FemaleMap.csv or MaleMap.csv):  FemaleMap.csv\n",
      "First Genotype (homozygous) (For example ll):  ll\n",
      "Second Genotype (heterozygous) (for example lm):  lm\n",
      "Column Number:  26\n"
     ]
    }
   ],
   "source": [
    "#Collecting enviroment variables\n",
    "print(\"Make sure to input names AS THEY APPEAR on the csv!!\") #Just a user warning\n",
    "fileName <- readline(\"Enter file name (Either FemaleMap.csv or MaleMap.csv): \") #Mapping table file\n",
    "genotypeName <- c(readline(\"First Genotype (homozygous) (For example ll): \"),\n",
    "                  readline(\"Second Genotype (heterozygous) (for example lm): \")) #For example \"nn\", \"np\"\n",
    "alleleName <- c(substr(genotypeName[2],1,1) ,substr(genotypeName[2],2,2))\n",
    "naNames <- c(\"NA\",\"--\") #For example \"NA\", \"--\"\n",
    "colNum <- as.numeric(readline(\"Column Number: \")) #Column for pheno of interest"
   ]
  },
  {
   "cell_type": "code",
   "execution_count": 3,
   "metadata": {},
   "outputs": [
    {
     "name": "stdout",
     "output_type": "stream",
     "text": [
      " --Read the following data:\n",
      "\t 294  individuals\n",
      "\t 1100  markers\n",
      "\t 38  phenotypes\n"
     ]
    },
    {
     "name": "stderr",
     "output_type": "stream",
     "text": [
      "Warning message in summary.cross(cross):\n",
      "\"Some markers at the same position on chr 1,2,4,5,7,8,9,10,11,12,13,14,16,17,18,19; use jittermap().\"\n"
     ]
    },
    {
     "name": "stdout",
     "output_type": "stream",
     "text": [
      " --Cross type: bc \n"
     ]
    },
    {
     "data": {
      "image/png": "[encoded data removed]",
      "text/plain": [
       "Plot with title \"Genetic map\""
      ]
     },
     "metadata": {
      "image/png": {
       "height": 420,
       "width": 420
      },
      "text/plain": {
       "height": 420,
       "width": 420
      }
     },
     "output_type": "display_data"
    }
   ],
   "source": [
    "#Map generation\n",
    "Map <- read.cross(format = 'csv',file = fileName \n",
    "                  ,genotypes = genotypeName,\n",
    "                  alleles = alleleName,na.strings = naNames) #generate linkage map\n",
    "Map <- jittermap(Map) #make sure no markers are in the same location\n",
    "Map <- calc.genoprob(Map,step = 1,map.function = \"kosambi\") #associate markers with full genotypes\n",
    "plot.map(Map) #draw linkage map"
   ]
  },
  {
   "cell_type": "code",
   "execution_count": 4,
   "metadata": {},
   "outputs": [
    {
     "data": {
      "image/png": "[encoded data removed]",
      "text/plain": [
       "Plot with title \"\""
      ]
     },
     "metadata": {
      "image/png": {
       "height": 420,
       "width": 420
      },
      "text/plain": {
       "height": 420,
       "width": 420
      }
     },
     "output_type": "display_data"
    }
   ],
   "source": [
    "plotNormalHistogram(Map$pheno[,colNum]) #normal histogram of pheno of interest"
   ]
  },
  {
   "cell_type": "markdown",
   "metadata": {},
   "source": [
    "Outliers exist in this dataset. Will need to be analyized. "
   ]
  },
  {
   "cell_type": "code",
   "execution_count": 5,
   "metadata": {},
   "outputs": [
    {
     "data": {
      "image/png": "[encoded data removed]",
      "text/plain": [
       "Plot with title \"\""
      ]
     },
     "metadata": {
      "image/png": {
       "height": 420,
       "width": 420
      },
      "text/plain": {
       "height": 420,
       "width": 420
      }
     },
     "output_type": "display_data"
    }
   ],
   "source": [
    "#Compute statistically significant values\n",
    "TraitCIM1000 <- cim(Map,pheno.col = colNum,method = \"hk\",\n",
    "                    map.function = \"kosambi\",n.perm = 1000) # Function will take a moment to run, determines LOD value\n",
    "plot(TraitCIM1000,col = 'green') #show distribution of lod scores\n",
    "LOD5 <- summary(TraitCIM1000)[1]"
   ]
  },
  {
   "cell_type": "code",
   "execution_count": 6,
   "metadata": {},
   "outputs": [
    {
     "name": "stdout",
     "output_type": "stream",
     "text": [
      "[1] \"If nothing shows up, the values \\n      are below the LOD5 score\"\n"
     ]
    },
    {
     "data": {
      "text/html": [
       "<table>\n",
       "<caption>A summary.scanone: 19 × 3</caption>\n",
       "<thead>\n",
       "\t<tr><th></th><th scope=col>chr</th><th scope=col>pos</th><th scope=col>lod</th></tr>\n",
       "\t<tr><th></th><th scope=col>&lt;fct&gt;</th><th scope=col>&lt;dbl&gt;</th><th scope=col>&lt;dbl&gt;</th></tr>\n",
       "</thead>\n",
       "<tbody>\n",
       "\t<tr><th scope=row>c1.loc56</th><td>1 </td><td>56.00000</td><td>0.8098193</td></tr>\n",
       "\t<tr><th scope=row>c2.loc9</th><td>2 </td><td> 9.00000</td><td>0.7089425</td></tr>\n",
       "\t<tr><th scope=row>c3.loc57</th><td>3 </td><td>57.00000</td><td>0.9478414</td></tr>\n",
       "\t<tr><th scope=row>4_6149524</th><td>4 </td><td>28.73402</td><td>0.7362090</td></tr>\n",
       "\t<tr><th scope=row>14_13969350</th><td>5 </td><td>51.79703</td><td>1.4830611</td></tr>\n",
       "\t<tr><th scope=row>c6.loc6</th><td>6 </td><td> 6.00000</td><td>0.6658914</td></tr>\n",
       "\t<tr><th scope=row>7_9813672</th><td>7 </td><td>38.35404</td><td>1.0150487</td></tr>\n",
       "\t<tr><th scope=row>8_11965187</th><td>8 </td><td>32.37302</td><td>0.3913001</td></tr>\n",
       "\t<tr><th scope=row>9_4309244</th><td>9 </td><td>25.36002</td><td>0.3954345</td></tr>\n",
       "\t<tr><th scope=row>c10.loc43</th><td>10</td><td>43.00000</td><td>0.7029260</td></tr>\n",
       "\t<tr><th scope=row>c11.loc23</th><td>11</td><td>23.00000</td><td>0.4934139</td></tr>\n",
       "\t<tr><th scope=row>12_17488466</th><td>12</td><td>72.18205</td><td>0.4974268</td></tr>\n",
       "\t<tr><th scope=row>c13.loc26</th><td>13</td><td>26.00000</td><td>1.0248163</td></tr>\n",
       "\t<tr><th scope=row>14_788160</th><td>14</td><td> 0.00000</td><td>1.3896256</td></tr>\n",
       "\t<tr><th scope=row>c15.loc47</th><td>15</td><td>47.00000</td><td>1.1689980</td></tr>\n",
       "\t<tr><th scope=row>c16.loc65</th><td>16</td><td>65.00000</td><td>0.7521858</td></tr>\n",
       "\t<tr><th scope=row>c17.loc36</th><td>17</td><td>36.00000</td><td>0.5356301</td></tr>\n",
       "\t<tr><th scope=row>18_7985014</th><td>18</td><td>33.86303</td><td>1.2311865</td></tr>\n",
       "\t<tr><th scope=row>19_23864743</th><td>19</td><td>59.92908</td><td>2.2836045</td></tr>\n",
       "</tbody>\n",
       "</table>\n"
      ],
      "text/latex": [
       "A summary.scanone: 19 × 3\n",
       "\\begin{tabular}{r|lll}\n",
       "  & chr & pos & lod\\\\\n",
       "  & <fct> & <dbl> & <dbl>\\\\\n",
       "\\hline\n",
       "\tc1.loc56 & 1  & 56.00000 & 0.8098193\\\\\n",
       "\tc2.loc9 & 2  &  9.00000 & 0.7089425\\\\\n",
       "\tc3.loc57 & 3  & 57.00000 & 0.9478414\\\\\n",
       "\t4\\_6149524 & 4  & 28.73402 & 0.7362090\\\\\n",
       "\t14\\_13969350 & 5  & 51.79703 & 1.4830611\\\\\n",
       "\tc6.loc6 & 6  &  6.00000 & 0.6658914\\\\\n",
       "\t7\\_9813672 & 7  & 38.35404 & 1.0150487\\\\\n",
       "\t8\\_11965187 & 8  & 32.37302 & 0.3913001\\\\\n",
       "\t9\\_4309244 & 9  & 25.36002 & 0.3954345\\\\\n",
       "\tc10.loc43 & 10 & 43.00000 & 0.7029260\\\\\n",
       "\tc11.loc23 & 11 & 23.00000 & 0.4934139\\\\\n",
       "\t12\\_17488466 & 12 & 72.18205 & 0.4974268\\\\\n",
       "\tc13.loc26 & 13 & 26.00000 & 1.0248163\\\\\n",
       "\t14\\_788160 & 14 &  0.00000 & 1.3896256\\\\\n",
       "\tc15.loc47 & 15 & 47.00000 & 1.1689980\\\\\n",
       "\tc16.loc65 & 16 & 65.00000 & 0.7521858\\\\\n",
       "\tc17.loc36 & 17 & 36.00000 & 0.5356301\\\\\n",
       "\t18\\_7985014 & 18 & 33.86303 & 1.2311865\\\\\n",
       "\t19\\_23864743 & 19 & 59.92908 & 2.2836045\\\\\n",
       "\\end{tabular}\n"
      ],
      "text/markdown": [
       "\n",
       "A summary.scanone: 19 × 3\n",
       "\n",
       "| <!--/--> | chr &lt;fct&gt; | pos &lt;dbl&gt; | lod &lt;dbl&gt; |\n",
       "|---|---|---|---|\n",
       "| c1.loc56 | 1  | 56.00000 | 0.8098193 |\n",
       "| c2.loc9 | 2  |  9.00000 | 0.7089425 |\n",
       "| c3.loc57 | 3  | 57.00000 | 0.9478414 |\n",
       "| 4_6149524 | 4  | 28.73402 | 0.7362090 |\n",
       "| 14_13969350 | 5  | 51.79703 | 1.4830611 |\n",
       "| c6.loc6 | 6  |  6.00000 | 0.6658914 |\n",
       "| 7_9813672 | 7  | 38.35404 | 1.0150487 |\n",
       "| 8_11965187 | 8  | 32.37302 | 0.3913001 |\n",
       "| 9_4309244 | 9  | 25.36002 | 0.3954345 |\n",
       "| c10.loc43 | 10 | 43.00000 | 0.7029260 |\n",
       "| c11.loc23 | 11 | 23.00000 | 0.4934139 |\n",
       "| 12_17488466 | 12 | 72.18205 | 0.4974268 |\n",
       "| c13.loc26 | 13 | 26.00000 | 1.0248163 |\n",
       "| 14_788160 | 14 |  0.00000 | 1.3896256 |\n",
       "| c15.loc47 | 15 | 47.00000 | 1.1689980 |\n",
       "| c16.loc65 | 16 | 65.00000 | 0.7521858 |\n",
       "| c17.loc36 | 17 | 36.00000 | 0.5356301 |\n",
       "| 18_7985014 | 18 | 33.86303 | 1.2311865 |\n",
       "| 19_23864743 | 19 | 59.92908 | 2.2836045 |\n",
       "\n"
      ],
      "text/plain": [
       "            chr pos      lod      \n",
       "c1.loc56    1   56.00000 0.8098193\n",
       "c2.loc9     2    9.00000 0.7089425\n",
       "c3.loc57    3   57.00000 0.9478414\n",
       "4_6149524   4   28.73402 0.7362090\n",
       "14_13969350 5   51.79703 1.4830611\n",
       "c6.loc6     6    6.00000 0.6658914\n",
       "7_9813672   7   38.35404 1.0150487\n",
       "8_11965187  8   32.37302 0.3913001\n",
       "9_4309244   9   25.36002 0.3954345\n",
       "c10.loc43   10  43.00000 0.7029260\n",
       "c11.loc23   11  23.00000 0.4934139\n",
       "12_17488466 12  72.18205 0.4974268\n",
       "c13.loc26   13  26.00000 1.0248163\n",
       "14_788160   14   0.00000 1.3896256\n",
       "c15.loc47   15  47.00000 1.1689980\n",
       "c16.loc65   16  65.00000 0.7521858\n",
       "c17.loc36   17  36.00000 0.5356301\n",
       "18_7985014  18  33.86303 1.2311865\n",
       "19_23864743 19  59.92908 2.2836045"
      ]
     },
     "metadata": {},
     "output_type": "display_data"
    },
    {
     "data": {
      "text/plain": [
       "LOD thresholds (1000 permutations)\n",
       "   [,1]\n",
       "5% 4.04\n",
       "1% 4.87"
      ]
     },
     "metadata": {},
     "output_type": "display_data"
    },
    {
     "data": {
      "image/png": "[encoded data removed]",
      "text/plain": [
       "plot without title"
      ]
     },
     "metadata": {
      "image/png": {
       "height": 420,
       "width": 420
      },
      "text/plain": {
       "height": 420,
       "width": 420
      }
     },
     "output_type": "display_data"
    }
   ],
   "source": [
    "#Deterime LOD Values\n",
    "TraitCIM<-cim(Map,pheno.col = colNum,method = \"hk\",\n",
    "              map.function = \"kosambi\") #Generate LOD Values\n",
    "plot(TraitCIM) #show LOD graph\n",
    "abline(h = LOD5,col = \"blue\") #overlay statistically significant line\n",
    "print(\"If nothing shows up, the values \n",
    "      are below the LOD5 score\") #warning for no peaks\n",
    "summary(TraitCIM)\n",
    "summary(TraitCIM1000,alpha=c(.05,.01))"
   ]
  },
  {
   "cell_type": "code",
   "execution_count": 6,
   "metadata": {},
   "outputs": [
    {
     "name": "stdin",
     "output_type": "stream",
     "text": [
      "Chromosome?  19\n"
     ]
    },
    {
     "ename": "ERROR",
     "evalue": "Error in plot(TraitCIM, chr = chr, xlab = chr): object 'TraitCIM' not found\n",
     "output_type": "error",
     "traceback": [
      "Error in plot(TraitCIM, chr = chr, xlab = chr): object 'TraitCIM' not found\nTraceback:\n",
      "1. plot(TraitCIM, chr = chr, xlab = chr)"
     ]
    }
   ],
   "source": [
    "#Chromosomal Analysis\n",
    "cont = 'Y' #Run loop on first run through\n",
    "while(cont == 'Y'){\n",
    "  chr <- as.numeric(readline(\"Chromosome? \")) #collect chromosome to look at\n",
    "  plot(TraitCIM, chr = chr, xlab= chr) #Plot chr LOD scores\n",
    "  abline(h = LOD5, col = \"blue\") #Statistically Significant\n",
    "  cont = readline(\"Would you like to investigate \n",
    "                  another chromosome? (Y/N): \") #Y if multiple\n",
    "                  #chromosomes are to be investigated\n",
    "}"
   ]
  },
  {
   "cell_type": "code",
   "execution_count": 8,
   "metadata": {},
   "outputs": [
    {
     "data": {
      "text/html": [
       "<table>\n",
       "<caption>A scanone: 3 × 3</caption>\n",
       "<thead>\n",
       "\t<tr><th></th><th scope=col>chr</th><th scope=col>pos</th><th scope=col>lod</th></tr>\n",
       "\t<tr><th></th><th scope=col>&lt;fct&gt;</th><th scope=col>&lt;dbl&gt;</th><th scope=col>&lt;dbl&gt;</th></tr>\n",
       "</thead>\n",
       "<tbody>\n",
       "\t<tr><th scope=row>19_276443</th><td>19</td><td> 0.00000</td><td>0.3141722</td></tr>\n",
       "\t<tr><th scope=row>19_23864743</th><td>19</td><td>59.92908</td><td>2.2836045</td></tr>\n",
       "\t<tr><th scope=row>15_6360233</th><td>19</td><td>61.47008</td><td>1.1145153</td></tr>\n",
       "</tbody>\n",
       "</table>\n"
      ],
      "text/latex": [
       "A scanone: 3 × 3\n",
       "\\begin{tabular}{r|lll}\n",
       "  & chr & pos & lod\\\\\n",
       "  & <fct> & <dbl> & <dbl>\\\\\n",
       "\\hline\n",
       "\t19\\_276443 & 19 &  0.00000 & 0.3141722\\\\\n",
       "\t19\\_23864743 & 19 & 59.92908 & 2.2836045\\\\\n",
       "\t15\\_6360233 & 19 & 61.47008 & 1.1145153\\\\\n",
       "\\end{tabular}\n"
      ],
      "text/markdown": [
       "\n",
       "A scanone: 3 × 3\n",
       "\n",
       "| <!--/--> | chr &lt;fct&gt; | pos &lt;dbl&gt; | lod &lt;dbl&gt; |\n",
       "|---|---|---|---|\n",
       "| 19_276443 | 19 |  0.00000 | 0.3141722 |\n",
       "| 19_23864743 | 19 | 59.92908 | 2.2836045 |\n",
       "| 15_6360233 | 19 | 61.47008 | 1.1145153 |\n",
       "\n"
      ],
      "text/plain": [
       "            chr pos      lod      \n",
       "19_276443   19   0.00000 0.3141722\n",
       "19_23864743 19  59.92908 2.2836045\n",
       "15_6360233  19  61.47008 1.1145153"
      ]
     },
     "metadata": {},
     "output_type": "display_data"
    },
    {
     "data": {
      "text/html": [
       "<table>\n",
       "<caption>A scanone: 3 × 3</caption>\n",
       "<thead>\n",
       "\t<tr><th></th><th scope=col>chr</th><th scope=col>pos</th><th scope=col>lod</th></tr>\n",
       "\t<tr><th></th><th scope=col>&lt;fct&gt;</th><th scope=col>&lt;dbl&gt;</th><th scope=col>&lt;dbl&gt;</th></tr>\n",
       "</thead>\n",
       "<tbody>\n",
       "\t<tr><th scope=row>c19.loc51</th><td>19</td><td>51.00000</td><td>0.1856489</td></tr>\n",
       "\t<tr><th scope=row>19_23864743</th><td>19</td><td>59.92908</td><td>2.2836045</td></tr>\n",
       "\t<tr><th scope=row>15_6360233</th><td>19</td><td>61.47008</td><td>1.1145153</td></tr>\n",
       "</tbody>\n",
       "</table>\n"
      ],
      "text/latex": [
       "A scanone: 3 × 3\n",
       "\\begin{tabular}{r|lll}\n",
       "  & chr & pos & lod\\\\\n",
       "  & <fct> & <dbl> & <dbl>\\\\\n",
       "\\hline\n",
       "\tc19.loc51 & 19 & 51.00000 & 0.1856489\\\\\n",
       "\t19\\_23864743 & 19 & 59.92908 & 2.2836045\\\\\n",
       "\t15\\_6360233 & 19 & 61.47008 & 1.1145153\\\\\n",
       "\\end{tabular}\n"
      ],
      "text/markdown": [
       "\n",
       "A scanone: 3 × 3\n",
       "\n",
       "| <!--/--> | chr &lt;fct&gt; | pos &lt;dbl&gt; | lod &lt;dbl&gt; |\n",
       "|---|---|---|---|\n",
       "| c19.loc51 | 19 | 51.00000 | 0.1856489 |\n",
       "| 19_23864743 | 19 | 59.92908 | 2.2836045 |\n",
       "| 15_6360233 | 19 | 61.47008 | 1.1145153 |\n",
       "\n"
      ],
      "text/plain": [
       "            chr pos      lod      \n",
       "c19.loc51   19  51.00000 0.1856489\n",
       "19_23864743 19  59.92908 2.2836045\n",
       "15_6360233  19  61.47008 1.1145153"
      ]
     },
     "metadata": {},
     "output_type": "display_data"
    }
   ],
   "source": [
    "#change to chromosome of interest below:\n",
    "bayesint(TraitCIM, chr = 19) #calculate bayesian interval\n",
    "lodint(TraitCIM, chr = 19) #calculate LOD Support interval"
   ]
  },
  {
   "cell_type": "code",
   "execution_count": 9,
   "metadata": {},
   "outputs": [
    {
     "name": "stdin",
     "output_type": "stream",
     "text": [
      "Position for analysis:  59.92\n"
     ]
    },
    {
     "name": "stderr",
     "output_type": "stream",
     "text": [
      "Warning message in getsex(cross):\n",
      "\"125 individuals with missing sex; assuming they're female\"\n",
      "Warning message in fitqtlengine(pheno = pheno, qtl = qtl, covar = covar, formula = formula, :\n",
      "\"Dropping 127 individuals with missing phenotypes.\n",
      "\"\n",
      "Warning message in getsex(cross):\n",
      "\"125 individuals with missing sex; assuming they're female\"\n"
     ]
    },
    {
     "data": {
      "text/plain": [
       "\n",
       "\t\tfitqtl summary\n",
       "\n",
       "Method: Haley-Knott regression \n",
       "Model:  normal phenotype\n",
       "Number of observations : 167 \n",
       "\n",
       "Full model result\n",
       "----------------------------------  \n",
       "Model formula: y ~ Q1 \n",
       "\n",
       "       df         SS        MS      LOD     %var Pvalue(Chi2)   Pvalue(F)\n",
       "Model   1   7.276387 7.2763870 1.609957 4.342489   0.00647137 0.006882988\n",
       "Error 165 160.286184 0.9714314                                           \n",
       "Total 166 167.562571                                                     \n",
       "\n",
       "\n",
       "Estimated effects:\n",
       "-----------------\n",
       "              est      SE      t\n",
       "Intercept 4.40361 0.07639 57.648\n",
       "19@59.9   0.42061 0.15368  2.737\n"
      ]
     },
     "metadata": {},
     "output_type": "display_data"
    }
   ],
   "source": [
    "p <- as.numeric(readline(\"Position for analysis: \"))\n",
    "qtl <- makeqtl(Map, chr = chr, pos = p, what=\"prob\") #pulls genotype probabilities\n",
    "fitqtl <- fitqtl(Map, pheno.col=colNum, qtl = qtl, covar=NULL,\n",
    "       method= \"hk\",model=\"normal\",\n",
    "       dropone=TRUE, get.ests=TRUE,run.checks=TRUE,\n",
    "       tol=1e-4, maxit=1000, forceXcovar=FALSE) #sees how well our data fits a given formula \n",
    "          # If you see \"error: object of type 'closure' is not subsettable\", remove \"formula,\" from the fitqtl argument list.\n",
    "summary(fitqtl) #Print results of the analysis"
   ]
  },
  {
   "cell_type": "code",
   "execution_count": 7,
   "metadata": {},
   "outputs": [
    {
     "name": "stdout",
     "output_type": "stream",
     "text": [
      "[1] \"Make sure to input names AS THEY APPEAR on the csv!!\"\n"
     ]
    },
    {
     "name": "stdin",
     "output_type": "stream",
     "text": [
      "Enter file name (Either FemaleMap.csv or MaleMap.csv):  MaleMap.csv\n",
      "First Genotype (homozygous) (For example ll):  nn\n",
      "Second Genotype (heterozygous) (for example lm):  np\n",
      "Column Number:  34\n"
     ]
    }
   ],
   "source": [
    "#Collecting enviroment variables\n",
    "print(\"Make sure to input names AS THEY APPEAR on the csv!!\") #Just a user warning\n",
    "fileName <- readline(\"Enter file name (Either FemaleMap.csv or MaleMap.csv): \") #Mapping table file\n",
    "genotypeName <- c(readline(\"First Genotype (homozygous) (For example ll): \"),\n",
    "                  readline(\"Second Genotype (heterozygous) (for example lm): \")) #For example \"nn\", \"np\"\n",
    "alleleName <- c(substr(genotypeName[2],1,1) ,substr(genotypeName[2],2,2))\n",
    "naNames <- c(\"NA\",\"--\") #For example \"NA\", \"--\"\n",
    "colNum <- as.numeric(readline(\"Column Number: \")) #Column for pheno of interest"
   ]
  },
  {
   "cell_type": "code",
   "execution_count": 8,
   "metadata": {},
   "outputs": [
    {
     "name": "stdout",
     "output_type": "stream",
     "text": [
      " --Read the following data:\n",
      "\t 294  individuals\n",
      "\t 1128  markers\n",
      "\t 38  phenotypes\n"
     ]
    },
    {
     "name": "stderr",
     "output_type": "stream",
     "text": [
      "Warning message in summary.cross(cross):\n",
      "\"Some markers at the same position on chr 1,3,4,5,6,7,8,9,10,12,13,14,15,16,17,18,19; use jittermap().\"\n"
     ]
    },
    {
     "name": "stdout",
     "output_type": "stream",
     "text": [
      " --Cross type: bc \n"
     ]
    },
    {
     "data": {
      "image/png": "[encoded data removed]",
      "text/plain": [
       "Plot with title \"Genetic map\""
      ]
     },
     "metadata": {
      "image/png": {
       "height": 420,
       "width": 420
      },
      "text/plain": {
       "height": 420,
       "width": 420
      }
     },
     "output_type": "display_data"
    }
   ],
   "source": [
    "#Map generation\n",
    "Map <- read.cross(format = 'csv',file = fileName \n",
    "                  ,genotypes = genotypeName,\n",
    "                  alleles = alleleName,na.strings = naNames) #generate linkage map\n",
    "Map <- jittermap(Map) #make sure no markers are in the same location\n",
    "Map <- calc.genoprob(Map,step = 1,map.function = \"kosambi\") #associate markers with full genotypes\n",
    "plot.map(Map) #draw linkage map"
   ]
  },
  {
   "cell_type": "code",
   "execution_count": 9,
   "metadata": {},
   "outputs": [
    {
     "data": {
      "image/png": "[encoded data removed]",
      "text/plain": [
       "Plot with title \"\""
      ]
     },
     "metadata": {
      "image/png": {
       "height": 420,
       "width": 420
      },
      "text/plain": {
       "height": 420,
       "width": 420
      }
     },
     "output_type": "display_data"
    }
   ],
   "source": [
    "plotNormalHistogram(Map$pheno[,colNum]) #normal histogram of pheno of interest"
   ]
  },
  {
   "cell_type": "markdown",
   "metadata": {},
   "source": [
    "Outliers exist in this data. "
   ]
  },
  {
   "cell_type": "code",
   "execution_count": 10,
   "metadata": {},
   "outputs": [
    {
     "data": {
      "image/png": "[encoded data removed]",
      "text/plain": [
       "Plot with title \"\""
      ]
     },
     "metadata": {
      "image/png": {
       "height": 420,
       "width": 420
      },
      "text/plain": {
       "height": 420,
       "width": 420
      }
     },
     "output_type": "display_data"
    }
   ],
   "source": [
    "#Compute statistically significant values\n",
    "TraitCIM1000 <- cim(Map,pheno.col = colNum,method = \"hk\",\n",
    "                    map.function = \"kosambi\",n.perm = 1000) # Function will take a moment to run, determines LOD value\n",
    "plot(TraitCIM1000,col = 'green') #show distribution of lod scores\n",
    "LOD5 <- summary(TraitCIM1000)[1]"
   ]
  },
  {
   "cell_type": "code",
   "execution_count": 11,
   "metadata": {},
   "outputs": [
    {
     "name": "stdout",
     "output_type": "stream",
     "text": [
      "[1] \"If nothing shows up, the values \\n      are below the LOD5 score\"\n"
     ]
    },
    {
     "data": {
      "text/html": [
       "<table>\n",
       "<caption>A summary.scanone: 19 × 3</caption>\n",
       "<thead>\n",
       "\t<tr><th></th><th scope=col>chr</th><th scope=col>pos</th><th scope=col>lod</th></tr>\n",
       "\t<tr><th></th><th scope=col>&lt;fct&gt;</th><th scope=col>&lt;dbl&gt;</th><th scope=col>&lt;dbl&gt;</th></tr>\n",
       "</thead>\n",
       "<tbody>\n",
       "\t<tr><th scope=row>c1.loc25</th><td>1 </td><td>25.000000</td><td>1.3069623</td></tr>\n",
       "\t<tr><th scope=row>c2.loc69</th><td>2 </td><td>69.000000</td><td>1.1266206</td></tr>\n",
       "\t<tr><th scope=row>3_2224905</th><td>3 </td><td> 8.582013</td><td>0.5276705</td></tr>\n",
       "\t<tr><th scope=row>4_7599187</th><td>4 </td><td>35.680023</td><td>0.4883135</td></tr>\n",
       "\t<tr><th scope=row>c5.loc75</th><td>5 </td><td>75.000000</td><td>0.8365970</td></tr>\n",
       "\t<tr><th scope=row>c6.loc58</th><td>6 </td><td>58.000000</td><td>0.8522645</td></tr>\n",
       "\t<tr><th scope=row>7_23660770</th><td>7 </td><td>96.595075</td><td>1.2857541</td></tr>\n",
       "\t<tr><th scope=row>c8.loc14</th><td>8 </td><td>14.000000</td><td>1.6360672</td></tr>\n",
       "\t<tr><th scope=row>9_742124</th><td>9 </td><td> 1.730002</td><td>1.0316025</td></tr>\n",
       "\t<tr><th scope=row>10_11441598</th><td>10</td><td>59.136022</td><td>1.0813244</td></tr>\n",
       "\t<tr><th scope=row>c11.loc73</th><td>11</td><td>73.000000</td><td>0.8251961</td></tr>\n",
       "\t<tr><th scope=row>c12.loc27</th><td>12</td><td>27.000000</td><td>1.6229957</td></tr>\n",
       "\t<tr><th scope=row>13_2824036</th><td>13</td><td>12.779012</td><td>0.4441991</td></tr>\n",
       "\t<tr><th scope=row>14_28913313</th><td>14</td><td>89.427080</td><td>2.8042799</td></tr>\n",
       "\t<tr><th scope=row>c15.loc27</th><td>15</td><td>27.000000</td><td>1.6370882</td></tr>\n",
       "\t<tr><th scope=row>c16.loc22</th><td>16</td><td>22.000000</td><td>1.1317739</td></tr>\n",
       "\t<tr><th scope=row>c17.loc26</th><td>17</td><td>26.000000</td><td>0.8122276</td></tr>\n",
       "\t<tr><th scope=row>c18.loc65</th><td>18</td><td>65.000000</td><td>1.2453557</td></tr>\n",
       "\t<tr><th scope=row>c19.loc47</th><td>19</td><td>47.000000</td><td>2.0707763</td></tr>\n",
       "</tbody>\n",
       "</table>\n"
      ],
      "text/latex": [
       "A summary.scanone: 19 × 3\n",
       "\\begin{tabular}{r|lll}\n",
       "  & chr & pos & lod\\\\\n",
       "  & <fct> & <dbl> & <dbl>\\\\\n",
       "\\hline\n",
       "\tc1.loc25 & 1  & 25.000000 & 1.3069623\\\\\n",
       "\tc2.loc69 & 2  & 69.000000 & 1.1266206\\\\\n",
       "\t3\\_2224905 & 3  &  8.582013 & 0.5276705\\\\\n",
       "\t4\\_7599187 & 4  & 35.680023 & 0.4883135\\\\\n",
       "\tc5.loc75 & 5  & 75.000000 & 0.8365970\\\\\n",
       "\tc6.loc58 & 6  & 58.000000 & 0.8522645\\\\\n",
       "\t7\\_23660770 & 7  & 96.595075 & 1.2857541\\\\\n",
       "\tc8.loc14 & 8  & 14.000000 & 1.6360672\\\\\n",
       "\t9\\_742124 & 9  &  1.730002 & 1.0316025\\\\\n",
       "\t10\\_11441598 & 10 & 59.136022 & 1.0813244\\\\\n",
       "\tc11.loc73 & 11 & 73.000000 & 0.8251961\\\\\n",
       "\tc12.loc27 & 12 & 27.000000 & 1.6229957\\\\\n",
       "\t13\\_2824036 & 13 & 12.779012 & 0.4441991\\\\\n",
       "\t14\\_28913313 & 14 & 89.427080 & 2.8042799\\\\\n",
       "\tc15.loc27 & 15 & 27.000000 & 1.6370882\\\\\n",
       "\tc16.loc22 & 16 & 22.000000 & 1.1317739\\\\\n",
       "\tc17.loc26 & 17 & 26.000000 & 0.8122276\\\\\n",
       "\tc18.loc65 & 18 & 65.000000 & 1.2453557\\\\\n",
       "\tc19.loc47 & 19 & 47.000000 & 2.0707763\\\\\n",
       "\\end{tabular}\n"
      ],
      "text/markdown": [
       "\n",
       "A summary.scanone: 19 × 3\n",
       "\n",
       "| <!--/--> | chr &lt;fct&gt; | pos &lt;dbl&gt; | lod &lt;dbl&gt; |\n",
       "|---|---|---|---|\n",
       "| c1.loc25 | 1  | 25.000000 | 1.3069623 |\n",
       "| c2.loc69 | 2  | 69.000000 | 1.1266206 |\n",
       "| 3_2224905 | 3  |  8.582013 | 0.5276705 |\n",
       "| 4_7599187 | 4  | 35.680023 | 0.4883135 |\n",
       "| c5.loc75 | 5  | 75.000000 | 0.8365970 |\n",
       "| c6.loc58 | 6  | 58.000000 | 0.8522645 |\n",
       "| 7_23660770 | 7  | 96.595075 | 1.2857541 |\n",
       "| c8.loc14 | 8  | 14.000000 | 1.6360672 |\n",
       "| 9_742124 | 9  |  1.730002 | 1.0316025 |\n",
       "| 10_11441598 | 10 | 59.136022 | 1.0813244 |\n",
       "| c11.loc73 | 11 | 73.000000 | 0.8251961 |\n",
       "| c12.loc27 | 12 | 27.000000 | 1.6229957 |\n",
       "| 13_2824036 | 13 | 12.779012 | 0.4441991 |\n",
       "| 14_28913313 | 14 | 89.427080 | 2.8042799 |\n",
       "| c15.loc27 | 15 | 27.000000 | 1.6370882 |\n",
       "| c16.loc22 | 16 | 22.000000 | 1.1317739 |\n",
       "| c17.loc26 | 17 | 26.000000 | 0.8122276 |\n",
       "| c18.loc65 | 18 | 65.000000 | 1.2453557 |\n",
       "| c19.loc47 | 19 | 47.000000 | 2.0707763 |\n",
       "\n"
      ],
      "text/plain": [
       "            chr pos       lod      \n",
       "c1.loc25    1   25.000000 1.3069623\n",
       "c2.loc69    2   69.000000 1.1266206\n",
       "3_2224905   3    8.582013 0.5276705\n",
       "4_7599187   4   35.680023 0.4883135\n",
       "c5.loc75    5   75.000000 0.8365970\n",
       "c6.loc58    6   58.000000 0.8522645\n",
       "7_23660770  7   96.595075 1.2857541\n",
       "c8.loc14    8   14.000000 1.6360672\n",
       "9_742124    9    1.730002 1.0316025\n",
       "10_11441598 10  59.136022 1.0813244\n",
       "c11.loc73   11  73.000000 0.8251961\n",
       "c12.loc27   12  27.000000 1.6229957\n",
       "13_2824036  13  12.779012 0.4441991\n",
       "14_28913313 14  89.427080 2.8042799\n",
       "c15.loc27   15  27.000000 1.6370882\n",
       "c16.loc22   16  22.000000 1.1317739\n",
       "c17.loc26   17  26.000000 0.8122276\n",
       "c18.loc65   18  65.000000 1.2453557\n",
       "c19.loc47   19  47.000000 2.0707763"
      ]
     },
     "metadata": {},
     "output_type": "display_data"
    },
    {
     "data": {
      "text/plain": [
       "LOD thresholds (1000 permutations)\n",
       "   [,1]\n",
       "5% 4.38\n",
       "1% 5.43"
      ]
     },
     "metadata": {},
     "output_type": "display_data"
    },
    {
     "data": {
      "image/png": "[encoded data removed]",
      "text/plain": [
       "plot without title"
      ]
     },
     "metadata": {
      "image/png": {
       "height": 420,
       "width": 420
      },
      "text/plain": {
       "height": 420,
       "width": 420
      }
     },
     "output_type": "display_data"
    }
   ],
   "source": [
    "#Deterime LOD Values\n",
    "TraitCIM<-cim(Map,pheno.col = colNum,method = \"hk\",\n",
    "              map.function = \"kosambi\") #Generate LOD Values\n",
    "plot(TraitCIM) #show LOD graph\n",
    "abline(h = LOD5,col = \"blue\") #overlay statistically significant line\n",
    "print(\"If nothing shows up, the values \n",
    "      are below the LOD5 score\") #warning for no peaks\n",
    "summary(TraitCIM)\n",
    "summary(TraitCIM1000,alpha=c(.05,.01))"
   ]
  },
  {
   "cell_type": "code",
   "execution_count": 12,
   "metadata": {},
   "outputs": [
    {
     "name": "stdin",
     "output_type": "stream",
     "text": [
      "Chromosome?  14\n",
      "Would you like to investigate \n",
      "                  another chromosome? (Y/N):  n\n"
     ]
    },
    {
     "data": {
      "image/png": "[encoded data removed]",
      "text/plain": [
       "plot without title"
      ]
     },
     "metadata": {
      "image/png": {
       "height": 420,
       "width": 420
      },
      "text/plain": {
       "height": 420,
       "width": 420
      }
     },
     "output_type": "display_data"
    }
   ],
   "source": [
    "#Chromosomal Analysis\n",
    "cont = 'Y' #Run loop on first run through\n",
    "while(cont == 'Y'){\n",
    "  chr <- as.numeric(readline(\"Chromosome? \")) #collect chromosome to look at\n",
    "  plot(TraitCIM, chr = chr, xlab=chr) #Plot chr LOD scores\n",
    "  abline(h = LOD5, col = \"blue\") #Statistically Significant\n",
    "  cont = readline(\"Would you like to investigate \n",
    "                  another chromosome? (Y/N): \") #Y if multiple\n",
    "                  #chromosomes are to be investigated\n",
    "}"
   ]
  },
  {
   "cell_type": "code",
   "execution_count": null,
   "metadata": {},
   "outputs": [],
   "source": []
  }
 ],
 "metadata": {
  "kernelspec": {
   "display_name": "R",
   "language": "R",
   "name": "ir"
  },
  "language_info": {
   "codemirror_mode": "r",
   "file_extension": ".r",
   "mimetype": "text/x-r-source",
   "name": "R",
   "pygments_lexer": "r",
   "version": "3.6.1"
  }
 },
 "nbformat": 4,
 "nbformat_minor": 4
}
