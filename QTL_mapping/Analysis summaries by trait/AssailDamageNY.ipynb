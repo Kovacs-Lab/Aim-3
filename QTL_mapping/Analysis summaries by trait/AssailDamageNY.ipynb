{
 "cells": [
  {
   "cell_type": "markdown",
   "metadata": {},
   "source": [
    "This analysis is in the order of Female then Male"
   ]
  },
  {
   "cell_type": "code",
   "execution_count": 1,
   "metadata": {},
   "outputs": [
    {
     "name": "stderr",
     "output_type": "stream",
     "text": [
      "Installing package into 'C:/Users/Courtney/Documents/R/win-library/3.6'\n",
      "(as 'lib' is unspecified)\n",
      "\n"
     ]
    },
    {
     "name": "stdout",
     "output_type": "stream",
     "text": [
      "package 'qtl' successfully unpacked and MD5 sums checked\n"
     ]
    },
    {
     "name": "stderr",
     "output_type": "stream",
     "text": [
      "Warning message:\n",
      "\"cannot remove prior installation of package 'qtl'\"\n",
      "Warning message in file.copy(savedcopy, lib, recursive = TRUE):\n",
      "\"problem copying C:\\Users\\Courtney\\Documents\\R\\win-library\\3.6\\00LOCK\\qtl\\libs\\x64\\qtl.dll to C:\\Users\\Courtney\\Documents\\R\\win-library\\3.6\\qtl\\libs\\x64\\qtl.dll: Permission denied\"\n",
      "Warning message:\n",
      "\"restored 'qtl'\"\n"
     ]
    },
    {
     "name": "stdout",
     "output_type": "stream",
     "text": [
      "\n",
      "The downloaded binary packages are in\n",
      "\tC:\\Users\\Courtney\\AppData\\Local\\Temp\\Rtmp0YR5iJ\\downloaded_packages\n"
     ]
    },
    {
     "name": "stderr",
     "output_type": "stream",
     "text": [
      "Installing package into 'C:/Users/Courtney/Documents/R/win-library/3.6'\n",
      "(as 'lib' is unspecified)\n",
      "\n"
     ]
    },
    {
     "name": "stdout",
     "output_type": "stream",
     "text": [
      "package 'qtlcharts' successfully unpacked and MD5 sums checked\n",
      "\n",
      "The downloaded binary packages are in\n",
      "\tC:\\Users\\Courtney\\AppData\\Local\\Temp\\Rtmp0YR5iJ\\downloaded_packages\n"
     ]
    },
    {
     "name": "stderr",
     "output_type": "stream",
     "text": [
      "Installing package into 'C:/Users/Courtney/Documents/R/win-library/3.6'\n",
      "(as 'lib' is unspecified)\n",
      "\n"
     ]
    },
    {
     "name": "stdout",
     "output_type": "stream",
     "text": [
      "package 'LinkageMapView' successfully unpacked and MD5 sums checked\n",
      "\n",
      "The downloaded binary packages are in\n",
      "\tC:\\Users\\Courtney\\AppData\\Local\\Temp\\Rtmp0YR5iJ\\downloaded_packages\n"
     ]
    },
    {
     "name": "stderr",
     "output_type": "stream",
     "text": [
      "Installing package into 'C:/Users/Courtney/Documents/R/win-library/3.6'\n",
      "(as 'lib' is unspecified)\n",
      "\n"
     ]
    },
    {
     "name": "stdout",
     "output_type": "stream",
     "text": [
      "\n",
      "  There is a binary version available but the source version is later:\n",
      "           binary source needs_compilation\n",
      "rcompanion  2.4.0  2.4.1             FALSE\n",
      "\n"
     ]
    },
    {
     "name": "stderr",
     "output_type": "stream",
     "text": [
      "installing the source package 'rcompanion'\n",
      "\n",
      "\n"
     ]
    }
   ],
   "source": [
    "install.packages('qtl') #Main package, for analysis\n",
    "install.packages('qtlcharts') #accessory, for displaying graphs\n",
    "install.packages('LinkageMapView') #accessory, for displaying linkage maps\n",
    "install.packages('rcompanion')# for plotNormalHistogram"
   ]
  },
  {
   "cell_type": "code",
   "execution_count": 2,
   "metadata": {},
   "outputs": [],
   "source": [
    "library(qtl) #load packages\n",
    "library(qtlcharts)\n",
    "library(LinkageMapView)\n",
    "library(rcompanion)"
   ]
  },
  {
   "cell_type": "code",
   "execution_count": 3,
   "metadata": {},
   "outputs": [
    {
     "name": "stdout",
     "output_type": "stream",
     "text": [
      "[1] \"Make sure to input names AS THEY APPEAR on the csv!!\"\n"
     ]
    },
    {
     "name": "stdin",
     "output_type": "stream",
     "text": [
      "Enter file name (Either FemaleMap.csv or MaleMap.csv):  FemaleMap_2021_July20.csv\n",
      "First Genotype (homozygous) (For example ll):  ll\n",
      "Second Genotype (heterozygous) (for example lm):  lm\n",
      "Column Number:  62\n"
     ]
    }
   ],
   "source": [
    "#Collecting enviroment variables\n",
    "print(\"Make sure to input names AS THEY APPEAR on the csv!!\") #Just a user warning\n",
    "fileName <- readline(\"Enter file name (Either FemaleMap.csv or MaleMap.csv): \") #Mapping table file\n",
    "genotypeName <- c(readline(\"First Genotype (homozygous) (For example ll): \"),\n",
    "                  readline(\"Second Genotype (heterozygous) (for example lm): \")) #For example \"nn\", \"np\"\n",
    "alleleName <- c(substr(genotypeName[2],1,1) ,substr(genotypeName[2],2,2))\n",
    "naNames <- c(\"NA\",\"--\") #For example \"NA\", \"--\"\n",
    "colNum <- as.numeric(readline(\"Column Number: \")) #Column for pheno of interest"
   ]
  },
  {
   "cell_type": "code",
   "execution_count": 4,
   "metadata": {},
   "outputs": [
    {
     "name": "stderr",
     "output_type": "stream",
     "text": [
      "Warning message in FUN(X[[i]], ...):\n",
      "\"The phenotype value \" \"  was interpreted as missing.\"\n"
     ]
    },
    {
     "name": "stdout",
     "output_type": "stream",
     "text": [
      " --Read the following data:\n",
      "\t 294  individuals\n",
      "\t 1100  markers\n",
      "\t 64  phenotypes\n"
     ]
    },
    {
     "name": "stderr",
     "output_type": "stream",
     "text": [
      "Warning message in summary.cross(cross):\n",
      "\"Some markers at the same position on chr 1,2,4,5,7,8,9,10,11,12,13,14,16,17,18,19; use jittermap().\"\n"
     ]
    },
    {
     "name": "stdout",
     "output_type": "stream",
     "text": [
      " --Cross type: bc \n"
     ]
    },
    {
     "data": {
      "image/png": "[encoded data removed]",
      "text/plain": [
       "Plot with title \"Genetic map\""
      ]
     },
     "metadata": {
      "image/png": {
       "height": 420,
       "width": 420
      },
      "text/plain": {
       "height": 420,
       "width": 420
      }
     },
     "output_type": "display_data"
    }
   ],
   "source": [
    "#Map generation\n",
    "Map <- read.cross(format = 'csv',file = fileName \n",
    "                  ,genotypes = genotypeName,\n",
    "                  alleles = alleleName,na.strings = naNames) #generate linkage map\n",
    "Map <- jittermap(Map) #make sure no markers are in the same location\n",
    "Map <- calc.genoprob(Map,step = 1,map.function = \"kosambi\") #associate markers with full genotypes\n",
    "plot.map(Map) #draw linkage map"
   ]
  },
  {
   "cell_type": "code",
   "execution_count": 5,
   "metadata": {},
   "outputs": [
    {
     "data": {
      "image/png": "[encoded data removed]",
      "text/plain": [
       "Plot with title \"\""
      ]
     },
     "metadata": {
      "image/png": {
       "height": 420,
       "width": 420
      },
      "text/plain": {
       "height": 420,
       "width": 420
      }
     },
     "output_type": "display_data"
    }
   ],
   "source": [
    "plotNormalHistogram(Map$pheno[,colNum]) #normal histogram of pheno of interest"
   ]
  },
  {
   "cell_type": "markdown",
   "metadata": {},
   "source": [
    "Outliers exist in this dataset. Will need to be analyized. "
   ]
  },
  {
   "cell_type": "code",
   "execution_count": 6,
   "metadata": {},
   "outputs": [
    {
     "data": {
      "text/plain": [
       "LOD thresholds (1000 permutations)\n",
       "   [,1]\n",
       "5% 4.11\n",
       "1% 5.43"
      ]
     },
     "metadata": {},
     "output_type": "display_data"
    },
    {
     "data": {
      "image/png": "[encoded data removed]",
      "text/plain": [
       "Plot with title \"\""
      ]
     },
     "metadata": {
      "image/png": {
       "height": 420,
       "width": 420
      },
      "text/plain": {
       "height": 420,
       "width": 420
      }
     },
     "output_type": "display_data"
    }
   ],
   "source": [
    "#Compute statistically significant values\n",
    "TraitCIM1000 <- cim(Map,pheno.col = colNum,method = \"hk\",\n",
    "                    map.function = \"kosambi\",n.perm = 1000) # Function will take a moment to run, determines LOD value\n",
    "plot(TraitCIM1000,col = 'green') #show distribution of lod scores\n",
    "summary(TraitCIM1000,alpha=c(.05,.01))"
   ]
  },
  {
   "cell_type": "code",
   "execution_count": 7,
   "metadata": {},
   "outputs": [
    {
     "name": "stdout",
     "output_type": "stream",
     "text": [
      "[1] \"If nothing shows up, the values \\n      are below the LOD5 score\"\n"
     ]
    },
    {
     "data": {
      "text/html": [
       "<table>\n",
       "<caption>A summary.scanone: 19 × 3</caption>\n",
       "<thead>\n",
       "\t<tr><th></th><th scope=col>chr</th><th scope=col>pos</th><th scope=col>lod</th></tr>\n",
       "\t<tr><th></th><th scope=col>&lt;fct&gt;</th><th scope=col>&lt;dbl&gt;</th><th scope=col>&lt;dbl&gt;</th></tr>\n",
       "</thead>\n",
       "<tbody>\n",
       "\t<tr><th scope=row>1_19145591</th><td>1 </td><td>61.270035</td><td>1.1864051</td></tr>\n",
       "\t<tr><th scope=row>c2.loc20</th><td>2 </td><td>20.000000</td><td>0.2271039</td></tr>\n",
       "\t<tr><th scope=row>c3.loc30</th><td>3 </td><td>30.000000</td><td>1.2942615</td></tr>\n",
       "\t<tr><th scope=row>4_2940289</th><td>4 </td><td>11.906014</td><td>0.6747296</td></tr>\n",
       "\t<tr><th scope=row>5_21614858</th><td>5 </td><td>71.277060</td><td>1.5230108</td></tr>\n",
       "\t<tr><th scope=row>c6.loc37</th><td>6 </td><td>37.000000</td><td>0.8771046</td></tr>\n",
       "\t<tr><th scope=row>7_24102596</th><td>7 </td><td>79.698096</td><td>2.2704153</td></tr>\n",
       "\t<tr><th scope=row>c8.loc18</th><td>8 </td><td>18.000000</td><td>0.8017226</td></tr>\n",
       "\t<tr><th scope=row>c9.loc7</th><td>9 </td><td> 7.000000</td><td>0.3514257</td></tr>\n",
       "\t<tr><th scope=row>c10.loc9</th><td>10</td><td> 9.000000</td><td>7.1773254</td></tr>\n",
       "\t<tr><th scope=row>c11.loc29</th><td>11</td><td>29.000000</td><td>1.1901522</td></tr>\n",
       "\t<tr><th scope=row>c12.loc6</th><td>12</td><td> 6.000000</td><td>0.6094329</td></tr>\n",
       "\t<tr><th scope=row>c13.loc36</th><td>13</td><td>36.000000</td><td>1.8168731</td></tr>\n",
       "\t<tr><th scope=row>14_788160</th><td>14</td><td> 0.000000</td><td>0.6009852</td></tr>\n",
       "\t<tr><th scope=row>7_24118142</th><td>15</td><td> 4.427005</td><td>2.4186217</td></tr>\n",
       "\t<tr><th scope=row>16_22987098</th><td>16</td><td>60.148046</td><td>0.8891184</td></tr>\n",
       "\t<tr><th scope=row>17_10264975</th><td>17</td><td>58.783039</td><td>1.0316869</td></tr>\n",
       "\t<tr><th scope=row>c18.loc60</th><td>18</td><td>60.000000</td><td>1.7682586</td></tr>\n",
       "\t<tr><th scope=row>c19.loc12</th><td>19</td><td>12.000000</td><td>0.9267469</td></tr>\n",
       "</tbody>\n",
       "</table>\n"
      ],
      "text/latex": [
       "A summary.scanone: 19 × 3\n",
       "\\begin{tabular}{r|lll}\n",
       "  & chr & pos & lod\\\\\n",
       "  & <fct> & <dbl> & <dbl>\\\\\n",
       "\\hline\n",
       "\t1\\_19145591 & 1  & 61.270035 & 1.1864051\\\\\n",
       "\tc2.loc20 & 2  & 20.000000 & 0.2271039\\\\\n",
       "\tc3.loc30 & 3  & 30.000000 & 1.2942615\\\\\n",
       "\t4\\_2940289 & 4  & 11.906014 & 0.6747296\\\\\n",
       "\t5\\_21614858 & 5  & 71.277060 & 1.5230108\\\\\n",
       "\tc6.loc37 & 6  & 37.000000 & 0.8771046\\\\\n",
       "\t7\\_24102596 & 7  & 79.698096 & 2.2704153\\\\\n",
       "\tc8.loc18 & 8  & 18.000000 & 0.8017226\\\\\n",
       "\tc9.loc7 & 9  &  7.000000 & 0.3514257\\\\\n",
       "\tc10.loc9 & 10 &  9.000000 & 7.1773254\\\\\n",
       "\tc11.loc29 & 11 & 29.000000 & 1.1901522\\\\\n",
       "\tc12.loc6 & 12 &  6.000000 & 0.6094329\\\\\n",
       "\tc13.loc36 & 13 & 36.000000 & 1.8168731\\\\\n",
       "\t14\\_788160 & 14 &  0.000000 & 0.6009852\\\\\n",
       "\t7\\_24118142 & 15 &  4.427005 & 2.4186217\\\\\n",
       "\t16\\_22987098 & 16 & 60.148046 & 0.8891184\\\\\n",
       "\t17\\_10264975 & 17 & 58.783039 & 1.0316869\\\\\n",
       "\tc18.loc60 & 18 & 60.000000 & 1.7682586\\\\\n",
       "\tc19.loc12 & 19 & 12.000000 & 0.9267469\\\\\n",
       "\\end{tabular}\n"
      ],
      "text/markdown": [
       "\n",
       "A summary.scanone: 19 × 3\n",
       "\n",
       "| <!--/--> | chr &lt;fct&gt; | pos &lt;dbl&gt; | lod &lt;dbl&gt; |\n",
       "|---|---|---|---|\n",
       "| 1_19145591 | 1  | 61.270035 | 1.1864051 |\n",
       "| c2.loc20 | 2  | 20.000000 | 0.2271039 |\n",
       "| c3.loc30 | 3  | 30.000000 | 1.2942615 |\n",
       "| 4_2940289 | 4  | 11.906014 | 0.6747296 |\n",
       "| 5_21614858 | 5  | 71.277060 | 1.5230108 |\n",
       "| c6.loc37 | 6  | 37.000000 | 0.8771046 |\n",
       "| 7_24102596 | 7  | 79.698096 | 2.2704153 |\n",
       "| c8.loc18 | 8  | 18.000000 | 0.8017226 |\n",
       "| c9.loc7 | 9  |  7.000000 | 0.3514257 |\n",
       "| c10.loc9 | 10 |  9.000000 | 7.1773254 |\n",
       "| c11.loc29 | 11 | 29.000000 | 1.1901522 |\n",
       "| c12.loc6 | 12 |  6.000000 | 0.6094329 |\n",
       "| c13.loc36 | 13 | 36.000000 | 1.8168731 |\n",
       "| 14_788160 | 14 |  0.000000 | 0.6009852 |\n",
       "| 7_24118142 | 15 |  4.427005 | 2.4186217 |\n",
       "| 16_22987098 | 16 | 60.148046 | 0.8891184 |\n",
       "| 17_10264975 | 17 | 58.783039 | 1.0316869 |\n",
       "| c18.loc60 | 18 | 60.000000 | 1.7682586 |\n",
       "| c19.loc12 | 19 | 12.000000 | 0.9267469 |\n",
       "\n"
      ],
      "text/plain": [
       "            chr pos       lod      \n",
       "1_19145591  1   61.270035 1.1864051\n",
       "c2.loc20    2   20.000000 0.2271039\n",
       "c3.loc30    3   30.000000 1.2942615\n",
       "4_2940289   4   11.906014 0.6747296\n",
       "5_21614858  5   71.277060 1.5230108\n",
       "c6.loc37    6   37.000000 0.8771046\n",
       "7_24102596  7   79.698096 2.2704153\n",
       "c8.loc18    8   18.000000 0.8017226\n",
       "c9.loc7     9    7.000000 0.3514257\n",
       "c10.loc9    10   9.000000 7.1773254\n",
       "c11.loc29   11  29.000000 1.1901522\n",
       "c12.loc6    12   6.000000 0.6094329\n",
       "c13.loc36   13  36.000000 1.8168731\n",
       "14_788160   14   0.000000 0.6009852\n",
       "7_24118142  15   4.427005 2.4186217\n",
       "16_22987098 16  60.148046 0.8891184\n",
       "17_10264975 17  58.783039 1.0316869\n",
       "c18.loc60   18  60.000000 1.7682586\n",
       "c19.loc12   19  12.000000 0.9267469"
      ]
     },
     "metadata": {},
     "output_type": "display_data"
    },
    {
     "data": {
      "image/png": "[encoded data removed]",
      "text/plain": [
       "plot without title"
      ]
     },
     "metadata": {
      "image/png": {
       "height": 420,
       "width": 420
      },
      "text/plain": {
       "height": 420,
       "width": 420
      }
     },
     "output_type": "display_data"
    }
   ],
   "source": [
    "#Deterime LOD Values\n",
    "LOD5 <- summary(TraitCIM1000,alpha=c(.05))\n",
    "TraitCIM<-cim(Map,pheno.col = colNum,method = \"hk\",\n",
    "              map.function = \"kosambi\") #Generate LOD Values\n",
    "plot(TraitCIM) #show LOD graph\n",
    "abline(h = LOD5,col = \"blue\") #overlay statistically significant line\n",
    "print(\"If nothing shows up, the values \n",
    "      are below the LOD5 score\") #warning for no peaks\n",
    "summary(TraitCIM)\n",
    "write.csv(TraitCIM,\"AssailScored0to2_table.csv\")"
   ]
  },
  {
   "cell_type": "code",
   "execution_count": 8,
   "metadata": {},
   "outputs": [
    {
     "name": "stdin",
     "output_type": "stream",
     "text": [
      "Chromosome?  10\n"
     ]
    },
    {
     "data": {
      "image/png": "[encoded data removed]",
      "text/plain": [
       "plot without title"
      ]
     },
     "metadata": {
      "image/png": {
       "height": 420,
       "width": 420
      },
      "text/plain": {
       "height": 420,
       "width": 420
      }
     },
     "output_type": "display_data"
    }
   ],
   "source": [
    "#Chromosomal Analysis\n",
    "chr <- as.numeric(readline(\"Chromosome? \")) #collect chromosome to look at\n",
    "plot(TraitCIM, chr = chr,xlab = c(\"chr\",chr)) #Plot chr LOD scores\n",
    "abline(h = LOD5, col = \"blue\") #Statistically Significant"
   ]
  },
  {
   "cell_type": "code",
   "execution_count": 9,
   "metadata": {},
   "outputs": [
    {
     "data": {
      "text/html": [
       "<table>\n",
       "<caption>A scanone: 3 × 3</caption>\n",
       "<thead>\n",
       "\t<tr><th></th><th scope=col>chr</th><th scope=col>pos</th><th scope=col>lod</th></tr>\n",
       "\t<tr><th></th><th scope=col>&lt;fct&gt;</th><th scope=col>&lt;dbl&gt;</th><th scope=col>&lt;dbl&gt;</th></tr>\n",
       "</thead>\n",
       "<tbody>\n",
       "\t<tr><th scope=row>17_17189406</th><td>10</td><td> 2.459002</td><td>3.335663</td></tr>\n",
       "\t<tr><th scope=row>c10.loc9</th><td>10</td><td> 9.000000</td><td>7.177325</td></tr>\n",
       "\t<tr><th scope=row>10_3167847</th><td>10</td><td>10.890008</td><td>5.475058</td></tr>\n",
       "</tbody>\n",
       "</table>\n"
      ],
      "text/latex": [
       "A scanone: 3 × 3\n",
       "\\begin{tabular}{r|lll}\n",
       "  & chr & pos & lod\\\\\n",
       "  & <fct> & <dbl> & <dbl>\\\\\n",
       "\\hline\n",
       "\t17\\_17189406 & 10 &  2.459002 & 3.335663\\\\\n",
       "\tc10.loc9 & 10 &  9.000000 & 7.177325\\\\\n",
       "\t10\\_3167847 & 10 & 10.890008 & 5.475058\\\\\n",
       "\\end{tabular}\n"
      ],
      "text/markdown": [
       "\n",
       "A scanone: 3 × 3\n",
       "\n",
       "| <!--/--> | chr &lt;fct&gt; | pos &lt;dbl&gt; | lod &lt;dbl&gt; |\n",
       "|---|---|---|---|\n",
       "| 17_17189406 | 10 |  2.459002 | 3.335663 |\n",
       "| c10.loc9 | 10 |  9.000000 | 7.177325 |\n",
       "| 10_3167847 | 10 | 10.890008 | 5.475058 |\n",
       "\n"
      ],
      "text/plain": [
       "            chr pos       lod     \n",
       "17_17189406 10   2.459002 3.335663\n",
       "c10.loc9    10   9.000000 7.177325\n",
       "10_3167847  10  10.890008 5.475058"
      ]
     },
     "metadata": {},
     "output_type": "display_data"
    },
    {
     "data": {
      "text/html": [
       "<table>\n",
       "<caption>A scanone: 3 × 3</caption>\n",
       "<thead>\n",
       "\t<tr><th></th><th scope=col>chr</th><th scope=col>pos</th><th scope=col>lod</th></tr>\n",
       "\t<tr><th></th><th scope=col>&lt;fct&gt;</th><th scope=col>&lt;dbl&gt;</th><th scope=col>&lt;dbl&gt;</th></tr>\n",
       "</thead>\n",
       "<tbody>\n",
       "\t<tr><th scope=row>17_17189406</th><td>10</td><td> 2.459002</td><td>3.335663</td></tr>\n",
       "\t<tr><th scope=row>c10.loc9</th><td>10</td><td> 9.000000</td><td>7.177325</td></tr>\n",
       "\t<tr><th scope=row>10_3167847</th><td>10</td><td>10.890008</td><td>5.475058</td></tr>\n",
       "</tbody>\n",
       "</table>\n"
      ],
      "text/latex": [
       "A scanone: 3 × 3\n",
       "\\begin{tabular}{r|lll}\n",
       "  & chr & pos & lod\\\\\n",
       "  & <fct> & <dbl> & <dbl>\\\\\n",
       "\\hline\n",
       "\t17\\_17189406 & 10 &  2.459002 & 3.335663\\\\\n",
       "\tc10.loc9 & 10 &  9.000000 & 7.177325\\\\\n",
       "\t10\\_3167847 & 10 & 10.890008 & 5.475058\\\\\n",
       "\\end{tabular}\n"
      ],
      "text/markdown": [
       "\n",
       "A scanone: 3 × 3\n",
       "\n",
       "| <!--/--> | chr &lt;fct&gt; | pos &lt;dbl&gt; | lod &lt;dbl&gt; |\n",
       "|---|---|---|---|\n",
       "| 17_17189406 | 10 |  2.459002 | 3.335663 |\n",
       "| c10.loc9 | 10 |  9.000000 | 7.177325 |\n",
       "| 10_3167847 | 10 | 10.890008 | 5.475058 |\n",
       "\n"
      ],
      "text/plain": [
       "            chr pos       lod     \n",
       "17_17189406 10   2.459002 3.335663\n",
       "c10.loc9    10   9.000000 7.177325\n",
       "10_3167847  10  10.890008 5.475058"
      ]
     },
     "metadata": {},
     "output_type": "display_data"
    }
   ],
   "source": [
    "bayesint(TraitCIM, chr = chr, prob=0.95, expandtomarkers=TRUE) #calculate bayesian interval\n",
    "lodint(TraitCIM, chr = chr,expandtomarkers = TRUE ) #calculate LOD Support interval"
   ]
  },
  {
   "cell_type": "code",
   "execution_count": 10,
   "metadata": {},
   "outputs": [
    {
     "name": "stdin",
     "output_type": "stream",
     "text": [
      "Position for analysis:  9.000000\n"
     ]
    },
    {
     "name": "stderr",
     "output_type": "stream",
     "text": [
      "Warning message in getsex(cross):\n",
      "\"125 individuals with missing sex; assuming they're female\"\n",
      "Warning message in fitqtlengine(pheno = pheno, qtl = qtl, covar = covar, formula = formula, :\n",
      "\"Dropping 124 individuals with missing phenotypes.\n",
      "\"\n",
      "Warning message in getsex(cross):\n",
      "\"125 individuals with missing sex; assuming they're female\"\n"
     ]
    },
    {
     "data": {
      "text/plain": [
       "\n",
       "\t\tfitqtl summary\n",
       "\n",
       "Method: Haley-Knott regression \n",
       "Model:  normal phenotype\n",
       "Number of observations : 170 \n",
       "\n",
       "Full model result\n",
       "----------------------------------  \n",
       "Model formula: y ~ Q1 \n",
       "\n",
       "       df        SS        MS      LOD     %var Pvalue(Chi2)    Pvalue(F)\n",
       "Model   1  19.46768 19.467675 7.008032 17.29104 1.339496e-08 1.708737e-08\n",
       "Error 168  93.12056  0.554289                                            \n",
       "Total 169 112.58824                                                      \n",
       "\n",
       "\n",
       "Estimated effects:\n",
       "-----------------\n",
       "               est       SE      t\n",
       "Intercept  1.21240  0.05723 21.184\n",
       "10@9.0    -0.68417  0.11545 -5.926\n"
      ]
     },
     "metadata": {},
     "output_type": "display_data"
    }
   ],
   "source": [
    "p <- as.numeric(readline(\"Position for analysis: \"))\n",
    "qtl <- makeqtl(Map, chr = chr, pos = p, what=\"prob\") #pulls genotype probabilities\n",
    "fitqtl <- fitqtl(Map, pheno.col=colNum, qtl = qtl, covar=NULL,\n",
    "       method= \"hk\",model=\"normal\",\n",
    "       dropone=TRUE, get.ests=TRUE,run.checks=TRUE,\n",
    "       tol=1e-4, maxit=1000, forceXcovar=FALSE) #sees how well our data fits a given formula \n",
    "          # If you see \"error: object of type 'closure' is not subsettable\", remove \"formula,\" from the fitqtl argument list.\n",
    "summary(fitqtl) #Print results of the analysis"
   ]
  },
  {
   "cell_type": "code",
   "execution_count": 11,
   "metadata": {},
   "outputs": [
    {
     "name": "stdout",
     "output_type": "stream",
     "text": [
      "[1] \"Make sure to input names AS THEY APPEAR on the csv!!\"\n"
     ]
    },
    {
     "name": "stdin",
     "output_type": "stream",
     "text": [
      "Enter file name (Either FemaleMap.csv or MaleMap.csv):  MaleMap_2021_July20.csv\n",
      "First Genotype (homozygous) (For example ll):  nn\n",
      "Second Genotype (heterozygous) (for example lm):  np\n",
      "Column Number:  62\n"
     ]
    }
   ],
   "source": [
    "#Collecting enviroment variables\n",
    "print(\"Make sure to input names AS THEY APPEAR on the csv!!\") #Just a user warning\n",
    "fileName <- readline(\"Enter file name (Either FemaleMap.csv or MaleMap.csv): \") #Mapping table file\n",
    "genotypeName <- c(readline(\"First Genotype (homozygous) (For example ll): \"),\n",
    "                  readline(\"Second Genotype (heterozygous) (for example lm): \")) #For example \"nn\", \"np\"\n",
    "alleleName <- c(substr(genotypeName[2],1,1) ,substr(genotypeName[2],2,2))\n",
    "naNames <- c(\"NA\",\"--\") #For example \"NA\", \"--\"\n",
    "colNum <- as.numeric(readline(\"Column Number: \")) #Column for pheno of interest"
   ]
  },
  {
   "cell_type": "code",
   "execution_count": 12,
   "metadata": {},
   "outputs": [
    {
     "name": "stderr",
     "output_type": "stream",
     "text": [
      "Warning message in FUN(X[[i]], ...):\n",
      "\"The phenotype value \" \"  was interpreted as missing.\"\n"
     ]
    },
    {
     "name": "stdout",
     "output_type": "stream",
     "text": [
      " --Read the following data:\n",
      "\t 294  individuals\n",
      "\t 1128  markers\n",
      "\t 64  phenotypes\n"
     ]
    },
    {
     "name": "stderr",
     "output_type": "stream",
     "text": [
      "Warning message in summary.cross(cross):\n",
      "\"Some markers at the same position on chr 1,3,4,5,6,7,8,9,10,12,13,14,15,16,17,18,19; use jittermap().\"\n"
     ]
    },
    {
     "name": "stdout",
     "output_type": "stream",
     "text": [
      " --Cross type: bc \n"
     ]
    },
    {
     "data": {
      "image/png": "[encoded data removed]",
      "text/plain": [
       "Plot with title \"Genetic map\""
      ]
     },
     "metadata": {
      "image/png": {
       "height": 420,
       "width": 420
      },
      "text/plain": {
       "height": 420,
       "width": 420
      }
     },
     "output_type": "display_data"
    }
   ],
   "source": [
    "#Map generation\n",
    "Map <- read.cross(format = 'csv',file = fileName \n",
    "                  ,genotypes = genotypeName,\n",
    "                  alleles = alleleName,na.strings = naNames) #generate linkage map\n",
    "Map <- jittermap(Map) #make sure no markers are in the same location\n",
    "Map <- calc.genoprob(Map,step = 1,map.function = \"kosambi\") #associate markers with full genotypes\n",
    "plot.map(Map) #draw linkage map"
   ]
  },
  {
   "cell_type": "code",
   "execution_count": 13,
   "metadata": {},
   "outputs": [
    {
     "data": {
      "image/png": "[encoded data removed]",
      "text/plain": [
       "Plot with title \"\""
      ]
     },
     "metadata": {
      "image/png": {
       "height": 420,
       "width": 420
      },
      "text/plain": {
       "height": 420,
       "width": 420
      }
     },
     "output_type": "display_data"
    }
   ],
   "source": [
    "plotNormalHistogram(Map$pheno[,colNum]) #normal histogram of pheno of interest"
   ]
  },
  {
   "cell_type": "markdown",
   "metadata": {},
   "source": [
    "Outliers exist in this data. "
   ]
  },
  {
   "cell_type": "code",
   "execution_count": 14,
   "metadata": {},
   "outputs": [
    {
     "data": {
      "text/plain": [
       "LOD thresholds (1000 permutations)\n",
       "   [,1]\n",
       "5% 4.18\n",
       "1% 5.33"
      ]
     },
     "metadata": {},
     "output_type": "display_data"
    },
    {
     "data": {
      "image/png": "[encoded data removed]",
      "text/plain": [
       "Plot with title \"\""
      ]
     },
     "metadata": {
      "image/png": {
       "height": 420,
       "width": 420
      },
      "text/plain": {
       "height": 420,
       "width": 420
      }
     },
     "output_type": "display_data"
    }
   ],
   "source": [
    "#Compute statistically significant values\n",
    "TraitCIM1000 <- cim(Map,pheno.col = colNum,method = \"hk\",\n",
    "                    map.function = \"kosambi\",n.perm = 1000) # Function will take a moment to run, determines LOD value\n",
    "plot(TraitCIM1000,col = 'green') #show distribution of lod scores\n",
    "summary(TraitCIM1000,alpha=c(.05,.01))"
   ]
  },
  {
   "cell_type": "code",
   "execution_count": 15,
   "metadata": {},
   "outputs": [
    {
     "name": "stdout",
     "output_type": "stream",
     "text": [
      "[1] \"If nothing shows up, the values \\n      are below the LOD5 score\"\n"
     ]
    },
    {
     "data": {
      "text/html": [
       "<table>\n",
       "<caption>A summary.scanone: 19 × 3</caption>\n",
       "<thead>\n",
       "\t<tr><th></th><th scope=col>chr</th><th scope=col>pos</th><th scope=col>lod</th></tr>\n",
       "\t<tr><th></th><th scope=col>&lt;fct&gt;</th><th scope=col>&lt;dbl&gt;</th><th scope=col>&lt;dbl&gt;</th></tr>\n",
       "</thead>\n",
       "<tbody>\n",
       "\t<tr><th scope=row>c1.loc69</th><td>1 </td><td>69.000000</td><td> 1.3030135</td></tr>\n",
       "\t<tr><th scope=row>c2.loc16</th><td>2 </td><td>16.000000</td><td> 1.0932577</td></tr>\n",
       "\t<tr><th scope=row>3_2224905</th><td>3 </td><td> 8.582013</td><td> 1.4573048</td></tr>\n",
       "\t<tr><th scope=row>c4.loc52</th><td>4 </td><td>52.000000</td><td> 1.0344532</td></tr>\n",
       "\t<tr><th scope=row>c5.loc69</th><td>5 </td><td>69.000000</td><td> 1.7007770</td></tr>\n",
       "\t<tr><th scope=row>c6.loc50</th><td>6 </td><td>50.000000</td><td> 2.1810342</td></tr>\n",
       "\t<tr><th scope=row>2_16557788</th><td>7 </td><td>60.331048</td><td> 2.9295195</td></tr>\n",
       "\t<tr><th scope=row>c8.loc87</th><td>8 </td><td>87.000000</td><td> 1.9680962</td></tr>\n",
       "\t<tr><th scope=row>9_1015693</th><td>9 </td><td> 3.051004</td><td> 1.2903477</td></tr>\n",
       "\t<tr><th scope=row>10_1876993</th><td>10</td><td> 9.141009</td><td>18.1237792</td></tr>\n",
       "\t<tr><th scope=row>c11.loc15</th><td>11</td><td>15.000000</td><td> 1.4995118</td></tr>\n",
       "\t<tr><th scope=row>12_20782482</th><td>12</td><td>54.046061</td><td> 0.8137945</td></tr>\n",
       "\t<tr><th scope=row>c13.loc34</th><td>13</td><td>34.000000</td><td> 0.8582893</td></tr>\n",
       "\t<tr><th scope=row>14_14133296</th><td>14</td><td>32.982041</td><td> 1.2508147</td></tr>\n",
       "\t<tr><th scope=row>c15.loc1</th><td>15</td><td> 1.000000</td><td> 0.8675575</td></tr>\n",
       "\t<tr><th scope=row>c16.loc55</th><td>16</td><td>55.000000</td><td> 2.4112540</td></tr>\n",
       "\t<tr><th scope=row>c17.loc27</th><td>17</td><td>27.000000</td><td> 1.5343510</td></tr>\n",
       "\t<tr><th scope=row>c18.loc17</th><td>18</td><td>17.000000</td><td> 0.9746147</td></tr>\n",
       "\t<tr><th scope=row>c19.loc63</th><td>19</td><td>63.000000</td><td> 1.5664486</td></tr>\n",
       "</tbody>\n",
       "</table>\n"
      ],
      "text/latex": [
       "A summary.scanone: 19 × 3\n",
       "\\begin{tabular}{r|lll}\n",
       "  & chr & pos & lod\\\\\n",
       "  & <fct> & <dbl> & <dbl>\\\\\n",
       "\\hline\n",
       "\tc1.loc69 & 1  & 69.000000 &  1.3030135\\\\\n",
       "\tc2.loc16 & 2  & 16.000000 &  1.0932577\\\\\n",
       "\t3\\_2224905 & 3  &  8.582013 &  1.4573048\\\\\n",
       "\tc4.loc52 & 4  & 52.000000 &  1.0344532\\\\\n",
       "\tc5.loc69 & 5  & 69.000000 &  1.7007770\\\\\n",
       "\tc6.loc50 & 6  & 50.000000 &  2.1810342\\\\\n",
       "\t2\\_16557788 & 7  & 60.331048 &  2.9295195\\\\\n",
       "\tc8.loc87 & 8  & 87.000000 &  1.9680962\\\\\n",
       "\t9\\_1015693 & 9  &  3.051004 &  1.2903477\\\\\n",
       "\t10\\_1876993 & 10 &  9.141009 & 18.1237792\\\\\n",
       "\tc11.loc15 & 11 & 15.000000 &  1.4995118\\\\\n",
       "\t12\\_20782482 & 12 & 54.046061 &  0.8137945\\\\\n",
       "\tc13.loc34 & 13 & 34.000000 &  0.8582893\\\\\n",
       "\t14\\_14133296 & 14 & 32.982041 &  1.2508147\\\\\n",
       "\tc15.loc1 & 15 &  1.000000 &  0.8675575\\\\\n",
       "\tc16.loc55 & 16 & 55.000000 &  2.4112540\\\\\n",
       "\tc17.loc27 & 17 & 27.000000 &  1.5343510\\\\\n",
       "\tc18.loc17 & 18 & 17.000000 &  0.9746147\\\\\n",
       "\tc19.loc63 & 19 & 63.000000 &  1.5664486\\\\\n",
       "\\end{tabular}\n"
      ],
      "text/markdown": [
       "\n",
       "A summary.scanone: 19 × 3\n",
       "\n",
       "| <!--/--> | chr &lt;fct&gt; | pos &lt;dbl&gt; | lod &lt;dbl&gt; |\n",
       "|---|---|---|---|\n",
       "| c1.loc69 | 1  | 69.000000 |  1.3030135 |\n",
       "| c2.loc16 | 2  | 16.000000 |  1.0932577 |\n",
       "| 3_2224905 | 3  |  8.582013 |  1.4573048 |\n",
       "| c4.loc52 | 4  | 52.000000 |  1.0344532 |\n",
       "| c5.loc69 | 5  | 69.000000 |  1.7007770 |\n",
       "| c6.loc50 | 6  | 50.000000 |  2.1810342 |\n",
       "| 2_16557788 | 7  | 60.331048 |  2.9295195 |\n",
       "| c8.loc87 | 8  | 87.000000 |  1.9680962 |\n",
       "| 9_1015693 | 9  |  3.051004 |  1.2903477 |\n",
       "| 10_1876993 | 10 |  9.141009 | 18.1237792 |\n",
       "| c11.loc15 | 11 | 15.000000 |  1.4995118 |\n",
       "| 12_20782482 | 12 | 54.046061 |  0.8137945 |\n",
       "| c13.loc34 | 13 | 34.000000 |  0.8582893 |\n",
       "| 14_14133296 | 14 | 32.982041 |  1.2508147 |\n",
       "| c15.loc1 | 15 |  1.000000 |  0.8675575 |\n",
       "| c16.loc55 | 16 | 55.000000 |  2.4112540 |\n",
       "| c17.loc27 | 17 | 27.000000 |  1.5343510 |\n",
       "| c18.loc17 | 18 | 17.000000 |  0.9746147 |\n",
       "| c19.loc63 | 19 | 63.000000 |  1.5664486 |\n",
       "\n"
      ],
      "text/plain": [
       "            chr pos       lod       \n",
       "c1.loc69    1   69.000000  1.3030135\n",
       "c2.loc16    2   16.000000  1.0932577\n",
       "3_2224905   3    8.582013  1.4573048\n",
       "c4.loc52    4   52.000000  1.0344532\n",
       "c5.loc69    5   69.000000  1.7007770\n",
       "c6.loc50    6   50.000000  2.1810342\n",
       "2_16557788  7   60.331048  2.9295195\n",
       "c8.loc87    8   87.000000  1.9680962\n",
       "9_1015693   9    3.051004  1.2903477\n",
       "10_1876993  10   9.141009 18.1237792\n",
       "c11.loc15   11  15.000000  1.4995118\n",
       "12_20782482 12  54.046061  0.8137945\n",
       "c13.loc34   13  34.000000  0.8582893\n",
       "14_14133296 14  32.982041  1.2508147\n",
       "c15.loc1    15   1.000000  0.8675575\n",
       "c16.loc55   16  55.000000  2.4112540\n",
       "c17.loc27   17  27.000000  1.5343510\n",
       "c18.loc17   18  17.000000  0.9746147\n",
       "c19.loc63   19  63.000000  1.5664486"
      ]
     },
     "metadata": {},
     "output_type": "display_data"
    },
    {
     "data": {
      "image/png": "[encoded data removed]",
      "text/plain": [
       "plot without title"
      ]
     },
     "metadata": {
      "image/png": {
       "height": 420,
       "width": 420
      },
      "text/plain": {
       "height": 420,
       "width": 420
      }
     },
     "output_type": "display_data"
    }
   ],
   "source": [
    "#Deterime LOD Values\n",
    "TraitCIM<-cim(Map,pheno.col = colNum,method = \"hk\",\n",
    "              map.function = \"kosambi\") #Generate LOD Values\n",
    "plot(TraitCIM) #show LOD graph\n",
    "abline(h = LOD5,col = \"blue\") #overlay statistically significant line\n",
    "print(\"If nothing shows up, the values \n",
    "      are below the LOD5 score\") #warning for no peaks\n",
    "summary(TraitCIM)\n",
    "write.csv(TraitCIM,\"AssailScored0to2_MaleTable.csv\")"
   ]
  },
  {
   "cell_type": "code",
   "execution_count": 16,
   "metadata": {},
   "outputs": [
    {
     "name": "stdin",
     "output_type": "stream",
     "text": [
      "Chromosome?  10\n"
     ]
    },
    {
     "data": {
      "image/png": "[encoded data removed]",
      "text/plain": [
       "plot without title"
      ]
     },
     "metadata": {
      "image/png": {
       "height": 420,
       "width": 420
      },
      "text/plain": {
       "height": 420,
       "width": 420
      }
     },
     "output_type": "display_data"
    }
   ],
   "source": [
    "#Chromosomal Analysis\n",
    "chr <- as.numeric(readline(\"Chromosome? \")) #collect chromosome to look at\n",
    "plot(TraitCIM, chr = chr,xlab = c(\"chr\",chr)) #Plot chr LOD scores\n",
    "abline(h = LOD5, col = \"blue\") #Statistically Significant"
   ]
  },
  {
   "cell_type": "code",
   "execution_count": 17,
   "metadata": {},
   "outputs": [
    {
     "data": {
      "text/html": [
       "<table>\n",
       "<caption>A scanone: 3 × 3</caption>\n",
       "<thead>\n",
       "\t<tr><th></th><th scope=col>chr</th><th scope=col>pos</th><th scope=col>lod</th></tr>\n",
       "\t<tr><th></th><th scope=col>&lt;fct&gt;</th><th scope=col>&lt;dbl&gt;</th><th scope=col>&lt;dbl&gt;</th></tr>\n",
       "</thead>\n",
       "<tbody>\n",
       "\t<tr><th scope=row>10_1368821</th><td>10</td><td> 5.836004</td><td> 9.918808</td></tr>\n",
       "\t<tr><th scope=row>10_1876993</th><td>10</td><td> 9.141009</td><td>18.123779</td></tr>\n",
       "\t<tr><th scope=row>10_2470297</th><td>10</td><td>11.541010</td><td>16.467803</td></tr>\n",
       "</tbody>\n",
       "</table>\n"
      ],
      "text/latex": [
       "A scanone: 3 × 3\n",
       "\\begin{tabular}{r|lll}\n",
       "  & chr & pos & lod\\\\\n",
       "  & <fct> & <dbl> & <dbl>\\\\\n",
       "\\hline\n",
       "\t10\\_1368821 & 10 &  5.836004 &  9.918808\\\\\n",
       "\t10\\_1876993 & 10 &  9.141009 & 18.123779\\\\\n",
       "\t10\\_2470297 & 10 & 11.541010 & 16.467803\\\\\n",
       "\\end{tabular}\n"
      ],
      "text/markdown": [
       "\n",
       "A scanone: 3 × 3\n",
       "\n",
       "| <!--/--> | chr &lt;fct&gt; | pos &lt;dbl&gt; | lod &lt;dbl&gt; |\n",
       "|---|---|---|---|\n",
       "| 10_1368821 | 10 |  5.836004 |  9.918808 |\n",
       "| 10_1876993 | 10 |  9.141009 | 18.123779 |\n",
       "| 10_2470297 | 10 | 11.541010 | 16.467803 |\n",
       "\n"
      ],
      "text/plain": [
       "           chr pos       lod      \n",
       "10_1368821 10   5.836004  9.918808\n",
       "10_1876993 10   9.141009 18.123779\n",
       "10_2470297 10  11.541010 16.467803"
      ]
     },
     "metadata": {},
     "output_type": "display_data"
    },
    {
     "data": {
      "text/html": [
       "<table>\n",
       "<caption>A scanone: 3 × 3</caption>\n",
       "<thead>\n",
       "\t<tr><th></th><th scope=col>chr</th><th scope=col>pos</th><th scope=col>lod</th></tr>\n",
       "\t<tr><th></th><th scope=col>&lt;fct&gt;</th><th scope=col>&lt;dbl&gt;</th><th scope=col>&lt;dbl&gt;</th></tr>\n",
       "</thead>\n",
       "<tbody>\n",
       "\t<tr><th scope=row>10_1368821</th><td>10</td><td> 5.836004</td><td> 9.918808</td></tr>\n",
       "\t<tr><th scope=row>10_1876993</th><td>10</td><td> 9.141009</td><td>18.123779</td></tr>\n",
       "\t<tr><th scope=row>10_2470297</th><td>10</td><td>11.541010</td><td>16.467803</td></tr>\n",
       "</tbody>\n",
       "</table>\n"
      ],
      "text/latex": [
       "A scanone: 3 × 3\n",
       "\\begin{tabular}{r|lll}\n",
       "  & chr & pos & lod\\\\\n",
       "  & <fct> & <dbl> & <dbl>\\\\\n",
       "\\hline\n",
       "\t10\\_1368821 & 10 &  5.836004 &  9.918808\\\\\n",
       "\t10\\_1876993 & 10 &  9.141009 & 18.123779\\\\\n",
       "\t10\\_2470297 & 10 & 11.541010 & 16.467803\\\\\n",
       "\\end{tabular}\n"
      ],
      "text/markdown": [
       "\n",
       "A scanone: 3 × 3\n",
       "\n",
       "| <!--/--> | chr &lt;fct&gt; | pos &lt;dbl&gt; | lod &lt;dbl&gt; |\n",
       "|---|---|---|---|\n",
       "| 10_1368821 | 10 |  5.836004 |  9.918808 |\n",
       "| 10_1876993 | 10 |  9.141009 | 18.123779 |\n",
       "| 10_2470297 | 10 | 11.541010 | 16.467803 |\n",
       "\n"
      ],
      "text/plain": [
       "           chr pos       lod      \n",
       "10_1368821 10   5.836004  9.918808\n",
       "10_1876993 10   9.141009 18.123779\n",
       "10_2470297 10  11.541010 16.467803"
      ]
     },
     "metadata": {},
     "output_type": "display_data"
    }
   ],
   "source": [
    "bayesint(TraitCIM, chr = chr, prob=0.95, expandtomarkers=TRUE) #calculate bayesian interval\n",
    "lodint(TraitCIM, chr = chr,expandtomarkers = TRUE ) #calculate LOD Support interval"
   ]
  },
  {
   "cell_type": "code",
   "execution_count": 18,
   "metadata": {},
   "outputs": [
    {
     "name": "stdin",
     "output_type": "stream",
     "text": [
      "Position for analysis:  9.141009\n"
     ]
    },
    {
     "name": "stderr",
     "output_type": "stream",
     "text": [
      "Warning message in getsex(cross):\n",
      "\"125 individuals with missing sex; assuming they're female\"\n",
      "Warning message in fitqtlengine(pheno = pheno, qtl = qtl, covar = covar, formula = formula, :\n",
      "\"Dropping 124 individuals with missing phenotypes.\n",
      "\"\n",
      "Warning message in getsex(cross):\n",
      "\"125 individuals with missing sex; assuming they're female\"\n"
     ]
    },
    {
     "data": {
      "text/plain": [
       "\n",
       "\t\tfitqtl summary\n",
       "\n",
       "Method: Haley-Knott regression \n",
       "Model:  normal phenotype\n",
       "Number of observations : 170 \n",
       "\n",
       "Full model result\n",
       "----------------------------------  \n",
       "Model formula: y ~ Q1 \n",
       "\n",
       "       df        SS         MS      LOD     %var Pvalue(Chi2) Pvalue(F)\n",
       "Model   1  41.03917 41.0391698 16.73557 36.45067            0         0\n",
       "Error 168  71.54907  0.4258873                                         \n",
       "Total 169 112.58824                                                    \n",
       "\n",
       "\n",
       "Estimated effects:\n",
       "-----------------\n",
       "              est      SE      t\n",
       "Intercept 1.17487 0.05043 23.297\n",
       "10@9.1    0.99604 0.10147  9.816\n"
      ]
     },
     "metadata": {},
     "output_type": "display_data"
    }
   ],
   "source": [
    "p <- as.numeric(readline(\"Position for analysis: \"))\n",
    "qtl <- makeqtl(Map, chr = chr, pos = p, what=\"prob\") #pulls genotype probabilities\n",
    "fitqtl <- fitqtl(Map, pheno.col=colNum, qtl = qtl, covar=NULL,\n",
    "       method= \"hk\",model=\"normal\",\n",
    "       dropone=TRUE, get.ests=TRUE,run.checks=TRUE,\n",
    "       tol=1e-4, maxit=1000, forceXcovar=FALSE) #sees how well our data fits a given formula \n",
    "          # If you see \"error: object of type 'closure' is not subsettable\", remove \"formula,\" from the fitqtl argument list.\n",
    "summary(fitqtl) #Print results of the analysis"
   ]
  },
  {
   "cell_type": "code",
   "execution_count": null,
   "metadata": {},
   "outputs": [],
   "source": []
  }
 ],
 "metadata": {
  "kernelspec": {
   "display_name": "R",
   "language": "R",
   "name": "ir"
  },
  "language_info": {
   "codemirror_mode": "r",
   "file_extension": ".r",
   "mimetype": "text/x-r-source",
   "name": "R",
   "pygments_lexer": "r",
   "version": "3.6.3"
  }
 },
 "nbformat": 4,
 "nbformat_minor": 4
}
