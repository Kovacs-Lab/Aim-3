{
 "cells": [
  {
   "cell_type": "markdown",
   "metadata": {},
   "source": [
    "This analysis is in the order of Female then Male"
   ]
  },
  {
   "cell_type": "code",
   "execution_count": 1,
   "metadata": {},
   "outputs": [
    {
     "name": "stderr",
     "output_type": "stream",
     "text": [
      "Installing package into 'C:/Users/Courtney/Documents/R/win-library/3.6'\n",
      "(as 'lib' is unspecified)\n",
      "\n"
     ]
    },
    {
     "name": "stdout",
     "output_type": "stream",
     "text": [
      "\n",
      "  There is a binary version available but the source version is later:\n",
      "    binary source needs_compilation\n",
      "qtl 1.48-1   1.50              TRUE\n",
      "\n",
      "  Binaries will be installed\n",
      "package 'qtl' successfully unpacked and MD5 sums checked\n"
     ]
    },
    {
     "name": "stderr",
     "output_type": "stream",
     "text": [
      "Warning message:\n",
      "\"cannot remove prior installation of package 'qtl'\"\n",
      "Warning message in file.copy(savedcopy, lib, recursive = TRUE):\n",
      "\"problem copying C:\\Users\\Courtney\\Documents\\R\\win-library\\3.6\\00LOCK\\qtl\\libs\\x64\\qtl.dll to C:\\Users\\Courtney\\Documents\\R\\win-library\\3.6\\qtl\\libs\\x64\\qtl.dll: Permission denied\"\n",
      "Warning message:\n",
      "\"restored 'qtl'\"\n"
     ]
    },
    {
     "name": "stdout",
     "output_type": "stream",
     "text": [
      "\n",
      "The downloaded binary packages are in\n",
      "\tC:\\Users\\Courtney\\AppData\\Local\\Temp\\RtmpYXw3aL\\downloaded_packages\n"
     ]
    },
    {
     "name": "stderr",
     "output_type": "stream",
     "text": [
      "Installing package into 'C:/Users/Courtney/Documents/R/win-library/3.6'\n",
      "(as 'lib' is unspecified)\n",
      "\n"
     ]
    },
    {
     "name": "stdout",
     "output_type": "stream",
     "text": [
      "\n",
      "  There is a binary version available but the source version is later:\n",
      "           binary source needs_compilation\n",
      "qtlcharts 0.12-10   0.16             FALSE\n",
      "\n"
     ]
    },
    {
     "name": "stderr",
     "output_type": "stream",
     "text": [
      "installing the source package 'qtlcharts'\n",
      "\n",
      "\n",
      "Warning message in install.packages(\"qtlcharts\"):\n",
      "\"installation of package 'qtlcharts' had non-zero exit status\"\n",
      "Installing package into 'C:/Users/Courtney/Documents/R/win-library/3.6'\n",
      "(as 'lib' is unspecified)\n",
      "\n"
     ]
    },
    {
     "name": "stdout",
     "output_type": "stream",
     "text": [
      "package 'LinkageMapView' successfully unpacked and MD5 sums checked\n",
      "\n",
      "The downloaded binary packages are in\n",
      "\tC:\\Users\\Courtney\\AppData\\Local\\Temp\\RtmpYXw3aL\\downloaded_packages\n"
     ]
    },
    {
     "name": "stderr",
     "output_type": "stream",
     "text": [
      "Installing package into 'C:/Users/Courtney/Documents/R/win-library/3.6'\n",
      "(as 'lib' is unspecified)\n",
      "\n",
      "Warning message:\n",
      "\"package 'rcompanion' is not available (for R version 3.6.3)\"\n"
     ]
    }
   ],
   "source": [
    "install.packages('qtl') #Main package, for analysis\n",
    "install.packages('qtlcharts') #accessory, for displaying graphs\n",
    "install.packages('LinkageMapView') #accessory, for displaying linkage maps\n",
    "install.packages('rcompanion')# for plotNormalHistogram"
   ]
  },
  {
   "cell_type": "code",
   "execution_count": 2,
   "metadata": {},
   "outputs": [],
   "source": [
    "library(qtl) #load packages\n",
    "library(qtlcharts)\n",
    "library(LinkageMapView)\n",
    "library(rcompanion)"
   ]
  },
  {
   "cell_type": "code",
   "execution_count": 8,
   "metadata": {},
   "outputs": [
    {
     "name": "stdout",
     "output_type": "stream",
     "text": [
      "[1] \"Make sure to input names AS THEY APPEAR on the csv!!\"\n"
     ]
    },
    {
     "name": "stdin",
     "output_type": "stream",
     "text": [
      "Enter file name (Either FemaleMap.csv or MaleMap.csv):  FemaleMap.csv\n",
      "First Genotype (homozygous) (For example ll):  ll\n",
      "Second Genotype (heterozygous) (for example lm):  lm\n",
      "Column Number:  6\n"
     ]
    }
   ],
   "source": [
    "#Collecting enviroment variables\n",
    "print(\"Make sure to input names AS THEY APPEAR on the csv!!\") #Just a user warning\n",
    "fileName <- readline(\"Enter file name (Either FemaleMap.csv or MaleMap.csv): \") #Mapping table file\n",
    "genotypeName <- c(readline(\"First Genotype (homozygous) (For example ll): \"),\n",
    "                  readline(\"Second Genotype (heterozygous) (for example lm): \")) #For example \"nn\", \"np\"\n",
    "alleleName <- c(substr(genotypeName[2],1,1) ,substr(genotypeName[2],2,2))\n",
    "naNames <- c(\"NA\",\"--\") #For example \"NA\", \"--\"\n",
    "colNum <- as.numeric(readline(\"Column Number: \")) #Column for pheno of interest, for this analysis it is \"NE\"--interveinal necrosis in NY 2019 due to carbaryl sensitivity."
   ]
  },
  {
   "cell_type": "code",
   "execution_count": 9,
   "metadata": {},
   "outputs": [
    {
     "name": "stdout",
     "output_type": "stream",
     "text": [
      " --Read the following data:\n",
      "\t 294  individuals\n",
      "\t 1100  markers\n",
      "\t 45  phenotypes\n"
     ]
    },
    {
     "name": "stderr",
     "output_type": "stream",
     "text": [
      "Warning message in summary.cross(cross):\n",
      "\"Some markers at the same position on chr 1,2,4,5,7,8,9,10,11,12,13,14,16,17,18,19; use jittermap().\"\n"
     ]
    },
    {
     "name": "stdout",
     "output_type": "stream",
     "text": [
      " --Cross type: bc \n"
     ]
    },
    {
     "data": {
      "image/png": "[encoded data removed]",
      "text/plain": [
       "Plot with title \"Genetic map\""
      ]
     },
     "metadata": {
      "image/png": {
       "height": 420,
       "width": 420
      },
      "text/plain": {
       "height": 420,
       "width": 420
      }
     },
     "output_type": "display_data"
    }
   ],
   "source": [
    "#Map generation\n",
    "Map <- read.cross(format = 'csv',file = fileName \n",
    "                  ,genotypes = genotypeName,\n",
    "                  alleles = alleleName,na.strings = naNames) #generate linkage map\n",
    "Map <- jittermap(Map) #make sure no markers are in the same location\n",
    "Map <- calc.genoprob(Map,step = 1,map.function = \"kosambi\") #associate markers with full genotypes\n",
    "plot.map(Map) #draw linkage map"
   ]
  },
  {
   "cell_type": "code",
   "execution_count": 10,
   "metadata": {},
   "outputs": [
    {
     "data": {
      "image/png": "[encoded data removed]",
      "text/plain": [
       "Plot with title \"\""
      ]
     },
     "metadata": {
      "image/png": {
       "height": 420,
       "width": 420
      },
      "text/plain": {
       "height": 420,
       "width": 420
      }
     },
     "output_type": "display_data"
    }
   ],
   "source": [
    "plotNormalHistogram(Map$pheno[,colNum]) #normal histogram of pheno of interest"
   ]
  },
  {
   "cell_type": "markdown",
   "metadata": {},
   "source": [
    "Outliers exist in this dataset. Will need to be analyized. "
   ]
  },
  {
   "cell_type": "code",
   "execution_count": 11,
   "metadata": {},
   "outputs": [
    {
     "data": {
      "text/plain": [
       "LOD thresholds (1000 permutations)\n",
       "   [,1]\n",
       "5% 4.12\n",
       "1% 5.01"
      ]
     },
     "metadata": {},
     "output_type": "display_data"
    },
    {
     "data": {
      "image/png": "[encoded data removed]",
      "text/plain": [
       "Plot with title \"\""
      ]
     },
     "metadata": {
      "image/png": {
       "height": 420,
       "width": 420
      },
      "text/plain": {
       "height": 420,
       "width": 420
      }
     },
     "output_type": "display_data"
    }
   ],
   "source": [
    "#Compute statistically significant values\n",
    "TraitCIM1000 <- cim(Map,pheno.col = colNum,method = \"hk\",\n",
    "                    map.function = \"kosambi\",n.perm = 1000) # Function will take a moment to run, determines LOD value\n",
    "plot(TraitCIM1000,col = 'green') #show distribution of lod scores\n",
    "summary(TraitCIM1000,alpha=c(.05,.01))"
   ]
  },
  {
   "cell_type": "code",
   "execution_count": 12,
   "metadata": {},
   "outputs": [
    {
     "name": "stdout",
     "output_type": "stream",
     "text": [
      "[1] \"If nothing shows up, the values \\n      are below the LOD5 score\"\n"
     ]
    },
    {
     "data": {
      "text/html": [
       "<table>\n",
       "<caption>A summary.scanone: 19 × 3</caption>\n",
       "<thead>\n",
       "\t<tr><th></th><th scope=col>chr</th><th scope=col>pos</th><th scope=col>lod</th></tr>\n",
       "\t<tr><th></th><th scope=col>&lt;fct&gt;</th><th scope=col>&lt;dbl&gt;</th><th scope=col>&lt;dbl&gt;</th></tr>\n",
       "</thead>\n",
       "<tbody>\n",
       "\t<tr><th scope=row>1_19145591</th><td>1 </td><td>61.270035</td><td> 0.3320348</td></tr>\n",
       "\t<tr><th scope=row>2_6114707</th><td>2 </td><td>55.100021</td><td> 1.8330901</td></tr>\n",
       "\t<tr><th scope=row>c3.loc61</th><td>3 </td><td>61.000000</td><td> 0.9564941</td></tr>\n",
       "\t<tr><th scope=row>4_2940289</th><td>4 </td><td>11.906014</td><td> 1.0230193</td></tr>\n",
       "\t<tr><th scope=row>5_6441001</th><td>5 </td><td>28.352016</td><td> 1.1593992</td></tr>\n",
       "\t<tr><th scope=row>c6.loc25</th><td>6 </td><td>25.000000</td><td> 0.6993085</td></tr>\n",
       "\t<tr><th scope=row>7_24435151</th><td>7 </td><td>80.532098</td><td> 0.9257293</td></tr>\n",
       "\t<tr><th scope=row>8_1494384</th><td>8 </td><td> 3.404003</td><td> 1.7365776</td></tr>\n",
       "\t<tr><th scope=row>9_4365902</th><td>9 </td><td>26.075028</td><td> 1.0967021</td></tr>\n",
       "\t<tr><th scope=row>c10.loc23</th><td>10</td><td>23.000000</td><td> 0.9891424</td></tr>\n",
       "\t<tr><th scope=row>c11.loc49</th><td>11</td><td>49.000000</td><td> 1.1001603</td></tr>\n",
       "\t<tr><th scope=row>c12.loc48</th><td>12</td><td>48.000000</td><td> 0.8372964</td></tr>\n",
       "\t<tr><th scope=row>c13.loc44</th><td>13</td><td>44.000000</td><td> 2.3653088</td></tr>\n",
       "\t<tr><th scope=row>14_25092532</th><td>14</td><td>54.058022</td><td> 1.8647514</td></tr>\n",
       "\t<tr><th scope=row>4_2353337</th><td>15</td><td> 7.420012</td><td> 1.7756728</td></tr>\n",
       "\t<tr><th scope=row>18_2673641</th><td>16</td><td>16.277025</td><td>48.5250640</td></tr>\n",
       "\t<tr><th scope=row>c17.loc59</th><td>17</td><td>59.000000</td><td> 1.2521350</td></tr>\n",
       "\t<tr><th scope=row>c18.loc26</th><td>18</td><td>26.000000</td><td> 1.2296844</td></tr>\n",
       "\t<tr><th scope=row>c19.loc45</th><td>19</td><td>45.000000</td><td> 1.0094711</td></tr>\n",
       "</tbody>\n",
       "</table>\n"
      ],
      "text/latex": [
       "A summary.scanone: 19 × 3\n",
       "\\begin{tabular}{r|lll}\n",
       "  & chr & pos & lod\\\\\n",
       "  & <fct> & <dbl> & <dbl>\\\\\n",
       "\\hline\n",
       "\t1\\_19145591 & 1  & 61.270035 &  0.3320348\\\\\n",
       "\t2\\_6114707 & 2  & 55.100021 &  1.8330901\\\\\n",
       "\tc3.loc61 & 3  & 61.000000 &  0.9564941\\\\\n",
       "\t4\\_2940289 & 4  & 11.906014 &  1.0230193\\\\\n",
       "\t5\\_6441001 & 5  & 28.352016 &  1.1593992\\\\\n",
       "\tc6.loc25 & 6  & 25.000000 &  0.6993085\\\\\n",
       "\t7\\_24435151 & 7  & 80.532098 &  0.9257293\\\\\n",
       "\t8\\_1494384 & 8  &  3.404003 &  1.7365776\\\\\n",
       "\t9\\_4365902 & 9  & 26.075028 &  1.0967021\\\\\n",
       "\tc10.loc23 & 10 & 23.000000 &  0.9891424\\\\\n",
       "\tc11.loc49 & 11 & 49.000000 &  1.1001603\\\\\n",
       "\tc12.loc48 & 12 & 48.000000 &  0.8372964\\\\\n",
       "\tc13.loc44 & 13 & 44.000000 &  2.3653088\\\\\n",
       "\t14\\_25092532 & 14 & 54.058022 &  1.8647514\\\\\n",
       "\t4\\_2353337 & 15 &  7.420012 &  1.7756728\\\\\n",
       "\t18\\_2673641 & 16 & 16.277025 & 48.5250640\\\\\n",
       "\tc17.loc59 & 17 & 59.000000 &  1.2521350\\\\\n",
       "\tc18.loc26 & 18 & 26.000000 &  1.2296844\\\\\n",
       "\tc19.loc45 & 19 & 45.000000 &  1.0094711\\\\\n",
       "\\end{tabular}\n"
      ],
      "text/markdown": [
       "\n",
       "A summary.scanone: 19 × 3\n",
       "\n",
       "| <!--/--> | chr &lt;fct&gt; | pos &lt;dbl&gt; | lod &lt;dbl&gt; |\n",
       "|---|---|---|---|\n",
       "| 1_19145591 | 1  | 61.270035 |  0.3320348 |\n",
       "| 2_6114707 | 2  | 55.100021 |  1.8330901 |\n",
       "| c3.loc61 | 3  | 61.000000 |  0.9564941 |\n",
       "| 4_2940289 | 4  | 11.906014 |  1.0230193 |\n",
       "| 5_6441001 | 5  | 28.352016 |  1.1593992 |\n",
       "| c6.loc25 | 6  | 25.000000 |  0.6993085 |\n",
       "| 7_24435151 | 7  | 80.532098 |  0.9257293 |\n",
       "| 8_1494384 | 8  |  3.404003 |  1.7365776 |\n",
       "| 9_4365902 | 9  | 26.075028 |  1.0967021 |\n",
       "| c10.loc23 | 10 | 23.000000 |  0.9891424 |\n",
       "| c11.loc49 | 11 | 49.000000 |  1.1001603 |\n",
       "| c12.loc48 | 12 | 48.000000 |  0.8372964 |\n",
       "| c13.loc44 | 13 | 44.000000 |  2.3653088 |\n",
       "| 14_25092532 | 14 | 54.058022 |  1.8647514 |\n",
       "| 4_2353337 | 15 |  7.420012 |  1.7756728 |\n",
       "| 18_2673641 | 16 | 16.277025 | 48.5250640 |\n",
       "| c17.loc59 | 17 | 59.000000 |  1.2521350 |\n",
       "| c18.loc26 | 18 | 26.000000 |  1.2296844 |\n",
       "| c19.loc45 | 19 | 45.000000 |  1.0094711 |\n",
       "\n"
      ],
      "text/plain": [
       "            chr pos       lod       \n",
       "1_19145591  1   61.270035  0.3320348\n",
       "2_6114707   2   55.100021  1.8330901\n",
       "c3.loc61    3   61.000000  0.9564941\n",
       "4_2940289   4   11.906014  1.0230193\n",
       "5_6441001   5   28.352016  1.1593992\n",
       "c6.loc25    6   25.000000  0.6993085\n",
       "7_24435151  7   80.532098  0.9257293\n",
       "8_1494384   8    3.404003  1.7365776\n",
       "9_4365902   9   26.075028  1.0967021\n",
       "c10.loc23   10  23.000000  0.9891424\n",
       "c11.loc49   11  49.000000  1.1001603\n",
       "c12.loc48   12  48.000000  0.8372964\n",
       "c13.loc44   13  44.000000  2.3653088\n",
       "14_25092532 14  54.058022  1.8647514\n",
       "4_2353337   15   7.420012  1.7756728\n",
       "18_2673641  16  16.277025 48.5250640\n",
       "c17.loc59   17  59.000000  1.2521350\n",
       "c18.loc26   18  26.000000  1.2296844\n",
       "c19.loc45   19  45.000000  1.0094711"
      ]
     },
     "metadata": {},
     "output_type": "display_data"
    },
    {
     "data": {
      "image/png": "[encoded data removed]",
      "text/plain": [
       "plot without title"
      ]
     },
     "metadata": {
      "image/png": {
       "height": 420,
       "width": 420
      },
      "text/plain": {
       "height": 420,
       "width": 420
      }
     },
     "output_type": "display_data"
    }
   ],
   "source": [
    "#Deterime LOD Values\n",
    "LOD5 <- summary(TraitCIM1000,alpha=c(.05))\n",
    "TraitCIM<-cim(Map,pheno.col = colNum,method = \"hk\",\n",
    "              map.function = \"kosambi\") #Generate LOD Values\n",
    "plot(TraitCIM) #show LOD graph\n",
    "abline(h = LOD5,col = \"blue\") #overlay statistically significant line\n",
    "print(\"If nothing shows up, the values \n",
    "      are below the LOD5 score\") #warning for no peaks\n",
    "summary(TraitCIM)\n",
    "write.csv(TraitCIM,\"MapValidationFemaleMapGitHubVersion_NE_Table.csv\")"
   ]
  },
  {
   "cell_type": "code",
   "execution_count": 13,
   "metadata": {},
   "outputs": [
    {
     "name": "stdin",
     "output_type": "stream",
     "text": [
      "Chromosome?  16\n"
     ]
    },
    {
     "data": {
      "image/png": "[encoded data removed]",
      "text/plain": [
       "plot without title"
      ]
     },
     "metadata": {
      "image/png": {
       "height": 420,
       "width": 420
      },
      "text/plain": {
       "height": 420,
       "width": 420
      }
     },
     "output_type": "display_data"
    }
   ],
   "source": [
    "#Chromosomal Analysis\n",
    "chr <- as.numeric(readline(\"Chromosome? \")) #collect chromosome to look at\n",
    "plot(TraitCIM, chr = chr,xlab = c(\"chr\",chr)) #Plot chr LOD scores\n",
    "abline(h = LOD5, col = \"blue\") #Statistically Significant"
   ]
  },
  {
   "cell_type": "code",
   "execution_count": 14,
   "metadata": {},
   "outputs": [
    {
     "data": {
      "text/html": [
       "<table>\n",
       "<caption>A scanone: 3 × 3</caption>\n",
       "<thead>\n",
       "\t<tr><th></th><th scope=col>chr</th><th scope=col>pos</th><th scope=col>lod</th></tr>\n",
       "\t<tr><th></th><th scope=col>&lt;fct&gt;</th><th scope=col>&lt;dbl&gt;</th><th scope=col>&lt;dbl&gt;</th></tr>\n",
       "</thead>\n",
       "<tbody>\n",
       "\t<tr><th scope=row>16_13270028</th><td>16</td><td>16.26602</td><td>48.4965676</td></tr>\n",
       "\t<tr><th scope=row>18_2673641</th><td>16</td><td>16.27703</td><td>48.5250640</td></tr>\n",
       "\t<tr><th scope=row>16_14618393</th><td>16</td><td>21.25103</td><td> 0.5780531</td></tr>\n",
       "</tbody>\n",
       "</table>\n"
      ],
      "text/latex": [
       "A scanone: 3 × 3\n",
       "\\begin{tabular}{r|lll}\n",
       "  & chr & pos & lod\\\\\n",
       "  & <fct> & <dbl> & <dbl>\\\\\n",
       "\\hline\n",
       "\t16\\_13270028 & 16 & 16.26602 & 48.4965676\\\\\n",
       "\t18\\_2673641 & 16 & 16.27703 & 48.5250640\\\\\n",
       "\t16\\_14618393 & 16 & 21.25103 &  0.5780531\\\\\n",
       "\\end{tabular}\n"
      ],
      "text/markdown": [
       "\n",
       "A scanone: 3 × 3\n",
       "\n",
       "| <!--/--> | chr &lt;fct&gt; | pos &lt;dbl&gt; | lod &lt;dbl&gt; |\n",
       "|---|---|---|---|\n",
       "| 16_13270028 | 16 | 16.26602 | 48.4965676 |\n",
       "| 18_2673641 | 16 | 16.27703 | 48.5250640 |\n",
       "| 16_14618393 | 16 | 21.25103 |  0.5780531 |\n",
       "\n"
      ],
      "text/plain": [
       "            chr pos      lod       \n",
       "16_13270028 16  16.26602 48.4965676\n",
       "18_2673641  16  16.27703 48.5250640\n",
       "16_14618393 16  21.25103  0.5780531"
      ]
     },
     "metadata": {},
     "output_type": "display_data"
    },
    {
     "data": {
      "text/html": [
       "<table>\n",
       "<caption>A scanone: 3 × 3</caption>\n",
       "<thead>\n",
       "\t<tr><th></th><th scope=col>chr</th><th scope=col>pos</th><th scope=col>lod</th></tr>\n",
       "\t<tr><th></th><th scope=col>&lt;fct&gt;</th><th scope=col>&lt;dbl&gt;</th><th scope=col>&lt;dbl&gt;</th></tr>\n",
       "</thead>\n",
       "<tbody>\n",
       "\t<tr><th scope=row>16_12759313</th><td>16</td><td>15.74502</td><td>45.87265</td></tr>\n",
       "\t<tr><th scope=row>18_2673641</th><td>16</td><td>16.27703</td><td>48.52506</td></tr>\n",
       "\t<tr><th scope=row>16_12991399</th><td>16</td><td>16.91103</td><td>46.69928</td></tr>\n",
       "</tbody>\n",
       "</table>\n"
      ],
      "text/latex": [
       "A scanone: 3 × 3\n",
       "\\begin{tabular}{r|lll}\n",
       "  & chr & pos & lod\\\\\n",
       "  & <fct> & <dbl> & <dbl>\\\\\n",
       "\\hline\n",
       "\t16\\_12759313 & 16 & 15.74502 & 45.87265\\\\\n",
       "\t18\\_2673641 & 16 & 16.27703 & 48.52506\\\\\n",
       "\t16\\_12991399 & 16 & 16.91103 & 46.69928\\\\\n",
       "\\end{tabular}\n"
      ],
      "text/markdown": [
       "\n",
       "A scanone: 3 × 3\n",
       "\n",
       "| <!--/--> | chr &lt;fct&gt; | pos &lt;dbl&gt; | lod &lt;dbl&gt; |\n",
       "|---|---|---|---|\n",
       "| 16_12759313 | 16 | 15.74502 | 45.87265 |\n",
       "| 18_2673641 | 16 | 16.27703 | 48.52506 |\n",
       "| 16_12991399 | 16 | 16.91103 | 46.69928 |\n",
       "\n"
      ],
      "text/plain": [
       "            chr pos      lod     \n",
       "16_12759313 16  15.74502 45.87265\n",
       "18_2673641  16  16.27703 48.52506\n",
       "16_12991399 16  16.91103 46.69928"
      ]
     },
     "metadata": {},
     "output_type": "display_data"
    }
   ],
   "source": [
    "bayesint(TraitCIM, chr = chr, prob=0.95, expandtomarkers=TRUE) #calculate bayesian interval\n",
    "lodint(TraitCIM, chr = chr,expandtomarkers = TRUE ) #calculate LOD Support interval"
   ]
  },
  {
   "cell_type": "code",
   "execution_count": 15,
   "metadata": {},
   "outputs": [
    {
     "name": "stdin",
     "output_type": "stream",
     "text": [
      "Position for analysis:  16.27703\n"
     ]
    },
    {
     "name": "stderr",
     "output_type": "stream",
     "text": [
      "Warning message in getsex(cross):\n",
      "\"125 individuals with missing sex; assuming they're female\"\n",
      "Warning message in fitqtlengine(pheno = pheno, qtl = qtl, covar = covar, formula = formula, :\n",
      "\"Dropping 124 individuals with missing phenotypes.\n",
      "\"\n",
      "Warning message in getsex(cross):\n",
      "\"125 individuals with missing sex; assuming they're female\"\n"
     ]
    },
    {
     "data": {
      "text/plain": [
       "\n",
       "\t\tfitqtl summary\n",
       "\n",
       "Method: Haley-Knott regression \n",
       "Model:  normal phenotype\n",
       "Number of observations : 170 \n",
       "\n",
       "Full model result\n",
       "----------------------------------  \n",
       "Model formula: y ~ Q1 \n",
       "\n",
       "       df       SS          MS    LOD     %var Pvalue(Chi2) Pvalue(F)\n",
       "Model   1 30.38700 30.38700038 46.388 71.53843            0         0\n",
       "Error 168 12.08947  0.07196113                                       \n",
       "Total 169 42.47647                                                   \n",
       "\n",
       "\n",
       "Estimated effects:\n",
       "-----------------\n",
       "               est       SE      t\n",
       "Intercept  0.50542  0.02058  24.56\n",
       "16@16.3   -0.84766  0.04125 -20.55\n"
      ]
     },
     "metadata": {},
     "output_type": "display_data"
    }
   ],
   "source": [
    "p <- as.numeric(readline(\"Position for analysis: \"))\n",
    "qtl <- makeqtl(Map, chr = chr, pos = p, what=\"prob\") #pulls genotype probabilities\n",
    "fitqtl <- fitqtl(Map, pheno.col=colNum, qtl = qtl, covar=NULL,\n",
    "       method= \"hk\",model=\"normal\",\n",
    "       dropone=TRUE, get.ests=TRUE,run.checks=TRUE,\n",
    "       tol=1e-4, maxit=1000, forceXcovar=FALSE) #sees how well our data fits a given formula \n",
    "          # If you see \"error: object of type 'closure' is not subsettable\", remove \"formula,\" from the fitqtl argument list.\n",
    "summary(fitqtl) #Print results of the analysis"
   ]
  },
  {
   "cell_type": "code",
   "execution_count": 16,
   "metadata": {},
   "outputs": [
    {
     "name": "stdout",
     "output_type": "stream",
     "text": [
      "[1] \"Make sure to input names AS THEY APPEAR on the csv!!\"\n"
     ]
    },
    {
     "name": "stdin",
     "output_type": "stream",
     "text": [
      "Enter file name (Either FemaleMap.csv or MaleMap.csv):  MaleMap.csv\n",
      "First Genotype (homozygous) (For example ll):  nn\n",
      "Second Genotype (heterozygous) (for example lm):  np\n",
      "Column Number:  2\n"
     ]
    }
   ],
   "source": [
    "#Collecting enviroment variables\n",
    "print(\"Make sure to input names AS THEY APPEAR on the csv!!\") #Just a user warning\n",
    "fileName <- readline(\"Enter file name (Either FemaleMap.csv or MaleMap.csv): \") #Mapping table file\n",
    "genotypeName <- c(readline(\"First Genotype (homozygous) (For example ll): \"),\n",
    "                  readline(\"Second Genotype (heterozygous) (for example lm): \")) #For example \"nn\", \"np\"\n",
    "alleleName <- c(substr(genotypeName[2],1,1) ,substr(genotypeName[2],2,2))\n",
    "naNames <- c(\"NA\",\"--\") #For example \"NA\", \"--\"\n",
    "colNum <- as.numeric(readline(\"Column Number: \")) #Column for pheno of interest, for this analysis it is Sex (flower phenotypes collected by Gaurab at Darr)"
   ]
  },
  {
   "cell_type": "code",
   "execution_count": 17,
   "metadata": {},
   "outputs": [
    {
     "name": "stdout",
     "output_type": "stream",
     "text": [
      " --Read the following data:\n",
      "\t 294  individuals\n",
      "\t 1128  markers\n",
      "\t 45  phenotypes\n"
     ]
    },
    {
     "name": "stderr",
     "output_type": "stream",
     "text": [
      "Warning message in summary.cross(cross):\n",
      "\"Some markers at the same position on chr 1,3,4,5,6,7,8,9,10,12,13,14,15,16,17,18,19; use jittermap().\"\n"
     ]
    },
    {
     "name": "stdout",
     "output_type": "stream",
     "text": [
      " --Cross type: bc \n"
     ]
    },
    {
     "data": {
      "image/png": "[encoded data removed]",
      "text/plain": [
       "Plot with title \"Genetic map\""
      ]
     },
     "metadata": {
      "image/png": {
       "height": 420,
       "width": 420
      },
      "text/plain": {
       "height": 420,
       "width": 420
      }
     },
     "output_type": "display_data"
    }
   ],
   "source": [
    "#Map generation\n",
    "Map <- read.cross(format = 'csv',file = fileName \n",
    "                  ,genotypes = genotypeName,\n",
    "                  alleles = alleleName,na.strings = naNames) #generate linkage map\n",
    "Map <- jittermap(Map) #make sure no markers are in the same location\n",
    "Map <- calc.genoprob(Map,step = 1,map.function = \"kosambi\") #associate markers with full genotypes\n",
    "plot.map(Map) #draw linkage map"
   ]
  },
  {
   "cell_type": "code",
   "execution_count": 18,
   "metadata": {},
   "outputs": [
    {
     "data": {
      "image/png": "[encoded data removed]",
      "text/plain": [
       "Plot with title \"\""
      ]
     },
     "metadata": {
      "image/png": {
       "height": 420,
       "width": 420
      },
      "text/plain": {
       "height": 420,
       "width": 420
      }
     },
     "output_type": "display_data"
    }
   ],
   "source": [
    "plotNormalHistogram(Map$pheno[,colNum]) #normal histogram of pheno of interest"
   ]
  },
  {
   "cell_type": "markdown",
   "metadata": {},
   "source": [
    "Outliers exist in this data. "
   ]
  },
  {
   "cell_type": "code",
   "execution_count": 19,
   "metadata": {},
   "outputs": [
    {
     "data": {
      "text/plain": [
       "LOD thresholds (1000 permutations)\n",
       "   [,1]\n",
       "5% 4.09\n",
       "1% 5.10"
      ]
     },
     "metadata": {},
     "output_type": "display_data"
    },
    {
     "data": {
      "image/png": "[encoded data removed]",
      "text/plain": [
       "Plot with title \"\""
      ]
     },
     "metadata": {
      "image/png": {
       "height": 420,
       "width": 420
      },
      "text/plain": {
       "height": 420,
       "width": 420
      }
     },
     "output_type": "display_data"
    }
   ],
   "source": [
    "#Compute statistically significant values\n",
    "TraitCIM1000 <- cim(Map,pheno.col = colNum,method = \"hk\",\n",
    "                    map.function = \"kosambi\",n.perm = 1000) # Function will take a moment to run, determines LOD value\n",
    "plot(TraitCIM1000,col = 'green') #show distribution of lod scores\n",
    "summary(TraitCIM1000,alpha=c(.05,.01))"
   ]
  },
  {
   "cell_type": "code",
   "execution_count": 20,
   "metadata": {},
   "outputs": [
    {
     "name": "stdout",
     "output_type": "stream",
     "text": [
      "[1] \"If nothing shows up, the values \\n      are below the LOD5 score\"\n"
     ]
    },
    {
     "data": {
      "text/html": [
       "<table>\n",
       "<caption>A summary.scanone: 19 × 3</caption>\n",
       "<thead>\n",
       "\t<tr><th></th><th scope=col>chr</th><th scope=col>pos</th><th scope=col>lod</th></tr>\n",
       "\t<tr><th></th><th scope=col>&lt;fct&gt;</th><th scope=col>&lt;dbl&gt;</th><th scope=col>&lt;dbl&gt;</th></tr>\n",
       "</thead>\n",
       "<tbody>\n",
       "\t<tr><th scope=row>c1.loc25</th><td>1 </td><td> 25.000000</td><td> 1.6205846</td></tr>\n",
       "\t<tr><th scope=row>2_4350083</th><td>2 </td><td> 20.051008</td><td>46.1617237</td></tr>\n",
       "\t<tr><th scope=row>c3.loc64</th><td>3 </td><td> 64.000000</td><td> 1.3430177</td></tr>\n",
       "\t<tr><th scope=row>4_701098</th><td>4 </td><td>  0.597001</td><td> 1.3491741</td></tr>\n",
       "\t<tr><th scope=row>5_23031683</th><td>5 </td><td> 72.299046</td><td> 0.5776311</td></tr>\n",
       "\t<tr><th scope=row>c6.loc37</th><td>6 </td><td> 37.000000</td><td> 2.1511651</td></tr>\n",
       "\t<tr><th scope=row>c7.loc104</th><td>7 </td><td>104.000000</td><td> 1.7231881</td></tr>\n",
       "\t<tr><th scope=row>c8.loc81</th><td>8 </td><td> 81.000000</td><td> 2.0203161</td></tr>\n",
       "\t<tr><th scope=row>c9.loc35</th><td>9 </td><td> 35.000000</td><td> 1.1210603</td></tr>\n",
       "\t<tr><th scope=row>10_8058787</th><td>10</td><td> 42.592017</td><td> 1.8385506</td></tr>\n",
       "\t<tr><th scope=row>c11.loc37</th><td>11</td><td> 37.000000</td><td> 1.4406153</td></tr>\n",
       "\t<tr><th scope=row>12_4625727</th><td>12</td><td> 17.025015</td><td> 1.4600991</td></tr>\n",
       "\t<tr><th scope=row>c13.loc83</th><td>13</td><td> 83.000000</td><td> 0.9358427</td></tr>\n",
       "\t<tr><th scope=row>c14.loc8</th><td>14</td><td>  8.000000</td><td> 1.0822842</td></tr>\n",
       "\t<tr><th scope=row>c15.loc35</th><td>15</td><td> 35.000000</td><td> 1.4991391</td></tr>\n",
       "\t<tr><th scope=row>13_3252820</th><td>16</td><td> 43.734030</td><td> 0.3940881</td></tr>\n",
       "\t<tr><th scope=row>17_679913</th><td>17</td><td>  2.954002</td><td> 1.0397933</td></tr>\n",
       "\t<tr><th scope=row>18_2352415</th><td>18</td><td>  0.000000</td><td> 0.7585887</td></tr>\n",
       "\t<tr><th scope=row>c19.loc4</th><td>19</td><td>  4.000000</td><td> 1.4062633</td></tr>\n",
       "</tbody>\n",
       "</table>\n"
      ],
      "text/latex": [
       "A summary.scanone: 19 × 3\n",
       "\\begin{tabular}{r|lll}\n",
       "  & chr & pos & lod\\\\\n",
       "  & <fct> & <dbl> & <dbl>\\\\\n",
       "\\hline\n",
       "\tc1.loc25 & 1  &  25.000000 &  1.6205846\\\\\n",
       "\t2\\_4350083 & 2  &  20.051008 & 46.1617237\\\\\n",
       "\tc3.loc64 & 3  &  64.000000 &  1.3430177\\\\\n",
       "\t4\\_701098 & 4  &   0.597001 &  1.3491741\\\\\n",
       "\t5\\_23031683 & 5  &  72.299046 &  0.5776311\\\\\n",
       "\tc6.loc37 & 6  &  37.000000 &  2.1511651\\\\\n",
       "\tc7.loc104 & 7  & 104.000000 &  1.7231881\\\\\n",
       "\tc8.loc81 & 8  &  81.000000 &  2.0203161\\\\\n",
       "\tc9.loc35 & 9  &  35.000000 &  1.1210603\\\\\n",
       "\t10\\_8058787 & 10 &  42.592017 &  1.8385506\\\\\n",
       "\tc11.loc37 & 11 &  37.000000 &  1.4406153\\\\\n",
       "\t12\\_4625727 & 12 &  17.025015 &  1.4600991\\\\\n",
       "\tc13.loc83 & 13 &  83.000000 &  0.9358427\\\\\n",
       "\tc14.loc8 & 14 &   8.000000 &  1.0822842\\\\\n",
       "\tc15.loc35 & 15 &  35.000000 &  1.4991391\\\\\n",
       "\t13\\_3252820 & 16 &  43.734030 &  0.3940881\\\\\n",
       "\t17\\_679913 & 17 &   2.954002 &  1.0397933\\\\\n",
       "\t18\\_2352415 & 18 &   0.000000 &  0.7585887\\\\\n",
       "\tc19.loc4 & 19 &   4.000000 &  1.4062633\\\\\n",
       "\\end{tabular}\n"
      ],
      "text/markdown": [
       "\n",
       "A summary.scanone: 19 × 3\n",
       "\n",
       "| <!--/--> | chr &lt;fct&gt; | pos &lt;dbl&gt; | lod &lt;dbl&gt; |\n",
       "|---|---|---|---|\n",
       "| c1.loc25 | 1  |  25.000000 |  1.6205846 |\n",
       "| 2_4350083 | 2  |  20.051008 | 46.1617237 |\n",
       "| c3.loc64 | 3  |  64.000000 |  1.3430177 |\n",
       "| 4_701098 | 4  |   0.597001 |  1.3491741 |\n",
       "| 5_23031683 | 5  |  72.299046 |  0.5776311 |\n",
       "| c6.loc37 | 6  |  37.000000 |  2.1511651 |\n",
       "| c7.loc104 | 7  | 104.000000 |  1.7231881 |\n",
       "| c8.loc81 | 8  |  81.000000 |  2.0203161 |\n",
       "| c9.loc35 | 9  |  35.000000 |  1.1210603 |\n",
       "| 10_8058787 | 10 |  42.592017 |  1.8385506 |\n",
       "| c11.loc37 | 11 |  37.000000 |  1.4406153 |\n",
       "| 12_4625727 | 12 |  17.025015 |  1.4600991 |\n",
       "| c13.loc83 | 13 |  83.000000 |  0.9358427 |\n",
       "| c14.loc8 | 14 |   8.000000 |  1.0822842 |\n",
       "| c15.loc35 | 15 |  35.000000 |  1.4991391 |\n",
       "| 13_3252820 | 16 |  43.734030 |  0.3940881 |\n",
       "| 17_679913 | 17 |   2.954002 |  1.0397933 |\n",
       "| 18_2352415 | 18 |   0.000000 |  0.7585887 |\n",
       "| c19.loc4 | 19 |   4.000000 |  1.4062633 |\n",
       "\n"
      ],
      "text/plain": [
       "           chr pos        lod       \n",
       "c1.loc25   1    25.000000  1.6205846\n",
       "2_4350083  2    20.051008 46.1617237\n",
       "c3.loc64   3    64.000000  1.3430177\n",
       "4_701098   4     0.597001  1.3491741\n",
       "5_23031683 5    72.299046  0.5776311\n",
       "c6.loc37   6    37.000000  2.1511651\n",
       "c7.loc104  7   104.000000  1.7231881\n",
       "c8.loc81   8    81.000000  2.0203161\n",
       "c9.loc35   9    35.000000  1.1210603\n",
       "10_8058787 10   42.592017  1.8385506\n",
       "c11.loc37  11   37.000000  1.4406153\n",
       "12_4625727 12   17.025015  1.4600991\n",
       "c13.loc83  13   83.000000  0.9358427\n",
       "c14.loc8   14    8.000000  1.0822842\n",
       "c15.loc35  15   35.000000  1.4991391\n",
       "13_3252820 16   43.734030  0.3940881\n",
       "17_679913  17    2.954002  1.0397933\n",
       "18_2352415 18    0.000000  0.7585887\n",
       "c19.loc4   19    4.000000  1.4062633"
      ]
     },
     "metadata": {},
     "output_type": "display_data"
    },
    {
     "data": {
      "image/png": "[encoded data removed]",
      "text/plain": [
       "plot without title"
      ]
     },
     "metadata": {
      "image/png": {
       "height": 420,
       "width": 420
      },
      "text/plain": {
       "height": 420,
       "width": 420
      }
     },
     "output_type": "display_data"
    }
   ],
   "source": [
    "#Deterime LOD Values\n",
    "TraitCIM<-cim(Map,pheno.col = colNum,method = \"hk\",\n",
    "              map.function = \"kosambi\") #Generate LOD Values\n",
    "plot(TraitCIM) #show LOD graph\n",
    "abline(h = LOD5,col = \"blue\") #overlay statistically significant line\n",
    "print(\"If nothing shows up, the values \n",
    "      are below the LOD5 score\") #warning for no peaks\n",
    "summary(TraitCIM)\n",
    "write.csv(TraitCIM,\"MapValidationMaleMapGitHubVersion_Sex_Table.csv\")"
   ]
  },
  {
   "cell_type": "code",
   "execution_count": 21,
   "metadata": {},
   "outputs": [
    {
     "name": "stdin",
     "output_type": "stream",
     "text": [
      "Chromosome?  2\n"
     ]
    },
    {
     "data": {
      "image/png": "[encoded data removed]",
      "text/plain": [
       "plot without title"
      ]
     },
     "metadata": {
      "image/png": {
       "height": 420,
       "width": 420
      },
      "text/plain": {
       "height": 420,
       "width": 420
      }
     },
     "output_type": "display_data"
    }
   ],
   "source": [
    "#Chromosomal Analysis\n",
    "chr <- as.numeric(readline(\"Chromosome? \")) #collect chromosome to look at\n",
    "plot(TraitCIM, chr = chr,xlab = c(\"chr\",chr)) #Plot chr LOD scores\n",
    "abline(h = LOD5, col = \"blue\") #Statistically Significant"
   ]
  },
  {
   "cell_type": "code",
   "execution_count": 22,
   "metadata": {},
   "outputs": [
    {
     "data": {
      "text/html": [
       "<table>\n",
       "<caption>A scanone: 3 × 3</caption>\n",
       "<thead>\n",
       "\t<tr><th></th><th scope=col>chr</th><th scope=col>pos</th><th scope=col>lod</th></tr>\n",
       "\t<tr><th></th><th scope=col>&lt;fct&gt;</th><th scope=col>&lt;dbl&gt;</th><th scope=col>&lt;dbl&gt;</th></tr>\n",
       "</thead>\n",
       "<tbody>\n",
       "\t<tr><th scope=row>2_4350083</th><td>2</td><td>20.05101</td><td>46.16172</td></tr>\n",
       "\t<tr><th scope=row>2_4350083 </th><td>2</td><td>20.05101</td><td>46.16172</td></tr>\n",
       "\t<tr><th scope=row>2_4272907</th><td>2</td><td>20.32301</td><td>45.92034</td></tr>\n",
       "</tbody>\n",
       "</table>\n"
      ],
      "text/latex": [
       "A scanone: 3 × 3\n",
       "\\begin{tabular}{r|lll}\n",
       "  & chr & pos & lod\\\\\n",
       "  & <fct> & <dbl> & <dbl>\\\\\n",
       "\\hline\n",
       "\t2\\_4350083 & 2 & 20.05101 & 46.16172\\\\\n",
       "\t2\\_4350083  & 2 & 20.05101 & 46.16172\\\\\n",
       "\t2\\_4272907 & 2 & 20.32301 & 45.92034\\\\\n",
       "\\end{tabular}\n"
      ],
      "text/markdown": [
       "\n",
       "A scanone: 3 × 3\n",
       "\n",
       "| <!--/--> | chr &lt;fct&gt; | pos &lt;dbl&gt; | lod &lt;dbl&gt; |\n",
       "|---|---|---|---|\n",
       "| 2_4350083 | 2 | 20.05101 | 46.16172 |\n",
       "| 2_4350083  | 2 | 20.05101 | 46.16172 |\n",
       "| 2_4272907 | 2 | 20.32301 | 45.92034 |\n",
       "\n"
      ],
      "text/plain": [
       "           chr pos      lod     \n",
       "2_4350083  2   20.05101 46.16172\n",
       "2_4350083  2   20.05101 46.16172\n",
       "2_4272907  2   20.32301 45.92034"
      ]
     },
     "metadata": {},
     "output_type": "display_data"
    },
    {
     "data": {
      "text/html": [
       "<table>\n",
       "<caption>A scanone: 3 × 3</caption>\n",
       "<thead>\n",
       "\t<tr><th></th><th scope=col>chr</th><th scope=col>pos</th><th scope=col>lod</th></tr>\n",
       "\t<tr><th></th><th scope=col>&lt;fct&gt;</th><th scope=col>&lt;dbl&gt;</th><th scope=col>&lt;dbl&gt;</th></tr>\n",
       "</thead>\n",
       "<tbody>\n",
       "\t<tr><th scope=row>2_4272908</th><td>2</td><td>20.03701</td><td>32.44031160</td></tr>\n",
       "\t<tr><th scope=row>2_4350083</th><td>2</td><td>20.05101</td><td>46.16172372</td></tr>\n",
       "\t<tr><th scope=row>2_4599939</th><td>2</td><td>22.23201</td><td> 0.04377367</td></tr>\n",
       "</tbody>\n",
       "</table>\n"
      ],
      "text/latex": [
       "A scanone: 3 × 3\n",
       "\\begin{tabular}{r|lll}\n",
       "  & chr & pos & lod\\\\\n",
       "  & <fct> & <dbl> & <dbl>\\\\\n",
       "\\hline\n",
       "\t2\\_4272908 & 2 & 20.03701 & 32.44031160\\\\\n",
       "\t2\\_4350083 & 2 & 20.05101 & 46.16172372\\\\\n",
       "\t2\\_4599939 & 2 & 22.23201 &  0.04377367\\\\\n",
       "\\end{tabular}\n"
      ],
      "text/markdown": [
       "\n",
       "A scanone: 3 × 3\n",
       "\n",
       "| <!--/--> | chr &lt;fct&gt; | pos &lt;dbl&gt; | lod &lt;dbl&gt; |\n",
       "|---|---|---|---|\n",
       "| 2_4272908 | 2 | 20.03701 | 32.44031160 |\n",
       "| 2_4350083 | 2 | 20.05101 | 46.16172372 |\n",
       "| 2_4599939 | 2 | 22.23201 |  0.04377367 |\n",
       "\n"
      ],
      "text/plain": [
       "          chr pos      lod        \n",
       "2_4272908 2   20.03701 32.44031160\n",
       "2_4350083 2   20.05101 46.16172372\n",
       "2_4599939 2   22.23201  0.04377367"
      ]
     },
     "metadata": {},
     "output_type": "display_data"
    }
   ],
   "source": [
    "bayesint(TraitCIM, chr = chr, prob=0.95, expandtomarkers=TRUE) #calculate bayesian interval\n",
    "lodint(TraitCIM, chr = chr,expandtomarkers = TRUE ) #calculate LOD Support interval"
   ]
  },
  {
   "cell_type": "code",
   "execution_count": 23,
   "metadata": {},
   "outputs": [
    {
     "name": "stdin",
     "output_type": "stream",
     "text": [
      "Position for analysis:  20.05101\n"
     ]
    },
    {
     "name": "stderr",
     "output_type": "stream",
     "text": [
      "Warning message in getsex(cross):\n",
      "\"125 individuals with missing sex; assuming they're female\"\n",
      "Warning message in fitqtlengine(pheno = pheno, qtl = qtl, covar = covar, formula = formula, :\n",
      "\"Dropping 125 individuals with missing phenotypes.\n",
      "\"\n",
      "Warning message in getsex(cross):\n",
      "\"125 individuals with missing sex; assuming they're female\"\n"
     ]
    },
    {
     "data": {
      "text/plain": [
       "\n",
       "\t\tfitqtl summary\n",
       "\n",
       "Method: Haley-Knott regression \n",
       "Model:  normal phenotype\n",
       "Number of observations : 169 \n",
       "\n",
       "Full model result\n",
       "----------------------------------  \n",
       "Model formula: y ~ Q1 \n",
       "\n",
       "       df       SS          MS      LOD     %var Pvalue(Chi2) Pvalue(F)\n",
       "Model   1 30.37814 30.37814139 46.58881 71.90344            0         0\n",
       "Error 167 11.87038  0.07108012                                         \n",
       "Total 168 42.24852                                                     \n",
       "\n",
       "\n",
       "Estimated effects:\n",
       "-----------------\n",
       "               est       SE      t\n",
       "Intercept  0.46327  0.02057  22.52\n",
       "2@20.1    -0.86069  0.04163 -20.67\n"
      ]
     },
     "metadata": {},
     "output_type": "display_data"
    }
   ],
   "source": [
    "p <- as.numeric(readline(\"Position for analysis: \"))\n",
    "qtl <- makeqtl(Map, chr = chr, pos = p, what=\"prob\") #pulls genotype probabilities\n",
    "fitqtl <- fitqtl(Map, pheno.col=colNum, qtl = qtl, covar=NULL,\n",
    "       method= \"hk\",model=\"normal\",\n",
    "       dropone=TRUE, get.ests=TRUE,run.checks=TRUE,\n",
    "       tol=1e-4, maxit=1000, forceXcovar=FALSE) #sees how well our data fits a given formula \n",
    "          # If you see \"error: object of type 'closure' is not subsettable\", remove \"formula,\" from the fitqtl argument list.\n",
    "summary(fitqtl) #Print results of the analysis"
   ]
  },
  {
   "cell_type": "code",
   "execution_count": null,
   "metadata": {},
   "outputs": [],
   "source": []
  }
 ],
 "metadata": {
  "kernelspec": {
   "display_name": "R",
   "language": "R",
   "name": "ir"
  },
  "language_info": {
   "codemirror_mode": "r",
   "file_extension": ".r",
   "mimetype": "text/x-r-source",
   "name": "R",
   "pygments_lexer": "r",
   "version": "3.6.3"
  }
 },
 "nbformat": 4,
 "nbformat_minor": 4
}
