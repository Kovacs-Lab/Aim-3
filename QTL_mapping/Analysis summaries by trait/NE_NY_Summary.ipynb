{
 "cells": [
  {
   "cell_type": "markdown",
   "metadata": {},
   "source": [
    "This analysis is in the order of Female then Male"
   ]
  },
  {
   "cell_type": "code",
   "execution_count": 1,
   "metadata": {},
   "outputs": [
    {
     "name": "stderr",
     "output_type": "stream",
     "text": [
      "Installing package into 'C:/Users/vm1998/Documents/R/win-library/3.6'\n",
      "(as 'lib' is unspecified)\n",
      "\n"
     ]
    },
    {
     "name": "stdout",
     "output_type": "stream",
     "text": [
      "package 'qtl' successfully unpacked and MD5 sums checked\n"
     ]
    },
    {
     "name": "stderr",
     "output_type": "stream",
     "text": [
      "Warning message:\n",
      "\"cannot remove prior installation of package 'qtl'\"\n",
      "Warning message in file.copy(savedcopy, lib, recursive = TRUE):\n",
      "\"problem copying C:\\Users\\vm1998\\Documents\\R\\win-library\\3.6\\00LOCK\\qtl\\libs\\x64\\qtl.dll to C:\\Users\\vm1998\\Documents\\R\\win-library\\3.6\\qtl\\libs\\x64\\qtl.dll: Permission denied\"\n",
      "Warning message:\n",
      "\"restored 'qtl'\"\n"
     ]
    },
    {
     "name": "stdout",
     "output_type": "stream",
     "text": [
      "\n",
      "The downloaded binary packages are in\n",
      "\tC:\\Users\\vm1998\\AppData\\Local\\Temp\\RtmpOOkbhA\\downloaded_packages\n"
     ]
    },
    {
     "name": "stderr",
     "output_type": "stream",
     "text": [
      "Installing package into 'C:/Users/vm1998/Documents/R/win-library/3.6'\n",
      "(as 'lib' is unspecified)\n",
      "\n"
     ]
    },
    {
     "name": "stdout",
     "output_type": "stream",
     "text": [
      "package 'qtlcharts' successfully unpacked and MD5 sums checked\n",
      "\n",
      "The downloaded binary packages are in\n",
      "\tC:\\Users\\vm1998\\AppData\\Local\\Temp\\RtmpOOkbhA\\downloaded_packages\n"
     ]
    },
    {
     "name": "stderr",
     "output_type": "stream",
     "text": [
      "Installing package into 'C:/Users/vm1998/Documents/R/win-library/3.6'\n",
      "(as 'lib' is unspecified)\n",
      "\n"
     ]
    },
    {
     "name": "stdout",
     "output_type": "stream",
     "text": [
      "package 'LinkageMapView' successfully unpacked and MD5 sums checked\n",
      "\n",
      "The downloaded binary packages are in\n",
      "\tC:\\Users\\vm1998\\AppData\\Local\\Temp\\RtmpOOkbhA\\downloaded_packages\n"
     ]
    },
    {
     "name": "stderr",
     "output_type": "stream",
     "text": [
      "Installing package into 'C:/Users/vm1998/Documents/R/win-library/3.6'\n",
      "(as 'lib' is unspecified)\n",
      "\n"
     ]
    },
    {
     "name": "stdout",
     "output_type": "stream",
     "text": [
      "package 'rcompanion' successfully unpacked and MD5 sums checked\n",
      "\n",
      "The downloaded binary packages are in\n",
      "\tC:\\Users\\vm1998\\AppData\\Local\\Temp\\RtmpOOkbhA\\downloaded_packages\n"
     ]
    }
   ],
   "source": [
    "install.packages('qtl') #Main package, for analysis\n",
    "install.packages('qtlcharts') #accessory, for displaying graphs\n",
    "install.packages('LinkageMapView') #accessory, for displaying linkage maps\n",
    "install.packages('rcompanion')# for plotNormalHistogram"
   ]
  },
  {
   "cell_type": "code",
   "execution_count": 1,
   "metadata": {},
   "outputs": [],
   "source": [
    "library(qtl) #load packages\n",
    "library(qtlcharts)\n",
    "library(LinkageMapView)\n",
    "library(rcompanion)"
   ]
  },
  {
   "cell_type": "code",
   "execution_count": 2,
   "metadata": {},
   "outputs": [
    {
     "name": "stdout",
     "output_type": "stream",
     "text": [
      "[1] \"Make sure to input names AS THEY APPEAR on the csv!!\"\n"
     ]
    },
    {
     "name": "stdin",
     "output_type": "stream",
     "text": [
      "Enter file name (Either FemaleMap.csv or MaleMap.csv):  FemaleMap.csv\n",
      "First Genotype (homozygous) (For example ll):  ll\n",
      "Second Genotype (heterozygous) (for example lm):  lm\n",
      "Column Number:  6\n"
     ]
    }
   ],
   "source": [
    "#Collecting enviroment variables\n",
    "print(\"Make sure to input names AS THEY APPEAR on the csv!!\") #Just a user warning\n",
    "fileName <- readline(\"Enter file name (Either FemaleMap.csv or MaleMap.csv): \") #Mapping table file\n",
    "genotypeName <- c(readline(\"First Genotype (homozygous) (For example ll): \"),\n",
    "                  readline(\"Second Genotype (heterozygous) (for example lm): \")) #For example \"nn\", \"np\"\n",
    "alleleName <- c(substr(genotypeName[2],1,1) ,substr(genotypeName[2],2,2))\n",
    "naNames <- c(\"NA\",\"--\") #For example \"NA\", \"--\"\n",
    "colNum <- as.numeric(readline(\"Column Number: \")) #Column for pheno of interest"
   ]
  },
  {
   "cell_type": "code",
   "execution_count": 3,
   "metadata": {},
   "outputs": [
    {
     "name": "stdout",
     "output_type": "stream",
     "text": [
      " --Read the following data:\n",
      "\t 294  individuals\n",
      "\t 1100  markers\n",
      "\t 38  phenotypes\n"
     ]
    },
    {
     "name": "stderr",
     "output_type": "stream",
     "text": [
      "Warning message in summary.cross(cross):\n",
      "\"Some markers at the same position on chr 1,2,4,5,7,8,9,10,11,12,13,14,16,17,18,19; use jittermap().\"\n"
     ]
    },
    {
     "name": "stdout",
     "output_type": "stream",
     "text": [
      " --Cross type: bc \n"
     ]
    },
    {
     "data": {
      "image/png": "[encoded data removed]",
      "text/plain": [
       "Plot with title \"Genetic map\""
      ]
     },
     "metadata": {
      "image/png": {
       "height": 420,
       "width": 420
      },
      "text/plain": {
       "height": 420,
       "width": 420
      }
     },
     "output_type": "display_data"
    }
   ],
   "source": [
    "#Map generation\n",
    "Map <- read.cross(format = 'csv',file = fileName \n",
    "                  ,genotypes = genotypeName,\n",
    "                  alleles = alleleName,na.strings = naNames) #generate linkage map\n",
    "Map <- jittermap(Map) #make sure no markers are in the same location\n",
    "Map <- calc.genoprob(Map,step = 1,map.function = \"kosambi\") #associate markers with full genotypes\n",
    "plot.map(Map) #draw linkage map"
   ]
  },
  {
   "cell_type": "code",
   "execution_count": 4,
   "metadata": {},
   "outputs": [
    {
     "data": {
      "image/png": "[encoded data removed]",
      "text/plain": [
       "Plot with title \"\""
      ]
     },
     "metadata": {
      "image/png": {
       "height": 420,
       "width": 420
      },
      "text/plain": {
       "height": 420,
       "width": 420
      }
     },
     "output_type": "display_data"
    }
   ],
   "source": [
    "plotNormalHistogram(Map$pheno[,colNum]) #normal histogram of pheno of interest"
   ]
  },
  {
   "cell_type": "markdown",
   "metadata": {},
   "source": [
    "Outliers exist in this dataset. Will need to be analyized. "
   ]
  },
  {
   "cell_type": "code",
   "execution_count": 5,
   "metadata": {},
   "outputs": [
    {
     "data": {
      "text/plain": [
       "LOD thresholds (1000 permutations)\n",
       "   [,1]\n",
       "5% 4.17\n",
       "1% 5.52"
      ]
     },
     "metadata": {},
     "output_type": "display_data"
    },
    {
     "data": {
      "image/png": "[encoded data removed]",
      "text/plain": [
       "Plot with title \"\""
      ]
     },
     "metadata": {
      "image/png": {
       "height": 420,
       "width": 420
      },
      "text/plain": {
       "height": 420,
       "width": 420
      }
     },
     "output_type": "display_data"
    }
   ],
   "source": [
    "#Compute statistically significant values\n",
    "TraitCIM1000 <- cim(Map,pheno.col = colNum,method = \"hk\",\n",
    "                    map.function = \"kosambi\",n.perm = 1000) # Function will take a moment to run, determines LOD value\n",
    "plot(TraitCIM1000,col = 'green') #show distribution of lod scores\n",
    "summary(TraitCIM1000,alpha=c(.05,.01))"
   ]
  },
  {
   "cell_type": "code",
   "execution_count": 6,
   "metadata": {},
   "outputs": [
    {
     "name": "stdout",
     "output_type": "stream",
     "text": [
      "[1] \"If nothing shows up, the values \\n      are below the LOD5 score\"\n"
     ]
    },
    {
     "data": {
      "text/html": [
       "<table>\n",
       "<caption>A summary.scanone: 19 × 3</caption>\n",
       "<thead>\n",
       "\t<tr><th></th><th scope=col>chr</th><th scope=col>pos</th><th scope=col>lod</th></tr>\n",
       "\t<tr><th></th><th scope=col>&lt;fct&gt;</th><th scope=col>&lt;dbl&gt;</th><th scope=col>&lt;dbl&gt;</th></tr>\n",
       "</thead>\n",
       "<tbody>\n",
       "\t<tr><th scope=row>1_19145591</th><td>1 </td><td>61.27004</td><td> 0.6273709</td></tr>\n",
       "\t<tr><th scope=row>2_6114707</th><td>2 </td><td>55.10002</td><td> 1.2943807</td></tr>\n",
       "\t<tr><th scope=row>c3.loc62</th><td>3 </td><td>62.00000</td><td> 0.4322205</td></tr>\n",
       "\t<tr><th scope=row>c4.loc66</th><td>4 </td><td>66.00000</td><td> 0.5924089</td></tr>\n",
       "\t<tr><th scope=row>5_6441001</th><td>5 </td><td>28.35202</td><td> 1.7374364</td></tr>\n",
       "\t<tr><th scope=row>c6.loc19</th><td>6 </td><td>19.00000</td><td> 0.4947577</td></tr>\n",
       "\t<tr><th scope=row>7_23670192</th><td>7 </td><td>77.24409</td><td> 0.9569676</td></tr>\n",
       "\t<tr><th scope=row>c8.loc9</th><td>8 </td><td> 9.00000</td><td> 2.9249028</td></tr>\n",
       "\t<tr><th scope=row>9_4365902</th><td>9 </td><td>26.07503</td><td> 0.9635042</td></tr>\n",
       "\t<tr><th scope=row>c10.loc23</th><td>10</td><td>23.00000</td><td> 1.0105738</td></tr>\n",
       "\t<tr><th scope=row>11_8491093</th><td>11</td><td>39.35802</td><td> 0.6978344</td></tr>\n",
       "\t<tr><th scope=row>c12.loc17</th><td>12</td><td>17.00000</td><td> 0.6959693</td></tr>\n",
       "\t<tr><th scope=row>c13.loc44</th><td>13</td><td>44.00000</td><td> 1.6347914</td></tr>\n",
       "\t<tr><th scope=row>c14.loc11</th><td>14</td><td>11.00000</td><td> 1.1131513</td></tr>\n",
       "\t<tr><th scope=row>c15.loc7</th><td>15</td><td> 7.00000</td><td> 2.4568855</td></tr>\n",
       "\t<tr><th scope=row>16_12991446</th><td>16</td><td>16.27702</td><td>48.2142351</td></tr>\n",
       "\t<tr><th scope=row>c17.loc4</th><td>17</td><td> 4.00000</td><td> 0.5152545</td></tr>\n",
       "\t<tr><th scope=row>c18.loc64</th><td>18</td><td>64.00000</td><td> 1.2852936</td></tr>\n",
       "\t<tr><th scope=row>19_9663426</th><td>19</td><td>46.86806</td><td> 1.2653127</td></tr>\n",
       "</tbody>\n",
       "</table>\n"
      ],
      "text/latex": [
       "A summary.scanone: 19 × 3\n",
       "\\begin{tabular}{r|lll}\n",
       "  & chr & pos & lod\\\\\n",
       "  & <fct> & <dbl> & <dbl>\\\\\n",
       "\\hline\n",
       "\t1\\_19145591 & 1  & 61.27004 &  0.6273709\\\\\n",
       "\t2\\_6114707 & 2  & 55.10002 &  1.2943807\\\\\n",
       "\tc3.loc62 & 3  & 62.00000 &  0.4322205\\\\\n",
       "\tc4.loc66 & 4  & 66.00000 &  0.5924089\\\\\n",
       "\t5\\_6441001 & 5  & 28.35202 &  1.7374364\\\\\n",
       "\tc6.loc19 & 6  & 19.00000 &  0.4947577\\\\\n",
       "\t7\\_23670192 & 7  & 77.24409 &  0.9569676\\\\\n",
       "\tc8.loc9 & 8  &  9.00000 &  2.9249028\\\\\n",
       "\t9\\_4365902 & 9  & 26.07503 &  0.9635042\\\\\n",
       "\tc10.loc23 & 10 & 23.00000 &  1.0105738\\\\\n",
       "\t11\\_8491093 & 11 & 39.35802 &  0.6978344\\\\\n",
       "\tc12.loc17 & 12 & 17.00000 &  0.6959693\\\\\n",
       "\tc13.loc44 & 13 & 44.00000 &  1.6347914\\\\\n",
       "\tc14.loc11 & 14 & 11.00000 &  1.1131513\\\\\n",
       "\tc15.loc7 & 15 &  7.00000 &  2.4568855\\\\\n",
       "\t16\\_12991446 & 16 & 16.27702 & 48.2142351\\\\\n",
       "\tc17.loc4 & 17 &  4.00000 &  0.5152545\\\\\n",
       "\tc18.loc64 & 18 & 64.00000 &  1.2852936\\\\\n",
       "\t19\\_9663426 & 19 & 46.86806 &  1.2653127\\\\\n",
       "\\end{tabular}\n"
      ],
      "text/markdown": [
       "\n",
       "A summary.scanone: 19 × 3\n",
       "\n",
       "| <!--/--> | chr &lt;fct&gt; | pos &lt;dbl&gt; | lod &lt;dbl&gt; |\n",
       "|---|---|---|---|\n",
       "| 1_19145591 | 1  | 61.27004 |  0.6273709 |\n",
       "| 2_6114707 | 2  | 55.10002 |  1.2943807 |\n",
       "| c3.loc62 | 3  | 62.00000 |  0.4322205 |\n",
       "| c4.loc66 | 4  | 66.00000 |  0.5924089 |\n",
       "| 5_6441001 | 5  | 28.35202 |  1.7374364 |\n",
       "| c6.loc19 | 6  | 19.00000 |  0.4947577 |\n",
       "| 7_23670192 | 7  | 77.24409 |  0.9569676 |\n",
       "| c8.loc9 | 8  |  9.00000 |  2.9249028 |\n",
       "| 9_4365902 | 9  | 26.07503 |  0.9635042 |\n",
       "| c10.loc23 | 10 | 23.00000 |  1.0105738 |\n",
       "| 11_8491093 | 11 | 39.35802 |  0.6978344 |\n",
       "| c12.loc17 | 12 | 17.00000 |  0.6959693 |\n",
       "| c13.loc44 | 13 | 44.00000 |  1.6347914 |\n",
       "| c14.loc11 | 14 | 11.00000 |  1.1131513 |\n",
       "| c15.loc7 | 15 |  7.00000 |  2.4568855 |\n",
       "| 16_12991446 | 16 | 16.27702 | 48.2142351 |\n",
       "| c17.loc4 | 17 |  4.00000 |  0.5152545 |\n",
       "| c18.loc64 | 18 | 64.00000 |  1.2852936 |\n",
       "| 19_9663426 | 19 | 46.86806 |  1.2653127 |\n",
       "\n"
      ],
      "text/plain": [
       "            chr pos      lod       \n",
       "1_19145591  1   61.27004  0.6273709\n",
       "2_6114707   2   55.10002  1.2943807\n",
       "c3.loc62    3   62.00000  0.4322205\n",
       "c4.loc66    4   66.00000  0.5924089\n",
       "5_6441001   5   28.35202  1.7374364\n",
       "c6.loc19    6   19.00000  0.4947577\n",
       "7_23670192  7   77.24409  0.9569676\n",
       "c8.loc9     8    9.00000  2.9249028\n",
       "9_4365902   9   26.07503  0.9635042\n",
       "c10.loc23   10  23.00000  1.0105738\n",
       "11_8491093  11  39.35802  0.6978344\n",
       "c12.loc17   12  17.00000  0.6959693\n",
       "c13.loc44   13  44.00000  1.6347914\n",
       "c14.loc11   14  11.00000  1.1131513\n",
       "c15.loc7    15   7.00000  2.4568855\n",
       "16_12991446 16  16.27702 48.2142351\n",
       "c17.loc4    17   4.00000  0.5152545\n",
       "c18.loc64   18  64.00000  1.2852936\n",
       "19_9663426  19  46.86806  1.2653127"
      ]
     },
     "metadata": {},
     "output_type": "display_data"
    },
    {
     "data": {
      "image/png": "[encoded data removed]",
      "text/plain": [
       "plot without title"
      ]
     },
     "metadata": {
      "image/png": {
       "height": 420,
       "width": 420
      },
      "text/plain": {
       "height": 420,
       "width": 420
      }
     },
     "output_type": "display_data"
    }
   ],
   "source": [
    "#Deterime LOD Values\n",
    "LOD5 <- summary(TraitCIM1000,alpha=c(.05))\n",
    "TraitCIM<-cim(Map,pheno.col = colNum,method = \"hk\",\n",
    "              map.function = \"kosambi\") #Generate LOD Values\n",
    "plot(TraitCIM) #show LOD graph\n",
    "abline(h = LOD5,col = \"blue\") #overlay statistically significant line\n",
    "print(\"If nothing shows up, the values \n",
    "      are below the LOD5 score\") #warning for no peaks\n",
    "summary(TraitCIM)"
   ]
  },
  {
   "cell_type": "code",
   "execution_count": 7,
   "metadata": {},
   "outputs": [
    {
     "name": "stdin",
     "output_type": "stream",
     "text": [
      "Chromosome?  16\n"
     ]
    },
    {
     "data": {
      "image/png": "[encoded data removed]",
      "text/plain": [
       "plot without title"
      ]
     },
     "metadata": {
      "image/png": {
       "height": 420,
       "width": 420
      },
      "text/plain": {
       "height": 420,
       "width": 420
      }
     },
     "output_type": "display_data"
    }
   ],
   "source": [
    "#Chromosomal Analysis\n",
    "chr <- as.numeric(readline(\"Chromosome? \")) #collect chromosome to look at\n",
    "plot(TraitCIM, chr = chr,xlab = c(\"chr\",chr)) #Plot chr LOD scores\n",
    "abline(h = LOD5, col = \"blue\") #Statistically Significant"
   ]
  },
  {
   "cell_type": "code",
   "execution_count": 8,
   "metadata": {},
   "outputs": [
    {
     "data": {
      "text/html": [
       "<table>\n",
       "<caption>A scanone: 3 × 3</caption>\n",
       "<thead>\n",
       "\t<tr><th></th><th scope=col>chr</th><th scope=col>pos</th><th scope=col>lod</th></tr>\n",
       "\t<tr><th></th><th scope=col>&lt;fct&gt;</th><th scope=col>&lt;dbl&gt;</th><th scope=col>&lt;dbl&gt;</th></tr>\n",
       "</thead>\n",
       "<tbody>\n",
       "\t<tr><th scope=row>16_13270028</th><td>16</td><td>16.26602</td><td>48.1871558</td></tr>\n",
       "\t<tr><th scope=row>16_12991446</th><td>16</td><td>16.27702</td><td>48.2142351</td></tr>\n",
       "\t<tr><th scope=row>16_14618393</th><td>16</td><td>21.25103</td><td> 0.7592333</td></tr>\n",
       "</tbody>\n",
       "</table>\n"
      ],
      "text/latex": [
       "A scanone: 3 × 3\n",
       "\\begin{tabular}{r|lll}\n",
       "  & chr & pos & lod\\\\\n",
       "  & <fct> & <dbl> & <dbl>\\\\\n",
       "\\hline\n",
       "\t16\\_13270028 & 16 & 16.26602 & 48.1871558\\\\\n",
       "\t16\\_12991446 & 16 & 16.27702 & 48.2142351\\\\\n",
       "\t16\\_14618393 & 16 & 21.25103 &  0.7592333\\\\\n",
       "\\end{tabular}\n"
      ],
      "text/markdown": [
       "\n",
       "A scanone: 3 × 3\n",
       "\n",
       "| <!--/--> | chr &lt;fct&gt; | pos &lt;dbl&gt; | lod &lt;dbl&gt; |\n",
       "|---|---|---|---|\n",
       "| 16_13270028 | 16 | 16.26602 | 48.1871558 |\n",
       "| 16_12991446 | 16 | 16.27702 | 48.2142351 |\n",
       "| 16_14618393 | 16 | 21.25103 |  0.7592333 |\n",
       "\n"
      ],
      "text/plain": [
       "            chr pos      lod       \n",
       "16_13270028 16  16.26602 48.1871558\n",
       "16_12991446 16  16.27702 48.2142351\n",
       "16_14618393 16  21.25103  0.7592333"
      ]
     },
     "metadata": {},
     "output_type": "display_data"
    },
    {
     "data": {
      "text/html": [
       "<table>\n",
       "<caption>A scanone: 3 × 3</caption>\n",
       "<thead>\n",
       "\t<tr><th></th><th scope=col>chr</th><th scope=col>pos</th><th scope=col>lod</th></tr>\n",
       "\t<tr><th></th><th scope=col>&lt;fct&gt;</th><th scope=col>&lt;dbl&gt;</th><th scope=col>&lt;dbl&gt;</th></tr>\n",
       "</thead>\n",
       "<tbody>\n",
       "\t<tr><th scope=row>16_12759313</th><td>16</td><td>15.74502</td><td>45.2823902</td></tr>\n",
       "\t<tr><th scope=row>16_12991446</th><td>16</td><td>16.27702</td><td>48.2142351</td></tr>\n",
       "\t<tr><th scope=row>16_14618393</th><td>16</td><td>21.25103</td><td> 0.7592333</td></tr>\n",
       "</tbody>\n",
       "</table>\n"
      ],
      "text/latex": [
       "A scanone: 3 × 3\n",
       "\\begin{tabular}{r|lll}\n",
       "  & chr & pos & lod\\\\\n",
       "  & <fct> & <dbl> & <dbl>\\\\\n",
       "\\hline\n",
       "\t16\\_12759313 & 16 & 15.74502 & 45.2823902\\\\\n",
       "\t16\\_12991446 & 16 & 16.27702 & 48.2142351\\\\\n",
       "\t16\\_14618393 & 16 & 21.25103 &  0.7592333\\\\\n",
       "\\end{tabular}\n"
      ],
      "text/markdown": [
       "\n",
       "A scanone: 3 × 3\n",
       "\n",
       "| <!--/--> | chr &lt;fct&gt; | pos &lt;dbl&gt; | lod &lt;dbl&gt; |\n",
       "|---|---|---|---|\n",
       "| 16_12759313 | 16 | 15.74502 | 45.2823902 |\n",
       "| 16_12991446 | 16 | 16.27702 | 48.2142351 |\n",
       "| 16_14618393 | 16 | 21.25103 |  0.7592333 |\n",
       "\n"
      ],
      "text/plain": [
       "            chr pos      lod       \n",
       "16_12759313 16  15.74502 45.2823902\n",
       "16_12991446 16  16.27702 48.2142351\n",
       "16_14618393 16  21.25103  0.7592333"
      ]
     },
     "metadata": {},
     "output_type": "display_data"
    }
   ],
   "source": [
    "bayesint(TraitCIM, chr = chr, prob=0.95, expandtomarkers=TRUE) #calculate bayesian interval\n",
    "lodint(TraitCIM, chr = chr,expandtomarkers = TRUE ) #calculate LOD Support interval"
   ]
  },
  {
   "cell_type": "code",
   "execution_count": 9,
   "metadata": {},
   "outputs": [
    {
     "name": "stdin",
     "output_type": "stream",
     "text": [
      "Position for analysis:  16.27702\n"
     ]
    },
    {
     "name": "stderr",
     "output_type": "stream",
     "text": [
      "Warning message in getsex(cross):\n",
      "\"125 individuals with missing sex; assuming they're female\"\n",
      "Warning message in fitqtlengine(pheno = pheno, qtl = qtl, covar = covar, formula = formula, :\n",
      "\"Dropping 124 individuals with missing phenotypes.\n",
      "\"\n",
      "Warning message in getsex(cross):\n",
      "\"125 individuals with missing sex; assuming they're female\"\n"
     ]
    },
    {
     "data": {
      "text/plain": [
       "\n",
       "\t\tfitqtl summary\n",
       "\n",
       "Method: Haley-Knott regression \n",
       "Model:  normal phenotype\n",
       "Number of observations : 170 \n",
       "\n",
       "Full model result\n",
       "----------------------------------  \n",
       "Model formula: y ~ Q1 \n",
       "\n",
       "       df       SS          MS    LOD     %var Pvalue(Chi2) Pvalue(F)\n",
       "Model   1 30.38700 30.38700085 46.388 71.53843            0         0\n",
       "Error 168 12.08947  0.07196113                                       \n",
       "Total 169 42.47647                                                   \n",
       "\n",
       "\n",
       "Estimated effects:\n",
       "-----------------\n",
       "               est       SE      t\n",
       "Intercept  0.50542  0.02058  24.56\n",
       "16@16.3   -0.84766  0.04125 -20.55\n"
      ]
     },
     "metadata": {},
     "output_type": "display_data"
    }
   ],
   "source": [
    "p <- as.numeric(readline(\"Position for analysis: \"))\n",
    "qtl <- makeqtl(Map, chr = chr, pos = p, what=\"prob\") #pulls genotype probabilities\n",
    "fitqtl <- fitqtl(Map, pheno.col=colNum, qtl = qtl, covar=NULL,\n",
    "       method= \"hk\",model=\"normal\",\n",
    "       dropone=TRUE, get.ests=TRUE,run.checks=TRUE,\n",
    "       tol=1e-4, maxit=1000, forceXcovar=FALSE) #sees how well our data fits a given formula \n",
    "          # If you see \"error: object of type 'closure' is not subsettable\", remove \"formula,\" from the fitqtl argument list.\n",
    "summary(fitqtl) #Print results of the analysis"
   ]
  },
  {
   "cell_type": "code",
   "execution_count": 10,
   "metadata": {},
   "outputs": [
    {
     "name": "stdout",
     "output_type": "stream",
     "text": [
      "[1] \"Make sure to input names AS THEY APPEAR on the csv!!\"\n"
     ]
    },
    {
     "name": "stdin",
     "output_type": "stream",
     "text": [
      "Enter file name (Either FemaleMap.csv or MaleMap.csv):  MaleMap.csv\n",
      "First Genotype (homozygous) (For example ll):  nn\n",
      "Second Genotype (heterozygous) (for example lm):  np\n",
      "Column Number:  6\n"
     ]
    }
   ],
   "source": [
    "#Collecting enviroment variables\n",
    "print(\"Make sure to input names AS THEY APPEAR on the csv!!\") #Just a user warning\n",
    "fileName <- readline(\"Enter file name (Either FemaleMap.csv or MaleMap.csv): \") #Mapping table file\n",
    "genotypeName <- c(readline(\"First Genotype (homozygous) (For example ll): \"),\n",
    "                  readline(\"Second Genotype (heterozygous) (for example lm): \")) #For example \"nn\", \"np\"\n",
    "alleleName <- c(substr(genotypeName[2],1,1) ,substr(genotypeName[2],2,2))\n",
    "naNames <- c(\"NA\",\"--\") #For example \"NA\", \"--\"\n",
    "colNum <- as.numeric(readline(\"Column Number: \")) #Column for pheno of interest"
   ]
  },
  {
   "cell_type": "code",
   "execution_count": 11,
   "metadata": {},
   "outputs": [
    {
     "name": "stdout",
     "output_type": "stream",
     "text": [
      " --Read the following data:\n",
      "\t 294  individuals\n",
      "\t 1128  markers\n",
      "\t 38  phenotypes\n"
     ]
    },
    {
     "name": "stderr",
     "output_type": "stream",
     "text": [
      "Warning message in summary.cross(cross):\n",
      "\"Some markers at the same position on chr 1,3,4,5,6,7,8,9,10,12,13,14,15,16,17,18,19; use jittermap().\"\n"
     ]
    },
    {
     "name": "stdout",
     "output_type": "stream",
     "text": [
      " --Cross type: bc \n"
     ]
    },
    {
     "data": {
      "image/png": "[encoded data removed]",
      "text/plain": [
       "Plot with title \"Genetic map\""
      ]
     },
     "metadata": {
      "image/png": {
       "height": 420,
       "width": 420
      },
      "text/plain": {
       "height": 420,
       "width": 420
      }
     },
     "output_type": "display_data"
    }
   ],
   "source": [
    "#Map generation\n",
    "Map <- read.cross(format = 'csv',file = fileName \n",
    "                  ,genotypes = genotypeName,\n",
    "                  alleles = alleleName,na.strings = naNames) #generate linkage map\n",
    "Map <- jittermap(Map) #make sure no markers are in the same location\n",
    "Map <- calc.genoprob(Map,step = 1,map.function = \"kosambi\") #associate markers with full genotypes\n",
    "plot.map(Map) #draw linkage map"
   ]
  },
  {
   "cell_type": "code",
   "execution_count": 12,
   "metadata": {},
   "outputs": [
    {
     "data": {
      "image/png": "[encoded data removed]",
      "text/plain": [
       "Plot with title \"\""
      ]
     },
     "metadata": {
      "image/png": {
       "height": 420,
       "width": 420
      },
      "text/plain": {
       "height": 420,
       "width": 420
      }
     },
     "output_type": "display_data"
    }
   ],
   "source": [
    "plotNormalHistogram(Map$pheno[,colNum]) #normal histogram of pheno of interest"
   ]
  },
  {
   "cell_type": "markdown",
   "metadata": {},
   "source": [
    "Outliers exist in this data. "
   ]
  },
  {
   "cell_type": "code",
   "execution_count": 13,
   "metadata": {},
   "outputs": [
    {
     "data": {
      "text/plain": [
       "LOD thresholds (1000 permutations)\n",
       "   [,1]\n",
       "5% 4.23\n",
       "1% 5.22"
      ]
     },
     "metadata": {},
     "output_type": "display_data"
    },
    {
     "data": {
      "image/png": "[encoded data removed]",
      "text/plain": [
       "Plot with title \"\""
      ]
     },
     "metadata": {
      "image/png": {
       "height": 420,
       "width": 420
      },
      "text/plain": {
       "height": 420,
       "width": 420
      }
     },
     "output_type": "display_data"
    }
   ],
   "source": [
    "#Compute statistically significant values\n",
    "TraitCIM1000 <- cim(Map,pheno.col = colNum,method = \"hk\",\n",
    "                    map.function = \"kosambi\",n.perm = 1000) # Function will take a moment to run, determines LOD value\n",
    "plot(TraitCIM1000,col = 'green') #show distribution of lod scores\n",
    "summary(TraitCIM1000,alpha=c(.05,.01))"
   ]
  },
  {
   "cell_type": "code",
   "execution_count": 14,
   "metadata": {},
   "outputs": [
    {
     "name": "stdout",
     "output_type": "stream",
     "text": [
      "[1] \"If nothing shows up, the values \\n      are below the LOD5 score\"\n"
     ]
    },
    {
     "data": {
      "text/html": [
       "<table>\n",
       "<caption>A summary.scanone: 19 × 3</caption>\n",
       "<thead>\n",
       "\t<tr><th></th><th scope=col>chr</th><th scope=col>pos</th><th scope=col>lod</th></tr>\n",
       "\t<tr><th></th><th scope=col>&lt;fct&gt;</th><th scope=col>&lt;dbl&gt;</th><th scope=col>&lt;dbl&gt;</th></tr>\n",
       "</thead>\n",
       "<tbody>\n",
       "\t<tr><th scope=row>c1.loc15</th><td>1 </td><td>15.000000</td><td>1.3437223</td></tr>\n",
       "\t<tr><th scope=row>2_15052983</th><td>2 </td><td>62.264026</td><td>1.2342597</td></tr>\n",
       "\t<tr><th scope=row>3_1171786</th><td>3 </td><td> 4.364004</td><td>0.9152664</td></tr>\n",
       "\t<tr><th scope=row>c4.loc49</th><td>4 </td><td>49.000000</td><td>1.8506157</td></tr>\n",
       "\t<tr><th scope=row>c5.loc32</th><td>5 </td><td>32.000000</td><td>0.4296146</td></tr>\n",
       "\t<tr><th scope=row>c6.loc11</th><td>6 </td><td>11.000000</td><td>0.7313588</td></tr>\n",
       "\t<tr><th scope=row>7_18819915</th><td>7 </td><td>71.089063</td><td>0.9089475</td></tr>\n",
       "\t<tr><th scope=row>c8.loc39</th><td>8 </td><td>39.000000</td><td>0.5441801</td></tr>\n",
       "\t<tr><th scope=row>c9.loc61</th><td>9 </td><td>61.000000</td><td>0.9320157</td></tr>\n",
       "\t<tr><th scope=row>10_23152493</th><td>10</td><td>79.750031</td><td>1.2502466</td></tr>\n",
       "\t<tr><th scope=row>c11.loc62</th><td>11</td><td>62.000000</td><td>0.6711190</td></tr>\n",
       "\t<tr><th scope=row>c12.loc39</th><td>12</td><td>39.000000</td><td>1.1781884</td></tr>\n",
       "\t<tr><th scope=row>13_26762665</th><td>13</td><td>86.480068</td><td>2.1559953</td></tr>\n",
       "\t<tr><th scope=row>c14.loc25</th><td>14</td><td>25.000000</td><td>1.1063392</td></tr>\n",
       "\t<tr><th scope=row>c15.loc67</th><td>15</td><td>67.000000</td><td>0.7787779</td></tr>\n",
       "\t<tr><th scope=row>c16.loc91</th><td>16</td><td>91.000000</td><td>0.9782457</td></tr>\n",
       "\t<tr><th scope=row>c17.loc72</th><td>17</td><td>72.000000</td><td>0.3576439</td></tr>\n",
       "\t<tr><th scope=row>c18.loc59</th><td>18</td><td>59.000000</td><td>0.4435687</td></tr>\n",
       "\t<tr><th scope=row>19_6877038</th><td>19</td><td>35.712030</td><td>1.7475438</td></tr>\n",
       "</tbody>\n",
       "</table>\n"
      ],
      "text/latex": [
       "A summary.scanone: 19 × 3\n",
       "\\begin{tabular}{r|lll}\n",
       "  & chr & pos & lod\\\\\n",
       "  & <fct> & <dbl> & <dbl>\\\\\n",
       "\\hline\n",
       "\tc1.loc15 & 1  & 15.000000 & 1.3437223\\\\\n",
       "\t2\\_15052983 & 2  & 62.264026 & 1.2342597\\\\\n",
       "\t3\\_1171786 & 3  &  4.364004 & 0.9152664\\\\\n",
       "\tc4.loc49 & 4  & 49.000000 & 1.8506157\\\\\n",
       "\tc5.loc32 & 5  & 32.000000 & 0.4296146\\\\\n",
       "\tc6.loc11 & 6  & 11.000000 & 0.7313588\\\\\n",
       "\t7\\_18819915 & 7  & 71.089063 & 0.9089475\\\\\n",
       "\tc8.loc39 & 8  & 39.000000 & 0.5441801\\\\\n",
       "\tc9.loc61 & 9  & 61.000000 & 0.9320157\\\\\n",
       "\t10\\_23152493 & 10 & 79.750031 & 1.2502466\\\\\n",
       "\tc11.loc62 & 11 & 62.000000 & 0.6711190\\\\\n",
       "\tc12.loc39 & 12 & 39.000000 & 1.1781884\\\\\n",
       "\t13\\_26762665 & 13 & 86.480068 & 2.1559953\\\\\n",
       "\tc14.loc25 & 14 & 25.000000 & 1.1063392\\\\\n",
       "\tc15.loc67 & 15 & 67.000000 & 0.7787779\\\\\n",
       "\tc16.loc91 & 16 & 91.000000 & 0.9782457\\\\\n",
       "\tc17.loc72 & 17 & 72.000000 & 0.3576439\\\\\n",
       "\tc18.loc59 & 18 & 59.000000 & 0.4435687\\\\\n",
       "\t19\\_6877038 & 19 & 35.712030 & 1.7475438\\\\\n",
       "\\end{tabular}\n"
      ],
      "text/markdown": [
       "\n",
       "A summary.scanone: 19 × 3\n",
       "\n",
       "| <!--/--> | chr &lt;fct&gt; | pos &lt;dbl&gt; | lod &lt;dbl&gt; |\n",
       "|---|---|---|---|\n",
       "| c1.loc15 | 1  | 15.000000 | 1.3437223 |\n",
       "| 2_15052983 | 2  | 62.264026 | 1.2342597 |\n",
       "| 3_1171786 | 3  |  4.364004 | 0.9152664 |\n",
       "| c4.loc49 | 4  | 49.000000 | 1.8506157 |\n",
       "| c5.loc32 | 5  | 32.000000 | 0.4296146 |\n",
       "| c6.loc11 | 6  | 11.000000 | 0.7313588 |\n",
       "| 7_18819915 | 7  | 71.089063 | 0.9089475 |\n",
       "| c8.loc39 | 8  | 39.000000 | 0.5441801 |\n",
       "| c9.loc61 | 9  | 61.000000 | 0.9320157 |\n",
       "| 10_23152493 | 10 | 79.750031 | 1.2502466 |\n",
       "| c11.loc62 | 11 | 62.000000 | 0.6711190 |\n",
       "| c12.loc39 | 12 | 39.000000 | 1.1781884 |\n",
       "| 13_26762665 | 13 | 86.480068 | 2.1559953 |\n",
       "| c14.loc25 | 14 | 25.000000 | 1.1063392 |\n",
       "| c15.loc67 | 15 | 67.000000 | 0.7787779 |\n",
       "| c16.loc91 | 16 | 91.000000 | 0.9782457 |\n",
       "| c17.loc72 | 17 | 72.000000 | 0.3576439 |\n",
       "| c18.loc59 | 18 | 59.000000 | 0.4435687 |\n",
       "| 19_6877038 | 19 | 35.712030 | 1.7475438 |\n",
       "\n"
      ],
      "text/plain": [
       "            chr pos       lod      \n",
       "c1.loc15    1   15.000000 1.3437223\n",
       "2_15052983  2   62.264026 1.2342597\n",
       "3_1171786   3    4.364004 0.9152664\n",
       "c4.loc49    4   49.000000 1.8506157\n",
       "c5.loc32    5   32.000000 0.4296146\n",
       "c6.loc11    6   11.000000 0.7313588\n",
       "7_18819915  7   71.089063 0.9089475\n",
       "c8.loc39    8   39.000000 0.5441801\n",
       "c9.loc61    9   61.000000 0.9320157\n",
       "10_23152493 10  79.750031 1.2502466\n",
       "c11.loc62   11  62.000000 0.6711190\n",
       "c12.loc39   12  39.000000 1.1781884\n",
       "13_26762665 13  86.480068 2.1559953\n",
       "c14.loc25   14  25.000000 1.1063392\n",
       "c15.loc67   15  67.000000 0.7787779\n",
       "c16.loc91   16  91.000000 0.9782457\n",
       "c17.loc72   17  72.000000 0.3576439\n",
       "c18.loc59   18  59.000000 0.4435687\n",
       "19_6877038  19  35.712030 1.7475438"
      ]
     },
     "metadata": {},
     "output_type": "display_data"
    },
    {
     "data": {
      "image/png": "[encoded data removed]",
      "text/plain": [
       "plot without title"
      ]
     },
     "metadata": {
      "image/png": {
       "height": 420,
       "width": 420
      },
      "text/plain": {
       "height": 420,
       "width": 420
      }
     },
     "output_type": "display_data"
    }
   ],
   "source": [
    "#Deterime LOD Values\n",
    "TraitCIM<-cim(Map,pheno.col = colNum,method = \"hk\",\n",
    "              map.function = \"kosambi\") #Generate LOD Values\n",
    "plot(TraitCIM) #show LOD graph\n",
    "abline(h = LOD5,col = \"blue\") #overlay statistically significant line\n",
    "print(\"If nothing shows up, the values \n",
    "      are below the LOD5 score\") #warning for no peaks\n",
    "summary(TraitCIM)"
   ]
  },
  {
   "cell_type": "code",
   "execution_count": 15,
   "metadata": {},
   "outputs": [
    {
     "name": "stdin",
     "output_type": "stream",
     "text": [
      "Chromosome?  13\n"
     ]
    },
    {
     "data": {
      "image/png": "[encoded data removed]",
      "text/plain": [
       "plot without title"
      ]
     },
     "metadata": {
      "image/png": {
       "height": 420,
       "width": 420
      },
      "text/plain": {
       "height": 420,
       "width": 420
      }
     },
     "output_type": "display_data"
    }
   ],
   "source": [
    "#Chromosomal Analysis\n",
    "chr <- as.numeric(readline(\"Chromosome? \")) #collect chromosome to look at\n",
    "plot(TraitCIM, chr = chr,xlab = c(\"chr\",chr)) #Plot chr LOD scores\n",
    "abline(h = LOD5, col = \"blue\") #Statistically Significant"
   ]
  },
  {
   "cell_type": "code",
   "execution_count": 16,
   "metadata": {},
   "outputs": [
    {
     "data": {
      "text/html": [
       "<table>\n",
       "<caption>A scanone: 3 × 3</caption>\n",
       "<thead>\n",
       "\t<tr><th></th><th scope=col>chr</th><th scope=col>pos</th><th scope=col>lod</th></tr>\n",
       "\t<tr><th></th><th scope=col>&lt;fct&gt;</th><th scope=col>&lt;dbl&gt;</th><th scope=col>&lt;dbl&gt;</th></tr>\n",
       "</thead>\n",
       "<tbody>\n",
       "\t<tr><th scope=row>13_492011</th><td>13</td><td> 0.00000</td><td>0.04482041</td></tr>\n",
       "\t<tr><th scope=row>13_26762665</th><td>13</td><td>86.48007</td><td>2.15599532</td></tr>\n",
       "\t<tr><th scope=row>13_29035074</th><td>13</td><td>91.18007</td><td>1.01612950</td></tr>\n",
       "</tbody>\n",
       "</table>\n"
      ],
      "text/latex": [
       "A scanone: 3 × 3\n",
       "\\begin{tabular}{r|lll}\n",
       "  & chr & pos & lod\\\\\n",
       "  & <fct> & <dbl> & <dbl>\\\\\n",
       "\\hline\n",
       "\t13\\_492011 & 13 &  0.00000 & 0.04482041\\\\\n",
       "\t13\\_26762665 & 13 & 86.48007 & 2.15599532\\\\\n",
       "\t13\\_29035074 & 13 & 91.18007 & 1.01612950\\\\\n",
       "\\end{tabular}\n"
      ],
      "text/markdown": [
       "\n",
       "A scanone: 3 × 3\n",
       "\n",
       "| <!--/--> | chr &lt;fct&gt; | pos &lt;dbl&gt; | lod &lt;dbl&gt; |\n",
       "|---|---|---|---|\n",
       "| 13_492011 | 13 |  0.00000 | 0.04482041 |\n",
       "| 13_26762665 | 13 | 86.48007 | 2.15599532 |\n",
       "| 13_29035074 | 13 | 91.18007 | 1.01612950 |\n",
       "\n"
      ],
      "text/plain": [
       "            chr pos      lod       \n",
       "13_492011   13   0.00000 0.04482041\n",
       "13_26762665 13  86.48007 2.15599532\n",
       "13_29035074 13  91.18007 1.01612950"
      ]
     },
     "metadata": {},
     "output_type": "display_data"
    },
    {
     "data": {
      "text/html": [
       "<table>\n",
       "<caption>A scanone: 3 × 3</caption>\n",
       "<thead>\n",
       "\t<tr><th></th><th scope=col>chr</th><th scope=col>pos</th><th scope=col>lod</th></tr>\n",
       "\t<tr><th></th><th scope=col>&lt;fct&gt;</th><th scope=col>&lt;dbl&gt;</th><th scope=col>&lt;dbl&gt;</th></tr>\n",
       "</thead>\n",
       "<tbody>\n",
       "\t<tr><th scope=row>13_26071613</th><td>13</td><td>81.92706</td><td>0.417674</td></tr>\n",
       "\t<tr><th scope=row>13_26762665</th><td>13</td><td>86.48007</td><td>2.155995</td></tr>\n",
       "\t<tr><th scope=row>13_29035074</th><td>13</td><td>91.18007</td><td>1.016130</td></tr>\n",
       "</tbody>\n",
       "</table>\n"
      ],
      "text/latex": [
       "A scanone: 3 × 3\n",
       "\\begin{tabular}{r|lll}\n",
       "  & chr & pos & lod\\\\\n",
       "  & <fct> & <dbl> & <dbl>\\\\\n",
       "\\hline\n",
       "\t13\\_26071613 & 13 & 81.92706 & 0.417674\\\\\n",
       "\t13\\_26762665 & 13 & 86.48007 & 2.155995\\\\\n",
       "\t13\\_29035074 & 13 & 91.18007 & 1.016130\\\\\n",
       "\\end{tabular}\n"
      ],
      "text/markdown": [
       "\n",
       "A scanone: 3 × 3\n",
       "\n",
       "| <!--/--> | chr &lt;fct&gt; | pos &lt;dbl&gt; | lod &lt;dbl&gt; |\n",
       "|---|---|---|---|\n",
       "| 13_26071613 | 13 | 81.92706 | 0.417674 |\n",
       "| 13_26762665 | 13 | 86.48007 | 2.155995 |\n",
       "| 13_29035074 | 13 | 91.18007 | 1.016130 |\n",
       "\n"
      ],
      "text/plain": [
       "            chr pos      lod     \n",
       "13_26071613 13  81.92706 0.417674\n",
       "13_26762665 13  86.48007 2.155995\n",
       "13_29035074 13  91.18007 1.016130"
      ]
     },
     "metadata": {},
     "output_type": "display_data"
    }
   ],
   "source": [
    "bayesint(TraitCIM, chr = chr, prob=0.95, expandtomarkers=TRUE) #calculate bayesian interval\n",
    "lodint(TraitCIM, chr = chr,expandtomarkers = TRUE ) #calculate LOD Support interval"
   ]
  },
  {
   "cell_type": "code",
   "execution_count": 17,
   "metadata": {},
   "outputs": [
    {
     "name": "stdin",
     "output_type": "stream",
     "text": [
      "Position for analysis:  86.48007\n"
     ]
    },
    {
     "name": "stderr",
     "output_type": "stream",
     "text": [
      "Warning message in getsex(cross):\n",
      "\"125 individuals with missing sex; assuming they're female\"\n",
      "Warning message in fitqtlengine(pheno = pheno, qtl = qtl, covar = covar, formula = formula, :\n",
      "\"Dropping 124 individuals with missing phenotypes.\n",
      "\"\n",
      "Warning message in getsex(cross):\n",
      "\"125 individuals with missing sex; assuming they're female\"\n"
     ]
    },
    {
     "data": {
      "text/plain": [
       "\n",
       "\t\tfitqtl summary\n",
       "\n",
       "Method: Haley-Knott regression \n",
       "Model:  normal phenotype\n",
       "Number of observations : 170 \n",
       "\n",
       "Full model result\n",
       "----------------------------------  \n",
       "Model formula: y ~ Q1 \n",
       "\n",
       "       df        SS        MS      LOD     %var Pvalue(Chi2)   Pvalue(F)\n",
       "Model   1  1.945869 1.9458688 1.731057 4.581051  0.004751141 0.005068864\n",
       "Error 168 40.530602 0.2412536                                           \n",
       "Total 169 42.476471                                                     \n",
       "\n",
       "\n",
       "Estimated effects:\n",
       "-----------------\n",
       "              est      SE     t\n",
       "Intercept 0.52999 0.03821 13.87\n",
       "13@86.5   0.22308 0.07855  2.84\n"
      ]
     },
     "metadata": {},
     "output_type": "display_data"
    }
   ],
   "source": [
    "p <- as.numeric(readline(\"Position for analysis: \"))\n",
    "qtl <- makeqtl(Map, chr = chr, pos = p, what=\"prob\") #pulls genotype probabilities\n",
    "fitqtl <- fitqtl(Map, pheno.col=colNum, qtl = qtl, covar=NULL,\n",
    "       method= \"hk\",model=\"normal\",\n",
    "       dropone=TRUE, get.ests=TRUE,run.checks=TRUE,\n",
    "       tol=1e-4, maxit=1000, forceXcovar=FALSE) #sees how well our data fits a given formula \n",
    "          # If you see \"error: object of type 'closure' is not subsettable\", remove \"formula,\" from the fitqtl argument list.\n",
    "summary(fitqtl) #Print results of the analysis"
   ]
  },
  {
   "cell_type": "code",
   "execution_count": null,
   "metadata": {},
   "outputs": [],
   "source": []
  }
 ],
 "metadata": {
  "kernelspec": {
   "display_name": "R",
   "language": "R",
   "name": "ir"
  },
  "language_info": {
   "codemirror_mode": "r",
   "file_extension": ".r",
   "mimetype": "text/x-r-source",
   "name": "R",
   "pygments_lexer": "r",
   "version": "3.6.3"
  }
 },
 "nbformat": 4,
 "nbformat_minor": 4
}
