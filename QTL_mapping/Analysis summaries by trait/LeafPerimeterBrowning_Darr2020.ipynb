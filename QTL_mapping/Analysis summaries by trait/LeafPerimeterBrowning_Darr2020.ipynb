{
 "cells": [
  {
   "cell_type": "markdown",
   "metadata": {},
   "source": [
    "This analysis is in the order of Female then Male"
   ]
  },
  {
   "cell_type": "code",
   "execution_count": 1,
   "metadata": {},
   "outputs": [
    {
     "name": "stderr",
     "output_type": "stream",
     "text": [
      "Installing package into 'C:/Users/Courtney/Documents/R/win-library/3.6'\n",
      "(as 'lib' is unspecified)\n",
      "\n"
     ]
    },
    {
     "name": "stdout",
     "output_type": "stream",
     "text": [
      "package 'qtl' successfully unpacked and MD5 sums checked\n",
      "\n",
      "The downloaded binary packages are in\n",
      "\tC:\\Users\\Courtney\\AppData\\Local\\Temp\\RtmpiUu1pP\\downloaded_packages\n"
     ]
    },
    {
     "name": "stderr",
     "output_type": "stream",
     "text": [
      "Installing package into 'C:/Users/Courtney/Documents/R/win-library/3.6'\n",
      "(as 'lib' is unspecified)\n",
      "\n"
     ]
    },
    {
     "name": "stdout",
     "output_type": "stream",
     "text": [
      "package 'qtlcharts' successfully unpacked and MD5 sums checked\n",
      "\n",
      "The downloaded binary packages are in\n",
      "\tC:\\Users\\Courtney\\AppData\\Local\\Temp\\RtmpiUu1pP\\downloaded_packages\n"
     ]
    },
    {
     "name": "stderr",
     "output_type": "stream",
     "text": [
      "Installing package into 'C:/Users/Courtney/Documents/R/win-library/3.6'\n",
      "(as 'lib' is unspecified)\n",
      "\n"
     ]
    },
    {
     "name": "stdout",
     "output_type": "stream",
     "text": [
      "package 'LinkageMapView' successfully unpacked and MD5 sums checked\n",
      "\n",
      "The downloaded binary packages are in\n",
      "\tC:\\Users\\Courtney\\AppData\\Local\\Temp\\RtmpiUu1pP\\downloaded_packages\n"
     ]
    },
    {
     "name": "stderr",
     "output_type": "stream",
     "text": [
      "Installing package into 'C:/Users/Courtney/Documents/R/win-library/3.6'\n",
      "(as 'lib' is unspecified)\n",
      "\n"
     ]
    },
    {
     "name": "stdout",
     "output_type": "stream",
     "text": [
      "\n",
      "  There is a binary version available but the source version is later:\n",
      "           binary source needs_compilation\n",
      "rcompanion  2.4.0  2.4.1             FALSE\n",
      "\n"
     ]
    },
    {
     "name": "stderr",
     "output_type": "stream",
     "text": [
      "installing the source package 'rcompanion'\n",
      "\n",
      "\n"
     ]
    }
   ],
   "source": [
    "install.packages('qtl') #Main package, for analysis\n",
    "install.packages('qtlcharts') #accessory, for displaying graphs\n",
    "install.packages('LinkageMapView') #accessory, for displaying linkage maps\n",
    "install.packages('rcompanion')# for plotNormalHistogram"
   ]
  },
  {
   "cell_type": "code",
   "execution_count": 1,
   "metadata": {},
   "outputs": [],
   "source": [
    "library(qtl) #load packages\n",
    "library(qtlcharts)\n",
    "library(LinkageMapView)\n",
    "library(rcompanion)"
   ]
  },
  {
   "cell_type": "code",
   "execution_count": 2,
   "metadata": {},
   "outputs": [
    {
     "name": "stdout",
     "output_type": "stream",
     "text": [
      "[1] \"Make sure to input names AS THEY APPEAR on the csv!!\"\n"
     ]
    },
    {
     "name": "stdin",
     "output_type": "stream",
     "text": [
      "Enter file name (Either FemaleMap.csv or MaleMap.csv):  FemaleMap_Field2020.csv\n",
      "First Genotype (homozygous) (For example ll):  ll\n",
      "Second Genotype (heterozygous) (for example lm):  lm\n",
      "Column Number:  49\n"
     ]
    }
   ],
   "source": [
    "#Collecting enviroment variables\n",
    "print(\"Make sure to input names AS THEY APPEAR on the csv!!\") #Just a user warning\n",
    "fileName <- readline(\"Enter file name (Either FemaleMap.csv or MaleMap.csv): \") #Mapping table file\n",
    "genotypeName <- c(readline(\"First Genotype (homozygous) (For example ll): \"),\n",
    "                  readline(\"Second Genotype (heterozygous) (for example lm): \")) #For example \"nn\", \"np\"\n",
    "alleleName <- c(substr(genotypeName[2],1,1) ,substr(genotypeName[2],2,2))\n",
    "naNames <- c(\"NA\",\"--\") #For example \"NA\", \"--\"\n",
    "colNum <- as.numeric(readline(\"Column Number: \")) #Column for pheno of interest"
   ]
  },
  {
   "cell_type": "code",
   "execution_count": 3,
   "metadata": {},
   "outputs": [
    {
     "name": "stderr",
     "output_type": "stream",
     "text": [
      "Warning message in FUN(X[[i]], ...):\n",
      "\"The phenotype value \" \"  was interpreted as missing.\"\n"
     ]
    },
    {
     "name": "stdout",
     "output_type": "stream",
     "text": [
      " --Read the following data:\n",
      "\t 296  individuals\n",
      "\t 1100  markers\n",
      "\t 62  phenotypes\n"
     ]
    },
    {
     "name": "stderr",
     "output_type": "stream",
     "text": [
      "Warning message in summary.cross(cross):\n",
      "\"Some markers at the same position on chr 1,2,4,5,7,8,9,10,11,12,13,14,16,17,18,19; use jittermap().\"\n"
     ]
    },
    {
     "name": "stdout",
     "output_type": "stream",
     "text": [
      " --Cross type: bc \n"
     ]
    },
    {
     "data": {
      "image/png": "[encoded data removed]",
      "text/plain": [
       "Plot with title \"Genetic map\""
      ]
     },
     "metadata": {
      "image/png": {
       "height": 420,
       "width": 420
      },
      "text/plain": {
       "height": 420,
       "width": 420
      }
     },
     "output_type": "display_data"
    }
   ],
   "source": [
    "#Map generation\n",
    "Map <- read.cross(format = 'csv',file = fileName \n",
    "                  ,genotypes = genotypeName,\n",
    "                  alleles = alleleName,na.strings = naNames) #generate linkage map\n",
    "Map <- jittermap(Map) #make sure no markers are in the same location\n",
    "Map <- calc.genoprob(Map,step = 1,map.function = \"kosambi\") #associate markers with full genotypes\n",
    "plot.map(Map) #draw linkage map"
   ]
  },
  {
   "cell_type": "code",
   "execution_count": 4,
   "metadata": {},
   "outputs": [
    {
     "data": {
      "image/png": "[encoded data removed]",
      "text/plain": [
       "Plot with title \"\""
      ]
     },
     "metadata": {
      "image/png": {
       "height": 420,
       "width": 420
      },
      "text/plain": {
       "height": 420,
       "width": 420
      }
     },
     "output_type": "display_data"
    }
   ],
   "source": [
    "plotNormalHistogram(Map$pheno[,colNum]) #normal histogram of pheno of interest"
   ]
  },
  {
   "cell_type": "markdown",
   "metadata": {},
   "source": [
    "Outliers exist in this dataset. Will need to be analyized. "
   ]
  },
  {
   "cell_type": "code",
   "execution_count": 5,
   "metadata": {},
   "outputs": [
    {
     "data": {
      "text/plain": [
       "LOD thresholds (1000 permutations)\n",
       "   [,1]\n",
       "5% 3.99\n",
       "1% 4.72"
      ]
     },
     "metadata": {},
     "output_type": "display_data"
    },
    {
     "data": {
      "image/png": "[encoded data removed]",
      "text/plain": [
       "Plot with title \"\""
      ]
     },
     "metadata": {
      "image/png": {
       "height": 420,
       "width": 420
      },
      "text/plain": {
       "height": 420,
       "width": 420
      }
     },
     "output_type": "display_data"
    }
   ],
   "source": [
    "#Compute statistically significant values\n",
    "TraitCIM1000 <- cim(Map,pheno.col = colNum,method = \"hk\",\n",
    "                    map.function = \"kosambi\",n.perm = 1000) # Function will take a moment to run, determines LOD value\n",
    "plot(TraitCIM1000,col = 'green') #show distribution of lod scores\n",
    "summary(TraitCIM1000,alpha=c(.05,.01))"
   ]
  },
  {
   "cell_type": "code",
   "execution_count": 6,
   "metadata": {},
   "outputs": [
    {
     "name": "stdout",
     "output_type": "stream",
     "text": [
      "[1] \"If nothing shows up, the values \\n      are below the LOD5 score\"\n"
     ]
    },
    {
     "data": {
      "text/html": [
       "<table>\n",
       "<caption>A summary.scanone: 19 × 3</caption>\n",
       "<thead>\n",
       "\t<tr><th></th><th scope=col>chr</th><th scope=col>pos</th><th scope=col>lod</th></tr>\n",
       "\t<tr><th></th><th scope=col>&lt;fct&gt;</th><th scope=col>&lt;dbl&gt;</th><th scope=col>&lt;dbl&gt;</th></tr>\n",
       "</thead>\n",
       "<tbody>\n",
       "\t<tr><th scope=row>1_20356240</th><td>1 </td><td> 63.787040</td><td> 0.8760392</td></tr>\n",
       "\t<tr><th scope=row>c2.loc33</th><td>2 </td><td> 33.000000</td><td> 0.4886565</td></tr>\n",
       "\t<tr><th scope=row>3_2108695</th><td>3 </td><td>  7.229009</td><td> 1.6367432</td></tr>\n",
       "\t<tr><th scope=row>4_1048504</th><td>4 </td><td>  4.690002</td><td> 1.5545872</td></tr>\n",
       "\t<tr><th scope=row>5_21614858</th><td>5 </td><td> 71.277060</td><td> 0.6268988</td></tr>\n",
       "\t<tr><th scope=row>c6.loc9</th><td>6 </td><td>  9.000000</td><td> 0.9213626</td></tr>\n",
       "\t<tr><th scope=row>7_22619808</th><td>7 </td><td> 71.965085</td><td> 1.2322470</td></tr>\n",
       "\t<tr><th scope=row>8_19192553</th><td>8 </td><td> 67.910047</td><td> 0.8198873</td></tr>\n",
       "\t<tr><th scope=row>c9.loc59</th><td>9 </td><td> 59.000000</td><td> 0.8733135</td></tr>\n",
       "\t<tr><th scope=row>10_23225064</th><td>10</td><td> 56.106067</td><td> 0.4603956</td></tr>\n",
       "\t<tr><th scope=row>11_1163932</th><td>11</td><td>  0.000000</td><td> 1.9749205</td></tr>\n",
       "\t<tr><th scope=row>12_12560779</th><td>12</td><td> 68.179046</td><td> 1.0833773</td></tr>\n",
       "\t<tr><th scope=row>c13.loc5</th><td>13</td><td>  5.000000</td><td> 1.4019650</td></tr>\n",
       "\t<tr><th scope=row>c14.loc51</th><td>14</td><td> 51.000000</td><td> 1.2032891</td></tr>\n",
       "\t<tr><th scope=row>c15.loc7</th><td>15</td><td>  7.000000</td><td> 1.5760151</td></tr>\n",
       "\t<tr><th scope=row>16_13270028</th><td>16</td><td> 16.266023</td><td>11.6189511</td></tr>\n",
       "\t<tr><th scope=row>c17.loc26</th><td>17</td><td> 26.000000</td><td> 0.6457107</td></tr>\n",
       "\t<tr><th scope=row>c18.loc103</th><td>18</td><td>103.000000</td><td> 1.3267478</td></tr>\n",
       "\t<tr><th scope=row>19_7785608</th><td>19</td><td> 40.647052</td><td> 1.0303960</td></tr>\n",
       "</tbody>\n",
       "</table>\n"
      ],
      "text/latex": [
       "A summary.scanone: 19 × 3\n",
       "\\begin{tabular}{r|lll}\n",
       "  & chr & pos & lod\\\\\n",
       "  & <fct> & <dbl> & <dbl>\\\\\n",
       "\\hline\n",
       "\t1\\_20356240 & 1  &  63.787040 &  0.8760392\\\\\n",
       "\tc2.loc33 & 2  &  33.000000 &  0.4886565\\\\\n",
       "\t3\\_2108695 & 3  &   7.229009 &  1.6367432\\\\\n",
       "\t4\\_1048504 & 4  &   4.690002 &  1.5545872\\\\\n",
       "\t5\\_21614858 & 5  &  71.277060 &  0.6268988\\\\\n",
       "\tc6.loc9 & 6  &   9.000000 &  0.9213626\\\\\n",
       "\t7\\_22619808 & 7  &  71.965085 &  1.2322470\\\\\n",
       "\t8\\_19192553 & 8  &  67.910047 &  0.8198873\\\\\n",
       "\tc9.loc59 & 9  &  59.000000 &  0.8733135\\\\\n",
       "\t10\\_23225064 & 10 &  56.106067 &  0.4603956\\\\\n",
       "\t11\\_1163932 & 11 &   0.000000 &  1.9749205\\\\\n",
       "\t12\\_12560779 & 12 &  68.179046 &  1.0833773\\\\\n",
       "\tc13.loc5 & 13 &   5.000000 &  1.4019650\\\\\n",
       "\tc14.loc51 & 14 &  51.000000 &  1.2032891\\\\\n",
       "\tc15.loc7 & 15 &   7.000000 &  1.5760151\\\\\n",
       "\t16\\_13270028 & 16 &  16.266023 & 11.6189511\\\\\n",
       "\tc17.loc26 & 17 &  26.000000 &  0.6457107\\\\\n",
       "\tc18.loc103 & 18 & 103.000000 &  1.3267478\\\\\n",
       "\t19\\_7785608 & 19 &  40.647052 &  1.0303960\\\\\n",
       "\\end{tabular}\n"
      ],
      "text/markdown": [
       "\n",
       "A summary.scanone: 19 × 3\n",
       "\n",
       "| <!--/--> | chr &lt;fct&gt; | pos &lt;dbl&gt; | lod &lt;dbl&gt; |\n",
       "|---|---|---|---|\n",
       "| 1_20356240 | 1  |  63.787040 |  0.8760392 |\n",
       "| c2.loc33 | 2  |  33.000000 |  0.4886565 |\n",
       "| 3_2108695 | 3  |   7.229009 |  1.6367432 |\n",
       "| 4_1048504 | 4  |   4.690002 |  1.5545872 |\n",
       "| 5_21614858 | 5  |  71.277060 |  0.6268988 |\n",
       "| c6.loc9 | 6  |   9.000000 |  0.9213626 |\n",
       "| 7_22619808 | 7  |  71.965085 |  1.2322470 |\n",
       "| 8_19192553 | 8  |  67.910047 |  0.8198873 |\n",
       "| c9.loc59 | 9  |  59.000000 |  0.8733135 |\n",
       "| 10_23225064 | 10 |  56.106067 |  0.4603956 |\n",
       "| 11_1163932 | 11 |   0.000000 |  1.9749205 |\n",
       "| 12_12560779 | 12 |  68.179046 |  1.0833773 |\n",
       "| c13.loc5 | 13 |   5.000000 |  1.4019650 |\n",
       "| c14.loc51 | 14 |  51.000000 |  1.2032891 |\n",
       "| c15.loc7 | 15 |   7.000000 |  1.5760151 |\n",
       "| 16_13270028 | 16 |  16.266023 | 11.6189511 |\n",
       "| c17.loc26 | 17 |  26.000000 |  0.6457107 |\n",
       "| c18.loc103 | 18 | 103.000000 |  1.3267478 |\n",
       "| 19_7785608 | 19 |  40.647052 |  1.0303960 |\n",
       "\n"
      ],
      "text/plain": [
       "            chr pos        lod       \n",
       "1_20356240  1    63.787040  0.8760392\n",
       "c2.loc33    2    33.000000  0.4886565\n",
       "3_2108695   3     7.229009  1.6367432\n",
       "4_1048504   4     4.690002  1.5545872\n",
       "5_21614858  5    71.277060  0.6268988\n",
       "c6.loc9     6     9.000000  0.9213626\n",
       "7_22619808  7    71.965085  1.2322470\n",
       "8_19192553  8    67.910047  0.8198873\n",
       "c9.loc59    9    59.000000  0.8733135\n",
       "10_23225064 10   56.106067  0.4603956\n",
       "11_1163932  11    0.000000  1.9749205\n",
       "12_12560779 12   68.179046  1.0833773\n",
       "c13.loc5    13    5.000000  1.4019650\n",
       "c14.loc51   14   51.000000  1.2032891\n",
       "c15.loc7    15    7.000000  1.5760151\n",
       "16_13270028 16   16.266023 11.6189511\n",
       "c17.loc26   17   26.000000  0.6457107\n",
       "c18.loc103  18  103.000000  1.3267478\n",
       "19_7785608  19   40.647052  1.0303960"
      ]
     },
     "metadata": {},
     "output_type": "display_data"
    },
    {
     "data": {
      "image/png": "[encoded data removed]",
      "text/plain": [
       "plot without title"
      ]
     },
     "metadata": {
      "image/png": {
       "height": 420,
       "width": 420
      },
      "text/plain": {
       "height": 420,
       "width": 420
      }
     },
     "output_type": "display_data"
    }
   ],
   "source": [
    "#Deterime LOD Values\n",
    "LOD5 <- summary(TraitCIM1000,alpha=c(.05))\n",
    "TraitCIM<-cim(Map,pheno.col = colNum,method = \"hk\",\n",
    "              map.function = \"kosambi\") #Generate LOD Values\n",
    "plot(TraitCIM) #show LOD graph\n",
    "abline(h = LOD5,col = \"blue\") #overlay statistically significant line\n",
    "print(\"If nothing shows up, the values \n",
    "      are below the LOD5 score\") #warning for no peaks\n",
    "summary(TraitCIM)\n",
    "write.csv(TraitCIM,\"LeafPerimeterBrowning_Darr2020_table.csv\")"
   ]
  },
  {
   "cell_type": "code",
   "execution_count": 7,
   "metadata": {},
   "outputs": [
    {
     "name": "stdin",
     "output_type": "stream",
     "text": [
      "Chromosome?  16\n"
     ]
    },
    {
     "data": {
      "image/png": "[encoded data removed]",
      "text/plain": [
       "plot without title"
      ]
     },
     "metadata": {
      "image/png": {
       "height": 420,
       "width": 420
      },
      "text/plain": {
       "height": 420,
       "width": 420
      }
     },
     "output_type": "display_data"
    }
   ],
   "source": [
    "#Chromosomal Analysis\n",
    "chr <- as.numeric(readline(\"Chromosome? \")) #collect chromosome to look at\n",
    "plot(TraitCIM, chr = chr,xlab = c(\"chr\",chr)) #Plot chr LOD scores\n",
    "abline(h = LOD5, col = \"blue\") #Statistically Significant"
   ]
  },
  {
   "cell_type": "code",
   "execution_count": 8,
   "metadata": {},
   "outputs": [
    {
     "data": {
      "text/html": [
       "<table>\n",
       "<caption>A scanone: 3 × 3</caption>\n",
       "<thead>\n",
       "\t<tr><th></th><th scope=col>chr</th><th scope=col>pos</th><th scope=col>lod</th></tr>\n",
       "\t<tr><th></th><th scope=col>&lt;fct&gt;</th><th scope=col>&lt;dbl&gt;</th><th scope=col>&lt;dbl&gt;</th></tr>\n",
       "</thead>\n",
       "<tbody>\n",
       "\t<tr><th scope=row>16_7987237</th><td>16</td><td>14.75502</td><td> 9.468190</td></tr>\n",
       "\t<tr><th scope=row>16_13270028</th><td>16</td><td>16.26602</td><td>11.618951</td></tr>\n",
       "\t<tr><th scope=row>16_14618393</th><td>16</td><td>21.25103</td><td> 7.985831</td></tr>\n",
       "</tbody>\n",
       "</table>\n"
      ],
      "text/latex": [
       "A scanone: 3 × 3\n",
       "\\begin{tabular}{r|lll}\n",
       "  & chr & pos & lod\\\\\n",
       "  & <fct> & <dbl> & <dbl>\\\\\n",
       "\\hline\n",
       "\t16\\_7987237 & 16 & 14.75502 &  9.468190\\\\\n",
       "\t16\\_13270028 & 16 & 16.26602 & 11.618951\\\\\n",
       "\t16\\_14618393 & 16 & 21.25103 &  7.985831\\\\\n",
       "\\end{tabular}\n"
      ],
      "text/markdown": [
       "\n",
       "A scanone: 3 × 3\n",
       "\n",
       "| <!--/--> | chr &lt;fct&gt; | pos &lt;dbl&gt; | lod &lt;dbl&gt; |\n",
       "|---|---|---|---|\n",
       "| 16_7987237 | 16 | 14.75502 |  9.468190 |\n",
       "| 16_13270028 | 16 | 16.26602 | 11.618951 |\n",
       "| 16_14618393 | 16 | 21.25103 |  7.985831 |\n",
       "\n"
      ],
      "text/plain": [
       "            chr pos      lod      \n",
       "16_7987237  16  14.75502  9.468190\n",
       "16_13270028 16  16.26602 11.618951\n",
       "16_14618393 16  21.25103  7.985831"
      ]
     },
     "metadata": {},
     "output_type": "display_data"
    },
    {
     "data": {
      "text/html": [
       "<table>\n",
       "<caption>A scanone: 3 × 3</caption>\n",
       "<thead>\n",
       "\t<tr><th></th><th scope=col>chr</th><th scope=col>pos</th><th scope=col>lod</th></tr>\n",
       "\t<tr><th></th><th scope=col>&lt;fct&gt;</th><th scope=col>&lt;dbl&gt;</th><th scope=col>&lt;dbl&gt;</th></tr>\n",
       "</thead>\n",
       "<tbody>\n",
       "\t<tr><th scope=row>16_8286852</th><td>16</td><td>15.05602</td><td> 9.735760</td></tr>\n",
       "\t<tr><th scope=row>16_13270028</th><td>16</td><td>16.26602</td><td>11.618951</td></tr>\n",
       "\t<tr><th scope=row>16_14618393</th><td>16</td><td>21.25103</td><td> 7.985831</td></tr>\n",
       "</tbody>\n",
       "</table>\n"
      ],
      "text/latex": [
       "A scanone: 3 × 3\n",
       "\\begin{tabular}{r|lll}\n",
       "  & chr & pos & lod\\\\\n",
       "  & <fct> & <dbl> & <dbl>\\\\\n",
       "\\hline\n",
       "\t16\\_8286852 & 16 & 15.05602 &  9.735760\\\\\n",
       "\t16\\_13270028 & 16 & 16.26602 & 11.618951\\\\\n",
       "\t16\\_14618393 & 16 & 21.25103 &  7.985831\\\\\n",
       "\\end{tabular}\n"
      ],
      "text/markdown": [
       "\n",
       "A scanone: 3 × 3\n",
       "\n",
       "| <!--/--> | chr &lt;fct&gt; | pos &lt;dbl&gt; | lod &lt;dbl&gt; |\n",
       "|---|---|---|---|\n",
       "| 16_8286852 | 16 | 15.05602 |  9.735760 |\n",
       "| 16_13270028 | 16 | 16.26602 | 11.618951 |\n",
       "| 16_14618393 | 16 | 21.25103 |  7.985831 |\n",
       "\n"
      ],
      "text/plain": [
       "            chr pos      lod      \n",
       "16_8286852  16  15.05602  9.735760\n",
       "16_13270028 16  16.26602 11.618951\n",
       "16_14618393 16  21.25103  7.985831"
      ]
     },
     "metadata": {},
     "output_type": "display_data"
    }
   ],
   "source": [
    "bayesint(TraitCIM, chr = chr, prob=0.95, expandtomarkers=TRUE) #calculate bayesian interval\n",
    "lodint(TraitCIM, chr = chr,expandtomarkers = TRUE ) #calculate LOD Support interval"
   ]
  },
  {
   "cell_type": "code",
   "execution_count": 9,
   "metadata": {},
   "outputs": [
    {
     "name": "stdin",
     "output_type": "stream",
     "text": [
      "Position for analysis:  16.26602\n"
     ]
    },
    {
     "name": "stderr",
     "output_type": "stream",
     "text": [
      "Warning message in getsex(cross):\n",
      "\"127 individuals with missing sex; assuming they're female\"\n",
      "Warning message in fitqtlengine(pheno = pheno, qtl = qtl, covar = covar, formula = formula, :\n",
      "\"Dropping 82 individuals with missing phenotypes.\n",
      "\"\n",
      "Warning message in getsex(cross):\n",
      "\"127 individuals with missing sex; assuming they're female\"\n"
     ]
    },
    {
     "data": {
      "text/plain": [
       "\n",
       "\t\tfitqtl summary\n",
       "\n",
       "Method: Haley-Knott regression \n",
       "Model:  normal phenotype\n",
       "Number of observations : 214 \n",
       "\n",
       "Full model result\n",
       "----------------------------------  \n",
       "Model formula: y ~ Q1 \n",
       "\n",
       "       df       SS         MS      LOD     %var Pvalue(Chi2)    Pvalue(F)\n",
       "Model   1 11.60905 11.6090504 11.93893 22.65697 1.216804e-13 1.685319e-13\n",
       "Error 212 39.62927  0.1869305                                            \n",
       "Total 213 51.23832                                                       \n",
       "\n",
       "\n",
       "Estimated effects:\n",
       "-----------------\n",
       "               est       SE      t\n",
       "Intercept  0.41027  0.02960 13.860\n",
       "16@16.3   -0.46659  0.05921 -7.881\n"
      ]
     },
     "metadata": {},
     "output_type": "display_data"
    }
   ],
   "source": [
    "p <- as.numeric(readline(\"Position for analysis: \"))\n",
    "qtl <- makeqtl(Map, chr = chr, pos = p, what=\"prob\") #pulls genotype probabilities\n",
    "fitqtl <- fitqtl(Map, pheno.col=colNum, qtl = qtl, covar=NULL,\n",
    "       method= \"hk\",model=\"normal\",\n",
    "       dropone=TRUE, get.ests=TRUE,run.checks=TRUE,\n",
    "       tol=1e-4, maxit=1000, forceXcovar=FALSE) #sees how well our data fits a given formula \n",
    "          # If you see \"error: object of type 'closure' is not subsettable\", remove \"formula,\" from the fitqtl argument list.\n",
    "summary(fitqtl) #Print results of the analysis"
   ]
  },
  {
   "cell_type": "code",
   "execution_count": 10,
   "metadata": {},
   "outputs": [
    {
     "name": "stdout",
     "output_type": "stream",
     "text": [
      "[1] \"Make sure to input names AS THEY APPEAR on the csv!!\"\n"
     ]
    },
    {
     "name": "stdin",
     "output_type": "stream",
     "text": [
      "Enter file name (Either FemaleMap.csv or MaleMap.csv):  MaleMap_Field2020.csv\n",
      "First Genotype (homozygous) (For example ll):  nn\n",
      "Second Genotype (heterozygous) (for example lm):  np\n",
      "Column Number:  49\n"
     ]
    }
   ],
   "source": [
    "#Collecting enviroment variables\n",
    "print(\"Make sure to input names AS THEY APPEAR on the csv!!\") #Just a user warning\n",
    "fileName <- readline(\"Enter file name (Either FemaleMap.csv or MaleMap.csv): \") #Mapping table file\n",
    "genotypeName <- c(readline(\"First Genotype (homozygous) (For example ll): \"),\n",
    "                  readline(\"Second Genotype (heterozygous) (for example lm): \")) #For example \"nn\", \"np\"\n",
    "alleleName <- c(substr(genotypeName[2],1,1) ,substr(genotypeName[2],2,2))\n",
    "naNames <- c(\"NA\",\"--\") #For example \"NA\", \"--\"\n",
    "colNum <- as.numeric(readline(\"Column Number: \")) #Column for pheno of interest"
   ]
  },
  {
   "cell_type": "code",
   "execution_count": 11,
   "metadata": {},
   "outputs": [
    {
     "name": "stderr",
     "output_type": "stream",
     "text": [
      "Warning message in FUN(X[[i]], ...):\n",
      "\"The phenotype value \" \"  was interpreted as missing.\"\n"
     ]
    },
    {
     "name": "stdout",
     "output_type": "stream",
     "text": [
      " --Read the following data:\n",
      "\t 294  individuals\n",
      "\t 1128  markers\n",
      "\t 56  phenotypes\n"
     ]
    },
    {
     "name": "stderr",
     "output_type": "stream",
     "text": [
      "Warning message in summary.cross(cross):\n",
      "\"Some markers at the same position on chr 1,3,4,5,6,7,8,9,10,12,13,14,15,16,17,18,19; use jittermap().\"\n"
     ]
    },
    {
     "name": "stdout",
     "output_type": "stream",
     "text": [
      " --Cross type: bc \n"
     ]
    },
    {
     "data": {
      "image/png": "[encoded data removed]",
      "text/plain": [
       "Plot with title \"Genetic map\""
      ]
     },
     "metadata": {
      "image/png": {
       "height": 420,
       "width": 420
      },
      "text/plain": {
       "height": 420,
       "width": 420
      }
     },
     "output_type": "display_data"
    }
   ],
   "source": [
    "#Map generation\n",
    "Map <- read.cross(format = 'csv',file = fileName \n",
    "                  ,genotypes = genotypeName,\n",
    "                  alleles = alleleName,na.strings = naNames) #generate linkage map\n",
    "Map <- jittermap(Map) #make sure no markers are in the same location\n",
    "Map <- calc.genoprob(Map,step = 1,map.function = \"kosambi\") #associate markers with full genotypes\n",
    "plot.map(Map) #draw linkage map"
   ]
  },
  {
   "cell_type": "code",
   "execution_count": 12,
   "metadata": {},
   "outputs": [
    {
     "data": {
      "image/png": "[encoded data removed]",
      "text/plain": [
       "Plot with title \"\""
      ]
     },
     "metadata": {
      "image/png": {
       "height": 420,
       "width": 420
      },
      "text/plain": {
       "height": 420,
       "width": 420
      }
     },
     "output_type": "display_data"
    }
   ],
   "source": [
    "plotNormalHistogram(Map$pheno[,colNum]) #normal histogram of pheno of interest"
   ]
  },
  {
   "cell_type": "markdown",
   "metadata": {},
   "source": [
    "Outliers exist in this data. "
   ]
  },
  {
   "cell_type": "code",
   "execution_count": 13,
   "metadata": {},
   "outputs": [
    {
     "data": {
      "text/plain": [
       "LOD thresholds (1000 permutations)\n",
       "   [,1]\n",
       "5% 4.09\n",
       "1% 4.89"
      ]
     },
     "metadata": {},
     "output_type": "display_data"
    },
    {
     "data": {
      "image/png": "[encoded data removed]",
      "text/plain": [
       "Plot with title \"\""
      ]
     },
     "metadata": {
      "image/png": {
       "height": 420,
       "width": 420
      },
      "text/plain": {
       "height": 420,
       "width": 420
      }
     },
     "output_type": "display_data"
    }
   ],
   "source": [
    "#Compute statistically significant values\n",
    "TraitCIM1000 <- cim(Map,pheno.col = colNum,method = \"hk\",\n",
    "                    map.function = \"kosambi\",n.perm = 1000) # Function will take a moment to run, determines LOD value\n",
    "plot(TraitCIM1000,col = 'green') #show distribution of lod scores\n",
    "summary(TraitCIM1000,alpha=c(.05,.01))"
   ]
  },
  {
   "cell_type": "code",
   "execution_count": 14,
   "metadata": {},
   "outputs": [
    {
     "name": "stdout",
     "output_type": "stream",
     "text": [
      "[1] \"If nothing shows up, the values \\n      are below the LOD5 score\"\n"
     ]
    },
    {
     "data": {
      "text/html": [
       "<table>\n",
       "<caption>A summary.scanone: 19 × 3</caption>\n",
       "<thead>\n",
       "\t<tr><th></th><th scope=col>chr</th><th scope=col>pos</th><th scope=col>lod</th></tr>\n",
       "\t<tr><th></th><th scope=col>&lt;fct&gt;</th><th scope=col>&lt;dbl&gt;</th><th scope=col>&lt;dbl&gt;</th></tr>\n",
       "</thead>\n",
       "<tbody>\n",
       "\t<tr><th scope=row>c1.loc43</th><td>1 </td><td>43.000000</td><td>1.2912804</td></tr>\n",
       "\t<tr><th scope=row>c2.loc14</th><td>2 </td><td>14.000000</td><td>0.8280506</td></tr>\n",
       "\t<tr><th scope=row>c3.loc20</th><td>3 </td><td>20.000000</td><td>1.1988146</td></tr>\n",
       "\t<tr><th scope=row>4_6046549</th><td>4 </td><td>23.432018</td><td>1.0514993</td></tr>\n",
       "\t<tr><th scope=row>c5.loc42</th><td>5 </td><td>42.000000</td><td>0.6809676</td></tr>\n",
       "\t<tr><th scope=row>c6.loc55</th><td>6 </td><td>55.000000</td><td>1.2305371</td></tr>\n",
       "\t<tr><th scope=row>7_9476959</th><td>7 </td><td>45.281030</td><td>0.7880472</td></tr>\n",
       "\t<tr><th scope=row>c8.loc13</th><td>8 </td><td>13.000000</td><td>1.3385539</td></tr>\n",
       "\t<tr><th scope=row>c9.loc62</th><td>9 </td><td>62.000000</td><td>1.2113737</td></tr>\n",
       "\t<tr><th scope=row>c10.loc5</th><td>10</td><td> 5.000000</td><td>0.3934199</td></tr>\n",
       "\t<tr><th scope=row>c11.loc13</th><td>11</td><td>13.000000</td><td>0.7277580</td></tr>\n",
       "\t<tr><th scope=row>12_12974887</th><td>12</td><td>41.346042</td><td>3.8580515</td></tr>\n",
       "\t<tr><th scope=row>c13.loc2</th><td>13</td><td> 2.000000</td><td>0.9559025</td></tr>\n",
       "\t<tr><th scope=row>14_1276585</th><td>14</td><td> 5.327005</td><td>0.8042307</td></tr>\n",
       "\t<tr><th scope=row>c15.loc78</th><td>15</td><td>78.000000</td><td>1.1531834</td></tr>\n",
       "\t<tr><th scope=row>c16.loc81</th><td>16</td><td>81.000000</td><td>1.4315416</td></tr>\n",
       "\t<tr><th scope=row>c17.loc11</th><td>17</td><td>11.000000</td><td>0.5631517</td></tr>\n",
       "\t<tr><th scope=row>18_11058645</th><td>18</td><td>47.670026</td><td>0.9339641</td></tr>\n",
       "\t<tr><th scope=row>19_12204443</th><td>19</td><td>51.661035</td><td>1.4729502</td></tr>\n",
       "</tbody>\n",
       "</table>\n"
      ],
      "text/latex": [
       "A summary.scanone: 19 × 3\n",
       "\\begin{tabular}{r|lll}\n",
       "  & chr & pos & lod\\\\\n",
       "  & <fct> & <dbl> & <dbl>\\\\\n",
       "\\hline\n",
       "\tc1.loc43 & 1  & 43.000000 & 1.2912804\\\\\n",
       "\tc2.loc14 & 2  & 14.000000 & 0.8280506\\\\\n",
       "\tc3.loc20 & 3  & 20.000000 & 1.1988146\\\\\n",
       "\t4\\_6046549 & 4  & 23.432018 & 1.0514993\\\\\n",
       "\tc5.loc42 & 5  & 42.000000 & 0.6809676\\\\\n",
       "\tc6.loc55 & 6  & 55.000000 & 1.2305371\\\\\n",
       "\t7\\_9476959 & 7  & 45.281030 & 0.7880472\\\\\n",
       "\tc8.loc13 & 8  & 13.000000 & 1.3385539\\\\\n",
       "\tc9.loc62 & 9  & 62.000000 & 1.2113737\\\\\n",
       "\tc10.loc5 & 10 &  5.000000 & 0.3934199\\\\\n",
       "\tc11.loc13 & 11 & 13.000000 & 0.7277580\\\\\n",
       "\t12\\_12974887 & 12 & 41.346042 & 3.8580515\\\\\n",
       "\tc13.loc2 & 13 &  2.000000 & 0.9559025\\\\\n",
       "\t14\\_1276585 & 14 &  5.327005 & 0.8042307\\\\\n",
       "\tc15.loc78 & 15 & 78.000000 & 1.1531834\\\\\n",
       "\tc16.loc81 & 16 & 81.000000 & 1.4315416\\\\\n",
       "\tc17.loc11 & 17 & 11.000000 & 0.5631517\\\\\n",
       "\t18\\_11058645 & 18 & 47.670026 & 0.9339641\\\\\n",
       "\t19\\_12204443 & 19 & 51.661035 & 1.4729502\\\\\n",
       "\\end{tabular}\n"
      ],
      "text/markdown": [
       "\n",
       "A summary.scanone: 19 × 3\n",
       "\n",
       "| <!--/--> | chr &lt;fct&gt; | pos &lt;dbl&gt; | lod &lt;dbl&gt; |\n",
       "|---|---|---|---|\n",
       "| c1.loc43 | 1  | 43.000000 | 1.2912804 |\n",
       "| c2.loc14 | 2  | 14.000000 | 0.8280506 |\n",
       "| c3.loc20 | 3  | 20.000000 | 1.1988146 |\n",
       "| 4_6046549 | 4  | 23.432018 | 1.0514993 |\n",
       "| c5.loc42 | 5  | 42.000000 | 0.6809676 |\n",
       "| c6.loc55 | 6  | 55.000000 | 1.2305371 |\n",
       "| 7_9476959 | 7  | 45.281030 | 0.7880472 |\n",
       "| c8.loc13 | 8  | 13.000000 | 1.3385539 |\n",
       "| c9.loc62 | 9  | 62.000000 | 1.2113737 |\n",
       "| c10.loc5 | 10 |  5.000000 | 0.3934199 |\n",
       "| c11.loc13 | 11 | 13.000000 | 0.7277580 |\n",
       "| 12_12974887 | 12 | 41.346042 | 3.8580515 |\n",
       "| c13.loc2 | 13 |  2.000000 | 0.9559025 |\n",
       "| 14_1276585 | 14 |  5.327005 | 0.8042307 |\n",
       "| c15.loc78 | 15 | 78.000000 | 1.1531834 |\n",
       "| c16.loc81 | 16 | 81.000000 | 1.4315416 |\n",
       "| c17.loc11 | 17 | 11.000000 | 0.5631517 |\n",
       "| 18_11058645 | 18 | 47.670026 | 0.9339641 |\n",
       "| 19_12204443 | 19 | 51.661035 | 1.4729502 |\n",
       "\n"
      ],
      "text/plain": [
       "            chr pos       lod      \n",
       "c1.loc43    1   43.000000 1.2912804\n",
       "c2.loc14    2   14.000000 0.8280506\n",
       "c3.loc20    3   20.000000 1.1988146\n",
       "4_6046549   4   23.432018 1.0514993\n",
       "c5.loc42    5   42.000000 0.6809676\n",
       "c6.loc55    6   55.000000 1.2305371\n",
       "7_9476959   7   45.281030 0.7880472\n",
       "c8.loc13    8   13.000000 1.3385539\n",
       "c9.loc62    9   62.000000 1.2113737\n",
       "c10.loc5    10   5.000000 0.3934199\n",
       "c11.loc13   11  13.000000 0.7277580\n",
       "12_12974887 12  41.346042 3.8580515\n",
       "c13.loc2    13   2.000000 0.9559025\n",
       "14_1276585  14   5.327005 0.8042307\n",
       "c15.loc78   15  78.000000 1.1531834\n",
       "c16.loc81   16  81.000000 1.4315416\n",
       "c17.loc11   17  11.000000 0.5631517\n",
       "18_11058645 18  47.670026 0.9339641\n",
       "19_12204443 19  51.661035 1.4729502"
      ]
     },
     "metadata": {},
     "output_type": "display_data"
    },
    {
     "data": {
      "image/png": "[encoded data removed]",
      "text/plain": [
       "plot without title"
      ]
     },
     "metadata": {
      "image/png": {
       "height": 420,
       "width": 420
      },
      "text/plain": {
       "height": 420,
       "width": 420
      }
     },
     "output_type": "display_data"
    }
   ],
   "source": [
    "#Deterime LOD Values\n",
    "TraitCIM<-cim(Map,pheno.col = colNum,method = \"hk\",\n",
    "              map.function = \"kosambi\") #Generate LOD Values\n",
    "plot(TraitCIM) #show LOD graph\n",
    "abline(h = LOD5,col = \"blue\") #overlay statistically significant line\n",
    "print(\"If nothing shows up, the values \n",
    "      are below the LOD5 score\") #warning for no peaks\n",
    "summary(TraitCIM)"
   ]
  },
  {
   "cell_type": "code",
   "execution_count": 15,
   "metadata": {},
   "outputs": [
    {
     "name": "stdin",
     "output_type": "stream",
     "text": [
      "Chromosome?  12\n"
     ]
    },
    {
     "data": {
      "image/png": "[encoded data removed]",
      "text/plain": [
       "plot without title"
      ]
     },
     "metadata": {
      "image/png": {
       "height": 420,
       "width": 420
      },
      "text/plain": {
       "height": 420,
       "width": 420
      }
     },
     "output_type": "display_data"
    }
   ],
   "source": [
    "#Chromosomal Analysis\n",
    "chr <- as.numeric(readline(\"Chromosome? \")) #collect chromosome to look at\n",
    "plot(TraitCIM, chr = chr,xlab = c(\"chr\",chr)) #Plot chr LOD scores\n",
    "abline(h = LOD5, col = \"blue\") #Statistically Significant"
   ]
  },
  {
   "cell_type": "code",
   "execution_count": 16,
   "metadata": {},
   "outputs": [
    {
     "data": {
      "text/html": [
       "<table>\n",
       "<caption>A scanone: 3 × 3</caption>\n",
       "<thead>\n",
       "\t<tr><th></th><th scope=col>chr</th><th scope=col>pos</th><th scope=col>lod</th></tr>\n",
       "\t<tr><th></th><th scope=col>&lt;fct&gt;</th><th scope=col>&lt;dbl&gt;</th><th scope=col>&lt;dbl&gt;</th></tr>\n",
       "</thead>\n",
       "<tbody>\n",
       "\t<tr><th scope=row>12_8352090</th><td>12</td><td>36.49303</td><td>3.035544</td></tr>\n",
       "\t<tr><th scope=row>12_12974887</th><td>12</td><td>41.34604</td><td>3.858052</td></tr>\n",
       "\t<tr><th scope=row>12_15665373</th><td>12</td><td>45.00305</td><td>2.455278</td></tr>\n",
       "</tbody>\n",
       "</table>\n"
      ],
      "text/latex": [
       "A scanone: 3 × 3\n",
       "\\begin{tabular}{r|lll}\n",
       "  & chr & pos & lod\\\\\n",
       "  & <fct> & <dbl> & <dbl>\\\\\n",
       "\\hline\n",
       "\t12\\_8352090 & 12 & 36.49303 & 3.035544\\\\\n",
       "\t12\\_12974887 & 12 & 41.34604 & 3.858052\\\\\n",
       "\t12\\_15665373 & 12 & 45.00305 & 2.455278\\\\\n",
       "\\end{tabular}\n"
      ],
      "text/markdown": [
       "\n",
       "A scanone: 3 × 3\n",
       "\n",
       "| <!--/--> | chr &lt;fct&gt; | pos &lt;dbl&gt; | lod &lt;dbl&gt; |\n",
       "|---|---|---|---|\n",
       "| 12_8352090 | 12 | 36.49303 | 3.035544 |\n",
       "| 12_12974887 | 12 | 41.34604 | 3.858052 |\n",
       "| 12_15665373 | 12 | 45.00305 | 2.455278 |\n",
       "\n"
      ],
      "text/plain": [
       "            chr pos      lod     \n",
       "12_8352090  12  36.49303 3.035544\n",
       "12_12974887 12  41.34604 3.858052\n",
       "12_15665373 12  45.00305 2.455278"
      ]
     },
     "metadata": {},
     "output_type": "display_data"
    },
    {
     "data": {
      "text/html": [
       "<table>\n",
       "<caption>A scanone: 3 × 3</caption>\n",
       "<thead>\n",
       "\t<tr><th></th><th scope=col>chr</th><th scope=col>pos</th><th scope=col>lod</th></tr>\n",
       "\t<tr><th></th><th scope=col>&lt;fct&gt;</th><th scope=col>&lt;dbl&gt;</th><th scope=col>&lt;dbl&gt;</th></tr>\n",
       "</thead>\n",
       "<tbody>\n",
       "\t<tr><th scope=row>12_8352093</th><td>12</td><td>35.29403</td><td>0.04782795</td></tr>\n",
       "\t<tr><th scope=row>12_12974887</th><td>12</td><td>41.34604</td><td>3.85805153</td></tr>\n",
       "\t<tr><th scope=row>12_16418367</th><td>12</td><td>46.84105</td><td>0.12275214</td></tr>\n",
       "</tbody>\n",
       "</table>\n"
      ],
      "text/latex": [
       "A scanone: 3 × 3\n",
       "\\begin{tabular}{r|lll}\n",
       "  & chr & pos & lod\\\\\n",
       "  & <fct> & <dbl> & <dbl>\\\\\n",
       "\\hline\n",
       "\t12\\_8352093 & 12 & 35.29403 & 0.04782795\\\\\n",
       "\t12\\_12974887 & 12 & 41.34604 & 3.85805153\\\\\n",
       "\t12\\_16418367 & 12 & 46.84105 & 0.12275214\\\\\n",
       "\\end{tabular}\n"
      ],
      "text/markdown": [
       "\n",
       "A scanone: 3 × 3\n",
       "\n",
       "| <!--/--> | chr &lt;fct&gt; | pos &lt;dbl&gt; | lod &lt;dbl&gt; |\n",
       "|---|---|---|---|\n",
       "| 12_8352093 | 12 | 35.29403 | 0.04782795 |\n",
       "| 12_12974887 | 12 | 41.34604 | 3.85805153 |\n",
       "| 12_16418367 | 12 | 46.84105 | 0.12275214 |\n",
       "\n"
      ],
      "text/plain": [
       "            chr pos      lod       \n",
       "12_8352093  12  35.29403 0.04782795\n",
       "12_12974887 12  41.34604 3.85805153\n",
       "12_16418367 12  46.84105 0.12275214"
      ]
     },
     "metadata": {},
     "output_type": "display_data"
    }
   ],
   "source": [
    "bayesint(TraitCIM, chr = chr, prob=0.95, expandtomarkers=TRUE) #calculate bayesian interval\n",
    "lodint(TraitCIM, chr = chr,expandtomarkers = TRUE ) #calculate LOD Support interval"
   ]
  },
  {
   "cell_type": "code",
   "execution_count": 17,
   "metadata": {},
   "outputs": [
    {
     "name": "stdin",
     "output_type": "stream",
     "text": [
      "Position for analysis:  41.34604\n"
     ]
    },
    {
     "name": "stderr",
     "output_type": "stream",
     "text": [
      "Warning message in getsex(cross):\n",
      "\"125 individuals with missing sex; assuming they're female\"\n",
      "Warning message in fitqtlengine(pheno = pheno, qtl = qtl, covar = covar, formula = formula, :\n",
      "\"Dropping 80 individuals with missing phenotypes.\n",
      "\"\n",
      "Warning message in getsex(cross):\n",
      "\"125 individuals with missing sex; assuming they're female\"\n"
     ]
    },
    {
     "data": {
      "text/plain": [
       "\n",
       "\t\tfitqtl summary\n",
       "\n",
       "Method: Haley-Knott regression \n",
       "Model:  normal phenotype\n",
       "Number of observations : 214 \n",
       "\n",
       "Full model result\n",
       "----------------------------------  \n",
       "Model formula: y ~ Q1 \n",
       "\n",
       "       df        SS        MS      LOD     %var Pvalue(Chi2)    Pvalue(F)\n",
       "Model   1  2.737849 2.7378489 2.551835 5.343362 0.0006078982 0.0006543937\n",
       "Error 212 48.500469 0.2287758                                            \n",
       "Total 213 51.238318                                                      \n",
       "\n",
       "\n",
       "Estimated effects:\n",
       "-----------------\n",
       "               est       SE      t\n",
       "Intercept  0.39622  0.03270 12.118\n",
       "12@41.3   -0.22664  0.06551 -3.459\n"
      ]
     },
     "metadata": {},
     "output_type": "display_data"
    }
   ],
   "source": [
    "p <- as.numeric(readline(\"Position for analysis: \"))\n",
    "qtl <- makeqtl(Map, chr = chr, pos = p, what=\"prob\") #pulls genotype probabilities\n",
    "fitqtl <- fitqtl(Map, pheno.col=colNum, qtl = qtl, covar=NULL,\n",
    "       method= \"hk\",model=\"normal\",\n",
    "       dropone=TRUE, get.ests=TRUE,run.checks=TRUE,\n",
    "       tol=1e-4, maxit=1000, forceXcovar=FALSE) #sees how well our data fits a given formula \n",
    "          # If you see \"error: object of type 'closure' is not subsettable\", remove \"formula,\" from the fitqtl argument list.\n",
    "summary(fitqtl) #Print results of the analysis"
   ]
  },
  {
   "cell_type": "code",
   "execution_count": null,
   "metadata": {},
   "outputs": [],
   "source": []
  }
 ],
 "metadata": {
  "kernelspec": {
   "display_name": "R",
   "language": "R",
   "name": "ir"
  },
  "language_info": {
   "codemirror_mode": "r",
   "file_extension": ".r",
   "mimetype": "text/x-r-source",
   "name": "R",
   "pygments_lexer": "r",
   "version": "3.6.3"
  }
 },
 "nbformat": 4,
 "nbformat_minor": 4
}
