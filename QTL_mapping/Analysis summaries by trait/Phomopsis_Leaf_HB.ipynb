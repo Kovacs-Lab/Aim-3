{
 "cells": [
  {
   "cell_type": "markdown",
   "metadata": {},
   "source": [
    "This analysis is in the order of Female then Male"
   ]
  },
  {
   "cell_type": "code",
   "execution_count": 1,
   "metadata": {},
   "outputs": [
    {
     "name": "stderr",
     "output_type": "stream",
     "text": [
      "Installing package into 'C:/Users/Courtney/Documents/R/win-library/3.6'\n",
      "(as 'lib' is unspecified)\n",
      "\n"
     ]
    },
    {
     "name": "stdout",
     "output_type": "stream",
     "text": [
      "package 'qtl' successfully unpacked and MD5 sums checked\n"
     ]
    },
    {
     "name": "stderr",
     "output_type": "stream",
     "text": [
      "Warning message:\n",
      "\"cannot remove prior installation of package 'qtl'\"\n",
      "Warning message in file.copy(savedcopy, lib, recursive = TRUE):\n",
      "\"problem copying C:\\Users\\Courtney\\Documents\\R\\win-library\\3.6\\00LOCK\\qtl\\libs\\x64\\qtl.dll to C:\\Users\\Courtney\\Documents\\R\\win-library\\3.6\\qtl\\libs\\x64\\qtl.dll: Permission denied\"\n",
      "Warning message:\n",
      "\"restored 'qtl'\"\n"
     ]
    },
    {
     "name": "stdout",
     "output_type": "stream",
     "text": [
      "\n",
      "The downloaded binary packages are in\n",
      "\tC:\\Users\\Courtney\\AppData\\Local\\Temp\\RtmpE1yx7w\\downloaded_packages\n"
     ]
    },
    {
     "name": "stderr",
     "output_type": "stream",
     "text": [
      "Installing package into 'C:/Users/Courtney/Documents/R/win-library/3.6'\n",
      "(as 'lib' is unspecified)\n",
      "\n"
     ]
    },
    {
     "name": "stdout",
     "output_type": "stream",
     "text": [
      "package 'qtlcharts' successfully unpacked and MD5 sums checked\n",
      "\n",
      "The downloaded binary packages are in\n",
      "\tC:\\Users\\Courtney\\AppData\\Local\\Temp\\RtmpE1yx7w\\downloaded_packages\n"
     ]
    },
    {
     "name": "stderr",
     "output_type": "stream",
     "text": [
      "Installing package into 'C:/Users/Courtney/Documents/R/win-library/3.6'\n",
      "(as 'lib' is unspecified)\n",
      "\n"
     ]
    },
    {
     "name": "stdout",
     "output_type": "stream",
     "text": [
      "package 'LinkageMapView' successfully unpacked and MD5 sums checked\n",
      "\n",
      "The downloaded binary packages are in\n",
      "\tC:\\Users\\Courtney\\AppData\\Local\\Temp\\RtmpE1yx7w\\downloaded_packages\n"
     ]
    },
    {
     "name": "stderr",
     "output_type": "stream",
     "text": [
      "Installing package into 'C:/Users/Courtney/Documents/R/win-library/3.6'\n",
      "(as 'lib' is unspecified)\n",
      "\n"
     ]
    },
    {
     "name": "stdout",
     "output_type": "stream",
     "text": [
      "package 'rcompanion' successfully unpacked and MD5 sums checked\n",
      "\n",
      "The downloaded binary packages are in\n",
      "\tC:\\Users\\Courtney\\AppData\\Local\\Temp\\RtmpE1yx7w\\downloaded_packages\n"
     ]
    }
   ],
   "source": [
    "install.packages('qtl') #Main package, for analysis\n",
    "install.packages('qtlcharts') #accessory, for displaying graphs\n",
    "install.packages('LinkageMapView') #accessory, for displaying linkage maps\n",
    "install.packages('rcompanion')# for plotNormalHistogram"
   ]
  },
  {
   "cell_type": "code",
   "execution_count": 2,
   "metadata": {},
   "outputs": [],
   "source": [
    "library(qtl) #load packages\n",
    "library(qtlcharts)\n",
    "library(LinkageMapView)\n",
    "library(rcompanion)"
   ]
  },
  {
   "cell_type": "code",
   "execution_count": 3,
   "metadata": {},
   "outputs": [
    {
     "name": "stdout",
     "output_type": "stream",
     "text": [
      "[1] \"Make sure to input names AS THEY APPEAR on the csv!!\"\n"
     ]
    },
    {
     "name": "stdin",
     "output_type": "stream",
     "text": [
      "Enter file name (Either FemaleMap.csv or MaleMap.csv):  FemaleMap.csv\n",
      "First Genotype (homozygous) (For example ll):  ll\n",
      "Second Genotype (heterozygous) (for example lm):  lm\n",
      "Column Number:  38\n"
     ]
    }
   ],
   "source": [
    "#Collecting enviroment variables\n",
    "print(\"Make sure to input names AS THEY APPEAR on the csv!!\") #Just a user warning\n",
    "fileName <- readline(\"Enter file name (Either FemaleMap.csv or MaleMap.csv): \") #Mapping table file\n",
    "genotypeName <- c(readline(\"First Genotype (homozygous) (For example ll): \"),\n",
    "                  readline(\"Second Genotype (heterozygous) (for example lm): \")) #For example \"nn\", \"np\"\n",
    "alleleName <- c(substr(genotypeName[2],1,1) ,substr(genotypeName[2],2,2))\n",
    "naNames <- c(\"NA\",\"--\") #For example \"NA\", \"--\"\n",
    "colNum <- as.numeric(readline(\"Column Number: \")) #Column for pheno of interest"
   ]
  },
  {
   "cell_type": "code",
   "execution_count": 4,
   "metadata": {},
   "outputs": [
    {
     "name": "stdout",
     "output_type": "stream",
     "text": [
      " --Read the following data:\n",
      "\t 294  individuals\n",
      "\t 1100  markers\n",
      "\t 44  phenotypes\n"
     ]
    },
    {
     "name": "stderr",
     "output_type": "stream",
     "text": [
      "Warning message in summary.cross(cross):\n",
      "\"Some markers at the same position on chr 1,2,4,5,7,8,9,10,11,12,13,14,16,17,18,19; use jittermap().\"\n"
     ]
    },
    {
     "name": "stdout",
     "output_type": "stream",
     "text": [
      " --Cross type: bc \n"
     ]
    },
    {
     "data": {
      "image/png": "[encoded data removed]",
      "text/plain": [
       "Plot with title \"Genetic map\""
      ]
     },
     "metadata": {
      "image/png": {
       "height": 420,
       "width": 420
      },
      "text/plain": {
       "height": 420,
       "width": 420
      }
     },
     "output_type": "display_data"
    }
   ],
   "source": [
    "#Map generation\n",
    "Map <- read.cross(format = 'csv',file = fileName \n",
    "                  ,genotypes = genotypeName,\n",
    "                  alleles = alleleName,na.strings = naNames) #generate linkage map\n",
    "Map <- jittermap(Map) #make sure no markers are in the same location\n",
    "Map <- calc.genoprob(Map,step = 1,map.function = \"kosambi\") #associate markers with full genotypes\n",
    "plot.map(Map) #draw linkage map"
   ]
  },
  {
   "cell_type": "code",
   "execution_count": 5,
   "metadata": {},
   "outputs": [
    {
     "data": {
      "image/png": "[encoded data removed]",
      "text/plain": [
       "Plot with title \"\""
      ]
     },
     "metadata": {
      "image/png": {
       "height": 420,
       "width": 420
      },
      "text/plain": {
       "height": 420,
       "width": 420
      }
     },
     "output_type": "display_data"
    }
   ],
   "source": [
    "plotNormalHistogram(Map$pheno[,colNum]) #normal histogram of pheno of interest"
   ]
  },
  {
   "cell_type": "markdown",
   "metadata": {},
   "source": [
    "Outliers exist in this dataset. Will need to be analyized. "
   ]
  },
  {
   "cell_type": "code",
   "execution_count": 6,
   "metadata": {},
   "outputs": [
    {
     "data": {
      "text/plain": [
       "LOD thresholds (1000 permutations)\n",
       "   [,1]\n",
       "5% 4.01\n",
       "1% 5.21"
      ]
     },
     "metadata": {},
     "output_type": "display_data"
    },
    {
     "data": {
      "image/png": "[encoded data removed]",
      "text/plain": [
       "Plot with title \"\""
      ]
     },
     "metadata": {
      "image/png": {
       "height": 420,
       "width": 420
      },
      "text/plain": {
       "height": 420,
       "width": 420
      }
     },
     "output_type": "display_data"
    }
   ],
   "source": [
    "#Compute statistically significant values\n",
    "TraitCIM1000 <- cim(Map,pheno.col = colNum,method = \"hk\",\n",
    "                    map.function = \"kosambi\",n.perm = 1000) # Function will take a moment to run, determines LOD value\n",
    "plot(TraitCIM1000,col = 'green') #show distribution of lod scores\n",
    "summary(TraitCIM1000,alpha=c(.05,.01))"
   ]
  },
  {
   "cell_type": "code",
   "execution_count": 7,
   "metadata": {},
   "outputs": [
    {
     "name": "stdout",
     "output_type": "stream",
     "text": [
      "[1] \"If nothing shows up, the values \\n      are below the LOD5 score\"\n"
     ]
    },
    {
     "data": {
      "text/html": [
       "<table>\n",
       "<caption>A summary.scanone: 19 × 3</caption>\n",
       "<thead>\n",
       "\t<tr><th></th><th scope=col>chr</th><th scope=col>pos</th><th scope=col>lod</th></tr>\n",
       "\t<tr><th></th><th scope=col>&lt;fct&gt;</th><th scope=col>&lt;dbl&gt;</th><th scope=col>&lt;dbl&gt;</th></tr>\n",
       "</thead>\n",
       "<tbody>\n",
       "\t<tr><th scope=row>c1.loc56</th><td>1 </td><td>56.000000</td><td>0.2408376</td></tr>\n",
       "\t<tr><th scope=row>c2.loc21</th><td>2 </td><td>21.000000</td><td>0.8686265</td></tr>\n",
       "\t<tr><th scope=row>c3.loc6</th><td>3 </td><td> 6.000000</td><td>0.8871522</td></tr>\n",
       "\t<tr><th scope=row>c4.loc25</th><td>4 </td><td>25.000000</td><td>1.1547927</td></tr>\n",
       "\t<tr><th scope=row>c5.loc20</th><td>5 </td><td>20.000000</td><td>1.3874843</td></tr>\n",
       "\t<tr><th scope=row>6_2776728</th><td>6 </td><td> 9.616007</td><td>0.8661009</td></tr>\n",
       "\t<tr><th scope=row>7_9420884</th><td>7 </td><td>38.354040</td><td>1.0359155</td></tr>\n",
       "\t<tr><th scope=row>16_11684819</th><td>8 </td><td> 9.696007</td><td>1.5811157</td></tr>\n",
       "\t<tr><th scope=row>c9.loc36</th><td>9 </td><td>36.000000</td><td>1.1986153</td></tr>\n",
       "\t<tr><th scope=row>10_5021135</th><td>10</td><td>22.712015</td><td>0.4873263</td></tr>\n",
       "\t<tr><th scope=row>c11.loc63</th><td>11</td><td>63.000000</td><td>0.8484214</td></tr>\n",
       "\t<tr><th scope=row>c12.loc8</th><td>12</td><td> 8.000000</td><td>0.5565962</td></tr>\n",
       "\t<tr><th scope=row>13_15184627</th><td>13</td><td>52.339043</td><td>1.8149791</td></tr>\n",
       "\t<tr><th scope=row>c14.loc59</th><td>14</td><td>59.000000</td><td>0.3617966</td></tr>\n",
       "\t<tr><th scope=row>15_1295408</th><td>15</td><td> 2.488001</td><td>0.5930711</td></tr>\n",
       "\t<tr><th scope=row>16_1746297</th><td>16</td><td> 5.795005</td><td>2.1480557</td></tr>\n",
       "\t<tr><th scope=row>c17.loc62</th><td>17</td><td>62.000000</td><td>0.7109288</td></tr>\n",
       "\t<tr><th scope=row>c18.loc83</th><td>18</td><td>83.000000</td><td>0.9838521</td></tr>\n",
       "\t<tr><th scope=row>19_276443</th><td>19</td><td> 0.000000</td><td>0.7348274</td></tr>\n",
       "</tbody>\n",
       "</table>\n"
      ],
      "text/latex": [
       "A summary.scanone: 19 × 3\n",
       "\\begin{tabular}{r|lll}\n",
       "  & chr & pos & lod\\\\\n",
       "  & <fct> & <dbl> & <dbl>\\\\\n",
       "\\hline\n",
       "\tc1.loc56 & 1  & 56.000000 & 0.2408376\\\\\n",
       "\tc2.loc21 & 2  & 21.000000 & 0.8686265\\\\\n",
       "\tc3.loc6 & 3  &  6.000000 & 0.8871522\\\\\n",
       "\tc4.loc25 & 4  & 25.000000 & 1.1547927\\\\\n",
       "\tc5.loc20 & 5  & 20.000000 & 1.3874843\\\\\n",
       "\t6\\_2776728 & 6  &  9.616007 & 0.8661009\\\\\n",
       "\t7\\_9420884 & 7  & 38.354040 & 1.0359155\\\\\n",
       "\t16\\_11684819 & 8  &  9.696007 & 1.5811157\\\\\n",
       "\tc9.loc36 & 9  & 36.000000 & 1.1986153\\\\\n",
       "\t10\\_5021135 & 10 & 22.712015 & 0.4873263\\\\\n",
       "\tc11.loc63 & 11 & 63.000000 & 0.8484214\\\\\n",
       "\tc12.loc8 & 12 &  8.000000 & 0.5565962\\\\\n",
       "\t13\\_15184627 & 13 & 52.339043 & 1.8149791\\\\\n",
       "\tc14.loc59 & 14 & 59.000000 & 0.3617966\\\\\n",
       "\t15\\_1295408 & 15 &  2.488001 & 0.5930711\\\\\n",
       "\t16\\_1746297 & 16 &  5.795005 & 2.1480557\\\\\n",
       "\tc17.loc62 & 17 & 62.000000 & 0.7109288\\\\\n",
       "\tc18.loc83 & 18 & 83.000000 & 0.9838521\\\\\n",
       "\t19\\_276443 & 19 &  0.000000 & 0.7348274\\\\\n",
       "\\end{tabular}\n"
      ],
      "text/markdown": [
       "\n",
       "A summary.scanone: 19 × 3\n",
       "\n",
       "| <!--/--> | chr &lt;fct&gt; | pos &lt;dbl&gt; | lod &lt;dbl&gt; |\n",
       "|---|---|---|---|\n",
       "| c1.loc56 | 1  | 56.000000 | 0.2408376 |\n",
       "| c2.loc21 | 2  | 21.000000 | 0.8686265 |\n",
       "| c3.loc6 | 3  |  6.000000 | 0.8871522 |\n",
       "| c4.loc25 | 4  | 25.000000 | 1.1547927 |\n",
       "| c5.loc20 | 5  | 20.000000 | 1.3874843 |\n",
       "| 6_2776728 | 6  |  9.616007 | 0.8661009 |\n",
       "| 7_9420884 | 7  | 38.354040 | 1.0359155 |\n",
       "| 16_11684819 | 8  |  9.696007 | 1.5811157 |\n",
       "| c9.loc36 | 9  | 36.000000 | 1.1986153 |\n",
       "| 10_5021135 | 10 | 22.712015 | 0.4873263 |\n",
       "| c11.loc63 | 11 | 63.000000 | 0.8484214 |\n",
       "| c12.loc8 | 12 |  8.000000 | 0.5565962 |\n",
       "| 13_15184627 | 13 | 52.339043 | 1.8149791 |\n",
       "| c14.loc59 | 14 | 59.000000 | 0.3617966 |\n",
       "| 15_1295408 | 15 |  2.488001 | 0.5930711 |\n",
       "| 16_1746297 | 16 |  5.795005 | 2.1480557 |\n",
       "| c17.loc62 | 17 | 62.000000 | 0.7109288 |\n",
       "| c18.loc83 | 18 | 83.000000 | 0.9838521 |\n",
       "| 19_276443 | 19 |  0.000000 | 0.7348274 |\n",
       "\n"
      ],
      "text/plain": [
       "            chr pos       lod      \n",
       "c1.loc56    1   56.000000 0.2408376\n",
       "c2.loc21    2   21.000000 0.8686265\n",
       "c3.loc6     3    6.000000 0.8871522\n",
       "c4.loc25    4   25.000000 1.1547927\n",
       "c5.loc20    5   20.000000 1.3874843\n",
       "6_2776728   6    9.616007 0.8661009\n",
       "7_9420884   7   38.354040 1.0359155\n",
       "16_11684819 8    9.696007 1.5811157\n",
       "c9.loc36    9   36.000000 1.1986153\n",
       "10_5021135  10  22.712015 0.4873263\n",
       "c11.loc63   11  63.000000 0.8484214\n",
       "c12.loc8    12   8.000000 0.5565962\n",
       "13_15184627 13  52.339043 1.8149791\n",
       "c14.loc59   14  59.000000 0.3617966\n",
       "15_1295408  15   2.488001 0.5930711\n",
       "16_1746297  16   5.795005 2.1480557\n",
       "c17.loc62   17  62.000000 0.7109288\n",
       "c18.loc83   18  83.000000 0.9838521\n",
       "19_276443   19   0.000000 0.7348274"
      ]
     },
     "metadata": {},
     "output_type": "display_data"
    },
    {
     "data": {
      "image/png": "[encoded data removed]",
      "text/plain": [
       "plot without title"
      ]
     },
     "metadata": {
      "image/png": {
       "height": 420,
       "width": 420
      },
      "text/plain": {
       "height": 420,
       "width": 420
      }
     },
     "output_type": "display_data"
    }
   ],
   "source": [
    "#Deterime LOD Values\n",
    "LOD5 <- summary(TraitCIM1000,alpha=c(.05))\n",
    "TraitCIM<-cim(Map,pheno.col = colNum,method = \"hk\",\n",
    "              map.function = \"kosambi\") #Generate LOD Values\n",
    "plot(TraitCIM) #show LOD graph\n",
    "abline(h = LOD5,col = \"blue\") #overlay statistically significant line\n",
    "print(\"If nothing shows up, the values \n",
    "      are below the LOD5 score\") #warning for no peaks\n",
    "summary(TraitCIM)"
   ]
  },
  {
   "cell_type": "code",
   "execution_count": 8,
   "metadata": {},
   "outputs": [
    {
     "name": "stdin",
     "output_type": "stream",
     "text": [
      "Chromosome?  16\n"
     ]
    },
    {
     "data": {
      "image/png": "[encoded data removed]",
      "text/plain": [
       "plot without title"
      ]
     },
     "metadata": {
      "image/png": {
       "height": 420,
       "width": 420
      },
      "text/plain": {
       "height": 420,
       "width": 420
      }
     },
     "output_type": "display_data"
    }
   ],
   "source": [
    "#Chromosomal Analysis\n",
    "chr <- as.numeric(readline(\"Chromosome? \")) #collect chromosome to look at\n",
    "plot(TraitCIM, chr = chr,xlab = c(\"chr\",chr)) #Plot chr LOD scores\n",
    "abline(h = LOD5, col = \"blue\") #Statistically Significant"
   ]
  },
  {
   "cell_type": "code",
   "execution_count": 9,
   "metadata": {},
   "outputs": [
    {
     "data": {
      "text/html": [
       "<table>\n",
       "<caption>A scanone: 3 × 3</caption>\n",
       "<thead>\n",
       "\t<tr><th></th><th scope=col>chr</th><th scope=col>pos</th><th scope=col>lod</th></tr>\n",
       "\t<tr><th></th><th scope=col>&lt;fct&gt;</th><th scope=col>&lt;dbl&gt;</th><th scope=col>&lt;dbl&gt;</th></tr>\n",
       "</thead>\n",
       "<tbody>\n",
       "\t<tr><th scope=row>16_157517</th><td>16</td><td> 0.000000</td><td>1.4286713</td></tr>\n",
       "\t<tr><th scope=row>16_1746297</th><td>16</td><td> 5.795005</td><td>2.1480557</td></tr>\n",
       "\t<tr><th scope=row>16_22831506</th><td>16</td><td>66.068054</td><td>0.1257404</td></tr>\n",
       "</tbody>\n",
       "</table>\n"
      ],
      "text/latex": [
       "A scanone: 3 × 3\n",
       "\\begin{tabular}{r|lll}\n",
       "  & chr & pos & lod\\\\\n",
       "  & <fct> & <dbl> & <dbl>\\\\\n",
       "\\hline\n",
       "\t16\\_157517 & 16 &  0.000000 & 1.4286713\\\\\n",
       "\t16\\_1746297 & 16 &  5.795005 & 2.1480557\\\\\n",
       "\t16\\_22831506 & 16 & 66.068054 & 0.1257404\\\\\n",
       "\\end{tabular}\n"
      ],
      "text/markdown": [
       "\n",
       "A scanone: 3 × 3\n",
       "\n",
       "| <!--/--> | chr &lt;fct&gt; | pos &lt;dbl&gt; | lod &lt;dbl&gt; |\n",
       "|---|---|---|---|\n",
       "| 16_157517 | 16 |  0.000000 | 1.4286713 |\n",
       "| 16_1746297 | 16 |  5.795005 | 2.1480557 |\n",
       "| 16_22831506 | 16 | 66.068054 | 0.1257404 |\n",
       "\n"
      ],
      "text/plain": [
       "            chr pos       lod      \n",
       "16_157517   16   0.000000 1.4286713\n",
       "16_1746297  16   5.795005 2.1480557\n",
       "16_22831506 16  66.068054 0.1257404"
      ]
     },
     "metadata": {},
     "output_type": "display_data"
    },
    {
     "data": {
      "text/html": [
       "<table>\n",
       "<caption>A scanone: 3 × 3</caption>\n",
       "<thead>\n",
       "\t<tr><th></th><th scope=col>chr</th><th scope=col>pos</th><th scope=col>lod</th></tr>\n",
       "\t<tr><th></th><th scope=col>&lt;fct&gt;</th><th scope=col>&lt;dbl&gt;</th><th scope=col>&lt;dbl&gt;</th></tr>\n",
       "</thead>\n",
       "<tbody>\n",
       "\t<tr><th scope=row>16_157517</th><td>16</td><td> 0.000000</td><td>1.4286713</td></tr>\n",
       "\t<tr><th scope=row>16_1746297</th><td>16</td><td> 5.795005</td><td>2.1480557</td></tr>\n",
       "\t<tr><th scope=row>16_22011402</th><td>16</td><td>53.542042</td><td>0.3624949</td></tr>\n",
       "</tbody>\n",
       "</table>\n"
      ],
      "text/latex": [
       "A scanone: 3 × 3\n",
       "\\begin{tabular}{r|lll}\n",
       "  & chr & pos & lod\\\\\n",
       "  & <fct> & <dbl> & <dbl>\\\\\n",
       "\\hline\n",
       "\t16\\_157517 & 16 &  0.000000 & 1.4286713\\\\\n",
       "\t16\\_1746297 & 16 &  5.795005 & 2.1480557\\\\\n",
       "\t16\\_22011402 & 16 & 53.542042 & 0.3624949\\\\\n",
       "\\end{tabular}\n"
      ],
      "text/markdown": [
       "\n",
       "A scanone: 3 × 3\n",
       "\n",
       "| <!--/--> | chr &lt;fct&gt; | pos &lt;dbl&gt; | lod &lt;dbl&gt; |\n",
       "|---|---|---|---|\n",
       "| 16_157517 | 16 |  0.000000 | 1.4286713 |\n",
       "| 16_1746297 | 16 |  5.795005 | 2.1480557 |\n",
       "| 16_22011402 | 16 | 53.542042 | 0.3624949 |\n",
       "\n"
      ],
      "text/plain": [
       "            chr pos       lod      \n",
       "16_157517   16   0.000000 1.4286713\n",
       "16_1746297  16   5.795005 2.1480557\n",
       "16_22011402 16  53.542042 0.3624949"
      ]
     },
     "metadata": {},
     "output_type": "display_data"
    }
   ],
   "source": [
    "bayesint(TraitCIM, chr = chr, prob=0.95, expandtomarkers=TRUE) #calculate bayesian interval\n",
    "lodint(TraitCIM, chr = chr,expandtomarkers = TRUE ) #calculate LOD Support interval"
   ]
  },
  {
   "cell_type": "code",
   "execution_count": 10,
   "metadata": {},
   "outputs": [
    {
     "name": "stdin",
     "output_type": "stream",
     "text": [
      "Position for analysis:  5.795005\n"
     ]
    },
    {
     "name": "stderr",
     "output_type": "stream",
     "text": [
      "Warning message in getsex(cross):\n",
      "\"125 individuals with missing sex; assuming they're female\"\n",
      "Warning message in fitqtlengine(pheno = pheno, qtl = qtl, covar = covar, formula = formula, :\n",
      "\"Dropping 74 individuals with missing phenotypes.\n",
      "\"\n",
      "Warning message in getsex(cross):\n",
      "\"125 individuals with missing sex; assuming they're female\"\n"
     ]
    },
    {
     "data": {
      "text/plain": [
       "\n",
       "\t\tfitqtl summary\n",
       "\n",
       "Method: Haley-Knott regression \n",
       "Model:  normal phenotype\n",
       "Number of observations : 220 \n",
       "\n",
       "Full model result\n",
       "----------------------------------  \n",
       "Model formula: y ~ Q1 \n",
       "\n",
       "       df         SS        MS      LOD     %var Pvalue(Chi2)  Pvalue(F)\n",
       "Model   1   4.391436 4.3914356 1.534091 3.160236  0.007861534 0.00822173\n",
       "Error 218 134.567655 0.6172828                                          \n",
       "Total 219 138.959091                                                    \n",
       "\n",
       "\n",
       "Estimated effects:\n",
       "-----------------\n",
       "               est       SE      t\n",
       "Intercept  1.28272  0.05299 24.208\n",
       "16@5.8    -0.28305  0.10612 -2.667\n"
      ]
     },
     "metadata": {},
     "output_type": "display_data"
    }
   ],
   "source": [
    "p <- as.numeric(readline(\"Position for analysis: \"))\n",
    "qtl <- makeqtl(Map, chr = chr, pos = p, what=\"prob\") #pulls genotype probabilities\n",
    "fitqtl <- fitqtl(Map, pheno.col=colNum, qtl = qtl, covar=NULL,\n",
    "       method= \"hk\",model=\"normal\",\n",
    "       dropone=TRUE, get.ests=TRUE,run.checks=TRUE,\n",
    "       tol=1e-4, maxit=1000, forceXcovar=FALSE) #sees how well our data fits a given formula \n",
    "          # If you see \"error: object of type 'closure' is not subsettable\", remove \"formula,\" from the fitqtl argument list.\n",
    "summary(fitqtl) #Print results of the analysis"
   ]
  },
  {
   "cell_type": "code",
   "execution_count": 11,
   "metadata": {},
   "outputs": [
    {
     "name": "stdout",
     "output_type": "stream",
     "text": [
      "[1] \"Make sure to input names AS THEY APPEAR on the csv!!\"\n"
     ]
    },
    {
     "name": "stdin",
     "output_type": "stream",
     "text": [
      "Enter file name (Either FemaleMap.csv or MaleMap.csv):  MaleMap.csv\n",
      "First Genotype (homozygous) (For example ll):  nn\n",
      "Second Genotype (heterozygous) (for example lm):  np\n",
      "Column Number:  38\n"
     ]
    }
   ],
   "source": [
    "#Collecting enviroment variables\n",
    "print(\"Make sure to input names AS THEY APPEAR on the csv!!\") #Just a user warning\n",
    "fileName <- readline(\"Enter file name (Either FemaleMap.csv or MaleMap.csv): \") #Mapping table file\n",
    "genotypeName <- c(readline(\"First Genotype (homozygous) (For example ll): \"),\n",
    "                  readline(\"Second Genotype (heterozygous) (for example lm): \")) #For example \"nn\", \"np\"\n",
    "alleleName <- c(substr(genotypeName[2],1,1) ,substr(genotypeName[2],2,2))\n",
    "naNames <- c(\"NA\",\"--\") #For example \"NA\", \"--\"\n",
    "colNum <- as.numeric(readline(\"Column Number: \")) #Column for pheno of interest"
   ]
  },
  {
   "cell_type": "code",
   "execution_count": 12,
   "metadata": {},
   "outputs": [
    {
     "name": "stdout",
     "output_type": "stream",
     "text": [
      " --Read the following data:\n",
      "\t 294  individuals\n",
      "\t 1128  markers\n",
      "\t 44  phenotypes\n"
     ]
    },
    {
     "name": "stderr",
     "output_type": "stream",
     "text": [
      "Warning message in summary.cross(cross):\n",
      "\"Some markers at the same position on chr 1,3,4,5,6,7,8,9,10,12,13,14,15,16,17,18,19; use jittermap().\"\n"
     ]
    },
    {
     "name": "stdout",
     "output_type": "stream",
     "text": [
      " --Cross type: bc \n"
     ]
    },
    {
     "data": {
      "image/png": "[encoded data removed]",
      "text/plain": [
       "Plot with title \"Genetic map\""
      ]
     },
     "metadata": {
      "image/png": {
       "height": 420,
       "width": 420
      },
      "text/plain": {
       "height": 420,
       "width": 420
      }
     },
     "output_type": "display_data"
    }
   ],
   "source": [
    "#Map generation\n",
    "Map <- read.cross(format = 'csv',file = fileName \n",
    "                  ,genotypes = genotypeName,\n",
    "                  alleles = alleleName,na.strings = naNames) #generate linkage map\n",
    "Map <- jittermap(Map) #make sure no markers are in the same location\n",
    "Map <- calc.genoprob(Map,step = 1,map.function = \"kosambi\") #associate markers with full genotypes\n",
    "plot.map(Map) #draw linkage map"
   ]
  },
  {
   "cell_type": "code",
   "execution_count": 13,
   "metadata": {},
   "outputs": [
    {
     "data": {
      "image/png": "[encoded data removed]",
      "text/plain": [
       "Plot with title \"\""
      ]
     },
     "metadata": {
      "image/png": {
       "height": 420,
       "width": 420
      },
      "text/plain": {
       "height": 420,
       "width": 420
      }
     },
     "output_type": "display_data"
    }
   ],
   "source": [
    "plotNormalHistogram(Map$pheno[,colNum]) #normal histogram of pheno of interest"
   ]
  },
  {
   "cell_type": "markdown",
   "metadata": {},
   "source": [
    "Outliers exist in this data. "
   ]
  },
  {
   "cell_type": "code",
   "execution_count": 14,
   "metadata": {},
   "outputs": [
    {
     "data": {
      "text/plain": [
       "LOD thresholds (1000 permutations)\n",
       "   [,1]\n",
       "5% 4.01\n",
       "1% 4.97"
      ]
     },
     "metadata": {},
     "output_type": "display_data"
    },
    {
     "data": {
      "image/png": "[encoded data removed]",
      "text/plain": [
       "Plot with title \"\""
      ]
     },
     "metadata": {
      "image/png": {
       "height": 420,
       "width": 420
      },
      "text/plain": {
       "height": 420,
       "width": 420
      }
     },
     "output_type": "display_data"
    }
   ],
   "source": [
    "#Compute statistically significant values\n",
    "TraitCIM1000 <- cim(Map,pheno.col = colNum,method = \"hk\",\n",
    "                    map.function = \"kosambi\",n.perm = 1000) # Function will take a moment to run, determines LOD value\n",
    "plot(TraitCIM1000,col = 'green') #show distribution of lod scores\n",
    "summary(TraitCIM1000,alpha=c(.05,.01))"
   ]
  },
  {
   "cell_type": "code",
   "execution_count": 19,
   "metadata": {},
   "outputs": [
    {
     "name": "stdout",
     "output_type": "stream",
     "text": [
      "[1] \"If nothing shows up, the values \\n      are below the LOD5 score\"\n"
     ]
    },
    {
     "data": {
      "text/html": [
       "<table>\n",
       "<caption>A summary.scanone: 19 × 3</caption>\n",
       "<thead>\n",
       "\t<tr><th></th><th scope=col>chr</th><th scope=col>pos</th><th scope=col>lod</th></tr>\n",
       "\t<tr><th></th><th scope=col>&lt;fct&gt;</th><th scope=col>&lt;dbl&gt;</th><th scope=col>&lt;dbl&gt;</th></tr>\n",
       "</thead>\n",
       "<tbody>\n",
       "\t<tr><th scope=row>1_24197159</th><td>1 </td><td>92.453061</td><td>1.2638290</td></tr>\n",
       "\t<tr><th scope=row>2_18456340</th><td>2 </td><td>76.731042</td><td>0.8038261</td></tr>\n",
       "\t<tr><th scope=row>16_9895528</th><td>3 </td><td>75.267055</td><td>2.4235206</td></tr>\n",
       "\t<tr><th scope=row>17_16544364</th><td>4 </td><td>46.981034</td><td>0.5202090</td></tr>\n",
       "\t<tr><th scope=row>c5.loc65</th><td>5 </td><td>65.000000</td><td>0.9479938</td></tr>\n",
       "\t<tr><th scope=row>6_11398108</th><td>6 </td><td>43.221031</td><td>0.8830285</td></tr>\n",
       "\t<tr><th scope=row>7_1430459</th><td>7 </td><td> 6.195009</td><td>0.4046035</td></tr>\n",
       "\t<tr><th scope=row>c8.loc34</th><td>8 </td><td>34.000000</td><td>1.3218800</td></tr>\n",
       "\t<tr><th scope=row>c9.loc61</th><td>9 </td><td>61.000000</td><td>0.8738143</td></tr>\n",
       "\t<tr><th scope=row>c10.loc3</th><td>10</td><td> 3.000000</td><td>0.5730462</td></tr>\n",
       "\t<tr><th scope=row>c11.loc37</th><td>11</td><td>37.000000</td><td>0.2148549</td></tr>\n",
       "\t<tr><th scope=row>c12.loc38</th><td>12</td><td>38.000000</td><td>1.1701680</td></tr>\n",
       "\t<tr><th scope=row>13_14835143</th><td>13</td><td>58.886037</td><td>0.6348675</td></tr>\n",
       "\t<tr><th scope=row>14_22579388</th><td>14</td><td>55.848057</td><td>1.4933656</td></tr>\n",
       "\t<tr><th scope=row>c15.loc26</th><td>15</td><td>26.000000</td><td>1.0094168</td></tr>\n",
       "\t<tr><th scope=row>c16.loc25</th><td>16</td><td>25.000000</td><td>1.3724106</td></tr>\n",
       "\t<tr><th scope=row>c17.loc72</th><td>17</td><td>72.000000</td><td>1.3751189</td></tr>\n",
       "\t<tr><th scope=row>c18.loc98</th><td>18</td><td>98.000000</td><td>1.2130520</td></tr>\n",
       "\t<tr><th scope=row>c19.loc64</th><td>19</td><td>64.000000</td><td>1.0566350</td></tr>\n",
       "</tbody>\n",
       "</table>\n"
      ],
      "text/latex": [
       "A summary.scanone: 19 × 3\n",
       "\\begin{tabular}{r|lll}\n",
       "  & chr & pos & lod\\\\\n",
       "  & <fct> & <dbl> & <dbl>\\\\\n",
       "\\hline\n",
       "\t1\\_24197159 & 1  & 92.453061 & 1.2638290\\\\\n",
       "\t2\\_18456340 & 2  & 76.731042 & 0.8038261\\\\\n",
       "\t16\\_9895528 & 3  & 75.267055 & 2.4235206\\\\\n",
       "\t17\\_16544364 & 4  & 46.981034 & 0.5202090\\\\\n",
       "\tc5.loc65 & 5  & 65.000000 & 0.9479938\\\\\n",
       "\t6\\_11398108 & 6  & 43.221031 & 0.8830285\\\\\n",
       "\t7\\_1430459 & 7  &  6.195009 & 0.4046035\\\\\n",
       "\tc8.loc34 & 8  & 34.000000 & 1.3218800\\\\\n",
       "\tc9.loc61 & 9  & 61.000000 & 0.8738143\\\\\n",
       "\tc10.loc3 & 10 &  3.000000 & 0.5730462\\\\\n",
       "\tc11.loc37 & 11 & 37.000000 & 0.2148549\\\\\n",
       "\tc12.loc38 & 12 & 38.000000 & 1.1701680\\\\\n",
       "\t13\\_14835143 & 13 & 58.886037 & 0.6348675\\\\\n",
       "\t14\\_22579388 & 14 & 55.848057 & 1.4933656\\\\\n",
       "\tc15.loc26 & 15 & 26.000000 & 1.0094168\\\\\n",
       "\tc16.loc25 & 16 & 25.000000 & 1.3724106\\\\\n",
       "\tc17.loc72 & 17 & 72.000000 & 1.3751189\\\\\n",
       "\tc18.loc98 & 18 & 98.000000 & 1.2130520\\\\\n",
       "\tc19.loc64 & 19 & 64.000000 & 1.0566350\\\\\n",
       "\\end{tabular}\n"
      ],
      "text/markdown": [
       "\n",
       "A summary.scanone: 19 × 3\n",
       "\n",
       "| <!--/--> | chr &lt;fct&gt; | pos &lt;dbl&gt; | lod &lt;dbl&gt; |\n",
       "|---|---|---|---|\n",
       "| 1_24197159 | 1  | 92.453061 | 1.2638290 |\n",
       "| 2_18456340 | 2  | 76.731042 | 0.8038261 |\n",
       "| 16_9895528 | 3  | 75.267055 | 2.4235206 |\n",
       "| 17_16544364 | 4  | 46.981034 | 0.5202090 |\n",
       "| c5.loc65 | 5  | 65.000000 | 0.9479938 |\n",
       "| 6_11398108 | 6  | 43.221031 | 0.8830285 |\n",
       "| 7_1430459 | 7  |  6.195009 | 0.4046035 |\n",
       "| c8.loc34 | 8  | 34.000000 | 1.3218800 |\n",
       "| c9.loc61 | 9  | 61.000000 | 0.8738143 |\n",
       "| c10.loc3 | 10 |  3.000000 | 0.5730462 |\n",
       "| c11.loc37 | 11 | 37.000000 | 0.2148549 |\n",
       "| c12.loc38 | 12 | 38.000000 | 1.1701680 |\n",
       "| 13_14835143 | 13 | 58.886037 | 0.6348675 |\n",
       "| 14_22579388 | 14 | 55.848057 | 1.4933656 |\n",
       "| c15.loc26 | 15 | 26.000000 | 1.0094168 |\n",
       "| c16.loc25 | 16 | 25.000000 | 1.3724106 |\n",
       "| c17.loc72 | 17 | 72.000000 | 1.3751189 |\n",
       "| c18.loc98 | 18 | 98.000000 | 1.2130520 |\n",
       "| c19.loc64 | 19 | 64.000000 | 1.0566350 |\n",
       "\n"
      ],
      "text/plain": [
       "            chr pos       lod      \n",
       "1_24197159  1   92.453061 1.2638290\n",
       "2_18456340  2   76.731042 0.8038261\n",
       "16_9895528  3   75.267055 2.4235206\n",
       "17_16544364 4   46.981034 0.5202090\n",
       "c5.loc65    5   65.000000 0.9479938\n",
       "6_11398108  6   43.221031 0.8830285\n",
       "7_1430459   7    6.195009 0.4046035\n",
       "c8.loc34    8   34.000000 1.3218800\n",
       "c9.loc61    9   61.000000 0.8738143\n",
       "c10.loc3    10   3.000000 0.5730462\n",
       "c11.loc37   11  37.000000 0.2148549\n",
       "c12.loc38   12  38.000000 1.1701680\n",
       "13_14835143 13  58.886037 0.6348675\n",
       "14_22579388 14  55.848057 1.4933656\n",
       "c15.loc26   15  26.000000 1.0094168\n",
       "c16.loc25   16  25.000000 1.3724106\n",
       "c17.loc72   17  72.000000 1.3751189\n",
       "c18.loc98   18  98.000000 1.2130520\n",
       "c19.loc64   19  64.000000 1.0566350"
      ]
     },
     "metadata": {},
     "output_type": "display_data"
    },
    {
     "data": {
      "image/png": "[encoded data removed]",
      "text/plain": [
       "plot without title"
      ]
     },
     "metadata": {
      "image/png": {
       "height": 420,
       "width": 420
      },
      "text/plain": {
       "height": 420,
       "width": 420
      }
     },
     "output_type": "display_data"
    }
   ],
   "source": [
    "#Deterime LOD Values\n",
    "TraitCIM<-cim(Map,pheno.col = colNum,method = \"hk\",\n",
    "              map.function = \"kosambi\") #Generate LOD Values\n",
    "plot(TraitCIM) #show LOD graph\n",
    "abline(h = LOD5,col = \"blue\") #overlay statistically significant line\n",
    "print(\"If nothing shows up, the values \n",
    "      are below the LOD5 score\") #warning for no peaks\n",
    "summary(TraitCIM)"
   ]
  },
  {
   "cell_type": "code",
   "execution_count": 20,
   "metadata": {},
   "outputs": [
    {
     "name": "stdin",
     "output_type": "stream",
     "text": [
      "Chromosome?  3\n"
     ]
    },
    {
     "data": {
      "image/png": "[encoded data removed]",
      "text/plain": [
       "plot without title"
      ]
     },
     "metadata": {
      "image/png": {
       "height": 420,
       "width": 420
      },
      "text/plain": {
       "height": 420,
       "width": 420
      }
     },
     "output_type": "display_data"
    }
   ],
   "source": [
    "#Chromosomal Analysis\n",
    "chr <- as.numeric(readline(\"Chromosome? \")) #collect chromosome to look at\n",
    "plot(TraitCIM, chr = chr,xlab = c(\"chr\",chr)) #Plot chr LOD scores\n",
    "abline(h = LOD5, col = \"blue\") #Statistically Significant"
   ]
  },
  {
   "cell_type": "code",
   "execution_count": 21,
   "metadata": {},
   "outputs": [
    {
     "data": {
      "text/html": [
       "<table>\n",
       "<caption>A scanone: 3 × 3</caption>\n",
       "<thead>\n",
       "\t<tr><th></th><th scope=col>chr</th><th scope=col>pos</th><th scope=col>lod</th></tr>\n",
       "\t<tr><th></th><th scope=col>&lt;fct&gt;</th><th scope=col>&lt;dbl&gt;</th><th scope=col>&lt;dbl&gt;</th></tr>\n",
       "</thead>\n",
       "<tbody>\n",
       "\t<tr><th scope=row>3_41385</th><td>3</td><td> 0.00000</td><td>0.1170969</td></tr>\n",
       "\t<tr><th scope=row>16_9895528 </th><td>3</td><td>75.26705</td><td>2.4235206</td></tr>\n",
       "\t<tr><th scope=row>16_9895528</th><td>3</td><td>75.26705</td><td>2.4235206</td></tr>\n",
       "</tbody>\n",
       "</table>\n"
      ],
      "text/latex": [
       "A scanone: 3 × 3\n",
       "\\begin{tabular}{r|lll}\n",
       "  & chr & pos & lod\\\\\n",
       "  & <fct> & <dbl> & <dbl>\\\\\n",
       "\\hline\n",
       "\t3\\_41385 & 3 &  0.00000 & 0.1170969\\\\\n",
       "\t16\\_9895528  & 3 & 75.26705 & 2.4235206\\\\\n",
       "\t16\\_9895528 & 3 & 75.26705 & 2.4235206\\\\\n",
       "\\end{tabular}\n"
      ],
      "text/markdown": [
       "\n",
       "A scanone: 3 × 3\n",
       "\n",
       "| <!--/--> | chr &lt;fct&gt; | pos &lt;dbl&gt; | lod &lt;dbl&gt; |\n",
       "|---|---|---|---|\n",
       "| 3_41385 | 3 |  0.00000 | 0.1170969 |\n",
       "| 16_9895528  | 3 | 75.26705 | 2.4235206 |\n",
       "| 16_9895528 | 3 | 75.26705 | 2.4235206 |\n",
       "\n"
      ],
      "text/plain": [
       "            chr pos      lod      \n",
       "3_41385     3    0.00000 0.1170969\n",
       "16_9895528  3   75.26705 2.4235206\n",
       "16_9895528  3   75.26705 2.4235206"
      ]
     },
     "metadata": {},
     "output_type": "display_data"
    },
    {
     "data": {
      "text/html": [
       "<table>\n",
       "<caption>A scanone: 3 × 3</caption>\n",
       "<thead>\n",
       "\t<tr><th></th><th scope=col>chr</th><th scope=col>pos</th><th scope=col>lod</th></tr>\n",
       "\t<tr><th></th><th scope=col>&lt;fct&gt;</th><th scope=col>&lt;dbl&gt;</th><th scope=col>&lt;dbl&gt;</th></tr>\n",
       "</thead>\n",
       "<tbody>\n",
       "\t<tr><th scope=row>3_9959283</th><td>3</td><td>54.61605</td><td>0.3935714</td></tr>\n",
       "\t<tr><th scope=row>16_9895528</th><td>3</td><td>75.26705</td><td>2.4235206</td></tr>\n",
       "\t<tr><th scope=row>16_9895528 </th><td>3</td><td>75.26705</td><td>2.4235206</td></tr>\n",
       "</tbody>\n",
       "</table>\n"
      ],
      "text/latex": [
       "A scanone: 3 × 3\n",
       "\\begin{tabular}{r|lll}\n",
       "  & chr & pos & lod\\\\\n",
       "  & <fct> & <dbl> & <dbl>\\\\\n",
       "\\hline\n",
       "\t3\\_9959283 & 3 & 54.61605 & 0.3935714\\\\\n",
       "\t16\\_9895528 & 3 & 75.26705 & 2.4235206\\\\\n",
       "\t16\\_9895528  & 3 & 75.26705 & 2.4235206\\\\\n",
       "\\end{tabular}\n"
      ],
      "text/markdown": [
       "\n",
       "A scanone: 3 × 3\n",
       "\n",
       "| <!--/--> | chr &lt;fct&gt; | pos &lt;dbl&gt; | lod &lt;dbl&gt; |\n",
       "|---|---|---|---|\n",
       "| 3_9959283 | 3 | 54.61605 | 0.3935714 |\n",
       "| 16_9895528 | 3 | 75.26705 | 2.4235206 |\n",
       "| 16_9895528  | 3 | 75.26705 | 2.4235206 |\n",
       "\n"
      ],
      "text/plain": [
       "            chr pos      lod      \n",
       "3_9959283   3   54.61605 0.3935714\n",
       "16_9895528  3   75.26705 2.4235206\n",
       "16_9895528  3   75.26705 2.4235206"
      ]
     },
     "metadata": {},
     "output_type": "display_data"
    }
   ],
   "source": [
    "bayesint(TraitCIM, chr = chr, prob=0.95, expandtomarkers=TRUE) #calculate bayesian interval\n",
    "lodint(TraitCIM, chr = chr,expandtomarkers = TRUE ) #calculate LOD Support interval"
   ]
  },
  {
   "cell_type": "code",
   "execution_count": 23,
   "metadata": {},
   "outputs": [
    {
     "name": "stdin",
     "output_type": "stream",
     "text": [
      "Position for analysis:  75.26705\n"
     ]
    },
    {
     "name": "stderr",
     "output_type": "stream",
     "text": [
      "Warning message in getsex(cross):\n",
      "\"125 individuals with missing sex; assuming they're female\"\n",
      "Warning message in fitqtlengine(pheno = pheno, qtl = qtl, covar = covar, formula = formula, :\n",
      "\"Dropping 74 individuals with missing phenotypes.\n",
      "\"\n",
      "Warning message in getsex(cross):\n",
      "\"125 individuals with missing sex; assuming they're female\"\n"
     ]
    },
    {
     "data": {
      "text/plain": [
       "\n",
       "\t\tfitqtl summary\n",
       "\n",
       "Method: Haley-Knott regression \n",
       "Model:  normal phenotype\n",
       "Number of observations : 220 \n",
       "\n",
       "Full model result\n",
       "----------------------------------  \n",
       "Model formula: y ~ Q1 \n",
       "\n",
       "       df         SS        MS     LOD     %var Pvalue(Chi2)   Pvalue(F)\n",
       "Model   1   5.957404 5.9574043 2.09328 4.287164  0.001903946 0.002020883\n",
       "Error 218 133.001687 0.6100995                                          \n",
       "Total 219 138.959091                                                    \n",
       "\n",
       "\n",
       "Estimated effects:\n",
       "-----------------\n",
       "               est       SE      t\n",
       "Intercept  1.28911  0.05267 24.476\n",
       "3@75.3    -0.33398  0.10688 -3.125\n"
      ]
     },
     "metadata": {},
     "output_type": "display_data"
    }
   ],
   "source": [
    "p <- as.numeric(readline(\"Position for analysis: \"))\n",
    "qtl <- makeqtl(Map, chr = chr, pos = p, what=\"prob\") #pulls genotype probabilities\n",
    "fitqtl <- fitqtl(Map, pheno.col=colNum, qtl = qtl, covar=NULL,\n",
    "       method= \"hk\",model=\"normal\",\n",
    "       dropone=TRUE, get.ests=TRUE,run.checks=TRUE,\n",
    "       tol=1e-4, maxit=1000, forceXcovar=FALSE) #sees how well our data fits a given formula \n",
    "          # If you see \"error: object of type 'closure' is not subsettable\", remove \"formula,\" from the fitqtl argument list.\n",
    "summary(fitqtl) #Print results of the analysis"
   ]
  },
  {
   "cell_type": "code",
   "execution_count": null,
   "metadata": {},
   "outputs": [],
   "source": []
  }
 ],
 "metadata": {
  "kernelspec": {
   "display_name": "R",
   "language": "R",
   "name": "ir"
  },
  "language_info": {
   "codemirror_mode": "r",
   "file_extension": ".r",
   "mimetype": "text/x-r-source",
   "name": "R",
   "pygments_lexer": "r",
   "version": "3.6.3"
  }
 },
 "nbformat": 4,
 "nbformat_minor": 4
}
