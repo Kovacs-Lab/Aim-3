{
 "cells": [
  {
   "cell_type": "markdown",
   "metadata": {},
   "source": [
    "This analysis is in the order of Female then Male"
   ]
  },
  {
   "cell_type": "code",
   "execution_count": 1,
   "metadata": {},
   "outputs": [
    {
     "name": "stderr",
     "output_type": "stream",
     "text": [
      "Installing package into 'C:/Users/Courtney/Documents/R/win-library/3.6'\n",
      "(as 'lib' is unspecified)\n",
      "\n"
     ]
    },
    {
     "name": "stdout",
     "output_type": "stream",
     "text": [
      "package 'qtl' successfully unpacked and MD5 sums checked\n",
      "\n",
      "The downloaded binary packages are in\n",
      "\tC:\\Users\\Courtney\\AppData\\Local\\Temp\\RtmpqQ9BqO\\downloaded_packages\n"
     ]
    },
    {
     "name": "stderr",
     "output_type": "stream",
     "text": [
      "Installing package into 'C:/Users/Courtney/Documents/R/win-library/3.6'\n",
      "(as 'lib' is unspecified)\n",
      "\n"
     ]
    },
    {
     "name": "stdout",
     "output_type": "stream",
     "text": [
      "package 'qtlcharts' successfully unpacked and MD5 sums checked\n",
      "\n",
      "The downloaded binary packages are in\n",
      "\tC:\\Users\\Courtney\\AppData\\Local\\Temp\\RtmpqQ9BqO\\downloaded_packages\n"
     ]
    },
    {
     "name": "stderr",
     "output_type": "stream",
     "text": [
      "Installing package into 'C:/Users/Courtney/Documents/R/win-library/3.6'\n",
      "(as 'lib' is unspecified)\n",
      "\n"
     ]
    },
    {
     "name": "stdout",
     "output_type": "stream",
     "text": [
      "package 'LinkageMapView' successfully unpacked and MD5 sums checked\n",
      "\n",
      "The downloaded binary packages are in\n",
      "\tC:\\Users\\Courtney\\AppData\\Local\\Temp\\RtmpqQ9BqO\\downloaded_packages\n"
     ]
    },
    {
     "name": "stderr",
     "output_type": "stream",
     "text": [
      "Installing package into 'C:/Users/Courtney/Documents/R/win-library/3.6'\n",
      "(as 'lib' is unspecified)\n",
      "\n"
     ]
    },
    {
     "name": "stdout",
     "output_type": "stream",
     "text": [
      "package 'rcompanion' successfully unpacked and MD5 sums checked\n",
      "\n",
      "The downloaded binary packages are in\n",
      "\tC:\\Users\\Courtney\\AppData\\Local\\Temp\\RtmpqQ9BqO\\downloaded_packages\n"
     ]
    }
   ],
   "source": [
    "install.packages('qtl') #Main package, for analysis\n",
    "install.packages('qtlcharts') #accessory, for displaying graphs\n",
    "install.packages('LinkageMapView') #accessory, for displaying linkage maps\n",
    "install.packages('rcompanion')# for plotNormalHistogram"
   ]
  },
  {
   "cell_type": "code",
   "execution_count": 2,
   "metadata": {},
   "outputs": [],
   "source": [
    "library(qtl) #load packages\n",
    "library(qtlcharts)\n",
    "library(LinkageMapView)\n",
    "library(rcompanion)"
   ]
  },
  {
   "cell_type": "code",
   "execution_count": 3,
   "metadata": {},
   "outputs": [
    {
     "name": "stdout",
     "output_type": "stream",
     "text": [
      "[1] \"Make sure to input names AS THEY APPEAR on the csv!!\"\n"
     ]
    },
    {
     "name": "stdin",
     "output_type": "stream",
     "text": [
      "Enter file name (Either FemaleMap.csv or MaleMap.csv):  FemaleMap.csv\n",
      "First Genotype (homozygous) (For example ll):  ll\n",
      "Second Genotype (heterozygous) (for example lm):  lm\n",
      "Column Number:  3\n"
     ]
    }
   ],
   "source": [
    "#Collecting enviroment variables\n",
    "print(\"Make sure to input names AS THEY APPEAR on the csv!!\") #Just a user warning\n",
    "fileName <- readline(\"Enter file name (Either FemaleMap.csv or MaleMap.csv): \") #Mapping table file\n",
    "genotypeName <- c(readline(\"First Genotype (homozygous) (For example ll): \"),\n",
    "                  readline(\"Second Genotype (heterozygous) (for example lm): \")) #For example \"nn\", \"np\"\n",
    "alleleName <- c(substr(genotypeName[2],1,1) ,substr(genotypeName[2],2,2))\n",
    "naNames <- c(\"NA\",\"--\") #For example \"NA\", \"--\"\n",
    "colNum <- as.numeric(readline(\"Column Number: \")) #Column for pheno of interest"
   ]
  },
  {
   "cell_type": "code",
   "execution_count": 4,
   "metadata": {},
   "outputs": [
    {
     "name": "stdout",
     "output_type": "stream",
     "text": [
      " --Read the following data:\n",
      "\t 294  individuals\n",
      "\t 1100  markers\n",
      "\t 44  phenotypes\n"
     ]
    },
    {
     "name": "stderr",
     "output_type": "stream",
     "text": [
      "Warning message in summary.cross(cross):\n",
      "\"Some markers at the same position on chr 1,2,4,5,7,8,9,10,11,12,13,14,16,17,18,19; use jittermap().\"\n"
     ]
    },
    {
     "name": "stdout",
     "output_type": "stream",
     "text": [
      " --Cross type: bc \n"
     ]
    },
    {
     "data": {
      "image/png": "[encoded data removed]",
      "text/plain": [
       "Plot with title \"Genetic map\""
      ]
     },
     "metadata": {
      "image/png": {
       "height": 420,
       "width": 420
      },
      "text/plain": {
       "height": 420,
       "width": 420
      }
     },
     "output_type": "display_data"
    }
   ],
   "source": [
    "#Map generation\n",
    "Map <- read.cross(format = 'csv',file = fileName \n",
    "                  ,genotypes = genotypeName,\n",
    "                  alleles = alleleName,na.strings = naNames) #generate linkage map\n",
    "Map <- jittermap(Map) #make sure no markers are in the same location\n",
    "Map <- calc.genoprob(Map,step = 1,map.function = \"kosambi\") #associate markers with full genotypes\n",
    "plot.map(Map) #draw linkage map"
   ]
  },
  {
   "cell_type": "code",
   "execution_count": 5,
   "metadata": {},
   "outputs": [
    {
     "data": {
      "image/png": "[encoded data removed]",
      "text/plain": [
       "Plot with title \"\""
      ]
     },
     "metadata": {
      "image/png": {
       "height": 420,
       "width": 420
      },
      "text/plain": {
       "height": 420,
       "width": 420
      }
     },
     "output_type": "display_data"
    }
   ],
   "source": [
    "plotNormalHistogram(Map$pheno[,colNum]) #normal histogram of pheno of interest"
   ]
  },
  {
   "cell_type": "markdown",
   "metadata": {},
   "source": [
    "Outliers exist in this dataset. Will need to be analyized. "
   ]
  },
  {
   "cell_type": "code",
   "execution_count": 6,
   "metadata": {},
   "outputs": [
    {
     "data": {
      "text/plain": [
       "LOD thresholds (1000 permutations)\n",
       "   [,1]\n",
       "5% 4.35\n",
       "1% 5.15"
      ]
     },
     "metadata": {},
     "output_type": "display_data"
    },
    {
     "data": {
      "image/png": "[encoded data removed]",
      "text/plain": [
       "Plot with title \"\""
      ]
     },
     "metadata": {
      "image/png": {
       "height": 420,
       "width": 420
      },
      "text/plain": {
       "height": 420,
       "width": 420
      }
     },
     "output_type": "display_data"
    }
   ],
   "source": [
    "#Compute statistically significant values\n",
    "TraitCIM1000 <- cim(Map,pheno.col = colNum,method = \"hk\",\n",
    "                    map.function = \"kosambi\",n.perm = 1000) # Function will take a moment to run, determines LOD value\n",
    "plot(TraitCIM1000,col = 'green') #show distribution of lod scores\n",
    "summary(TraitCIM1000,alpha=c(.05,.01))"
   ]
  },
  {
   "cell_type": "code",
   "execution_count": 15,
   "metadata": {},
   "outputs": [
    {
     "name": "stdout",
     "output_type": "stream",
     "text": [
      "[1] \"If nothing shows up, the values \\n      are below the LOD5 score\"\n"
     ]
    },
    {
     "data": {
      "text/html": [
       "<table>\n",
       "<caption>A summary.scanone: 19 × 3</caption>\n",
       "<thead>\n",
       "\t<tr><th></th><th scope=col>chr</th><th scope=col>pos</th><th scope=col>lod</th></tr>\n",
       "\t<tr><th></th><th scope=col>&lt;fct&gt;</th><th scope=col>&lt;dbl&gt;</th><th scope=col>&lt;dbl&gt;</th></tr>\n",
       "</thead>\n",
       "<tbody>\n",
       "\t<tr><th scope=row>1_1388796</th><td>1 </td><td> 7.099008</td><td> 0.4972434</td></tr>\n",
       "\t<tr><th scope=row>2_3835305</th><td>2 </td><td>35.226015</td><td> 0.1182285</td></tr>\n",
       "\t<tr><th scope=row>c3.loc23</th><td>3 </td><td>23.000000</td><td> 0.6610933</td></tr>\n",
       "\t<tr><th scope=row>c4.loc55</th><td>4 </td><td>55.000000</td><td> 0.9492950</td></tr>\n",
       "\t<tr><th scope=row>5_21771573</th><td>5 </td><td>61.534045</td><td> 3.5480058</td></tr>\n",
       "\t<tr><th scope=row>c6.loc26</th><td>6 </td><td>26.000000</td><td> 0.8939917</td></tr>\n",
       "\t<tr><th scope=row>7_6652023</th><td>7 </td><td>28.577030</td><td> 0.8357675</td></tr>\n",
       "\t<tr><th scope=row>8_20877285</th><td>8 </td><td>73.891058</td><td> 0.8714529</td></tr>\n",
       "\t<tr><th scope=row>c9.loc13</th><td>9 </td><td>13.000000</td><td> 1.1752925</td></tr>\n",
       "\t<tr><th scope=row>17_17189484</th><td>10</td><td> 8.281005</td><td>20.4571279</td></tr>\n",
       "\t<tr><th scope=row>11_3203201</th><td>11</td><td> 9.604011</td><td> 0.7413451</td></tr>\n",
       "\t<tr><th scope=row>c12.loc45</th><td>12</td><td>45.000000</td><td> 1.3845725</td></tr>\n",
       "\t<tr><th scope=row>c13.loc41</th><td>13</td><td>41.000000</td><td> 0.8428776</td></tr>\n",
       "\t<tr><th scope=row>c14.loc42</th><td>14</td><td>42.000000</td><td> 0.4567844</td></tr>\n",
       "\t<tr><th scope=row>4_2353337</th><td>15</td><td> 7.420012</td><td> 0.2705841</td></tr>\n",
       "\t<tr><th scope=row>16_22987098</th><td>16</td><td>60.148046</td><td> 1.4798712</td></tr>\n",
       "\t<tr><th scope=row>c17.loc61</th><td>17</td><td>61.000000</td><td> 0.5319801</td></tr>\n",
       "\t<tr><th scope=row>18_6314445</th><td>18</td><td>23.894024</td><td> 1.7032329</td></tr>\n",
       "\t<tr><th scope=row>c19.loc55</th><td>19</td><td>55.000000</td><td> 1.0939063</td></tr>\n",
       "</tbody>\n",
       "</table>\n"
      ],
      "text/latex": [
       "A summary.scanone: 19 × 3\n",
       "\\begin{tabular}{r|lll}\n",
       "  & chr & pos & lod\\\\\n",
       "  & <fct> & <dbl> & <dbl>\\\\\n",
       "\\hline\n",
       "\t1\\_1388796 & 1  &  7.099008 &  0.4972434\\\\\n",
       "\t2\\_3835305 & 2  & 35.226015 &  0.1182285\\\\\n",
       "\tc3.loc23 & 3  & 23.000000 &  0.6610933\\\\\n",
       "\tc4.loc55 & 4  & 55.000000 &  0.9492950\\\\\n",
       "\t5\\_21771573 & 5  & 61.534045 &  3.5480058\\\\\n",
       "\tc6.loc26 & 6  & 26.000000 &  0.8939917\\\\\n",
       "\t7\\_6652023 & 7  & 28.577030 &  0.8357675\\\\\n",
       "\t8\\_20877285 & 8  & 73.891058 &  0.8714529\\\\\n",
       "\tc9.loc13 & 9  & 13.000000 &  1.1752925\\\\\n",
       "\t17\\_17189484 & 10 &  8.281005 & 20.4571279\\\\\n",
       "\t11\\_3203201 & 11 &  9.604011 &  0.7413451\\\\\n",
       "\tc12.loc45 & 12 & 45.000000 &  1.3845725\\\\\n",
       "\tc13.loc41 & 13 & 41.000000 &  0.8428776\\\\\n",
       "\tc14.loc42 & 14 & 42.000000 &  0.4567844\\\\\n",
       "\t4\\_2353337 & 15 &  7.420012 &  0.2705841\\\\\n",
       "\t16\\_22987098 & 16 & 60.148046 &  1.4798712\\\\\n",
       "\tc17.loc61 & 17 & 61.000000 &  0.5319801\\\\\n",
       "\t18\\_6314445 & 18 & 23.894024 &  1.7032329\\\\\n",
       "\tc19.loc55 & 19 & 55.000000 &  1.0939063\\\\\n",
       "\\end{tabular}\n"
      ],
      "text/markdown": [
       "\n",
       "A summary.scanone: 19 × 3\n",
       "\n",
       "| <!--/--> | chr &lt;fct&gt; | pos &lt;dbl&gt; | lod &lt;dbl&gt; |\n",
       "|---|---|---|---|\n",
       "| 1_1388796 | 1  |  7.099008 |  0.4972434 |\n",
       "| 2_3835305 | 2  | 35.226015 |  0.1182285 |\n",
       "| c3.loc23 | 3  | 23.000000 |  0.6610933 |\n",
       "| c4.loc55 | 4  | 55.000000 |  0.9492950 |\n",
       "| 5_21771573 | 5  | 61.534045 |  3.5480058 |\n",
       "| c6.loc26 | 6  | 26.000000 |  0.8939917 |\n",
       "| 7_6652023 | 7  | 28.577030 |  0.8357675 |\n",
       "| 8_20877285 | 8  | 73.891058 |  0.8714529 |\n",
       "| c9.loc13 | 9  | 13.000000 |  1.1752925 |\n",
       "| 17_17189484 | 10 |  8.281005 | 20.4571279 |\n",
       "| 11_3203201 | 11 |  9.604011 |  0.7413451 |\n",
       "| c12.loc45 | 12 | 45.000000 |  1.3845725 |\n",
       "| c13.loc41 | 13 | 41.000000 |  0.8428776 |\n",
       "| c14.loc42 | 14 | 42.000000 |  0.4567844 |\n",
       "| 4_2353337 | 15 |  7.420012 |  0.2705841 |\n",
       "| 16_22987098 | 16 | 60.148046 |  1.4798712 |\n",
       "| c17.loc61 | 17 | 61.000000 |  0.5319801 |\n",
       "| 18_6314445 | 18 | 23.894024 |  1.7032329 |\n",
       "| c19.loc55 | 19 | 55.000000 |  1.0939063 |\n",
       "\n"
      ],
      "text/plain": [
       "            chr pos       lod       \n",
       "1_1388796   1    7.099008  0.4972434\n",
       "2_3835305   2   35.226015  0.1182285\n",
       "c3.loc23    3   23.000000  0.6610933\n",
       "c4.loc55    4   55.000000  0.9492950\n",
       "5_21771573  5   61.534045  3.5480058\n",
       "c6.loc26    6   26.000000  0.8939917\n",
       "7_6652023   7   28.577030  0.8357675\n",
       "8_20877285  8   73.891058  0.8714529\n",
       "c9.loc13    9   13.000000  1.1752925\n",
       "17_17189484 10   8.281005 20.4571279\n",
       "11_3203201  11   9.604011  0.7413451\n",
       "c12.loc45   12  45.000000  1.3845725\n",
       "c13.loc41   13  41.000000  0.8428776\n",
       "c14.loc42   14  42.000000  0.4567844\n",
       "4_2353337   15   7.420012  0.2705841\n",
       "16_22987098 16  60.148046  1.4798712\n",
       "c17.loc61   17  61.000000  0.5319801\n",
       "18_6314445  18  23.894024  1.7032329\n",
       "c19.loc55   19  55.000000  1.0939063"
      ]
     },
     "metadata": {},
     "output_type": "display_data"
    },
    {
     "data": {
      "image/png": "[encoded data removed]",
      "text/plain": [
       "plot without title"
      ]
     },
     "metadata": {
      "image/png": {
       "height": 420,
       "width": 420
      },
      "text/plain": {
       "height": 420,
       "width": 420
      }
     },
     "output_type": "display_data"
    }
   ],
   "source": [
    "#Deterime LOD Values\n",
    "LOD5 <- summary(TraitCIM1000,alpha=c(.05))\n",
    "TraitCIM<-cim(Map,pheno.col = colNum,method = \"hk\",\n",
    "              map.function = \"kosambi\") #Generate LOD Values\n",
    "plot(TraitCIM) #show LOD graph\n",
    "abline(h = LOD5,col = \"blue\") #overlay statistically significant line\n",
    "print(\"If nothing shows up, the values \n",
    "      are below the LOD5 score\") #warning for no peaks\n",
    "summary(TraitCIM)\n",
    "write.csv(TraitCIM,\"PHENOTYPE_table.csv\")"
   ]
  },
  {
   "cell_type": "code",
   "execution_count": 14,
   "metadata": {},
   "outputs": [
    {
     "name": "stdin",
     "output_type": "stream",
     "text": [
      "Chromosome?  14\n"
     ]
    },
    {
     "data": {
      "image/png": "[encoded data removed]",
      "text/plain": [
       "plot without title"
      ]
     },
     "metadata": {
      "image/png": {
       "height": 420,
       "width": 420
      },
      "text/plain": {
       "height": 420,
       "width": 420
      }
     },
     "output_type": "display_data"
    }
   ],
   "source": [
    "#Chromosomal Analysis\n",
    "chr <- as.numeric(readline(\"Chromosome? \")) #collect chromosome to look at\n",
    "plot(TraitCIM, chr = chr,xlab = c(\"chr\",chr)) #Plot chr LOD scores\n",
    "abline(h = LOD5, col = \"blue\") #Statistically Significant"
   ]
  },
  {
   "cell_type": "code",
   "execution_count": 12,
   "metadata": {},
   "outputs": [
    {
     "data": {
      "text/html": [
       "<table>\n",
       "<caption>A scanone: 3 × 3</caption>\n",
       "<thead>\n",
       "\t<tr><th></th><th scope=col>chr</th><th scope=col>pos</th><th scope=col>lod</th></tr>\n",
       "\t<tr><th></th><th scope=col>&lt;fct&gt;</th><th scope=col>&lt;dbl&gt;</th><th scope=col>&lt;dbl&gt;</th></tr>\n",
       "</thead>\n",
       "<tbody>\n",
       "\t<tr><th scope=row>18_324293</th><td>18</td><td>  0.00000</td><td>0.09424137</td></tr>\n",
       "\t<tr><th scope=row>18_6314445</th><td>18</td><td> 23.89402</td><td>1.66906645</td></tr>\n",
       "\t<tr><th scope=row>10_20190838</th><td>18</td><td>108.92308</td><td>0.10922077</td></tr>\n",
       "</tbody>\n",
       "</table>\n"
      ],
      "text/latex": [
       "A scanone: 3 × 3\n",
       "\\begin{tabular}{r|lll}\n",
       "  & chr & pos & lod\\\\\n",
       "  & <fct> & <dbl> & <dbl>\\\\\n",
       "\\hline\n",
       "\t18\\_324293 & 18 &   0.00000 & 0.09424137\\\\\n",
       "\t18\\_6314445 & 18 &  23.89402 & 1.66906645\\\\\n",
       "\t10\\_20190838 & 18 & 108.92308 & 0.10922077\\\\\n",
       "\\end{tabular}\n"
      ],
      "text/markdown": [
       "\n",
       "A scanone: 3 × 3\n",
       "\n",
       "| <!--/--> | chr &lt;fct&gt; | pos &lt;dbl&gt; | lod &lt;dbl&gt; |\n",
       "|---|---|---|---|\n",
       "| 18_324293 | 18 |   0.00000 | 0.09424137 |\n",
       "| 18_6314445 | 18 |  23.89402 | 1.66906645 |\n",
       "| 10_20190838 | 18 | 108.92308 | 0.10922077 |\n",
       "\n"
      ],
      "text/plain": [
       "            chr pos       lod       \n",
       "18_324293   18    0.00000 0.09424137\n",
       "18_6314445  18   23.89402 1.66906645\n",
       "10_20190838 18  108.92308 0.10922077"
      ]
     },
     "metadata": {},
     "output_type": "display_data"
    },
    {
     "data": {
      "text/html": [
       "<table>\n",
       "<caption>A scanone: 3 × 3</caption>\n",
       "<thead>\n",
       "\t<tr><th></th><th scope=col>chr</th><th scope=col>pos</th><th scope=col>lod</th></tr>\n",
       "\t<tr><th></th><th scope=col>&lt;fct&gt;</th><th scope=col>&lt;dbl&gt;</th><th scope=col>&lt;dbl&gt;</th></tr>\n",
       "</thead>\n",
       "<tbody>\n",
       "\t<tr><th scope=row>18_579797</th><td>18</td><td> 1.714001</td><td>0.08884515</td></tr>\n",
       "\t<tr><th scope=row>18_6314445</th><td>18</td><td>23.894024</td><td>1.66906645</td></tr>\n",
       "\t<tr><th scope=row>18_33541595</th><td>18</td><td>94.293074</td><td>0.05200806</td></tr>\n",
       "</tbody>\n",
       "</table>\n"
      ],
      "text/latex": [
       "A scanone: 3 × 3\n",
       "\\begin{tabular}{r|lll}\n",
       "  & chr & pos & lod\\\\\n",
       "  & <fct> & <dbl> & <dbl>\\\\\n",
       "\\hline\n",
       "\t18\\_579797 & 18 &  1.714001 & 0.08884515\\\\\n",
       "\t18\\_6314445 & 18 & 23.894024 & 1.66906645\\\\\n",
       "\t18\\_33541595 & 18 & 94.293074 & 0.05200806\\\\\n",
       "\\end{tabular}\n"
      ],
      "text/markdown": [
       "\n",
       "A scanone: 3 × 3\n",
       "\n",
       "| <!--/--> | chr &lt;fct&gt; | pos &lt;dbl&gt; | lod &lt;dbl&gt; |\n",
       "|---|---|---|---|\n",
       "| 18_579797 | 18 |  1.714001 | 0.08884515 |\n",
       "| 18_6314445 | 18 | 23.894024 | 1.66906645 |\n",
       "| 18_33541595 | 18 | 94.293074 | 0.05200806 |\n",
       "\n"
      ],
      "text/plain": [
       "            chr pos       lod       \n",
       "18_579797   18   1.714001 0.08884515\n",
       "18_6314445  18  23.894024 1.66906645\n",
       "18_33541595 18  94.293074 0.05200806"
      ]
     },
     "metadata": {},
     "output_type": "display_data"
    }
   ],
   "source": [
    "bayesint(TraitCIM, chr = chr, prob=0.95, expandtomarkers=TRUE) #calculate bayesian interval\n",
    "lodint(TraitCIM, chr = chr,expandtomarkers = TRUE ) #calculate LOD Support interval"
   ]
  },
  {
   "cell_type": "code",
   "execution_count": 13,
   "metadata": {},
   "outputs": [
    {
     "name": "stdin",
     "output_type": "stream",
     "text": [
      "Position for analysis:  23.894024\n"
     ]
    },
    {
     "name": "stderr",
     "output_type": "stream",
     "text": [
      "Warning message in getsex(cross):\n",
      "\"125 individuals with missing sex; assuming they're female\"\n",
      "Warning message in fitqtlengine(pheno = pheno, qtl = qtl, covar = covar, formula = formula, :\n",
      "\"Dropping 158 individuals with missing phenotypes.\n",
      "\"\n",
      "Warning message in getsex(cross):\n",
      "\"125 individuals with missing sex; assuming they're female\"\n"
     ]
    },
    {
     "data": {
      "text/plain": [
       "\n",
       "\t\tfitqtl summary\n",
       "\n",
       "Method: Haley-Knott regression \n",
       "Model:  normal phenotype\n",
       "Number of observations : 136 \n",
       "\n",
       "Full model result\n",
       "----------------------------------  \n",
       "Model formula: y ~ Q1 \n",
       "\n",
       "       df         SS        MS      LOD     %var Pvalue(Chi2) Pvalue(F)\n",
       "Model   1   12.78388 12.783878 0.293551 0.989085    0.2449546 0.2493369\n",
       "Error 134 1279.71152  9.550086                                         \n",
       "Total 135 1292.49539                                                   \n",
       "\n",
       "\n",
       "Estimated effects:\n",
       "-----------------\n",
       "             est     SE      t\n",
       "Intercept 6.1361 0.2681 22.887\n",
       "18@23.9   0.8358 0.7224  1.157\n"
      ]
     },
     "metadata": {},
     "output_type": "display_data"
    }
   ],
   "source": [
    "p <- as.numeric(readline(\"Position for analysis: \"))\n",
    "qtl <- makeqtl(Map, chr = chr, pos = p, what=\"prob\") #pulls genotype probabilities\n",
    "fitqtl <- fitqtl(Map, pheno.col=colNum, qtl = qtl, covar=NULL,\n",
    "       method= \"hk\",model=\"normal\",\n",
    "       dropone=TRUE, get.ests=TRUE,run.checks=TRUE,\n",
    "       tol=1e-4, maxit=1000, forceXcovar=FALSE) #sees how well our data fits a given formula \n",
    "          # If you see \"error: object of type 'closure' is not subsettable\", remove \"formula,\" from the fitqtl argument list.\n",
    "summary(fitqtl) #Print results of the analysis"
   ]
  },
  {
   "cell_type": "code",
   "execution_count": 11,
   "metadata": {},
   "outputs": [
    {
     "name": "stdout",
     "output_type": "stream",
     "text": [
      "[1] \"Make sure to input names AS THEY APPEAR on the csv!!\"\n"
     ]
    },
    {
     "name": "stdin",
     "output_type": "stream",
     "text": [
      "Enter file name (Either FemaleMap.csv or MaleMap.csv):  MaleMap.csv\n",
      "First Genotype (homozygous) (For example ll):  nn\n",
      "Second Genotype (heterozygous) (for example lm):  np\n",
      "Column Number:  3\n"
     ]
    }
   ],
   "source": [
    "#Collecting enviroment variables\n",
    "print(\"Make sure to input names AS THEY APPEAR on the csv!!\") #Just a user warning\n",
    "fileName <- readline(\"Enter file name (Either FemaleMap.csv or MaleMap.csv): \") #Mapping table file\n",
    "genotypeName <- c(readline(\"First Genotype (homozygous) (For example ll): \"),\n",
    "                  readline(\"Second Genotype (heterozygous) (for example lm): \")) #For example \"nn\", \"np\"\n",
    "alleleName <- c(substr(genotypeName[2],1,1) ,substr(genotypeName[2],2,2))\n",
    "naNames <- c(\"NA\",\"--\") #For example \"NA\", \"--\"\n",
    "colNum <- as.numeric(readline(\"Column Number: \")) #Column for pheno of interest"
   ]
  },
  {
   "cell_type": "code",
   "execution_count": 12,
   "metadata": {},
   "outputs": [
    {
     "name": "stdout",
     "output_type": "stream",
     "text": [
      " --Read the following data:\n",
      "\t 294  individuals\n",
      "\t 1128  markers\n",
      "\t 38  phenotypes\n"
     ]
    },
    {
     "name": "stderr",
     "output_type": "stream",
     "text": [
      "Warning message in summary.cross(cross):\n",
      "\"Some markers at the same position on chr 1,3,4,5,6,7,8,9,10,12,13,14,15,16,17,18,19; use jittermap().\"\n"
     ]
    },
    {
     "name": "stdout",
     "output_type": "stream",
     "text": [
      " --Cross type: bc \n"
     ]
    },
    {
     "data": {
      "image/png": "[encoded data removed]",
      "text/plain": [
       "Plot with title \"Genetic map\""
      ]
     },
     "metadata": {
      "image/png": {
       "height": 420,
       "width": 420
      },
      "text/plain": {
       "height": 420,
       "width": 420
      }
     },
     "output_type": "display_data"
    }
   ],
   "source": [
    "#Map generation\n",
    "Map <- read.cross(format = 'csv',file = fileName \n",
    "                  ,genotypes = genotypeName,\n",
    "                  alleles = alleleName,na.strings = naNames) #generate linkage map\n",
    "Map <- jittermap(Map) #make sure no markers are in the same location\n",
    "Map <- calc.genoprob(Map,step = 1,map.function = \"kosambi\") #associate markers with full genotypes\n",
    "plot.map(Map) #draw linkage map"
   ]
  },
  {
   "cell_type": "code",
   "execution_count": 13,
   "metadata": {},
   "outputs": [
    {
     "data": {
      "image/png": "[encoded data removed]",
      "text/plain": [
       "Plot with title \"\""
      ]
     },
     "metadata": {
      "image/png": {
       "height": 420,
       "width": 420
      },
      "text/plain": {
       "height": 420,
       "width": 420
      }
     },
     "output_type": "display_data"
    }
   ],
   "source": [
    "plotNormalHistogram(Map$pheno[,colNum]) #normal histogram of pheno of interest"
   ]
  },
  {
   "cell_type": "markdown",
   "metadata": {},
   "source": [
    "Outliers exist in this data. "
   ]
  },
  {
   "cell_type": "code",
   "execution_count": 14,
   "metadata": {},
   "outputs": [
    {
     "data": {
      "text/plain": [
       "LOD thresholds (1000 permutations)\n",
       "   [,1]\n",
       "5% 4.51\n",
       "1% 5.43"
      ]
     },
     "metadata": {},
     "output_type": "display_data"
    },
    {
     "data": {
      "image/png": "[encoded data removed]",
      "text/plain": [
       "Plot with title \"\""
      ]
     },
     "metadata": {
      "image/png": {
       "height": 420,
       "width": 420
      },
      "text/plain": {
       "height": 420,
       "width": 420
      }
     },
     "output_type": "display_data"
    }
   ],
   "source": [
    "#Compute statistically significant values\n",
    "TraitCIM1000 <- cim(Map,pheno.col = colNum,method = \"hk\",\n",
    "                    map.function = \"kosambi\",n.perm = 1000) # Function will take a moment to run, determines LOD value\n",
    "plot(TraitCIM1000,col = 'green') #show distribution of lod scores\n",
    "summary(TraitCIM1000,alpha=c(.05,.01))"
   ]
  },
  {
   "cell_type": "code",
   "execution_count": 15,
   "metadata": {},
   "outputs": [
    {
     "name": "stdout",
     "output_type": "stream",
     "text": [
      "[1] \"If nothing shows up, the values \\n      are below the LOD5 score\"\n"
     ]
    },
    {
     "data": {
      "text/html": [
       "<table>\n",
       "<caption>A summary.scanone: 19 × 3</caption>\n",
       "<thead>\n",
       "\t<tr><th></th><th scope=col>chr</th><th scope=col>pos</th><th scope=col>lod</th></tr>\n",
       "\t<tr><th></th><th scope=col>&lt;fct&gt;</th><th scope=col>&lt;dbl&gt;</th><th scope=col>&lt;dbl&gt;</th></tr>\n",
       "</thead>\n",
       "<tbody>\n",
       "\t<tr><th scope=row>c1.loc83</th><td>1 </td><td>83.00000</td><td>0.5129564</td></tr>\n",
       "\t<tr><th scope=row>c2.loc14</th><td>2 </td><td>14.00000</td><td>1.2027496</td></tr>\n",
       "\t<tr><th scope=row>16_9895528</th><td>3 </td><td>75.26705</td><td>0.5564929</td></tr>\n",
       "\t<tr><th scope=row>7_19909323</th><td>4 </td><td>71.05905</td><td>1.4673715</td></tr>\n",
       "\t<tr><th scope=row>c5.loc53</th><td>5 </td><td>53.00000</td><td>1.2699836</td></tr>\n",
       "\t<tr><th scope=row>c6.loc66</th><td>6 </td><td>66.00000</td><td>0.8215154</td></tr>\n",
       "\t<tr><th scope=row>c7.loc56</th><td>7 </td><td>56.00000</td><td>2.2224805</td></tr>\n",
       "\t<tr><th scope=row>8_11656031</th><td>8 </td><td>36.09402</td><td>1.7216995</td></tr>\n",
       "\t<tr><th scope=row>c9.loc37</th><td>9 </td><td>37.00000</td><td>1.1927533</td></tr>\n",
       "\t<tr><th scope=row>10_710185</th><td>10</td><td> 0.00000</td><td>3.7256481</td></tr>\n",
       "\t<tr><th scope=row>c11.loc14</th><td>11</td><td>14.00000</td><td>0.3768929</td></tr>\n",
       "\t<tr><th scope=row>c12.loc27</th><td>12</td><td>27.00000</td><td>0.9269323</td></tr>\n",
       "\t<tr><th scope=row>c13.loc2</th><td>13</td><td> 2.00000</td><td>0.5739471</td></tr>\n",
       "\t<tr><th scope=row>14_27233177</th><td>14</td><td>48.92605</td><td>0.5574124</td></tr>\n",
       "\t<tr><th scope=row>4_6943168</th><td>15</td><td>87.51705</td><td>2.3604335</td></tr>\n",
       "\t<tr><th scope=row>18_33757550</th><td>16</td><td>64.89503</td><td>2.1058920</td></tr>\n",
       "\t<tr><th scope=row>c17.loc43</th><td>17</td><td>43.00000</td><td>0.4617229</td></tr>\n",
       "\t<tr><th scope=row>c18.loc53</th><td>18</td><td>53.00000</td><td>1.5525484</td></tr>\n",
       "\t<tr><th scope=row>c19.loc63</th><td>19</td><td>63.00000</td><td>1.6020187</td></tr>\n",
       "</tbody>\n",
       "</table>\n"
      ],
      "text/latex": [
       "A summary.scanone: 19 × 3\n",
       "\\begin{tabular}{r|lll}\n",
       "  & chr & pos & lod\\\\\n",
       "  & <fct> & <dbl> & <dbl>\\\\\n",
       "\\hline\n",
       "\tc1.loc83 & 1  & 83.00000 & 0.5129564\\\\\n",
       "\tc2.loc14 & 2  & 14.00000 & 1.2027496\\\\\n",
       "\t16\\_9895528 & 3  & 75.26705 & 0.5564929\\\\\n",
       "\t7\\_19909323 & 4  & 71.05905 & 1.4673715\\\\\n",
       "\tc5.loc53 & 5  & 53.00000 & 1.2699836\\\\\n",
       "\tc6.loc66 & 6  & 66.00000 & 0.8215154\\\\\n",
       "\tc7.loc56 & 7  & 56.00000 & 2.2224805\\\\\n",
       "\t8\\_11656031 & 8  & 36.09402 & 1.7216995\\\\\n",
       "\tc9.loc37 & 9  & 37.00000 & 1.1927533\\\\\n",
       "\t10\\_710185 & 10 &  0.00000 & 3.7256481\\\\\n",
       "\tc11.loc14 & 11 & 14.00000 & 0.3768929\\\\\n",
       "\tc12.loc27 & 12 & 27.00000 & 0.9269323\\\\\n",
       "\tc13.loc2 & 13 &  2.00000 & 0.5739471\\\\\n",
       "\t14\\_27233177 & 14 & 48.92605 & 0.5574124\\\\\n",
       "\t4\\_6943168 & 15 & 87.51705 & 2.3604335\\\\\n",
       "\t18\\_33757550 & 16 & 64.89503 & 2.1058920\\\\\n",
       "\tc17.loc43 & 17 & 43.00000 & 0.4617229\\\\\n",
       "\tc18.loc53 & 18 & 53.00000 & 1.5525484\\\\\n",
       "\tc19.loc63 & 19 & 63.00000 & 1.6020187\\\\\n",
       "\\end{tabular}\n"
      ],
      "text/markdown": [
       "\n",
       "A summary.scanone: 19 × 3\n",
       "\n",
       "| <!--/--> | chr &lt;fct&gt; | pos &lt;dbl&gt; | lod &lt;dbl&gt; |\n",
       "|---|---|---|---|\n",
       "| c1.loc83 | 1  | 83.00000 | 0.5129564 |\n",
       "| c2.loc14 | 2  | 14.00000 | 1.2027496 |\n",
       "| 16_9895528 | 3  | 75.26705 | 0.5564929 |\n",
       "| 7_19909323 | 4  | 71.05905 | 1.4673715 |\n",
       "| c5.loc53 | 5  | 53.00000 | 1.2699836 |\n",
       "| c6.loc66 | 6  | 66.00000 | 0.8215154 |\n",
       "| c7.loc56 | 7  | 56.00000 | 2.2224805 |\n",
       "| 8_11656031 | 8  | 36.09402 | 1.7216995 |\n",
       "| c9.loc37 | 9  | 37.00000 | 1.1927533 |\n",
       "| 10_710185 | 10 |  0.00000 | 3.7256481 |\n",
       "| c11.loc14 | 11 | 14.00000 | 0.3768929 |\n",
       "| c12.loc27 | 12 | 27.00000 | 0.9269323 |\n",
       "| c13.loc2 | 13 |  2.00000 | 0.5739471 |\n",
       "| 14_27233177 | 14 | 48.92605 | 0.5574124 |\n",
       "| 4_6943168 | 15 | 87.51705 | 2.3604335 |\n",
       "| 18_33757550 | 16 | 64.89503 | 2.1058920 |\n",
       "| c17.loc43 | 17 | 43.00000 | 0.4617229 |\n",
       "| c18.loc53 | 18 | 53.00000 | 1.5525484 |\n",
       "| c19.loc63 | 19 | 63.00000 | 1.6020187 |\n",
       "\n"
      ],
      "text/plain": [
       "            chr pos      lod      \n",
       "c1.loc83    1   83.00000 0.5129564\n",
       "c2.loc14    2   14.00000 1.2027496\n",
       "16_9895528  3   75.26705 0.5564929\n",
       "7_19909323  4   71.05905 1.4673715\n",
       "c5.loc53    5   53.00000 1.2699836\n",
       "c6.loc66    6   66.00000 0.8215154\n",
       "c7.loc56    7   56.00000 2.2224805\n",
       "8_11656031  8   36.09402 1.7216995\n",
       "c9.loc37    9   37.00000 1.1927533\n",
       "10_710185   10   0.00000 3.7256481\n",
       "c11.loc14   11  14.00000 0.3768929\n",
       "c12.loc27   12  27.00000 0.9269323\n",
       "c13.loc2    13   2.00000 0.5739471\n",
       "14_27233177 14  48.92605 0.5574124\n",
       "4_6943168   15  87.51705 2.3604335\n",
       "18_33757550 16  64.89503 2.1058920\n",
       "c17.loc43   17  43.00000 0.4617229\n",
       "c18.loc53   18  53.00000 1.5525484\n",
       "c19.loc63   19  63.00000 1.6020187"
      ]
     },
     "metadata": {},
     "output_type": "display_data"
    },
    {
     "data": {
      "image/png": "[encoded data removed]",
      "text/plain": [
       "plot without title"
      ]
     },
     "metadata": {
      "image/png": {
       "height": 420,
       "width": 420
      },
      "text/plain": {
       "height": 420,
       "width": 420
      }
     },
     "output_type": "display_data"
    }
   ],
   "source": [
    "#Deterime LOD Values\n",
    "TraitCIM<-cim(Map,pheno.col = colNum,method = \"hk\",\n",
    "              map.function = \"kosambi\") #Generate LOD Values\n",
    "plot(TraitCIM) #show LOD graph\n",
    "abline(h = LOD5,col = \"blue\") #overlay statistically significant line\n",
    "print(\"If nothing shows up, the values \n",
    "      are below the LOD5 score\") #warning for no peaks\n",
    "summary(TraitCIM)"
   ]
  },
  {
   "cell_type": "code",
   "execution_count": 16,
   "metadata": {},
   "outputs": [
    {
     "name": "stdin",
     "output_type": "stream",
     "text": [
      "Chromosome?  10\n"
     ]
    },
    {
     "data": {
      "image/png": "[encoded data removed]",
      "text/plain": [
       "plot without title"
      ]
     },
     "metadata": {
      "image/png": {
       "height": 420,
       "width": 420
      },
      "text/plain": {
       "height": 420,
       "width": 420
      }
     },
     "output_type": "display_data"
    }
   ],
   "source": [
    "#Chromosomal Analysis\n",
    "chr <- as.numeric(readline(\"Chromosome? \")) #collect chromosome to look at\n",
    "plot(TraitCIM, chr = chr,xlab = c(\"chr\",chr)) #Plot chr LOD scores\n",
    "abline(h = LOD5, col = \"blue\") #Statistically Significant"
   ]
  },
  {
   "cell_type": "code",
   "execution_count": 17,
   "metadata": {},
   "outputs": [
    {
     "data": {
      "text/html": [
       "<table>\n",
       "<caption>A scanone: 3 × 3</caption>\n",
       "<thead>\n",
       "\t<tr><th></th><th scope=col>chr</th><th scope=col>pos</th><th scope=col>lod</th></tr>\n",
       "\t<tr><th></th><th scope=col>&lt;fct&gt;</th><th scope=col>&lt;dbl&gt;</th><th scope=col>&lt;dbl&gt;</th></tr>\n",
       "</thead>\n",
       "<tbody>\n",
       "\t<tr><th scope=row>10_710185</th><td>10</td><td>0.000000</td><td>3.725648</td></tr>\n",
       "\t<tr><th scope=row>10_710185 </th><td>10</td><td>0.000000</td><td>3.725648</td></tr>\n",
       "\t<tr><th scope=row>10_402217</th><td>10</td><td>0.776002</td><td>3.346819</td></tr>\n",
       "</tbody>\n",
       "</table>\n"
      ],
      "text/latex": [
       "A scanone: 3 × 3\n",
       "\\begin{tabular}{r|lll}\n",
       "  & chr & pos & lod\\\\\n",
       "  & <fct> & <dbl> & <dbl>\\\\\n",
       "\\hline\n",
       "\t10\\_710185 & 10 & 0.000000 & 3.725648\\\\\n",
       "\t10\\_710185  & 10 & 0.000000 & 3.725648\\\\\n",
       "\t10\\_402217 & 10 & 0.776002 & 3.346819\\\\\n",
       "\\end{tabular}\n"
      ],
      "text/markdown": [
       "\n",
       "A scanone: 3 × 3\n",
       "\n",
       "| <!--/--> | chr &lt;fct&gt; | pos &lt;dbl&gt; | lod &lt;dbl&gt; |\n",
       "|---|---|---|---|\n",
       "| 10_710185 | 10 | 0.000000 | 3.725648 |\n",
       "| 10_710185  | 10 | 0.000000 | 3.725648 |\n",
       "| 10_402217 | 10 | 0.776002 | 3.346819 |\n",
       "\n"
      ],
      "text/plain": [
       "           chr pos      lod     \n",
       "10_710185  10  0.000000 3.725648\n",
       "10_710185  10  0.000000 3.725648\n",
       "10_402217  10  0.776002 3.346819"
      ]
     },
     "metadata": {},
     "output_type": "display_data"
    },
    {
     "data": {
      "text/html": [
       "<table>\n",
       "<caption>A scanone: 3 × 3</caption>\n",
       "<thead>\n",
       "\t<tr><th></th><th scope=col>chr</th><th scope=col>pos</th><th scope=col>lod</th></tr>\n",
       "\t<tr><th></th><th scope=col>&lt;fct&gt;</th><th scope=col>&lt;dbl&gt;</th><th scope=col>&lt;dbl&gt;</th></tr>\n",
       "</thead>\n",
       "<tbody>\n",
       "\t<tr><th scope=row>10_710185</th><td>10</td><td>0.000000</td><td>3.725648</td></tr>\n",
       "\t<tr><th scope=row>10_710185 </th><td>10</td><td>0.000000</td><td>3.725648</td></tr>\n",
       "\t<tr><th scope=row>10_419927</th><td>10</td><td>1.040003</td><td>1.862525</td></tr>\n",
       "</tbody>\n",
       "</table>\n"
      ],
      "text/latex": [
       "A scanone: 3 × 3\n",
       "\\begin{tabular}{r|lll}\n",
       "  & chr & pos & lod\\\\\n",
       "  & <fct> & <dbl> & <dbl>\\\\\n",
       "\\hline\n",
       "\t10\\_710185 & 10 & 0.000000 & 3.725648\\\\\n",
       "\t10\\_710185  & 10 & 0.000000 & 3.725648\\\\\n",
       "\t10\\_419927 & 10 & 1.040003 & 1.862525\\\\\n",
       "\\end{tabular}\n"
      ],
      "text/markdown": [
       "\n",
       "A scanone: 3 × 3\n",
       "\n",
       "| <!--/--> | chr &lt;fct&gt; | pos &lt;dbl&gt; | lod &lt;dbl&gt; |\n",
       "|---|---|---|---|\n",
       "| 10_710185 | 10 | 0.000000 | 3.725648 |\n",
       "| 10_710185  | 10 | 0.000000 | 3.725648 |\n",
       "| 10_419927 | 10 | 1.040003 | 1.862525 |\n",
       "\n"
      ],
      "text/plain": [
       "           chr pos      lod     \n",
       "10_710185  10  0.000000 3.725648\n",
       "10_710185  10  0.000000 3.725648\n",
       "10_419927  10  1.040003 1.862525"
      ]
     },
     "metadata": {},
     "output_type": "display_data"
    }
   ],
   "source": [
    "bayesint(TraitCIM, chr = chr, prob=0.95, expandtomarkers=TRUE) #calculate bayesian interval\n",
    "lodint(TraitCIM, chr = chr,expandtomarkers = TRUE ) #calculate LOD Support interval"
   ]
  },
  {
   "cell_type": "code",
   "execution_count": 18,
   "metadata": {},
   "outputs": [
    {
     "name": "stdin",
     "output_type": "stream",
     "text": [
      "Position for analysis:  0\n"
     ]
    },
    {
     "name": "stderr",
     "output_type": "stream",
     "text": [
      "Warning message in getsex(cross):\n",
      "\"125 individuals with missing sex; assuming they're female\"\n",
      "Warning message in fitqtlengine(pheno = pheno, qtl = qtl, covar = covar, formula = formula, :\n",
      "\"Dropping 158 individuals with missing phenotypes.\n",
      "\"\n",
      "Warning message in getsex(cross):\n",
      "\"125 individuals with missing sex; assuming they're female\"\n"
     ]
    },
    {
     "data": {
      "text/plain": [
       "\n",
       "\t\tfitqtl summary\n",
       "\n",
       "Method: Haley-Knott regression \n",
       "Model:  normal phenotype\n",
       "Number of observations : 136 \n",
       "\n",
       "Full model result\n",
       "----------------------------------  \n",
       "Model formula: y ~ Q1 \n",
       "\n",
       "       df        SS         MS      LOD     %var Pvalue(Chi2)    Pvalue(F)\n",
       "Model   1  155.0759 155.075933 3.774568 11.99818 3.056227e-05 3.614484e-05\n",
       "Error 134 1137.4195   8.488205                                            \n",
       "Total 135 1292.4954                                                       \n",
       "\n",
       "\n",
       "Estimated effects:\n",
       "-----------------\n",
       "             est     SE      t\n",
       "Intercept 6.0565 0.2516 24.074\n",
       "10@0.0    2.1511 0.5033  4.274\n"
      ]
     },
     "metadata": {},
     "output_type": "display_data"
    }
   ],
   "source": [
    "p <- as.numeric(readline(\"Position for analysis: \"))\n",
    "qtl <- makeqtl(Map, chr = chr, pos = p, what=\"prob\") #pulls genotype probabilities\n",
    "fitqtl <- fitqtl(Map, pheno.col=colNum, qtl = qtl, covar=NULL,\n",
    "       method= \"hk\",model=\"normal\",\n",
    "       dropone=TRUE, get.ests=TRUE,run.checks=TRUE,\n",
    "       tol=1e-4, maxit=1000, forceXcovar=FALSE) #sees how well our data fits a given formula \n",
    "          # If you see \"error: object of type 'closure' is not subsettable\", remove \"formula,\" from the fitqtl argument list.\n",
    "summary(fitqtl) #Print results of the analysis"
   ]
  }
 ],
 "metadata": {
  "kernelspec": {
   "display_name": "R",
   "language": "R",
   "name": "ir"
  },
  "language_info": {
   "codemirror_mode": "r",
   "file_extension": ".r",
   "mimetype": "text/x-r-source",
   "name": "R",
   "pygments_lexer": "r",
   "version": "3.6.3"
  }
 },
 "nbformat": 4,
 "nbformat_minor": 4
}
