{
 "cells": [
  {
   "cell_type": "markdown",
   "metadata": {},
   "source": [
    "This analysis is in the order of Female then Male"
   ]
  },
  {
   "cell_type": "code",
   "execution_count": 1,
   "metadata": {},
   "outputs": [
    {
     "name": "stderr",
     "output_type": "stream",
     "text": [
      "Installing package into 'C:/Users/Courtney/Documents/R/win-library/3.6'\n",
      "(as 'lib' is unspecified)\n",
      "\n"
     ]
    },
    {
     "name": "stdout",
     "output_type": "stream",
     "text": [
      "package 'qtl' successfully unpacked and MD5 sums checked\n",
      "\n",
      "The downloaded binary packages are in\n",
      "\tC:\\Users\\Courtney\\AppData\\Local\\Temp\\Rtmp0gZ7Jc\\downloaded_packages\n"
     ]
    },
    {
     "name": "stderr",
     "output_type": "stream",
     "text": [
      "Installing package into 'C:/Users/Courtney/Documents/R/win-library/3.6'\n",
      "(as 'lib' is unspecified)\n",
      "\n"
     ]
    },
    {
     "name": "stdout",
     "output_type": "stream",
     "text": [
      "package 'qtlcharts' successfully unpacked and MD5 sums checked\n",
      "\n",
      "The downloaded binary packages are in\n",
      "\tC:\\Users\\Courtney\\AppData\\Local\\Temp\\Rtmp0gZ7Jc\\downloaded_packages\n"
     ]
    },
    {
     "name": "stderr",
     "output_type": "stream",
     "text": [
      "Installing package into 'C:/Users/Courtney/Documents/R/win-library/3.6'\n",
      "(as 'lib' is unspecified)\n",
      "\n"
     ]
    },
    {
     "name": "stdout",
     "output_type": "stream",
     "text": [
      "package 'LinkageMapView' successfully unpacked and MD5 sums checked\n",
      "\n",
      "The downloaded binary packages are in\n",
      "\tC:\\Users\\Courtney\\AppData\\Local\\Temp\\Rtmp0gZ7Jc\\downloaded_packages\n"
     ]
    },
    {
     "name": "stderr",
     "output_type": "stream",
     "text": [
      "Installing package into 'C:/Users/Courtney/Documents/R/win-library/3.6'\n",
      "(as 'lib' is unspecified)\n",
      "\n"
     ]
    },
    {
     "name": "stdout",
     "output_type": "stream",
     "text": [
      "package 'rcompanion' successfully unpacked and MD5 sums checked\n",
      "\n",
      "The downloaded binary packages are in\n",
      "\tC:\\Users\\Courtney\\AppData\\Local\\Temp\\Rtmp0gZ7Jc\\downloaded_packages\n"
     ]
    }
   ],
   "source": [
    "install.packages('qtl') #Main package, for analysis\n",
    "install.packages('qtlcharts') #accessory, for displaying graphs\n",
    "install.packages('LinkageMapView') #accessory, for displaying linkage maps\n",
    "install.packages('rcompanion')# for plotNormalHistogram"
   ]
  },
  {
   "cell_type": "code",
   "execution_count": 2,
   "metadata": {},
   "outputs": [],
   "source": [
    "library(qtl) #load packages\n",
    "library(qtlcharts)\n",
    "library(LinkageMapView)\n",
    "library(rcompanion)"
   ]
  },
  {
   "cell_type": "code",
   "execution_count": null,
   "metadata": {},
   "outputs": [
    {
     "name": "stdout",
     "output_type": "stream",
     "text": [
      "[1] \"Make sure to input names AS THEY APPEAR on the csv!!\"\n"
     ]
    },
    {
     "name": "stdin",
     "output_type": "stream",
     "text": [
      "Enter file name (Either FemaleMap.csv or MaleMap.csv):  FemaleMap.csv\n",
      "First Genotype (homozygous) (For example ll):  ll\n",
      "Second Genotype (heterozygous) (for example lm):  lm\n"
     ]
    }
   ],
   "source": [
    "#Collecting enviroment variables\n",
    "print(\"Make sure to input names AS THEY APPEAR on the csv!!\") #Just a user warning\n",
    "fileName <- readline(\"Enter file name (Either FemaleMap.csv or MaleMap.csv): \") #Mapping table file\n",
    "genotypeName <- c(readline(\"First Genotype (homozygous) (For example ll): \"),\n",
    "                  readline(\"Second Genotype (heterozygous) (for example lm): \")) #For example \"nn\", \"np\"\n",
    "alleleName <- c(substr(genotypeName[2],1,1) ,substr(genotypeName[2],2,2))\n",
    "naNames <- c(\"NA\",\"--\") #For example \"NA\", \"--\"\n",
    "colNum <- as.numeric(readline(\"Column Number: \")) #Column for pheno of interest"
   ]
  },
  {
   "cell_type": "code",
   "execution_count": 4,
   "metadata": {},
   "outputs": [
    {
     "name": "stdout",
     "output_type": "stream",
     "text": [
      " --Read the following data:\n",
      "\t 294  individuals\n",
      "\t 1100  markers\n",
      "\t 38  phenotypes\n"
     ]
    },
    {
     "name": "stderr",
     "output_type": "stream",
     "text": [
      "Warning message in summary.cross(cross):\n",
      "\"Some markers at the same position on chr 1,2,4,5,7,8,9,10,11,12,13,14,16,17,18,19; use jittermap().\"\n"
     ]
    },
    {
     "name": "stdout",
     "output_type": "stream",
     "text": [
      " --Cross type: bc \n"
     ]
    },
    {
     "data": {
      "image/png": "[encoded data removed]",
      "text/plain": [
       "Plot with title \"Genetic map\""
      ]
     },
     "metadata": {
      "image/png": {
       "height": 420,
       "width": 420
      },
      "text/plain": {
       "height": 420,
       "width": 420
      }
     },
     "output_type": "display_data"
    }
   ],
   "source": [
    "#Map generation\n",
    "Map <- read.cross(format = 'csv',file = fileName \n",
    "                  ,genotypes = genotypeName,\n",
    "                  alleles = alleleName,na.strings = naNames) #generate linkage map\n",
    "Map <- jittermap(Map) #make sure no markers are in the same location\n",
    "Map <- calc.genoprob(Map,step = 1,map.function = \"kosambi\") #associate markers with full genotypes\n",
    "plot.map(Map) #draw linkage map"
   ]
  },
  {
   "cell_type": "code",
   "execution_count": 5,
   "metadata": {},
   "outputs": [
    {
     "data": {
      "image/png": "[encoded data removed]",
      "text/plain": [
       "Plot with title \"\""
      ]
     },
     "metadata": {
      "image/png": {
       "height": 420,
       "width": 420
      },
      "text/plain": {
       "height": 420,
       "width": 420
      }
     },
     "output_type": "display_data"
    }
   ],
   "source": [
    "plotNormalHistogram(Map$pheno[,colNum]) #normal histogram of pheno of interest"
   ]
  },
  {
   "cell_type": "markdown",
   "metadata": {},
   "source": [
    "Outliers exist in this dataset. Will need to be analyized. "
   ]
  },
  {
   "cell_type": "code",
   "execution_count": 6,
   "metadata": {},
   "outputs": [
    {
     "data": {
      "text/plain": [
       "LOD thresholds (1000 permutations)\n",
       "   [,1]\n",
       "5% 4.18\n",
       "1% 5.02"
      ]
     },
     "metadata": {},
     "output_type": "display_data"
    },
    {
     "data": {
      "image/png": "[encoded data removed]",
      "text/plain": [
       "Plot with title \"\""
      ]
     },
     "metadata": {
      "image/png": {
       "height": 420,
       "width": 420
      },
      "text/plain": {
       "height": 420,
       "width": 420
      }
     },
     "output_type": "display_data"
    }
   ],
   "source": [
    "#Compute statistically significant values\n",
    "TraitCIM1000 <- cim(Map,pheno.col = colNum,method = \"hk\",\n",
    "                    map.function = \"kosambi\",n.perm = 1000) # Function will take a moment to run, determines LOD value\n",
    "plot(TraitCIM1000,col = 'green') #show distribution of lod scores\n",
    "summary(TraitCIM1000,alpha=c(.05,.01))"
   ]
  },
  {
   "cell_type": "code",
   "execution_count": 7,
   "metadata": {},
   "outputs": [
    {
     "name": "stdout",
     "output_type": "stream",
     "text": [
      "[1] \"If nothing shows up, the values \\n      are below the LOD5 score\"\n"
     ]
    },
    {
     "data": {
      "text/html": [
       "<table>\n",
       "<caption>A summary.scanone: 19 × 3</caption>\n",
       "<thead>\n",
       "\t<tr><th></th><th scope=col>chr</th><th scope=col>pos</th><th scope=col>lod</th></tr>\n",
       "\t<tr><th></th><th scope=col>&lt;fct&gt;</th><th scope=col>&lt;dbl&gt;</th><th scope=col>&lt;dbl&gt;</th></tr>\n",
       "</thead>\n",
       "<tbody>\n",
       "\t<tr><th scope=row>c1.loc56</th><td>1 </td><td>56.000000</td><td> 0.1405595</td></tr>\n",
       "\t<tr><th scope=row>c2.loc23</th><td>2 </td><td>23.000000</td><td> 0.1102395</td></tr>\n",
       "\t<tr><th scope=row>3_5306858</th><td>3 </td><td>30.948024</td><td> 0.7574281</td></tr>\n",
       "\t<tr><th scope=row>4_1554457</th><td>4 </td><td> 6.230003</td><td> 0.5623337</td></tr>\n",
       "\t<tr><th scope=row>5_21771573</th><td>5 </td><td>61.534045</td><td> 3.8626405</td></tr>\n",
       "\t<tr><th scope=row>c6.loc51</th><td>6 </td><td>51.000000</td><td> 0.9843859</td></tr>\n",
       "\t<tr><th scope=row>7_8168271</th><td>7 </td><td>35.590035</td><td> 0.8720153</td></tr>\n",
       "\t<tr><th scope=row>c8.loc19</th><td>8 </td><td>19.000000</td><td> 0.8535359</td></tr>\n",
       "\t<tr><th scope=row>9_2597721</th><td>9 </td><td>12.621018</td><td> 1.4493391</td></tr>\n",
       "\t<tr><th scope=row>17_17189484</th><td>10</td><td> 8.281005</td><td>19.5801727</td></tr>\n",
       "\t<tr><th scope=row>c11.loc22</th><td>11</td><td>22.000000</td><td> 1.0822362</td></tr>\n",
       "\t<tr><th scope=row>c12.loc45</th><td>12</td><td>45.000000</td><td> 1.0707184</td></tr>\n",
       "\t<tr><th scope=row>c13.loc35</th><td>13</td><td>35.000000</td><td> 0.7656154</td></tr>\n",
       "\t<tr><th scope=row>c14.loc42</th><td>14</td><td>42.000000</td><td> 0.2721711</td></tr>\n",
       "\t<tr><th scope=row>4_2353337</th><td>15</td><td> 7.420012</td><td> 0.8481572</td></tr>\n",
       "\t<tr><th scope=row>16_22866474</th><td>16</td><td>59.923045</td><td> 1.9398527</td></tr>\n",
       "\t<tr><th scope=row>c17.loc34</th><td>17</td><td>34.000000</td><td> 0.8919333</td></tr>\n",
       "\t<tr><th scope=row>18_6314445</th><td>18</td><td>23.894024</td><td> 1.8669624</td></tr>\n",
       "\t<tr><th scope=row>5_9904142</th><td>19</td><td>55.037070</td><td> 1.7963051</td></tr>\n",
       "</tbody>\n",
       "</table>\n"
      ],
      "text/latex": [
       "A summary.scanone: 19 × 3\n",
       "\\begin{tabular}{r|lll}\n",
       "  & chr & pos & lod\\\\\n",
       "  & <fct> & <dbl> & <dbl>\\\\\n",
       "\\hline\n",
       "\tc1.loc56 & 1  & 56.000000 &  0.1405595\\\\\n",
       "\tc2.loc23 & 2  & 23.000000 &  0.1102395\\\\\n",
       "\t3\\_5306858 & 3  & 30.948024 &  0.7574281\\\\\n",
       "\t4\\_1554457 & 4  &  6.230003 &  0.5623337\\\\\n",
       "\t5\\_21771573 & 5  & 61.534045 &  3.8626405\\\\\n",
       "\tc6.loc51 & 6  & 51.000000 &  0.9843859\\\\\n",
       "\t7\\_8168271 & 7  & 35.590035 &  0.8720153\\\\\n",
       "\tc8.loc19 & 8  & 19.000000 &  0.8535359\\\\\n",
       "\t9\\_2597721 & 9  & 12.621018 &  1.4493391\\\\\n",
       "\t17\\_17189484 & 10 &  8.281005 & 19.5801727\\\\\n",
       "\tc11.loc22 & 11 & 22.000000 &  1.0822362\\\\\n",
       "\tc12.loc45 & 12 & 45.000000 &  1.0707184\\\\\n",
       "\tc13.loc35 & 13 & 35.000000 &  0.7656154\\\\\n",
       "\tc14.loc42 & 14 & 42.000000 &  0.2721711\\\\\n",
       "\t4\\_2353337 & 15 &  7.420012 &  0.8481572\\\\\n",
       "\t16\\_22866474 & 16 & 59.923045 &  1.9398527\\\\\n",
       "\tc17.loc34 & 17 & 34.000000 &  0.8919333\\\\\n",
       "\t18\\_6314445 & 18 & 23.894024 &  1.8669624\\\\\n",
       "\t5\\_9904142 & 19 & 55.037070 &  1.7963051\\\\\n",
       "\\end{tabular}\n"
      ],
      "text/markdown": [
       "\n",
       "A summary.scanone: 19 × 3\n",
       "\n",
       "| <!--/--> | chr &lt;fct&gt; | pos &lt;dbl&gt; | lod &lt;dbl&gt; |\n",
       "|---|---|---|---|\n",
       "| c1.loc56 | 1  | 56.000000 |  0.1405595 |\n",
       "| c2.loc23 | 2  | 23.000000 |  0.1102395 |\n",
       "| 3_5306858 | 3  | 30.948024 |  0.7574281 |\n",
       "| 4_1554457 | 4  |  6.230003 |  0.5623337 |\n",
       "| 5_21771573 | 5  | 61.534045 |  3.8626405 |\n",
       "| c6.loc51 | 6  | 51.000000 |  0.9843859 |\n",
       "| 7_8168271 | 7  | 35.590035 |  0.8720153 |\n",
       "| c8.loc19 | 8  | 19.000000 |  0.8535359 |\n",
       "| 9_2597721 | 9  | 12.621018 |  1.4493391 |\n",
       "| 17_17189484 | 10 |  8.281005 | 19.5801727 |\n",
       "| c11.loc22 | 11 | 22.000000 |  1.0822362 |\n",
       "| c12.loc45 | 12 | 45.000000 |  1.0707184 |\n",
       "| c13.loc35 | 13 | 35.000000 |  0.7656154 |\n",
       "| c14.loc42 | 14 | 42.000000 |  0.2721711 |\n",
       "| 4_2353337 | 15 |  7.420012 |  0.8481572 |\n",
       "| 16_22866474 | 16 | 59.923045 |  1.9398527 |\n",
       "| c17.loc34 | 17 | 34.000000 |  0.8919333 |\n",
       "| 18_6314445 | 18 | 23.894024 |  1.8669624 |\n",
       "| 5_9904142 | 19 | 55.037070 |  1.7963051 |\n",
       "\n"
      ],
      "text/plain": [
       "            chr pos       lod       \n",
       "c1.loc56    1   56.000000  0.1405595\n",
       "c2.loc23    2   23.000000  0.1102395\n",
       "3_5306858   3   30.948024  0.7574281\n",
       "4_1554457   4    6.230003  0.5623337\n",
       "5_21771573  5   61.534045  3.8626405\n",
       "c6.loc51    6   51.000000  0.9843859\n",
       "7_8168271   7   35.590035  0.8720153\n",
       "c8.loc19    8   19.000000  0.8535359\n",
       "9_2597721   9   12.621018  1.4493391\n",
       "17_17189484 10   8.281005 19.5801727\n",
       "c11.loc22   11  22.000000  1.0822362\n",
       "c12.loc45   12  45.000000  1.0707184\n",
       "c13.loc35   13  35.000000  0.7656154\n",
       "c14.loc42   14  42.000000  0.2721711\n",
       "4_2353337   15   7.420012  0.8481572\n",
       "16_22866474 16  59.923045  1.9398527\n",
       "c17.loc34   17  34.000000  0.8919333\n",
       "18_6314445  18  23.894024  1.8669624\n",
       "5_9904142   19  55.037070  1.7963051"
      ]
     },
     "metadata": {},
     "output_type": "display_data"
    },
    {
     "data": {
      "image/png": "[encoded data removed]",
      "text/plain": [
       "plot without title"
      ]
     },
     "metadata": {
      "image/png": {
       "height": 420,
       "width": 420
      },
      "text/plain": {
       "height": 420,
       "width": 420
      }
     },
     "output_type": "display_data"
    }
   ],
   "source": [
    "#Deterime LOD Values\n",
    "LOD5 <- summary(TraitCIM1000,alpha=c(.05))\n",
    "TraitCIM<-cim(Map,pheno.col = colNum,method = \"hk\",\n",
    "              map.function = \"kosambi\") #Generate LOD Values\n",
    "plot(TraitCIM) #show LOD graph\n",
    "abline(h = LOD5,col = \"blue\") #overlay statistically significant line\n",
    "print(\"If nothing shows up, the values \n",
    "      are below the LOD5 score\") #warning for no peaks\n",
    "summary(TraitCIM)"
   ]
  },
  {
   "cell_type": "code",
   "execution_count": 8,
   "metadata": {},
   "outputs": [
    {
     "name": "stdin",
     "output_type": "stream",
     "text": [
      "Chromosome?  10\n"
     ]
    },
    {
     "data": {
      "image/png": "[encoded data removed]",
      "text/plain": [
       "plot without title"
      ]
     },
     "metadata": {
      "image/png": {
       "height": 420,
       "width": 420
      },
      "text/plain": {
       "height": 420,
       "width": 420
      }
     },
     "output_type": "display_data"
    }
   ],
   "source": [
    "#Chromosomal Analysis\n",
    "chr <- as.numeric(readline(\"Chromosome? \")) #collect chromosome to look at\n",
    "plot(TraitCIM, chr = chr,xlab = c(\"chr\",chr)) #Plot chr LOD scores\n",
    "abline(h = LOD5, col = \"blue\") #Statistically Significant"
   ]
  },
  {
   "cell_type": "code",
   "execution_count": 9,
   "metadata": {},
   "outputs": [
    {
     "data": {
      "text/html": [
       "<table>\n",
       "<caption>A scanone: 3 × 3</caption>\n",
       "<thead>\n",
       "\t<tr><th></th><th scope=col>chr</th><th scope=col>pos</th><th scope=col>lod</th></tr>\n",
       "\t<tr><th></th><th scope=col>&lt;fct&gt;</th><th scope=col>&lt;dbl&gt;</th><th scope=col>&lt;dbl&gt;</th></tr>\n",
       "</thead>\n",
       "<tbody>\n",
       "\t<tr><th scope=row>17_17189406</th><td>10</td><td>2.459002</td><td> 0.1738651</td></tr>\n",
       "\t<tr><th scope=row>17_17189484</th><td>10</td><td>8.281005</td><td>19.5801727</td></tr>\n",
       "\t<tr><th scope=row>10_2674703</th><td>10</td><td>9.536007</td><td>17.5567395</td></tr>\n",
       "</tbody>\n",
       "</table>\n"
      ],
      "text/latex": [
       "A scanone: 3 × 3\n",
       "\\begin{tabular}{r|lll}\n",
       "  & chr & pos & lod\\\\\n",
       "  & <fct> & <dbl> & <dbl>\\\\\n",
       "\\hline\n",
       "\t17\\_17189406 & 10 & 2.459002 &  0.1738651\\\\\n",
       "\t17\\_17189484 & 10 & 8.281005 & 19.5801727\\\\\n",
       "\t10\\_2674703 & 10 & 9.536007 & 17.5567395\\\\\n",
       "\\end{tabular}\n"
      ],
      "text/markdown": [
       "\n",
       "A scanone: 3 × 3\n",
       "\n",
       "| <!--/--> | chr &lt;fct&gt; | pos &lt;dbl&gt; | lod &lt;dbl&gt; |\n",
       "|---|---|---|---|\n",
       "| 17_17189406 | 10 | 2.459002 |  0.1738651 |\n",
       "| 17_17189484 | 10 | 8.281005 | 19.5801727 |\n",
       "| 10_2674703 | 10 | 9.536007 | 17.5567395 |\n",
       "\n"
      ],
      "text/plain": [
       "            chr pos      lod       \n",
       "17_17189406 10  2.459002  0.1738651\n",
       "17_17189484 10  8.281005 19.5801727\n",
       "10_2674703  10  9.536007 17.5567395"
      ]
     },
     "metadata": {},
     "output_type": "display_data"
    },
    {
     "data": {
      "text/html": [
       "<table>\n",
       "<caption>A scanone: 3 × 3</caption>\n",
       "<thead>\n",
       "\t<tr><th></th><th scope=col>chr</th><th scope=col>pos</th><th scope=col>lod</th></tr>\n",
       "\t<tr><th></th><th scope=col>&lt;fct&gt;</th><th scope=col>&lt;dbl&gt;</th><th scope=col>&lt;dbl&gt;</th></tr>\n",
       "</thead>\n",
       "<tbody>\n",
       "\t<tr><th scope=row>17_17189406</th><td>10</td><td>2.459002</td><td> 0.1738651</td></tr>\n",
       "\t<tr><th scope=row>17_17189484</th><td>10</td><td>8.281005</td><td>19.5801727</td></tr>\n",
       "\t<tr><th scope=row>10_2674703</th><td>10</td><td>9.536007</td><td>17.5567395</td></tr>\n",
       "</tbody>\n",
       "</table>\n"
      ],
      "text/latex": [
       "A scanone: 3 × 3\n",
       "\\begin{tabular}{r|lll}\n",
       "  & chr & pos & lod\\\\\n",
       "  & <fct> & <dbl> & <dbl>\\\\\n",
       "\\hline\n",
       "\t17\\_17189406 & 10 & 2.459002 &  0.1738651\\\\\n",
       "\t17\\_17189484 & 10 & 8.281005 & 19.5801727\\\\\n",
       "\t10\\_2674703 & 10 & 9.536007 & 17.5567395\\\\\n",
       "\\end{tabular}\n"
      ],
      "text/markdown": [
       "\n",
       "A scanone: 3 × 3\n",
       "\n",
       "| <!--/--> | chr &lt;fct&gt; | pos &lt;dbl&gt; | lod &lt;dbl&gt; |\n",
       "|---|---|---|---|\n",
       "| 17_17189406 | 10 | 2.459002 |  0.1738651 |\n",
       "| 17_17189484 | 10 | 8.281005 | 19.5801727 |\n",
       "| 10_2674703 | 10 | 9.536007 | 17.5567395 |\n",
       "\n"
      ],
      "text/plain": [
       "            chr pos      lod       \n",
       "17_17189406 10  2.459002  0.1738651\n",
       "17_17189484 10  8.281005 19.5801727\n",
       "10_2674703  10  9.536007 17.5567395"
      ]
     },
     "metadata": {},
     "output_type": "display_data"
    }
   ],
   "source": [
    "bayesint(TraitCIM, chr = chr, prob=0.95, expandtomarkers=TRUE) #calculate bayesian interval\n",
    "lodint(TraitCIM, chr = chr,expandtomarkers = TRUE ) #calculate LOD Support interval"
   ]
  },
  {
   "cell_type": "code",
   "execution_count": 10,
   "metadata": {},
   "outputs": [
    {
     "name": "stdin",
     "output_type": "stream",
     "text": [
      "Position for analysis:  8.281005\n"
     ]
    },
    {
     "name": "stderr",
     "output_type": "stream",
     "text": [
      "Warning message in getsex(cross):\n",
      "\"125 individuals with missing sex; assuming they're female\"\n",
      "Warning message in fitqtlengine(pheno = pheno, qtl = qtl, covar = covar, formula = formula, :\n",
      "\"Dropping 158 individuals with missing phenotypes.\n",
      "\"\n",
      "Warning message in getsex(cross):\n",
      "\"125 individuals with missing sex; assuming they're female\"\n"
     ]
    },
    {
     "data": {
      "text/plain": [
       "\n",
       "\t\tfitqtl summary\n",
       "\n",
       "Method: Haley-Knott regression \n",
       "Model:  normal phenotype\n",
       "Number of observations : 136 \n",
       "\n",
       "Full model result\n",
       "----------------------------------  \n",
       "Model formula: y ~ Q1 \n",
       "\n",
       "       df        SS         MS      LOD     %var Pvalue(Chi2) Pvalue(F)\n",
       "Model   1  591.3682 591.368201 18.06299 45.75399            0         0\n",
       "Error 134  701.1272   5.232292                                         \n",
       "Total 135 1292.4954                                                    \n",
       "\n",
       "\n",
       "Estimated effects:\n",
       "-----------------\n",
       "              est      SE      t\n",
       "Intercept  6.0912  0.1963  31.02\n",
       "10@8.3    -4.1747  0.3927 -10.63\n"
      ]
     },
     "metadata": {},
     "output_type": "display_data"
    }
   ],
   "source": [
    "p <- as.numeric(readline(\"Position for analysis: \"))\n",
    "qtl <- makeqtl(Map, chr = chr, pos = p, what=\"prob\") #pulls genotype probabilities\n",
    "fitqtl <- fitqtl(Map, pheno.col=colNum, qtl = qtl, covar=NULL,\n",
    "       method= \"hk\",model=\"normal\",\n",
    "       dropone=TRUE, get.ests=TRUE,run.checks=TRUE,\n",
    "       tol=1e-4, maxit=1000, forceXcovar=FALSE) #sees how well our data fits a given formula \n",
    "          # If you see \"error: object of type 'closure' is not subsettable\", remove \"formula,\" from the fitqtl argument list.\n",
    "summary(fitqtl) #Print results of the analysis"
   ]
  },
  {
   "cell_type": "code",
   "execution_count": 11,
   "metadata": {},
   "outputs": [
    {
     "name": "stdout",
     "output_type": "stream",
     "text": [
      "[1] \"Make sure to input names AS THEY APPEAR on the csv!!\"\n"
     ]
    },
    {
     "name": "stdin",
     "output_type": "stream",
     "text": [
      "Enter file name (Either FemaleMap.csv or MaleMap.csv):  MaleMap.csv\n",
      "First Genotype (homozygous) (For example ll):  nn\n",
      "Second Genotype (heterozygous) (for example lm):  np\n",
      "Column Number:  3\n"
     ]
    }
   ],
   "source": [
    "#Collecting enviroment variables\n",
    "print(\"Make sure to input names AS THEY APPEAR on the csv!!\") #Just a user warning\n",
    "fileName <- readline(\"Enter file name (Either FemaleMap.csv or MaleMap.csv): \") #Mapping table file\n",
    "genotypeName <- c(readline(\"First Genotype (homozygous) (For example ll): \"),\n",
    "                  readline(\"Second Genotype (heterozygous) (for example lm): \")) #For example \"nn\", \"np\"\n",
    "alleleName <- c(substr(genotypeName[2],1,1) ,substr(genotypeName[2],2,2))\n",
    "naNames <- c(\"NA\",\"--\") #For example \"NA\", \"--\"\n",
    "colNum <- as.numeric(readline(\"Column Number: \")) #Column for pheno of interest"
   ]
  },
  {
   "cell_type": "code",
   "execution_count": 12,
   "metadata": {},
   "outputs": [
    {
     "name": "stdout",
     "output_type": "stream",
     "text": [
      " --Read the following data:\n",
      "\t 294  individuals\n",
      "\t 1128  markers\n",
      "\t 38  phenotypes\n"
     ]
    },
    {
     "name": "stderr",
     "output_type": "stream",
     "text": [
      "Warning message in summary.cross(cross):\n",
      "\"Some markers at the same position on chr 1,3,4,5,6,7,8,9,10,12,13,14,15,16,17,18,19; use jittermap().\"\n"
     ]
    },
    {
     "name": "stdout",
     "output_type": "stream",
     "text": [
      " --Cross type: bc \n"
     ]
    },
    {
     "data": {
      "image/png": "[encoded data removed]",
      "text/plain": [
       "Plot with title \"Genetic map\""
      ]
     },
     "metadata": {
      "image/png": {
       "height": 420,
       "width": 420
      },
      "text/plain": {
       "height": 420,
       "width": 420
      }
     },
     "output_type": "display_data"
    }
   ],
   "source": [
    "#Map generation\n",
    "Map <- read.cross(format = 'csv',file = fileName \n",
    "                  ,genotypes = genotypeName,\n",
    "                  alleles = alleleName,na.strings = naNames) #generate linkage map\n",
    "Map <- jittermap(Map) #make sure no markers are in the same location\n",
    "Map <- calc.genoprob(Map,step = 1,map.function = \"kosambi\") #associate markers with full genotypes\n",
    "plot.map(Map) #draw linkage map"
   ]
  },
  {
   "cell_type": "code",
   "execution_count": 13,
   "metadata": {},
   "outputs": [
    {
     "data": {
      "image/png": "[encoded data removed]",
      "text/plain": [
       "Plot with title \"\""
      ]
     },
     "metadata": {
      "image/png": {
       "height": 420,
       "width": 420
      },
      "text/plain": {
       "height": 420,
       "width": 420
      }
     },
     "output_type": "display_data"
    }
   ],
   "source": [
    "plotNormalHistogram(Map$pheno[,colNum]) #normal histogram of pheno of interest"
   ]
  },
  {
   "cell_type": "markdown",
   "metadata": {},
   "source": [
    "Outliers exist in this data. "
   ]
  },
  {
   "cell_type": "code",
   "execution_count": 14,
   "metadata": {},
   "outputs": [
    {
     "data": {
      "text/plain": [
       "LOD thresholds (1000 permutations)\n",
       "   [,1]\n",
       "5% 4.51\n",
       "1% 5.43"
      ]
     },
     "metadata": {},
     "output_type": "display_data"
    },
    {
     "data": {
      "image/png": "[encoded data removed]",
      "text/plain": [
       "Plot with title \"\""
      ]
     },
     "metadata": {
      "image/png": {
       "height": 420,
       "width": 420
      },
      "text/plain": {
       "height": 420,
       "width": 420
      }
     },
     "output_type": "display_data"
    }
   ],
   "source": [
    "#Compute statistically significant values\n",
    "TraitCIM1000 <- cim(Map,pheno.col = colNum,method = \"hk\",\n",
    "                    map.function = \"kosambi\",n.perm = 1000) # Function will take a moment to run, determines LOD value\n",
    "plot(TraitCIM1000,col = 'green') #show distribution of lod scores\n",
    "summary(TraitCIM1000,alpha=c(.05,.01))"
   ]
  },
  {
   "cell_type": "code",
   "execution_count": 15,
   "metadata": {},
   "outputs": [
    {
     "name": "stdout",
     "output_type": "stream",
     "text": [
      "[1] \"If nothing shows up, the values \\n      are below the LOD5 score\"\n"
     ]
    },
    {
     "data": {
      "text/html": [
       "<table>\n",
       "<caption>A summary.scanone: 19 × 3</caption>\n",
       "<thead>\n",
       "\t<tr><th></th><th scope=col>chr</th><th scope=col>pos</th><th scope=col>lod</th></tr>\n",
       "\t<tr><th></th><th scope=col>&lt;fct&gt;</th><th scope=col>&lt;dbl&gt;</th><th scope=col>&lt;dbl&gt;</th></tr>\n",
       "</thead>\n",
       "<tbody>\n",
       "\t<tr><th scope=row>c1.loc83</th><td>1 </td><td>83.00000</td><td>0.5129564</td></tr>\n",
       "\t<tr><th scope=row>c2.loc14</th><td>2 </td><td>14.00000</td><td>1.2027496</td></tr>\n",
       "\t<tr><th scope=row>16_9895528</th><td>3 </td><td>75.26705</td><td>0.5564929</td></tr>\n",
       "\t<tr><th scope=row>7_19909323</th><td>4 </td><td>71.05905</td><td>1.4673715</td></tr>\n",
       "\t<tr><th scope=row>c5.loc53</th><td>5 </td><td>53.00000</td><td>1.2699836</td></tr>\n",
       "\t<tr><th scope=row>c6.loc66</th><td>6 </td><td>66.00000</td><td>0.8215154</td></tr>\n",
       "\t<tr><th scope=row>c7.loc56</th><td>7 </td><td>56.00000</td><td>2.2224805</td></tr>\n",
       "\t<tr><th scope=row>8_11656031</th><td>8 </td><td>36.09402</td><td>1.7216995</td></tr>\n",
       "\t<tr><th scope=row>c9.loc37</th><td>9 </td><td>37.00000</td><td>1.1927533</td></tr>\n",
       "\t<tr><th scope=row>10_710185</th><td>10</td><td> 0.00000</td><td>3.7256481</td></tr>\n",
       "\t<tr><th scope=row>c11.loc14</th><td>11</td><td>14.00000</td><td>0.3768929</td></tr>\n",
       "\t<tr><th scope=row>c12.loc27</th><td>12</td><td>27.00000</td><td>0.9269323</td></tr>\n",
       "\t<tr><th scope=row>c13.loc2</th><td>13</td><td> 2.00000</td><td>0.5739471</td></tr>\n",
       "\t<tr><th scope=row>14_27233177</th><td>14</td><td>48.92605</td><td>0.5574124</td></tr>\n",
       "\t<tr><th scope=row>4_6943168</th><td>15</td><td>87.51705</td><td>2.3604335</td></tr>\n",
       "\t<tr><th scope=row>18_33757550</th><td>16</td><td>64.89503</td><td>2.1058920</td></tr>\n",
       "\t<tr><th scope=row>c17.loc43</th><td>17</td><td>43.00000</td><td>0.4617229</td></tr>\n",
       "\t<tr><th scope=row>c18.loc53</th><td>18</td><td>53.00000</td><td>1.5525484</td></tr>\n",
       "\t<tr><th scope=row>c19.loc63</th><td>19</td><td>63.00000</td><td>1.6020187</td></tr>\n",
       "</tbody>\n",
       "</table>\n"
      ],
      "text/latex": [
       "A summary.scanone: 19 × 3\n",
       "\\begin{tabular}{r|lll}\n",
       "  & chr & pos & lod\\\\\n",
       "  & <fct> & <dbl> & <dbl>\\\\\n",
       "\\hline\n",
       "\tc1.loc83 & 1  & 83.00000 & 0.5129564\\\\\n",
       "\tc2.loc14 & 2  & 14.00000 & 1.2027496\\\\\n",
       "\t16\\_9895528 & 3  & 75.26705 & 0.5564929\\\\\n",
       "\t7\\_19909323 & 4  & 71.05905 & 1.4673715\\\\\n",
       "\tc5.loc53 & 5  & 53.00000 & 1.2699836\\\\\n",
       "\tc6.loc66 & 6  & 66.00000 & 0.8215154\\\\\n",
       "\tc7.loc56 & 7  & 56.00000 & 2.2224805\\\\\n",
       "\t8\\_11656031 & 8  & 36.09402 & 1.7216995\\\\\n",
       "\tc9.loc37 & 9  & 37.00000 & 1.1927533\\\\\n",
       "\t10\\_710185 & 10 &  0.00000 & 3.7256481\\\\\n",
       "\tc11.loc14 & 11 & 14.00000 & 0.3768929\\\\\n",
       "\tc12.loc27 & 12 & 27.00000 & 0.9269323\\\\\n",
       "\tc13.loc2 & 13 &  2.00000 & 0.5739471\\\\\n",
       "\t14\\_27233177 & 14 & 48.92605 & 0.5574124\\\\\n",
       "\t4\\_6943168 & 15 & 87.51705 & 2.3604335\\\\\n",
       "\t18\\_33757550 & 16 & 64.89503 & 2.1058920\\\\\n",
       "\tc17.loc43 & 17 & 43.00000 & 0.4617229\\\\\n",
       "\tc18.loc53 & 18 & 53.00000 & 1.5525484\\\\\n",
       "\tc19.loc63 & 19 & 63.00000 & 1.6020187\\\\\n",
       "\\end{tabular}\n"
      ],
      "text/markdown": [
       "\n",
       "A summary.scanone: 19 × 3\n",
       "\n",
       "| <!--/--> | chr &lt;fct&gt; | pos &lt;dbl&gt; | lod &lt;dbl&gt; |\n",
       "|---|---|---|---|\n",
       "| c1.loc83 | 1  | 83.00000 | 0.5129564 |\n",
       "| c2.loc14 | 2  | 14.00000 | 1.2027496 |\n",
       "| 16_9895528 | 3  | 75.26705 | 0.5564929 |\n",
       "| 7_19909323 | 4  | 71.05905 | 1.4673715 |\n",
       "| c5.loc53 | 5  | 53.00000 | 1.2699836 |\n",
       "| c6.loc66 | 6  | 66.00000 | 0.8215154 |\n",
       "| c7.loc56 | 7  | 56.00000 | 2.2224805 |\n",
       "| 8_11656031 | 8  | 36.09402 | 1.7216995 |\n",
       "| c9.loc37 | 9  | 37.00000 | 1.1927533 |\n",
       "| 10_710185 | 10 |  0.00000 | 3.7256481 |\n",
       "| c11.loc14 | 11 | 14.00000 | 0.3768929 |\n",
       "| c12.loc27 | 12 | 27.00000 | 0.9269323 |\n",
       "| c13.loc2 | 13 |  2.00000 | 0.5739471 |\n",
       "| 14_27233177 | 14 | 48.92605 | 0.5574124 |\n",
       "| 4_6943168 | 15 | 87.51705 | 2.3604335 |\n",
       "| 18_33757550 | 16 | 64.89503 | 2.1058920 |\n",
       "| c17.loc43 | 17 | 43.00000 | 0.4617229 |\n",
       "| c18.loc53 | 18 | 53.00000 | 1.5525484 |\n",
       "| c19.loc63 | 19 | 63.00000 | 1.6020187 |\n",
       "\n"
      ],
      "text/plain": [
       "            chr pos      lod      \n",
       "c1.loc83    1   83.00000 0.5129564\n",
       "c2.loc14    2   14.00000 1.2027496\n",
       "16_9895528  3   75.26705 0.5564929\n",
       "7_19909323  4   71.05905 1.4673715\n",
       "c5.loc53    5   53.00000 1.2699836\n",
       "c6.loc66    6   66.00000 0.8215154\n",
       "c7.loc56    7   56.00000 2.2224805\n",
       "8_11656031  8   36.09402 1.7216995\n",
       "c9.loc37    9   37.00000 1.1927533\n",
       "10_710185   10   0.00000 3.7256481\n",
       "c11.loc14   11  14.00000 0.3768929\n",
       "c12.loc27   12  27.00000 0.9269323\n",
       "c13.loc2    13   2.00000 0.5739471\n",
       "14_27233177 14  48.92605 0.5574124\n",
       "4_6943168   15  87.51705 2.3604335\n",
       "18_33757550 16  64.89503 2.1058920\n",
       "c17.loc43   17  43.00000 0.4617229\n",
       "c18.loc53   18  53.00000 1.5525484\n",
       "c19.loc63   19  63.00000 1.6020187"
      ]
     },
     "metadata": {},
     "output_type": "display_data"
    },
    {
     "data": {
      "image/png": "[encoded data removed]",
      "text/plain": [
       "plot without title"
      ]
     },
     "metadata": {
      "image/png": {
       "height": 420,
       "width": 420
      },
      "text/plain": {
       "height": 420,
       "width": 420
      }
     },
     "output_type": "display_data"
    }
   ],
   "source": [
    "#Deterime LOD Values\n",
    "TraitCIM<-cim(Map,pheno.col = colNum,method = \"hk\",\n",
    "              map.function = \"kosambi\") #Generate LOD Values\n",
    "plot(TraitCIM) #show LOD graph\n",
    "abline(h = LOD5,col = \"blue\") #overlay statistically significant line\n",
    "print(\"If nothing shows up, the values \n",
    "      are below the LOD5 score\") #warning for no peaks\n",
    "summary(TraitCIM)"
   ]
  },
  {
   "cell_type": "code",
   "execution_count": 16,
   "metadata": {},
   "outputs": [
    {
     "name": "stdin",
     "output_type": "stream",
     "text": [
      "Chromosome?  10\n"
     ]
    },
    {
     "data": {
      "image/png": "[encoded data removed]",
      "text/plain": [
       "plot without title"
      ]
     },
     "metadata": {
      "image/png": {
       "height": 420,
       "width": 420
      },
      "text/plain": {
       "height": 420,
       "width": 420
      }
     },
     "output_type": "display_data"
    }
   ],
   "source": [
    "#Chromosomal Analysis\n",
    "chr <- as.numeric(readline(\"Chromosome? \")) #collect chromosome to look at\n",
    "plot(TraitCIM, chr = chr,xlab = c(\"chr\",chr)) #Plot chr LOD scores\n",
    "abline(h = LOD5, col = \"blue\") #Statistically Significant"
   ]
  },
  {
   "cell_type": "code",
   "execution_count": 17,
   "metadata": {},
   "outputs": [
    {
     "data": {
      "text/html": [
       "<table>\n",
       "<caption>A scanone: 3 × 3</caption>\n",
       "<thead>\n",
       "\t<tr><th></th><th scope=col>chr</th><th scope=col>pos</th><th scope=col>lod</th></tr>\n",
       "\t<tr><th></th><th scope=col>&lt;fct&gt;</th><th scope=col>&lt;dbl&gt;</th><th scope=col>&lt;dbl&gt;</th></tr>\n",
       "</thead>\n",
       "<tbody>\n",
       "\t<tr><th scope=row>10_710185</th><td>10</td><td>0.000000</td><td>3.725648</td></tr>\n",
       "\t<tr><th scope=row>10_710185 </th><td>10</td><td>0.000000</td><td>3.725648</td></tr>\n",
       "\t<tr><th scope=row>10_402217</th><td>10</td><td>0.776002</td><td>3.346819</td></tr>\n",
       "</tbody>\n",
       "</table>\n"
      ],
      "text/latex": [
       "A scanone: 3 × 3\n",
       "\\begin{tabular}{r|lll}\n",
       "  & chr & pos & lod\\\\\n",
       "  & <fct> & <dbl> & <dbl>\\\\\n",
       "\\hline\n",
       "\t10\\_710185 & 10 & 0.000000 & 3.725648\\\\\n",
       "\t10\\_710185  & 10 & 0.000000 & 3.725648\\\\\n",
       "\t10\\_402217 & 10 & 0.776002 & 3.346819\\\\\n",
       "\\end{tabular}\n"
      ],
      "text/markdown": [
       "\n",
       "A scanone: 3 × 3\n",
       "\n",
       "| <!--/--> | chr &lt;fct&gt; | pos &lt;dbl&gt; | lod &lt;dbl&gt; |\n",
       "|---|---|---|---|\n",
       "| 10_710185 | 10 | 0.000000 | 3.725648 |\n",
       "| 10_710185  | 10 | 0.000000 | 3.725648 |\n",
       "| 10_402217 | 10 | 0.776002 | 3.346819 |\n",
       "\n"
      ],
      "text/plain": [
       "           chr pos      lod     \n",
       "10_710185  10  0.000000 3.725648\n",
       "10_710185  10  0.000000 3.725648\n",
       "10_402217  10  0.776002 3.346819"
      ]
     },
     "metadata": {},
     "output_type": "display_data"
    },
    {
     "data": {
      "text/html": [
       "<table>\n",
       "<caption>A scanone: 3 × 3</caption>\n",
       "<thead>\n",
       "\t<tr><th></th><th scope=col>chr</th><th scope=col>pos</th><th scope=col>lod</th></tr>\n",
       "\t<tr><th></th><th scope=col>&lt;fct&gt;</th><th scope=col>&lt;dbl&gt;</th><th scope=col>&lt;dbl&gt;</th></tr>\n",
       "</thead>\n",
       "<tbody>\n",
       "\t<tr><th scope=row>10_710185</th><td>10</td><td>0.000000</td><td>3.725648</td></tr>\n",
       "\t<tr><th scope=row>10_710185 </th><td>10</td><td>0.000000</td><td>3.725648</td></tr>\n",
       "\t<tr><th scope=row>10_419927</th><td>10</td><td>1.040003</td><td>1.862525</td></tr>\n",
       "</tbody>\n",
       "</table>\n"
      ],
      "text/latex": [
       "A scanone: 3 × 3\n",
       "\\begin{tabular}{r|lll}\n",
       "  & chr & pos & lod\\\\\n",
       "  & <fct> & <dbl> & <dbl>\\\\\n",
       "\\hline\n",
       "\t10\\_710185 & 10 & 0.000000 & 3.725648\\\\\n",
       "\t10\\_710185  & 10 & 0.000000 & 3.725648\\\\\n",
       "\t10\\_419927 & 10 & 1.040003 & 1.862525\\\\\n",
       "\\end{tabular}\n"
      ],
      "text/markdown": [
       "\n",
       "A scanone: 3 × 3\n",
       "\n",
       "| <!--/--> | chr &lt;fct&gt; | pos &lt;dbl&gt; | lod &lt;dbl&gt; |\n",
       "|---|---|---|---|\n",
       "| 10_710185 | 10 | 0.000000 | 3.725648 |\n",
       "| 10_710185  | 10 | 0.000000 | 3.725648 |\n",
       "| 10_419927 | 10 | 1.040003 | 1.862525 |\n",
       "\n"
      ],
      "text/plain": [
       "           chr pos      lod     \n",
       "10_710185  10  0.000000 3.725648\n",
       "10_710185  10  0.000000 3.725648\n",
       "10_419927  10  1.040003 1.862525"
      ]
     },
     "metadata": {},
     "output_type": "display_data"
    }
   ],
   "source": [
    "bayesint(TraitCIM, chr = chr, prob=0.95, expandtomarkers=TRUE) #calculate bayesian interval\n",
    "lodint(TraitCIM, chr = chr,expandtomarkers = TRUE ) #calculate LOD Support interval"
   ]
  },
  {
   "cell_type": "code",
   "execution_count": 18,
   "metadata": {},
   "outputs": [
    {
     "name": "stdin",
     "output_type": "stream",
     "text": [
      "Position for analysis:  0\n"
     ]
    },
    {
     "name": "stderr",
     "output_type": "stream",
     "text": [
      "Warning message in getsex(cross):\n",
      "\"125 individuals with missing sex; assuming they're female\"\n",
      "Warning message in fitqtlengine(pheno = pheno, qtl = qtl, covar = covar, formula = formula, :\n",
      "\"Dropping 158 individuals with missing phenotypes.\n",
      "\"\n",
      "Warning message in getsex(cross):\n",
      "\"125 individuals with missing sex; assuming they're female\"\n"
     ]
    },
    {
     "data": {
      "text/plain": [
       "\n",
       "\t\tfitqtl summary\n",
       "\n",
       "Method: Haley-Knott regression \n",
       "Model:  normal phenotype\n",
       "Number of observations : 136 \n",
       "\n",
       "Full model result\n",
       "----------------------------------  \n",
       "Model formula: y ~ Q1 \n",
       "\n",
       "       df        SS         MS      LOD     %var Pvalue(Chi2)    Pvalue(F)\n",
       "Model   1  155.0759 155.075933 3.774568 11.99818 3.056227e-05 3.614484e-05\n",
       "Error 134 1137.4195   8.488205                                            \n",
       "Total 135 1292.4954                                                       \n",
       "\n",
       "\n",
       "Estimated effects:\n",
       "-----------------\n",
       "             est     SE      t\n",
       "Intercept 6.0565 0.2516 24.074\n",
       "10@0.0    2.1511 0.5033  4.274\n"
      ]
     },
     "metadata": {},
     "output_type": "display_data"
    }
   ],
   "source": [
    "p <- as.numeric(readline(\"Position for analysis: \"))\n",
    "qtl <- makeqtl(Map, chr = chr, pos = p, what=\"prob\") #pulls genotype probabilities\n",
    "fitqtl <- fitqtl(Map, pheno.col=colNum, qtl = qtl, covar=NULL,\n",
    "       method= \"hk\",model=\"normal\",\n",
    "       dropone=TRUE, get.ests=TRUE,run.checks=TRUE,\n",
    "       tol=1e-4, maxit=1000, forceXcovar=FALSE) #sees how well our data fits a given formula \n",
    "          # If you see \"error: object of type 'closure' is not subsettable\", remove \"formula,\" from the fitqtl argument list.\n",
    "summary(fitqtl) #Print results of the analysis"
   ]
  }
 ],
 "metadata": {
  "kernelspec": {
   "display_name": "R",
   "language": "R",
   "name": "ir"
  },
  "language_info": {
   "codemirror_mode": "r",
   "file_extension": ".r",
   "mimetype": "text/x-r-source",
   "name": "R",
   "pygments_lexer": "r",
   "version": "3.6.3"
  }
 },
 "nbformat": 4,
 "nbformat_minor": 4
}
