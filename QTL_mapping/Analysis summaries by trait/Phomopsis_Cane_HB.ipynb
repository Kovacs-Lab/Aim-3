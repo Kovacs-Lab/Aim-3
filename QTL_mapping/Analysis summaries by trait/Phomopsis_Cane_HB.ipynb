{
 "cells": [
  {
   "cell_type": "markdown",
   "metadata": {},
   "source": [
    "This analysis is in the order of Female then Male"
   ]
  },
  {
   "cell_type": "code",
   "execution_count": 1,
   "metadata": {},
   "outputs": [
    {
     "name": "stderr",
     "output_type": "stream",
     "text": [
      "Installing package into 'C:/Users/Courtney/Documents/R/win-library/3.6'\n",
      "(as 'lib' is unspecified)\n",
      "\n"
     ]
    },
    {
     "name": "stdout",
     "output_type": "stream",
     "text": [
      "package 'qtl' successfully unpacked and MD5 sums checked\n"
     ]
    },
    {
     "name": "stderr",
     "output_type": "stream",
     "text": [
      "Warning message:\n",
      "\"cannot remove prior installation of package 'qtl'\"\n",
      "Warning message in file.copy(savedcopy, lib, recursive = TRUE):\n",
      "\"problem copying C:\\Users\\Courtney\\Documents\\R\\win-library\\3.6\\00LOCK\\qtl\\libs\\x64\\qtl.dll to C:\\Users\\Courtney\\Documents\\R\\win-library\\3.6\\qtl\\libs\\x64\\qtl.dll: Permission denied\"\n",
      "Warning message:\n",
      "\"restored 'qtl'\"\n"
     ]
    },
    {
     "name": "stdout",
     "output_type": "stream",
     "text": [
      "\n",
      "The downloaded binary packages are in\n",
      "\tC:\\Users\\Courtney\\AppData\\Local\\Temp\\RtmpAhc4Pw\\downloaded_packages\n"
     ]
    },
    {
     "name": "stderr",
     "output_type": "stream",
     "text": [
      "Installing package into 'C:/Users/Courtney/Documents/R/win-library/3.6'\n",
      "(as 'lib' is unspecified)\n",
      "\n"
     ]
    },
    {
     "name": "stdout",
     "output_type": "stream",
     "text": [
      "package 'qtlcharts' successfully unpacked and MD5 sums checked\n",
      "\n",
      "The downloaded binary packages are in\n",
      "\tC:\\Users\\Courtney\\AppData\\Local\\Temp\\RtmpAhc4Pw\\downloaded_packages\n"
     ]
    },
    {
     "name": "stderr",
     "output_type": "stream",
     "text": [
      "Installing package into 'C:/Users/Courtney/Documents/R/win-library/3.6'\n",
      "(as 'lib' is unspecified)\n",
      "\n"
     ]
    },
    {
     "name": "stdout",
     "output_type": "stream",
     "text": [
      "package 'LinkageMapView' successfully unpacked and MD5 sums checked\n",
      "\n",
      "The downloaded binary packages are in\n",
      "\tC:\\Users\\Courtney\\AppData\\Local\\Temp\\RtmpAhc4Pw\\downloaded_packages\n"
     ]
    },
    {
     "name": "stderr",
     "output_type": "stream",
     "text": [
      "Installing package into 'C:/Users/Courtney/Documents/R/win-library/3.6'\n",
      "(as 'lib' is unspecified)\n",
      "\n"
     ]
    },
    {
     "name": "stdout",
     "output_type": "stream",
     "text": [
      "package 'rcompanion' successfully unpacked and MD5 sums checked\n",
      "\n",
      "The downloaded binary packages are in\n",
      "\tC:\\Users\\Courtney\\AppData\\Local\\Temp\\RtmpAhc4Pw\\downloaded_packages\n"
     ]
    }
   ],
   "source": [
    "install.packages('qtl') #Main package, for analysis\n",
    "install.packages('qtlcharts') #accessory, for displaying graphs\n",
    "install.packages('LinkageMapView') #accessory, for displaying linkage maps\n",
    "install.packages('rcompanion')# for plotNormalHistogram"
   ]
  },
  {
   "cell_type": "code",
   "execution_count": 2,
   "metadata": {},
   "outputs": [],
   "source": [
    "library(qtl) #load packages\n",
    "library(qtlcharts)\n",
    "library(LinkageMapView)\n",
    "library(rcompanion)"
   ]
  },
  {
   "cell_type": "code",
   "execution_count": 3,
   "metadata": {},
   "outputs": [
    {
     "name": "stdout",
     "output_type": "stream",
     "text": [
      "[1] \"Make sure to input names AS THEY APPEAR on the csv!!\"\n"
     ]
    },
    {
     "name": "stdin",
     "output_type": "stream",
     "text": [
      "Enter file name (Either FemaleMap.csv or MaleMap.csv):  FemaleMap.csv\n",
      "First Genotype (homozygous) (For example ll):  ll\n",
      "Second Genotype (heterozygous) (for example lm):  lm\n",
      "Column Number:  39\n"
     ]
    }
   ],
   "source": [
    "#Collecting enviroment variables\n",
    "print(\"Make sure to input names AS THEY APPEAR on the csv!!\") #Just a user warning\n",
    "fileName <- readline(\"Enter file name (Either FemaleMap.csv or MaleMap.csv): \") #Mapping table file\n",
    "genotypeName <- c(readline(\"First Genotype (homozygous) (For example ll): \"),\n",
    "                  readline(\"Second Genotype (heterozygous) (for example lm): \")) #For example \"nn\", \"np\"\n",
    "alleleName <- c(substr(genotypeName[2],1,1) ,substr(genotypeName[2],2,2))\n",
    "naNames <- c(\"NA\",\"--\") #For example \"NA\", \"--\"\n",
    "colNum <- as.numeric(readline(\"Column Number: \")) #Column for pheno of interest"
   ]
  },
  {
   "cell_type": "code",
   "execution_count": 4,
   "metadata": {},
   "outputs": [
    {
     "name": "stdout",
     "output_type": "stream",
     "text": [
      " --Read the following data:\n",
      "\t 294  individuals\n",
      "\t 1100  markers\n",
      "\t 44  phenotypes\n"
     ]
    },
    {
     "name": "stderr",
     "output_type": "stream",
     "text": [
      "Warning message in summary.cross(cross):\n",
      "\"Some markers at the same position on chr 1,2,4,5,7,8,9,10,11,12,13,14,16,17,18,19; use jittermap().\"\n"
     ]
    },
    {
     "name": "stdout",
     "output_type": "stream",
     "text": [
      " --Cross type: bc \n"
     ]
    },
    {
     "data": {
      "image/png": "[encoded data removed]",
      "text/plain": [
       "Plot with title \"Genetic map\""
      ]
     },
     "metadata": {
      "image/png": {
       "height": 420,
       "width": 420
      },
      "text/plain": {
       "height": 420,
       "width": 420
      }
     },
     "output_type": "display_data"
    }
   ],
   "source": [
    "#Map generation\n",
    "Map <- read.cross(format = 'csv',file = fileName \n",
    "                  ,genotypes = genotypeName,\n",
    "                  alleles = alleleName,na.strings = naNames) #generate linkage map\n",
    "Map <- jittermap(Map) #make sure no markers are in the same location\n",
    "Map <- calc.genoprob(Map,step = 1,map.function = \"kosambi\") #associate markers with full genotypes\n",
    "plot.map(Map) #draw linkage map"
   ]
  },
  {
   "cell_type": "code",
   "execution_count": 5,
   "metadata": {},
   "outputs": [
    {
     "data": {
      "image/png": "[encoded data removed]",
      "text/plain": [
       "Plot with title \"\""
      ]
     },
     "metadata": {
      "image/png": {
       "height": 420,
       "width": 420
      },
      "text/plain": {
       "height": 420,
       "width": 420
      }
     },
     "output_type": "display_data"
    }
   ],
   "source": [
    "plotNormalHistogram(Map$pheno[,colNum]) #normal histogram of pheno of interest"
   ]
  },
  {
   "cell_type": "markdown",
   "metadata": {},
   "source": [
    "Outliers exist in this dataset. Will need to be analyized. "
   ]
  },
  {
   "cell_type": "code",
   "execution_count": 6,
   "metadata": {},
   "outputs": [
    {
     "data": {
      "text/plain": [
       "LOD thresholds (1000 permutations)\n",
       "   [,1]\n",
       "5% 4.01\n",
       "1% 4.65"
      ]
     },
     "metadata": {},
     "output_type": "display_data"
    },
    {
     "data": {
      "image/png": "[encoded data removed]",
      "text/plain": [
       "Plot with title \"\""
      ]
     },
     "metadata": {
      "image/png": {
       "height": 420,
       "width": 420
      },
      "text/plain": {
       "height": 420,
       "width": 420
      }
     },
     "output_type": "display_data"
    }
   ],
   "source": [
    "#Compute statistically significant values\n",
    "TraitCIM1000 <- cim(Map,pheno.col = colNum,method = \"hk\",\n",
    "                    map.function = \"kosambi\",n.perm = 1000) # Function will take a moment to run, determines LOD value\n",
    "plot(TraitCIM1000,col = 'green') #show distribution of lod scores\n",
    "summary(TraitCIM1000,alpha=c(.05,.01))"
   ]
  },
  {
   "cell_type": "code",
   "execution_count": 7,
   "metadata": {},
   "outputs": [
    {
     "name": "stdout",
     "output_type": "stream",
     "text": [
      "[1] \"If nothing shows up, the values \\n      are below the LOD5 score\"\n"
     ]
    },
    {
     "data": {
      "text/html": [
       "<table>\n",
       "<caption>A summary.scanone: 19 × 3</caption>\n",
       "<thead>\n",
       "\t<tr><th></th><th scope=col>chr</th><th scope=col>pos</th><th scope=col>lod</th></tr>\n",
       "\t<tr><th></th><th scope=col>&lt;fct&gt;</th><th scope=col>&lt;dbl&gt;</th><th scope=col>&lt;dbl&gt;</th></tr>\n",
       "</thead>\n",
       "<tbody>\n",
       "\t<tr><th scope=row>c1.loc70</th><td>1 </td><td>70.00000</td><td>0.4338639</td></tr>\n",
       "\t<tr><th scope=row>c2.loc50</th><td>2 </td><td>50.00000</td><td>1.7415697</td></tr>\n",
       "\t<tr><th scope=row>c3.loc61</th><td>3 </td><td>61.00000</td><td>1.6016890</td></tr>\n",
       "\t<tr><th scope=row>c4.loc25</th><td>4 </td><td>25.00000</td><td>1.4947810</td></tr>\n",
       "\t<tr><th scope=row>c5.loc49</th><td>5 </td><td>49.00000</td><td>1.1034146</td></tr>\n",
       "\t<tr><th scope=row>6_20137860</th><td>6 </td><td>28.59102</td><td>0.8805308</td></tr>\n",
       "\t<tr><th scope=row>7_9813672</th><td>7 </td><td>38.35404</td><td>2.6587334</td></tr>\n",
       "\t<tr><th scope=row>c8.loc7</th><td>8 </td><td> 7.00000</td><td>0.8290760</td></tr>\n",
       "\t<tr><th scope=row>9_19305720</th><td>9 </td><td>54.24107</td><td>0.6524781</td></tr>\n",
       "\t<tr><th scope=row>10_5004674</th><td>10</td><td>22.54601</td><td>1.2116909</td></tr>\n",
       "\t<tr><th scope=row>c11.loc62</th><td>11</td><td>62.00000</td><td>1.1745932</td></tr>\n",
       "\t<tr><th scope=row>c12.loc76</th><td>12</td><td>76.00000</td><td>0.9246084</td></tr>\n",
       "\t<tr><th scope=row>c13.loc34</th><td>13</td><td>34.00000</td><td>1.4248119</td></tr>\n",
       "\t<tr><th scope=row>c14.loc73</th><td>14</td><td>73.00000</td><td>0.6249822</td></tr>\n",
       "\t<tr><th scope=row>15_17070863</th><td>15</td><td>46.20804</td><td>0.6848987</td></tr>\n",
       "\t<tr><th scope=row>16_23286165</th><td>16</td><td>60.43805</td><td>1.1679961</td></tr>\n",
       "\t<tr><th scope=row>c17.loc22</th><td>17</td><td>22.00000</td><td>0.9999394</td></tr>\n",
       "\t<tr><th scope=row>c18.loc18</th><td>18</td><td>18.00000</td><td>1.8528715</td></tr>\n",
       "\t<tr><th scope=row>19_18512448</th><td>19</td><td>53.44007</td><td>1.2198850</td></tr>\n",
       "</tbody>\n",
       "</table>\n"
      ],
      "text/latex": [
       "A summary.scanone: 19 × 3\n",
       "\\begin{tabular}{r|lll}\n",
       "  & chr & pos & lod\\\\\n",
       "  & <fct> & <dbl> & <dbl>\\\\\n",
       "\\hline\n",
       "\tc1.loc70 & 1  & 70.00000 & 0.4338639\\\\\n",
       "\tc2.loc50 & 2  & 50.00000 & 1.7415697\\\\\n",
       "\tc3.loc61 & 3  & 61.00000 & 1.6016890\\\\\n",
       "\tc4.loc25 & 4  & 25.00000 & 1.4947810\\\\\n",
       "\tc5.loc49 & 5  & 49.00000 & 1.1034146\\\\\n",
       "\t6\\_20137860 & 6  & 28.59102 & 0.8805308\\\\\n",
       "\t7\\_9813672 & 7  & 38.35404 & 2.6587334\\\\\n",
       "\tc8.loc7 & 8  &  7.00000 & 0.8290760\\\\\n",
       "\t9\\_19305720 & 9  & 54.24107 & 0.6524781\\\\\n",
       "\t10\\_5004674 & 10 & 22.54601 & 1.2116909\\\\\n",
       "\tc11.loc62 & 11 & 62.00000 & 1.1745932\\\\\n",
       "\tc12.loc76 & 12 & 76.00000 & 0.9246084\\\\\n",
       "\tc13.loc34 & 13 & 34.00000 & 1.4248119\\\\\n",
       "\tc14.loc73 & 14 & 73.00000 & 0.6249822\\\\\n",
       "\t15\\_17070863 & 15 & 46.20804 & 0.6848987\\\\\n",
       "\t16\\_23286165 & 16 & 60.43805 & 1.1679961\\\\\n",
       "\tc17.loc22 & 17 & 22.00000 & 0.9999394\\\\\n",
       "\tc18.loc18 & 18 & 18.00000 & 1.8528715\\\\\n",
       "\t19\\_18512448 & 19 & 53.44007 & 1.2198850\\\\\n",
       "\\end{tabular}\n"
      ],
      "text/markdown": [
       "\n",
       "A summary.scanone: 19 × 3\n",
       "\n",
       "| <!--/--> | chr &lt;fct&gt; | pos &lt;dbl&gt; | lod &lt;dbl&gt; |\n",
       "|---|---|---|---|\n",
       "| c1.loc70 | 1  | 70.00000 | 0.4338639 |\n",
       "| c2.loc50 | 2  | 50.00000 | 1.7415697 |\n",
       "| c3.loc61 | 3  | 61.00000 | 1.6016890 |\n",
       "| c4.loc25 | 4  | 25.00000 | 1.4947810 |\n",
       "| c5.loc49 | 5  | 49.00000 | 1.1034146 |\n",
       "| 6_20137860 | 6  | 28.59102 | 0.8805308 |\n",
       "| 7_9813672 | 7  | 38.35404 | 2.6587334 |\n",
       "| c8.loc7 | 8  |  7.00000 | 0.8290760 |\n",
       "| 9_19305720 | 9  | 54.24107 | 0.6524781 |\n",
       "| 10_5004674 | 10 | 22.54601 | 1.2116909 |\n",
       "| c11.loc62 | 11 | 62.00000 | 1.1745932 |\n",
       "| c12.loc76 | 12 | 76.00000 | 0.9246084 |\n",
       "| c13.loc34 | 13 | 34.00000 | 1.4248119 |\n",
       "| c14.loc73 | 14 | 73.00000 | 0.6249822 |\n",
       "| 15_17070863 | 15 | 46.20804 | 0.6848987 |\n",
       "| 16_23286165 | 16 | 60.43805 | 1.1679961 |\n",
       "| c17.loc22 | 17 | 22.00000 | 0.9999394 |\n",
       "| c18.loc18 | 18 | 18.00000 | 1.8528715 |\n",
       "| 19_18512448 | 19 | 53.44007 | 1.2198850 |\n",
       "\n"
      ],
      "text/plain": [
       "            chr pos      lod      \n",
       "c1.loc70    1   70.00000 0.4338639\n",
       "c2.loc50    2   50.00000 1.7415697\n",
       "c3.loc61    3   61.00000 1.6016890\n",
       "c4.loc25    4   25.00000 1.4947810\n",
       "c5.loc49    5   49.00000 1.1034146\n",
       "6_20137860  6   28.59102 0.8805308\n",
       "7_9813672   7   38.35404 2.6587334\n",
       "c8.loc7     8    7.00000 0.8290760\n",
       "9_19305720  9   54.24107 0.6524781\n",
       "10_5004674  10  22.54601 1.2116909\n",
       "c11.loc62   11  62.00000 1.1745932\n",
       "c12.loc76   12  76.00000 0.9246084\n",
       "c13.loc34   13  34.00000 1.4248119\n",
       "c14.loc73   14  73.00000 0.6249822\n",
       "15_17070863 15  46.20804 0.6848987\n",
       "16_23286165 16  60.43805 1.1679961\n",
       "c17.loc22   17  22.00000 0.9999394\n",
       "c18.loc18   18  18.00000 1.8528715\n",
       "19_18512448 19  53.44007 1.2198850"
      ]
     },
     "metadata": {},
     "output_type": "display_data"
    },
    {
     "data": {
      "image/png": "[encoded data removed]",
      "text/plain": [
       "plot without title"
      ]
     },
     "metadata": {
      "image/png": {
       "height": 420,
       "width": 420
      },
      "text/plain": {
       "height": 420,
       "width": 420
      }
     },
     "output_type": "display_data"
    }
   ],
   "source": [
    "#Deterime LOD Values\n",
    "LOD5 <- summary(TraitCIM1000,alpha=c(.05))\n",
    "TraitCIM<-cim(Map,pheno.col = colNum,method = \"hk\",\n",
    "              map.function = \"kosambi\") #Generate LOD Values\n",
    "plot(TraitCIM) #show LOD graph\n",
    "abline(h = LOD5,col = \"blue\") #overlay statistically significant line\n",
    "print(\"If nothing shows up, the values \n",
    "      are below the LOD5 score\") #warning for no peaks\n",
    "summary(TraitCIM)"
   ]
  },
  {
   "cell_type": "code",
   "execution_count": 8,
   "metadata": {},
   "outputs": [
    {
     "name": "stdin",
     "output_type": "stream",
     "text": [
      "Chromosome?  7\n"
     ]
    },
    {
     "data": {
      "image/png": "[encoded data removed]",
      "text/plain": [
       "plot without title"
      ]
     },
     "metadata": {
      "image/png": {
       "height": 420,
       "width": 420
      },
      "text/plain": {
       "height": 420,
       "width": 420
      }
     },
     "output_type": "display_data"
    }
   ],
   "source": [
    "#Chromosomal Analysis\n",
    "chr <- as.numeric(readline(\"Chromosome? \")) #collect chromosome to look at\n",
    "plot(TraitCIM, chr = chr,xlab = c(\"chr\",chr)) #Plot chr LOD scores\n",
    "abline(h = LOD5, col = \"blue\") #Statistically Significant"
   ]
  },
  {
   "cell_type": "code",
   "execution_count": 9,
   "metadata": {},
   "outputs": [
    {
     "data": {
      "text/html": [
       "<table>\n",
       "<caption>A scanone: 3 × 3</caption>\n",
       "<thead>\n",
       "\t<tr><th></th><th scope=col>chr</th><th scope=col>pos</th><th scope=col>lod</th></tr>\n",
       "\t<tr><th></th><th scope=col>&lt;fct&gt;</th><th scope=col>&lt;dbl&gt;</th><th scope=col>&lt;dbl&gt;</th></tr>\n",
       "</thead>\n",
       "<tbody>\n",
       "\t<tr><th scope=row>7_353165</th><td>7</td><td> 0.00000</td><td>0.760014</td></tr>\n",
       "\t<tr><th scope=row>7_9813672</th><td>7</td><td>38.35404</td><td>2.658733</td></tr>\n",
       "\t<tr><th scope=row>7_26481209</th><td>7</td><td>96.15911</td><td>1.361048</td></tr>\n",
       "</tbody>\n",
       "</table>\n"
      ],
      "text/latex": [
       "A scanone: 3 × 3\n",
       "\\begin{tabular}{r|lll}\n",
       "  & chr & pos & lod\\\\\n",
       "  & <fct> & <dbl> & <dbl>\\\\\n",
       "\\hline\n",
       "\t7\\_353165 & 7 &  0.00000 & 0.760014\\\\\n",
       "\t7\\_9813672 & 7 & 38.35404 & 2.658733\\\\\n",
       "\t7\\_26481209 & 7 & 96.15911 & 1.361048\\\\\n",
       "\\end{tabular}\n"
      ],
      "text/markdown": [
       "\n",
       "A scanone: 3 × 3\n",
       "\n",
       "| <!--/--> | chr &lt;fct&gt; | pos &lt;dbl&gt; | lod &lt;dbl&gt; |\n",
       "|---|---|---|---|\n",
       "| 7_353165 | 7 |  0.00000 | 0.760014 |\n",
       "| 7_9813672 | 7 | 38.35404 | 2.658733 |\n",
       "| 7_26481209 | 7 | 96.15911 | 1.361048 |\n",
       "\n"
      ],
      "text/plain": [
       "           chr pos      lod     \n",
       "7_353165   7    0.00000 0.760014\n",
       "7_9813672  7   38.35404 2.658733\n",
       "7_26481209 7   96.15911 1.361048"
      ]
     },
     "metadata": {},
     "output_type": "display_data"
    },
    {
     "data": {
      "text/html": [
       "<table>\n",
       "<caption>A scanone: 3 × 3</caption>\n",
       "<thead>\n",
       "\t<tr><th></th><th scope=col>chr</th><th scope=col>pos</th><th scope=col>lod</th></tr>\n",
       "\t<tr><th></th><th scope=col>&lt;fct&gt;</th><th scope=col>&lt;dbl&gt;</th><th scope=col>&lt;dbl&gt;</th></tr>\n",
       "</thead>\n",
       "<tbody>\n",
       "\t<tr><th scope=row>7_9416119</th><td>7</td><td>38.16104</td><td>0.2235647</td></tr>\n",
       "\t<tr><th scope=row>7_9813672</th><td>7</td><td>38.35404</td><td>2.6587334</td></tr>\n",
       "\t<tr><th scope=row>7_26481209</th><td>7</td><td>96.15911</td><td>1.3610481</td></tr>\n",
       "</tbody>\n",
       "</table>\n"
      ],
      "text/latex": [
       "A scanone: 3 × 3\n",
       "\\begin{tabular}{r|lll}\n",
       "  & chr & pos & lod\\\\\n",
       "  & <fct> & <dbl> & <dbl>\\\\\n",
       "\\hline\n",
       "\t7\\_9416119 & 7 & 38.16104 & 0.2235647\\\\\n",
       "\t7\\_9813672 & 7 & 38.35404 & 2.6587334\\\\\n",
       "\t7\\_26481209 & 7 & 96.15911 & 1.3610481\\\\\n",
       "\\end{tabular}\n"
      ],
      "text/markdown": [
       "\n",
       "A scanone: 3 × 3\n",
       "\n",
       "| <!--/--> | chr &lt;fct&gt; | pos &lt;dbl&gt; | lod &lt;dbl&gt; |\n",
       "|---|---|---|---|\n",
       "| 7_9416119 | 7 | 38.16104 | 0.2235647 |\n",
       "| 7_9813672 | 7 | 38.35404 | 2.6587334 |\n",
       "| 7_26481209 | 7 | 96.15911 | 1.3610481 |\n",
       "\n"
      ],
      "text/plain": [
       "           chr pos      lod      \n",
       "7_9416119  7   38.16104 0.2235647\n",
       "7_9813672  7   38.35404 2.6587334\n",
       "7_26481209 7   96.15911 1.3610481"
      ]
     },
     "metadata": {},
     "output_type": "display_data"
    }
   ],
   "source": [
    "bayesint(TraitCIM, chr = chr, prob=0.95, expandtomarkers=TRUE) #calculate bayesian interval\n",
    "lodint(TraitCIM, chr = chr,expandtomarkers = TRUE ) #calculate LOD Support interval"
   ]
  },
  {
   "cell_type": "code",
   "execution_count": 10,
   "metadata": {},
   "outputs": [
    {
     "name": "stdin",
     "output_type": "stream",
     "text": [
      "Position for analysis:  38.35404\n"
     ]
    },
    {
     "name": "stderr",
     "output_type": "stream",
     "text": [
      "Warning message in getsex(cross):\n",
      "\"125 individuals with missing sex; assuming they're female\"\n",
      "Warning message in fitqtlengine(pheno = pheno, qtl = qtl, covar = covar, formula = formula, :\n",
      "\"Dropping 74 individuals with missing phenotypes.\n",
      "\"\n",
      "Warning message in getsex(cross):\n",
      "\"125 individuals with missing sex; assuming they're female\"\n"
     ]
    },
    {
     "data": {
      "text/plain": [
       "\n",
       "\t\tfitqtl summary\n",
       "\n",
       "Method: Haley-Knott regression \n",
       "Model:  normal phenotype\n",
       "Number of observations : 220 \n",
       "\n",
       "Full model result\n",
       "----------------------------------  \n",
       "Model formula: y ~ Q1 \n",
       "\n",
       "       df         SS        MS      LOD     %var Pvalue(Chi2)    Pvalue(F)\n",
       "Model   1   5.729811 5.7298106 2.612012 5.320832 0.0005238587 0.0005636868\n",
       "Error 218 101.956553 0.4676906                                            \n",
       "Total 219 107.686364                                                      \n",
       "\n",
       "\n",
       "Estimated effects:\n",
       "-----------------\n",
       "             est     SE     t\n",
       "Intercept 0.8512 0.0467 18.23\n",
       "7@38.4    1.5333 0.4381  3.50\n"
      ]
     },
     "metadata": {},
     "output_type": "display_data"
    }
   ],
   "source": [
    "p <- as.numeric(readline(\"Position for analysis: \"))\n",
    "qtl <- makeqtl(Map, chr = chr, pos = p, what=\"prob\") #pulls genotype probabilities\n",
    "fitqtl <- fitqtl(Map, pheno.col=colNum, qtl = qtl, covar=NULL,\n",
    "       method= \"hk\",model=\"normal\",\n",
    "       dropone=TRUE, get.ests=TRUE,run.checks=TRUE,\n",
    "       tol=1e-4, maxit=1000, forceXcovar=FALSE) #sees how well our data fits a given formula \n",
    "          # If you see \"error: object of type 'closure' is not subsettable\", remove \"formula,\" from the fitqtl argument list.\n",
    "summary(fitqtl) #Print results of the analysis"
   ]
  },
  {
   "cell_type": "code",
   "execution_count": 11,
   "metadata": {},
   "outputs": [
    {
     "name": "stdout",
     "output_type": "stream",
     "text": [
      "[1] \"Make sure to input names AS THEY APPEAR on the csv!!\"\n"
     ]
    },
    {
     "name": "stdin",
     "output_type": "stream",
     "text": [
      "Enter file name (Either FemaleMap.csv or MaleMap.csv):  MaleMap.csv\n",
      "First Genotype (homozygous) (For example ll):  nn\n",
      "Second Genotype (heterozygous) (for example lm):  np\n",
      "Column Number:  39\n"
     ]
    }
   ],
   "source": [
    "#Collecting enviroment variables\n",
    "print(\"Make sure to input names AS THEY APPEAR on the csv!!\") #Just a user warning\n",
    "fileName <- readline(\"Enter file name (Either FemaleMap.csv or MaleMap.csv): \") #Mapping table file\n",
    "genotypeName <- c(readline(\"First Genotype (homozygous) (For example ll): \"),\n",
    "                  readline(\"Second Genotype (heterozygous) (for example lm): \")) #For example \"nn\", \"np\"\n",
    "alleleName <- c(substr(genotypeName[2],1,1) ,substr(genotypeName[2],2,2))\n",
    "naNames <- c(\"NA\",\"--\") #For example \"NA\", \"--\"\n",
    "colNum <- as.numeric(readline(\"Column Number: \")) #Column for pheno of interest"
   ]
  },
  {
   "cell_type": "code",
   "execution_count": 12,
   "metadata": {},
   "outputs": [
    {
     "name": "stdout",
     "output_type": "stream",
     "text": [
      " --Read the following data:\n",
      "\t 294  individuals\n",
      "\t 1128  markers\n",
      "\t 44  phenotypes\n"
     ]
    },
    {
     "name": "stderr",
     "output_type": "stream",
     "text": [
      "Warning message in summary.cross(cross):\n",
      "\"Some markers at the same position on chr 1,3,4,5,6,7,8,9,10,12,13,14,15,16,17,18,19; use jittermap().\"\n"
     ]
    },
    {
     "name": "stdout",
     "output_type": "stream",
     "text": [
      " --Cross type: bc \n"
     ]
    },
    {
     "data": {
      "image/png": "[encoded data removed]",
      "text/plain": [
       "Plot with title \"Genetic map\""
      ]
     },
     "metadata": {
      "image/png": {
       "height": 420,
       "width": 420
      },
      "text/plain": {
       "height": 420,
       "width": 420
      }
     },
     "output_type": "display_data"
    }
   ],
   "source": [
    "#Map generation\n",
    "Map <- read.cross(format = 'csv',file = fileName \n",
    "                  ,genotypes = genotypeName,\n",
    "                  alleles = alleleName,na.strings = naNames) #generate linkage map\n",
    "Map <- jittermap(Map) #make sure no markers are in the same location\n",
    "Map <- calc.genoprob(Map,step = 1,map.function = \"kosambi\") #associate markers with full genotypes\n",
    "plot.map(Map) #draw linkage map"
   ]
  },
  {
   "cell_type": "code",
   "execution_count": 13,
   "metadata": {},
   "outputs": [
    {
     "data": {
      "image/png": "[encoded data removed]",
      "text/plain": [
       "Plot with title \"\""
      ]
     },
     "metadata": {
      "image/png": {
       "height": 420,
       "width": 420
      },
      "text/plain": {
       "height": 420,
       "width": 420
      }
     },
     "output_type": "display_data"
    }
   ],
   "source": [
    "plotNormalHistogram(Map$pheno[,colNum]) #normal histogram of pheno of interest"
   ]
  },
  {
   "cell_type": "markdown",
   "metadata": {},
   "source": [
    "Outliers exist in this data. "
   ]
  },
  {
   "cell_type": "code",
   "execution_count": 14,
   "metadata": {},
   "outputs": [
    {
     "data": {
      "text/plain": [
       "LOD thresholds (1000 permutations)\n",
       "   [,1]\n",
       "5% 4.09\n",
       "1% 4.91"
      ]
     },
     "metadata": {},
     "output_type": "display_data"
    },
    {
     "data": {
      "image/png": "[encoded data removed]",
      "text/plain": [
       "Plot with title \"\""
      ]
     },
     "metadata": {
      "image/png": {
       "height": 420,
       "width": 420
      },
      "text/plain": {
       "height": 420,
       "width": 420
      }
     },
     "output_type": "display_data"
    }
   ],
   "source": [
    "#Compute statistically significant values\n",
    "TraitCIM1000 <- cim(Map,pheno.col = colNum,method = \"hk\",\n",
    "                    map.function = \"kosambi\",n.perm = 1000) # Function will take a moment to run, determines LOD value\n",
    "plot(TraitCIM1000,col = 'green') #show distribution of lod scores\n",
    "summary(TraitCIM1000,alpha=c(.05,.01))"
   ]
  },
  {
   "cell_type": "code",
   "execution_count": 15,
   "metadata": {},
   "outputs": [
    {
     "name": "stdout",
     "output_type": "stream",
     "text": [
      "[1] \"If nothing shows up, the values \\n      are below the LOD5 score\"\n"
     ]
    },
    {
     "data": {
      "text/html": [
       "<table>\n",
       "<caption>A summary.scanone: 19 × 3</caption>\n",
       "<thead>\n",
       "\t<tr><th></th><th scope=col>chr</th><th scope=col>pos</th><th scope=col>lod</th></tr>\n",
       "\t<tr><th></th><th scope=col>&lt;fct&gt;</th><th scope=col>&lt;dbl&gt;</th><th scope=col>&lt;dbl&gt;</th></tr>\n",
       "</thead>\n",
       "<tbody>\n",
       "\t<tr><th scope=row>c1.loc69</th><td>1 </td><td>69.000000</td><td>2.1758895</td></tr>\n",
       "\t<tr><th scope=row>2_681715</th><td>2 </td><td> 0.000000</td><td>2.0857774</td></tr>\n",
       "\t<tr><th scope=row>16_9895528</th><td>3 </td><td>75.267055</td><td>1.1614997</td></tr>\n",
       "\t<tr><th scope=row>c4.loc40</th><td>4 </td><td>40.000000</td><td>0.5594255</td></tr>\n",
       "\t<tr><th scope=row>c5.loc30</th><td>5 </td><td>30.000000</td><td>0.8455612</td></tr>\n",
       "\t<tr><th scope=row>4_23787821</th><td>6 </td><td> 2.378001</td><td>0.6049041</td></tr>\n",
       "\t<tr><th scope=row>7_14622444</th><td>7 </td><td>56.320044</td><td>0.7026695</td></tr>\n",
       "\t<tr><th scope=row>8_21026494</th><td>8 </td><td>83.646043</td><td>1.8039149</td></tr>\n",
       "\t<tr><th scope=row>9_20551059</th><td>9 </td><td>64.165044</td><td>0.9979407</td></tr>\n",
       "\t<tr><th scope=row>c10.loc57</th><td>10</td><td>57.000000</td><td>0.6884819</td></tr>\n",
       "\t<tr><th scope=row>c11.loc14</th><td>11</td><td>14.000000</td><td>0.4931497</td></tr>\n",
       "\t<tr><th scope=row>c12.loc4</th><td>12</td><td> 4.000000</td><td>0.9603861</td></tr>\n",
       "\t<tr><th scope=row>c13.loc82</th><td>13</td><td>82.000000</td><td>1.2027624</td></tr>\n",
       "\t<tr><th scope=row>14_1771453</th><td>14</td><td> 9.682009</td><td>1.9339212</td></tr>\n",
       "\t<tr><th scope=row>c15.loc40</th><td>15</td><td>40.000000</td><td>1.5002840</td></tr>\n",
       "\t<tr><th scope=row>c16.loc25</th><td>16</td><td>25.000000</td><td>3.0075548</td></tr>\n",
       "\t<tr><th scope=row>c17.loc27</th><td>17</td><td>27.000000</td><td>1.4297816</td></tr>\n",
       "\t<tr><th scope=row>18_11016489</th><td>18</td><td>47.913027</td><td>1.4964059</td></tr>\n",
       "\t<tr><th scope=row>c19.loc10</th><td>19</td><td>10.000000</td><td>0.7041292</td></tr>\n",
       "</tbody>\n",
       "</table>\n"
      ],
      "text/latex": [
       "A summary.scanone: 19 × 3\n",
       "\\begin{tabular}{r|lll}\n",
       "  & chr & pos & lod\\\\\n",
       "  & <fct> & <dbl> & <dbl>\\\\\n",
       "\\hline\n",
       "\tc1.loc69 & 1  & 69.000000 & 2.1758895\\\\\n",
       "\t2\\_681715 & 2  &  0.000000 & 2.0857774\\\\\n",
       "\t16\\_9895528 & 3  & 75.267055 & 1.1614997\\\\\n",
       "\tc4.loc40 & 4  & 40.000000 & 0.5594255\\\\\n",
       "\tc5.loc30 & 5  & 30.000000 & 0.8455612\\\\\n",
       "\t4\\_23787821 & 6  &  2.378001 & 0.6049041\\\\\n",
       "\t7\\_14622444 & 7  & 56.320044 & 0.7026695\\\\\n",
       "\t8\\_21026494 & 8  & 83.646043 & 1.8039149\\\\\n",
       "\t9\\_20551059 & 9  & 64.165044 & 0.9979407\\\\\n",
       "\tc10.loc57 & 10 & 57.000000 & 0.6884819\\\\\n",
       "\tc11.loc14 & 11 & 14.000000 & 0.4931497\\\\\n",
       "\tc12.loc4 & 12 &  4.000000 & 0.9603861\\\\\n",
       "\tc13.loc82 & 13 & 82.000000 & 1.2027624\\\\\n",
       "\t14\\_1771453 & 14 &  9.682009 & 1.9339212\\\\\n",
       "\tc15.loc40 & 15 & 40.000000 & 1.5002840\\\\\n",
       "\tc16.loc25 & 16 & 25.000000 & 3.0075548\\\\\n",
       "\tc17.loc27 & 17 & 27.000000 & 1.4297816\\\\\n",
       "\t18\\_11016489 & 18 & 47.913027 & 1.4964059\\\\\n",
       "\tc19.loc10 & 19 & 10.000000 & 0.7041292\\\\\n",
       "\\end{tabular}\n"
      ],
      "text/markdown": [
       "\n",
       "A summary.scanone: 19 × 3\n",
       "\n",
       "| <!--/--> | chr &lt;fct&gt; | pos &lt;dbl&gt; | lod &lt;dbl&gt; |\n",
       "|---|---|---|---|\n",
       "| c1.loc69 | 1  | 69.000000 | 2.1758895 |\n",
       "| 2_681715 | 2  |  0.000000 | 2.0857774 |\n",
       "| 16_9895528 | 3  | 75.267055 | 1.1614997 |\n",
       "| c4.loc40 | 4  | 40.000000 | 0.5594255 |\n",
       "| c5.loc30 | 5  | 30.000000 | 0.8455612 |\n",
       "| 4_23787821 | 6  |  2.378001 | 0.6049041 |\n",
       "| 7_14622444 | 7  | 56.320044 | 0.7026695 |\n",
       "| 8_21026494 | 8  | 83.646043 | 1.8039149 |\n",
       "| 9_20551059 | 9  | 64.165044 | 0.9979407 |\n",
       "| c10.loc57 | 10 | 57.000000 | 0.6884819 |\n",
       "| c11.loc14 | 11 | 14.000000 | 0.4931497 |\n",
       "| c12.loc4 | 12 |  4.000000 | 0.9603861 |\n",
       "| c13.loc82 | 13 | 82.000000 | 1.2027624 |\n",
       "| 14_1771453 | 14 |  9.682009 | 1.9339212 |\n",
       "| c15.loc40 | 15 | 40.000000 | 1.5002840 |\n",
       "| c16.loc25 | 16 | 25.000000 | 3.0075548 |\n",
       "| c17.loc27 | 17 | 27.000000 | 1.4297816 |\n",
       "| 18_11016489 | 18 | 47.913027 | 1.4964059 |\n",
       "| c19.loc10 | 19 | 10.000000 | 0.7041292 |\n",
       "\n"
      ],
      "text/plain": [
       "            chr pos       lod      \n",
       "c1.loc69    1   69.000000 2.1758895\n",
       "2_681715    2    0.000000 2.0857774\n",
       "16_9895528  3   75.267055 1.1614997\n",
       "c4.loc40    4   40.000000 0.5594255\n",
       "c5.loc30    5   30.000000 0.8455612\n",
       "4_23787821  6    2.378001 0.6049041\n",
       "7_14622444  7   56.320044 0.7026695\n",
       "8_21026494  8   83.646043 1.8039149\n",
       "9_20551059  9   64.165044 0.9979407\n",
       "c10.loc57   10  57.000000 0.6884819\n",
       "c11.loc14   11  14.000000 0.4931497\n",
       "c12.loc4    12   4.000000 0.9603861\n",
       "c13.loc82   13  82.000000 1.2027624\n",
       "14_1771453  14   9.682009 1.9339212\n",
       "c15.loc40   15  40.000000 1.5002840\n",
       "c16.loc25   16  25.000000 3.0075548\n",
       "c17.loc27   17  27.000000 1.4297816\n",
       "18_11016489 18  47.913027 1.4964059\n",
       "c19.loc10   19  10.000000 0.7041292"
      ]
     },
     "metadata": {},
     "output_type": "display_data"
    },
    {
     "data": {
      "image/png": "[encoded data removed]",
      "text/plain": [
       "plot without title"
      ]
     },
     "metadata": {
      "image/png": {
       "height": 420,
       "width": 420
      },
      "text/plain": {
       "height": 420,
       "width": 420
      }
     },
     "output_type": "display_data"
    }
   ],
   "source": [
    "#Deterime LOD Values\n",
    "TraitCIM<-cim(Map,pheno.col = colNum,method = \"hk\",\n",
    "              map.function = \"kosambi\") #Generate LOD Values\n",
    "plot(TraitCIM) #show LOD graph\n",
    "abline(h = LOD5,col = \"blue\") #overlay statistically significant line\n",
    "print(\"If nothing shows up, the values \n",
    "      are below the LOD5 score\") #warning for no peaks\n",
    "summary(TraitCIM)"
   ]
  },
  {
   "cell_type": "code",
   "execution_count": 16,
   "metadata": {},
   "outputs": [
    {
     "name": "stdin",
     "output_type": "stream",
     "text": [
      "Chromosome?  16\n"
     ]
    },
    {
     "data": {
      "image/png": "[encoded data removed]",
      "text/plain": [
       "plot without title"
      ]
     },
     "metadata": {
      "image/png": {
       "height": 420,
       "width": 420
      },
      "text/plain": {
       "height": 420,
       "width": 420
      }
     },
     "output_type": "display_data"
    }
   ],
   "source": [
    "#Chromosomal Analysis\n",
    "chr <- as.numeric(readline(\"Chromosome? \")) #collect chromosome to look at\n",
    "plot(TraitCIM, chr = chr,xlab = c(\"chr\",chr)) #Plot chr LOD scores\n",
    "abline(h = LOD5, col = \"blue\") #Statistically Significant"
   ]
  },
  {
   "cell_type": "code",
   "execution_count": 17,
   "metadata": {},
   "outputs": [
    {
     "data": {
      "text/html": [
       "<table>\n",
       "<caption>A scanone: 3 × 3</caption>\n",
       "<thead>\n",
       "\t<tr><th></th><th scope=col>chr</th><th scope=col>pos</th><th scope=col>lod</th></tr>\n",
       "\t<tr><th></th><th scope=col>&lt;fct&gt;</th><th scope=col>&lt;dbl&gt;</th><th scope=col>&lt;dbl&gt;</th></tr>\n",
       "</thead>\n",
       "<tbody>\n",
       "\t<tr><th scope=row>16_136028</th><td>16</td><td>10.65800</td><td>0.2181737</td></tr>\n",
       "\t<tr><th scope=row>c16.loc25</th><td>16</td><td>25.00000</td><td>3.0075548</td></tr>\n",
       "\t<tr><th scope=row>16_23321614</th><td>16</td><td>91.41305</td><td>0.9120672</td></tr>\n",
       "</tbody>\n",
       "</table>\n"
      ],
      "text/latex": [
       "A scanone: 3 × 3\n",
       "\\begin{tabular}{r|lll}\n",
       "  & chr & pos & lod\\\\\n",
       "  & <fct> & <dbl> & <dbl>\\\\\n",
       "\\hline\n",
       "\t16\\_136028 & 16 & 10.65800 & 0.2181737\\\\\n",
       "\tc16.loc25 & 16 & 25.00000 & 3.0075548\\\\\n",
       "\t16\\_23321614 & 16 & 91.41305 & 0.9120672\\\\\n",
       "\\end{tabular}\n"
      ],
      "text/markdown": [
       "\n",
       "A scanone: 3 × 3\n",
       "\n",
       "| <!--/--> | chr &lt;fct&gt; | pos &lt;dbl&gt; | lod &lt;dbl&gt; |\n",
       "|---|---|---|---|\n",
       "| 16_136028 | 16 | 10.65800 | 0.2181737 |\n",
       "| c16.loc25 | 16 | 25.00000 | 3.0075548 |\n",
       "| 16_23321614 | 16 | 91.41305 | 0.9120672 |\n",
       "\n"
      ],
      "text/plain": [
       "            chr pos      lod      \n",
       "16_136028   16  10.65800 0.2181737\n",
       "c16.loc25   16  25.00000 3.0075548\n",
       "16_23321614 16  91.41305 0.9120672"
      ]
     },
     "metadata": {},
     "output_type": "display_data"
    },
    {
     "data": {
      "text/html": [
       "<table>\n",
       "<caption>A scanone: 3 × 3</caption>\n",
       "<thead>\n",
       "\t<tr><th></th><th scope=col>chr</th><th scope=col>pos</th><th scope=col>lod</th></tr>\n",
       "\t<tr><th></th><th scope=col>&lt;fct&gt;</th><th scope=col>&lt;dbl&gt;</th><th scope=col>&lt;dbl&gt;</th></tr>\n",
       "</thead>\n",
       "<tbody>\n",
       "\t<tr><th scope=row>16_3022309</th><td>16</td><td>22.06101</td><td>0.7164233</td></tr>\n",
       "\t<tr><th scope=row>c16.loc25</th><td>16</td><td>25.00000</td><td>3.0075548</td></tr>\n",
       "\t<tr><th scope=row>16_6132045</th><td>16</td><td>27.39002</td><td>1.3482908</td></tr>\n",
       "</tbody>\n",
       "</table>\n"
      ],
      "text/latex": [
       "A scanone: 3 × 3\n",
       "\\begin{tabular}{r|lll}\n",
       "  & chr & pos & lod\\\\\n",
       "  & <fct> & <dbl> & <dbl>\\\\\n",
       "\\hline\n",
       "\t16\\_3022309 & 16 & 22.06101 & 0.7164233\\\\\n",
       "\tc16.loc25 & 16 & 25.00000 & 3.0075548\\\\\n",
       "\t16\\_6132045 & 16 & 27.39002 & 1.3482908\\\\\n",
       "\\end{tabular}\n"
      ],
      "text/markdown": [
       "\n",
       "A scanone: 3 × 3\n",
       "\n",
       "| <!--/--> | chr &lt;fct&gt; | pos &lt;dbl&gt; | lod &lt;dbl&gt; |\n",
       "|---|---|---|---|\n",
       "| 16_3022309 | 16 | 22.06101 | 0.7164233 |\n",
       "| c16.loc25 | 16 | 25.00000 | 3.0075548 |\n",
       "| 16_6132045 | 16 | 27.39002 | 1.3482908 |\n",
       "\n"
      ],
      "text/plain": [
       "           chr pos      lod      \n",
       "16_3022309 16  22.06101 0.7164233\n",
       "c16.loc25  16  25.00000 3.0075548\n",
       "16_6132045 16  27.39002 1.3482908"
      ]
     },
     "metadata": {},
     "output_type": "display_data"
    }
   ],
   "source": [
    "bayesint(TraitCIM, chr = chr, prob=0.95, expandtomarkers=TRUE) #calculate bayesian interval\n",
    "lodint(TraitCIM, chr = chr,expandtomarkers = TRUE ) #calculate LOD Support interval"
   ]
  },
  {
   "cell_type": "code",
   "execution_count": 18,
   "metadata": {},
   "outputs": [
    {
     "name": "stdin",
     "output_type": "stream",
     "text": [
      "Position for analysis:  25.00000\n"
     ]
    },
    {
     "name": "stderr",
     "output_type": "stream",
     "text": [
      "Warning message in getsex(cross):\n",
      "\"125 individuals with missing sex; assuming they're female\"\n",
      "Warning message in fitqtlengine(pheno = pheno, qtl = qtl, covar = covar, formula = formula, :\n",
      "\"Dropping 74 individuals with missing phenotypes.\n",
      "\"\n",
      "Warning message in getsex(cross):\n",
      "\"125 individuals with missing sex; assuming they're female\"\n"
     ]
    },
    {
     "data": {
      "text/plain": [
       "\n",
       "\t\tfitqtl summary\n",
       "\n",
       "Method: Haley-Knott regression \n",
       "Model:  normal phenotype\n",
       "Number of observations : 220 \n",
       "\n",
       "Full model result\n",
       "----------------------------------  \n",
       "Model formula: y ~ Q1 \n",
       "\n",
       "       df         SS        MS      LOD     %var Pvalue(Chi2)    Pvalue(F)\n",
       "Model   1   5.732717 5.7327165 2.613374 5.323531 0.0005220993 0.0005618138\n",
       "Error 218 101.953647 0.4676773                                            \n",
       "Total 219 107.686364                                                      \n",
       "\n",
       "\n",
       "Estimated effects:\n",
       "-----------------\n",
       "               est       SE      t\n",
       "Intercept  0.85275  0.04664 18.286\n",
       "16@25.0   -0.52950  0.15124 -3.501\n"
      ]
     },
     "metadata": {},
     "output_type": "display_data"
    }
   ],
   "source": [
    "p <- as.numeric(readline(\"Position for analysis: \"))\n",
    "qtl <- makeqtl(Map, chr = chr, pos = p, what=\"prob\") #pulls genotype probabilities\n",
    "fitqtl <- fitqtl(Map, pheno.col=colNum, qtl = qtl, covar=NULL,\n",
    "       method= \"hk\",model=\"normal\",\n",
    "       dropone=TRUE, get.ests=TRUE,run.checks=TRUE,\n",
    "       tol=1e-4, maxit=1000, forceXcovar=FALSE) #sees how well our data fits a given formula \n",
    "          # If you see \"error: object of type 'closure' is not subsettable\", remove \"formula,\" from the fitqtl argument list.\n",
    "summary(fitqtl) #Print results of the analysis"
   ]
  },
  {
   "cell_type": "code",
   "execution_count": null,
   "metadata": {},
   "outputs": [],
   "source": []
  }
 ],
 "metadata": {
  "kernelspec": {
   "display_name": "R",
   "language": "R",
   "name": "ir"
  },
  "language_info": {
   "codemirror_mode": "r",
   "file_extension": ".r",
   "mimetype": "text/x-r-source",
   "name": "R",
   "pygments_lexer": "r",
   "version": "3.6.3"
  }
 },
 "nbformat": 4,
 "nbformat_minor": 4
}
