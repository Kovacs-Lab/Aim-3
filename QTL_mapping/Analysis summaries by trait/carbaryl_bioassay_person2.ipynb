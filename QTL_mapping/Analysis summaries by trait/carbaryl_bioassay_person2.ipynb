{
 "cells": [
  {
   "cell_type": "markdown",
   "metadata": {},
   "source": [
    "This analysis is in the order of Female then Male"
   ]
  },
  {
   "cell_type": "code",
   "execution_count": 1,
   "metadata": {},
   "outputs": [
    {
     "name": "stderr",
     "output_type": "stream",
     "text": [
      "Installing package into 'C:/Users/Courtney/Documents/R/win-library/3.6'\n",
      "(as 'lib' is unspecified)\n",
      "\n"
     ]
    },
    {
     "name": "stdout",
     "output_type": "stream",
     "text": [
      "package 'qtl' successfully unpacked and MD5 sums checked\n",
      "\n",
      "The downloaded binary packages are in\n",
      "\tC:\\Users\\Courtney\\AppData\\Local\\Temp\\RtmpiUu1pP\\downloaded_packages\n"
     ]
    },
    {
     "name": "stderr",
     "output_type": "stream",
     "text": [
      "Installing package into 'C:/Users/Courtney/Documents/R/win-library/3.6'\n",
      "(as 'lib' is unspecified)\n",
      "\n"
     ]
    },
    {
     "name": "stdout",
     "output_type": "stream",
     "text": [
      "package 'qtlcharts' successfully unpacked and MD5 sums checked\n",
      "\n",
      "The downloaded binary packages are in\n",
      "\tC:\\Users\\Courtney\\AppData\\Local\\Temp\\RtmpiUu1pP\\downloaded_packages\n"
     ]
    },
    {
     "name": "stderr",
     "output_type": "stream",
     "text": [
      "Installing package into 'C:/Users/Courtney/Documents/R/win-library/3.6'\n",
      "(as 'lib' is unspecified)\n",
      "\n"
     ]
    },
    {
     "name": "stdout",
     "output_type": "stream",
     "text": [
      "package 'LinkageMapView' successfully unpacked and MD5 sums checked\n",
      "\n",
      "The downloaded binary packages are in\n",
      "\tC:\\Users\\Courtney\\AppData\\Local\\Temp\\RtmpiUu1pP\\downloaded_packages\n"
     ]
    },
    {
     "name": "stderr",
     "output_type": "stream",
     "text": [
      "Installing package into 'C:/Users/Courtney/Documents/R/win-library/3.6'\n",
      "(as 'lib' is unspecified)\n",
      "\n"
     ]
    },
    {
     "name": "stdout",
     "output_type": "stream",
     "text": [
      "\n",
      "  There is a binary version available but the source version is later:\n",
      "           binary source needs_compilation\n",
      "rcompanion  2.4.0  2.4.1             FALSE\n",
      "\n"
     ]
    },
    {
     "name": "stderr",
     "output_type": "stream",
     "text": [
      "installing the source package 'rcompanion'\n",
      "\n",
      "\n"
     ]
    }
   ],
   "source": [
    "install.packages('qtl') #Main package, for analysis\n",
    "install.packages('qtlcharts') #accessory, for displaying graphs\n",
    "install.packages('LinkageMapView') #accessory, for displaying linkage maps\n",
    "install.packages('rcompanion')# for plotNormalHistogram"
   ]
  },
  {
   "cell_type": "code",
   "execution_count": 1,
   "metadata": {},
   "outputs": [],
   "source": [
    "library(qtl) #load packages\n",
    "library(qtlcharts)\n",
    "library(LinkageMapView)\n",
    "library(rcompanion)"
   ]
  },
  {
   "cell_type": "code",
   "execution_count": 2,
   "metadata": {},
   "outputs": [
    {
     "name": "stdout",
     "output_type": "stream",
     "text": [
      "[1] \"Make sure to input names AS THEY APPEAR on the csv!!\"\n"
     ]
    },
    {
     "name": "stdin",
     "output_type": "stream",
     "text": [
      "Enter file name (Either FemaleMap.csv or MaleMap.csv):  FemaleMap_Field2020.csv\n",
      "First Genotype (homozygous) (For example ll):  ll\n",
      "Second Genotype (heterozygous) (for example lm):  lm\n",
      "Column Number:  59\n"
     ]
    }
   ],
   "source": [
    "#Collecting enviroment variables\n",
    "print(\"Make sure to input names AS THEY APPEAR on the csv!!\") #Just a user warning\n",
    "fileName <- readline(\"Enter file name (Either FemaleMap.csv or MaleMap.csv): \") #Mapping table file\n",
    "genotypeName <- c(readline(\"First Genotype (homozygous) (For example ll): \"),\n",
    "                  readline(\"Second Genotype (heterozygous) (for example lm): \")) #For example \"nn\", \"np\"\n",
    "alleleName <- c(substr(genotypeName[2],1,1) ,substr(genotypeName[2],2,2))\n",
    "naNames <- c(\"NA\",\"--\") #For example \"NA\", \"--\"\n",
    "colNum <- as.numeric(readline(\"Column Number: \")) #Column for pheno of interest"
   ]
  },
  {
   "cell_type": "code",
   "execution_count": 3,
   "metadata": {},
   "outputs": [
    {
     "name": "stderr",
     "output_type": "stream",
     "text": [
      "Warning message in FUN(X[[i]], ...):\n",
      "\"The phenotype value \" \"  was interpreted as missing.\"\n"
     ]
    },
    {
     "name": "stdout",
     "output_type": "stream",
     "text": [
      " --Read the following data:\n",
      "\t 296  individuals\n",
      "\t 1100  markers\n",
      "\t 61  phenotypes\n"
     ]
    },
    {
     "name": "stderr",
     "output_type": "stream",
     "text": [
      "Warning message in summary.cross(cross):\n",
      "\"Some markers at the same position on chr 1,2,4,5,7,8,9,10,11,12,13,14,16,17,18,19; use jittermap().\"\n"
     ]
    },
    {
     "name": "stdout",
     "output_type": "stream",
     "text": [
      " --Cross type: bc \n"
     ]
    },
    {
     "data": {
      "image/png": "[encoded data removed]",
      "text/plain": [
       "Plot with title \"Genetic map\""
      ]
     },
     "metadata": {
      "image/png": {
       "height": 420,
       "width": 420
      },
      "text/plain": {
       "height": 420,
       "width": 420
      }
     },
     "output_type": "display_data"
    }
   ],
   "source": [
    "#Map generation\n",
    "Map <- read.cross(format = 'csv',file = fileName \n",
    "                  ,genotypes = genotypeName,\n",
    "                  alleles = alleleName,na.strings = naNames) #generate linkage map\n",
    "Map <- jittermap(Map) #make sure no markers are in the same location\n",
    "Map <- calc.genoprob(Map,step = 1,map.function = \"kosambi\") #associate markers with full genotypes\n",
    "plot.map(Map) #draw linkage map"
   ]
  },
  {
   "cell_type": "code",
   "execution_count": 4,
   "metadata": {},
   "outputs": [
    {
     "data": {
      "image/png": "[encoded data removed]",
      "text/plain": [
       "Plot with title \"\""
      ]
     },
     "metadata": {
      "image/png": {
       "height": 420,
       "width": 420
      },
      "text/plain": {
       "height": 420,
       "width": 420
      }
     },
     "output_type": "display_data"
    }
   ],
   "source": [
    "plotNormalHistogram(Map$pheno[,colNum]) #normal histogram of pheno of interest"
   ]
  },
  {
   "cell_type": "markdown",
   "metadata": {},
   "source": [
    "Outliers exist in this dataset. Will need to be analyized. "
   ]
  },
  {
   "cell_type": "code",
   "execution_count": 5,
   "metadata": {},
   "outputs": [
    {
     "data": {
      "text/plain": [
       "LOD thresholds (1000 permutations)\n",
       "   [,1]\n",
       "5% 4.07\n",
       "1% 5.00"
      ]
     },
     "metadata": {},
     "output_type": "display_data"
    },
    {
     "data": {
      "image/png": "[encoded data removed]",
      "text/plain": [
       "Plot with title \"\""
      ]
     },
     "metadata": {
      "image/png": {
       "height": 420,
       "width": 420
      },
      "text/plain": {
       "height": 420,
       "width": 420
      }
     },
     "output_type": "display_data"
    }
   ],
   "source": [
    "#Compute statistically significant values\n",
    "TraitCIM1000 <- cim(Map,pheno.col = colNum,method = \"hk\",\n",
    "                    map.function = \"kosambi\",n.perm = 1000) # Function will take a moment to run, determines LOD value\n",
    "plot(TraitCIM1000,col = 'green') #show distribution of lod scores\n",
    "summary(TraitCIM1000,alpha=c(.05,.01))"
   ]
  },
  {
   "cell_type": "code",
   "execution_count": 6,
   "metadata": {},
   "outputs": [
    {
     "name": "stdout",
     "output_type": "stream",
     "text": [
      "[1] \"If nothing shows up, the values \\n      are below the LOD5 score\"\n"
     ]
    },
    {
     "data": {
      "text/html": [
       "<table>\n",
       "<caption>A summary.scanone: 19 × 3</caption>\n",
       "<thead>\n",
       "\t<tr><th></th><th scope=col>chr</th><th scope=col>pos</th><th scope=col>lod</th></tr>\n",
       "\t<tr><th></th><th scope=col>&lt;fct&gt;</th><th scope=col>&lt;dbl&gt;</th><th scope=col>&lt;dbl&gt;</th></tr>\n",
       "</thead>\n",
       "<tbody>\n",
       "\t<tr><th scope=row>1_20356240</th><td>1 </td><td>63.787040</td><td> 1.4992905</td></tr>\n",
       "\t<tr><th scope=row>c2.loc33</th><td>2 </td><td>33.000000</td><td> 0.5099156</td></tr>\n",
       "\t<tr><th scope=row>3_5596857</th><td>3 </td><td>31.779026</td><td> 3.3398375</td></tr>\n",
       "\t<tr><th scope=row>c4.loc50</th><td>4 </td><td>50.000000</td><td> 1.1873283</td></tr>\n",
       "\t<tr><th scope=row>c5.loc55</th><td>5 </td><td>55.000000</td><td> 1.0773852</td></tr>\n",
       "\t<tr><th scope=row>6_20137860</th><td>6 </td><td>28.591017</td><td> 1.5014927</td></tr>\n",
       "\t<tr><th scope=row>c7.loc62</th><td>7 </td><td>62.000000</td><td> 0.5317314</td></tr>\n",
       "\t<tr><th scope=row>c8.loc54</th><td>8 </td><td>54.000000</td><td> 0.4823397</td></tr>\n",
       "\t<tr><th scope=row>9_19305720</th><td>9 </td><td>54.241067</td><td> 0.5466233</td></tr>\n",
       "\t<tr><th scope=row>10_18476283</th><td>10</td><td>61.544070</td><td> 1.0476497</td></tr>\n",
       "\t<tr><th scope=row>11_17754467</th><td>11</td><td>53.503038</td><td> 1.3925554</td></tr>\n",
       "\t<tr><th scope=row>12_929948</th><td>12</td><td>15.469002</td><td> 0.3378073</td></tr>\n",
       "\t<tr><th scope=row>13_604670</th><td>13</td><td> 1.734003</td><td> 0.9324266</td></tr>\n",
       "\t<tr><th scope=row>c14.loc54</th><td>14</td><td>54.000000</td><td> 0.7457745</td></tr>\n",
       "\t<tr><th scope=row>c15.loc55</th><td>15</td><td>55.000000</td><td> 0.8454628</td></tr>\n",
       "\t<tr><th scope=row>c16.loc12</th><td>16</td><td>12.000000</td><td>16.6739330</td></tr>\n",
       "\t<tr><th scope=row>9_5597458</th><td>17</td><td>39.159019</td><td> 0.8175834</td></tr>\n",
       "\t<tr><th scope=row>c18.loc94</th><td>18</td><td>94.000000</td><td> 0.8087840</td></tr>\n",
       "\t<tr><th scope=row>19_2254967</th><td>19</td><td> 9.044013</td><td> 1.2003220</td></tr>\n",
       "</tbody>\n",
       "</table>\n"
      ],
      "text/latex": [
       "A summary.scanone: 19 × 3\n",
       "\\begin{tabular}{r|lll}\n",
       "  & chr & pos & lod\\\\\n",
       "  & <fct> & <dbl> & <dbl>\\\\\n",
       "\\hline\n",
       "\t1\\_20356240 & 1  & 63.787040 &  1.4992905\\\\\n",
       "\tc2.loc33 & 2  & 33.000000 &  0.5099156\\\\\n",
       "\t3\\_5596857 & 3  & 31.779026 &  3.3398375\\\\\n",
       "\tc4.loc50 & 4  & 50.000000 &  1.1873283\\\\\n",
       "\tc5.loc55 & 5  & 55.000000 &  1.0773852\\\\\n",
       "\t6\\_20137860 & 6  & 28.591017 &  1.5014927\\\\\n",
       "\tc7.loc62 & 7  & 62.000000 &  0.5317314\\\\\n",
       "\tc8.loc54 & 8  & 54.000000 &  0.4823397\\\\\n",
       "\t9\\_19305720 & 9  & 54.241067 &  0.5466233\\\\\n",
       "\t10\\_18476283 & 10 & 61.544070 &  1.0476497\\\\\n",
       "\t11\\_17754467 & 11 & 53.503038 &  1.3925554\\\\\n",
       "\t12\\_929948 & 12 & 15.469002 &  0.3378073\\\\\n",
       "\t13\\_604670 & 13 &  1.734003 &  0.9324266\\\\\n",
       "\tc14.loc54 & 14 & 54.000000 &  0.7457745\\\\\n",
       "\tc15.loc55 & 15 & 55.000000 &  0.8454628\\\\\n",
       "\tc16.loc12 & 16 & 12.000000 & 16.6739330\\\\\n",
       "\t9\\_5597458 & 17 & 39.159019 &  0.8175834\\\\\n",
       "\tc18.loc94 & 18 & 94.000000 &  0.8087840\\\\\n",
       "\t19\\_2254967 & 19 &  9.044013 &  1.2003220\\\\\n",
       "\\end{tabular}\n"
      ],
      "text/markdown": [
       "\n",
       "A summary.scanone: 19 × 3\n",
       "\n",
       "| <!--/--> | chr &lt;fct&gt; | pos &lt;dbl&gt; | lod &lt;dbl&gt; |\n",
       "|---|---|---|---|\n",
       "| 1_20356240 | 1  | 63.787040 |  1.4992905 |\n",
       "| c2.loc33 | 2  | 33.000000 |  0.5099156 |\n",
       "| 3_5596857 | 3  | 31.779026 |  3.3398375 |\n",
       "| c4.loc50 | 4  | 50.000000 |  1.1873283 |\n",
       "| c5.loc55 | 5  | 55.000000 |  1.0773852 |\n",
       "| 6_20137860 | 6  | 28.591017 |  1.5014927 |\n",
       "| c7.loc62 | 7  | 62.000000 |  0.5317314 |\n",
       "| c8.loc54 | 8  | 54.000000 |  0.4823397 |\n",
       "| 9_19305720 | 9  | 54.241067 |  0.5466233 |\n",
       "| 10_18476283 | 10 | 61.544070 |  1.0476497 |\n",
       "| 11_17754467 | 11 | 53.503038 |  1.3925554 |\n",
       "| 12_929948 | 12 | 15.469002 |  0.3378073 |\n",
       "| 13_604670 | 13 |  1.734003 |  0.9324266 |\n",
       "| c14.loc54 | 14 | 54.000000 |  0.7457745 |\n",
       "| c15.loc55 | 15 | 55.000000 |  0.8454628 |\n",
       "| c16.loc12 | 16 | 12.000000 | 16.6739330 |\n",
       "| 9_5597458 | 17 | 39.159019 |  0.8175834 |\n",
       "| c18.loc94 | 18 | 94.000000 |  0.8087840 |\n",
       "| 19_2254967 | 19 |  9.044013 |  1.2003220 |\n",
       "\n"
      ],
      "text/plain": [
       "            chr pos       lod       \n",
       "1_20356240  1   63.787040  1.4992905\n",
       "c2.loc33    2   33.000000  0.5099156\n",
       "3_5596857   3   31.779026  3.3398375\n",
       "c4.loc50    4   50.000000  1.1873283\n",
       "c5.loc55    5   55.000000  1.0773852\n",
       "6_20137860  6   28.591017  1.5014927\n",
       "c7.loc62    7   62.000000  0.5317314\n",
       "c8.loc54    8   54.000000  0.4823397\n",
       "9_19305720  9   54.241067  0.5466233\n",
       "10_18476283 10  61.544070  1.0476497\n",
       "11_17754467 11  53.503038  1.3925554\n",
       "12_929948   12  15.469002  0.3378073\n",
       "13_604670   13   1.734003  0.9324266\n",
       "c14.loc54   14  54.000000  0.7457745\n",
       "c15.loc55   15  55.000000  0.8454628\n",
       "c16.loc12   16  12.000000 16.6739330\n",
       "9_5597458   17  39.159019  0.8175834\n",
       "c18.loc94   18  94.000000  0.8087840\n",
       "19_2254967  19   9.044013  1.2003220"
      ]
     },
     "metadata": {},
     "output_type": "display_data"
    },
    {
     "data": {
      "image/png": "[encoded data removed]",
      "text/plain": [
       "plot without title"
      ]
     },
     "metadata": {
      "image/png": {
       "height": 420,
       "width": 420
      },
      "text/plain": {
       "height": 420,
       "width": 420
      }
     },
     "output_type": "display_data"
    }
   ],
   "source": [
    "#Deterime LOD Values\n",
    "LOD5 <- summary(TraitCIM1000,alpha=c(.05))\n",
    "TraitCIM<-cim(Map,pheno.col = colNum,method = \"hk\",\n",
    "              map.function = \"kosambi\") #Generate LOD Values\n",
    "plot(TraitCIM) #show LOD graph\n",
    "abline(h = LOD5,col = \"blue\") #overlay statistically significant line\n",
    "print(\"If nothing shows up, the values \n",
    "      are below the LOD5 score\") #warning for no peaks\n",
    "summary(TraitCIM)\n",
    "write.csv(TraitCIM,\"CarbarylBioassayPerson2_table.csv\")"
   ]
  },
  {
   "cell_type": "code",
   "execution_count": 7,
   "metadata": {},
   "outputs": [
    {
     "name": "stdin",
     "output_type": "stream",
     "text": [
      "Chromosome?  16\n"
     ]
    },
    {
     "data": {
      "image/png": "[encoded data removed]",
      "text/plain": [
       "plot without title"
      ]
     },
     "metadata": {
      "image/png": {
       "height": 420,
       "width": 420
      },
      "text/plain": {
       "height": 420,
       "width": 420
      }
     },
     "output_type": "display_data"
    }
   ],
   "source": [
    "#Chromosomal Analysis\n",
    "chr <- as.numeric(readline(\"Chromosome? \")) #collect chromosome to look at\n",
    "plot(TraitCIM, chr = chr,xlab = c(\"chr\",chr)) #Plot chr LOD scores\n",
    "abline(h = LOD5, col = \"blue\") #Statistically Significant"
   ]
  },
  {
   "cell_type": "code",
   "execution_count": 8,
   "metadata": {},
   "outputs": [
    {
     "data": {
      "text/html": [
       "<table>\n",
       "<caption>A scanone: 3 × 3</caption>\n",
       "<thead>\n",
       "\t<tr><th></th><th scope=col>chr</th><th scope=col>pos</th><th scope=col>lod</th></tr>\n",
       "\t<tr><th></th><th scope=col>&lt;fct&gt;</th><th scope=col>&lt;dbl&gt;</th><th scope=col>&lt;dbl&gt;</th></tr>\n",
       "</thead>\n",
       "<tbody>\n",
       "\t<tr><th scope=row>16_2745439</th><td>16</td><td> 8.433011</td><td>14.328967</td></tr>\n",
       "\t<tr><th scope=row>c16.loc12</th><td>16</td><td>12.000000</td><td>16.673933</td></tr>\n",
       "\t<tr><th scope=row>12_9628169</th><td>16</td><td>13.671014</td><td> 6.558825</td></tr>\n",
       "</tbody>\n",
       "</table>\n"
      ],
      "text/latex": [
       "A scanone: 3 × 3\n",
       "\\begin{tabular}{r|lll}\n",
       "  & chr & pos & lod\\\\\n",
       "  & <fct> & <dbl> & <dbl>\\\\\n",
       "\\hline\n",
       "\t16\\_2745439 & 16 &  8.433011 & 14.328967\\\\\n",
       "\tc16.loc12 & 16 & 12.000000 & 16.673933\\\\\n",
       "\t12\\_9628169 & 16 & 13.671014 &  6.558825\\\\\n",
       "\\end{tabular}\n"
      ],
      "text/markdown": [
       "\n",
       "A scanone: 3 × 3\n",
       "\n",
       "| <!--/--> | chr &lt;fct&gt; | pos &lt;dbl&gt; | lod &lt;dbl&gt; |\n",
       "|---|---|---|---|\n",
       "| 16_2745439 | 16 |  8.433011 | 14.328967 |\n",
       "| c16.loc12 | 16 | 12.000000 | 16.673933 |\n",
       "| 12_9628169 | 16 | 13.671014 |  6.558825 |\n",
       "\n"
      ],
      "text/plain": [
       "           chr pos       lod      \n",
       "16_2745439 16   8.433011 14.328967\n",
       "c16.loc12  16  12.000000 16.673933\n",
       "12_9628169 16  13.671014  6.558825"
      ]
     },
     "metadata": {},
     "output_type": "display_data"
    },
    {
     "data": {
      "text/html": [
       "<table>\n",
       "<caption>A scanone: 3 × 3</caption>\n",
       "<thead>\n",
       "\t<tr><th></th><th scope=col>chr</th><th scope=col>pos</th><th scope=col>lod</th></tr>\n",
       "\t<tr><th></th><th scope=col>&lt;fct&gt;</th><th scope=col>&lt;dbl&gt;</th><th scope=col>&lt;dbl&gt;</th></tr>\n",
       "</thead>\n",
       "<tbody>\n",
       "\t<tr><th scope=row>16_2745439</th><td>16</td><td> 8.433011</td><td>14.32897</td></tr>\n",
       "\t<tr><th scope=row>c16.loc12</th><td>16</td><td>12.000000</td><td>16.67393</td></tr>\n",
       "\t<tr><th scope=row>16_7987237</th><td>16</td><td>14.755018</td><td>14.83111</td></tr>\n",
       "</tbody>\n",
       "</table>\n"
      ],
      "text/latex": [
       "A scanone: 3 × 3\n",
       "\\begin{tabular}{r|lll}\n",
       "  & chr & pos & lod\\\\\n",
       "  & <fct> & <dbl> & <dbl>\\\\\n",
       "\\hline\n",
       "\t16\\_2745439 & 16 &  8.433011 & 14.32897\\\\\n",
       "\tc16.loc12 & 16 & 12.000000 & 16.67393\\\\\n",
       "\t16\\_7987237 & 16 & 14.755018 & 14.83111\\\\\n",
       "\\end{tabular}\n"
      ],
      "text/markdown": [
       "\n",
       "A scanone: 3 × 3\n",
       "\n",
       "| <!--/--> | chr &lt;fct&gt; | pos &lt;dbl&gt; | lod &lt;dbl&gt; |\n",
       "|---|---|---|---|\n",
       "| 16_2745439 | 16 |  8.433011 | 14.32897 |\n",
       "| c16.loc12 | 16 | 12.000000 | 16.67393 |\n",
       "| 16_7987237 | 16 | 14.755018 | 14.83111 |\n",
       "\n"
      ],
      "text/plain": [
       "           chr pos       lod     \n",
       "16_2745439 16   8.433011 14.32897\n",
       "c16.loc12  16  12.000000 16.67393\n",
       "16_7987237 16  14.755018 14.83111"
      ]
     },
     "metadata": {},
     "output_type": "display_data"
    }
   ],
   "source": [
    "bayesint(TraitCIM, chr = chr, prob=0.95, expandtomarkers=TRUE) #calculate bayesian interval\n",
    "lodint(TraitCIM, chr = chr,expandtomarkers = TRUE ) #calculate LOD Support interval"
   ]
  },
  {
   "cell_type": "code",
   "execution_count": 9,
   "metadata": {},
   "outputs": [
    {
     "name": "stdin",
     "output_type": "stream",
     "text": [
      "Position for analysis:  12.000000\n"
     ]
    },
    {
     "name": "stderr",
     "output_type": "stream",
     "text": [
      "Warning message in getsex(cross):\n",
      "\"127 individuals with missing sex; assuming they're female\"\n",
      "Warning message in fitqtlengine(pheno = pheno, qtl = qtl, covar = covar, formula = formula, :\n",
      "\"Dropping 102 individuals with missing phenotypes.\n",
      "\"\n",
      "Warning message in getsex(cross):\n",
      "\"127 individuals with missing sex; assuming they're female\"\n"
     ]
    },
    {
     "data": {
      "text/plain": [
       "\n",
       "\t\tfitqtl summary\n",
       "\n",
       "Method: Haley-Knott regression \n",
       "Model:  normal phenotype\n",
       "Number of observations : 194 \n",
       "\n",
       "Full model result\n",
       "----------------------------------  \n",
       "Model formula: y ~ Q1 \n",
       "\n",
       "       df        SS         MS     LOD     %var Pvalue(Chi2)    Pvalue(F)\n",
       "Model   1  425.8868 425.886817 14.1839 28.58751 6.661338e-16 9.992007e-16\n",
       "Error 192 1063.8787   5.541035                                           \n",
       "Total 193 1489.7655                                                      \n",
       "\n",
       "\n",
       "Estimated effects:\n",
       "-----------------\n",
       "              est      SE      t\n",
       "Intercept  3.1767  0.1691 18.785\n",
       "16@12.0   -3.0030  0.3425 -8.767\n"
      ]
     },
     "metadata": {},
     "output_type": "display_data"
    }
   ],
   "source": [
    "p <- as.numeric(readline(\"Position for analysis: \"))\n",
    "qtl <- makeqtl(Map, chr = chr, pos = p, what=\"prob\") #pulls genotype probabilities\n",
    "fitqtl <- fitqtl(Map, pheno.col=colNum, qtl = qtl, covar=NULL,\n",
    "       method= \"hk\",model=\"normal\",\n",
    "       dropone=TRUE, get.ests=TRUE,run.checks=TRUE,\n",
    "       tol=1e-4, maxit=1000, forceXcovar=FALSE) #sees how well our data fits a given formula \n",
    "          # If you see \"error: object of type 'closure' is not subsettable\", remove \"formula,\" from the fitqtl argument list.\n",
    "summary(fitqtl) #Print results of the analysis"
   ]
  },
  {
   "cell_type": "code",
   "execution_count": 10,
   "metadata": {},
   "outputs": [
    {
     "name": "stdout",
     "output_type": "stream",
     "text": [
      "[1] \"Make sure to input names AS THEY APPEAR on the csv!!\"\n"
     ]
    },
    {
     "name": "stdin",
     "output_type": "stream",
     "text": [
      "Enter file name (Either FemaleMap.csv or MaleMap.csv):  MaleMap_2021_July14.csv\n",
      "First Genotype (homozygous) (For example ll):  nn\n",
      "Second Genotype (heterozygous) (for example lm):  np\n",
      "Column Number:  59\n"
     ]
    }
   ],
   "source": [
    "#Collecting enviroment variables\n",
    "print(\"Make sure to input names AS THEY APPEAR on the csv!!\") #Just a user warning\n",
    "fileName <- readline(\"Enter file name (Either FemaleMap.csv or MaleMap.csv): \") #Mapping table file\n",
    "genotypeName <- c(readline(\"First Genotype (homozygous) (For example ll): \"),\n",
    "                  readline(\"Second Genotype (heterozygous) (for example lm): \")) #For example \"nn\", \"np\"\n",
    "alleleName <- c(substr(genotypeName[2],1,1) ,substr(genotypeName[2],2,2))\n",
    "naNames <- c(\"NA\",\"--\") #For example \"NA\", \"--\"\n",
    "colNum <- as.numeric(readline(\"Column Number: \")) #Column for pheno of interest"
   ]
  },
  {
   "cell_type": "code",
   "execution_count": 11,
   "metadata": {},
   "outputs": [
    {
     "name": "stdout",
     "output_type": "stream",
     "text": [
      " --Read the following data:\n",
      "\t 294  individuals\n",
      "\t 1128  markers\n",
      "\t 61  phenotypes\n"
     ]
    },
    {
     "name": "stderr",
     "output_type": "stream",
     "text": [
      "Warning message in summary.cross(cross):\n",
      "\"Some markers at the same position on chr 1,3,4,5,6,7,8,9,10,12,13,14,15,16,17,18,19; use jittermap().\"\n"
     ]
    },
    {
     "name": "stdout",
     "output_type": "stream",
     "text": [
      " --Cross type: bc \n"
     ]
    },
    {
     "data": {
      "image/png": "[encoded data removed]",
      "text/plain": [
       "Plot with title \"Genetic map\""
      ]
     },
     "metadata": {
      "image/png": {
       "height": 420,
       "width": 420
      },
      "text/plain": {
       "height": 420,
       "width": 420
      }
     },
     "output_type": "display_data"
    }
   ],
   "source": [
    "#Map generation\n",
    "Map <- read.cross(format = 'csv',file = fileName \n",
    "                  ,genotypes = genotypeName,\n",
    "                  alleles = alleleName,na.strings = naNames) #generate linkage map\n",
    "Map <- jittermap(Map) #make sure no markers are in the same location\n",
    "Map <- calc.genoprob(Map,step = 1,map.function = \"kosambi\") #associate markers with full genotypes\n",
    "plot.map(Map) #draw linkage map"
   ]
  },
  {
   "cell_type": "code",
   "execution_count": 12,
   "metadata": {},
   "outputs": [
    {
     "data": {
      "image/png": "[encoded data removed]",
      "text/plain": [
       "Plot with title \"\""
      ]
     },
     "metadata": {
      "image/png": {
       "height": 420,
       "width": 420
      },
      "text/plain": {
       "height": 420,
       "width": 420
      }
     },
     "output_type": "display_data"
    }
   ],
   "source": [
    "plotNormalHistogram(Map$pheno[,colNum]) #normal histogram of pheno of interest"
   ]
  },
  {
   "cell_type": "markdown",
   "metadata": {},
   "source": [
    "Outliers exist in this data. "
   ]
  },
  {
   "cell_type": "code",
   "execution_count": 13,
   "metadata": {},
   "outputs": [
    {
     "data": {
      "text/plain": [
       "LOD thresholds (1000 permutations)\n",
       "   [,1]\n",
       "5% 4.05\n",
       "1% 5.03"
      ]
     },
     "metadata": {},
     "output_type": "display_data"
    },
    {
     "data": {
      "image/png": "[encoded data removed]",
      "text/plain": [
       "Plot with title \"\""
      ]
     },
     "metadata": {
      "image/png": {
       "height": 420,
       "width": 420
      },
      "text/plain": {
       "height": 420,
       "width": 420
      }
     },
     "output_type": "display_data"
    }
   ],
   "source": [
    "#Compute statistically significant values\n",
    "TraitCIM1000 <- cim(Map,pheno.col = colNum,method = \"hk\",\n",
    "                    map.function = \"kosambi\",n.perm = 1000) # Function will take a moment to run, determines LOD value\n",
    "plot(TraitCIM1000,col = 'green') #show distribution of lod scores\n",
    "summary(TraitCIM1000,alpha=c(.05,.01))"
   ]
  },
  {
   "cell_type": "code",
   "execution_count": 14,
   "metadata": {},
   "outputs": [
    {
     "name": "stdout",
     "output_type": "stream",
     "text": [
      "[1] \"If nothing shows up, the values \\n      are below the LOD5 score\"\n"
     ]
    },
    {
     "data": {
      "text/html": [
       "<table>\n",
       "<caption>A summary.scanone: 19 × 3</caption>\n",
       "<thead>\n",
       "\t<tr><th></th><th scope=col>chr</th><th scope=col>pos</th><th scope=col>lod</th></tr>\n",
       "\t<tr><th></th><th scope=col>&lt;fct&gt;</th><th scope=col>&lt;dbl&gt;</th><th scope=col>&lt;dbl&gt;</th></tr>\n",
       "</thead>\n",
       "<tbody>\n",
       "\t<tr><th scope=row>c1.loc85</th><td>1 </td><td>85.000000</td><td>1.3404769</td></tr>\n",
       "\t<tr><th scope=row>c2.loc31</th><td>2 </td><td>31.000000</td><td>1.4715113</td></tr>\n",
       "\t<tr><th scope=row>c3.loc20</th><td>3 </td><td>20.000000</td><td>1.8800909</td></tr>\n",
       "\t<tr><th scope=row>c4.loc14</th><td>4 </td><td>14.000000</td><td>3.0788071</td></tr>\n",
       "\t<tr><th scope=row>18_30393961</th><td>5 </td><td>21.536008</td><td>1.0482010</td></tr>\n",
       "\t<tr><th scope=row>c6.loc43</th><td>6 </td><td>43.000000</td><td>1.1356695</td></tr>\n",
       "\t<tr><th scope=row>c7.loc3</th><td>7 </td><td> 3.000000</td><td>0.4488911</td></tr>\n",
       "\t<tr><th scope=row>c8.loc18</th><td>8 </td><td>18.000000</td><td>0.8333506</td></tr>\n",
       "\t<tr><th scope=row>c9.loc22</th><td>9 </td><td>22.000000</td><td>0.5941781</td></tr>\n",
       "\t<tr><th scope=row>10_1877004</th><td>10</td><td> 8.341006</td><td>0.6844521</td></tr>\n",
       "\t<tr><th scope=row>c11.loc62</th><td>11</td><td>62.000000</td><td>1.7931123</td></tr>\n",
       "\t<tr><th scope=row>c12.loc38</th><td>12</td><td>38.000000</td><td>1.4301110</td></tr>\n",
       "\t<tr><th scope=row>c13.loc59</th><td>13</td><td>59.000000</td><td>1.6626223</td></tr>\n",
       "\t<tr><th scope=row>c14.loc50</th><td>14</td><td>50.000000</td><td>2.5316302</td></tr>\n",
       "\t<tr><th scope=row>c15.loc78</th><td>15</td><td>78.000000</td><td>1.3254135</td></tr>\n",
       "\t<tr><th scope=row>16_10372933</th><td>16</td><td>75.689039</td><td>0.9034955</td></tr>\n",
       "\t<tr><th scope=row>c17.loc29</th><td>17</td><td>29.000000</td><td>1.7533676</td></tr>\n",
       "\t<tr><th scope=row>18_11058645</th><td>18</td><td>47.670026</td><td>0.5886119</td></tr>\n",
       "\t<tr><th scope=row>19_6173411</th><td>19</td><td>29.660022</td><td>1.5464866</td></tr>\n",
       "</tbody>\n",
       "</table>\n"
      ],
      "text/latex": [
       "A summary.scanone: 19 × 3\n",
       "\\begin{tabular}{r|lll}\n",
       "  & chr & pos & lod\\\\\n",
       "  & <fct> & <dbl> & <dbl>\\\\\n",
       "\\hline\n",
       "\tc1.loc85 & 1  & 85.000000 & 1.3404769\\\\\n",
       "\tc2.loc31 & 2  & 31.000000 & 1.4715113\\\\\n",
       "\tc3.loc20 & 3  & 20.000000 & 1.8800909\\\\\n",
       "\tc4.loc14 & 4  & 14.000000 & 3.0788071\\\\\n",
       "\t18\\_30393961 & 5  & 21.536008 & 1.0482010\\\\\n",
       "\tc6.loc43 & 6  & 43.000000 & 1.1356695\\\\\n",
       "\tc7.loc3 & 7  &  3.000000 & 0.4488911\\\\\n",
       "\tc8.loc18 & 8  & 18.000000 & 0.8333506\\\\\n",
       "\tc9.loc22 & 9  & 22.000000 & 0.5941781\\\\\n",
       "\t10\\_1877004 & 10 &  8.341006 & 0.6844521\\\\\n",
       "\tc11.loc62 & 11 & 62.000000 & 1.7931123\\\\\n",
       "\tc12.loc38 & 12 & 38.000000 & 1.4301110\\\\\n",
       "\tc13.loc59 & 13 & 59.000000 & 1.6626223\\\\\n",
       "\tc14.loc50 & 14 & 50.000000 & 2.5316302\\\\\n",
       "\tc15.loc78 & 15 & 78.000000 & 1.3254135\\\\\n",
       "\t16\\_10372933 & 16 & 75.689039 & 0.9034955\\\\\n",
       "\tc17.loc29 & 17 & 29.000000 & 1.7533676\\\\\n",
       "\t18\\_11058645 & 18 & 47.670026 & 0.5886119\\\\\n",
       "\t19\\_6173411 & 19 & 29.660022 & 1.5464866\\\\\n",
       "\\end{tabular}\n"
      ],
      "text/markdown": [
       "\n",
       "A summary.scanone: 19 × 3\n",
       "\n",
       "| <!--/--> | chr &lt;fct&gt; | pos &lt;dbl&gt; | lod &lt;dbl&gt; |\n",
       "|---|---|---|---|\n",
       "| c1.loc85 | 1  | 85.000000 | 1.3404769 |\n",
       "| c2.loc31 | 2  | 31.000000 | 1.4715113 |\n",
       "| c3.loc20 | 3  | 20.000000 | 1.8800909 |\n",
       "| c4.loc14 | 4  | 14.000000 | 3.0788071 |\n",
       "| 18_30393961 | 5  | 21.536008 | 1.0482010 |\n",
       "| c6.loc43 | 6  | 43.000000 | 1.1356695 |\n",
       "| c7.loc3 | 7  |  3.000000 | 0.4488911 |\n",
       "| c8.loc18 | 8  | 18.000000 | 0.8333506 |\n",
       "| c9.loc22 | 9  | 22.000000 | 0.5941781 |\n",
       "| 10_1877004 | 10 |  8.341006 | 0.6844521 |\n",
       "| c11.loc62 | 11 | 62.000000 | 1.7931123 |\n",
       "| c12.loc38 | 12 | 38.000000 | 1.4301110 |\n",
       "| c13.loc59 | 13 | 59.000000 | 1.6626223 |\n",
       "| c14.loc50 | 14 | 50.000000 | 2.5316302 |\n",
       "| c15.loc78 | 15 | 78.000000 | 1.3254135 |\n",
       "| 16_10372933 | 16 | 75.689039 | 0.9034955 |\n",
       "| c17.loc29 | 17 | 29.000000 | 1.7533676 |\n",
       "| 18_11058645 | 18 | 47.670026 | 0.5886119 |\n",
       "| 19_6173411 | 19 | 29.660022 | 1.5464866 |\n",
       "\n"
      ],
      "text/plain": [
       "            chr pos       lod      \n",
       "c1.loc85    1   85.000000 1.3404769\n",
       "c2.loc31    2   31.000000 1.4715113\n",
       "c3.loc20    3   20.000000 1.8800909\n",
       "c4.loc14    4   14.000000 3.0788071\n",
       "18_30393961 5   21.536008 1.0482010\n",
       "c6.loc43    6   43.000000 1.1356695\n",
       "c7.loc3     7    3.000000 0.4488911\n",
       "c8.loc18    8   18.000000 0.8333506\n",
       "c9.loc22    9   22.000000 0.5941781\n",
       "10_1877004  10   8.341006 0.6844521\n",
       "c11.loc62   11  62.000000 1.7931123\n",
       "c12.loc38   12  38.000000 1.4301110\n",
       "c13.loc59   13  59.000000 1.6626223\n",
       "c14.loc50   14  50.000000 2.5316302\n",
       "c15.loc78   15  78.000000 1.3254135\n",
       "16_10372933 16  75.689039 0.9034955\n",
       "c17.loc29   17  29.000000 1.7533676\n",
       "18_11058645 18  47.670026 0.5886119\n",
       "19_6173411  19  29.660022 1.5464866"
      ]
     },
     "metadata": {},
     "output_type": "display_data"
    },
    {
     "data": {
      "image/png": "[encoded data removed]",
      "text/plain": [
       "plot without title"
      ]
     },
     "metadata": {
      "image/png": {
       "height": 420,
       "width": 420
      },
      "text/plain": {
       "height": 420,
       "width": 420
      }
     },
     "output_type": "display_data"
    }
   ],
   "source": [
    "#Deterime LOD Values\n",
    "TraitCIM<-cim(Map,pheno.col = colNum,method = \"hk\",\n",
    "              map.function = \"kosambi\") #Generate LOD Values\n",
    "plot(TraitCIM) #show LOD graph\n",
    "abline(h = LOD5,col = \"blue\") #overlay statistically significant line\n",
    "print(\"If nothing shows up, the values \n",
    "      are below the LOD5 score\") #warning for no peaks\n",
    "summary(TraitCIM)"
   ]
  },
  {
   "cell_type": "code",
   "execution_count": 15,
   "metadata": {},
   "outputs": [
    {
     "name": "stdin",
     "output_type": "stream",
     "text": [
      "Chromosome?  4\n"
     ]
    },
    {
     "data": {
      "image/png": "[encoded data removed]",
      "text/plain": [
       "plot without title"
      ]
     },
     "metadata": {
      "image/png": {
       "height": 420,
       "width": 420
      },
      "text/plain": {
       "height": 420,
       "width": 420
      }
     },
     "output_type": "display_data"
    }
   ],
   "source": [
    "#Chromosomal Analysis\n",
    "chr <- as.numeric(readline(\"Chromosome? \")) #collect chromosome to look at\n",
    "plot(TraitCIM, chr = chr,xlab = c(\"chr\",chr)) #Plot chr LOD scores\n",
    "abline(h = LOD5, col = \"blue\") #Statistically Significant"
   ]
  },
  {
   "cell_type": "code",
   "execution_count": 16,
   "metadata": {},
   "outputs": [
    {
     "data": {
      "text/html": [
       "<table>\n",
       "<caption>A scanone: 3 × 3</caption>\n",
       "<thead>\n",
       "\t<tr><th></th><th scope=col>chr</th><th scope=col>pos</th><th scope=col>lod</th></tr>\n",
       "\t<tr><th></th><th scope=col>&lt;fct&gt;</th><th scope=col>&lt;dbl&gt;</th><th scope=col>&lt;dbl&gt;</th></tr>\n",
       "</thead>\n",
       "<tbody>\n",
       "\t<tr><th scope=row>4_2007592</th><td>4</td><td> 7.853008</td><td>0.009917935</td></tr>\n",
       "\t<tr><th scope=row>c4.loc14</th><td>4</td><td>14.000000</td><td>3.078807144</td></tr>\n",
       "\t<tr><th scope=row>12_9215138</th><td>4</td><td>44.595031</td><td>1.682331996</td></tr>\n",
       "</tbody>\n",
       "</table>\n"
      ],
      "text/latex": [
       "A scanone: 3 × 3\n",
       "\\begin{tabular}{r|lll}\n",
       "  & chr & pos & lod\\\\\n",
       "  & <fct> & <dbl> & <dbl>\\\\\n",
       "\\hline\n",
       "\t4\\_2007592 & 4 &  7.853008 & 0.009917935\\\\\n",
       "\tc4.loc14 & 4 & 14.000000 & 3.078807144\\\\\n",
       "\t12\\_9215138 & 4 & 44.595031 & 1.682331996\\\\\n",
       "\\end{tabular}\n"
      ],
      "text/markdown": [
       "\n",
       "A scanone: 3 × 3\n",
       "\n",
       "| <!--/--> | chr &lt;fct&gt; | pos &lt;dbl&gt; | lod &lt;dbl&gt; |\n",
       "|---|---|---|---|\n",
       "| 4_2007592 | 4 |  7.853008 | 0.009917935 |\n",
       "| c4.loc14 | 4 | 14.000000 | 3.078807144 |\n",
       "| 12_9215138 | 4 | 44.595031 | 1.682331996 |\n",
       "\n"
      ],
      "text/plain": [
       "           chr pos       lod        \n",
       "4_2007592  4    7.853008 0.009917935\n",
       "c4.loc14   4   14.000000 3.078807144\n",
       "12_9215138 4   44.595031 1.682331996"
      ]
     },
     "metadata": {},
     "output_type": "display_data"
    },
    {
     "data": {
      "text/html": [
       "<table>\n",
       "<caption>A scanone: 3 × 3</caption>\n",
       "<thead>\n",
       "\t<tr><th></th><th scope=col>chr</th><th scope=col>pos</th><th scope=col>lod</th></tr>\n",
       "\t<tr><th></th><th scope=col>&lt;fct&gt;</th><th scope=col>&lt;dbl&gt;</th><th scope=col>&lt;dbl&gt;</th></tr>\n",
       "</thead>\n",
       "<tbody>\n",
       "\t<tr><th scope=row>4_2007592</th><td>4</td><td> 7.853008</td><td>0.009917935</td></tr>\n",
       "\t<tr><th scope=row>c4.loc14</th><td>4</td><td>14.000000</td><td>3.078807144</td></tr>\n",
       "\t<tr><th scope=row>18_29612869</th><td>4</td><td>45.125032</td><td>0.107152367</td></tr>\n",
       "</tbody>\n",
       "</table>\n"
      ],
      "text/latex": [
       "A scanone: 3 × 3\n",
       "\\begin{tabular}{r|lll}\n",
       "  & chr & pos & lod\\\\\n",
       "  & <fct> & <dbl> & <dbl>\\\\\n",
       "\\hline\n",
       "\t4\\_2007592 & 4 &  7.853008 & 0.009917935\\\\\n",
       "\tc4.loc14 & 4 & 14.000000 & 3.078807144\\\\\n",
       "\t18\\_29612869 & 4 & 45.125032 & 0.107152367\\\\\n",
       "\\end{tabular}\n"
      ],
      "text/markdown": [
       "\n",
       "A scanone: 3 × 3\n",
       "\n",
       "| <!--/--> | chr &lt;fct&gt; | pos &lt;dbl&gt; | lod &lt;dbl&gt; |\n",
       "|---|---|---|---|\n",
       "| 4_2007592 | 4 |  7.853008 | 0.009917935 |\n",
       "| c4.loc14 | 4 | 14.000000 | 3.078807144 |\n",
       "| 18_29612869 | 4 | 45.125032 | 0.107152367 |\n",
       "\n"
      ],
      "text/plain": [
       "            chr pos       lod        \n",
       "4_2007592   4    7.853008 0.009917935\n",
       "c4.loc14    4   14.000000 3.078807144\n",
       "18_29612869 4   45.125032 0.107152367"
      ]
     },
     "metadata": {},
     "output_type": "display_data"
    }
   ],
   "source": [
    "bayesint(TraitCIM, chr = chr, prob=0.95, expandtomarkers=TRUE) #calculate bayesian interval\n",
    "lodint(TraitCIM, chr = chr,expandtomarkers = TRUE ) #calculate LOD Support interval"
   ]
  },
  {
   "cell_type": "code",
   "execution_count": 17,
   "metadata": {},
   "outputs": [
    {
     "name": "stdin",
     "output_type": "stream",
     "text": [
      "Position for analysis:  14.000000\n"
     ]
    },
    {
     "name": "stderr",
     "output_type": "stream",
     "text": [
      "Warning message in getsex(cross):\n",
      "\"125 individuals with missing sex; assuming they're female\"\n",
      "Warning message in fitqtlengine(pheno = pheno, qtl = qtl, covar = covar, formula = formula, :\n",
      "\"Dropping 100 individuals with missing phenotypes.\n",
      "\"\n",
      "Warning message in getsex(cross):\n",
      "\"125 individuals with missing sex; assuming they're female\"\n"
     ]
    },
    {
     "data": {
      "text/plain": [
       "\n",
       "\t\tfitqtl summary\n",
       "\n",
       "Method: Haley-Knott regression \n",
       "Model:  normal phenotype\n",
       "Number of observations : 194 \n",
       "\n",
       "Full model result\n",
       "----------------------------------  \n",
       "Model formula: y ~ Q1 \n",
       "\n",
       "       df        SS         MS      LOD     %var Pvalue(Chi2)    Pvalue(F)\n",
       "Model   1  103.6698 103.669833 3.038496 6.958802 0.0001835127 0.0002019624\n",
       "Error 192 1386.0957   7.219248                                            \n",
       "Total 193 1489.7655                                                       \n",
       "\n",
       "\n",
       "Estimated effects:\n",
       "-----------------\n",
       "              est      SE      t\n",
       "Intercept  3.1763  0.1934 16.424\n",
       "4@14.0    -2.2227  0.5865 -3.789\n"
      ]
     },
     "metadata": {},
     "output_type": "display_data"
    }
   ],
   "source": [
    "p <- as.numeric(readline(\"Position for analysis: \"))\n",
    "qtl <- makeqtl(Map, chr = chr, pos = p, what=\"prob\") #pulls genotype probabilities\n",
    "fitqtl <- fitqtl(Map, pheno.col=colNum, qtl = qtl, covar=NULL,\n",
    "       method= \"hk\",model=\"normal\",\n",
    "       dropone=TRUE, get.ests=TRUE,run.checks=TRUE,\n",
    "       tol=1e-4, maxit=1000, forceXcovar=FALSE) #sees how well our data fits a given formula \n",
    "          # If you see \"error: object of type 'closure' is not subsettable\", remove \"formula,\" from the fitqtl argument list.\n",
    "summary(fitqtl) #Print results of the analysis"
   ]
  },
  {
   "cell_type": "code",
   "execution_count": null,
   "metadata": {},
   "outputs": [],
   "source": []
  }
 ],
 "metadata": {
  "kernelspec": {
   "display_name": "R",
   "language": "R",
   "name": "ir"
  },
  "language_info": {
   "codemirror_mode": "r",
   "file_extension": ".r",
   "mimetype": "text/x-r-source",
   "name": "R",
   "pygments_lexer": "r",
   "version": "3.6.3"
  }
 },
 "nbformat": 4,
 "nbformat_minor": 4
}
