{
 "cells": [
  {
   "cell_type": "markdown",
   "metadata": {},
   "source": [
    "This analysis is in the order of Female then Male"
   ]
  },
  {
   "cell_type": "code",
   "execution_count": 1,
   "metadata": {},
   "outputs": [
    {
     "name": "stderr",
     "output_type": "stream",
     "text": [
      "Installing package into 'C:/Users/Courtney/Documents/R/win-library/3.6'\n",
      "(as 'lib' is unspecified)\n",
      "\n"
     ]
    },
    {
     "name": "stdout",
     "output_type": "stream",
     "text": [
      "package 'qtl' successfully unpacked and MD5 sums checked\n",
      "\n",
      "The downloaded binary packages are in\n",
      "\tC:\\Users\\Courtney\\AppData\\Local\\Temp\\RtmpiUu1pP\\downloaded_packages\n"
     ]
    },
    {
     "name": "stderr",
     "output_type": "stream",
     "text": [
      "Installing package into 'C:/Users/Courtney/Documents/R/win-library/3.6'\n",
      "(as 'lib' is unspecified)\n",
      "\n"
     ]
    },
    {
     "name": "stdout",
     "output_type": "stream",
     "text": [
      "package 'qtlcharts' successfully unpacked and MD5 sums checked\n",
      "\n",
      "The downloaded binary packages are in\n",
      "\tC:\\Users\\Courtney\\AppData\\Local\\Temp\\RtmpiUu1pP\\downloaded_packages\n"
     ]
    },
    {
     "name": "stderr",
     "output_type": "stream",
     "text": [
      "Installing package into 'C:/Users/Courtney/Documents/R/win-library/3.6'\n",
      "(as 'lib' is unspecified)\n",
      "\n"
     ]
    },
    {
     "name": "stdout",
     "output_type": "stream",
     "text": [
      "package 'LinkageMapView' successfully unpacked and MD5 sums checked\n",
      "\n",
      "The downloaded binary packages are in\n",
      "\tC:\\Users\\Courtney\\AppData\\Local\\Temp\\RtmpiUu1pP\\downloaded_packages\n"
     ]
    },
    {
     "name": "stderr",
     "output_type": "stream",
     "text": [
      "Installing package into 'C:/Users/Courtney/Documents/R/win-library/3.6'\n",
      "(as 'lib' is unspecified)\n",
      "\n"
     ]
    },
    {
     "name": "stdout",
     "output_type": "stream",
     "text": [
      "\n",
      "  There is a binary version available but the source version is later:\n",
      "           binary source needs_compilation\n",
      "rcompanion  2.4.0  2.4.1             FALSE\n",
      "\n"
     ]
    },
    {
     "name": "stderr",
     "output_type": "stream",
     "text": [
      "installing the source package 'rcompanion'\n",
      "\n",
      "\n"
     ]
    }
   ],
   "source": [
    "install.packages('qtl') #Main package, for analysis\n",
    "install.packages('qtlcharts') #accessory, for displaying graphs\n",
    "install.packages('LinkageMapView') #accessory, for displaying linkage maps\n",
    "install.packages('rcompanion')# for plotNormalHistogram"
   ]
  },
  {
   "cell_type": "code",
   "execution_count": 1,
   "metadata": {},
   "outputs": [],
   "source": [
    "library(qtl) #load packages\n",
    "library(qtlcharts)\n",
    "library(LinkageMapView)\n",
    "library(rcompanion)"
   ]
  },
  {
   "cell_type": "code",
   "execution_count": 2,
   "metadata": {},
   "outputs": [
    {
     "name": "stdout",
     "output_type": "stream",
     "text": [
      "[1] \"Make sure to input names AS THEY APPEAR on the csv!!\"\n"
     ]
    },
    {
     "name": "stdin",
     "output_type": "stream",
     "text": [
      "Enter file name (Either FemaleMap.csv or MaleMap.csv):  FemaleMap_Field2020.csv\n",
      "First Genotype (homozygous) (For example ll):  ll\n",
      "Second Genotype (heterozygous) (for example lm):  lm\n",
      "Column Number:  57\n"
     ]
    }
   ],
   "source": [
    "#Collecting enviroment variables\n",
    "print(\"Make sure to input names AS THEY APPEAR on the csv!!\") #Just a user warning\n",
    "fileName <- readline(\"Enter file name (Either FemaleMap.csv or MaleMap.csv): \") #Mapping table file\n",
    "genotypeName <- c(readline(\"First Genotype (homozygous) (For example ll): \"),\n",
    "                  readline(\"Second Genotype (heterozygous) (for example lm): \")) #For example \"nn\", \"np\"\n",
    "alleleName <- c(substr(genotypeName[2],1,1) ,substr(genotypeName[2],2,2))\n",
    "naNames <- c(\"NA\",\"--\") #For example \"NA\", \"--\"\n",
    "colNum <- as.numeric(readline(\"Column Number: \")) #Column for pheno of interest"
   ]
  },
  {
   "cell_type": "code",
   "execution_count": 3,
   "metadata": {},
   "outputs": [
    {
     "name": "stderr",
     "output_type": "stream",
     "text": [
      "Warning message in FUN(X[[i]], ...):\n",
      "\"The phenotype value \" \"  was interpreted as missing.\"\n"
     ]
    },
    {
     "name": "stdout",
     "output_type": "stream",
     "text": [
      " --Read the following data:\n",
      "\t 296  individuals\n",
      "\t 1100  markers\n",
      "\t 61  phenotypes\n"
     ]
    },
    {
     "name": "stderr",
     "output_type": "stream",
     "text": [
      "Warning message in summary.cross(cross):\n",
      "\"Some markers at the same position on chr 1,2,4,5,7,8,9,10,11,12,13,14,16,17,18,19; use jittermap().\"\n"
     ]
    },
    {
     "name": "stdout",
     "output_type": "stream",
     "text": [
      " --Cross type: bc \n"
     ]
    },
    {
     "data": {
      "image/png": "[encoded data removed]",
      "text/plain": [
       "Plot with title \"Genetic map\""
      ]
     },
     "metadata": {
      "image/png": {
       "height": 420,
       "width": 420
      },
      "text/plain": {
       "height": 420,
       "width": 420
      }
     },
     "output_type": "display_data"
    }
   ],
   "source": [
    "#Map generation\n",
    "Map <- read.cross(format = 'csv',file = fileName \n",
    "                  ,genotypes = genotypeName,\n",
    "                  alleles = alleleName,na.strings = naNames) #generate linkage map\n",
    "Map <- jittermap(Map) #make sure no markers are in the same location\n",
    "Map <- calc.genoprob(Map,step = 1,map.function = \"kosambi\") #associate markers with full genotypes\n",
    "plot.map(Map) #draw linkage map"
   ]
  },
  {
   "cell_type": "code",
   "execution_count": 4,
   "metadata": {},
   "outputs": [
    {
     "data": {
      "image/png": "[encoded data removed]",
      "text/plain": [
       "Plot with title \"\""
      ]
     },
     "metadata": {
      "image/png": {
       "height": 420,
       "width": 420
      },
      "text/plain": {
       "height": 420,
       "width": 420
      }
     },
     "output_type": "display_data"
    }
   ],
   "source": [
    "plotNormalHistogram(Map$pheno[,colNum]) #normal histogram of pheno of interest"
   ]
  },
  {
   "cell_type": "markdown",
   "metadata": {},
   "source": [
    "Outliers exist in this dataset. Will need to be analyized. "
   ]
  },
  {
   "cell_type": "code",
   "execution_count": 5,
   "metadata": {},
   "outputs": [
    {
     "name": "stderr",
     "output_type": "stream",
     "text": [
      "Warning message in checkcovar(cross, pheno.col, addcovar, intcovar, perm.strata, :\n",
      "\"addcovar appears to be over-specified; consider dropping columns.\n",
      "\"\n",
      "Warning message in checkcovar(cross, pheno.col, addcovar, intcovar, perm.strata, :\n",
      "\"addcovar appears to be over-specified; consider dropping columns.\n",
      "\"\n",
      "Warning message in checkcovar(cross, pheno.col, addcovar, intcovar, perm.strata, :\n",
      "\"addcovar appears to be over-specified; consider dropping columns.\n",
      "\"\n",
      "Warning message in checkcovar(cross, pheno.col, addcovar, intcovar, perm.strata, :\n",
      "\"addcovar appears to be over-specified; consider dropping columns.\n",
      "\"\n"
     ]
    },
    {
     "data": {
      "text/plain": [
       "LOD thresholds (1000 permutations)\n",
       "   [,1]\n",
       "5%  6.1\n",
       "1% 11.3"
      ]
     },
     "metadata": {},
     "output_type": "display_data"
    },
    {
     "data": {
      "image/png": "[encoded data removed]",
      "text/plain": [
       "Plot with title \"\""
      ]
     },
     "metadata": {
      "image/png": {
       "height": 420,
       "width": 420
      },
      "text/plain": {
       "height": 420,
       "width": 420
      }
     },
     "output_type": "display_data"
    }
   ],
   "source": [
    "#Compute statistically significant values\n",
    "TraitCIM1000 <- cim(Map,pheno.col = colNum,method = \"hk\",\n",
    "                    map.function = \"kosambi\",n.perm = 1000) # Function will take a moment to run, determines LOD value\n",
    "plot(TraitCIM1000,col = 'green') #show distribution of lod scores\n",
    "summary(TraitCIM1000,alpha=c(.05,.01))"
   ]
  },
  {
   "cell_type": "code",
   "execution_count": 6,
   "metadata": {},
   "outputs": [
    {
     "name": "stdout",
     "output_type": "stream",
     "text": [
      "[1] \"If nothing shows up, the values \\n      are below the LOD5 score\"\n"
     ]
    },
    {
     "data": {
      "text/html": [
       "<table>\n",
       "<caption>A summary.scanone: 19 × 3</caption>\n",
       "<thead>\n",
       "\t<tr><th></th><th scope=col>chr</th><th scope=col>pos</th><th scope=col>lod</th></tr>\n",
       "\t<tr><th></th><th scope=col>&lt;fct&gt;</th><th scope=col>&lt;dbl&gt;</th><th scope=col>&lt;dbl&gt;</th></tr>\n",
       "</thead>\n",
       "<tbody>\n",
       "\t<tr><th scope=row>c1.loc74</th><td>1 </td><td>74.000000</td><td>1.9051807</td></tr>\n",
       "\t<tr><th scope=row>c2.loc21</th><td>2 </td><td>21.000000</td><td>0.2059938</td></tr>\n",
       "\t<tr><th scope=row>c3.loc56</th><td>3 </td><td>56.000000</td><td>0.7408780</td></tr>\n",
       "\t<tr><th scope=row>4_17757436</th><td>4 </td><td>46.965040</td><td>1.3423155</td></tr>\n",
       "\t<tr><th scope=row>c5.loc47</th><td>5 </td><td>47.000000</td><td>1.6649833</td></tr>\n",
       "\t<tr><th scope=row>c6.loc19</th><td>6 </td><td>19.000000</td><td>0.9621238</td></tr>\n",
       "\t<tr><th scope=row>7_1430410</th><td>7 </td><td> 1.679002</td><td>0.3820541</td></tr>\n",
       "\t<tr><th scope=row>16_11684819</th><td>8 </td><td> 9.696007</td><td>2.2297988</td></tr>\n",
       "\t<tr><th scope=row>c9.loc51</th><td>9 </td><td>51.000000</td><td>1.5772094</td></tr>\n",
       "\t<tr><th scope=row>c10.loc41</th><td>10</td><td>41.000000</td><td>1.4448720</td></tr>\n",
       "\t<tr><th scope=row>11_2635800</th><td>11</td><td> 7.639008</td><td>0.7407583</td></tr>\n",
       "\t<tr><th scope=row>c12.loc62</th><td>12</td><td>62.000000</td><td>1.5495264</td></tr>\n",
       "\t<tr><th scope=row>c13.loc49</th><td>13</td><td>49.000000</td><td>0.6505592</td></tr>\n",
       "\t<tr><th scope=row>c14.loc8</th><td>14</td><td> 8.000000</td><td>0.5752920</td></tr>\n",
       "\t<tr><th scope=row>15_1295408</th><td>15</td><td> 2.488001</td><td>0.6034425</td></tr>\n",
       "\t<tr><th scope=row>c16.loc42</th><td>16</td><td>42.000000</td><td>1.9081798</td></tr>\n",
       "\t<tr><th scope=row>c17.loc11</th><td>17</td><td>11.000000</td><td>0.2280969</td></tr>\n",
       "\t<tr><th scope=row>18_8194661</th><td>18</td><td>36.283033</td><td>1.6210387</td></tr>\n",
       "\t<tr><th scope=row>c19.loc11</th><td>19</td><td>11.000000</td><td>1.1420003</td></tr>\n",
       "</tbody>\n",
       "</table>\n"
      ],
      "text/latex": [
       "A summary.scanone: 19 × 3\n",
       "\\begin{tabular}{r|lll}\n",
       "  & chr & pos & lod\\\\\n",
       "  & <fct> & <dbl> & <dbl>\\\\\n",
       "\\hline\n",
       "\tc1.loc74 & 1  & 74.000000 & 1.9051807\\\\\n",
       "\tc2.loc21 & 2  & 21.000000 & 0.2059938\\\\\n",
       "\tc3.loc56 & 3  & 56.000000 & 0.7408780\\\\\n",
       "\t4\\_17757436 & 4  & 46.965040 & 1.3423155\\\\\n",
       "\tc5.loc47 & 5  & 47.000000 & 1.6649833\\\\\n",
       "\tc6.loc19 & 6  & 19.000000 & 0.9621238\\\\\n",
       "\t7\\_1430410 & 7  &  1.679002 & 0.3820541\\\\\n",
       "\t16\\_11684819 & 8  &  9.696007 & 2.2297988\\\\\n",
       "\tc9.loc51 & 9  & 51.000000 & 1.5772094\\\\\n",
       "\tc10.loc41 & 10 & 41.000000 & 1.4448720\\\\\n",
       "\t11\\_2635800 & 11 &  7.639008 & 0.7407583\\\\\n",
       "\tc12.loc62 & 12 & 62.000000 & 1.5495264\\\\\n",
       "\tc13.loc49 & 13 & 49.000000 & 0.6505592\\\\\n",
       "\tc14.loc8 & 14 &  8.000000 & 0.5752920\\\\\n",
       "\t15\\_1295408 & 15 &  2.488001 & 0.6034425\\\\\n",
       "\tc16.loc42 & 16 & 42.000000 & 1.9081798\\\\\n",
       "\tc17.loc11 & 17 & 11.000000 & 0.2280969\\\\\n",
       "\t18\\_8194661 & 18 & 36.283033 & 1.6210387\\\\\n",
       "\tc19.loc11 & 19 & 11.000000 & 1.1420003\\\\\n",
       "\\end{tabular}\n"
      ],
      "text/markdown": [
       "\n",
       "A summary.scanone: 19 × 3\n",
       "\n",
       "| <!--/--> | chr &lt;fct&gt; | pos &lt;dbl&gt; | lod &lt;dbl&gt; |\n",
       "|---|---|---|---|\n",
       "| c1.loc74 | 1  | 74.000000 | 1.9051807 |\n",
       "| c2.loc21 | 2  | 21.000000 | 0.2059938 |\n",
       "| c3.loc56 | 3  | 56.000000 | 0.7408780 |\n",
       "| 4_17757436 | 4  | 46.965040 | 1.3423155 |\n",
       "| c5.loc47 | 5  | 47.000000 | 1.6649833 |\n",
       "| c6.loc19 | 6  | 19.000000 | 0.9621238 |\n",
       "| 7_1430410 | 7  |  1.679002 | 0.3820541 |\n",
       "| 16_11684819 | 8  |  9.696007 | 2.2297988 |\n",
       "| c9.loc51 | 9  | 51.000000 | 1.5772094 |\n",
       "| c10.loc41 | 10 | 41.000000 | 1.4448720 |\n",
       "| 11_2635800 | 11 |  7.639008 | 0.7407583 |\n",
       "| c12.loc62 | 12 | 62.000000 | 1.5495264 |\n",
       "| c13.loc49 | 13 | 49.000000 | 0.6505592 |\n",
       "| c14.loc8 | 14 |  8.000000 | 0.5752920 |\n",
       "| 15_1295408 | 15 |  2.488001 | 0.6034425 |\n",
       "| c16.loc42 | 16 | 42.000000 | 1.9081798 |\n",
       "| c17.loc11 | 17 | 11.000000 | 0.2280969 |\n",
       "| 18_8194661 | 18 | 36.283033 | 1.6210387 |\n",
       "| c19.loc11 | 19 | 11.000000 | 1.1420003 |\n",
       "\n"
      ],
      "text/plain": [
       "            chr pos       lod      \n",
       "c1.loc74    1   74.000000 1.9051807\n",
       "c2.loc21    2   21.000000 0.2059938\n",
       "c3.loc56    3   56.000000 0.7408780\n",
       "4_17757436  4   46.965040 1.3423155\n",
       "c5.loc47    5   47.000000 1.6649833\n",
       "c6.loc19    6   19.000000 0.9621238\n",
       "7_1430410   7    1.679002 0.3820541\n",
       "16_11684819 8    9.696007 2.2297988\n",
       "c9.loc51    9   51.000000 1.5772094\n",
       "c10.loc41   10  41.000000 1.4448720\n",
       "11_2635800  11   7.639008 0.7407583\n",
       "c12.loc62   12  62.000000 1.5495264\n",
       "c13.loc49   13  49.000000 0.6505592\n",
       "c14.loc8    14   8.000000 0.5752920\n",
       "15_1295408  15   2.488001 0.6034425\n",
       "c16.loc42   16  42.000000 1.9081798\n",
       "c17.loc11   17  11.000000 0.2280969\n",
       "18_8194661  18  36.283033 1.6210387\n",
       "c19.loc11   19  11.000000 1.1420003"
      ]
     },
     "metadata": {},
     "output_type": "display_data"
    },
    {
     "data": {
      "image/png": "[encoded data removed]",
      "text/plain": [
       "plot without title"
      ]
     },
     "metadata": {
      "image/png": {
       "height": 420,
       "width": 420
      },
      "text/plain": {
       "height": 420,
       "width": 420
      }
     },
     "output_type": "display_data"
    }
   ],
   "source": [
    "#Deterime LOD Values\n",
    "LOD5 <- summary(TraitCIM1000,alpha=c(.05))\n",
    "TraitCIM<-cim(Map,pheno.col = colNum,method = \"hk\",\n",
    "              map.function = \"kosambi\") #Generate LOD Values\n",
    "plot(TraitCIM) #show LOD graph\n",
    "abline(h = LOD5,col = \"blue\") #overlay statistically significant line\n",
    "print(\"If nothing shows up, the values \n",
    "      are below the LOD5 score\") #warning for no peaks\n",
    "summary(TraitCIM)\n",
    "write.csv(TraitCIM,\"PHENOTYPE_table.csv\")"
   ]
  },
  {
   "cell_type": "code",
   "execution_count": 7,
   "metadata": {},
   "outputs": [
    {
     "name": "stdin",
     "output_type": "stream",
     "text": [
      "Chromosome?  8\n"
     ]
    },
    {
     "data": {
      "image/png": "[encoded data removed]",
      "text/plain": [
       "plot without title"
      ]
     },
     "metadata": {
      "image/png": {
       "height": 420,
       "width": 420
      },
      "text/plain": {
       "height": 420,
       "width": 420
      }
     },
     "output_type": "display_data"
    }
   ],
   "source": [
    "#Chromosomal Analysis\n",
    "chr <- as.numeric(readline(\"Chromosome? \")) #collect chromosome to look at\n",
    "plot(TraitCIM, chr = chr,xlab = c(\"chr\",chr)) #Plot chr LOD scores\n",
    "abline(h = LOD5, col = \"blue\") #Statistically Significant"
   ]
  },
  {
   "cell_type": "code",
   "execution_count": 8,
   "metadata": {},
   "outputs": [
    {
     "data": {
      "text/html": [
       "<table>\n",
       "<caption>A scanone: 3 × 3</caption>\n",
       "<thead>\n",
       "\t<tr><th></th><th scope=col>chr</th><th scope=col>pos</th><th scope=col>lod</th></tr>\n",
       "\t<tr><th></th><th scope=col>&lt;fct&gt;</th><th scope=col>&lt;dbl&gt;</th><th scope=col>&lt;dbl&gt;</th></tr>\n",
       "</thead>\n",
       "<tbody>\n",
       "\t<tr><th scope=row>8_379062</th><td>8</td><td> 0.000000</td><td>0.05771353</td></tr>\n",
       "\t<tr><th scope=row>16_11684819</th><td>8</td><td> 9.696007</td><td>2.22979879</td></tr>\n",
       "\t<tr><th scope=row>8_22223668</th><td>8</td><td>78.146065</td><td>0.05079830</td></tr>\n",
       "</tbody>\n",
       "</table>\n"
      ],
      "text/latex": [
       "A scanone: 3 × 3\n",
       "\\begin{tabular}{r|lll}\n",
       "  & chr & pos & lod\\\\\n",
       "  & <fct> & <dbl> & <dbl>\\\\\n",
       "\\hline\n",
       "\t8\\_379062 & 8 &  0.000000 & 0.05771353\\\\\n",
       "\t16\\_11684819 & 8 &  9.696007 & 2.22979879\\\\\n",
       "\t8\\_22223668 & 8 & 78.146065 & 0.05079830\\\\\n",
       "\\end{tabular}\n"
      ],
      "text/markdown": [
       "\n",
       "A scanone: 3 × 3\n",
       "\n",
       "| <!--/--> | chr &lt;fct&gt; | pos &lt;dbl&gt; | lod &lt;dbl&gt; |\n",
       "|---|---|---|---|\n",
       "| 8_379062 | 8 |  0.000000 | 0.05771353 |\n",
       "| 16_11684819 | 8 |  9.696007 | 2.22979879 |\n",
       "| 8_22223668 | 8 | 78.146065 | 0.05079830 |\n",
       "\n"
      ],
      "text/plain": [
       "            chr pos       lod       \n",
       "8_379062    8    0.000000 0.05771353\n",
       "16_11684819 8    9.696007 2.22979879\n",
       "8_22223668  8   78.146065 0.05079830"
      ]
     },
     "metadata": {},
     "output_type": "display_data"
    },
    {
     "data": {
      "text/html": [
       "<table>\n",
       "<caption>A scanone: 3 × 3</caption>\n",
       "<thead>\n",
       "\t<tr><th></th><th scope=col>chr</th><th scope=col>pos</th><th scope=col>lod</th></tr>\n",
       "\t<tr><th></th><th scope=col>&lt;fct&gt;</th><th scope=col>&lt;dbl&gt;</th><th scope=col>&lt;dbl&gt;</th></tr>\n",
       "</thead>\n",
       "<tbody>\n",
       "\t<tr><th scope=row>13_21475121</th><td>8</td><td> 8.387006</td><td>0.1456023</td></tr>\n",
       "\t<tr><th scope=row>16_11684819</th><td>8</td><td> 9.696007</td><td>2.2297988</td></tr>\n",
       "\t<tr><th scope=row>8_19192553</th><td>8</td><td>67.910047</td><td>0.1799247</td></tr>\n",
       "</tbody>\n",
       "</table>\n"
      ],
      "text/latex": [
       "A scanone: 3 × 3\n",
       "\\begin{tabular}{r|lll}\n",
       "  & chr & pos & lod\\\\\n",
       "  & <fct> & <dbl> & <dbl>\\\\\n",
       "\\hline\n",
       "\t13\\_21475121 & 8 &  8.387006 & 0.1456023\\\\\n",
       "\t16\\_11684819 & 8 &  9.696007 & 2.2297988\\\\\n",
       "\t8\\_19192553 & 8 & 67.910047 & 0.1799247\\\\\n",
       "\\end{tabular}\n"
      ],
      "text/markdown": [
       "\n",
       "A scanone: 3 × 3\n",
       "\n",
       "| <!--/--> | chr &lt;fct&gt; | pos &lt;dbl&gt; | lod &lt;dbl&gt; |\n",
       "|---|---|---|---|\n",
       "| 13_21475121 | 8 |  8.387006 | 0.1456023 |\n",
       "| 16_11684819 | 8 |  9.696007 | 2.2297988 |\n",
       "| 8_19192553 | 8 | 67.910047 | 0.1799247 |\n",
       "\n"
      ],
      "text/plain": [
       "            chr pos       lod      \n",
       "13_21475121 8    8.387006 0.1456023\n",
       "16_11684819 8    9.696007 2.2297988\n",
       "8_19192553  8   67.910047 0.1799247"
      ]
     },
     "metadata": {},
     "output_type": "display_data"
    }
   ],
   "source": [
    "bayesint(TraitCIM, chr = chr, prob=0.95, expandtomarkers=TRUE) #calculate bayesian interval\n",
    "lodint(TraitCIM, chr = chr,expandtomarkers = TRUE ) #calculate LOD Support interval"
   ]
  },
  {
   "cell_type": "code",
   "execution_count": 9,
   "metadata": {},
   "outputs": [
    {
     "name": "stdin",
     "output_type": "stream",
     "text": [
      "Position for analysis:  9.696007\n"
     ]
    },
    {
     "name": "stderr",
     "output_type": "stream",
     "text": [
      "Warning message in getsex(cross):\n",
      "\"127 individuals with missing sex; assuming they're female\"\n",
      "Warning message in fitqtlengine(pheno = pheno, qtl = qtl, covar = covar, formula = formula, :\n",
      "\"Dropping 102 individuals with missing phenotypes.\n",
      "\"\n",
      "Warning message in getsex(cross):\n",
      "\"127 individuals with missing sex; assuming they're female\"\n"
     ]
    },
    {
     "data": {
      "text/plain": [
       "\n",
       "\t\tfitqtl summary\n",
       "\n",
       "Method: Haley-Knott regression \n",
       "Model:  normal phenotype\n",
       "Number of observations : 194 \n",
       "\n",
       "Full model result\n",
       "----------------------------------  \n",
       "Model formula: y ~ Q1 \n",
       "\n",
       "       df        SS        MS      LOD     %var Pvalue(Chi2)   Pvalue(F)\n",
       "Model   1  4.185801 4.1858012 2.351562 5.429194 0.0009990399 0.001077187\n",
       "Error 192 72.912218 0.3797511                                           \n",
       "Total 193 77.098019                                                     \n",
       "\n",
       "\n",
       "Estimated effects:\n",
       "-----------------\n",
       "              est      SE     t\n",
       "Intercept 1.28590 0.04439 28.97\n",
       "8@9.7     1.32966 0.40050  3.32\n"
      ]
     },
     "metadata": {},
     "output_type": "display_data"
    }
   ],
   "source": [
    "p <- as.numeric(readline(\"Position for analysis: \"))\n",
    "qtl <- makeqtl(Map, chr = chr, pos = p, what=\"prob\") #pulls genotype probabilities\n",
    "fitqtl <- fitqtl(Map, pheno.col=colNum, qtl = qtl, covar=NULL,\n",
    "       method= \"hk\",model=\"normal\",\n",
    "       dropone=TRUE, get.ests=TRUE,run.checks=TRUE,\n",
    "       tol=1e-4, maxit=1000, forceXcovar=FALSE) #sees how well our data fits a given formula \n",
    "          # If you see \"error: object of type 'closure' is not subsettable\", remove \"formula,\" from the fitqtl argument list.\n",
    "summary(fitqtl) #Print results of the analysis"
   ]
  },
  {
   "cell_type": "code",
   "execution_count": 10,
   "metadata": {},
   "outputs": [
    {
     "name": "stdout",
     "output_type": "stream",
     "text": [
      "[1] \"Make sure to input names AS THEY APPEAR on the csv!!\"\n"
     ]
    },
    {
     "name": "stdin",
     "output_type": "stream",
     "text": [
      "Enter file name (Either FemaleMap.csv or MaleMap.csv):  MaleMap_2021_July14.csv\n",
      "First Genotype (homozygous) (For example ll):  nn\n",
      "Second Genotype (heterozygous) (for example lm):  np\n",
      "Column Number:  57\n"
     ]
    }
   ],
   "source": [
    "#Collecting enviroment variables\n",
    "print(\"Make sure to input names AS THEY APPEAR on the csv!!\") #Just a user warning\n",
    "fileName <- readline(\"Enter file name (Either FemaleMap.csv or MaleMap.csv): \") #Mapping table file\n",
    "genotypeName <- c(readline(\"First Genotype (homozygous) (For example ll): \"),\n",
    "                  readline(\"Second Genotype (heterozygous) (for example lm): \")) #For example \"nn\", \"np\"\n",
    "alleleName <- c(substr(genotypeName[2],1,1) ,substr(genotypeName[2],2,2))\n",
    "naNames <- c(\"NA\",\"--\") #For example \"NA\", \"--\"\n",
    "colNum <- as.numeric(readline(\"Column Number: \")) #Column for pheno of interest"
   ]
  },
  {
   "cell_type": "code",
   "execution_count": 11,
   "metadata": {},
   "outputs": [
    {
     "name": "stdout",
     "output_type": "stream",
     "text": [
      " --Read the following data:\n",
      "\t 294  individuals\n",
      "\t 1128  markers\n",
      "\t 61  phenotypes\n"
     ]
    },
    {
     "name": "stderr",
     "output_type": "stream",
     "text": [
      "Warning message in summary.cross(cross):\n",
      "\"Some markers at the same position on chr 1,3,4,5,6,7,8,9,10,12,13,14,15,16,17,18,19; use jittermap().\"\n"
     ]
    },
    {
     "name": "stdout",
     "output_type": "stream",
     "text": [
      " --Cross type: bc \n"
     ]
    },
    {
     "data": {
      "image/png": "[encoded data removed]",
      "text/plain": [
       "Plot with title \"Genetic map\""
      ]
     },
     "metadata": {
      "image/png": {
       "height": 420,
       "width": 420
      },
      "text/plain": {
       "height": 420,
       "width": 420
      }
     },
     "output_type": "display_data"
    }
   ],
   "source": [
    "#Map generation\n",
    "Map <- read.cross(format = 'csv',file = fileName \n",
    "                  ,genotypes = genotypeName,\n",
    "                  alleles = alleleName,na.strings = naNames) #generate linkage map\n",
    "Map <- jittermap(Map) #make sure no markers are in the same location\n",
    "Map <- calc.genoprob(Map,step = 1,map.function = \"kosambi\") #associate markers with full genotypes\n",
    "plot.map(Map) #draw linkage map"
   ]
  },
  {
   "cell_type": "code",
   "execution_count": 12,
   "metadata": {},
   "outputs": [
    {
     "data": {
      "image/png": "[encoded data removed]",
      "text/plain": [
       "Plot with title \"\""
      ]
     },
     "metadata": {
      "image/png": {
       "height": 420,
       "width": 420
      },
      "text/plain": {
       "height": 420,
       "width": 420
      }
     },
     "output_type": "display_data"
    }
   ],
   "source": [
    "plotNormalHistogram(Map$pheno[,colNum]) #normal histogram of pheno of interest"
   ]
  },
  {
   "cell_type": "markdown",
   "metadata": {},
   "source": [
    "Outliers exist in this data. "
   ]
  },
  {
   "cell_type": "code",
   "execution_count": 13,
   "metadata": {},
   "outputs": [
    {
     "data": {
      "text/plain": [
       "LOD thresholds (1000 permutations)\n",
       "   [,1]\n",
       "5% 5.96\n",
       "1% 7.61"
      ]
     },
     "metadata": {},
     "output_type": "display_data"
    },
    {
     "data": {
      "image/png": "[encoded data removed]",
      "text/plain": [
       "Plot with title \"\""
      ]
     },
     "metadata": {
      "image/png": {
       "height": 420,
       "width": 420
      },
      "text/plain": {
       "height": 420,
       "width": 420
      }
     },
     "output_type": "display_data"
    }
   ],
   "source": [
    "#Compute statistically significant values\n",
    "TraitCIM1000 <- cim(Map,pheno.col = colNum,method = \"hk\",\n",
    "                    map.function = \"kosambi\",n.perm = 1000) # Function will take a moment to run, determines LOD value\n",
    "plot(TraitCIM1000,col = 'green') #show distribution of lod scores\n",
    "summary(TraitCIM1000,alpha=c(.05,.01))"
   ]
  },
  {
   "cell_type": "code",
   "execution_count": 14,
   "metadata": {},
   "outputs": [
    {
     "name": "stdout",
     "output_type": "stream",
     "text": [
      "[1] \"If nothing shows up, the values \\n      are below the LOD5 score\"\n"
     ]
    },
    {
     "data": {
      "text/html": [
       "<table>\n",
       "<caption>A summary.scanone: 19 × 3</caption>\n",
       "<thead>\n",
       "\t<tr><th></th><th scope=col>chr</th><th scope=col>pos</th><th scope=col>lod</th></tr>\n",
       "\t<tr><th></th><th scope=col>&lt;fct&gt;</th><th scope=col>&lt;dbl&gt;</th><th scope=col>&lt;dbl&gt;</th></tr>\n",
       "</thead>\n",
       "<tbody>\n",
       "\t<tr><th scope=row>1_19365070</th><td>1 </td><td> 69.976050</td><td>1.9474785</td></tr>\n",
       "\t<tr><th scope=row>2_684451</th><td>2 </td><td>  1.835002</td><td>0.4203737</td></tr>\n",
       "\t<tr><th scope=row>3_6056253</th><td>3 </td><td> 33.987037</td><td>0.9881885</td></tr>\n",
       "\t<tr><th scope=row>c4.loc75</th><td>4 </td><td> 75.000000</td><td>0.8558345</td></tr>\n",
       "\t<tr><th scope=row>5_22996438</th><td>5 </td><td> 72.136044</td><td>1.3481227</td></tr>\n",
       "\t<tr><th scope=row>c6.loc66</th><td>6 </td><td> 66.000000</td><td>0.6951688</td></tr>\n",
       "\t<tr><th scope=row>7_26028904</th><td>7 </td><td>110.146086</td><td>0.6850139</td></tr>\n",
       "\t<tr><th scope=row>c8.loc38</th><td>8 </td><td> 38.000000</td><td>0.8543664</td></tr>\n",
       "\t<tr><th scope=row>c9.loc37</th><td>9 </td><td> 37.000000</td><td>2.3726467</td></tr>\n",
       "\t<tr><th scope=row>10_1368821</th><td>10</td><td>  5.836004</td><td>0.4748538</td></tr>\n",
       "\t<tr><th scope=row>c11.loc58</th><td>11</td><td> 58.000000</td><td>0.6499436</td></tr>\n",
       "\t<tr><th scope=row>12_2648393</th><td>12</td><td>  8.761009</td><td>0.3699737</td></tr>\n",
       "\t<tr><th scope=row>c13.loc22</th><td>13</td><td> 22.000000</td><td>0.3473813</td></tr>\n",
       "\t<tr><th scope=row>14_130433</th><td>14</td><td>  0.000000</td><td>0.5391344</td></tr>\n",
       "\t<tr><th scope=row>c15.loc79</th><td>15</td><td> 79.000000</td><td>0.3337952</td></tr>\n",
       "\t<tr><th scope=row>c16.loc30</th><td>16</td><td> 30.000000</td><td>0.9026738</td></tr>\n",
       "\t<tr><th scope=row>8_21089555</th><td>17</td><td> 71.168052</td><td>0.7249304</td></tr>\n",
       "\t<tr><th scope=row>c18.loc64</th><td>18</td><td> 64.000000</td><td>0.8969006</td></tr>\n",
       "\t<tr><th scope=row>c19.loc54</th><td>19</td><td> 54.000000</td><td>0.5581367</td></tr>\n",
       "</tbody>\n",
       "</table>\n"
      ],
      "text/latex": [
       "A summary.scanone: 19 × 3\n",
       "\\begin{tabular}{r|lll}\n",
       "  & chr & pos & lod\\\\\n",
       "  & <fct> & <dbl> & <dbl>\\\\\n",
       "\\hline\n",
       "\t1\\_19365070 & 1  &  69.976050 & 1.9474785\\\\\n",
       "\t2\\_684451 & 2  &   1.835002 & 0.4203737\\\\\n",
       "\t3\\_6056253 & 3  &  33.987037 & 0.9881885\\\\\n",
       "\tc4.loc75 & 4  &  75.000000 & 0.8558345\\\\\n",
       "\t5\\_22996438 & 5  &  72.136044 & 1.3481227\\\\\n",
       "\tc6.loc66 & 6  &  66.000000 & 0.6951688\\\\\n",
       "\t7\\_26028904 & 7  & 110.146086 & 0.6850139\\\\\n",
       "\tc8.loc38 & 8  &  38.000000 & 0.8543664\\\\\n",
       "\tc9.loc37 & 9  &  37.000000 & 2.3726467\\\\\n",
       "\t10\\_1368821 & 10 &   5.836004 & 0.4748538\\\\\n",
       "\tc11.loc58 & 11 &  58.000000 & 0.6499436\\\\\n",
       "\t12\\_2648393 & 12 &   8.761009 & 0.3699737\\\\\n",
       "\tc13.loc22 & 13 &  22.000000 & 0.3473813\\\\\n",
       "\t14\\_130433 & 14 &   0.000000 & 0.5391344\\\\\n",
       "\tc15.loc79 & 15 &  79.000000 & 0.3337952\\\\\n",
       "\tc16.loc30 & 16 &  30.000000 & 0.9026738\\\\\n",
       "\t8\\_21089555 & 17 &  71.168052 & 0.7249304\\\\\n",
       "\tc18.loc64 & 18 &  64.000000 & 0.8969006\\\\\n",
       "\tc19.loc54 & 19 &  54.000000 & 0.5581367\\\\\n",
       "\\end{tabular}\n"
      ],
      "text/markdown": [
       "\n",
       "A summary.scanone: 19 × 3\n",
       "\n",
       "| <!--/--> | chr &lt;fct&gt; | pos &lt;dbl&gt; | lod &lt;dbl&gt; |\n",
       "|---|---|---|---|\n",
       "| 1_19365070 | 1  |  69.976050 | 1.9474785 |\n",
       "| 2_684451 | 2  |   1.835002 | 0.4203737 |\n",
       "| 3_6056253 | 3  |  33.987037 | 0.9881885 |\n",
       "| c4.loc75 | 4  |  75.000000 | 0.8558345 |\n",
       "| 5_22996438 | 5  |  72.136044 | 1.3481227 |\n",
       "| c6.loc66 | 6  |  66.000000 | 0.6951688 |\n",
       "| 7_26028904 | 7  | 110.146086 | 0.6850139 |\n",
       "| c8.loc38 | 8  |  38.000000 | 0.8543664 |\n",
       "| c9.loc37 | 9  |  37.000000 | 2.3726467 |\n",
       "| 10_1368821 | 10 |   5.836004 | 0.4748538 |\n",
       "| c11.loc58 | 11 |  58.000000 | 0.6499436 |\n",
       "| 12_2648393 | 12 |   8.761009 | 0.3699737 |\n",
       "| c13.loc22 | 13 |  22.000000 | 0.3473813 |\n",
       "| 14_130433 | 14 |   0.000000 | 0.5391344 |\n",
       "| c15.loc79 | 15 |  79.000000 | 0.3337952 |\n",
       "| c16.loc30 | 16 |  30.000000 | 0.9026738 |\n",
       "| 8_21089555 | 17 |  71.168052 | 0.7249304 |\n",
       "| c18.loc64 | 18 |  64.000000 | 0.8969006 |\n",
       "| c19.loc54 | 19 |  54.000000 | 0.5581367 |\n",
       "\n"
      ],
      "text/plain": [
       "           chr pos        lod      \n",
       "1_19365070 1    69.976050 1.9474785\n",
       "2_684451   2     1.835002 0.4203737\n",
       "3_6056253  3    33.987037 0.9881885\n",
       "c4.loc75   4    75.000000 0.8558345\n",
       "5_22996438 5    72.136044 1.3481227\n",
       "c6.loc66   6    66.000000 0.6951688\n",
       "7_26028904 7   110.146086 0.6850139\n",
       "c8.loc38   8    38.000000 0.8543664\n",
       "c9.loc37   9    37.000000 2.3726467\n",
       "10_1368821 10    5.836004 0.4748538\n",
       "c11.loc58  11   58.000000 0.6499436\n",
       "12_2648393 12    8.761009 0.3699737\n",
       "c13.loc22  13   22.000000 0.3473813\n",
       "14_130433  14    0.000000 0.5391344\n",
       "c15.loc79  15   79.000000 0.3337952\n",
       "c16.loc30  16   30.000000 0.9026738\n",
       "8_21089555 17   71.168052 0.7249304\n",
       "c18.loc64  18   64.000000 0.8969006\n",
       "c19.loc54  19   54.000000 0.5581367"
      ]
     },
     "metadata": {},
     "output_type": "display_data"
    },
    {
     "data": {
      "image/png": "[encoded data removed]",
      "text/plain": [
       "plot without title"
      ]
     },
     "metadata": {
      "image/png": {
       "height": 420,
       "width": 420
      },
      "text/plain": {
       "height": 420,
       "width": 420
      }
     },
     "output_type": "display_data"
    }
   ],
   "source": [
    "#Deterime LOD Values\n",
    "TraitCIM<-cim(Map,pheno.col = colNum,method = \"hk\",\n",
    "              map.function = \"kosambi\") #Generate LOD Values\n",
    "plot(TraitCIM) #show LOD graph\n",
    "abline(h = LOD5,col = \"blue\") #overlay statistically significant line\n",
    "print(\"If nothing shows up, the values \n",
    "      are below the LOD5 score\") #warning for no peaks\n",
    "summary(TraitCIM)"
   ]
  },
  {
   "cell_type": "code",
   "execution_count": 15,
   "metadata": {},
   "outputs": [
    {
     "name": "stdin",
     "output_type": "stream",
     "text": [
      "Chromosome?  9\n"
     ]
    },
    {
     "data": {
      "image/png": "[encoded data removed]",
      "text/plain": [
       "plot without title"
      ]
     },
     "metadata": {
      "image/png": {
       "height": 420,
       "width": 420
      },
      "text/plain": {
       "height": 420,
       "width": 420
      }
     },
     "output_type": "display_data"
    }
   ],
   "source": [
    "#Chromosomal Analysis\n",
    "chr <- as.numeric(readline(\"Chromosome? \")) #collect chromosome to look at\n",
    "plot(TraitCIM, chr = chr,xlab = c(\"chr\",chr)) #Plot chr LOD scores\n",
    "abline(h = LOD5, col = \"blue\") #Statistically Significant"
   ]
  },
  {
   "cell_type": "code",
   "execution_count": 16,
   "metadata": {},
   "outputs": [
    {
     "data": {
      "text/html": [
       "<table>\n",
       "<caption>A scanone: 3 × 3</caption>\n",
       "<thead>\n",
       "\t<tr><th></th><th scope=col>chr</th><th scope=col>pos</th><th scope=col>lod</th></tr>\n",
       "\t<tr><th></th><th scope=col>&lt;fct&gt;</th><th scope=col>&lt;dbl&gt;</th><th scope=col>&lt;dbl&gt;</th></tr>\n",
       "</thead>\n",
       "<tbody>\n",
       "\t<tr><th scope=row>9_185166</th><td>9</td><td> 0.00000</td><td>0.02388135</td></tr>\n",
       "\t<tr><th scope=row>c9.loc37</th><td>9</td><td>37.00000</td><td>2.37264669</td></tr>\n",
       "\t<tr><th scope=row>9_20551059</th><td>9</td><td>64.16504</td><td>0.01181166</td></tr>\n",
       "</tbody>\n",
       "</table>\n"
      ],
      "text/latex": [
       "A scanone: 3 × 3\n",
       "\\begin{tabular}{r|lll}\n",
       "  & chr & pos & lod\\\\\n",
       "  & <fct> & <dbl> & <dbl>\\\\\n",
       "\\hline\n",
       "\t9\\_185166 & 9 &  0.00000 & 0.02388135\\\\\n",
       "\tc9.loc37 & 9 & 37.00000 & 2.37264669\\\\\n",
       "\t9\\_20551059 & 9 & 64.16504 & 0.01181166\\\\\n",
       "\\end{tabular}\n"
      ],
      "text/markdown": [
       "\n",
       "A scanone: 3 × 3\n",
       "\n",
       "| <!--/--> | chr &lt;fct&gt; | pos &lt;dbl&gt; | lod &lt;dbl&gt; |\n",
       "|---|---|---|---|\n",
       "| 9_185166 | 9 |  0.00000 | 0.02388135 |\n",
       "| c9.loc37 | 9 | 37.00000 | 2.37264669 |\n",
       "| 9_20551059 | 9 | 64.16504 | 0.01181166 |\n",
       "\n"
      ],
      "text/plain": [
       "           chr pos      lod       \n",
       "9_185166   9    0.00000 0.02388135\n",
       "c9.loc37   9   37.00000 2.37264669\n",
       "9_20551059 9   64.16504 0.01181166"
      ]
     },
     "metadata": {},
     "output_type": "display_data"
    },
    {
     "data": {
      "text/html": [
       "<table>\n",
       "<caption>A scanone: 3 × 3</caption>\n",
       "<thead>\n",
       "\t<tr><th></th><th scope=col>chr</th><th scope=col>pos</th><th scope=col>lod</th></tr>\n",
       "\t<tr><th></th><th scope=col>&lt;fct&gt;</th><th scope=col>&lt;dbl&gt;</th><th scope=col>&lt;dbl&gt;</th></tr>\n",
       "</thead>\n",
       "<tbody>\n",
       "\t<tr><th scope=row>9_10400477</th><td>9</td><td>36.04103</td><td>0.009356622</td></tr>\n",
       "\t<tr><th scope=row>c9.loc37</th><td>9</td><td>37.00000</td><td>2.372646685</td></tr>\n",
       "\t<tr><th scope=row>15_12434051</th><td>9</td><td>45.65103</td><td>0.569648094</td></tr>\n",
       "</tbody>\n",
       "</table>\n"
      ],
      "text/latex": [
       "A scanone: 3 × 3\n",
       "\\begin{tabular}{r|lll}\n",
       "  & chr & pos & lod\\\\\n",
       "  & <fct> & <dbl> & <dbl>\\\\\n",
       "\\hline\n",
       "\t9\\_10400477 & 9 & 36.04103 & 0.009356622\\\\\n",
       "\tc9.loc37 & 9 & 37.00000 & 2.372646685\\\\\n",
       "\t15\\_12434051 & 9 & 45.65103 & 0.569648094\\\\\n",
       "\\end{tabular}\n"
      ],
      "text/markdown": [
       "\n",
       "A scanone: 3 × 3\n",
       "\n",
       "| <!--/--> | chr &lt;fct&gt; | pos &lt;dbl&gt; | lod &lt;dbl&gt; |\n",
       "|---|---|---|---|\n",
       "| 9_10400477 | 9 | 36.04103 | 0.009356622 |\n",
       "| c9.loc37 | 9 | 37.00000 | 2.372646685 |\n",
       "| 15_12434051 | 9 | 45.65103 | 0.569648094 |\n",
       "\n"
      ],
      "text/plain": [
       "            chr pos      lod        \n",
       "9_10400477  9   36.04103 0.009356622\n",
       "c9.loc37    9   37.00000 2.372646685\n",
       "15_12434051 9   45.65103 0.569648094"
      ]
     },
     "metadata": {},
     "output_type": "display_data"
    }
   ],
   "source": [
    "bayesint(TraitCIM, chr = chr, prob=0.95, expandtomarkers=TRUE) #calculate bayesian interval\n",
    "lodint(TraitCIM, chr = chr,expandtomarkers = TRUE ) #calculate LOD Support interval"
   ]
  },
  {
   "cell_type": "code",
   "execution_count": 17,
   "metadata": {},
   "outputs": [
    {
     "name": "stdin",
     "output_type": "stream",
     "text": [
      "Position for analysis:  37.000000\n"
     ]
    },
    {
     "name": "stderr",
     "output_type": "stream",
     "text": [
      "Warning message in getsex(cross):\n",
      "\"125 individuals with missing sex; assuming they're female\"\n",
      "Warning message in fitqtlengine(pheno = pheno, qtl = qtl, covar = covar, formula = formula, :\n",
      "\"Dropping 100 individuals with missing phenotypes.\n",
      "\"\n",
      "Warning message in getsex(cross):\n",
      "\"125 individuals with missing sex; assuming they're female\"\n"
     ]
    },
    {
     "data": {
      "text/plain": [
       "\n",
       "\t\tfitqtl summary\n",
       "\n",
       "Method: Haley-Knott regression \n",
       "Model:  normal phenotype\n",
       "Number of observations : 194 \n",
       "\n",
       "Full model result\n",
       "----------------------------------  \n",
       "Model formula: y ~ Q1 \n",
       "\n",
       "       df        SS        MS      LOD    %var Pvalue(Chi2)   Pvalue(F)\n",
       "Model   1  4.191611 4.1916108 2.354919 5.43673 0.0009907341 0.001068338\n",
       "Error 192 72.906408 0.3797209                                          \n",
       "Total 193 77.098019                                                    \n",
       "\n",
       "\n",
       "Estimated effects:\n",
       "-----------------\n",
       "               est       SE      t\n",
       "Intercept  1.30166  0.04426 29.411\n",
       "9@37.0    -1.05848  0.31858 -3.322\n"
      ]
     },
     "metadata": {},
     "output_type": "display_data"
    }
   ],
   "source": [
    "p <- as.numeric(readline(\"Position for analysis: \"))\n",
    "qtl <- makeqtl(Map, chr = chr, pos = p, what=\"prob\") #pulls genotype probabilities\n",
    "fitqtl <- fitqtl(Map, pheno.col=colNum, qtl = qtl, covar=NULL,\n",
    "       method= \"hk\",model=\"normal\",\n",
    "       dropone=TRUE, get.ests=TRUE,run.checks=TRUE,\n",
    "       tol=1e-4, maxit=1000, forceXcovar=FALSE) #sees how well our data fits a given formula \n",
    "          # If you see \"error: object of type 'closure' is not subsettable\", remove \"formula,\" from the fitqtl argument list.\n",
    "summary(fitqtl) #Print results of the analysis"
   ]
  },
  {
   "cell_type": "code",
   "execution_count": null,
   "metadata": {},
   "outputs": [],
   "source": []
  }
 ],
 "metadata": {
  "kernelspec": {
   "display_name": "R",
   "language": "R",
   "name": "ir"
  },
  "language_info": {
   "codemirror_mode": "r",
   "file_extension": ".r",
   "mimetype": "text/x-r-source",
   "name": "R",
   "pygments_lexer": "r",
   "version": "3.6.3"
  }
 },
 "nbformat": 4,
 "nbformat_minor": 4
}
