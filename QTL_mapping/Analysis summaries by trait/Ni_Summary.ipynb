{
 "cells": [
  {
   "cell_type": "markdown",
   "metadata": {},
   "source": [
    "This analysis is in the order of Female then Male"
   ]
  },
  {
   "cell_type": "code",
   "execution_count": 2,
   "metadata": {},
   "outputs": [
    {
     "name": "stderr",
     "output_type": "stream",
     "text": [
      "Installing package into 'C:/Users/Courtney/Documents/R/win-library/3.6'\n",
      "(as 'lib' is unspecified)\n",
      "\n"
     ]
    },
    {
     "name": "stdout",
     "output_type": "stream",
     "text": [
      "package 'qtl' successfully unpacked and MD5 sums checked\n"
     ]
    },
    {
     "name": "stderr",
     "output_type": "stream",
     "text": [
      "Warning message:\n",
      "\"cannot remove prior installation of package 'qtl'\"\n",
      "Warning message in file.copy(savedcopy, lib, recursive = TRUE):\n",
      "\"problem copying C:\\Users\\Courtney\\Documents\\R\\win-library\\3.6\\00LOCK\\qtl\\libs\\x64\\qtl.dll to C:\\Users\\Courtney\\Documents\\R\\win-library\\3.6\\qtl\\libs\\x64\\qtl.dll: Permission denied\"\n",
      "Warning message:\n",
      "\"restored 'qtl'\"\n"
     ]
    },
    {
     "name": "stdout",
     "output_type": "stream",
     "text": [
      "\n",
      "The downloaded binary packages are in\n",
      "\tC:\\Users\\Courtney\\AppData\\Local\\Temp\\RtmpERWseC\\downloaded_packages\n"
     ]
    },
    {
     "name": "stderr",
     "output_type": "stream",
     "text": [
      "Installing package into 'C:/Users/Courtney/Documents/R/win-library/3.6'\n",
      "(as 'lib' is unspecified)\n",
      "\n"
     ]
    },
    {
     "name": "stdout",
     "output_type": "stream",
     "text": [
      "package 'qtlcharts' successfully unpacked and MD5 sums checked\n",
      "\n",
      "The downloaded binary packages are in\n",
      "\tC:\\Users\\Courtney\\AppData\\Local\\Temp\\RtmpERWseC\\downloaded_packages\n"
     ]
    },
    {
     "name": "stderr",
     "output_type": "stream",
     "text": [
      "Installing package into 'C:/Users/Courtney/Documents/R/win-library/3.6'\n",
      "(as 'lib' is unspecified)\n",
      "\n"
     ]
    },
    {
     "name": "stdout",
     "output_type": "stream",
     "text": [
      "package 'LinkageMapView' successfully unpacked and MD5 sums checked\n",
      "\n",
      "The downloaded binary packages are in\n",
      "\tC:\\Users\\Courtney\\AppData\\Local\\Temp\\RtmpERWseC\\downloaded_packages\n"
     ]
    },
    {
     "name": "stderr",
     "output_type": "stream",
     "text": [
      "Installing package into 'C:/Users/Courtney/Documents/R/win-library/3.6'\n",
      "(as 'lib' is unspecified)\n",
      "\n"
     ]
    },
    {
     "name": "stdout",
     "output_type": "stream",
     "text": [
      "package 'rcompanion' successfully unpacked and MD5 sums checked\n",
      "\n",
      "The downloaded binary packages are in\n",
      "\tC:\\Users\\Courtney\\AppData\\Local\\Temp\\RtmpERWseC\\downloaded_packages\n"
     ]
    }
   ],
   "source": [
    "install.packages('qtl') #Main package, for analysis\n",
    "install.packages('qtlcharts') #accessory, for displaying graphs\n",
    "install.packages('LinkageMapView') #accessory, for displaying linkage maps\n",
    "install.packages('rcompanion')# for plotNormalHistogram"
   ]
  },
  {
   "cell_type": "code",
   "execution_count": 3,
   "metadata": {},
   "outputs": [
    {
     "name": "stderr",
     "output_type": "stream",
     "text": [
      "Warning message:\n",
      "\"package 'qtlcharts' was built under R version 3.6.2\"\n",
      "Warning message:\n",
      "\"package 'LinkageMapView' was built under R version 3.6.2\"\n",
      "Warning message:\n",
      "\"package 'rcompanion' was built under R version 3.6.2\"\n"
     ]
    }
   ],
   "source": [
    "library(qtl) #load packages\n",
    "library(qtlcharts)\n",
    "library(LinkageMapView)\n",
    "library(rcompanion)"
   ]
  },
  {
   "cell_type": "code",
   "execution_count": 4,
   "metadata": {},
   "outputs": [
    {
     "name": "stdout",
     "output_type": "stream",
     "text": [
      "[1] \"Make sure to input names AS THEY APPEAR on the csv!!\"\n"
     ]
    },
    {
     "name": "stdin",
     "output_type": "stream",
     "text": [
      "Enter file name (Either FemaleMap.csv or MaleMap.csv):  FemaleMap.csv\n",
      "First Genotype (homozygous) (For example ll):  ll\n",
      "Second Genotype (heterozygous) (for example lm):  lm\n",
      "Column Number:  29\n"
     ]
    }
   ],
   "source": [
    "#Collecting enviroment variables\n",
    "print(\"Make sure to input names AS THEY APPEAR on the csv!!\") #Just a user warning\n",
    "fileName <- readline(\"Enter file name (Either FemaleMap.csv or MaleMap.csv): \") #Mapping table file\n",
    "genotypeName <- c(readline(\"First Genotype (homozygous) (For example ll): \"),\n",
    "                  readline(\"Second Genotype (heterozygous) (for example lm): \")) #For example \"nn\", \"np\"\n",
    "alleleName <- c(substr(genotypeName[2],1,1) ,substr(genotypeName[2],2,2))\n",
    "naNames <- c(\"NA\",\"--\") #For example \"NA\", \"--\"\n",
    "colNum <- as.numeric(readline(\"Column Number: \")) #Column for pheno of interest"
   ]
  },
  {
   "cell_type": "code",
   "execution_count": 5,
   "metadata": {},
   "outputs": [
    {
     "name": "stdout",
     "output_type": "stream",
     "text": [
      " --Read the following data:\n",
      "\t 294  individuals\n",
      "\t 1100  markers\n",
      "\t 38  phenotypes\n"
     ]
    },
    {
     "name": "stderr",
     "output_type": "stream",
     "text": [
      "Warning message in summary.cross(cross):\n",
      "\"Some markers at the same position on chr 1,2,4,5,7,8,9,10,11,12,13,14,16,17,18,19; use jittermap().\"\n"
     ]
    },
    {
     "name": "stdout",
     "output_type": "stream",
     "text": [
      " --Cross type: bc \n"
     ]
    },
    {
     "data": {
      "image/png": "[encoded data removed]",
      "text/plain": [
       "Plot with title \"Genetic map\""
      ]
     },
     "metadata": {
      "image/png": {
       "height": 420,
       "width": 420
      },
      "text/plain": {
       "height": 420,
       "width": 420
      }
     },
     "output_type": "display_data"
    }
   ],
   "source": [
    "#Map generation\n",
    "Map <- read.cross(format = 'csv',file = fileName \n",
    "                  ,genotypes = genotypeName,\n",
    "                  alleles = alleleName,na.strings = naNames) #generate linkage map\n",
    "Map <- jittermap(Map) #make sure no markers are in the same location\n",
    "Map <- calc.genoprob(Map,step = 1,map.function = \"kosambi\") #associate markers with full genotypes\n",
    "plot.map(Map) #draw linkage map"
   ]
  },
  {
   "cell_type": "code",
   "execution_count": 6,
   "metadata": {},
   "outputs": [
    {
     "data": {
      "image/png": "[encoded data removed]",
      "text/plain": [
       "Plot with title \"\""
      ]
     },
     "metadata": {
      "image/png": {
       "height": 420,
       "width": 420
      },
      "text/plain": {
       "height": 420,
       "width": 420
      }
     },
     "output_type": "display_data"
    }
   ],
   "source": [
    "plotNormalHistogram(Map$pheno[,colNum]) #normal histogram of pheno of interest"
   ]
  },
  {
   "cell_type": "markdown",
   "metadata": {},
   "source": [
    "Outliers exist in this dataset. Will need to be analyized. "
   ]
  },
  {
   "cell_type": "code",
   "execution_count": 8,
   "metadata": {},
   "outputs": [
    {
     "data": {
      "text/plain": [
       "LOD thresholds (1000 permutations)\n",
       "   [,1]\n",
       "5% 4.65\n",
       "1% 6.71"
      ]
     },
     "metadata": {},
     "output_type": "display_data"
    },
    {
     "data": {
      "image/png": "[encoded data removed]",
      "text/plain": [
       "Plot with title \"\""
      ]
     },
     "metadata": {
      "image/png": {
       "height": 420,
       "width": 420
      },
      "text/plain": {
       "height": 420,
       "width": 420
      }
     },
     "output_type": "display_data"
    }
   ],
   "source": [
    "#Compute statistically significant values\n",
    "TraitCIM1000 <- cim(Map,pheno.col = colNum,method = \"hk\",\n",
    "                    map.function = \"kosambi\",n.perm = 1000) # Function will take a moment to run, determines LOD value\n",
    "plot(TraitCIM1000,col = 'green') #show distribution of lod scores\n",
    "summary(TraitCIM1000,alpha=c(.05,.01))"
   ]
  },
  {
   "cell_type": "code",
   "execution_count": 11,
   "metadata": {},
   "outputs": [
    {
     "name": "stdout",
     "output_type": "stream",
     "text": [
      "[1] \"If nothing shows up, the values \\n      are below the LOD5 score\"\n"
     ]
    },
    {
     "data": {
      "text/html": [
       "<table>\n",
       "<caption>A summary.scanone: 19 × 3</caption>\n",
       "<thead>\n",
       "\t<tr><th></th><th scope=col>chr</th><th scope=col>pos</th><th scope=col>lod</th></tr>\n",
       "\t<tr><th></th><th scope=col>&lt;fct&gt;</th><th scope=col>&lt;dbl&gt;</th><th scope=col>&lt;dbl&gt;</th></tr>\n",
       "</thead>\n",
       "<tbody>\n",
       "\t<tr><th scope=row>1_4279304</th><td>1 </td><td>21.077021</td><td>0.3450064</td></tr>\n",
       "\t<tr><th scope=row>2_2972467</th><td>2 </td><td>29.786009</td><td>0.5345572</td></tr>\n",
       "\t<tr><th scope=row>c3.loc32</th><td>3 </td><td>32.000000</td><td>0.9218395</td></tr>\n",
       "\t<tr><th scope=row>4_19442596</th><td>4 </td><td>53.485049</td><td>2.0150803</td></tr>\n",
       "\t<tr><th scope=row>5_7648545</th><td>5 </td><td>37.038025</td><td>1.7091574</td></tr>\n",
       "\t<tr><th scope=row>c6.loc58</th><td>6 </td><td>58.000000</td><td>1.4896151</td></tr>\n",
       "\t<tr><th scope=row>7_19372163</th><td>7 </td><td>65.606081</td><td>1.4129905</td></tr>\n",
       "\t<tr><th scope=row>c8.loc31</th><td>8 </td><td>31.000000</td><td>5.0437846</td></tr>\n",
       "\t<tr><th scope=row>c9.loc36</th><td>9 </td><td>36.000000</td><td>0.7759452</td></tr>\n",
       "\t<tr><th scope=row>10_21670072</th><td>10</td><td>54.270064</td><td>0.9160138</td></tr>\n",
       "\t<tr><th scope=row>c11.loc49</th><td>11</td><td>49.000000</td><td>1.1168202</td></tr>\n",
       "\t<tr><th scope=row>c12.loc81</th><td>12</td><td>81.000000</td><td>1.7878842</td></tr>\n",
       "\t<tr><th scope=row>2_16557251</th><td>13</td><td>65.853048</td><td>0.5567087</td></tr>\n",
       "\t<tr><th scope=row>14_788160</th><td>14</td><td> 0.000000</td><td>0.2651080</td></tr>\n",
       "\t<tr><th scope=row>15_584182</th><td>15</td><td> 0.000000</td><td>1.9926661</td></tr>\n",
       "\t<tr><th scope=row>16_1969901</th><td>16</td><td> 6.682007</td><td>0.6879775</td></tr>\n",
       "\t<tr><th scope=row>c17.loc4</th><td>17</td><td> 4.000000</td><td>2.5116410</td></tr>\n",
       "\t<tr><th scope=row>c18.loc16</th><td>18</td><td>16.000000</td><td>0.8515093</td></tr>\n",
       "\t<tr><th scope=row>19_18512448</th><td>19</td><td>53.440066</td><td>1.1044027</td></tr>\n",
       "</tbody>\n",
       "</table>\n"
      ],
      "text/latex": [
       "A summary.scanone: 19 × 3\n",
       "\\begin{tabular}{r|lll}\n",
       "  & chr & pos & lod\\\\\n",
       "  & <fct> & <dbl> & <dbl>\\\\\n",
       "\\hline\n",
       "\t1\\_4279304 & 1  & 21.077021 & 0.3450064\\\\\n",
       "\t2\\_2972467 & 2  & 29.786009 & 0.5345572\\\\\n",
       "\tc3.loc32 & 3  & 32.000000 & 0.9218395\\\\\n",
       "\t4\\_19442596 & 4  & 53.485049 & 2.0150803\\\\\n",
       "\t5\\_7648545 & 5  & 37.038025 & 1.7091574\\\\\n",
       "\tc6.loc58 & 6  & 58.000000 & 1.4896151\\\\\n",
       "\t7\\_19372163 & 7  & 65.606081 & 1.4129905\\\\\n",
       "\tc8.loc31 & 8  & 31.000000 & 5.0437846\\\\\n",
       "\tc9.loc36 & 9  & 36.000000 & 0.7759452\\\\\n",
       "\t10\\_21670072 & 10 & 54.270064 & 0.9160138\\\\\n",
       "\tc11.loc49 & 11 & 49.000000 & 1.1168202\\\\\n",
       "\tc12.loc81 & 12 & 81.000000 & 1.7878842\\\\\n",
       "\t2\\_16557251 & 13 & 65.853048 & 0.5567087\\\\\n",
       "\t14\\_788160 & 14 &  0.000000 & 0.2651080\\\\\n",
       "\t15\\_584182 & 15 &  0.000000 & 1.9926661\\\\\n",
       "\t16\\_1969901 & 16 &  6.682007 & 0.6879775\\\\\n",
       "\tc17.loc4 & 17 &  4.000000 & 2.5116410\\\\\n",
       "\tc18.loc16 & 18 & 16.000000 & 0.8515093\\\\\n",
       "\t19\\_18512448 & 19 & 53.440066 & 1.1044027\\\\\n",
       "\\end{tabular}\n"
      ],
      "text/markdown": [
       "\n",
       "A summary.scanone: 19 × 3\n",
       "\n",
       "| <!--/--> | chr &lt;fct&gt; | pos &lt;dbl&gt; | lod &lt;dbl&gt; |\n",
       "|---|---|---|---|\n",
       "| 1_4279304 | 1  | 21.077021 | 0.3450064 |\n",
       "| 2_2972467 | 2  | 29.786009 | 0.5345572 |\n",
       "| c3.loc32 | 3  | 32.000000 | 0.9218395 |\n",
       "| 4_19442596 | 4  | 53.485049 | 2.0150803 |\n",
       "| 5_7648545 | 5  | 37.038025 | 1.7091574 |\n",
       "| c6.loc58 | 6  | 58.000000 | 1.4896151 |\n",
       "| 7_19372163 | 7  | 65.606081 | 1.4129905 |\n",
       "| c8.loc31 | 8  | 31.000000 | 5.0437846 |\n",
       "| c9.loc36 | 9  | 36.000000 | 0.7759452 |\n",
       "| 10_21670072 | 10 | 54.270064 | 0.9160138 |\n",
       "| c11.loc49 | 11 | 49.000000 | 1.1168202 |\n",
       "| c12.loc81 | 12 | 81.000000 | 1.7878842 |\n",
       "| 2_16557251 | 13 | 65.853048 | 0.5567087 |\n",
       "| 14_788160 | 14 |  0.000000 | 0.2651080 |\n",
       "| 15_584182 | 15 |  0.000000 | 1.9926661 |\n",
       "| 16_1969901 | 16 |  6.682007 | 0.6879775 |\n",
       "| c17.loc4 | 17 |  4.000000 | 2.5116410 |\n",
       "| c18.loc16 | 18 | 16.000000 | 0.8515093 |\n",
       "| 19_18512448 | 19 | 53.440066 | 1.1044027 |\n",
       "\n"
      ],
      "text/plain": [
       "            chr pos       lod      \n",
       "1_4279304   1   21.077021 0.3450064\n",
       "2_2972467   2   29.786009 0.5345572\n",
       "c3.loc32    3   32.000000 0.9218395\n",
       "4_19442596  4   53.485049 2.0150803\n",
       "5_7648545   5   37.038025 1.7091574\n",
       "c6.loc58    6   58.000000 1.4896151\n",
       "7_19372163  7   65.606081 1.4129905\n",
       "c8.loc31    8   31.000000 5.0437846\n",
       "c9.loc36    9   36.000000 0.7759452\n",
       "10_21670072 10  54.270064 0.9160138\n",
       "c11.loc49   11  49.000000 1.1168202\n",
       "c12.loc81   12  81.000000 1.7878842\n",
       "2_16557251  13  65.853048 0.5567087\n",
       "14_788160   14   0.000000 0.2651080\n",
       "15_584182   15   0.000000 1.9926661\n",
       "16_1969901  16   6.682007 0.6879775\n",
       "c17.loc4    17   4.000000 2.5116410\n",
       "c18.loc16   18  16.000000 0.8515093\n",
       "19_18512448 19  53.440066 1.1044027"
      ]
     },
     "metadata": {},
     "output_type": "display_data"
    },
    {
     "data": {
      "image/png": "[encoded data removed]",
      "text/plain": [
       "plot without title"
      ]
     },
     "metadata": {
      "image/png": {
       "height": 420,
       "width": 420
      },
      "text/plain": {
       "height": 420,
       "width": 420
      }
     },
     "output_type": "display_data"
    }
   ],
   "source": [
    "#Deterime LOD Values\n",
    "TraitCIM<-cim(Map,pheno.col = colNum,method = \"hk\",\n",
    "              map.function = \"kosambi\") #Generate LOD Values\n",
    "plot(TraitCIM) #show LOD graph\n",
    "abline(h = LOD5,col = \"blue\") #overlay statistically significant line\n",
    "print(\"If nothing shows up, the values \n",
    "      are below the LOD5 score\") #warning for no peaks\n",
    "summary(TraitCIM)"
   ]
  },
  {
   "cell_type": "code",
   "execution_count": 20,
   "metadata": {},
   "outputs": [
    {
     "name": "stdin",
     "output_type": "stream",
     "text": [
      "Chromosome?  8\n"
     ]
    },
    {
     "data": {
      "image/png": "[encoded data removed]",
      "text/plain": [
       "plot without title"
      ]
     },
     "metadata": {
      "image/png": {
       "height": 420,
       "width": 420
      },
      "text/plain": {
       "height": 420,
       "width": 420
      }
     },
     "output_type": "display_data"
    }
   ],
   "source": [
    "#Chromosomal Analysis\n",
    "chr <- as.numeric(readline(\"Chromosome? \")) #collect chromosome to look at\n",
    "plot(TraitCIM, chr = chr,xlab = c(\"chr\",chr)) #Plot chr LOD scores\n",
    "abline(h = LOD5, col = \"blue\") #Statistically Significant"
   ]
  },
  {
   "cell_type": "code",
   "execution_count": 26,
   "metadata": {},
   "outputs": [
    {
     "data": {
      "text/html": [
       "<table>\n",
       "<caption>A scanone: 3 × 3</caption>\n",
       "<thead>\n",
       "\t<tr><th></th><th scope=col>chr</th><th scope=col>pos</th><th scope=col>lod</th></tr>\n",
       "\t<tr><th></th><th scope=col>&lt;fct&gt;</th><th scope=col>&lt;dbl&gt;</th><th scope=col>&lt;dbl&gt;</th></tr>\n",
       "</thead>\n",
       "<tbody>\n",
       "\t<tr><th scope=row>8_11536729</th><td>8</td><td>30.62702</td><td>4.844811</td></tr>\n",
       "\t<tr><th scope=row>c8.loc31</th><td>8</td><td>31.00000</td><td>5.043785</td></tr>\n",
       "\t<tr><th scope=row>8_11720093</th><td>8</td><td>31.77402</td><td>1.649022</td></tr>\n",
       "</tbody>\n",
       "</table>\n"
      ],
      "text/latex": [
       "A scanone: 3 × 3\n",
       "\\begin{tabular}{r|lll}\n",
       "  & chr & pos & lod\\\\\n",
       "  & <fct> & <dbl> & <dbl>\\\\\n",
       "\\hline\n",
       "\t8\\_11536729 & 8 & 30.62702 & 4.844811\\\\\n",
       "\tc8.loc31 & 8 & 31.00000 & 5.043785\\\\\n",
       "\t8\\_11720093 & 8 & 31.77402 & 1.649022\\\\\n",
       "\\end{tabular}\n"
      ],
      "text/markdown": [
       "\n",
       "A scanone: 3 × 3\n",
       "\n",
       "| <!--/--> | chr &lt;fct&gt; | pos &lt;dbl&gt; | lod &lt;dbl&gt; |\n",
       "|---|---|---|---|\n",
       "| 8_11536729 | 8 | 30.62702 | 4.844811 |\n",
       "| c8.loc31 | 8 | 31.00000 | 5.043785 |\n",
       "| 8_11720093 | 8 | 31.77402 | 1.649022 |\n",
       "\n"
      ],
      "text/plain": [
       "           chr pos      lod     \n",
       "8_11536729 8   30.62702 4.844811\n",
       "c8.loc31   8   31.00000 5.043785\n",
       "8_11720093 8   31.77402 1.649022"
      ]
     },
     "metadata": {},
     "output_type": "display_data"
    },
    {
     "data": {
      "text/html": [
       "<table>\n",
       "<caption>A scanone: 3 × 3</caption>\n",
       "<thead>\n",
       "\t<tr><th></th><th scope=col>chr</th><th scope=col>pos</th><th scope=col>lod</th></tr>\n",
       "\t<tr><th></th><th scope=col>&lt;fct&gt;</th><th scope=col>&lt;dbl&gt;</th><th scope=col>&lt;dbl&gt;</th></tr>\n",
       "</thead>\n",
       "<tbody>\n",
       "\t<tr><th scope=row>8_11455801</th><td>8</td><td>28.82302</td><td>0.01238839</td></tr>\n",
       "\t<tr><th scope=row>c8.loc31</th><td>8</td><td>31.00000</td><td>5.04378460</td></tr>\n",
       "\t<tr><th scope=row>8_11720093</th><td>8</td><td>31.77402</td><td>1.64902178</td></tr>\n",
       "</tbody>\n",
       "</table>\n"
      ],
      "text/latex": [
       "A scanone: 3 × 3\n",
       "\\begin{tabular}{r|lll}\n",
       "  & chr & pos & lod\\\\\n",
       "  & <fct> & <dbl> & <dbl>\\\\\n",
       "\\hline\n",
       "\t8\\_11455801 & 8 & 28.82302 & 0.01238839\\\\\n",
       "\tc8.loc31 & 8 & 31.00000 & 5.04378460\\\\\n",
       "\t8\\_11720093 & 8 & 31.77402 & 1.64902178\\\\\n",
       "\\end{tabular}\n"
      ],
      "text/markdown": [
       "\n",
       "A scanone: 3 × 3\n",
       "\n",
       "| <!--/--> | chr &lt;fct&gt; | pos &lt;dbl&gt; | lod &lt;dbl&gt; |\n",
       "|---|---|---|---|\n",
       "| 8_11455801 | 8 | 28.82302 | 0.01238839 |\n",
       "| c8.loc31 | 8 | 31.00000 | 5.04378460 |\n",
       "| 8_11720093 | 8 | 31.77402 | 1.64902178 |\n",
       "\n"
      ],
      "text/plain": [
       "           chr pos      lod       \n",
       "8_11455801 8   28.82302 0.01238839\n",
       "c8.loc31   8   31.00000 5.04378460\n",
       "8_11720093 8   31.77402 1.64902178"
      ]
     },
     "metadata": {},
     "output_type": "display_data"
    }
   ],
   "source": [
    "bayesint(TraitCIM, chr = chr, prob=0.95, expandtomarkers=TRUE) #calculate bayesian interval\n",
    "lodint(TraitCIM, chr = chr,expandtomarkers = TRUE ) #calculate LOD Support interval"
   ]
  },
  {
   "cell_type": "code",
   "execution_count": 27,
   "metadata": {},
   "outputs": [
    {
     "name": "stdin",
     "output_type": "stream",
     "text": [
      "Position for analysis:  31\n"
     ]
    },
    {
     "name": "stderr",
     "output_type": "stream",
     "text": [
      "Warning message in getsex(cross):\n",
      "\"125 individuals with missing sex; assuming they're female\"\n",
      "Warning message in fitqtlengine(pheno = pheno, qtl = qtl, covar = covar, formula = formula, :\n",
      "\"Dropping 127 individuals with missing phenotypes.\n",
      "\"\n",
      "Warning message in getsex(cross):\n",
      "\"125 individuals with missing sex; assuming they're female\"\n"
     ]
    },
    {
     "data": {
      "text/plain": [
       "\n",
       "\t\tfitqtl summary\n",
       "\n",
       "Method: Haley-Knott regression \n",
       "Model:  normal phenotype\n",
       "Number of observations : 167 \n",
       "\n",
       "Full model result\n",
       "----------------------------------  \n",
       "Model formula: y ~ Q1 \n",
       "\n",
       "       df        SS         MS      LOD    %var Pvalue(Chi2)    Pvalue(F)\n",
       "Model   1  17.73632 17.7363229 4.239014 11.0321 9.947993e-06 1.158899e-05\n",
       "Error 165 143.03389  0.8668721                                           \n",
       "Total 166 160.77022                                                      \n",
       "\n",
       "\n",
       "Estimated effects:\n",
       "-----------------\n",
       "               est       SE      t\n",
       "Intercept  1.35296  0.07226 18.724\n",
       "8@31.0    -3.50042  0.77387 -4.523\n"
      ]
     },
     "metadata": {},
     "output_type": "display_data"
    }
   ],
   "source": [
    "p <- as.numeric(readline(\"Position for analysis: \"))\n",
    "qtl <- makeqtl(Map, chr = chr, pos = p, what=\"prob\") #pulls genotype probabilities\n",
    "fitqtl <- fitqtl(Map, pheno.col=colNum, qtl = qtl, covar=NULL,\n",
    "       method= \"hk\",model=\"normal\",\n",
    "       dropone=TRUE, get.ests=TRUE,run.checks=TRUE,\n",
    "       tol=1e-4, maxit=1000, forceXcovar=FALSE) #sees how well our data fits a given formula \n",
    "          # If you see \"error: object of type 'closure' is not subsettable\", remove \"formula,\" from the fitqtl argument list.\n",
    "summary(fitqtl) #Print results of the analysis"
   ]
  },
  {
   "cell_type": "code",
   "execution_count": 4,
   "metadata": {},
   "outputs": [
    {
     "name": "stdout",
     "output_type": "stream",
     "text": [
      "[1] \"Make sure to input names AS THEY APPEAR on the csv!!\"\n"
     ]
    },
    {
     "name": "stdin",
     "output_type": "stream",
     "text": [
      "Enter file name (Either FemaleMap.csv or MaleMap.csv):  MaleMap.csv\n",
      "First Genotype (homozygous) (For example ll):  nn\n",
      "Second Genotype (heterozygous) (for example lm):  np\n",
      "Column Number:  29\n"
     ]
    }
   ],
   "source": [
    "#Collecting enviroment variables\n",
    "print(\"Make sure to input names AS THEY APPEAR on the csv!!\") #Just a user warning\n",
    "fileName <- readline(\"Enter file name (Either FemaleMap.csv or MaleMap.csv): \") #Mapping table file\n",
    "genotypeName <- c(readline(\"First Genotype (homozygous) (For example ll): \"),\n",
    "                  readline(\"Second Genotype (heterozygous) (for example lm): \")) #For example \"nn\", \"np\"\n",
    "alleleName <- c(substr(genotypeName[2],1,1) ,substr(genotypeName[2],2,2))\n",
    "naNames <- c(\"NA\",\"--\") #For example \"NA\", \"--\"\n",
    "colNum <- as.numeric(readline(\"Column Number: \")) #Column for pheno of interest"
   ]
  },
  {
   "cell_type": "code",
   "execution_count": 5,
   "metadata": {},
   "outputs": [
    {
     "name": "stdout",
     "output_type": "stream",
     "text": [
      " --Read the following data:\n",
      "\t 294  individuals\n",
      "\t 1128  markers\n",
      "\t 38  phenotypes\n"
     ]
    },
    {
     "name": "stderr",
     "output_type": "stream",
     "text": [
      "Warning message in summary.cross(cross):\n",
      "\"Some markers at the same position on chr 1,3,4,5,6,7,8,9,10,12,13,14,15,16,17,18,19; use jittermap().\"\n"
     ]
    },
    {
     "name": "stdout",
     "output_type": "stream",
     "text": [
      " --Cross type: bc \n"
     ]
    },
    {
     "data": {
      "image/png": "[encoded data removed]",
      "text/plain": [
       "Plot with title \"Genetic map\""
      ]
     },
     "metadata": {
      "image/png": {
       "height": 420,
       "width": 420
      },
      "text/plain": {
       "height": 420,
       "width": 420
      }
     },
     "output_type": "display_data"
    }
   ],
   "source": [
    "#Map generation\n",
    "Map <- read.cross(format = 'csv',file = fileName \n",
    "                  ,genotypes = genotypeName,\n",
    "                  alleles = alleleName,na.strings = naNames) #generate linkage map\n",
    "Map <- jittermap(Map) #make sure no markers are in the same location\n",
    "Map <- calc.genoprob(Map,step = 1,map.function = \"kosambi\") #associate markers with full genotypes\n",
    "plot.map(Map) #draw linkage map"
   ]
  },
  {
   "cell_type": "code",
   "execution_count": 6,
   "metadata": {},
   "outputs": [
    {
     "data": {
      "image/png": "[encoded data removed]",
      "text/plain": [
       "Plot with title \"\""
      ]
     },
     "metadata": {
      "image/png": {
       "height": 420,
       "width": 420
      },
      "text/plain": {
       "height": 420,
       "width": 420
      }
     },
     "output_type": "display_data"
    }
   ],
   "source": [
    "plotNormalHistogram(Map$pheno[,colNum]) #normal histogram of pheno of interest"
   ]
  },
  {
   "cell_type": "markdown",
   "metadata": {},
   "source": [
    "Outliers exist in this data. "
   ]
  },
  {
   "cell_type": "code",
   "execution_count": 7,
   "metadata": {},
   "outputs": [
    {
     "data": {
      "image/png": "[encoded data removed]",
      "text/plain": [
       "Plot with title \"\""
      ]
     },
     "metadata": {
      "image/png": {
       "height": 420,
       "width": 420
      },
      "text/plain": {
       "height": 420,
       "width": 420
      }
     },
     "output_type": "display_data"
    }
   ],
   "source": [
    "#Compute statistically significant values\n",
    "TraitCIM1000 <- cim(Map,pheno.col = colNum,method = \"hk\",\n",
    "                    map.function = \"kosambi\",n.perm = 1000) # Function will take a moment to run, determines LOD value\n",
    "plot(TraitCIM1000,col = 'green') #show distribution of lod scores\n",
    "LOD5 <- summary(TraitCIM1000)[1]"
   ]
  },
  {
   "cell_type": "code",
   "execution_count": 8,
   "metadata": {},
   "outputs": [
    {
     "name": "stdout",
     "output_type": "stream",
     "text": [
      "[1] \"If nothing shows up, the values \\n      are below the LOD5 score\"\n"
     ]
    },
    {
     "data": {
      "text/html": [
       "<table>\n",
       "<caption>A summary.scanone: 19 × 3</caption>\n",
       "<thead>\n",
       "\t<tr><th></th><th scope=col>chr</th><th scope=col>pos</th><th scope=col>lod</th></tr>\n",
       "\t<tr><th></th><th scope=col>&lt;fct&gt;</th><th scope=col>&lt;dbl&gt;</th><th scope=col>&lt;dbl&gt;</th></tr>\n",
       "</thead>\n",
       "<tbody>\n",
       "\t<tr><th scope=row>1_6912064</th><td>1 </td><td> 36.67603</td><td>0.9000904</td></tr>\n",
       "\t<tr><th scope=row>c2.loc68</th><td>2 </td><td> 68.00000</td><td>0.9856979</td></tr>\n",
       "\t<tr><th scope=row>c3.loc66</th><td>3 </td><td> 66.00000</td><td>0.6956193</td></tr>\n",
       "\t<tr><th scope=row>c4.loc44</th><td>4 </td><td> 44.00000</td><td>2.2191516</td></tr>\n",
       "\t<tr><th scope=row>5_20828642</th><td>5 </td><td> 65.22304</td><td>0.2071230</td></tr>\n",
       "\t<tr><th scope=row>c6.loc16</th><td>6 </td><td> 16.00000</td><td>0.7972189</td></tr>\n",
       "\t<tr><th scope=row>c7.loc106</th><td>7 </td><td>106.00000</td><td>0.8758886</td></tr>\n",
       "\t<tr><th scope=row>8_21195687</th><td>8 </td><td> 84.31204</td><td>1.9984150</td></tr>\n",
       "\t<tr><th scope=row>c9.loc30</th><td>9 </td><td> 30.00000</td><td>0.8543805</td></tr>\n",
       "\t<tr><th scope=row>c10.loc12</th><td>10</td><td> 12.00000</td><td>0.5727525</td></tr>\n",
       "\t<tr><th scope=row>c11.loc46</th><td>11</td><td> 46.00000</td><td>0.4668395</td></tr>\n",
       "\t<tr><th scope=row>c12.loc28</th><td>12</td><td> 28.00000</td><td>1.6431932</td></tr>\n",
       "\t<tr><th scope=row>c13.loc73</th><td>13</td><td> 73.00000</td><td>1.0489967</td></tr>\n",
       "\t<tr><th scope=row>14_16487533</th><td>14</td><td> 35.47904</td><td>1.5894039</td></tr>\n",
       "\t<tr><th scope=row>c15.loc9</th><td>15</td><td>  9.00000</td><td>1.1751828</td></tr>\n",
       "\t<tr><th scope=row>c16.loc22</th><td>16</td><td> 22.00000</td><td>1.3159715</td></tr>\n",
       "\t<tr><th scope=row>c17.loc14</th><td>17</td><td> 14.00000</td><td>1.6035240</td></tr>\n",
       "\t<tr><th scope=row>5_4316098</th><td>18</td><td>101.79705</td><td>1.4389890</td></tr>\n",
       "\t<tr><th scope=row>c19.loc44</th><td>19</td><td> 44.00000</td><td>1.6287205</td></tr>\n",
       "</tbody>\n",
       "</table>\n"
      ],
      "text/latex": [
       "A summary.scanone: 19 × 3\n",
       "\\begin{tabular}{r|lll}\n",
       "  & chr & pos & lod\\\\\n",
       "  & <fct> & <dbl> & <dbl>\\\\\n",
       "\\hline\n",
       "\t1\\_6912064 & 1  &  36.67603 & 0.9000904\\\\\n",
       "\tc2.loc68 & 2  &  68.00000 & 0.9856979\\\\\n",
       "\tc3.loc66 & 3  &  66.00000 & 0.6956193\\\\\n",
       "\tc4.loc44 & 4  &  44.00000 & 2.2191516\\\\\n",
       "\t5\\_20828642 & 5  &  65.22304 & 0.2071230\\\\\n",
       "\tc6.loc16 & 6  &  16.00000 & 0.7972189\\\\\n",
       "\tc7.loc106 & 7  & 106.00000 & 0.8758886\\\\\n",
       "\t8\\_21195687 & 8  &  84.31204 & 1.9984150\\\\\n",
       "\tc9.loc30 & 9  &  30.00000 & 0.8543805\\\\\n",
       "\tc10.loc12 & 10 &  12.00000 & 0.5727525\\\\\n",
       "\tc11.loc46 & 11 &  46.00000 & 0.4668395\\\\\n",
       "\tc12.loc28 & 12 &  28.00000 & 1.6431932\\\\\n",
       "\tc13.loc73 & 13 &  73.00000 & 1.0489967\\\\\n",
       "\t14\\_16487533 & 14 &  35.47904 & 1.5894039\\\\\n",
       "\tc15.loc9 & 15 &   9.00000 & 1.1751828\\\\\n",
       "\tc16.loc22 & 16 &  22.00000 & 1.3159715\\\\\n",
       "\tc17.loc14 & 17 &  14.00000 & 1.6035240\\\\\n",
       "\t5\\_4316098 & 18 & 101.79705 & 1.4389890\\\\\n",
       "\tc19.loc44 & 19 &  44.00000 & 1.6287205\\\\\n",
       "\\end{tabular}\n"
      ],
      "text/markdown": [
       "\n",
       "A summary.scanone: 19 × 3\n",
       "\n",
       "| <!--/--> | chr &lt;fct&gt; | pos &lt;dbl&gt; | lod &lt;dbl&gt; |\n",
       "|---|---|---|---|\n",
       "| 1_6912064 | 1  |  36.67603 | 0.9000904 |\n",
       "| c2.loc68 | 2  |  68.00000 | 0.9856979 |\n",
       "| c3.loc66 | 3  |  66.00000 | 0.6956193 |\n",
       "| c4.loc44 | 4  |  44.00000 | 2.2191516 |\n",
       "| 5_20828642 | 5  |  65.22304 | 0.2071230 |\n",
       "| c6.loc16 | 6  |  16.00000 | 0.7972189 |\n",
       "| c7.loc106 | 7  | 106.00000 | 0.8758886 |\n",
       "| 8_21195687 | 8  |  84.31204 | 1.9984150 |\n",
       "| c9.loc30 | 9  |  30.00000 | 0.8543805 |\n",
       "| c10.loc12 | 10 |  12.00000 | 0.5727525 |\n",
       "| c11.loc46 | 11 |  46.00000 | 0.4668395 |\n",
       "| c12.loc28 | 12 |  28.00000 | 1.6431932 |\n",
       "| c13.loc73 | 13 |  73.00000 | 1.0489967 |\n",
       "| 14_16487533 | 14 |  35.47904 | 1.5894039 |\n",
       "| c15.loc9 | 15 |   9.00000 | 1.1751828 |\n",
       "| c16.loc22 | 16 |  22.00000 | 1.3159715 |\n",
       "| c17.loc14 | 17 |  14.00000 | 1.6035240 |\n",
       "| 5_4316098 | 18 | 101.79705 | 1.4389890 |\n",
       "| c19.loc44 | 19 |  44.00000 | 1.6287205 |\n",
       "\n"
      ],
      "text/plain": [
       "            chr pos       lod      \n",
       "1_6912064   1    36.67603 0.9000904\n",
       "c2.loc68    2    68.00000 0.9856979\n",
       "c3.loc66    3    66.00000 0.6956193\n",
       "c4.loc44    4    44.00000 2.2191516\n",
       "5_20828642  5    65.22304 0.2071230\n",
       "c6.loc16    6    16.00000 0.7972189\n",
       "c7.loc106   7   106.00000 0.8758886\n",
       "8_21195687  8    84.31204 1.9984150\n",
       "c9.loc30    9    30.00000 0.8543805\n",
       "c10.loc12   10   12.00000 0.5727525\n",
       "c11.loc46   11   46.00000 0.4668395\n",
       "c12.loc28   12   28.00000 1.6431932\n",
       "c13.loc73   13   73.00000 1.0489967\n",
       "14_16487533 14   35.47904 1.5894039\n",
       "c15.loc9    15    9.00000 1.1751828\n",
       "c16.loc22   16   22.00000 1.3159715\n",
       "c17.loc14   17   14.00000 1.6035240\n",
       "5_4316098   18  101.79705 1.4389890\n",
       "c19.loc44   19   44.00000 1.6287205"
      ]
     },
     "metadata": {},
     "output_type": "display_data"
    },
    {
     "data": {
      "image/png": "[encoded data removed]",
      "text/plain": [
       "plot without title"
      ]
     },
     "metadata": {
      "image/png": {
       "height": 420,
       "width": 420
      },
      "text/plain": {
       "height": 420,
       "width": 420
      }
     },
     "output_type": "display_data"
    }
   ],
   "source": [
    "#Deterime LOD Values\n",
    "TraitCIM<-cim(Map,pheno.col = colNum,method = \"hk\",\n",
    "              map.function = \"kosambi\") #Generate LOD Values\n",
    "plot(TraitCIM) #show LOD graph\n",
    "abline(h = LOD5,col = \"blue\") #overlay statistically significant line\n",
    "print(\"If nothing shows up, the values \n",
    "      are below the LOD5 score\") #warning for no peaks\n",
    "summary(TraitCIM)"
   ]
  }
 ],
 "metadata": {
  "kernelspec": {
   "display_name": "R",
   "language": "R",
   "name": "ir"
  },
  "language_info": {
   "codemirror_mode": "r",
   "file_extension": ".r",
   "mimetype": "text/x-r-source",
   "name": "R",
   "pygments_lexer": "r",
   "version": "3.6.3"
  }
 },
 "nbformat": 4,
 "nbformat_minor": 4
}
