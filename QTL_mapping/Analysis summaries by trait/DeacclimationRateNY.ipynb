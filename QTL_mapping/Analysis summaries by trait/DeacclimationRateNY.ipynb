{
 "cells": [
  {
   "cell_type": "markdown",
   "metadata": {},
   "source": [
    "This analysis is in the order of Female then Male"
   ]
  },
  {
   "cell_type": "code",
   "execution_count": 1,
   "metadata": {},
   "outputs": [
    {
     "name": "stderr",
     "output_type": "stream",
     "text": [
      "Installing package into 'C:/Users/Courtney/Documents/R/win-library/3.6'\n",
      "(as 'lib' is unspecified)\n",
      "\n"
     ]
    },
    {
     "name": "stdout",
     "output_type": "stream",
     "text": [
      "package 'qtl' successfully unpacked and MD5 sums checked\n",
      "\n",
      "The downloaded binary packages are in\n",
      "\tC:\\Users\\Courtney\\AppData\\Local\\Temp\\Rtmpe0ycTO\\downloaded_packages\n"
     ]
    },
    {
     "name": "stderr",
     "output_type": "stream",
     "text": [
      "Installing package into 'C:/Users/Courtney/Documents/R/win-library/3.6'\n",
      "(as 'lib' is unspecified)\n",
      "\n"
     ]
    },
    {
     "name": "stdout",
     "output_type": "stream",
     "text": [
      "package 'qtlcharts' successfully unpacked and MD5 sums checked\n",
      "\n",
      "The downloaded binary packages are in\n",
      "\tC:\\Users\\Courtney\\AppData\\Local\\Temp\\Rtmpe0ycTO\\downloaded_packages\n"
     ]
    },
    {
     "name": "stderr",
     "output_type": "stream",
     "text": [
      "Installing package into 'C:/Users/Courtney/Documents/R/win-library/3.6'\n",
      "(as 'lib' is unspecified)\n",
      "\n"
     ]
    },
    {
     "name": "stdout",
     "output_type": "stream",
     "text": [
      "package 'LinkageMapView' successfully unpacked and MD5 sums checked\n",
      "\n",
      "The downloaded binary packages are in\n",
      "\tC:\\Users\\Courtney\\AppData\\Local\\Temp\\Rtmpe0ycTO\\downloaded_packages\n"
     ]
    },
    {
     "name": "stderr",
     "output_type": "stream",
     "text": [
      "Installing package into 'C:/Users/Courtney/Documents/R/win-library/3.6'\n",
      "(as 'lib' is unspecified)\n",
      "\n"
     ]
    },
    {
     "name": "stdout",
     "output_type": "stream",
     "text": [
      "package 'rcompanion' successfully unpacked and MD5 sums checked\n",
      "\n",
      "The downloaded binary packages are in\n",
      "\tC:\\Users\\Courtney\\AppData\\Local\\Temp\\Rtmpe0ycTO\\downloaded_packages\n"
     ]
    }
   ],
   "source": [
    "install.packages('qtl') #Main package, for analysis\n",
    "install.packages('qtlcharts') #accessory, for displaying graphs\n",
    "install.packages('LinkageMapView') #accessory, for displaying linkage maps\n",
    "install.packages('rcompanion')# for plotNormalHistogram"
   ]
  },
  {
   "cell_type": "code",
   "execution_count": 2,
   "metadata": {},
   "outputs": [],
   "source": [
    "library(qtl) #load packages\n",
    "library(qtlcharts)\n",
    "library(LinkageMapView)\n",
    "library(rcompanion)"
   ]
  },
  {
   "cell_type": "code",
   "execution_count": 3,
   "metadata": {},
   "outputs": [
    {
     "name": "stdout",
     "output_type": "stream",
     "text": [
      "[1] \"Make sure to input names AS THEY APPEAR on the csv!!\"\n"
     ]
    },
    {
     "name": "stdin",
     "output_type": "stream",
     "text": [
      "Enter file name (Either FemaleMap.csv or MaleMap.csv):  FemaleMap_Field2020.csv\n",
      "First Genotype (homozygous) (For example ll):  ll\n",
      "Second Genotype (heterozygous) (for example lm):  lm\n",
      "Column Number:  52\n"
     ]
    }
   ],
   "source": [
    "#Collecting enviroment variables\n",
    "print(\"Make sure to input names AS THEY APPEAR on the csv!!\") #Just a user warning\n",
    "fileName <- readline(\"Enter file name (Either FemaleMap.csv or MaleMap.csv): \") #Mapping table file\n",
    "genotypeName <- c(readline(\"First Genotype (homozygous) (For example ll): \"),\n",
    "                  readline(\"Second Genotype (heterozygous) (for example lm): \")) #For example \"nn\", \"np\"\n",
    "alleleName <- c(substr(genotypeName[2],1,1) ,substr(genotypeName[2],2,2))\n",
    "naNames <- c(\"NA\",\"--\") #For example \"NA\", \"--\"\n",
    "colNum <- as.numeric(readline(\"Column Number: \")) #Column for pheno of interest"
   ]
  },
  {
   "cell_type": "code",
   "execution_count": 4,
   "metadata": {},
   "outputs": [
    {
     "name": "stdout",
     "output_type": "stream",
     "text": [
      " --Read the following data:\n",
      "\t 294  individuals\n",
      "\t 1100  markers\n",
      "\t 53  phenotypes\n"
     ]
    },
    {
     "name": "stderr",
     "output_type": "stream",
     "text": [
      "Warning message in summary.cross(cross):\n",
      "\"Some markers at the same position on chr 1,2,4,5,7,8,9,10,11,12,13,14,16,17,18,19; use jittermap().\"\n"
     ]
    },
    {
     "name": "stdout",
     "output_type": "stream",
     "text": [
      " --Cross type: bc \n"
     ]
    },
    {
     "data": {
      "image/png": "[encoded data removed]",
      "text/plain": [
       "Plot with title \"Genetic map\""
      ]
     },
     "metadata": {
      "image/png": {
       "height": 420,
       "width": 420
      },
      "text/plain": {
       "height": 420,
       "width": 420
      }
     },
     "output_type": "display_data"
    }
   ],
   "source": [
    "#Map generation\n",
    "Map <- read.cross(format = 'csv',file = fileName \n",
    "                  ,genotypes = genotypeName,\n",
    "                  alleles = alleleName,na.strings = naNames) #generate linkage map\n",
    "Map <- jittermap(Map) #make sure no markers are in the same location\n",
    "Map <- calc.genoprob(Map,step = 1,map.function = \"kosambi\") #associate markers with full genotypes\n",
    "plot.map(Map) #draw linkage map"
   ]
  },
  {
   "cell_type": "code",
   "execution_count": 5,
   "metadata": {},
   "outputs": [
    {
     "data": {
      "image/png": "[encoded data removed]",
      "text/plain": [
       "Plot with title \"\""
      ]
     },
     "metadata": {
      "image/png": {
       "height": 420,
       "width": 420
      },
      "text/plain": {
       "height": 420,
       "width": 420
      }
     },
     "output_type": "display_data"
    }
   ],
   "source": [
    "plotNormalHistogram(Map$pheno[,colNum]) #normal histogram of pheno of interest"
   ]
  },
  {
   "cell_type": "markdown",
   "metadata": {},
   "source": [
    "Outliers exist in this dataset. Will need to be analyized. "
   ]
  },
  {
   "cell_type": "code",
   "execution_count": 6,
   "metadata": {},
   "outputs": [
    {
     "data": {
      "text/plain": [
       "LOD thresholds (1000 permutations)\n",
       "   [,1]\n",
       "5% 4.44\n",
       "1% 5.47"
      ]
     },
     "metadata": {},
     "output_type": "display_data"
    },
    {
     "data": {
      "image/png": "[encoded data removed]",
      "text/plain": [
       "Plot with title \"\""
      ]
     },
     "metadata": {
      "image/png": {
       "height": 420,
       "width": 420
      },
      "text/plain": {
       "height": 420,
       "width": 420
      }
     },
     "output_type": "display_data"
    }
   ],
   "source": [
    "#Compute statistically significant values\n",
    "TraitCIM1000 <- cim(Map,pheno.col = colNum,method = \"hk\",\n",
    "                    map.function = \"kosambi\",n.perm = 1000) # Function will take a moment to run, determines LOD value\n",
    "plot(TraitCIM1000,col = 'green') #show distribution of lod scores\n",
    "summary(TraitCIM1000,alpha=c(.05,.01))"
   ]
  },
  {
   "cell_type": "code",
   "execution_count": 7,
   "metadata": {},
   "outputs": [
    {
     "name": "stdout",
     "output_type": "stream",
     "text": [
      "[1] \"If nothing shows up, the values \\n      are below the LOD5 score\"\n"
     ]
    },
    {
     "data": {
      "text/html": [
       "<table>\n",
       "<caption>A summary.scanone: 19 × 3</caption>\n",
       "<thead>\n",
       "\t<tr><th></th><th scope=col>chr</th><th scope=col>pos</th><th scope=col>lod</th></tr>\n",
       "\t<tr><th></th><th scope=col>&lt;fct&gt;</th><th scope=col>&lt;dbl&gt;</th><th scope=col>&lt;dbl&gt;</th></tr>\n",
       "</thead>\n",
       "<tbody>\n",
       "\t<tr><th scope=row>1_19075514</th><td>1 </td><td>61.152034</td><td>0.7698318</td></tr>\n",
       "\t<tr><th scope=row>c2.loc31</th><td>2 </td><td>31.000000</td><td>1.1526068</td></tr>\n",
       "\t<tr><th scope=row>5_2392618</th><td>3 </td><td>49.555042</td><td>3.9215377</td></tr>\n",
       "\t<tr><th scope=row>c4.loc50</th><td>4 </td><td>50.000000</td><td>1.0346163</td></tr>\n",
       "\t<tr><th scope=row>14_13969350</th><td>5 </td><td>51.797030</td><td>1.1077997</td></tr>\n",
       "\t<tr><th scope=row>c6.loc13</th><td>6 </td><td>13.000000</td><td>0.5252592</td></tr>\n",
       "\t<tr><th scope=row>c7.loc74</th><td>7 </td><td>74.000000</td><td>0.7687645</td></tr>\n",
       "\t<tr><th scope=row>8_4283686</th><td>8 </td><td> 0.270001</td><td>1.0501677</td></tr>\n",
       "\t<tr><th scope=row>c9.loc3</th><td>9 </td><td> 3.000000</td><td>0.7010498</td></tr>\n",
       "\t<tr><th scope=row>c10.loc40</th><td>10</td><td>40.000000</td><td>0.4127063</td></tr>\n",
       "\t<tr><th scope=row>11_10200766</th><td>11</td><td>42.589024</td><td>2.2618506</td></tr>\n",
       "\t<tr><th scope=row>c12.loc84</th><td>12</td><td>84.000000</td><td>0.9356046</td></tr>\n",
       "\t<tr><th scope=row>c13.loc44</th><td>13</td><td>44.000000</td><td>1.3981279</td></tr>\n",
       "\t<tr><th scope=row>c14.loc54</th><td>14</td><td>54.000000</td><td>0.7753428</td></tr>\n",
       "\t<tr><th scope=row>c15.loc47</th><td>15</td><td>47.000000</td><td>1.2907210</td></tr>\n",
       "\t<tr><th scope=row>16_1261805</th><td>16</td><td> 3.022002</td><td>1.0810430</td></tr>\n",
       "\t<tr><th scope=row>17_3326415</th><td>17</td><td>11.061007</td><td>2.5469279</td></tr>\n",
       "\t<tr><th scope=row>18_2127192</th><td>18</td><td> 6.861008</td><td>0.7284184</td></tr>\n",
       "\t<tr><th scope=row>19_18512448</th><td>19</td><td>53.440066</td><td>0.6481391</td></tr>\n",
       "</tbody>\n",
       "</table>\n"
      ],
      "text/latex": [
       "A summary.scanone: 19 × 3\n",
       "\\begin{tabular}{r|lll}\n",
       "  & chr & pos & lod\\\\\n",
       "  & <fct> & <dbl> & <dbl>\\\\\n",
       "\\hline\n",
       "\t1\\_19075514 & 1  & 61.152034 & 0.7698318\\\\\n",
       "\tc2.loc31 & 2  & 31.000000 & 1.1526068\\\\\n",
       "\t5\\_2392618 & 3  & 49.555042 & 3.9215377\\\\\n",
       "\tc4.loc50 & 4  & 50.000000 & 1.0346163\\\\\n",
       "\t14\\_13969350 & 5  & 51.797030 & 1.1077997\\\\\n",
       "\tc6.loc13 & 6  & 13.000000 & 0.5252592\\\\\n",
       "\tc7.loc74 & 7  & 74.000000 & 0.7687645\\\\\n",
       "\t8\\_4283686 & 8  &  0.270001 & 1.0501677\\\\\n",
       "\tc9.loc3 & 9  &  3.000000 & 0.7010498\\\\\n",
       "\tc10.loc40 & 10 & 40.000000 & 0.4127063\\\\\n",
       "\t11\\_10200766 & 11 & 42.589024 & 2.2618506\\\\\n",
       "\tc12.loc84 & 12 & 84.000000 & 0.9356046\\\\\n",
       "\tc13.loc44 & 13 & 44.000000 & 1.3981279\\\\\n",
       "\tc14.loc54 & 14 & 54.000000 & 0.7753428\\\\\n",
       "\tc15.loc47 & 15 & 47.000000 & 1.2907210\\\\\n",
       "\t16\\_1261805 & 16 &  3.022002 & 1.0810430\\\\\n",
       "\t17\\_3326415 & 17 & 11.061007 & 2.5469279\\\\\n",
       "\t18\\_2127192 & 18 &  6.861008 & 0.7284184\\\\\n",
       "\t19\\_18512448 & 19 & 53.440066 & 0.6481391\\\\\n",
       "\\end{tabular}\n"
      ],
      "text/markdown": [
       "\n",
       "A summary.scanone: 19 × 3\n",
       "\n",
       "| <!--/--> | chr &lt;fct&gt; | pos &lt;dbl&gt; | lod &lt;dbl&gt; |\n",
       "|---|---|---|---|\n",
       "| 1_19075514 | 1  | 61.152034 | 0.7698318 |\n",
       "| c2.loc31 | 2  | 31.000000 | 1.1526068 |\n",
       "| 5_2392618 | 3  | 49.555042 | 3.9215377 |\n",
       "| c4.loc50 | 4  | 50.000000 | 1.0346163 |\n",
       "| 14_13969350 | 5  | 51.797030 | 1.1077997 |\n",
       "| c6.loc13 | 6  | 13.000000 | 0.5252592 |\n",
       "| c7.loc74 | 7  | 74.000000 | 0.7687645 |\n",
       "| 8_4283686 | 8  |  0.270001 | 1.0501677 |\n",
       "| c9.loc3 | 9  |  3.000000 | 0.7010498 |\n",
       "| c10.loc40 | 10 | 40.000000 | 0.4127063 |\n",
       "| 11_10200766 | 11 | 42.589024 | 2.2618506 |\n",
       "| c12.loc84 | 12 | 84.000000 | 0.9356046 |\n",
       "| c13.loc44 | 13 | 44.000000 | 1.3981279 |\n",
       "| c14.loc54 | 14 | 54.000000 | 0.7753428 |\n",
       "| c15.loc47 | 15 | 47.000000 | 1.2907210 |\n",
       "| 16_1261805 | 16 |  3.022002 | 1.0810430 |\n",
       "| 17_3326415 | 17 | 11.061007 | 2.5469279 |\n",
       "| 18_2127192 | 18 |  6.861008 | 0.7284184 |\n",
       "| 19_18512448 | 19 | 53.440066 | 0.6481391 |\n",
       "\n"
      ],
      "text/plain": [
       "            chr pos       lod      \n",
       "1_19075514  1   61.152034 0.7698318\n",
       "c2.loc31    2   31.000000 1.1526068\n",
       "5_2392618   3   49.555042 3.9215377\n",
       "c4.loc50    4   50.000000 1.0346163\n",
       "14_13969350 5   51.797030 1.1077997\n",
       "c6.loc13    6   13.000000 0.5252592\n",
       "c7.loc74    7   74.000000 0.7687645\n",
       "8_4283686   8    0.270001 1.0501677\n",
       "c9.loc3     9    3.000000 0.7010498\n",
       "c10.loc40   10  40.000000 0.4127063\n",
       "11_10200766 11  42.589024 2.2618506\n",
       "c12.loc84   12  84.000000 0.9356046\n",
       "c13.loc44   13  44.000000 1.3981279\n",
       "c14.loc54   14  54.000000 0.7753428\n",
       "c15.loc47   15  47.000000 1.2907210\n",
       "16_1261805  16   3.022002 1.0810430\n",
       "17_3326415  17  11.061007 2.5469279\n",
       "18_2127192  18   6.861008 0.7284184\n",
       "19_18512448 19  53.440066 0.6481391"
      ]
     },
     "metadata": {},
     "output_type": "display_data"
    },
    {
     "data": {
      "image/png": "[encoded data removed]",
      "text/plain": [
       "plot without title"
      ]
     },
     "metadata": {
      "image/png": {
       "height": 420,
       "width": 420
      },
      "text/plain": {
       "height": 420,
       "width": 420
      }
     },
     "output_type": "display_data"
    }
   ],
   "source": [
    "#Deterime LOD Values\n",
    "LOD5 <- summary(TraitCIM1000,alpha=c(.05))\n",
    "TraitCIM<-cim(Map,pheno.col = colNum,method = \"hk\",\n",
    "              map.function = \"kosambi\") #Generate LOD Values\n",
    "plot(TraitCIM) #show LOD graph\n",
    "abline(h = LOD5,col = \"blue\") #overlay statistically significant line\n",
    "print(\"If nothing shows up, the values \n",
    "      are below the LOD5 score\") #warning for no peaks\n",
    "summary(TraitCIM)\n",
    "write.csv(TraitCIM,\"PHENOTYPE_table.csv\")"
   ]
  },
  {
   "cell_type": "code",
   "execution_count": 8,
   "metadata": {},
   "outputs": [
    {
     "name": "stdin",
     "output_type": "stream",
     "text": [
      "Chromosome?  3\n"
     ]
    },
    {
     "data": {
      "image/png": "[encoded data removed]",
      "text/plain": [
       "plot without title"
      ]
     },
     "metadata": {
      "image/png": {
       "height": 420,
       "width": 420
      },
      "text/plain": {
       "height": 420,
       "width": 420
      }
     },
     "output_type": "display_data"
    }
   ],
   "source": [
    "#Chromosomal Analysis\n",
    "chr <- as.numeric(readline(\"Chromosome? \")) #collect chromosome to look at\n",
    "plot(TraitCIM, chr = chr,xlab = c(\"chr\",chr)) #Plot chr LOD scores\n",
    "abline(h = LOD5, col = \"blue\") #Statistically Significant"
   ]
  },
  {
   "cell_type": "code",
   "execution_count": 9,
   "metadata": {},
   "outputs": [
    {
     "data": {
      "text/html": [
       "<table>\n",
       "<caption>A scanone: 3 × 3</caption>\n",
       "<thead>\n",
       "\t<tr><th></th><th scope=col>chr</th><th scope=col>pos</th><th scope=col>lod</th></tr>\n",
       "\t<tr><th></th><th scope=col>&lt;fct&gt;</th><th scope=col>&lt;dbl&gt;</th><th scope=col>&lt;dbl&gt;</th></tr>\n",
       "</thead>\n",
       "<tbody>\n",
       "\t<tr><th scope=row>3_8423519</th><td>3</td><td>47.21504</td><td>3.103594</td></tr>\n",
       "\t<tr><th scope=row>5_2392618</th><td>3</td><td>49.55504</td><td>3.921538</td></tr>\n",
       "\t<tr><th scope=row>12_11308873</th><td>3</td><td>53.38005</td><td>3.283190</td></tr>\n",
       "</tbody>\n",
       "</table>\n"
      ],
      "text/latex": [
       "A scanone: 3 × 3\n",
       "\\begin{tabular}{r|lll}\n",
       "  & chr & pos & lod\\\\\n",
       "  & <fct> & <dbl> & <dbl>\\\\\n",
       "\\hline\n",
       "\t3\\_8423519 & 3 & 47.21504 & 3.103594\\\\\n",
       "\t5\\_2392618 & 3 & 49.55504 & 3.921538\\\\\n",
       "\t12\\_11308873 & 3 & 53.38005 & 3.283190\\\\\n",
       "\\end{tabular}\n"
      ],
      "text/markdown": [
       "\n",
       "A scanone: 3 × 3\n",
       "\n",
       "| <!--/--> | chr &lt;fct&gt; | pos &lt;dbl&gt; | lod &lt;dbl&gt; |\n",
       "|---|---|---|---|\n",
       "| 3_8423519 | 3 | 47.21504 | 3.103594 |\n",
       "| 5_2392618 | 3 | 49.55504 | 3.921538 |\n",
       "| 12_11308873 | 3 | 53.38005 | 3.283190 |\n",
       "\n"
      ],
      "text/plain": [
       "            chr pos      lod     \n",
       "3_8423519   3   47.21504 3.103594\n",
       "5_2392618   3   49.55504 3.921538\n",
       "12_11308873 3   53.38005 3.283190"
      ]
     },
     "metadata": {},
     "output_type": "display_data"
    },
    {
     "data": {
      "text/html": [
       "<table>\n",
       "<caption>A scanone: 3 × 3</caption>\n",
       "<thead>\n",
       "\t<tr><th></th><th scope=col>chr</th><th scope=col>pos</th><th scope=col>lod</th></tr>\n",
       "\t<tr><th></th><th scope=col>&lt;fct&gt;</th><th scope=col>&lt;dbl&gt;</th><th scope=col>&lt;dbl&gt;</th></tr>\n",
       "</thead>\n",
       "<tbody>\n",
       "\t<tr><th scope=row>3_7287592</th><td>3</td><td>44.35103</td><td>0.01967647</td></tr>\n",
       "\t<tr><th scope=row>5_2392618</th><td>3</td><td>49.55504</td><td>3.92153766</td></tr>\n",
       "\t<tr><th scope=row>3_16707449</th><td>3</td><td>54.90305</td><td>2.42150817</td></tr>\n",
       "</tbody>\n",
       "</table>\n"
      ],
      "text/latex": [
       "A scanone: 3 × 3\n",
       "\\begin{tabular}{r|lll}\n",
       "  & chr & pos & lod\\\\\n",
       "  & <fct> & <dbl> & <dbl>\\\\\n",
       "\\hline\n",
       "\t3\\_7287592 & 3 & 44.35103 & 0.01967647\\\\\n",
       "\t5\\_2392618 & 3 & 49.55504 & 3.92153766\\\\\n",
       "\t3\\_16707449 & 3 & 54.90305 & 2.42150817\\\\\n",
       "\\end{tabular}\n"
      ],
      "text/markdown": [
       "\n",
       "A scanone: 3 × 3\n",
       "\n",
       "| <!--/--> | chr &lt;fct&gt; | pos &lt;dbl&gt; | lod &lt;dbl&gt; |\n",
       "|---|---|---|---|\n",
       "| 3_7287592 | 3 | 44.35103 | 0.01967647 |\n",
       "| 5_2392618 | 3 | 49.55504 | 3.92153766 |\n",
       "| 3_16707449 | 3 | 54.90305 | 2.42150817 |\n",
       "\n"
      ],
      "text/plain": [
       "           chr pos      lod       \n",
       "3_7287592  3   44.35103 0.01967647\n",
       "5_2392618  3   49.55504 3.92153766\n",
       "3_16707449 3   54.90305 2.42150817"
      ]
     },
     "metadata": {},
     "output_type": "display_data"
    }
   ],
   "source": [
    "bayesint(TraitCIM, chr = chr, prob=0.95, expandtomarkers=TRUE) #calculate bayesian interval\n",
    "lodint(TraitCIM, chr = chr,expandtomarkers = TRUE ) #calculate LOD Support interval"
   ]
  },
  {
   "cell_type": "code",
   "execution_count": 10,
   "metadata": {},
   "outputs": [
    {
     "name": "stdin",
     "output_type": "stream",
     "text": [
      "Position for analysis:  49.55504\n"
     ]
    },
    {
     "name": "stderr",
     "output_type": "stream",
     "text": [
      "Warning message in getsex(cross):\n",
      "\"125 individuals with missing sex; assuming they're female\"\n",
      "Warning message in fitqtlengine(pheno = pheno, qtl = qtl, covar = covar, formula = formula, :\n",
      "\"Dropping 163 individuals with missing phenotypes.\n",
      "\"\n",
      "Warning message in getsex(cross):\n",
      "\"125 individuals with missing sex; assuming they're female\"\n"
     ]
    },
    {
     "data": {
      "text/plain": [
       "\n",
       "\t\tfitqtl summary\n",
       "\n",
       "Method: Haley-Knott regression \n",
       "Model:  normal phenotype\n",
       "Number of observations : 131 \n",
       "\n",
       "Full model result\n",
       "----------------------------------  \n",
       "Model formula: y ~ Q1 \n",
       "\n",
       "       df        SS        MS      LOD     %var Pvalue(Chi2)    Pvalue(F)\n",
       "Model   1  2.294789 2.2947889 2.881924 9.634813 0.0002694352 0.0003083462\n",
       "Error 129 21.522891 0.1668441                                            \n",
       "Total 130 23.817680                                                      \n",
       "\n",
       "\n",
       "Estimated effects:\n",
       "-----------------\n",
       "              est      SE      t\n",
       "Intercept 2.13240 0.03574 59.666\n",
       "3@49.6    0.26509 0.07148  3.709\n"
      ]
     },
     "metadata": {},
     "output_type": "display_data"
    }
   ],
   "source": [
    "p <- as.numeric(readline(\"Position for analysis: \"))\n",
    "qtl <- makeqtl(Map, chr = chr, pos = p, what=\"prob\") #pulls genotype probabilities\n",
    "fitqtl <- fitqtl(Map, pheno.col=colNum, qtl = qtl, covar=NULL,\n",
    "       method= \"hk\",model=\"normal\",\n",
    "       dropone=TRUE, get.ests=TRUE,run.checks=TRUE,\n",
    "       tol=1e-4, maxit=1000, forceXcovar=FALSE) #sees how well our data fits a given formula \n",
    "          # If you see \"error: object of type 'closure' is not subsettable\", remove \"formula,\" from the fitqtl argument list.\n",
    "summary(fitqtl) #Print results of the analysis"
   ]
  },
  {
   "cell_type": "code",
   "execution_count": 11,
   "metadata": {},
   "outputs": [
    {
     "name": "stdout",
     "output_type": "stream",
     "text": [
      "[1] \"Make sure to input names AS THEY APPEAR on the csv!!\"\n"
     ]
    },
    {
     "name": "stdin",
     "output_type": "stream",
     "text": [
      "Enter file name (Either FemaleMap.csv or MaleMap.csv):  MaleMap_Field2020.csv\n",
      "First Genotype (homozygous) (For example ll):  nn\n",
      "Second Genotype (heterozygous) (for example lm):  np\n",
      "Column Number:  52\n"
     ]
    }
   ],
   "source": [
    "#Collecting enviroment variables\n",
    "print(\"Make sure to input names AS THEY APPEAR on the csv!!\") #Just a user warning\n",
    "fileName <- readline(\"Enter file name (Either FemaleMap.csv or MaleMap.csv): \") #Mapping table file\n",
    "genotypeName <- c(readline(\"First Genotype (homozygous) (For example ll): \"),\n",
    "                  readline(\"Second Genotype (heterozygous) (for example lm): \")) #For example \"nn\", \"np\"\n",
    "alleleName <- c(substr(genotypeName[2],1,1) ,substr(genotypeName[2],2,2))\n",
    "naNames <- c(\"NA\",\"--\") #For example \"NA\", \"--\"\n",
    "colNum <- as.numeric(readline(\"Column Number: \")) #Column for pheno of interest"
   ]
  },
  {
   "cell_type": "code",
   "execution_count": 12,
   "metadata": {},
   "outputs": [
    {
     "name": "stdout",
     "output_type": "stream",
     "text": [
      " --Read the following data:\n",
      "\t 294  individuals\n",
      "\t 1128  markers\n",
      "\t 53  phenotypes\n"
     ]
    },
    {
     "name": "stderr",
     "output_type": "stream",
     "text": [
      "Warning message in summary.cross(cross):\n",
      "\"Some markers at the same position on chr 1,3,4,5,6,7,8,9,10,12,13,14,15,16,17,18,19; use jittermap().\"\n"
     ]
    },
    {
     "name": "stdout",
     "output_type": "stream",
     "text": [
      " --Cross type: bc \n"
     ]
    },
    {
     "data": {
      "image/png": "[encoded data removed]",
      "text/plain": [
       "Plot with title \"Genetic map\""
      ]
     },
     "metadata": {
      "image/png": {
       "height": 420,
       "width": 420
      },
      "text/plain": {
       "height": 420,
       "width": 420
      }
     },
     "output_type": "display_data"
    }
   ],
   "source": [
    "#Map generation\n",
    "Map <- read.cross(format = 'csv',file = fileName \n",
    "                  ,genotypes = genotypeName,\n",
    "                  alleles = alleleName,na.strings = naNames) #generate linkage map\n",
    "Map <- jittermap(Map) #make sure no markers are in the same location\n",
    "Map <- calc.genoprob(Map,step = 1,map.function = \"kosambi\") #associate markers with full genotypes\n",
    "plot.map(Map) #draw linkage map"
   ]
  },
  {
   "cell_type": "code",
   "execution_count": 13,
   "metadata": {},
   "outputs": [
    {
     "data": {
      "image/png": "[encoded data removed]",
      "text/plain": [
       "Plot with title \"\""
      ]
     },
     "metadata": {
      "image/png": {
       "height": 420,
       "width": 420
      },
      "text/plain": {
       "height": 420,
       "width": 420
      }
     },
     "output_type": "display_data"
    }
   ],
   "source": [
    "plotNormalHistogram(Map$pheno[,colNum]) #normal histogram of pheno of interest"
   ]
  },
  {
   "cell_type": "markdown",
   "metadata": {},
   "source": [
    "Outliers exist in this data. "
   ]
  },
  {
   "cell_type": "code",
   "execution_count": 14,
   "metadata": {},
   "outputs": [
    {
     "data": {
      "text/plain": [
       "LOD thresholds (1000 permutations)\n",
       "   [,1]\n",
       "5% 4.61\n",
       "1% 5.73"
      ]
     },
     "metadata": {},
     "output_type": "display_data"
    },
    {
     "data": {
      "image/png": "[encoded data removed]",
      "text/plain": [
       "Plot with title \"\""
      ]
     },
     "metadata": {
      "image/png": {
       "height": 420,
       "width": 420
      },
      "text/plain": {
       "height": 420,
       "width": 420
      }
     },
     "output_type": "display_data"
    }
   ],
   "source": [
    "#Compute statistically significant values\n",
    "TraitCIM1000 <- cim(Map,pheno.col = colNum,method = \"hk\",\n",
    "                    map.function = \"kosambi\",n.perm = 1000) # Function will take a moment to run, determines LOD value\n",
    "plot(TraitCIM1000,col = 'green') #show distribution of lod scores\n",
    "summary(TraitCIM1000,alpha=c(.05,.01))"
   ]
  },
  {
   "cell_type": "code",
   "execution_count": 15,
   "metadata": {},
   "outputs": [
    {
     "name": "stdout",
     "output_type": "stream",
     "text": [
      "[1] \"If nothing shows up, the values \\n      are below the LOD5 score\"\n"
     ]
    },
    {
     "data": {
      "text/html": [
       "<table>\n",
       "<caption>A summary.scanone: 19 × 3</caption>\n",
       "<thead>\n",
       "\t<tr><th></th><th scope=col>chr</th><th scope=col>pos</th><th scope=col>lod</th></tr>\n",
       "\t<tr><th></th><th scope=col>&lt;fct&gt;</th><th scope=col>&lt;dbl&gt;</th><th scope=col>&lt;dbl&gt;</th></tr>\n",
       "</thead>\n",
       "<tbody>\n",
       "\t<tr><th scope=row>c1.loc88</th><td>1 </td><td> 88.000000</td><td>1.2574292</td></tr>\n",
       "\t<tr><th scope=row>c2.loc47</th><td>2 </td><td> 47.000000</td><td>0.6396400</td></tr>\n",
       "\t<tr><th scope=row>c3.loc54</th><td>3 </td><td> 54.000000</td><td>1.2989379</td></tr>\n",
       "\t<tr><th scope=row>c4.loc45</th><td>4 </td><td> 45.000000</td><td>1.5609736</td></tr>\n",
       "\t<tr><th scope=row>c5.loc12</th><td>5 </td><td> 12.000000</td><td>1.7472088</td></tr>\n",
       "\t<tr><th scope=row>c6.loc34</th><td>6 </td><td> 34.000000</td><td>0.8367967</td></tr>\n",
       "\t<tr><th scope=row>c7.loc60</th><td>7 </td><td> 60.000000</td><td>1.0250796</td></tr>\n",
       "\t<tr><th scope=row>8_10699975</th><td>8 </td><td> 33.963017</td><td>0.4533474</td></tr>\n",
       "\t<tr><th scope=row>c9.loc30</th><td>9 </td><td> 30.000000</td><td>1.4964793</td></tr>\n",
       "\t<tr><th scope=row>10_8904936</th><td>10</td><td> 45.994020</td><td>0.6661070</td></tr>\n",
       "\t<tr><th scope=row>c11.loc37</th><td>11</td><td> 37.000000</td><td>0.6629163</td></tr>\n",
       "\t<tr><th scope=row>c12.loc66</th><td>12</td><td> 66.000000</td><td>1.4915441</td></tr>\n",
       "\t<tr><th scope=row>13_2107142</th><td>13</td><td>  8.935009</td><td>1.1731872</td></tr>\n",
       "\t<tr><th scope=row>14_30257641</th><td>14</td><td> 95.092085</td><td>1.2824523</td></tr>\n",
       "\t<tr><th scope=row>c15.loc68</th><td>15</td><td> 68.000000</td><td>5.0561212</td></tr>\n",
       "\t<tr><th scope=row>c16.loc82</th><td>16</td><td> 82.000000</td><td>0.6534921</td></tr>\n",
       "\t<tr><th scope=row>8_21089555</th><td>17</td><td> 71.168052</td><td>0.3738219</td></tr>\n",
       "\t<tr><th scope=row>18_32516169</th><td>18</td><td>124.381074</td><td>0.9917035</td></tr>\n",
       "\t<tr><th scope=row>c19.loc49</th><td>19</td><td> 49.000000</td><td>0.6068151</td></tr>\n",
       "</tbody>\n",
       "</table>\n"
      ],
      "text/latex": [
       "A summary.scanone: 19 × 3\n",
       "\\begin{tabular}{r|lll}\n",
       "  & chr & pos & lod\\\\\n",
       "  & <fct> & <dbl> & <dbl>\\\\\n",
       "\\hline\n",
       "\tc1.loc88 & 1  &  88.000000 & 1.2574292\\\\\n",
       "\tc2.loc47 & 2  &  47.000000 & 0.6396400\\\\\n",
       "\tc3.loc54 & 3  &  54.000000 & 1.2989379\\\\\n",
       "\tc4.loc45 & 4  &  45.000000 & 1.5609736\\\\\n",
       "\tc5.loc12 & 5  &  12.000000 & 1.7472088\\\\\n",
       "\tc6.loc34 & 6  &  34.000000 & 0.8367967\\\\\n",
       "\tc7.loc60 & 7  &  60.000000 & 1.0250796\\\\\n",
       "\t8\\_10699975 & 8  &  33.963017 & 0.4533474\\\\\n",
       "\tc9.loc30 & 9  &  30.000000 & 1.4964793\\\\\n",
       "\t10\\_8904936 & 10 &  45.994020 & 0.6661070\\\\\n",
       "\tc11.loc37 & 11 &  37.000000 & 0.6629163\\\\\n",
       "\tc12.loc66 & 12 &  66.000000 & 1.4915441\\\\\n",
       "\t13\\_2107142 & 13 &   8.935009 & 1.1731872\\\\\n",
       "\t14\\_30257641 & 14 &  95.092085 & 1.2824523\\\\\n",
       "\tc15.loc68 & 15 &  68.000000 & 5.0561212\\\\\n",
       "\tc16.loc82 & 16 &  82.000000 & 0.6534921\\\\\n",
       "\t8\\_21089555 & 17 &  71.168052 & 0.3738219\\\\\n",
       "\t18\\_32516169 & 18 & 124.381074 & 0.9917035\\\\\n",
       "\tc19.loc49 & 19 &  49.000000 & 0.6068151\\\\\n",
       "\\end{tabular}\n"
      ],
      "text/markdown": [
       "\n",
       "A summary.scanone: 19 × 3\n",
       "\n",
       "| <!--/--> | chr &lt;fct&gt; | pos &lt;dbl&gt; | lod &lt;dbl&gt; |\n",
       "|---|---|---|---|\n",
       "| c1.loc88 | 1  |  88.000000 | 1.2574292 |\n",
       "| c2.loc47 | 2  |  47.000000 | 0.6396400 |\n",
       "| c3.loc54 | 3  |  54.000000 | 1.2989379 |\n",
       "| c4.loc45 | 4  |  45.000000 | 1.5609736 |\n",
       "| c5.loc12 | 5  |  12.000000 | 1.7472088 |\n",
       "| c6.loc34 | 6  |  34.000000 | 0.8367967 |\n",
       "| c7.loc60 | 7  |  60.000000 | 1.0250796 |\n",
       "| 8_10699975 | 8  |  33.963017 | 0.4533474 |\n",
       "| c9.loc30 | 9  |  30.000000 | 1.4964793 |\n",
       "| 10_8904936 | 10 |  45.994020 | 0.6661070 |\n",
       "| c11.loc37 | 11 |  37.000000 | 0.6629163 |\n",
       "| c12.loc66 | 12 |  66.000000 | 1.4915441 |\n",
       "| 13_2107142 | 13 |   8.935009 | 1.1731872 |\n",
       "| 14_30257641 | 14 |  95.092085 | 1.2824523 |\n",
       "| c15.loc68 | 15 |  68.000000 | 5.0561212 |\n",
       "| c16.loc82 | 16 |  82.000000 | 0.6534921 |\n",
       "| 8_21089555 | 17 |  71.168052 | 0.3738219 |\n",
       "| 18_32516169 | 18 | 124.381074 | 0.9917035 |\n",
       "| c19.loc49 | 19 |  49.000000 | 0.6068151 |\n",
       "\n"
      ],
      "text/plain": [
       "            chr pos        lod      \n",
       "c1.loc88    1    88.000000 1.2574292\n",
       "c2.loc47    2    47.000000 0.6396400\n",
       "c3.loc54    3    54.000000 1.2989379\n",
       "c4.loc45    4    45.000000 1.5609736\n",
       "c5.loc12    5    12.000000 1.7472088\n",
       "c6.loc34    6    34.000000 0.8367967\n",
       "c7.loc60    7    60.000000 1.0250796\n",
       "8_10699975  8    33.963017 0.4533474\n",
       "c9.loc30    9    30.000000 1.4964793\n",
       "10_8904936  10   45.994020 0.6661070\n",
       "c11.loc37   11   37.000000 0.6629163\n",
       "c12.loc66   12   66.000000 1.4915441\n",
       "13_2107142  13    8.935009 1.1731872\n",
       "14_30257641 14   95.092085 1.2824523\n",
       "c15.loc68   15   68.000000 5.0561212\n",
       "c16.loc82   16   82.000000 0.6534921\n",
       "8_21089555  17   71.168052 0.3738219\n",
       "18_32516169 18  124.381074 0.9917035\n",
       "c19.loc49   19   49.000000 0.6068151"
      ]
     },
     "metadata": {},
     "output_type": "display_data"
    },
    {
     "data": {
      "image/png": "[encoded data removed]",
      "text/plain": [
       "plot without title"
      ]
     },
     "metadata": {
      "image/png": {
       "height": 420,
       "width": 420
      },
      "text/plain": {
       "height": 420,
       "width": 420
      }
     },
     "output_type": "display_data"
    }
   ],
   "source": [
    "#Deterime LOD Values\n",
    "TraitCIM<-cim(Map,pheno.col = colNum,method = \"hk\",\n",
    "              map.function = \"kosambi\") #Generate LOD Values\n",
    "plot(TraitCIM) #show LOD graph\n",
    "abline(h = LOD5,col = \"blue\") #overlay statistically significant line\n",
    "print(\"If nothing shows up, the values \n",
    "      are below the LOD5 score\") #warning for no peaks\n",
    "summary(TraitCIM)"
   ]
  },
  {
   "cell_type": "code",
   "execution_count": 16,
   "metadata": {},
   "outputs": [
    {
     "name": "stdin",
     "output_type": "stream",
     "text": [
      "Chromosome?  15\n"
     ]
    },
    {
     "data": {
      "image/png": "[encoded data removed]",
      "text/plain": [
       "plot without title"
      ]
     },
     "metadata": {
      "image/png": {
       "height": 420,
       "width": 420
      },
      "text/plain": {
       "height": 420,
       "width": 420
      }
     },
     "output_type": "display_data"
    }
   ],
   "source": [
    "#Chromosomal Analysis\n",
    "chr <- as.numeric(readline(\"Chromosome? \")) #collect chromosome to look at\n",
    "plot(TraitCIM, chr = chr,xlab = c(\"chr\",chr)) #Plot chr LOD scores\n",
    "abline(h = LOD5, col = \"blue\") #Statistically Significant"
   ]
  },
  {
   "cell_type": "code",
   "execution_count": 17,
   "metadata": {},
   "outputs": [
    {
     "data": {
      "text/html": [
       "<table>\n",
       "<caption>A scanone: 3 × 3</caption>\n",
       "<thead>\n",
       "\t<tr><th></th><th scope=col>chr</th><th scope=col>pos</th><th scope=col>lod</th></tr>\n",
       "\t<tr><th></th><th scope=col>&lt;fct&gt;</th><th scope=col>&lt;dbl&gt;</th><th scope=col>&lt;dbl&gt;</th></tr>\n",
       "</thead>\n",
       "<tbody>\n",
       "\t<tr><th scope=row>15_15640823</th><td>15</td><td>67.79203</td><td>0.3152986</td></tr>\n",
       "\t<tr><th scope=row>c15.loc68</th><td>15</td><td>68.00000</td><td>5.0561212</td></tr>\n",
       "\t<tr><th scope=row>15_15938964</th><td>15</td><td>68.34003</td><td>1.2853680</td></tr>\n",
       "</tbody>\n",
       "</table>\n"
      ],
      "text/latex": [
       "A scanone: 3 × 3\n",
       "\\begin{tabular}{r|lll}\n",
       "  & chr & pos & lod\\\\\n",
       "  & <fct> & <dbl> & <dbl>\\\\\n",
       "\\hline\n",
       "\t15\\_15640823 & 15 & 67.79203 & 0.3152986\\\\\n",
       "\tc15.loc68 & 15 & 68.00000 & 5.0561212\\\\\n",
       "\t15\\_15938964 & 15 & 68.34003 & 1.2853680\\\\\n",
       "\\end{tabular}\n"
      ],
      "text/markdown": [
       "\n",
       "A scanone: 3 × 3\n",
       "\n",
       "| <!--/--> | chr &lt;fct&gt; | pos &lt;dbl&gt; | lod &lt;dbl&gt; |\n",
       "|---|---|---|---|\n",
       "| 15_15640823 | 15 | 67.79203 | 0.3152986 |\n",
       "| c15.loc68 | 15 | 68.00000 | 5.0561212 |\n",
       "| 15_15938964 | 15 | 68.34003 | 1.2853680 |\n",
       "\n"
      ],
      "text/plain": [
       "            chr pos      lod      \n",
       "15_15640823 15  67.79203 0.3152986\n",
       "c15.loc68   15  68.00000 5.0561212\n",
       "15_15938964 15  68.34003 1.2853680"
      ]
     },
     "metadata": {},
     "output_type": "display_data"
    },
    {
     "data": {
      "text/html": [
       "<table>\n",
       "<caption>A scanone: 3 × 3</caption>\n",
       "<thead>\n",
       "\t<tr><th></th><th scope=col>chr</th><th scope=col>pos</th><th scope=col>lod</th></tr>\n",
       "\t<tr><th></th><th scope=col>&lt;fct&gt;</th><th scope=col>&lt;dbl&gt;</th><th scope=col>&lt;dbl&gt;</th></tr>\n",
       "</thead>\n",
       "<tbody>\n",
       "\t<tr><th scope=row>15_15640823</th><td>15</td><td>67.79203</td><td>0.3152986</td></tr>\n",
       "\t<tr><th scope=row>c15.loc68</th><td>15</td><td>68.00000</td><td>5.0561212</td></tr>\n",
       "\t<tr><th scope=row>15_15938964</th><td>15</td><td>68.34003</td><td>1.2853680</td></tr>\n",
       "</tbody>\n",
       "</table>\n"
      ],
      "text/latex": [
       "A scanone: 3 × 3\n",
       "\\begin{tabular}{r|lll}\n",
       "  & chr & pos & lod\\\\\n",
       "  & <fct> & <dbl> & <dbl>\\\\\n",
       "\\hline\n",
       "\t15\\_15640823 & 15 & 67.79203 & 0.3152986\\\\\n",
       "\tc15.loc68 & 15 & 68.00000 & 5.0561212\\\\\n",
       "\t15\\_15938964 & 15 & 68.34003 & 1.2853680\\\\\n",
       "\\end{tabular}\n"
      ],
      "text/markdown": [
       "\n",
       "A scanone: 3 × 3\n",
       "\n",
       "| <!--/--> | chr &lt;fct&gt; | pos &lt;dbl&gt; | lod &lt;dbl&gt; |\n",
       "|---|---|---|---|\n",
       "| 15_15640823 | 15 | 67.79203 | 0.3152986 |\n",
       "| c15.loc68 | 15 | 68.00000 | 5.0561212 |\n",
       "| 15_15938964 | 15 | 68.34003 | 1.2853680 |\n",
       "\n"
      ],
      "text/plain": [
       "            chr pos      lod      \n",
       "15_15640823 15  67.79203 0.3152986\n",
       "c15.loc68   15  68.00000 5.0561212\n",
       "15_15938964 15  68.34003 1.2853680"
      ]
     },
     "metadata": {},
     "output_type": "display_data"
    }
   ],
   "source": [
    "bayesint(TraitCIM, chr = chr, prob=0.95, expandtomarkers=TRUE) #calculate bayesian interval\n",
    "lodint(TraitCIM, chr = chr,expandtomarkers = TRUE ) #calculate LOD Support interval"
   ]
  },
  {
   "cell_type": "code",
   "execution_count": 18,
   "metadata": {},
   "outputs": [
    {
     "name": "stdin",
     "output_type": "stream",
     "text": [
      "Position for analysis:  68.00000\n"
     ]
    },
    {
     "name": "stderr",
     "output_type": "stream",
     "text": [
      "Warning message in getsex(cross):\n",
      "\"125 individuals with missing sex; assuming they're female\"\n",
      "Warning message in fitqtlengine(pheno = pheno, qtl = qtl, covar = covar, formula = formula, :\n",
      "\"Dropping 163 individuals with missing phenotypes.\n",
      "\"\n",
      "Warning message in getsex(cross):\n",
      "\"125 individuals with missing sex; assuming they're female\"\n"
     ]
    },
    {
     "data": {
      "text/plain": [
       "\n",
       "\t\tfitqtl summary\n",
       "\n",
       "Method: Haley-Knott regression \n",
       "Model:  normal phenotype\n",
       "Number of observations : 131 \n",
       "\n",
       "Full model result\n",
       "----------------------------------  \n",
       "Model formula: y ~ Q1 \n",
       "\n",
       "       df       SS        MS      LOD     %var Pvalue(Chi2)    Pvalue(F)\n",
       "Model   1  3.41500 3.4150005 4.402402 14.33809 6.711294e-06 8.211177e-06\n",
       "Error 129 20.40268 0.1581603                                            \n",
       "Total 130 23.81768                                                      \n",
       "\n",
       "\n",
       "Estimated effects:\n",
       "-----------------\n",
       "              est      SE      t\n",
       "Intercept 2.14731 0.03479 61.726\n",
       "15@68.0   1.63781 0.35247  4.647\n"
      ]
     },
     "metadata": {},
     "output_type": "display_data"
    }
   ],
   "source": [
    "p <- as.numeric(readline(\"Position for analysis: \"))\n",
    "qtl <- makeqtl(Map, chr = chr, pos = p, what=\"prob\") #pulls genotype probabilities\n",
    "fitqtl <- fitqtl(Map, pheno.col=colNum, qtl = qtl, covar=NULL,\n",
    "       method= \"hk\",model=\"normal\",\n",
    "       dropone=TRUE, get.ests=TRUE,run.checks=TRUE,\n",
    "       tol=1e-4, maxit=1000, forceXcovar=FALSE) #sees how well our data fits a given formula \n",
    "          # If you see \"error: object of type 'closure' is not subsettable\", remove \"formula,\" from the fitqtl argument list.\n",
    "summary(fitqtl) #Print results of the analysis"
   ]
  },
  {
   "cell_type": "code",
   "execution_count": null,
   "metadata": {},
   "outputs": [],
   "source": []
  }
 ],
 "metadata": {
  "kernelspec": {
   "display_name": "R",
   "language": "R",
   "name": "ir"
  },
  "language_info": {
   "codemirror_mode": "r",
   "file_extension": ".r",
   "mimetype": "text/x-r-source",
   "name": "R",
   "pygments_lexer": "r",
   "version": "3.6.3"
  }
 },
 "nbformat": 4,
 "nbformat_minor": 4
}
