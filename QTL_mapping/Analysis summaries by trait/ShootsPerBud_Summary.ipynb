{
 "cells": [
  {
   "cell_type": "markdown",
   "metadata": {},
   "source": [
    "This analysis is in the order of Female then Male"
   ]
  },
  {
   "cell_type": "code",
   "execution_count": 1,
   "metadata": {},
   "outputs": [
    {
     "name": "stderr",
     "output_type": "stream",
     "text": [
      "Installing package into 'C:/Users/Courtney/Documents/R/win-library/3.6'\n",
      "(as 'lib' is unspecified)\n",
      "\n"
     ]
    },
    {
     "name": "stdout",
     "output_type": "stream",
     "text": [
      "package 'qtl' successfully unpacked and MD5 sums checked\n",
      "\n",
      "The downloaded binary packages are in\n",
      "\tC:\\Users\\Courtney\\AppData\\Local\\Temp\\RtmpI9QmEI\\downloaded_packages\n"
     ]
    },
    {
     "name": "stderr",
     "output_type": "stream",
     "text": [
      "Installing package into 'C:/Users/Courtney/Documents/R/win-library/3.6'\n",
      "(as 'lib' is unspecified)\n",
      "\n"
     ]
    },
    {
     "name": "stdout",
     "output_type": "stream",
     "text": [
      "package 'qtlcharts' successfully unpacked and MD5 sums checked\n",
      "\n",
      "The downloaded binary packages are in\n",
      "\tC:\\Users\\Courtney\\AppData\\Local\\Temp\\RtmpI9QmEI\\downloaded_packages\n"
     ]
    },
    {
     "name": "stderr",
     "output_type": "stream",
     "text": [
      "Installing package into 'C:/Users/Courtney/Documents/R/win-library/3.6'\n",
      "(as 'lib' is unspecified)\n",
      "\n"
     ]
    },
    {
     "name": "stdout",
     "output_type": "stream",
     "text": [
      "package 'LinkageMapView' successfully unpacked and MD5 sums checked\n",
      "\n",
      "The downloaded binary packages are in\n",
      "\tC:\\Users\\Courtney\\AppData\\Local\\Temp\\RtmpI9QmEI\\downloaded_packages\n"
     ]
    },
    {
     "name": "stderr",
     "output_type": "stream",
     "text": [
      "Installing package into 'C:/Users/Courtney/Documents/R/win-library/3.6'\n",
      "(as 'lib' is unspecified)\n",
      "\n"
     ]
    },
    {
     "name": "stdout",
     "output_type": "stream",
     "text": [
      "package 'rcompanion' successfully unpacked and MD5 sums checked\n",
      "\n",
      "The downloaded binary packages are in\n",
      "\tC:\\Users\\Courtney\\AppData\\Local\\Temp\\RtmpI9QmEI\\downloaded_packages\n"
     ]
    }
   ],
   "source": [
    "install.packages('qtl') #Main package, for analysis\n",
    "install.packages('qtlcharts') #accessory, for displaying graphs\n",
    "install.packages('LinkageMapView') #accessory, for displaying linkage maps\n",
    "install.packages('rcompanion')# for plotNormalHistogram"
   ]
  },
  {
   "cell_type": "code",
   "execution_count": 2,
   "metadata": {},
   "outputs": [],
   "source": [
    "library(qtl) #load packages\n",
    "library(qtlcharts)\n",
    "library(LinkageMapView)\n",
    "library(rcompanion)"
   ]
  },
  {
   "cell_type": "code",
   "execution_count": 30,
   "metadata": {},
   "outputs": [
    {
     "name": "stdout",
     "output_type": "stream",
     "text": [
      "[1] \"Make sure to input names AS THEY APPEAR on the csv!!\"\n"
     ]
    },
    {
     "name": "stdin",
     "output_type": "stream",
     "text": [
      "Enter file name (Either FemaleMap.csv or MaleMap.csv):  FemaleMap_Field2020.csv\n",
      "First Genotype (homozygous) (For example ll):  ll\n",
      "Second Genotype (heterozygous) (for example lm):  lm\n",
      "Column Number:  54\n"
     ]
    }
   ],
   "source": [
    "#Collecting enviroment variables\n",
    "print(\"Make sure to input names AS THEY APPEAR on the csv!!\") #Just a user warning\n",
    "fileName <- readline(\"Enter file name (Either FemaleMap.csv or MaleMap.csv): \") #Mapping table file\n",
    "genotypeName <- c(readline(\"First Genotype (homozygous) (For example ll): \"),\n",
    "                  readline(\"Second Genotype (heterozygous) (for example lm): \")) #For example \"nn\", \"np\"\n",
    "alleleName <- c(substr(genotypeName[2],1,1) ,substr(genotypeName[2],2,2))\n",
    "naNames <- c(\"NA\",\"--\") #For example \"NA\", \"--\"\n",
    "colNum <- as.numeric(readline(\"Column Number: \")) #Column for pheno of interest"
   ]
  },
  {
   "cell_type": "code",
   "execution_count": 31,
   "metadata": {},
   "outputs": [
    {
     "name": "stdout",
     "output_type": "stream",
     "text": [
      " --Read the following data:\n",
      "\t 294  individuals\n",
      "\t 1100  markers\n",
      "\t 55  phenotypes\n"
     ]
    },
    {
     "name": "stderr",
     "output_type": "stream",
     "text": [
      "Warning message in summary.cross(cross):\n",
      "\"Some markers at the same position on chr 1,2,4,5,7,8,9,10,11,12,13,14,16,17,18,19; use jittermap().\"\n"
     ]
    },
    {
     "name": "stdout",
     "output_type": "stream",
     "text": [
      " --Cross type: bc \n"
     ]
    },
    {
     "data": {
      "image/png": "[encoded data removed]",
      "text/plain": [
       "Plot with title \"Genetic map\""
      ]
     },
     "metadata": {
      "image/png": {
       "height": 420,
       "width": 420
      },
      "text/plain": {
       "height": 420,
       "width": 420
      }
     },
     "output_type": "display_data"
    }
   ],
   "source": [
    "#Map generation\n",
    "Map <- read.cross(format = 'csv',file = fileName \n",
    "                  ,genotypes = genotypeName,\n",
    "                  alleles = alleleName,na.strings = naNames) #generate linkage map\n",
    "Map <- jittermap(Map) #make sure no markers are in the same location\n",
    "Map <- calc.genoprob(Map,step = 1,map.function = \"kosambi\") #associate markers with full genotypes\n",
    "plot.map(Map) #draw linkage map"
   ]
  },
  {
   "cell_type": "code",
   "execution_count": 32,
   "metadata": {},
   "outputs": [
    {
     "data": {
      "image/png": "[encoded data removed]",
      "text/plain": [
       "Plot with title \"\""
      ]
     },
     "metadata": {
      "image/png": {
       "height": 420,
       "width": 420
      },
      "text/plain": {
       "height": 420,
       "width": 420
      }
     },
     "output_type": "display_data"
    }
   ],
   "source": [
    "plotNormalHistogram(Map$pheno[,colNum]) #normal histogram of pheno of interest"
   ]
  },
  {
   "cell_type": "markdown",
   "metadata": {},
   "source": [
    "Outliers exist in this dataset. Will need to be analyized. "
   ]
  },
  {
   "cell_type": "code",
   "execution_count": 33,
   "metadata": {},
   "outputs": [
    {
     "data": {
      "text/plain": [
       "LOD thresholds (1000 permutations)\n",
       "   [,1]\n",
       "5% 4.12\n",
       "1% 5.38"
      ]
     },
     "metadata": {},
     "output_type": "display_data"
    },
    {
     "data": {
      "image/png": "[encoded data removed]",
      "text/plain": [
       "Plot with title \"\""
      ]
     },
     "metadata": {
      "image/png": {
       "height": 420,
       "width": 420
      },
      "text/plain": {
       "height": 420,
       "width": 420
      }
     },
     "output_type": "display_data"
    }
   ],
   "source": [
    "#Compute statistically significant values\n",
    "TraitCIM1000 <- cim(Map,pheno.col = colNum,method = \"hk\",\n",
    "                    map.function = \"kosambi\",n.perm = 1000) # Function will take a moment to run, determines LOD value\n",
    "plot(TraitCIM1000,col = 'green') #show distribution of lod scores\n",
    "summary(TraitCIM1000,alpha=c(.05,.01))"
   ]
  },
  {
   "cell_type": "code",
   "execution_count": 34,
   "metadata": {},
   "outputs": [
    {
     "name": "stdout",
     "output_type": "stream",
     "text": [
      "[1] \"If nothing shows up, the values \\n      are below the LOD5 score\"\n"
     ]
    },
    {
     "data": {
      "text/html": [
       "<table>\n",
       "<caption>A summary.scanone: 19 × 3</caption>\n",
       "<thead>\n",
       "\t<tr><th></th><th scope=col>chr</th><th scope=col>pos</th><th scope=col>lod</th></tr>\n",
       "\t<tr><th></th><th scope=col>&lt;fct&gt;</th><th scope=col>&lt;dbl&gt;</th><th scope=col>&lt;dbl&gt;</th></tr>\n",
       "</thead>\n",
       "<tbody>\n",
       "\t<tr><th scope=row>1_23828951</th><td>1 </td><td>76.36705</td><td>0.3701713</td></tr>\n",
       "\t<tr><th scope=row>2_6114707</th><td>2 </td><td>55.10002</td><td>0.3208793</td></tr>\n",
       "\t<tr><th scope=row>c3.loc62</th><td>3 </td><td>62.00000</td><td>1.2003118</td></tr>\n",
       "\t<tr><th scope=row>4_2940289</th><td>4 </td><td>11.90601</td><td>0.5190336</td></tr>\n",
       "\t<tr><th scope=row>5_6614908</th><td>5 </td><td>27.26601</td><td>1.8413990</td></tr>\n",
       "\t<tr><th scope=row>6_14058724</th><td>6 </td><td>54.06104</td><td>2.1830697</td></tr>\n",
       "\t<tr><th scope=row>c7.loc86</th><td>7 </td><td>86.00000</td><td>0.8226566</td></tr>\n",
       "\t<tr><th scope=row>c8.loc3</th><td>8 </td><td> 3.00000</td><td>1.4720867</td></tr>\n",
       "\t<tr><th scope=row>c9.loc59</th><td>9 </td><td>59.00000</td><td>1.0055263</td></tr>\n",
       "\t<tr><th scope=row>10_23225064</th><td>10</td><td>56.10607</td><td>0.5929449</td></tr>\n",
       "\t<tr><th scope=row>c11.loc22</th><td>11</td><td>22.00000</td><td>0.3170137</td></tr>\n",
       "\t<tr><th scope=row>15_12434095</th><td>12</td><td> 0.00000</td><td>0.4471328</td></tr>\n",
       "\t<tr><th scope=row>c13.loc50</th><td>13</td><td>50.00000</td><td>0.7665544</td></tr>\n",
       "\t<tr><th scope=row>c14.loc42</th><td>14</td><td>42.00000</td><td>0.3751312</td></tr>\n",
       "\t<tr><th scope=row>15_14731291</th><td>15</td><td>27.28703</td><td>0.8455955</td></tr>\n",
       "\t<tr><th scope=row>12_9628169</th><td>16</td><td>13.67101</td><td>0.9967519</td></tr>\n",
       "\t<tr><th scope=row>17_8072555</th><td>17</td><td>44.34302</td><td>1.4463272</td></tr>\n",
       "\t<tr><th scope=row>c18.loc10</th><td>18</td><td>10.00000</td><td>1.2116127</td></tr>\n",
       "\t<tr><th scope=row>19_7518191</th><td>19</td><td>39.50505</td><td>1.1301520</td></tr>\n",
       "</tbody>\n",
       "</table>\n"
      ],
      "text/latex": [
       "A summary.scanone: 19 × 3\n",
       "\\begin{tabular}{r|lll}\n",
       "  & chr & pos & lod\\\\\n",
       "  & <fct> & <dbl> & <dbl>\\\\\n",
       "\\hline\n",
       "\t1\\_23828951 & 1  & 76.36705 & 0.3701713\\\\\n",
       "\t2\\_6114707 & 2  & 55.10002 & 0.3208793\\\\\n",
       "\tc3.loc62 & 3  & 62.00000 & 1.2003118\\\\\n",
       "\t4\\_2940289 & 4  & 11.90601 & 0.5190336\\\\\n",
       "\t5\\_6614908 & 5  & 27.26601 & 1.8413990\\\\\n",
       "\t6\\_14058724 & 6  & 54.06104 & 2.1830697\\\\\n",
       "\tc7.loc86 & 7  & 86.00000 & 0.8226566\\\\\n",
       "\tc8.loc3 & 8  &  3.00000 & 1.4720867\\\\\n",
       "\tc9.loc59 & 9  & 59.00000 & 1.0055263\\\\\n",
       "\t10\\_23225064 & 10 & 56.10607 & 0.5929449\\\\\n",
       "\tc11.loc22 & 11 & 22.00000 & 0.3170137\\\\\n",
       "\t15\\_12434095 & 12 &  0.00000 & 0.4471328\\\\\n",
       "\tc13.loc50 & 13 & 50.00000 & 0.7665544\\\\\n",
       "\tc14.loc42 & 14 & 42.00000 & 0.3751312\\\\\n",
       "\t15\\_14731291 & 15 & 27.28703 & 0.8455955\\\\\n",
       "\t12\\_9628169 & 16 & 13.67101 & 0.9967519\\\\\n",
       "\t17\\_8072555 & 17 & 44.34302 & 1.4463272\\\\\n",
       "\tc18.loc10 & 18 & 10.00000 & 1.2116127\\\\\n",
       "\t19\\_7518191 & 19 & 39.50505 & 1.1301520\\\\\n",
       "\\end{tabular}\n"
      ],
      "text/markdown": [
       "\n",
       "A summary.scanone: 19 × 3\n",
       "\n",
       "| <!--/--> | chr &lt;fct&gt; | pos &lt;dbl&gt; | lod &lt;dbl&gt; |\n",
       "|---|---|---|---|\n",
       "| 1_23828951 | 1  | 76.36705 | 0.3701713 |\n",
       "| 2_6114707 | 2  | 55.10002 | 0.3208793 |\n",
       "| c3.loc62 | 3  | 62.00000 | 1.2003118 |\n",
       "| 4_2940289 | 4  | 11.90601 | 0.5190336 |\n",
       "| 5_6614908 | 5  | 27.26601 | 1.8413990 |\n",
       "| 6_14058724 | 6  | 54.06104 | 2.1830697 |\n",
       "| c7.loc86 | 7  | 86.00000 | 0.8226566 |\n",
       "| c8.loc3 | 8  |  3.00000 | 1.4720867 |\n",
       "| c9.loc59 | 9  | 59.00000 | 1.0055263 |\n",
       "| 10_23225064 | 10 | 56.10607 | 0.5929449 |\n",
       "| c11.loc22 | 11 | 22.00000 | 0.3170137 |\n",
       "| 15_12434095 | 12 |  0.00000 | 0.4471328 |\n",
       "| c13.loc50 | 13 | 50.00000 | 0.7665544 |\n",
       "| c14.loc42 | 14 | 42.00000 | 0.3751312 |\n",
       "| 15_14731291 | 15 | 27.28703 | 0.8455955 |\n",
       "| 12_9628169 | 16 | 13.67101 | 0.9967519 |\n",
       "| 17_8072555 | 17 | 44.34302 | 1.4463272 |\n",
       "| c18.loc10 | 18 | 10.00000 | 1.2116127 |\n",
       "| 19_7518191 | 19 | 39.50505 | 1.1301520 |\n",
       "\n"
      ],
      "text/plain": [
       "            chr pos      lod      \n",
       "1_23828951  1   76.36705 0.3701713\n",
       "2_6114707   2   55.10002 0.3208793\n",
       "c3.loc62    3   62.00000 1.2003118\n",
       "4_2940289   4   11.90601 0.5190336\n",
       "5_6614908   5   27.26601 1.8413990\n",
       "6_14058724  6   54.06104 2.1830697\n",
       "c7.loc86    7   86.00000 0.8226566\n",
       "c8.loc3     8    3.00000 1.4720867\n",
       "c9.loc59    9   59.00000 1.0055263\n",
       "10_23225064 10  56.10607 0.5929449\n",
       "c11.loc22   11  22.00000 0.3170137\n",
       "15_12434095 12   0.00000 0.4471328\n",
       "c13.loc50   13  50.00000 0.7665544\n",
       "c14.loc42   14  42.00000 0.3751312\n",
       "15_14731291 15  27.28703 0.8455955\n",
       "12_9628169  16  13.67101 0.9967519\n",
       "17_8072555  17  44.34302 1.4463272\n",
       "c18.loc10   18  10.00000 1.2116127\n",
       "19_7518191  19  39.50505 1.1301520"
      ]
     },
     "metadata": {},
     "output_type": "display_data"
    },
    {
     "data": {
      "image/png": "[encoded data removed]",
      "text/plain": [
       "plot without title"
      ]
     },
     "metadata": {
      "image/png": {
       "height": 420,
       "width": 420
      },
      "text/plain": {
       "height": 420,
       "width": 420
      }
     },
     "output_type": "display_data"
    }
   ],
   "source": [
    "#Deterime LOD Values\n",
    "LOD5 <- summary(TraitCIM1000,alpha=c(.05))\n",
    "TraitCIM<-cim(Map,pheno.col = colNum,method = \"hk\",\n",
    "              map.function = \"kosambi\") #Generate LOD Values\n",
    "plot(TraitCIM) #show LOD graph\n",
    "abline(h = LOD5,col = \"blue\") #overlay statistically significant line\n",
    "print(\"If nothing shows up, the values \n",
    "      are below the LOD5 score\") #warning for no peaks\n",
    "summary(TraitCIM)\n",
    "write.csv(TraitCIM,\"PHENOTYPE_table.csv\")"
   ]
  },
  {
   "cell_type": "code",
   "execution_count": 35,
   "metadata": {},
   "outputs": [
    {
     "name": "stdin",
     "output_type": "stream",
     "text": [
      "Chromosome?  6\n"
     ]
    },
    {
     "data": {
      "image/png": "[encoded data removed]",
      "text/plain": [
       "plot without title"
      ]
     },
     "metadata": {
      "image/png": {
       "height": 420,
       "width": 420
      },
      "text/plain": {
       "height": 420,
       "width": 420
      }
     },
     "output_type": "display_data"
    }
   ],
   "source": [
    "#Chromosomal Analysis\n",
    "chr <- as.numeric(readline(\"Chromosome? \")) #collect chromosome to look at\n",
    "plot(TraitCIM, chr = chr,xlab = c(\"chr\",chr)) #Plot chr LOD scores\n",
    "abline(h = LOD5, col = \"blue\") #Statistically Significant"
   ]
  },
  {
   "cell_type": "code",
   "execution_count": 36,
   "metadata": {},
   "outputs": [
    {
     "data": {
      "text/html": [
       "<table>\n",
       "<caption>A scanone: 3 × 3</caption>\n",
       "<thead>\n",
       "\t<tr><th></th><th scope=col>chr</th><th scope=col>pos</th><th scope=col>lod</th></tr>\n",
       "\t<tr><th></th><th scope=col>&lt;fct&gt;</th><th scope=col>&lt;dbl&gt;</th><th scope=col>&lt;dbl&gt;</th></tr>\n",
       "</thead>\n",
       "<tbody>\n",
       "\t<tr><th scope=row>6_1645621</th><td>6</td><td> 0.00000</td><td>0.1804856</td></tr>\n",
       "\t<tr><th scope=row>6_14058724</th><td>6</td><td>54.06104</td><td>2.1830697</td></tr>\n",
       "\t<tr><th scope=row>15_6425116</th><td>6</td><td>58.49804</td><td>1.1329021</td></tr>\n",
       "</tbody>\n",
       "</table>\n"
      ],
      "text/latex": [
       "A scanone: 3 × 3\n",
       "\\begin{tabular}{r|lll}\n",
       "  & chr & pos & lod\\\\\n",
       "  & <fct> & <dbl> & <dbl>\\\\\n",
       "\\hline\n",
       "\t6\\_1645621 & 6 &  0.00000 & 0.1804856\\\\\n",
       "\t6\\_14058724 & 6 & 54.06104 & 2.1830697\\\\\n",
       "\t15\\_6425116 & 6 & 58.49804 & 1.1329021\\\\\n",
       "\\end{tabular}\n"
      ],
      "text/markdown": [
       "\n",
       "A scanone: 3 × 3\n",
       "\n",
       "| <!--/--> | chr &lt;fct&gt; | pos &lt;dbl&gt; | lod &lt;dbl&gt; |\n",
       "|---|---|---|---|\n",
       "| 6_1645621 | 6 |  0.00000 | 0.1804856 |\n",
       "| 6_14058724 | 6 | 54.06104 | 2.1830697 |\n",
       "| 15_6425116 | 6 | 58.49804 | 1.1329021 |\n",
       "\n"
      ],
      "text/plain": [
       "           chr pos      lod      \n",
       "6_1645621  6    0.00000 0.1804856\n",
       "6_14058724 6   54.06104 2.1830697\n",
       "15_6425116 6   58.49804 1.1329021"
      ]
     },
     "metadata": {},
     "output_type": "display_data"
    },
    {
     "data": {
      "text/html": [
       "<table>\n",
       "<caption>A scanone: 3 × 3</caption>\n",
       "<thead>\n",
       "\t<tr><th></th><th scope=col>chr</th><th scope=col>pos</th><th scope=col>lod</th></tr>\n",
       "\t<tr><th></th><th scope=col>&lt;fct&gt;</th><th scope=col>&lt;dbl&gt;</th><th scope=col>&lt;dbl&gt;</th></tr>\n",
       "</thead>\n",
       "<tbody>\n",
       "\t<tr><th scope=row>13_3252918</th><td>6</td><td>48.60403</td><td>0.007552939</td></tr>\n",
       "\t<tr><th scope=row>6_14058724</th><td>6</td><td>54.06104</td><td>2.183069693</td></tr>\n",
       "\t<tr><th scope=row>15_6425116</th><td>6</td><td>58.49804</td><td>1.132902118</td></tr>\n",
       "</tbody>\n",
       "</table>\n"
      ],
      "text/latex": [
       "A scanone: 3 × 3\n",
       "\\begin{tabular}{r|lll}\n",
       "  & chr & pos & lod\\\\\n",
       "  & <fct> & <dbl> & <dbl>\\\\\n",
       "\\hline\n",
       "\t13\\_3252918 & 6 & 48.60403 & 0.007552939\\\\\n",
       "\t6\\_14058724 & 6 & 54.06104 & 2.183069693\\\\\n",
       "\t15\\_6425116 & 6 & 58.49804 & 1.132902118\\\\\n",
       "\\end{tabular}\n"
      ],
      "text/markdown": [
       "\n",
       "A scanone: 3 × 3\n",
       "\n",
       "| <!--/--> | chr &lt;fct&gt; | pos &lt;dbl&gt; | lod &lt;dbl&gt; |\n",
       "|---|---|---|---|\n",
       "| 13_3252918 | 6 | 48.60403 | 0.007552939 |\n",
       "| 6_14058724 | 6 | 54.06104 | 2.183069693 |\n",
       "| 15_6425116 | 6 | 58.49804 | 1.132902118 |\n",
       "\n"
      ],
      "text/plain": [
       "           chr pos      lod        \n",
       "13_3252918 6   48.60403 0.007552939\n",
       "6_14058724 6   54.06104 2.183069693\n",
       "15_6425116 6   58.49804 1.132902118"
      ]
     },
     "metadata": {},
     "output_type": "display_data"
    }
   ],
   "source": [
    "bayesint(TraitCIM, chr = chr, prob=0.95, expandtomarkers=TRUE) #calculate bayesian interval\n",
    "lodint(TraitCIM, chr = chr,expandtomarkers = TRUE ) #calculate LOD Support interval"
   ]
  },
  {
   "cell_type": "code",
   "execution_count": 37,
   "metadata": {},
   "outputs": [
    {
     "name": "stdin",
     "output_type": "stream",
     "text": [
      "Position for analysis:  54.06104\n"
     ]
    },
    {
     "name": "stderr",
     "output_type": "stream",
     "text": [
      "Warning message in getsex(cross):\n",
      "\"125 individuals with missing sex; assuming they're female\"\n",
      "Warning message in fitqtlengine(pheno = pheno, qtl = qtl, covar = covar, formula = formula, :\n",
      "\"Dropping 144 individuals with missing phenotypes.\n",
      "\"\n",
      "Warning message in getsex(cross):\n",
      "\"125 individuals with missing sex; assuming they're female\"\n"
     ]
    },
    {
     "data": {
      "text/plain": [
       "\n",
       "\t\tfitqtl summary\n",
       "\n",
       "Method: Haley-Knott regression \n",
       "Model:  normal phenotype\n",
       "Number of observations : 150 \n",
       "\n",
       "Full model result\n",
       "----------------------------------  \n",
       "Model formula: y ~ Q1 \n",
       "\n",
       "       df        SS         MS      LOD     %var Pvalue(Chi2)   Pvalue(F)\n",
       "Model   1  0.914622 0.91462199 2.204214 6.543292  0.001442401 0.001580908\n",
       "Error 148 13.063387 0.08826613                                           \n",
       "Total 149 13.978009                                                      \n",
       "\n",
       "\n",
       "Estimated effects:\n",
       "-----------------\n",
       "               est       SE      t\n",
       "Intercept  1.34049  0.02435 55.056\n",
       "6@54.1    -0.16304  0.05065 -3.219\n"
      ]
     },
     "metadata": {},
     "output_type": "display_data"
    }
   ],
   "source": [
    "p <- as.numeric(readline(\"Position for analysis: \"))\n",
    "qtl <- makeqtl(Map, chr = chr, pos = p, what=\"prob\") #pulls genotype probabilities\n",
    "fitqtl <- fitqtl(Map, pheno.col=colNum, qtl = qtl, covar=NULL,\n",
    "       method= \"hk\",model=\"normal\",\n",
    "       dropone=TRUE, get.ests=TRUE,run.checks=TRUE,\n",
    "       tol=1e-4, maxit=1000, forceXcovar=FALSE) #sees how well our data fits a given formula \n",
    "          # If you see \"error: object of type 'closure' is not subsettable\", remove \"formula,\" from the fitqtl argument list.\n",
    "summary(fitqtl) #Print results of the analysis"
   ]
  },
  {
   "cell_type": "code",
   "execution_count": 38,
   "metadata": {},
   "outputs": [
    {
     "name": "stdout",
     "output_type": "stream",
     "text": [
      "[1] \"Make sure to input names AS THEY APPEAR on the csv!!\"\n"
     ]
    },
    {
     "name": "stdin",
     "output_type": "stream",
     "text": [
      "Enter file name (Either FemaleMap.csv or MaleMap.csv):  MaleMap_Field2020.csv\n",
      "First Genotype (homozygous) (For example ll):  nn\n",
      "Second Genotype (heterozygous) (for example lm):  np\n",
      "Column Number:  54\n"
     ]
    }
   ],
   "source": [
    "#Collecting enviroment variables\n",
    "print(\"Make sure to input names AS THEY APPEAR on the csv!!\") #Just a user warning\n",
    "fileName <- readline(\"Enter file name (Either FemaleMap.csv or MaleMap.csv): \") #Mapping table file\n",
    "genotypeName <- c(readline(\"First Genotype (homozygous) (For example ll): \"),\n",
    "                  readline(\"Second Genotype (heterozygous) (for example lm): \")) #For example \"nn\", \"np\"\n",
    "alleleName <- c(substr(genotypeName[2],1,1) ,substr(genotypeName[2],2,2))\n",
    "naNames <- c(\"NA\",\"--\") #For example \"NA\", \"--\"\n",
    "colNum <- as.numeric(readline(\"Column Number: \")) #Column for pheno of interest"
   ]
  },
  {
   "cell_type": "code",
   "execution_count": 39,
   "metadata": {},
   "outputs": [
    {
     "name": "stdout",
     "output_type": "stream",
     "text": [
      " --Read the following data:\n",
      "\t 294  individuals\n",
      "\t 1128  markers\n",
      "\t 55  phenotypes\n"
     ]
    },
    {
     "name": "stderr",
     "output_type": "stream",
     "text": [
      "Warning message in summary.cross(cross):\n",
      "\"Some markers at the same position on chr 1,3,4,5,6,7,8,9,10,12,13,14,15,16,17,18,19; use jittermap().\"\n"
     ]
    },
    {
     "name": "stdout",
     "output_type": "stream",
     "text": [
      " --Cross type: bc \n"
     ]
    },
    {
     "data": {
      "image/png": "[encoded data removed]",
      "text/plain": [
       "Plot with title \"Genetic map\""
      ]
     },
     "metadata": {
      "image/png": {
       "height": 420,
       "width": 420
      },
      "text/plain": {
       "height": 420,
       "width": 420
      }
     },
     "output_type": "display_data"
    }
   ],
   "source": [
    "#Map generation\n",
    "Map <- read.cross(format = 'csv',file = fileName \n",
    "                  ,genotypes = genotypeName,\n",
    "                  alleles = alleleName,na.strings = naNames) #generate linkage map\n",
    "Map <- jittermap(Map) #make sure no markers are in the same location\n",
    "Map <- calc.genoprob(Map,step = 1,map.function = \"kosambi\") #associate markers with full genotypes\n",
    "plot.map(Map) #draw linkage map"
   ]
  },
  {
   "cell_type": "code",
   "execution_count": 40,
   "metadata": {},
   "outputs": [
    {
     "data": {
      "image/png": "[encoded data removed]",
      "text/plain": [
       "Plot with title \"\""
      ]
     },
     "metadata": {
      "image/png": {
       "height": 420,
       "width": 420
      },
      "text/plain": {
       "height": 420,
       "width": 420
      }
     },
     "output_type": "display_data"
    }
   ],
   "source": [
    "plotNormalHistogram(Map$pheno[,colNum]) #normal histogram of pheno of interest"
   ]
  },
  {
   "cell_type": "markdown",
   "metadata": {},
   "source": [
    "Outliers exist in this data. "
   ]
  },
  {
   "cell_type": "code",
   "execution_count": 41,
   "metadata": {},
   "outputs": [
    {
     "data": {
      "text/plain": [
       "LOD thresholds (1000 permutations)\n",
       "   [,1]\n",
       "5% 4.35\n",
       "1% 5.23"
      ]
     },
     "metadata": {},
     "output_type": "display_data"
    },
    {
     "data": {
      "image/png": "[encoded data removed]",
      "text/plain": [
       "Plot with title \"\""
      ]
     },
     "metadata": {
      "image/png": {
       "height": 420,
       "width": 420
      },
      "text/plain": {
       "height": 420,
       "width": 420
      }
     },
     "output_type": "display_data"
    }
   ],
   "source": [
    "#Compute statistically significant values\n",
    "TraitCIM1000 <- cim(Map,pheno.col = colNum,method = \"hk\",\n",
    "                    map.function = \"kosambi\",n.perm = 1000) # Function will take a moment to run, determines LOD value\n",
    "plot(TraitCIM1000,col = 'green') #show distribution of lod scores\n",
    "summary(TraitCIM1000,alpha=c(.05,.01))"
   ]
  },
  {
   "cell_type": "code",
   "execution_count": 42,
   "metadata": {},
   "outputs": [
    {
     "name": "stdout",
     "output_type": "stream",
     "text": [
      "[1] \"If nothing shows up, the values \\n      are below the LOD5 score\"\n"
     ]
    },
    {
     "data": {
      "text/html": [
       "<table>\n",
       "<caption>A summary.scanone: 19 × 3</caption>\n",
       "<thead>\n",
       "\t<tr><th></th><th scope=col>chr</th><th scope=col>pos</th><th scope=col>lod</th></tr>\n",
       "\t<tr><th></th><th scope=col>&lt;fct&gt;</th><th scope=col>&lt;dbl&gt;</th><th scope=col>&lt;dbl&gt;</th></tr>\n",
       "</thead>\n",
       "<tbody>\n",
       "\t<tr><th scope=row>c1.loc6</th><td>1 </td><td> 6.00000</td><td>0.7266516</td></tr>\n",
       "\t<tr><th scope=row>2_4650247</th><td>2 </td><td>24.68301</td><td>1.3737369</td></tr>\n",
       "\t<tr><th scope=row>c3.loc66</th><td>3 </td><td>66.00000</td><td>0.6577323</td></tr>\n",
       "\t<tr><th scope=row>c4.loc53</th><td>4 </td><td>53.00000</td><td>1.6982034</td></tr>\n",
       "\t<tr><th scope=row>c5.loc32</th><td>5 </td><td>32.00000</td><td>1.7191219</td></tr>\n",
       "\t<tr><th scope=row>6_2530151</th><td>6 </td><td>10.18301</td><td>1.1197496</td></tr>\n",
       "\t<tr><th scope=row>c7.loc49</th><td>7 </td><td>49.00000</td><td>4.1209319</td></tr>\n",
       "\t<tr><th scope=row>8_14298254</th><td>8 </td><td>50.26203</td><td>1.1384877</td></tr>\n",
       "\t<tr><th scope=row>c9.loc62</th><td>9 </td><td>62.00000</td><td>1.1665195</td></tr>\n",
       "\t<tr><th scope=row>10_6429561</th><td>10</td><td>35.85701</td><td>0.7946711</td></tr>\n",
       "\t<tr><th scope=row>c11.loc47</th><td>11</td><td>47.00000</td><td>0.9715473</td></tr>\n",
       "\t<tr><th scope=row>c12.loc23</th><td>12</td><td>23.00000</td><td>1.3032896</td></tr>\n",
       "\t<tr><th scope=row>c13.loc22</th><td>13</td><td>22.00000</td><td>0.9885592</td></tr>\n",
       "\t<tr><th scope=row>14_17377883</th><td>14</td><td>36.67605</td><td>1.2703346</td></tr>\n",
       "\t<tr><th scope=row>15_19106930</th><td>15</td><td>85.41304</td><td>1.4866341</td></tr>\n",
       "\t<tr><th scope=row>13_3252820</th><td>16</td><td>43.73403</td><td>0.8315465</td></tr>\n",
       "\t<tr><th scope=row>c17.loc29</th><td>17</td><td>29.00000</td><td>0.7762317</td></tr>\n",
       "\t<tr><th scope=row>c18.loc58</th><td>18</td><td>58.00000</td><td>0.9836740</td></tr>\n",
       "\t<tr><th scope=row>c19.loc78</th><td>19</td><td>78.00000</td><td>0.5951964</td></tr>\n",
       "</tbody>\n",
       "</table>\n"
      ],
      "text/latex": [
       "A summary.scanone: 19 × 3\n",
       "\\begin{tabular}{r|lll}\n",
       "  & chr & pos & lod\\\\\n",
       "  & <fct> & <dbl> & <dbl>\\\\\n",
       "\\hline\n",
       "\tc1.loc6 & 1  &  6.00000 & 0.7266516\\\\\n",
       "\t2\\_4650247 & 2  & 24.68301 & 1.3737369\\\\\n",
       "\tc3.loc66 & 3  & 66.00000 & 0.6577323\\\\\n",
       "\tc4.loc53 & 4  & 53.00000 & 1.6982034\\\\\n",
       "\tc5.loc32 & 5  & 32.00000 & 1.7191219\\\\\n",
       "\t6\\_2530151 & 6  & 10.18301 & 1.1197496\\\\\n",
       "\tc7.loc49 & 7  & 49.00000 & 4.1209319\\\\\n",
       "\t8\\_14298254 & 8  & 50.26203 & 1.1384877\\\\\n",
       "\tc9.loc62 & 9  & 62.00000 & 1.1665195\\\\\n",
       "\t10\\_6429561 & 10 & 35.85701 & 0.7946711\\\\\n",
       "\tc11.loc47 & 11 & 47.00000 & 0.9715473\\\\\n",
       "\tc12.loc23 & 12 & 23.00000 & 1.3032896\\\\\n",
       "\tc13.loc22 & 13 & 22.00000 & 0.9885592\\\\\n",
       "\t14\\_17377883 & 14 & 36.67605 & 1.2703346\\\\\n",
       "\t15\\_19106930 & 15 & 85.41304 & 1.4866341\\\\\n",
       "\t13\\_3252820 & 16 & 43.73403 & 0.8315465\\\\\n",
       "\tc17.loc29 & 17 & 29.00000 & 0.7762317\\\\\n",
       "\tc18.loc58 & 18 & 58.00000 & 0.9836740\\\\\n",
       "\tc19.loc78 & 19 & 78.00000 & 0.5951964\\\\\n",
       "\\end{tabular}\n"
      ],
      "text/markdown": [
       "\n",
       "A summary.scanone: 19 × 3\n",
       "\n",
       "| <!--/--> | chr &lt;fct&gt; | pos &lt;dbl&gt; | lod &lt;dbl&gt; |\n",
       "|---|---|---|---|\n",
       "| c1.loc6 | 1  |  6.00000 | 0.7266516 |\n",
       "| 2_4650247 | 2  | 24.68301 | 1.3737369 |\n",
       "| c3.loc66 | 3  | 66.00000 | 0.6577323 |\n",
       "| c4.loc53 | 4  | 53.00000 | 1.6982034 |\n",
       "| c5.loc32 | 5  | 32.00000 | 1.7191219 |\n",
       "| 6_2530151 | 6  | 10.18301 | 1.1197496 |\n",
       "| c7.loc49 | 7  | 49.00000 | 4.1209319 |\n",
       "| 8_14298254 | 8  | 50.26203 | 1.1384877 |\n",
       "| c9.loc62 | 9  | 62.00000 | 1.1665195 |\n",
       "| 10_6429561 | 10 | 35.85701 | 0.7946711 |\n",
       "| c11.loc47 | 11 | 47.00000 | 0.9715473 |\n",
       "| c12.loc23 | 12 | 23.00000 | 1.3032896 |\n",
       "| c13.loc22 | 13 | 22.00000 | 0.9885592 |\n",
       "| 14_17377883 | 14 | 36.67605 | 1.2703346 |\n",
       "| 15_19106930 | 15 | 85.41304 | 1.4866341 |\n",
       "| 13_3252820 | 16 | 43.73403 | 0.8315465 |\n",
       "| c17.loc29 | 17 | 29.00000 | 0.7762317 |\n",
       "| c18.loc58 | 18 | 58.00000 | 0.9836740 |\n",
       "| c19.loc78 | 19 | 78.00000 | 0.5951964 |\n",
       "\n"
      ],
      "text/plain": [
       "            chr pos      lod      \n",
       "c1.loc6     1    6.00000 0.7266516\n",
       "2_4650247   2   24.68301 1.3737369\n",
       "c3.loc66    3   66.00000 0.6577323\n",
       "c4.loc53    4   53.00000 1.6982034\n",
       "c5.loc32    5   32.00000 1.7191219\n",
       "6_2530151   6   10.18301 1.1197496\n",
       "c7.loc49    7   49.00000 4.1209319\n",
       "8_14298254  8   50.26203 1.1384877\n",
       "c9.loc62    9   62.00000 1.1665195\n",
       "10_6429561  10  35.85701 0.7946711\n",
       "c11.loc47   11  47.00000 0.9715473\n",
       "c12.loc23   12  23.00000 1.3032896\n",
       "c13.loc22   13  22.00000 0.9885592\n",
       "14_17377883 14  36.67605 1.2703346\n",
       "15_19106930 15  85.41304 1.4866341\n",
       "13_3252820  16  43.73403 0.8315465\n",
       "c17.loc29   17  29.00000 0.7762317\n",
       "c18.loc58   18  58.00000 0.9836740\n",
       "c19.loc78   19  78.00000 0.5951964"
      ]
     },
     "metadata": {},
     "output_type": "display_data"
    },
    {
     "data": {
      "image/png": "[encoded data removed]",
      "text/plain": [
       "plot without title"
      ]
     },
     "metadata": {
      "image/png": {
       "height": 420,
       "width": 420
      },
      "text/plain": {
       "height": 420,
       "width": 420
      }
     },
     "output_type": "display_data"
    }
   ],
   "source": [
    "#Deterime LOD Values\n",
    "TraitCIM<-cim(Map,pheno.col = colNum,method = \"hk\",\n",
    "              map.function = \"kosambi\") #Generate LOD Values\n",
    "plot(TraitCIM) #show LOD graph\n",
    "abline(h = LOD5,col = \"blue\") #overlay statistically significant line\n",
    "print(\"If nothing shows up, the values \n",
    "      are below the LOD5 score\") #warning for no peaks\n",
    "summary(TraitCIM)"
   ]
  },
  {
   "cell_type": "code",
   "execution_count": 43,
   "metadata": {},
   "outputs": [
    {
     "name": "stdin",
     "output_type": "stream",
     "text": [
      "Chromosome?  7\n"
     ]
    },
    {
     "data": {
      "image/png": "[encoded data removed]",
      "text/plain": [
       "plot without title"
      ]
     },
     "metadata": {
      "image/png": {
       "height": 420,
       "width": 420
      },
      "text/plain": {
       "height": 420,
       "width": 420
      }
     },
     "output_type": "display_data"
    }
   ],
   "source": [
    "#Chromosomal Analysis\n",
    "chr <- as.numeric(readline(\"Chromosome? \")) #collect chromosome to look at\n",
    "plot(TraitCIM, chr = chr,xlab = c(\"chr\",chr)) #Plot chr LOD scores\n",
    "abline(h = LOD5, col = \"blue\") #Statistically Significant"
   ]
  },
  {
   "cell_type": "code",
   "execution_count": 44,
   "metadata": {},
   "outputs": [
    {
     "data": {
      "text/html": [
       "<table>\n",
       "<caption>A scanone: 3 × 3</caption>\n",
       "<thead>\n",
       "\t<tr><th></th><th scope=col>chr</th><th scope=col>pos</th><th scope=col>lod</th></tr>\n",
       "\t<tr><th></th><th scope=col>&lt;fct&gt;</th><th scope=col>&lt;dbl&gt;</th><th scope=col>&lt;dbl&gt;</th></tr>\n",
       "</thead>\n",
       "<tbody>\n",
       "\t<tr><th scope=row>7_11512843</th><td>7</td><td>48.42703</td><td>1.619584</td></tr>\n",
       "\t<tr><th scope=row>c7.loc49</th><td>7</td><td>49.00000</td><td>4.120932</td></tr>\n",
       "\t<tr><th scope=row>7_18830228</th><td>7</td><td>70.85506</td><td>2.757110</td></tr>\n",
       "</tbody>\n",
       "</table>\n"
      ],
      "text/latex": [
       "A scanone: 3 × 3\n",
       "\\begin{tabular}{r|lll}\n",
       "  & chr & pos & lod\\\\\n",
       "  & <fct> & <dbl> & <dbl>\\\\\n",
       "\\hline\n",
       "\t7\\_11512843 & 7 & 48.42703 & 1.619584\\\\\n",
       "\tc7.loc49 & 7 & 49.00000 & 4.120932\\\\\n",
       "\t7\\_18830228 & 7 & 70.85506 & 2.757110\\\\\n",
       "\\end{tabular}\n"
      ],
      "text/markdown": [
       "\n",
       "A scanone: 3 × 3\n",
       "\n",
       "| <!--/--> | chr &lt;fct&gt; | pos &lt;dbl&gt; | lod &lt;dbl&gt; |\n",
       "|---|---|---|---|\n",
       "| 7_11512843 | 7 | 48.42703 | 1.619584 |\n",
       "| c7.loc49 | 7 | 49.00000 | 4.120932 |\n",
       "| 7_18830228 | 7 | 70.85506 | 2.757110 |\n",
       "\n"
      ],
      "text/plain": [
       "           chr pos      lod     \n",
       "7_11512843 7   48.42703 1.619584\n",
       "c7.loc49   7   49.00000 4.120932\n",
       "7_18830228 7   70.85506 2.757110"
      ]
     },
     "metadata": {},
     "output_type": "display_data"
    },
    {
     "data": {
      "text/html": [
       "<table>\n",
       "<caption>A scanone: 3 × 3</caption>\n",
       "<thead>\n",
       "\t<tr><th></th><th scope=col>chr</th><th scope=col>pos</th><th scope=col>lod</th></tr>\n",
       "\t<tr><th></th><th scope=col>&lt;fct&gt;</th><th scope=col>&lt;dbl&gt;</th><th scope=col>&lt;dbl&gt;</th></tr>\n",
       "</thead>\n",
       "<tbody>\n",
       "\t<tr><th scope=row>7_11512843</th><td>7</td><td>48.42703</td><td>1.619584</td></tr>\n",
       "\t<tr><th scope=row>c7.loc49</th><td>7</td><td>49.00000</td><td>4.120932</td></tr>\n",
       "\t<tr><th scope=row>7_18819915</th><td>7</td><td>71.08906</td><td>2.236207</td></tr>\n",
       "</tbody>\n",
       "</table>\n"
      ],
      "text/latex": [
       "A scanone: 3 × 3\n",
       "\\begin{tabular}{r|lll}\n",
       "  & chr & pos & lod\\\\\n",
       "  & <fct> & <dbl> & <dbl>\\\\\n",
       "\\hline\n",
       "\t7\\_11512843 & 7 & 48.42703 & 1.619584\\\\\n",
       "\tc7.loc49 & 7 & 49.00000 & 4.120932\\\\\n",
       "\t7\\_18819915 & 7 & 71.08906 & 2.236207\\\\\n",
       "\\end{tabular}\n"
      ],
      "text/markdown": [
       "\n",
       "A scanone: 3 × 3\n",
       "\n",
       "| <!--/--> | chr &lt;fct&gt; | pos &lt;dbl&gt; | lod &lt;dbl&gt; |\n",
       "|---|---|---|---|\n",
       "| 7_11512843 | 7 | 48.42703 | 1.619584 |\n",
       "| c7.loc49 | 7 | 49.00000 | 4.120932 |\n",
       "| 7_18819915 | 7 | 71.08906 | 2.236207 |\n",
       "\n"
      ],
      "text/plain": [
       "           chr pos      lod     \n",
       "7_11512843 7   48.42703 1.619584\n",
       "c7.loc49   7   49.00000 4.120932\n",
       "7_18819915 7   71.08906 2.236207"
      ]
     },
     "metadata": {},
     "output_type": "display_data"
    }
   ],
   "source": [
    "bayesint(TraitCIM, chr = chr, prob=0.95, expandtomarkers=TRUE) #calculate bayesian interval\n",
    "lodint(TraitCIM, chr = chr,expandtomarkers = TRUE ) #calculate LOD Support interval"
   ]
  },
  {
   "cell_type": "code",
   "execution_count": 45,
   "metadata": {},
   "outputs": [
    {
     "name": "stdin",
     "output_type": "stream",
     "text": [
      "Position for analysis:  49.00000\n"
     ]
    },
    {
     "name": "stderr",
     "output_type": "stream",
     "text": [
      "Warning message in getsex(cross):\n",
      "\"125 individuals with missing sex; assuming they're female\"\n",
      "Warning message in fitqtlengine(pheno = pheno, qtl = qtl, covar = covar, formula = formula, :\n",
      "\"Dropping 144 individuals with missing phenotypes.\n",
      "\"\n",
      "Warning message in getsex(cross):\n",
      "\"125 individuals with missing sex; assuming they're female\"\n"
     ]
    },
    {
     "data": {
      "text/plain": [
       "\n",
       "\t\tfitqtl summary\n",
       "\n",
       "Method: Haley-Knott regression \n",
       "Model:  normal phenotype\n",
       "Number of observations : 150 \n",
       "\n",
       "Full model result\n",
       "----------------------------------  \n",
       "Model formula: y ~ Q1 \n",
       "\n",
       "       df        SS         MS      LOD     %var Pvalue(Chi2)    Pvalue(F)\n",
       "Model   1  1.047225 1.04722462 2.536533 7.491944 0.0006313589 0.0007009219\n",
       "Error 148 12.930785 0.08737017                                            \n",
       "Total 149 13.978009                                                       \n",
       "\n",
       "\n",
       "Estimated effects:\n",
       "-----------------\n",
       "              est      SE      t\n",
       "Intercept 1.33597 0.02435 54.861\n",
       "7@49.0    0.36963 0.10677  3.462\n"
      ]
     },
     "metadata": {},
     "output_type": "display_data"
    }
   ],
   "source": [
    "p <- as.numeric(readline(\"Position for analysis: \"))\n",
    "qtl <- makeqtl(Map, chr = chr, pos = p, what=\"prob\") #pulls genotype probabilities\n",
    "fitqtl <- fitqtl(Map, pheno.col=colNum, qtl = qtl, covar=NULL,\n",
    "       method= \"hk\",model=\"normal\",\n",
    "       dropone=TRUE, get.ests=TRUE,run.checks=TRUE,\n",
    "       tol=1e-4, maxit=1000, forceXcovar=FALSE) #sees how well our data fits a given formula \n",
    "          # If you see \"error: object of type 'closure' is not subsettable\", remove \"formula,\" from the fitqtl argument list.\n",
    "summary(fitqtl) #Print results of the analysis"
   ]
  },
  {
   "cell_type": "code",
   "execution_count": null,
   "metadata": {},
   "outputs": [],
   "source": []
  }
 ],
 "metadata": {
  "kernelspec": {
   "display_name": "R",
   "language": "R",
   "name": "ir"
  },
  "language_info": {
   "codemirror_mode": "r",
   "file_extension": ".r",
   "mimetype": "text/x-r-source",
   "name": "R",
   "pygments_lexer": "r",
   "version": "3.6.3"
  }
 },
 "nbformat": 4,
 "nbformat_minor": 4
}
