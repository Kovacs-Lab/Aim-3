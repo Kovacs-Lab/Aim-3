{
 "cells": [
  {
   "cell_type": "markdown",
   "metadata": {},
   "source": [
    "This analysis is in the order of Female then Male"
   ]
  },
  {
   "cell_type": "code",
   "execution_count": 1,
   "metadata": {},
   "outputs": [
    {
     "name": "stderr",
     "output_type": "stream",
     "text": [
      "Installing package into 'C:/Users/Courtney/Documents/R/win-library/3.6'\n",
      "(as 'lib' is unspecified)\n",
      "\n"
     ]
    },
    {
     "name": "stdout",
     "output_type": "stream",
     "text": [
      "package 'qtl' successfully unpacked and MD5 sums checked\n",
      "\n",
      "The downloaded binary packages are in\n",
      "\tC:\\Users\\Courtney\\AppData\\Local\\Temp\\RtmpiUu1pP\\downloaded_packages\n"
     ]
    },
    {
     "name": "stderr",
     "output_type": "stream",
     "text": [
      "Installing package into 'C:/Users/Courtney/Documents/R/win-library/3.6'\n",
      "(as 'lib' is unspecified)\n",
      "\n"
     ]
    },
    {
     "name": "stdout",
     "output_type": "stream",
     "text": [
      "package 'qtlcharts' successfully unpacked and MD5 sums checked\n",
      "\n",
      "The downloaded binary packages are in\n",
      "\tC:\\Users\\Courtney\\AppData\\Local\\Temp\\RtmpiUu1pP\\downloaded_packages\n"
     ]
    },
    {
     "name": "stderr",
     "output_type": "stream",
     "text": [
      "Installing package into 'C:/Users/Courtney/Documents/R/win-library/3.6'\n",
      "(as 'lib' is unspecified)\n",
      "\n"
     ]
    },
    {
     "name": "stdout",
     "output_type": "stream",
     "text": [
      "package 'LinkageMapView' successfully unpacked and MD5 sums checked\n",
      "\n",
      "The downloaded binary packages are in\n",
      "\tC:\\Users\\Courtney\\AppData\\Local\\Temp\\RtmpiUu1pP\\downloaded_packages\n"
     ]
    },
    {
     "name": "stderr",
     "output_type": "stream",
     "text": [
      "Installing package into 'C:/Users/Courtney/Documents/R/win-library/3.6'\n",
      "(as 'lib' is unspecified)\n",
      "\n"
     ]
    },
    {
     "name": "stdout",
     "output_type": "stream",
     "text": [
      "\n",
      "  There is a binary version available but the source version is later:\n",
      "           binary source needs_compilation\n",
      "rcompanion  2.4.0  2.4.1             FALSE\n",
      "\n"
     ]
    },
    {
     "name": "stderr",
     "output_type": "stream",
     "text": [
      "installing the source package 'rcompanion'\n",
      "\n",
      "\n"
     ]
    }
   ],
   "source": [
    "install.packages('qtl') #Main package, for analysis\n",
    "install.packages('qtlcharts') #accessory, for displaying graphs\n",
    "install.packages('LinkageMapView') #accessory, for displaying linkage maps\n",
    "install.packages('rcompanion')# for plotNormalHistogram"
   ]
  },
  {
   "cell_type": "code",
   "execution_count": 2,
   "metadata": {},
   "outputs": [],
   "source": [
    "library(qtl) #load packages\n",
    "library(qtlcharts)\n",
    "library(LinkageMapView)\n",
    "library(rcompanion)"
   ]
  },
  {
   "cell_type": "code",
   "execution_count": 5,
   "metadata": {},
   "outputs": [
    {
     "name": "stdout",
     "output_type": "stream",
     "text": [
      "[1] \"Make sure to input names AS THEY APPEAR on the csv!!\"\n"
     ]
    },
    {
     "name": "stdin",
     "output_type": "stream",
     "text": [
      "Enter file name (Either FemaleMap.csv or MaleMap.csv):  FemaleMap_Field2020.csv\n",
      "First Genotype (homozygous) (For example ll):  ll\n",
      "Second Genotype (heterozygous) (for example lm):  lm\n",
      "Column Number:  56\n"
     ]
    }
   ],
   "source": [
    "#Collecting enviroment variables\n",
    "print(\"Make sure to input names AS THEY APPEAR on the csv!!\") #Just a user warning\n",
    "fileName <- readline(\"Enter file name (Either FemaleMap.csv or MaleMap.csv): \") #Mapping table file\n",
    "genotypeName <- c(readline(\"First Genotype (homozygous) (For example ll): \"),\n",
    "                  readline(\"Second Genotype (heterozygous) (for example lm): \")) #For example \"nn\", \"np\"\n",
    "alleleName <- c(substr(genotypeName[2],1,1) ,substr(genotypeName[2],2,2))\n",
    "naNames <- c(\"NA\",\"--\") #For example \"NA\", \"--\"\n",
    "colNum <- as.numeric(readline(\"Column Number: \")) #Column for pheno of interest"
   ]
  },
  {
   "cell_type": "code",
   "execution_count": 6,
   "metadata": {},
   "outputs": [
    {
     "name": "stderr",
     "output_type": "stream",
     "text": [
      "Warning message in FUN(X[[i]], ...):\n",
      "\"The phenotype value \" \"  was interpreted as missing.\"\n"
     ]
    },
    {
     "name": "stdout",
     "output_type": "stream",
     "text": [
      " --Read the following data:\n",
      "\t 296  individuals\n",
      "\t 1100  markers\n",
      "\t 61  phenotypes\n"
     ]
    },
    {
     "name": "stderr",
     "output_type": "stream",
     "text": [
      "Warning message in summary.cross(cross):\n",
      "\"Some markers at the same position on chr 1,2,4,5,7,8,9,10,11,12,13,14,16,17,18,19; use jittermap().\"\n"
     ]
    },
    {
     "name": "stdout",
     "output_type": "stream",
     "text": [
      " --Cross type: bc \n"
     ]
    },
    {
     "data": {
      "image/png": "[encoded data removed]",
      "text/plain": [
       "Plot with title \"Genetic map\""
      ]
     },
     "metadata": {
      "image/png": {
       "height": 420,
       "width": 420
      },
      "text/plain": {
       "height": 420,
       "width": 420
      }
     },
     "output_type": "display_data"
    }
   ],
   "source": [
    "#Map generation\n",
    "Map <- read.cross(format = 'csv',file = fileName \n",
    "                  ,genotypes = genotypeName,\n",
    "                  alleles = alleleName,na.strings = naNames) #generate linkage map\n",
    "Map <- jittermap(Map) #make sure no markers are in the same location\n",
    "Map <- calc.genoprob(Map,step = 1,map.function = \"kosambi\") #associate markers with full genotypes\n",
    "plot.map(Map) #draw linkage map"
   ]
  },
  {
   "cell_type": "code",
   "execution_count": 7,
   "metadata": {},
   "outputs": [
    {
     "data": {
      "image/png": "[encoded data removed]",
      "text/plain": [
       "Plot with title \"\""
      ]
     },
     "metadata": {
      "image/png": {
       "height": 420,
       "width": 420
      },
      "text/plain": {
       "height": 420,
       "width": 420
      }
     },
     "output_type": "display_data"
    }
   ],
   "source": [
    "plotNormalHistogram(Map$pheno[,colNum]) #normal histogram of pheno of interest"
   ]
  },
  {
   "cell_type": "markdown",
   "metadata": {},
   "source": [
    "Outliers exist in this dataset. Will need to be analyized. "
   ]
  },
  {
   "cell_type": "code",
   "execution_count": 8,
   "metadata": {},
   "outputs": [
    {
     "data": {
      "text/plain": [
       "LOD thresholds (1000 permutations)\n",
       "   [,1]\n",
       "5% 4.06\n",
       "1% 5.15"
      ]
     },
     "metadata": {},
     "output_type": "display_data"
    },
    {
     "data": {
      "image/png": "[encoded data removed]",
      "text/plain": [
       "Plot with title \"\""
      ]
     },
     "metadata": {
      "image/png": {
       "height": 420,
       "width": 420
      },
      "text/plain": {
       "height": 420,
       "width": 420
      }
     },
     "output_type": "display_data"
    }
   ],
   "source": [
    "#Compute statistically significant values\n",
    "TraitCIM1000 <- cim(Map,pheno.col = colNum,method = \"hk\",\n",
    "                    map.function = \"kosambi\",n.perm = 1000) # Function will take a moment to run, determines LOD value\n",
    "plot(TraitCIM1000,col = 'green') #show distribution of lod scores\n",
    "summary(TraitCIM1000,alpha=c(.05,.01))"
   ]
  },
  {
   "cell_type": "code",
   "execution_count": 9,
   "metadata": {},
   "outputs": [
    {
     "name": "stdout",
     "output_type": "stream",
     "text": [
      "[1] \"If nothing shows up, the values \\n      are below the LOD5 score\"\n"
     ]
    },
    {
     "data": {
      "text/html": [
       "<table>\n",
       "<caption>A summary.scanone: 19 × 3</caption>\n",
       "<thead>\n",
       "\t<tr><th></th><th scope=col>chr</th><th scope=col>pos</th><th scope=col>lod</th></tr>\n",
       "\t<tr><th></th><th scope=col>&lt;fct&gt;</th><th scope=col>&lt;dbl&gt;</th><th scope=col>&lt;dbl&gt;</th></tr>\n",
       "</thead>\n",
       "<tbody>\n",
       "\t<tr><th scope=row>1_23969825</th><td>1 </td><td>75.800047</td><td> 1.6234634</td></tr>\n",
       "\t<tr><th scope=row>c2.loc33</th><td>2 </td><td>33.000000</td><td> 0.6630020</td></tr>\n",
       "\t<tr><th scope=row>3_5596857</th><td>3 </td><td>31.779026</td><td> 2.9565365</td></tr>\n",
       "\t<tr><th scope=row>4_2873313</th><td>4 </td><td>11.454011</td><td> 1.3526528</td></tr>\n",
       "\t<tr><th scope=row>c5.loc55</th><td>5 </td><td>55.000000</td><td> 1.2547769</td></tr>\n",
       "\t<tr><th scope=row>6_14347553</th><td>6 </td><td>46.935030</td><td> 1.6383841</td></tr>\n",
       "\t<tr><th scope=row>c7.loc62</th><td>7 </td><td>62.000000</td><td> 1.1133373</td></tr>\n",
       "\t<tr><th scope=row>c8.loc43</th><td>8 </td><td>43.000000</td><td> 1.1055084</td></tr>\n",
       "\t<tr><th scope=row>c9.loc10</th><td>9 </td><td>10.000000</td><td> 0.5425104</td></tr>\n",
       "\t<tr><th scope=row>c10.loc46</th><td>10</td><td>46.000000</td><td> 1.1969619</td></tr>\n",
       "\t<tr><th scope=row>11_17754467</th><td>11</td><td>53.503038</td><td> 2.1647055</td></tr>\n",
       "\t<tr><th scope=row>12_929948</th><td>12</td><td>15.469002</td><td> 0.6121138</td></tr>\n",
       "\t<tr><th scope=row>13_604670</th><td>13</td><td> 1.734003</td><td> 0.9840034</td></tr>\n",
       "\t<tr><th scope=row>c14.loc54</th><td>14</td><td>54.000000</td><td> 0.7633737</td></tr>\n",
       "\t<tr><th scope=row>15_14731291</th><td>15</td><td>27.287028</td><td> 1.1026076</td></tr>\n",
       "\t<tr><th scope=row>c16.loc12</th><td>16</td><td>12.000000</td><td>15.0039318</td></tr>\n",
       "\t<tr><th scope=row>c17.loc37</th><td>17</td><td>37.000000</td><td> 0.8771862</td></tr>\n",
       "\t<tr><th scope=row>c18.loc94</th><td>18</td><td>94.000000</td><td> 1.1250962</td></tr>\n",
       "\t<tr><th scope=row>c19.loc32</th><td>19</td><td>32.000000</td><td> 1.0719898</td></tr>\n",
       "</tbody>\n",
       "</table>\n"
      ],
      "text/latex": [
       "A summary.scanone: 19 × 3\n",
       "\\begin{tabular}{r|lll}\n",
       "  & chr & pos & lod\\\\\n",
       "  & <fct> & <dbl> & <dbl>\\\\\n",
       "\\hline\n",
       "\t1\\_23969825 & 1  & 75.800047 &  1.6234634\\\\\n",
       "\tc2.loc33 & 2  & 33.000000 &  0.6630020\\\\\n",
       "\t3\\_5596857 & 3  & 31.779026 &  2.9565365\\\\\n",
       "\t4\\_2873313 & 4  & 11.454011 &  1.3526528\\\\\n",
       "\tc5.loc55 & 5  & 55.000000 &  1.2547769\\\\\n",
       "\t6\\_14347553 & 6  & 46.935030 &  1.6383841\\\\\n",
       "\tc7.loc62 & 7  & 62.000000 &  1.1133373\\\\\n",
       "\tc8.loc43 & 8  & 43.000000 &  1.1055084\\\\\n",
       "\tc9.loc10 & 9  & 10.000000 &  0.5425104\\\\\n",
       "\tc10.loc46 & 10 & 46.000000 &  1.1969619\\\\\n",
       "\t11\\_17754467 & 11 & 53.503038 &  2.1647055\\\\\n",
       "\t12\\_929948 & 12 & 15.469002 &  0.6121138\\\\\n",
       "\t13\\_604670 & 13 &  1.734003 &  0.9840034\\\\\n",
       "\tc14.loc54 & 14 & 54.000000 &  0.7633737\\\\\n",
       "\t15\\_14731291 & 15 & 27.287028 &  1.1026076\\\\\n",
       "\tc16.loc12 & 16 & 12.000000 & 15.0039318\\\\\n",
       "\tc17.loc37 & 17 & 37.000000 &  0.8771862\\\\\n",
       "\tc18.loc94 & 18 & 94.000000 &  1.1250962\\\\\n",
       "\tc19.loc32 & 19 & 32.000000 &  1.0719898\\\\\n",
       "\\end{tabular}\n"
      ],
      "text/markdown": [
       "\n",
       "A summary.scanone: 19 × 3\n",
       "\n",
       "| <!--/--> | chr &lt;fct&gt; | pos &lt;dbl&gt; | lod &lt;dbl&gt; |\n",
       "|---|---|---|---|\n",
       "| 1_23969825 | 1  | 75.800047 |  1.6234634 |\n",
       "| c2.loc33 | 2  | 33.000000 |  0.6630020 |\n",
       "| 3_5596857 | 3  | 31.779026 |  2.9565365 |\n",
       "| 4_2873313 | 4  | 11.454011 |  1.3526528 |\n",
       "| c5.loc55 | 5  | 55.000000 |  1.2547769 |\n",
       "| 6_14347553 | 6  | 46.935030 |  1.6383841 |\n",
       "| c7.loc62 | 7  | 62.000000 |  1.1133373 |\n",
       "| c8.loc43 | 8  | 43.000000 |  1.1055084 |\n",
       "| c9.loc10 | 9  | 10.000000 |  0.5425104 |\n",
       "| c10.loc46 | 10 | 46.000000 |  1.1969619 |\n",
       "| 11_17754467 | 11 | 53.503038 |  2.1647055 |\n",
       "| 12_929948 | 12 | 15.469002 |  0.6121138 |\n",
       "| 13_604670 | 13 |  1.734003 |  0.9840034 |\n",
       "| c14.loc54 | 14 | 54.000000 |  0.7633737 |\n",
       "| 15_14731291 | 15 | 27.287028 |  1.1026076 |\n",
       "| c16.loc12 | 16 | 12.000000 | 15.0039318 |\n",
       "| c17.loc37 | 17 | 37.000000 |  0.8771862 |\n",
       "| c18.loc94 | 18 | 94.000000 |  1.1250962 |\n",
       "| c19.loc32 | 19 | 32.000000 |  1.0719898 |\n",
       "\n"
      ],
      "text/plain": [
       "            chr pos       lod       \n",
       "1_23969825  1   75.800047  1.6234634\n",
       "c2.loc33    2   33.000000  0.6630020\n",
       "3_5596857   3   31.779026  2.9565365\n",
       "4_2873313   4   11.454011  1.3526528\n",
       "c5.loc55    5   55.000000  1.2547769\n",
       "6_14347553  6   46.935030  1.6383841\n",
       "c7.loc62    7   62.000000  1.1133373\n",
       "c8.loc43    8   43.000000  1.1055084\n",
       "c9.loc10    9   10.000000  0.5425104\n",
       "c10.loc46   10  46.000000  1.1969619\n",
       "11_17754467 11  53.503038  2.1647055\n",
       "12_929948   12  15.469002  0.6121138\n",
       "13_604670   13   1.734003  0.9840034\n",
       "c14.loc54   14  54.000000  0.7633737\n",
       "15_14731291 15  27.287028  1.1026076\n",
       "c16.loc12   16  12.000000 15.0039318\n",
       "c17.loc37   17  37.000000  0.8771862\n",
       "c18.loc94   18  94.000000  1.1250962\n",
       "c19.loc32   19  32.000000  1.0719898"
      ]
     },
     "metadata": {},
     "output_type": "display_data"
    },
    {
     "data": {
      "image/png": "[encoded data removed]",
      "text/plain": [
       "plot without title"
      ]
     },
     "metadata": {
      "image/png": {
       "height": 420,
       "width": 420
      },
      "text/plain": {
       "height": 420,
       "width": 420
      }
     },
     "output_type": "display_data"
    }
   ],
   "source": [
    "#Deterime LOD Values\n",
    "LOD5 <- summary(TraitCIM1000,alpha=c(.05))\n",
    "TraitCIM<-cim(Map,pheno.col = colNum,method = \"hk\",\n",
    "              map.function = \"kosambi\") #Generate LOD Values\n",
    "plot(TraitCIM) #show LOD graph\n",
    "abline(h = LOD5,col = \"blue\") #overlay statistically significant line\n",
    "print(\"If nothing shows up, the values \n",
    "      are below the LOD5 score\") #warning for no peaks\n",
    "summary(TraitCIM)\n",
    "write.csv(TraitCIM,\"PHENOTYPE_table.csv\")"
   ]
  },
  {
   "cell_type": "code",
   "execution_count": 10,
   "metadata": {},
   "outputs": [
    {
     "name": "stdin",
     "output_type": "stream",
     "text": [
      "Chromosome?  16\n"
     ]
    },
    {
     "data": {
      "image/png": "[encoded data removed]",
      "text/plain": [
       "plot without title"
      ]
     },
     "metadata": {
      "image/png": {
       "height": 420,
       "width": 420
      },
      "text/plain": {
       "height": 420,
       "width": 420
      }
     },
     "output_type": "display_data"
    }
   ],
   "source": [
    "#Chromosomal Analysis\n",
    "chr <- as.numeric(readline(\"Chromosome? \")) #collect chromosome to look at\n",
    "plot(TraitCIM, chr = chr,xlab = c(\"chr\",chr)) #Plot chr LOD scores\n",
    "abline(h = LOD5, col = \"blue\") #Statistically Significant"
   ]
  },
  {
   "cell_type": "code",
   "execution_count": 11,
   "metadata": {},
   "outputs": [
    {
     "data": {
      "text/html": [
       "<table>\n",
       "<caption>A scanone: 3 × 3</caption>\n",
       "<thead>\n",
       "\t<tr><th></th><th scope=col>chr</th><th scope=col>pos</th><th scope=col>lod</th></tr>\n",
       "\t<tr><th></th><th scope=col>&lt;fct&gt;</th><th scope=col>&lt;dbl&gt;</th><th scope=col>&lt;dbl&gt;</th></tr>\n",
       "</thead>\n",
       "<tbody>\n",
       "\t<tr><th scope=row>16_2745439</th><td>16</td><td> 8.433011</td><td>13.77410</td></tr>\n",
       "\t<tr><th scope=row>c16.loc12</th><td>16</td><td>12.000000</td><td>15.00393</td></tr>\n",
       "\t<tr><th scope=row>16_8000271</th><td>16</td><td>14.750017</td><td>14.72390</td></tr>\n",
       "</tbody>\n",
       "</table>\n"
      ],
      "text/latex": [
       "A scanone: 3 × 3\n",
       "\\begin{tabular}{r|lll}\n",
       "  & chr & pos & lod\\\\\n",
       "  & <fct> & <dbl> & <dbl>\\\\\n",
       "\\hline\n",
       "\t16\\_2745439 & 16 &  8.433011 & 13.77410\\\\\n",
       "\tc16.loc12 & 16 & 12.000000 & 15.00393\\\\\n",
       "\t16\\_8000271 & 16 & 14.750017 & 14.72390\\\\\n",
       "\\end{tabular}\n"
      ],
      "text/markdown": [
       "\n",
       "A scanone: 3 × 3\n",
       "\n",
       "| <!--/--> | chr &lt;fct&gt; | pos &lt;dbl&gt; | lod &lt;dbl&gt; |\n",
       "|---|---|---|---|\n",
       "| 16_2745439 | 16 |  8.433011 | 13.77410 |\n",
       "| c16.loc12 | 16 | 12.000000 | 15.00393 |\n",
       "| 16_8000271 | 16 | 14.750017 | 14.72390 |\n",
       "\n"
      ],
      "text/plain": [
       "           chr pos       lod     \n",
       "16_2745439 16   8.433011 13.77410\n",
       "c16.loc12  16  12.000000 15.00393\n",
       "16_8000271 16  14.750017 14.72390"
      ]
     },
     "metadata": {},
     "output_type": "display_data"
    },
    {
     "data": {
      "text/html": [
       "<table>\n",
       "<caption>A scanone: 3 × 3</caption>\n",
       "<thead>\n",
       "\t<tr><th></th><th scope=col>chr</th><th scope=col>pos</th><th scope=col>lod</th></tr>\n",
       "\t<tr><th></th><th scope=col>&lt;fct&gt;</th><th scope=col>&lt;dbl&gt;</th><th scope=col>&lt;dbl&gt;</th></tr>\n",
       "</thead>\n",
       "<tbody>\n",
       "\t<tr><th scope=row>16_2379703</th><td>16</td><td> 7.32501</td><td> 8.7294712</td></tr>\n",
       "\t<tr><th scope=row>c16.loc12</th><td>16</td><td>12.00000</td><td>15.0039318</td></tr>\n",
       "\t<tr><th scope=row>16_13270028</th><td>16</td><td>16.26602</td><td> 0.3580301</td></tr>\n",
       "</tbody>\n",
       "</table>\n"
      ],
      "text/latex": [
       "A scanone: 3 × 3\n",
       "\\begin{tabular}{r|lll}\n",
       "  & chr & pos & lod\\\\\n",
       "  & <fct> & <dbl> & <dbl>\\\\\n",
       "\\hline\n",
       "\t16\\_2379703 & 16 &  7.32501 &  8.7294712\\\\\n",
       "\tc16.loc12 & 16 & 12.00000 & 15.0039318\\\\\n",
       "\t16\\_13270028 & 16 & 16.26602 &  0.3580301\\\\\n",
       "\\end{tabular}\n"
      ],
      "text/markdown": [
       "\n",
       "A scanone: 3 × 3\n",
       "\n",
       "| <!--/--> | chr &lt;fct&gt; | pos &lt;dbl&gt; | lod &lt;dbl&gt; |\n",
       "|---|---|---|---|\n",
       "| 16_2379703 | 16 |  7.32501 |  8.7294712 |\n",
       "| c16.loc12 | 16 | 12.00000 | 15.0039318 |\n",
       "| 16_13270028 | 16 | 16.26602 |  0.3580301 |\n",
       "\n"
      ],
      "text/plain": [
       "            chr pos      lod       \n",
       "16_2379703  16   7.32501  8.7294712\n",
       "c16.loc12   16  12.00000 15.0039318\n",
       "16_13270028 16  16.26602  0.3580301"
      ]
     },
     "metadata": {},
     "output_type": "display_data"
    }
   ],
   "source": [
    "bayesint(TraitCIM, chr = chr, prob=0.95, expandtomarkers=TRUE) #calculate bayesian interval\n",
    "lodint(TraitCIM, chr = chr,expandtomarkers = TRUE ) #calculate LOD Support interval"
   ]
  },
  {
   "cell_type": "code",
   "execution_count": 12,
   "metadata": {},
   "outputs": [
    {
     "name": "stdin",
     "output_type": "stream",
     "text": [
      "Position for analysis:  12.000000\n"
     ]
    },
    {
     "name": "stderr",
     "output_type": "stream",
     "text": [
      "Warning message in getsex(cross):\n",
      "\"127 individuals with missing sex; assuming they're female\"\n",
      "Warning message in fitqtlengine(pheno = pheno, qtl = qtl, covar = covar, formula = formula, :\n",
      "\"Dropping 102 individuals with missing phenotypes.\n",
      "\"\n",
      "Warning message in getsex(cross):\n",
      "\"127 individuals with missing sex; assuming they're female\"\n"
     ]
    },
    {
     "data": {
      "text/plain": [
       "\n",
       "\t\tfitqtl summary\n",
       "\n",
       "Method: Haley-Knott regression \n",
       "Model:  normal phenotype\n",
       "Number of observations : 194 \n",
       "\n",
       "Full model result\n",
       "----------------------------------  \n",
       "Model formula: y ~ Q1 \n",
       "\n",
       "       df        SS         MS      LOD     %var Pvalue(Chi2)    Pvalue(F)\n",
       "Model   1  329.9727 329.972662 12.98448 26.52503 1.054712e-14 1.554312e-14\n",
       "Error 192  914.0323   4.760585                                            \n",
       "Total 193 1244.0050                                                       \n",
       "\n",
       "\n",
       "Estimated effects:\n",
       "-----------------\n",
       "              est      SE      t\n",
       "Intercept  2.9020  0.1567 18.514\n",
       "16@12.0   -2.6433  0.3175 -8.325\n"
      ]
     },
     "metadata": {},
     "output_type": "display_data"
    }
   ],
   "source": [
    "p <- as.numeric(readline(\"Position for analysis: \"))\n",
    "qtl <- makeqtl(Map, chr = chr, pos = p, what=\"prob\") #pulls genotype probabilities\n",
    "fitqtl <- fitqtl(Map, pheno.col=colNum, qtl = qtl, covar=NULL,\n",
    "       method= \"hk\",model=\"normal\",\n",
    "       dropone=TRUE, get.ests=TRUE,run.checks=TRUE,\n",
    "       tol=1e-4, maxit=1000, forceXcovar=FALSE) #sees how well our data fits a given formula \n",
    "          # If you see \"error: object of type 'closure' is not subsettable\", remove \"formula,\" from the fitqtl argument list.\n",
    "summary(fitqtl) #Print results of the analysis"
   ]
  },
  {
   "cell_type": "code",
   "execution_count": 13,
   "metadata": {},
   "outputs": [
    {
     "name": "stdout",
     "output_type": "stream",
     "text": [
      "[1] \"Make sure to input names AS THEY APPEAR on the csv!!\"\n"
     ]
    },
    {
     "name": "stdin",
     "output_type": "stream",
     "text": [
      "Enter file name (Either FemaleMap.csv or MaleMap.csv):  MaleMap_2021_July14.csv\n",
      "First Genotype (homozygous) (For example ll):  nn\n",
      "Second Genotype (heterozygous) (for example lm):  np\n",
      "Column Number:  56\n"
     ]
    }
   ],
   "source": [
    "#Collecting enviroment variables\n",
    "print(\"Make sure to input names AS THEY APPEAR on the csv!!\") #Just a user warning\n",
    "fileName <- readline(\"Enter file name (Either FemaleMap.csv or MaleMap.csv): \") #Mapping table file\n",
    "genotypeName <- c(readline(\"First Genotype (homozygous) (For example ll): \"),\n",
    "                  readline(\"Second Genotype (heterozygous) (for example lm): \")) #For example \"nn\", \"np\"\n",
    "alleleName <- c(substr(genotypeName[2],1,1) ,substr(genotypeName[2],2,2))\n",
    "naNames <- c(\"NA\",\"--\") #For example \"NA\", \"--\"\n",
    "colNum <- as.numeric(readline(\"Column Number: \")) #Column for pheno of interest"
   ]
  },
  {
   "cell_type": "code",
   "execution_count": 14,
   "metadata": {},
   "outputs": [
    {
     "name": "stdout",
     "output_type": "stream",
     "text": [
      " --Read the following data:\n",
      "\t 294  individuals\n",
      "\t 1128  markers\n",
      "\t 61  phenotypes\n"
     ]
    },
    {
     "name": "stderr",
     "output_type": "stream",
     "text": [
      "Warning message in summary.cross(cross):\n",
      "\"Some markers at the same position on chr 1,3,4,5,6,7,8,9,10,12,13,14,15,16,17,18,19; use jittermap().\"\n"
     ]
    },
    {
     "name": "stdout",
     "output_type": "stream",
     "text": [
      " --Cross type: bc \n"
     ]
    },
    {
     "data": {
      "image/png": "[encoded data removed]",
      "text/plain": [
       "Plot with title \"Genetic map\""
      ]
     },
     "metadata": {
      "image/png": {
       "height": 420,
       "width": 420
      },
      "text/plain": {
       "height": 420,
       "width": 420
      }
     },
     "output_type": "display_data"
    }
   ],
   "source": [
    "#Map generation\n",
    "Map <- read.cross(format = 'csv',file = fileName \n",
    "                  ,genotypes = genotypeName,\n",
    "                  alleles = alleleName,na.strings = naNames) #generate linkage map\n",
    "Map <- jittermap(Map) #make sure no markers are in the same location\n",
    "Map <- calc.genoprob(Map,step = 1,map.function = \"kosambi\") #associate markers with full genotypes\n",
    "plot.map(Map) #draw linkage map"
   ]
  },
  {
   "cell_type": "code",
   "execution_count": 15,
   "metadata": {},
   "outputs": [
    {
     "data": {
      "image/png": "[encoded data removed]",
      "text/plain": [
       "Plot with title \"\""
      ]
     },
     "metadata": {
      "image/png": {
       "height": 420,
       "width": 420
      },
      "text/plain": {
       "height": 420,
       "width": 420
      }
     },
     "output_type": "display_data"
    }
   ],
   "source": [
    "plotNormalHistogram(Map$pheno[,colNum]) #normal histogram of pheno of interest"
   ]
  },
  {
   "cell_type": "markdown",
   "metadata": {},
   "source": [
    "Outliers exist in this data. "
   ]
  },
  {
   "cell_type": "code",
   "execution_count": 16,
   "metadata": {},
   "outputs": [
    {
     "data": {
      "text/plain": [
       "LOD thresholds (1000 permutations)\n",
       "   [,1]\n",
       "5% 4.07\n",
       "1% 4.92"
      ]
     },
     "metadata": {},
     "output_type": "display_data"
    },
    {
     "data": {
      "image/png": "[encoded data removed]",
      "text/plain": [
       "Plot with title \"\""
      ]
     },
     "metadata": {
      "image/png": {
       "height": 420,
       "width": 420
      },
      "text/plain": {
       "height": 420,
       "width": 420
      }
     },
     "output_type": "display_data"
    }
   ],
   "source": [
    "#Compute statistically significant values\n",
    "TraitCIM1000 <- cim(Map,pheno.col = colNum,method = \"hk\",\n",
    "                    map.function = \"kosambi\",n.perm = 1000) # Function will take a moment to run, determines LOD value\n",
    "plot(TraitCIM1000,col = 'green') #show distribution of lod scores\n",
    "summary(TraitCIM1000,alpha=c(.05,.01))"
   ]
  },
  {
   "cell_type": "code",
   "execution_count": 17,
   "metadata": {},
   "outputs": [
    {
     "name": "stdout",
     "output_type": "stream",
     "text": [
      "[1] \"If nothing shows up, the values \\n      are below the LOD5 score\"\n"
     ]
    },
    {
     "data": {
      "text/html": [
       "<table>\n",
       "<caption>A summary.scanone: 19 × 3</caption>\n",
       "<thead>\n",
       "\t<tr><th></th><th scope=col>chr</th><th scope=col>pos</th><th scope=col>lod</th></tr>\n",
       "\t<tr><th></th><th scope=col>&lt;fct&gt;</th><th scope=col>&lt;dbl&gt;</th><th scope=col>&lt;dbl&gt;</th></tr>\n",
       "</thead>\n",
       "<tbody>\n",
       "\t<tr><th scope=row>c1.loc15</th><td>1 </td><td>15.000000</td><td>1.2232005</td></tr>\n",
       "\t<tr><th scope=row>c2.loc31</th><td>2 </td><td>31.000000</td><td>1.6282572</td></tr>\n",
       "\t<tr><th scope=row>c3.loc20</th><td>3 </td><td>20.000000</td><td>1.9614387</td></tr>\n",
       "\t<tr><th scope=row>c4.loc14</th><td>4 </td><td>14.000000</td><td>3.6807887</td></tr>\n",
       "\t<tr><th scope=row>18_30393961</th><td>5 </td><td>21.536008</td><td>1.4703451</td></tr>\n",
       "\t<tr><th scope=row>c6.loc43</th><td>6 </td><td>43.000000</td><td>0.9870355</td></tr>\n",
       "\t<tr><th scope=row>c7.loc91</th><td>7 </td><td>91.000000</td><td>0.5267290</td></tr>\n",
       "\t<tr><th scope=row>c8.loc18</th><td>8 </td><td>18.000000</td><td>0.4842858</td></tr>\n",
       "\t<tr><th scope=row>9_4635879</th><td>9 </td><td>21.817015</td><td>0.5863722</td></tr>\n",
       "\t<tr><th scope=row>10_1368821</th><td>10</td><td> 5.836004</td><td>0.5993670</td></tr>\n",
       "\t<tr><th scope=row>c11.loc62</th><td>11</td><td>62.000000</td><td>1.5528221</td></tr>\n",
       "\t<tr><th scope=row>c12.loc38</th><td>12</td><td>38.000000</td><td>2.0445151</td></tr>\n",
       "\t<tr><th scope=row>c13.loc59</th><td>13</td><td>59.000000</td><td>1.3024528</td></tr>\n",
       "\t<tr><th scope=row>c14.loc49</th><td>14</td><td>49.000000</td><td>2.3156633</td></tr>\n",
       "\t<tr><th scope=row>c15.loc77</th><td>15</td><td>77.000000</td><td>1.5828644</td></tr>\n",
       "\t<tr><th scope=row>16_10372933</th><td>16</td><td>75.689039</td><td>0.8702917</td></tr>\n",
       "\t<tr><th scope=row>c17.loc29</th><td>17</td><td>29.000000</td><td>1.9796939</td></tr>\n",
       "\t<tr><th scope=row>18_11058645</th><td>18</td><td>47.670026</td><td>0.4093728</td></tr>\n",
       "\t<tr><th scope=row>19_6173411</th><td>19</td><td>29.660022</td><td>1.3300745</td></tr>\n",
       "</tbody>\n",
       "</table>\n"
      ],
      "text/latex": [
       "A summary.scanone: 19 × 3\n",
       "\\begin{tabular}{r|lll}\n",
       "  & chr & pos & lod\\\\\n",
       "  & <fct> & <dbl> & <dbl>\\\\\n",
       "\\hline\n",
       "\tc1.loc15 & 1  & 15.000000 & 1.2232005\\\\\n",
       "\tc2.loc31 & 2  & 31.000000 & 1.6282572\\\\\n",
       "\tc3.loc20 & 3  & 20.000000 & 1.9614387\\\\\n",
       "\tc4.loc14 & 4  & 14.000000 & 3.6807887\\\\\n",
       "\t18\\_30393961 & 5  & 21.536008 & 1.4703451\\\\\n",
       "\tc6.loc43 & 6  & 43.000000 & 0.9870355\\\\\n",
       "\tc7.loc91 & 7  & 91.000000 & 0.5267290\\\\\n",
       "\tc8.loc18 & 8  & 18.000000 & 0.4842858\\\\\n",
       "\t9\\_4635879 & 9  & 21.817015 & 0.5863722\\\\\n",
       "\t10\\_1368821 & 10 &  5.836004 & 0.5993670\\\\\n",
       "\tc11.loc62 & 11 & 62.000000 & 1.5528221\\\\\n",
       "\tc12.loc38 & 12 & 38.000000 & 2.0445151\\\\\n",
       "\tc13.loc59 & 13 & 59.000000 & 1.3024528\\\\\n",
       "\tc14.loc49 & 14 & 49.000000 & 2.3156633\\\\\n",
       "\tc15.loc77 & 15 & 77.000000 & 1.5828644\\\\\n",
       "\t16\\_10372933 & 16 & 75.689039 & 0.8702917\\\\\n",
       "\tc17.loc29 & 17 & 29.000000 & 1.9796939\\\\\n",
       "\t18\\_11058645 & 18 & 47.670026 & 0.4093728\\\\\n",
       "\t19\\_6173411 & 19 & 29.660022 & 1.3300745\\\\\n",
       "\\end{tabular}\n"
      ],
      "text/markdown": [
       "\n",
       "A summary.scanone: 19 × 3\n",
       "\n",
       "| <!--/--> | chr &lt;fct&gt; | pos &lt;dbl&gt; | lod &lt;dbl&gt; |\n",
       "|---|---|---|---|\n",
       "| c1.loc15 | 1  | 15.000000 | 1.2232005 |\n",
       "| c2.loc31 | 2  | 31.000000 | 1.6282572 |\n",
       "| c3.loc20 | 3  | 20.000000 | 1.9614387 |\n",
       "| c4.loc14 | 4  | 14.000000 | 3.6807887 |\n",
       "| 18_30393961 | 5  | 21.536008 | 1.4703451 |\n",
       "| c6.loc43 | 6  | 43.000000 | 0.9870355 |\n",
       "| c7.loc91 | 7  | 91.000000 | 0.5267290 |\n",
       "| c8.loc18 | 8  | 18.000000 | 0.4842858 |\n",
       "| 9_4635879 | 9  | 21.817015 | 0.5863722 |\n",
       "| 10_1368821 | 10 |  5.836004 | 0.5993670 |\n",
       "| c11.loc62 | 11 | 62.000000 | 1.5528221 |\n",
       "| c12.loc38 | 12 | 38.000000 | 2.0445151 |\n",
       "| c13.loc59 | 13 | 59.000000 | 1.3024528 |\n",
       "| c14.loc49 | 14 | 49.000000 | 2.3156633 |\n",
       "| c15.loc77 | 15 | 77.000000 | 1.5828644 |\n",
       "| 16_10372933 | 16 | 75.689039 | 0.8702917 |\n",
       "| c17.loc29 | 17 | 29.000000 | 1.9796939 |\n",
       "| 18_11058645 | 18 | 47.670026 | 0.4093728 |\n",
       "| 19_6173411 | 19 | 29.660022 | 1.3300745 |\n",
       "\n"
      ],
      "text/plain": [
       "            chr pos       lod      \n",
       "c1.loc15    1   15.000000 1.2232005\n",
       "c2.loc31    2   31.000000 1.6282572\n",
       "c3.loc20    3   20.000000 1.9614387\n",
       "c4.loc14    4   14.000000 3.6807887\n",
       "18_30393961 5   21.536008 1.4703451\n",
       "c6.loc43    6   43.000000 0.9870355\n",
       "c7.loc91    7   91.000000 0.5267290\n",
       "c8.loc18    8   18.000000 0.4842858\n",
       "9_4635879   9   21.817015 0.5863722\n",
       "10_1368821  10   5.836004 0.5993670\n",
       "c11.loc62   11  62.000000 1.5528221\n",
       "c12.loc38   12  38.000000 2.0445151\n",
       "c13.loc59   13  59.000000 1.3024528\n",
       "c14.loc49   14  49.000000 2.3156633\n",
       "c15.loc77   15  77.000000 1.5828644\n",
       "16_10372933 16  75.689039 0.8702917\n",
       "c17.loc29   17  29.000000 1.9796939\n",
       "18_11058645 18  47.670026 0.4093728\n",
       "19_6173411  19  29.660022 1.3300745"
      ]
     },
     "metadata": {},
     "output_type": "display_data"
    },
    {
     "data": {
      "image/png": "[encoded data removed]",
      "text/plain": [
       "plot without title"
      ]
     },
     "metadata": {
      "image/png": {
       "height": 420,
       "width": 420
      },
      "text/plain": {
       "height": 420,
       "width": 420
      }
     },
     "output_type": "display_data"
    }
   ],
   "source": [
    "#Deterime LOD Values\n",
    "TraitCIM<-cim(Map,pheno.col = colNum,method = \"hk\",\n",
    "              map.function = \"kosambi\") #Generate LOD Values\n",
    "plot(TraitCIM) #show LOD graph\n",
    "abline(h = LOD5,col = \"blue\") #overlay statistically significant line\n",
    "print(\"If nothing shows up, the values \n",
    "      are below the LOD5 score\") #warning for no peaks\n",
    "summary(TraitCIM)"
   ]
  },
  {
   "cell_type": "code",
   "execution_count": 18,
   "metadata": {},
   "outputs": [
    {
     "name": "stdin",
     "output_type": "stream",
     "text": [
      "Chromosome?  4\n"
     ]
    },
    {
     "data": {
      "image/png": "[encoded data removed]",
      "text/plain": [
       "plot without title"
      ]
     },
     "metadata": {
      "image/png": {
       "height": 420,
       "width": 420
      },
      "text/plain": {
       "height": 420,
       "width": 420
      }
     },
     "output_type": "display_data"
    }
   ],
   "source": [
    "#Chromosomal Analysis\n",
    "chr <- as.numeric(readline(\"Chromosome? \")) #collect chromosome to look at\n",
    "plot(TraitCIM, chr = chr,xlab = c(\"chr\",chr)) #Plot chr LOD scores\n",
    "abline(h = LOD5, col = \"blue\") #Statistically Significant"
   ]
  },
  {
   "cell_type": "code",
   "execution_count": 19,
   "metadata": {},
   "outputs": [
    {
     "data": {
      "text/html": [
       "<table>\n",
       "<caption>A scanone: 3 × 3</caption>\n",
       "<thead>\n",
       "\t<tr><th></th><th scope=col>chr</th><th scope=col>pos</th><th scope=col>lod</th></tr>\n",
       "\t<tr><th></th><th scope=col>&lt;fct&gt;</th><th scope=col>&lt;dbl&gt;</th><th scope=col>&lt;dbl&gt;</th></tr>\n",
       "</thead>\n",
       "<tbody>\n",
       "\t<tr><th scope=row>4_2007592</th><td>4</td><td> 7.853008</td><td>0.0152197</td></tr>\n",
       "\t<tr><th scope=row>c4.loc14</th><td>4</td><td>14.000000</td><td>3.6807887</td></tr>\n",
       "\t<tr><th scope=row>4_3902010</th><td>4</td><td>15.081015</td><td>1.1711936</td></tr>\n",
       "</tbody>\n",
       "</table>\n"
      ],
      "text/latex": [
       "A scanone: 3 × 3\n",
       "\\begin{tabular}{r|lll}\n",
       "  & chr & pos & lod\\\\\n",
       "  & <fct> & <dbl> & <dbl>\\\\\n",
       "\\hline\n",
       "\t4\\_2007592 & 4 &  7.853008 & 0.0152197\\\\\n",
       "\tc4.loc14 & 4 & 14.000000 & 3.6807887\\\\\n",
       "\t4\\_3902010 & 4 & 15.081015 & 1.1711936\\\\\n",
       "\\end{tabular}\n"
      ],
      "text/markdown": [
       "\n",
       "A scanone: 3 × 3\n",
       "\n",
       "| <!--/--> | chr &lt;fct&gt; | pos &lt;dbl&gt; | lod &lt;dbl&gt; |\n",
       "|---|---|---|---|\n",
       "| 4_2007592 | 4 |  7.853008 | 0.0152197 |\n",
       "| c4.loc14 | 4 | 14.000000 | 3.6807887 |\n",
       "| 4_3902010 | 4 | 15.081015 | 1.1711936 |\n",
       "\n"
      ],
      "text/plain": [
       "          chr pos       lod      \n",
       "4_2007592 4    7.853008 0.0152197\n",
       "c4.loc14  4   14.000000 3.6807887\n",
       "4_3902010 4   15.081015 1.1711936"
      ]
     },
     "metadata": {},
     "output_type": "display_data"
    },
    {
     "data": {
      "text/html": [
       "<table>\n",
       "<caption>A scanone: 3 × 3</caption>\n",
       "<thead>\n",
       "\t<tr><th></th><th scope=col>chr</th><th scope=col>pos</th><th scope=col>lod</th></tr>\n",
       "\t<tr><th></th><th scope=col>&lt;fct&gt;</th><th scope=col>&lt;dbl&gt;</th><th scope=col>&lt;dbl&gt;</th></tr>\n",
       "</thead>\n",
       "<tbody>\n",
       "\t<tr><th scope=row>4_2007592</th><td>4</td><td> 7.853008</td><td>0.0152197</td></tr>\n",
       "\t<tr><th scope=row>c4.loc14</th><td>4</td><td>14.000000</td><td>3.6807887</td></tr>\n",
       "\t<tr><th scope=row>4_3902010</th><td>4</td><td>15.081015</td><td>1.1711936</td></tr>\n",
       "</tbody>\n",
       "</table>\n"
      ],
      "text/latex": [
       "A scanone: 3 × 3\n",
       "\\begin{tabular}{r|lll}\n",
       "  & chr & pos & lod\\\\\n",
       "  & <fct> & <dbl> & <dbl>\\\\\n",
       "\\hline\n",
       "\t4\\_2007592 & 4 &  7.853008 & 0.0152197\\\\\n",
       "\tc4.loc14 & 4 & 14.000000 & 3.6807887\\\\\n",
       "\t4\\_3902010 & 4 & 15.081015 & 1.1711936\\\\\n",
       "\\end{tabular}\n"
      ],
      "text/markdown": [
       "\n",
       "A scanone: 3 × 3\n",
       "\n",
       "| <!--/--> | chr &lt;fct&gt; | pos &lt;dbl&gt; | lod &lt;dbl&gt; |\n",
       "|---|---|---|---|\n",
       "| 4_2007592 | 4 |  7.853008 | 0.0152197 |\n",
       "| c4.loc14 | 4 | 14.000000 | 3.6807887 |\n",
       "| 4_3902010 | 4 | 15.081015 | 1.1711936 |\n",
       "\n"
      ],
      "text/plain": [
       "          chr pos       lod      \n",
       "4_2007592 4    7.853008 0.0152197\n",
       "c4.loc14  4   14.000000 3.6807887\n",
       "4_3902010 4   15.081015 1.1711936"
      ]
     },
     "metadata": {},
     "output_type": "display_data"
    }
   ],
   "source": [
    "bayesint(TraitCIM, chr = chr, prob=0.95, expandtomarkers=TRUE) #calculate bayesian interval\n",
    "lodint(TraitCIM, chr = chr,expandtomarkers = TRUE ) #calculate LOD Support interval"
   ]
  },
  {
   "cell_type": "code",
   "execution_count": 20,
   "metadata": {},
   "outputs": [
    {
     "name": "stdin",
     "output_type": "stream",
     "text": [
      "Position for analysis:  14.000000\n"
     ]
    },
    {
     "name": "stderr",
     "output_type": "stream",
     "text": [
      "Warning message in getsex(cross):\n",
      "\"125 individuals with missing sex; assuming they're female\"\n",
      "Warning message in fitqtlengine(pheno = pheno, qtl = qtl, covar = covar, formula = formula, :\n",
      "\"Dropping 100 individuals with missing phenotypes.\n",
      "\"\n",
      "Warning message in getsex(cross):\n",
      "\"125 individuals with missing sex; assuming they're female\"\n"
     ]
    },
    {
     "data": {
      "text/plain": [
       "\n",
       "\t\tfitqtl summary\n",
       "\n",
       "Method: Haley-Knott regression \n",
       "Model:  normal phenotype\n",
       "Number of observations : 194 \n",
       "\n",
       "Full model result\n",
       "----------------------------------  \n",
       "Model formula: y ~ Q1 \n",
       "\n",
       "       df         SS        MS     LOD     %var Pvalue(Chi2)    Pvalue(F)\n",
       "Model   1   98.79721 98.797211 3.48597 7.941866  6.15782e-05 6.867717e-05\n",
       "Error 192 1145.20776  5.964624                                           \n",
       "Total 193 1244.00497                                                     \n",
       "\n",
       "\n",
       "Estimated effects:\n",
       "-----------------\n",
       "              est      SE     t\n",
       "Intercept  2.9067  0.1758 16.54\n",
       "4@14.0    -2.1698  0.5331 -4.07\n"
      ]
     },
     "metadata": {},
     "output_type": "display_data"
    }
   ],
   "source": [
    "p <- as.numeric(readline(\"Position for analysis: \"))\n",
    "qtl <- makeqtl(Map, chr = chr, pos = p, what=\"prob\") #pulls genotype probabilities\n",
    "fitqtl <- fitqtl(Map, pheno.col=colNum, qtl = qtl, covar=NULL,\n",
    "       method= \"hk\",model=\"normal\",\n",
    "       dropone=TRUE, get.ests=TRUE,run.checks=TRUE,\n",
    "       tol=1e-4, maxit=1000, forceXcovar=FALSE) #sees how well our data fits a given formula \n",
    "          # If you see \"error: object of type 'closure' is not subsettable\", remove \"formula,\" from the fitqtl argument list.\n",
    "summary(fitqtl) #Print results of the analysis"
   ]
  },
  {
   "cell_type": "code",
   "execution_count": null,
   "metadata": {},
   "outputs": [],
   "source": []
  }
 ],
 "metadata": {
  "kernelspec": {
   "display_name": "R",
   "language": "R",
   "name": "ir"
  },
  "language_info": {
   "codemirror_mode": "r",
   "file_extension": ".r",
   "mimetype": "text/x-r-source",
   "name": "R",
   "pygments_lexer": "r",
   "version": "3.6.3"
  }
 },
 "nbformat": 4,
 "nbformat_minor": 4
}
