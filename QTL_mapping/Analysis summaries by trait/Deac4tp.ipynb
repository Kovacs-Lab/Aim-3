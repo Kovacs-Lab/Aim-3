{
 "cells": [
  {
   "cell_type": "markdown",
   "metadata": {},
   "source": [
    "This analysis is in the order of Female then Male"
   ]
  },
  {
   "cell_type": "code",
   "execution_count": 1,
   "metadata": {},
   "outputs": [
    {
     "name": "stderr",
     "output_type": "stream",
     "text": [
      "Installing package into 'C:/Users/Courtney/Documents/R/win-library/3.6'\n",
      "(as 'lib' is unspecified)\n",
      "\n"
     ]
    },
    {
     "name": "stdout",
     "output_type": "stream",
     "text": [
      "package 'qtl' successfully unpacked and MD5 sums checked\n"
     ]
    },
    {
     "name": "stderr",
     "output_type": "stream",
     "text": [
      "Warning message:\n",
      "\"cannot remove prior installation of package 'qtl'\"\n",
      "Warning message in file.copy(savedcopy, lib, recursive = TRUE):\n",
      "\"problem copying C:\\Users\\Courtney\\Documents\\R\\win-library\\3.6\\00LOCK\\qtl\\libs\\x64\\qtl.dll to C:\\Users\\Courtney\\Documents\\R\\win-library\\3.6\\qtl\\libs\\x64\\qtl.dll: Permission denied\"\n",
      "Warning message:\n",
      "\"restored 'qtl'\"\n"
     ]
    },
    {
     "name": "stdout",
     "output_type": "stream",
     "text": [
      "\n",
      "The downloaded binary packages are in\n",
      "\tC:\\Users\\Courtney\\AppData\\Local\\Temp\\RtmpqOm8vJ\\downloaded_packages\n"
     ]
    },
    {
     "name": "stderr",
     "output_type": "stream",
     "text": [
      "Installing package into 'C:/Users/Courtney/Documents/R/win-library/3.6'\n",
      "(as 'lib' is unspecified)\n",
      "\n"
     ]
    },
    {
     "name": "stdout",
     "output_type": "stream",
     "text": [
      "package 'qtlcharts' successfully unpacked and MD5 sums checked\n",
      "\n",
      "The downloaded binary packages are in\n",
      "\tC:\\Users\\Courtney\\AppData\\Local\\Temp\\RtmpqOm8vJ\\downloaded_packages\n"
     ]
    },
    {
     "name": "stderr",
     "output_type": "stream",
     "text": [
      "Installing package into 'C:/Users/Courtney/Documents/R/win-library/3.6'\n",
      "(as 'lib' is unspecified)\n",
      "\n"
     ]
    },
    {
     "name": "stdout",
     "output_type": "stream",
     "text": [
      "package 'LinkageMapView' successfully unpacked and MD5 sums checked\n",
      "\n",
      "The downloaded binary packages are in\n",
      "\tC:\\Users\\Courtney\\AppData\\Local\\Temp\\RtmpqOm8vJ\\downloaded_packages\n"
     ]
    },
    {
     "name": "stderr",
     "output_type": "stream",
     "text": [
      "Installing package into 'C:/Users/Courtney/Documents/R/win-library/3.6'\n",
      "(as 'lib' is unspecified)\n",
      "\n"
     ]
    },
    {
     "name": "stdout",
     "output_type": "stream",
     "text": [
      "package 'rcompanion' successfully unpacked and MD5 sums checked\n",
      "\n",
      "The downloaded binary packages are in\n",
      "\tC:\\Users\\Courtney\\AppData\\Local\\Temp\\RtmpqOm8vJ\\downloaded_packages\n"
     ]
    }
   ],
   "source": [
    "install.packages('qtl') #Main package, for analysis\n",
    "install.packages('qtlcharts') #accessory, for displaying graphs\n",
    "install.packages('LinkageMapView') #accessory, for displaying linkage maps\n",
    "install.packages('rcompanion')# for plotNormalHistogram"
   ]
  },
  {
   "cell_type": "code",
   "execution_count": 2,
   "metadata": {},
   "outputs": [],
   "source": [
    "library(qtl) #load packages\n",
    "library(qtlcharts)\n",
    "library(LinkageMapView)\n",
    "library(rcompanion)"
   ]
  },
  {
   "cell_type": "code",
   "execution_count": 3,
   "metadata": {},
   "outputs": [
    {
     "name": "stdout",
     "output_type": "stream",
     "text": [
      "[1] \"Make sure to input names AS THEY APPEAR on the csv!!\"\n"
     ]
    },
    {
     "name": "stdin",
     "output_type": "stream",
     "text": [
      "Enter file name (Either FemaleMap.csv or MaleMap.csv):  FemaleMap_Field2020.csv\n",
      "First Genotype (homozygous) (For example ll):  ll\n",
      "Second Genotype (heterozygous) (for example lm):  lm\n",
      "Column Number:  53\n"
     ]
    }
   ],
   "source": [
    "#Collecting enviroment variables\n",
    "print(\"Make sure to input names AS THEY APPEAR on the csv!!\") #Just a user warning\n",
    "fileName <- readline(\"Enter file name (Either FemaleMap.csv or MaleMap.csv): \") #Mapping table file\n",
    "genotypeName <- c(readline(\"First Genotype (homozygous) (For example ll): \"),\n",
    "                  readline(\"Second Genotype (heterozygous) (for example lm): \")) #For example \"nn\", \"np\"\n",
    "alleleName <- c(substr(genotypeName[2],1,1) ,substr(genotypeName[2],2,2))\n",
    "naNames <- c(\"NA\",\"--\") #For example \"NA\", \"--\"\n",
    "colNum <- as.numeric(readline(\"Column Number: \")) #Column for pheno of interest"
   ]
  },
  {
   "cell_type": "code",
   "execution_count": 4,
   "metadata": {},
   "outputs": [
    {
     "name": "stdout",
     "output_type": "stream",
     "text": [
      " --Read the following data:\n",
      "\t 294  individuals\n",
      "\t 1100  markers\n",
      "\t 54  phenotypes\n"
     ]
    },
    {
     "name": "stderr",
     "output_type": "stream",
     "text": [
      "Warning message in summary.cross(cross):\n",
      "\"Some markers at the same position on chr 1,2,4,5,7,8,9,10,11,12,13,14,16,17,18,19; use jittermap().\"\n"
     ]
    },
    {
     "name": "stdout",
     "output_type": "stream",
     "text": [
      " --Cross type: bc \n"
     ]
    },
    {
     "data": {
      "image/png": "[encoded data removed]",
      "text/plain": [
       "Plot with title \"Genetic map\""
      ]
     },
     "metadata": {
      "image/png": {
       "height": 420,
       "width": 420
      },
      "text/plain": {
       "height": 420,
       "width": 420
      }
     },
     "output_type": "display_data"
    }
   ],
   "source": [
    "#Map generation\n",
    "Map <- read.cross(format = 'csv',file = fileName \n",
    "                  ,genotypes = genotypeName,\n",
    "                  alleles = alleleName,na.strings = naNames) #generate linkage map\n",
    "Map <- jittermap(Map) #make sure no markers are in the same location\n",
    "Map <- calc.genoprob(Map,step = 1,map.function = \"kosambi\") #associate markers with full genotypes\n",
    "plot.map(Map) #draw linkage map"
   ]
  },
  {
   "cell_type": "code",
   "execution_count": 5,
   "metadata": {},
   "outputs": [
    {
     "data": {
      "image/png": "[encoded data removed]",
      "text/plain": [
       "Plot with title \"\""
      ]
     },
     "metadata": {
      "image/png": {
       "height": 420,
       "width": 420
      },
      "text/plain": {
       "height": 420,
       "width": 420
      }
     },
     "output_type": "display_data"
    }
   ],
   "source": [
    "plotNormalHistogram(Map$pheno[,colNum]) #normal histogram of pheno of interest"
   ]
  },
  {
   "cell_type": "markdown",
   "metadata": {},
   "source": [
    "Outliers exist in this dataset. Will need to be analyized. "
   ]
  },
  {
   "cell_type": "code",
   "execution_count": 6,
   "metadata": {},
   "outputs": [
    {
     "data": {
      "text/plain": [
       "LOD thresholds (1000 permutations)\n",
       "   [,1]\n",
       "5% 4.36\n",
       "1% 5.83"
      ]
     },
     "metadata": {},
     "output_type": "display_data"
    },
    {
     "data": {
      "image/png": "[encoded data removed]",
      "text/plain": [
       "Plot with title \"\""
      ]
     },
     "metadata": {
      "image/png": {
       "height": 420,
       "width": 420
      },
      "text/plain": {
       "height": 420,
       "width": 420
      }
     },
     "output_type": "display_data"
    }
   ],
   "source": [
    "#Compute statistically significant values\n",
    "TraitCIM1000 <- cim(Map,pheno.col = colNum,method = \"hk\",\n",
    "                    map.function = \"kosambi\",n.perm = 1000) # Function will take a moment to run, determines LOD value\n",
    "plot(TraitCIM1000,col = 'green') #show distribution of lod scores\n",
    "summary(TraitCIM1000,alpha=c(.05,.01))"
   ]
  },
  {
   "cell_type": "code",
   "execution_count": 7,
   "metadata": {},
   "outputs": [
    {
     "name": "stdout",
     "output_type": "stream",
     "text": [
      "[1] \"If nothing shows up, the values \\n      are below the LOD5 score\"\n"
     ]
    },
    {
     "data": {
      "text/html": [
       "<table>\n",
       "<caption>A summary.scanone: 19 × 3</caption>\n",
       "<thead>\n",
       "\t<tr><th></th><th scope=col>chr</th><th scope=col>pos</th><th scope=col>lod</th></tr>\n",
       "\t<tr><th></th><th scope=col>&lt;fct&gt;</th><th scope=col>&lt;dbl&gt;</th><th scope=col>&lt;dbl&gt;</th></tr>\n",
       "</thead>\n",
       "<tbody>\n",
       "\t<tr><th scope=row>c1.loc5</th><td>1 </td><td> 5.000000</td><td>0.5382488</td></tr>\n",
       "\t<tr><th scope=row>c2.loc31</th><td>2 </td><td>31.000000</td><td>2.4337096</td></tr>\n",
       "\t<tr><th scope=row>3_9044978</th><td>3 </td><td>50.193044</td><td>2.4144777</td></tr>\n",
       "\t<tr><th scope=row>c4.loc50</th><td>4 </td><td>50.000000</td><td>2.6055287</td></tr>\n",
       "\t<tr><th scope=row>c5.loc58</th><td>5 </td><td>58.000000</td><td>2.9333897</td></tr>\n",
       "\t<tr><th scope=row>6_2687012</th><td>6 </td><td> 9.130006</td><td>1.2801017</td></tr>\n",
       "\t<tr><th scope=row>7_21352302</th><td>7 </td><td>68.536082</td><td>0.6235700</td></tr>\n",
       "\t<tr><th scope=row>c8.loc58</th><td>8 </td><td>58.000000</td><td>0.8459643</td></tr>\n",
       "\t<tr><th scope=row>c9.loc7</th><td>9 </td><td> 7.000000</td><td>1.2848991</td></tr>\n",
       "\t<tr><th scope=row>c10.loc41</th><td>10</td><td>41.000000</td><td>0.4365795</td></tr>\n",
       "\t<tr><th scope=row>11_19116758</th><td>11</td><td>62.704043</td><td>2.0675606</td></tr>\n",
       "\t<tr><th scope=row>c12.loc47</th><td>12</td><td>47.000000</td><td>1.5196900</td></tr>\n",
       "\t<tr><th scope=row>c13.loc8</th><td>13</td><td> 8.000000</td><td>0.9697778</td></tr>\n",
       "\t<tr><th scope=row>c14.loc36</th><td>14</td><td>36.000000</td><td>1.5937572</td></tr>\n",
       "\t<tr><th scope=row>c15.loc47</th><td>15</td><td>47.000000</td><td>1.7165213</td></tr>\n",
       "\t<tr><th scope=row>c16.loc55</th><td>16</td><td>55.000000</td><td>0.4773456</td></tr>\n",
       "\t<tr><th scope=row>17_3326415</th><td>17</td><td>11.061007</td><td>3.0463488</td></tr>\n",
       "\t<tr><th scope=row>c18.loc60</th><td>18</td><td>60.000000</td><td>1.0083192</td></tr>\n",
       "\t<tr><th scope=row>19_18512448</th><td>19</td><td>53.440066</td><td>0.7581281</td></tr>\n",
       "</tbody>\n",
       "</table>\n"
      ],
      "text/latex": [
       "A summary.scanone: 19 × 3\n",
       "\\begin{tabular}{r|lll}\n",
       "  & chr & pos & lod\\\\\n",
       "  & <fct> & <dbl> & <dbl>\\\\\n",
       "\\hline\n",
       "\tc1.loc5 & 1  &  5.000000 & 0.5382488\\\\\n",
       "\tc2.loc31 & 2  & 31.000000 & 2.4337096\\\\\n",
       "\t3\\_9044978 & 3  & 50.193044 & 2.4144777\\\\\n",
       "\tc4.loc50 & 4  & 50.000000 & 2.6055287\\\\\n",
       "\tc5.loc58 & 5  & 58.000000 & 2.9333897\\\\\n",
       "\t6\\_2687012 & 6  &  9.130006 & 1.2801017\\\\\n",
       "\t7\\_21352302 & 7  & 68.536082 & 0.6235700\\\\\n",
       "\tc8.loc58 & 8  & 58.000000 & 0.8459643\\\\\n",
       "\tc9.loc7 & 9  &  7.000000 & 1.2848991\\\\\n",
       "\tc10.loc41 & 10 & 41.000000 & 0.4365795\\\\\n",
       "\t11\\_19116758 & 11 & 62.704043 & 2.0675606\\\\\n",
       "\tc12.loc47 & 12 & 47.000000 & 1.5196900\\\\\n",
       "\tc13.loc8 & 13 &  8.000000 & 0.9697778\\\\\n",
       "\tc14.loc36 & 14 & 36.000000 & 1.5937572\\\\\n",
       "\tc15.loc47 & 15 & 47.000000 & 1.7165213\\\\\n",
       "\tc16.loc55 & 16 & 55.000000 & 0.4773456\\\\\n",
       "\t17\\_3326415 & 17 & 11.061007 & 3.0463488\\\\\n",
       "\tc18.loc60 & 18 & 60.000000 & 1.0083192\\\\\n",
       "\t19\\_18512448 & 19 & 53.440066 & 0.7581281\\\\\n",
       "\\end{tabular}\n"
      ],
      "text/markdown": [
       "\n",
       "A summary.scanone: 19 × 3\n",
       "\n",
       "| <!--/--> | chr &lt;fct&gt; | pos &lt;dbl&gt; | lod &lt;dbl&gt; |\n",
       "|---|---|---|---|\n",
       "| c1.loc5 | 1  |  5.000000 | 0.5382488 |\n",
       "| c2.loc31 | 2  | 31.000000 | 2.4337096 |\n",
       "| 3_9044978 | 3  | 50.193044 | 2.4144777 |\n",
       "| c4.loc50 | 4  | 50.000000 | 2.6055287 |\n",
       "| c5.loc58 | 5  | 58.000000 | 2.9333897 |\n",
       "| 6_2687012 | 6  |  9.130006 | 1.2801017 |\n",
       "| 7_21352302 | 7  | 68.536082 | 0.6235700 |\n",
       "| c8.loc58 | 8  | 58.000000 | 0.8459643 |\n",
       "| c9.loc7 | 9  |  7.000000 | 1.2848991 |\n",
       "| c10.loc41 | 10 | 41.000000 | 0.4365795 |\n",
       "| 11_19116758 | 11 | 62.704043 | 2.0675606 |\n",
       "| c12.loc47 | 12 | 47.000000 | 1.5196900 |\n",
       "| c13.loc8 | 13 |  8.000000 | 0.9697778 |\n",
       "| c14.loc36 | 14 | 36.000000 | 1.5937572 |\n",
       "| c15.loc47 | 15 | 47.000000 | 1.7165213 |\n",
       "| c16.loc55 | 16 | 55.000000 | 0.4773456 |\n",
       "| 17_3326415 | 17 | 11.061007 | 3.0463488 |\n",
       "| c18.loc60 | 18 | 60.000000 | 1.0083192 |\n",
       "| 19_18512448 | 19 | 53.440066 | 0.7581281 |\n",
       "\n"
      ],
      "text/plain": [
       "            chr pos       lod      \n",
       "c1.loc5     1    5.000000 0.5382488\n",
       "c2.loc31    2   31.000000 2.4337096\n",
       "3_9044978   3   50.193044 2.4144777\n",
       "c4.loc50    4   50.000000 2.6055287\n",
       "c5.loc58    5   58.000000 2.9333897\n",
       "6_2687012   6    9.130006 1.2801017\n",
       "7_21352302  7   68.536082 0.6235700\n",
       "c8.loc58    8   58.000000 0.8459643\n",
       "c9.loc7     9    7.000000 1.2848991\n",
       "c10.loc41   10  41.000000 0.4365795\n",
       "11_19116758 11  62.704043 2.0675606\n",
       "c12.loc47   12  47.000000 1.5196900\n",
       "c13.loc8    13   8.000000 0.9697778\n",
       "c14.loc36   14  36.000000 1.5937572\n",
       "c15.loc47   15  47.000000 1.7165213\n",
       "c16.loc55   16  55.000000 0.4773456\n",
       "17_3326415  17  11.061007 3.0463488\n",
       "c18.loc60   18  60.000000 1.0083192\n",
       "19_18512448 19  53.440066 0.7581281"
      ]
     },
     "metadata": {},
     "output_type": "display_data"
    },
    {
     "data": {
      "image/png": "[encoded data removed]",
      "text/plain": [
       "plot without title"
      ]
     },
     "metadata": {
      "image/png": {
       "height": 420,
       "width": 420
      },
      "text/plain": {
       "height": 420,
       "width": 420
      }
     },
     "output_type": "display_data"
    }
   ],
   "source": [
    "#Deterime LOD Values\n",
    "LOD5 <- summary(TraitCIM1000,alpha=c(.05))\n",
    "TraitCIM<-cim(Map,pheno.col = colNum,method = \"hk\",\n",
    "              map.function = \"kosambi\") #Generate LOD Values\n",
    "plot(TraitCIM) #show LOD graph\n",
    "abline(h = LOD5,col = \"blue\") #overlay statistically significant line\n",
    "print(\"If nothing shows up, the values \n",
    "      are below the LOD5 score\") #warning for no peaks\n",
    "summary(TraitCIM)\n",
    "write.csv(TraitCIM,\"PHENOTYPE_table.csv\")"
   ]
  },
  {
   "cell_type": "code",
   "execution_count": 8,
   "metadata": {},
   "outputs": [
    {
     "name": "stdin",
     "output_type": "stream",
     "text": [
      "Chromosome?  17\n"
     ]
    },
    {
     "data": {
      "image/png": "[encoded data removed]",
      "text/plain": [
       "plot without title"
      ]
     },
     "metadata": {
      "image/png": {
       "height": 420,
       "width": 420
      },
      "text/plain": {
       "height": 420,
       "width": 420
      }
     },
     "output_type": "display_data"
    }
   ],
   "source": [
    "#Chromosomal Analysis\n",
    "chr <- as.numeric(readline(\"Chromosome? \")) #collect chromosome to look at\n",
    "plot(TraitCIM, chr = chr,xlab = c(\"chr\",chr)) #Plot chr LOD scores\n",
    "abline(h = LOD5, col = \"blue\") #Statistically Significant"
   ]
  },
  {
   "cell_type": "code",
   "execution_count": 9,
   "metadata": {},
   "outputs": [
    {
     "data": {
      "text/html": [
       "<table>\n",
       "<caption>A scanone: 3 × 3</caption>\n",
       "<thead>\n",
       "\t<tr><th></th><th scope=col>chr</th><th scope=col>pos</th><th scope=col>lod</th></tr>\n",
       "\t<tr><th></th><th scope=col>&lt;fct&gt;</th><th scope=col>&lt;dbl&gt;</th><th scope=col>&lt;dbl&gt;</th></tr>\n",
       "</thead>\n",
       "<tbody>\n",
       "\t<tr><th scope=row>17_1975198</th><td>17</td><td> 3.267002</td><td>2.2613535</td></tr>\n",
       "\t<tr><th scope=row>17_3326415</th><td>17</td><td>11.061007</td><td>3.0463488</td></tr>\n",
       "\t<tr><th scope=row>17_4680459</th><td>17</td><td>20.807008</td><td>0.4750199</td></tr>\n",
       "</tbody>\n",
       "</table>\n"
      ],
      "text/latex": [
       "A scanone: 3 × 3\n",
       "\\begin{tabular}{r|lll}\n",
       "  & chr & pos & lod\\\\\n",
       "  & <fct> & <dbl> & <dbl>\\\\\n",
       "\\hline\n",
       "\t17\\_1975198 & 17 &  3.267002 & 2.2613535\\\\\n",
       "\t17\\_3326415 & 17 & 11.061007 & 3.0463488\\\\\n",
       "\t17\\_4680459 & 17 & 20.807008 & 0.4750199\\\\\n",
       "\\end{tabular}\n"
      ],
      "text/markdown": [
       "\n",
       "A scanone: 3 × 3\n",
       "\n",
       "| <!--/--> | chr &lt;fct&gt; | pos &lt;dbl&gt; | lod &lt;dbl&gt; |\n",
       "|---|---|---|---|\n",
       "| 17_1975198 | 17 |  3.267002 | 2.2613535 |\n",
       "| 17_3326415 | 17 | 11.061007 | 3.0463488 |\n",
       "| 17_4680459 | 17 | 20.807008 | 0.4750199 |\n",
       "\n"
      ],
      "text/plain": [
       "           chr pos       lod      \n",
       "17_1975198 17   3.267002 2.2613535\n",
       "17_3326415 17  11.061007 3.0463488\n",
       "17_4680459 17  20.807008 0.4750199"
      ]
     },
     "metadata": {},
     "output_type": "display_data"
    },
    {
     "data": {
      "text/html": [
       "<table>\n",
       "<caption>A scanone: 3 × 3</caption>\n",
       "<thead>\n",
       "\t<tr><th></th><th scope=col>chr</th><th scope=col>pos</th><th scope=col>lod</th></tr>\n",
       "\t<tr><th></th><th scope=col>&lt;fct&gt;</th><th scope=col>&lt;dbl&gt;</th><th scope=col>&lt;dbl&gt;</th></tr>\n",
       "</thead>\n",
       "<tbody>\n",
       "\t<tr><th scope=row>17_1438660</th><td>17</td><td> 0.736001</td><td>0.01668306</td></tr>\n",
       "\t<tr><th scope=row>17_3326415</th><td>17</td><td>11.061007</td><td>3.04634879</td></tr>\n",
       "\t<tr><th scope=row>17_4680459</th><td>17</td><td>20.807008</td><td>0.47501989</td></tr>\n",
       "</tbody>\n",
       "</table>\n"
      ],
      "text/latex": [
       "A scanone: 3 × 3\n",
       "\\begin{tabular}{r|lll}\n",
       "  & chr & pos & lod\\\\\n",
       "  & <fct> & <dbl> & <dbl>\\\\\n",
       "\\hline\n",
       "\t17\\_1438660 & 17 &  0.736001 & 0.01668306\\\\\n",
       "\t17\\_3326415 & 17 & 11.061007 & 3.04634879\\\\\n",
       "\t17\\_4680459 & 17 & 20.807008 & 0.47501989\\\\\n",
       "\\end{tabular}\n"
      ],
      "text/markdown": [
       "\n",
       "A scanone: 3 × 3\n",
       "\n",
       "| <!--/--> | chr &lt;fct&gt; | pos &lt;dbl&gt; | lod &lt;dbl&gt; |\n",
       "|---|---|---|---|\n",
       "| 17_1438660 | 17 |  0.736001 | 0.01668306 |\n",
       "| 17_3326415 | 17 | 11.061007 | 3.04634879 |\n",
       "| 17_4680459 | 17 | 20.807008 | 0.47501989 |\n",
       "\n"
      ],
      "text/plain": [
       "           chr pos       lod       \n",
       "17_1438660 17   0.736001 0.01668306\n",
       "17_3326415 17  11.061007 3.04634879\n",
       "17_4680459 17  20.807008 0.47501989"
      ]
     },
     "metadata": {},
     "output_type": "display_data"
    }
   ],
   "source": [
    "bayesint(TraitCIM, chr = chr, prob=0.95, expandtomarkers=TRUE) #calculate bayesian interval\n",
    "lodint(TraitCIM, chr = chr,expandtomarkers = TRUE ) #calculate LOD Support interval"
   ]
  },
  {
   "cell_type": "code",
   "execution_count": 10,
   "metadata": {},
   "outputs": [
    {
     "name": "stdin",
     "output_type": "stream",
     "text": [
      "Position for analysis:  11.061007\n"
     ]
    },
    {
     "name": "stderr",
     "output_type": "stream",
     "text": [
      "Warning message in getsex(cross):\n",
      "\"125 individuals with missing sex; assuming they're female\"\n",
      "Warning message in fitqtlengine(pheno = pheno, qtl = qtl, covar = covar, formula = formula, :\n",
      "\"Dropping 163 individuals with missing phenotypes.\n",
      "\"\n",
      "Warning message in getsex(cross):\n",
      "\"125 individuals with missing sex; assuming they're female\"\n"
     ]
    },
    {
     "data": {
      "text/plain": [
       "\n",
       "\t\tfitqtl summary\n",
       "\n",
       "Method: Haley-Knott regression \n",
       "Model:  normal phenotype\n",
       "Number of observations : 131 \n",
       "\n",
       "Full model result\n",
       "----------------------------------  \n",
       "Model formula: y ~ Q1 \n",
       "\n",
       "       df        SS        MS      LOD     %var Pvalue(Chi2)   Pvalue(F)\n",
       "Model   1 0.8834775 0.8834775 2.683646 9.002744 0.0004389483 0.000497968\n",
       "Error 129 8.9299477 0.0692244                                           \n",
       "Total 130 9.8134252                                                     \n",
       "\n",
       "\n",
       "Estimated effects:\n",
       "-----------------\n",
       "              est      SE      t\n",
       "Intercept 2.02323 0.02299 88.009\n",
       "17@11.1   0.16799 0.04702  3.572\n"
      ]
     },
     "metadata": {},
     "output_type": "display_data"
    }
   ],
   "source": [
    "p <- as.numeric(readline(\"Position for analysis: \"))\n",
    "qtl <- makeqtl(Map, chr = chr, pos = p, what=\"prob\") #pulls genotype probabilities\n",
    "fitqtl <- fitqtl(Map, pheno.col=colNum, qtl = qtl, covar=NULL,\n",
    "       method= \"hk\",model=\"normal\",\n",
    "       dropone=TRUE, get.ests=TRUE,run.checks=TRUE,\n",
    "       tol=1e-4, maxit=1000, forceXcovar=FALSE) #sees how well our data fits a given formula \n",
    "          # If you see \"error: object of type 'closure' is not subsettable\", remove \"formula,\" from the fitqtl argument list.\n",
    "summary(fitqtl) #Print results of the analysis"
   ]
  },
  {
   "cell_type": "code",
   "execution_count": 11,
   "metadata": {},
   "outputs": [
    {
     "name": "stdout",
     "output_type": "stream",
     "text": [
      "[1] \"Make sure to input names AS THEY APPEAR on the csv!!\"\n"
     ]
    },
    {
     "name": "stdin",
     "output_type": "stream",
     "text": [
      "Enter file name (Either FemaleMap.csv or MaleMap.csv):  MaleMap_Field2020.csv\n",
      "First Genotype (homozygous) (For example ll):  nn\n",
      "Second Genotype (heterozygous) (for example lm):  np\n",
      "Column Number:  53\n"
     ]
    }
   ],
   "source": [
    "#Collecting enviroment variables\n",
    "print(\"Make sure to input names AS THEY APPEAR on the csv!!\") #Just a user warning\n",
    "fileName <- readline(\"Enter file name (Either FemaleMap.csv or MaleMap.csv): \") #Mapping table file\n",
    "genotypeName <- c(readline(\"First Genotype (homozygous) (For example ll): \"),\n",
    "                  readline(\"Second Genotype (heterozygous) (for example lm): \")) #For example \"nn\", \"np\"\n",
    "alleleName <- c(substr(genotypeName[2],1,1) ,substr(genotypeName[2],2,2))\n",
    "naNames <- c(\"NA\",\"--\") #For example \"NA\", \"--\"\n",
    "colNum <- as.numeric(readline(\"Column Number: \")) #Column for pheno of interest"
   ]
  },
  {
   "cell_type": "code",
   "execution_count": 12,
   "metadata": {},
   "outputs": [
    {
     "name": "stdout",
     "output_type": "stream",
     "text": [
      " --Read the following data:\n",
      "\t 294  individuals\n",
      "\t 1128  markers\n",
      "\t 54  phenotypes\n"
     ]
    },
    {
     "name": "stderr",
     "output_type": "stream",
     "text": [
      "Warning message in summary.cross(cross):\n",
      "\"Some markers at the same position on chr 1,3,4,5,6,7,8,9,10,12,13,14,15,16,17,18,19; use jittermap().\"\n"
     ]
    },
    {
     "name": "stdout",
     "output_type": "stream",
     "text": [
      " --Cross type: bc \n"
     ]
    },
    {
     "data": {
      "image/png": "[encoded data removed]",
      "text/plain": [
       "Plot with title \"Genetic map\""
      ]
     },
     "metadata": {
      "image/png": {
       "height": 420,
       "width": 420
      },
      "text/plain": {
       "height": 420,
       "width": 420
      }
     },
     "output_type": "display_data"
    }
   ],
   "source": [
    "#Map generation\n",
    "Map <- read.cross(format = 'csv',file = fileName \n",
    "                  ,genotypes = genotypeName,\n",
    "                  alleles = alleleName,na.strings = naNames) #generate linkage map\n",
    "Map <- jittermap(Map) #make sure no markers are in the same location\n",
    "Map <- calc.genoprob(Map,step = 1,map.function = \"kosambi\") #associate markers with full genotypes\n",
    "plot.map(Map) #draw linkage map"
   ]
  },
  {
   "cell_type": "code",
   "execution_count": 13,
   "metadata": {},
   "outputs": [
    {
     "data": {
      "image/png": "[encoded data removed]",
      "text/plain": [
       "Plot with title \"\""
      ]
     },
     "metadata": {
      "image/png": {
       "height": 420,
       "width": 420
      },
      "text/plain": {
       "height": 420,
       "width": 420
      }
     },
     "output_type": "display_data"
    }
   ],
   "source": [
    "plotNormalHistogram(Map$pheno[,colNum]) #normal histogram of pheno of interest"
   ]
  },
  {
   "cell_type": "markdown",
   "metadata": {},
   "source": [
    "Outliers exist in this data. "
   ]
  },
  {
   "cell_type": "code",
   "execution_count": 19,
   "metadata": {},
   "outputs": [
    {
     "data": {
      "text/plain": [
       "LOD thresholds (1000 permutations)\n",
       "   [,1]\n",
       "5%  4.2\n",
       "1%  5.5"
      ]
     },
     "metadata": {},
     "output_type": "display_data"
    },
    {
     "data": {
      "image/png": "[encoded data removed]",
      "text/plain": [
       "Plot with title \"\""
      ]
     },
     "metadata": {
      "image/png": {
       "height": 420,
       "width": 420
      },
      "text/plain": {
       "height": 420,
       "width": 420
      }
     },
     "output_type": "display_data"
    }
   ],
   "source": [
    "#Compute statistically significant values\n",
    "TraitCIM1000 <- cim(Map,pheno.col = colNum,method = \"hk\",\n",
    "                    map.function = \"kosambi\",n.perm = 1000) # Function will take a moment to run, determines LOD value\n",
    "plot(TraitCIM1000,col = 'green') #show distribution of lod scores\n",
    "summary(TraitCIM1000,alpha=c(.05,.01))"
   ]
  },
  {
   "cell_type": "code",
   "execution_count": 20,
   "metadata": {},
   "outputs": [
    {
     "name": "stdout",
     "output_type": "stream",
     "text": [
      "[1] \"If nothing shows up, the values \\n      are below the LOD5 score\"\n"
     ]
    },
    {
     "data": {
      "text/html": [
       "<table>\n",
       "<caption>A summary.scanone: 19 × 3</caption>\n",
       "<thead>\n",
       "\t<tr><th></th><th scope=col>chr</th><th scope=col>pos</th><th scope=col>lod</th></tr>\n",
       "\t<tr><th></th><th scope=col>&lt;fct&gt;</th><th scope=col>&lt;dbl&gt;</th><th scope=col>&lt;dbl&gt;</th></tr>\n",
       "</thead>\n",
       "<tbody>\n",
       "\t<tr><th scope=row>c1.loc2</th><td>1 </td><td> 2.000000</td><td>0.8951877</td></tr>\n",
       "\t<tr><th scope=row>c2.loc46</th><td>2 </td><td>46.000000</td><td>1.4010684</td></tr>\n",
       "\t<tr><th scope=row>c3.loc54</th><td>3 </td><td>54.000000</td><td>1.1881389</td></tr>\n",
       "\t<tr><th scope=row>12_9215138</th><td>4 </td><td>44.595031</td><td>1.2393774</td></tr>\n",
       "\t<tr><th scope=row>5_262303</th><td>5 </td><td> 0.000000</td><td>1.0535707</td></tr>\n",
       "\t<tr><th scope=row>6_2018054</th><td>6 </td><td> 7.013007</td><td>1.1969556</td></tr>\n",
       "\t<tr><th scope=row>c7.loc60</th><td>7 </td><td>60.000000</td><td>1.8307530</td></tr>\n",
       "\t<tr><th scope=row>c8.loc73</th><td>8 </td><td>73.000000</td><td>0.6344829</td></tr>\n",
       "\t<tr><th scope=row>c9.loc31</th><td>9 </td><td>31.000000</td><td>1.1482665</td></tr>\n",
       "\t<tr><th scope=row>10_6502816</th><td>10</td><td>36.593015</td><td>0.9105482</td></tr>\n",
       "\t<tr><th scope=row>c11.loc62</th><td>11</td><td>62.000000</td><td>1.0579024</td></tr>\n",
       "\t<tr><th scope=row>12_22588445</th><td>12</td><td>60.828072</td><td>3.0975798</td></tr>\n",
       "\t<tr><th scope=row>13_2107142</th><td>13</td><td> 8.935009</td><td>1.6563148</td></tr>\n",
       "\t<tr><th scope=row>14_30257641</th><td>14</td><td>95.092085</td><td>0.5679367</td></tr>\n",
       "\t<tr><th scope=row>c15.loc68</th><td>15</td><td>68.000000</td><td>3.2068398</td></tr>\n",
       "\t<tr><th scope=row>c16.loc53</th><td>16</td><td>53.000000</td><td>1.6630795</td></tr>\n",
       "\t<tr><th scope=row>c17.loc57</th><td>17</td><td>57.000000</td><td>0.3091537</td></tr>\n",
       "\t<tr><th scope=row>c18.loc97</th><td>18</td><td>97.000000</td><td>0.5295680</td></tr>\n",
       "\t<tr><th scope=row>c19.loc49</th><td>19</td><td>49.000000</td><td>0.9739330</td></tr>\n",
       "</tbody>\n",
       "</table>\n"
      ],
      "text/latex": [
       "A summary.scanone: 19 × 3\n",
       "\\begin{tabular}{r|lll}\n",
       "  & chr & pos & lod\\\\\n",
       "  & <fct> & <dbl> & <dbl>\\\\\n",
       "\\hline\n",
       "\tc1.loc2 & 1  &  2.000000 & 0.8951877\\\\\n",
       "\tc2.loc46 & 2  & 46.000000 & 1.4010684\\\\\n",
       "\tc3.loc54 & 3  & 54.000000 & 1.1881389\\\\\n",
       "\t12\\_9215138 & 4  & 44.595031 & 1.2393774\\\\\n",
       "\t5\\_262303 & 5  &  0.000000 & 1.0535707\\\\\n",
       "\t6\\_2018054 & 6  &  7.013007 & 1.1969556\\\\\n",
       "\tc7.loc60 & 7  & 60.000000 & 1.8307530\\\\\n",
       "\tc8.loc73 & 8  & 73.000000 & 0.6344829\\\\\n",
       "\tc9.loc31 & 9  & 31.000000 & 1.1482665\\\\\n",
       "\t10\\_6502816 & 10 & 36.593015 & 0.9105482\\\\\n",
       "\tc11.loc62 & 11 & 62.000000 & 1.0579024\\\\\n",
       "\t12\\_22588445 & 12 & 60.828072 & 3.0975798\\\\\n",
       "\t13\\_2107142 & 13 &  8.935009 & 1.6563148\\\\\n",
       "\t14\\_30257641 & 14 & 95.092085 & 0.5679367\\\\\n",
       "\tc15.loc68 & 15 & 68.000000 & 3.2068398\\\\\n",
       "\tc16.loc53 & 16 & 53.000000 & 1.6630795\\\\\n",
       "\tc17.loc57 & 17 & 57.000000 & 0.3091537\\\\\n",
       "\tc18.loc97 & 18 & 97.000000 & 0.5295680\\\\\n",
       "\tc19.loc49 & 19 & 49.000000 & 0.9739330\\\\\n",
       "\\end{tabular}\n"
      ],
      "text/markdown": [
       "\n",
       "A summary.scanone: 19 × 3\n",
       "\n",
       "| <!--/--> | chr &lt;fct&gt; | pos &lt;dbl&gt; | lod &lt;dbl&gt; |\n",
       "|---|---|---|---|\n",
       "| c1.loc2 | 1  |  2.000000 | 0.8951877 |\n",
       "| c2.loc46 | 2  | 46.000000 | 1.4010684 |\n",
       "| c3.loc54 | 3  | 54.000000 | 1.1881389 |\n",
       "| 12_9215138 | 4  | 44.595031 | 1.2393774 |\n",
       "| 5_262303 | 5  |  0.000000 | 1.0535707 |\n",
       "| 6_2018054 | 6  |  7.013007 | 1.1969556 |\n",
       "| c7.loc60 | 7  | 60.000000 | 1.8307530 |\n",
       "| c8.loc73 | 8  | 73.000000 | 0.6344829 |\n",
       "| c9.loc31 | 9  | 31.000000 | 1.1482665 |\n",
       "| 10_6502816 | 10 | 36.593015 | 0.9105482 |\n",
       "| c11.loc62 | 11 | 62.000000 | 1.0579024 |\n",
       "| 12_22588445 | 12 | 60.828072 | 3.0975798 |\n",
       "| 13_2107142 | 13 |  8.935009 | 1.6563148 |\n",
       "| 14_30257641 | 14 | 95.092085 | 0.5679367 |\n",
       "| c15.loc68 | 15 | 68.000000 | 3.2068398 |\n",
       "| c16.loc53 | 16 | 53.000000 | 1.6630795 |\n",
       "| c17.loc57 | 17 | 57.000000 | 0.3091537 |\n",
       "| c18.loc97 | 18 | 97.000000 | 0.5295680 |\n",
       "| c19.loc49 | 19 | 49.000000 | 0.9739330 |\n",
       "\n"
      ],
      "text/plain": [
       "            chr pos       lod      \n",
       "c1.loc2     1    2.000000 0.8951877\n",
       "c2.loc46    2   46.000000 1.4010684\n",
       "c3.loc54    3   54.000000 1.1881389\n",
       "12_9215138  4   44.595031 1.2393774\n",
       "5_262303    5    0.000000 1.0535707\n",
       "6_2018054   6    7.013007 1.1969556\n",
       "c7.loc60    7   60.000000 1.8307530\n",
       "c8.loc73    8   73.000000 0.6344829\n",
       "c9.loc31    9   31.000000 1.1482665\n",
       "10_6502816  10  36.593015 0.9105482\n",
       "c11.loc62   11  62.000000 1.0579024\n",
       "12_22588445 12  60.828072 3.0975798\n",
       "13_2107142  13   8.935009 1.6563148\n",
       "14_30257641 14  95.092085 0.5679367\n",
       "c15.loc68   15  68.000000 3.2068398\n",
       "c16.loc53   16  53.000000 1.6630795\n",
       "c17.loc57   17  57.000000 0.3091537\n",
       "c18.loc97   18  97.000000 0.5295680\n",
       "c19.loc49   19  49.000000 0.9739330"
      ]
     },
     "metadata": {},
     "output_type": "display_data"
    },
    {
     "data": {
      "image/png": "[encoded data removed]",
      "text/plain": [
       "plot without title"
      ]
     },
     "metadata": {
      "image/png": {
       "height": 420,
       "width": 420
      },
      "text/plain": {
       "height": 420,
       "width": 420
      }
     },
     "output_type": "display_data"
    }
   ],
   "source": [
    "#Deterime LOD Values\n",
    "TraitCIM<-cim(Map,pheno.col = colNum,method = \"hk\",\n",
    "              map.function = \"kosambi\") #Generate LOD Values\n",
    "plot(TraitCIM) #show LOD graph\n",
    "abline(h = LOD5,col = \"blue\") #overlay statistically significant line\n",
    "print(\"If nothing shows up, the values \n",
    "      are below the LOD5 score\") #warning for no peaks\n",
    "summary(TraitCIM)\n",
    "write.csv(TraitCIM,\"DeacclimationRateMaleMap_table.csv\")"
   ]
  },
  {
   "cell_type": "code",
   "execution_count": 21,
   "metadata": {},
   "outputs": [
    {
     "name": "stdin",
     "output_type": "stream",
     "text": [
      "Chromosome?  15\n"
     ]
    },
    {
     "data": {
      "image/png": "[encoded data removed]",
      "text/plain": [
       "plot without title"
      ]
     },
     "metadata": {
      "image/png": {
       "height": 420,
       "width": 420
      },
      "text/plain": {
       "height": 420,
       "width": 420
      }
     },
     "output_type": "display_data"
    }
   ],
   "source": [
    "#Chromosomal Analysis\n",
    "chr <- as.numeric(readline(\"Chromosome? \")) #collect chromosome to look at\n",
    "plot(TraitCIM, chr = chr,xlab = c(\"chr\",chr)) #Plot chr LOD scores\n",
    "abline(h = LOD5, col = \"blue\") #Statistically Significant"
   ]
  },
  {
   "cell_type": "code",
   "execution_count": 22,
   "metadata": {},
   "outputs": [
    {
     "data": {
      "text/html": [
       "<table>\n",
       "<caption>A scanone: 3 × 3</caption>\n",
       "<thead>\n",
       "\t<tr><th></th><th scope=col>chr</th><th scope=col>pos</th><th scope=col>lod</th></tr>\n",
       "\t<tr><th></th><th scope=col>&lt;fct&gt;</th><th scope=col>&lt;dbl&gt;</th><th scope=col>&lt;dbl&gt;</th></tr>\n",
       "</thead>\n",
       "<tbody>\n",
       "\t<tr><th scope=row>2_16557224</th><td>15</td><td> 0.00000</td><td>0.078716120</td></tr>\n",
       "\t<tr><th scope=row>c15.loc68</th><td>15</td><td>68.00000</td><td>3.206839771</td></tr>\n",
       "\t<tr><th scope=row>15_19559986</th><td>15</td><td>94.29005</td><td>0.009425483</td></tr>\n",
       "</tbody>\n",
       "</table>\n"
      ],
      "text/latex": [
       "A scanone: 3 × 3\n",
       "\\begin{tabular}{r|lll}\n",
       "  & chr & pos & lod\\\\\n",
       "  & <fct> & <dbl> & <dbl>\\\\\n",
       "\\hline\n",
       "\t2\\_16557224 & 15 &  0.00000 & 0.078716120\\\\\n",
       "\tc15.loc68 & 15 & 68.00000 & 3.206839771\\\\\n",
       "\t15\\_19559986 & 15 & 94.29005 & 0.009425483\\\\\n",
       "\\end{tabular}\n"
      ],
      "text/markdown": [
       "\n",
       "A scanone: 3 × 3\n",
       "\n",
       "| <!--/--> | chr &lt;fct&gt; | pos &lt;dbl&gt; | lod &lt;dbl&gt; |\n",
       "|---|---|---|---|\n",
       "| 2_16557224 | 15 |  0.00000 | 0.078716120 |\n",
       "| c15.loc68 | 15 | 68.00000 | 3.206839771 |\n",
       "| 15_19559986 | 15 | 94.29005 | 0.009425483 |\n",
       "\n"
      ],
      "text/plain": [
       "            chr pos      lod        \n",
       "2_16557224  15   0.00000 0.078716120\n",
       "c15.loc68   15  68.00000 3.206839771\n",
       "15_19559986 15  94.29005 0.009425483"
      ]
     },
     "metadata": {},
     "output_type": "display_data"
    },
    {
     "data": {
      "text/html": [
       "<table>\n",
       "<caption>A scanone: 3 × 3</caption>\n",
       "<thead>\n",
       "\t<tr><th></th><th scope=col>chr</th><th scope=col>pos</th><th scope=col>lod</th></tr>\n",
       "\t<tr><th></th><th scope=col>&lt;fct&gt;</th><th scope=col>&lt;dbl&gt;</th><th scope=col>&lt;dbl&gt;</th></tr>\n",
       "</thead>\n",
       "<tbody>\n",
       "\t<tr><th scope=row>15_15249593</th><td>15</td><td>65.89603</td><td>0.3732615</td></tr>\n",
       "\t<tr><th scope=row>c15.loc68</th><td>15</td><td>68.00000</td><td>3.2068398</td></tr>\n",
       "\t<tr><th scope=row>15_15938964</th><td>15</td><td>68.34003</td><td>0.4981329</td></tr>\n",
       "</tbody>\n",
       "</table>\n"
      ],
      "text/latex": [
       "A scanone: 3 × 3\n",
       "\\begin{tabular}{r|lll}\n",
       "  & chr & pos & lod\\\\\n",
       "  & <fct> & <dbl> & <dbl>\\\\\n",
       "\\hline\n",
       "\t15\\_15249593 & 15 & 65.89603 & 0.3732615\\\\\n",
       "\tc15.loc68 & 15 & 68.00000 & 3.2068398\\\\\n",
       "\t15\\_15938964 & 15 & 68.34003 & 0.4981329\\\\\n",
       "\\end{tabular}\n"
      ],
      "text/markdown": [
       "\n",
       "A scanone: 3 × 3\n",
       "\n",
       "| <!--/--> | chr &lt;fct&gt; | pos &lt;dbl&gt; | lod &lt;dbl&gt; |\n",
       "|---|---|---|---|\n",
       "| 15_15249593 | 15 | 65.89603 | 0.3732615 |\n",
       "| c15.loc68 | 15 | 68.00000 | 3.2068398 |\n",
       "| 15_15938964 | 15 | 68.34003 | 0.4981329 |\n",
       "\n"
      ],
      "text/plain": [
       "            chr pos      lod      \n",
       "15_15249593 15  65.89603 0.3732615\n",
       "c15.loc68   15  68.00000 3.2068398\n",
       "15_15938964 15  68.34003 0.4981329"
      ]
     },
     "metadata": {},
     "output_type": "display_data"
    }
   ],
   "source": [
    "bayesint(TraitCIM, chr = chr, prob=0.95, expandtomarkers=TRUE) #calculate bayesian interval\n",
    "lodint(TraitCIM, chr = chr,expandtomarkers = TRUE ) #calculate LOD Support interval"
   ]
  },
  {
   "cell_type": "code",
   "execution_count": 23,
   "metadata": {},
   "outputs": [
    {
     "name": "stdin",
     "output_type": "stream",
     "text": [
      "Position for analysis:  68.00000\n"
     ]
    },
    {
     "name": "stderr",
     "output_type": "stream",
     "text": [
      "Warning message in getsex(cross):\n",
      "\"125 individuals with missing sex; assuming they're female\"\n",
      "Warning message in fitqtlengine(pheno = pheno, qtl = qtl, covar = covar, formula = formula, :\n",
      "\"Dropping 163 individuals with missing phenotypes.\n",
      "\"\n",
      "Warning message in getsex(cross):\n",
      "\"125 individuals with missing sex; assuming they're female\"\n"
     ]
    },
    {
     "data": {
      "text/plain": [
       "\n",
       "\t\tfitqtl summary\n",
       "\n",
       "Method: Haley-Knott regression \n",
       "Model:  normal phenotype\n",
       "Number of observations : 131 \n",
       "\n",
       "Full model result\n",
       "----------------------------------  \n",
       "Model formula: y ~ Q1 \n",
       "\n",
       "       df       SS         MS      LOD    %var Pvalue(Chi2)    Pvalue(F)\n",
       "Model   1 1.138926 1.13892619 3.509242 11.6058 5.819025e-05 6.845787e-05\n",
       "Error 129 8.674499 0.06724418                                           \n",
       "Total 130 9.813425                                                      \n",
       "\n",
       "\n",
       "Estimated effects:\n",
       "-----------------\n",
       "              est      SE      t\n",
       "Intercept 2.02692 0.02268 89.358\n",
       "15@68.0   0.94584 0.22982  4.115\n"
      ]
     },
     "metadata": {},
     "output_type": "display_data"
    }
   ],
   "source": [
    "p <- as.numeric(readline(\"Position for analysis: \"))\n",
    "qtl <- makeqtl(Map, chr = chr, pos = p, what=\"prob\") #pulls genotype probabilities\n",
    "fitqtl <- fitqtl(Map, pheno.col=colNum, qtl = qtl, covar=NULL,\n",
    "       method= \"hk\",model=\"normal\",\n",
    "       dropone=TRUE, get.ests=TRUE,run.checks=TRUE,\n",
    "       tol=1e-4, maxit=1000, forceXcovar=FALSE) #sees how well our data fits a given formula \n",
    "          # If you see \"error: object of type 'closure' is not subsettable\", remove \"formula,\" from the fitqtl argument list.\n",
    "summary(fitqtl) #Print results of the analysis"
   ]
  },
  {
   "cell_type": "code",
   "execution_count": 24,
   "metadata": {},
   "outputs": [
    {
     "name": "stderr",
     "output_type": "stream",
     "text": [
      "Warning message in checkcovar(cross, pheno.col, addcovar, intcovar, perm.strata, :\n",
      "\"Dropping 163 individuals with missing phenotypes.\n",
      "\"\n"
     ]
    },
    {
     "data": {
      "text/html": [
       "<table>\n",
       "<caption>A summary.scanone: 1 × 3</caption>\n",
       "<thead>\n",
       "\t<tr><th></th><th scope=col>chr</th><th scope=col>pos</th><th scope=col>lod</th></tr>\n",
       "\t<tr><th></th><th scope=col>&lt;fct&gt;</th><th scope=col>&lt;dbl&gt;</th><th scope=col>&lt;dbl&gt;</th></tr>\n",
       "</thead>\n",
       "<tbody>\n",
       "\t<tr><th scope=row>c15.loc68</th><td>15</td><td>68</td><td>4.402402</td></tr>\n",
       "</tbody>\n",
       "</table>\n"
      ],
      "text/latex": [
       "A summary.scanone: 1 × 3\n",
       "\\begin{tabular}{r|lll}\n",
       "  & chr & pos & lod\\\\\n",
       "  & <fct> & <dbl> & <dbl>\\\\\n",
       "\\hline\n",
       "\tc15.loc68 & 15 & 68 & 4.402402\\\\\n",
       "\\end{tabular}\n"
      ],
      "text/markdown": [
       "\n",
       "A summary.scanone: 1 × 3\n",
       "\n",
       "| <!--/--> | chr &lt;fct&gt; | pos &lt;dbl&gt; | lod &lt;dbl&gt; |\n",
       "|---|---|---|---|\n",
       "| c15.loc68 | 15 | 68 | 4.402402 |\n",
       "\n"
      ],
      "text/plain": [
       "          chr pos lod     \n",
       "c15.loc68 15  68  4.402402"
      ]
     },
     "metadata": {},
     "output_type": "display_data"
    },
    {
     "data": {
      "text/html": [
       "<table>\n",
       "<caption>A data.frame: 6 × 3</caption>\n",
       "<thead>\n",
       "\t<tr><th scope=col>15_15640823</th><th scope=col>pheno</th><th scope=col>inferred</th></tr>\n",
       "\t<tr><th scope=col>&lt;ord&gt;</th><th scope=col>&lt;dbl&gt;</th><th scope=col>&lt;dbl&gt;</th></tr>\n",
       "</thead>\n",
       "<tbody>\n",
       "\t<tr><td>1</td><td>2.263685</td><td>0</td></tr>\n",
       "\t<tr><td>1</td><td>2.164150</td><td>0</td></tr>\n",
       "\t<tr><td>2</td><td>      NA</td><td>0</td></tr>\n",
       "\t<tr><td>2</td><td>2.414990</td><td>0</td></tr>\n",
       "\t<tr><td>1</td><td>2.028889</td><td>0</td></tr>\n",
       "\t<tr><td>2</td><td>      NA</td><td>0</td></tr>\n",
       "</tbody>\n",
       "</table>\n"
      ],
      "text/latex": [
       "A data.frame: 6 × 3\n",
       "\\begin{tabular}{r|lll}\n",
       " 15\\_15640823 & pheno & inferred\\\\\n",
       " <ord> & <dbl> & <dbl>\\\\\n",
       "\\hline\n",
       "\t 1 & 2.263685 & 0\\\\\n",
       "\t 1 & 2.164150 & 0\\\\\n",
       "\t 2 &       NA & 0\\\\\n",
       "\t 2 & 2.414990 & 0\\\\\n",
       "\t 1 & 2.028889 & 0\\\\\n",
       "\t 2 &       NA & 0\\\\\n",
       "\\end{tabular}\n"
      ],
      "text/markdown": [
       "\n",
       "A data.frame: 6 × 3\n",
       "\n",
       "| 15_15640823 &lt;ord&gt; | pheno &lt;dbl&gt; | inferred &lt;dbl&gt; |\n",
       "|---|---|---|\n",
       "| 1 | 2.263685 | 0 |\n",
       "| 1 | 2.164150 | 0 |\n",
       "| 2 |       NA | 0 |\n",
       "| 2 | 2.414990 | 0 |\n",
       "| 1 | 2.028889 | 0 |\n",
       "| 2 |       NA | 0 |\n",
       "\n"
      ],
      "text/plain": [
       "  15_15640823 pheno    inferred\n",
       "1 1           2.263685 0       \n",
       "2 1           2.164150 0       \n",
       "3 2                 NA 0       \n",
       "4 2           2.414990 0       \n",
       "5 1           2.028889 0       \n",
       "6 2                 NA 0       "
      ]
     },
     "metadata": {},
     "output_type": "display_data"
    },
    {
     "data": {
      "text/plain": [
       " 15_15640823     pheno          inferred\n",
       " 1:143       Min.   :1.230   Min.   :0  \n",
       " 2:151       1st Qu.:1.855   1st Qu.:0  \n",
       "             Median :2.026   Median :0  \n",
       "             Mean   :2.022   Mean   :0  \n",
       "             3rd Qu.:2.186   3rd Qu.:0  \n",
       "             Max.   :2.767   Max.   :0  \n",
       "             NA's   :163                "
      ]
     },
     "metadata": {},
     "output_type": "display_data"
    },
    {
     "data": {
      "image/png": "[encoded data removed]",
      "text/plain": [
       "Plot with title \"\""
      ]
     },
     "metadata": {
      "image/png": {
       "height": 420,
       "width": 420
      },
      "text/plain": {
       "height": 420,
       "width": 420
      }
     },
     "output_type": "display_data"
    }
   ],
   "source": [
    "out.hk <- scanone(Map, pheno.col=52, method=\"hk\")\n",
    "max(out.hk)\n",
    "Map <- sim.geno(Map, n.draws=1, step=1)\n",
    "mar <- find.marker(Map, chr=15, pos=68.0)\n",
    "output <- plotPXG(Map, pheno.col=53, marker = mar)\n",
    "head(output)\n",
    "summary(output)"
   ]
  },
  {
   "cell_type": "code",
   "execution_count": 25,
   "metadata": {},
   "outputs": [
    {
     "data": {
      "image/png": "[encoded data removed]",
      "text/plain": [
       "Plot with title \"Effect plot for 15@68.0\""
      ]
     },
     "metadata": {
      "image/png": {
       "height": 420,
       "width": 420
      },
      "text/plain": {
       "height": 420,
       "width": 420
      }
     },
     "output_type": "display_data"
    }
   ],
   "source": [
    "effectplot(Map, mname1=\"15@68\")"
   ]
  },
  {
   "cell_type": "code",
   "execution_count": null,
   "metadata": {},
   "outputs": [],
   "source": []
  }
 ],
 "metadata": {
  "kernelspec": {
   "display_name": "R",
   "language": "R",
   "name": "ir"
  },
  "language_info": {
   "codemirror_mode": "r",
   "file_extension": ".r",
   "mimetype": "text/x-r-source",
   "name": "R",
   "pygments_lexer": "r",
   "version": "3.6.3"
  }
 },
 "nbformat": 4,
 "nbformat_minor": 4
}
