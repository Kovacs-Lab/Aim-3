{
 "cells": [
  {
   "cell_type": "markdown",
   "metadata": {},
   "source": [
    "This analysis is in the order of Female then Male"
   ]
  },
  {
   "cell_type": "code",
   "execution_count": 1,
   "metadata": {},
   "outputs": [
    {
     "name": "stderr",
     "output_type": "stream",
     "text": [
      "Installing package into 'C:/Users/Courtney/Documents/R/win-library/3.6'\n",
      "(as 'lib' is unspecified)\n",
      "\n"
     ]
    },
    {
     "name": "stdout",
     "output_type": "stream",
     "text": [
      "package 'qtl' successfully unpacked and MD5 sums checked\n"
     ]
    },
    {
     "name": "stderr",
     "output_type": "stream",
     "text": [
      "Warning message:\n",
      "\"cannot remove prior installation of package 'qtl'\"\n",
      "Warning message in file.copy(savedcopy, lib, recursive = TRUE):\n",
      "\"problem copying C:\\Users\\Courtney\\Documents\\R\\win-library\\3.6\\00LOCK\\qtl\\libs\\x64\\qtl.dll to C:\\Users\\Courtney\\Documents\\R\\win-library\\3.6\\qtl\\libs\\x64\\qtl.dll: Permission denied\"\n",
      "Warning message:\n",
      "\"restored 'qtl'\"\n"
     ]
    },
    {
     "name": "stdout",
     "output_type": "stream",
     "text": [
      "\n",
      "The downloaded binary packages are in\n",
      "\tC:\\Users\\Courtney\\AppData\\Local\\Temp\\RtmpCETXP4\\downloaded_packages\n"
     ]
    },
    {
     "name": "stderr",
     "output_type": "stream",
     "text": [
      "Installing package into 'C:/Users/Courtney/Documents/R/win-library/3.6'\n",
      "(as 'lib' is unspecified)\n",
      "\n"
     ]
    },
    {
     "name": "stdout",
     "output_type": "stream",
     "text": [
      "package 'qtlcharts' successfully unpacked and MD5 sums checked\n",
      "\n",
      "The downloaded binary packages are in\n",
      "\tC:\\Users\\Courtney\\AppData\\Local\\Temp\\RtmpCETXP4\\downloaded_packages\n"
     ]
    },
    {
     "name": "stderr",
     "output_type": "stream",
     "text": [
      "Installing package into 'C:/Users/Courtney/Documents/R/win-library/3.6'\n",
      "(as 'lib' is unspecified)\n",
      "\n"
     ]
    },
    {
     "name": "stdout",
     "output_type": "stream",
     "text": [
      "package 'LinkageMapView' successfully unpacked and MD5 sums checked\n",
      "\n",
      "The downloaded binary packages are in\n",
      "\tC:\\Users\\Courtney\\AppData\\Local\\Temp\\RtmpCETXP4\\downloaded_packages\n"
     ]
    },
    {
     "name": "stderr",
     "output_type": "stream",
     "text": [
      "Installing package into 'C:/Users/Courtney/Documents/R/win-library/3.6'\n",
      "(as 'lib' is unspecified)\n",
      "\n"
     ]
    },
    {
     "name": "stdout",
     "output_type": "stream",
     "text": [
      "package 'rcompanion' successfully unpacked and MD5 sums checked\n",
      "\n",
      "The downloaded binary packages are in\n",
      "\tC:\\Users\\Courtney\\AppData\\Local\\Temp\\RtmpCETXP4\\downloaded_packages\n"
     ]
    }
   ],
   "source": [
    "install.packages('qtl') #Main package, for analysis\n",
    "install.packages('qtlcharts') #accessory, for displaying graphs\n",
    "install.packages('LinkageMapView') #accessory, for displaying linkage maps\n",
    "install.packages('rcompanion')# for plotNormalHistogram"
   ]
  },
  {
   "cell_type": "code",
   "execution_count": 2,
   "metadata": {},
   "outputs": [],
   "source": [
    "library(qtl) #load packages\n",
    "library(qtlcharts)\n",
    "library(LinkageMapView)\n",
    "library(rcompanion)"
   ]
  },
  {
   "cell_type": "code",
   "execution_count": 5,
   "metadata": {},
   "outputs": [
    {
     "name": "stdout",
     "output_type": "stream",
     "text": [
      "[1] \"Make sure to input names AS THEY APPEAR on the csv!!\"\n"
     ]
    },
    {
     "name": "stdin",
     "output_type": "stream",
     "text": [
      "Enter file name (Either FemaleMap.csv or MaleMap.csv):  FemaleMap_Field2020.csv\n",
      "First Genotype (homozygous) (For example ll):  ll\n",
      "Second Genotype (heterozygous) (for example lm):  lm\n",
      "Column Number:  55\n"
     ]
    }
   ],
   "source": [
    "#Collecting enviroment variables\n",
    "print(\"Make sure to input names AS THEY APPEAR on the csv!!\") #Just a user warning\n",
    "fileName <- readline(\"Enter file name (Either FemaleMap.csv or MaleMap.csv): \") #Mapping table file\n",
    "genotypeName <- c(readline(\"First Genotype (homozygous) (For example ll): \"),\n",
    "                  readline(\"Second Genotype (heterozygous) (for example lm): \")) #For example \"nn\", \"np\"\n",
    "alleleName <- c(substr(genotypeName[2],1,1) ,substr(genotypeName[2],2,2))\n",
    "naNames <- c(\"NA\",\"--\") #For example \"NA\", \"--\"\n",
    "colNum <- as.numeric(readline(\"Column Number: \")) #Column for pheno of interest"
   ]
  },
  {
   "cell_type": "code",
   "execution_count": 6,
   "metadata": {},
   "outputs": [
    {
     "name": "stderr",
     "output_type": "stream",
     "text": [
      "Warning message in FUN(X[[i]], ...):\n",
      "\"The phenotype value \" \"  was interpreted as missing.\"\n"
     ]
    },
    {
     "name": "stdout",
     "output_type": "stream",
     "text": [
      " --Read the following data:\n",
      "\t 294  individuals\n",
      "\t 1100  markers\n",
      "\t 56  phenotypes\n"
     ]
    },
    {
     "name": "stderr",
     "output_type": "stream",
     "text": [
      "Warning message in summary.cross(cross):\n",
      "\"Some markers at the same position on chr 1,2,4,5,7,8,9,10,11,12,13,14,16,17,18,19; use jittermap().\"\n"
     ]
    },
    {
     "name": "stdout",
     "output_type": "stream",
     "text": [
      " --Cross type: bc \n"
     ]
    },
    {
     "data": {
      "image/png": "[encoded data removed]",
      "text/plain": [
       "Plot with title \"Genetic map\""
      ]
     },
     "metadata": {
      "image/png": {
       "height": 420,
       "width": 420
      },
      "text/plain": {
       "height": 420,
       "width": 420
      }
     },
     "output_type": "display_data"
    }
   ],
   "source": [
    "#Map generation\n",
    "Map <- read.cross(format = 'csv',file = fileName \n",
    "                  ,genotypes = genotypeName,\n",
    "                  alleles = alleleName,na.strings = naNames) #generate linkage map\n",
    "Map <- jittermap(Map) #make sure no markers are in the same location\n",
    "Map <- calc.genoprob(Map,step = 1,map.function = \"kosambi\") #associate markers with full genotypes\n",
    "plot.map(Map) #draw linkage map"
   ]
  },
  {
   "cell_type": "code",
   "execution_count": 7,
   "metadata": {},
   "outputs": [
    {
     "data": {
      "image/png": "[encoded data removed]",
      "text/plain": [
       "Plot with title \"\""
      ]
     },
     "metadata": {
      "image/png": {
       "height": 420,
       "width": 420
      },
      "text/plain": {
       "height": 420,
       "width": 420
      }
     },
     "output_type": "display_data"
    }
   ],
   "source": [
    "plotNormalHistogram(Map$pheno[,colNum]) #normal histogram of pheno of interest"
   ]
  },
  {
   "cell_type": "markdown",
   "metadata": {},
   "source": [
    "Outliers exist in this dataset. Will need to be analyized. "
   ]
  },
  {
   "cell_type": "code",
   "execution_count": 8,
   "metadata": {},
   "outputs": [
    {
     "data": {
      "text/plain": [
       "LOD thresholds (1000 permutations)\n",
       "   [,1]\n",
       "5% 4.12\n",
       "1% 5.24"
      ]
     },
     "metadata": {},
     "output_type": "display_data"
    },
    {
     "data": {
      "image/png": "[encoded data removed]",
      "text/plain": [
       "Plot with title \"\""
      ]
     },
     "metadata": {
      "image/png": {
       "height": 420,
       "width": 420
      },
      "text/plain": {
       "height": 420,
       "width": 420
      }
     },
     "output_type": "display_data"
    }
   ],
   "source": [
    "#Compute statistically significant values\n",
    "TraitCIM1000 <- cim(Map,pheno.col = colNum,method = \"hk\",\n",
    "                    map.function = \"kosambi\",n.perm = 1000) # Function will take a moment to run, determines LOD value\n",
    "plot(TraitCIM1000,col = 'green') #show distribution of lod scores\n",
    "summary(TraitCIM1000,alpha=c(.05,.01))"
   ]
  },
  {
   "cell_type": "code",
   "execution_count": 9,
   "metadata": {},
   "outputs": [
    {
     "name": "stdout",
     "output_type": "stream",
     "text": [
      "[1] \"If nothing shows up, the values \\n      are below the LOD5 score\"\n"
     ]
    },
    {
     "data": {
      "text/html": [
       "<table>\n",
       "<caption>A summary.scanone: 19 × 3</caption>\n",
       "<thead>\n",
       "\t<tr><th></th><th scope=col>chr</th><th scope=col>pos</th><th scope=col>lod</th></tr>\n",
       "\t<tr><th></th><th scope=col>&lt;fct&gt;</th><th scope=col>&lt;dbl&gt;</th><th scope=col>&lt;dbl&gt;</th></tr>\n",
       "</thead>\n",
       "<tbody>\n",
       "\t<tr><th scope=row>c1.loc56</th><td>1 </td><td>56.000000</td><td>0.5837610</td></tr>\n",
       "\t<tr><th scope=row>c2.loc37</th><td>2 </td><td>37.000000</td><td>0.5842394</td></tr>\n",
       "\t<tr><th scope=row>c3.loc37</th><td>3 </td><td>37.000000</td><td>0.9437164</td></tr>\n",
       "\t<tr><th scope=row>4_405578</th><td>4 </td><td> 0.000000</td><td>1.0356891</td></tr>\n",
       "\t<tr><th scope=row>c5.loc21</th><td>5 </td><td>21.000000</td><td>1.0060572</td></tr>\n",
       "\t<tr><th scope=row>11_12184299</th><td>6 </td><td>47.279031</td><td>1.0673979</td></tr>\n",
       "\t<tr><th scope=row>7_9813672</th><td>7 </td><td>38.354041</td><td>1.3143445</td></tr>\n",
       "\t<tr><th scope=row>8_17047597</th><td>8 </td><td>60.171037</td><td>1.3163751</td></tr>\n",
       "\t<tr><th scope=row>c9.loc40</th><td>9 </td><td>40.000000</td><td>0.9720808</td></tr>\n",
       "\t<tr><th scope=row>c10.loc52</th><td>10</td><td>52.000000</td><td>0.5732249</td></tr>\n",
       "\t<tr><th scope=row>11_3960142</th><td>11</td><td>16.429016</td><td>0.5435729</td></tr>\n",
       "\t<tr><th scope=row>c12.loc66</th><td>12</td><td>66.000000</td><td>0.2434359</td></tr>\n",
       "\t<tr><th scope=row>13_19655621</th><td>13</td><td>51.060033</td><td>0.2438003</td></tr>\n",
       "\t<tr><th scope=row>14_2427325</th><td>14</td><td>14.074002</td><td>0.4827882</td></tr>\n",
       "\t<tr><th scope=row>4_2353337</th><td>15</td><td> 7.420012</td><td>0.3282975</td></tr>\n",
       "\t<tr><th scope=row>c16.loc61</th><td>16</td><td>61.000000</td><td>1.0275851</td></tr>\n",
       "\t<tr><th scope=row>17_8072555</th><td>17</td><td>44.343023</td><td>0.9461647</td></tr>\n",
       "\t<tr><th scope=row>18_2127192</th><td>18</td><td> 6.861008</td><td>0.9312733</td></tr>\n",
       "\t<tr><th scope=row>19_7785608</th><td>19</td><td>40.647052</td><td>1.4132396</td></tr>\n",
       "</tbody>\n",
       "</table>\n"
      ],
      "text/latex": [
       "A summary.scanone: 19 × 3\n",
       "\\begin{tabular}{r|lll}\n",
       "  & chr & pos & lod\\\\\n",
       "  & <fct> & <dbl> & <dbl>\\\\\n",
       "\\hline\n",
       "\tc1.loc56 & 1  & 56.000000 & 0.5837610\\\\\n",
       "\tc2.loc37 & 2  & 37.000000 & 0.5842394\\\\\n",
       "\tc3.loc37 & 3  & 37.000000 & 0.9437164\\\\\n",
       "\t4\\_405578 & 4  &  0.000000 & 1.0356891\\\\\n",
       "\tc5.loc21 & 5  & 21.000000 & 1.0060572\\\\\n",
       "\t11\\_12184299 & 6  & 47.279031 & 1.0673979\\\\\n",
       "\t7\\_9813672 & 7  & 38.354041 & 1.3143445\\\\\n",
       "\t8\\_17047597 & 8  & 60.171037 & 1.3163751\\\\\n",
       "\tc9.loc40 & 9  & 40.000000 & 0.9720808\\\\\n",
       "\tc10.loc52 & 10 & 52.000000 & 0.5732249\\\\\n",
       "\t11\\_3960142 & 11 & 16.429016 & 0.5435729\\\\\n",
       "\tc12.loc66 & 12 & 66.000000 & 0.2434359\\\\\n",
       "\t13\\_19655621 & 13 & 51.060033 & 0.2438003\\\\\n",
       "\t14\\_2427325 & 14 & 14.074002 & 0.4827882\\\\\n",
       "\t4\\_2353337 & 15 &  7.420012 & 0.3282975\\\\\n",
       "\tc16.loc61 & 16 & 61.000000 & 1.0275851\\\\\n",
       "\t17\\_8072555 & 17 & 44.343023 & 0.9461647\\\\\n",
       "\t18\\_2127192 & 18 &  6.861008 & 0.9312733\\\\\n",
       "\t19\\_7785608 & 19 & 40.647052 & 1.4132396\\\\\n",
       "\\end{tabular}\n"
      ],
      "text/markdown": [
       "\n",
       "A summary.scanone: 19 × 3\n",
       "\n",
       "| <!--/--> | chr &lt;fct&gt; | pos &lt;dbl&gt; | lod &lt;dbl&gt; |\n",
       "|---|---|---|---|\n",
       "| c1.loc56 | 1  | 56.000000 | 0.5837610 |\n",
       "| c2.loc37 | 2  | 37.000000 | 0.5842394 |\n",
       "| c3.loc37 | 3  | 37.000000 | 0.9437164 |\n",
       "| 4_405578 | 4  |  0.000000 | 1.0356891 |\n",
       "| c5.loc21 | 5  | 21.000000 | 1.0060572 |\n",
       "| 11_12184299 | 6  | 47.279031 | 1.0673979 |\n",
       "| 7_9813672 | 7  | 38.354041 | 1.3143445 |\n",
       "| 8_17047597 | 8  | 60.171037 | 1.3163751 |\n",
       "| c9.loc40 | 9  | 40.000000 | 0.9720808 |\n",
       "| c10.loc52 | 10 | 52.000000 | 0.5732249 |\n",
       "| 11_3960142 | 11 | 16.429016 | 0.5435729 |\n",
       "| c12.loc66 | 12 | 66.000000 | 0.2434359 |\n",
       "| 13_19655621 | 13 | 51.060033 | 0.2438003 |\n",
       "| 14_2427325 | 14 | 14.074002 | 0.4827882 |\n",
       "| 4_2353337 | 15 |  7.420012 | 0.3282975 |\n",
       "| c16.loc61 | 16 | 61.000000 | 1.0275851 |\n",
       "| 17_8072555 | 17 | 44.343023 | 0.9461647 |\n",
       "| 18_2127192 | 18 |  6.861008 | 0.9312733 |\n",
       "| 19_7785608 | 19 | 40.647052 | 1.4132396 |\n",
       "\n"
      ],
      "text/plain": [
       "            chr pos       lod      \n",
       "c1.loc56    1   56.000000 0.5837610\n",
       "c2.loc37    2   37.000000 0.5842394\n",
       "c3.loc37    3   37.000000 0.9437164\n",
       "4_405578    4    0.000000 1.0356891\n",
       "c5.loc21    5   21.000000 1.0060572\n",
       "11_12184299 6   47.279031 1.0673979\n",
       "7_9813672   7   38.354041 1.3143445\n",
       "8_17047597  8   60.171037 1.3163751\n",
       "c9.loc40    9   40.000000 0.9720808\n",
       "c10.loc52   10  52.000000 0.5732249\n",
       "11_3960142  11  16.429016 0.5435729\n",
       "c12.loc66   12  66.000000 0.2434359\n",
       "13_19655621 13  51.060033 0.2438003\n",
       "14_2427325  14  14.074002 0.4827882\n",
       "4_2353337   15   7.420012 0.3282975\n",
       "c16.loc61   16  61.000000 1.0275851\n",
       "17_8072555  17  44.343023 0.9461647\n",
       "18_2127192  18   6.861008 0.9312733\n",
       "19_7785608  19  40.647052 1.4132396"
      ]
     },
     "metadata": {},
     "output_type": "display_data"
    },
    {
     "data": {
      "image/png": "[encoded data removed]",
      "text/plain": [
       "plot without title"
      ]
     },
     "metadata": {
      "image/png": {
       "height": 420,
       "width": 420
      },
      "text/plain": {
       "height": 420,
       "width": 420
      }
     },
     "output_type": "display_data"
    }
   ],
   "source": [
    "#Deterime LOD Values\n",
    "LOD5 <- summary(TraitCIM1000,alpha=c(.05))\n",
    "TraitCIM<-cim(Map,pheno.col = colNum,method = \"hk\",\n",
    "              map.function = \"kosambi\") #Generate LOD Values\n",
    "plot(TraitCIM) #show LOD graph\n",
    "abline(h = LOD5,col = \"blue\") #overlay statistically significant line\n",
    "print(\"If nothing shows up, the values \n",
    "      are below the LOD5 score\") #warning for no peaks\n",
    "summary(TraitCIM)\n",
    "write.csv(TraitCIM,\"PHENOTYPE_table.csv\")"
   ]
  },
  {
   "cell_type": "code",
   "execution_count": 10,
   "metadata": {},
   "outputs": [
    {
     "name": "stdin",
     "output_type": "stream",
     "text": [
      "Chromosome?  7\n"
     ]
    },
    {
     "data": {
      "image/png": "[encoded data removed]",
      "text/plain": [
       "plot without title"
      ]
     },
     "metadata": {
      "image/png": {
       "height": 420,
       "width": 420
      },
      "text/plain": {
       "height": 420,
       "width": 420
      }
     },
     "output_type": "display_data"
    }
   ],
   "source": [
    "#Chromosomal Analysis\n",
    "chr <- as.numeric(readline(\"Chromosome? \")) #collect chromosome to look at\n",
    "plot(TraitCIM, chr = chr,xlab = c(\"chr\",chr)) #Plot chr LOD scores\n",
    "abline(h = LOD5, col = \"blue\") #Statistically Significant"
   ]
  },
  {
   "cell_type": "code",
   "execution_count": 11,
   "metadata": {},
   "outputs": [
    {
     "data": {
      "text/html": [
       "<table>\n",
       "<caption>A scanone: 3 × 3</caption>\n",
       "<thead>\n",
       "\t<tr><th></th><th scope=col>chr</th><th scope=col>pos</th><th scope=col>lod</th></tr>\n",
       "\t<tr><th></th><th scope=col>&lt;fct&gt;</th><th scope=col>&lt;dbl&gt;</th><th scope=col>&lt;dbl&gt;</th></tr>\n",
       "</thead>\n",
       "<tbody>\n",
       "\t<tr><th scope=row>7_353165</th><td>7</td><td> 0.00000</td><td>0.05715464</td></tr>\n",
       "\t<tr><th scope=row>7_9813672</th><td>7</td><td>38.35404</td><td>1.31434453</td></tr>\n",
       "\t<tr><th scope=row>7_26481209</th><td>7</td><td>96.15911</td><td>0.04719157</td></tr>\n",
       "</tbody>\n",
       "</table>\n"
      ],
      "text/latex": [
       "A scanone: 3 × 3\n",
       "\\begin{tabular}{r|lll}\n",
       "  & chr & pos & lod\\\\\n",
       "  & <fct> & <dbl> & <dbl>\\\\\n",
       "\\hline\n",
       "\t7\\_353165 & 7 &  0.00000 & 0.05715464\\\\\n",
       "\t7\\_9813672 & 7 & 38.35404 & 1.31434453\\\\\n",
       "\t7\\_26481209 & 7 & 96.15911 & 0.04719157\\\\\n",
       "\\end{tabular}\n"
      ],
      "text/markdown": [
       "\n",
       "A scanone: 3 × 3\n",
       "\n",
       "| <!--/--> | chr &lt;fct&gt; | pos &lt;dbl&gt; | lod &lt;dbl&gt; |\n",
       "|---|---|---|---|\n",
       "| 7_353165 | 7 |  0.00000 | 0.05715464 |\n",
       "| 7_9813672 | 7 | 38.35404 | 1.31434453 |\n",
       "| 7_26481209 | 7 | 96.15911 | 0.04719157 |\n",
       "\n"
      ],
      "text/plain": [
       "           chr pos      lod       \n",
       "7_353165   7    0.00000 0.05715464\n",
       "7_9813672  7   38.35404 1.31434453\n",
       "7_26481209 7   96.15911 0.04719157"
      ]
     },
     "metadata": {},
     "output_type": "display_data"
    },
    {
     "data": {
      "text/html": [
       "<table>\n",
       "<caption>A scanone: 3 × 3</caption>\n",
       "<thead>\n",
       "\t<tr><th></th><th scope=col>chr</th><th scope=col>pos</th><th scope=col>lod</th></tr>\n",
       "\t<tr><th></th><th scope=col>&lt;fct&gt;</th><th scope=col>&lt;dbl&gt;</th><th scope=col>&lt;dbl&gt;</th></tr>\n",
       "</thead>\n",
       "<tbody>\n",
       "\t<tr><th scope=row>7_353165</th><td>7</td><td> 0.00000</td><td>0.05715464</td></tr>\n",
       "\t<tr><th scope=row>7_9813672</th><td>7</td><td>38.35404</td><td>1.31434453</td></tr>\n",
       "\t<tr><th scope=row>7_26481209</th><td>7</td><td>96.15911</td><td>0.04719157</td></tr>\n",
       "</tbody>\n",
       "</table>\n"
      ],
      "text/latex": [
       "A scanone: 3 × 3\n",
       "\\begin{tabular}{r|lll}\n",
       "  & chr & pos & lod\\\\\n",
       "  & <fct> & <dbl> & <dbl>\\\\\n",
       "\\hline\n",
       "\t7\\_353165 & 7 &  0.00000 & 0.05715464\\\\\n",
       "\t7\\_9813672 & 7 & 38.35404 & 1.31434453\\\\\n",
       "\t7\\_26481209 & 7 & 96.15911 & 0.04719157\\\\\n",
       "\\end{tabular}\n"
      ],
      "text/markdown": [
       "\n",
       "A scanone: 3 × 3\n",
       "\n",
       "| <!--/--> | chr &lt;fct&gt; | pos &lt;dbl&gt; | lod &lt;dbl&gt; |\n",
       "|---|---|---|---|\n",
       "| 7_353165 | 7 |  0.00000 | 0.05715464 |\n",
       "| 7_9813672 | 7 | 38.35404 | 1.31434453 |\n",
       "| 7_26481209 | 7 | 96.15911 | 0.04719157 |\n",
       "\n"
      ],
      "text/plain": [
       "           chr pos      lod       \n",
       "7_353165   7    0.00000 0.05715464\n",
       "7_9813672  7   38.35404 1.31434453\n",
       "7_26481209 7   96.15911 0.04719157"
      ]
     },
     "metadata": {},
     "output_type": "display_data"
    }
   ],
   "source": [
    "bayesint(TraitCIM, chr = chr, prob=0.95, expandtomarkers=TRUE) #calculate bayesian interval\n",
    "lodint(TraitCIM, chr = chr,expandtomarkers = TRUE ) #calculate LOD Support interval"
   ]
  },
  {
   "cell_type": "code",
   "execution_count": 12,
   "metadata": {},
   "outputs": [
    {
     "name": "stdin",
     "output_type": "stream",
     "text": [
      "Position for analysis:  38.35404\n"
     ]
    },
    {
     "name": "stderr",
     "output_type": "stream",
     "text": [
      "Warning message in getsex(cross):\n",
      "\"125 individuals with missing sex; assuming they're female\"\n",
      "Warning message in fitqtlengine(pheno = pheno, qtl = qtl, covar = covar, formula = formula, :\n",
      "\"Dropping 144 individuals with missing phenotypes.\n",
      "\"\n",
      "Warning message in getsex(cross):\n",
      "\"125 individuals with missing sex; assuming they're female\"\n"
     ]
    },
    {
     "data": {
      "text/plain": [
       "\n",
       "\t\tfitqtl summary\n",
       "\n",
       "Method: Haley-Knott regression \n",
       "Model:  normal phenotype\n",
       "Number of observations : 150 \n",
       "\n",
       "Full model result\n",
       "----------------------------------  \n",
       "Model formula: y ~ Q1 \n",
       "\n",
       "       df         SS        MS       LOD     %var Pvalue(Chi2)  Pvalue(F)\n",
       "Model   1  0.5826006 0.5826006 0.6080698 1.849526   0.09424874 0.09703427\n",
       "Error 148 30.9173994 0.2089013                                           \n",
       "Total 149 31.5000000                                                     \n",
       "\n",
       "\n",
       "Estimated effects:\n",
       "-----------------\n",
       "              est      SE     t\n",
       "Intercept 0.29017 0.03778 7.681\n",
       "7@38.4    0.57957 0.34705 1.670\n"
      ]
     },
     "metadata": {},
     "output_type": "display_data"
    }
   ],
   "source": [
    "p <- as.numeric(readline(\"Position for analysis: \"))\n",
    "qtl <- makeqtl(Map, chr = chr, pos = p, what=\"prob\") #pulls genotype probabilities\n",
    "fitqtl <- fitqtl(Map, pheno.col=colNum, qtl = qtl, covar=NULL,\n",
    "       method= \"hk\",model=\"normal\",\n",
    "       dropone=TRUE, get.ests=TRUE,run.checks=TRUE,\n",
    "       tol=1e-4, maxit=1000, forceXcovar=FALSE) #sees how well our data fits a given formula \n",
    "          # If you see \"error: object of type 'closure' is not subsettable\", remove \"formula,\" from the fitqtl argument list.\n",
    "summary(fitqtl) #Print results of the analysis"
   ]
  },
  {
   "cell_type": "code",
   "execution_count": 13,
   "metadata": {},
   "outputs": [
    {
     "name": "stdout",
     "output_type": "stream",
     "text": [
      "[1] \"Make sure to input names AS THEY APPEAR on the csv!!\"\n"
     ]
    },
    {
     "name": "stdin",
     "output_type": "stream",
     "text": [
      "Enter file name (Either FemaleMap.csv or MaleMap.csv):  MaleMap_Field2020.csv\n",
      "First Genotype (homozygous) (For example ll):  nn\n",
      "Second Genotype (heterozygous) (for example lm):  np\n",
      "Column Number:  55\n"
     ]
    }
   ],
   "source": [
    "#Collecting enviroment variables\n",
    "print(\"Make sure to input names AS THEY APPEAR on the csv!!\") #Just a user warning\n",
    "fileName <- readline(\"Enter file name (Either FemaleMap.csv or MaleMap.csv): \") #Mapping table file\n",
    "genotypeName <- c(readline(\"First Genotype (homozygous) (For example ll): \"),\n",
    "                  readline(\"Second Genotype (heterozygous) (for example lm): \")) #For example \"nn\", \"np\"\n",
    "alleleName <- c(substr(genotypeName[2],1,1) ,substr(genotypeName[2],2,2))\n",
    "naNames <- c(\"NA\",\"--\") #For example \"NA\", \"--\"\n",
    "colNum <- as.numeric(readline(\"Column Number: \")) #Column for pheno of interest"
   ]
  },
  {
   "cell_type": "code",
   "execution_count": 14,
   "metadata": {},
   "outputs": [
    {
     "name": "stderr",
     "output_type": "stream",
     "text": [
      "Warning message in FUN(X[[i]], ...):\n",
      "\"The phenotype value \" \"  was interpreted as missing.\"\n"
     ]
    },
    {
     "name": "stdout",
     "output_type": "stream",
     "text": [
      " --Read the following data:\n",
      "\t 294  individuals\n",
      "\t 1128  markers\n",
      "\t 56  phenotypes\n"
     ]
    },
    {
     "name": "stderr",
     "output_type": "stream",
     "text": [
      "Warning message in summary.cross(cross):\n",
      "\"Some markers at the same position on chr 1,3,4,5,6,7,8,9,10,12,13,14,15,16,17,18,19; use jittermap().\"\n"
     ]
    },
    {
     "name": "stdout",
     "output_type": "stream",
     "text": [
      " --Cross type: bc \n"
     ]
    },
    {
     "data": {
      "image/png": "[encoded data removed]",
      "text/plain": [
       "Plot with title \"Genetic map\""
      ]
     },
     "metadata": {
      "image/png": {
       "height": 420,
       "width": 420
      },
      "text/plain": {
       "height": 420,
       "width": 420
      }
     },
     "output_type": "display_data"
    }
   ],
   "source": [
    "#Map generation\n",
    "Map <- read.cross(format = 'csv',file = fileName \n",
    "                  ,genotypes = genotypeName,\n",
    "                  alleles = alleleName,na.strings = naNames) #generate linkage map\n",
    "Map <- jittermap(Map) #make sure no markers are in the same location\n",
    "Map <- calc.genoprob(Map,step = 1,map.function = \"kosambi\") #associate markers with full genotypes\n",
    "plot.map(Map) #draw linkage map"
   ]
  },
  {
   "cell_type": "code",
   "execution_count": 15,
   "metadata": {},
   "outputs": [
    {
     "data": {
      "image/png": "[encoded data removed]",
      "text/plain": [
       "Plot with title \"\""
      ]
     },
     "metadata": {
      "image/png": {
       "height": 420,
       "width": 420
      },
      "text/plain": {
       "height": 420,
       "width": 420
      }
     },
     "output_type": "display_data"
    }
   ],
   "source": [
    "plotNormalHistogram(Map$pheno[,colNum]) #normal histogram of pheno of interest"
   ]
  },
  {
   "cell_type": "markdown",
   "metadata": {},
   "source": [
    "Outliers exist in this data. "
   ]
  },
  {
   "cell_type": "code",
   "execution_count": 16,
   "metadata": {},
   "outputs": [
    {
     "data": {
      "text/plain": [
       "LOD thresholds (1000 permutations)\n",
       "   [,1]\n",
       "5% 4.23\n",
       "1% 5.42"
      ]
     },
     "metadata": {},
     "output_type": "display_data"
    },
    {
     "data": {
      "image/png": "[encoded data removed]",
      "text/plain": [
       "Plot with title \"\""
      ]
     },
     "metadata": {
      "image/png": {
       "height": 420,
       "width": 420
      },
      "text/plain": {
       "height": 420,
       "width": 420
      }
     },
     "output_type": "display_data"
    }
   ],
   "source": [
    "#Compute statistically significant values\n",
    "TraitCIM1000 <- cim(Map,pheno.col = colNum,method = \"hk\",\n",
    "                    map.function = \"kosambi\",n.perm = 1000) # Function will take a moment to run, determines LOD value\n",
    "plot(TraitCIM1000,col = 'green') #show distribution of lod scores\n",
    "summary(TraitCIM1000,alpha=c(.05,.01))"
   ]
  },
  {
   "cell_type": "code",
   "execution_count": 17,
   "metadata": {},
   "outputs": [
    {
     "name": "stdout",
     "output_type": "stream",
     "text": [
      "[1] \"If nothing shows up, the values \\n      are below the LOD5 score\"\n"
     ]
    },
    {
     "data": {
      "text/html": [
       "<table>\n",
       "<caption>A summary.scanone: 19 × 3</caption>\n",
       "<thead>\n",
       "\t<tr><th></th><th scope=col>chr</th><th scope=col>pos</th><th scope=col>lod</th></tr>\n",
       "\t<tr><th></th><th scope=col>&lt;fct&gt;</th><th scope=col>&lt;dbl&gt;</th><th scope=col>&lt;dbl&gt;</th></tr>\n",
       "</thead>\n",
       "<tbody>\n",
       "\t<tr><th scope=row>c1.loc88</th><td>1 </td><td>88.00000</td><td>1.5732061</td></tr>\n",
       "\t<tr><th scope=row>c2.loc1</th><td>2 </td><td> 1.00000</td><td>1.2876786</td></tr>\n",
       "\t<tr><th scope=row>16_9895499</th><td>3 </td><td>69.84705</td><td>1.3441067</td></tr>\n",
       "\t<tr><th scope=row>c4.loc41</th><td>4 </td><td>41.00000</td><td>1.7458854</td></tr>\n",
       "\t<tr><th scope=row>c5.loc33</th><td>5 </td><td>33.00000</td><td>0.6525605</td></tr>\n",
       "\t<tr><th scope=row>6_5072530</th><td>6 </td><td>25.33502</td><td>1.4185486</td></tr>\n",
       "\t<tr><th scope=row>7_17779698</th><td>7 </td><td>66.58105</td><td>2.7836567</td></tr>\n",
       "\t<tr><th scope=row>c8.loc81</th><td>8 </td><td>81.00000</td><td>1.3749888</td></tr>\n",
       "\t<tr><th scope=row>c9.loc30</th><td>9 </td><td>30.00000</td><td>1.0354365</td></tr>\n",
       "\t<tr><th scope=row>c10.loc13</th><td>10</td><td>13.00000</td><td>0.5069875</td></tr>\n",
       "\t<tr><th scope=row>c11.loc13</th><td>11</td><td>13.00000</td><td>1.0452056</td></tr>\n",
       "\t<tr><th scope=row>12_7330639</th><td>12</td><td>34.20903</td><td>1.6251053</td></tr>\n",
       "\t<tr><th scope=row>c13.loc22</th><td>13</td><td>22.00000</td><td>1.2957915</td></tr>\n",
       "\t<tr><th scope=row>c14.loc22</th><td>14</td><td>22.00000</td><td>0.5664166</td></tr>\n",
       "\t<tr><th scope=row>15_19106930</th><td>15</td><td>85.41304</td><td>1.6836701</td></tr>\n",
       "\t<tr><th scope=row>c16.loc81</th><td>16</td><td>81.00000</td><td>0.6932937</td></tr>\n",
       "\t<tr><th scope=row>17_5533921</th><td>17</td><td>28.01002</td><td>1.4154773</td></tr>\n",
       "\t<tr><th scope=row>c18.loc59</th><td>18</td><td>59.00000</td><td>0.7776638</td></tr>\n",
       "\t<tr><th scope=row>19_22635646</th><td>19</td><td>74.42605</td><td>0.5527184</td></tr>\n",
       "</tbody>\n",
       "</table>\n"
      ],
      "text/latex": [
       "A summary.scanone: 19 × 3\n",
       "\\begin{tabular}{r|lll}\n",
       "  & chr & pos & lod\\\\\n",
       "  & <fct> & <dbl> & <dbl>\\\\\n",
       "\\hline\n",
       "\tc1.loc88 & 1  & 88.00000 & 1.5732061\\\\\n",
       "\tc2.loc1 & 2  &  1.00000 & 1.2876786\\\\\n",
       "\t16\\_9895499 & 3  & 69.84705 & 1.3441067\\\\\n",
       "\tc4.loc41 & 4  & 41.00000 & 1.7458854\\\\\n",
       "\tc5.loc33 & 5  & 33.00000 & 0.6525605\\\\\n",
       "\t6\\_5072530 & 6  & 25.33502 & 1.4185486\\\\\n",
       "\t7\\_17779698 & 7  & 66.58105 & 2.7836567\\\\\n",
       "\tc8.loc81 & 8  & 81.00000 & 1.3749888\\\\\n",
       "\tc9.loc30 & 9  & 30.00000 & 1.0354365\\\\\n",
       "\tc10.loc13 & 10 & 13.00000 & 0.5069875\\\\\n",
       "\tc11.loc13 & 11 & 13.00000 & 1.0452056\\\\\n",
       "\t12\\_7330639 & 12 & 34.20903 & 1.6251053\\\\\n",
       "\tc13.loc22 & 13 & 22.00000 & 1.2957915\\\\\n",
       "\tc14.loc22 & 14 & 22.00000 & 0.5664166\\\\\n",
       "\t15\\_19106930 & 15 & 85.41304 & 1.6836701\\\\\n",
       "\tc16.loc81 & 16 & 81.00000 & 0.6932937\\\\\n",
       "\t17\\_5533921 & 17 & 28.01002 & 1.4154773\\\\\n",
       "\tc18.loc59 & 18 & 59.00000 & 0.7776638\\\\\n",
       "\t19\\_22635646 & 19 & 74.42605 & 0.5527184\\\\\n",
       "\\end{tabular}\n"
      ],
      "text/markdown": [
       "\n",
       "A summary.scanone: 19 × 3\n",
       "\n",
       "| <!--/--> | chr &lt;fct&gt; | pos &lt;dbl&gt; | lod &lt;dbl&gt; |\n",
       "|---|---|---|---|\n",
       "| c1.loc88 | 1  | 88.00000 | 1.5732061 |\n",
       "| c2.loc1 | 2  |  1.00000 | 1.2876786 |\n",
       "| 16_9895499 | 3  | 69.84705 | 1.3441067 |\n",
       "| c4.loc41 | 4  | 41.00000 | 1.7458854 |\n",
       "| c5.loc33 | 5  | 33.00000 | 0.6525605 |\n",
       "| 6_5072530 | 6  | 25.33502 | 1.4185486 |\n",
       "| 7_17779698 | 7  | 66.58105 | 2.7836567 |\n",
       "| c8.loc81 | 8  | 81.00000 | 1.3749888 |\n",
       "| c9.loc30 | 9  | 30.00000 | 1.0354365 |\n",
       "| c10.loc13 | 10 | 13.00000 | 0.5069875 |\n",
       "| c11.loc13 | 11 | 13.00000 | 1.0452056 |\n",
       "| 12_7330639 | 12 | 34.20903 | 1.6251053 |\n",
       "| c13.loc22 | 13 | 22.00000 | 1.2957915 |\n",
       "| c14.loc22 | 14 | 22.00000 | 0.5664166 |\n",
       "| 15_19106930 | 15 | 85.41304 | 1.6836701 |\n",
       "| c16.loc81 | 16 | 81.00000 | 0.6932937 |\n",
       "| 17_5533921 | 17 | 28.01002 | 1.4154773 |\n",
       "| c18.loc59 | 18 | 59.00000 | 0.7776638 |\n",
       "| 19_22635646 | 19 | 74.42605 | 0.5527184 |\n",
       "\n"
      ],
      "text/plain": [
       "            chr pos      lod      \n",
       "c1.loc88    1   88.00000 1.5732061\n",
       "c2.loc1     2    1.00000 1.2876786\n",
       "16_9895499  3   69.84705 1.3441067\n",
       "c4.loc41    4   41.00000 1.7458854\n",
       "c5.loc33    5   33.00000 0.6525605\n",
       "6_5072530   6   25.33502 1.4185486\n",
       "7_17779698  7   66.58105 2.7836567\n",
       "c8.loc81    8   81.00000 1.3749888\n",
       "c9.loc30    9   30.00000 1.0354365\n",
       "c10.loc13   10  13.00000 0.5069875\n",
       "c11.loc13   11  13.00000 1.0452056\n",
       "12_7330639  12  34.20903 1.6251053\n",
       "c13.loc22   13  22.00000 1.2957915\n",
       "c14.loc22   14  22.00000 0.5664166\n",
       "15_19106930 15  85.41304 1.6836701\n",
       "c16.loc81   16  81.00000 0.6932937\n",
       "17_5533921  17  28.01002 1.4154773\n",
       "c18.loc59   18  59.00000 0.7776638\n",
       "19_22635646 19  74.42605 0.5527184"
      ]
     },
     "metadata": {},
     "output_type": "display_data"
    },
    {
     "data": {
      "image/png": "[encoded data removed]",
      "text/plain": [
       "plot without title"
      ]
     },
     "metadata": {
      "image/png": {
       "height": 420,
       "width": 420
      },
      "text/plain": {
       "height": 420,
       "width": 420
      }
     },
     "output_type": "display_data"
    }
   ],
   "source": [
    "#Deterime LOD Values\n",
    "TraitCIM<-cim(Map,pheno.col = colNum,method = \"hk\",\n",
    "              map.function = \"kosambi\") #Generate LOD Values\n",
    "plot(TraitCIM) #show LOD graph\n",
    "abline(h = LOD5,col = \"blue\") #overlay statistically significant line\n",
    "print(\"If nothing shows up, the values \n",
    "      are below the LOD5 score\") #warning for no peaks\n",
    "summary(TraitCIM)"
   ]
  },
  {
   "cell_type": "code",
   "execution_count": 18,
   "metadata": {},
   "outputs": [
    {
     "name": "stdin",
     "output_type": "stream",
     "text": [
      "Chromosome?  7\n"
     ]
    },
    {
     "data": {
      "image/png": "[encoded data removed]",
      "text/plain": [
       "plot without title"
      ]
     },
     "metadata": {
      "image/png": {
       "height": 420,
       "width": 420
      },
      "text/plain": {
       "height": 420,
       "width": 420
      }
     },
     "output_type": "display_data"
    }
   ],
   "source": [
    "#Chromosomal Analysis\n",
    "chr <- as.numeric(readline(\"Chromosome? \")) #collect chromosome to look at\n",
    "plot(TraitCIM, chr = chr,xlab = c(\"chr\",chr)) #Plot chr LOD scores\n",
    "abline(h = LOD5, col = \"blue\") #Statistically Significant"
   ]
  },
  {
   "cell_type": "code",
   "execution_count": 19,
   "metadata": {},
   "outputs": [
    {
     "data": {
      "text/html": [
       "<table>\n",
       "<caption>A scanone: 3 × 3</caption>\n",
       "<thead>\n",
       "\t<tr><th></th><th scope=col>chr</th><th scope=col>pos</th><th scope=col>lod</th></tr>\n",
       "\t<tr><th></th><th scope=col>&lt;fct&gt;</th><th scope=col>&lt;dbl&gt;</th><th scope=col>&lt;dbl&gt;</th></tr>\n",
       "</thead>\n",
       "<tbody>\n",
       "\t<tr><th scope=row>7_350236</th><td>7</td><td>  0.382001</td><td>0.7412660</td></tr>\n",
       "\t<tr><th scope=row>7_17779698</th><td>7</td><td> 66.581053</td><td>2.7836567</td></tr>\n",
       "\t<tr><th scope=row>7_26783844</th><td>7</td><td>112.206087</td><td>0.2436505</td></tr>\n",
       "</tbody>\n",
       "</table>\n"
      ],
      "text/latex": [
       "A scanone: 3 × 3\n",
       "\\begin{tabular}{r|lll}\n",
       "  & chr & pos & lod\\\\\n",
       "  & <fct> & <dbl> & <dbl>\\\\\n",
       "\\hline\n",
       "\t7\\_350236 & 7 &   0.382001 & 0.7412660\\\\\n",
       "\t7\\_17779698 & 7 &  66.581053 & 2.7836567\\\\\n",
       "\t7\\_26783844 & 7 & 112.206087 & 0.2436505\\\\\n",
       "\\end{tabular}\n"
      ],
      "text/markdown": [
       "\n",
       "A scanone: 3 × 3\n",
       "\n",
       "| <!--/--> | chr &lt;fct&gt; | pos &lt;dbl&gt; | lod &lt;dbl&gt; |\n",
       "|---|---|---|---|\n",
       "| 7_350236 | 7 |   0.382001 | 0.7412660 |\n",
       "| 7_17779698 | 7 |  66.581053 | 2.7836567 |\n",
       "| 7_26783844 | 7 | 112.206087 | 0.2436505 |\n",
       "\n"
      ],
      "text/plain": [
       "           chr pos        lod      \n",
       "7_350236   7     0.382001 0.7412660\n",
       "7_17779698 7    66.581053 2.7836567\n",
       "7_26783844 7   112.206087 0.2436505"
      ]
     },
     "metadata": {},
     "output_type": "display_data"
    },
    {
     "data": {
      "text/html": [
       "<table>\n",
       "<caption>A scanone: 3 × 3</caption>\n",
       "<thead>\n",
       "\t<tr><th></th><th scope=col>chr</th><th scope=col>pos</th><th scope=col>lod</th></tr>\n",
       "\t<tr><th></th><th scope=col>&lt;fct&gt;</th><th scope=col>&lt;dbl&gt;</th><th scope=col>&lt;dbl&gt;</th></tr>\n",
       "</thead>\n",
       "<tbody>\n",
       "\t<tr><th scope=row>7_11512843</th><td>7</td><td> 48.42703</td><td>0.2727786</td></tr>\n",
       "\t<tr><th scope=row>7_17779698</th><td>7</td><td> 66.58105</td><td>2.7836567</td></tr>\n",
       "\t<tr><th scope=row>7_24644008</th><td>7</td><td>103.03008</td><td>1.2679661</td></tr>\n",
       "</tbody>\n",
       "</table>\n"
      ],
      "text/latex": [
       "A scanone: 3 × 3\n",
       "\\begin{tabular}{r|lll}\n",
       "  & chr & pos & lod\\\\\n",
       "  & <fct> & <dbl> & <dbl>\\\\\n",
       "\\hline\n",
       "\t7\\_11512843 & 7 &  48.42703 & 0.2727786\\\\\n",
       "\t7\\_17779698 & 7 &  66.58105 & 2.7836567\\\\\n",
       "\t7\\_24644008 & 7 & 103.03008 & 1.2679661\\\\\n",
       "\\end{tabular}\n"
      ],
      "text/markdown": [
       "\n",
       "A scanone: 3 × 3\n",
       "\n",
       "| <!--/--> | chr &lt;fct&gt; | pos &lt;dbl&gt; | lod &lt;dbl&gt; |\n",
       "|---|---|---|---|\n",
       "| 7_11512843 | 7 |  48.42703 | 0.2727786 |\n",
       "| 7_17779698 | 7 |  66.58105 | 2.7836567 |\n",
       "| 7_24644008 | 7 | 103.03008 | 1.2679661 |\n",
       "\n"
      ],
      "text/plain": [
       "           chr pos       lod      \n",
       "7_11512843 7    48.42703 0.2727786\n",
       "7_17779698 7    66.58105 2.7836567\n",
       "7_24644008 7   103.03008 1.2679661"
      ]
     },
     "metadata": {},
     "output_type": "display_data"
    }
   ],
   "source": [
    "bayesint(TraitCIM, chr = chr, prob=0.95, expandtomarkers=TRUE) #calculate bayesian interval\n",
    "lodint(TraitCIM, chr = chr,expandtomarkers = TRUE ) #calculate LOD Support interval"
   ]
  },
  {
   "cell_type": "code",
   "execution_count": 20,
   "metadata": {},
   "outputs": [
    {
     "name": "stdin",
     "output_type": "stream",
     "text": [
      "Position for analysis:  49.13403\n"
     ]
    },
    {
     "name": "stderr",
     "output_type": "stream",
     "text": [
      "Warning message in getsex(cross):\n",
      "\"125 individuals with missing sex; assuming they're female\"\n",
      "Warning message in fitqtlengine(pheno = pheno, qtl = qtl, covar = covar, formula = formula, :\n",
      "\"Dropping 144 individuals with missing phenotypes.\n",
      "\"\n",
      "Warning message in getsex(cross):\n",
      "\"125 individuals with missing sex; assuming they're female\"\n"
     ]
    },
    {
     "data": {
      "text/plain": [
       "\n",
       "\t\tfitqtl summary\n",
       "\n",
       "Method: Haley-Knott regression \n",
       "Model:  normal phenotype\n",
       "Number of observations : 150 \n",
       "\n",
       "Full model result\n",
       "----------------------------------  \n",
       "Model formula: y ~ Q1 \n",
       "\n",
       "       df         SS        MS      LOD     %var Pvalue(Chi2)  Pvalue(F)\n",
       "Model   1  0.8551867 0.8551867 0.896518 2.714878   0.04216377 0.04391407\n",
       "Error 148 30.6448133 0.2070595                                          \n",
       "Total 149 31.5000000                                                    \n",
       "\n",
       "\n",
       "Estimated effects:\n",
       "-----------------\n",
       "               est       SE      t\n",
       "Intercept  0.31241  0.03765  8.297\n",
       "7@49.1    -0.33111  0.16292 -2.032\n"
      ]
     },
     "metadata": {},
     "output_type": "display_data"
    }
   ],
   "source": [
    "p <- as.numeric(readline(\"Position for analysis: \"))\n",
    "qtl <- makeqtl(Map, chr = chr, pos = p, what=\"prob\") #pulls genotype probabilities\n",
    "fitqtl <- fitqtl(Map, pheno.col=colNum, qtl = qtl, covar=NULL,\n",
    "       method= \"hk\",model=\"normal\",\n",
    "       dropone=TRUE, get.ests=TRUE,run.checks=TRUE,\n",
    "       tol=1e-4, maxit=1000, forceXcovar=FALSE) #sees how well our data fits a given formula \n",
    "          # If you see \"error: object of type 'closure' is not subsettable\", remove \"formula,\" from the fitqtl argument list.\n",
    "summary(fitqtl) #Print results of the analysis"
   ]
  },
  {
   "cell_type": "code",
   "execution_count": null,
   "metadata": {},
   "outputs": [],
   "source": []
  }
 ],
 "metadata": {
  "kernelspec": {
   "display_name": "R",
   "language": "R",
   "name": "ir"
  },
  "language_info": {
   "codemirror_mode": "r",
   "file_extension": ".r",
   "mimetype": "text/x-r-source",
   "name": "R",
   "pygments_lexer": "r",
   "version": "3.6.3"
  }
 },
 "nbformat": 4,
 "nbformat_minor": 4
}
