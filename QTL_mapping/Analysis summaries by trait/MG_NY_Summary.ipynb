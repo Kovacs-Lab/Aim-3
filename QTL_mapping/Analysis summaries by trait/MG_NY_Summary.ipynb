{
 "cells": [
  {
   "cell_type": "markdown",
   "metadata": {},
   "source": [
    "This analysis is in the order of Female then Male"
   ]
  },
  {
   "cell_type": "code",
   "execution_count": 1,
   "metadata": {},
   "outputs": [
    {
     "name": "stderr",
     "output_type": "stream",
     "text": [
      "Installing package into 'C:/Users/Courtney/Documents/R/win-library/3.6'\n",
      "(as 'lib' is unspecified)\n",
      "\n"
     ]
    },
    {
     "name": "stdout",
     "output_type": "stream",
     "text": [
      "package 'qtl' successfully unpacked and MD5 sums checked\n"
     ]
    },
    {
     "name": "stderr",
     "output_type": "stream",
     "text": [
      "Warning message:\n",
      "\"cannot remove prior installation of package 'qtl'\"\n",
      "Warning message in file.copy(savedcopy, lib, recursive = TRUE):\n",
      "\"problem copying C:\\Users\\Courtney\\Documents\\R\\win-library\\3.6\\00LOCK\\qtl\\libs\\x64\\qtl.dll to C:\\Users\\Courtney\\Documents\\R\\win-library\\3.6\\qtl\\libs\\x64\\qtl.dll: Permission denied\"\n",
      "Warning message:\n",
      "\"restored 'qtl'\"\n"
     ]
    },
    {
     "name": "stdout",
     "output_type": "stream",
     "text": [
      "\n",
      "The downloaded binary packages are in\n",
      "\tC:\\Users\\Courtney\\AppData\\Local\\Temp\\RtmpwdoLlo\\downloaded_packages\n"
     ]
    },
    {
     "name": "stderr",
     "output_type": "stream",
     "text": [
      "Installing package into 'C:/Users/Courtney/Documents/R/win-library/3.6'\n",
      "(as 'lib' is unspecified)\n",
      "\n"
     ]
    },
    {
     "name": "stdout",
     "output_type": "stream",
     "text": [
      "package 'qtlcharts' successfully unpacked and MD5 sums checked\n",
      "\n",
      "The downloaded binary packages are in\n",
      "\tC:\\Users\\Courtney\\AppData\\Local\\Temp\\RtmpwdoLlo\\downloaded_packages\n"
     ]
    },
    {
     "name": "stderr",
     "output_type": "stream",
     "text": [
      "Installing package into 'C:/Users/Courtney/Documents/R/win-library/3.6'\n",
      "(as 'lib' is unspecified)\n",
      "\n"
     ]
    },
    {
     "name": "stdout",
     "output_type": "stream",
     "text": [
      "package 'LinkageMapView' successfully unpacked and MD5 sums checked\n",
      "\n",
      "The downloaded binary packages are in\n",
      "\tC:\\Users\\Courtney\\AppData\\Local\\Temp\\RtmpwdoLlo\\downloaded_packages\n"
     ]
    },
    {
     "name": "stderr",
     "output_type": "stream",
     "text": [
      "Installing package into 'C:/Users/Courtney/Documents/R/win-library/3.6'\n",
      "(as 'lib' is unspecified)\n",
      "\n"
     ]
    },
    {
     "name": "stdout",
     "output_type": "stream",
     "text": [
      "package 'rcompanion' successfully unpacked and MD5 sums checked\n",
      "\n",
      "The downloaded binary packages are in\n",
      "\tC:\\Users\\Courtney\\AppData\\Local\\Temp\\RtmpwdoLlo\\downloaded_packages\n"
     ]
    }
   ],
   "source": [
    "install.packages('qtl') #Main package, for analysis\n",
    "install.packages('qtlcharts') #accessory, for displaying graphs\n",
    "install.packages('LinkageMapView') #accessory, for displaying linkage maps\n",
    "install.packages('rcompanion')# for plotNormalHistogram"
   ]
  },
  {
   "cell_type": "code",
   "execution_count": 2,
   "metadata": {},
   "outputs": [],
   "source": [
    "library(qtl) #load packages\n",
    "library(qtlcharts)\n",
    "library(LinkageMapView)\n",
    "library(rcompanion)"
   ]
  },
  {
   "cell_type": "code",
   "execution_count": 3,
   "metadata": {},
   "outputs": [
    {
     "name": "stdout",
     "output_type": "stream",
     "text": [
      "[1] \"Make sure to input names AS THEY APPEAR on the csv!!\"\n"
     ]
    },
    {
     "name": "stdin",
     "output_type": "stream",
     "text": [
      "Enter file name (Either FemaleMap.csv or MaleMap.csv):  FemaleMap.csv\n",
      "First Genotype (homozygous) (For example ll):  ll\n",
      "Second Genotype (heterozygous) (for example lm):  lm\n",
      "Column Number:  7\n"
     ]
    }
   ],
   "source": [
    "#Collecting enviroment variables\n",
    "print(\"Make sure to input names AS THEY APPEAR on the csv!!\") #Just a user warning\n",
    "fileName <- readline(\"Enter file name (Either FemaleMap.csv or MaleMap.csv): \") #Mapping table file\n",
    "genotypeName <- c(readline(\"First Genotype (homozygous) (For example ll): \"),\n",
    "                  readline(\"Second Genotype (heterozygous) (for example lm): \")) #For example \"nn\", \"np\"\n",
    "alleleName <- c(substr(genotypeName[2],1,1) ,substr(genotypeName[2],2,2))\n",
    "naNames <- c(\"NA\",\"--\") #For example \"NA\", \"--\"\n",
    "colNum <- as.numeric(readline(\"Column Number: \")) #Column for pheno of interest"
   ]
  },
  {
   "cell_type": "code",
   "execution_count": 4,
   "metadata": {},
   "outputs": [
    {
     "name": "stdout",
     "output_type": "stream",
     "text": [
      " --Read the following data:\n",
      "\t 294  individuals\n",
      "\t 1100  markers\n",
      "\t 38  phenotypes\n"
     ]
    },
    {
     "name": "stderr",
     "output_type": "stream",
     "text": [
      "Warning message in summary.cross(cross):\n",
      "\"Some markers at the same position on chr 1,2,4,5,7,8,9,10,11,12,13,14,16,17,18,19; use jittermap().\"\n"
     ]
    },
    {
     "name": "stdout",
     "output_type": "stream",
     "text": [
      " --Cross type: bc \n"
     ]
    },
    {
     "data": {
      "image/png": "[encoded data removed]",
      "text/plain": [
       "Plot with title \"Genetic map\""
      ]
     },
     "metadata": {
      "image/png": {
       "height": 420,
       "width": 420
      },
      "text/plain": {
       "height": 420,
       "width": 420
      }
     },
     "output_type": "display_data"
    }
   ],
   "source": [
    "#Map generation\n",
    "Map <- read.cross(format = 'csv',file = fileName \n",
    "                  ,genotypes = genotypeName,\n",
    "                  alleles = alleleName,na.strings = naNames) #generate linkage map\n",
    "Map <- jittermap(Map) #make sure no markers are in the same location\n",
    "Map <- calc.genoprob(Map,step = 1,map.function = \"kosambi\") #associate markers with full genotypes\n",
    "plot.map(Map) #draw linkage map"
   ]
  },
  {
   "cell_type": "code",
   "execution_count": 5,
   "metadata": {},
   "outputs": [
    {
     "data": {
      "image/png": "[encoded data removed]",
      "text/plain": [
       "Plot with title \"\""
      ]
     },
     "metadata": {
      "image/png": {
       "height": 420,
       "width": 420
      },
      "text/plain": {
       "height": 420,
       "width": 420
      }
     },
     "output_type": "display_data"
    }
   ],
   "source": [
    "plotNormalHistogram(Map$pheno[,colNum]) #normal histogram of pheno of interest"
   ]
  },
  {
   "cell_type": "markdown",
   "metadata": {},
   "source": [
    "Outliers exist in this dataset. Will need to be analyized. "
   ]
  },
  {
   "cell_type": "code",
   "execution_count": 6,
   "metadata": {},
   "outputs": [
    {
     "data": {
      "text/plain": [
       "LOD thresholds (1000 permutations)\n",
       "   [,1]\n",
       "5% 4.07\n",
       "1% 5.24"
      ]
     },
     "metadata": {},
     "output_type": "display_data"
    },
    {
     "data": {
      "image/png": "[encoded data removed]",
      "text/plain": [
       "Plot with title \"\""
      ]
     },
     "metadata": {
      "image/png": {
       "height": 420,
       "width": 420
      },
      "text/plain": {
       "height": 420,
       "width": 420
      }
     },
     "output_type": "display_data"
    }
   ],
   "source": [
    "#Compute statistically significant values\n",
    "TraitCIM1000 <- cim(Map,pheno.col = colNum,method = \"hk\",\n",
    "                    map.function = \"kosambi\",n.perm = 1000) # Function will take a moment to run, determines LOD value\n",
    "plot(TraitCIM1000,col = 'green') #show distribution of lod scores\n",
    "summary(TraitCIM1000,alpha=c(.05,.01))"
   ]
  },
  {
   "cell_type": "code",
   "execution_count": 7,
   "metadata": {},
   "outputs": [
    {
     "name": "stdout",
     "output_type": "stream",
     "text": [
      "[1] \"If nothing shows up, the values \\n      are below the LOD5 score\"\n"
     ]
    },
    {
     "data": {
      "text/html": [
       "<table>\n",
       "<caption>A summary.scanone: 19 × 3</caption>\n",
       "<thead>\n",
       "\t<tr><th></th><th scope=col>chr</th><th scope=col>pos</th><th scope=col>lod</th></tr>\n",
       "\t<tr><th></th><th scope=col>&lt;fct&gt;</th><th scope=col>&lt;dbl&gt;</th><th scope=col>&lt;dbl&gt;</th></tr>\n",
       "</thead>\n",
       "<tbody>\n",
       "\t<tr><th scope=row>1_3232043</th><td>1 </td><td>15.07402</td><td>1.5180059</td></tr>\n",
       "\t<tr><th scope=row>c2.loc31</th><td>2 </td><td>31.00000</td><td>0.6139687</td></tr>\n",
       "\t<tr><th scope=row>c3.loc29</th><td>3 </td><td>29.00000</td><td>2.4522718</td></tr>\n",
       "\t<tr><th scope=row>c4.loc66</th><td>4 </td><td>66.00000</td><td>0.7824102</td></tr>\n",
       "\t<tr><th scope=row>5_20828599</th><td>5 </td><td>57.57603</td><td>3.0860944</td></tr>\n",
       "\t<tr><th scope=row>c6.loc19</th><td>6 </td><td>19.00000</td><td>1.4249615</td></tr>\n",
       "\t<tr><th scope=row>c7.loc56</th><td>7 </td><td>56.00000</td><td>0.8487755</td></tr>\n",
       "\t<tr><th scope=row>c8.loc38</th><td>8 </td><td>38.00000</td><td>1.2143790</td></tr>\n",
       "\t<tr><th scope=row>9_18504305</th><td>9 </td><td>53.46407</td><td>1.2289982</td></tr>\n",
       "\t<tr><th scope=row>10_5021135</th><td>10</td><td>22.71202</td><td>0.6121560</td></tr>\n",
       "\t<tr><th scope=row>11_3960142</th><td>11</td><td>16.42902</td><td>0.7249822</td></tr>\n",
       "\t<tr><th scope=row>12_8349621</th><td>12</td><td>54.09803</td><td>0.6113939</td></tr>\n",
       "\t<tr><th scope=row>c13.loc51</th><td>13</td><td>51.00000</td><td>0.6913048</td></tr>\n",
       "\t<tr><th scope=row>c14.loc42</th><td>14</td><td>42.00000</td><td>2.0912744</td></tr>\n",
       "\t<tr><th scope=row>c15.loc63</th><td>15</td><td>63.00000</td><td>0.6600858</td></tr>\n",
       "\t<tr><th scope=row>16_15758000</th><td>16</td><td>24.49203</td><td>0.5664342</td></tr>\n",
       "\t<tr><th scope=row>c17.loc6</th><td>17</td><td> 6.00000</td><td>1.0664935</td></tr>\n",
       "\t<tr><th scope=row>c18.loc12</th><td>18</td><td>12.00000</td><td>1.2729947</td></tr>\n",
       "\t<tr><th scope=row>c19.loc1</th><td>19</td><td> 1.00000</td><td>0.6863191</td></tr>\n",
       "</tbody>\n",
       "</table>\n"
      ],
      "text/latex": [
       "A summary.scanone: 19 × 3\n",
       "\\begin{tabular}{r|lll}\n",
       "  & chr & pos & lod\\\\\n",
       "  & <fct> & <dbl> & <dbl>\\\\\n",
       "\\hline\n",
       "\t1\\_3232043 & 1  & 15.07402 & 1.5180059\\\\\n",
       "\tc2.loc31 & 2  & 31.00000 & 0.6139687\\\\\n",
       "\tc3.loc29 & 3  & 29.00000 & 2.4522718\\\\\n",
       "\tc4.loc66 & 4  & 66.00000 & 0.7824102\\\\\n",
       "\t5\\_20828599 & 5  & 57.57603 & 3.0860944\\\\\n",
       "\tc6.loc19 & 6  & 19.00000 & 1.4249615\\\\\n",
       "\tc7.loc56 & 7  & 56.00000 & 0.8487755\\\\\n",
       "\tc8.loc38 & 8  & 38.00000 & 1.2143790\\\\\n",
       "\t9\\_18504305 & 9  & 53.46407 & 1.2289982\\\\\n",
       "\t10\\_5021135 & 10 & 22.71202 & 0.6121560\\\\\n",
       "\t11\\_3960142 & 11 & 16.42902 & 0.7249822\\\\\n",
       "\t12\\_8349621 & 12 & 54.09803 & 0.6113939\\\\\n",
       "\tc13.loc51 & 13 & 51.00000 & 0.6913048\\\\\n",
       "\tc14.loc42 & 14 & 42.00000 & 2.0912744\\\\\n",
       "\tc15.loc63 & 15 & 63.00000 & 0.6600858\\\\\n",
       "\t16\\_15758000 & 16 & 24.49203 & 0.5664342\\\\\n",
       "\tc17.loc6 & 17 &  6.00000 & 1.0664935\\\\\n",
       "\tc18.loc12 & 18 & 12.00000 & 1.2729947\\\\\n",
       "\tc19.loc1 & 19 &  1.00000 & 0.6863191\\\\\n",
       "\\end{tabular}\n"
      ],
      "text/markdown": [
       "\n",
       "A summary.scanone: 19 × 3\n",
       "\n",
       "| <!--/--> | chr &lt;fct&gt; | pos &lt;dbl&gt; | lod &lt;dbl&gt; |\n",
       "|---|---|---|---|\n",
       "| 1_3232043 | 1  | 15.07402 | 1.5180059 |\n",
       "| c2.loc31 | 2  | 31.00000 | 0.6139687 |\n",
       "| c3.loc29 | 3  | 29.00000 | 2.4522718 |\n",
       "| c4.loc66 | 4  | 66.00000 | 0.7824102 |\n",
       "| 5_20828599 | 5  | 57.57603 | 3.0860944 |\n",
       "| c6.loc19 | 6  | 19.00000 | 1.4249615 |\n",
       "| c7.loc56 | 7  | 56.00000 | 0.8487755 |\n",
       "| c8.loc38 | 8  | 38.00000 | 1.2143790 |\n",
       "| 9_18504305 | 9  | 53.46407 | 1.2289982 |\n",
       "| 10_5021135 | 10 | 22.71202 | 0.6121560 |\n",
       "| 11_3960142 | 11 | 16.42902 | 0.7249822 |\n",
       "| 12_8349621 | 12 | 54.09803 | 0.6113939 |\n",
       "| c13.loc51 | 13 | 51.00000 | 0.6913048 |\n",
       "| c14.loc42 | 14 | 42.00000 | 2.0912744 |\n",
       "| c15.loc63 | 15 | 63.00000 | 0.6600858 |\n",
       "| 16_15758000 | 16 | 24.49203 | 0.5664342 |\n",
       "| c17.loc6 | 17 |  6.00000 | 1.0664935 |\n",
       "| c18.loc12 | 18 | 12.00000 | 1.2729947 |\n",
       "| c19.loc1 | 19 |  1.00000 | 0.6863191 |\n",
       "\n"
      ],
      "text/plain": [
       "            chr pos      lod      \n",
       "1_3232043   1   15.07402 1.5180059\n",
       "c2.loc31    2   31.00000 0.6139687\n",
       "c3.loc29    3   29.00000 2.4522718\n",
       "c4.loc66    4   66.00000 0.7824102\n",
       "5_20828599  5   57.57603 3.0860944\n",
       "c6.loc19    6   19.00000 1.4249615\n",
       "c7.loc56    7   56.00000 0.8487755\n",
       "c8.loc38    8   38.00000 1.2143790\n",
       "9_18504305  9   53.46407 1.2289982\n",
       "10_5021135  10  22.71202 0.6121560\n",
       "11_3960142  11  16.42902 0.7249822\n",
       "12_8349621  12  54.09803 0.6113939\n",
       "c13.loc51   13  51.00000 0.6913048\n",
       "c14.loc42   14  42.00000 2.0912744\n",
       "c15.loc63   15  63.00000 0.6600858\n",
       "16_15758000 16  24.49203 0.5664342\n",
       "c17.loc6    17   6.00000 1.0664935\n",
       "c18.loc12   18  12.00000 1.2729947\n",
       "c19.loc1    19   1.00000 0.6863191"
      ]
     },
     "metadata": {},
     "output_type": "display_data"
    },
    {
     "data": {
      "image/png": "[encoded data removed]",
      "text/plain": [
       "plot without title"
      ]
     },
     "metadata": {
      "image/png": {
       "height": 420,
       "width": 420
      },
      "text/plain": {
       "height": 420,
       "width": 420
      }
     },
     "output_type": "display_data"
    }
   ],
   "source": [
    "#Deterime LOD Values\n",
    "LOD5 <- summary(TraitCIM1000,alpha=c(.05))\n",
    "TraitCIM<-cim(Map,pheno.col = colNum,method = \"hk\",\n",
    "              map.function = \"kosambi\") #Generate LOD Values\n",
    "plot(TraitCIM) #show LOD graph\n",
    "abline(h = LOD5,col = \"blue\") #overlay statistically significant line\n",
    "print(\"If nothing shows up, the values \n",
    "      are below the LOD5 score\") #warning for no peaks\n",
    "summary(TraitCIM)"
   ]
  },
  {
   "cell_type": "code",
   "execution_count": 8,
   "metadata": {},
   "outputs": [
    {
     "name": "stdin",
     "output_type": "stream",
     "text": [
      "Chromosome?  5\n"
     ]
    },
    {
     "data": {
      "image/png": "[encoded data removed]",
      "text/plain": [
       "plot without title"
      ]
     },
     "metadata": {
      "image/png": {
       "height": 420,
       "width": 420
      },
      "text/plain": {
       "height": 420,
       "width": 420
      }
     },
     "output_type": "display_data"
    }
   ],
   "source": [
    "#Chromosomal Analysis\n",
    "chr <- as.numeric(readline(\"Chromosome? \")) #collect chromosome to look at\n",
    "plot(TraitCIM, chr = chr,xlab = c(\"chr\",chr)) #Plot chr LOD scores\n",
    "abline(h = LOD5, col = \"blue\") #Statistically Significant"
   ]
  },
  {
   "cell_type": "code",
   "execution_count": 9,
   "metadata": {},
   "outputs": [
    {
     "data": {
      "text/html": [
       "<table>\n",
       "<caption>A scanone: 3 × 3</caption>\n",
       "<thead>\n",
       "\t<tr><th></th><th scope=col>chr</th><th scope=col>pos</th><th scope=col>lod</th></tr>\n",
       "\t<tr><th></th><th scope=col>&lt;fct&gt;</th><th scope=col>&lt;dbl&gt;</th><th scope=col>&lt;dbl&gt;</th></tr>\n",
       "</thead>\n",
       "<tbody>\n",
       "\t<tr><th scope=row>5_2074832</th><td>5</td><td> 6.431004</td><td>1.204273</td></tr>\n",
       "\t<tr><th scope=row>5_20828599</th><td>5</td><td>57.576034</td><td>3.086094</td></tr>\n",
       "\t<tr><th scope=row>11_13522623</th><td>5</td><td>62.013049</td><td>1.012557</td></tr>\n",
       "</tbody>\n",
       "</table>\n"
      ],
      "text/latex": [
       "A scanone: 3 × 3\n",
       "\\begin{tabular}{r|lll}\n",
       "  & chr & pos & lod\\\\\n",
       "  & <fct> & <dbl> & <dbl>\\\\\n",
       "\\hline\n",
       "\t5\\_2074832 & 5 &  6.431004 & 1.204273\\\\\n",
       "\t5\\_20828599 & 5 & 57.576034 & 3.086094\\\\\n",
       "\t11\\_13522623 & 5 & 62.013049 & 1.012557\\\\\n",
       "\\end{tabular}\n"
      ],
      "text/markdown": [
       "\n",
       "A scanone: 3 × 3\n",
       "\n",
       "| <!--/--> | chr &lt;fct&gt; | pos &lt;dbl&gt; | lod &lt;dbl&gt; |\n",
       "|---|---|---|---|\n",
       "| 5_2074832 | 5 |  6.431004 | 1.204273 |\n",
       "| 5_20828599 | 5 | 57.576034 | 3.086094 |\n",
       "| 11_13522623 | 5 | 62.013049 | 1.012557 |\n",
       "\n"
      ],
      "text/plain": [
       "            chr pos       lod     \n",
       "5_2074832   5    6.431004 1.204273\n",
       "5_20828599  5   57.576034 3.086094\n",
       "11_13522623 5   62.013049 1.012557"
      ]
     },
     "metadata": {},
     "output_type": "display_data"
    },
    {
     "data": {
      "text/html": [
       "<table>\n",
       "<caption>A scanone: 3 × 3</caption>\n",
       "<thead>\n",
       "\t<tr><th></th><th scope=col>chr</th><th scope=col>pos</th><th scope=col>lod</th></tr>\n",
       "\t<tr><th></th><th scope=col>&lt;fct&gt;</th><th scope=col>&lt;dbl&gt;</th><th scope=col>&lt;dbl&gt;</th></tr>\n",
       "</thead>\n",
       "<tbody>\n",
       "\t<tr><th scope=row>5_17868504</th><td>5</td><td>55.71603</td><td>0.683959</td></tr>\n",
       "\t<tr><th scope=row>5_20828599</th><td>5</td><td>57.57603</td><td>3.086094</td></tr>\n",
       "\t<tr><th scope=row>11_13522623</th><td>5</td><td>62.01305</td><td>1.012557</td></tr>\n",
       "</tbody>\n",
       "</table>\n"
      ],
      "text/latex": [
       "A scanone: 3 × 3\n",
       "\\begin{tabular}{r|lll}\n",
       "  & chr & pos & lod\\\\\n",
       "  & <fct> & <dbl> & <dbl>\\\\\n",
       "\\hline\n",
       "\t5\\_17868504 & 5 & 55.71603 & 0.683959\\\\\n",
       "\t5\\_20828599 & 5 & 57.57603 & 3.086094\\\\\n",
       "\t11\\_13522623 & 5 & 62.01305 & 1.012557\\\\\n",
       "\\end{tabular}\n"
      ],
      "text/markdown": [
       "\n",
       "A scanone: 3 × 3\n",
       "\n",
       "| <!--/--> | chr &lt;fct&gt; | pos &lt;dbl&gt; | lod &lt;dbl&gt; |\n",
       "|---|---|---|---|\n",
       "| 5_17868504 | 5 | 55.71603 | 0.683959 |\n",
       "| 5_20828599 | 5 | 57.57603 | 3.086094 |\n",
       "| 11_13522623 | 5 | 62.01305 | 1.012557 |\n",
       "\n"
      ],
      "text/plain": [
       "            chr pos      lod     \n",
       "5_17868504  5   55.71603 0.683959\n",
       "5_20828599  5   57.57603 3.086094\n",
       "11_13522623 5   62.01305 1.012557"
      ]
     },
     "metadata": {},
     "output_type": "display_data"
    }
   ],
   "source": [
    "bayesint(TraitCIM, chr = chr, prob=0.95, expandtomarkers=TRUE) #calculate bayesian interval\n",
    "lodint(TraitCIM, chr = chr,expandtomarkers = TRUE ) #calculate LOD Support interval"
   ]
  },
  {
   "cell_type": "code",
   "execution_count": 10,
   "metadata": {},
   "outputs": [
    {
     "name": "stdin",
     "output_type": "stream",
     "text": [
      "Position for analysis:  57.57603\n"
     ]
    },
    {
     "name": "stderr",
     "output_type": "stream",
     "text": [
      "Warning message in getsex(cross):\n",
      "\"125 individuals with missing sex; assuming they're female\"\n",
      "Warning message in fitqtlengine(pheno = pheno, qtl = qtl, covar = covar, formula = formula, :\n",
      "\"Dropping 124 individuals with missing phenotypes.\n",
      "\"\n",
      "Warning message in getsex(cross):\n",
      "\"125 individuals with missing sex; assuming they're female\"\n"
     ]
    },
    {
     "data": {
      "text/plain": [
       "\n",
       "\t\tfitqtl summary\n",
       "\n",
       "Method: Haley-Knott regression \n",
       "Model:  normal phenotype\n",
       "Number of observations : 170 \n",
       "\n",
       "Full model result\n",
       "----------------------------------  \n",
       "Model formula: y ~ Q1 \n",
       "\n",
       "       df        SS        MS      LOD     %var Pvalue(Chi2)   Pvalue(F)\n",
       "Model   1  1.695397 1.6953967 2.375778 6.233076 0.0009406636 0.001025923\n",
       "Error 168 25.504603 0.1518131                                           \n",
       "Total 169 27.200000                                                     \n",
       "\n",
       "\n",
       "Estimated effects:\n",
       "-----------------\n",
       "               est       SE      t\n",
       "Intercept  0.19649  0.02990  6.571\n",
       "5@57.6    -0.22066  0.06603 -3.342\n"
      ]
     },
     "metadata": {},
     "output_type": "display_data"
    }
   ],
   "source": [
    "p <- as.numeric(readline(\"Position for analysis: \"))\n",
    "qtl <- makeqtl(Map, chr = chr, pos = p, what=\"prob\") #pulls genotype probabilities\n",
    "fitqtl <- fitqtl(Map, pheno.col=colNum, qtl = qtl, covar=NULL,\n",
    "       method= \"hk\",model=\"normal\",\n",
    "       dropone=TRUE, get.ests=TRUE,run.checks=TRUE,\n",
    "       tol=1e-4, maxit=1000, forceXcovar=FALSE) #sees how well our data fits a given formula \n",
    "          # If you see \"error: object of type 'closure' is not subsettable\", remove \"formula,\" from the fitqtl argument list.\n",
    "summary(fitqtl) #Print results of the analysis"
   ]
  },
  {
   "cell_type": "code",
   "execution_count": 11,
   "metadata": {},
   "outputs": [
    {
     "name": "stdout",
     "output_type": "stream",
     "text": [
      "[1] \"Make sure to input names AS THEY APPEAR on the csv!!\"\n"
     ]
    },
    {
     "name": "stdin",
     "output_type": "stream",
     "text": [
      "Enter file name (Either FemaleMap.csv or MaleMap.csv):  MaleMap.csv\n",
      "First Genotype (homozygous) (For example ll):  nn\n",
      "Second Genotype (heterozygous) (for example lm):  np\n",
      "Column Number:  7\n"
     ]
    }
   ],
   "source": [
    "#Collecting enviroment variables\n",
    "print(\"Make sure to input names AS THEY APPEAR on the csv!!\") #Just a user warning\n",
    "fileName <- readline(\"Enter file name (Either FemaleMap.csv or MaleMap.csv): \") #Mapping table file\n",
    "genotypeName <- c(readline(\"First Genotype (homozygous) (For example ll): \"),\n",
    "                  readline(\"Second Genotype (heterozygous) (for example lm): \")) #For example \"nn\", \"np\"\n",
    "alleleName <- c(substr(genotypeName[2],1,1) ,substr(genotypeName[2],2,2))\n",
    "naNames <- c(\"NA\",\"--\") #For example \"NA\", \"--\"\n",
    "colNum <- as.numeric(readline(\"Column Number: \")) #Column for pheno of interest"
   ]
  },
  {
   "cell_type": "code",
   "execution_count": 12,
   "metadata": {},
   "outputs": [
    {
     "name": "stdout",
     "output_type": "stream",
     "text": [
      " --Read the following data:\n",
      "\t 294  individuals\n",
      "\t 1128  markers\n",
      "\t 38  phenotypes\n"
     ]
    },
    {
     "name": "stderr",
     "output_type": "stream",
     "text": [
      "Warning message in summary.cross(cross):\n",
      "\"Some markers at the same position on chr 1,3,4,5,6,7,8,9,10,12,13,14,15,16,17,18,19; use jittermap().\"\n"
     ]
    },
    {
     "name": "stdout",
     "output_type": "stream",
     "text": [
      " --Cross type: bc \n"
     ]
    },
    {
     "data": {
      "image/png": "[encoded data removed]",
      "text/plain": [
       "Plot with title \"Genetic map\""
      ]
     },
     "metadata": {
      "image/png": {
       "height": 420,
       "width": 420
      },
      "text/plain": {
       "height": 420,
       "width": 420
      }
     },
     "output_type": "display_data"
    }
   ],
   "source": [
    "#Map generation\n",
    "Map <- read.cross(format = 'csv',file = fileName \n",
    "                  ,genotypes = genotypeName,\n",
    "                  alleles = alleleName,na.strings = naNames) #generate linkage map\n",
    "Map <- jittermap(Map) #make sure no markers are in the same location\n",
    "Map <- calc.genoprob(Map,step = 1,map.function = \"kosambi\") #associate markers with full genotypes\n",
    "plot.map(Map) #draw linkage map"
   ]
  },
  {
   "cell_type": "code",
   "execution_count": 13,
   "metadata": {},
   "outputs": [
    {
     "data": {
      "image/png": "[encoded data removed]",
      "text/plain": [
       "Plot with title \"\""
      ]
     },
     "metadata": {
      "image/png": {
       "height": 420,
       "width": 420
      },
      "text/plain": {
       "height": 420,
       "width": 420
      }
     },
     "output_type": "display_data"
    }
   ],
   "source": [
    "plotNormalHistogram(Map$pheno[,colNum]) #normal histogram of pheno of interest"
   ]
  },
  {
   "cell_type": "markdown",
   "metadata": {},
   "source": [
    "Outliers exist in this data. "
   ]
  },
  {
   "cell_type": "code",
   "execution_count": 14,
   "metadata": {},
   "outputs": [
    {
     "data": {
      "text/plain": [
       "LOD thresholds (1000 permutations)\n",
       "   [,1]\n",
       "5% 4.16\n",
       "1% 4.94"
      ]
     },
     "metadata": {},
     "output_type": "display_data"
    },
    {
     "data": {
      "image/png": "[encoded data removed]",
      "text/plain": [
       "Plot with title \"\""
      ]
     },
     "metadata": {
      "image/png": {
       "height": 420,
       "width": 420
      },
      "text/plain": {
       "height": 420,
       "width": 420
      }
     },
     "output_type": "display_data"
    }
   ],
   "source": [
    "#Compute statistically significant values\n",
    "TraitCIM1000 <- cim(Map,pheno.col = colNum,method = \"hk\",\n",
    "                    map.function = \"kosambi\",n.perm = 1000) # Function will take a moment to run, determines LOD value\n",
    "plot(TraitCIM1000,col = 'green') #show distribution of lod scores\n",
    "summary(TraitCIM1000,alpha=c(.05,.01))"
   ]
  },
  {
   "cell_type": "code",
   "execution_count": 15,
   "metadata": {},
   "outputs": [
    {
     "name": "stdout",
     "output_type": "stream",
     "text": [
      "[1] \"If nothing shows up, the values \\n      are below the LOD5 score\"\n"
     ]
    },
    {
     "data": {
      "text/html": [
       "<table>\n",
       "<caption>A summary.scanone: 19 × 3</caption>\n",
       "<thead>\n",
       "\t<tr><th></th><th scope=col>chr</th><th scope=col>pos</th><th scope=col>lod</th></tr>\n",
       "\t<tr><th></th><th scope=col>&lt;fct&gt;</th><th scope=col>&lt;dbl&gt;</th><th scope=col>&lt;dbl&gt;</th></tr>\n",
       "</thead>\n",
       "<tbody>\n",
       "\t<tr><th scope=row>c1.loc19</th><td>1 </td><td>19.00000</td><td>0.8615623</td></tr>\n",
       "\t<tr><th scope=row>2_15428718</th><td>2 </td><td>63.00403</td><td>2.6284721</td></tr>\n",
       "\t<tr><th scope=row>c3.loc64</th><td>3 </td><td>64.00000</td><td>0.4823225</td></tr>\n",
       "\t<tr><th scope=row>c4.loc46</th><td>4 </td><td>46.00000</td><td>1.1943905</td></tr>\n",
       "\t<tr><th scope=row>c5.loc39</th><td>5 </td><td>39.00000</td><td>0.7959418</td></tr>\n",
       "\t<tr><th scope=row>6_2530151</th><td>6 </td><td>10.18301</td><td>1.1975932</td></tr>\n",
       "\t<tr><th scope=row>7_23660739</th><td>7 </td><td>97.25808</td><td>1.3613575</td></tr>\n",
       "\t<tr><th scope=row>c8.loc18</th><td>8 </td><td>18.00000</td><td>1.2043049</td></tr>\n",
       "\t<tr><th scope=row>9_5640646</th><td>9 </td><td>24.76802</td><td>0.6530710</td></tr>\n",
       "\t<tr><th scope=row>10_23478503</th><td>10</td><td>80.75303</td><td>0.8776318</td></tr>\n",
       "\t<tr><th scope=row>c11.loc62</th><td>11</td><td>62.00000</td><td>1.4910532</td></tr>\n",
       "\t<tr><th scope=row>12_4985627</th><td>12</td><td>20.06402</td><td>1.0326360</td></tr>\n",
       "\t<tr><th scope=row>11_7993795</th><td>13</td><td>78.50006</td><td>1.0970814</td></tr>\n",
       "\t<tr><th scope=row>14_24726221</th><td>14</td><td>68.48606</td><td>1.0862106</td></tr>\n",
       "\t<tr><th scope=row>c15.loc29</th><td>15</td><td>29.00000</td><td>2.1313857</td></tr>\n",
       "\t<tr><th scope=row>c16.loc11</th><td>16</td><td>11.00000</td><td>1.3985068</td></tr>\n",
       "\t<tr><th scope=row>c17.loc12</th><td>17</td><td>12.00000</td><td>0.6831805</td></tr>\n",
       "\t<tr><th scope=row>18_11355983</th><td>18</td><td>50.67603</td><td>1.5471434</td></tr>\n",
       "\t<tr><th scope=row>c19.loc77</th><td>19</td><td>77.00000</td><td>1.5562757</td></tr>\n",
       "</tbody>\n",
       "</table>\n"
      ],
      "text/latex": [
       "A summary.scanone: 19 × 3\n",
       "\\begin{tabular}{r|lll}\n",
       "  & chr & pos & lod\\\\\n",
       "  & <fct> & <dbl> & <dbl>\\\\\n",
       "\\hline\n",
       "\tc1.loc19 & 1  & 19.00000 & 0.8615623\\\\\n",
       "\t2\\_15428718 & 2  & 63.00403 & 2.6284721\\\\\n",
       "\tc3.loc64 & 3  & 64.00000 & 0.4823225\\\\\n",
       "\tc4.loc46 & 4  & 46.00000 & 1.1943905\\\\\n",
       "\tc5.loc39 & 5  & 39.00000 & 0.7959418\\\\\n",
       "\t6\\_2530151 & 6  & 10.18301 & 1.1975932\\\\\n",
       "\t7\\_23660739 & 7  & 97.25808 & 1.3613575\\\\\n",
       "\tc8.loc18 & 8  & 18.00000 & 1.2043049\\\\\n",
       "\t9\\_5640646 & 9  & 24.76802 & 0.6530710\\\\\n",
       "\t10\\_23478503 & 10 & 80.75303 & 0.8776318\\\\\n",
       "\tc11.loc62 & 11 & 62.00000 & 1.4910532\\\\\n",
       "\t12\\_4985627 & 12 & 20.06402 & 1.0326360\\\\\n",
       "\t11\\_7993795 & 13 & 78.50006 & 1.0970814\\\\\n",
       "\t14\\_24726221 & 14 & 68.48606 & 1.0862106\\\\\n",
       "\tc15.loc29 & 15 & 29.00000 & 2.1313857\\\\\n",
       "\tc16.loc11 & 16 & 11.00000 & 1.3985068\\\\\n",
       "\tc17.loc12 & 17 & 12.00000 & 0.6831805\\\\\n",
       "\t18\\_11355983 & 18 & 50.67603 & 1.5471434\\\\\n",
       "\tc19.loc77 & 19 & 77.00000 & 1.5562757\\\\\n",
       "\\end{tabular}\n"
      ],
      "text/markdown": [
       "\n",
       "A summary.scanone: 19 × 3\n",
       "\n",
       "| <!--/--> | chr &lt;fct&gt; | pos &lt;dbl&gt; | lod &lt;dbl&gt; |\n",
       "|---|---|---|---|\n",
       "| c1.loc19 | 1  | 19.00000 | 0.8615623 |\n",
       "| 2_15428718 | 2  | 63.00403 | 2.6284721 |\n",
       "| c3.loc64 | 3  | 64.00000 | 0.4823225 |\n",
       "| c4.loc46 | 4  | 46.00000 | 1.1943905 |\n",
       "| c5.loc39 | 5  | 39.00000 | 0.7959418 |\n",
       "| 6_2530151 | 6  | 10.18301 | 1.1975932 |\n",
       "| 7_23660739 | 7  | 97.25808 | 1.3613575 |\n",
       "| c8.loc18 | 8  | 18.00000 | 1.2043049 |\n",
       "| 9_5640646 | 9  | 24.76802 | 0.6530710 |\n",
       "| 10_23478503 | 10 | 80.75303 | 0.8776318 |\n",
       "| c11.loc62 | 11 | 62.00000 | 1.4910532 |\n",
       "| 12_4985627 | 12 | 20.06402 | 1.0326360 |\n",
       "| 11_7993795 | 13 | 78.50006 | 1.0970814 |\n",
       "| 14_24726221 | 14 | 68.48606 | 1.0862106 |\n",
       "| c15.loc29 | 15 | 29.00000 | 2.1313857 |\n",
       "| c16.loc11 | 16 | 11.00000 | 1.3985068 |\n",
       "| c17.loc12 | 17 | 12.00000 | 0.6831805 |\n",
       "| 18_11355983 | 18 | 50.67603 | 1.5471434 |\n",
       "| c19.loc77 | 19 | 77.00000 | 1.5562757 |\n",
       "\n"
      ],
      "text/plain": [
       "            chr pos      lod      \n",
       "c1.loc19    1   19.00000 0.8615623\n",
       "2_15428718  2   63.00403 2.6284721\n",
       "c3.loc64    3   64.00000 0.4823225\n",
       "c4.loc46    4   46.00000 1.1943905\n",
       "c5.loc39    5   39.00000 0.7959418\n",
       "6_2530151   6   10.18301 1.1975932\n",
       "7_23660739  7   97.25808 1.3613575\n",
       "c8.loc18    8   18.00000 1.2043049\n",
       "9_5640646   9   24.76802 0.6530710\n",
       "10_23478503 10  80.75303 0.8776318\n",
       "c11.loc62   11  62.00000 1.4910532\n",
       "12_4985627  12  20.06402 1.0326360\n",
       "11_7993795  13  78.50006 1.0970814\n",
       "14_24726221 14  68.48606 1.0862106\n",
       "c15.loc29   15  29.00000 2.1313857\n",
       "c16.loc11   16  11.00000 1.3985068\n",
       "c17.loc12   17  12.00000 0.6831805\n",
       "18_11355983 18  50.67603 1.5471434\n",
       "c19.loc77   19  77.00000 1.5562757"
      ]
     },
     "metadata": {},
     "output_type": "display_data"
    },
    {
     "data": {
      "image/png": "[encoded data removed]",
      "text/plain": [
       "plot without title"
      ]
     },
     "metadata": {
      "image/png": {
       "height": 420,
       "width": 420
      },
      "text/plain": {
       "height": 420,
       "width": 420
      }
     },
     "output_type": "display_data"
    }
   ],
   "source": [
    "#Deterime LOD Values\n",
    "TraitCIM<-cim(Map,pheno.col = colNum,method = \"hk\",\n",
    "              map.function = \"kosambi\") #Generate LOD Values\n",
    "plot(TraitCIM) #show LOD graph\n",
    "abline(h = LOD5,col = \"blue\") #overlay statistically significant line\n",
    "print(\"If nothing shows up, the values \n",
    "      are below the LOD5 score\") #warning for no peaks\n",
    "summary(TraitCIM)"
   ]
  },
  {
   "cell_type": "code",
   "execution_count": 16,
   "metadata": {},
   "outputs": [
    {
     "name": "stdin",
     "output_type": "stream",
     "text": [
      "Chromosome?  2\n"
     ]
    },
    {
     "data": {
      "image/png": "[encoded data removed]",
      "text/plain": [
       "plot without title"
      ]
     },
     "metadata": {
      "image/png": {
       "height": 420,
       "width": 420
      },
      "text/plain": {
       "height": 420,
       "width": 420
      }
     },
     "output_type": "display_data"
    }
   ],
   "source": [
    "#Chromosomal Analysis\n",
    "chr <- as.numeric(readline(\"Chromosome? \")) #collect chromosome to look at\n",
    "plot(TraitCIM, chr = chr,xlab = c(\"chr\",chr)) #Plot chr LOD scores\n",
    "abline(h = LOD5, col = \"blue\") #Statistically Significant"
   ]
  },
  {
   "cell_type": "code",
   "execution_count": 17,
   "metadata": {},
   "outputs": [
    {
     "data": {
      "text/html": [
       "<table>\n",
       "<caption>A scanone: 3 × 3</caption>\n",
       "<thead>\n",
       "\t<tr><th></th><th scope=col>chr</th><th scope=col>pos</th><th scope=col>lod</th></tr>\n",
       "\t<tr><th></th><th scope=col>&lt;fct&gt;</th><th scope=col>&lt;dbl&gt;</th><th scope=col>&lt;dbl&gt;</th></tr>\n",
       "</thead>\n",
       "<tbody>\n",
       "\t<tr><th scope=row>2_681715</th><td>2</td><td> 0.00000</td><td>0.48600087</td></tr>\n",
       "\t<tr><th scope=row>2_15428718</th><td>2</td><td>63.00403</td><td>2.62847209</td></tr>\n",
       "\t<tr><th scope=row>2_17632093</th><td>2</td><td>69.25504</td><td>0.01571231</td></tr>\n",
       "</tbody>\n",
       "</table>\n"
      ],
      "text/latex": [
       "A scanone: 3 × 3\n",
       "\\begin{tabular}{r|lll}\n",
       "  & chr & pos & lod\\\\\n",
       "  & <fct> & <dbl> & <dbl>\\\\\n",
       "\\hline\n",
       "\t2\\_681715 & 2 &  0.00000 & 0.48600087\\\\\n",
       "\t2\\_15428718 & 2 & 63.00403 & 2.62847209\\\\\n",
       "\t2\\_17632093 & 2 & 69.25504 & 0.01571231\\\\\n",
       "\\end{tabular}\n"
      ],
      "text/markdown": [
       "\n",
       "A scanone: 3 × 3\n",
       "\n",
       "| <!--/--> | chr &lt;fct&gt; | pos &lt;dbl&gt; | lod &lt;dbl&gt; |\n",
       "|---|---|---|---|\n",
       "| 2_681715 | 2 |  0.00000 | 0.48600087 |\n",
       "| 2_15428718 | 2 | 63.00403 | 2.62847209 |\n",
       "| 2_17632093 | 2 | 69.25504 | 0.01571231 |\n",
       "\n"
      ],
      "text/plain": [
       "           chr pos      lod       \n",
       "2_681715   2    0.00000 0.48600087\n",
       "2_15428718 2   63.00403 2.62847209\n",
       "2_17632093 2   69.25504 0.01571231"
      ]
     },
     "metadata": {},
     "output_type": "display_data"
    },
    {
     "data": {
      "text/html": [
       "<table>\n",
       "<caption>A scanone: 3 × 3</caption>\n",
       "<thead>\n",
       "\t<tr><th></th><th scope=col>chr</th><th scope=col>pos</th><th scope=col>lod</th></tr>\n",
       "\t<tr><th></th><th scope=col>&lt;fct&gt;</th><th scope=col>&lt;dbl&gt;</th><th scope=col>&lt;dbl&gt;</th></tr>\n",
       "</thead>\n",
       "<tbody>\n",
       "\t<tr><th scope=row>2_15052983</th><td>2</td><td>62.26403</td><td>0.31887288</td></tr>\n",
       "\t<tr><th scope=row>2_15428718</th><td>2</td><td>63.00403</td><td>2.62847209</td></tr>\n",
       "\t<tr><th scope=row>2_17632093</th><td>2</td><td>69.25504</td><td>0.01571231</td></tr>\n",
       "</tbody>\n",
       "</table>\n"
      ],
      "text/latex": [
       "A scanone: 3 × 3\n",
       "\\begin{tabular}{r|lll}\n",
       "  & chr & pos & lod\\\\\n",
       "  & <fct> & <dbl> & <dbl>\\\\\n",
       "\\hline\n",
       "\t2\\_15052983 & 2 & 62.26403 & 0.31887288\\\\\n",
       "\t2\\_15428718 & 2 & 63.00403 & 2.62847209\\\\\n",
       "\t2\\_17632093 & 2 & 69.25504 & 0.01571231\\\\\n",
       "\\end{tabular}\n"
      ],
      "text/markdown": [
       "\n",
       "A scanone: 3 × 3\n",
       "\n",
       "| <!--/--> | chr &lt;fct&gt; | pos &lt;dbl&gt; | lod &lt;dbl&gt; |\n",
       "|---|---|---|---|\n",
       "| 2_15052983 | 2 | 62.26403 | 0.31887288 |\n",
       "| 2_15428718 | 2 | 63.00403 | 2.62847209 |\n",
       "| 2_17632093 | 2 | 69.25504 | 0.01571231 |\n",
       "\n"
      ],
      "text/plain": [
       "           chr pos      lod       \n",
       "2_15052983 2   62.26403 0.31887288\n",
       "2_15428718 2   63.00403 2.62847209\n",
       "2_17632093 2   69.25504 0.01571231"
      ]
     },
     "metadata": {},
     "output_type": "display_data"
    }
   ],
   "source": [
    "bayesint(TraitCIM, chr = chr, prob=0.95, expandtomarkers=TRUE) #calculate bayesian interval\n",
    "lodint(TraitCIM, chr = chr,expandtomarkers = TRUE ) #calculate LOD Support interval"
   ]
  },
  {
   "cell_type": "code",
   "execution_count": 18,
   "metadata": {},
   "outputs": [
    {
     "name": "stdin",
     "output_type": "stream",
     "text": [
      "Position for analysis:  63.0043\n"
     ]
    },
    {
     "name": "stderr",
     "output_type": "stream",
     "text": [
      "Warning message in getsex(cross):\n",
      "\"125 individuals with missing sex; assuming they're female\"\n",
      "Warning message in fitqtlengine(pheno = pheno, qtl = qtl, covar = covar, formula = formula, :\n",
      "\"Dropping 124 individuals with missing phenotypes.\n",
      "\"\n",
      "Warning message in getsex(cross):\n",
      "\"125 individuals with missing sex; assuming they're female\"\n"
     ]
    },
    {
     "data": {
      "text/plain": [
       "\n",
       "\t\tfitqtl summary\n",
       "\n",
       "Method: Haley-Knott regression \n",
       "Model:  normal phenotype\n",
       "Number of observations : 170 \n",
       "\n",
       "Full model result\n",
       "----------------------------------  \n",
       "Model formula: y ~ Q1 \n",
       "\n",
       "       df        SS        MS      LOD     %var Pvalue(Chi2)   Pvalue(F)\n",
       "Model   1  1.893633 1.8936333 2.663824 6.961887 0.0004609491 0.000507683\n",
       "Error 168 25.306367 0.1506331                                           \n",
       "Total 169 27.200000                                                     \n",
       "\n",
       "\n",
       "Estimated effects:\n",
       "-----------------\n",
       "               est       SE      t\n",
       "Intercept  0.19319  0.02983  6.477\n",
       "2@63.0    -0.21252  0.05994 -3.546\n"
      ]
     },
     "metadata": {},
     "output_type": "display_data"
    }
   ],
   "source": [
    "p <- as.numeric(readline(\"Position for analysis: \"))\n",
    "qtl <- makeqtl(Map, chr = chr, pos = p, what=\"prob\") #pulls genotype probabilities\n",
    "fitqtl <- fitqtl(Map, pheno.col=colNum, qtl = qtl, covar=NULL,\n",
    "       method= \"hk\",model=\"normal\",\n",
    "       dropone=TRUE, get.ests=TRUE,run.checks=TRUE,\n",
    "       tol=1e-4, maxit=1000, forceXcovar=FALSE) #sees how well our data fits a given formula \n",
    "          # If you see \"error: object of type 'closure' is not subsettable\", remove \"formula,\" from the fitqtl argument list.\n",
    "summary(fitqtl) #Print results of the analysis"
   ]
  },
  {
   "cell_type": "code",
   "execution_count": null,
   "metadata": {},
   "outputs": [],
   "source": []
  }
 ],
 "metadata": {
  "kernelspec": {
   "display_name": "R",
   "language": "R",
   "name": "ir"
  },
  "language_info": {
   "codemirror_mode": "r",
   "file_extension": ".r",
   "mimetype": "text/x-r-source",
   "name": "R",
   "pygments_lexer": "r",
   "version": "3.6.3"
  }
 },
 "nbformat": 4,
 "nbformat_minor": 4
}
