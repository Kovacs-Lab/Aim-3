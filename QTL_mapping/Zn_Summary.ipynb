{
 "cells": [
  {
   "cell_type": "markdown",
   "metadata": {},
   "source": [
    "This analysis is in the order of Female then Male"
   ]
  },
  {
   "cell_type": "code",
   "execution_count": 1,
   "metadata": {},
   "outputs": [
    {
     "name": "stderr",
     "output_type": "stream",
     "text": [
      "Warning message in install.packages(\"qtl\"):\n",
      "\"'lib = \"C:/Program Files/R/R-3.6.1/library\"' is not writable\"\n"
     ]
    },
    {
     "ename": "ERROR",
     "evalue": "Error in install.packages(\"qtl\"): unable to install packages\n",
     "output_type": "error",
     "traceback": [
      "Error in install.packages(\"qtl\"): unable to install packages\nTraceback:\n",
      "1. install.packages(\"qtl\")",
      "2. stop(\"unable to install packages\")"
     ]
    }
   ],
   "source": [
    "install.packages('qtl') #Main package, for analysis\n",
    "install.packages('qtlcharts') #accessory, for displaying graphs\n",
    "install.packages('LinkageMapView') #accessory, for displaying linkage maps\n",
    "install.packages('rcompanion')# for plotNormalHistogram"
   ]
  },
  {
   "cell_type": "code",
   "execution_count": 1,
   "metadata": {},
   "outputs": [
    {
     "name": "stderr",
     "output_type": "stream",
     "text": [
      "Warning message:\n",
      "\"package 'qtl' was built under R version 3.6.2\"\n",
      "Warning message:\n",
      "\"package 'qtlcharts' was built under R version 3.6.2\"\n",
      "Warning message:\n",
      "\"package 'LinkageMapView' was built under R version 3.6.2\"\n",
      "Warning message:\n",
      "\"package 'rcompanion' was built under R version 3.6.2\"\n"
     ]
    }
   ],
   "source": [
    "library(qtl) #load packages\n",
    "library(qtlcharts)\n",
    "library(LinkageMapView)\n",
    "library(rcompanion)"
   ]
  },
  {
   "cell_type": "code",
   "execution_count": 13,
   "metadata": {},
   "outputs": [
    {
     "name": "stdout",
     "output_type": "stream",
     "text": [
      "[1] \"Make sure to input names AS THEY APPEAR on the csv!!\"\n"
     ]
    },
    {
     "name": "stdin",
     "output_type": "stream",
     "text": [
      "Enter file name (Either FemaleMap.csv or MaleMap.csv):  FemaleMap.csv\n",
      "First Genotype (homozygous) (For example ll):  ll\n",
      "Second Genotype (heterozygous) (for example lm):  lm\n",
      "Column Number:  31\n"
     ]
    }
   ],
   "source": [
    "#Collecting enviroment variables\n",
    "print(\"Make sure to input names AS THEY APPEAR on the csv!!\") #Just a user warning\n",
    "fileName <- readline(\"Enter file name (Either FemaleMap.csv or MaleMap.csv): \") #Mapping table file\n",
    "genotypeName <- c(readline(\"First Genotype (homozygous) (For example ll): \"),\n",
    "                  readline(\"Second Genotype (heterozygous) (for example lm): \")) #For example \"nn\", \"np\"\n",
    "alleleName <- c(substr(genotypeName[2],1,1) ,substr(genotypeName[2],2,2))\n",
    "naNames <- c(\"NA\",\"--\") #For example \"NA\", \"--\"\n",
    "colNum <- as.numeric(readline(\"Column Number: \")) #Column for pheno of interest"
   ]
  },
  {
   "cell_type": "code",
   "execution_count": 17,
   "metadata": {},
   "outputs": [
    {
     "name": "stdout",
     "output_type": "stream",
     "text": [
      " --Read the following data:\n",
      "\t 294  individuals\n",
      "\t 1100  markers\n",
      "\t 38  phenotypes\n"
     ]
    },
    {
     "name": "stderr",
     "output_type": "stream",
     "text": [
      "Warning message in summary.cross(cross):\n",
      "\"Some markers at the same position on chr 1,2,4,5,7,8,9,10,11,12,13,14,16,17,18,19; use jittermap().\"\n"
     ]
    },
    {
     "name": "stdout",
     "output_type": "stream",
     "text": [
      " --Cross type: bc \n"
     ]
    },
    {
     "data": {
      "image/png": "[encoded data removed]",
      "text/plain": [
       "Plot with title \"Genetic map\""
      ]
     },
     "metadata": {
      "image/png": {
       "height": 420,
       "width": 420
      }
     },
     "output_type": "display_data"
    }
   ],
   "source": [
    "#Map generation\n",
    "Map <- read.cross(format = 'csv',file = fileName \n",
    "                  ,genotypes = genotypeName,\n",
    "                  alleles = alleleName,na.strings = naNames) #generate linkage map\n",
    "Map <- jittermap(Map) #make sure no markers are in the same location\n",
    "Map <- calc.genoprob(Map,step = 1,map.function = \"kosambi\") #associate markers with full genotypes\n",
    "plot.map(Map) #draw linkage map"
   ]
  },
  {
   "cell_type": "code",
   "execution_count": 18,
   "metadata": {},
   "outputs": [
    {
     "data": {
      "image/png": "[encoded data removed]",
      "text/plain": [
       "Plot with title \"\""
      ]
     },
     "metadata": {
      "image/png": {
       "height": 420,
       "width": 420
      }
     },
     "output_type": "display_data"
    }
   ],
   "source": [
    "plotNormalHistogram(Map$pheno[,colNum]) #normal histogram of pheno of interest"
   ]
  },
  {
   "cell_type": "markdown",
   "metadata": {},
   "source": [
    "Outliers exist in this dataset. Will need to be analyized. "
   ]
  },
  {
   "cell_type": "code",
   "execution_count": 22,
   "metadata": {},
   "outputs": [
    {
     "name": "stderr",
     "output_type": "stream",
     "text": [
      "Warning message in checkcovar(cross, pheno.col, addcovar, intcovar, perm.strata, :\n",
      "\"addcovar appears to be over-specified; consider dropping columns.\n",
      "\"\n",
      "Warning message in checkcovar(cross, pheno.col, addcovar, intcovar, perm.strata, :\n",
      "\"addcovar appears to be over-specified; consider dropping columns.\n",
      "\"\n"
     ]
    },
    {
     "data": {
      "image/png": "[encoded data removed]",
      "text/plain": [
       "Plot with title \"\""
      ]
     },
     "metadata": {
      "image/png": {
       "height": 420,
       "width": 420
      }
     },
     "output_type": "display_data"
    }
   ],
   "source": [
    "#Compute statistically significant values\n",
    "TraitCIM1000 <- cim(Map,pheno.col = colNum,method = \"hk\",\n",
    "                    map.function = \"kosambi\",n.perm = 1000) # Function will take a moment to run, determines LOD value\n",
    "plot(TraitCIM1000,col = 'green') #show distribution of lod scores\n",
    "LOD5 <- summary(TraitCIM1000)[1]"
   ]
  },
  {
   "cell_type": "code",
   "execution_count": 27,
   "metadata": {},
   "outputs": [
    {
     "name": "stdout",
     "output_type": "stream",
     "text": [
      "[1] \"If nothing shows up, the values \\n      are below the LOD5 score\"\n"
     ]
    },
    {
     "data": {
      "text/html": [
       "<table>\n",
       "<caption>A summary.scanone: 19 × 3</caption>\n",
       "<thead>\n",
       "\t<tr><th></th><th scope=col>chr</th><th scope=col>pos</th><th scope=col>lod</th></tr>\n",
       "\t<tr><th></th><th scope=col>&lt;fct&gt;</th><th scope=col>&lt;dbl&gt;</th><th scope=col>&lt;dbl&gt;</th></tr>\n",
       "</thead>\n",
       "<tbody>\n",
       "\t<tr><th scope=row>c1.loc56</th><td>1 </td><td>56.000000</td><td>0.8130616</td></tr>\n",
       "\t<tr><th scope=row>2_5186881</th><td>2 </td><td>46.031020</td><td>0.1509746</td></tr>\n",
       "\t<tr><th scope=row>3_1055923</th><td>3 </td><td> 1.175003</td><td>0.8402639</td></tr>\n",
       "\t<tr><th scope=row>c4.loc8</th><td>4 </td><td> 8.000000</td><td>0.4676942</td></tr>\n",
       "\t<tr><th scope=row>c5.loc53</th><td>5 </td><td>53.000000</td><td>2.4242637</td></tr>\n",
       "\t<tr><th scope=row>c6.loc20</th><td>6 </td><td>20.000000</td><td>1.4975816</td></tr>\n",
       "\t<tr><th scope=row>7_9745059</th><td>7 </td><td>38.542042</td><td>1.5171799</td></tr>\n",
       "\t<tr><th scope=row>8_17047597</th><td>8 </td><td>60.171037</td><td>1.6980112</td></tr>\n",
       "\t<tr><th scope=row>c9.loc21</th><td>9 </td><td>21.000000</td><td>2.1994090</td></tr>\n",
       "\t<tr><th scope=row>c10.loc61</th><td>10</td><td>61.000000</td><td>0.7781886</td></tr>\n",
       "\t<tr><th scope=row>c11.loc23</th><td>11</td><td>23.000000</td><td>1.1334505</td></tr>\n",
       "\t<tr><th scope=row>c12.loc47</th><td>12</td><td>47.000000</td><td>1.4592775</td></tr>\n",
       "\t<tr><th scope=row>c13.loc26</th><td>13</td><td>26.000000</td><td>0.8035526</td></tr>\n",
       "\t<tr><th scope=row>c14.loc90</th><td>14</td><td>90.000000</td><td>0.3711184</td></tr>\n",
       "\t<tr><th scope=row>c15.loc36</th><td>15</td><td>36.000000</td><td>0.6281815</td></tr>\n",
       "\t<tr><th scope=row>c16.loc65</th><td>16</td><td>65.000000</td><td>1.0779286</td></tr>\n",
       "\t<tr><th scope=row>c17.loc41</th><td>17</td><td>41.000000</td><td>0.4201903</td></tr>\n",
       "\t<tr><th scope=row>18_1494233</th><td>18</td><td> 5.015007</td><td>2.4571960</td></tr>\n",
       "\t<tr><th scope=row>19_802793</th><td>19</td><td> 2.370007</td><td>0.9613305</td></tr>\n",
       "</tbody>\n",
       "</table>\n"
      ],
      "text/latex": [
       "A summary.scanone: 19 × 3\n",
       "\\begin{tabular}{r|lll}\n",
       "  & chr & pos & lod\\\\\n",
       "  & <fct> & <dbl> & <dbl>\\\\\n",
       "\\hline\n",
       "\tc1.loc56 & 1  & 56.000000 & 0.8130616\\\\\n",
       "\t2\\_5186881 & 2  & 46.031020 & 0.1509746\\\\\n",
       "\t3\\_1055923 & 3  &  1.175003 & 0.8402639\\\\\n",
       "\tc4.loc8 & 4  &  8.000000 & 0.4676942\\\\\n",
       "\tc5.loc53 & 5  & 53.000000 & 2.4242637\\\\\n",
       "\tc6.loc20 & 6  & 20.000000 & 1.4975816\\\\\n",
       "\t7\\_9745059 & 7  & 38.542042 & 1.5171799\\\\\n",
       "\t8\\_17047597 & 8  & 60.171037 & 1.6980112\\\\\n",
       "\tc9.loc21 & 9  & 21.000000 & 2.1994090\\\\\n",
       "\tc10.loc61 & 10 & 61.000000 & 0.7781886\\\\\n",
       "\tc11.loc23 & 11 & 23.000000 & 1.1334505\\\\\n",
       "\tc12.loc47 & 12 & 47.000000 & 1.4592775\\\\\n",
       "\tc13.loc26 & 13 & 26.000000 & 0.8035526\\\\\n",
       "\tc14.loc90 & 14 & 90.000000 & 0.3711184\\\\\n",
       "\tc15.loc36 & 15 & 36.000000 & 0.6281815\\\\\n",
       "\tc16.loc65 & 16 & 65.000000 & 1.0779286\\\\\n",
       "\tc17.loc41 & 17 & 41.000000 & 0.4201903\\\\\n",
       "\t18\\_1494233 & 18 &  5.015007 & 2.4571960\\\\\n",
       "\t19\\_802793 & 19 &  2.370007 & 0.9613305\\\\\n",
       "\\end{tabular}\n"
      ],
      "text/markdown": [
       "\n",
       "A summary.scanone: 19 × 3\n",
       "\n",
       "| <!--/--> | chr &lt;fct&gt; | pos &lt;dbl&gt; | lod &lt;dbl&gt; |\n",
       "|---|---|---|---|\n",
       "| c1.loc56 | 1  | 56.000000 | 0.8130616 |\n",
       "| 2_5186881 | 2  | 46.031020 | 0.1509746 |\n",
       "| 3_1055923 | 3  |  1.175003 | 0.8402639 |\n",
       "| c4.loc8 | 4  |  8.000000 | 0.4676942 |\n",
       "| c5.loc53 | 5  | 53.000000 | 2.4242637 |\n",
       "| c6.loc20 | 6  | 20.000000 | 1.4975816 |\n",
       "| 7_9745059 | 7  | 38.542042 | 1.5171799 |\n",
       "| 8_17047597 | 8  | 60.171037 | 1.6980112 |\n",
       "| c9.loc21 | 9  | 21.000000 | 2.1994090 |\n",
       "| c10.loc61 | 10 | 61.000000 | 0.7781886 |\n",
       "| c11.loc23 | 11 | 23.000000 | 1.1334505 |\n",
       "| c12.loc47 | 12 | 47.000000 | 1.4592775 |\n",
       "| c13.loc26 | 13 | 26.000000 | 0.8035526 |\n",
       "| c14.loc90 | 14 | 90.000000 | 0.3711184 |\n",
       "| c15.loc36 | 15 | 36.000000 | 0.6281815 |\n",
       "| c16.loc65 | 16 | 65.000000 | 1.0779286 |\n",
       "| c17.loc41 | 17 | 41.000000 | 0.4201903 |\n",
       "| 18_1494233 | 18 |  5.015007 | 2.4571960 |\n",
       "| 19_802793 | 19 |  2.370007 | 0.9613305 |\n",
       "\n"
      ],
      "text/plain": [
       "           chr pos       lod      \n",
       "c1.loc56   1   56.000000 0.8130616\n",
       "2_5186881  2   46.031020 0.1509746\n",
       "3_1055923  3    1.175003 0.8402639\n",
       "c4.loc8    4    8.000000 0.4676942\n",
       "c5.loc53   5   53.000000 2.4242637\n",
       "c6.loc20   6   20.000000 1.4975816\n",
       "7_9745059  7   38.542042 1.5171799\n",
       "8_17047597 8   60.171037 1.6980112\n",
       "c9.loc21   9   21.000000 2.1994090\n",
       "c10.loc61  10  61.000000 0.7781886\n",
       "c11.loc23  11  23.000000 1.1334505\n",
       "c12.loc47  12  47.000000 1.4592775\n",
       "c13.loc26  13  26.000000 0.8035526\n",
       "c14.loc90  14  90.000000 0.3711184\n",
       "c15.loc36  15  36.000000 0.6281815\n",
       "c16.loc65  16  65.000000 1.0779286\n",
       "c17.loc41  17  41.000000 0.4201903\n",
       "18_1494233 18   5.015007 2.4571960\n",
       "19_802793  19   2.370007 0.9613305"
      ]
     },
     "metadata": {},
     "output_type": "display_data"
    },
    {
     "data": {
      "image/png": "[encoded data removed]",
      "text/plain": [
       "plot without title"
      ]
     },
     "metadata": {
      "image/png": {
       "height": 420,
       "width": 420
      }
     },
     "output_type": "display_data"
    }
   ],
   "source": [
    "#Deterime LOD Values\n",
    "TraitCIM<-cim(Map,pheno.col = colNum,method = \"hk\",\n",
    "              map.function = \"kosambi\") #Generate LOD Values\n",
    "plot(TraitCIM) #show LOD graph\n",
    "abline(h = LOD5,col = \"blue\") #overlay statistically significant line\n",
    "print(\"If nothing shows up, the values \n",
    "      are below the LOD5 score\") #warning for no peaks\n",
    "summary(TraitCIM)"
   ]
  },
  {
   "cell_type": "code",
   "execution_count": 33,
   "metadata": {},
   "outputs": [
    {
     "name": "stdin",
     "output_type": "stream",
     "text": [
      "Chromosome?  8\n",
      "Would you like to investigate \n",
      "                  another chromosome? (Y/N):  n\n"
     ]
    },
    {
     "data": {
      "image/png": "[encoded data removed]",
      "text/plain": [
       "plot without title"
      ]
     },
     "metadata": {
      "image/png": {
       "height": 420,
       "width": 420
      },
      "text/plain": {
       "height": 420,
       "width": 420
      }
     },
     "output_type": "display_data"
    }
   ],
   "source": [
    "#Chromosomal Analysis\n",
    "cont = 'Y' #Run loop on first run through\n",
    "while(cont == 'Y'){\n",
    "  chr <- as.numeric(readline(\"Chromosome? \")) #collect chromosome to look at\n",
    "  plot(TraitCIM, chr = chr) #Plot chr LOD scores\n",
    "  abline(h = LOD5, col = \"blue\") #Statistically Significant\n",
    "  cont = readline(\"Would you like to investigate \n",
    "                  another chromosome? (Y/N): \") #Y if multiple\n",
    "                  #chromosomes are to be investigated\n",
    "}"
   ]
  },
  {
   "cell_type": "code",
   "execution_count": 34,
   "metadata": {},
   "outputs": [
    {
     "data": {
      "text/html": [
       "<table>\n",
       "<caption>A scanone: 3 × 3</caption>\n",
       "<thead>\n",
       "\t<tr><th></th><th scope=col>chr</th><th scope=col>pos</th><th scope=col>lod</th></tr>\n",
       "\t<tr><th></th><th scope=col>&lt;fct&gt;</th><th scope=col>&lt;dbl&gt;</th><th scope=col>&lt;dbl&gt;</th></tr>\n",
       "</thead>\n",
       "<tbody>\n",
       "\t<tr><th scope=row>8_379062</th><td>8</td><td> 0.00000</td><td>0.07963560</td></tr>\n",
       "\t<tr><th scope=row>c8.loc49</th><td>8</td><td>49.00000</td><td>1.64132501</td></tr>\n",
       "\t<tr><th scope=row>8_22223668</th><td>8</td><td>78.14607</td><td>0.02134908</td></tr>\n",
       "</tbody>\n",
       "</table>\n"
      ],
      "text/latex": [
       "A scanone: 3 × 3\n",
       "\\begin{tabular}{r|lll}\n",
       "  & chr & pos & lod\\\\\n",
       "  & <fct> & <dbl> & <dbl>\\\\\n",
       "\\hline\n",
       "\t8\\_379062 & 8 &  0.00000 & 0.07963560\\\\\n",
       "\tc8.loc49 & 8 & 49.00000 & 1.64132501\\\\\n",
       "\t8\\_22223668 & 8 & 78.14607 & 0.02134908\\\\\n",
       "\\end{tabular}\n"
      ],
      "text/markdown": [
       "\n",
       "A scanone: 3 × 3\n",
       "\n",
       "| <!--/--> | chr &lt;fct&gt; | pos &lt;dbl&gt; | lod &lt;dbl&gt; |\n",
       "|---|---|---|---|\n",
       "| 8_379062 | 8 |  0.00000 | 0.07963560 |\n",
       "| c8.loc49 | 8 | 49.00000 | 1.64132501 |\n",
       "| 8_22223668 | 8 | 78.14607 | 0.02134908 |\n",
       "\n"
      ],
      "text/plain": [
       "           chr pos      lod       \n",
       "8_379062   8    0.00000 0.07963560\n",
       "c8.loc49   8   49.00000 1.64132501\n",
       "8_22223668 8   78.14607 0.02134908"
      ]
     },
     "metadata": {},
     "output_type": "display_data"
    },
    {
     "data": {
      "text/html": [
       "<table>\n",
       "<caption>A scanone: 3 × 3</caption>\n",
       "<thead>\n",
       "\t<tr><th></th><th scope=col>chr</th><th scope=col>pos</th><th scope=col>lod</th></tr>\n",
       "\t<tr><th></th><th scope=col>&lt;fct&gt;</th><th scope=col>&lt;dbl&gt;</th><th scope=col>&lt;dbl&gt;</th></tr>\n",
       "</thead>\n",
       "<tbody>\n",
       "\t<tr><th scope=row>8_783956</th><td>8</td><td> 2.051002</td><td>0.09795248</td></tr>\n",
       "\t<tr><th scope=row>c8.loc49</th><td>8</td><td>49.000000</td><td>1.64132501</td></tr>\n",
       "\t<tr><th scope=row>8_21718474</th><td>8</td><td>77.022060</td><td>0.02973467</td></tr>\n",
       "</tbody>\n",
       "</table>\n"
      ],
      "text/latex": [
       "A scanone: 3 × 3\n",
       "\\begin{tabular}{r|lll}\n",
       "  & chr & pos & lod\\\\\n",
       "  & <fct> & <dbl> & <dbl>\\\\\n",
       "\\hline\n",
       "\t8\\_783956 & 8 &  2.051002 & 0.09795248\\\\\n",
       "\tc8.loc49 & 8 & 49.000000 & 1.64132501\\\\\n",
       "\t8\\_21718474 & 8 & 77.022060 & 0.02973467\\\\\n",
       "\\end{tabular}\n"
      ],
      "text/markdown": [
       "\n",
       "A scanone: 3 × 3\n",
       "\n",
       "| <!--/--> | chr &lt;fct&gt; | pos &lt;dbl&gt; | lod &lt;dbl&gt; |\n",
       "|---|---|---|---|\n",
       "| 8_783956 | 8 |  2.051002 | 0.09795248 |\n",
       "| c8.loc49 | 8 | 49.000000 | 1.64132501 |\n",
       "| 8_21718474 | 8 | 77.022060 | 0.02973467 |\n",
       "\n"
      ],
      "text/plain": [
       "           chr pos       lod       \n",
       "8_783956   8    2.051002 0.09795248\n",
       "c8.loc49   8   49.000000 1.64132501\n",
       "8_21718474 8   77.022060 0.02973467"
      ]
     },
     "metadata": {},
     "output_type": "display_data"
    }
   ],
   "source": [
    "bay <- scanone(Map, method = 'hk') #scan genome with sQTL model\n",
    "bayesint(bay, chr = chr, prob=0.95, \n",
    "         expandtomarkers=TRUE) #calculate bayesian interval\n",
    "lodint(bay, chr = chr,expandtomarkers = TRUE ) #calculate LOD Support interval"
   ]
  },
  {
   "cell_type": "code",
   "execution_count": 36,
   "metadata": {},
   "outputs": [
    {
     "name": "stdin",
     "output_type": "stream",
     "text": [
      "Position for analysis:  31\n"
     ]
    },
    {
     "name": "stderr",
     "output_type": "stream",
     "text": [
      "Warning message in getsex(cross):\n",
      "\"125 individuals with missing sex; assuming they're female\"\n",
      "Warning message in fitqtlengine(pheno = pheno, qtl = qtl, covar = covar, formula = formula, :\n",
      "\"Dropping 127 individuals with missing phenotypes.\n",
      "\"\n",
      "Warning message in getsex(cross):\n",
      "\"125 individuals with missing sex; assuming they're female\"\n"
     ]
    },
    {
     "data": {
      "text/plain": [
       "\n",
       "\t\tfitqtl summary\n",
       "\n",
       "Method: Haley-Knott regression \n",
       "Model:  normal phenotype\n",
       "Number of observations : 167 \n",
       "\n",
       "Full model result\n",
       "----------------------------------  \n",
       "Model formula: y ~ Q1 \n",
       "\n",
       "       df        SS         MS      LOD    %var Pvalue(Chi2)    Pvalue(F)\n",
       "Model   1  17.73632 17.7363229 4.239014 11.0321 9.947993e-06 1.158899e-05\n",
       "Error 165 143.03389  0.8668721                                           \n",
       "Total 166 160.77022                                                      \n",
       "\n",
       "\n",
       "Estimated effects:\n",
       "-----------------\n",
       "               est       SE      t\n",
       "Intercept  1.35296  0.07226 18.724\n",
       "8@31.0    -3.50042  0.77387 -4.523\n"
      ]
     },
     "metadata": {},
     "output_type": "display_data"
    }
   ],
   "source": [
    "p <- as.numeric(readline(\"Position for analysis: \"))\n",
    "qtl <- makeqtl(Map, chr = chr, pos = p, what=\"prob\") #pulls genotype probabilities\n",
    "fitqtl <- fitqtl(Map, pheno.col=colNum, qtl = qtl, covar=NULL,\n",
    "       method= \"hk\",model=\"normal\",\n",
    "       dropone=TRUE, get.ests=TRUE,run.checks=TRUE,\n",
    "       tol=1e-4, maxit=1000, forceXcovar=FALSE) #sees how well our data fits a given formula \n",
    "          # If you see \"error: object of type 'closure' is not subsettable\", remove \"formula,\" from the fitqtl argument list.\n",
    "summary(fitqtl) #Print results of the analysis"
   ]
  },
  {
   "cell_type": "code",
   "execution_count": 28,
   "metadata": {},
   "outputs": [
    {
     "name": "stdout",
     "output_type": "stream",
     "text": [
      "[1] \"Make sure to input names AS THEY APPEAR on the csv!!\"\n"
     ]
    },
    {
     "name": "stdin",
     "output_type": "stream",
     "text": [
      "Enter file name (Either FemaleMap.csv or MaleMap.csv):  MaleMap.csv\n",
      "First Genotype (homozygous) (For example ll):  nn\n",
      "Second Genotype (heterozygous) (for example lm):  np\n",
      "Column Number:  31\n"
     ]
    }
   ],
   "source": [
    "#Collecting enviroment variables\n",
    "print(\"Make sure to input names AS THEY APPEAR on the csv!!\") #Just a user warning\n",
    "fileName <- readline(\"Enter file name (Either FemaleMap.csv or MaleMap.csv): \") #Mapping table file\n",
    "genotypeName <- c(readline(\"First Genotype (homozygous) (For example ll): \"),\n",
    "                  readline(\"Second Genotype (heterozygous) (for example lm): \")) #For example \"nn\", \"np\"\n",
    "alleleName <- c(substr(genotypeName[2],1,1) ,substr(genotypeName[2],2,2))\n",
    "naNames <- c(\"NA\",\"--\") #For example \"NA\", \"--\"\n",
    "colNum <- as.numeric(readline(\"Column Number: \")) #Column for pheno of interest"
   ]
  },
  {
   "cell_type": "code",
   "execution_count": 32,
   "metadata": {},
   "outputs": [
    {
     "name": "stdout",
     "output_type": "stream",
     "text": [
      " --Read the following data:\n",
      "\t 294  individuals\n",
      "\t 1128  markers\n",
      "\t 38  phenotypes\n"
     ]
    },
    {
     "name": "stderr",
     "output_type": "stream",
     "text": [
      "Warning message in summary.cross(cross):\n",
      "\"Some markers at the same position on chr 1,3,4,5,6,7,8,9,10,12,13,14,15,16,17,18,19; use jittermap().\"\n"
     ]
    },
    {
     "name": "stdout",
     "output_type": "stream",
     "text": [
      " --Cross type: bc \n"
     ]
    },
    {
     "data": {
      "image/png": "[encoded data removed]",
      "text/plain": [
       "Plot with title \"Genetic map\""
      ]
     },
     "metadata": {
      "image/png": {
       "height": 420,
       "width": 420
      }
     },
     "output_type": "display_data"
    }
   ],
   "source": [
    "#Map generation\n",
    "Map <- read.cross(format = 'csv',file = fileName \n",
    "                  ,genotypes = genotypeName,\n",
    "                  alleles = alleleName,na.strings = naNames) #generate linkage map\n",
    "Map <- jittermap(Map) #make sure no markers are in the same location\n",
    "Map <- calc.genoprob(Map,step = 1,map.function = \"kosambi\") #associate markers with full genotypes\n",
    "plot.map(Map) #draw linkage map"
   ]
  },
  {
   "cell_type": "code",
   "execution_count": 33,
   "metadata": {},
   "outputs": [
    {
     "data": {
      "image/png": "[encoded data removed]",
      "text/plain": [
       "Plot with title \"\""
      ]
     },
     "metadata": {
      "image/png": {
       "height": 420,
       "width": 420
      }
     },
     "output_type": "display_data"
    }
   ],
   "source": [
    "plotNormalHistogram(Map$pheno[,colNum]) #normal histogram of pheno of interest"
   ]
  },
  {
   "cell_type": "markdown",
   "metadata": {},
   "source": [
    "Outliers exist in this data. "
   ]
  },
  {
   "cell_type": "code",
   "execution_count": 36,
   "metadata": {},
   "outputs": [
    {
     "data": {
      "image/png": "[encoded data removed]",
      "text/plain": [
       "Plot with title \"\""
      ]
     },
     "metadata": {
      "image/png": {
       "height": 420,
       "width": 420
      }
     },
     "output_type": "display_data"
    }
   ],
   "source": [
    "#Compute statistically significant values\n",
    "TraitCIM1000 <- cim(Map,pheno.col = colNum,method = \"hk\",\n",
    "                    map.function = \"kosambi\",n.perm = 1000) # Function will take a moment to run, determines LOD value\n",
    "plot(TraitCIM1000,col = 'green') #show distribution of lod scores\n",
    "LOD5 <- summary(TraitCIM1000)[1]"
   ]
  },
  {
   "cell_type": "code",
   "execution_count": 41,
   "metadata": {},
   "outputs": [
    {
     "name": "stdout",
     "output_type": "stream",
     "text": [
      "[1] \"If nothing shows up, the values \\n      are below the LOD5 score\"\n"
     ]
    },
    {
     "data": {
      "text/html": [
       "<table>\n",
       "<caption>A summary.scanone: 19 × 3</caption>\n",
       "<thead>\n",
       "\t<tr><th></th><th scope=col>chr</th><th scope=col>pos</th><th scope=col>lod</th></tr>\n",
       "\t<tr><th></th><th scope=col>&lt;fct&gt;</th><th scope=col>&lt;dbl&gt;</th><th scope=col>&lt;dbl&gt;</th></tr>\n",
       "</thead>\n",
       "<tbody>\n",
       "\t<tr><th scope=row>1_7253240</th><td>1 </td><td>39.756032</td><td>0.9065371</td></tr>\n",
       "\t<tr><th scope=row>c2.loc22</th><td>2 </td><td>22.000000</td><td>0.6945006</td></tr>\n",
       "\t<tr><th scope=row>c3.loc64</th><td>3 </td><td>64.000000</td><td>0.5736273</td></tr>\n",
       "\t<tr><th scope=row>12_9215138</th><td>4 </td><td>44.595031</td><td>0.9666628</td></tr>\n",
       "\t<tr><th scope=row>c5.loc7</th><td>5 </td><td> 7.000000</td><td>1.3460640</td></tr>\n",
       "\t<tr><th scope=row>c6.loc17</th><td>6 </td><td>17.000000</td><td>2.1441957</td></tr>\n",
       "\t<tr><th scope=row>7_1647439</th><td>7 </td><td> 7.984011</td><td>0.8688697</td></tr>\n",
       "\t<tr><th scope=row>c8.loc13</th><td>8 </td><td>13.000000</td><td>0.5783818</td></tr>\n",
       "\t<tr><th scope=row>c9.loc36</th><td>9 </td><td>36.000000</td><td>0.3919117</td></tr>\n",
       "\t<tr><th scope=row>10_1877004</th><td>10</td><td> 8.341006</td><td>0.8067467</td></tr>\n",
       "\t<tr><th scope=row>11_19642437</th><td>11</td><td>74.504038</td><td>0.9692163</td></tr>\n",
       "\t<tr><th scope=row>c12.loc25</th><td>12</td><td>25.000000</td><td>1.0123196</td></tr>\n",
       "\t<tr><th scope=row>c13.loc62</th><td>13</td><td>62.000000</td><td>1.7116107</td></tr>\n",
       "\t<tr><th scope=row>14_27052967</th><td>14</td><td>79.722066</td><td>1.0588976</td></tr>\n",
       "\t<tr><th scope=row>c15.loc81</th><td>15</td><td>81.000000</td><td>1.9473934</td></tr>\n",
       "\t<tr><th scope=row>16_136028</th><td>16</td><td>10.658002</td><td>1.5010732</td></tr>\n",
       "\t<tr><th scope=row>c17.loc56</th><td>17</td><td>56.000000</td><td>1.9268031</td></tr>\n",
       "\t<tr><th scope=row>c18.loc16</th><td>18</td><td>16.000000</td><td>0.5873572</td></tr>\n",
       "\t<tr><th scope=row>c19.loc68</th><td>19</td><td>68.000000</td><td>0.4821598</td></tr>\n",
       "</tbody>\n",
       "</table>\n"
      ],
      "text/latex": [
       "A summary.scanone: 19 × 3\n",
       "\\begin{tabular}{r|lll}\n",
       "  & chr & pos & lod\\\\\n",
       "  & <fct> & <dbl> & <dbl>\\\\\n",
       "\\hline\n",
       "\t1\\_7253240 & 1  & 39.756032 & 0.9065371\\\\\n",
       "\tc2.loc22 & 2  & 22.000000 & 0.6945006\\\\\n",
       "\tc3.loc64 & 3  & 64.000000 & 0.5736273\\\\\n",
       "\t12\\_9215138 & 4  & 44.595031 & 0.9666628\\\\\n",
       "\tc5.loc7 & 5  &  7.000000 & 1.3460640\\\\\n",
       "\tc6.loc17 & 6  & 17.000000 & 2.1441957\\\\\n",
       "\t7\\_1647439 & 7  &  7.984011 & 0.8688697\\\\\n",
       "\tc8.loc13 & 8  & 13.000000 & 0.5783818\\\\\n",
       "\tc9.loc36 & 9  & 36.000000 & 0.3919117\\\\\n",
       "\t10\\_1877004 & 10 &  8.341006 & 0.8067467\\\\\n",
       "\t11\\_19642437 & 11 & 74.504038 & 0.9692163\\\\\n",
       "\tc12.loc25 & 12 & 25.000000 & 1.0123196\\\\\n",
       "\tc13.loc62 & 13 & 62.000000 & 1.7116107\\\\\n",
       "\t14\\_27052967 & 14 & 79.722066 & 1.0588976\\\\\n",
       "\tc15.loc81 & 15 & 81.000000 & 1.9473934\\\\\n",
       "\t16\\_136028 & 16 & 10.658002 & 1.5010732\\\\\n",
       "\tc17.loc56 & 17 & 56.000000 & 1.9268031\\\\\n",
       "\tc18.loc16 & 18 & 16.000000 & 0.5873572\\\\\n",
       "\tc19.loc68 & 19 & 68.000000 & 0.4821598\\\\\n",
       "\\end{tabular}\n"
      ],
      "text/markdown": [
       "\n",
       "A summary.scanone: 19 × 3\n",
       "\n",
       "| <!--/--> | chr &lt;fct&gt; | pos &lt;dbl&gt; | lod &lt;dbl&gt; |\n",
       "|---|---|---|---|\n",
       "| 1_7253240 | 1  | 39.756032 | 0.9065371 |\n",
       "| c2.loc22 | 2  | 22.000000 | 0.6945006 |\n",
       "| c3.loc64 | 3  | 64.000000 | 0.5736273 |\n",
       "| 12_9215138 | 4  | 44.595031 | 0.9666628 |\n",
       "| c5.loc7 | 5  |  7.000000 | 1.3460640 |\n",
       "| c6.loc17 | 6  | 17.000000 | 2.1441957 |\n",
       "| 7_1647439 | 7  |  7.984011 | 0.8688697 |\n",
       "| c8.loc13 | 8  | 13.000000 | 0.5783818 |\n",
       "| c9.loc36 | 9  | 36.000000 | 0.3919117 |\n",
       "| 10_1877004 | 10 |  8.341006 | 0.8067467 |\n",
       "| 11_19642437 | 11 | 74.504038 | 0.9692163 |\n",
       "| c12.loc25 | 12 | 25.000000 | 1.0123196 |\n",
       "| c13.loc62 | 13 | 62.000000 | 1.7116107 |\n",
       "| 14_27052967 | 14 | 79.722066 | 1.0588976 |\n",
       "| c15.loc81 | 15 | 81.000000 | 1.9473934 |\n",
       "| 16_136028 | 16 | 10.658002 | 1.5010732 |\n",
       "| c17.loc56 | 17 | 56.000000 | 1.9268031 |\n",
       "| c18.loc16 | 18 | 16.000000 | 0.5873572 |\n",
       "| c19.loc68 | 19 | 68.000000 | 0.4821598 |\n",
       "\n"
      ],
      "text/plain": [
       "            chr pos       lod      \n",
       "1_7253240   1   39.756032 0.9065371\n",
       "c2.loc22    2   22.000000 0.6945006\n",
       "c3.loc64    3   64.000000 0.5736273\n",
       "12_9215138  4   44.595031 0.9666628\n",
       "c5.loc7     5    7.000000 1.3460640\n",
       "c6.loc17    6   17.000000 2.1441957\n",
       "7_1647439   7    7.984011 0.8688697\n",
       "c8.loc13    8   13.000000 0.5783818\n",
       "c9.loc36    9   36.000000 0.3919117\n",
       "10_1877004  10   8.341006 0.8067467\n",
       "11_19642437 11  74.504038 0.9692163\n",
       "c12.loc25   12  25.000000 1.0123196\n",
       "c13.loc62   13  62.000000 1.7116107\n",
       "14_27052967 14  79.722066 1.0588976\n",
       "c15.loc81   15  81.000000 1.9473934\n",
       "16_136028   16  10.658002 1.5010732\n",
       "c17.loc56   17  56.000000 1.9268031\n",
       "c18.loc16   18  16.000000 0.5873572\n",
       "c19.loc68   19  68.000000 0.4821598"
      ]
     },
     "metadata": {},
     "output_type": "display_data"
    },
    {
     "data": {
      "image/png": "[encoded data removed]",
      "text/plain": [
       "plot without title"
      ]
     },
     "metadata": {
      "image/png": {
       "height": 420,
       "width": 420
      }
     },
     "output_type": "display_data"
    }
   ],
   "source": [
    "#Deterime LOD Values\n",
    "TraitCIM<-cim(Map,pheno.col = colNum,method = \"hk\",\n",
    "              map.function = \"kosambi\") #Generate LOD Values\n",
    "plot(TraitCIM) #show LOD graph\n",
    "abline(h = LOD5,col = \"blue\") #overlay statistically significant line\n",
    "print(\"If nothing shows up, the values \n",
    "      are below the LOD5 score\") #warning for no peaks\n",
    "summary(TraitCIM)"
   ]
  }
 ],
 "metadata": {
  "kernelspec": {
   "display_name": "R",
   "language": "R",
   "name": "ir"
  },
  "language_info": {
   "codemirror_mode": "r",
   "file_extension": ".r",
   "mimetype": "text/x-r-source",
   "name": "R",
   "pygments_lexer": "r",
   "version": "3.6.1"
  }
 },
 "nbformat": 4,
 "nbformat_minor": 4
}
