{
 "cells": [
  {
   "cell_type": "code",
   "execution_count": 1,
   "metadata": {},
   "outputs": [
    {
     "name": "stderr",
     "output_type": "stream",
     "text": [
      "Installing package into 'C:/Users/daeda/OneDrive/Documents/R/win-library/3.6'\n",
      "(as 'lib' is unspecified)\n",
      "\n"
     ]
    },
    {
     "name": "stdout",
     "output_type": "stream",
     "text": [
      "package 'qtl' successfully unpacked and MD5 sums checked\n"
     ]
    },
    {
     "name": "stderr",
     "output_type": "stream",
     "text": [
      "Warning message:\n",
      "\"cannot remove prior installation of package 'qtl'\"\n",
      "Warning message in file.copy(savedcopy, lib, recursive = TRUE):\n",
      "\"problem copying C:\\Users\\daeda\\OneDrive\\Documents\\R\\win-library\\3.6\\00LOCK\\qtl\\libs\\x64\\qtl.dll to C:\\Users\\daeda\\OneDrive\\Documents\\R\\win-library\\3.6\\qtl\\libs\\x64\\qtl.dll: Permission denied\"\n",
      "Warning message:\n",
      "\"restored 'qtl'\"\n"
     ]
    },
    {
     "name": "stdout",
     "output_type": "stream",
     "text": [
      "\n",
      "The downloaded binary packages are in\n",
      "\tC:\\Users\\daeda\\AppData\\Local\\Temp\\Rtmp6NNTPI\\downloaded_packages\n"
     ]
    },
    {
     "name": "stderr",
     "output_type": "stream",
     "text": [
      "Installing package into 'C:/Users/daeda/OneDrive/Documents/R/win-library/3.6'\n",
      "(as 'lib' is unspecified)\n",
      "\n"
     ]
    },
    {
     "name": "stdout",
     "output_type": "stream",
     "text": [
      "package 'qtlcharts' successfully unpacked and MD5 sums checked\n",
      "\n",
      "The downloaded binary packages are in\n",
      "\tC:\\Users\\daeda\\AppData\\Local\\Temp\\Rtmp6NNTPI\\downloaded_packages\n"
     ]
    },
    {
     "name": "stderr",
     "output_type": "stream",
     "text": [
      "Installing package into 'C:/Users/daeda/OneDrive/Documents/R/win-library/3.6'\n",
      "(as 'lib' is unspecified)\n",
      "\n"
     ]
    },
    {
     "name": "stdout",
     "output_type": "stream",
     "text": [
      "package 'LinkageMapView' successfully unpacked and MD5 sums checked\n",
      "\n",
      "The downloaded binary packages are in\n",
      "\tC:\\Users\\daeda\\AppData\\Local\\Temp\\Rtmp6NNTPI\\downloaded_packages\n"
     ]
    },
    {
     "name": "stderr",
     "output_type": "stream",
     "text": [
      "Installing package into 'C:/Users/daeda/OneDrive/Documents/R/win-library/3.6'\n",
      "(as 'lib' is unspecified)\n",
      "\n"
     ]
    },
    {
     "name": "stdout",
     "output_type": "stream",
     "text": [
      "package 'rcompanion' successfully unpacked and MD5 sums checked\n",
      "\n",
      "The downloaded binary packages are in\n",
      "\tC:\\Users\\daeda\\AppData\\Local\\Temp\\Rtmp6NNTPI\\downloaded_packages\n"
     ]
    }
   ],
   "source": [
    "install.packages('qtl') #Main package, for analysis\n",
    "install.packages('qtlcharts') #accessory, for displaying graphs\n",
    "install.packages('LinkageMapView') #accessory, for displaying linkage maps\n",
    "install.packages('rcompanion')# for plotNormalHistogram\n",
    "library(qtl) #load packages\n",
    "library(qtlcharts)\n",
    "library(LinkageMapView)\n",
    "library(rcompanion)"
   ]
  },
  {
   "cell_type": "code",
   "execution_count": 27,
   "metadata": {},
   "outputs": [
    {
     "name": "stdout",
     "output_type": "stream",
     "text": [
      "[1] \"Make sure to input names AS THEY APPEAR on the csv!!\"\n"
     ]
    },
    {
     "name": "stdin",
     "output_type": "stream",
     "text": [
      "Enter file name (Either FemaleMap.csv or MaleMap.csv):  FemaleMap.csv\n",
      "First Genotype (homozygous) (For example ll):  ll\n",
      "Second Genotype (heterozygous) (for example lm):  lm\n",
      "Column Number:  29\n",
      "Column Name:  NNi60\n"
     ]
    }
   ],
   "source": [
    "#Collecting enviroment variables\n",
    "print(\"Make sure to input names AS THEY APPEAR on the csv!!\") #Just a user warning\n",
    "fileName <- readline(\"Enter file name (Either FemaleMap.csv or MaleMap.csv): \") #Mapping table file\n",
    "genotypeName <- c(readline(\"First Genotype (homozygous) (For example ll): \"),\n",
    "                  readline(\"Second Genotype (heterozygous) (for example lm): \")) #For example \"nn\", \"np\"\n",
    "alleleName <- c(substr(genotypeName[2],1,1) ,substr(genotypeName[2],2,2))\n",
    "naNames <- c(\"NA\",\"--\") #For example \"NA\", \"--\"\n",
    "colNum <- as.numeric(readline(\"Column Number: \")) #Column for pheno of interest"
   ]
  },
  {
   "cell_type": "code",
   "execution_count": 28,
   "metadata": {},
   "outputs": [
    {
     "name": "stdout",
     "output_type": "stream",
     "text": [
      " --Read the following data:\n",
      "\t 294  individuals\n",
      "\t 1100  markers\n",
      "\t 38  phenotypes\n"
     ]
    },
    {
     "name": "stderr",
     "output_type": "stream",
     "text": [
      "Warning message in summary.cross(cross):\n",
      "\"Some markers at the same position on chr 1,2,4,5,7,8,9,10,11,12,13,14,16,17,18,19; use jittermap().\"\n"
     ]
    },
    {
     "name": "stdout",
     "output_type": "stream",
     "text": [
      " --Cross type: bc \n"
     ]
    },
    {
     "data": {
      "image/png": "[encoded data removed]",
      "text/plain": [
       "Plot with title \"Genetic map\""
      ]
     },
     "metadata": {
      "image/png": {
       "height": 420,
       "width": 420
      },
      "text/plain": {
       "height": 420,
       "width": 420
      }
     },
     "output_type": "display_data"
    }
   ],
   "source": [
    "#Map generation\n",
    "Map <- read.cross(format = 'csv',file = fileName \n",
    "                  ,genotypes = genotypeName,\n",
    "                  alleles = alleleName,na.strings = naNames) #generate linkage map\n",
    "Map <- jittermap(Map) #make sure no markers are in the same location\n",
    "Map <- calc.genoprob(Map,step = 1,map.function = \"kosambi\") #associate markers with full genotypes\n",
    "plot.map(Map) #draw linkage map"
   ]
  },
  {
   "cell_type": "code",
   "execution_count": 30,
   "metadata": {},
   "outputs": [
    {
     "data": {
      "image/png": "[encoded data removed]",
      "text/plain": [
       "Plot with title \"\""
      ]
     },
     "metadata": {
      "image/png": {
       "height": 420,
       "width": 420
      },
      "text/plain": {
       "height": 420,
       "width": 420
      }
     },
     "output_type": "display_data"
    }
   ],
   "source": [
    "plotNormalHistogram(Map$pheno[,colNum]) #normal histogram of pheno of interest"
   ]
  },
  {
   "cell_type": "code",
   "execution_count": 31,
   "metadata": {},
   "outputs": [
    {
     "name": "stderr",
     "output_type": "stream",
     "text": [
      "Warning message in checkcovar(cross, pheno.col, addcovar, intcovar, perm.strata, :\n",
      "\"addcovar appears to be over-specified; consider dropping columns.\n",
      "\"\n",
      "Warning message in checkcovar(cross, pheno.col, addcovar, intcovar, perm.strata, :\n",
      "\"addcovar appears to be over-specified; consider dropping columns.\n",
      "\"\n",
      "Warning message in checkcovar(cross, pheno.col, addcovar, intcovar, perm.strata, :\n",
      "\"addcovar appears to be over-specified; consider dropping columns.\n",
      "\"\n",
      "Warning message in checkcovar(cross, pheno.col, addcovar, intcovar, perm.strata, :\n",
      "\"addcovar appears to be over-specified; consider dropping columns.\n",
      "\"\n",
      "Warning message in checkcovar(cross, pheno.col, addcovar, intcovar, perm.strata, :\n",
      "\"addcovar appears to be over-specified; consider dropping columns.\n",
      "\"\n",
      "Warning message in checkcovar(cross, pheno.col, addcovar, intcovar, perm.strata, :\n",
      "\"addcovar appears to be over-specified; consider dropping columns.\n",
      "\"\n"
     ]
    },
    {
     "data": {
      "image/png": "[encoded data removed]",
      "text/plain": [
       "Plot with title \"\""
      ]
     },
     "metadata": {
      "image/png": {
       "height": 420,
       "width": 420
      },
      "text/plain": {
       "height": 420,
       "width": 420
      }
     },
     "output_type": "display_data"
    }
   ],
   "source": [
    "#Compute statistically significant values\n",
    "TraitCIM1000 <- cim(Map,pheno.col = colNum,method = \"hk\",\n",
    "                    map.function = \"kosambi\",n.perm = 1000) # Function will take a moment to run, determines LOD value\n",
    "plot(TraitCIM1000,col = 'green') #show distribution of lod scores\n",
    "LOD5 <- summary(TraitCIM1000)[1]"
   ]
  },
  {
   "cell_type": "code",
   "execution_count": 32,
   "metadata": {},
   "outputs": [
    {
     "name": "stdout",
     "output_type": "stream",
     "text": [
      "[1] \"If nothing shows up, the values \\n      are below the LOD5 score\"\n"
     ]
    },
    {
     "data": {
      "text/html": [
       "<table>\n",
       "<caption>A summary.scanone: 19 × 3</caption>\n",
       "<thead>\n",
       "\t<tr><th></th><th scope=col>chr</th><th scope=col>pos</th><th scope=col>lod</th></tr>\n",
       "\t<tr><th></th><th scope=col>&lt;fct&gt;</th><th scope=col>&lt;dbl&gt;</th><th scope=col>&lt;dbl&gt;</th></tr>\n",
       "</thead>\n",
       "<tbody>\n",
       "\t<tr><th scope=row>1_23481368</th><td>1 </td><td>76.117048</td><td>0.3362668</td></tr>\n",
       "\t<tr><th scope=row>2_2938083</th><td>2 </td><td>29.109008</td><td>0.6205907</td></tr>\n",
       "\t<tr><th scope=row>3_1058124</th><td>3 </td><td> 0.000000</td><td>0.7705991</td></tr>\n",
       "\t<tr><th scope=row>4_19442596</th><td>4 </td><td>53.485049</td><td>2.0758711</td></tr>\n",
       "\t<tr><th scope=row>5_7648545</th><td>5 </td><td>37.038025</td><td>1.6169425</td></tr>\n",
       "\t<tr><th scope=row>c6.loc38</th><td>6 </td><td>38.000000</td><td>1.2133978</td></tr>\n",
       "\t<tr><th scope=row>7_20565682</th><td>7 </td><td>63.499077</td><td>1.3194229</td></tr>\n",
       "\t<tr><th scope=row>c8.loc31</th><td>8 </td><td>31.000000</td><td>4.8634406</td></tr>\n",
       "\t<tr><th scope=row>c9.loc36</th><td>9 </td><td>36.000000</td><td>0.8796292</td></tr>\n",
       "\t<tr><th scope=row>10_21670072</th><td>10</td><td>54.270064</td><td>1.0268608</td></tr>\n",
       "\t<tr><th scope=row>c11.loc22</th><td>11</td><td>22.000000</td><td>1.2573744</td></tr>\n",
       "\t<tr><th scope=row>c12.loc80</th><td>12</td><td>80.000000</td><td>1.7553705</td></tr>\n",
       "\t<tr><th scope=row>2_16557251</th><td>13</td><td>65.853048</td><td>0.5967468</td></tr>\n",
       "\t<tr><th scope=row>c14.loc42</th><td>14</td><td>42.000000</td><td>0.2852455</td></tr>\n",
       "\t<tr><th scope=row>15_584182</th><td>15</td><td> 0.000000</td><td>2.2591629</td></tr>\n",
       "\t<tr><th scope=row>16_1969901</th><td>16</td><td> 6.682007</td><td>0.6459265</td></tr>\n",
       "\t<tr><th scope=row>c17.loc4</th><td>17</td><td> 4.000000</td><td>2.3313439</td></tr>\n",
       "\t<tr><th scope=row>c18.loc17</th><td>18</td><td>17.000000</td><td>0.9064151</td></tr>\n",
       "\t<tr><th scope=row>19_18512448</th><td>19</td><td>53.440066</td><td>0.9925263</td></tr>\n",
       "</tbody>\n",
       "</table>\n"
      ],
      "text/latex": [
       "A summary.scanone: 19 × 3\n",
       "\\begin{tabular}{r|lll}\n",
       "  & chr & pos & lod\\\\\n",
       "  & <fct> & <dbl> & <dbl>\\\\\n",
       "\\hline\n",
       "\t1\\_23481368 & 1  & 76.117048 & 0.3362668\\\\\n",
       "\t2\\_2938083 & 2  & 29.109008 & 0.6205907\\\\\n",
       "\t3\\_1058124 & 3  &  0.000000 & 0.7705991\\\\\n",
       "\t4\\_19442596 & 4  & 53.485049 & 2.0758711\\\\\n",
       "\t5\\_7648545 & 5  & 37.038025 & 1.6169425\\\\\n",
       "\tc6.loc38 & 6  & 38.000000 & 1.2133978\\\\\n",
       "\t7\\_20565682 & 7  & 63.499077 & 1.3194229\\\\\n",
       "\tc8.loc31 & 8  & 31.000000 & 4.8634406\\\\\n",
       "\tc9.loc36 & 9  & 36.000000 & 0.8796292\\\\\n",
       "\t10\\_21670072 & 10 & 54.270064 & 1.0268608\\\\\n",
       "\tc11.loc22 & 11 & 22.000000 & 1.2573744\\\\\n",
       "\tc12.loc80 & 12 & 80.000000 & 1.7553705\\\\\n",
       "\t2\\_16557251 & 13 & 65.853048 & 0.5967468\\\\\n",
       "\tc14.loc42 & 14 & 42.000000 & 0.2852455\\\\\n",
       "\t15\\_584182 & 15 &  0.000000 & 2.2591629\\\\\n",
       "\t16\\_1969901 & 16 &  6.682007 & 0.6459265\\\\\n",
       "\tc17.loc4 & 17 &  4.000000 & 2.3313439\\\\\n",
       "\tc18.loc17 & 18 & 17.000000 & 0.9064151\\\\\n",
       "\t19\\_18512448 & 19 & 53.440066 & 0.9925263\\\\\n",
       "\\end{tabular}\n"
      ],
      "text/markdown": [
       "\n",
       "A summary.scanone: 19 × 3\n",
       "\n",
       "| <!--/--> | chr &lt;fct&gt; | pos &lt;dbl&gt; | lod &lt;dbl&gt; |\n",
       "|---|---|---|---|\n",
       "| 1_23481368 | 1  | 76.117048 | 0.3362668 |\n",
       "| 2_2938083 | 2  | 29.109008 | 0.6205907 |\n",
       "| 3_1058124 | 3  |  0.000000 | 0.7705991 |\n",
       "| 4_19442596 | 4  | 53.485049 | 2.0758711 |\n",
       "| 5_7648545 | 5  | 37.038025 | 1.6169425 |\n",
       "| c6.loc38 | 6  | 38.000000 | 1.2133978 |\n",
       "| 7_20565682 | 7  | 63.499077 | 1.3194229 |\n",
       "| c8.loc31 | 8  | 31.000000 | 4.8634406 |\n",
       "| c9.loc36 | 9  | 36.000000 | 0.8796292 |\n",
       "| 10_21670072 | 10 | 54.270064 | 1.0268608 |\n",
       "| c11.loc22 | 11 | 22.000000 | 1.2573744 |\n",
       "| c12.loc80 | 12 | 80.000000 | 1.7553705 |\n",
       "| 2_16557251 | 13 | 65.853048 | 0.5967468 |\n",
       "| c14.loc42 | 14 | 42.000000 | 0.2852455 |\n",
       "| 15_584182 | 15 |  0.000000 | 2.2591629 |\n",
       "| 16_1969901 | 16 |  6.682007 | 0.6459265 |\n",
       "| c17.loc4 | 17 |  4.000000 | 2.3313439 |\n",
       "| c18.loc17 | 18 | 17.000000 | 0.9064151 |\n",
       "| 19_18512448 | 19 | 53.440066 | 0.9925263 |\n",
       "\n"
      ],
      "text/plain": [
       "            chr pos       lod      \n",
       "1_23481368  1   76.117048 0.3362668\n",
       "2_2938083   2   29.109008 0.6205907\n",
       "3_1058124   3    0.000000 0.7705991\n",
       "4_19442596  4   53.485049 2.0758711\n",
       "5_7648545   5   37.038025 1.6169425\n",
       "c6.loc38    6   38.000000 1.2133978\n",
       "7_20565682  7   63.499077 1.3194229\n",
       "c8.loc31    8   31.000000 4.8634406\n",
       "c9.loc36    9   36.000000 0.8796292\n",
       "10_21670072 10  54.270064 1.0268608\n",
       "c11.loc22   11  22.000000 1.2573744\n",
       "c12.loc80   12  80.000000 1.7553705\n",
       "2_16557251  13  65.853048 0.5967468\n",
       "c14.loc42   14  42.000000 0.2852455\n",
       "15_584182   15   0.000000 2.2591629\n",
       "16_1969901  16   6.682007 0.6459265\n",
       "c17.loc4    17   4.000000 2.3313439\n",
       "c18.loc17   18  17.000000 0.9064151\n",
       "19_18512448 19  53.440066 0.9925263"
      ]
     },
     "metadata": {},
     "output_type": "display_data"
    },
    {
     "data": {
      "image/png": "[encoded data removed]",
      "text/plain": [
       "plot without title"
      ]
     },
     "metadata": {
      "image/png": {
       "height": 420,
       "width": 420
      },
      "text/plain": {
       "height": 420,
       "width": 420
      }
     },
     "output_type": "display_data"
    }
   ],
   "source": [
    "#Deterime LOD Values\n",
    "TraitCIM<-cim(Map,pheno.col = colNum,method = \"hk\",\n",
    "              map.function = \"kosambi\") #Generate LOD Values\n",
    "plot(TraitCIM) #show LOD graph\n",
    "abline(h = LOD5,col = \"blue\") #overlay statistically significant line\n",
    "print(\"If nothing shows up, the values \n",
    "      are below the LOD5 score\") #warning for no peaks\n",
    "summary(TraitCIM)"
   ]
  },
  {
   "cell_type": "code",
   "execution_count": 33,
   "metadata": {},
   "outputs": [
    {
     "name": "stdin",
     "output_type": "stream",
     "text": [
      "Chromosome?  8\n",
      "Would you like to investigate \n",
      "                  another chromosome? (Y/N):  n\n"
     ]
    },
    {
     "data": {
      "image/png": "[encoded data removed]",
      "text/plain": [
       "plot without title"
      ]
     },
     "metadata": {
      "image/png": {
       "height": 420,
       "width": 420
      },
      "text/plain": {
       "height": 420,
       "width": 420
      }
     },
     "output_type": "display_data"
    }
   ],
   "source": [
    "#Chromosomal Analysis\n",
    "cont = 'Y' #Run loop on first run through\n",
    "while(cont == 'Y'){\n",
    "  chr <- as.numeric(readline(\"Chromosome? \")) #collect chromosome to look at\n",
    "  plot(TraitCIM, chr = chr) #Plot chr LOD scores\n",
    "  abline(h = LOD5, col = \"blue\") #Statistically Significant\n",
    "  cont = readline(\"Would you like to investigate \n",
    "                  another chromosome? (Y/N): \") #Y if multiple\n",
    "                  #chromosomes are to be investigated\n",
    "}"
   ]
  },
  {
   "cell_type": "code",
   "execution_count": 34,
   "metadata": {},
   "outputs": [
    {
     "data": {
      "text/html": [
       "<table>\n",
       "<caption>A scanone: 3 × 3</caption>\n",
       "<thead>\n",
       "\t<tr><th></th><th scope=col>chr</th><th scope=col>pos</th><th scope=col>lod</th></tr>\n",
       "\t<tr><th></th><th scope=col>&lt;fct&gt;</th><th scope=col>&lt;dbl&gt;</th><th scope=col>&lt;dbl&gt;</th></tr>\n",
       "</thead>\n",
       "<tbody>\n",
       "\t<tr><th scope=row>8_379062</th><td>8</td><td> 0.00000</td><td>0.07963560</td></tr>\n",
       "\t<tr><th scope=row>c8.loc49</th><td>8</td><td>49.00000</td><td>1.64132501</td></tr>\n",
       "\t<tr><th scope=row>8_22223668</th><td>8</td><td>78.14607</td><td>0.02134908</td></tr>\n",
       "</tbody>\n",
       "</table>\n"
      ],
      "text/latex": [
       "A scanone: 3 × 3\n",
       "\\begin{tabular}{r|lll}\n",
       "  & chr & pos & lod\\\\\n",
       "  & <fct> & <dbl> & <dbl>\\\\\n",
       "\\hline\n",
       "\t8\\_379062 & 8 &  0.00000 & 0.07963560\\\\\n",
       "\tc8.loc49 & 8 & 49.00000 & 1.64132501\\\\\n",
       "\t8\\_22223668 & 8 & 78.14607 & 0.02134908\\\\\n",
       "\\end{tabular}\n"
      ],
      "text/markdown": [
       "\n",
       "A scanone: 3 × 3\n",
       "\n",
       "| <!--/--> | chr &lt;fct&gt; | pos &lt;dbl&gt; | lod &lt;dbl&gt; |\n",
       "|---|---|---|---|\n",
       "| 8_379062 | 8 |  0.00000 | 0.07963560 |\n",
       "| c8.loc49 | 8 | 49.00000 | 1.64132501 |\n",
       "| 8_22223668 | 8 | 78.14607 | 0.02134908 |\n",
       "\n"
      ],
      "text/plain": [
       "           chr pos      lod       \n",
       "8_379062   8    0.00000 0.07963560\n",
       "c8.loc49   8   49.00000 1.64132501\n",
       "8_22223668 8   78.14607 0.02134908"
      ]
     },
     "metadata": {},
     "output_type": "display_data"
    },
    {
     "data": {
      "text/html": [
       "<table>\n",
       "<caption>A scanone: 3 × 3</caption>\n",
       "<thead>\n",
       "\t<tr><th></th><th scope=col>chr</th><th scope=col>pos</th><th scope=col>lod</th></tr>\n",
       "\t<tr><th></th><th scope=col>&lt;fct&gt;</th><th scope=col>&lt;dbl&gt;</th><th scope=col>&lt;dbl&gt;</th></tr>\n",
       "</thead>\n",
       "<tbody>\n",
       "\t<tr><th scope=row>8_783956</th><td>8</td><td> 2.051002</td><td>0.09795248</td></tr>\n",
       "\t<tr><th scope=row>c8.loc49</th><td>8</td><td>49.000000</td><td>1.64132501</td></tr>\n",
       "\t<tr><th scope=row>8_21718474</th><td>8</td><td>77.022060</td><td>0.02973467</td></tr>\n",
       "</tbody>\n",
       "</table>\n"
      ],
      "text/latex": [
       "A scanone: 3 × 3\n",
       "\\begin{tabular}{r|lll}\n",
       "  & chr & pos & lod\\\\\n",
       "  & <fct> & <dbl> & <dbl>\\\\\n",
       "\\hline\n",
       "\t8\\_783956 & 8 &  2.051002 & 0.09795248\\\\\n",
       "\tc8.loc49 & 8 & 49.000000 & 1.64132501\\\\\n",
       "\t8\\_21718474 & 8 & 77.022060 & 0.02973467\\\\\n",
       "\\end{tabular}\n"
      ],
      "text/markdown": [
       "\n",
       "A scanone: 3 × 3\n",
       "\n",
       "| <!--/--> | chr &lt;fct&gt; | pos &lt;dbl&gt; | lod &lt;dbl&gt; |\n",
       "|---|---|---|---|\n",
       "| 8_783956 | 8 |  2.051002 | 0.09795248 |\n",
       "| c8.loc49 | 8 | 49.000000 | 1.64132501 |\n",
       "| 8_21718474 | 8 | 77.022060 | 0.02973467 |\n",
       "\n"
      ],
      "text/plain": [
       "           chr pos       lod       \n",
       "8_783956   8    2.051002 0.09795248\n",
       "c8.loc49   8   49.000000 1.64132501\n",
       "8_21718474 8   77.022060 0.02973467"
      ]
     },
     "metadata": {},
     "output_type": "display_data"
    }
   ],
   "source": [
    "bay <- scanone(Map, method = 'hk') #scan genome with sQTL model\n",
    "bayesint(bay, chr = chr, prob=0.95, \n",
    "         expandtomarkers=TRUE) #calculate bayesian interval\n",
    "lodint(bay, chr = chr,expandtomarkers = TRUE ) #calculate LOD Support interval"
   ]
  },
  {
   "cell_type": "code",
   "execution_count": 36,
   "metadata": {},
   "outputs": [
    {
     "name": "stdin",
     "output_type": "stream",
     "text": [
      "Position for analysis:  31\n"
     ]
    },
    {
     "name": "stderr",
     "output_type": "stream",
     "text": [
      "Warning message in getsex(cross):\n",
      "\"125 individuals with missing sex; assuming they're female\"\n",
      "Warning message in fitqtlengine(pheno = pheno, qtl = qtl, covar = covar, formula = formula, :\n",
      "\"Dropping 127 individuals with missing phenotypes.\n",
      "\"\n",
      "Warning message in getsex(cross):\n",
      "\"125 individuals with missing sex; assuming they're female\"\n"
     ]
    },
    {
     "data": {
      "text/plain": [
       "\n",
       "\t\tfitqtl summary\n",
       "\n",
       "Method: Haley-Knott regression \n",
       "Model:  normal phenotype\n",
       "Number of observations : 167 \n",
       "\n",
       "Full model result\n",
       "----------------------------------  \n",
       "Model formula: y ~ Q1 \n",
       "\n",
       "       df        SS         MS      LOD    %var Pvalue(Chi2)    Pvalue(F)\n",
       "Model   1  17.73632 17.7363229 4.239014 11.0321 9.947993e-06 1.158899e-05\n",
       "Error 165 143.03389  0.8668721                                           \n",
       "Total 166 160.77022                                                      \n",
       "\n",
       "\n",
       "Estimated effects:\n",
       "-----------------\n",
       "               est       SE      t\n",
       "Intercept  1.35296  0.07226 18.724\n",
       "8@31.0    -3.50042  0.77387 -4.523\n"
      ]
     },
     "metadata": {},
     "output_type": "display_data"
    }
   ],
   "source": [
    "p <- as.numeric(readline(\"Position for analysis: \"))\n",
    "qtl <- makeqtl(Map, chr = chr, pos = p, what=\"prob\") #pulls genotype probabilities\n",
    "fitqtl <- fitqtl(Map, pheno.col=colNum, qtl = qtl, covar=NULL,\n",
    "       method= \"hk\",model=\"normal\",\n",
    "       dropone=TRUE, get.ests=TRUE,run.checks=TRUE,\n",
    "       tol=1e-4, maxit=1000, forceXcovar=FALSE) #sees how well our data fits a given formula \n",
    "          # If you see \"error: object of type 'closure' is not subsettable\", remove \"formula,\" from the fitqtl argument list.\n",
    "summary(fitqtl) #Print results of the analysis"
   ]
  }
 ],
 "metadata": {
  "kernelspec": {
   "display_name": "R",
   "language": "R",
   "name": "ir"
  },
  "language_info": {
   "codemirror_mode": "r",
   "file_extension": ".r",
   "mimetype": "text/x-r-source",
   "name": "R",
   "pygments_lexer": "r",
   "version": "3.6.1"
  }
 },
 "nbformat": 4,
 "nbformat_minor": 4
}
